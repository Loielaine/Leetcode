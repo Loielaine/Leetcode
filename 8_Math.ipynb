{
 "cells": [
  {
   "cell_type": "markdown",
   "metadata": {
    "toc": true
   },
   "source": [
    "<h1>Table of Contents<span class=\"tocSkip\"></span></h1>\n",
    "<div class=\"toc\"><ul class=\"toc-item\"><li><span><a href=\"#Easy\" data-toc-modified-id=\"Easy-1\"><span class=\"toc-item-num\">1&nbsp;&nbsp;</span>Easy</a></span><ul class=\"toc-item\"><li><span><a href=\"#Fizz-Buzz\" data-toc-modified-id=\"Fizz-Buzz-1.1\"><span class=\"toc-item-num\">1.1&nbsp;&nbsp;</span>Fizz Buzz</a></span><ul class=\"toc-item\"><li><span><a href=\"#Solution1:-Naive\" data-toc-modified-id=\"Solution1:-Naive-1.1.1\"><span class=\"toc-item-num\">1.1.1&nbsp;&nbsp;</span>Solution1: Naive</a></span></li><li><span><a href=\"#Solution2:-String\" data-toc-modified-id=\"Solution2:-String-1.1.2\"><span class=\"toc-item-num\">1.1.2&nbsp;&nbsp;</span>Solution2: String</a></span></li></ul></li><li><span><a href=\"#Count-Primes\" data-toc-modified-id=\"Count-Primes-1.2\"><span class=\"toc-item-num\">1.2&nbsp;&nbsp;</span>Count Primes</a></span><ul class=\"toc-item\"><li><span><a href=\"#Solution1:-square-root\" data-toc-modified-id=\"Solution1:-square-root-1.2.1\"><span class=\"toc-item-num\">1.2.1&nbsp;&nbsp;</span>Solution1: square root</a></span></li></ul></li><li><span><a href=\"#Power-of-Three\" data-toc-modified-id=\"Power-of-Three-1.3\"><span class=\"toc-item-num\">1.3&nbsp;&nbsp;</span>Power of Three</a></span></li></ul></li><li><span><a href=\"#Median\" data-toc-modified-id=\"Median-2\"><span class=\"toc-item-num\">2&nbsp;&nbsp;</span>Median</a></span><ul class=\"toc-item\"><li><span><a href=\"#Happy-Number\" data-toc-modified-id=\"Happy-Number-2.1\"><span class=\"toc-item-num\">2.1&nbsp;&nbsp;</span>Happy Number</a></span></li><li><span><a href=\"#Factorial-Trailing-Zeroes\" data-toc-modified-id=\"Factorial-Trailing-Zeroes-2.2\"><span class=\"toc-item-num\">2.2&nbsp;&nbsp;</span>Factorial Trailing Zeroes</a></span></li><li><span><a href=\"#Excel-Sheet-Column-Number\" data-toc-modified-id=\"Excel-Sheet-Column-Number-2.3\"><span class=\"toc-item-num\">2.3&nbsp;&nbsp;</span>Excel Sheet Column Number</a></span></li><li><span><a href=\"#Complement-of-Base-10-Integer\" data-toc-modified-id=\"Complement-of-Base-10-Integer-2.4\"><span class=\"toc-item-num\">2.4&nbsp;&nbsp;</span>Complement of Base 10 Integer</a></span></li><li><span><a href=\"#Power\" data-toc-modified-id=\"Power-2.5\"><span class=\"toc-item-num\">2.5&nbsp;&nbsp;</span>Power</a></span></li><li><span><a href=\"#Sqrt\" data-toc-modified-id=\"Sqrt-2.6\"><span class=\"toc-item-num\">2.6&nbsp;&nbsp;</span>Sqrt</a></span></li><li><span><a href=\"#Divide-Two-Integers\" data-toc-modified-id=\"Divide-Two-Integers-2.7\"><span class=\"toc-item-num\">2.7&nbsp;&nbsp;</span>Divide Two Integers</a></span></li></ul></li></ul></div>"
   ]
  },
  {
   "cell_type": "markdown",
   "metadata": {},
   "source": [
    "# Easy"
   ]
  },
  {
   "cell_type": "markdown",
   "metadata": {},
   "source": [
    "## Fizz Buzz"
   ]
  },
  {
   "cell_type": "markdown",
   "metadata": {},
   "source": [
    "Write a program that outputs the string representation of numbers from 1 to n.\n",
    "\n",
    "But for multiples of three it should output “Fizz” instead of the number and for the multiples of five output “Buzz”. For numbers which are multiples of both three and five output “FizzBuzz”."
   ]
  },
  {
   "cell_type": "markdown",
   "metadata": {},
   "source": [
    "### Solution1: Naive "
   ]
  },
  {
   "cell_type": "code",
   "execution_count": 3,
   "metadata": {},
   "outputs": [],
   "source": [
    "def fizzBuzz(n):\n",
    "    ans = [\"1\",\"2\"]\n",
    "    for i in range(3,n+1):\n",
    "        if i%3==0 and i%5 ==0:\n",
    "            ans.append(\"FizzBuzz\")\n",
    "        elif i%3==0:\n",
    "            ans.append(\"Fizz\")\n",
    "        elif i%5==0:\n",
    "            ans.append(\"Buzz\")\n",
    "        else:\n",
    "            ans.append(str(i))\n",
    "    return ans"
   ]
  },
  {
   "cell_type": "code",
   "execution_count": 8,
   "metadata": {},
   "outputs": [
    {
     "data": {
      "text/plain": [
       "['1',\n",
       " '2',\n",
       " 'Fizz',\n",
       " '4',\n",
       " 'Buzz',\n",
       " 'Fizz',\n",
       " '7',\n",
       " '8',\n",
       " 'Fizz',\n",
       " 'Buzz',\n",
       " '11',\n",
       " 'Fizz',\n",
       " '13',\n",
       " '14',\n",
       " 'FizzBuzz',\n",
       " '16']"
      ]
     },
     "execution_count": 8,
     "metadata": {},
     "output_type": "execute_result"
    }
   ],
   "source": [
    "fizzBuzz(16)"
   ]
  },
  {
   "cell_type": "markdown",
   "metadata": {},
   "source": [
    "### Solution2: String"
   ]
  },
  {
   "cell_type": "code",
   "execution_count": 7,
   "metadata": {},
   "outputs": [],
   "source": [
    "def fizzBuzz(n):\n",
    "    ans = [\"1\",\"2\"]\n",
    "    for i in range(3,n+1):\n",
    "        ans.append(\"Fizz\"*(not i%3)+\"Buzz\"*(not i%5)+str(i)*(i%3!=0 and i%5!=0))\n",
    "    return ans"
   ]
  },
  {
   "cell_type": "markdown",
   "metadata": {},
   "source": [
    "## Count Primes"
   ]
  },
  {
   "cell_type": "markdown",
   "metadata": {},
   "source": [
    "Count the number of prime numbers less than a non-negative number, n."
   ]
  },
  {
   "cell_type": "markdown",
   "metadata": {},
   "source": [
    "### Solution1: square root"
   ]
  },
  {
   "cell_type": "code",
   "execution_count": 28,
   "metadata": {},
   "outputs": [],
   "source": [
    "def countPrimes(n):\n",
    "    if n<=2:\n",
    "        return 0\n",
    "    primes = [True]*n\n",
    "    primes[0] = primes[1] = False\n",
    "    for i in range(2,int(n**0.5)+1): # take square root of n\n",
    "        if primes[i]:\n",
    "             #primes[i * i: n: i] = [False] * len(primes[i * i: n: i])\n",
    "            for j in range(i*i,n,i):\n",
    "                #print(j)\n",
    "                primes[j]=False\n",
    "    print(primes)\n",
    "    return sum(primes)"
   ]
  },
  {
   "cell_type": "code",
   "execution_count": 29,
   "metadata": {},
   "outputs": [
    {
     "name": "stdout",
     "output_type": "stream",
     "text": [
      "[False, False, True, True, False, True, False, True, False, False]\n"
     ]
    },
    {
     "data": {
      "text/plain": [
       "4"
      ]
     },
     "execution_count": 29,
     "metadata": {},
     "output_type": "execute_result"
    }
   ],
   "source": [
    "countPrimes(10)"
   ]
  },
  {
   "cell_type": "markdown",
   "metadata": {},
   "source": [
    "## Power of Three"
   ]
  },
  {
   "cell_type": "code",
   "execution_count": 36,
   "metadata": {},
   "outputs": [],
   "source": [
    "def powerThree(n):\n",
    "    if n ==0 : return False\n",
    "    while n%3==0:\n",
    "        n = n/3\n",
    "    return (n==1)"
   ]
  },
  {
   "cell_type": "code",
   "execution_count": 37,
   "metadata": {},
   "outputs": [
    {
     "data": {
      "text/plain": [
       "True"
      ]
     },
     "execution_count": 37,
     "metadata": {},
     "output_type": "execute_result"
    }
   ],
   "source": [
    "powerThree(27)"
   ]
  },
  {
   "cell_type": "code",
   "execution_count": 38,
   "metadata": {},
   "outputs": [
    {
     "data": {
      "text/plain": [
       "False"
      ]
     },
     "execution_count": 38,
     "metadata": {},
     "output_type": "execute_result"
    }
   ],
   "source": [
    "powerThree(12)"
   ]
  },
  {
   "cell_type": "markdown",
   "metadata": {},
   "source": [
    "# Median"
   ]
  },
  {
   "cell_type": "markdown",
   "metadata": {},
   "source": [
    "https://leetcode.com/explore/interview/card/top-interview-questions-medium/113/math/815/"
   ]
  },
  {
   "cell_type": "markdown",
   "metadata": {},
   "source": [
    "## Happy Number"
   ]
  },
  {
   "cell_type": "markdown",
   "metadata": {},
   "source": [
    "Write an algorithm to determine if a number n is \"happy\".\n",
    "\n",
    "A happy number is a number defined by the following process: Starting with any positive integer, replace the number by the sum of the squares of its digits, and repeat the process until the number equals 1 (where it will stay), or it loops endlessly in a cycle which does not include 1. Those numbers for which this process ends in 1 are happy numbers.\n",
    "\n",
    "Return True if n is a happy number, and False if not."
   ]
  },
  {
   "cell_type": "code",
   "execution_count": 17,
   "metadata": {},
   "outputs": [],
   "source": [
    "class Solution:\n",
    "    def isHappy(self,n):\n",
    "        seen = set()\n",
    "        while n not in seen:\n",
    "            seen.add(n) # handle cases 'loops endlessly in a cycle'\n",
    "            n = self.squareDigits(n)   \n",
    "        return (1 in seen)\n",
    "    \n",
    "    def squareDigits(self,n):\n",
    "        res = 0\n",
    "        for i in range(len(str(n))):\n",
    "            res += int(str(n)[i])**2\n",
    "        return res"
   ]
  },
  {
   "cell_type": "code",
   "execution_count": 18,
   "metadata": {},
   "outputs": [
    {
     "data": {
      "text/plain": [
       "True"
      ]
     },
     "execution_count": 18,
     "metadata": {},
     "output_type": "execute_result"
    }
   ],
   "source": [
    "solution = Solution()\n",
    "solution.isHappy(19)"
   ]
  },
  {
   "cell_type": "markdown",
   "metadata": {},
   "source": [
    "## Factorial Trailing Zeroes"
   ]
  },
  {
   "cell_type": "markdown",
   "metadata": {},
   "source": [
    "This question is pretty straightforward.\n",
    "\n",
    "Because all trailing 0 is from factors 5 * 2.\n",
    "\n",
    "But sometimes one number may have several 5 factors, for example, 25 have two 5 factors, 125 have three 5 factors. In the n! operation, factors 2 is always ample. So we just count how many 5 factors in all number from 1 to n."
   ]
  },
  {
   "cell_type": "code",
   "execution_count": 25,
   "metadata": {},
   "outputs": [],
   "source": [
    "class Solution:\n",
    "    def countZeros(self,n):\n",
    "        if n==0:\n",
    "            return 0\n",
    "        count = 0\n",
    "        while(n>0):\n",
    "            count += n//5\n",
    "            n = n//5    \n",
    "        return count"
   ]
  },
  {
   "cell_type": "code",
   "execution_count": 27,
   "metadata": {},
   "outputs": [
    {
     "data": {
      "text/plain": [
       "1"
      ]
     },
     "execution_count": 27,
     "metadata": {},
     "output_type": "execute_result"
    }
   ],
   "source": [
    "solution = Solution()\n",
    "solution.countZeros(6)"
   ]
  },
  {
   "cell_type": "markdown",
   "metadata": {},
   "source": [
    "## Excel Sheet Column Number"
   ]
  },
  {
   "cell_type": "markdown",
   "metadata": {},
   "source": [
    "Given a column title as appear in an Excel sheet, return its corresponding column number.\n",
    "\n",
    "For example:\n",
    "\n",
    "    A -> 1\n",
    "    B -> 2\n",
    "    C -> 3\n",
    "    ...\n",
    "    Z -> 26\n",
    "    AA -> 27\n",
    "    AB -> 28 \n",
    "    ..."
   ]
  },
  {
   "cell_type": "markdown",
   "metadata": {},
   "source": [
    "Note, that all depends on the place we have some symbol, for example:\n",
    "for s = DACB:\n",
    "\n",
    "We have symbol B on the last place, with stands for 2\n",
    "We have symbol C on the previous place, which stands for 3*26.\n",
    "We have symbol A on the previous place, which stands for 1*26*26.\n",
    "Finally, we have symbol D on the first place, which stands for 4*26*26*26.\n",
    "What we need to return in this case is 2+3*26+1*26*26+4*26*26*26.\n",
    "Note, that is it very similar to base 26 numeral system, but not exactly it, here we do not have zeros. "
   ]
  },
  {
   "cell_type": "code",
   "execution_count": 32,
   "metadata": {},
   "outputs": [],
   "source": [
    "class Solution:\n",
    "    def excelColumn(self,s):\n",
    "        res = 0\n",
    "        for i in s:\n",
    "            res = 26*res + (ord(i)-ord('A')+1) # difference between i and 'A'\n",
    "        return res"
   ]
  },
  {
   "cell_type": "code",
   "execution_count": 33,
   "metadata": {},
   "outputs": [
    {
     "data": {
      "text/plain": [
       "28"
      ]
     },
     "execution_count": 33,
     "metadata": {},
     "output_type": "execute_result"
    }
   ],
   "source": [
    "solution = Solution()\n",
    "solution.excelColumn('AB')"
   ]
  },
  {
   "cell_type": "code",
   "execution_count": 34,
   "metadata": {},
   "outputs": [],
   "source": [
    "class Solution:\n",
    "    def excelColumn(self,s):\n",
    "        s = s[::-1]\n",
    "        res = 0\n",
    "        for i,char in enumerate(s):\n",
    "            res += (ord(char)-ord('A')+1)*pow(26,i) #convert base 10 to base 26\n",
    "        return res"
   ]
  },
  {
   "cell_type": "code",
   "execution_count": 35,
   "metadata": {},
   "outputs": [
    {
     "data": {
      "text/plain": [
       "28"
      ]
     },
     "execution_count": 35,
     "metadata": {},
     "output_type": "execute_result"
    }
   ],
   "source": [
    "solution = Solution()\n",
    "solution.excelColumn('AB')"
   ]
  },
  {
   "cell_type": "markdown",
   "metadata": {},
   "source": [
    "## Complement of Base 10 Integer"
   ]
  },
  {
   "cell_type": "markdown",
   "metadata": {},
   "source": [
    "If P is the smallest power of 2 larger than N, then N and its binary complement M satisfies N+M=P-1."
   ]
  },
  {
   "cell_type": "code",
   "execution_count": 28,
   "metadata": {},
   "outputs": [],
   "source": [
    "class Solution:\n",
    "    def bitwiseComplement(self, N: int) -> int:\n",
    "        P = 2\n",
    "        while P <= N:\n",
    "            P *= 2\n",
    "        return P - 1 - N"
   ]
  },
  {
   "cell_type": "markdown",
   "metadata": {},
   "source": [
    "## Power"
   ]
  },
  {
   "cell_type": "markdown",
   "metadata": {},
   "source": [
    "Implement pow(x, n), which calculates x raised to the power n (i.e. xn)."
   ]
  },
  {
   "cell_type": "code",
   "execution_count": 36,
   "metadata": {},
   "outputs": [],
   "source": [
    "class Solution:\n",
    "    def powerN(self,x,n):\n",
    "        if abs(x) < 1e-40: return 0 \n",
    "        if n==0: return 1\n",
    "        if n<0:\n",
    "            return self.powerN((1/x),(-n))\n",
    "        lower = self.powerN(x,n//2)\n",
    "        if n>0 and n%2==0:\n",
    "            return lower * lower\n",
    "        if n>0 and n%2 ==1:\n",
    "            return lower * lower * x"
   ]
  },
  {
   "cell_type": "code",
   "execution_count": 37,
   "metadata": {},
   "outputs": [
    {
     "data": {
      "text/plain": [
       "8"
      ]
     },
     "execution_count": 37,
     "metadata": {},
     "output_type": "execute_result"
    }
   ],
   "source": [
    "solution = Solution()\n",
    "solution.powerN(2,3)"
   ]
  },
  {
   "cell_type": "markdown",
   "metadata": {},
   "source": [
    "## Sqrt"
   ]
  },
  {
   "cell_type": "code",
   "execution_count": 40,
   "metadata": {},
   "outputs": [],
   "source": [
    "class Solution:\n",
    "    def mySqrt(self,x):\n",
    "        if x == 1: return 1\n",
    "        l,r = 0,x\n",
    "        while(l<=r):\n",
    "            mid = (l+r)//2\n",
    "            if mid*mid <= x < (mid+1)*(mid+1):\n",
    "                return mid\n",
    "            elif mid*mid < x:\n",
    "                l = mid\n",
    "            else:\n",
    "                r = mid + 1"
   ]
  },
  {
   "cell_type": "code",
   "execution_count": 44,
   "metadata": {},
   "outputs": [
    {
     "data": {
      "text/plain": [
       "10"
      ]
     },
     "execution_count": 44,
     "metadata": {},
     "output_type": "execute_result"
    }
   ],
   "source": [
    "solution = Solution()\n",
    "solution.mySqrt(100)"
   ]
  },
  {
   "cell_type": "markdown",
   "metadata": {},
   "source": [
    "## Divide Two Integers\n"
   ]
  },
  {
   "cell_type": "code",
   "execution_count": null,
   "metadata": {},
   "outputs": [],
   "source": []
  }
 ],
 "metadata": {
  "kernelspec": {
   "display_name": "Python 3",
   "language": "python",
   "name": "python3"
  },
  "language_info": {
   "codemirror_mode": {
    "name": "ipython",
    "version": 3
   },
   "file_extension": ".py",
   "mimetype": "text/x-python",
   "name": "python",
   "nbconvert_exporter": "python",
   "pygments_lexer": "ipython3",
   "version": "3.6.8"
  },
  "toc": {
   "base_numbering": 1,
   "nav_menu": {},
   "number_sections": true,
   "sideBar": true,
   "skip_h1_title": false,
   "title_cell": "Table of Contents",
   "title_sidebar": "Contents",
   "toc_cell": true,
   "toc_position": {},
   "toc_section_display": true,
   "toc_window_display": true
  }
 },
 "nbformat": 4,
 "nbformat_minor": 2
}
