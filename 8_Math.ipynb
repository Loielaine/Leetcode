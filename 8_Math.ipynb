{
 "cells": [
  {
   "cell_type": "markdown",
   "metadata": {
    "toc": true
   },
   "source": [
    "<h1>Table of Contents<span class=\"tocSkip\"></span></h1>\n",
    "<div class=\"toc\"><ul class=\"toc-item\"><li><span><a href=\"#Easy\" data-toc-modified-id=\"Easy-1\"><span class=\"toc-item-num\">1&nbsp;&nbsp;</span>Easy</a></span><ul class=\"toc-item\"><li><span><a href=\"#Fizz-Buzz\" data-toc-modified-id=\"Fizz-Buzz-1.1\"><span class=\"toc-item-num\">1.1&nbsp;&nbsp;</span>Fizz Buzz</a></span><ul class=\"toc-item\"><li><span><a href=\"#Solution1:-Naive\" data-toc-modified-id=\"Solution1:-Naive-1.1.1\"><span class=\"toc-item-num\">1.1.1&nbsp;&nbsp;</span>Solution1: Naive</a></span></li><li><span><a href=\"#Solution2:-String\" data-toc-modified-id=\"Solution2:-String-1.1.2\"><span class=\"toc-item-num\">1.1.2&nbsp;&nbsp;</span>Solution2: String</a></span></li></ul></li><li><span><a href=\"#Count-Primes\" data-toc-modified-id=\"Count-Primes-1.2\"><span class=\"toc-item-num\">1.2&nbsp;&nbsp;</span>Count Primes</a></span><ul class=\"toc-item\"><li><span><a href=\"#Solution1:-square-root\" data-toc-modified-id=\"Solution1:-square-root-1.2.1\"><span class=\"toc-item-num\">1.2.1&nbsp;&nbsp;</span>Solution1: square root</a></span></li></ul></li><li><span><a href=\"#Power-of-Three\" data-toc-modified-id=\"Power-of-Three-1.3\"><span class=\"toc-item-num\">1.3&nbsp;&nbsp;</span>Power of Three</a></span></li></ul></li></ul></div>"
   ]
  },
  {
   "cell_type": "markdown",
   "metadata": {},
   "source": [
    "# Easy"
   ]
  },
  {
   "cell_type": "markdown",
   "metadata": {},
   "source": [
    "## Fizz Buzz"
   ]
  },
  {
   "cell_type": "markdown",
   "metadata": {},
   "source": [
    "Write a program that outputs the string representation of numbers from 1 to n.\n",
    "\n",
    "But for multiples of three it should output “Fizz” instead of the number and for the multiples of five output “Buzz”. For numbers which are multiples of both three and five output “FizzBuzz”."
   ]
  },
  {
   "cell_type": "markdown",
   "metadata": {},
   "source": [
    "### Solution1: Naive "
   ]
  },
  {
   "cell_type": "code",
   "execution_count": 3,
   "metadata": {},
   "outputs": [],
   "source": [
    "def fizzBuzz(n):\n",
    "    ans = [\"1\",\"2\"]\n",
    "    for i in range(3,n+1):\n",
    "        if i%3==0 and i%5 ==0:\n",
    "            ans.append(\"FizzBuzz\")\n",
    "        elif i%3==0:\n",
    "            ans.append(\"Fizz\")\n",
    "        elif i%5==0:\n",
    "            ans.append(\"Buzz\")\n",
    "        else:\n",
    "            ans.append(str(i))\n",
    "    return ans"
   ]
  },
  {
   "cell_type": "code",
   "execution_count": 8,
   "metadata": {},
   "outputs": [
    {
     "data": {
      "text/plain": [
       "['1',\n",
       " '2',\n",
       " 'Fizz',\n",
       " '4',\n",
       " 'Buzz',\n",
       " 'Fizz',\n",
       " '7',\n",
       " '8',\n",
       " 'Fizz',\n",
       " 'Buzz',\n",
       " '11',\n",
       " 'Fizz',\n",
       " '13',\n",
       " '14',\n",
       " 'FizzBuzz',\n",
       " '16']"
      ]
     },
     "execution_count": 8,
     "metadata": {},
     "output_type": "execute_result"
    }
   ],
   "source": [
    "fizzBuzz(16)"
   ]
  },
  {
   "cell_type": "markdown",
   "metadata": {},
   "source": [
    "### Solution2: String"
   ]
  },
  {
   "cell_type": "code",
   "execution_count": 7,
   "metadata": {},
   "outputs": [],
   "source": [
    "def fizzBuzz(n):\n",
    "    ans = [\"1\",\"2\"]\n",
    "    for i in range(3,n+1):\n",
    "        ans.append(\"Fizz\"*(not i%3)+\"Buzz\"*(not i%5)+str(i)*(i%3!=0 and i%5!=0))\n",
    "    return ans"
   ]
  },
  {
   "cell_type": "markdown",
   "metadata": {},
   "source": [
    "## Count Primes"
   ]
  },
  {
   "cell_type": "markdown",
   "metadata": {},
   "source": [
    "Count the number of prime numbers less than a non-negative number, n."
   ]
  },
  {
   "cell_type": "markdown",
   "metadata": {},
   "source": [
    "### Solution1: square root"
   ]
  },
  {
   "cell_type": "code",
   "execution_count": 28,
   "metadata": {},
   "outputs": [],
   "source": [
    "def countPrimes(n):\n",
    "    if n<=2:\n",
    "        return 0\n",
    "    primes = [True]*n\n",
    "    primes[0] = primes[1] = False\n",
    "    for i in range(2,int(n**0.5)+1): # take square root of n\n",
    "        if primes[i]:\n",
    "             #primes[i * i: n: i] = [False] * len(primes[i * i: n: i])\n",
    "            for j in range(i*i,n,i):\n",
    "                #print(j)\n",
    "                primes[j]=False\n",
    "    print(primes)\n",
    "    return sum(primes)"
   ]
  },
  {
   "cell_type": "code",
   "execution_count": 29,
   "metadata": {},
   "outputs": [
    {
     "name": "stdout",
     "output_type": "stream",
     "text": [
      "[False, False, True, True, False, True, False, True, False, False]\n"
     ]
    },
    {
     "data": {
      "text/plain": [
       "4"
      ]
     },
     "execution_count": 29,
     "metadata": {},
     "output_type": "execute_result"
    }
   ],
   "source": [
    "countPrimes(10)"
   ]
  },
  {
   "cell_type": "markdown",
   "metadata": {},
   "source": [
    "## Power of Three"
   ]
  },
  {
   "cell_type": "code",
   "execution_count": 36,
   "metadata": {},
   "outputs": [],
   "source": [
    "def powerThree(n):\n",
    "    if n ==0 : return False\n",
    "    while n%3==0:\n",
    "        n = n/3\n",
    "    return (n==1)"
   ]
  },
  {
   "cell_type": "code",
   "execution_count": 37,
   "metadata": {},
   "outputs": [
    {
     "data": {
      "text/plain": [
       "True"
      ]
     },
     "execution_count": 37,
     "metadata": {},
     "output_type": "execute_result"
    }
   ],
   "source": [
    "powerThree(27)"
   ]
  },
  {
   "cell_type": "code",
   "execution_count": 38,
   "metadata": {},
   "outputs": [
    {
     "data": {
      "text/plain": [
       "False"
      ]
     },
     "execution_count": 38,
     "metadata": {},
     "output_type": "execute_result"
    }
   ],
   "source": [
    "powerThree(12)"
   ]
  },
  {
   "cell_type": "code",
   "execution_count": null,
   "metadata": {},
   "outputs": [],
   "source": []
  }
 ],
 "metadata": {
  "kernelspec": {
   "display_name": "Python 3",
   "language": "python",
   "name": "python3"
  },
  "language_info": {
   "codemirror_mode": {
    "name": "ipython",
    "version": 3
   },
   "file_extension": ".py",
   "mimetype": "text/x-python",
   "name": "python",
   "nbconvert_exporter": "python",
   "pygments_lexer": "ipython3",
   "version": "3.6.8"
  },
  "toc": {
   "base_numbering": 1,
   "nav_menu": {},
   "number_sections": true,
   "sideBar": true,
   "skip_h1_title": false,
   "title_cell": "Table of Contents",
   "title_sidebar": "Contents",
   "toc_cell": true,
   "toc_position": {},
   "toc_section_display": true,
   "toc_window_display": true
  }
 },
 "nbformat": 4,
 "nbformat_minor": 2
}
