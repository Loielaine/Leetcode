{
 "cells": [
  {
   "cell_type": "code",
   "execution_count": 2,
   "metadata": {},
   "outputs": [],
   "source": [
    "import datetime\n",
    "from datetime import date\n",
    "import pandas as pd\n",
    "import numpy as np\n",
    "\n",
    "from pyspark import SparkContext\n",
    "from pyspark import SQLContext\n",
    "from pyspark.sql.session import SparkSession\n",
    "\n",
    "\n",
    "from pyspark.sql import DataFrameStatFunctions as statFunc\n",
    "\n",
    "from pyspark.sql.functions import row_number\n",
    "from pyspark.sql.window import Window\n",
    "from pyspark.sql.functions import desc\n",
    "\n",
    "from pyspark.sql import functions as F\n",
    "from pyspark.sql import types as T\n",
    "from pyspark.sql.types import IntegerType"
   ]
  },
  {
   "cell_type": "markdown",
   "metadata": {},
   "source": [
    "## 1 Collect search data at hotel level"
   ]
  },
  {
   "cell_type": "markdown",
   "metadata": {},
   "source": [
    "Collect hotel data from hdfs. Rate amentity and commission for each hotel are collected as array. The reason that I  collected amentity and commission separatly was that for commission, GDS rates all NULL. Therefore, when doing group by at the rate level to collect amnentity, GDS rates would be lost. I added one more step for commission collection, that was to first fill NULL and then doing the group by at rate level and hotel level."
   ]
  },
  {
   "cell_type": "markdown",
   "metadata": {},
   "source": [
    "### 1.1 Collect amentity data"
   ]
  },
  {
   "cell_type": "code",
   "execution_count": null,
   "metadata": {},
   "outputs": [],
   "source": [
    "# 1) group by at rate level to collect amentity discription for each rate\n",
    "# 2) group by at the hotel level to collect amentities for each hotel\n",
    "'''\n",
    "use eandev;\n",
    "drop table if exists eandev.yixli_src_amentity_2019;\n",
    "create table eandev.yixli_src_amentity_2019 as\n",
    "select\n",
    " a.message_id\n",
    ",a.message_date\n",
    ",a.check_in_date\n",
    ",a.check_out_date\n",
    ",a.tuid\n",
    ",a.hotel_id\n",
    ",a.hotel_result_index\n",
    ",a.city\n",
    ",a.star_rating\n",
    ",a.filter_want_in_policy_rates_only\n",
    ",array_contains(a.filter_rate_amenities,\"EligibleForLoyalty\") as  filter_eligible_for_loyalty\n",
    ",array_contains(a.filter_rate_amenities,\"FreeBreakfast\") as  filter_free_breakfast\n",
    ",array_contains(a.filter_rate_amenities,\"FreeWifi\") as  filter_free_wifi\n",
    ",array_contains(a.filter_rate_amenities,\"FreeParking\") as  filter_free_parking\n",
    ",concat_ws(\"|\",collect_list(cast(a.rate_index as string))) as rate_index\n",
    ",concat_ws(\"|\",collect_list(cast(a.rate_amount as string))) as rate_amount\n",
    ",concat_ws(\"|\",collect_list(cast(a.rate_currency as string))) as rate_currency\n",
    ",concat_ws(\"|\",collect_list(a.rate_type)) as rate_type\n",
    ",concat_ws(\"|\",collect_list(cast(array_contains(a.amnts,\"EligibleForLoyalty\") as string))) as eligible_for_loyalty\n",
    ",concat_ws(\"|\",collect_list(cast(array_contains(a.amnts,\"FreeBreakfast\") as string))) as free_breakfast\n",
    ",concat_ws(\"|\",collect_list(cast(array_contains(a.amnts,\"FreeWifi\") as string))) as free_wifi\n",
    ",concat_ws(\"|\",collect_list(cast(array_contains(a.amnts,\"FreeParking\") as string))) as free_parking\n",
    ",concat_ws(\"|\",collect_list(cast(array_contains(a.amnts,\"Refundable\") as string))) as refundable\n",
    "from (\n",
    "select\n",
    " message_id\n",
    ",message_timestamp as message_date\n",
    ",check_in_date\n",
    ",check_out_date\n",
    ",filter_rate_amenities\n",
    ",filter_want_in_policy_rates_only\n",
    ",tuid\n",
    ",v1.hotel_id\n",
    ",v1.hotel_result_index as hotel_result_index\n",
    ",CONCAT(lower(v1.city), '-',lower(v1.country_code))  as city\n",
    ",v1.star_rating\n",
    ",v2.rate_index\n",
    ",v2.price.amount as rate_amount\n",
    ",v2.price.currency as rate_currency\n",
    ",(case when v2.rate_type = 'GDS_CHAIN_NEGOTIATED' then 'NEG'\n",
    "  when v2.rate_type = 'GDS_CONSORTIA' then 'GDS'\n",
    "  when v2.rate_type = 'GDS_NEGOTIATED' then 'NEG'\n",
    "  when v2.rate_type = 'GDS_PUBLISHED' then 'GDS'\n",
    "  when v2.rate_type = 'EPR_MERCHANT' then 'EPRM'\n",
    "  when v2.rate_type = 'ESR_DIRECT_AGENCY' then 'ESRA'\n",
    "  when v2.rate_type = 'EPR_DIRECT_AGENCY' then 'EPRA'\n",
    "  when v2.rate_type = 'ESR_MERCHANT' then 'ESRM'\n",
    "  else v2.rate_type end) as rate_type\n",
    ",collect_list(v3.amenity_description) as amnts\n",
    "from eandev.HotelMessages\n",
    "lateral view explode(travelers) travl_tbl as tuid\n",
    "lateral view explode(hotels) hotel_tbl as v1\n",
    "lateral view explode(v1.prices) rate_tbl as v2\n",
    "lateral view explode(v2.rate_amenities) amt_tbl as v3\n",
    "where load_date between '20191001' and '20200101'\n",
    "and message_id is not null\n",
    "and message_id <> ''\n",
    "and v2.selected = True\n",
    "and type = 'HSR'\n",
    "group by message_id, message_timestamp, check_in_date, check_out_date, filter_rate_amenities,\n",
    "filter_want_in_policy_rates_only, tuid, v1.hotel_id, v1.hotel_result_index,v1.city, v1.country_code, v1.star_rating, v2.rate_index,v2.price.amount,v2.price.currency,\n",
    "v2.rate_type\n",
    ") as a\n",
    "group by a.message_id, a.message_date, a.check_in_date, a.check_out_date,\n",
    "a.filter_rate_amenities, a.filter_want_in_policy_rates_only, a.tuid, a.hotel_id,a.hotel_result_index, a.city, a.star_rating\n",
    "'''"
   ]
  },
  {
   "cell_type": "markdown",
   "metadata": {},
   "source": [
    "### 1.2 Collect commission data"
   ]
  },
  {
   "cell_type": "code",
   "execution_count": null,
   "metadata": {},
   "outputs": [],
   "source": [
    "# 1) fill the NULL for commission data\n",
    "# 2) group by at rate level to obtain average commission for each rate\n",
    "# 3) group by at the hotel level to collect commission for each hotel\n",
    "'''\n",
    "use eandev;\n",
    "drop table if exists eandev.yixli_search_commission_2019_v3;\n",
    "create table eandev.yixli_search_commission_2019_v3 as   \n",
    "select\n",
    "a.message_id\n",
    ",a.message_date\n",
    ",a.check_in_date\n",
    ",a.check_out_date\n",
    ",a.tuid\n",
    ",a.hotel_id\n",
    ",a.hotel_result_index\n",
    ",concat_ws(\"|\",collect_list(cast(a.rate_index as string))) as rate_index\n",
    ",concat_ws(\"|\",collect_list(cast(NVL(a.commission_base, 0.0) as string))) as commission_base\n",
    ",concat_ws(\"|\",collect_list(cast(NVL(a.commission_tax, 0.0) as string))) as commission_tax\n",
    ",concat_ws(\"|\",collect_list(cast(NVL(a.commission_currency, 'USD') as string))) as commission_currency\n",
    "from\n",
    "(\n",
    "select\n",
    "t.message_id\n",
    ",t.message_date\n",
    ",t.check_in_date\n",
    ",t.check_out_date\n",
    ",t.tuid\n",
    ",t.hotel_id\n",
    ",t.hotel_result_index\n",
    ",t.rate_index\n",
    ",t.rate_type\n",
    ",avg(commission_base) as commission_base\n",
    ",avg(commission_tax) as commission_tax\n",
    ",t.commission_currency\n",
    "from\n",
    "(select \n",
    "message_id\n",
    ",message_timestamp as message_date\n",
    ",check_in_date\n",
    ",check_out_date\n",
    ",tuid\n",
    ",v1.hotel_id\n",
    ",v1.hotel_result_index\n",
    ",v2.rate_index\n",
    ",(case when v2.rate_type = 'GDS_CHAIN_NEGOTIATED' then 'NEG'\n",
    "  when v2.rate_type = 'GDS_CONSORTIA' then 'GDS'\n",
    "  when v2.rate_type = 'GDS_NEGOTIATED' then 'NEG'\n",
    "  when v2.rate_type = 'GDS_PUBLISHED' then 'GDS'\n",
    "  when v2.rate_type = 'EPR_MERCHANT' then 'EPRM'\n",
    "  when v2.rate_type = 'ESR_DIRECT_AGENCY' then 'ESRA'\n",
    "  when v2.rate_type = 'EPR_DIRECT_AGENCY' then 'EPRA'\n",
    "  when v2.rate_type = 'ESR_MERCHANT' then 'ESRM'\n",
    "  else v2.rate_type end) as rate_type\n",
    ",NVL(v3.commission_base, 0.0) as commission_base\n",
    ",NVL(v3.commission_tax, 0.0) as commission_tax\n",
    ",NVL(v3.currency, 'USD') as commission_currency\n",
    "from eandev.HotelMessages\n",
    "lateral view explode(travelers) travl_tbl as tuid\n",
    "lateral view explode(hotels) hotel_tbl as v1\n",
    "lateral view explode(v1.prices) rate_tbl as v2\n",
    "lateral view outer explode(v2.commission_list) cms_tbl as v3 \n",
    "where load_date between '20191001' and '20200101'\n",
    "and message_id is not null \n",
    "and message_id <> ''\n",
    "and v2.selected = True\n",
    "and type = 'HSR') as t\n",
    "group by message_id, message_date, check_in_date, check_out_date,tuid, hotel_id,hotel_result_index,rate_index,rate_type,commission_currency) as a\n",
    "group by message_id, message_date, check_in_date, check_out_date,tuid, hotel_id,hotel_result_index\n",
    "'''"
   ]
  },
  {
   "cell_type": "markdown",
   "metadata": {},
   "source": [
    "### 1.3 Filter hotels below PL"
   ]
  },
  {
   "cell_type": "code",
   "execution_count": null,
   "metadata": {},
   "outputs": [],
   "source": [
    "# find hotel result index of the PL\n",
    "'''\n",
    "use eandev; \n",
    "drop table if exists eandev.yixli_last_idx_peterman_line_2019;\n",
    "create table eandev.yixli_last_idx_peterman_line_2019 as    \n",
    "select  \n",
    "  a.message_id,\n",
    "  IF(b.message_id is null, 0, b.last_idx_peterman_line) as last_idx_peterman_line,\n",
    "  IF(c.message_id is null, 0, c.last_hotel_result_index) as last_hotel_result_index\n",
    "from eandev.HotelMessages as a \n",
    "left join (\n",
    "  select  \n",
    "   message_id\n",
    "  ,MAX(v1.hotel_result_index) as last_idx_peterman_line\n",
    "  from eandev.HotelMessages \n",
    "  lateral view explode(hotels) hotel_tbl as v1\n",
    "  where load_date between '20191001' and '20200101'\n",
    "  and ((v1.property_level_neg = true) or (v1.chain_level_neg = true) or (v1.preferred = true))\n",
    "  and message_id is not null \n",
    "  and message_id <> ''\n",
    "  and ((original_message_id is null) or (original_message_id == '')) \n",
    "  and type = 'HSR'  \n",
    "  group by message_id\n",
    ") as b ON a.message_id = b.message_id\n",
    "left join (\n",
    "  select  \n",
    "   message_id\n",
    "  ,MAX(v1.hotel_result_index) as last_hotel_result_index\n",
    "  from eandev.HotelMessages \n",
    "  lateral view explode(hotels) hotel_tbl as v1\n",
    "  where load_date between '20191001' and '20200101'\n",
    "  and message_id is not null \n",
    "  and message_id <> ''\n",
    "  and ((original_message_id is null) or (original_message_id == '')) \n",
    "  and type = 'HSR'  \n",
    "  group by message_id\n",
    ") as c ON a.message_id = c.message_id\n",
    "where a.load_date between '20191001' and '20200101'\n",
    "and a.message_id is not null \n",
    "and a.message_id <> ''\n",
    "and ((original_message_id is null) or (original_message_id == '')) \n",
    "and a.type = 'HSR'\n",
    "'''"
   ]
  },
  {
   "cell_type": "code",
   "execution_count": null,
   "metadata": {},
   "outputs": [],
   "source": [
    "# filter hotels below PL for amentity df\n",
    "'''\n",
    "use eandev; \n",
    "drop table if exists eandev.yixli_src_amentity_2019_pl;\n",
    "create table eandev.yixli_src_amentity_2019_pl as  \n",
    "  select b.*\n",
    "  from yixli_src_amentity_2019 as b\n",
    "join yixli_last_idx_peterman_line_2019 as c on (b.message_id=c.message_id)\n",
    "where (b.hotel_result_index>c.last_idx_peterman_line)\n",
    "order by b.message_id, b.hotel_result_index\n",
    "'''"
   ]
  },
  {
   "cell_type": "code",
   "execution_count": null,
   "metadata": {},
   "outputs": [],
   "source": [
    "# filter hotels below PL for commission df\n",
    "'''\n",
    "use eandev; \n",
    "drop table if exists eandev.yixli_search_commission_2019_pl;\n",
    "create table eandev.yixli_search_commission_2019_pl as  \n",
    "  select b.*\n",
    "  from yixli_search_commission_2019_v3 as b\n",
    "join yixli_last_idx_peterman_line_2019 as c on (b.message_id=c.message_id)\n",
    "where (b.hotel_result_index>c.last_idx_peterman_line)\n",
    "order by b.message_id, b.hotel_result_index\n",
    "'''"
   ]
  },
  {
   "cell_type": "markdown",
   "metadata": {},
   "source": [
    "### 1.4 Filter last search"
   ]
  },
  {
   "cell_type": "code",
   "execution_count": null,
   "metadata": {},
   "outputs": [],
   "source": [
    "# filter only the last search data for amentity df\n",
    "# count = 75682358\n",
    "'''\n",
    "use eandev; \n",
    "drop table if exists eandev.yixli_last_src_amentity_2019_pl;\n",
    "create table eandev.yixli_last_src_amentity_2019_pl as  \n",
    "select b.*\n",
    "from\n",
    "(select a.*\n",
    ",row_number() over(partition by hotel_id,check_in_date,check_out_date,tuid order by message_date desc) as rn\n",
    "from yixli_src_amentity_2019_pl as a) as b\n",
    "where rn=1\n",
    "'''"
   ]
  },
  {
   "cell_type": "code",
   "execution_count": null,
   "metadata": {},
   "outputs": [],
   "source": [
    "# filter only the last search data for commission df\n",
    "# count = 75881436\n",
    "'''\n",
    "use eandev; \n",
    "drop table if exists eandev.yixli_last_src_commission_2019_pl;\n",
    "create table eandev.yixli_last_src_commission_2019_pl as  \n",
    "select b.*\n",
    "from\n",
    "(select a.*\n",
    ",row_number() over(partition by hotel_id,check_in_date,check_out_date,tuid order by message_date desc) as rn\n",
    "from yixli_search_commission_2019_pl as a) as b\n",
    "where rn=1\n",
    "'''"
   ]
  },
  {
   "cell_type": "code",
   "execution_count": null,
   "metadata": {},
   "outputs": [],
   "source": [
    "# transfer from hdfs to s3\n",
    "'''\n",
    "ssh Chwxedwhdc002.datawarehouse.expecn.com\n",
    "\n",
    "hive -e \"use eandev; INSERT OVERWRITE LOCAL DIRECTORY '/home/yixli/temp' ROW FORMAT DELIMITED FIELDS TERMINATED BY ',' select * from yixli_last_src_commission_2019_pl1;\"&\n",
    "\n",
    "cd temp\n",
    "ls | xargs -I '{}' -n1 sed -i 's/\\\\N//g' '{}' &\n",
    "cd ..\n",
    "cat temp/* >last_src_commission_2019_pl.csv\n",
    "\n",
    "\n",
    "~/.linuxbrew/bin/aws_key_gen login\n",
    "\n",
    "aws s3 cp last_src_commission_2019_pl.csv s3://ege-ds-workshops-corp/yixli/data_preparation/last_src_commission_2019_pl.csv\n",
    "\n",
    "'''\n",
    "\n",
    "'''\n",
    "ssh Chwxedwhdc002.datawarehouse.expecn.com\n",
    "\n",
    "hive -e \"use eandev; INSERT OVERWRITE LOCAL DIRECTORY '/home/yixli/temp' ROW FORMAT DELIMITED FIELDS TERMINATED BY ',' select * from yixli_last_src_amentity_2019_pl;\"&\n",
    "\n",
    "cd temp\n",
    "ls | xargs -I '{}' -n1 sed -i 's/\\\\N//g' '{}' &\n",
    "cd ..\n",
    "cat temp/* >last_src_amentity_2019_pl.csv\n",
    "\n",
    "\n",
    "~/.linuxbrew/bin/aws_key_gen login\n",
    "\n",
    "aws s3 cp last_src_amentity_2019_pl.csv s3://ege-ds-workshops-corp/yixli/data_preparation/last_src_amentity_2019_pl.csv\n",
    "\n",
    "'''"
   ]
  },
  {
   "cell_type": "markdown",
   "metadata": {},
   "source": [
    "## 2 Find hotel booking index"
   ]
  },
  {
   "cell_type": "markdown",
   "metadata": {},
   "source": [
    "### 2.1 Hotel df "
   ]
  },
  {
   "cell_type": "code",
   "execution_count": null,
   "metadata": {},
   "outputs": [],
   "source": [
    "# inner join hotels from amentity df and commission df to obtain hotel df\n",
    "# hotels below PL in last search: count = 75669163\n",
    "'''\n",
    "use eandev; \n",
    "drop table if exists eandev.hotels_2019_pl;\n",
    "create table eandev.hotels_2019_pl as\n",
    "select distinct *\n",
    "from(\n",
    "(select distinct message_id, tuid, hotel_id,check_in_date, check_out_date,hotel_result_index,message_date\n",
    "from yixli_last_src_commission_2019_pl) as a\n",
    "inner join (select distinct message_id, tuid, hotel_id,check_in_date, check_out_date,hotel_result_index,message_date\n",
    "from yixli_last_src_amentity_2019_pl) as b \n",
    "on (a.message_id=b.message_id \n",
    "    and  a.tuid=b.tuid\n",
    "    and a.hotel_id=b.hotel_id\n",
    "    and a.check_in_date=b.check_in_date\n",
    "    and a.check_out_date=b.check_out_date\n",
    "    and a.hotel_result_index=b.hotel_result_index\n",
    "    and a.message_date=b.message_date))\n",
    "'''"
   ]
  },
  {
   "cell_type": "code",
   "execution_count": null,
   "metadata": {},
   "outputs": [],
   "source": [
    "# transfer from hdfs to s3\n",
    "'''\n",
    "ssh Chwxedwhdc002.datawarehouse.expecn.com\n",
    "\n",
    "hive -e \"use eandev; INSERT OVERWRITE LOCAL DIRECTORY '/home/yixli/temp' ROW FORMAT DELIMITED FIELDS TERMINATED BY ',' select * from hotels_2019_pl;\"&\n",
    "\n",
    "cd temp\n",
    "ls | xargs -I '{}' -n1 sed -i 's/\\\\N//g' '{}' &\n",
    "cd ..\n",
    "cat temp/* >hotels_2019_pl.csv\n",
    "\n",
    "\n",
    "~/.linuxbrew/bin/aws_key_gen login\n",
    "\n",
    "aws s3 cp hotels_2019_pl.csv s3://ege-ds-workshops-corp/yixli/data_preparation/hotels_2019_pl.csv\n",
    "\n",
    "'''"
   ]
  },
  {
   "cell_type": "code",
   "execution_count": 11,
   "metadata": {},
   "outputs": [],
   "source": [
    "# Read hotel df\n",
    "search_schema = T.StructType([\n",
    "    T.StructField(\"message_id\", T.StringType(), True),    \n",
    "     T.StructField(\"tuid\", T.IntegerType(), True),   \n",
    "     T.StructField(\"hotel_id\", T.IntegerType(), True),                                                                           \n",
    "    T.StructField(\"check_in_date\", T.DateType(), True),                                 \n",
    "    T.StructField(\"check_out_date\", T.DateType(), True),                                \n",
    "     T.StructField(\"hotel_result_index\", T.IntegerType(), True),    \n",
    "     T.StructField(\"message_date\", T.TimestampType(), True)])\n",
    "\n",
    "file_loc = \"s3://ege-ds-workshops-corp/yixli/data_preparation/hotels_2019_pl.csv\"\n",
    "hotel_df = sqlContext.read.format('csv').\\\n",
    "            options(header='false', inferSchema='false', delimiter=',').\\\n",
    "            schema(search_schema).load(file_loc)\n",
    "\n",
    "# load_date between '20191001' and '20200101'\n",
    "\n",
    "print(hotel_df.count())"
   ]
  },
  {
   "cell_type": "code",
   "execution_count": 13,
   "metadata": {
    "collapsed": true
   },
   "outputs": [
    {
     "name": "stdout",
     "output_type": "stream",
     "text": [
      "+--------------------+--------+--------+-------------+--------------+------------------+--------------------+\n",
      "|          message_id|    tuid|hotel_id|check_in_date|check_out_date|hotel_result_index|        message_date|\n",
      "+--------------------+--------+--------+-------------+--------------+------------------+--------------------+\n",
      "|00000ba1-bb93-41f...|20554265|15980970|   2019-11-05|    2019-11-06|                12|2019-11-01 10:24:...|\n",
      "|00001dd6-89d5-49f...| 1398050|    9364|   2019-12-09|    2019-12-11|                11|2019-11-21 08:58:...|\n",
      "|00001f75-62c8-462...|17921103|  799712|   2019-11-18|    2019-11-22|                14|2019-11-14 02:29:...|\n",
      "|00002bac-aab1-471...|20387317|  598773|   2019-10-28|    2019-10-29|                 9|2019-10-18 06:34:...|\n",
      "|00002bde-1b21-4d0...|20015413|  283121|   2019-11-19|    2019-11-21|                12|2019-11-18 16:15:...|\n",
      "|000034e7-421a-423...| 8330241| 3773290|   2019-12-16|    2019-12-17|                 4|2019-12-12 00:45:...|\n",
      "|00003c1e-d25e-4ae...| 4395447|  901162|   2019-10-14|    2019-10-16|                 3|2019-10-14 05:01:...|\n",
      "|00003e6e-66e8-41c...|18281227|  896494|   2019-10-23|    2019-10-25|                18|2019-10-15 13:21:...|\n",
      "|00003fc8-ec1c-4cf...| 7644349|11118058|   2020-01-13|    2020-01-14|                12|2019-12-29 21:49:...|\n",
      "|00003fc8-ec1c-4cf...| 7644349|45025478|   2020-01-13|    2020-01-14|                29|2019-12-29 21:49:...|\n",
      "|000068ce-7e08-49b...| 4149048|23932093|   2019-10-22|    2019-10-23|                21|2019-10-16 12:51:...|\n",
      "|00006efc-29cb-43e...|13494419|    4167|   2019-11-24|    2019-11-30|                27|2019-11-10 09:03:...|\n",
      "|00006efc-29cb-43e...|13494419|33022071|   2019-11-24|    2019-11-30|                 7|2019-11-10 09:03:...|\n",
      "|0000835c-16f3-4bd...|10084376|    1026|   2019-11-18|    2019-11-19|                17|2019-10-23 23:41:...|\n",
      "|0000835c-16f3-4bd...|10084376|    9136|   2019-11-18|    2019-11-19|                13|2019-10-23 23:41:...|\n",
      "|0000ae1d-e9f6-4e1...| 8561184|13211717|   2019-11-05|    2019-11-06|                14|2019-11-01 02:33:...|\n",
      "|0000b9cf-4889-430...|16845073|  548518|   2019-10-10|    2019-10-11|                 1|2019-10-10 09:58:...|\n",
      "|0000d333-8315-403...|15764042|15367288|   2019-12-22|    2019-12-23|                13|2019-12-21 08:05:...|\n",
      "|0000d333-8315-403...|15764042|36137606|   2019-12-22|    2019-12-23|                 9|2019-12-21 08:05:...|\n",
      "|0000d333-8315-403...|15764042|42356170|   2019-12-22|    2019-12-23|                16|2019-12-21 08:05:...|\n",
      "|0000d7f2-b188-425...| 3774195|34290157|   2019-10-09|    2019-10-10|                 4|2019-10-08 06:05:...|\n",
      "|0000e2d2-6d3e-4e6...|19307109|  423481|   2019-11-16|    2019-11-18|                14|2019-11-15 11:19:...|\n",
      "|0000e7ce-1182-490...|20333119|19073874|   2019-11-11|    2019-11-15|                27|2019-10-07 11:30:...|\n",
      "|0000e875-bb29-4e1...|15913828|16247401|   2019-11-20|    2019-11-21|                13|2019-11-11 08:16:...|\n",
      "|0001109c-9352-482...| 7522336| 3644114|   2019-11-28|    2019-11-29|                 4|2019-11-22 02:41:...|\n",
      "|0001159f-5452-422...| 6373067|  522580|   2019-12-02|    2019-12-04|                16|2019-11-26 07:53:...|\n",
      "|00011fee-dfdd-4cb...| 9281938|17744516|   2019-11-25|    2019-11-29|                29|2019-11-04 03:51:...|\n",
      "|00013a67-4dbc-4f8...|11406440|27664860|   2019-12-17|    2019-12-18|                27|2019-12-11 07:40:...|\n",
      "|000173af-609c-492...|20011549|   15596|   2020-01-07|    2020-01-08|                16|2019-12-20 07:08:...|\n",
      "|000173af-609c-492...|20011549|   16260|   2020-01-07|    2020-01-08|                22|2019-12-20 07:08:...|\n",
      "|000185db-ee03-4c4...|15670524|   18403|   2019-11-10|    2019-11-15|                 6|2019-10-23 14:04:...|\n",
      "|00019261-4a25-45c...|16798463|35062182|   2019-12-09|    2019-12-10|                14|2019-12-05 05:00:...|\n",
      "|0001b0e2-59de-4c7...|13404142|   14493|   2019-12-04|    2019-12-05|                11|2019-11-22 08:05:...|\n",
      "|0001b0e2-59de-4c7...|13404142|  564460|   2019-12-04|    2019-12-05|                21|2019-11-22 08:05:...|\n",
      "|0001c98b-2ae8-44c...| 9818734|38504620|   2019-12-04|    2019-12-05|                26|2019-12-04 08:02:...|\n",
      "|0001dad5-e8fc-46e...| 6387206| 1416417|   2019-11-25|    2019-11-29|                 6|2019-11-19 03:10:...|\n",
      "|0001de9e-c60d-453...|14942612| 1747350|   2019-10-20|    2019-10-25|                17|2019-10-18 00:49:...|\n",
      "|0001de9e-c60d-453...|14942612| 2806456|   2019-10-20|    2019-10-25|                 3|2019-10-18 00:49:...|\n",
      "|0001e26a-cd24-48a...| 7629517|   21477|   2019-12-27|    2019-12-28|                12|2019-12-23 06:56:...|\n",
      "|0001e7fd-73a9-4c9...|18301180|  317077|   2019-11-01|    2019-11-02|                 3|2019-11-01 07:06:...|\n",
      "|0001ed5b-46ab-4d3...|19494355| 8639079|   2020-01-10|    2020-01-17|                29|2019-11-20 17:16:...|\n",
      "|0002094c-7769-47f...|14962861| 4503501|   2019-12-19|    2019-12-20|                27|2019-12-18 05:33:...|\n",
      "|0002094c-7769-47f...|14962861| 6248658|   2019-12-19|    2019-12-20|                 5|2019-12-18 05:33:...|\n",
      "|0002094c-7769-47f...|15810689|11154676|   2019-12-19|    2019-12-20|                13|2019-12-18 05:33:...|\n",
      "|0002094c-7769-47f...|15810689|11837790|   2019-12-19|    2019-12-20|                22|2019-12-18 05:33:...|\n",
      "|0002094c-7769-47f...|21144686|23956206|   2019-12-19|    2019-12-20|                10|2019-12-18 05:33:...|\n",
      "|0002099b-9457-46c...|16284424| 1277108|   2019-12-09|    2019-12-10|                 8|2019-11-21 09:46:...|\n",
      "|00020ec0-495f-45f...|20559995|   12887|   2019-12-15|    2019-12-17|                10|2019-12-10 09:29:...|\n",
      "|00020ec0-495f-45f...|20559995|  564985|   2019-12-15|    2019-12-17|                 5|2019-12-10 09:29:...|\n",
      "|000224f1-9359-4cd...|11495291|31138839|   2019-12-10|    2019-12-12|                12|2019-12-02 08:45:...|\n",
      "+--------------------+--------+--------+-------------+--------------+------------------+--------------------+\n",
      "only showing top 50 rows"
     ]
    }
   ],
   "source": [
    "hotel_df.show(50)"
   ]
  },
  {
   "cell_type": "code",
   "execution_count": 14,
   "metadata": {},
   "outputs": [],
   "source": [
    "# create hotel index  \n",
    "hotel_df = hotel_df.withColumn('hotel_index',row_number().over(Window.partitionBy(\"message_id\", \"tuid\").\\\n",
    "                                                        orderBy(F.asc(\"hotel_result_index\"))))"
   ]
  },
  {
   "cell_type": "markdown",
   "metadata": {},
   "source": [
    "### 2.2 Booking data"
   ]
  },
  {
   "cell_type": "code",
   "execution_count": 5,
   "metadata": {},
   "outputs": [
    {
     "name": "stdout",
     "output_type": "stream",
     "text": [
      "1999891"
     ]
    }
   ],
   "source": [
    "# collect booking data from Redshift\n",
    "sqlBookings = \"\"\"SELECT \n",
    "      a.hotelfactid,\n",
    "      a.hotelid as hotel_id,\n",
    "     trunc(a.issuedate) as issue_date,\n",
    "     trunc(a.traveldatestart) as check_in_date,\n",
    "     trunc(a.traveldateend) as check_out_date,\n",
    "     hsp.quarter as quarter,\n",
    "      (case when a.customersystemid=1 then a.TUIDTraveler else g.TUIDInternal end) as tuid,      \n",
    "      a.travelproductid AS travel_product_id,\n",
    "      a.GroupAccountID AS group_account_id,\n",
    "      hsp.rate_type AS hotel_rate_type,\n",
    "      (case  \n",
    "        when a.hotelrateTypeSupplyid IN (1,2,3,4,5,10,11,14,16,17,18,20,25,26,28,29,30,32) then 'GDS'\n",
    "        when a.hotelrateTypeSupplyid IN (12,13,15,19,21,22,23,27,31,33,34) then 'NEG'\n",
    "        when a.hotelrateTypeSupplyid = 6 then 'ESRA'\n",
    "        when a.hotelrateTypeSupplyid = 7 then 'ESRM'\n",
    "        when a.hotelrateTypeSupplyid = 8 then 'EPRA'\n",
    "        when a.hotelrateTypeSupplyid = 9 then 'EPRM'\n",
    "        when a.hotelrateTypeSupplyid IN (24,35) then 'HOTMIP'\n",
    "        else 'UNK'\n",
    "        end) as bk_rate_type,\n",
    "      CASE WHEN a.OnlineBool = 1 THEN 'online' ELSE 'offline' END AS booking_type,\n",
    "      a.bookingamtgross::DOUBLE precision*COALESCE(ex.exchangerate,1::DOUBLE precision) AS gross_booking_value_usd,\n",
    "      a.bookingamtcommissionest::DOUBLE precision*COALESCE(ex.exchangerate,1::DOUBLE precision)\n",
    "        + a.bookingamtgross::DOUBLE precision*COALESCE(ex.exchangerate,1::DOUBLE precision)*NVL(hsp.commission,0.00) AS total_commission,\n",
    "      a.bookingamtmargin::DOUBLE precision*COALESCE(ex.exchangerate,1::DOUBLE precision) AS total_markup,\n",
    "      4.3 AS total_gds,\n",
    "      NVL(total_commission,0.00) + NVL(total_markup,0.00) + NVL(total_gds,0.00) AS total_supply_revenue\n",
    "FROM public.HotelFact a\n",
    "  JOIN public.ExchangeRateDailySubset ex\n",
    "    ON a.IssueDateTimeID = ex.TimeID AND a.CurrencyCode = ex.FromCurrencyCode AND ex.ToCurrencyCode = 'USD'\n",
    "  JOIN TravelerAccountDim g \n",
    "    ON a.TUIDTraveler = g.TUID AND a.customersystemid=g.customersystemid \n",
    "  JOIN public.GroupAccountdim d \n",
    "    ON a.GroupAccountID = d.GroupAccountID \n",
    "  JOIN public.hotel_supply hsp \n",
    "    ON hsp.year = EXTRACT (year FROM a.IssueDate)\n",
    "    AND hsp.quarter = EXTRACT (quarter FROM a.IssueDate)\n",
    "    AND hsp.rate_type = CASE\n",
    "         WHEN a.HotelRateTypeSupplyID IN (7,9,24) THEN 'Expedia Collect'\n",
    "         WHEN a.HotelRateTypeSupplyID IN (6,8,35) THEN 'Hotel Collect'\n",
    "         WHEN a.HotelRateTypeSupplyID IN (12,13,15,19,21,22,23,27,31,33,34) THEN 'Negotiated'\n",
    "         ELSE 'Published & GDS' END\n",
    "    AND hsp.travel_product_id = a.TravelProductID\n",
    "WHERE a.CustomerSystemID IN (1,2)\n",
    "AND   (d.groupaccountinternaltypeid = 1 OR d.groupaccountinternaltypeid = 3)\n",
    "AND a.BookingTypeID in (1,3) \n",
    "and a.issuedate>=to_date('20191001','YYYYMMDD') \n",
    "and a.issuedate<=to_date('20200101','YYYYMMDD')\"\"\".replace('\\n',' ')\n",
    "\n",
    "connection_string = \"jdbc:redshift://egencia-reporting.czjkedodj6lc.us-west-2.redshift.amazonaws.com:5439/egedatamart?user=ds_rpt_user&password=Jan2019!\";\n",
    "\n",
    "bookings_df = sqlContext.read.\\\n",
    "    format(\"com.databricks.spark.redshift\").\\\n",
    "    option(\"url\", connection_string).\\\n",
    "    option(\"query\", sqlBookings).\\\n",
    "    option(\"tempdir\", \"s3a://ege-ds-workshops-corp/yixli/\").\\\n",
    "    load()\n",
    "\n",
    "bookings_df.cache()\n",
    "bookings_df.count()"
   ]
  },
  {
   "cell_type": "code",
   "execution_count": null,
   "metadata": {},
   "outputs": [],
   "source": [
    "# combine rate type\n",
    "bookings_df = bookings_df.withColumn('rate_type',F.when(F.col('bk_rate_type')=='HOTMIP','ESRM').otherwise(F.col('bk_rate_type')))\n",
    "\n",
    "# adjust rate amount and supply revenue by the duration of stay\n",
    "bookings_df = bookings_df.\\\n",
    "                     withColumn('duration', F.datediff(F.col(\"check_out_date\"),F.col( \"check_in_date\")).cast(IntegerType()))\n",
    "\n",
    "bookings_df = bookings_df.\\\n",
    "                     withColumn('avg_book_rate_amount_usd',F.col('gross_booking_value_usd')/F.col( \"duration\")).\\\n",
    "                     withColumn('bk_avg_commission_usd',F.col('total_commission')/F.col( \"duration\")).\\\n",
    "                     withColumn('bk_avg_markup_usd',F.col('total_markup')/F.col( \"duration\")).\\\n",
    "                     withColumn('bk_avg_revenue_usd',F.col('total_supply_revenue')/F.col( \"duration\"))\n",
    "\n",
    "# filter outliers\n",
    "bookings_df = bookings_df.filter(F.col('total_supply_revenue')>0).filter(F.col('total_supply_revenue')<1000)"
   ]
  },
  {
   "cell_type": "markdown",
   "metadata": {},
   "source": [
    "### 2.3 Match last search with bookings"
   ]
  },
  {
   "cell_type": "code",
   "execution_count": 28,
   "metadata": {},
   "outputs": [
    {
     "name": "stdout",
     "output_type": "stream",
     "text": [
      "709268"
     ]
    }
   ],
   "source": [
    "# find bk_hotel_index\n",
    "book_hotel_idx =hotel_df.join(bookings_df.select(\"hotel_id\",\"check_in_date\", \"check_out_date\",\"tuid\",\"issue_date\")\n",
    "                                       ,[\"hotel_id\",\"check_in_date\", \"check_out_date\",\"tuid\"],how='inner').\\\n",
    "                                       withColumnRenamed(\"hotel_index\",\"bk_hotel_index\").\\\n",
    "                                        select(\"message_id\",\"tuid\",\"bk_hotel_index\").dropDuplicates()\n",
    "# Add bk_hotel_index back to hotel df\n",
    "hotel_df_with_bk_idx = hotel_df.join(book_hotel_idx,[\"message_id\",\"tuid\"])\n",
    "hotel_df_with_bk_idx.count()"
   ]
  },
  {
   "cell_type": "code",
   "execution_count": 32,
   "metadata": {},
   "outputs": [],
   "source": [
    "# save hotel df with bk_hotel_index\n",
    "dir = 's3://ege-ds-workshops-corp/yixli/data_preparation/'\n",
    "\n",
    "datestamp = datetime.datetime.now().strftime('%m-%d-%Y')\n",
    "hotel_df_with_bk_idx.repartition(1).write.mode('overwrite').parquet(dir+'hotel_df_with_bk_idx')"
   ]
  },
  {
   "cell_type": "code",
   "execution_count": 3,
   "metadata": {},
   "outputs": [],
   "source": [
    "hotel_df_with_bk_idx = sqlContext.read.parquet('s3://ege-ds-workshops-corp/yixli/data_preparation/hotel_df_with_bk_idx')"
   ]
  },
  {
   "cell_type": "markdown",
   "metadata": {},
   "source": [
    "## 3 Add hotel sorting scores"
   ]
  },
  {
   "cell_type": "markdown",
   "metadata": {},
   "source": [
    "The hotel data from 10/01/2019 to 01/01/2020 doesn't include score. So I added the score from API."
   ]
  },
  {
   "cell_type": "code",
   "execution_count": null,
   "metadata": {},
   "outputs": [],
   "source": [
    "'''\n",
    "sudo pip-3.6 install git+https://github.expedia.biz/caldanarosenbe/datascience-fast-hotel-search-data.git@revenue_sort\n",
    "'''"
   ]
  },
  {
   "cell_type": "code",
   "execution_count": 5,
   "metadata": {},
   "outputs": [],
   "source": [
    "from fast_hotel_sort.utils.SearchDataUtils import SearchDataUtils\n",
    "from datetime import datetime, timedelta, date"
   ]
  },
  {
   "cell_type": "code",
   "execution_count": 6,
   "metadata": {},
   "outputs": [],
   "source": [
    "# collect hotel scores from API\n",
    "cols = [\"message_id\"\n",
    "        ,\"timestamp\"\n",
    "        ,\"search_date\"\n",
    "        ,\"check_in_date\"\n",
    "        ,\"check_out_date\"\n",
    "        ,\"tuid\"]\n",
    "cols2 = [\"message_id\"\n",
    "        ,\"timestamp\"\n",
    "        ,\"hotel_id\"\n",
    "        ,\"star_rating\"\n",
    "        ,\"city\"\n",
    "        ,\"property_level_neg\"\n",
    "        ,\"chain_level_neg\"\n",
    "        ,\"preferred\"\n",
    "        ,\"score_0\"\n",
    "        ,\"score_1\"\n",
    "        ,\"hotel_result_index\"\n",
    "        ,\"country_code\"]\n",
    "q = SearchDataUtils()\n",
    "sd = date(2019,10,1)\n",
    "sd2 = date(2020,1,1)\n",
    "dispHotelsDF = q.displayed_hotels(sd, sd2,cols, cols2)"
   ]
  },
  {
   "cell_type": "code",
   "execution_count": 7,
   "metadata": {},
   "outputs": [
    {
     "name": "stdout",
     "output_type": "stream",
     "text": [
      "149291990"
     ]
    }
   ],
   "source": [
    "dispHotelsDF.count()"
   ]
  },
  {
   "cell_type": "code",
   "execution_count": 8,
   "metadata": {},
   "outputs": [],
   "source": [
    "# join hotel df with hotel scores\n",
    "hotel_df_with_bk_idx_score = hotel_df_with_bk_idx.join(dispHotelsDF.select(\"message_id\",\"tuid\",\"hotel_id\",\"check_in_date\", \"check_out_date\",'score_1',\"hotel_result_index\"),\n",
    "                                    [\"message_id\",\"tuid\",\"hotel_id\",\"check_in_date\", \"check_out_date\",\"hotel_result_index\"])"
   ]
  },
  {
   "cell_type": "code",
   "execution_count": 9,
   "metadata": {},
   "outputs": [
    {
     "name": "stdout",
     "output_type": "stream",
     "text": [
      "10750007"
     ]
    }
   ],
   "source": [
    "hotel_df_with_bk_idx_score.count()"
   ]
  },
  {
   "cell_type": "code",
   "execution_count": 11,
   "metadata": {},
   "outputs": [],
   "source": [
    "# save hotel_df with bk_hotel_index and score\n",
    "dir = 's3://ege-ds-workshops-corp/yixli/'\n",
    "\n",
    "datestamp = datetime.now().strftime('%m-%d-%Y')\n",
    "hotel_df_with_bk_idx_score.repartition(1).write.mode('overwrite').parquet(dir+'hotel_df_with_bk_idx_score')"
   ]
  },
  {
   "cell_type": "code",
   "execution_count": 7,
   "metadata": {},
   "outputs": [],
   "source": [
    "hotel_df_with_bk_idx_score = sqlContext.read.parquet('s3://ege-ds-workshops-corp/yixli/hotel_df_with_bk_idx_score')"
   ]
  },
  {
   "cell_type": "markdown",
   "metadata": {},
   "source": [
    "## 4 Convert hotel level df to rate level df"
   ]
  },
  {
   "cell_type": "markdown",
   "metadata": {},
   "source": [
    "Expode the rate amentity and commission array for each hotel to obtain rate level data."
   ]
  },
  {
   "cell_type": "markdown",
   "metadata": {},
   "source": [
    "### 4.1 Expode rate amentity"
   ]
  },
  {
   "cell_type": "code",
   "execution_count": 2,
   "metadata": {},
   "outputs": [
    {
     "name": "stdout",
     "output_type": "stream",
     "text": [
      "75638124"
     ]
    }
   ],
   "source": [
    "# read amentity df\n",
    "search_schema = T.StructType([\n",
    "    T.StructField(\"message_id\", T.StringType(), True),                                  #1                \n",
    "    T.StructField(\"message_date\", T.TimestampType(), True),                                  #2                               #1                \n",
    "    T.StructField(\"check_in_date\", T.DateType(), True),                                 #3\n",
    "    T.StructField(\"check_out_date\", T.DateType(), True),                                #4\n",
    "    T.StructField(\"tuid\", T.IntegerType(), True),                                       #5\n",
    "    T.StructField(\"hotel_id\", T.IntegerType(), True),                                   #6 \n",
    "     T.StructField(\"hotel_result_index\", T.IntegerType(), True),                                   #6 \n",
    "     T.StructField(\"city\", T.StringType(), True),           #9                               \n",
    "     T.StructField(\"star_rating\", T.StringType(), True),           #9                               \n",
    "    T.StructField(\"filter_want_in_policy_rates_only\", T.BooleanType(), True),           #9    \n",
    "    T.StructField(\"filter_eligible_for_loyalty\", T.BooleanType(), True),                #10 \n",
    "    T.StructField(\"filter_free_breakfast\", T.BooleanType(), True),                      #11\n",
    "    T.StructField(\"filter_free_wifi\", T.BooleanType(), True),                           #12    \n",
    "    T.StructField(\"filter_free_parking\", T.BooleanType(), True),                        #13\n",
    "    T.StructField(\"rate_index\", T.StringType(), True),                                      #14\n",
    "    T.StructField(\"rate_amount\", T.StringType(), True),                                     #15\n",
    "    T.StructField(\"rate_currency\", T.StringType(), True),                                   #16\n",
    "    T.StructField(\"rate_type\", T.StringType(), True),                                       #17\n",
    "    T.StructField(\"eligible_for_loyalty\", T.StringType(), True),                            #20\n",
    "    T.StructField(\"free_breakfast\", T.StringType(), True),                                  #21\n",
    "    T.StructField(\"free_wifi\", T.StringType(), True),                                       #22\n",
    "    T.StructField(\"free_parking\", T.StringType(), True),                                    #23\n",
    "    T.StructField(\"refundable\", T.StringType(), True)                                       #24\n",
    "])                    \n",
    "\n",
    "file_loc = \"s3://ege-ds-workshops-corp/yixli/data_preparation/last_src_amentity_2019_pl.csv\"\n",
    "search_hotel_df = sqlContext.read.format('csv').\\\n",
    "            options(header='false', inferSchema='false', delimiter=',').\\\n",
    "            schema(search_schema).load(file_loc)\n",
    "\n",
    "# load_date between '20191001' and '20200101'\n",
    "\n",
    "search_hotel_df = search_hotel_df.\\\n",
    "            filter(F.col(\"hotel_id\")>0).\\\n",
    "            filter(F.col('rate_amount').isNotNull())\n",
    "print(search_hotel_df.count())"
   ]
  },
  {
   "cell_type": "code",
   "execution_count": 4,
   "metadata": {
    "collapsed": true
   },
   "outputs": [
    {
     "name": "stdout",
     "output_type": "stream",
     "text": [
      "+--------------------+--------------------+-------------+--------------+--------+--------+------------------+--------------------+-----------+--------------------------------+---------------------------+---------------------+----------------+-------------------+--------------------+--------------------+--------------------+--------------------+--------------------+--------------------+--------------------+--------------------+--------------------+\n",
      "|          message_id|        message_date|check_in_date|check_out_date|    tuid|hotel_id|hotel_result_index|                city|star_rating|filter_want_in_policy_rates_only|filter_eligible_for_loyalty|filter_free_breakfast|filter_free_wifi|filter_free_parking|          rate_index|         rate_amount|       rate_currency|           rate_type|eligible_for_loyalty|      free_breakfast|           free_wifi|        free_parking|          refundable|\n",
      "+--------------------+--------------------+-------------+--------------+--------+--------+------------------+--------------------+-----------+--------------------------------+---------------------------+---------------------+----------------+-------------------+--------------------+--------------------+--------------------+--------------------+--------------------+--------------------+--------------------+--------------------+--------------------+\n",
      "|097cd8de-3e02-4a2...|2019-10-02 16:57:...|   2019-11-11|    2019-11-14|10234203|       5|                21|     culver city-usa|        3.0|                           false|                      false|                false|           false|              false|   0|5|2|3|7|4|1|6|8|167.4|191.1|175.8...|USD|USD|USD|USD|U...|ESRM|ESRA|ESRM|ES...|FALSE|FALSE|FALSE...|FALSE|FALSE|FALSE...|TRUE|TRUE|TRUE|TR...|FALSE|FALSE|FALSE...|FALSE|TRUE|FALSE|...|\n",
      "|55eb10bd-fadc-47c...|2019-11-06 14:18:...|   2019-11-13|    2019-11-14|18548146|       5|                11|     culver city-usa|        3.0|                           false|                      false|                false|           false|              false|   5|4|2|3|1|6|7|8|0|249.0|239.0|239.0...|USD|USD|USD|USD|U...|ESRM|GDS|ESRA|ESR...|FALSE|TRUE|FALSE|...|FALSE|FALSE|FALSE...|TRUE|TRUE|TRUE|TR...|FALSE|FALSE|FALSE...|FALSE|TRUE|TRUE|T...|\n",
      "|906b3508-db72-4fa...|2019-11-26 11:01:...|   2019-12-08|    2019-12-10|16953839|       5|                18|     culver city-usa|        3.0|                           false|                      false|                false|           false|              false|     1|0|6|2|7|3|5|4|241.47|241.47|281...|CAD|CAD|CAD|CAD|C...|ESRA|ESRM|ESRM|ES...|FALSE|FALSE|FALSE...|FALSE|FALSE|TRUE|...|TRUE|TRUE|TRUE|TR...|FALSE|FALSE|FALSE...|TRUE|TRUE|TRUE|TR...|\n",
      "|c0fe6806-eedb-478...|2019-11-20 09:52:...|   2019-12-11|    2019-12-12| 1901163|       5|                22|     culver city-usa|        3.0|                           false|                      false|                false|           false|              false|   3|5|7|4|0|6|8|2|1|239.0|249.0|259.0...|USD|USD|USD|USD|U...|ESRA|ESRA|ESRA|ES...|FALSE|FALSE|FALSE...|FALSE|TRUE|TRUE|T...|TRUE|TRUE|TRUE|TR...|FALSE|FALSE|FALSE...|TRUE|TRUE|TRUE|TR...|\n",
      "|fed6e588-3e54-498...|2019-10-07 11:19:...|   2019-10-09|    2019-10-10|13790998|       9|                13|         anaheim-usa|        4.0|                           false|                      false|                false|           false|              false|               2|0|1|   289.0|269.0|269.0|         USD|USD|USD|      ESRM|ESRM|ESRM|   FALSE|FALSE|FALSE|   FALSE|FALSE|FALSE|   FALSE|FALSE|FALSE|   FALSE|FALSE|FALSE|      TRUE|TRUE|TRUE|\n",
      "|696d26f2-cab2-4b4...|2019-10-01 15:41:...|   2019-11-06|    2019-11-07|18257498|       9|                 8|         anaheim-usa|        4.0|                           false|                      false|                false|           false|              false|         1|3|5|0|4|2|373.44|373.44|392...|USD|USD|USD|USD|U...|ESRM|ESRA|ESRM|ES...|FALSE|FALSE|FALSE...|FALSE|FALSE|FALSE...|FALSE|FALSE|FALSE...|FALSE|FALSE|FALSE...|TRUE|TRUE|TRUE|TR...|\n",
      "|13e50f2d-0e4e-48d...|2019-12-09 11:03:...|   2019-12-15|    2019-12-16|16982946|       9|                13|         anaheim-usa|        4.0|                           false|                      false|                false|           false|              false|   7|5|2|8|3|4|1|6|0|156.6|139.0|133.4...|USD|USD|USD|USD|U...|ESRM|ESRM|ESRA|ES...|FALSE|FALSE|FALSE...|TRUE|FALSE|FALSE|...|FALSE|FALSE|FALSE...|FALSE|FALSE|FALSE...|FALSE|TRUE|TRUE|F...|\n",
      "|7563ed8d-a8f2-470...|2019-10-22 18:37:...|   2019-10-22|    2019-10-23|13076704|      19|                17|       las vegas-usa|        3.0|                           false|                      false|                false|           false|              false|         2|0|1|4|3|5|47.17|38.68|40.96...|USD|USD|USD|USD|U...|EPRM|ESRM|EPRM|ES...|FALSE|FALSE|FALSE...|FALSE|FALSE|FALSE...|TRUE|TRUE|TRUE|TR...|TRUE|TRUE|TRUE|TR...|FALSE|FALSE|FALSE...|\n",
      "|b6fc33d4-1343-4c2...|2019-10-04 19:18:...|   2019-10-29|    2019-11-03|19819888|      19|                27|       las vegas-usa|        3.0|                           false|                      false|                false|           false|              false|         2|0|1|5|4|3|79.65|71.14|75.32...|USD|USD|USD|USD|U...|EPRM|ESRM|EPRM|EP...|FALSE|FALSE|FALSE...|FALSE|FALSE|FALSE...|TRUE|TRUE|TRUE|TR...|TRUE|TRUE|TRUE|TR...|TRUE|TRUE|TRUE|TR...|\n",
      "|94c7aa15-4963-43c...|2019-10-19 09:55:...|   2019-11-05|    2019-11-06|10403280|      19|                 2|       las vegas-usa|        3.0|                           false|                      false|                false|           false|              false|         1|5|0|2|3|4|125.1|206.49|118....|USD|USD|USD|USD|U...|EPRM|EPRM|ESRM|EP...|FALSE|FALSE|FALSE...|FALSE|FALSE|FALSE...|TRUE|TRUE|TRUE|TR...|TRUE|TRUE|TRUE|TR...|TRUE|TRUE|TRUE|TR...|\n",
      "|ccd4881a-d594-487...|2019-10-26 15:27:...|   2019-11-08|    2019-11-10| 2423552|      19|                26|       las vegas-usa|        3.0|                           false|                      false|                false|           false|              false|         4|0|2|5|3|1|177.0|133.45|141....|USD|USD|USD|USD|U...|ESRM|ESRM|EPRM|EP...|FALSE|FALSE|FALSE...|FALSE|FALSE|FALSE...|TRUE|TRUE|TRUE|TR...|TRUE|TRUE|TRUE|TR...|TRUE|TRUE|TRUE|TR...|\n",
      "|d1735c6a-3ad5-428...|2019-11-06 19:02:...|   2019-11-18|    2019-11-21|13688219|      19|                11|       las vegas-usa|        3.0|                           false|                      false|                false|           false|              false| 1|4|5|0|8|7|3|6|2|9|24.65|33.15|46.63...|USD|USD|USD|USD|U...|ESRM|EPRM|ESRM|ES...|FALSE|FALSE|FALSE...|FALSE|FALSE|FALSE...|TRUE|TRUE|TRUE|TR...|TRUE|TRUE|TRUE|TR...|FALSE|FALSE|FALSE...|\n",
      "|46f05349-7c4a-4a1...|2019-10-18 15:06:...|   2019-11-19|    2019-11-22|20152242|      19|                15|       las vegas-usa|        3.0|                           false|                      false|                false|           false|              false|         2|1|3|5|4|0|34.43|27.44|50.49...|USD|USD|USD|USD|U...|EPRM|EPRM|ESRM|EP...|FALSE|FALSE|FALSE...|FALSE|FALSE|FALSE...|TRUE|TRUE|TRUE|TR...|TRUE|TRUE|TRUE|TR...|TRUE|TRUE|TRUE|TR...|\n",
      "|a1b82a04-5ecc-428...|2019-12-03 06:22:...|   2019-12-03|    2019-12-05|19744306|      19|                23|       las vegas-usa|        3.0|                           false|                      false|                false|           false|              false|           3|4|2|0|1|132.07|171.53|128...| USD|USD|USD|USD|USD|ESRM|EPRM|ESRM|ES...|FALSE|FALSE|FALSE...|FALSE|FALSE|FALSE...|TRUE|TRUE|TRUE|TR...|TRUE|TRUE|TRUE|TR...|FALSE|TRUE|FALSE|...|\n",
      "|9b2fab67-6343-4c8...|2019-11-04 05:11:...|   2019-11-04|    2019-11-07|18937334|      20|                16|       green bay-usa|        3.5|                           false|                      false|                false|           false|              false|         1|2|5|4|0|3|109.33|109.33|119...|USD|USD|USD|USD|U...|ESRA|ESRA|ESRA|ES...|FALSE|FALSE|FALSE...|FALSE|FALSE|FALSE...|TRUE|TRUE|TRUE|TR...|TRUE|TRUE|TRUE|TR...|TRUE|TRUE|TRUE|TR...|\n",
      "|016c37b0-a7fe-490...|2019-11-13 09:52:...|   2019-11-13|    2019-11-14|11790976|      20|                 8|       green bay-usa|        3.5|                           false|                      false|                false|           false|              false|9|5|7|8|6|10|4|2|...|119.0|109.0|109.0...|USD|USD|USD|USD|U...|ESRM|ESRM|GDS|GDS...|FALSE|FALSE|TRUE|...|FALSE|FALSE|FALSE...|TRUE|TRUE|TRUE|TR...|TRUE|TRUE|TRUE|TR...|FALSE|FALSE|TRUE|...|\n",
      "|8fb7f1b2-1b6e-4cb...|2019-11-03 22:23:...|   2019-11-17|    2019-11-23| 9052857|      20|                11|       green bay-usa|        3.5|                           false|                      false|                false|           false|              false|             2|1|0|3|123.1|123.1|112.7...|     EUR|EUR|EUR|EUR| ESRA|ESRA|ESRA|ESRA|FALSE|FALSE|FALSE...|FALSE|FALSE|FALSE...| TRUE|TRUE|TRUE|TRUE| TRUE|TRUE|TRUE|TRUE| TRUE|TRUE|TRUE|TRUE|\n",
      "|8da4c5fd-2c12-4cb...|2019-12-29 09:22:...|   2020-01-06|    2020-01-09|15165405|      20|                23|       green bay-usa|        3.5|                           false|                      false|                false|           false|              false|1|7|11|9|2|10|3|8...|99.0|170.1|189.0|...|USD|USD|USD|USD|U...|ESRM|EPRM|ESRA|ES...|FALSE|TRUE|FALSE|...|FALSE|TRUE|FALSE|...|TRUE|TRUE|TRUE|TR...|TRUE|TRUE|TRUE|TR...|TRUE|TRUE|TRUE|TR...|\n",
      "|5c4483a7-e86b-4de...|2019-12-28 05:19:...|   2020-01-10|    2020-01-11|11844372|      20|                 7|       green bay-usa|        3.5|                           false|                      false|                false|           false|              false|3|11|4|0|7|2|10|9...|152.1|169.0|152.1...|USD|USD|USD|USD|U...|EPRM|GDS|EPRM|ESR...|TRUE|TRUE|TRUE|FA...|TRUE|FALSE|TRUE|F...|TRUE|TRUE|TRUE|TR...|TRUE|TRUE|TRUE|TR...|TRUE|TRUE|TRUE|FA...|\n",
      "|d1899bf7-1b9d-48c...|2019-10-29 21:01:...|   2019-11-05|    2019-11-06| 1304673|      31|                 5|       arlington-usa|        2.0|                           false|                      false|                false|           false|              false|           3|2|0|1|4|99.95|99.95|92.36...| USD|USD|USD|USD|USD|ESRA|ESRM|ESRM|ES...|FALSE|FALSE|FALSE...|TRUE|TRUE|TRUE|TR...|TRUE|TRUE|TRUE|TR...|TRUE|TRUE|TRUE|TR...|TRUE|TRUE|FALSE|T...|\n",
      "|3cb6a9ce-0314-4f2...|2019-10-07 18:04:...|   2019-10-21|    2019-10-22|14206102|      33|                28|     bentonville-usa|        2.0|                           false|                      false|                false|           false|              false|2|4|6|5|10|8|1|9|...|49.0|49.0|49.0|49...|USD|USD|USD|USD|U...|ESRM|GDS|GDS|GDS|...|FALSE|TRUE|TRUE|T...|TRUE|TRUE|TRUE|TR...|TRUE|TRUE|TRUE|TR...|TRUE|TRUE|TRUE|TR...|TRUE|TRUE|TRUE|TR...|\n",
      "|16c510d6-9474-4a3...|2019-11-20 13:12:...|   2020-01-22|    2020-01-23| 6801278|      33|                28|     bentonville-usa|        2.0|                           false|                      false|                false|           false|              false| 9|7|2|8|3|6|0|1|5|4|89.99|69.99|59.99...|USD|USD|USD|USD|U...|ESRA|ESRA|EPRA|ES...|FALSE|FALSE|TRUE|...|TRUE|TRUE|TRUE|TR...|TRUE|TRUE|TRUE|TR...|TRUE|TRUE|TRUE|TR...|TRUE|TRUE|TRUE|TR...|\n",
      "|eba93e67-5f13-4e0...|2019-10-15 10:53:...|   2019-10-22|    2019-10-23|13989782|      36|                16|       pensacola-usa|        2.5|                           false|                      false|                false|           false|              false|8|0|9|4|3|10|6|7|...|109.0|99.0|109.0|...|USD|USD|USD|USD|U...|EPRM|EPRM|ESRM|EP...|TRUE|TRUE|FALSE|T...|TRUE|TRUE|TRUE|TR...|TRUE|TRUE|TRUE|TR...|TRUE|TRUE|TRUE|TR...|TRUE|TRUE|TRUE|TR...|\n",
      "|58d62948-8c3e-4dc...|2019-11-11 13:24:...|   2019-11-18|    2019-11-22|10614446|      36|                10|       pensacola-usa|        2.5|                           false|                      false|                false|           false|              false|8|5|7|4|3|1|6|0|1...|94.0|88.4|94.0|88...|USD|USD|USD|USD|U...|EPRA|ESRA|EPRM|ES...|TRUE|FALSE|TRUE|F...|TRUE|TRUE|TRUE|TR...|TRUE|TRUE|TRUE|TR...|TRUE|TRUE|TRUE|TR...|TRUE|TRUE|FALSE|F...|\n",
      "|a96a28b3-2794-45b...|2019-10-02 03:40:...|   2019-10-09|    2019-10-10| 4252995|      37|                18|ramonville-saint-...|        3.0|                           false|                      false|                false|           false|              false|     2|4|7|1|5|3|6|0|95.0|97.76|97.76|...|EUR|EUR|EUR|EUR|E...|ESRA|EPRM|ESRM|EP...|FALSE|TRUE|FALSE|...|FALSE|FALSE|FALSE...|TRUE|TRUE|TRUE|TR...|TRUE|TRUE|TRUE|TR...|TRUE|TRUE|TRUE|TR...|\n",
      "|a0cf4216-80ee-461...|2019-10-30 06:47:...|   2019-11-05|    2019-11-06| 5375592|      37|                 2|ramonville-saint-...|        3.0|                           false|                      false|                false|           false|              false|           4|0|1|2|3|97.89|95.0|95.0|9...| EUR|EUR|EUR|EUR|EUR|EPRM|EPRA|EPRA|GD...|TRUE|TRUE|TRUE|TR...|FALSE|FALSE|FALSE...|TRUE|TRUE|TRUE|TR...|TRUE|TRUE|TRUE|TR...|TRUE|TRUE|TRUE|TR...|\n",
      "|ac0bb8d9-2069-493...|2019-12-07 06:38:...|   2019-12-18|    2019-12-19|19335602|      37|                 4|ramonville-saint-...|        3.0|                           false|                      false|                false|           false|              false|           0|1|2|4|3|62.0|62.0|62.98|6...| EUR|EUR|EUR|EUR|EUR|EPRA|EPRA|GDS|EPR...|TRUE|TRUE|TRUE|TR...|FALSE|FALSE|FALSE...|TRUE|TRUE|TRUE|TR...|TRUE|TRUE|TRUE|TR...|TRUE|TRUE|TRUE|TR...|\n",
      "|3585281f-4153-4cf...|2019-10-28 17:54:...|   2019-11-04|    2019-11-05|10180242|      39|                 5|   richmond hill-can|        2.5|                           false|                      false|                false|           false|              false|         4|3|0|2|1|5|92.36|92.36|92.35...|USD|USD|USD|USD|U...|EPRA|EPRA|EPRM|EP...|TRUE|TRUE|TRUE|TR...|TRUE|TRUE|TRUE|TR...|TRUE|TRUE|TRUE|TR...|TRUE|TRUE|TRUE|TR...|TRUE|TRUE|TRUE|TR...|\n",
      "|2e10032b-5260-43d...|2019-11-25 06:14:...|   2019-12-16|    2019-12-18|16054578|      39|                13|   richmond hill-can|        2.5|                           false|                      false|                false|           false|              false|   5|7|6|4|3|0|8|2|1|87.29|87.29|87.29...|USD|USD|USD|USD|U...|EPRA|EPRA|EPRM|EP...|TRUE|TRUE|TRUE|TR...|TRUE|TRUE|TRUE|TR...|TRUE|TRUE|TRUE|TR...|TRUE|TRUE|TRUE|TR...|TRUE|TRUE|TRUE|TR...|\n",
      "|3dd7d20b-871e-48a...|2019-10-30 18:43:...|   2019-11-12|    2019-11-17|15597470|      44|                28|     los angeles-usa|        2.5|                           false|                      false|                false|           false|              false|   7|5|0|6|4|2|8|1|3|191.71|173.35|165...|USD|USD|USD|USD|U...|EPRM|EPRA|ESRM|ES...|TRUE|TRUE|FALSE|F...|TRUE|TRUE|TRUE|TR...|TRUE|TRUE|TRUE|TR...|FALSE|FALSE|FALSE...|TRUE|TRUE|FALSE|F...|\n",
      "|902bf55b-645b-401...|2019-11-11 15:23:...|   2019-11-11|    2019-11-12|19974743|      47|                 5|      morgantown-usa|        3.0|                           false|                      false|                false|           false|              false|   1|8|3|6|2|4|7|5|0|109.0|134.0|109.0...|USD|USD|USD|USD|U...|ESRM|ESRM|GDS|ESR...|FALSE|FALSE|TRUE|...|FALSE|TRUE|FALSE|...|TRUE|TRUE|TRUE|TR...|TRUE|TRUE|TRUE|TR...|FALSE|FALSE|TRUE|...|\n",
      "|73ed5e99-4c7f-460...|2019-11-20 02:36:...|   2019-12-15|    2019-12-18|20066471|      47|                12|      morgantown-usa|        3.0|                           false|                      false|                false|           false|              false|   7|1|3|8|5|4|6|2|0|124.13|92.87|109....|EUR|EUR|EUR|EUR|E...|ESRM|ESRM|ESRA|ES...|FALSE|FALSE|FALSE...|TRUE|FALSE|FALSE|...|TRUE|TRUE|TRUE|TR...|TRUE|TRUE|TRUE|TR...|TRUE|FALSE|TRUE|T...|\n",
      "|d2c9c794-1539-4a8...|2019-10-18 10:24:...|   2019-11-04|    2019-11-07|10526804|      50|                14|  salt lake city-usa|        3.5|                           false|                      false|                false|           false|              false|11|8|10|6|5|9|0|1...|106.0|93.52|104.6...|USD|USD|USD|USD|U...|EPRM|ESRA|EPRM|ES...|TRUE|FALSE|TRUE|F...|TRUE|FALSE|TRUE|F...|TRUE|TRUE|TRUE|TR...|TRUE|TRUE|TRUE|TR...|TRUE|TRUE|TRUE|TR...|\n",
      "|b6c20c81-8ebf-42c...|2019-11-11 16:25:...|   2019-11-11|    2019-11-15| 8222897|      50|                18|  salt lake city-usa|        3.5|                           false|                      false|                false|           false|              false|3|13|11|1|12|8|9|...|90.19|108.68|108....|USD|USD|USD|USD|U...|ESRM|EPRM|EPRM|ES...|FALSE|TRUE|TRUE|F...|FALSE|TRUE|TRUE|F...|TRUE|TRUE|TRUE|TR...|TRUE|TRUE|TRUE|TR...|FALSE|FALSE|FALSE...|\n",
      "|ed65c9ef-9bdb-4b6...|2019-10-28 10:20:...|   2019-11-18|    2019-11-20|13352789|      50|                 7|  salt lake city-usa|        3.5|                           false|                      false|                false|           false|              false|2|10|6|8|5|3|11|1...|81.4|102.6|102.6|...|USD|USD|USD|USD|U...|ESRM|EPRM|EPRM|EP...|FALSE|TRUE|TRUE|T...|FALSE|TRUE|TRUE|T...|TRUE|TRUE|TRUE|TR...|TRUE|TRUE|TRUE|TR...|FALSE|TRUE|TRUE|T...|\n",
      "|2c640a41-3f45-4ab...|2019-11-27 17:30:...|   2019-12-04|    2019-12-05|20884919|      50|                 3|  salt lake city-usa|        3.5|                            true|                      false|                false|           false|              false|               2|0|1|159.28|104.72|112.64|         USD|USD|USD|      ESRM|ESRM|ESRM|   FALSE|FALSE|FALSE|   FALSE|FALSE|FALSE|      TRUE|TRUE|TRUE|      TRUE|TRUE|TRUE|      TRUE|TRUE|TRUE|\n",
      "|a0c2f347-2349-4a7...|2019-10-07 03:05:...|   2019-12-08|    2019-12-09|12040611|      50|                11|  salt lake city-usa|        3.5|                           false|                      false|                false|           false|              false|8|4|3|14|7|6|9|13...|85.06|83.24|76.99...|GBP|GBP|GBP|GBP|G...|ESRM|ESRA|EPRM|ES...|FALSE|FALSE|TRUE|...|FALSE|FALSE|TRUE|...|TRUE|TRUE|TRUE|TR...|TRUE|TRUE|TRUE|TR...|TRUE|TRUE|TRUE|TR...|\n",
      "|fd798dad-59e2-402...|2019-12-17 13:12:...|   2019-12-17|    2019-12-21| 9022827|      50|                 7|  salt lake city-usa|        3.5|                           false|                      false|                false|           false|              false|5|4|0|6|8|9|3|1|2...|80.63|81.27|81.27...|USD|USD|USD|USD|U...|ESRM|EPRM|EPRM|ES...|FALSE|TRUE|TRUE|F...|FALSE|TRUE|TRUE|F...|TRUE|TRUE|TRUE|TR...|TRUE|TRUE|TRUE|TR...|FALSE|TRUE|TRUE|F...|\n",
      "|26c3ccab-2651-4f7...|2019-12-19 13:38:...|   2020-02-05|    2020-02-13| 6289894|      50|                20|  salt lake city-usa|        3.5|                           false|                      false|                false|           false|              false|3|1|5|12|4|0|13|7...|84.19|81.08|84.86...|USD|USD|USD|USD|U...|ESRM|EPRM|EPRM|ES...|FALSE|TRUE|TRUE|F...|FALSE|TRUE|TRUE|F...|TRUE|TRUE|TRUE|TR...|TRUE|TRUE|TRUE|TR...|FALSE|TRUE|TRUE|T...|\n",
      "|f5d8a9c5-abf2-4d2...|2019-10-16 17:08:...|   2019-10-16|    2019-10-17|17887001|      51|                 6|    college park-usa|        2.5|                           false|                      false|                false|           false|              false|10|1|8|2|9|3|11|7...|358.2|93.6|130.0|...|USD|USD|USD|USD|U...|EPRM|EPRM|ESRM|ES...|TRUE|TRUE|FALSE|F...|TRUE|TRUE|TRUE|TR...|TRUE|TRUE|TRUE|TR...|TRUE|TRUE|TRUE|TR...|FALSE|FALSE|FALSE...|\n",
      "|423819f2-37a8-451...|2019-11-20 03:30:...|   2019-11-21|    2019-11-22| 5738117|      51|                13|    college park-usa|        2.5|                           false|                      false|                false|           false|              false|14|6|8|1|11|7|9|3...|98.88|78.96|82.17...|EUR|EUR|EUR|EUR|E...|ESRM|ESRA|ESRM|EP...|FALSE|FALSE|FALSE...|TRUE|TRUE|TRUE|TR...|TRUE|TRUE|TRUE|TR...|TRUE|TRUE|TRUE|TR...|TRUE|TRUE|TRUE|TR...|\n",
      "|7e2733ba-5322-419...|2019-10-25 00:58:...|   2019-10-31|    2019-11-01| 3817189|      52|                13|        toulouse-fra|        3.0|                           false|                      false|                false|           false|              false|                 1|0|           92.0|89.0|             EUR|EUR|           ESRM|ESRA|         FALSE|FALSE|           TRUE|TRUE|           TRUE|TRUE|         FALSE|FALSE|           TRUE|TRUE|\n",
      "|1de06f32-8355-456...|2019-11-17 03:46:...|   2019-12-03|    2019-12-05|17662438|      52|                22|        toulouse-fra|        3.0|                           false|                      false|                false|           false|              false|                 1|0|          85.59|82.8|             EUR|EUR|           ESRM|ESRA|         FALSE|FALSE|           TRUE|TRUE|           TRUE|TRUE|         FALSE|FALSE|           TRUE|TRUE|\n",
      "|4ec9a440-57e0-424...|2019-11-18 05:06:...|   2020-01-19|    2020-01-22| 9570839|      52|                 8|        toulouse-fra|        3.0|                           false|                      false|                false|           false|              false|                 0|1|       737.63|737.64|             NOK|NOK|           ESRM|ESRA|         FALSE|FALSE|           TRUE|TRUE|           TRUE|TRUE|         FALSE|FALSE|           TRUE|TRUE|\n",
      "|22e58b94-9fca-442...|2019-10-05 07:19:...|   2019-10-05|    2019-10-06|16744198|      53|                21|         norwalk-usa|        3.5|                           false|                      false|                false|           false|              false|   3|8|7|0|1|5|4|2|6|153.0|191.0|187.0...|USD|USD|USD|USD|U...|GDS|ESRM|ESRM|ESR...|TRUE|FALSE|FALSE|...|FALSE|FALSE|FALSE...|FALSE|FALSE|FALSE...|TRUE|TRUE|TRUE|TR...|FALSE|FALSE|FALSE...|\n",
      "|7a16897e-1868-426...|2019-10-05 14:06:...|   2019-10-07|    2019-10-11|19280820|      53|                24|         norwalk-usa|        3.5|                           false|                      false|                false|           false|              false|               0|2|1|   174.0|211.0|191.0|         USD|USD|USD|      ESRM|ESRM|ESRM|   FALSE|FALSE|FALSE|   FALSE|FALSE|FALSE|   FALSE|FALSE|FALSE|      TRUE|TRUE|TRUE|      TRUE|TRUE|TRUE|\n",
      "|03798d27-a3bc-41f...|2019-10-07 17:55:...|   2019-10-09|    2019-10-10|15718979|      53|                23|         norwalk-usa|        3.5|                           false|                      false|                false|           false|              false|         4|0|2|5|3|1|201.0|184.0|184.0...|USD|USD|USD|USD|U...|ESRM|ESRM|ESRA|ES...|FALSE|FALSE|FALSE...|FALSE|FALSE|FALSE...|FALSE|FALSE|FALSE...|TRUE|TRUE|TRUE|TR...|TRUE|TRUE|TRUE|TR...|\n",
      "|da838ee6-14b6-4ae...|2019-10-05 08:42:...|   2019-10-10|    2019-10-11|19297446|      53|                15|         norwalk-usa|        3.5|                           false|                      false|                false|           false|              false|   5|1|8|0|3|7|4|6|2|167.68|167.43|174...|EUR|EUR|EUR|EUR|E...|ESRM|ESRM|ESRM|ES...|FALSE|FALSE|FALSE...|FALSE|FALSE|FALSE...|FALSE|FALSE|FALSE...|TRUE|TRUE|TRUE|TR...|TRUE|TRUE|TRUE|TR...|\n",
      "|67b76cdf-0976-47f...|2019-10-28 18:08:...|   2019-11-03|    2019-11-07|19905672|      53|                23|         norwalk-usa|        3.5|                           false|                      false|                false|           false|              false|   7|3|8|1|2|0|4|6|5|179.52|153.0|187....|USD|USD|USD|USD|U...|ESRA|ESRM|ESRM|ES...|FALSE|FALSE|FALSE...|FALSE|FALSE|FALSE...|FALSE|FALSE|FALSE...|TRUE|TRUE|TRUE|TR...|TRUE|TRUE|TRUE|TR...|\n",
      "|a9978e88-0fe5-453...|2019-11-09 16:54:...|   2019-11-09|    2019-11-10|10079532|      53|                 3|         norwalk-usa|        3.5|                            true|                      false|                false|           false|              false|             0|3|1|2|174.0|208.0|191.0...|     USD|USD|USD|USD| ESRM|ESRM|ESRM|ESRM|FALSE|FALSE|FALSE...|FALSE|FALSE|FALSE...|FALSE|FALSE|FALSE...| TRUE|TRUE|TRUE|TRUE|FALSE|FALSE|FALSE...|\n",
      "+--------------------+--------------------+-------------+--------------+--------+--------+------------------+--------------------+-----------+--------------------------------+---------------------------+---------------------+----------------+-------------------+--------------------+--------------------+--------------------+--------------------+--------------------+--------------------+--------------------+--------------------+--------------------+\n",
      "only showing top 50 rows"
     ]
    }
   ],
   "source": [
    "search_hotel_df.show(50)"
   ]
  },
  {
   "cell_type": "code",
   "execution_count": 3,
   "metadata": {},
   "outputs": [],
   "source": [
    "# expode rate amentities for each hotel\n",
    "combine = F.udf(lambda x1,x2,x3,x4,x5,x6,x7,x8,x9: list(zip(x1,x2,x3,x4,x5,x6,x7,x8,x9)),             \n",
    "              T.ArrayType(T.StructType([T.StructField(\"rate_index_a\", T.StringType()),                                      #1\n",
    "                                    T.StructField(\"rate_amount_a\", T.StringType()),                                         #2\n",
    "                                    T.StructField(\"rate_currency_a\", T.StringType()),                                   #3\n",
    "                                    T.StructField(\"rate_type_a\", T.StringType()),                                       #4\n",
    "                                   # T.StructField(\"hot_mip_rate_a\", T.StringType()),                                       #4\n",
    "                                    T.StructField(\"eligible_for_loyalty_a\", T.StringType()),                            #7\n",
    "                                    T.StructField(\"free_breakfast_a\", T.StringType()),                                  #8\n",
    "                                    T.StructField(\"free_wifi_a\", T.StringType()),                                       #9\n",
    "                                    T.StructField(\"free_parking_a\", T.StringType()),                                    #10\n",
    "                                    T.StructField(\"refundable_a\", T.StringType()),                                    #10\n",
    "                                    ])))\n",
    "\n",
    "search_df1= search_hotel_df.\\\n",
    "    withColumn(\"rate_index_a\", F.split(F.col(\"rate_index\"),\"\\|\")).\\\n",
    "    withColumn(\"rate_amount_a\", F.split(F.col(\"rate_amount\"),\"\\|\")).\\\n",
    "    withColumn(\"rate_currency_a\", F.split(F.col(\"rate_currency\"),\"\\|\")).\\\n",
    "    withColumn(\"rate_type_a\", F.split(F.col(\"rate_type\"),\"\\|\")).\\\n",
    "    withColumn(\"eligible_for_loyalty_a\", F.split(F.col(\"eligible_for_loyalty\"),\"\\|\")).\\\n",
    "    withColumn(\"free_breakfast_a\", F.split(F.col(\"free_breakfast\"),\"\\|\")).\\\n",
    "    withColumn(\"free_wifi_a\", F.split(F.col(\"free_wifi\"),\"\\|\")).\\\n",
    "    withColumn(\"free_parking_a\", F.split(F.col(\"free_parking\"),\"\\|\")).\\\n",
    "    withColumn(\"refundable_a\", F.split(F.col(\"refundable\"),\"\\|\")).\\\n",
    "    withColumn(\"e\", combine(\"rate_index_a\", \"rate_amount_a\",\"rate_currency_a\",\"rate_type_a\",\\\n",
    "                \"eligible_for_loyalty_a\",\"free_breakfast_a\",\"free_wifi_a\",\"free_parking_a\",\"refundable_a\")).\\\n",
    "    withColumn(\"e\",F.explode(\"e\")).\\\n",
    "    select(\"message_id\",\"message_date\",\"check_in_date\",\"check_out_date\",\"hotel_id\",\"hotel_result_index\",\"tuid\",\"city\",\"star_rating\", \"filter_want_in_policy_rates_only\",\\\n",
    "            \"filter_eligible_for_loyalty\", \"filter_free_breakfast\", \"filter_free_wifi\", \"filter_free_parking\",\\\n",
    "        F.col(\"e.rate_index_a\").alias(\"rate_index\"),\\\n",
    "        F.col(\"e.rate_amount_a\").alias(\"rate_amount\"),\\\n",
    "        F.col(\"e.rate_currency_a\").alias(\"rate_currency\"),\\\n",
    "        F.col(\"e.rate_type_a\").alias(\"rate_type\"),\\\n",
    "        F.col(\"e.eligible_for_loyalty_a\").alias(\"eligible_for_loyalty\"),\\\n",
    "        F.col(\"e.free_breakfast_a\").alias(\"free_breakfast\"),\\\n",
    "        F.col(\"e.free_wifi_a\").alias(\"free_wifi\"),\\\n",
    "        F.col(\"e.free_parking_a\").alias(\"free_parking\"),\\\n",
    "        F.col(\"e.refundable_a\").alias(\"refundable\"))"
   ]
  },
  {
   "cell_type": "code",
   "execution_count": 6,
   "metadata": {},
   "outputs": [],
   "source": [
    "# convert column types\n",
    "search_df1 = search_df1.\\\n",
    "            withColumn(\"rate_index\", search_df1.rate_index.cast(\"integer\")).\\\n",
    "            withColumn(\"rate_amount\", search_df1.rate_amount.cast(\"float\")).\\\n",
    "            withColumn(\"eligible_for_loyalty\", search_df1.eligible_for_loyalty.cast(\"boolean\")).\\\n",
    "            withColumn(\"free_breakfast\", search_df1.free_breakfast.cast(\"boolean\")).\\\n",
    "            withColumn(\"free_wifi\", search_df1.free_wifi.cast(\"boolean\")).\\\n",
    "            withColumn(\"free_parking\", search_df1.free_parking.cast(\"boolean\")).\\\n",
    "            withColumn(\"refundable\", search_df1.refundable.cast(\"boolean\"))"
   ]
  },
  {
   "cell_type": "code",
   "execution_count": 7,
   "metadata": {},
   "outputs": [
    {
     "name": "stdout",
     "output_type": "stream",
     "text": [
      "504487549"
     ]
    }
   ],
   "source": [
    "search_df1.count()"
   ]
  },
  {
   "cell_type": "code",
   "execution_count": 10,
   "metadata": {},
   "outputs": [],
   "source": [
    "# save rate level amentity df\n",
    "dir = 's3://ege-ds-workshops-corp/yixli/data_preparation/'\n",
    "\n",
    "datestamp = datetime.datetime.now().strftime('%m-%d-%Y')\n",
    "search_df1.repartition(1).write.mode('overwrite').parquet(dir+'rate_amentity_2019')"
   ]
  },
  {
   "cell_type": "code",
   "execution_count": 8,
   "metadata": {
    "scrolled": true
   },
   "outputs": [],
   "source": [
    "search_df1 = sqlContext.read.parquet('s3://ege-ds-workshops-corp/yixli/data_preparation/rate_amentity_2019')"
   ]
  },
  {
   "cell_type": "code",
   "execution_count": 13,
   "metadata": {
    "collapsed": true
   },
   "outputs": [
    {
     "name": "stdout",
     "output_type": "stream",
     "text": [
      "+--------------------+--------------------+-------------+--------------+--------+------------------+--------+---------------+-----------+--------------------------------+---------------------------+---------------------+----------------+-------------------+----------+-----------+-------------+---------+--------------------+--------------+---------+------------+----------+\n",
      "|          message_id|        message_date|check_in_date|check_out_date|hotel_id|hotel_result_index|    tuid|           city|star_rating|filter_want_in_policy_rates_only|filter_eligible_for_loyalty|filter_free_breakfast|filter_free_wifi|filter_free_parking|rate_index|rate_amount|rate_currency|rate_type|eligible_for_loyalty|free_breakfast|free_wifi|free_parking|refundable|\n",
      "+--------------------+--------------------+-------------+--------------+--------+------------------+--------+---------------+-----------+--------------------------------+---------------------------+---------------------+----------------+-------------------+----------+-----------+-------------+---------+--------------------+--------------+---------+------------+----------+\n",
      "|097cd8de-3e02-4a2...|2019-10-02 16:57:...|   2019-11-11|    2019-11-14|       5|                21|10234203|culver city-usa|        3.0|                           false|                      false|                false|           false|              false|         0|      167.4|          USD|     ESRM|               false|         false|     true|       false|     false|\n",
      "|097cd8de-3e02-4a2...|2019-10-02 16:57:...|   2019-11-11|    2019-11-14|       5|                21|10234203|culver city-usa|        3.0|                           false|                      false|                false|           false|              false|         5|      191.1|          USD|     ESRA|               false|         false|     true|       false|      true|\n",
      "|097cd8de-3e02-4a2...|2019-10-02 16:57:...|   2019-11-11|    2019-11-14|       5|                21|10234203|culver city-usa|        3.0|                           false|                      false|                false|           false|              false|         2|      175.8|          USD|     ESRM|               false|         false|     true|       false|     false|\n",
      "|097cd8de-3e02-4a2...|2019-10-02 16:57:...|   2019-11-11|    2019-11-14|       5|                21|10234203|culver city-usa|        3.0|                           false|                      false|                false|           false|              false|         3|      182.1|          USD|     ESRA|               false|         false|     true|       false|      true|\n",
      "|097cd8de-3e02-4a2...|2019-10-02 16:57:...|   2019-11-11|    2019-11-14|       5|                21|10234203|culver city-usa|        3.0|                           false|                      false|                false|           false|              false|         7|      209.1|          USD|     ESRM|               false|          true|     true|       false|      true|\n",
      "|097cd8de-3e02-4a2...|2019-10-02 16:57:...|   2019-11-11|    2019-11-14|       5|                21|10234203|culver city-usa|        3.0|                           false|                      false|                false|           false|              false|         4|      182.1|          USD|     ESRA|               false|         false|     true|       false|      true|\n",
      "|097cd8de-3e02-4a2...|2019-10-02 16:57:...|   2019-11-11|    2019-11-14|       5|                21|10234203|culver city-usa|        3.0|                           false|                      false|                false|           false|              false|         1|      167.4|          USD|     ESRM|               false|         false|     true|       false|     false|\n",
      "|097cd8de-3e02-4a2...|2019-10-02 16:57:...|   2019-11-11|    2019-11-14|       5|                21|10234203|culver city-usa|        3.0|                           false|                      false|                false|           false|              false|         6|      200.1|          USD|     ESRM|               false|          true|     true|       false|      true|\n",
      "|097cd8de-3e02-4a2...|2019-10-02 16:57:...|   2019-11-11|    2019-11-14|       5|                21|10234203|culver city-usa|        3.0|                           false|                      false|                false|           false|              false|         8|      290.1|          USD|     ESRM|               false|          true|     true|       false|      true|\n",
      "|55eb10bd-fadc-47c...|2019-11-06 14:18:...|   2019-11-13|    2019-11-14|       5|                11|18548146|culver city-usa|        3.0|                           false|                      false|                false|           false|              false|         5|      249.0|          USD|     ESRM|               false|         false|     true|       false|     false|\n",
      "|55eb10bd-fadc-47c...|2019-11-06 14:18:...|   2019-11-13|    2019-11-14|       5|                11|18548146|culver city-usa|        3.0|                           false|                      false|                false|           false|              false|         4|      239.0|          USD|      GDS|                true|         false|     true|       false|      true|\n",
      "|55eb10bd-fadc-47c...|2019-11-06 14:18:...|   2019-11-13|    2019-11-14|       5|                11|18548146|culver city-usa|        3.0|                           false|                      false|                false|           false|              false|         2|      239.0|          USD|     ESRA|               false|         false|     true|       false|      true|\n",
      "|55eb10bd-fadc-47c...|2019-11-06 14:18:...|   2019-11-13|    2019-11-14|       5|                11|18548146|culver city-usa|        3.0|                           false|                      false|                false|           false|              false|         3|      239.0|          USD|     ESRA|               false|         false|     true|       false|      true|\n",
      "|55eb10bd-fadc-47c...|2019-11-06 14:18:...|   2019-11-13|    2019-11-14|       5|                11|18548146|culver city-usa|        3.0|                           false|                      false|                false|           false|              false|         1|      239.0|          USD|     ESRM|               false|         false|     true|       false|     false|\n",
      "|55eb10bd-fadc-47c...|2019-11-06 14:18:...|   2019-11-13|    2019-11-14|       5|                11|18548146|culver city-usa|        3.0|                           false|                      false|                false|           false|              false|         6|      259.0|          USD|     ESRM|               false|          true|     true|       false|      true|\n",
      "|55eb10bd-fadc-47c...|2019-11-06 14:18:...|   2019-11-13|    2019-11-14|       5|                11|18548146|culver city-usa|        3.0|                           false|                      false|                false|           false|              false|         7|      269.0|          USD|     ESRM|               false|          true|     true|       false|      true|\n",
      "|55eb10bd-fadc-47c...|2019-11-06 14:18:...|   2019-11-13|    2019-11-14|       5|                11|18548146|culver city-usa|        3.0|                           false|                      false|                false|           false|              false|         8|      359.0|          USD|     ESRM|               false|          true|     true|       false|      true|\n",
      "|55eb10bd-fadc-47c...|2019-11-06 14:18:...|   2019-11-13|    2019-11-14|       5|                11|18548146|culver city-usa|        3.0|                           false|                      false|                false|           false|              false|         0|      239.0|          USD|     ESRM|               false|         false|     true|       false|     false|\n",
      "|906b3508-db72-4fa...|2019-11-26 11:01:...|   2019-12-08|    2019-12-10|       5|                18|16953839|culver city-usa|        3.0|                           false|                      false|                false|           false|              false|         1|     241.47|          CAD|     ESRA|               false|         false|     true|       false|      true|\n",
      "|906b3508-db72-4fa...|2019-11-26 11:01:...|   2019-12-08|    2019-12-10|       5|                18|16953839|culver city-usa|        3.0|                           false|                      false|                false|           false|              false|         0|     241.47|          CAD|     ESRM|               false|         false|     true|       false|      true|\n",
      "+--------------------+--------------------+-------------+--------------+--------+------------------+--------+---------------+-----------+--------------------------------+---------------------------+---------------------+----------------+-------------------+----------+-----------+-------------+---------+--------------------+--------------+---------+------------+----------+\n",
      "only showing top 20 rows"
     ]
    }
   ],
   "source": [
    "search_df1.show()"
   ]
  },
  {
   "cell_type": "markdown",
   "metadata": {},
   "source": [
    "### 4.2 Expode rate commission"
   ]
  },
  {
   "cell_type": "code",
   "execution_count": 14,
   "metadata": {},
   "outputs": [
    {
     "name": "stdout",
     "output_type": "stream",
     "text": [
      "Collecting search the data...\n",
      "75669163"
     ]
    }
   ],
   "source": [
    "# read rate commission df\n",
    "search_schema = T.StructType([\n",
    "    T.StructField(\"message_id\", T.StringType(), True),                  #1\n",
    "    T.StructField(\"message_date\", T.TimestampType(), True),             #2\n",
    "    T.StructField(\"check_in_date\", T.DateType(), True),                 #3\n",
    "    T.StructField(\"check_out_date\", T.DateType(), True),                #4\n",
    "    T.StructField(\"tuid\", T.IntegerType(), True),                       #5\n",
    "    T.StructField(\"hotel_id\", T.IntegerType(), True),                   #6 \n",
    "    T.StructField(\"hotel_result_index\", T.IntegerType(), True),         #7\n",
    "    T.StructField(\"rate_index\", T.StringType(), True),                 #8 \n",
    "    T.StructField(\"commission_base\", T.StringType(), True),              #12\n",
    "    T.StructField(\"commission_tax\", T.StringType(), True),               #14\n",
    "    T.StructField(\"commission_currency\", T.StringType(), True)          #16\n",
    "])\n",
    "\n",
    "file_loc = \"s3://ege-ds-workshops-corp/yixli/data_preparation/last_src_commission_2019_pl.csv\"\n",
    "print(\"Collecting search the data...\")\n",
    "search_commission_df = sqlContext.read.format('csv').\\\n",
    "            options(header='false', inferSchema='false', delimiter=',').\\\n",
    "            schema(search_schema).load(file_loc)\n",
    "\n",
    "# load_date between '20191001' and '20200101'\n",
    "\n",
    "search_commission_df = search_commission_df.\\\n",
    "            filter(F.col(\"hotel_id\")>0)\n",
    "print(search_commission_df.count())"
   ]
  },
  {
   "cell_type": "code",
   "execution_count": 15,
   "metadata": {},
   "outputs": [],
   "source": [
    "# expode rate commission for each hotel\n",
    "combine = F.udf(lambda x1,x2,x3,x4: list(zip(x1,x2,x3,x4)),             \n",
    "              T.ArrayType(T.StructType([T.StructField(\"rate_index_a\", T.StringType()),                                      #1\n",
    "                                    T.StructField(\"commission_base_a\", T.StringType()),                                         #2\n",
    "                                    T.StructField(\"commission_tax_a\", T.StringType()),                                   #3\n",
    "                                    T.StructField(\"commission_currency_a\", T.StringType())                                    \n",
    "                                    ])))\n",
    "\n",
    "search_df2= search_commission_df.\\\n",
    "    withColumn(\"rate_index_a\", F.split(F.col(\"rate_index\"),\"\\|\")).\\\n",
    "    withColumn(\"commission_base_a\", F.split(F.col(\"commission_base\"),\"\\|\")).\\\n",
    "    withColumn(\"commission_tax_a\", F.split(F.col(\"commission_tax\"),\"\\|\")).\\\n",
    "    withColumn(\"commission_currency_a\", F.split(F.col(\"commission_currency\"),\"\\|\")).\\\n",
    "    withColumn(\"e\", combine(\"rate_index_a\", \"commission_base_a\",\"commission_tax_a\",\"commission_currency_a\")).\\\n",
    "    withColumn(\"e\",F.explode(\"e\")).\\\n",
    "    select(\"message_id\",\"check_in_date\",\"check_out_date\",\"hotel_id\",\"tuid\",\\\n",
    "        F.col(\"e.rate_index_a\").alias(\"rate_index\"),\\\n",
    "        F.col(\"e.commission_base_a\").alias(\"commission_base\"),\\\n",
    "        F.col(\"e.commission_tax_a\").alias(\"commission_tax\"),\\\n",
    "        F.col(\"e.commission_currency_a\").alias(\"commission_currency\"))"
   ]
  },
  {
   "cell_type": "code",
   "execution_count": 17,
   "metadata": {},
   "outputs": [],
   "source": [
    "# convert column types\n",
    "search_df2 = search_df2.\\\n",
    "            withColumn(\"rate_index\", search_df2.rate_index.cast(\"integer\")).\\\n",
    "            withColumn(\"commission_base\", search_df2.commission_base.cast(\"float\")).\\\n",
    "             withColumn(\"commission_tax\", search_df2.commission_tax.cast(\"float\"))\n",
    "          "
   ]
  },
  {
   "cell_type": "code",
   "execution_count": 18,
   "metadata": {},
   "outputs": [
    {
     "name": "stdout",
     "output_type": "stream",
     "text": [
      "508210906"
     ]
    }
   ],
   "source": [
    "search_df2.count()"
   ]
  },
  {
   "cell_type": "code",
   "execution_count": 19,
   "metadata": {},
   "outputs": [],
   "source": [
    "# save rate level commission df\n",
    "dir = 's3://ege-ds-workshops-corp/yixli/data_preparation/'\n",
    "\n",
    "datestamp = datetime.datetime.now().strftime('%m-%d-%Y')\n",
    "search_df2.repartition(1).write.mode('overwrite').parquet(dir+'rate_commission_2019')"
   ]
  },
  {
   "cell_type": "code",
   "execution_count": 9,
   "metadata": {},
   "outputs": [],
   "source": [
    "search_df2 = sqlContext.read.parquet('s3://ege-ds-workshops-corp/yixli/data_preparation/rate_commission_2019')"
   ]
  },
  {
   "cell_type": "code",
   "execution_count": 22,
   "metadata": {
    "collapsed": true
   },
   "outputs": [
    {
     "name": "stdout",
     "output_type": "stream",
     "text": [
      "+--------------------+-------------+--------------+--------+--------+----------+---------------+--------------+-------------------+\n",
      "|          message_id|check_in_date|check_out_date|hotel_id|    tuid|rate_index|commission_base|commission_tax|commission_currency|\n",
      "+--------------------+-------------+--------------+--------+--------+----------+---------------+--------------+-------------------+\n",
      "|70a7986d-d662-4e5...|   2019-11-05|    2019-11-06|   12653|13172894|         0|          13.25|          5.39|                USD|\n",
      "|70a7986d-d662-4e5...|   2019-11-05|    2019-11-06|   12653|13172894|         1|          13.25|          5.39|                USD|\n",
      "|70a7986d-d662-4e5...|   2019-11-05|    2019-11-06|   12653|13172894|         2|          13.25|          5.39|                USD|\n",
      "|70a7986d-d662-4e5...|   2019-11-05|    2019-11-06|   12653|13172894|         3|          13.25|          5.39|                USD|\n",
      "|70a7986d-d662-4e5...|   2019-11-05|    2019-11-06|   12653|13172894|         4|            0.0|           0.0|                USD|\n",
      "|70a7986d-d662-4e5...|   2019-11-05|    2019-11-06|   12653|13172894|         5|            0.0|           0.0|                USD|\n",
      "|70a7986d-d662-4e5...|   2019-11-05|    2019-11-06|   12653|13172894|         6|            0.0|           0.0|                USD|\n",
      "|70a7986d-d662-4e5...|   2019-11-05|    2019-11-06|   12653|13172894|         7|          16.89|          6.87|                USD|\n",
      "|70a7986d-d662-4e5...|   2019-11-05|    2019-11-06| 2976437|13172894|         0|          17.76|          6.77|                USD|\n",
      "|70a7986d-d662-4e5...|   2019-11-05|    2019-11-06| 2976437|13172894|         1|          17.76|          6.77|                USD|\n",
      "|70a7986d-d662-4e5...|   2019-11-05|    2019-11-06| 2976437|13172894|         2|          17.76|          6.77|                USD|\n",
      "|70a7986d-d662-4e5...|   2019-11-05|    2019-11-06| 2976437|13172894|         3|          18.67|          7.12|                USD|\n",
      "|70a7986d-d662-4e5...|   2019-11-05|    2019-11-06| 2976437|13172894|         4|          19.73|          7.52|                USD|\n",
      "|70a7986d-d662-4e5...|   2019-11-05|    2019-11-06| 2976437|13172894|         5|          19.73|          7.52|                USD|\n",
      "|70a7986d-d662-4e5...|   2019-11-05|    2019-11-06| 2976437|13172894|         6|          19.73|          7.52|                USD|\n",
      "|70a7986d-d662-4e5...|   2019-11-05|    2019-11-06| 2976437|13172894|         7|          20.74|          7.91|                USD|\n",
      "|70a7986d-d662-4e5...|   2019-11-05|    2019-11-06| 2976437|13172894|         8|            0.0|           0.0|                USD|\n",
      "|70a7986d-d662-4e5...|   2019-11-05|    2019-11-06| 2976437|13172894|         9|            0.0|           0.0|                USD|\n",
      "|70a7986d-d662-4e5...|   2019-11-05|    2019-11-06| 2976437|13172894|        10|            0.0|           0.0|                USD|\n",
      "|70a7c21b-29f0-4df...|   2019-11-18|    2019-11-22|27570753| 4041154|         0|           8.19|          2.73|                EUR|\n",
      "+--------------------+-------------+--------------+--------+--------+----------+---------------+--------------+-------------------+\n",
      "only showing top 20 rows"
     ]
    }
   ],
   "source": [
    "search_df2.show()"
   ]
  },
  {
   "cell_type": "markdown",
   "metadata": {},
   "source": [
    "### 4.3 Join hotel level info back to rate data"
   ]
  },
  {
   "cell_type": "markdown",
   "metadata": {},
   "source": [
    "join hotel df with rate amentity"
   ]
  },
  {
   "cell_type": "code",
   "execution_count": 10,
   "metadata": {},
   "outputs": [],
   "source": [
    "# join hotel df with booking index and score with rate data to obtain the complete data at rate level\n",
    "# 1) join with rate amentity\n",
    "rate_df_with_bk_idx_score = hotel_df_with_bk_idx_score.select('message_id', 'tuid', 'hotel_id', 'hotel_result_index', 'hotel_index', 'bk_hotel_index', 'score_1').\\\n",
    "                    join(search_df1,\n",
    "                  ['message_id', 'tuid', 'hotel_id', 'hotel_result_index',],how='inner')\n",
    "\n",
    "# 2) join with rate commission\n",
    "rate_df_with_bk_idx_score2 = hotel_df_with_bk_idx_score.select('message_id', 'tuid', 'hotel_id', 'hotel_index', 'bk_hotel_index', 'score_1').\\\n",
    "                    join(search_df2,\n",
    "                  ['message_id', 'tuid', 'hotel_id'],how='inner')\n",
    "\n",
    "# 3) join together to obtain the complete data of rate \n",
    "rate_df_all = rate_df_with_bk_idx_score.\\\n",
    "             join(rate_df_with_bk_idx_score2.select(\"commission_base\",\"commission_tax\",\"commission_currency\",\"message_id\",\"hotel_id\",\"tuid\",\"rate_index\"),\n",
    "                  [\"message_id\",\"hotel_id\",\"tuid\",\"rate_index\"],how='inner')"
   ]
  },
  {
   "cell_type": "code",
   "execution_count": 15,
   "metadata": {},
   "outputs": [
    {
     "name": "stdout",
     "output_type": "stream",
     "text": [
      "76169602"
     ]
    }
   ],
   "source": [
    "rate_df_all.count()"
   ]
  },
  {
   "cell_type": "code",
   "execution_count": 16,
   "metadata": {},
   "outputs": [],
   "source": [
    "# save rate level df\n",
    "dir = 's3://ege-ds-workshops-corp/yixli/data_preparation/'\n",
    "rate_df_all.repartition(1).write.mode('overwrite').parquet(dir+'rate_all_2019')"
   ]
  },
  {
   "cell_type": "code",
   "execution_count": 1,
   "metadata": {},
   "outputs": [
    {
     "name": "stdout",
     "output_type": "stream",
     "text": [
      "Starting Spark application\n"
     ]
    },
    {
     "data": {
      "text/html": [
       "<table>\n",
       "<tr><th>ID</th><th>YARN Application ID</th><th>Kind</th><th>State</th><th>Spark UI</th><th>Driver log</th><th>Current session?</th></tr><tr><td>31</td><td>application_1600892099892_0032</td><td>pyspark3</td><td>idle</td><td><a target=\"_blank\" href=\"http://ip-10-40-9-71.us-west-2.compute.internal:20888/proxy/application_1600892099892_0032/\">Link</a></td><td><a target=\"_blank\" href=\"http://ip-10-40-9-21.us-west-2.compute.internal:8042/node/containerlogs/container_1600892099892_0032_01_000001/livy\">Link</a></td><td>✔</td></tr></table>"
      ],
      "text/plain": [
       "<IPython.core.display.HTML object>"
      ]
     },
     "metadata": {},
     "output_type": "display_data"
    },
    {
     "name": "stdout",
     "output_type": "stream",
     "text": [
      "SparkSession available as 'spark'.\n"
     ]
    }
   ],
   "source": [
    "rate_df_all = sqlContext.read.parquet('s3://ege-ds-workshops-corp/yixli/data_preparation/rate_all_2019')"
   ]
  },
  {
   "cell_type": "code",
   "execution_count": 4,
   "metadata": {},
   "outputs": [
    {
     "name": "stdout",
     "output_type": "stream",
     "text": [
      "+---------+-----------------+\n",
      "|rate_type|count(message_id)|\n",
      "+---------+-----------------+\n",
      "|     EPRA|          4305873|\n",
      "|      NEG|             1748|\n",
      "|     EPRM|          8715573|\n",
      "|     ESRM|         37108626|\n",
      "|     ESRA|         16447560|\n",
      "|      GDS|          9590222|\n",
      "+---------+-----------------+"
     ]
    }
   ],
   "source": [
    "rate_df_all.groupBy('rate_type').agg(F.count(F.col('message_id'))).show()"
   ]
  },
  {
   "cell_type": "code",
   "execution_count": 24,
   "metadata": {},
   "outputs": [],
   "source": [
    "# There were small number of NEG rates and I excluded them\n",
    "rate_df_all = rate_df_all.filter(F.col('rate_type')!='NEG')"
   ]
  },
  {
   "cell_type": "markdown",
   "metadata": {},
   "source": [
    "## 5 Further data cleaning for rate level df"
   ]
  },
  {
   "cell_type": "markdown",
   "metadata": {},
   "source": [
    "### 5.1 Exchange rate currency to USD"
   ]
  },
  {
   "cell_type": "code",
   "execution_count": 25,
   "metadata": {},
   "outputs": [],
   "source": [
    "# obtain exchange cuurency df from Redshift\n",
    "sqlCurrency = \"\"\"select DISTINCT\n",
    "                 a.exchangeratedate as timestamp,\n",
    "                 trunc(a.exchangeratedate) as exch_rate_date,\n",
    "                 a.fromcurrencycode,\n",
    "                 a.exchangerate\n",
    "                 from public.exchangeratedailyfull a\n",
    "                 where trunc(a.exchangeratedate)>=to_date('20191001','YYYYMMDD') \n",
    "                 and trunc(a.exchangeratedate)<=to_date('20200101','YYYYMMDD') \n",
    "                 and tocurrencycode = 'USD' \"\"\"\n",
    "connection_string = \"jdbc:redshift://egencia-reporting.czjkedodj6lc.us-west-2.redshift.amazonaws.com:5439/egedatamart?user=ds_rpt_user&password=Jan2019!\";\n",
    "\n",
    "currency_df = sqlContext.read.\\\n",
    "    format(\"com.databricks.spark.redshift\").\\\n",
    "    option(\"url\", connection_string).\\\n",
    "    option(\"query\", sqlCurrency).\\\n",
    "    option(\"tempdir\", \"s3a://ege-ds-workshops-corp/yixli/\").\\\n",
    "    load().\\\n",
    "    dropDuplicates().\\\n",
    "    orderBy([\"exch_rate_date\",\"fromcurrencycode\"],ascending=True)"
   ]
  },
  {
   "cell_type": "code",
   "execution_count": 26,
   "metadata": {},
   "outputs": [],
   "source": [
    "# join rate level df with currency df to exchange currency to USD\n",
    "rate_df_all.registerTempTable(\"rate_df_all\")\n",
    "currency_df.registerTempTable(\"currency_df\")\n",
    "\n",
    "rate_all_df = sqlContext.sql(\"select\\\n",
    "                             a.*,\\\n",
    "                             a.rate_amount*COALESCE(ex1.exchangerate,1) AS src_rate_amount_usd\\\n",
    "                             from rate_df_all a\\\n",
    "                             left join currency_df ex1 on to_date(a.message_date)=ex1.exch_rate_date and a.rate_currency=ex1.FromCurrencyCode\").\\\n",
    "                             dropDuplicates()"
   ]
  },
  {
   "cell_type": "markdown",
   "metadata": {},
   "source": [
    "### 5.2 Exchange comission currency to USD (Local rates)"
   ]
  },
  {
   "cell_type": "code",
   "execution_count": 28,
   "metadata": {},
   "outputs": [],
   "source": [
    "# filter local rates\n",
    "local_below_peterman_df = rate_all_df.filter(F.col('rate_type')!='GDS').filter(F.col('commission_base').isNotNull())\n",
    "local_below_peterman_df.registerTempTable(\"local_below_peterman_df\")\n",
    "currency_df.registerTempTable(\"currency_df\")"
   ]
  },
  {
   "cell_type": "code",
   "execution_count": 29,
   "metadata": {
    "scrolled": true
   },
   "outputs": [],
   "source": [
    "# convert commission to USD\n",
    "local_below_peterman_usd_df = sqlContext.sql(\"select\\\n",
    "                             a.*,\\\n",
    "                             a.commission_base*COALESCE(ex2.exchangerate,1) AS src_commission_base_usd,\\\n",
    "                             a.commission_tax*COALESCE(ex2.exchangerate,1) AS src_commission_tax_usd\\\n",
    "                             from local_below_peterman_df a\\\n",
    "                             left join currency_df ex2 on to_date(a.message_date)=ex2.exch_rate_date and a.commission_currency=ex2.FromCurrencyCode\").\\\n",
    "                             dropDuplicates()"
   ]
  },
  {
   "cell_type": "code",
   "execution_count": 30,
   "metadata": {},
   "outputs": [],
   "source": [
    "# calculate supply revenue for local rates\n",
    "local_below_peterman_usd_df = local_below_peterman_usd_df.\\\n",
    "withColumn('src_supply_revenue_usd',F.col('src_commission_base_usd')+F.col('src_commission_tax_usd'))"
   ]
  },
  {
   "cell_type": "code",
   "execution_count": 31,
   "metadata": {},
   "outputs": [],
   "source": [
    "# filter outliers\n",
    "local_below_peterman_usd_df = local_below_peterman_usd_df.filter(F.col('src_supply_revenue_usd')<1000)"
   ]
  },
  {
   "cell_type": "code",
   "execution_count": 32,
   "metadata": {},
   "outputs": [
    {
     "name": "stdout",
     "output_type": "stream",
     "text": [
      "+---------+-----------------+\n",
      "|rate_type|count(message_id)|\n",
      "+---------+-----------------+\n",
      "|     EPRA|          4212267|\n",
      "|     EPRM|          8519699|\n",
      "|     ESRM|         36264412|\n",
      "|     ESRA|         16081946|\n",
      "+---------+-----------------+"
     ]
    }
   ],
   "source": [
    "local_below_peterman_usd_df.groupBy('rate_type').agg(F.count(F.col('message_id'))).show()"
   ]
  },
  {
   "cell_type": "markdown",
   "metadata": {},
   "source": [
    "### 5.3 Obtain supply revenue for GDS rates"
   ]
  },
  {
   "cell_type": "code",
   "execution_count": 33,
   "metadata": {},
   "outputs": [],
   "source": [
    "# collect supply revenue for GDS rates from Redshift\n",
    "sqlGDS =  \"\"\"SELECT \n",
    "      a.hotelid as hotel_id,\n",
    "     trunc(a.issuedate) as issue_date,\n",
    "     trunc(a.traveldatestart) as check_in_date,\n",
    "     trunc(a.traveldateend) as check_out_date,\n",
    "      (case when a.customersystemid=1 then a.TUIDTraveler else g.TUIDInternal end) as tuid,      \n",
    "      a.travelproductid AS travel_product_id,\n",
    "      a.GroupAccountID AS group_account_id,\n",
    "      hsp.rate_type as hotel_rate_type,\n",
    "      (case  \n",
    "        when a.hotelrateTypeSupplyid IN (1,2,3,4,5,10,11,14,16,17,18,20,25,26,28,29,30,32) then 'GDS'\n",
    "        when a.hotelrateTypeSupplyid IN (12,13,15,19,21,22,23,27,31,33,34) then 'NEG'\n",
    "        when a.hotelrateTypeSupplyid = 6 then 'ESRA'\n",
    "        when a.hotelrateTypeSupplyid = 7 then 'ESRM'\n",
    "        when a.hotelrateTypeSupplyid = 8 then 'EPRA'\n",
    "        when a.hotelrateTypeSupplyid = 9 then 'EPRM'\n",
    "        when a.hotelrateTypeSupplyid IN (24,35) then 'HOTMIP'\n",
    "        else 'UNK'\n",
    "        end) as bk_rate_type,\n",
    "      NVL(hsp.commission,0.00) As commission_rate,\n",
    "      4.30 AS gds\n",
    "FROM public.HotelFact a\n",
    "  JOIN TravelerAccountDim g \n",
    "    ON a.TUIDTraveler = g.TUID AND a.customersystemid=g.customersystemid \n",
    "  JOIN public.GroupAccountdim d \n",
    "    ON a.GroupAccountID = d.GroupAccountID \n",
    "  JOIN public.hotel_supply hsp \n",
    "    ON hsp.year = EXTRACT (year FROM a.IssueDate)\n",
    "    AND hsp.quarter = EXTRACT (quarter FROM a.IssueDate)\n",
    "    AND hsp.rate_type = CASE\n",
    "         WHEN a.HotelRateTypeSupplyID IN (7,9,24) THEN 'Expedia Collect'\n",
    "         WHEN a.HotelRateTypeSupplyID IN (6,8,35) THEN 'Hotel Collect'\n",
    "         WHEN a.HotelRateTypeSupplyID IN (12,13,15,19,21,22,23,27,31,33,34) THEN 'Negotiated'\n",
    "         ELSE 'Published & GDS' END\n",
    "    AND hsp.travel_product_id = a.TravelProductID\n",
    "WHERE a.CustomerSystemID IN (1,2)\n",
    "AND   (d.groupaccountinternaltypeid = 1 OR d.groupaccountinternaltypeid = 3)\n",
    "AND a.BookingTypeID in (1,3) \n",
    "and hsp.year=2019\n",
    "and hsp.quarter=4\"\"\".replace('\\n',' ')\n",
    "            \n",
    "connection_string = \"jdbc:redshift://egencia-reporting.czjkedodj6lc.us-west-2.redshift.amazonaws.com:5439/egedatamart?user=ds_rpt_user&password=Jan2019!\";\n",
    "\n",
    "gds_df = sqlContext.read.\\\n",
    "    format(\"com.databricks.spark.redshift\").\\\n",
    "    option(\"url\", connection_string).\\\n",
    "    option(\"query\", sqlGDS).\\\n",
    "    option(\"tempdir\", \"s3a://ege-ds-workshops-corp/yixli/\").\\\n",
    "    load().\\\n",
    "    filter(F.col(\"hotel_rate_type\")=='Published & GDS').\\\n",
    "    filter(F.col('commission_rate').isNotNull()).\\\n",
    "    filter(F.col('gds').isNotNull()).\\\n",
    "    dropDuplicates()"
   ]
  },
  {
   "cell_type": "code",
   "execution_count": 34,
   "metadata": {},
   "outputs": [],
   "source": [
    "# group by hotel_id to obtain hotel level GDS revenue\n",
    "gds_df = gds_df.groupBy('hotel_id').agg(F.avg('commission_rate').alias('commission_rate'),\n",
    "                                       F.avg('gds').alias('gds'))"
   ]
  },
  {
   "cell_type": "code",
   "execution_count": 36,
   "metadata": {},
   "outputs": [
    {
     "name": "stdout",
     "output_type": "stream",
     "text": [
      "9376998"
     ]
    }
   ],
   "source": [
    "# filter GDS rates\n",
    "gds_below_peterman_df = rate_all_df.filter(F.col('rate_type')=='GDS')\n",
    "gds_below_peterman_df.count()"
   ]
  },
  {
   "cell_type": "code",
   "execution_count": 37,
   "metadata": {},
   "outputs": [],
   "source": [
    "# join the gds_df to obtain the supply revenue for GDS rates\n",
    "gds_below_peterman_df = gds_below_peterman_df.\\\n",
    "join(gds_df.select('hotel_id','gds','commission_rate'),['hotel_id'],how='left').\\\n",
    "withColumn('src_supply_revenue_usd',F.col('src_rate_amount_usd')*F.col('commission_rate')+F.col('gds'))"
   ]
  },
  {
   "cell_type": "code",
   "execution_count": 38,
   "metadata": {},
   "outputs": [],
   "source": [
    "# filter outliers\n",
    "gds_below_peterman_df = gds_below_peterman_df.filter(F.col('src_supply_revenue_usd')<1000)"
   ]
  },
  {
   "cell_type": "code",
   "execution_count": 40,
   "metadata": {},
   "outputs": [],
   "source": [
    "# add column: src_commission_base_usd = 0 to be consistent as local rates\n",
    "gds_below_peterman_df = gds_below_peterman_df.withColumn('src_commission_base_usd',F.lit(0.0))"
   ]
  },
  {
   "cell_type": "markdown",
   "metadata": {},
   "source": [
    "### 5.4 Union local rates df and GDS rates df together"
   ]
  },
  {
   "cell_type": "code",
   "execution_count": 42,
   "metadata": {},
   "outputs": [],
   "source": [
    "# union local rates with GDS rates\n",
    "search_revenue_below_peterman_usd_df = local_below_peterman_usd_df.select('message_id', 'hotel_id', 'check_in_date', 'check_out_date', 'tuid', 'rate_index', 'message_date', 'hotel_result_index','hotel_index', 'bk_hotel_index', 'score_1', 'city', 'star_rating', 'filter_want_in_policy_rates_only', 'filter_eligible_for_loyalty', 'filter_free_breakfast', 'filter_free_wifi', 'filter_free_parking',  'rate_type', 'eligible_for_loyalty', 'free_breakfast', 'free_wifi', 'free_parking', 'refundable',  'src_rate_amount_usd', 'src_commission_base_usd', 'src_supply_revenue_usd').\\\n",
    "                            union(gds_below_peterman_df.select('message_id', 'hotel_id', 'check_in_date', 'check_out_date', 'tuid', 'rate_index', 'message_date', 'hotel_result_index', 'hotel_index', 'bk_hotel_index', 'score_1','city', 'star_rating', 'filter_want_in_policy_rates_only', 'filter_eligible_for_loyalty', 'filter_free_breakfast', 'filter_free_wifi', 'filter_free_parking',  'rate_type', 'eligible_for_loyalty', 'free_breakfast', 'free_wifi', 'free_parking', 'refundable',  'src_rate_amount_usd', 'src_commission_base_usd', 'src_supply_revenue_usd'))"
   ]
  },
  {
   "cell_type": "code",
   "execution_count": 43,
   "metadata": {},
   "outputs": [
    {
     "name": "stdout",
     "output_type": "stream",
     "text": [
      "72740122"
     ]
    }
   ],
   "source": [
    "search_revenue_below_peterman_usd_df.count()"
   ]
  },
  {
   "cell_type": "code",
   "execution_count": 29,
   "metadata": {},
   "outputs": [
    {
     "name": "stdout",
     "output_type": "stream",
     "text": [
      "+---------+---------------------------+\n",
      "|rate_type|avg(src_supply_revenue_usd)|\n",
      "+---------+---------------------------+\n",
      "|     EPRA|         24.959300473259983|\n",
      "|     EPRM|         33.338528055600676|\n",
      "|     ESRM|         30.794078574840178|\n",
      "|     ESRA|          22.62902275998205|\n",
      "|      GDS|         19.094136118922332|\n",
      "+---------+---------------------------+"
     ]
    }
   ],
   "source": [
    "# An average of supply revenue per night by rate type\n",
    "search_revenue_below_peterman_usd_df.groupBy('rate_type').agg(F.avg('src_supply_revenue_usd')).show()"
   ]
  },
  {
   "cell_type": "code",
   "execution_count": 44,
   "metadata": {},
   "outputs": [],
   "source": [
    "# save rate df\n",
    "dir = 's3://ege-ds-workshops-corp/yixli/data_preparation/'\n",
    "search_revenue_below_peterman_usd_df.repartition(1).write.mode('overwrite').parquet(dir+'rate_all_usd_2019')"
   ]
  },
  {
   "cell_type": "code",
   "execution_count": 3,
   "metadata": {},
   "outputs": [],
   "source": [
    "rate_all_usd_df = sqlContext.read.parquet('s3://ege-ds-workshops-corp/yixli/data_preparation/rate_all_usd_2019')"
   ]
  },
  {
   "cell_type": "markdown",
   "metadata": {},
   "source": [
    "## 6 Get labels for modeling"
   ]
  },
  {
   "cell_type": "markdown",
   "metadata": {},
   "source": [
    "To prepare the data for modeling, we need further get labels for rate df"
   ]
  },
  {
   "cell_type": "markdown",
   "metadata": {},
   "source": [
    "### 6.1 Use rate level data: filter last search,hotels below PL, hotels have been booked"
   ]
  },
  {
   "cell_type": "code",
   "execution_count": 4,
   "metadata": {},
   "outputs": [
    {
     "name": "stdout",
     "output_type": "stream",
     "text": [
      "3881004"
     ]
    }
   ],
   "source": [
    "# the rate df is already filtered for the last search, hotels below PL\n",
    "# so we only need to filter booked hotels here\n",
    "bk_rate_all_usd_df = rate_all_usd_df.filter(F.col('hotel_index')==F.col('bk_hotel_index'))\n",
    "bk_rate_all_usd_df.count()"
   ]
  },
  {
   "cell_type": "markdown",
   "metadata": {},
   "source": [
    "### 6.2 Match with booking data"
   ]
  },
  {
   "cell_type": "code",
   "execution_count": 12,
   "metadata": {},
   "outputs": [],
   "source": [
    "bookings_df = bookings_df.withColumn('rate_type',F.when(F.col('bk_rate_type')=='HOTMIP','ESRM').otherwise(F.col('bk_rate_type')))"
   ]
  },
  {
   "cell_type": "code",
   "execution_count": 13,
   "metadata": {},
   "outputs": [
    {
     "name": "stdout",
     "output_type": "stream",
     "text": [
      "1953843"
     ]
    }
   ],
   "source": [
    "# Step1: match by rate_type\n",
    "book_rate_id =bk_rate_all_usd_df.join(bookings_df,[\"hotel_id\",\"check_in_date\", \"check_out_date\",\"tuid\",'rate_type']).\\\n",
    "select(\"message_id\",\"hotel_id\",\"check_in_date\", \"check_out_date\",\"tuid\",'rate_type','rate_index','avg_book_rate_amount_usd','src_rate_amount_usd')\n",
    "\n",
    "# Step2: match by rate_amount\n",
    "book_rate_id = book_rate_id.\\\n",
    "                         withColumn('rate_diff',F.abs(F.col('avg_book_rate_amount_usd')-F.col('src_rate_amount_usd')))\n",
    "\n",
    "book_rate_id = book_rate_id.filter((F.col('rate_diff')<1.0))"
   ]
  },
  {
   "cell_type": "code",
   "execution_count": 16,
   "metadata": {},
   "outputs": [],
   "source": [
    "# For matched rates, fill label == 1\n",
    "book_rate_id = book_rate_id.withColumn('label',F.lit(1))"
   ]
  },
  {
   "cell_type": "code",
   "execution_count": 17,
   "metadata": {},
   "outputs": [],
   "source": [
    "# Add labels back to rate level df\n",
    "bk_rate_all_usd_df_with_label = bk_rate_all_usd_df.join(book_rate_id.select(\"message_id\",\"hotel_id\",\"check_in_date\", \"check_out_date\",\"tuid\",'rate_type','rate_index','label'),\n",
    "                                        [\"message_id\",\"hotel_id\",\"check_in_date\", \"check_out_date\",\"tuid\",'rate_type','rate_index'],how='left')"
   ]
  },
  {
   "cell_type": "code",
   "execution_count": 18,
   "metadata": {},
   "outputs": [],
   "source": [
    "# For not matched rates, fill label == 0\n",
    "bk_rate_all_usd_df_with_label = bk_rate_all_usd_df_with_label.fillna({'label':0})"
   ]
  },
  {
   "cell_type": "code",
   "execution_count": 19,
   "metadata": {},
   "outputs": [
    {
     "name": "stdout",
     "output_type": "stream",
     "text": [
      "445989"
     ]
    }
   ],
   "source": [
    "bk_rate_all_usd_df_with_label.filter(F.col('label')==1).count()"
   ]
  },
  {
   "cell_type": "code",
   "execution_count": 20,
   "metadata": {},
   "outputs": [
    {
     "name": "stdout",
     "output_type": "stream",
     "text": [
      "3441975"
     ]
    }
   ],
   "source": [
    "bk_rate_all_usd_df_with_label.filter(F.col('label')==0).count()"
   ]
  },
  {
   "cell_type": "code",
   "execution_count": 21,
   "metadata": {},
   "outputs": [],
   "source": [
    "# save rate level df with label\n",
    "dir = 's3://ege-ds-workshops-corp/yixli/data_preparation/'\n",
    "bk_rate_all_usd_df_with_label.repartition(1).write.mode('overwrite').parquet(dir+'bk_rate_all_usd_df_with_label')"
   ]
  }
 ],
 "metadata": {
  "kernelspec": {
   "display_name": "PySpark3",
   "language": "",
   "name": "pyspark3kernel"
  },
  "language_info": {
   "codemirror_mode": {
    "name": "python",
    "version": 3
   },
   "mimetype": "text/x-python",
   "name": "pyspark3",
   "pygments_lexer": "python3"
  }
 },
 "nbformat": 4,
 "nbformat_minor": 2
}
