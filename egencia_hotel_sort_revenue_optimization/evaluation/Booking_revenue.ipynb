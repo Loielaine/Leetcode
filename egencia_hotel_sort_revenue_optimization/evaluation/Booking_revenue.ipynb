{
 "cells": [
  {
   "cell_type": "code",
   "execution_count": 2,
   "metadata": {},
   "outputs": [],
   "source": [
    "import datetime\n",
    "from datetime import date\n",
    "import pandas as pd\n",
    "import numpy as np\n",
    "\n",
    "from pyspark import SparkContext\n",
    "from pyspark import SQLContext\n",
    "from pyspark.sql.session import SparkSession\n",
    "\n",
    "\n",
    "from pyspark.sql import DataFrameStatFunctions as statFunc\n",
    "\n",
    "from pyspark.sql.functions import row_number\n",
    "from pyspark.sql.window import Window\n",
    "from pyspark.sql.functions import desc\n",
    "\n",
    "from pyspark.sql import functions as F\n",
    "from pyspark.sql import types as T\n",
    "from pyspark.sql.types import IntegerType"
   ]
  },
  {
   "cell_type": "markdown",
   "metadata": {},
   "source": [
    "## 1 Booking revenue for hotels below PL "
   ]
  },
  {
   "cell_type": "markdown",
   "metadata": {},
   "source": [
    "## 1.1 read search data"
   ]
  },
  {
   "cell_type": "code",
   "execution_count": 3,
   "metadata": {},
   "outputs": [],
   "source": [
    "# read rate level df that we used for hotel revenue estimation \n",
    "rate_all_usd_df = sqlContext.read.parquet('s3://ege-ds-workshops-corp/yixli/data_preparation/rate_all_usd_2019')"
   ]
  },
  {
   "cell_type": "code",
   "execution_count": 4,
   "metadata": {},
   "outputs": [],
   "source": [
    "# obtain hotel df \n",
    "last_hotels_below_pl_df = rate_all_usd_df.filter(F.col('score_1').isNotNull()).select(\"message_id\",\"hotel_id\",\"check_in_date\",\"check_out_date\",\"tuid\",\n",
    "                                                \"hotel_index\",\"bk_hotel_index\",'hotel_result_index').dropDuplicates()"
   ]
  },
  {
   "cell_type": "code",
   "execution_count": 5,
   "metadata": {},
   "outputs": [
    {
     "name": "stdout",
     "output_type": "stream",
     "text": [
      "9826186"
     ]
    }
   ],
   "source": [
    "last_hotels_below_pl_df.count()"
   ]
  },
  {
   "cell_type": "markdown",
   "metadata": {},
   "source": [
    "## 1.2 bookings below PL"
   ]
  },
  {
   "cell_type": "code",
   "execution_count": 6,
   "metadata": {},
   "outputs": [
    {
     "name": "stdout",
     "output_type": "stream",
     "text": [
      "1999891"
     ]
    }
   ],
   "source": [
    "# collect bookings from Redshift\n",
    "sqlBookings = \"\"\"SELECT \n",
    "      a.hotelfactid,\n",
    "      a.hotelid as hotel_id,\n",
    "     trunc(a.issuedate) as issue_date,\n",
    "     trunc(a.traveldatestart) as check_in_date,\n",
    "     trunc(a.traveldateend) as check_out_date,\n",
    "     hsp.quarter as quarter,\n",
    "      (case when a.customersystemid=1 then a.TUIDTraveler else g.TUIDInternal end) as tuid,      \n",
    "      a.travelproductid AS travel_product_id,\n",
    "      a.GroupAccountID AS group_account_id,\n",
    "      hsp.rate_type AS hotel_rate_type,\n",
    "      (case  \n",
    "        when a.hotelrateTypeSupplyid IN (1,2,3,4,5,10,11,14,16,17,18,20,25,26,28,29,30,32) then 'GDS'\n",
    "        when a.hotelrateTypeSupplyid IN (12,13,15,19,21,22,23,27,31,33,34) then 'NEG'\n",
    "        when a.hotelrateTypeSupplyid = 6 then 'ESRA'\n",
    "        when a.hotelrateTypeSupplyid = 7 then 'ESRM'\n",
    "        when a.hotelrateTypeSupplyid = 8 then 'EPRA'\n",
    "        when a.hotelrateTypeSupplyid = 9 then 'EPRM'\n",
    "        when a.hotelrateTypeSupplyid IN (24,35) then 'HOTMIP'\n",
    "        else 'UNK'\n",
    "        end) as bk_rate_type,\n",
    "      CASE WHEN a.OnlineBool = 1 THEN 'online' ELSE 'offline' END AS booking_type,\n",
    "      a.bookingamtgross::DOUBLE precision*COALESCE(ex.exchangerate,1::DOUBLE precision) AS gross_booking_value_usd,\n",
    "      a.bookingamtcommissionest::DOUBLE precision*COALESCE(ex.exchangerate,1::DOUBLE precision)\n",
    "        + a.bookingamtgross::DOUBLE precision*COALESCE(ex.exchangerate,1::DOUBLE precision)*NVL(hsp.commission,0.00) AS total_commission,\n",
    "      a.bookingamtmargin::DOUBLE precision*COALESCE(ex.exchangerate,1::DOUBLE precision) AS total_markup,\n",
    "      4.3 AS total_gds,\n",
    "      NVL(total_commission,0.00) + NVL(total_markup,0.00) + NVL(total_gds,0.00) AS total_supply_revenue\n",
    "FROM public.HotelFact a\n",
    "  JOIN public.ExchangeRateDailySubset ex\n",
    "    ON a.IssueDateTimeID = ex.TimeID AND a.CurrencyCode = ex.FromCurrencyCode AND ex.ToCurrencyCode = 'USD'\n",
    "  JOIN TravelerAccountDim g \n",
    "    ON a.TUIDTraveler = g.TUID AND a.customersystemid=g.customersystemid \n",
    "  JOIN public.GroupAccountdim d \n",
    "    ON a.GroupAccountID = d.GroupAccountID \n",
    "  JOIN public.hotel_supply hsp \n",
    "    ON hsp.year = EXTRACT (year FROM a.IssueDate)\n",
    "    AND hsp.quarter = EXTRACT (quarter FROM a.IssueDate)\n",
    "    AND hsp.rate_type = CASE\n",
    "         WHEN a.HotelRateTypeSupplyID IN (7,9,24) THEN 'Expedia Collect'\n",
    "         WHEN a.HotelRateTypeSupplyID IN (6,8,35) THEN 'Hotel Collect'\n",
    "         WHEN a.HotelRateTypeSupplyID IN (12,13,15,19,21,22,23,27,31,33,34) THEN 'Negotiated'\n",
    "         ELSE 'Published & GDS' END\n",
    "    AND hsp.travel_product_id = a.TravelProductID\n",
    "WHERE a.CustomerSystemID IN (1,2)\n",
    "AND   (d.groupaccountinternaltypeid = 1 OR d.groupaccountinternaltypeid = 3)\n",
    "AND a.BookingTypeID in (1,3) \n",
    "and a.issuedate>=to_date('20191001','YYYYMMDD') \n",
    "and a.issuedate<=to_date('20200101','YYYYMMDD')\"\"\".replace('\\n',' ')\n",
    "\n",
    "connection_string = \"jdbc:redshift://egencia-reporting.czjkedodj6lc.us-west-2.redshift.amazonaws.com:5439/egedatamart?user=ds_rpt_user&password=Jan2019!\";\n",
    "\n",
    "bookings_df = sqlContext.read.\\\n",
    "    format(\"com.databricks.spark.redshift\").\\\n",
    "    option(\"url\", connection_string).\\\n",
    "    option(\"query\", sqlBookings).\\\n",
    "    option(\"tempdir\", \"s3a://ege-ds-workshops-corp/yixli/\").\\\n",
    "    load()\n",
    "\n",
    "bookings_df.cache()\n",
    "bookings_df.count()"
   ]
  },
  {
   "cell_type": "code",
   "execution_count": 7,
   "metadata": {},
   "outputs": [],
   "source": [
    "# filter outliers\n",
    "bookings_df = bookings_df.filter(F.col('total_supply_revenue')<1000)"
   ]
  },
  {
   "cell_type": "code",
   "execution_count": 9,
   "metadata": {},
   "outputs": [],
   "source": [
    "# join with last_hotels_below_pl_df\n",
    "bookings_below_pl = bookings_df.filter(F.col('bk_rate_type')!='NEG').join(last_hotels_below_pl_df,[\"hotel_id\",\"check_in_date\", \"check_out_date\",\"tuid\"])\n",
    "bookings_below_pl.count()"
   ]
  },
  {
   "cell_type": "code",
   "execution_count": 12,
   "metadata": {},
   "outputs": [
    {
     "name": "stdout",
     "output_type": "stream",
     "text": [
      "+-------------------------+\n",
      "|sum(total_supply_revenue)|\n",
      "+-------------------------+\n",
      "|     2.6355646240413312E7|\n",
      "+-------------------------+"
     ]
    }
   ],
   "source": [
    "# total supply revenue\n",
    "bookings_below_pl.select('total_supply_revenue').agg(F.sum(\"total_supply_revenue\")).show()"
   ]
  },
  {
   "cell_type": "code",
   "execution_count": 13,
   "metadata": {},
   "outputs": [
    {
     "name": "stdout",
     "output_type": "stream",
     "text": [
      "+-----+-------------------------+------------+\n",
      "|month|sum(total_supply_revenue)|count(month)|\n",
      "+-----+-------------------------+------------+\n",
      "|   12|        6923447.194805484|      138121|\n",
      "|   10|     1.0524547245132282E7|      197153|\n",
      "|   11|        8907651.800475556|      179447|\n",
      "+-----+-------------------------+------------+"
     ]
    }
   ],
   "source": [
    "# supply revenue by month\n",
    "bookings_below_pl = bookings_below_pl.withColumn('month',F.month('issue_date'))\n",
    "bookings_below_pl.select('month','total_supply_revenue').groupBy('month').agg(F.sum(\"total_supply_revenue\"),F.count('month')).show()"
   ]
  },
  {
   "cell_type": "markdown",
   "metadata": {},
   "source": [
    "## 2 Booking revenue for hotels above PL "
   ]
  },
  {
   "cell_type": "markdown",
   "metadata": {},
   "source": [
    "## 2.1 Get hotels above PL "
   ]
  },
  {
   "cell_type": "code",
   "execution_count": null,
   "metadata": {},
   "outputs": [],
   "source": [
    "# Collect hotels above PL from search data\n",
    "# count = 49569610\n",
    "'''\n",
    "use eandev; \n",
    "drop table if exists eandev.yixli_hotels_ab_pl;\n",
    "create table eandev.yixli_hotels_ab_pl as  \n",
    "select distinct tb1.message_id\n",
    "  ,tb1.hotel_id\n",
    "  ,tb1.tuid\n",
    "  ,tb1.check_in_date\n",
    "  ,tb1.check_out_date\n",
    "  ,tb1.hotel_result_index\n",
    "  ,tb1.message_date\n",
    "  from\n",
    " ( select a.message_id\n",
    "  ,a.hotel_id\n",
    "  ,a.tuid\n",
    "  ,a.check_in_date\n",
    "  ,a.check_out_date\n",
    "  ,a.hotel_result_index\n",
    "  ,a.message_date\n",
    "  from yixli_src_amentity_2019 as a\n",
    "join yixli_last_idx_peterman_line_2019 as c on (a.message_id=c.message_id)\n",
    "where (a.hotel_result_index<=c.last_idx_peterman_line)\n",
    "order by a.message_id, a.hotel_result_index) as tb1\n",
    "inner join (select b.message_id\n",
    "  ,b.hotel_id\n",
    "  ,b.tuid\n",
    "  ,b.check_in_date\n",
    "  ,b.check_out_date\n",
    "  ,b.hotel_result_index\n",
    "  ,b.message_date\n",
    "  from yixli_search_commission_2019_v3 as b\n",
    "join yixli_last_idx_peterman_line_2019 as c on (b.message_id=c.message_id)\n",
    "where (b.hotel_result_index<=c.last_idx_peterman_line)\n",
    "order by b.message_id, b.hotel_result_index) as tb2 on\n",
    "(tb1.message_id=tb2.message_id \n",
    "    and  tb1.tuid=tb2.tuid\n",
    "    and tb1.hotel_id=tb2.hotel_id\n",
    "    and tb1.check_in_date=tb2.check_in_date\n",
    "    and tb1.check_out_date=tb2.check_out_date\n",
    "    and tb1.hotel_result_index=tb2.hotel_result_index\n",
    "    and tb1.message_date=tb2.message_date)\n",
    "'''\n",
    "\n",
    "# filter last search data\n",
    "# count = 32604178\n",
    "'''\n",
    "use eandev; \n",
    "drop table if exists eandev.yixli_last_src_hotels_ab_pl;\n",
    "create table eandev.yixli_last_src_hotels_ab_pl as  \n",
    "select b.*\n",
    "from\n",
    "(select a.*\n",
    ",row_number() over(partition by hotel_id,check_in_date,check_out_date,tuid order by message_date desc) as rn\n",
    "from yixli_hotels_ab_pl as a) as b\n",
    "where rn=1\n",
    "'''"
   ]
  },
  {
   "cell_type": "code",
   "execution_count": null,
   "metadata": {},
   "outputs": [],
   "source": [
    "# transfer from hdfs to s3\n",
    "'''\n",
    "ssh Chwxedwhdc002.datawarehouse.expecn.com\n",
    "\n",
    "hive -e \"use eandev; INSERT OVERWRITE LOCAL DIRECTORY '/home/yixli/temp' ROW FORMAT DELIMITED FIELDS TERMINATED BY ',' select * from yixli_last_src_hotels_ab_pl;\"&\n",
    "\n",
    "cd temp\n",
    "ls | xargs -I '{}' -n1 sed -i 's/\\\\N//g' '{}' &\n",
    "cd ..\n",
    "cat temp/* >last_src_hotels_ab_pl.csv\n",
    "\n",
    "\n",
    "~/.linuxbrew/bin/aws_key_gen login\n",
    "\n",
    "aws s3 cp last_src_hotels_ab_pl.csv s3://ege-ds-workshops-corp/yixli/data_preparation/last_src_hotels_ab_pl.csv\n",
    "\n",
    "'''"
   ]
  },
  {
   "cell_type": "code",
   "execution_count": 9,
   "metadata": {},
   "outputs": [],
   "source": [
    "# Read last_hotels_above_pl_df\n",
    "schema = T.StructType([\n",
    "    T.StructField(\"message_id\", T.StringType(), True),              \n",
    "      T.StructField(\"hotel_id\", T.IntegerType(), True),                                   \n",
    "     T.StructField(\"tuid\", T.IntegerType(), True),                                        \n",
    "    T.StructField(\"check_in_date\", T.DateType(), True),                             \n",
    "    T.StructField(\"check_out_date\", T.DateType(), True),                                \n",
    "     T.StructField(\"hotel_result_index\", T.IntegerType(), True),                          \n",
    "     T.StructField(\"message_date\", T.TimestampType(), True),  \n",
    "     T.StructField(\"rn\", T.IntegerType(), True)])\n",
    "\n",
    "file_loc = \"s3://ege-ds-workshops-corp/yixli/data_preparation/last_src_hotels_ab_pl.csv\"\n",
    "\n",
    "last_hotels_above_pl_df = sqlContext.read.format('csv').\\\n",
    "            options(header='false', inferSchema='false', delimiter=',').\\\n",
    "            schema(schema).load(file_loc)\n",
    "\n",
    "print(last_hotels_above_pl_df.count())"
   ]
  },
  {
   "cell_type": "code",
   "execution_count": null,
   "metadata": {},
   "outputs": [],
   "source": [
    "# further filter scores are not NULL for last_hotels_above_pl_df to keep it consistent with hotels below PL\n",
    "# read score data and filter score_1 is not NULL\n",
    "dispHotelsDF = sqlContext.read.parquet('s3://ege-ds-workshops-corp/yixli/prediction/rate_score')\n",
    "dispHotelsDF = dispHotelsDF.select('score_1',\"message_id\",\"tuid\",\"hotel_id\",\"check_in_date\", \"check_out_date\",\"hotel_result_index\").\\\n",
    "filter(F.col('score_1').isNotNull())"
   ]
  },
  {
   "cell_type": "code",
   "execution_count": 11,
   "metadata": {},
   "outputs": [],
   "source": [
    "# join score data with last_hotels_above_pl_df\n",
    "last_hotels_above_pl_df = last_hotels_above_pl_df.join(dispHotelsDF.select(\"message_id\",\"tuid\",\"hotel_id\",\"check_in_date\", \"check_out_date\",\"hotel_result_index\"),\n",
    "                                    [\"message_id\",\"tuid\",\"hotel_id\",\"check_in_date\", \"check_out_date\",\"hotel_result_index\"],how='inner')"
   ]
  },
  {
   "cell_type": "code",
   "execution_count": 12,
   "metadata": {},
   "outputs": [
    {
     "name": "stdout",
     "output_type": "stream",
     "text": [
      "21521027"
     ]
    }
   ],
   "source": [
    "# count = 21521027\n",
    "last_hotels_above_pl_df.count()"
   ]
  },
  {
   "cell_type": "markdown",
   "metadata": {},
   "source": [
    "## 2.2 Bookings above PL"
   ]
  },
  {
   "cell_type": "code",
   "execution_count": 16,
   "metadata": {},
   "outputs": [],
   "source": [
    "# filter outliers\n",
    "bookings_df = bookings_df.filter(F.col('total_supply_revenue')<1000)"
   ]
  },
  {
   "cell_type": "code",
   "execution_count": 18,
   "metadata": {},
   "outputs": [],
   "source": [
    "# join with last_hotels_above_pl_df\n",
    "bookings_above_pl = bookings_df.join(last_hotels_above_pl_df,[\"hotel_id\",\"check_in_date\", \"check_out_date\",\"tuid\"])"
   ]
  },
  {
   "cell_type": "code",
   "execution_count": 24,
   "metadata": {},
   "outputs": [
    {
     "name": "stdout",
     "output_type": "stream",
     "text": [
      "+-----+-------------------------+-----------------+\n",
      "|month|sum(total_supply_revenue)|count(message_id)|\n",
      "+-----+-------------------------+-----------------+\n",
      "|   12|        5969389.312911607|           204070|\n",
      "|   10|        8102562.197199021|           273320|\n",
      "|   11|         7037667.46557873|           249944|\n",
      "+-----+-------------------------+-----------------+"
     ]
    }
   ],
   "source": [
    "# suuply revenue by month\n",
    "bookings_above_pl = bookings_above_pl.withColumn('month',F.month('issue_date'))\n",
    "bookings_above_pl.select('month','total_supply_revenue','message_id').groupBy('month').agg(F.sum(\"total_supply_revenue\"),F.count('message_id')).show()"
   ]
  }
 ],
 "metadata": {
  "kernelspec": {
   "display_name": "PySpark3",
   "language": "",
   "name": "pyspark3kernel"
  },
  "language_info": {
   "codemirror_mode": {
    "name": "python",
    "version": 3
   },
   "mimetype": "text/x-python",
   "name": "pyspark3",
   "pygments_lexer": "python3"
  }
 },
 "nbformat": 4,
 "nbformat_minor": 2
}
