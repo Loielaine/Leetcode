{
 "cells": [
  {
   "cell_type": "code",
   "execution_count": 2,
   "metadata": {},
   "outputs": [],
   "source": [
    "import datetime\n",
    "import pandas as pd\n",
    "import numpy as np\n",
    "\n",
    "from pyspark import SparkContext\n",
    "from pyspark import SQLContext\n",
    "from pyspark.sql.session import SparkSession\n",
    "\n",
    "\n",
    "from pyspark.sql import DataFrameStatFunctions as statFunc\n",
    "\n",
    "from pyspark.sql.functions import row_number\n",
    "from pyspark.sql.window import Window\n",
    "from pyspark.sql.functions import desc\n",
    "\n",
    "from pyspark.sql import functions as F\n",
    "from pyspark.sql import types as T\n",
    "from pyspark.sql.types import IntegerType,FloatType,DoubleType"
   ]
  },
  {
   "cell_type": "markdown",
   "metadata": {},
   "source": [
    "## 1 Read Prediction"
   ]
  },
  {
   "cell_type": "code",
   "execution_count": 3,
   "metadata": {
    "scrolled": true
   },
   "outputs": [],
   "source": [
    "# This is the prediction from the model with data ranged from 10/01/2019 - 01/01/2020.\n",
    "prediction = sqlContext.read.parquet('s3://ege-ds-workshops-corp/yixli/prediction/prediction')"
   ]
  },
  {
   "cell_type": "markdown",
   "metadata": {},
   "source": [
    "### 1.1 Calculate normalized rate revenue"
   ]
  },
  {
   "cell_type": "code",
   "execution_count": 4,
   "metadata": {},
   "outputs": [],
   "source": [
    "def calculateNormalizedRateRevenue(prediction):\n",
    "    # sum probabilities by hotel\n",
    "    prediction = prediction.withColumn('sum_prob',F.sum('prob').over(Window.partitionBy(\"message_id\",\"hotel_id\",\"check_in_date\",\"check_out_date\",'tuid')))\n",
    "\n",
    "    # normalized rate-picking up probabilities\n",
    "    prediction = prediction.withColumn('normalized_prob',F.col('prob')/F.col('sum_prob'))\n",
    "\n",
    "    # normalized rate revenue\n",
    "    prediction = prediction.withColumn('normalized_rate_revenue',F.col('normalized_prob')*F.col('src_supply_revenue_usd'))\n",
    "    return prediction"
   ]
  },
  {
   "cell_type": "markdown",
   "metadata": {},
   "source": [
    "### 1.2 Sum rate level revenue to hotel level revenue"
   ]
  },
  {
   "cell_type": "code",
   "execution_count": 8,
   "metadata": {},
   "outputs": [],
   "source": [
    "def calculateNormalizedHotelRevenue(prediction):\n",
    "    # get duration of stay\n",
    "    prediction = prediction.\\\n",
    "                         withColumn('duration', F.datediff(F.col(\"check_out_date\"),F.col( \"check_in_date\")).cast(IntegerType()))\n",
    "    # get hotel revenue df by sum up rate revenue for each hotel\n",
    "    revenue_prediction = prediction.withColumn('normalized_hotel_revenue',\n",
    "                                       F.sum(F.col('normalized_rate_revenue')*F.col('duration')).\\\n",
    "                                       over(Window.partitionBy(\"message_id\",\"hotel_id\",\"check_in_date\",\"check_out_date\",'tuid'))).\\\n",
    "                            select(\"message_id\",\"hotel_id\",\"check_in_date\",\"check_out_date\",\"tuid\",'normalized_hotel_revenue','hotel_index','score_1','bk_hotel_index','message_date').\\\n",
    "                            dropDuplicates()\n",
    "    return revenue_prediction"
   ]
  },
  {
   "cell_type": "markdown",
   "metadata": {},
   "source": [
    "## 2 Bands"
   ]
  },
  {
   "cell_type": "code",
   "execution_count": 10,
   "metadata": {},
   "outputs": [],
   "source": [
    "def getBands(n_band,band_column,revenue_prediction):\n",
    "    # exclude those hotels whose scores are NULL\n",
    "    revenue_prediction = revenue_prediction.filter(F.col('score_1').isNotNull())\n",
    "    # create band_df with upper and lower bounds of each band\n",
    "    band_df = revenue_prediction.\\\n",
    "    groupby(\"message_id\", \"tuid\").\\\n",
    "    agg(F.count(\"hotel_id\").alias(\"n\"),F.max(\"score_1\").alias(\"ub\"),F.min(\"score_1\").alias(\"lb\")).\\\n",
    "    filter(F.col(\"n\")>=1).\\\n",
    "    filter(F.col(\"n\")<=30).\\\n",
    "    withColumn(\"n_band\", F.lit(n_band)).\\\n",
    "    withColumn(\"sz_band\", F.expr(\"(ub - lb)/n_band\")).\\\n",
    "    select(\"message_id\", \"tuid\", \"sz_band\", \"ub\", \"lb\")\n",
    "    # join hotel revenue df to get band for each hotel\n",
    "    revenue_prediction2 = revenue_prediction.\\\n",
    "    join(band_df, [\"message_id\", \"tuid\"]).\\\n",
    "    withColumn(band_column, F.when(F.col(\"sz_band\") == 0, 1).otherwise(F.expr(\"int((score_1-lb)/sz_band)\")))\n",
    "    return revenue_prediction2"
   ]
  },
  {
   "cell_type": "markdown",
   "metadata": {},
   "source": [
    "## 3 New revenue with normalized probabilities"
   ]
  },
  {
   "cell_type": "code",
   "execution_count": 12,
   "metadata": {},
   "outputs": [],
   "source": [
    "def getNewHotelIndex(revenue_prediction2,band_column,new_index_column):\n",
    "    # add month column to df\n",
    "    revenue_prediction2 = revenue_prediction2.withColumn('month',F.month('message_date'))\n",
    "    # Sort by 'normalized_hotel_revenue' and obtain the new hotel index\n",
    "    revenue_prediction2 = revenue_prediction2.\\\n",
    "    withColumn(\"band_index_normalized\", row_number().over(Window.partitionBy(\"message_id\", \"tuid\",band_column).\\\n",
    "                                                          orderBy(F.desc('normalized_hotel_revenue')))).\\\n",
    "    withColumn(new_index_column, row_number().over(Window.partitionBy(\"message_id\", \"tuid\").\\\n",
    "                                                    orderBy(F.asc(band_column),F.asc(\"band_index_normalized\"))))\n",
    "    return revenue_prediction2"
   ]
  },
  {
   "cell_type": "code",
   "execution_count": 13,
   "metadata": {},
   "outputs": [],
   "source": [
    "def getNewRevenue(revenue_prediction2,new_index_column):\n",
    "    new_revenue = revenue_prediction2.filter(F.col('bk_hotel_index')==F.col(new_index_column)).\\\n",
    "                    select('normalized_hotel_revenue').\\\n",
    "                    agg(F.sum('normalized_hotel_revenue')).collect()[0][0]\n",
    "    return new_revenue"
   ]
  },
  {
   "cell_type": "code",
   "execution_count": 27,
   "metadata": {},
   "outputs": [],
   "source": [
    "prediction = calculateNormalizedRateRevenue(prediction)\n",
    "revenue_prediction = calculateNormalizedHotelRevenue(prediction)\n",
    "revenue_prediction2 = getBands(5,'band5',revenue_prediction)\n",
    "revenue_prediction2 = getNewHotelIndex(revenue_prediction2,'band5','new_index_5')"
   ]
  },
  {
   "cell_type": "code",
   "execution_count": 28,
   "metadata": {
    "scrolled": true
   },
   "outputs": [
    {
     "name": "stdout",
     "output_type": "stream",
     "text": [
      "+-----------------------------+\n",
      "|sum(normalized_hotel_revenue)|\n",
      "+-----------------------------+\n",
      "|         2.8679587695917096E7|\n",
      "+-----------------------------+"
     ]
    }
   ],
   "source": [
    "# total supply revenue\n",
    "revenue_prediction2.filter(F.col('bk_hotel_index')==F.col('new_index_5')).\\\n",
    "select('normalized_hotel_revenue').\\\n",
    "agg(F.sum('normalized_hotel_revenue')).show()"
   ]
  },
  {
   "cell_type": "code",
   "execution_count": 26,
   "metadata": {},
   "outputs": [
    {
     "name": "stdout",
     "output_type": "stream",
     "text": [
      "+-----+-----------------------------+------------+\n",
      "|month|sum(normalized_hotel_revenue)|count(month)|\n",
      "+-----+-----------------------------+------------+\n",
      "|   12|           7795188.4543378055|      130326|\n",
      "|    1|            10532.18705316058|          99|\n",
      "|   10|         1.1140306050966235E7|      183587|\n",
      "|   11|            9733561.003559899|      167541|\n",
      "+-----+-----------------------------+------------+"
     ]
    }
   ],
   "source": [
    "# supply revenue by month\n",
    "revenue_prediction2.filter(F.col('bk_hotel_index')==F.col('new_index_5')).\\\n",
    "select('normalized_hotel_revenue','month').\\\n",
    "groupBy('month').agg(F.sum('normalized_hotel_revenue'),F.count('month')).show()"
   ]
  },
  {
   "cell_type": "code",
   "execution_count": 39,
   "metadata": {},
   "outputs": [],
   "source": [
    "# save hotel revenue df\n",
    "dir = 's3://ege-ds-workshops-corp/yixli/prediction/'\n",
    "revenue_prediction2.repartition(1).write.mode('overwrite').parquet(dir+'revenue_estimation3')"
   ]
  },
  {
   "cell_type": "markdown",
   "metadata": {},
   "source": [
    "## 5 Banding method exploration"
   ]
  },
  {
   "cell_type": "code",
   "execution_count": 9,
   "metadata": {},
   "outputs": [],
   "source": [
    "prediction = calculateNormalizedRateRevenue(prediction)\n",
    "revenue_prediction = calculateNormalizedHotelRevenue(prediction)"
   ]
  },
  {
   "cell_type": "code",
   "execution_count": 22,
   "metadata": {},
   "outputs": [],
   "source": [
    "def estimateNewrevenue(revenue_prediction,band_num):\n",
    "    band_column = 'band'+str(band_num)\n",
    "    new_index_column = 'band'+str(band_num)+'_new_index'\n",
    "    revenue_prediction2 = getBands(band_num,band_column,revenue_prediction)\n",
    "    revenue_prediction2 = getNewHotelIndex(revenue_prediction2,band_column,new_index_column)\n",
    "    booking_num = revenue_prediction2.filter(F.col('bk_hotel_index')==F.col(new_index_column)).count()\n",
    "    new_revenue = getNewRevenue(revenue_prediction2,new_index_column)\n",
    "    return booking_num, new_revenue "
   ]
  },
  {
   "cell_type": "code",
   "execution_count": 23,
   "metadata": {},
   "outputs": [],
   "source": [
    "band_num_list = [1,2,3,4,5,6,7,8,9,10]\n",
    "new_revenue_list = []\n",
    "booking_num_list = []\n",
    "for band_num in band_num_list:\n",
    "    booking_num, new_revenue  = estimateNewrevenue(revenue_prediction,band_num)\n",
    "    new_revenue_list.append(new_revenue)\n",
    "    booking_num_list.append(booking_num)"
   ]
  },
  {
   "cell_type": "code",
   "execution_count": 24,
   "metadata": {},
   "outputs": [
    {
     "name": "stdout",
     "output_type": "stream",
     "text": [
      "[481527, 481541, 481564, 481556, 481553, 481541, 481528, 481555, 481564, 481569]"
     ]
    }
   ],
   "source": [
    "booking_num_list"
   ]
  },
  {
   "cell_type": "code",
   "execution_count": 25,
   "metadata": {},
   "outputs": [
    {
     "name": "stdout",
     "output_type": "stream",
     "text": [
      "[32361865.630446505, 30482008.659255844, 29554993.28257789, 29054868.17835278, 28679587.695917077, 28378901.6701945, 28125813.61617068, 27961289.39853387, 27773488.968403537, 27667802.009333476]"
     ]
    }
   ],
   "source": [
    "new_revenue_list"
   ]
  },
  {
   "cell_type": "code",
   "execution_count": null,
   "metadata": {},
   "outputs": [],
   "source": []
  }
 ],
 "metadata": {
  "kernelspec": {
   "display_name": "PySpark3",
   "language": "",
   "name": "pyspark3kernel"
  },
  "language_info": {
   "codemirror_mode": {
    "name": "python",
    "version": 3
   },
   "mimetype": "text/x-python",
   "name": "pyspark3",
   "pygments_lexer": "python3"
  }
 },
 "nbformat": 4,
 "nbformat_minor": 2
}
