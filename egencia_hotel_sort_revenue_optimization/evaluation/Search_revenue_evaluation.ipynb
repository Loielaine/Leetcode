{
 "cells": [
  {
   "cell_type": "code",
   "execution_count": 2,
   "metadata": {},
   "outputs": [],
   "source": [
    "import datetime\n",
    "import pandas as pd\n",
    "import numpy as np\n",
    "\n",
    "from pyspark import SparkContext\n",
    "from pyspark import SQLContext\n",
    "from pyspark.sql.session import SparkSession\n",
    "\n",
    "\n",
    "from pyspark.sql import DataFrameStatFunctions as statFunc\n",
    "\n",
    "from pyspark.sql.functions import row_number\n",
    "from pyspark.sql.window import Window\n",
    "from pyspark.sql.functions import desc\n",
    "\n",
    "from pyspark.sql import functions as F\n",
    "from pyspark.sql import types as T\n",
    "from pyspark.sql.types import IntegerType,FloatType,DoubleType"
   ]
  },
  {
   "cell_type": "markdown",
   "metadata": {},
   "source": [
    "## Read Prediction"
   ]
  },
  {
   "cell_type": "code",
   "execution_count": 61,
   "metadata": {},
   "outputs": [
    {
     "name": "stdout",
     "output_type": "stream",
     "text": [
      "4281060"
     ]
    }
   ],
   "source": [
    "#Oct\n",
    "file_loc = \"s3://ege-ds-workshops-corp/yixli/data_understanding/09-22-2020_prediction.csv\"\n",
    "\n",
    "#Nov\n",
    "#file_loc = \"s3://ege-ds-workshops-corp/yixli/data_understanding/09-23-2020_prediction.csv\"\n",
    "\n",
    "#Dec\n",
    "#file_loc = \"s3://ege-ds-workshops-corp/yixli/data_understanding/09-25-2020_prediction.csv\"\n",
    "prediction = sqlContext.read.format('csv').\\\n",
    "            options(header='True', inferSchema='True', delimiter=',').\\\n",
    "            load(file_loc)\n",
    "\n",
    "\n",
    "prediction = prediction.\\\n",
    "            filter(F.col(\"hotel_id\")>0).\\\n",
    "            filter(F.col('src_rate_amount_usd').isNotNull())\n",
    "print(prediction.count())"
   ]
  },
  {
   "cell_type": "code",
   "execution_count": 62,
   "metadata": {},
   "outputs": [],
   "source": [
    "prediction = prediction.\\\n",
    "                     withColumn('duration', F.datediff(F.col(\"check_out_date\"),F.col( \"check_in_date\")).cast(IntegerType()))"
   ]
  },
  {
   "cell_type": "markdown",
   "metadata": {},
   "source": [
    "### top seven hotel revenue"
   ]
  },
  {
   "cell_type": "code",
   "execution_count": 63,
   "metadata": {},
   "outputs": [],
   "source": [
    "top_seven_prediction = prediction.withColumn('rate_rn',row_number().over(Window.partitionBy(\"message_id\",\"hotel_id\",\"check_in_date\",\"check_out_date\",'tuid').orderBy(desc('prob')))).\\\n",
    "filter(F.col('rate_rn')<=7)"
   ]
  },
  {
   "cell_type": "code",
   "execution_count": 64,
   "metadata": {},
   "outputs": [
    {
     "name": "stdout",
     "output_type": "stream",
     "text": [
      "2566729"
     ]
    }
   ],
   "source": [
    "top_seven_prediction.count()"
   ]
  },
  {
   "cell_type": "code",
   "execution_count": 65,
   "metadata": {},
   "outputs": [],
   "source": [
    "top_seven_prediction = top_seven_prediction.withColumn('trun_rate_n',F.count('rate_index').over(Window.partitionBy(\"message_id\",\"hotel_id\",\"check_in_date\",\"check_out_date\",'tuid')))"
   ]
  },
  {
   "cell_type": "code",
   "execution_count": 66,
   "metadata": {},
   "outputs": [],
   "source": [
    "top_seven_prediction = top_seven_prediction.withColumn('trun_hotel_revenue',F.sum(F.col('rate_revenue')*F.col('duration')).over(Window.partitionBy(\"message_id\",\"hotel_id\",\"check_in_date\",\"check_out_date\",'tuid')))"
   ]
  },
  {
   "cell_type": "code",
   "execution_count": 67,
   "metadata": {},
   "outputs": [],
   "source": [
    "top_seven_prediction = top_seven_prediction.withColumn('avg_trun_hotel_revenue',F.col('trun_hotel_revenue')/F.col('trun_rate_n'))"
   ]
  },
  {
   "cell_type": "markdown",
   "metadata": {},
   "source": [
    "### normalized hotel revenue"
   ]
  },
  {
   "cell_type": "code",
   "execution_count": 68,
   "metadata": {},
   "outputs": [],
   "source": [
    "prediction = prediction.withColumn('sum_prob',F.sum('prob').over(Window.partitionBy(\"message_id\",\"hotel_id\",\"check_in_date\",\"check_out_date\",'tuid')))"
   ]
  },
  {
   "cell_type": "code",
   "execution_count": 69,
   "metadata": {},
   "outputs": [],
   "source": [
    "prediction = prediction.withColumn('normalized_prob',F.col('prob')/F.col('sum_prob'))"
   ]
  },
  {
   "cell_type": "code",
   "execution_count": 70,
   "metadata": {},
   "outputs": [],
   "source": [
    "prediction = prediction.withColumn('normalized_rate_revenue',F.col('normalized_prob')*F.col('src_supply_revenue_usd'))"
   ]
  },
  {
   "cell_type": "code",
   "execution_count": 71,
   "metadata": {},
   "outputs": [],
   "source": [
    "prediction = prediction.withColumn('normalized_hotel_revenue',F.sum(F.col('normalized_rate_revenue')*F.col('duration')).over(Window.partitionBy(\"message_id\",\"hotel_id\",\"check_in_date\",\"check_out_date\",'tuid')))"
   ]
  },
  {
   "cell_type": "code",
   "execution_count": 72,
   "metadata": {},
   "outputs": [
    {
     "name": "stdout",
     "output_type": "stream",
     "text": [
      "449231"
     ]
    }
   ],
   "source": [
    "prediction.select(\"message_id\",\"hotel_id\",\"check_in_date\",\"check_out_date\",\"tuid\",'normalized_hotel_revenue','hotel_index','score_1','bk_hotel_index').\\\n",
    "dropDuplicates().count()"
   ]
  },
  {
   "cell_type": "code",
   "execution_count": 73,
   "metadata": {},
   "outputs": [],
   "source": [
    "revenue_prediction = prediction.select(\"message_id\",\"hotel_id\",\"check_in_date\",\"check_out_date\",\"tuid\",'normalized_hotel_revenue','hotel_index','score_1','bk_hotel_index').\\\n",
    "join(top_seven_prediction .\\\n",
    "select(\"message_id\",\"hotel_id\",\"check_in_date\",\"check_out_date\",\"tuid\",'avg_trun_hotel_revenue','hotel_index','score_1','bk_hotel_index'),\n",
    "    [\"message_id\",\"hotel_id\",\"check_in_date\",\"check_out_date\",\"tuid\",'hotel_index','score_1','bk_hotel_index'],how='left').dropDuplicates()"
   ]
  },
  {
   "cell_type": "code",
   "execution_count": 74,
   "metadata": {},
   "outputs": [
    {
     "name": "stdout",
     "output_type": "stream",
     "text": [
      "449231"
     ]
    }
   ],
   "source": [
    "revenue_prediction.count()"
   ]
  },
  {
   "cell_type": "code",
   "execution_count": 75,
   "metadata": {},
   "outputs": [
    {
     "name": "stdout",
     "output_type": "stream",
     "text": [
      "122393"
     ]
    }
   ],
   "source": [
    "revenue_prediction.filter(F.col('bk_hotel_index')==F.col('hotel_index')).count()"
   ]
  },
  {
   "cell_type": "code",
   "execution_count": 76,
   "metadata": {},
   "outputs": [],
   "source": [
    "revenue_prediction = revenue_prediction.filter(F.col('score_1').isNotNull())"
   ]
  },
  {
   "cell_type": "markdown",
   "metadata": {},
   "source": [
    "### Bands"
   ]
  },
  {
   "cell_type": "code",
   "execution_count": 77,
   "metadata": {},
   "outputs": [],
   "source": [
    "band_df = revenue_prediction.\\\n",
    "    groupby(\"message_id\", \"tuid\").\\\n",
    "    agg(F.count(\"hotel_id\").alias(\"n\"),F.max(\"score_1\").alias(\"ub\"),F.min(\"score_1\").alias(\"lb\")).\\\n",
    "    filter(F.col(\"n\")>=1).\\\n",
    "    filter(F.col(\"n\")<=30).\\\n",
    "    withColumn(\"n_band\", F.lit(5)).\\\n",
    "    withColumn(\"sz_band\", F.expr(\"(ub - lb)/n_band\")).\\\n",
    "    select(\"message_id\", \"tuid\", \"sz_band\", \"ub\", \"lb\")"
   ]
  },
  {
   "cell_type": "code",
   "execution_count": 78,
   "metadata": {},
   "outputs": [],
   "source": [
    "revenue_prediction2 = revenue_prediction.\\\n",
    "    join(band_df, [\"message_id\", \"tuid\"]).\\\n",
    "    withColumn(\"band\", F.when(F.col(\"sz_band\") == 0, 1).otherwise(F.expr(\"int((score_1-lb)/sz_band)\")))"
   ]
  },
  {
   "cell_type": "code",
   "execution_count": 79,
   "metadata": {},
   "outputs": [
    {
     "name": "stdout",
     "output_type": "stream",
     "text": [
      "+----+------+\n",
      "|band|     n|\n",
      "+----+------+\n",
      "|   1| 55426|\n",
      "|   3| 35900|\n",
      "|   5| 85728|\n",
      "|   4| 35224|\n",
      "|   2| 36073|\n",
      "|   0|150952|\n",
      "+----+------+"
     ]
    }
   ],
   "source": [
    "revenue_prediction2.groupby(\"band\").agg(F.count(\"*\").alias(\"n\")).show(10)"
   ]
  },
  {
   "cell_type": "code",
   "execution_count": 80,
   "metadata": {},
   "outputs": [
    {
     "name": "stdout",
     "output_type": "stream",
     "text": [
      "399303"
     ]
    }
   ],
   "source": [
    "revenue_prediction2.count()"
   ]
  },
  {
   "cell_type": "code",
   "execution_count": 81,
   "metadata": {},
   "outputs": [
    {
     "name": "stdout",
     "output_type": "stream",
     "text": [
      "95207"
     ]
    }
   ],
   "source": [
    "revenue_prediction2.filter(F.col('bk_hotel_index')==F.col('hotel_index')).count()"
   ]
  },
  {
   "cell_type": "markdown",
   "metadata": {},
   "source": [
    "## New revenue with top 7"
   ]
  },
  {
   "cell_type": "code",
   "execution_count": 82,
   "metadata": {},
   "outputs": [
    {
     "name": "stdout",
     "output_type": "stream",
     "text": [
      "+---------------------------+-----------------------------+\n",
      "|sum(avg_trun_hotel_revenue)|sum(normalized_hotel_revenue)|\n",
      "+---------------------------+-----------------------------+\n",
      "|            4711294.6662152|            5464323.978237547|\n",
      "+---------------------------+-----------------------------+"
     ]
    }
   ],
   "source": [
    "revenue_prediction2.filter(F.col('bk_hotel_index')==F.col('hotel_index')).\\\n",
    "select('avg_trun_hotel_revenue','normalized_hotel_revenue').\\\n",
    "agg(F.sum('avg_trun_hotel_revenue'),F.sum('normalized_hotel_revenue')).show()"
   ]
  },
  {
   "cell_type": "code",
   "execution_count": 83,
   "metadata": {},
   "outputs": [],
   "source": [
    "revenue_prediction2 = revenue_prediction2.\\\n",
    " withColumn(\"band_index_top7\", row_number().over(Window.partitionBy(\"message_id\", \"tuid\",\"band\").orderBy(F.desc('avg_trun_hotel_revenue')))).\\\n",
    "withColumn(\"new_hotel_index1\", row_number().over(Window.partitionBy(\"message_id\", \"tuid\").\\\n",
    "                                                orderBy(F.asc(\"band\"),F.asc(\"band_index_top7\"))))"
   ]
  },
  {
   "cell_type": "code",
   "execution_count": 84,
   "metadata": {},
   "outputs": [
    {
     "name": "stdout",
     "output_type": "stream",
     "text": [
      "+---------------------------+-----------------------------+\n",
      "|sum(avg_trun_hotel_revenue)|sum(normalized_hotel_revenue)|\n",
      "+---------------------------+-----------------------------+\n",
      "|          5064760.280179547|             6025628.22742913|\n",
      "+---------------------------+-----------------------------+"
     ]
    }
   ],
   "source": [
    "revenue_prediction2.filter(F.col('bk_hotel_index')==F.col('new_hotel_index1')).\\\n",
    "select('avg_trun_hotel_revenue','normalized_hotel_revenue').\\\n",
    "agg(F.sum('avg_trun_hotel_revenue'),F.sum('normalized_hotel_revenue')).show()"
   ]
  },
  {
   "cell_type": "code",
   "execution_count": 85,
   "metadata": {},
   "outputs": [
    {
     "name": "stdout",
     "output_type": "stream",
     "text": [
      "340303"
     ]
    }
   ],
   "source": [
    "revenue_prediction2.filter(F.col('hotel_index')!=F.col('new_hotel_index1')).count()"
   ]
  },
  {
   "cell_type": "markdown",
   "metadata": {},
   "source": [
    "## Normalized revenue"
   ]
  },
  {
   "cell_type": "code",
   "execution_count": 86,
   "metadata": {},
   "outputs": [
    {
     "name": "stdout",
     "output_type": "stream",
     "text": [
      "+-----------------------------+\n",
      "|sum(normalized_hotel_revenue)|\n",
      "+-----------------------------+\n",
      "|            5464323.978237551|\n",
      "+-----------------------------+"
     ]
    }
   ],
   "source": [
    "revenue_prediction2.filter(F.col('bk_hotel_index')==F.col('hotel_index')).\\\n",
    "select('normalized_hotel_revenue').\\\n",
    "agg(F.sum('normalized_hotel_revenue')).show()"
   ]
  },
  {
   "cell_type": "code",
   "execution_count": 87,
   "metadata": {},
   "outputs": [],
   "source": [
    "revenue_prediction2 = revenue_prediction2.\\\n",
    " withColumn(\"band_index_normalized\", row_number().over(Window.partitionBy(\"message_id\", \"tuid\",\"band\").orderBy(F.desc('normalized_hotel_revenue')))).\\\n",
    "withColumn(\"new_hotel_index2\", row_number().over(Window.partitionBy(\"message_id\", \"tuid\").\\\n",
    "                                                orderBy(F.asc(\"band\"),F.asc(\"band_index_normalized\"))))"
   ]
  },
  {
   "cell_type": "code",
   "execution_count": 88,
   "metadata": {},
   "outputs": [
    {
     "name": "stdout",
     "output_type": "stream",
     "text": [
      "+-----------------------------+\n",
      "|sum(normalized_hotel_revenue)|\n",
      "+-----------------------------+\n",
      "|            6039877.320793726|\n",
      "+-----------------------------+"
     ]
    }
   ],
   "source": [
    "revenue_prediction2.filter(F.col('bk_hotel_index')==F.col('new_hotel_index2')).\\\n",
    "select('normalized_hotel_revenue').\\\n",
    "agg(F.sum('normalized_hotel_revenue')).show()"
   ]
  },
  {
   "cell_type": "code",
   "execution_count": 89,
   "metadata": {},
   "outputs": [
    {
     "name": "stdout",
     "output_type": "stream",
     "text": [
      "340350"
     ]
    }
   ],
   "source": [
    "revenue_prediction2.filter(F.col('hotel_index')!=F.col('new_hotel_index2')).count()"
   ]
  },
  {
   "cell_type": "code",
   "execution_count": 90,
   "metadata": {},
   "outputs": [],
   "source": [
    "dir = 's3://ege-ds-workshops-corp/yixli/data_understanding/'\n",
    "datestamp = datetime.datetime.now().strftime('%m-%d-%Y')\n",
    "revenue_prediction2.repartition(1).write.format('com.databricks.spark.csv').mode('overwrite')\\\n",
    ".save(dir+datestamp+'_revenue_prediction.csv',header = 'true')"
   ]
  },
  {
   "cell_type": "code",
   "execution_count": null,
   "metadata": {},
   "outputs": [],
   "source": []
  }
 ],
 "metadata": {
  "kernelspec": {
   "display_name": "PySpark3",
   "language": "",
   "name": "pyspark3kernel"
  },
  "language_info": {
   "codemirror_mode": {
    "name": "python",
    "version": 3
   },
   "mimetype": "text/x-python",
   "name": "pyspark3",
   "pygments_lexer": "python3"
  }
 },
 "nbformat": 4,
 "nbformat_minor": 2
}
