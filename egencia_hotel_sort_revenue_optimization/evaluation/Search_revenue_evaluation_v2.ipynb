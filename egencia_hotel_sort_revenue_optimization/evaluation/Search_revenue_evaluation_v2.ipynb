{
 "cells": [
  {
   "cell_type": "code",
   "execution_count": 2,
   "metadata": {},
   "outputs": [],
   "source": [
    "import datetime\n",
    "import pandas as pd\n",
    "import numpy as np\n",
    "\n",
    "from pyspark import SparkContext\n",
    "from pyspark import SQLContext\n",
    "from pyspark.sql.session import SparkSession\n",
    "\n",
    "\n",
    "from pyspark.sql import DataFrameStatFunctions as statFunc\n",
    "\n",
    "from pyspark.sql.functions import row_number\n",
    "from pyspark.sql.window import Window\n",
    "from pyspark.sql.functions import desc\n",
    "\n",
    "from pyspark.sql import functions as F\n",
    "from pyspark.sql import types as T\n",
    "from pyspark.sql.types import IntegerType,FloatType,DoubleType"
   ]
  },
  {
   "cell_type": "markdown",
   "metadata": {},
   "source": [
    "## 1 Read Prediction"
   ]
  },
  {
   "cell_type": "markdown",
   "metadata": {},
   "source": [
    "This is the prediction from the model with data ranged from 10/01/2019 - 01/01/2020."
   ]
  },
  {
   "cell_type": "code",
   "execution_count": 3,
   "metadata": {},
   "outputs": [],
   "source": [
    "prediction = sqlContext.read.parquet('s3://ege-ds-workshops-corp/yixli/prediction/prediction')"
   ]
  },
  {
   "cell_type": "code",
   "execution_count": 4,
   "metadata": {},
   "outputs": [],
   "source": [
    "prediction = prediction.\\\n",
    "                     withColumn('duration', F.datediff(F.col(\"check_out_date\"),F.col( \"check_in_date\")).cast(IntegerType()))"
   ]
  },
  {
   "cell_type": "markdown",
   "metadata": {},
   "source": [
    "### top seven hotel revenue"
   ]
  },
  {
   "cell_type": "code",
   "execution_count": 5,
   "metadata": {},
   "outputs": [],
   "source": [
    "top_seven_prediction = prediction.withColumn('rate_rn',row_number().over(Window.partitionBy(\"message_id\",\"hotel_id\",\"check_in_date\",\"check_out_date\",'tuid').orderBy(desc('prob')))).\\\n",
    "filter(F.col('rate_rn')<=7)"
   ]
  },
  {
   "cell_type": "code",
   "execution_count": 6,
   "metadata": {},
   "outputs": [
    {
     "name": "stdout",
     "output_type": "stream",
     "text": [
      "57578260"
     ]
    }
   ],
   "source": [
    "top_seven_prediction.count()"
   ]
  },
  {
   "cell_type": "code",
   "execution_count": 7,
   "metadata": {},
   "outputs": [],
   "source": [
    "top_seven_prediction = top_seven_prediction.withColumn('trun_rate_n',F.count('rate_index').over(Window.partitionBy(\"message_id\",\"hotel_id\",\"check_in_date\",\"check_out_date\",'tuid')))"
   ]
  },
  {
   "cell_type": "code",
   "execution_count": 8,
   "metadata": {},
   "outputs": [],
   "source": [
    "top_seven_prediction = top_seven_prediction.withColumn('trun_hotel_revenue',F.sum(F.col('rate_revenue')*F.col('duration')).over(Window.partitionBy(\"message_id\",\"hotel_id\",\"check_in_date\",\"check_out_date\",'tuid')))"
   ]
  },
  {
   "cell_type": "code",
   "execution_count": 9,
   "metadata": {},
   "outputs": [],
   "source": [
    "top_seven_prediction = top_seven_prediction.withColumn('avg_trun_hotel_revenue',F.col('trun_hotel_revenue')/F.col('trun_rate_n'))"
   ]
  },
  {
   "cell_type": "markdown",
   "metadata": {},
   "source": [
    "### normalized hotel revenue"
   ]
  },
  {
   "cell_type": "code",
   "execution_count": 10,
   "metadata": {},
   "outputs": [],
   "source": [
    "prediction = prediction.withColumn('sum_prob',F.sum('prob').over(Window.partitionBy(\"message_id\",\"hotel_id\",\"check_in_date\",\"check_out_date\",'tuid')))"
   ]
  },
  {
   "cell_type": "code",
   "execution_count": 11,
   "metadata": {},
   "outputs": [],
   "source": [
    "prediction = prediction.withColumn('normalized_prob',F.col('prob')/F.col('sum_prob'))"
   ]
  },
  {
   "cell_type": "code",
   "execution_count": 12,
   "metadata": {},
   "outputs": [],
   "source": [
    "prediction = prediction.withColumn('normalized_rate_revenue',F.col('normalized_prob')*F.col('src_supply_revenue_usd'))"
   ]
  },
  {
   "cell_type": "code",
   "execution_count": 13,
   "metadata": {},
   "outputs": [],
   "source": [
    "prediction = prediction.withColumn('normalized_hotel_revenue',F.sum(F.col('normalized_rate_revenue')*F.col('duration')).over(Window.partitionBy(\"message_id\",\"hotel_id\",\"check_in_date\",\"check_out_date\",'tuid')))"
   ]
  },
  {
   "cell_type": "markdown",
   "metadata": {},
   "source": [
    "### Join two estimation together"
   ]
  },
  {
   "cell_type": "code",
   "execution_count": 14,
   "metadata": {},
   "outputs": [],
   "source": [
    "revenue_prediction = prediction.select(\"message_id\",\"hotel_id\",\"check_in_date\",\"check_out_date\",\"tuid\",'normalized_hotel_revenue','hotel_index','score_1','bk_hotel_index','message_date').\\\n",
    "join(top_seven_prediction .\\\n",
    "select(\"message_id\",\"hotel_id\",\"check_in_date\",\"check_out_date\",\"tuid\",'avg_trun_hotel_revenue','hotel_index','score_1','bk_hotel_index'),\n",
    "    [\"message_id\",\"hotel_id\",\"check_in_date\",\"check_out_date\",\"tuid\",'hotel_index','score_1','bk_hotel_index'],how='left').dropDuplicates()"
   ]
  },
  {
   "cell_type": "code",
   "execution_count": 15,
   "metadata": {},
   "outputs": [
    {
     "name": "stdout",
     "output_type": "stream",
     "text": [
      "10670838"
     ]
    }
   ],
   "source": [
    "revenue_prediction.count()"
   ]
  },
  {
   "cell_type": "code",
   "execution_count": 16,
   "metadata": {},
   "outputs": [
    {
     "name": "stdout",
     "output_type": "stream",
     "text": [
      "537428"
     ]
    }
   ],
   "source": [
    "# num of bookings\n",
    "revenue_prediction.filter(F.col('bk_hotel_index')==F.col('hotel_index')).count()"
   ]
  },
  {
   "cell_type": "markdown",
   "metadata": {},
   "source": [
    "About 7.9% scores are NULL. After excluding those samples, about 8.5% of bookings are missed."
   ]
  },
  {
   "cell_type": "code",
   "execution_count": 17,
   "metadata": {},
   "outputs": [],
   "source": [
    "revenue_prediction = revenue_prediction.filter(F.col('score_1').isNotNull())"
   ]
  },
  {
   "cell_type": "code",
   "execution_count": 18,
   "metadata": {},
   "outputs": [
    {
     "name": "stdout",
     "output_type": "stream",
     "text": [
      "9826186"
     ]
    }
   ],
   "source": [
    "revenue_prediction.count()"
   ]
  },
  {
   "cell_type": "code",
   "execution_count": 19,
   "metadata": {},
   "outputs": [
    {
     "name": "stdout",
     "output_type": "stream",
     "text": [
      "491393"
     ]
    }
   ],
   "source": [
    "# num of bookings after excluding NULL scores\n",
    "revenue_prediction.filter(F.col('bk_hotel_index')==F.col('hotel_index')).count()"
   ]
  },
  {
   "cell_type": "markdown",
   "metadata": {},
   "source": [
    "## 2 Bands"
   ]
  },
  {
   "cell_type": "code",
   "execution_count": 20,
   "metadata": {},
   "outputs": [],
   "source": [
    "band_df = revenue_prediction.\\\n",
    "    groupby(\"message_id\", \"tuid\").\\\n",
    "    agg(F.count(\"hotel_id\").alias(\"n\"),F.max(\"score_1\").alias(\"ub\"),F.min(\"score_1\").alias(\"lb\")).\\\n",
    "    filter(F.col(\"n\")>=1).\\\n",
    "    filter(F.col(\"n\")<=30).\\\n",
    "    withColumn(\"n_band\", F.lit(5)).\\\n",
    "    withColumn(\"sz_band\", F.expr(\"(ub - lb)/n_band\")).\\\n",
    "    select(\"message_id\", \"tuid\", \"sz_band\", \"ub\", \"lb\")"
   ]
  },
  {
   "cell_type": "code",
   "execution_count": 21,
   "metadata": {},
   "outputs": [],
   "source": [
    "revenue_prediction2 = revenue_prediction.\\\n",
    "    join(band_df, [\"message_id\", \"tuid\"]).\\\n",
    "    withColumn(\"band\", F.when(F.col(\"sz_band\") == 0, 1).otherwise(F.expr(\"int((score_1-lb)/sz_band)\")))"
   ]
  },
  {
   "cell_type": "code",
   "execution_count": 22,
   "metadata": {},
   "outputs": [
    {
     "name": "stdout",
     "output_type": "stream",
     "text": [
      "+----+-------+\n",
      "|band|      n|\n",
      "+----+-------+\n",
      "|   1|1611039|\n",
      "|   3|1782026|\n",
      "|   5| 491026|\n",
      "|   4|1711397|\n",
      "|   2|1504973|\n",
      "|   0|2527710|\n",
      "+----+-------+"
     ]
    }
   ],
   "source": [
    "revenue_prediction2.groupby(\"band\").agg(F.count(\"*\").alias(\"n\")).show(10)"
   ]
  },
  {
   "cell_type": "code",
   "execution_count": 23,
   "metadata": {},
   "outputs": [
    {
     "name": "stdout",
     "output_type": "stream",
     "text": [
      "9628171"
     ]
    }
   ],
   "source": [
    "revenue_prediction2.count()"
   ]
  },
  {
   "cell_type": "markdown",
   "metadata": {},
   "source": [
    "After banding, additional 1.5% of bookings are missed."
   ]
  },
  {
   "cell_type": "code",
   "execution_count": 24,
   "metadata": {
    "scrolled": true
   },
   "outputs": [
    {
     "name": "stdout",
     "output_type": "stream",
     "text": [
      "483813"
     ]
    }
   ],
   "source": [
    "revenue_prediction2.filter(F.col('bk_hotel_index')==F.col('hotel_index')).count()"
   ]
  },
  {
   "cell_type": "code",
   "execution_count": 25,
   "metadata": {},
   "outputs": [],
   "source": [
    "revenue_prediction2 = revenue_prediction2.withColumn('month',F.month('message_date'))"
   ]
  },
  {
   "cell_type": "markdown",
   "metadata": {},
   "source": [
    "## 3 New revenue with top 7"
   ]
  },
  {
   "cell_type": "code",
   "execution_count": 27,
   "metadata": {},
   "outputs": [
    {
     "name": "stdout",
     "output_type": "stream",
     "text": [
      "+-----------------------------+\n",
      "|sum(normalized_hotel_revenue)|\n",
      "+-----------------------------+\n",
      "|         2.4983206671227984E7|\n",
      "+-----------------------------+"
     ]
    }
   ],
   "source": [
    "revenue_prediction2.filter(F.col('bk_hotel_index')==F.col('hotel_index')).\\\n",
    "select('normalized_hotel_revenue').\\\n",
    "agg(F.sum('normalized_hotel_revenue')).show()"
   ]
  },
  {
   "cell_type": "code",
   "execution_count": 28,
   "metadata": {},
   "outputs": [
    {
     "name": "stdout",
     "output_type": "stream",
     "text": [
      "+-----+-----------------------------+\n",
      "|month|sum(normalized_hotel_revenue)|\n",
      "+-----+-----------------------------+\n",
      "|   12|            6668063.733493605|\n",
      "|    1|           10982.181742027944|\n",
      "|   10|            9914859.241060503|\n",
      "|   11|             8389301.51493186|\n",
      "+-----+-----------------------------+"
     ]
    }
   ],
   "source": [
    "revenue_prediction2.filter(F.col('bk_hotel_index')==F.col('hotel_index')).\\\n",
    "select('normalized_hotel_revenue','month').\\\n",
    "groupBy('month').agg(F.sum('normalized_hotel_revenue')).show()"
   ]
  },
  {
   "cell_type": "code",
   "execution_count": 29,
   "metadata": {},
   "outputs": [],
   "source": [
    "revenue_prediction2 = revenue_prediction2.\\\n",
    " withColumn(\"band_index_top7\", row_number().over(Window.partitionBy(\"message_id\", \"tuid\",\"band\").orderBy(F.desc('avg_trun_hotel_revenue')))).\\\n",
    "withColumn(\"new_hotel_index1\", row_number().over(Window.partitionBy(\"message_id\", \"tuid\").\\\n",
    "                                                orderBy(F.asc(\"band\"),F.asc(\"band_index_top7\"))))"
   ]
  },
  {
   "cell_type": "code",
   "execution_count": 30,
   "metadata": {},
   "outputs": [
    {
     "name": "stdout",
     "output_type": "stream",
     "text": [
      "+-----------------------------+\n",
      "|sum(normalized_hotel_revenue)|\n",
      "+-----------------------------+\n",
      "|         2.8399222036889426E7|\n",
      "+-----------------------------+"
     ]
    }
   ],
   "source": [
    "revenue_prediction2.filter(F.col('bk_hotel_index')==F.col('new_hotel_index1')).\\\n",
    "select('avg_trun_hotel_revenue','normalized_hotel_revenue').\\\n",
    "agg(F.sum('normalized_hotel_revenue')).show()"
   ]
  },
  {
   "cell_type": "code",
   "execution_count": 31,
   "metadata": {},
   "outputs": [
    {
     "name": "stdout",
     "output_type": "stream",
     "text": [
      "+-----+-----------------------------+\n",
      "|month|sum(normalized_hotel_revenue)|\n",
      "+-----+-----------------------------+\n",
      "|   12|            7713810.819885342|\n",
      "|    1|           10700.185977735482|\n",
      "|   10|         1.1027879571481427E7|\n",
      "|   11|            9644683.758919638|\n",
      "+-----+-----------------------------+"
     ]
    }
   ],
   "source": [
    "revenue_prediction2.filter(F.col('bk_hotel_index')==F.col('new_hotel_index1')).\\\n",
    "select('normalized_hotel_revenue','month').\\\n",
    "groupBy('month').agg(F.sum('normalized_hotel_revenue')).show()"
   ]
  },
  {
   "cell_type": "code",
   "execution_count": 32,
   "metadata": {},
   "outputs": [
    {
     "name": "stdout",
     "output_type": "stream",
     "text": [
      "9371347"
     ]
    }
   ],
   "source": [
    "revenue_prediction2.filter(F.col('hotel_index')!=F.col('new_hotel_index1')).count()"
   ]
  },
  {
   "cell_type": "markdown",
   "metadata": {},
   "source": [
    "## 4 New revenue with normalized probabilities"
   ]
  },
  {
   "cell_type": "code",
   "execution_count": 33,
   "metadata": {},
   "outputs": [
    {
     "name": "stdout",
     "output_type": "stream",
     "text": [
      "+-----------------------------+\n",
      "|sum(normalized_hotel_revenue)|\n",
      "+-----------------------------+\n",
      "|         2.4983206671227977E7|\n",
      "+-----------------------------+"
     ]
    }
   ],
   "source": [
    "revenue_prediction2.filter(F.col('bk_hotel_index')==F.col('hotel_index')).\\\n",
    "select('normalized_hotel_revenue').\\\n",
    "agg(F.sum('normalized_hotel_revenue')).show()"
   ]
  },
  {
   "cell_type": "code",
   "execution_count": 34,
   "metadata": {},
   "outputs": [
    {
     "name": "stdout",
     "output_type": "stream",
     "text": [
      "+-----+-----------------------------+\n",
      "|month|sum(normalized_hotel_revenue)|\n",
      "+-----+-----------------------------+\n",
      "|   12|            6668063.733493605|\n",
      "|    1|           10982.181742027948|\n",
      "|   10|            9914859.241060501|\n",
      "|   11|            8389301.514931852|\n",
      "+-----+-----------------------------+"
     ]
    }
   ],
   "source": [
    "revenue_prediction2.filter(F.col('bk_hotel_index')==F.col('hotel_index')).\\\n",
    "select('normalized_hotel_revenue','month').\\\n",
    "groupBy('month').agg(F.sum('normalized_hotel_revenue')).show()"
   ]
  },
  {
   "cell_type": "code",
   "execution_count": 35,
   "metadata": {},
   "outputs": [],
   "source": [
    "revenue_prediction2 = revenue_prediction2.\\\n",
    " withColumn(\"band_index_normalized\", row_number().over(Window.partitionBy(\"message_id\", \"tuid\",\"band\").orderBy(F.desc('normalized_hotel_revenue')))).\\\n",
    "withColumn(\"new_hotel_index2\", row_number().over(Window.partitionBy(\"message_id\", \"tuid\").\\\n",
    "                                                orderBy(F.asc(\"band\"),F.asc(\"band_index_normalized\"))))"
   ]
  },
  {
   "cell_type": "code",
   "execution_count": 36,
   "metadata": {},
   "outputs": [
    {
     "name": "stdout",
     "output_type": "stream",
     "text": [
      "+-----------------------------+\n",
      "|sum(normalized_hotel_revenue)|\n",
      "+-----------------------------+\n",
      "|          2.867964139604674E7|\n",
      "+-----------------------------+"
     ]
    }
   ],
   "source": [
    "revenue_prediction2.filter(F.col('bk_hotel_index')==F.col('new_hotel_index2')).\\\n",
    "select('normalized_hotel_revenue').\\\n",
    "agg(F.sum('normalized_hotel_revenue')).show()"
   ]
  },
  {
   "cell_type": "code",
   "execution_count": 37,
   "metadata": {},
   "outputs": [
    {
     "name": "stdout",
     "output_type": "stream",
     "text": [
      "+-----+-----------------------------+\n",
      "|month|sum(normalized_hotel_revenue)|\n",
      "+-----+-----------------------------+\n",
      "|   12|            7796310.409051943|\n",
      "|    1|            10532.18705316058|\n",
      "|   10|         1.1139744879113207E7|\n",
      "|   11|            9732178.442727523|\n",
      "+-----+-----------------------------+"
     ]
    }
   ],
   "source": [
    "revenue_prediction2.filter(F.col('bk_hotel_index')==F.col('new_hotel_index2')).\\\n",
    "select('normalized_hotel_revenue','month').\\\n",
    "groupBy('month').agg(F.sum('normalized_hotel_revenue')).show()"
   ]
  },
  {
   "cell_type": "code",
   "execution_count": 38,
   "metadata": {},
   "outputs": [
    {
     "name": "stdout",
     "output_type": "stream",
     "text": [
      "9371152"
     ]
    }
   ],
   "source": [
    "revenue_prediction2.filter(F.col('hotel_index')!=F.col('new_hotel_index2')).count()"
   ]
  },
  {
   "cell_type": "code",
   "execution_count": 39,
   "metadata": {},
   "outputs": [],
   "source": [
    "dir = 's3://ege-ds-workshops-corp/yixli/prediction/'\n",
    "revenue_prediction2.repartition(1).write.mode('overwrite').parquet(dir+'revenue_estimation2')"
   ]
  },
  {
   "cell_type": "code",
   "execution_count": null,
   "metadata": {},
   "outputs": [],
   "source": []
  }
 ],
 "metadata": {
  "kernelspec": {
   "display_name": "PySpark3",
   "language": "",
   "name": "pyspark3kernel"
  },
  "language_info": {
   "codemirror_mode": {
    "name": "python",
    "version": 3
   },
   "mimetype": "text/x-python",
   "name": "pyspark3",
   "pygments_lexer": "python3"
  }
 },
 "nbformat": 4,
 "nbformat_minor": 2
}
