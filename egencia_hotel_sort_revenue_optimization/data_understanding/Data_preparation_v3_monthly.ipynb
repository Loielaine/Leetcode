{
 "cells": [
  {
   "cell_type": "code",
   "execution_count": 2,
   "metadata": {},
   "outputs": [],
   "source": [
    "import datetime\n",
    "import pandas as pd\n",
    "import numpy as np\n",
    "\n",
    "from pyspark import SparkContext\n",
    "from pyspark import SQLContext\n",
    "from pyspark.sql.session import SparkSession\n",
    "\n",
    "\n",
    "from pyspark.sql import DataFrameStatFunctions as statFunc\n",
    "\n",
    "from pyspark.sql.functions import row_number\n",
    "from pyspark.sql.window import Window\n",
    "from pyspark.sql.functions import desc\n",
    "\n",
    "from pyspark.sql import functions as F\n",
    "from pyspark.sql import types as T\n",
    "from pyspark.sql.types import IntegerType"
   ]
  },
  {
   "cell_type": "code",
   "execution_count": 3,
   "metadata": {},
   "outputs": [],
   "source": [
    "%local\n",
    "import pandas as pd\n",
    "import numpy as np\n",
    "import matplotlib.pyplot as plt\n",
    "import seaborn as sns\n",
    "pd.options.display.float_format = '{:.5f}'.format"
   ]
  },
  {
   "cell_type": "code",
   "execution_count": 3,
   "metadata": {},
   "outputs": [
    {
     "name": "stdout",
     "output_type": "stream",
     "text": [
      "460242"
     ]
    }
   ],
   "source": [
    "sqlBookings = \"\"\"SELECT \n",
    "      a.hotelfactid,\n",
    "      a.hotelid as hotel_id,\n",
    "     trunc(a.issuedate) as issue_date,\n",
    "     trunc(a.traveldatestart) as check_in_date,\n",
    "     trunc(a.traveldateend) as check_out_date,\n",
    "     hsp.quarter as quarter,\n",
    "      (case when a.customersystemid=1 then a.TUIDTraveler else g.TUIDInternal end) as tuid,      \n",
    "      a.travelproductid AS travel_product_id,\n",
    "      a.GroupAccountID AS group_account_id,\n",
    "      hsp.rate_type AS hotel_rate_type,\n",
    "      (case  \n",
    "        when a.hotelrateTypeSupplyid IN (1,2,3,4,5,10,11,14,16,17,18,20,25,26,28,29,30,32) then 'GDS'\n",
    "        when a.hotelrateTypeSupplyid IN (12,13,15,19,21,22,23,27,31,33,34) then 'NEG'\n",
    "        when a.hotelrateTypeSupplyid = 6 then 'ESRA'\n",
    "        when a.hotelrateTypeSupplyid = 7 then 'ESRM'\n",
    "        when a.hotelrateTypeSupplyid = 8 then 'EPRA'\n",
    "        when a.hotelrateTypeSupplyid = 9 then 'EPRM'\n",
    "        when a.hotelrateTypeSupplyid IN (24,35) then 'HOTMIP'\n",
    "        else 'UNK'\n",
    "        end) as bk_rate_type,\n",
    "      CASE WHEN a.OnlineBool = 1 THEN 'online' ELSE 'offline' END AS booking_type,\n",
    "      a.bookingamtgross::DOUBLE precision*COALESCE(ex.exchangerate,1::DOUBLE precision) AS gross_booking_value_usd,\n",
    "      a.bookingamtcommissionest::DOUBLE precision*COALESCE(ex.exchangerate,1::DOUBLE precision)\n",
    "        + a.bookingamtgross::DOUBLE precision*COALESCE(ex.exchangerate,1::DOUBLE precision)*NVL(hsp.commission,0.00) AS total_commission,\n",
    "      a.bookingamtmargin::DOUBLE precision*COALESCE(ex.exchangerate,1::DOUBLE precision) AS total_markup,\n",
    "      4.3 AS total_gds,\n",
    "      NVL(total_commission,0.00) + NVL(total_markup,0.00) + NVL(total_gds,0.00) AS total_supply_revenue\n",
    "FROM public.HotelFact a\n",
    "  JOIN public.ExchangeRateDailySubset ex\n",
    "    ON a.IssueDateTimeID = ex.TimeID AND a.CurrencyCode = ex.FromCurrencyCode AND ex.ToCurrencyCode = 'USD'\n",
    "  JOIN TravelerAccountDim g \n",
    "    ON a.TUIDTraveler = g.TUID AND a.customersystemid=g.customersystemid \n",
    "  JOIN public.GroupAccountdim d \n",
    "    ON a.GroupAccountID = d.GroupAccountID \n",
    "  JOIN public.hotel_supply hsp \n",
    "    ON hsp.year = EXTRACT (year FROM a.IssueDate)\n",
    "    AND hsp.quarter = EXTRACT (quarter FROM a.IssueDate)\n",
    "    AND hsp.rate_type = CASE\n",
    "         WHEN a.HotelRateTypeSupplyID IN (7,9,24) THEN 'Expedia Collect'\n",
    "         WHEN a.HotelRateTypeSupplyID IN (6,8,35) THEN 'Hotel Collect'\n",
    "         WHEN a.HotelRateTypeSupplyID IN (12,13,15,19,21,22,23,27,31,33,34) THEN 'Negotiated'\n",
    "         ELSE 'Published & GDS' END\n",
    "    AND hsp.travel_product_id = a.TravelProductID\n",
    "WHERE a.CustomerSystemID IN (1,2)\n",
    "AND   (d.groupaccountinternaltypeid = 1 OR d.groupaccountinternaltypeid = 3)\n",
    "AND a.BookingTypeID in (1,3) \n",
    "and a.issuedate>=to_date('20191201','YYYYMMDD') \n",
    "and a.issuedate<=to_date('20200101','YYYYMMDD')\"\"\".replace('\\n',' ')\n",
    "\n",
    "connection_string = \"jdbc:redshift://egencia-reporting.czjkedodj6lc.us-west-2.redshift.amazonaws.com:5439/egedatamart?user=ds_rpt_user&password=Jan2019!\";\n",
    "\n",
    "bookings_df = sqlContext.read.\\\n",
    "    format(\"com.databricks.spark.redshift\").\\\n",
    "    option(\"url\", connection_string).\\\n",
    "    option(\"query\", sqlBookings).\\\n",
    "    option(\"tempdir\", \"s3a://ege-ds-workshops-corp/yixli/\").\\\n",
    "    load()\n",
    "\n",
    "bookings_df.cache()\n",
    "bookings_df.count()"
   ]
  },
  {
   "cell_type": "code",
   "execution_count": 4,
   "metadata": {},
   "outputs": [],
   "source": [
    "bookings_df = bookings_df.withColumn('rate_type',F.when(F.col('bk_rate_type')=='HOTMIP','ESRM').otherwise(F.col('bk_rate_type')))"
   ]
  },
  {
   "cell_type": "code",
   "execution_count": 5,
   "metadata": {},
   "outputs": [],
   "source": [
    "bookings_df = bookings_df.\\\n",
    "                     withColumn('duration', F.datediff(F.col(\"check_out_date\"),F.col( \"check_in_date\")).cast(IntegerType()))"
   ]
  },
  {
   "cell_type": "code",
   "execution_count": 6,
   "metadata": {},
   "outputs": [],
   "source": [
    "bookings_df = bookings_df.\\\n",
    "                     withColumn('avg_book_rate_amount_usd',F.col('gross_booking_value_usd')/F.col( \"duration\")).\\\n",
    "                     withColumn('bk_avg_commission_usd',F.col('total_commission')/F.col( \"duration\")).\\\n",
    "                     withColumn('bk_avg_markup_usd',F.col('total_markup')/F.col( \"duration\")).\\\n",
    "                     withColumn('bk_avg_revenue_usd',F.col('total_supply_revenue')/F.col( \"duration\"))"
   ]
  },
  {
   "cell_type": "code",
   "execution_count": 7,
   "metadata": {},
   "outputs": [],
   "source": [
    "bookings_df = bookings_df.filter(F.col('total_supply_revenue')>0)"
   ]
  },
  {
   "cell_type": "code",
   "execution_count": 8,
   "metadata": {},
   "outputs": [],
   "source": [
    "bk_hotel_id = bookings_df.select('hotel_id','tuid').dropDuplicates()"
   ]
  },
  {
   "cell_type": "code",
   "execution_count": 9,
   "metadata": {},
   "outputs": [
    {
     "name": "stdout",
     "output_type": "stream",
     "text": [
      "387854"
     ]
    }
   ],
   "source": [
    "bk_hotel_id.count()"
   ]
  },
  {
   "cell_type": "markdown",
   "metadata": {},
   "source": [
    "## Read search data"
   ]
  },
  {
   "cell_type": "code",
   "execution_count": 10,
   "metadata": {},
   "outputs": [],
   "source": [
    "search_schema = T.StructType([\n",
    "    T.StructField(\"message_id\", T.StringType(), True),                  #1\n",
    "    T.StructField(\"hotel_id\", T.IntegerType(), True),                   #6\n",
    "     T.StructField(\"check_in_date\", T.DateType(), True),                 #3\n",
    "    T.StructField(\"check_out_date\", T.DateType(), True),                #4\n",
    "    T.StructField(\"tuid\", T.IntegerType(), True),                       #5\n",
    "   \n",
    "    T.StructField(\"rate_index\", T.IntegerType(), True),                 #8 \n",
    "       T.StructField(\"message_date\", T.TimestampType(), True),             #2\n",
    "    \n",
    "      T.StructField(\"hotel_result_index\", T.IntegerType(), True),         #7           #8\n",
    "   T.StructField(\"city\", T.StringType(), True),                  #1\n",
    "     T.StructField(\"star_rating\", T.StringType(), True),                  #1\n",
    "    \n",
    "    T.StructField(\"filter_want_in_policy_rates_only\", T.BooleanType(), True),         #7\n",
    "    T.StructField(\"filter_eligible_for_loyalty\", T.BooleanType(), True),                 #8\n",
    "    T.StructField(\"filter_free_breakfast\", T.BooleanType(), True),              #12\n",
    "    T.StructField(\"filter_free_wifi\", T.BooleanType(), True),              #12\n",
    "    T.StructField(\"filter_free_parking\", T.BooleanType(), True),              #14\n",
    "    T.StructField(\"rate_type\", T.StringType(), True),                   #11\n",
    "    T.StructField(\"eligible_for_loyalty\", T.BooleanType(), True),         #7\n",
    "    T.StructField(\"free_breakfast\", T.BooleanType(), True),              #12\n",
    "    T.StructField(\"free_wifi\", T.BooleanType(), True),              #12\n",
    "    T.StructField(\"free_parking\", T.BooleanType(), True) ,             #14\n",
    "     T.StructField(\"refundable\", T.BooleanType(), True),\n",
    "    T.StructField(\"src_rate_amount_usd\", T.FloatType(), True),              #12\n",
    "    T.StructField(\"src_commission_base_usd\", T.FloatType(), True),              #12\n",
    "    T.StructField(\"src_supply_revenue_usd\", T.FloatType(), True)\n",
    "])"
   ]
  },
  {
   "cell_type": "code",
   "execution_count": 11,
   "metadata": {},
   "outputs": [
    {
     "name": "stdout",
     "output_type": "stream",
     "text": [
      "Collecting search the data...\n",
      "59865961"
     ]
    }
   ],
   "source": [
    "#Dec\n",
    "file_loc = \"s3://ege-ds-workshops-corp/yixli/data_understanding/09-24-2020_search_revenue_below_peterman_usd_df.csv\"\n",
    "\n",
    "#Oct\n",
    "#file_loc = \"s3://ege-ds-workshops-corp/yixli/data_understanding/09-22-2020_search_revenue_below_peterman_usd_df.csv\"\n",
    "print(\"Collecting search the data...\")\n",
    "search_revenue_below_peterman_usd_df = sqlContext.read.format('csv').\\\n",
    "            options(header='True', inferSchema='false', delimiter=',').\\\n",
    "            schema(search_schema).load(file_loc)\n",
    "\n",
    "# load_date between '20191201' and '20200101'\n",
    "print(search_revenue_below_peterman_usd_df.count())"
   ]
  },
  {
   "cell_type": "code",
   "execution_count": 12,
   "metadata": {},
   "outputs": [
    {
     "name": "stdout",
     "output_type": "stream",
     "text": [
      "6308370"
     ]
    }
   ],
   "source": [
    "# Create hotel level df\n",
    "hotel_df = search_revenue_below_peterman_usd_df.\\\n",
    "select('message_id', 'tuid', 'hotel_id','check_in_date', 'check_out_date','hotel_result_index',\"message_date\").\\\n",
    "dropDuplicates()\n",
    "hotel_df.count()"
   ]
  },
  {
   "cell_type": "code",
   "execution_count": 13,
   "metadata": {},
   "outputs": [],
   "source": [
    "hotel_df = hotel_df.withColumn('hotel_index',row_number().over(Window.partitionBy(\"message_id\", \"tuid\").\\\n",
    "                                                        orderBy(F.asc(\"hotel_result_index\"))))"
   ]
  },
  {
   "cell_type": "code",
   "execution_count": 14,
   "metadata": {
    "collapsed": true
   },
   "outputs": [
    {
     "name": "stdout",
     "output_type": "stream",
     "text": [
      "+--------------------+--------+--------+------------------+-----------+\n",
      "|          message_id|    tuid|hotel_id|hotel_result_index|hotel_index|\n",
      "+--------------------+--------+--------+------------------+-----------+\n",
      "|ffffff28-ed76-4da...| 2309999|   11559|                 0|          1|\n",
      "|ffffff28-ed76-4da...| 2309999| 5445478|                26|          4|\n",
      "|ffffff28-ed76-4da...| 2309999|  581090|                20|          3|\n",
      "|ffffff28-ed76-4da...| 2309999|  892034|                 1|          2|\n",
      "|fffff321-7a5a-4ea...|14611738|    6666|                24|          2|\n",
      "|fffff321-7a5a-4ea...|14611738|   26760|                 1|          1|\n",
      "|ffffdb92-6a52-49e...| 6508678|  688097|                 1|          1|\n",
      "|ffffdb92-6a52-49e...| 6508678| 8168131|                20|          4|\n",
      "|ffffdb92-6a52-49e...| 6508678|    3063|                11|          3|\n",
      "|ffffdb92-6a52-49e...| 6508678|   26411|                 2|          2|\n",
      "|ffffd38c-02bb-468...|21119219|21222043|                27|          7|\n",
      "|ffffd38c-02bb-468...|21119219|   62753|                22|          5|\n",
      "|ffffd38c-02bb-468...|21119219|  579368|                13|          3|\n",
      "|ffffd38c-02bb-468...|21119219|   20020|                20|          4|\n",
      "|ffffd38c-02bb-468...|21119219|  788906|                 4|          2|\n",
      "|ffffd38c-02bb-468...|21119219| 4353789|                24|          6|\n",
      "|ffffd38c-02bb-468...|21119219|   22702|                 1|          1|\n",
      "|ffffca07-5fa2-4db...|19803429|  897177|                24|          6|\n",
      "|ffffca07-5fa2-4db...|19803429| 2279569|                13|          4|\n",
      "|ffffca07-5fa2-4db...|19803429|  327830|                 5|          2|\n",
      "|ffffca07-5fa2-4db...|19803429|  569829|                15|          5|\n",
      "|ffffca07-5fa2-4db...|19803429| 1640079|                 7|          3|\n",
      "|ffffca07-5fa2-4db...|19803429|    3167|                 2|          1|\n",
      "|ffffc874-e189-4d1...|15736267|  447796|                 2|          1|\n",
      "|ffffc874-e189-4d1...|15736267|21512065|                16|          3|\n",
      "|ffffc874-e189-4d1...|15736267|   24309|                14|          2|\n",
      "|ffffc874-e189-4d1...|15736267| 2729893|                27|          4|\n",
      "|ffffc59a-2b53-4e9...|18962995|44398138|                27|          4|\n",
      "|ffffc59a-2b53-4e9...|18962995|   34830|                10|          1|\n",
      "|ffffc59a-2b53-4e9...|18962995|  910029|                11|          2|\n",
      "|ffffc59a-2b53-4e9...|18962995|42041879|                24|          3|\n",
      "|ffffb748-61ea-428...|18587424|     758|                13|          2|\n",
      "|ffffb748-61ea-428...|18587424| 1590035|                11|          1|\n",
      "|ffffb748-61ea-428...|18587424|    6284|                23|          3|\n",
      "|ffffb56a-d31e-49b...| 9070436|  696551|                 1|          1|\n",
      "|ffffa206-fa7a-43b...|17232925|  525614|                 5|          1|\n",
      "|ffffa206-fa7a-43b...|17232925| 1100686|                21|          3|\n",
      "|ffffa206-fa7a-43b...|17232925|  912238|                18|          2|\n",
      "|ffffa206-fa7a-43b...|17232925| 6277978|                22|          4|\n",
      "|ffff9ef1-a522-463...| 4161855|   15067|                 0|          1|\n",
      "|ffff9ee7-4ff1-4f9...|17427823|32023914|                 9|          2|\n",
      "|ffff9ee7-4ff1-4f9...|17427823|33302579|                 0|          1|\n",
      "|ffff9ee7-4ff1-4f9...|17427823|    6043|                14|          3|\n",
      "|ffff9cf4-2553-4c4...|14839124|      74|                12|          3|\n",
      "|ffff9cf4-2553-4c4...|14839124|    2208|                28|          6|\n",
      "|ffff9cf4-2553-4c4...|14839124|  438504|                13|          4|\n",
      "|ffff9cf4-2553-4c4...|14839124|  242705|                 4|          1|\n",
      "|ffff9cf4-2553-4c4...|14839124|   11491|                25|          5|\n",
      "|ffff9cf4-2553-4c4...|14839124|  919845|                 7|          2|\n",
      "|ffff9487-915b-4a5...|18912262| 3814794|                 3|          2|\n",
      "|ffff9487-915b-4a5...|18912262|23150706|                 0|          1|\n",
      "|ffff9487-915b-4a5...|18912262|12855622|                12|          3|\n",
      "|ffff84f8-b77b-4e3...| 3940795|29078217|                20|          5|\n",
      "|ffff84f8-b77b-4e3...| 3940795|32123709|                23|          6|\n",
      "|ffff84f8-b77b-4e3...| 3940795|43660196|                12|          3|\n",
      "|ffff84f8-b77b-4e3...| 3940795|22784444|                15|          4|\n",
      "|ffff84f8-b77b-4e3...| 3940795|23242524|                24|          7|\n",
      "|ffff84f8-b77b-4e3...| 3940795|27278929|                11|          2|\n",
      "|ffff84f8-b77b-4e3...| 3940795|18628248|                 2|          1|\n",
      "|ffff7cfe-1594-443...|16331206|  284308|                 7|          2|\n",
      "|ffff7cfe-1594-443...|16331206|  447792|                 3|          1|\n",
      "|ffff7cfe-1594-443...|16331206|   22271|                25|          3|\n",
      "|ffff7cf4-b367-4ca...|17499586|39623947|                15|          1|\n",
      "|ffff7c57-6904-46a...|16091910| 3049493|                17|          2|\n",
      "|ffff7c57-6904-46a...|16091910| 2852940|                 5|          1|\n",
      "|ffff75fb-d4dc-4ca...|20289525| 2495897|                 6|          2|\n",
      "|ffff75fb-d4dc-4ca...|20289525|  912770|                 7|          3|\n",
      "|ffff75fb-d4dc-4ca...|20289525|12358189|                14|          4|\n",
      "|ffff75fb-d4dc-4ca...|20289525|     664|                 5|          1|\n",
      "|ffff748b-9dcd-4c6...|12825070|  890830|                 8|          1|\n",
      "|ffff748b-9dcd-4c6...|12825070| 1789283|                23|          2|\n",
      "|ffff748b-9dcd-4c6...|12825070|   27629|                30|          3|\n",
      "|ffff6c80-954f-475...|18306001|11958666|                 4|          2|\n",
      "|ffff6c80-954f-475...|18306001| 6221340|                 0|          1|\n",
      "|ffff5c8a-9810-44b...|11539530|19950917|                 2|          1|\n",
      "|ffff5c8a-9810-44b...|11539530|37678795|                 4|          2|\n",
      "|ffff5beb-ba9c-475...|17675070| 4031121|                14|          2|\n",
      "|ffff5beb-ba9c-475...|17675070|27577549|                15|          3|\n",
      "|ffff5beb-ba9c-475...|17675070|   25333|                 9|          1|\n",
      "|ffff53df-f2db-43c...|10509679| 1076486|                 3|          1|\n",
      "|ffff40df-96d6-4a5...|18098863| 7738637|                 1|          1|\n",
      "|ffff40df-96d6-4a5...|18098863| 1500894|                 2|          2|\n",
      "|ffff3e0d-f423-46b...|15249054| 2836334|                 0|          1|\n",
      "|ffff3e0d-f423-46b...|15249054| 5459117|                27|          5|\n",
      "|ffff3e0d-f423-46b...|15249054| 1442055|                24|          4|\n",
      "|ffff3e0d-f423-46b...|15249054|   28215|                 3|          2|\n",
      "|ffff3e0d-f423-46b...|15249054|  449000|                29|          6|\n",
      "|ffff3e0d-f423-46b...|15249054| 3566007|                10|          3|\n",
      "|ffff226c-e25d-400...|15338319|   20931|                28|          1|\n",
      "|ffff13a7-31df-49b...|18138827|42691869|                13|          1|\n",
      "|ffff139f-6fc1-4b7...|20597525|    9089|                19|          1|\n",
      "|ffff139f-6fc1-4b7...|20597525|    1208|                23|          3|\n",
      "|ffff139f-6fc1-4b7...|20597525| 2078405|                22|          2|\n",
      "|ffff139f-6fc1-4b7...|20597525|    3919|                24|          4|\n",
      "|ffff0763-cbde-488...|  344153| 3633123|                12|          1|\n",
      "|ffff0763-cbde-488...|  344153|   40430|                28|          2|\n",
      "|ffff00a9-61c6-403...|17629923|21603627|                 1|          1|\n",
      "|ffff00a9-61c6-403...|17629923|   16459|                27|          3|\n",
      "|ffff00a9-61c6-403...|17629923|    9241|                10|          2|\n",
      "|ffff009c-e7df-4ef...|16227805|24155705|                11|          2|\n",
      "+--------------------+--------+--------+------------------+-----------+\n",
      "only showing top 100 rows"
     ]
    }
   ],
   "source": [
    "hotel_df.orderBy(desc('message_id'),desc('tuid')).select('message_id', 'tuid', 'hotel_id',\"hotel_result_index\",'hotel_index').show(100)"
   ]
  },
  {
   "cell_type": "code",
   "execution_count": 15,
   "metadata": {},
   "outputs": [
    {
     "name": "stdout",
     "output_type": "stream",
     "text": [
      "104940"
     ]
    }
   ],
   "source": [
    "# Find the last search\n",
    "last_search_id = bookings_df.\\\n",
    "                join(hotel_df,[\"hotel_id\",\"check_in_date\", \"check_out_date\",\"tuid\"]).\\\n",
    "                withColumn(\"rn\", row_number().over(Window.partitionBy(\"hotel_id\",\"check_in_date\",\"check_out_date\",\"tuid\").orderBy(desc(\"message_date\")))).\\\n",
    "                filter(F.col(\"rn\") == 1).\\\n",
    "               select('message_id','tuid')\n",
    "last_search_id.count()"
   ]
  },
  {
   "cell_type": "code",
   "execution_count": 16,
   "metadata": {},
   "outputs": [
    {
     "name": "stdout",
     "output_type": "stream",
     "text": [
      "397258"
     ]
    }
   ],
   "source": [
    "last_search_hotel_df = hotel_df.join(last_search_id,['message_id','tuid'])\n",
    "last_search_hotel_df.count()"
   ]
  },
  {
   "cell_type": "code",
   "execution_count": 17,
   "metadata": {},
   "outputs": [
    {
     "name": "stdout",
     "output_type": "stream",
     "text": [
      "105055"
     ]
    }
   ],
   "source": [
    "# find bk_hotel_index\n",
    "book_hotel_idx =last_search_hotel_df.join(bookings_df.select(\"hotel_id\",\"check_in_date\", \"check_out_date\",\"tuid\")\n",
    "                                       ,[\"hotel_id\",\"check_in_date\", \"check_out_date\",\"tuid\"],how='inner').\\\n",
    "               withColumnRenamed(\"hotel_index\",\"bk_hotel_index\").\\\n",
    "select(\"message_id\",\"tuid\",\"bk_hotel_index\").dropDuplicates()\n",
    "book_hotel_idx.count()"
   ]
  },
  {
   "cell_type": "code",
   "execution_count": 18,
   "metadata": {},
   "outputs": [
    {
     "name": "stdout",
     "output_type": "stream",
     "text": [
      "400308"
     ]
    }
   ],
   "source": [
    "# Add bk_hotel_index to last search\n",
    "last_search_hotel_df_with_bk_idx = last_search_hotel_df.join(book_hotel_idx,[\"message_id\",\"tuid\"])\n",
    "last_search_hotel_df_with_bk_idx.count()"
   ]
  },
  {
   "cell_type": "code",
   "execution_count": 23,
   "metadata": {},
   "outputs": [
    {
     "name": "stdout",
     "output_type": "stream",
     "text": [
      "root\n",
      " |-- message_id: string (nullable = true)\n",
      " |-- tuid: integer (nullable = true)\n",
      " |-- hotel_id: integer (nullable = true)\n",
      " |-- check_in_date: date (nullable = true)\n",
      " |-- check_out_date: date (nullable = true)\n",
      " |-- hotel_result_index: integer (nullable = true)\n",
      " |-- message_date: timestamp (nullable = true)\n",
      " |-- hotel_index: integer (nullable = true)\n",
      " |-- bk_hotel_index: integer (nullable = true)"
     ]
    }
   ],
   "source": [
    "last_search_hotel_df_with_bk_idx.printSchema()"
   ]
  },
  {
   "cell_type": "code",
   "execution_count": 25,
   "metadata": {},
   "outputs": [
    {
     "name": "stdout",
     "output_type": "stream",
     "text": [
      "['message_id', 'tuid', 'hotel_id', 'check_in_date', 'check_out_date', 'hotel_result_index', 'message_date', 'hotel_index', 'bk_hotel_index']"
     ]
    }
   ],
   "source": [
    "last_search_hotel_df_with_bk_idx.columns"
   ]
  },
  {
   "cell_type": "code",
   "execution_count": 26,
   "metadata": {},
   "outputs": [],
   "source": [
    "# add hotel information to search data (last search, bk_hotel_index)\n",
    "last_search_df = last_search_hotel_df_with_bk_idx.select('message_id', 'tuid', 'hotel_id', 'check_in_date', 'check_out_date', 'hotel_index', 'bk_hotel_index').\\\n",
    "join(search_revenue_below_peterman_usd_df,[\"message_id\",\"tuid\",\"hotel_id\",\"check_in_date\", \"check_out_date\"])"
   ]
  },
  {
   "cell_type": "code",
   "execution_count": 27,
   "metadata": {},
   "outputs": [
    {
     "name": "stdout",
     "output_type": "stream",
     "text": [
      "3750001"
     ]
    }
   ],
   "source": [
    "last_search_df.count()"
   ]
  },
  {
   "cell_type": "code",
   "execution_count": 28,
   "metadata": {
    "collapsed": true
   },
   "outputs": [
    {
     "name": "stdout",
     "output_type": "stream",
     "text": [
      "root\n",
      " |-- message_id: string (nullable = true)\n",
      " |-- tuid: integer (nullable = true)\n",
      " |-- hotel_id: integer (nullable = true)\n",
      " |-- check_in_date: date (nullable = true)\n",
      " |-- check_out_date: date (nullable = true)\n",
      " |-- hotel_index: integer (nullable = true)\n",
      " |-- bk_hotel_index: integer (nullable = true)\n",
      " |-- rate_index: integer (nullable = true)\n",
      " |-- message_date: timestamp (nullable = true)\n",
      " |-- hotel_result_index: integer (nullable = true)\n",
      " |-- city: string (nullable = true)\n",
      " |-- star_rating: string (nullable = true)\n",
      " |-- filter_want_in_policy_rates_only: boolean (nullable = true)\n",
      " |-- filter_eligible_for_loyalty: boolean (nullable = true)\n",
      " |-- filter_free_breakfast: boolean (nullable = true)\n",
      " |-- filter_free_wifi: boolean (nullable = true)\n",
      " |-- filter_free_parking: boolean (nullable = true)\n",
      " |-- rate_type: string (nullable = true)\n",
      " |-- eligible_for_loyalty: boolean (nullable = true)\n",
      " |-- free_breakfast: boolean (nullable = true)\n",
      " |-- free_wifi: boolean (nullable = true)\n",
      " |-- free_parking: boolean (nullable = true)\n",
      " |-- refundable: boolean (nullable = true)\n",
      " |-- src_rate_amount_usd: float (nullable = true)\n",
      " |-- src_commission_base_usd: float (nullable = true)\n",
      " |-- src_supply_revenue_usd: float (nullable = true)"
     ]
    }
   ],
   "source": [
    "last_search_df.printSchema()"
   ]
  },
  {
   "cell_type": "code",
   "execution_count": 29,
   "metadata": {},
   "outputs": [],
   "source": [
    "dir = 's3://ege-ds-workshops-corp/yixli/data_understanding/'\n",
    "\n",
    "datestamp = datetime.datetime.now().strftime('%m-%d-%Y')\n",
    "last_search_df.repartition(1).write.format('com.databricks.spark.csv').mode('overwrite')\\\n",
    ".save(dir+datestamp+'_last_search_df_2019_12.csv',header = 'true')"
   ]
  },
  {
   "cell_type": "code",
   "execution_count": null,
   "metadata": {},
   "outputs": [],
   "source": []
  },
  {
   "cell_type": "code",
   "execution_count": null,
   "metadata": {},
   "outputs": [],
   "source": [
    "# add score to last search df"
   ]
  },
  {
   "cell_type": "code",
   "execution_count": null,
   "metadata": {},
   "outputs": [],
   "source": [
    "'''\n",
    "sudo pip-3.6 install git+https://github.expedia.biz/caldanarosenbe/datascience-fast-hotel-search-data.git@revenue_sort\n",
    "'''"
   ]
  },
  {
   "cell_type": "code",
   "execution_count": 31,
   "metadata": {},
   "outputs": [],
   "source": [
    "from fast_hotel_sort.utils.SearchDataUtils import SearchDataUtils\n",
    "from datetime import datetime, timedelta, date"
   ]
  },
  {
   "cell_type": "code",
   "execution_count": 32,
   "metadata": {},
   "outputs": [],
   "source": [
    "cols = [\"message_id\"\n",
    "        ,\"timestamp\"\n",
    "        ,\"search_date\"\n",
    "        ,\"check_in_date\"\n",
    "        ,\"check_out_date\"\n",
    "        ,\"tuid\"]\n",
    "cols2 = [\"message_id\"\n",
    "        ,\"timestamp\"\n",
    "        ,\"hotel_id\"\n",
    "        ,\"star_rating\"\n",
    "        ,\"city\"\n",
    "        ,\"property_level_neg\"\n",
    "        ,\"chain_level_neg\"\n",
    "        ,\"preferred\"\n",
    "        ,\"score_0\"\n",
    "        ,\"score_1\"\n",
    "        ,\"hotel_result_index\"\n",
    "        ,\"country_code\"]\n",
    "q = SearchDataUtils()\n",
    "sd = date(2019,12,1)\n",
    "sd2 = date(2020,1,1)\n",
    "dispHotelsDF = q.displayed_hotels(sd, sd2,cols, cols2)"
   ]
  },
  {
   "cell_type": "code",
   "execution_count": 33,
   "metadata": {},
   "outputs": [
    {
     "name": "stdout",
     "output_type": "stream",
     "text": [
      "+--------------------+\n",
      "|             score_1|\n",
      "+--------------------+\n",
      "| 0.13827994800131627|\n",
      "| 0.24201505737198709|\n",
      "| 0.10907288473339308|\n",
      "| 0.12503782390364598|\n",
      "| 0.08574266835957374|\n",
      "| 0.12173605917390481|\n",
      "| 0.04819421265415639|\n",
      "| 0.46937193192747834|\n",
      "| 0.09289120527870108|\n",
      "| 0.10110583016890139|\n",
      "| 0.04331228691037983|\n",
      "|0.047260752266933076|\n",
      "|  0.1334948763591221|\n",
      "|  0.1482633350620393|\n",
      "| 0.04708303256754679|\n",
      "| 0.10458626200560986|\n",
      "| 0.12422731867978883|\n",
      "| 0.06927887203780084|\n",
      "| 0.14978239572447036|\n",
      "| 0.12026540106901905|\n",
      "+--------------------+\n",
      "only showing top 20 rows"
     ]
    }
   ],
   "source": [
    "dispHotelsDF.select('score_1').show()"
   ]
  },
  {
   "cell_type": "code",
   "execution_count": 34,
   "metadata": {},
   "outputs": [
    {
     "name": "stdout",
     "output_type": "stream",
     "text": [
      "40314641"
     ]
    }
   ],
   "source": [
    "dispHotelsDF.count()"
   ]
  },
  {
   "cell_type": "code",
   "execution_count": 35,
   "metadata": {},
   "outputs": [],
   "source": [
    "last_search_df = last_search_df.join(dispHotelsDF.select(\"message_id\",\"tuid\",\"hotel_id\",\"check_in_date\", \"check_out_date\",'score_1'),\n",
    "                                    [\"message_id\",\"tuid\",\"hotel_id\",\"check_in_date\", \"check_out_date\"])"
   ]
  },
  {
   "cell_type": "code",
   "execution_count": 36,
   "metadata": {},
   "outputs": [
    {
     "name": "stdout",
     "output_type": "stream",
     "text": [
      "3082030"
     ]
    }
   ],
   "source": [
    "last_search_df.count()"
   ]
  },
  {
   "cell_type": "code",
   "execution_count": null,
   "metadata": {},
   "outputs": [],
   "source": [
    "last_search_df.orderBy(desc('message_id'),desc('tuid')).\\\n",
    "select('message_id','tuid','hotel_id','rate_index','hotel_index','bk_hotel_index').show(100)"
   ]
  },
  {
   "cell_type": "code",
   "execution_count": null,
   "metadata": {},
   "outputs": [],
   "source": [
    "dir = 's3://ege-ds-workshops-corp/yixli/data_understanding/'\n",
    "\n",
    "datestamp = datetime.now().strftime('%m-%d-%Y')\n",
    "last_search_df.repartition(1).write.format('com.databricks.spark.csv').mode('overwrite')\\\n",
    ".save(dir+datestamp+'_last_search_score_df.csv',header = 'true')"
   ]
  },
  {
   "cell_type": "code",
   "execution_count": null,
   "metadata": {},
   "outputs": [],
   "source": []
  },
  {
   "cell_type": "code",
   "execution_count": null,
   "metadata": {},
   "outputs": [],
   "source": []
  },
  {
   "cell_type": "code",
   "execution_count": 10,
   "metadata": {},
   "outputs": [],
   "source": [
    "# Use search data: last search, hotels have been booked\n",
    "last_search_df1 = last_search_df.filter(F.col('hotel_index')==F.col('bk_hotel_index'))"
   ]
  },
  {
   "cell_type": "code",
   "execution_count": 11,
   "metadata": {},
   "outputs": [
    {
     "name": "stdout",
     "output_type": "stream",
     "text": [
      "548654"
     ]
    }
   ],
   "source": [
    "last_search_df1.count()"
   ]
  },
  {
   "cell_type": "code",
   "execution_count": 14,
   "metadata": {},
   "outputs": [],
   "source": [
    "last_search_df1 = last_search_df1.\\\n",
    "            withColumn(\"rate_index\", search_df1.rate_index.cast(\"integer\")).\\\n",
    "            withColumn(\"rate_amount\", search_df1.rate_amount.cast(\"float\")).\\\n",
    "            withColumn(\"eligible_for_loyalty\", search_df1.eligible_for_loyalty.cast(\"boolean\")).\\\n",
    "            withColumn(\"free_breakfast\", search_df1.free_breakfast.cast(\"boolean\")).\\\n",
    "            withColumn(\"free_wifi\", search_df1.free_wifi.cast(\"boolean\")).\\\n",
    "            withColumn(\"free_parking\", search_df1.free_parking.cast(\"boolean\")).\\\n",
    "            withColumn(\"refundable\", search_df1.refundable.cast(\"boolean\"))"
   ]
  },
  {
   "cell_type": "code",
   "execution_count": 15,
   "metadata": {},
   "outputs": [],
   "source": [
    "last_search_df1 = last_search_df1.filter(F.col('rate_type').isin('EPRA','EPRM','ESRM','ESRA','GDS','NEG'))"
   ]
  },
  {
   "cell_type": "code",
   "execution_count": 16,
   "metadata": {},
   "outputs": [
    {
     "name": "stdout",
     "output_type": "stream",
     "text": [
      "4217049"
     ]
    }
   ],
   "source": [
    "last_search_df1.count()"
   ]
  },
  {
   "cell_type": "code",
   "execution_count": 22,
   "metadata": {
    "collapsed": true
   },
   "outputs": [
    {
     "name": "stdout",
     "output_type": "stream",
     "text": [
      "+--------------------+--------------------+--------+------------------+-------------+--------------+-----------+--------+---------------+-----------+--------------------------------+---------------------------+---------------------+----------------+-------------------+----------+-----------+-------------+---------+--------------------+--------------+---------+------------+----------+\n",
      "|          message_id|        message_date|hotel_id|hotel_result_index|check_in_date|check_out_date|      score|    tuid|           city|star_rating|filter_want_in_policy_rates_only|filter_eligible_for_loyalty|filter_free_breakfast|filter_free_wifi|filter_free_parking|rate_index|rate_amount|rate_currency|rate_type|eligible_for_loyalty|free_breakfast|free_wifi|free_parking|refundable|\n",
      "+--------------------+--------------------+--------+------------------+-------------+--------------+-----------+--------+---------------+-----------+--------------------------------+---------------------------+---------------------+----------------+-------------------+----------+-----------+-------------+---------+--------------------+--------------+---------+------------+----------+\n",
      "|00c9df9d-4ae6-4cc...|2020-03-03 12:06:...|    9572|                 2|   2020-03-11|    2020-03-12| 0.14751059|18390823|     ottawa-can|        4.0|                           false|                      false|                false|           false|              false|         4|      539.0|          CAD|      GDS|                true|         false|    false|       false|      true|\n",
      "|00c9df9d-4ae6-4cc...|2020-03-03 12:06:...|    9572|                 2|   2020-03-11|    2020-03-12| 0.14751059|18390823|     ottawa-can|        4.0|                           false|                      false|                false|           false|              false|         1|      326.0|          CAD|      NEG|                true|         false|    false|       false|      true|\n",
      "|00c9df9d-4ae6-4cc...|2020-03-03 12:06:...|    9572|                 2|   2020-03-11|    2020-03-12| 0.14751059|18390823|     ottawa-can|        4.0|                           false|                      false|                false|           false|              false|         0|      326.0|          CAD|      NEG|                true|         false|    false|       false|      true|\n",
      "|00c9df9d-4ae6-4cc...|2020-03-03 12:06:...|    9572|                 2|   2020-03-11|    2020-03-12| 0.14751059|18390823|     ottawa-can|        4.0|                           false|                      false|                false|           false|              false|         7|      564.0|          CAD|      GDS|                true|          true|    false|       false|      true|\n",
      "|00c9df9d-4ae6-4cc...|2020-03-03 12:06:...|    9572|                 2|   2020-03-11|    2020-03-12| 0.14751059|18390823|     ottawa-can|        4.0|                           false|                      false|                false|           false|              false|         5|      549.0|          CAD|      GDS|                true|         false|    false|       false|      true|\n",
      "|00dbca3a-0db5-46e...|2020-03-06 07:17:...|  598664|                 7|   2020-03-10|    2020-03-11| 0.20079419|13736333| gothenburg-swe|        4.5|                           false|                      false|                false|           false|              false|         1|     1090.0|          SEK|      NEG|                true|          true|     true|       false|      true|\n",
      "|00dbca3a-0db5-46e...|2020-03-06 07:17:...|  598664|                 7|   2020-03-10|    2020-03-11| 0.20079419|13736333| gothenburg-swe|        4.5|                           false|                      false|                false|           false|              false|         9|     2479.5|          SEK|     EPRM|                true|          true|     true|       false|      true|\n",
      "|00dbca3a-0db5-46e...|2020-03-06 07:17:...|  598664|                 7|   2020-03-10|    2020-03-11| 0.20079419|13736333| gothenburg-swe|        4.5|                           false|                      false|                false|           false|              false|         8|     2479.5|          SEK|      NEG|                true|          true|     true|       false|      true|\n",
      "|00dbca3a-0db5-46e...|2020-03-06 07:17:...|  598664|                 7|   2020-03-10|    2020-03-11| 0.20079419|13736333| gothenburg-swe|        4.5|                           false|                      false|                false|           false|              false|         2|     1949.1|          SEK|     ESRM|               false|          true|     true|       false|     false|\n",
      "|00dbca3a-0db5-46e...|2020-03-06 07:17:...|  598664|                 7|   2020-03-10|    2020-03-11| 0.20079419|13736333| gothenburg-swe|        4.5|                           false|                      false|                false|           false|              false|        10|     2550.0|          SEK|      GDS|                true|          true|     true|       false|      true|\n",
      "|00dbca3a-0db5-46e...|2020-03-06 07:17:...|  598664|                 7|   2020-03-10|    2020-03-11| 0.20079419|13736333| gothenburg-swe|        4.5|                           false|                      false|                false|           false|              false|         5|     2269.5|          SEK|     ESRM|               false|          true|     true|       false|     false|\n",
      "|00dbca3a-0db5-46e...|2020-03-06 07:17:...|  598664|                 7|   2020-03-10|    2020-03-11| 0.20079419|13736333| gothenburg-swe|        4.5|                           false|                      false|                false|           false|              false|         4|     2190.0|          SEK|      GDS|                true|          true|     true|       false|      true|\n",
      "|00dbca3a-0db5-46e...|2020-03-06 07:17:...|  598664|                 7|   2020-03-10|    2020-03-11| 0.20079419|13736333| gothenburg-swe|        4.5|                           false|                      false|                false|           false|              false|         3|     1971.0|          SEK|     EPRM|                true|          true|     true|       false|      true|\n",
      "|00dbca3a-0db5-46e...|2020-03-06 07:17:...|  598664|                 7|   2020-03-10|    2020-03-11| 0.20079419|13736333| gothenburg-swe|        4.5|                           false|                      false|                false|           false|              false|         7|    2451.95|          SEK|     ESRM|               false|          true|     true|       false|     false|\n",
      "|00dbca3a-0db5-46e...|2020-03-06 07:17:...|  598664|                 7|   2020-03-10|    2020-03-11| 0.20079419|13736333| gothenburg-swe|        4.5|                           false|                      false|                false|           false|              false|         6|     2295.0|          SEK|     EPRM|                true|          true|     true|       false|      true|\n",
      "|00dbca3a-0db5-46e...|2020-03-06 07:17:...|  598664|                 7|   2020-03-10|    2020-03-11| 0.20079419|13736333| gothenburg-swe|        4.5|                           false|                      false|                false|           false|              false|        11|     2755.0|          SEK|      GDS|                true|          true|     true|       false|      true|\n",
      "|00dbca3a-0db5-46e...|2020-03-06 07:17:...|  598664|                 7|   2020-03-10|    2020-03-11| 0.20079419|13736333| gothenburg-swe|        4.5|                           false|                      false|                false|           false|              false|         0|     1000.0|          SEK|      NEG|                true|          true|     true|       false|      true|\n",
      "|01041e52-f830-4d4...|2020-03-02 12:15:...|10526473|                20|   2020-03-18|    2020-03-19|  0.0927952|13749488|little rock-usa|        3.0|                           false|                      false|                false|           false|              false|         0|      119.2|          USD|     ESRM|               false|          true|     true|       false|     false|\n",
      "|01041e52-f830-4d4...|2020-03-02 12:15:...|10526473|                20|   2020-03-18|    2020-03-19|  0.0927952|13749488|little rock-usa|        3.0|                           false|                      false|                false|           false|              false|         5|     143.04|          USD|     ESRA|               false|          true|     true|       false|      true|\n",
      "|01041e52-f830-4d4...|2020-03-02 12:15:...|10526473|                20|   2020-03-18|    2020-03-19|  0.0927952|13749488|little rock-usa|        3.0|                           false|                      false|                false|           false|              false|         2|      127.2|          USD|     ESRM|               false|          true|     true|       false|     false|\n",
      "|01041e52-f830-4d4...|2020-03-02 12:15:...|10526473|                20|   2020-03-18|    2020-03-19|  0.0927952|13749488|little rock-usa|        3.0|                           false|                      false|                false|           false|              false|         3|      135.2|          USD|     ESRM|               false|          true|     true|       false|     false|\n",
      "|01041e52-f830-4d4...|2020-03-02 12:15:...|10526473|                20|   2020-03-18|    2020-03-19|  0.0927952|13749488|little rock-usa|        3.0|                           false|                      false|                false|           false|              false|         8|      149.0|          USD|     ESRA|               false|          true|     true|       false|      true|\n",
      "|01041e52-f830-4d4...|2020-03-02 12:15:...|10526473|                20|   2020-03-18|    2020-03-19|  0.0927952|13749488|little rock-usa|        3.0|                           false|                      false|                false|           false|              false|         6|     143.04|          USD|      GDS|                true|          true|     true|       false|      true|\n",
      "|01041e52-f830-4d4...|2020-03-02 12:15:...|10526473|                20|   2020-03-18|    2020-03-19|  0.0927952|13749488|little rock-usa|        3.0|                           false|                      false|                false|           false|              false|         1|      127.2|          USD|     ESRM|               false|          true|     true|       false|     false|\n",
      "|01041e52-f830-4d4...|2020-03-02 12:15:...|10526473|                20|   2020-03-18|    2020-03-19|  0.0927952|13749488|little rock-usa|        3.0|                           false|                      false|                false|           false|              false|         7|      149.0|          USD|     ESRM|               false|          true|     true|       false|      true|\n",
      "|01041e52-f830-4d4...|2020-03-02 12:15:...|10526473|                20|   2020-03-18|    2020-03-19|  0.0927952|13749488|little rock-usa|        3.0|                           false|                      false|                false|           false|              false|         4|     143.04|          USD|     ESRM|               false|          true|     true|       false|      true|\n",
      "|01148f92-aae0-4bf...|2020-03-05 04:36:...|   21888|                 4|   2020-03-08|    2020-03-10|  0.1387726|15131888|  wolfsburg-deu|        4.0|                           false|                      false|                false|           false|              false|         2|      114.0|          EUR|      GDS|                true|          true|     true|       false|      true|\n",
      "|01148f92-aae0-4bf...|2020-03-05 04:36:...|   21888|                 4|   2020-03-08|    2020-03-10|  0.1387726|15131888|  wolfsburg-deu|        4.0|                           false|                      false|                false|           false|              false|         0|      104.0|          EUR|      GDS|                true|         false|     true|       false|      true|\n",
      "|01148f92-aae0-4bf...|2020-03-05 04:36:...|   21888|                 4|   2020-03-08|    2020-03-10|  0.1387726|15131888|  wolfsburg-deu|        4.0|                           false|                      false|                false|           false|              false|         1|      104.0|          EUR|      GDS|                true|         false|     true|       false|      true|\n",
      "|0186f6f2-d3b2-4e7...|2020-03-06 02:09:...| 1418701|                 1|   2020-03-06|    2020-03-08|  0.2877053| 9710508|  las vegas-usa|        4.5|                           false|                      false|                false|           false|              false|         5|      199.0|          USD|     EPRM|               false|         false|    false|        true|     false|\n",
      "|0186f6f2-d3b2-4e7...|2020-03-06 02:09:...| 1418701|                 1|   2020-03-06|    2020-03-08|  0.2877053| 9710508|  las vegas-usa|        4.5|                           false|                      false|                false|           false|              false|         2|      129.6|          USD|     ESRM|               false|         false|    false|        true|     false|\n",
      "|0186f6f2-d3b2-4e7...|2020-03-06 02:09:...| 1418701|                 1|   2020-03-06|    2020-03-08|  0.2877053| 9710508|  las vegas-usa|        4.5|                           false|                      false|                false|           false|              false|         0|      116.1|          USD|     ESRM|               false|         false|    false|        true|     false|\n",
      "|0186f6f2-d3b2-4e7...|2020-03-06 02:09:...| 1418701|                 1|   2020-03-06|    2020-03-08|  0.2877053| 9710508|  las vegas-usa|        4.5|                           false|                      false|                false|           false|              false|         1|      129.0|          USD|     EPRM|               false|         false|    false|        true|     false|\n",
      "|0186f6f2-d3b2-4e7...|2020-03-06 02:09:...| 1418701|                 1|   2020-03-06|    2020-03-08|  0.2877053| 9710508|  las vegas-usa|        4.5|                           false|                      false|                false|           false|              false|         3|      144.0|          USD|     EPRM|               false|         false|    false|        true|     false|\n",
      "|0186f6f2-d3b2-4e7...|2020-03-06 02:09:...| 1418701|                 1|   2020-03-06|    2020-03-08|  0.2877053| 9710508|  las vegas-usa|        4.5|                           false|                      false|                false|           false|              false|         4|      152.1|          USD|     ESRM|               false|         false|    false|        true|     false|\n",
      "|0220ff69-44a0-470...|2020-03-13 09:51:...| 1586713|                 2|   2020-03-16|    2020-03-20| 0.13543943|15864638|    torreon-mex|        4.5|                           false|                      false|                false|           false|              false|         3|      109.0|          USD|      GDS|                true|         false|     true|        true|      true|\n",
      "|0220ff69-44a0-470...|2020-03-13 09:51:...| 1586713|                 2|   2020-03-16|    2020-03-20| 0.13543943|15864638|    torreon-mex|        4.5|                           false|                      false|                false|           false|              false|         4|     116.75|          USD|     ESRA|               false|          true|     true|        true|      true|\n",
      "|0220ff69-44a0-470...|2020-03-13 09:51:...| 1586713|                 2|   2020-03-16|    2020-03-20| 0.13543943|15864638|    torreon-mex|        4.5|                           false|                      false|                false|           false|              false|         2|      109.0|          USD|     ESRA|               false|         false|     true|        true|      true|\n",
      "|0220ff69-44a0-470...|2020-03-13 09:51:...| 1586713|                 2|   2020-03-16|    2020-03-20| 0.13543943|15864638|    torreon-mex|        4.5|                           false|                      false|                false|           false|              false|         1|       82.5|          USD|      GDS|                true|         false|     true|        true|      true|\n",
      "|0220ff69-44a0-470...|2020-03-13 09:51:...| 1586713|                 2|   2020-03-16|    2020-03-20| 0.13543943|15864638|    torreon-mex|        4.5|                           false|                      false|                false|           false|              false|         0|      82.51|          USD|     ESRA|               false|         false|     true|        true|      true|\n",
      "|023961ad-cbf3-42b...|2020-03-11 07:35:...| 2672858|                11|   2020-03-12|    2020-03-13|0.120546445|15574684|       bron-fra|        3.0|                           false|                      false|                false|           false|              false|        11|     108.96|          EUR|     ESRM|               false|          true|     true|        true|      true|\n",
      "|023961ad-cbf3-42b...|2020-03-11 07:35:...| 2672858|                11|   2020-03-12|    2020-03-13|0.120546445|15574684|       bron-fra|        3.0|                           false|                      false|                false|           false|              false|        12|     108.96|          EUR|     ESRM|               false|          true|     true|        true|      true|\n",
      "|023961ad-cbf3-42b...|2020-03-11 07:35:...| 2672858|                11|   2020-03-12|    2020-03-13|0.120546445|15574684|       bron-fra|        3.0|                           false|                      false|                false|           false|              false|         4|      86.29|          EUR|     ESRM|               false|         false|     true|        true|      true|\n",
      "|023961ad-cbf3-42b...|2020-03-11 07:35:...| 2672858|                11|   2020-03-12|    2020-03-13|0.120546445|15574684|       bron-fra|        3.0|                           false|                      false|                false|           false|              false|         0|       73.3|          EUR|     ESRM|               false|         false|     true|        true|     false|\n",
      "|023961ad-cbf3-42b...|2020-03-11 07:35:...| 2672858|                11|   2020-03-12|    2020-03-13|0.120546445|15574684|       bron-fra|        3.0|                           false|                      false|                false|           false|              false|         1|       73.3|          EUR|     ESRM|               false|         false|     true|        true|     false|\n",
      "|023961ad-cbf3-42b...|2020-03-11 07:35:...| 2672858|                11|   2020-03-12|    2020-03-13|0.120546445|15574684|       bron-fra|        3.0|                           false|                      false|                false|           false|              false|         2|      83.71|          EUR|     ESRA|               false|         false|     true|        true|      true|\n",
      "|023961ad-cbf3-42b...|2020-03-11 07:35:...| 2672858|                11|   2020-03-12|    2020-03-13|0.120546445|15574684|       bron-fra|        3.0|                           false|                      false|                false|           false|              false|         5|      86.65|          EUR|     ESRM|               false|         false|     true|        true|      true|\n",
      "|023961ad-cbf3-42b...|2020-03-11 07:35:...| 2672858|                11|   2020-03-12|    2020-03-13|0.120546445|15574684|       bron-fra|        3.0|                           false|                      false|                false|           false|              false|         7|       93.0|          EUR|     EPRA|               false|         false|     true|        true|      true|\n",
      "|023961ad-cbf3-42b...|2020-03-11 07:35:...| 2672858|                11|   2020-03-12|    2020-03-13|0.120546445|15574684|       bron-fra|        3.0|                           false|                      false|                false|           false|              false|         3|      83.71|          EUR|     ESRA|               false|         false|     true|        true|      true|\n",
      "|023961ad-cbf3-42b...|2020-03-11 07:35:...| 2672858|                11|   2020-03-12|    2020-03-13|0.120546445|15574684|       bron-fra|        3.0|                           false|                      false|                false|           false|              false|         9|      95.88|          EUR|     EPRM|               false|         false|     true|        true|      true|\n",
      "+--------------------+--------------------+--------+------------------+-------------+--------------+-----------+--------+---------------+-----------+--------------------------------+---------------------------+---------------------+----------------+-------------------+----------+-----------+-------------+---------+--------------------+--------------+---------+------------+----------+\n",
      "only showing top 50 rows"
     ]
    }
   ],
   "source": [
    "last_search_df1.show(50)"
   ]
  },
  {
   "cell_type": "markdown",
   "metadata": {},
   "source": [
    "## Get labels"
   ]
  },
  {
   "cell_type": "code",
   "execution_count": 24,
   "metadata": {},
   "outputs": [
    {
     "name": "stdout",
     "output_type": "stream",
     "text": [
      "['hotelfactid', 'hotel_id', 'issue_date', 'check_in_date', 'check_out_date', 'tuid', 'travel_product_id', 'group_account_id', 'hotel_rate_type', 'bk_rate_type', 'booking_type', 'gross_booking_value_usd', 'total_commission', 'total_markup', 'total_gds', 'total_supply_revenue', 'duration', 'avg_book_rate_amount_usd', 'bk_avg_commission_usd', 'bk_avg_markup_usd', 'bk_avg_revenue_usd']"
     ]
    }
   ],
   "source": [
    "bookings_df.columns"
   ]
  },
  {
   "cell_type": "code",
   "execution_count": 25,
   "metadata": {},
   "outputs": [],
   "source": [
    "bookings_df = bookings_df.withColumn('rate_type',F.when(F.col('bk_rate_type')=='HOTMIP','ESRM').otherwise(F.col('bk_rate_type')))"
   ]
  },
  {
   "cell_type": "code",
   "execution_count": 28,
   "metadata": {},
   "outputs": [
    {
     "name": "stdout",
     "output_type": "stream",
     "text": [
      "471035"
     ]
    }
   ],
   "source": [
    "book_rate_df =last_search_df1.join(bookings_df,[\"hotel_id\",\"check_in_date\", \"check_out_date\",\"tuid\",'rate_type']).\\\n",
    "select(\"message_id\",\"hotel_id\",\"check_in_date\", \"check_out_date\",\"tuid\",'rate_type','rate_index','avg_book_rate_amount_usd','src_rate_amount_usd')\n",
    "book_rate_df.count()"
   ]
  },
  {
   "cell_type": "code",
   "execution_count": 29,
   "metadata": {},
   "outputs": [],
   "source": [
    "book_rate_df = book_rate_df.\\\n",
    "                         withColumn('rate_diff',F.abs(F.col('avg_book_rate_amount_usd')-F.col('src_rate_amount_usd')))\n",
    "\n",
    "book_rate_df = book_rate_df.filter((F.col('rate_diff')<1.0))"
   ]
  },
  {
   "cell_type": "code",
   "execution_count": null,
   "metadata": {},
   "outputs": [],
   "source": [
    "book_rate_df = book_rate_df.withColumn('label',F.lit(1))"
   ]
  },
  {
   "cell_type": "markdown",
   "metadata": {},
   "source": [
    "## Match rates: is booked/not booked"
   ]
  },
  {
   "cell_type": "code",
   "execution_count": 41,
   "metadata": {},
   "outputs": [],
   "source": [
    "booking_search_df = last_search_df1.join(book_rate_df.select(\"message_id\",\"hotel_id\",\"check_in_date\", \"check_out_date\",\"tuid\",'rate_type','rate_index','label'),\n",
    "                                        [\"message_id\",\"hotel_id\",\"check_in_date\", \"check_out_date\",\"tuid\",'rate_type','rate_index'],how='left')"
   ]
  },
  {
   "cell_type": "code",
   "execution_count": null,
   "metadata": {},
   "outputs": [],
   "source": [
    "booking_search_df = booking_search_df.fillna({'label':0})"
   ]
  },
  {
   "cell_type": "code",
   "execution_count": 30,
   "metadata": {},
   "outputs": [
    {
     "name": "stdout",
     "output_type": "stream",
     "text": [
      "37192"
     ]
    }
   ],
   "source": [
    "booking_search_df.filter(F.col('label')==1).count()"
   ]
  },
  {
   "cell_type": "code",
   "execution_count": 31,
   "metadata": {},
   "outputs": [
    {
     "name": "stdout",
     "output_type": "stream",
     "text": [
      "434120"
     ]
    }
   ],
   "source": [
    "booking_search_df.filter(F.col('label')==0).count()"
   ]
  },
  {
   "cell_type": "code",
   "execution_count": 35,
   "metadata": {},
   "outputs": [
    {
     "name": "stdout",
     "output_type": "stream",
     "text": [
      "root\n",
      " |-- hotel_id: integer (nullable = true)\n",
      " |-- check_in_date: date (nullable = true)\n",
      " |-- check_out_date: date (nullable = true)\n",
      " |-- tuid: integer (nullable = true)\n",
      " |-- rate_type: string (nullable = true)\n",
      " |-- message_id: string (nullable = true)\n",
      " |-- hotel_result_index: integer (nullable = true)\n",
      " |-- rate_index: string (nullable = true)\n",
      " |-- message_date: date (nullable = true)\n",
      " |-- score: float (nullable = true)\n",
      " |-- city: string (nullable = true)\n",
      " |-- star_rating: string (nullable = true)\n",
      " |-- filter_want_in_policy_rates_only: boolean (nullable = true)\n",
      " |-- filter_eligible_for_loyalty: boolean (nullable = true)\n",
      " |-- filter_free_breakfast: boolean (nullable = true)\n",
      " |-- filter_free_wifi: boolean (nullable = true)\n",
      " |-- filter_free_parking: boolean (nullable = true)\n",
      " |-- eligible_for_loyalty: string (nullable = true)\n",
      " |-- free_breakfast: string (nullable = true)\n",
      " |-- free_wifi: string (nullable = true)\n",
      " |-- free_parking: string (nullable = true)\n",
      " |-- refundable: string (nullable = true)\n",
      " |-- bk_hotel_index: integer (nullable = true)\n",
      " |-- src_rate_amount_usd: float (nullable = true)\n",
      " |-- src_commission_base_usd: float (nullable = true)\n",
      " |-- src_supply_revenue_usd: float (nullable = true)\n",
      " |-- bk_rate_type: string (nullable = true)\n",
      " |-- travel_product_id: integer (nullable = true)\n",
      " |-- group_account_id: integer (nullable = true)\n",
      " |-- bk_avg_commission_usd: double (nullable = true)\n",
      " |-- gross_booking_value_usd: double (nullable = true)\n",
      " |-- avg_book_rate_amount_usd: double (nullable = true)\n",
      " |-- bk_avg_markup_usd: double (nullable = true)\n",
      " |-- bk_avg_revenue_usd: double (nullable = true)\n",
      " |-- rate_diff: double (nullable = true)\n",
      " |-- is_booked: integer (nullable = false)"
     ]
    }
   ],
   "source": [
    "booking_search_df.printSchema()"
   ]
  },
  {
   "cell_type": "code",
   "execution_count": 36,
   "metadata": {
    "collapsed": true
   },
   "outputs": [
    {
     "name": "stdout",
     "output_type": "stream",
     "text": [
      "+--------+-------------+--------------+--------+---------+--------------------+------------------+----------+------------+-----------+--------------------+-----------+--------------------------------+---------------------------+---------------------+----------------+-------------------+--------------------+--------------+---------+------------+----------+--------------+-------------------+-----------------------+----------------------+------------+-----------------+----------------+---------------------+-----------------------+------------------------+------------------+------------------+--------------------+---------+\n",
      "|hotel_id|check_in_date|check_out_date|    tuid|rate_type|          message_id|hotel_result_index|rate_index|message_date|      score|                city|star_rating|filter_want_in_policy_rates_only|filter_eligible_for_loyalty|filter_free_breakfast|filter_free_wifi|filter_free_parking|eligible_for_loyalty|free_breakfast|free_wifi|free_parking|refundable|bk_hotel_index|src_rate_amount_usd|src_commission_base_usd|src_supply_revenue_usd|bk_rate_type|travel_product_id|group_account_id|bk_avg_commission_usd|gross_booking_value_usd|avg_book_rate_amount_usd| bk_avg_markup_usd|bk_avg_revenue_usd|           rate_diff|is_booked|\n",
      "+--------+-------------+--------------+--------+---------+--------------------+------------------+----------+------------+-----------+--------------------+-----------+--------------------------------+---------------------------+---------------------+----------------+-------------------+--------------------+--------------+---------+------------+----------+--------------+-------------------+-----------------------+----------------------+------------+-----------------+----------------+---------------------+-----------------------+------------------------+------------------+------------------+--------------------+---------+\n",
      "|      59|   2020-03-19|    2020-03-20|13671172|     ESRM|07b3bf19-95ec-455...|                12|         2|  2020-03-09| 0.10230061|          vantaa-fin|        3.0|                           false|                      false|                false|           false|              false|               false|          true|     true|       false|     false|            12|          110.03822|              13.244882|             14.571657|        null|             null|            null|                 null|                   null|                    null|              null|              null|                null|        0|\n",
      "|      59|   2020-03-19|    2020-03-20|13671172|     ESRM|07b3bf19-95ec-455...|                12|         0|  2020-03-09| 0.10230061|          vantaa-fin|        3.0|                           false|                      false|                false|           false|              false|               false|          true|     true|       false|     false|             8|          110.03822|              13.244882|             14.571657|        null|             null|            null|                 null|                   null|                    null|              null|              null|                null|        0|\n",
      "|      59|   2020-03-19|    2020-03-20|13671172|     ESRM|07b3bf19-95ec-455...|                12|         1|  2020-03-09| 0.10230061|          vantaa-fin|        3.0|                           false|                      false|                false|           false|              false|               false|          true|     true|       false|     false|             5|          110.03822|              13.244882|             14.571657|        null|             null|            null|                 null|                   null|                    null|              null|              null|                null|        0|\n",
      "|     424|   2020-03-12|    2020-03-13| 9618295|     ESRM|6330e305-85b2-4a2...|                 7|         5|  2020-03-11| 0.12519301|         roubaix-fra|        3.0|                           false|                      false|                false|           false|              false|               false|         false|     true|       false|      true|             9|          103.85048|               9.108309|             13.668093|        ESRM|            60020|           11141|                  0.0|       103.850484122688|        103.850484122688|13.668092771568002|13.668092771568002|4.996711439275714E-6|        1|\n",
      "|     424|   2020-03-12|    2020-03-13| 9618295|     ESRM|6330e305-85b2-4a2...|                 7|         1|  2020-03-11| 0.12519301|         roubaix-fra|        3.0|                           false|                      false|                false|           false|              false|               false|         false|     true|       false|     false|             2|           93.35735|               8.196352|             12.294529|        ESRM|            60020|           11141|                  0.0|       103.850484122688|        103.850484122688|13.668092771568002|13.668092771568002|  10.493130912238783|        0|\n",
      "|     424|   2020-03-12|    2020-03-13| 9618295|     ESRM|6330e305-85b2-4a2...|                 7|         7|  2020-03-11| 0.12519301|         roubaix-fra|        3.0|                           false|                      false|                false|           false|              false|               false|          true|     true|       false|      true|             1|         116.561584|              10.222922|             15.334384|        ESRM|            60020|           11141|                  0.0|       103.850484122688|        103.850484122688|13.668092771568002|13.668092771568002|  12.711100349968248|        0|\n",
      "|     424|   2020-03-12|    2020-03-13| 9618295|     ESRM|6330e305-85b2-4a2...|                 7|         0|  2020-03-11| 0.12519301|         roubaix-fra|        3.0|                           false|                      false|                false|           false|              false|               false|         false|     true|       false|     false|             7|           93.35735|               8.196352|             12.294529|        ESRM|            60020|           11141|                  0.0|       103.850484122688|        103.850484122688|13.668092771568002|13.668092771568002|  10.493130912238783|        0|\n",
      "|     424|   2020-03-12|    2020-03-13| 9618295|     ESRM|6330e305-85b2-4a2...|                 7|         8|  2020-03-11| 0.12519301|         roubaix-fra|        3.0|                           false|                      false|                false|           false|              false|               false|          true|     true|       false|      true|             3|         116.561584|              10.222922|             15.334384|        ESRM|            60020|           11141|                  0.0|       103.850484122688|        103.850484122688|13.668092771568002|13.668092771568002|  12.711100349968248|        0|\n",
      "|     645|   2020-03-07|    2020-03-14|18584458|     EPRM|d2c674b3-63dd-452...|                 4|         6|  2020-03-04| 0.22683349|           tampa-usa|        2.5|                           false|                      false|                false|           false|              false|                true|          true|     true|        true|      true|            18|             106.61|                  17.24|                 22.63|        null|             null|            null|                 null|                   null|                    null|              null|              null|                null|        0|\n",
      "|     645|   2020-03-07|    2020-03-14|18584458|     EPRM|d2c674b3-63dd-452...|                 4|         8|  2020-03-04| 0.22683349|           tampa-usa|        2.5|                           false|                      false|                false|           false|              false|                true|          true|     true|        true|      true|             7|             110.86|                  22.97|                 31.21|        null|             null|            null|                 null|                   null|                    null|              null|              null|                null|        0|\n",
      "|     645|   2020-03-07|    2020-03-14|18584458|     EPRM|d2c674b3-63dd-452...|                 4|         7|  2020-03-04| 0.22683349|           tampa-usa|        2.5|                           false|                      false|                false|           false|              false|                true|          true|     true|        true|      true|            13|             110.86|                  23.03|                 30.24|        null|             null|            null|                 null|                   null|                    null|              null|              null|                null|        0|\n",
      "|     645|   2020-03-07|    2020-03-14|18584458|     EPRM|d2c674b3-63dd-452...|                 4|         7|  2020-03-04| 0.22683349|           tampa-usa|        2.5|                           false|                      false|                false|           false|              false|                true|          true|     true|        true|      true|            13|             110.86|                  18.06|                 23.71|        null|             null|            null|                 null|                   null|                    null|              null|              null|                null|        0|\n",
      "|     645|   2020-03-07|    2020-03-14|18584458|     EPRM|d2c674b3-63dd-452...|                 4|         8|  2020-03-04| 0.22683349|           tampa-usa|        2.5|                           false|                      false|                false|           false|              false|                true|          true|     true|        true|      true|             7|             110.86|                  25.86|                 35.14|        null|             null|            null|                 null|                   null|                    null|              null|              null|                null|        0|\n",
      "|     645|   2020-03-07|    2020-03-14|18584458|     EPRM|d2c674b3-63dd-452...|                 4|         8|  2020-03-04| 0.22683349|           tampa-usa|        2.5|                           false|                      false|                false|           false|              false|                true|          true|     true|        true|      true|             7|             110.86|                  18.06|                 23.71|        null|             null|            null|                 null|                   null|                    null|              null|              null|                null|        0|\n",
      "|     645|   2020-03-07|    2020-03-14|18584458|     EPRM|d2c674b3-63dd-452...|                 4|         6|  2020-03-04| 0.22683349|           tampa-usa|        2.5|                           false|                      false|                false|           false|              false|                true|          true|     true|        true|      true|            18|             106.61|                  25.15|                 34.17|        null|             null|            null|                 null|                   null|                    null|              null|              null|                null|        0|\n",
      "|     645|   2020-03-07|    2020-03-14|18584458|     EPRM|d2c674b3-63dd-452...|                 4|        11|  2020-03-04| 0.22683349|           tampa-usa|        2.5|                           false|                      false|                false|           false|              false|                true|          true|     true|        true|      true|             8|             115.11|                   18.9|                 24.81|        null|             null|            null|                 null|                   null|                    null|              null|              null|                null|        0|\n",
      "|     645|   2020-03-07|    2020-03-14|18584458|     EPRM|d2c674b3-63dd-452...|                 4|         6|  2020-03-04| 0.22683349|           tampa-usa|        2.5|                           false|                      false|                false|           false|              false|                true|          true|     true|        true|      true|            18|             106.61|                  22.21|                 29.16|        null|             null|            null|                 null|                   null|                    null|              null|              null|                null|        0|\n",
      "|     645|   2020-03-07|    2020-03-14|18584458|     EPRM|d2c674b3-63dd-452...|                 4|         6|  2020-03-04| 0.22683349|           tampa-usa|        2.5|                           false|                      false|                false|           false|              false|                true|          true|     true|        true|      true|            18|             106.61|                  22.26|                 30.24|        null|             null|            null|                 null|                   null|                    null|              null|              null|                null|        0|\n",
      "|     645|   2020-03-07|    2020-03-14|18584458|     EPRM|d2c674b3-63dd-452...|                 4|         7|  2020-03-04| 0.22683349|           tampa-usa|        2.5|                           false|                      false|                false|           false|              false|                true|          true|     true|        true|      true|            13|             110.86|                  25.86|                 35.14|        null|             null|            null|                 null|                   null|                    null|              null|              null|                null|        0|\n",
      "|     645|   2020-03-07|    2020-03-14|18584458|     EPRM|d2c674b3-63dd-452...|                 4|         7|  2020-03-04| 0.22683349|           tampa-usa|        2.5|                           false|                      false|                false|           false|              false|                true|          true|     true|        true|      true|            13|             110.86|                  22.97|                 31.21|        null|             null|            null|                 null|                   null|                    null|              null|              null|                null|        0|\n",
      "|     645|   2020-03-07|    2020-03-14|18584458|     EPRM|d2c674b3-63dd-452...|                 4|        11|  2020-03-04| 0.22683349|           tampa-usa|        2.5|                           false|                      false|                false|           false|              false|                true|          true|     true|        true|      true|             8|             115.11|                  23.87|                 31.34|        null|             null|            null|                 null|                   null|                    null|              null|              null|                null|        0|\n",
      "|     645|   2020-03-07|    2020-03-14|18584458|     EPRM|d2c674b3-63dd-452...|                 4|        11|  2020-03-04| 0.22683349|           tampa-usa|        2.5|                           false|                      false|                false|           false|              false|                true|          true|     true|        true|      true|             8|             115.11|                   23.7|                  32.2|        null|             null|            null|                 null|                   null|                    null|              null|              null|                null|        0|\n",
      "|     645|   2020-03-07|    2020-03-14|18584458|     EPRM|d2c674b3-63dd-452...|                 4|         8|  2020-03-04| 0.22683349|           tampa-usa|        2.5|                           false|                      false|                false|           false|              false|                true|          true|     true|        true|      true|             7|             110.86|                  23.03|                 30.24|        null|             null|            null|                 null|                   null|                    null|              null|              null|                null|        0|\n",
      "|     645|   2020-03-07|    2020-03-14|18584458|     EPRM|d2c674b3-63dd-452...|                 4|        11|  2020-03-04| 0.22683349|           tampa-usa|        2.5|                           false|                      false|                false|           false|              false|                true|          true|     true|        true|      true|             8|             115.11|                  26.59|                 36.13|        null|             null|            null|                 null|                   null|                    null|              null|              null|                null|        0|\n",
      "|    1052|   2020-04-13|    2020-04-14|16834484|      GDS|9ca3e955-225a-424...|                28|         2|  2020-03-07|0.105512455|    coral gables-usa|        4.0|                           false|                      false|                false|           false|              false|                true|         false|    false|       false|      true|             2|              224.0|                    0.0|                 21.99|         GDS|            60000|           25854|              19.7976|                 247.47|                  247.47|               0.0|           19.7976|               23.47|        0|\n",
      "|    1052|   2020-04-13|    2020-04-14|16834484|      GDS|9ca3e955-225a-424...|                28|         0|  2020-03-07|0.105512455|    coral gables-usa|        4.0|                           false|                      false|                false|           false|              false|                true|         false|    false|       false|      true|             7|              219.0|                    0.0|                 21.59|         GDS|            60000|           25854|              19.7976|                 247.47|                  247.47|               0.0|           19.7976|               28.47|        0|\n",
      "|    1052|   2020-04-13|    2020-04-14|16834484|      GDS|9ca3e955-225a-424...|                28|         1|  2020-03-07|0.105512455|    coral gables-usa|        4.0|                           false|                      false|                false|           false|              false|                true|         false|    false|       false|      true|             9|              219.0|                    0.0|                 21.59|         GDS|            60000|           25854|              19.7976|                 247.47|                  247.47|               0.0|           19.7976|               28.47|        0|\n",
      "|    1228|   2020-03-18|    2020-03-19|11047001|     ESRM|bdb18ef5-a9d4-4b8...|                12|         4|  2020-03-04| 0.13063276|fontenay-sous-boi...|        3.0|                           false|                      false|                false|           false|              false|               false|          true|     true|       false|      true|             1|          162.17421|              14.223659|             21.341057|        ESRM|            60020|           30333|                  0.0|     152.94052127496002|      152.94052127496002|    20.12697705512|    20.12697705512|   9.233688319766543|        0|\n",
      "|    1228|   2020-03-18|    2020-03-19|11047001|     ESRM|bdb18ef5-a9d4-4b8...|                12|         1|  2020-03-04| 0.13063276|fontenay-sous-boi...|        3.0|                           false|                      false|                false|           false|              false|               false|          true|     true|       false|     false|             6|          152.94052|              13.421698|             20.126978|        ESRM|            60020|           30333|                  0.0|     152.94052127496002|      152.94052127496002|    20.12697705512|    20.12697705512|3.472564458206761...|        1|\n",
      "|    1228|   2020-03-18|    2020-03-19|11047001|     ESRM|bdb18ef5-a9d4-4b8...|                12|         0|  2020-03-04| 0.13063276|fontenay-sous-boi...|        3.0|                           false|                      false|                false|           false|              false|               false|          true|     true|       false|     false|             4|          152.94052|              13.421698|             20.126978|        ESRM|            60020|           30333|                  0.0|     152.94052127496002|      152.94052127496002|    20.12697705512|    20.12697705512|3.472564458206761...|        1|\n",
      "|    1228|   2020-03-18|    2020-03-19|11047001|     ESRM|bdb18ef5-a9d4-4b8...|                12|         5|  2020-03-04| 0.13063276|fontenay-sous-boi...|        3.0|                           false|                      false|                false|           false|              false|               false|          true|     true|       false|      true|             3|          162.17421|              14.223659|             21.341057|        ESRM|            60020|           30333|                  0.0|     152.94052127496002|      152.94052127496002|    20.12697705512|    20.12697705512|   9.233688319766543|        0|\n",
      "|    1290|   2020-03-16|    2020-03-17| 6083670|     ESRM|e40701fc-8ae2-409...|                 1|         0|  2020-03-09| 0.14855504|         swansea-gbr|        4.0|                           false|                      false|                false|           false|              false|               false|         false|    false|       false|     false|             2|          130.43877|              16.358873|             21.702684|        ESRM|            60003|           20234|                  0.0|       145.068762276048|        145.068762276048|24.151931892112003|24.151931892112003|  14.629995796555818|        0|\n",
      "|    1290|   2020-03-16|    2020-03-17| 6083670|     ESRM|e40701fc-8ae2-409...|                 1|         1|  2020-03-09| 0.14855504|         swansea-gbr|        4.0|                           false|                      false|                false|           false|              false|               false|         false|    false|       false|     false|             1|          137.07924|              17.197119|             22.815979|        ESRM|            60003|           20234|                  0.0|       145.068762276048|        145.068762276048|24.151931892112003|24.151931892112003|   7.989523384446443|        0|\n",
      "|    1691|   2020-03-11|    2020-03-12|12356117|     ESRA|ab93e8df-e0e1-470...|                 6|         3|  2020-03-03| 0.13297893|        richland-usa|        3.5|                           false|                      false|                false|           false|              false|               false|          true|     true|        true|      true|             1|              80.94|                  14.57|                 14.57|        null|             null|            null|                 null|                   null|                    null|              null|              null|                null|        0|\n",
      "|    1691|   2020-03-11|    2020-03-12|12356117|     ESRA|ab93e8df-e0e1-470...|                 6|         2|  2020-03-03| 0.13297893|        richland-usa|        3.5|                           false|                      false|                false|           false|              false|               false|          true|     true|        true|      true|            11|              80.94|                  14.57|                 14.57|        null|             null|            null|                 null|                   null|                    null|              null|              null|                null|        0|\n",
      "|    1883|   2020-03-11|    2020-03-13|20531167|     ESRA|b86de69b-5596-4a3...|                27|         5|  2020-03-10| 0.10009396|          edison-usa|        4.0|                           false|                      false|                false|           false|              false|               false|         false|     true|        true|     false|             5|             108.54|                  13.28|                 13.28|        null|             null|            null|                 null|                   null|                    null|              null|              null|                null|        0|\n",
      "|    1883|   2020-03-11|    2020-03-13|20531167|     ESRA|b86de69b-5596-4a3...|                27|         5|  2020-03-10| 0.10009396|          edison-usa|        4.0|                           false|                      false|                false|           false|              false|               false|         false|     true|        true|     false|             5|             108.54|                   10.6|                  10.6|        null|             null|            null|                 null|                   null|                    null|              null|              null|                null|        0|\n",
      "|    1883|   2020-03-11|    2020-03-13|20531167|     ESRA|b86de69b-5596-4a3...|                27|         4|  2020-03-10| 0.10009396|          edison-usa|        4.0|                           false|                      false|                false|           false|              false|               false|         false|     true|        true|     false|             4|             108.54|                  13.28|                 13.28|        null|             null|            null|                 null|                   null|                    null|              null|              null|                null|        0|\n",
      "|    1883|   2020-03-11|    2020-03-13|20531167|     ESRA|b86de69b-5596-4a3...|                27|         4|  2020-03-10| 0.10009396|          edison-usa|        4.0|                           false|                      false|                false|           false|              false|               false|         false|     true|        true|     false|             4|             108.54|                   10.6|                  10.6|        null|             null|            null|                 null|                   null|                    null|              null|              null|                null|        0|\n",
      "|    1883|   2020-03-11|    2020-03-13|20531167|     ESRA|b86de69b-5596-4a3...|                27|         3|  2020-03-10| 0.10009396|          edison-usa|        4.0|                           false|                      false|                false|           false|              false|               false|         false|     true|        true|     false|             3|             108.54|                   10.6|                  10.6|        null|             null|            null|                 null|                   null|                    null|              null|              null|                null|        0|\n",
      "|    1883|   2020-03-11|    2020-03-13|20531167|     ESRA|b86de69b-5596-4a3...|                27|         3|  2020-03-10| 0.10009396|          edison-usa|        4.0|                           false|                      false|                false|           false|              false|               false|         false|     true|        true|     false|             3|             108.54|                  13.28|                 13.28|        null|             null|            null|                 null|                   null|                    null|              null|              null|                null|        0|\n",
      "|    1923|   2020-03-01|    2020-03-04|20357319|     ESRM|22fce42c-76fb-472...|                11|         0|  2020-03-01| 0.16249189|         midland-usa|        2.5|                           false|                      false|                false|           false|              false|               false|          true|     true|        true|     false|            11|               82.4|                  15.25|                 21.45|        ESRM|            60000|           25632|                  0.0|                 291.68|       97.22666666666667|17.386666666666667|17.386666666666667|  14.826665140787767|        0|\n",
      "|    1923|   2020-03-01|    2020-03-04|20357319|     ESRM|22fce42c-76fb-472...|                11|         1|  2020-03-01| 0.16249189|         midland-usa|        2.5|                           false|                      false|                false|           false|              false|               false|          true|     true|        true|     false|            20|               82.4|                   9.82|             13.809999|        ESRM|            60000|           25632|                  0.0|                 291.68|       97.22666666666667|17.386666666666667|17.386666666666667|  14.826665140787767|        0|\n",
      "|    1923|   2020-03-01|    2020-03-04|20357319|     ESRM|22fce42c-76fb-472...|                11|         1|  2020-03-01| 0.16249189|         midland-usa|        2.5|                           false|                      false|                false|           false|              false|               false|          true|     true|        true|     false|            20|               82.4|                  12.01|                  16.9|        ESRM|            60000|           25632|                  0.0|                 291.68|       97.22666666666667|17.386666666666667|17.386666666666667|  14.826665140787767|        0|\n",
      "|    1923|   2020-03-01|    2020-03-04|20357319|     ESRM|22fce42c-76fb-472...|                11|         0|  2020-03-01| 0.16249189|         midland-usa|        2.5|                           false|                      false|                false|           false|              false|               false|          true|     true|        true|     false|            11|               82.4|                  12.01|                  16.9|        ESRM|            60000|           25632|                  0.0|                 291.68|       97.22666666666667|17.386666666666667|17.386666666666667|  14.826665140787767|        0|\n",
      "|    1923|   2020-03-01|    2020-03-04|20357319|     ESRM|22fce42c-76fb-472...|                11|         0|  2020-03-01| 0.16249189|         midland-usa|        2.5|                           false|                      false|                false|           false|              false|               false|          true|     true|        true|     false|            11|               82.4|                   9.82|             13.809999|        ESRM|            60000|           25632|                  0.0|                 291.68|       97.22666666666667|17.386666666666667|17.386666666666667|  14.826665140787767|        0|\n",
      "|    1923|   2020-03-01|    2020-03-04|20357319|     ESRM|22fce42c-76fb-472...|                11|         1|  2020-03-01| 0.16249189|         midland-usa|        2.5|                           false|                      false|                false|           false|              false|               false|          true|     true|        true|     false|            20|               82.4|                  15.25|                 21.45|        ESRM|            60000|           25632|                  0.0|                 291.68|       97.22666666666667|17.386666666666667|17.386666666666667|  14.826665140787767|        0|\n",
      "|    1983|   2020-03-05|    2020-03-06|16942318|     EPRM|5ee0eed8-0c87-4de...|                 2|         5|  2020-03-05| 0.05020024|        marianna-usa|        2.5|                           false|                      false|                false|           false|              false|                true|          true|     true|        true|     false|             8|              70.99|                  11.36|                 15.69|        null|             null|            null|                 null|                   null|                    null|              null|              null|                null|        0|\n",
      "|    1983|   2020-03-05|    2020-03-06|16942318|     EPRM|5ee0eed8-0c87-4de...|                 2|         9|  2020-03-05| 0.05020024|        marianna-usa|        2.5|                           false|                      false|                false|           false|              false|                true|          true|     true|        true|     false|             7|              75.99|                  12.16|                  16.8|        null|             null|            null|                 null|                   null|                    null|              null|              null|                null|        0|\n",
      "|    1983|   2020-03-05|    2020-03-06|16942318|     EPRM|5ee0eed8-0c87-4de...|                 2|         8|  2020-03-05| 0.05020024|        marianna-usa|        2.5|                           false|                      false|                false|           false|              false|                true|          true|     true|        true|     false|             6|              75.99|                  12.16|                  16.8|        null|             null|            null|                 null|                   null|                    null|              null|              null|                null|        0|\n",
      "+--------+-------------+--------------+--------+---------+--------------------+------------------+----------+------------+-----------+--------------------+-----------+--------------------------------+---------------------------+---------------------+----------------+-------------------+--------------------+--------------+---------+------------+----------+--------------+-------------------+-----------------------+----------------------+------------+-----------------+----------------+---------------------+-----------------------+------------------------+------------------+------------------+--------------------+---------+\n",
      "only showing top 50 rows"
     ]
    }
   ],
   "source": [
    "booking_search_df.show(50)"
   ]
  },
  {
   "cell_type": "code",
   "execution_count": 37,
   "metadata": {},
   "outputs": [],
   "source": [
    "dir = 's3://ege-ds-workshops-corp/yixli/data_understanding/'\n",
    "datestamp = datetime.datetime.now().strftime('%m-%d-%Y')\n",
    "booking_search_df.repartition(1).write.format('com.databricks.spark.csv').mode('overwrite')\\\n",
    ".save(dir+datestamp+'_booking_search_df_label.csv',header = 'true')"
   ]
  },
  {
   "cell_type": "code",
   "execution_count": null,
   "metadata": {},
   "outputs": [],
   "source": []
  }
 ],
 "metadata": {
  "kernelspec": {
   "display_name": "PySpark3",
   "language": "",
   "name": "pyspark3kernel"
  },
  "language_info": {
   "codemirror_mode": {
    "name": "python",
    "version": 3
   },
   "mimetype": "text/x-python",
   "name": "pyspark3",
   "pygments_lexer": "python3"
  }
 },
 "nbformat": 4,
 "nbformat_minor": 2
}
