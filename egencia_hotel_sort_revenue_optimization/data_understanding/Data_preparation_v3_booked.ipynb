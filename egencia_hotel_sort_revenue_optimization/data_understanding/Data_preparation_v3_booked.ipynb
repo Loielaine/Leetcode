{
 "cells": [
  {
   "cell_type": "code",
   "execution_count": 2,
   "metadata": {},
   "outputs": [],
   "source": [
    "import datetime\n",
    "import pandas as pd\n",
    "import numpy as np\n",
    "\n",
    "from pyspark import SparkContext\n",
    "from pyspark import SQLContext\n",
    "from pyspark.sql.session import SparkSession\n",
    "\n",
    "\n",
    "from pyspark.sql import DataFrameStatFunctions as statFunc\n",
    "\n",
    "from pyspark.sql.functions import row_number\n",
    "from pyspark.sql.window import Window\n",
    "from pyspark.sql.functions import desc\n",
    "\n",
    "from pyspark.sql import functions as F\n",
    "from pyspark.sql import types as T\n",
    "from pyspark.sql.types import IntegerType"
   ]
  },
  {
   "cell_type": "code",
   "execution_count": 3,
   "metadata": {},
   "outputs": [],
   "source": [
    "%local\n",
    "import pandas as pd\n",
    "import numpy as np\n",
    "import matplotlib.pyplot as plt\n",
    "import seaborn as sns\n",
    "pd.options.display.float_format = '{:.5f}'.format"
   ]
  },
  {
   "cell_type": "code",
   "execution_count": 3,
   "metadata": {
    "scrolled": true
   },
   "outputs": [
    {
     "name": "stdout",
     "output_type": "stream",
     "text": [
      "1999888"
     ]
    }
   ],
   "source": [
    "sqlBookings = \"\"\"SELECT \n",
    "      a.hotelfactid,\n",
    "      a.hotelid as hotel_id,\n",
    "     trunc(a.issuedate) as issue_date,\n",
    "     trunc(a.traveldatestart) as check_in_date,\n",
    "     trunc(a.traveldateend) as check_out_date,\n",
    "     hsp.quarter as quarter,\n",
    "      (case when a.customersystemid=1 then a.TUIDTraveler else g.TUIDInternal end) as tuid,      \n",
    "      a.travelproductid AS travel_product_id,\n",
    "      a.GroupAccountID AS group_account_id,\n",
    "      hsp.rate_type AS hotel_rate_type,\n",
    "      (case  \n",
    "        when a.hotelrateTypeSupplyid IN (1,2,3,4,5,10,11,14,16,17,18,20,25,26,28,29,30,32) then 'GDS'\n",
    "        when a.hotelrateTypeSupplyid IN (12,13,15,19,21,22,23,27,31,33,34) then 'NEG'\n",
    "        when a.hotelrateTypeSupplyid = 6 then 'ESRA'\n",
    "        when a.hotelrateTypeSupplyid = 7 then 'ESRM'\n",
    "        when a.hotelrateTypeSupplyid = 8 then 'EPRA'\n",
    "        when a.hotelrateTypeSupplyid = 9 then 'EPRM'\n",
    "        when a.hotelrateTypeSupplyid IN (24,35) then 'HOTMIP'\n",
    "        else 'UNK'\n",
    "        end) as bk_rate_type,\n",
    "      CASE WHEN a.OnlineBool = 1 THEN 'online' ELSE 'offline' END AS booking_type,\n",
    "      a.bookingamtgross::DOUBLE precision*COALESCE(ex.exchangerate,1::DOUBLE precision) AS gross_booking_value_usd,\n",
    "      a.bookingamtcommissionest::DOUBLE precision*COALESCE(ex.exchangerate,1::DOUBLE precision)\n",
    "        + a.bookingamtgross::DOUBLE precision*COALESCE(ex.exchangerate,1::DOUBLE precision)*NVL(hsp.commission,0.00) AS total_commission,\n",
    "      a.bookingamtmargin::DOUBLE precision*COALESCE(ex.exchangerate,1::DOUBLE precision) AS total_markup,\n",
    "      NVL(hsp.gds,0.00) AS total_gds,\n",
    "      NVL(total_commission,0.00) + NVL(total_markup,0.00) + NVL(total_gds,0.00) AS total_supply_revenue\n",
    "FROM public.HotelFact a\n",
    "  JOIN public.ExchangeRateDailySubset ex\n",
    "    ON a.IssueDateTimeID = ex.TimeID AND a.CurrencyCode = ex.FromCurrencyCode AND ex.ToCurrencyCode = 'USD'\n",
    "  JOIN TravelerAccountDim g \n",
    "    ON a.TUIDTraveler = g.TUID AND a.customersystemid=g.customersystemid \n",
    "  JOIN public.GroupAccountdim d \n",
    "    ON a.GroupAccountID = d.GroupAccountID \n",
    "  JOIN public.hotel_supply hsp \n",
    "    ON hsp.year = EXTRACT (year FROM a.IssueDate)\n",
    "    AND hsp.quarter = EXTRACT (quarter FROM a.IssueDate)\n",
    "    AND hsp.rate_type = CASE\n",
    "         WHEN a.HotelRateTypeSupplyID IN (7,9,24) THEN 'Expedia Collect'\n",
    "         WHEN a.HotelRateTypeSupplyID IN (6,8,35) THEN 'Hotel Collect'\n",
    "         WHEN a.HotelRateTypeSupplyID IN (12,13,15,19,21,22,23,27,31,33,34) THEN 'Negotiated'\n",
    "         ELSE 'Published & GDS' END\n",
    "    AND hsp.travel_product_id = a.TravelProductID\n",
    "WHERE a.CustomerSystemID IN (1,2)\n",
    "AND   (d.groupaccountinternaltypeid = 1 OR d.groupaccountinternaltypeid = 3)\n",
    "AND a.BookingTypeID in (1,3) \n",
    "and a.issuedate>=to_date('20191001','YYYYMMDD') \n",
    "and a.issuedate<=to_date('20200101','YYYYMMDD')\"\"\".replace('\\n',' ')\n",
    "\n",
    "connection_string = \"jdbc:redshift://egencia-reporting.czjkedodj6lc.us-west-2.redshift.amazonaws.com:5439/egedatamart?user=ds_rpt_user&password=Jan2019!\";\n",
    "\n",
    "bookings_df = sqlContext.read.\\\n",
    "    format(\"com.databricks.spark.redshift\").\\\n",
    "    option(\"url\", connection_string).\\\n",
    "    option(\"query\", sqlBookings).\\\n",
    "    option(\"tempdir\", \"s3a://ege-ds-workshops-corp/yixli/\").\\\n",
    "    load()\n",
    "\n",
    "bookings_df.cache()\n",
    "bookings_df.count()"
   ]
  },
  {
   "cell_type": "code",
   "execution_count": 4,
   "metadata": {},
   "outputs": [],
   "source": [
    "bookings_df = bookings_df.withColumn('rate_type',F.when(F.col('bk_rate_type')=='HOTMIP','ESRM').otherwise(F.col('bk_rate_type')))"
   ]
  },
  {
   "cell_type": "code",
   "execution_count": 5,
   "metadata": {},
   "outputs": [],
   "source": [
    "bookings_df = bookings_df.\\\n",
    "                     withColumn('duration', F.datediff(F.col(\"check_out_date\"),F.col( \"check_in_date\")).cast(IntegerType()))"
   ]
  },
  {
   "cell_type": "code",
   "execution_count": 6,
   "metadata": {},
   "outputs": [],
   "source": [
    "bookings_df = bookings_df.\\\n",
    "                     withColumn('avg_book_rate_amount_usd',F.col('gross_booking_value_usd')/F.col( \"duration\")).\\\n",
    "                     withColumn('bk_avg_commission_usd',F.col('total_commission')/F.col( \"duration\")).\\\n",
    "                     withColumn('bk_avg_markup_usd',F.col('total_markup')/F.col( \"duration\")).\\\n",
    "                     withColumn('bk_avg_revenue_usd',F.col('total_supply_revenue')/F.col( \"duration\"))"
   ]
  },
  {
   "cell_type": "code",
   "execution_count": 7,
   "metadata": {},
   "outputs": [],
   "source": [
    "bookings_df = bookings_df.filter(F.col('total_supply_revenue')>0)"
   ]
  },
  {
   "cell_type": "code",
   "execution_count": 8,
   "metadata": {},
   "outputs": [],
   "source": [
    "bk_hotel_id = bookings_df.select('hotel_id','tuid').dropDuplicates()"
   ]
  },
  {
   "cell_type": "code",
   "execution_count": 9,
   "metadata": {},
   "outputs": [
    {
     "name": "stdout",
     "output_type": "stream",
     "text": [
      "1178715"
     ]
    }
   ],
   "source": [
    "bk_hotel_id.count()"
   ]
  },
  {
   "cell_type": "markdown",
   "metadata": {},
   "source": [
    "## Read search data"
   ]
  },
  {
   "cell_type": "code",
   "execution_count": 10,
   "metadata": {},
   "outputs": [],
   "source": [
    "search_schema = T.StructType([\n",
    "    T.StructField(\"message_id\", T.StringType(), True),                  #1\n",
    "    T.StructField(\"hotel_id\", T.IntegerType(), True),                   #6\n",
    "     T.StructField(\"check_in_date\", T.DateType(), True),                 #3\n",
    "    T.StructField(\"check_out_date\", T.DateType(), True),                #4\n",
    "    T.StructField(\"tuid\", T.IntegerType(), True),                       #5\n",
    "   \n",
    "    T.StructField(\"rate_index\", T.IntegerType(), True),                 #8 \n",
    "       T.StructField(\"message_date\", T.TimestampType(), True),             #2\n",
    "    \n",
    "      T.StructField(\"hotel_result_index\", T.IntegerType(), True),         #7           #8\n",
    "   T.StructField(\"city\", T.StringType(), True),                  #1\n",
    "     T.StructField(\"star_rating\", T.StringType(), True),                  #1\n",
    "    \n",
    "    T.StructField(\"filter_want_in_policy_rates_only\", T.BooleanType(), True),         #7\n",
    "    T.StructField(\"filter_eligible_for_loyalty\", T.BooleanType(), True),                 #8\n",
    "    T.StructField(\"filter_free_breakfast\", T.BooleanType(), True),              #12\n",
    "    T.StructField(\"filter_free_wifi\", T.BooleanType(), True),              #12\n",
    "    T.StructField(\"filter_free_parking\", T.BooleanType(), True),              #14\n",
    "    T.StructField(\"rate_type\", T.StringType(), True),                   #11\n",
    "    T.StructField(\"eligible_for_loyalty\", T.BooleanType(), True),         #7\n",
    "    T.StructField(\"free_breakfast\", T.BooleanType(), True),              #12\n",
    "    T.StructField(\"free_wifi\", T.BooleanType(), True),              #12\n",
    "    T.StructField(\"free_parking\", T.BooleanType(), True) ,             #14\n",
    "     T.StructField(\"refundable\", T.BooleanType(), True),\n",
    "    T.StructField(\"src_rate_amount_usd\", T.FloatType(), True),              #12\n",
    "    T.StructField(\"src_commission_base_usd\", T.FloatType(), True),              #12\n",
    "    T.StructField(\"src_supply_revenue_usd\", T.FloatType(), True)\n",
    "])"
   ]
  },
  {
   "cell_type": "code",
   "execution_count": 13,
   "metadata": {},
   "outputs": [
    {
     "name": "stdout",
     "output_type": "stream",
     "text": [
      "Collecting search the data...\n",
      "6528971"
     ]
    }
   ],
   "source": [
    "file_loc = \"s3://ege-ds-workshops-corp/yixli/data_understanding/09-15-2020_search_revenue_below_peterman_usd_df.csv\"\n",
    "print(\"Collecting search the data...\")\n",
    "search_revenue_below_peterman_usd_df = sqlContext.read.format('csv').\\\n",
    "            options(header='True', inferSchema='false', delimiter=',').\\\n",
    "            schema(search_schema).load(file_loc)\n",
    "\n",
    "# load_date between '20191001' and '20200101'\n",
    "print(search_revenue_below_peterman_usd_df.count())"
   ]
  },
  {
   "cell_type": "code",
   "execution_count": 14,
   "metadata": {
    "collapsed": true
   },
   "outputs": [
    {
     "name": "stdout",
     "output_type": "stream",
     "text": [
      "+--------------------+--------+-------------+--------------+--------+----------+--------------------+------------------+--------------------+-----------+--------------------------------+---------------------------+---------------------+----------------+-------------------+---------+--------------------+--------------+---------+------------+----------+-------------------+-----------------------+----------------------+\n",
      "|          message_id|hotel_id|check_in_date|check_out_date|    tuid|rate_index|        message_date|hotel_result_index|                city|star_rating|filter_want_in_policy_rates_only|filter_eligible_for_loyalty|filter_free_breakfast|filter_free_wifi|filter_free_parking|rate_type|eligible_for_loyalty|free_breakfast|free_wifi|free_parking|refundable|src_rate_amount_usd|src_commission_base_usd|src_supply_revenue_usd|\n",
      "+--------------------+--------+-------------+--------------+--------+----------+--------------------+------------------+--------------------+-----------+--------------------------------+---------------------------+---------------------+----------------+-------------------+---------+--------------------+--------------+---------+------------+----------+-------------------+-----------------------+----------------------+\n",
      "|8837ea02-ded8-43a...|15134608|   2019-10-28|    2019-10-30| 4417503|         7|2019-10-22 06:46:...|                 1|        blumenau-bra|        3.5|                           false|                      false|                false|           false|              false|     ESRA|               false|          true|     true|       false|      true|           68.73331|              12.840667|             12.840667|\n",
      "|51ef1e90-8f26-445...|   20879|   2019-12-13|    2019-12-17|10908458|         8|2019-10-23 09:18:...|                 0|         kowloon-hkg|        5.0|                           false|                      false|                false|           false|              false|     ESRM|               false|          true|     true|       false|     false|          229.01059|               37.58337|               48.0329|\n",
      "|4cdc78de-96b7-424...| 2133542|   2019-10-26|    2019-11-02|17244876|         3|2019-10-23 02:25:...|                 4|         kowloon-hkg|        5.0|                           false|                      false|                false|           false|              false|     ESRM|               false|         false|     true|       false|      true|           330.4461|              44.875343|             59.539627|\n",
      "|a0393c76-ddf5-422...|  523228|   2019-11-04|    2019-11-05|16873415|         2|2019-10-29 07:29:...|                 3|          london-gbr|        4.0|                           false|                      false|                false|           false|              false|     ESRM|               false|         false|     true|       false|     false|           199.5755|              29.585798|             37.805504|\n",
      "|8cb1dcb7-1a72-43f...|    1059|   2019-11-05|    2019-11-06|20731061|         0|2019-10-29 03:55:...|                 0|       sheffield-gbr|        4.0|                           false|                      false|                false|           false|              false|     ESRM|               false|         false|     true|        true|      true|          121.21173|              11.139696|             16.079239|\n",
      "|6d955403-af27-425...|  527560|   2019-11-05|    2019-11-06|18704906|        11|2019-10-29 02:32:...|                23|           leeds-gbr|        3.0|                           false|                      false|                false|           false|              false|     EPRM|               false|          true|     true|       false|      true|          167.88011|              24.890661|             31.811165|\n",
      "|d4b1ccfb-fbfa-4d3...| 1450163|   2019-11-18|    2019-11-19|19073203|         7|2019-10-29 07:05:...|                 6|   milton keynes-gbr|        4.0|                           false|                      false|                false|           false|              false|     EPRM|               false|          true|     true|       false|      true|          175.37947|              21.559044|             28.749678|\n",
      "|e706cb94-b65e-446...|    1949|   2019-11-10|    2019-11-12| 8711696|         8|2019-10-29 11:55:...|                 0|          london-gbr|        4.5|                           false|                      false|                false|           false|              false|     ESRM|               false|          true|    false|       false|      true|          148.22485|              19.359404|             24.736301|\n",
      "|df1a502f-b43e-4e8...|10928595|   2019-11-05|    2019-11-06|17273467|         2|2019-10-29 11:41:...|                 3|         wembley-gbr|        4.0|                           false|                      false|                false|           false|              false|     ESRA|               false|         false|     true|       false|      true|          138.92462|              20.838694|             25.006432|\n",
      "|c2327033-d48c-49e...|  559690|   2019-11-19|    2019-11-20|15216134|         2|2019-10-29 07:30:...|                 0|          london-gbr|        4.0|                           false|                      false|                false|           false|              false|     ESRM|               false|         false|     true|       false|     false|          389.54205|               71.05737|              87.21379|\n",
      "|f3b2756c-e41c-4dd...| 5040114|   2019-11-12|    2019-11-13|13137865|         1|2019-10-29 10:36:...|                22|          london-gbr|        2.5|                           false|                      false|                false|           false|              false|     EPRM|               false|         false|     true|       false|      true|          186.67352|               26.09982|             33.779263|\n",
      "|35e7b6bf-16f6-4b7...| 1330891|   2019-11-28|    2019-11-29|15388741|         5|2019-10-29 04:30:...|                 2|        coventry-gbr|        4.0|                           false|                      false|                false|           false|              false|     EPRA|                true|         false|     true|       false|      true|          91.638794|              11.461281|             11.461281|\n",
      "|39e694b1-7df9-415...|   20474|   2019-10-30|    2019-10-31|18694505|         8|2019-10-29 07:51:...|                 2|         retford-gbr|        3.0|                           false|                      false|                false|           false|              false|     ESRM|               false|          true|     true|        true|     false|          97.440186|              11.975817|             15.963468|\n",
      "|07d9f9e3-c12f-44d...| 2048025|   2019-11-26|    2019-11-27| 7950262|         1|2019-10-29 04:09:...|                 0|         salford-gbr|        4.0|                           false|                      false|                false|           false|              false|     ESRA|               false|         false|     true|       false|      true|          204.52791|               23.86159|              23.86159|\n",
      "|144fdab9-e134-41a...|14736047|   2019-12-10|    2019-12-11| 6113226|         9|2019-10-29 05:51:...|                 0|          london-gbr|        4.0|                           false|                      false|                false|           false|              false|     ESRM|               false|          true|    false|       false|      true|            411.204|               54.01338|             70.890144|\n",
      "|4faee5f3-3942-411...|  434875|   2019-11-04|    2019-11-06|19986507|         7|2019-10-29 07:33:...|                 4|           leeds-gbr|        3.0|                           false|                      false|                false|           false|              false|     ESRM|               false|          true|     true|       false|      true|          104.61796|              10.457936|             13.943915|\n",
      "|8c5db314-2e8f-4b5...| 1700787|   2019-11-04|    2019-11-05| 9881010|         1|2019-10-29 10:17:...|                 0|         norwich-gbr|        4.0|                           false|                      false|                false|           false|              false|     ESRA|               false|         false|     true|       false|      true|          140.21095|              15.770517|             15.770517|\n",
      "|a66a6bcf-aa44-4d2...|  554934|   2019-10-30|    2019-10-31|15288413|         0|2019-10-29 04:22:...|                 3|          oxford-gbr|        4.0|                           false|                      false|                 true|           false|              false|     ESRM|               false|          true|     true|        true|     false|         118.227425|              17.519938|             22.395163|\n",
      "|09e5faa8-ada4-46e...|   10252|   2019-10-31|    2019-11-01| 9909246|         5|2019-10-29 04:02:...|                 3|           leeds-gbr|        4.0|                           false|                      false|                false|           false|              false|     ESRA|               false|          true|     true|       false|      true|          102.90713|              11.834319|             11.834319|\n",
      "|27138b54-11d9-45d...|31885221|   2019-10-31|    2019-11-01|13899786|         4|2019-10-29 09:07:...|                22|     dunfermline-gbr|        4.0|                           false|                      false|                false|           false|              false|     ESRM|               false|         false|     true|        true|      true|          70.272705|              10.419347|             13.313609|\n",
      "|4b23f8fc-f544-452...|  596773|   2019-11-07|    2019-11-08|15682106|         3|2019-10-29 08:23:...|                 5|      birmingham-gbr|        4.0|                           false|                      false|                false|           false|              false|     ESRM|               false|         false|     true|       false|     false|          164.56136|              23.012606|              29.77875|\n",
      "|a4fc3ded-9331-4a3...|   22620|   2019-11-19|    2019-11-20|19889953|         7|2019-10-29 05:19:...|                 1|       lancaster-gbr|        4.0|                           false|                      false|                false|           false|              false|     EPRM|               false|          true|     true|        true|      true|          143.01518|              21.198868|             27.090302|\n",
      "|1ae0b834-4ccf-486...|12294704|   2019-11-18|    2019-11-19|19346920|         8|2019-10-29 08:35:...|                 1|      manchester-gbr|        4.0|                           false|                      false|                false|           false|              false|     ESRA|               false|         false|     true|       false|      true|          140.21095|              15.770517|             15.770517|\n",
      "|d911239a-4f8d-43a...| 1259453|   2019-11-04|    2019-11-05|17224139|         5|2019-10-29 08:03:...|                 0|       stevenage-gbr|        3.0|                           false|                      false|                false|           false|              false|     ESRM|               false|          true|     true|       false|      true|           91.54875|              11.255467|             15.011577|\n",
      "|6af0df8b-1e70-436...|    2479|   2019-11-21|    2019-11-22|13601041|         1|2019-10-29 09:23:...|                 6|          london-gbr|        4.0|                           false|                      false|                false|           false|              false|     ESRM|               false|         false|     true|       false|     false|          245.75508|               37.48392|             47.620274|\n",
      "|d233d855-c86a-4b3...|  870334|   2019-11-13|    2019-11-15| 8029303|         6|2019-10-29 07:21:...|                 0|        brighton-gbr|        4.0|                           false|                      false|                false|           false|              false|     ESRM|               false|          true|     true|       false|      true|         101.350655|                17.1469|             21.906355|\n",
      "|1c98eca8-11b4-46c...| 1791539|   2019-11-04|    2019-11-07|15637903|         5|2019-10-29 04:59:...|                15|     northampton-gbr|        4.0|                           false|                      false|                false|           false|              false|     ESRA|               false|          true|     true|        true|      true|          155.64703|               20.25984|              24.31181|\n",
      "|311ba02b-be92-49c...| 9236409|   2020-02-11|    2020-02-13| 9218511|         2|2019-10-29 04:42:...|                 2|          london-gbr|        5.0|                           false|                      false|                false|           false|              false|     ESRM|               false|         false|     true|       false|      true|          406.02008|               60.20067|              76.92308|\n",
      "|51cc3502-c674-423...|17859332|   2019-11-26|    2019-11-28|16325516|         0|2019-10-29 06:19:...|                 2|       edinburgh-gbr|        4.0|                           false|                      false|                false|           false|              false|     ESRA|               false|         false|     true|       false|      true|          141.70311|              21.250322|             25.495241|\n",
      "|8c6248c1-c4f2-411...| 1038731|   2019-11-13|    2019-11-14| 4487274|         5|2019-10-29 07:45:...|                 0|          london-gbr|        4.0|                           false|                      false|                false|           false|              false|     ESRA|               false|         false|     true|       false|      true|           497.7442|                67.1469|               67.1469|\n",
      "|a08da2f5-7274-482...|17161972|   2019-11-07|    2019-11-08|19188957|         0|2019-10-29 03:07:...|                 0|       cambridge-gbr|        4.0|                           false|                      false|                false|           false|              false|     ESRM|               false|         false|     true|       false|     false|           238.5154|               29.28994|             39.066116|\n",
      "|9dda7590-1ff1-400...|14736047|   2019-11-06|    2019-11-07|18768169|        10|2019-10-29 03:40:...|                 6|          london-gbr|        4.0|                           false|                      false|                false|           false|              false|     EPRM|               false|         false|     true|       false|      true|           429.8589|               56.41883|              74.05454|\n",
      "|79ff8658-85eb-459...|   21785|   2019-11-25|    2019-11-27|19204102|        12|2019-10-29 08:29:...|                 5|          oxford-gbr|        5.0|                           false|                      false|                false|           false|              false|     ESRM|               false|         false|     true|       false|     false|          302.67807|              42.281967|                54.708|\n",
      "|776db9bf-05c0-4b5...| 7733871|   2019-11-18|    2019-11-21|17362683|         1|2019-10-29 07:56:...|                 0|          london-gbr|        4.0|                           false|                      false|                false|           false|              false|     ESRM|               false|         false|     true|       false|     false|          355.71732|              37.226654|              48.18626|\n",
      "|bd90d6f5-dc31-4a4...|  909545|   2019-11-19|    2019-11-21| 8924977|         5|2019-10-29 09:58:...|                 2|          london-gbr|        4.0|                           false|                      false|                false|           false|              false|     ESRA|               false|          true|     true|       false|      true|          450.53894|              48.777977|             48.777977|\n",
      "|f4f29db5-b727-425...|  431650|   2019-11-26|    2019-11-29|20557294|         7|2019-10-29 10:57:...|                 0|                  \\N|         \\N|                           false|                      false|                false|           false|              false|     ESRA|               false|          true|    false|       false|      true|            586.715|              100.05145|             100.05145|\n",
      "|a8e3ee8c-504e-442...|  559690|   2019-11-25|    2019-11-27|20045264|         4|2019-10-29 02:11:...|                 4|          london-gbr|        4.0|                           false|                      false|                false|           false|              false|     ESRM|               false|         false|     true|       false|      true|           271.5956|              34.615383|              42.48778|\n",
      "|0038a297-fd6b-463...|17150967|   2019-11-12|    2019-11-14| 9608532|         8|2019-10-29 04:53:...|                12|          london-gbr|        3.5|                           false|                      false|                false|           false|              false|     EPRM|               false|          true|     true|       false|      true|          295.93695|              44.327244|             53.202984|\n",
      "|8edb3531-44c8-4af...|    4270|   2020-02-23|    2020-02-24| 9025011|        10|2019-10-29 01:49:...|                 0|       edinburgh-gbr|        4.0|                           false|                      false|                false|           false|              false|     EPRM|                true|          true|     true|       false|      true|          163.30879|              20.401339|             24.479033|\n",
      "|6e507ed9-c872-46e...| 2685880|   2019-11-27|    2019-11-28|10584808|         5|2019-11-06 01:48:...|                16|           paris-fra|        3.0|                           false|                      false|                false|           false|              false|     ESRM|               false|          true|     true|       false|      true|          167.40092|               8.102723|             15.419526|\n",
      "|b26ac38d-1de6-4f3...| 6585384|   2019-11-18|    2019-11-21|17471822|         6|2019-11-06 07:05:...|                 0|         bedburg-deu|        4.0|                           false|                      false|                false|           false|              false|     ESRM|               false|         false|     true|        true|      true|          126.18995|              17.688732|             18.928492|\n",
      "|f3b20a36-8f4e-4f0...|  525903|   2019-11-12|    2019-11-14| 6236915|         5|2019-11-06 05:35:...|                 1|    ruesselsheim-deu|        4.0|                           false|                      false|                false|           false|              false|     EPRA|               false|         false|     true|       false|      true|          135.89772|               27.75072|             29.687845|\n",
      "|09dd21df-e04f-4d2...|   45181|   2019-11-14|    2019-11-16| 7151995|         4|2019-11-06 13:46:...|                 0|           kamen-deu|        4.0|                           false|                      false|                false|           false|              false|     ESRA|               false|         false|     true|       false|      true|          142.79388|              21.385876|             21.385876|\n",
      "|78ac938a-8e96-4e0...|   19147|   2019-11-12|    2019-11-13|17841948|         9|2019-11-06 09:05:...|                13|saint-laurent-du-...|        4.0|                           false|                      false|                false|           false|              false|     ESRM|               false|         false|     true|        true|     false|          156.76334|              17.932257|             24.828426|\n",
      "|37c68798-ceeb-437...|   44862|   2019-11-13|    2019-11-14|18869336|         0|2019-11-06 07:05:...|                12| rosny-sous-bois-fra|        4.0|                           false|                      false|                false|           false|              false|     ESRM|               false|         false|     true|       false|     false|          119.94687|              19.061323|             24.363516|\n",
      "|7728de27-1c71-4f4...|22668283|   2019-11-19|    2019-11-20| 3876458|         0|2019-11-06 05:30:...|                14|boulogne-billanco...|        0.0|                           false|                      false|                false|           false|              false|     ESRM|               false|         false|     true|       false|      true|          290.13727|              46.136818|              58.95506|\n",
      "|cbe37e39-6380-452...| 4561542|   2019-11-25|    2019-11-28|13218437|        13|2019-11-06 04:30:...|                 1|         hamburg-deu|        4.0|                           false|                      false|                false|           false|              false|     EPRA|                true|          true|     true|       false|      true|           177.6511|              23.577597|             25.226921|\n",
      "|ac695a03-8c6e-406...|   34705|   2019-12-15|    2019-12-16| 5912434|         0|2019-11-06 00:42:...|                 8|        schwerin-deu|        0.0|                           false|                      false|                false|           false|              false|     ESRA|               false|         false|    false|       false|      true|          62.762897|              10.615453|             11.921629|\n",
      "|115dad1e-26e3-42e...|    3839|   2019-11-25|    2019-11-26| 7251176|         8|2019-11-06 02:40:...|                 0|       frankfurt-deu|        3.5|                           false|                      false|                false|           false|              false|     EPRM|               false|          true|     true|       false|      true|          174.25282|              28.326323|              36.19659|\n",
      "|448a839a-c793-4db...| 1217737|   2019-11-14|    2019-11-15|15260861|         6|2019-11-06 23:16:...|                 0|        cagliari-ita|        4.0|                           false|                      false|                false|           false|              false|     ESRM|               false|          true|     true|        true|     false|          233.82776|               45.60549|              55.96635|\n",
      "+--------------------+--------+-------------+--------------+--------+----------+--------------------+------------------+--------------------+-----------+--------------------------------+---------------------------+---------------------+----------------+-------------------+---------+--------------------+--------------+---------+------------+----------+-------------------+-----------------------+----------------------+\n",
      "only showing top 50 rows"
     ]
    }
   ],
   "source": [
    "search_revenue_below_peterman_usd_df.show(50)"
   ]
  },
  {
   "cell_type": "code",
   "execution_count": 15,
   "metadata": {},
   "outputs": [
    {
     "name": "stdout",
     "output_type": "stream",
     "text": [
      "952605"
     ]
    }
   ],
   "source": [
    "# Create hotel level df\n",
    "hotel_df = search_revenue_below_peterman_usd_df.\\\n",
    "select('message_id', 'tuid', 'hotel_id','check_in_date', 'check_out_date','hotel_result_index',\"message_date\").\\\n",
    "dropDuplicates()\n",
    "hotel_df.count()"
   ]
  },
  {
   "cell_type": "code",
   "execution_count": 16,
   "metadata": {},
   "outputs": [],
   "source": [
    "hotel_df = hotel_df.withColumn('hotel_index',row_number().over(Window.partitionBy(\"message_id\", \"tuid\").\\\n",
    "                                                        orderBy(F.asc(\"hotel_result_index\"))))"
   ]
  },
  {
   "cell_type": "code",
   "execution_count": 17,
   "metadata": {
    "collapsed": true
   },
   "outputs": [
    {
     "name": "stdout",
     "output_type": "stream",
     "text": [
      "+--------------------+--------+--------+------------------+-----------+\n",
      "|          message_id|    tuid|hotel_id|hotel_result_index|hotel_index|\n",
      "+--------------------+--------+--------+------------------+-----------+\n",
      "|ffffdb92-6a52-49e...| 6508678|  688097|                 1|          1|\n",
      "|ffffd68d-70e1-4dd...|18479478|   25155|                 0|          1|\n",
      "|ffffca07-5fa2-4db...|19803429| 2279569|                13|          1|\n",
      "|ffffc874-e189-4d1...|15736267|  447796|                 2|          1|\n",
      "|ffffb7e2-49e8-413...|18668119| 1695656|                 3|          1|\n",
      "|ffffb56a-d31e-49b...| 9070436|  696551|                 1|          1|\n",
      "|ffffa551-4d4e-4d4...| 8641771|12709779|                 0|          1|\n",
      "|ffffa2ab-9a40-410...|16098599| 4512886|                 7|          1|\n",
      "|ffff9ef1-a522-463...| 4161855|   15067|                 0|          1|\n",
      "|ffff98d9-fd0c-412...| 6795110|   28025|                 2|          1|\n",
      "|ffff9803-3555-40a...|20468420| 3269648|                 0|          1|\n",
      "|ffff9720-8728-4a0...|19850620| 1000469|                 1|          1|\n",
      "|ffff7cfe-1594-443...|16331206|  447792|                 3|          1|\n",
      "|ffff7106-ddb7-4b7...|18668343| 1619807|                 6|          1|\n",
      "|ffff6d28-9abb-4c3...|20446376|29843375|                 0|          1|\n",
      "|ffff54a4-58f4-4d1...|11139354|    9598|                 8|          1|\n",
      "|ffff40df-96d6-4a5...|18098863| 1500894|                 2|          1|\n",
      "|ffff3e0d-f423-46b...|15249054| 5459117|                27|          1|\n",
      "|ffff3bfc-f8cc-46f...|17122192|   28371|                 3|          1|\n",
      "|ffff3335-92a4-4ad...|17089339|   28370|                 9|          1|\n",
      "|ffff2e0c-84c9-44d...|11864978|    8058|                 0|          1|\n",
      "|ffff2521-072e-403...|18512773|11785431|                 9|          1|\n",
      "|ffff2377-2a74-458...|15115732|18602301|                28|          1|\n",
      "|ffff1f5d-bb39-43e...|17673095|  520933|                 6|          1|\n",
      "|ffff1ead-9a10-471...|10403529|  801796|                27|          1|\n",
      "|fffeed80-ca5b-4a5...|20578432|26589382|                 0|          1|\n",
      "|fffee7af-e9fa-428...|15958043| 1484268|                 6|          1|\n",
      "|fffee238-d619-417...| 7672758|40732680|                 5|          1|\n",
      "|fffee1de-e880-411...|17554876| 1614348|                 0|          1|\n",
      "|fffecc96-578c-45c...|17852073|  424193|                 0|          1|\n",
      "|fffec771-2213-4f0...|19676115|  894999|                 7|          1|\n",
      "|fffe987d-112e-4a5...| 9003431|    2029|                21|          1|\n",
      "|fffe9843-9fed-455...|13186537|    9264|                 3|          1|\n",
      "|fffe7ef8-5f7c-459...|18808193| 4633718|                 2|          1|\n",
      "|fffe771c-465c-43b...|20763759|    3775|                12|          1|\n",
      "|fffe66bb-94ea-450...|16681316|11965815|                 0|          1|\n",
      "|fffe669b-0c35-451...|14060299|   84047|                 1|          1|\n",
      "|fffe610a-4d46-412...|20246369| 3111786|                15|          1|\n",
      "|fffe49bf-9928-49c...|20046106|22935310|                30|          1|\n",
      "|fffe44d1-3fec-4db...|18400023|14744279|                12|          1|\n",
      "|fffe3dcc-c41c-451...|19463719| 3128833|                 0|          1|\n",
      "|fffe3363-985d-495...|20583763|   15859|                 4|          1|\n",
      "|fffe1efc-ab82-439...|14964026|   21349|                 0|          1|\n",
      "|fffdf4cb-9243-417...|11418804| 2303783|                 1|          1|\n",
      "|fffde76f-3137-4e6...| 9612853| 5685786|                 0|          1|\n",
      "|fffdde4c-5694-479...|11864134|   13534|                 3|          1|\n",
      "|fffddc54-1303-475...|10080146|   21603|                14|          1|\n",
      "|fffddc54-1303-475...|10079532|    4582|                 9|          2|\n",
      "|fffddc54-1303-475...|10079532|   18483|                19|          3|\n",
      "|fffddc54-1303-475...|10079532|  519819|                 1|          1|\n",
      "|fffdd544-fe15-44c...|15067057| 6127473|                 5|          1|\n",
      "|fffd751d-9b3e-421...| 8539446|  525570|                 0|          1|\n",
      "|fffd7056-c7fa-4a7...| 7647353|  598664|                19|          1|\n",
      "|fffd6666-c8be-4eb...|18885566| 4406170|                23|          1|\n",
      "|fffd621c-f0c9-48f...|10044567|  423480|                 0|          1|\n",
      "|fffd3ad6-12d7-4d3...|10166894|24994090|                 0|          1|\n",
      "|fffd3a54-97b5-4ab...|12372945|40112027|                 3|          1|\n",
      "|fffd347f-1633-407...|20384892|    5875|                 1|          1|\n",
      "|fffd2423-c07c-410...| 7647193|   19314|                22|          1|\n",
      "|fffccc0a-0fa7-469...|15073700|22514703|                 6|          1|\n",
      "|fffcc6f6-4cbd-447...| 1959361|   16952|                 2|          1|\n",
      "|fffcaf03-de09-4c8...| 4336879|    6880|                 2|          1|\n",
      "|fffcab1e-4409-4c2...|17975982| 5308722|                 1|          1|\n",
      "|fffc9a49-b2bc-497...|11457508| 8751640|                 1|          1|\n",
      "|fffc634e-dd2d-48e...| 4799169|  543784|                29|          1|\n",
      "|fffc60f8-3313-4f5...|14202575| 1181146|                 7|          1|\n",
      "|fffc58ba-3449-400...|10053456|17367871|                 2|          1|\n",
      "|fffc5337-a8f4-44c...|19288738| 1533439|                 0|          1|\n",
      "|fffc1c33-f199-42d...|17812945| 1334278|                 0|          1|\n",
      "|fffc1895-d9ba-416...|10419979|17367871|                 2|          1|\n",
      "|fffc144b-7b36-4f6...| 8641771|  525609|                 2|          1|\n",
      "|fffc13a5-a3a0-498...| 5538566|31356806|                10|          1|\n",
      "|fffc0f81-4cf8-42d...|10080146|32503877|                 1|          1|\n",
      "|fffc0c29-9d3c-46d...|18474239| 1678784|                 8|          1|\n",
      "|fffbf821-8e1b-4f8...|18435837|  908498|                 5|          1|\n",
      "|fffbd51d-ed9f-4f8...|18730800|  563891|                 0|          1|\n",
      "|fffbd1e2-72d9-49a...|20928774|   25245|                 8|          1|\n",
      "|fffbbe2c-b31d-4a1...|19710933| 2039719|                16|          1|\n",
      "|fffbabac-928f-4e8...|19130400| 1573419|                 0|          1|\n",
      "|fffb9163-e8c8-4a1...|16073512|  913005|                15|          1|\n",
      "|fffb9163-e8c8-4a1...|16066302|  913005|                15|          1|\n",
      "|fffb5b9a-43ee-409...|16214489|  526118|                16|          2|\n",
      "|fffb5b9a-43ee-409...|16214489|  915014|                 7|          1|\n",
      "|fffb510b-32f0-4a1...|16820163|  424437|                13|          1|\n",
      "|fffb4a7c-4fd3-4f5...| 2624474|  552056|                19|          1|\n",
      "|fffb4a0d-46a2-42a...| 3830560| 1304729|                 6|          1|\n",
      "|fffb4a0d-46a2-42a...| 3830560|   14551|                18|          2|\n",
      "|fffb3f66-da54-4f0...|20898806| 2539742|                 3|          1|\n",
      "|fffb383e-d810-4a8...| 6876130|36067708|                 5|          1|\n",
      "|fffb20cc-0b5f-46f...|15511537| 2521815|                 5|          1|\n",
      "|fffb172f-182f-41d...|13939588|  525609|                18|          1|\n",
      "|fffaf3ae-dc0e-484...| 2779803|  890952|                 0|          1|\n",
      "|fffab237-b2e0-484...|13769799| 4984236|                21|          1|\n",
      "|fffaa138-ec91-42d...|17421151|   16821|                 0|          1|\n",
      "|fffaa026-8877-42a...|18056206|   54290|                 0|          1|\n",
      "|fffa9d1c-e160-432...|20829021| 1152424|                 1|          1|\n",
      "|fffa996d-8174-4c8...|12095042|  527379|                22|          1|\n",
      "|fffa9405-9847-400...|13673778|   14235|                 0|          1|\n",
      "|fffa7562-50cf-45e...|17691168|   40338|                16|          1|\n",
      "|fffa4087-1ea2-496...|15134248|  284308|                 0|          1|\n",
      "+--------------------+--------+--------+------------------+-----------+\n",
      "only showing top 100 rows"
     ]
    }
   ],
   "source": [
    "hotel_df.orderBy(desc('message_id'),desc('tuid')).select('message_id', 'tuid', 'hotel_id',\"hotel_result_index\",'hotel_index').show(100)"
   ]
  },
  {
   "cell_type": "code",
   "execution_count": 18,
   "metadata": {},
   "outputs": [
    {
     "name": "stdout",
     "output_type": "stream",
     "text": [
      "384685"
     ]
    }
   ],
   "source": [
    "# Find the last search\n",
    "last_search_id = bookings_df.\\\n",
    "                join(hotel_df,[\"hotel_id\",\"check_in_date\", \"check_out_date\",\"tuid\"]).\\\n",
    "                withColumn(\"rn\", row_number().over(Window.partitionBy(\"hotel_id\",\"check_in_date\",\"check_out_date\",\"tuid\").orderBy(desc(\"message_date\")))).\\\n",
    "                filter(F.col(\"rn\") == 1).\\\n",
    "               select('message_id','tuid')\n",
    "last_search_id.count()"
   ]
  },
  {
   "cell_type": "code",
   "execution_count": 19,
   "metadata": {},
   "outputs": [
    {
     "name": "stdout",
     "output_type": "stream",
     "text": [
      "399962"
     ]
    }
   ],
   "source": [
    "last_search_hotel_df = hotel_df.join(last_search_id,['message_id','tuid'])\n",
    "last_search_hotel_df.count()"
   ]
  },
  {
   "cell_type": "code",
   "execution_count": 39,
   "metadata": {},
   "outputs": [],
   "source": [
    "# add hotel information to search data (last search, bk_hotel_index)\n",
    "last_search_df = last_search_hotel_df.\\\n",
    "join(search_revenue_below_peterman_usd_df,['message_id', 'tuid', 'hotel_id', 'check_in_date', 'check_out_date', 'hotel_result_index', 'message_date'])"
   ]
  },
  {
   "cell_type": "code",
   "execution_count": 40,
   "metadata": {},
   "outputs": [
    {
     "name": "stdout",
     "output_type": "stream",
     "text": [
      "2942308"
     ]
    }
   ],
   "source": [
    "last_search_df.count()"
   ]
  },
  {
   "cell_type": "code",
   "execution_count": 41,
   "metadata": {},
   "outputs": [
    {
     "name": "stdout",
     "output_type": "stream",
     "text": [
      "root\n",
      " |-- message_id: string (nullable = true)\n",
      " |-- tuid: integer (nullable = true)\n",
      " |-- hotel_id: integer (nullable = true)\n",
      " |-- check_in_date: date (nullable = true)\n",
      " |-- check_out_date: date (nullable = true)\n",
      " |-- hotel_result_index: integer (nullable = true)\n",
      " |-- message_date: timestamp (nullable = true)\n",
      " |-- hotel_index: integer (nullable = true)\n",
      " |-- rate_index: integer (nullable = true)\n",
      " |-- city: string (nullable = true)\n",
      " |-- star_rating: string (nullable = true)\n",
      " |-- filter_want_in_policy_rates_only: boolean (nullable = true)\n",
      " |-- filter_eligible_for_loyalty: boolean (nullable = true)\n",
      " |-- filter_free_breakfast: boolean (nullable = true)\n",
      " |-- filter_free_wifi: boolean (nullable = true)\n",
      " |-- filter_free_parking: boolean (nullable = true)\n",
      " |-- rate_type: string (nullable = true)\n",
      " |-- eligible_for_loyalty: boolean (nullable = true)\n",
      " |-- free_breakfast: boolean (nullable = true)\n",
      " |-- free_wifi: boolean (nullable = true)\n",
      " |-- free_parking: boolean (nullable = true)\n",
      " |-- refundable: boolean (nullable = true)\n",
      " |-- src_rate_amount_usd: float (nullable = true)\n",
      " |-- src_commission_base_usd: float (nullable = true)\n",
      " |-- src_supply_revenue_usd: float (nullable = true)"
     ]
    }
   ],
   "source": [
    "last_search_df.printSchema()"
   ]
  },
  {
   "cell_type": "code",
   "execution_count": null,
   "metadata": {},
   "outputs": [],
   "source": [
    "# add score to last search df"
   ]
  },
  {
   "cell_type": "code",
   "execution_count": 25,
   "metadata": {},
   "outputs": [],
   "source": [
    "from fast_hotel_sort.utils.SearchDataUtils import SearchDataUtils\n",
    "from datetime import datetime, timedelta, date"
   ]
  },
  {
   "cell_type": "code",
   "execution_count": 26,
   "metadata": {},
   "outputs": [],
   "source": [
    "cols = [\"message_id\"\n",
    "        ,\"timestamp\"\n",
    "        ,\"search_date\"\n",
    "        ,\"check_in_date\"\n",
    "        ,\"check_out_date\"\n",
    "        ,\"tuid\"]\n",
    "cols2 = [\"message_id\"\n",
    "        ,\"timestamp\"\n",
    "        ,\"hotel_id\"\n",
    "        ,\"star_rating\"\n",
    "        ,\"city\"\n",
    "        ,\"property_level_neg\"\n",
    "        ,\"chain_level_neg\"\n",
    "        ,\"preferred\"\n",
    "        ,\"score_0\"\n",
    "        ,\"score_1\"\n",
    "        ,\"hotel_result_index\"\n",
    "        ,\"country_code\"]\n",
    "q = SearchDataUtils()\n",
    "sd = date(2019,10,1)\n",
    "sd2 = date(2020,1,1)\n",
    "dispHotelsDF = q.displayed_hotels(sd, sd2,cols, cols2)"
   ]
  },
  {
   "cell_type": "code",
   "execution_count": 27,
   "metadata": {
    "collapsed": true
   },
   "outputs": [
    {
     "name": "stdout",
     "output_type": "stream",
     "text": [
      "+--------------------+\n",
      "|             score_1|\n",
      "+--------------------+\n",
      "| 0.13827994800131627|\n",
      "| 0.24201505737198709|\n",
      "|  0.1334948763591221|\n",
      "| 0.12422731867978883|\n",
      "| 0.06927887203780084|\n",
      "| 0.07036597174325393|\n",
      "| 0.04331228691037983|\n",
      "| 0.11179248165184742|\n",
      "| 0.11641849342311002|\n",
      "| 0.04704464239263926|\n",
      "| 0.12599100502052407|\n",
      "| 0.10110583016890139|\n",
      "| 0.10907288473339308|\n",
      "| 0.04331228691037983|\n",
      "|0.047260752266933076|\n",
      "| 0.08574266835957374|\n",
      "|  0.1482633350620393|\n",
      "| 0.10458626200560986|\n",
      "| 0.04708303256754679|\n",
      "| 0.12503782390364598|\n",
      "+--------------------+\n",
      "only showing top 20 rows"
     ]
    }
   ],
   "source": [
    "dispHotelsDF.select('score_1').show()"
   ]
  },
  {
   "cell_type": "code",
   "execution_count": 28,
   "metadata": {},
   "outputs": [
    {
     "name": "stdout",
     "output_type": "stream",
     "text": [
      "149291990"
     ]
    }
   ],
   "source": [
    "dispHotelsDF.count()"
   ]
  },
  {
   "cell_type": "code",
   "execution_count": 42,
   "metadata": {},
   "outputs": [],
   "source": [
    "last_search_df = last_search_df.join(dispHotelsDF.select(\"message_id\",\"tuid\",\"hotel_id\",\"check_in_date\", \"check_out_date\",'score_1'),\n",
    "                                    [\"message_id\",\"tuid\",\"hotel_id\",\"check_in_date\", \"check_out_date\"])"
   ]
  },
  {
   "cell_type": "code",
   "execution_count": 43,
   "metadata": {},
   "outputs": [
    {
     "name": "stdout",
     "output_type": "stream",
     "text": [
      "1898470"
     ]
    }
   ],
   "source": [
    "last_search_df.count()"
   ]
  },
  {
   "cell_type": "code",
   "execution_count": 44,
   "metadata": {},
   "outputs": [],
   "source": [
    "dir = 's3://ege-ds-workshops-corp/yixli/data_understanding/'\n",
    "\n",
    "datestamp = datetime.now().strftime('%m-%d-%Y')\n",
    "last_search_df.repartition(1).write.format('com.databricks.spark.csv').mode('overwrite')\\\n",
    ".save(dir+datestamp+'_last_search_df.csv',header = 'true')"
   ]
  },
  {
   "cell_type": "markdown",
   "metadata": {},
   "source": [
    "## Read last search df(booked hotels)"
   ]
  },
  {
   "cell_type": "code",
   "execution_count": 10,
   "metadata": {},
   "outputs": [
    {
     "name": "stdout",
     "output_type": "stream",
     "text": [
      "Collecting search the data...\n",
      "1898481"
     ]
    }
   ],
   "source": [
    "file_loc = \"s3://ege-ds-workshops-corp/yixli/data_understanding/09-15-2020_last_search_df.csv\"\n",
    "print(\"Collecting search the data...\")\n",
    "last_search_df1 = sqlContext.read.format('csv').\\\n",
    "            options(header='True', inferSchema='true', delimiter=',').\\\n",
    "           load(file_loc)\n",
    "\n",
    "# load_date between '20191001' and '20200101'\n",
    "print(last_search_df1.count())"
   ]
  },
  {
   "cell_type": "code",
   "execution_count": 11,
   "metadata": {},
   "outputs": [
    {
     "name": "stdout",
     "output_type": "stream",
     "text": [
      "1898481"
     ]
    }
   ],
   "source": [
    "last_search_df1.count()"
   ]
  },
  {
   "cell_type": "code",
   "execution_count": 12,
   "metadata": {},
   "outputs": [
    {
     "name": "stdout",
     "output_type": "stream",
     "text": [
      "root\n",
      " |-- message_id: string (nullable = true)\n",
      " |-- tuid: integer (nullable = true)\n",
      " |-- hotel_id: integer (nullable = true)\n",
      " |-- check_in_date: timestamp (nullable = true)\n",
      " |-- check_out_date: timestamp (nullable = true)\n",
      " |-- hotel_result_index: integer (nullable = true)\n",
      " |-- message_date: timestamp (nullable = true)\n",
      " |-- hotel_index: integer (nullable = true)\n",
      " |-- rate_index: integer (nullable = true)\n",
      " |-- city: string (nullable = true)\n",
      " |-- star_rating: string (nullable = true)\n",
      " |-- filter_want_in_policy_rates_only: boolean (nullable = true)\n",
      " |-- filter_eligible_for_loyalty: boolean (nullable = true)\n",
      " |-- filter_free_breakfast: boolean (nullable = true)\n",
      " |-- filter_free_wifi: boolean (nullable = true)\n",
      " |-- filter_free_parking: boolean (nullable = true)\n",
      " |-- rate_type: string (nullable = true)\n",
      " |-- eligible_for_loyalty: boolean (nullable = true)\n",
      " |-- free_breakfast: boolean (nullable = true)\n",
      " |-- free_wifi: boolean (nullable = true)\n",
      " |-- free_parking: boolean (nullable = true)\n",
      " |-- refundable: boolean (nullable = true)\n",
      " |-- src_rate_amount_usd: double (nullable = true)\n",
      " |-- src_commission_base_usd: double (nullable = true)\n",
      " |-- src_supply_revenue_usd: double (nullable = true)\n",
      " |-- score_1: double (nullable = true)"
     ]
    }
   ],
   "source": [
    "last_search_df1.printSchema()"
   ]
  },
  {
   "cell_type": "code",
   "execution_count": 13,
   "metadata": {
    "collapsed": true
   },
   "outputs": [
    {
     "name": "stdout",
     "output_type": "stream",
     "text": [
      "+--------------------+--------+--------+-------------------+-------------------+------------------+--------------------+-----------+----------+------------------+-----------+--------------------------------+---------------------------+---------------------+----------------+-------------------+---------+--------------------+--------------+---------+------------+----------+-------------------+-----------------------+----------------------+------------------+\n",
      "|          message_id|    tuid|hotel_id|      check_in_date|     check_out_date|hotel_result_index|        message_date|hotel_index|rate_index|              city|star_rating|filter_want_in_policy_rates_only|filter_eligible_for_loyalty|filter_free_breakfast|filter_free_wifi|filter_free_parking|rate_type|eligible_for_loyalty|free_breakfast|free_wifi|free_parking|refundable|src_rate_amount_usd|src_commission_base_usd|src_supply_revenue_usd|           score_1|\n",
      "+--------------------+--------+--------+-------------------+-------------------+------------------+--------------------+-----------+----------+------------------+-----------+--------------------------------+---------------------------+---------------------+----------------+-------------------+---------+--------------------+--------------+---------+------------+----------+-------------------+-----------------------+----------------------+------------------+\n",
      "|007904d3-c054-407...| 7156178| 7946632|2019-11-18 00:00:00|2019-11-22 00:00:00|                10|2019-10-28 08:46:...|          1|         1|      new york-usa|        3.5|                           false|                      false|                false|           false|              false|     ESRM|               false|         false|     true|       false|      true|              195.0|                   22.0|                  22.0|              null|\n",
      "|007904d3-c054-407...| 7156178| 7946632|2019-11-18 00:00:00|2019-11-22 00:00:00|                10|2019-10-28 08:46:...|          1|         3|      new york-usa|        3.5|                           false|                      false|                false|           false|              false|     ESRA|               false|         false|     true|       false|      true|              195.0|                  21.06|                 21.06|              null|\n",
      "|007904d3-c054-407...| 7156178| 7946632|2019-11-18 00:00:00|2019-11-22 00:00:00|                10|2019-10-28 08:46:...|          1|         5|      new york-usa|        3.5|                           false|                      false|                false|           false|              false|     ESRM|               false|          true|     true|       false|      true|              202.5|                  22.84|                 22.84|              null|\n",
      "|007904d3-c054-407...| 7156178| 7946632|2019-11-18 00:00:00|2019-11-22 00:00:00|                10|2019-10-28 08:46:...|          1|         2|      new york-usa|        3.5|                           false|                      false|                false|           false|              false|     ESRA|               false|         false|     true|       false|      true|              195.0|                  21.06|                 21.06|              null|\n",
      "|007904d3-c054-407...| 7156178| 7946632|2019-11-18 00:00:00|2019-11-22 00:00:00|                10|2019-10-28 08:46:...|          1|         6|      new york-usa|        3.5|                           false|                      false|                false|           false|              false|     ESRM|               false|          true|     true|       false|      true|              222.5|                   25.1|                  25.1|              null|\n",
      "|007904d3-c054-407...| 7156178| 7946632|2019-11-18 00:00:00|2019-11-22 00:00:00|                10|2019-10-28 08:46:...|          1|         4|      new york-usa|        3.5|                           false|                      false|                false|           false|              false|      GDS|                true|         false|     true|       false|      true|              196.0|                    0.0|                 19.98|              null|\n",
      "|007904d3-c054-407...| 7156178| 7946632|2019-11-18 00:00:00|2019-11-22 00:00:00|                10|2019-10-28 08:46:...|          1|         8|      new york-usa|        3.5|                           false|                      false|                false|           false|              false|     ESRM|               false|          true|     true|       false|      true|              242.5|                  27.35|                 27.35|              null|\n",
      "|007904d3-c054-407...| 7156178| 7946632|2019-11-18 00:00:00|2019-11-22 00:00:00|                10|2019-10-28 08:46:...|          1|         0|      new york-usa|        3.5|                           false|                      false|                false|           false|              false|     ESRM|               false|         false|     true|       false|      true|              195.0|                   22.0|                  22.0|              null|\n",
      "|007904d3-c054-407...| 7156178| 7946632|2019-11-18 00:00:00|2019-11-22 00:00:00|                10|2019-10-28 08:46:...|          1|         7|      new york-usa|        3.5|                           false|                      false|                false|           false|              false|     ESRM|               false|          true|     true|       false|      true|              222.5|                   25.1|                  25.1|              null|\n",
      "|0079b8d8-988b-430...|14024465|25685439|2019-12-04 00:00:00|2019-12-05 00:00:00|                 8|2019-12-04 06:39:...|          1|         3|stoke-on-trent-gbr|        4.0|                           false|                      false|                false|           false|              false|     ESRM|               false|          true|     true|        true|     false|          159.93707|              19.664394|             26.219193|0.2061967459483971|\n",
      "|0079b8d8-988b-430...|14024465|25685439|2019-12-04 00:00:00|2019-12-05 00:00:00|                 8|2019-12-04 06:39:...|          1|         1|stoke-on-trent-gbr|        4.0|                           false|                      false|                false|           false|              false|     ESRM|               false|          true|     true|        true|     false|          139.95805|              17.199791|             22.941793|0.2061967459483971|\n",
      "|0079b8d8-988b-430...|14024465|25685439|2019-12-04 00:00:00|2019-12-05 00:00:00|                 8|2019-12-04 06:39:...|          1|         4|stoke-on-trent-gbr|        4.0|                           false|                      false|                false|           false|              false|     ESRM|               false|          true|     true|        true|     false|          159.93707|              19.664394|             26.219193|0.2061967459483971|\n",
      "|0079b8d8-988b-430...|14024465|25685439|2019-12-04 00:00:00|2019-12-05 00:00:00|                 8|2019-12-04 06:39:...|          1|         0|stoke-on-trent-gbr|        4.0|                           false|                      false|                false|           false|              false|     ESRM|               false|          true|     true|        true|     false|          113.28002|              13.922391|             18.563189|0.2061967459483971|\n",
      "|0079b8d8-988b-430...|14024465|25685439|2019-12-04 00:00:00|2019-12-05 00:00:00|                 8|2019-12-04 06:39:...|          1|         2|stoke-on-trent-gbr|        4.0|                           false|                      false|                false|           false|              false|     ESRM|               false|          true|     true|        true|     false|          146.60461|              18.025694|              24.02989|0.2061967459483971|\n",
      "|00914cfa-c79d-459...|16889289| 1150208|2019-12-02 00:00:00|2019-12-06 00:00:00|                 0|2019-11-21 03:36:...|          1|        11|    loon-plage-fra|        0.0|                           false|                      false|                false|           false|              false|     ESRM|               false|         false|     true|        true|      true|          63.594112|              3.2754233|             6.0528936|              null|\n",
      "|00914cfa-c79d-459...|16889289| 1150208|2019-12-02 00:00:00|2019-12-06 00:00:00|                 0|2019-11-21 03:36:...|          1|         4|    loon-plage-fra|        0.0|                           false|                      false|                false|           false|              false|     ESRM|               false|         false|     true|        true|      true|          53.336285|               7.524621|             9.8815975|              null|\n",
      "|00914cfa-c79d-459...|16889289| 1150208|2019-12-02 00:00:00|2019-12-06 00:00:00|                 0|2019-11-21 03:36:...|          1|         1|    loon-plage-fra|        0.0|                           false|                      false|                false|           false|              false|     ESRM|               false|         false|     true|        true|     false|          45.324776|               6.395928|              8.398805|              null|\n",
      "|00914cfa-c79d-459...|16889289| 1150208|2019-12-02 00:00:00|2019-12-06 00:00:00|                 0|2019-11-21 03:36:...|          1|         9|    loon-plage-fra|        0.0|                           false|                      false|                false|           false|              false|     EPRM|               false|          true|     true|        true|      true|           62.74206|               8.852495|               11.6189|              null|\n",
      "|00914cfa-c79d-459...|16889289| 1150208|2019-12-02 00:00:00|2019-12-06 00:00:00|                 0|2019-11-21 03:36:...|          1|         2|    loon-plage-fra|        0.0|                           false|                      false|                false|           false|              false|     ESRA|               false|         false|     true|        true|      true|           51.73177|               7.524621|              8.277083|              null|\n",
      "|00914cfa-c79d-459...|16889289| 1150208|2019-12-02 00:00:00|2019-12-06 00:00:00|                 0|2019-11-21 03:36:...|          1|         8|    loon-plage-fra|        0.0|                           false|                      false|                false|           false|              false|     ESRA|               false|          true|     true|        true|      true|          60.661724|               7.723802|              8.498396|              null|\n",
      "|00914cfa-c79d-459...|16889289| 1150208|2019-12-02 00:00:00|2019-12-06 00:00:00|                 0|2019-11-21 03:36:...|          1|         6|    loon-plage-fra|        0.0|                           false|                      false|                false|           false|              false|     ESRM|               false|         false|     true|        true|      true|          53.812107|              2.7664049|             5.1233816|              null|\n",
      "|00914cfa-c79d-459...|16889289| 1150208|2019-12-02 00:00:00|2019-12-06 00:00:00|                 0|2019-11-21 03:36:...|          1|         7|    loon-plage-fra|        0.0|                           false|                      false|                false|           false|              false|     EPRA|               false|          true|     true|        true|      true|          60.860905|               8.852495|              9.737745|              null|\n",
      "|00914cfa-c79d-459...|16889289| 1150208|2019-12-02 00:00:00|2019-12-06 00:00:00|                 0|2019-11-21 03:36:...|          1|         0|    loon-plage-fra|        0.0|                           false|                      false|                false|           false|              false|     ESRM|               false|         false|     true|        true|     false|          45.324776|               6.395928|              8.398805|              null|\n",
      "|00914cfa-c79d-459...|16889289| 1150208|2019-12-02 00:00:00|2019-12-06 00:00:00|                 0|2019-11-21 03:36:...|          1|        12|    loon-plage-fra|        0.0|                           false|                      false|                false|           false|              false|     ESRM|               false|          true|     true|        true|      true|          62.653534|              7.7127366|             10.468076|              null|\n",
      "|00914cfa-c79d-459...|16889289| 1150208|2019-12-02 00:00:00|2019-12-06 00:00:00|                 0|2019-11-21 03:36:...|          1|         5|    loon-plage-fra|        0.0|                           false|                      false|                false|           false|              false|     ESRM|               false|         false|     true|        true|      true|          53.812107|              2.7664049|             5.1233816|              null|\n",
      "|00914cfa-c79d-459...|16889289| 1150208|2019-12-02 00:00:00|2019-12-06 00:00:00|                 0|2019-11-21 03:36:...|          1|         3|    loon-plage-fra|        0.0|                           false|                      false|                false|           false|              false|     ESRA|               false|         false|     true|        true|      true|           51.73177|               7.524621|              8.277083|              null|\n",
      "|00914cfa-c79d-459...|16889289| 1150208|2019-12-02 00:00:00|2019-12-06 00:00:00|                 0|2019-11-21 03:36:...|          1|        13|    loon-plage-fra|        0.0|                           false|                      false|                false|           false|              false|     ESRM|               false|          true|     true|        true|      true|           72.36915|               8.918889|             12.105787|              null|\n",
      "|00914cfa-c79d-459...|16889289| 1150208|2019-12-02 00:00:00|2019-12-06 00:00:00|                 0|2019-11-21 03:36:...|          1|        10|    loon-plage-fra|        0.0|                           false|                      false|                false|           false|              false|     EPRM|               false|          true|     true|        true|      true|           62.74206|               8.852495|               11.6189|              null|\n",
      "|00d5501b-fe82-41e...|17618683| 1370048|2019-10-11 00:00:00|2019-10-12 00:00:00|                 0|2019-10-10 18:38:...|          1|         7|   bentonville-usa|        2.5|                           false|                      false|                false|           false|              false|     EPRA|                true|          true|     true|        true|      true|               99.0|                  14.85|                 14.85|              null|\n",
      "|00d5501b-fe82-41e...|17618683| 1370048|2019-10-11 00:00:00|2019-10-12 00:00:00|                 0|2019-10-10 18:38:...|          1|         0|   bentonville-usa|        2.5|                           false|                      false|                false|           false|              false|     EPRM|                true|          true|     true|        true|      true|               89.0|                  13.35|                 18.78|              null|\n",
      "|00d5501b-fe82-41e...|17618683| 1370048|2019-10-11 00:00:00|2019-10-12 00:00:00|                 0|2019-10-10 18:38:...|          1|         4|   bentonville-usa|        2.5|                           false|                      false|                false|           false|              false|     EPRA|                true|          true|     true|        true|      true|               89.0|                  13.35|                 13.35|              null|\n",
      "|00d5501b-fe82-41e...|17618683| 1370048|2019-10-11 00:00:00|2019-10-12 00:00:00|                 0|2019-10-10 18:38:...|          1|         1|   bentonville-usa|        2.5|                           false|                      false|                false|           false|              false|     EPRM|                true|          true|     true|        true|      true|               89.0|                  13.35|                 18.78|              null|\n",
      "|00d5501b-fe82-41e...|17618683| 1370048|2019-10-11 00:00:00|2019-10-12 00:00:00|                 0|2019-10-10 18:38:...|          1|         8|   bentonville-usa|        2.5|                           false|                      false|                false|           false|              false|     EPRM|                true|          true|     true|        true|      true|              109.0|                  16.35|                  23.0|              null|\n",
      "|00d5501b-fe82-41e...|17618683| 1370048|2019-10-11 00:00:00|2019-10-12 00:00:00|                 0|2019-10-10 18:38:...|          1|         6|   bentonville-usa|        2.5|                           false|                      false|                false|           false|              false|     EPRM|                true|          true|     true|        true|      true|               99.0|                  14.85|                 20.89|              null|\n",
      "|00d5501b-fe82-41e...|17618683| 1370048|2019-10-11 00:00:00|2019-10-12 00:00:00|                 0|2019-10-10 18:38:...|          1|         2|   bentonville-usa|        2.5|                           false|                      false|                false|           false|              false|     EPRM|                true|          true|     true|        true|      true|               89.0|                  13.35|                 18.78|              null|\n",
      "|00d5501b-fe82-41e...|17618683| 1370048|2019-10-11 00:00:00|2019-10-12 00:00:00|                 0|2019-10-10 18:38:...|          1|         3|   bentonville-usa|        2.5|                           false|                      false|                false|           false|              false|     EPRA|                true|          true|     true|        true|      true|               89.0|                  13.35|                 13.35|              null|\n",
      "|00ec99c2-869d-4fd...|16117279|  114496|2019-12-06 00:00:00|2019-12-08 00:00:00|                 0|2019-11-29 19:25:...|          1|         0|         hanoi-vnm|        5.0|                           false|                      false|                 true|           false|              false|     ESRM|               false|          true|     true|        true|     false|             163.44|              30.098074|             40.301678| 0.152339103039756|\n",
      "|00ec99c2-869d-4fd...|16117279|  114496|2019-12-06 00:00:00|2019-12-08 00:00:00|                 0|2019-11-29 19:25:...|          1|         4|         hanoi-vnm|        5.0|                           false|                      false|                 true|           false|              false|      GDS|                true|          true|     true|        true|      true|             204.25|                    0.0|                 20.64| 0.152339103039756|\n",
      "|00ec99c2-869d-4fd...|16117279|  114496|2019-12-06 00:00:00|2019-12-08 00:00:00|                 0|2019-11-29 19:25:...|          1|         2|         hanoi-vnm|        5.0|                           false|                      false|                 true|           false|              false|      GDS|                true|          true|     true|        true|      true|             175.75|                    0.0|                 18.36| 0.152339103039756|\n",
      "|00ec99c2-869d-4fd...|16117279|  114496|2019-12-06 00:00:00|2019-12-08 00:00:00|                 0|2019-11-29 19:25:...|          1|         3|         hanoi-vnm|        5.0|                           false|                      false|                 true|           false|              false|     ESRM|               false|          true|     true|        true|     false|             186.24|                34.2055|              45.79144| 0.152339103039756|\n",
      "|00ec99c2-869d-4fd...|16117279|  114496|2019-12-06 00:00:00|2019-12-08 00:00:00|                 0|2019-11-29 19:25:...|          1|         1|         hanoi-vnm|        5.0|                           false|                      false|                 true|           false|              false|     ESRM|               false|          true|     true|        true|      true|             173.28|              31.591541|             42.304005| 0.152339103039756|\n",
      "|00ec99c2-869d-4fd...|16117279|  114496|2019-12-06 00:00:00|2019-12-08 00:00:00|                 0|2019-11-29 19:25:...|          1|         0|         hanoi-vnm|        5.0|                           false|                      false|                 true|           false|              false|     ESRM|               false|          true|     true|        true|     false|             163.44|              30.098074|             40.301678| 0.152339103039756|\n",
      "|00ec99c2-869d-4fd...|16117279|  114496|2019-12-06 00:00:00|2019-12-08 00:00:00|                 0|2019-11-29 19:25:...|          1|         4|         hanoi-vnm|        5.0|                           false|                      false|                 true|           false|              false|      GDS|                true|          true|     true|        true|      true|             204.25|                    0.0|                 20.64| 0.152339103039756|\n",
      "|00ec99c2-869d-4fd...|16117279|  114496|2019-12-06 00:00:00|2019-12-08 00:00:00|                 0|2019-11-29 19:25:...|          1|         2|         hanoi-vnm|        5.0|                           false|                      false|                 true|           false|              false|      GDS|                true|          true|     true|        true|      true|             175.75|                    0.0|                 18.36| 0.152339103039756|\n",
      "|00ec99c2-869d-4fd...|16117279|  114496|2019-12-06 00:00:00|2019-12-08 00:00:00|                 0|2019-11-29 19:25:...|          1|         3|         hanoi-vnm|        5.0|                           false|                      false|                 true|           false|              false|     ESRM|               false|          true|     true|        true|     false|             186.24|                34.2055|              45.79144| 0.152339103039756|\n",
      "|00ec99c2-869d-4fd...|16117279|  114496|2019-12-06 00:00:00|2019-12-08 00:00:00|                 0|2019-11-29 19:25:...|          1|         1|         hanoi-vnm|        5.0|                           false|                      false|                 true|           false|              false|     ESRM|               false|          true|     true|        true|      true|             173.28|              31.591541|             42.304005| 0.152339103039756|\n",
      "|0148edd7-67e3-430...|14728295|  108288|2019-12-02 00:00:00|2019-12-05 00:00:00|                 0|2019-11-01 06:21:...|          1|         9| halle (saale)-deu|        4.5|                           false|                      false|                false|           false|              false|     EPRM|               false|          true|     true|       false|      true|          128.43037|              18.970522|              20.29924|0.1848183834381089|\n",
      "|0148edd7-67e3-430...|14728295|  108288|2019-12-02 00:00:00|2019-12-05 00:00:00|                 0|2019-11-01 06:21:...|          1|         8| halle (saale)-deu|        4.5|                           false|                      false|                false|           false|              false|     EPRM|               false|         false|     true|       false|      true|          125.63671|              22.163912|             23.715944|0.1848183834381089|\n",
      "|0148edd7-67e3-430...|14728295|  108288|2019-12-02 00:00:00|2019-12-05 00:00:00|                 0|2019-11-01 06:21:...|          1|         5| halle (saale)-deu|        4.5|                           false|                      false|                false|           false|              false|     EPRM|               false|         false|     true|       false|      true|          105.37397|              18.412237|             19.696293|0.1848183834381089|\n",
      "|0148edd7-67e3-430...|14728295|  108288|2019-12-02 00:00:00|2019-12-05 00:00:00|                 0|2019-11-01 06:21:...|          1|         0| halle (saale)-deu|        4.5|                           false|                      false|                false|           false|              false|     ESRM|               false|         false|     true|       false|     false|          80.955765|               14.04645|             15.029031|0.1848183834381089|\n",
      "+--------------------+--------+--------+-------------------+-------------------+------------------+--------------------+-----------+----------+------------------+-----------+--------------------------------+---------------------------+---------------------+----------------+-------------------+---------+--------------------+--------------+---------+------------+----------+-------------------+-----------------------+----------------------+------------------+\n",
      "only showing top 50 rows"
     ]
    }
   ],
   "source": [
    "last_search_df1.show(50)"
   ]
  },
  {
   "cell_type": "markdown",
   "metadata": {},
   "source": [
    "## Get labels"
   ]
  },
  {
   "cell_type": "code",
   "execution_count": 14,
   "metadata": {},
   "outputs": [
    {
     "name": "stdout",
     "output_type": "stream",
     "text": [
      "['hotelfactid', 'hotel_id', 'issue_date', 'check_in_date', 'check_out_date', 'quarter', 'tuid', 'travel_product_id', 'group_account_id', 'hotel_rate_type', 'bk_rate_type', 'booking_type', 'gross_booking_value_usd', 'total_commission', 'total_markup', 'total_gds', 'total_supply_revenue', 'rate_type', 'duration', 'avg_book_rate_amount_usd', 'bk_avg_commission_usd', 'bk_avg_markup_usd', 'bk_avg_revenue_usd']"
     ]
    }
   ],
   "source": [
    "bookings_df.columns"
   ]
  },
  {
   "cell_type": "code",
   "execution_count": 15,
   "metadata": {},
   "outputs": [],
   "source": [
    "bookings_df = bookings_df.withColumn('rate_type',F.when(F.col('bk_rate_type')=='HOTMIP','ESRM').otherwise(F.col('bk_rate_type')))"
   ]
  },
  {
   "cell_type": "code",
   "execution_count": 16,
   "metadata": {},
   "outputs": [
    {
     "name": "stdout",
     "output_type": "stream",
     "text": [
      "930339"
     ]
    }
   ],
   "source": [
    "book_rate_df =last_search_df1.join(bookings_df,[\"hotel_id\",\"check_in_date\", \"check_out_date\",\"tuid\",'rate_type']).\\\n",
    "select(\"message_id\",\"hotel_id\",\"check_in_date\", \"check_out_date\",\"tuid\",'rate_type','rate_index','avg_book_rate_amount_usd','src_rate_amount_usd')\n",
    "book_rate_df.count()"
   ]
  },
  {
   "cell_type": "code",
   "execution_count": 17,
   "metadata": {},
   "outputs": [],
   "source": [
    "book_rate_df = book_rate_df.\\\n",
    "                         withColumn('rate_diff',F.abs(F.col('avg_book_rate_amount_usd')-F.col('src_rate_amount_usd')))\n",
    "\n",
    "book_rate_df = book_rate_df.filter((F.col('rate_diff')<1.0))"
   ]
  },
  {
   "cell_type": "code",
   "execution_count": 18,
   "metadata": {},
   "outputs": [],
   "source": [
    "book_rate_df = book_rate_df.withColumn('label',F.lit(1))"
   ]
  },
  {
   "cell_type": "markdown",
   "metadata": {},
   "source": [
    "## Match rates: is booked/not booked"
   ]
  },
  {
   "cell_type": "code",
   "execution_count": 19,
   "metadata": {},
   "outputs": [],
   "source": [
    "booking_search_df = last_search_df1.join(book_rate_df.select(\"message_id\",\"hotel_id\",\"check_in_date\", \"check_out_date\",\"tuid\",'rate_type','rate_index','label'),\n",
    "                                        [\"message_id\",\"hotel_id\",\"check_in_date\", \"check_out_date\",\"tuid\",'rate_type','rate_index'],how='left')"
   ]
  },
  {
   "cell_type": "code",
   "execution_count": 20,
   "metadata": {},
   "outputs": [],
   "source": [
    "booking_search_df = booking_search_df.fillna({'label':0})"
   ]
  },
  {
   "cell_type": "code",
   "execution_count": 21,
   "metadata": {},
   "outputs": [
    {
     "name": "stdout",
     "output_type": "stream",
     "text": [
      "208654"
     ]
    }
   ],
   "source": [
    "booking_search_df.filter(F.col('label')==1).count()"
   ]
  },
  {
   "cell_type": "code",
   "execution_count": 22,
   "metadata": {},
   "outputs": [
    {
     "name": "stdout",
     "output_type": "stream",
     "text": [
      "1696384"
     ]
    }
   ],
   "source": [
    "booking_search_df.filter(F.col('label')==0).count()"
   ]
  },
  {
   "cell_type": "code",
   "execution_count": 23,
   "metadata": {},
   "outputs": [
    {
     "name": "stdout",
     "output_type": "stream",
     "text": [
      "root\n",
      " |-- message_id: string (nullable = true)\n",
      " |-- hotel_id: integer (nullable = true)\n",
      " |-- check_in_date: timestamp (nullable = true)\n",
      " |-- check_out_date: timestamp (nullable = true)\n",
      " |-- tuid: integer (nullable = true)\n",
      " |-- rate_type: string (nullable = true)\n",
      " |-- rate_index: integer (nullable = true)\n",
      " |-- hotel_result_index: integer (nullable = true)\n",
      " |-- message_date: timestamp (nullable = true)\n",
      " |-- hotel_index: integer (nullable = true)\n",
      " |-- city: string (nullable = true)\n",
      " |-- star_rating: string (nullable = true)\n",
      " |-- filter_want_in_policy_rates_only: boolean (nullable = true)\n",
      " |-- filter_eligible_for_loyalty: boolean (nullable = true)\n",
      " |-- filter_free_breakfast: boolean (nullable = true)\n",
      " |-- filter_free_wifi: boolean (nullable = true)\n",
      " |-- filter_free_parking: boolean (nullable = true)\n",
      " |-- eligible_for_loyalty: boolean (nullable = true)\n",
      " |-- free_breakfast: boolean (nullable = true)\n",
      " |-- free_wifi: boolean (nullable = true)\n",
      " |-- free_parking: boolean (nullable = true)\n",
      " |-- refundable: boolean (nullable = true)\n",
      " |-- src_rate_amount_usd: double (nullable = true)\n",
      " |-- src_commission_base_usd: double (nullable = true)\n",
      " |-- src_supply_revenue_usd: double (nullable = true)\n",
      " |-- score_1: double (nullable = true)\n",
      " |-- label: integer (nullable = false)"
     ]
    }
   ],
   "source": [
    "booking_search_df.printSchema()"
   ]
  },
  {
   "cell_type": "code",
   "execution_count": 36,
   "metadata": {
    "collapsed": true
   },
   "outputs": [
    {
     "name": "stdout",
     "output_type": "stream",
     "text": [
      "+--------+-------------+--------------+--------+---------+--------------------+------------------+----------+------------+-----------+--------------------+-----------+--------------------------------+---------------------------+---------------------+----------------+-------------------+--------------------+--------------+---------+------------+----------+--------------+-------------------+-----------------------+----------------------+------------+-----------------+----------------+---------------------+-----------------------+------------------------+------------------+------------------+--------------------+---------+\n",
      "|hotel_id|check_in_date|check_out_date|    tuid|rate_type|          message_id|hotel_result_index|rate_index|message_date|      score|                city|star_rating|filter_want_in_policy_rates_only|filter_eligible_for_loyalty|filter_free_breakfast|filter_free_wifi|filter_free_parking|eligible_for_loyalty|free_breakfast|free_wifi|free_parking|refundable|bk_hotel_index|src_rate_amount_usd|src_commission_base_usd|src_supply_revenue_usd|bk_rate_type|travel_product_id|group_account_id|bk_avg_commission_usd|gross_booking_value_usd|avg_book_rate_amount_usd| bk_avg_markup_usd|bk_avg_revenue_usd|           rate_diff|is_booked|\n",
      "+--------+-------------+--------------+--------+---------+--------------------+------------------+----------+------------+-----------+--------------------+-----------+--------------------------------+---------------------------+---------------------+----------------+-------------------+--------------------+--------------+---------+------------+----------+--------------+-------------------+-----------------------+----------------------+------------+-----------------+----------------+---------------------+-----------------------+------------------------+------------------+------------------+--------------------+---------+\n",
      "|      59|   2020-03-19|    2020-03-20|13671172|     ESRM|07b3bf19-95ec-455...|                12|         2|  2020-03-09| 0.10230061|          vantaa-fin|        3.0|                           false|                      false|                false|           false|              false|               false|          true|     true|       false|     false|            12|          110.03822|              13.244882|             14.571657|        null|             null|            null|                 null|                   null|                    null|              null|              null|                null|        0|\n",
      "|      59|   2020-03-19|    2020-03-20|13671172|     ESRM|07b3bf19-95ec-455...|                12|         0|  2020-03-09| 0.10230061|          vantaa-fin|        3.0|                           false|                      false|                false|           false|              false|               false|          true|     true|       false|     false|             8|          110.03822|              13.244882|             14.571657|        null|             null|            null|                 null|                   null|                    null|              null|              null|                null|        0|\n",
      "|      59|   2020-03-19|    2020-03-20|13671172|     ESRM|07b3bf19-95ec-455...|                12|         1|  2020-03-09| 0.10230061|          vantaa-fin|        3.0|                           false|                      false|                false|           false|              false|               false|          true|     true|       false|     false|             5|          110.03822|              13.244882|             14.571657|        null|             null|            null|                 null|                   null|                    null|              null|              null|                null|        0|\n",
      "|     424|   2020-03-12|    2020-03-13| 9618295|     ESRM|6330e305-85b2-4a2...|                 7|         5|  2020-03-11| 0.12519301|         roubaix-fra|        3.0|                           false|                      false|                false|           false|              false|               false|         false|     true|       false|      true|             9|          103.85048|               9.108309|             13.668093|        ESRM|            60020|           11141|                  0.0|       103.850484122688|        103.850484122688|13.668092771568002|13.668092771568002|4.996711439275714E-6|        1|\n",
      "|     424|   2020-03-12|    2020-03-13| 9618295|     ESRM|6330e305-85b2-4a2...|                 7|         1|  2020-03-11| 0.12519301|         roubaix-fra|        3.0|                           false|                      false|                false|           false|              false|               false|         false|     true|       false|     false|             2|           93.35735|               8.196352|             12.294529|        ESRM|            60020|           11141|                  0.0|       103.850484122688|        103.850484122688|13.668092771568002|13.668092771568002|  10.493130912238783|        0|\n",
      "|     424|   2020-03-12|    2020-03-13| 9618295|     ESRM|6330e305-85b2-4a2...|                 7|         7|  2020-03-11| 0.12519301|         roubaix-fra|        3.0|                           false|                      false|                false|           false|              false|               false|          true|     true|       false|      true|             1|         116.561584|              10.222922|             15.334384|        ESRM|            60020|           11141|                  0.0|       103.850484122688|        103.850484122688|13.668092771568002|13.668092771568002|  12.711100349968248|        0|\n",
      "|     424|   2020-03-12|    2020-03-13| 9618295|     ESRM|6330e305-85b2-4a2...|                 7|         0|  2020-03-11| 0.12519301|         roubaix-fra|        3.0|                           false|                      false|                false|           false|              false|               false|         false|     true|       false|     false|             7|           93.35735|               8.196352|             12.294529|        ESRM|            60020|           11141|                  0.0|       103.850484122688|        103.850484122688|13.668092771568002|13.668092771568002|  10.493130912238783|        0|\n",
      "|     424|   2020-03-12|    2020-03-13| 9618295|     ESRM|6330e305-85b2-4a2...|                 7|         8|  2020-03-11| 0.12519301|         roubaix-fra|        3.0|                           false|                      false|                false|           false|              false|               false|          true|     true|       false|      true|             3|         116.561584|              10.222922|             15.334384|        ESRM|            60020|           11141|                  0.0|       103.850484122688|        103.850484122688|13.668092771568002|13.668092771568002|  12.711100349968248|        0|\n",
      "|     645|   2020-03-07|    2020-03-14|18584458|     EPRM|d2c674b3-63dd-452...|                 4|         6|  2020-03-04| 0.22683349|           tampa-usa|        2.5|                           false|                      false|                false|           false|              false|                true|          true|     true|        true|      true|            18|             106.61|                  17.24|                 22.63|        null|             null|            null|                 null|                   null|                    null|              null|              null|                null|        0|\n",
      "|     645|   2020-03-07|    2020-03-14|18584458|     EPRM|d2c674b3-63dd-452...|                 4|         8|  2020-03-04| 0.22683349|           tampa-usa|        2.5|                           false|                      false|                false|           false|              false|                true|          true|     true|        true|      true|             7|             110.86|                  22.97|                 31.21|        null|             null|            null|                 null|                   null|                    null|              null|              null|                null|        0|\n",
      "|     645|   2020-03-07|    2020-03-14|18584458|     EPRM|d2c674b3-63dd-452...|                 4|         7|  2020-03-04| 0.22683349|           tampa-usa|        2.5|                           false|                      false|                false|           false|              false|                true|          true|     true|        true|      true|            13|             110.86|                  23.03|                 30.24|        null|             null|            null|                 null|                   null|                    null|              null|              null|                null|        0|\n",
      "|     645|   2020-03-07|    2020-03-14|18584458|     EPRM|d2c674b3-63dd-452...|                 4|         7|  2020-03-04| 0.22683349|           tampa-usa|        2.5|                           false|                      false|                false|           false|              false|                true|          true|     true|        true|      true|            13|             110.86|                  18.06|                 23.71|        null|             null|            null|                 null|                   null|                    null|              null|              null|                null|        0|\n",
      "|     645|   2020-03-07|    2020-03-14|18584458|     EPRM|d2c674b3-63dd-452...|                 4|         8|  2020-03-04| 0.22683349|           tampa-usa|        2.5|                           false|                      false|                false|           false|              false|                true|          true|     true|        true|      true|             7|             110.86|                  25.86|                 35.14|        null|             null|            null|                 null|                   null|                    null|              null|              null|                null|        0|\n",
      "|     645|   2020-03-07|    2020-03-14|18584458|     EPRM|d2c674b3-63dd-452...|                 4|         8|  2020-03-04| 0.22683349|           tampa-usa|        2.5|                           false|                      false|                false|           false|              false|                true|          true|     true|        true|      true|             7|             110.86|                  18.06|                 23.71|        null|             null|            null|                 null|                   null|                    null|              null|              null|                null|        0|\n",
      "|     645|   2020-03-07|    2020-03-14|18584458|     EPRM|d2c674b3-63dd-452...|                 4|         6|  2020-03-04| 0.22683349|           tampa-usa|        2.5|                           false|                      false|                false|           false|              false|                true|          true|     true|        true|      true|            18|             106.61|                  25.15|                 34.17|        null|             null|            null|                 null|                   null|                    null|              null|              null|                null|        0|\n",
      "|     645|   2020-03-07|    2020-03-14|18584458|     EPRM|d2c674b3-63dd-452...|                 4|        11|  2020-03-04| 0.22683349|           tampa-usa|        2.5|                           false|                      false|                false|           false|              false|                true|          true|     true|        true|      true|             8|             115.11|                   18.9|                 24.81|        null|             null|            null|                 null|                   null|                    null|              null|              null|                null|        0|\n",
      "|     645|   2020-03-07|    2020-03-14|18584458|     EPRM|d2c674b3-63dd-452...|                 4|         6|  2020-03-04| 0.22683349|           tampa-usa|        2.5|                           false|                      false|                false|           false|              false|                true|          true|     true|        true|      true|            18|             106.61|                  22.21|                 29.16|        null|             null|            null|                 null|                   null|                    null|              null|              null|                null|        0|\n",
      "|     645|   2020-03-07|    2020-03-14|18584458|     EPRM|d2c674b3-63dd-452...|                 4|         6|  2020-03-04| 0.22683349|           tampa-usa|        2.5|                           false|                      false|                false|           false|              false|                true|          true|     true|        true|      true|            18|             106.61|                  22.26|                 30.24|        null|             null|            null|                 null|                   null|                    null|              null|              null|                null|        0|\n",
      "|     645|   2020-03-07|    2020-03-14|18584458|     EPRM|d2c674b3-63dd-452...|                 4|         7|  2020-03-04| 0.22683349|           tampa-usa|        2.5|                           false|                      false|                false|           false|              false|                true|          true|     true|        true|      true|            13|             110.86|                  25.86|                 35.14|        null|             null|            null|                 null|                   null|                    null|              null|              null|                null|        0|\n",
      "|     645|   2020-03-07|    2020-03-14|18584458|     EPRM|d2c674b3-63dd-452...|                 4|         7|  2020-03-04| 0.22683349|           tampa-usa|        2.5|                           false|                      false|                false|           false|              false|                true|          true|     true|        true|      true|            13|             110.86|                  22.97|                 31.21|        null|             null|            null|                 null|                   null|                    null|              null|              null|                null|        0|\n",
      "|     645|   2020-03-07|    2020-03-14|18584458|     EPRM|d2c674b3-63dd-452...|                 4|        11|  2020-03-04| 0.22683349|           tampa-usa|        2.5|                           false|                      false|                false|           false|              false|                true|          true|     true|        true|      true|             8|             115.11|                  23.87|                 31.34|        null|             null|            null|                 null|                   null|                    null|              null|              null|                null|        0|\n",
      "|     645|   2020-03-07|    2020-03-14|18584458|     EPRM|d2c674b3-63dd-452...|                 4|        11|  2020-03-04| 0.22683349|           tampa-usa|        2.5|                           false|                      false|                false|           false|              false|                true|          true|     true|        true|      true|             8|             115.11|                   23.7|                  32.2|        null|             null|            null|                 null|                   null|                    null|              null|              null|                null|        0|\n",
      "|     645|   2020-03-07|    2020-03-14|18584458|     EPRM|d2c674b3-63dd-452...|                 4|         8|  2020-03-04| 0.22683349|           tampa-usa|        2.5|                           false|                      false|                false|           false|              false|                true|          true|     true|        true|      true|             7|             110.86|                  23.03|                 30.24|        null|             null|            null|                 null|                   null|                    null|              null|              null|                null|        0|\n",
      "|     645|   2020-03-07|    2020-03-14|18584458|     EPRM|d2c674b3-63dd-452...|                 4|        11|  2020-03-04| 0.22683349|           tampa-usa|        2.5|                           false|                      false|                false|           false|              false|                true|          true|     true|        true|      true|             8|             115.11|                  26.59|                 36.13|        null|             null|            null|                 null|                   null|                    null|              null|              null|                null|        0|\n",
      "|    1052|   2020-04-13|    2020-04-14|16834484|      GDS|9ca3e955-225a-424...|                28|         2|  2020-03-07|0.105512455|    coral gables-usa|        4.0|                           false|                      false|                false|           false|              false|                true|         false|    false|       false|      true|             2|              224.0|                    0.0|                 21.99|         GDS|            60000|           25854|              19.7976|                 247.47|                  247.47|               0.0|           19.7976|               23.47|        0|\n",
      "|    1052|   2020-04-13|    2020-04-14|16834484|      GDS|9ca3e955-225a-424...|                28|         0|  2020-03-07|0.105512455|    coral gables-usa|        4.0|                           false|                      false|                false|           false|              false|                true|         false|    false|       false|      true|             7|              219.0|                    0.0|                 21.59|         GDS|            60000|           25854|              19.7976|                 247.47|                  247.47|               0.0|           19.7976|               28.47|        0|\n",
      "|    1052|   2020-04-13|    2020-04-14|16834484|      GDS|9ca3e955-225a-424...|                28|         1|  2020-03-07|0.105512455|    coral gables-usa|        4.0|                           false|                      false|                false|           false|              false|                true|         false|    false|       false|      true|             9|              219.0|                    0.0|                 21.59|         GDS|            60000|           25854|              19.7976|                 247.47|                  247.47|               0.0|           19.7976|               28.47|        0|\n",
      "|    1228|   2020-03-18|    2020-03-19|11047001|     ESRM|bdb18ef5-a9d4-4b8...|                12|         4|  2020-03-04| 0.13063276|fontenay-sous-boi...|        3.0|                           false|                      false|                false|           false|              false|               false|          true|     true|       false|      true|             1|          162.17421|              14.223659|             21.341057|        ESRM|            60020|           30333|                  0.0|     152.94052127496002|      152.94052127496002|    20.12697705512|    20.12697705512|   9.233688319766543|        0|\n",
      "|    1228|   2020-03-18|    2020-03-19|11047001|     ESRM|bdb18ef5-a9d4-4b8...|                12|         1|  2020-03-04| 0.13063276|fontenay-sous-boi...|        3.0|                           false|                      false|                false|           false|              false|               false|          true|     true|       false|     false|             6|          152.94052|              13.421698|             20.126978|        ESRM|            60020|           30333|                  0.0|     152.94052127496002|      152.94052127496002|    20.12697705512|    20.12697705512|3.472564458206761...|        1|\n",
      "|    1228|   2020-03-18|    2020-03-19|11047001|     ESRM|bdb18ef5-a9d4-4b8...|                12|         0|  2020-03-04| 0.13063276|fontenay-sous-boi...|        3.0|                           false|                      false|                false|           false|              false|               false|          true|     true|       false|     false|             4|          152.94052|              13.421698|             20.126978|        ESRM|            60020|           30333|                  0.0|     152.94052127496002|      152.94052127496002|    20.12697705512|    20.12697705512|3.472564458206761...|        1|\n",
      "|    1228|   2020-03-18|    2020-03-19|11047001|     ESRM|bdb18ef5-a9d4-4b8...|                12|         5|  2020-03-04| 0.13063276|fontenay-sous-boi...|        3.0|                           false|                      false|                false|           false|              false|               false|          true|     true|       false|      true|             3|          162.17421|              14.223659|             21.341057|        ESRM|            60020|           30333|                  0.0|     152.94052127496002|      152.94052127496002|    20.12697705512|    20.12697705512|   9.233688319766543|        0|\n",
      "|    1290|   2020-03-16|    2020-03-17| 6083670|     ESRM|e40701fc-8ae2-409...|                 1|         0|  2020-03-09| 0.14855504|         swansea-gbr|        4.0|                           false|                      false|                false|           false|              false|               false|         false|    false|       false|     false|             2|          130.43877|              16.358873|             21.702684|        ESRM|            60003|           20234|                  0.0|       145.068762276048|        145.068762276048|24.151931892112003|24.151931892112003|  14.629995796555818|        0|\n",
      "|    1290|   2020-03-16|    2020-03-17| 6083670|     ESRM|e40701fc-8ae2-409...|                 1|         1|  2020-03-09| 0.14855504|         swansea-gbr|        4.0|                           false|                      false|                false|           false|              false|               false|         false|    false|       false|     false|             1|          137.07924|              17.197119|             22.815979|        ESRM|            60003|           20234|                  0.0|       145.068762276048|        145.068762276048|24.151931892112003|24.151931892112003|   7.989523384446443|        0|\n",
      "|    1691|   2020-03-11|    2020-03-12|12356117|     ESRA|ab93e8df-e0e1-470...|                 6|         3|  2020-03-03| 0.13297893|        richland-usa|        3.5|                           false|                      false|                false|           false|              false|               false|          true|     true|        true|      true|             1|              80.94|                  14.57|                 14.57|        null|             null|            null|                 null|                   null|                    null|              null|              null|                null|        0|\n",
      "|    1691|   2020-03-11|    2020-03-12|12356117|     ESRA|ab93e8df-e0e1-470...|                 6|         2|  2020-03-03| 0.13297893|        richland-usa|        3.5|                           false|                      false|                false|           false|              false|               false|          true|     true|        true|      true|            11|              80.94|                  14.57|                 14.57|        null|             null|            null|                 null|                   null|                    null|              null|              null|                null|        0|\n",
      "|    1883|   2020-03-11|    2020-03-13|20531167|     ESRA|b86de69b-5596-4a3...|                27|         5|  2020-03-10| 0.10009396|          edison-usa|        4.0|                           false|                      false|                false|           false|              false|               false|         false|     true|        true|     false|             5|             108.54|                  13.28|                 13.28|        null|             null|            null|                 null|                   null|                    null|              null|              null|                null|        0|\n",
      "|    1883|   2020-03-11|    2020-03-13|20531167|     ESRA|b86de69b-5596-4a3...|                27|         5|  2020-03-10| 0.10009396|          edison-usa|        4.0|                           false|                      false|                false|           false|              false|               false|         false|     true|        true|     false|             5|             108.54|                   10.6|                  10.6|        null|             null|            null|                 null|                   null|                    null|              null|              null|                null|        0|\n",
      "|    1883|   2020-03-11|    2020-03-13|20531167|     ESRA|b86de69b-5596-4a3...|                27|         4|  2020-03-10| 0.10009396|          edison-usa|        4.0|                           false|                      false|                false|           false|              false|               false|         false|     true|        true|     false|             4|             108.54|                  13.28|                 13.28|        null|             null|            null|                 null|                   null|                    null|              null|              null|                null|        0|\n",
      "|    1883|   2020-03-11|    2020-03-13|20531167|     ESRA|b86de69b-5596-4a3...|                27|         4|  2020-03-10| 0.10009396|          edison-usa|        4.0|                           false|                      false|                false|           false|              false|               false|         false|     true|        true|     false|             4|             108.54|                   10.6|                  10.6|        null|             null|            null|                 null|                   null|                    null|              null|              null|                null|        0|\n",
      "|    1883|   2020-03-11|    2020-03-13|20531167|     ESRA|b86de69b-5596-4a3...|                27|         3|  2020-03-10| 0.10009396|          edison-usa|        4.0|                           false|                      false|                false|           false|              false|               false|         false|     true|        true|     false|             3|             108.54|                   10.6|                  10.6|        null|             null|            null|                 null|                   null|                    null|              null|              null|                null|        0|\n",
      "|    1883|   2020-03-11|    2020-03-13|20531167|     ESRA|b86de69b-5596-4a3...|                27|         3|  2020-03-10| 0.10009396|          edison-usa|        4.0|                           false|                      false|                false|           false|              false|               false|         false|     true|        true|     false|             3|             108.54|                  13.28|                 13.28|        null|             null|            null|                 null|                   null|                    null|              null|              null|                null|        0|\n",
      "|    1923|   2020-03-01|    2020-03-04|20357319|     ESRM|22fce42c-76fb-472...|                11|         0|  2020-03-01| 0.16249189|         midland-usa|        2.5|                           false|                      false|                false|           false|              false|               false|          true|     true|        true|     false|            11|               82.4|                  15.25|                 21.45|        ESRM|            60000|           25632|                  0.0|                 291.68|       97.22666666666667|17.386666666666667|17.386666666666667|  14.826665140787767|        0|\n",
      "|    1923|   2020-03-01|    2020-03-04|20357319|     ESRM|22fce42c-76fb-472...|                11|         1|  2020-03-01| 0.16249189|         midland-usa|        2.5|                           false|                      false|                false|           false|              false|               false|          true|     true|        true|     false|            20|               82.4|                   9.82|             13.809999|        ESRM|            60000|           25632|                  0.0|                 291.68|       97.22666666666667|17.386666666666667|17.386666666666667|  14.826665140787767|        0|\n",
      "|    1923|   2020-03-01|    2020-03-04|20357319|     ESRM|22fce42c-76fb-472...|                11|         1|  2020-03-01| 0.16249189|         midland-usa|        2.5|                           false|                      false|                false|           false|              false|               false|          true|     true|        true|     false|            20|               82.4|                  12.01|                  16.9|        ESRM|            60000|           25632|                  0.0|                 291.68|       97.22666666666667|17.386666666666667|17.386666666666667|  14.826665140787767|        0|\n",
      "|    1923|   2020-03-01|    2020-03-04|20357319|     ESRM|22fce42c-76fb-472...|                11|         0|  2020-03-01| 0.16249189|         midland-usa|        2.5|                           false|                      false|                false|           false|              false|               false|          true|     true|        true|     false|            11|               82.4|                  12.01|                  16.9|        ESRM|            60000|           25632|                  0.0|                 291.68|       97.22666666666667|17.386666666666667|17.386666666666667|  14.826665140787767|        0|\n",
      "|    1923|   2020-03-01|    2020-03-04|20357319|     ESRM|22fce42c-76fb-472...|                11|         0|  2020-03-01| 0.16249189|         midland-usa|        2.5|                           false|                      false|                false|           false|              false|               false|          true|     true|        true|     false|            11|               82.4|                   9.82|             13.809999|        ESRM|            60000|           25632|                  0.0|                 291.68|       97.22666666666667|17.386666666666667|17.386666666666667|  14.826665140787767|        0|\n",
      "|    1923|   2020-03-01|    2020-03-04|20357319|     ESRM|22fce42c-76fb-472...|                11|         1|  2020-03-01| 0.16249189|         midland-usa|        2.5|                           false|                      false|                false|           false|              false|               false|          true|     true|        true|     false|            20|               82.4|                  15.25|                 21.45|        ESRM|            60000|           25632|                  0.0|                 291.68|       97.22666666666667|17.386666666666667|17.386666666666667|  14.826665140787767|        0|\n",
      "|    1983|   2020-03-05|    2020-03-06|16942318|     EPRM|5ee0eed8-0c87-4de...|                 2|         5|  2020-03-05| 0.05020024|        marianna-usa|        2.5|                           false|                      false|                false|           false|              false|                true|          true|     true|        true|     false|             8|              70.99|                  11.36|                 15.69|        null|             null|            null|                 null|                   null|                    null|              null|              null|                null|        0|\n",
      "|    1983|   2020-03-05|    2020-03-06|16942318|     EPRM|5ee0eed8-0c87-4de...|                 2|         9|  2020-03-05| 0.05020024|        marianna-usa|        2.5|                           false|                      false|                false|           false|              false|                true|          true|     true|        true|     false|             7|              75.99|                  12.16|                  16.8|        null|             null|            null|                 null|                   null|                    null|              null|              null|                null|        0|\n",
      "|    1983|   2020-03-05|    2020-03-06|16942318|     EPRM|5ee0eed8-0c87-4de...|                 2|         8|  2020-03-05| 0.05020024|        marianna-usa|        2.5|                           false|                      false|                false|           false|              false|                true|          true|     true|        true|     false|             6|              75.99|                  12.16|                  16.8|        null|             null|            null|                 null|                   null|                    null|              null|              null|                null|        0|\n",
      "+--------+-------------+--------------+--------+---------+--------------------+------------------+----------+------------+-----------+--------------------+-----------+--------------------------------+---------------------------+---------------------+----------------+-------------------+--------------------+--------------+---------+------------+----------+--------------+-------------------+-----------------------+----------------------+------------+-----------------+----------------+---------------------+-----------------------+------------------------+------------------+------------------+--------------------+---------+\n",
      "only showing top 50 rows"
     ]
    }
   ],
   "source": [
    "booking_search_df.show(50)"
   ]
  },
  {
   "cell_type": "code",
   "execution_count": null,
   "metadata": {},
   "outputs": [],
   "source": [
    "dir = 's3://ege-ds-workshops-corp/yixli/data_understanding/'\n",
    "datestamp = datetime.datetime.now().strftime('%m-%d-%Y')\n",
    "booking_search_df.repartition(1).write.format('com.databricks.spark.csv').mode('overwrite')\\\n",
    ".save(dir+datestamp+'_booking_search_df_label.csv',header = 'true')"
   ]
  },
  {
   "cell_type": "code",
   "execution_count": null,
   "metadata": {},
   "outputs": [],
   "source": []
  }
 ],
 "metadata": {
  "kernelspec": {
   "display_name": "PySpark3",
   "language": "",
   "name": "pyspark3kernel"
  },
  "language_info": {
   "codemirror_mode": {
    "name": "python",
    "version": 3
   },
   "mimetype": "text/x-python",
   "name": "pyspark3",
   "pygments_lexer": "python3"
  }
 },
 "nbformat": 4,
 "nbformat_minor": 2
}
