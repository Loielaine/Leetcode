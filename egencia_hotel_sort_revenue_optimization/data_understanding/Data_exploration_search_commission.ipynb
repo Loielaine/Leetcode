{
 "cells": [
  {
   "cell_type": "code",
   "execution_count": 3,
   "metadata": {},
   "outputs": [],
   "source": [
    "import datetime\n",
    "import pandas as pd\n",
    "import numpy as np\n",
    "\n",
    "from pyspark import SparkContext\n",
    "from pyspark import SQLContext\n",
    "from pyspark.sql.session import SparkSession\n",
    "\n",
    "\n",
    "from pyspark.sql import DataFrameStatFunctions as statFunc\n",
    "\n",
    "from pyspark.sql.functions import row_number\n",
    "from pyspark.sql.window import Window\n",
    "from pyspark.sql.functions import desc\n",
    "\n",
    "from pyspark.sql import functions as F\n",
    "from pyspark.sql import types as T\n",
    "from pyspark.sql.types import IntegerType"
   ]
  },
  {
   "cell_type": "markdown",
   "metadata": {},
   "source": [
    "## Obtain last_idx_peterman_line"
   ]
  },
  {
   "cell_type": "code",
   "execution_count": null,
   "metadata": {},
   "outputs": [],
   "source": [
    "'''\n",
    "use eandev; \n",
    "drop table if exists eandev.yixli_last_idx_peterman_line;\n",
    "create table eandev.yixli_last_idx_peterman_line as    \n",
    "select  \n",
    "  a.message_id,\n",
    "  IF(b.message_id is null, 0, b.last_idx_peterman_line) as last_idx_peterman_line,\n",
    "  IF(c.message_id is null, 0, c.last_hotel_result_index) as last_hotel_result_index\n",
    "from eandev.HotelMessages as a \n",
    "left join (\n",
    "  select  \n",
    "   message_id\n",
    "  ,MAX(v1.hotel_result_index) as last_idx_peterman_line\n",
    "  from eandev.HotelMessages \n",
    "  lateral view explode(hotels) hotel_tbl as v1\n",
    "  where load_date between '20200101' and '20200107'\n",
    "  and ((v1.property_level_neg = true) or (v1.chain_level_neg = true) or (v1.preferred = true))\n",
    "  and message_id is not null \n",
    "  and message_id <> ''\n",
    "  and ((original_message_id is null) or (original_message_id == '')) \n",
    "  and type = 'HSR'  \n",
    "  group by message_id\n",
    ") as b ON a.message_id = b.message_id\n",
    "left join (\n",
    "  select  \n",
    "   message_id\n",
    "  ,MAX(v1.hotel_result_index) as last_hotel_result_index\n",
    "  from eandev.HotelMessages \n",
    "  lateral view explode(hotels) hotel_tbl as v1\n",
    "  where load_date between '20200101' and '20200107'\n",
    "  and message_id is not null \n",
    "  and message_id <> ''\n",
    "  and ((original_message_id is null) or (original_message_id == '')) \n",
    "  and type = 'HSR'  \n",
    "  group by message_id\n",
    ") as c ON a.message_id = c.message_id\n",
    "where a.load_date between '20200101' and '20200107'\n",
    "and a.message_id is not null \n",
    "and a.message_id <> ''\n",
    "and ((original_message_id is null) or (original_message_id == '')) \n",
    "and a.type = 'HSR'\n",
    "'''"
   ]
  },
  {
   "cell_type": "code",
   "execution_count": 4,
   "metadata": {},
   "outputs": [],
   "source": [
    "peterman_schema = T.StructType([\n",
    "    T.StructField(\"message_id\", T.StringType(), True),                  #1\n",
    "    T.StructField(\"last_idx_peterman_line\", T.IntegerType(), True),     #2 \n",
    "    T.StructField(\"last_hotel_result_index\", T.IntegerType(), True)     #3\n",
    "])"
   ]
  },
  {
   "cell_type": "code",
   "execution_count": 5,
   "metadata": {},
   "outputs": [
    {
     "name": "stdout",
     "output_type": "stream",
     "text": [
      "634458"
     ]
    }
   ],
   "source": [
    "file_loc = \"s3://ege-ds-workshops-corp/yixli/last_idx_peterman_line.csv\"\n",
    "\n",
    "peterman_df = sqlContext.read.format('csv').\\\n",
    "            options(header='false', inferSchema='false', delimiter=',').\\\n",
    "            schema(peterman_schema).load(file_loc)\n",
    "\n",
    "# load_date between '20200101' and '20200107'\n",
    "\n",
    "print(peterman_df.count())"
   ]
  },
  {
   "cell_type": "code",
   "execution_count": 7,
   "metadata": {
    "collapsed": true
   },
   "outputs": [
    {
     "name": "stdout",
     "output_type": "stream",
     "text": [
      "+--------------------+----------------------+-----------------------+\n",
      "|          message_id|last_idx_peterman_line|last_hotel_result_index|\n",
      "+--------------------+----------------------+-----------------------+\n",
      "|00c46dc3-473b-425...|                     5|                     29|\n",
      "|01843d83-6216-497...|                     3|                      3|\n",
      "|0255f5ed-9752-4c1...|                     0|                     29|\n",
      "|02bd63a6-0c92-4bd...|                     0|                      0|\n",
      "|03cb5780-8119-4d0...|                    29|                     29|\n",
      "|044a2221-4c35-45b...|                     0|                     24|\n",
      "|04b61bf1-f355-485...|                     0|                     29|\n",
      "|058cd6c0-52ac-411...|                    10|                     29|\n",
      "|05c3e198-22b1-4b4...|                     0|                      9|\n",
      "|05ee11cd-f44b-4e3...|                     0|                     30|\n",
      "|074138fd-bc90-4c8...|                    17|                     29|\n",
      "|08c85ca6-ee6b-436...|                     0|                     29|\n",
      "|09096ddb-f946-492...|                    26|                     28|\n",
      "|09566cef-8759-423...|                     0|                     29|\n",
      "|09bfaec0-657c-4df...|                     0|                      0|\n",
      "|0a1aac46-ae0c-4e7...|                    29|                     29|\n",
      "|0a2fdbb4-3b12-450...|                     0|                     29|\n",
      "|0a6aeae6-9dab-417...|                     0|                      0|\n",
      "|0b3a73b0-77ab-489...|                    11|                     29|\n",
      "|0bf48ef0-7ea6-4c5...|                     0|                      0|\n",
      "|0c0fdc64-f2bc-443...|                     0|                     29|\n",
      "|0c60b56e-a23a-407...|                     0|                     29|\n",
      "|0c6c45b7-c512-492...|                     0|                     29|\n",
      "|0c8ef1d5-92ed-4b6...|                    20|                     29|\n",
      "|0d864fc7-e558-421...|                     0|                      1|\n",
      "|0e884ecc-9364-47e...|                     6|                      6|\n",
      "|0ea609bd-60bb-4a8...|                     0|                     29|\n",
      "|0fb90af0-6268-434...|                     0|                      0|\n",
      "|108a76b0-9385-4bc...|                     0|                     29|\n",
      "|11cb7145-189f-482...|                     0|                     29|\n",
      "|129b0d7c-14c7-490...|                     0|                     29|\n",
      "|12d3141a-d91a-404...|                    10|                     29|\n",
      "|13b21de8-2680-4cd...|                     0|                     10|\n",
      "|1430f993-c835-45d...|                     0|                      0|\n",
      "|144e4439-4c34-4a9...|                     0|                     29|\n",
      "|14e7f2d0-3e1a-45d...|                    26|                     29|\n",
      "|14e9b00a-d646-454...|                     0|                     30|\n",
      "|151daef3-0a9e-4e7...|                     0|                      0|\n",
      "|159053d2-1a7c-487...|                     0|                     29|\n",
      "|1604519a-170c-467...|                     0|                     29|\n",
      "|1685a6fc-3b8c-491...|                    27|                     29|\n",
      "|168efe8d-cdae-4e2...|                     6|                     29|\n",
      "|16da3718-30a7-4a6...|                     0|                      0|\n",
      "|16e28712-0536-40e...|                     5|                     23|\n",
      "|16ebe1d8-0588-4f9...|                     0|                     21|\n",
      "|174bac51-82cc-4c3...|                     0|                     29|\n",
      "|1787e204-358f-4f6...|                     0|                     29|\n",
      "|179296d3-d9fd-4a3...|                     0|                      0|\n",
      "|18137bd4-6af1-42e...|                     0|                      0|\n",
      "|18b6ad56-9056-424...|                     0|                      0|\n",
      "+--------------------+----------------------+-----------------------+\n",
      "only showing top 50 rows"
     ]
    }
   ],
   "source": [
    "peterman_df.show(50)"
   ]
  },
  {
   "cell_type": "markdown",
   "metadata": {},
   "source": [
    "## Search data"
   ]
  },
  {
   "cell_type": "code",
   "execution_count": null,
   "metadata": {},
   "outputs": [],
   "source": [
    "'''\n",
    "use eandev;\n",
    "\n",
    "drop table if exists eandev.yixli_search_commission;\n",
    "create table eandev.yixli_search_commission as   \n",
    "select \n",
    "message_id\n",
    ",message_timestamp as message_date\n",
    ",check_in_date\n",
    ",check_out_date\n",
    ",tuid\n",
    ",v1.hotel_id\n",
    ",v1.hotel_result_index\n",
    ",v2.rate_index\n",
    ",v2.price.amount as rate_amount\n",
    ",v2.price.currency as rate_currency\n",
    ",(case when v2.rate_type = 'GDS_CHAIN_NEGOTIATED' then 'NEG'                             \n",
    "  when v2.rate_type = 'GDS_CONSORTIA' then 'GDS'\n",
    "  when v2.rate_type = 'GDS_NEGOTIATED' then 'NEG'\n",
    "  when v2.rate_type = 'GDS_PUBLISHED' then 'GDS'                             \n",
    "  when v2.rate_type = 'EPR_MERCHANT' then 'EPRM'\n",
    "  when v2.rate_type = 'ESR_DIRECT_AGENCY' then 'ESRA'\n",
    "  when v2.rate_type = 'EPR_DIRECT_AGENCY' then 'EPRA'\n",
    "  when v2.rate_type = 'ESR_MERCHANT' then 'ESRM'\n",
    "  else v2.rate_type end) as rate_type\n",
    ",v3.commission_base\n",
    ",v3.base_category\n",
    ",v3.commission_tax\n",
    ",v3.tax_category\n",
    ",v3.currency\n",
    "from eandev.HotelMessages\n",
    "lateral view explode(travelers) travl_tbl as tuid\n",
    "lateral view explode(hotels) hotel_tbl as v1\n",
    "lateral view explode(v1.prices) rate_tbl as v2\n",
    "lateral view explode(v2.commission_list) cms_tbl as v3 \n",
    "where load_date between '20200101' and '20200107'\n",
    "and message_id is not null \n",
    "and message_id <> ''\n",
    "and ((original_message_id is null) or (original_message_id == ''))\n",
    "and v2.selected = True\n",
    "and type = 'HSR'\n",
    "'''"
   ]
  },
  {
   "cell_type": "code",
   "execution_count": null,
   "metadata": {},
   "outputs": [],
   "source": [
    "'''\n",
    "ssh Chwxedwhdc002.datawarehouse.expecn.com\n",
    "\n",
    "hive -e \"use eandev; INSERT OVERWRITE LOCAL DIRECTORY '/home/yixli/temp' ROW FORMAT DELIMITED FIELDS TERMINATED BY ',' select * from yixli_search_commission;\"&\n",
    "\n",
    "cd temp\n",
    "ls | xargs -I '{}' -n1 sed -i 's/\\\\N//g' '{}' &\n",
    "cd ..\n",
    "cat temp/* >search_commission.csv\n",
    "\n",
    "\n",
    "~/aws_key_gen login\n",
    "\n",
    "aws s3 cp search_commission.csv s3://ege-ds-workshops-corp/yixli/search_commission.csv\n",
    "\n",
    "\n",
    "'''"
   ]
  },
  {
   "cell_type": "code",
   "execution_count": 6,
   "metadata": {},
   "outputs": [],
   "source": [
    "search_schema = T.StructType([\n",
    "    T.StructField(\"message_id\", T.StringType(), True),                  #1\n",
    "    T.StructField(\"message_date\", T.TimestampType(), True),             #2\n",
    "    T.StructField(\"check_in_date\", T.DateType(), True),                 #3\n",
    "    T.StructField(\"check_out_date\", T.DateType(), True),                #4\n",
    "    T.StructField(\"tuid\", T.IntegerType(), True),                       #5\n",
    "    T.StructField(\"hotel_id\", T.IntegerType(), True),                   #6 \n",
    "    T.StructField(\"hotel_result_index\", T.IntegerType(), True),         #7\n",
    "    T.StructField(\"rate_index\", T.IntegerType(), True),                 #8 \n",
    "    T.StructField(\"rate_amount\", T.FloatType(), True),                  #9\n",
    "    T.StructField(\"rate_currency\", T.StringType(), True),               #10\n",
    "    T.StructField(\"rate_type\", T.StringType(), True),                   #11\n",
    "    T.StructField(\"commission_base\", T.FloatType(), True),              #12\n",
    "    T.StructField(\"base_category\", T.StringType(), True),               #13\n",
    "    T.StructField(\"commission_tax\", T.FloatType(), True),               #14\n",
    "    T.StructField(\"tax_category\", T.StringType(), True),                #15\n",
    "    T.StructField(\"commission_currency\", T.StringType(), True)          #16\n",
    "])\n"
   ]
  },
  {
   "cell_type": "code",
   "execution_count": 7,
   "metadata": {},
   "outputs": [
    {
     "name": "stdout",
     "output_type": "stream",
     "text": [
      "Collecting search the data...\n",
      "183500658"
     ]
    }
   ],
   "source": [
    "file_loc = \"s3://ege-ds-workshops-corp/yixli/search_commission.csv\"\n",
    "print(\"Collecting search the data...\")\n",
    "search_df = sqlContext.read.format('csv').\\\n",
    "            options(header='false', inferSchema='false', delimiter=',').\\\n",
    "            schema(search_schema).load(file_loc)\n",
    "\n",
    "# load_date between '20200101' and '20200107'\n",
    "\n",
    "search_df = search_df.\\\n",
    "            filter(F.col(\"hotel_id\")>0).\\\n",
    "            filter(F.col(\"rate_amount\").isNotNull()).\\\n",
    "            withColumn(\"hotel_index\", row_number().over(Window.partitionBy(\"message_id\", \"tuid\").\\\n",
    "                                                        orderBy(F.asc(\"hotel_result_index\"))))\n",
    "print(search_df.count())"
   ]
  },
  {
   "cell_type": "code",
   "execution_count": 13,
   "metadata": {
    "collapsed": true
   },
   "outputs": [
    {
     "name": "stdout",
     "output_type": "stream",
     "text": [
      "+--------------------+--------------------+-------------+--------------+--------+--------+------------------+----------+-----------+-------------+---------+---------------+-------------+--------------+------------+-------------------+-----------+\n",
      "|          message_id|        message_date|check_in_date|check_out_date|    tuid|hotel_id|hotel_result_index|rate_index|rate_amount|rate_currency|rate_type|commission_base|base_category|commission_tax|tax_category|commission_currency|hotel_index|\n",
      "+--------------------+--------------------+-------------+--------------+--------+--------+------------------+----------+-----------+-------------+---------+---------------+-------------+--------------+------------+-------------------+-----------+\n",
      "|0046e02b-7222-45b...|2020-01-06 23:27:...|   2020-01-12|    2020-01-14|20567003|  564732|                 0|         2|     230.41|          SGD|     ESRM|         149.99|         BASE|         50.02|       TAXES|                CNY|          1|\n",
      "|0046e02b-7222-45b...|2020-01-06 23:27:...|   2020-01-12|    2020-01-14|20567003|  564732|                 0|         2|     230.41|          SGD|     ESRM|         149.99|         BASE|         50.02|       TAXES|                CNY|          2|\n",
      "|0046e02b-7222-45b...|2020-01-06 23:27:...|   2020-01-12|    2020-01-14|20567003|  564732|                 0|         3|     230.41|          SGD|     ESRM|         149.99|         BASE|         50.02|       TAXES|                CNY|          3|\n",
      "|0046e02b-7222-45b...|2020-01-06 23:27:...|   2020-01-12|    2020-01-14|20567003|  564732|                 0|         3|     230.41|          SGD|     ESRM|         149.99|         BASE|         50.02|       TAXES|                CNY|          4|\n",
      "|0046e02b-7222-45b...|2020-01-06 23:27:...|   2020-01-12|    2020-01-14|20567003|  564732|                 0|         5|     264.97|          SGD|     ESRM|         172.51|         BASE|         57.49|       TAXES|                CNY|          5|\n",
      "|0046e02b-7222-45b...|2020-01-06 23:27:...|   2020-01-12|    2020-01-14|20567003|  564732|                 0|         5|     264.97|          SGD|     ESRM|         172.51|         BASE|         57.49|       TAXES|                CNY|          6|\n",
      "|0046e02b-7222-45b...|2020-01-06 23:27:...|   2020-01-12|    2020-01-14|20567003|  564732|                 0|         6|     264.97|          SGD|     ESRM|         172.51|         BASE|         57.49|       TAXES|                CNY|          7|\n",
      "|0046e02b-7222-45b...|2020-01-06 23:27:...|   2020-01-12|    2020-01-14|20567003|  564732|                 0|         6|     264.97|          SGD|     ESRM|         172.51|         BASE|         57.49|       TAXES|                CNY|          8|\n",
      "|0046e02b-7222-45b...|2020-01-06 23:27:...|   2020-01-12|    2020-01-14|20567003|  564732|                 0|         7|     299.53|          SGD|     ESRM|         194.98|         BASE|         65.01|       TAXES|                CNY|          9|\n",
      "|0046e02b-7222-45b...|2020-01-06 23:27:...|   2020-01-12|    2020-01-14|20567003|  564732|                 0|         7|     299.53|          SGD|     ESRM|         194.98|         BASE|         65.01|       TAXES|                CNY|         10|\n",
      "|0046e02b-7222-45b...|2020-01-06 23:27:...|   2020-01-12|    2020-01-14|20567003|  564732|                 0|         8|     357.14|          SGD|     ESRM|         232.53|         BASE|          77.5|       TAXES|                CNY|         11|\n",
      "|0046e02b-7222-45b...|2020-01-06 23:27:...|   2020-01-12|    2020-01-14|20567003|  564732|                 0|         8|     357.14|          SGD|     ESRM|         232.53|         BASE|          77.5|       TAXES|                CNY|         12|\n",
      "|0054336c-5e16-426...|2020-01-06 09:02:...|   2020-01-08|    2020-01-10| 6556579|    3810|                 0|         3|      129.2|          EUR|     ESRM|          15.36|         BASE|          5.91|       TAXES|                EUR|          1|\n",
      "|0054336c-5e16-426...|2020-01-06 09:02:...|   2020-01-08|    2020-01-10| 6556579|    3810|                 0|         3|      129.2|          EUR|     ESRM|          14.18|         BASE|          5.45|       TAXES|                EUR|          2|\n",
      "|0054336c-5e16-426...|2020-01-06 09:02:...|   2020-01-08|    2020-01-10| 6556579|    3810|                 0|         4|     146.25|          EUR|     ESRM|          17.31|         BASE|          6.66|       TAXES|                EUR|          3|\n",
      "|0054336c-5e16-426...|2020-01-06 09:02:...|   2020-01-08|    2020-01-10| 6556579|    3810|                 0|         4|     146.25|          EUR|     ESRM|          16.13|         BASE|           6.2|       TAXES|                EUR|          4|\n",
      "|0054336c-5e16-426...|2020-01-06 09:02:...|   2020-01-08|    2020-01-10| 6556579|    3810|                 0|         5|     149.87|          EUR|     ESRM|          17.72|         BASE|          6.82|       TAXES|                EUR|          5|\n",
      "|0054336c-5e16-426...|2020-01-06 09:02:...|   2020-01-08|    2020-01-10| 6556579|    3810|                 0|         5|     149.87|          EUR|     ESRM|          16.54|         BASE|          6.36|       TAXES|                EUR|          6|\n",
      "|0054336c-5e16-426...|2020-01-06 09:02:...|   2020-01-08|    2020-01-10| 6556579|    1724|                 1|         3|      87.57|          EUR|     ESRM|           7.82|         BASE|          3.91|       TAXES|                EUR|          7|\n",
      "|0054336c-5e16-426...|2020-01-06 09:02:...|   2020-01-08|    2020-01-10| 6556579|    1724|                 1|         3|      87.57|          EUR|     ESRM|           7.54|         BASE|          3.77|       TAXES|                EUR|          8|\n",
      "|0054336c-5e16-426...|2020-01-06 09:02:...|   2020-01-08|    2020-01-10| 6556579|    1724|                 1|         4|      97.94|          EUR|     ESRM|           8.72|         BASE|          4.36|       TAXES|                EUR|          9|\n",
      "|0054336c-5e16-426...|2020-01-06 09:02:...|   2020-01-08|    2020-01-10| 6556579|    1724|                 1|         4|      97.94|          EUR|     ESRM|           8.46|         BASE|          4.23|       TAXES|                EUR|         10|\n",
      "|0054336c-5e16-426...|2020-01-06 09:02:...|   2020-01-08|    2020-01-10| 6556579|    1724|                 1|         5|     129.03|          EUR|     ESRM|          11.46|         BASE|          5.73|       TAXES|                EUR|         11|\n",
      "|0054336c-5e16-426...|2020-01-06 09:02:...|   2020-01-08|    2020-01-10| 6556579|    1724|                 1|         5|     129.03|          EUR|     ESRM|          11.18|         BASE|          5.59|       TAXES|                EUR|         12|\n",
      "|0054336c-5e16-426...|2020-01-06 09:02:...|   2020-01-08|    2020-01-10| 6556579|     570|                 2|         3|     100.53|          EUR|     ESRM|            9.0|         BASE|           4.5|       TAXES|                EUR|         13|\n",
      "|0054336c-5e16-426...|2020-01-06 09:02:...|   2020-01-08|    2020-01-10| 6556579|     570|                 2|         3|     100.53|          EUR|     ESRM|           8.63|         BASE|          4.32|       TAXES|                EUR|         14|\n",
      "|0054336c-5e16-426...|2020-01-06 09:02:...|   2020-01-08|    2020-01-10| 6556579|     570|                 2|         4|     111.42|          EUR|     ESRM|           9.96|         BASE|          4.98|       TAXES|                EUR|         15|\n",
      "|0054336c-5e16-426...|2020-01-06 09:02:...|   2020-01-08|    2020-01-10| 6556579|     570|                 2|         4|     111.42|          EUR|     ESRM|           9.59|         BASE|           4.8|       TAXES|                EUR|         16|\n",
      "|0054336c-5e16-426...|2020-01-06 09:02:...|   2020-01-08|    2020-01-10| 6556579| 6068320|                 3|         2|     104.68|          EUR|     ESRM|           9.46|         BASE|          4.73|       TAXES|                EUR|         17|\n",
      "|0054336c-5e16-426...|2020-01-06 09:02:...|   2020-01-08|    2020-01-10| 6556579| 6068320|                 3|         2|     104.68|          EUR|     ESRM|           8.91|         BASE|          4.45|       TAXES|                EUR|         18|\n",
      "|0054336c-5e16-426...|2020-01-06 09:02:...|   2020-01-08|    2020-01-10| 6556579| 6068320|                 3|         4|     146.13|          EUR|     ESRM|          13.09|         BASE|          6.55|       TAXES|                EUR|         19|\n",
      "|0054336c-5e16-426...|2020-01-06 09:02:...|   2020-01-08|    2020-01-10| 6556579| 6068320|                 3|         4|     146.13|          EUR|     ESRM|          12.54|         BASE|          6.27|       TAXES|                EUR|         20|\n",
      "|0054336c-5e16-426...|2020-01-06 09:02:...|   2020-01-08|    2020-01-10| 6556579| 6068320|                 3|         5|      156.5|          EUR|     ESRM|           14.0|         BASE|           7.0|       TAXES|                EUR|         21|\n",
      "|0054336c-5e16-426...|2020-01-06 09:02:...|   2020-01-08|    2020-01-10| 6556579| 6068320|                 3|         5|      156.5|          EUR|     ESRM|          13.46|         BASE|          6.73|       TAXES|                EUR|         22|\n",
      "|0054336c-5e16-426...|2020-01-06 09:02:...|   2020-01-08|    2020-01-10| 6556579|  581080|                 4|         0|      99.37|          EUR|     ESRM|          13.13|         BASE|          4.38|       TAXES|                EUR|         23|\n",
      "|0054336c-5e16-426...|2020-01-06 09:02:...|   2020-01-08|    2020-01-10| 6556579|  581080|                 4|         0|      99.37|          EUR|     ESRM|          13.13|         BASE|          4.38|       TAXES|                EUR|         24|\n",
      "|0054336c-5e16-426...|2020-01-06 09:02:...|   2020-01-08|    2020-01-10| 6556579|  581080|                 4|         1|     104.01|          EUR|     ESRM|          13.75|         BASE|          4.58|       TAXES|                EUR|         25|\n",
      "|0054336c-5e16-426...|2020-01-06 09:02:...|   2020-01-08|    2020-01-10| 6556579|  581080|                 4|         1|     104.01|          EUR|     ESRM|          13.75|         BASE|          4.58|       TAXES|                EUR|         26|\n",
      "|0054336c-5e16-426...|2020-01-06 09:02:...|   2020-01-08|    2020-01-10| 6556579|  581080|                 4|         2|     104.88|          EUR|     EPRM|          13.86|         BASE|          4.62|       TAXES|                EUR|         27|\n",
      "|0054336c-5e16-426...|2020-01-06 09:02:...|   2020-01-08|    2020-01-10| 6556579|  581080|                 4|         2|     104.88|          EUR|     EPRM|          13.86|         BASE|          4.62|       TAXES|                EUR|         28|\n",
      "|0054336c-5e16-426...|2020-01-06 09:02:...|   2020-01-08|    2020-01-10| 6556579|  581080|                 4|         4|     109.79|          EUR|     EPRM|          14.51|         BASE|          4.84|       TAXES|                EUR|         29|\n",
      "|0054336c-5e16-426...|2020-01-06 09:02:...|   2020-01-08|    2020-01-10| 6556579|  581080|                 4|         4|     109.79|          EUR|     EPRM|          14.51|         BASE|          4.84|       TAXES|                EUR|         30|\n",
      "|0054336c-5e16-426...|2020-01-06 09:02:...|   2020-01-08|    2020-01-10| 6556579|  581080|                 4|         5|     113.29|          EUR|     ESRM|          14.97|         BASE|          4.99|       TAXES|                EUR|         31|\n",
      "|0054336c-5e16-426...|2020-01-06 09:02:...|   2020-01-08|    2020-01-10| 6556579|  581080|                 4|         5|     113.29|          EUR|     ESRM|          14.97|         BASE|          4.99|       TAXES|                EUR|         32|\n",
      "|0054336c-5e16-426...|2020-01-06 09:02:...|   2020-01-08|    2020-01-10| 6556579|  581080|                 4|         7|      119.6|          EUR|     EPRM|          15.81|         BASE|          5.27|       TAXES|                EUR|         33|\n",
      "|0054336c-5e16-426...|2020-01-06 09:02:...|   2020-01-08|    2020-01-10| 6556579|  581080|                 4|         7|      119.6|          EUR|     EPRM|          15.81|         BASE|          5.27|       TAXES|                EUR|         34|\n",
      "|0054336c-5e16-426...|2020-01-06 09:02:...|   2020-01-08|    2020-01-10| 6556579| 3526389|                 5|         0|      78.94|          EUR|     ESRM|          10.43|         BASE|          3.48|       TAXES|                EUR|         35|\n",
      "|0054336c-5e16-426...|2020-01-06 09:02:...|   2020-01-08|    2020-01-10| 6556579| 3526389|                 5|         0|      78.94|          EUR|     ESRM|          10.43|         BASE|          3.48|       TAXES|                EUR|         36|\n",
      "|0054336c-5e16-426...|2020-01-06 09:02:...|   2020-01-08|    2020-01-10| 6556579| 3526389|                 5|         1|      78.94|          EUR|     ESRM|          10.43|         BASE|          3.48|       TAXES|                EUR|         37|\n",
      "|0054336c-5e16-426...|2020-01-06 09:02:...|   2020-01-08|    2020-01-10| 6556579| 3526389|                 5|         1|      78.94|          EUR|     ESRM|          10.43|         BASE|          3.48|       TAXES|                EUR|         38|\n",
      "+--------------------+--------------------+-------------+--------------+--------+--------+------------------+----------+-----------+-------------+---------+---------------+-------------+--------------+------------+-------------------+-----------+\n",
      "only showing top 50 rows"
     ]
    }
   ],
   "source": [
    "search_df.show(50)"
   ]
  },
  {
   "cell_type": "markdown",
   "metadata": {},
   "source": [
    "## Filter hotels below peterman_line"
   ]
  },
  {
   "cell_type": "code",
   "execution_count": 8,
   "metadata": {},
   "outputs": [],
   "source": [
    "search_df.registerTempTable(\"search_df\")\n",
    "peterman_df.registerTempTable(\"peterman_df\")"
   ]
  },
  {
   "cell_type": "code",
   "execution_count": 9,
   "metadata": {},
   "outputs": [],
   "source": [
    "search_below_peterman_df = sqlContext.sql(\"select\\\n",
    "                             b.*\\\n",
    "                             from search_df as b join peterman_df as c on (b.message_id=c.message_id)\\\n",
    "                             where (b.hotel_result_index>c.last_idx_peterman_line)\\\n",
    "                             order by b.message_id, b.hotel_result_index\").\\\n",
    "                             dropDuplicates()"
   ]
  },
  {
   "cell_type": "code",
   "execution_count": 10,
   "metadata": {},
   "outputs": [
    {
     "name": "stdout",
     "output_type": "stream",
     "text": [
      "94670179"
     ]
    }
   ],
   "source": [
    "print(search_below_peterman_df.count())"
   ]
  },
  {
   "cell_type": "code",
   "execution_count": 17,
   "metadata": {
    "collapsed": true
   },
   "outputs": [
    {
     "name": "stdout",
     "output_type": "stream",
     "text": [
      "+--------------------+--------------------+-------------+--------------+--------+--------+------------------+----------+-----------+-------------+---------+---------------+-------------+--------------+------------+-------------------+-----------+\n",
      "|          message_id|        message_date|check_in_date|check_out_date|    tuid|hotel_id|hotel_result_index|rate_index|rate_amount|rate_currency|rate_type|commission_base|base_category|commission_tax|tax_category|commission_currency|hotel_index|\n",
      "+--------------------+--------------------+-------------+--------------+--------+--------+------------------+----------+-----------+-------------+---------+---------------+-------------+--------------+------------+-------------------+-----------+\n",
      "|00000fc7-f7f1-449...|2020-01-07 09:57:...|   2020-01-26|    2020-02-01|20921655|  904882|                27|         0|     199.98|          USD|     EPRM|          24.24|         BASE|          8.21|       TAXES|                USD|        709|\n",
      "|00000fc7-f7f1-449...|2020-01-07 09:57:...|   2020-01-26|    2020-02-01|20921655|  904882|                27|         0|     199.98|          USD|     EPRM|          43.49|         BASE|          15.6|       TAXES|                USD|        710|\n",
      "|00000fc7-f7f1-449...|2020-01-07 09:57:...|   2020-01-26|    2020-02-01|20921655|  904882|                27|         0|     199.98|          USD|     EPRM|          43.49|         BASE|          15.6|       TAXES|                USD|        711|\n",
      "|00000fc7-f7f1-449...|2020-01-07 09:57:...|   2020-01-26|    2020-02-01|20921655|  904882|                27|         0|     199.98|          USD|     EPRM|          43.49|         BASE|          15.6|       TAXES|                USD|        712|\n",
      "|00000fc7-f7f1-449...|2020-01-07 09:57:...|   2020-01-26|    2020-02-01|20921655|  904882|                27|         0|     199.98|          USD|     EPRM|          33.22|         BASE|         11.26|       TAXES|                USD|        713|\n",
      "|00000fc7-f7f1-449...|2020-01-07 09:57:...|   2020-01-26|    2020-02-01|20921655|  904882|                27|         0|     199.98|          USD|     EPRM|           20.4|         BASE|          6.91|       TAXES|                USD|        714|\n",
      "|00000fc7-f7f1-449...|2020-01-07 09:57:...|   2020-01-26|    2020-02-01|20921655|  904882|                27|         1|     199.98|          USD|     EPRM|          24.24|         BASE|          8.21|       TAXES|                USD|        715|\n",
      "|00000fc7-f7f1-449...|2020-01-07 09:57:...|   2020-01-26|    2020-02-01|20921655|  904882|                27|         1|     199.98|          USD|     EPRM|          43.49|         BASE|          15.6|       TAXES|                USD|        716|\n",
      "|00000fc7-f7f1-449...|2020-01-07 09:57:...|   2020-01-26|    2020-02-01|20921655|  904882|                27|         1|     199.98|          USD|     EPRM|          43.49|         BASE|          15.6|       TAXES|                USD|        717|\n",
      "|00000fc7-f7f1-449...|2020-01-07 09:57:...|   2020-01-26|    2020-02-01|20921655|  904882|                27|         1|     199.98|          USD|     EPRM|          43.49|         BASE|          15.6|       TAXES|                USD|        718|\n",
      "|00000fc7-f7f1-449...|2020-01-07 09:57:...|   2020-01-26|    2020-02-01|20921655|  904882|                27|         1|     199.98|          USD|     EPRM|          33.22|         BASE|         11.26|       TAXES|                USD|        719|\n",
      "|00000fc7-f7f1-449...|2020-01-07 09:57:...|   2020-01-26|    2020-02-01|20921655|  904882|                27|         1|     199.98|          USD|     EPRM|           20.4|         BASE|          6.91|       TAXES|                USD|        720|\n",
      "|00000fc7-f7f1-449...|2020-01-07 09:57:...|   2020-01-26|    2020-02-01|20921655|  904882|                27|         4|      235.6|          USD|     EPRM|          30.66|         BASE|         10.39|       TAXES|                USD|        721|\n",
      "|00000fc7-f7f1-449...|2020-01-07 09:57:...|   2020-01-26|    2020-02-01|20921655|  904882|                27|         4|      235.6|          USD|     EPRM|          49.54|         BASE|         17.78|       TAXES|                USD|        722|\n",
      "|00000fc7-f7f1-449...|2020-01-07 09:57:...|   2020-01-26|    2020-02-01|20921655|  904882|                27|         4|      235.6|          USD|     EPRM|          49.54|         BASE|         17.78|       TAXES|                USD|        723|\n",
      "|00000fc7-f7f1-449...|2020-01-07 09:57:...|   2020-01-26|    2020-02-01|20921655|  904882|                27|         4|      235.6|          USD|     EPRM|          49.54|         BASE|         17.78|       TAXES|                USD|        724|\n",
      "|00000fc7-f7f1-449...|2020-01-07 09:57:...|   2020-01-26|    2020-02-01|20921655|  904882|                27|         4|      235.6|          USD|     EPRM|          39.63|         BASE|         13.43|       TAXES|                USD|        725|\n",
      "|00000fc7-f7f1-449...|2020-01-07 09:57:...|   2020-01-26|    2020-02-01|20921655|  904882|                27|         4|      235.6|          USD|     EPRM|           26.8|         BASE|          9.08|       TAXES|                USD|        726|\n",
      "|00000fc7-f7f1-449...|2020-01-07 09:57:...|   2020-01-26|    2020-02-01|20921655|  894638|                28|         0|     305.15|          USD|     EPRM|          50.83|         BASE|          15.5|       TAXES|                USD|        727|\n",
      "|00000fc7-f7f1-449...|2020-01-07 09:57:...|   2020-01-26|    2020-02-01|20921655|  894638|                28|         0|     305.15|          USD|     EPRM|          72.93|         BASE|         22.24|       TAXES|                USD|        728|\n",
      "|00000fc7-f7f1-449...|2020-01-07 09:57:...|   2020-01-26|    2020-02-01|20921655|  894638|                28|         0|     305.15|          USD|     EPRM|          72.93|         BASE|         22.24|       TAXES|                USD|        729|\n",
      "|00000fc7-f7f1-449...|2020-01-07 09:57:...|   2020-01-26|    2020-02-01|20921655|  894638|                28|         0|     305.15|          USD|     EPRM|          72.93|         BASE|         22.24|       TAXES|                USD|        730|\n",
      "|00000fc7-f7f1-449...|2020-01-07 09:57:...|   2020-01-26|    2020-02-01|20921655|  894638|                28|         0|     305.15|          USD|     EPRM|          54.23|         BASE|         16.54|       TAXES|                USD|        731|\n",
      "|00000fc7-f7f1-449...|2020-01-07 09:57:...|   2020-01-26|    2020-02-01|20921655|  894638|                28|         0|     305.15|          USD|     EPRM|          42.33|         BASE|         12.91|       TAXES|                USD|        732|\n",
      "|00000fc7-f7f1-449...|2020-01-07 09:57:...|   2020-01-26|    2020-02-01|20921655|  894638|                28|         1|     339.15|          USD|     EPRM|          57.63|         BASE|         17.58|       TAXES|                USD|        733|\n",
      "|00000fc7-f7f1-449...|2020-01-07 09:57:...|   2020-01-26|    2020-02-01|20921655|  894638|                28|         1|     339.15|          USD|     EPRM|          79.73|         BASE|         24.32|       TAXES|                USD|        734|\n",
      "|00000fc7-f7f1-449...|2020-01-07 09:57:...|   2020-01-26|    2020-02-01|20921655|  894638|                28|         1|     339.15|          USD|     EPRM|          79.73|         BASE|         24.32|       TAXES|                USD|        735|\n",
      "|00000fc7-f7f1-449...|2020-01-07 09:57:...|   2020-01-26|    2020-02-01|20921655|  894638|                28|         1|     339.15|          USD|     EPRM|          79.73|         BASE|         24.32|       TAXES|                USD|        736|\n",
      "|00000fc7-f7f1-449...|2020-01-07 09:57:...|   2020-01-26|    2020-02-01|20921655|  894638|                28|         1|     339.15|          USD|     EPRM|          61.03|         BASE|         18.61|       TAXES|                USD|        737|\n",
      "|00000fc7-f7f1-449...|2020-01-07 09:57:...|   2020-01-26|    2020-02-01|20921655|  894638|                28|         1|     339.15|          USD|     EPRM|          49.13|         BASE|         14.98|       TAXES|                USD|        738|\n",
      "|00000fc7-f7f1-449...|2020-01-07 09:57:...|   2020-01-26|    2020-02-01|20921655| 9419884|                29|         0|      269.0|          USD|     ESRM|          33.09|         BASE|         16.41|       TAXES|                USD|        739|\n",
      "|00000fc7-f7f1-449...|2020-01-07 09:57:...|   2020-01-26|    2020-02-01|20921655| 9419884|                29|         0|      269.0|          USD|     ESRM|          33.09|         BASE|         16.41|       TAXES|                USD|        740|\n",
      "|00000fc7-f7f1-449...|2020-01-07 09:57:...|   2020-01-26|    2020-02-01|20921655| 9419884|                29|         0|      269.0|          USD|     ESRM|          33.09|         BASE|         16.41|       TAXES|                USD|        741|\n",
      "|00000fc7-f7f1-449...|2020-01-07 09:57:...|   2020-01-26|    2020-02-01|20921655| 9419884|                29|         0|      269.0|          USD|     ESRM|          33.09|         BASE|         16.41|       TAXES|                USD|        742|\n",
      "|00000fc7-f7f1-449...|2020-01-07 09:57:...|   2020-01-26|    2020-02-01|20921655| 9419884|                29|         0|      269.0|          USD|     ESRM|          33.09|         BASE|         16.41|       TAXES|                USD|        743|\n",
      "|00000fc7-f7f1-449...|2020-01-07 09:57:...|   2020-01-26|    2020-02-01|20921655| 9419884|                29|         0|      269.0|          USD|     ESRM|          33.09|         BASE|         16.41|       TAXES|                USD|        744|\n",
      "|00000fc7-f7f1-449...|2020-01-07 09:57:...|   2020-01-26|    2020-02-01|20921655| 9419884|                29|         3|      289.0|          USD|     ESRM|          35.55|         BASE|         17.63|       TAXES|                USD|        745|\n",
      "|00000fc7-f7f1-449...|2020-01-07 09:57:...|   2020-01-26|    2020-02-01|20921655| 9419884|                29|         3|      289.0|          USD|     ESRM|          35.55|         BASE|         17.63|       TAXES|                USD|        746|\n",
      "|00000fc7-f7f1-449...|2020-01-07 09:57:...|   2020-01-26|    2020-02-01|20921655| 9419884|                29|         3|      289.0|          USD|     ESRM|          35.55|         BASE|         17.63|       TAXES|                USD|        747|\n",
      "|00000fc7-f7f1-449...|2020-01-07 09:57:...|   2020-01-26|    2020-02-01|20921655| 9419884|                29|         3|      289.0|          USD|     ESRM|          35.55|         BASE|         17.63|       TAXES|                USD|        748|\n",
      "|00000fc7-f7f1-449...|2020-01-07 09:57:...|   2020-01-26|    2020-02-01|20921655| 9419884|                29|         3|      289.0|          USD|     ESRM|          35.55|         BASE|         17.63|       TAXES|                USD|        749|\n",
      "|00000fc7-f7f1-449...|2020-01-07 09:57:...|   2020-01-26|    2020-02-01|20921655| 9419884|                29|         3|      289.0|          USD|     ESRM|          35.55|         BASE|         17.63|       TAXES|                USD|        750|\n",
      "|00003a03-be26-441...|2020-01-07 12:22:...|   2020-02-02|    2020-02-08|21549467|    5404|                 1|         0|     372.04|          USD|     ESRM|          149.8|         BASE|         45.69|       TAXES|                USD|          1|\n",
      "|00003a03-be26-441...|2020-01-07 12:22:...|   2020-02-02|    2020-02-08|21549467|    5404|                 1|         0|     372.04|          USD|     ESRM|          40.63|         BASE|         12.39|       TAXES|                USD|          2|\n",
      "|00003a03-be26-441...|2020-01-07 12:22:...|   2020-02-02|    2020-02-08|21549467|    5404|                 1|         0|     372.04|          USD|     ESRM|          57.63|         BASE|         17.58|       TAXES|                USD|          3|\n",
      "|00003a03-be26-441...|2020-01-07 12:22:...|   2020-02-02|    2020-02-08|21549467|    5404|                 1|         0|     372.04|          USD|     ESRM|          57.63|         BASE|         17.58|       TAXES|                USD|          4|\n",
      "|00003a03-be26-441...|2020-01-07 12:22:...|   2020-02-02|    2020-02-08|21549467|    5404|                 1|         0|     372.04|          USD|     ESRM|          71.23|         BASE|         21.73|       TAXES|                USD|          5|\n",
      "|00003a03-be26-441...|2020-01-07 12:22:...|   2020-02-02|    2020-02-08|21549467|    5404|                 1|         0|     372.04|          USD|     ESRM|          69.53|         BASE|         21.21|       TAXES|                USD|          6|\n",
      "|00003a03-be26-441...|2020-01-07 12:22:...|   2020-02-02|    2020-02-08|21549467|    5404|                 1|         1|     372.04|          USD|     ESRM|          149.8|         BASE|         45.69|       TAXES|                USD|          7|\n",
      "|00003a03-be26-441...|2020-01-07 12:22:...|   2020-02-02|    2020-02-08|21549467|    5404|                 1|         1|     372.04|          USD|     ESRM|          40.63|         BASE|         12.39|       TAXES|                USD|          8|\n",
      "+--------------------+--------------------+-------------+--------------+--------+--------+------------------+----------+-----------+-------------+---------+---------------+-------------+--------------+------------+-------------------+-----------+\n",
      "only showing top 50 rows"
     ]
    }
   ],
   "source": [
    "search_below_peterman_df.show(50)"
   ]
  },
  {
   "cell_type": "code",
   "execution_count": 25,
   "metadata": {},
   "outputs": [
    {
     "name": "stdout",
     "output_type": "stream",
     "text": [
      "58860003"
     ]
    }
   ],
   "source": [
    " print(search_below_peterman_df.filter(F.col(\"rate_currency\")==F.col(\"commission_currency\")).count())"
   ]
  },
  {
   "cell_type": "markdown",
   "metadata": {},
   "source": [
    "## Exchange currency to USD"
   ]
  },
  {
   "cell_type": "code",
   "execution_count": 11,
   "metadata": {
    "collapsed": true
   },
   "outputs": [
    {
     "name": "stdout",
     "output_type": "stream",
     "text": [
      "+-------------------+--------------+----------------+-------------------+\n",
      "|          timestamp|exch_rate_date|fromcurrencycode|       exchangerate|\n",
      "+-------------------+--------------+----------------+-------------------+\n",
      "|2020-01-01 00:00:00|    2020-01-01|             AED|  0.272257010618023|\n",
      "|2020-01-01 00:00:00|    2020-01-01|             AFN| 0.0129614435937417|\n",
      "|2020-01-01 00:00:00|    2020-01-01|             ALL|0.00916170407695831|\n",
      "|2020-01-01 00:00:00|    2020-01-01|             AMD|0.00208768267223382|\n",
      "|2020-01-01 00:00:00|    2020-01-01|             ANG|  0.566059096569682|\n",
      "|2020-01-01 00:00:00|    2020-01-01|             AOA|0.00207380248275633|\n",
      "|2020-01-01 00:00:00|    2020-01-01|             ARS| 0.0167021029617839|\n",
      "|2020-01-01 00:00:00|    2020-01-01|             AUD|  0.701803635342831|\n",
      "|2020-01-01 00:00:00|    2020-01-01|             AWG|  0.558659217877095|\n",
      "|2020-01-01 00:00:00|    2020-01-01|             AZN|  0.587958607714017|\n",
      "|2020-01-01 00:00:00|    2020-01-01|             BAM|  0.574382538770821|\n",
      "|2020-01-01 00:00:00|    2020-01-01|             BBD|  0.494902504206671|\n",
      "|2020-01-01 00:00:00|    2020-01-01|             BDT| 0.0117820324005891|\n",
      "|2020-01-01 00:00:00|    2020-01-01|             BGN|  0.573591832052312|\n",
      "|2020-01-01 00:00:00|    2020-01-01|             BHD|   2.65237918412816|\n",
      "|2020-01-01 00:00:00|    2020-01-01|             BIF|5.29380624669137E-4|\n",
      "|2020-01-01 00:00:00|    2020-01-01|             BMD|                1.0|\n",
      "|2020-01-01 00:00:00|    2020-01-01|             BND|  0.743383883437407|\n",
      "|2020-01-01 00:00:00|    2020-01-01|             BOB|  0.144717800289436|\n",
      "|2020-01-01 00:00:00|    2020-01-01|             BRL|   0.24845337772367|\n",
      "|2020-01-01 00:00:00|    2020-01-01|             BSD|                1.0|\n",
      "|2020-01-01 00:00:00|    2020-01-01|             BTN|  0.014040014040014|\n",
      "|2020-01-01 00:00:00|    2020-01-01|             BWP| 0.0942995897967844|\n",
      "|2020-01-01 00:00:00|    2020-01-01|             BYN|  0.474495848161329|\n",
      "|2020-01-01 00:00:00|    2020-01-01|             BZD|                0.5|\n",
      "|2020-01-01 00:00:00|    2020-01-01|             CAD|  0.770653514180025|\n",
      "|2020-01-01 00:00:00|    2020-01-01|             CDF|5.99661527047673E-4|\n",
      "|2020-01-01 00:00:00|    2020-01-01|             CHF|   1.03327133705311|\n",
      "|2020-01-01 00:00:00|    2020-01-01|             CLP|0.00132825056118586|\n",
      "|2020-01-01 00:00:00|    2020-01-01|             CNY|  0.143612132352941|\n",
      "|2020-01-01 00:00:00|    2020-01-01|             COP|3.04207493847403E-4|\n",
      "|2020-01-01 00:00:00|    2020-01-01|             CRC|0.00174431788449127|\n",
      "|2020-01-01 00:00:00|    2020-01-01|             CUP|                1.0|\n",
      "|2020-01-01 00:00:00|    2020-01-01|             CVE|  0.010074409589226|\n",
      "|2020-01-01 00:00:00|    2020-01-01|             CZK| 0.0441327690223268|\n",
      "|2020-01-01 00:00:00|    2020-01-01|             DJF|0.00562682871933378|\n",
      "|2020-01-01 00:00:00|    2020-01-01|             DKK|  0.150156913975104|\n",
      "|2020-01-01 00:00:00|    2020-01-01|             DOP| 0.0188355841856435|\n",
      "|2020-01-01 00:00:00|    2020-01-01|             DZD|0.00838244749025331|\n",
      "|2020-01-01 00:00:00|    2020-01-01|             EGP| 0.0623429736351565|\n",
      "|2020-01-01 00:00:00|    2020-01-01|             ETB| 0.0311682806641337|\n",
      "|2020-01-01 00:00:00|    2020-01-01|             EUR|   1.12183082791115|\n",
      "|2020-01-01 00:00:00|    2020-01-01|             FJD|  0.466504944952417|\n",
      "|2020-01-01 00:00:00|    2020-01-01|             GBP|    1.3250298131708|\n",
      "|2020-01-01 00:00:00|    2020-01-01|             GEL|  0.349344978165939|\n",
      "|2020-01-01 00:00:00|    2020-01-01|             GHS|  0.175106815157246|\n",
      "|2020-01-01 00:00:00|    2020-01-01|             GMD| 0.0195121951219512|\n",
      "|2020-01-01 00:00:00|    2020-01-01|             GNF|1.04177518491509E-4|\n",
      "|2020-01-01 00:00:00|    2020-01-01|             GTQ|   0.12988969766874|\n",
      "|2020-01-01 00:00:00|    2020-01-01|             GYD|0.00482625482625483|\n",
      "+-------------------+--------------+----------------+-------------------+\n",
      "only showing top 50 rows"
     ]
    }
   ],
   "source": [
    "sqlCurrency = \"\"\"select DISTINCT\n",
    "                 a.exchangeratedate as timestamp,\n",
    "                 trunc(a.exchangeratedate) as exch_rate_date,\n",
    "                 a.fromcurrencycode,\n",
    "                 a.exchangerate\n",
    "                 from public.exchangeratedailyfull a\n",
    "                 where trunc(a.exchangeratedate)>=to_date('20200101','YYYYMMDD') \n",
    "                 and trunc(a.exchangeratedate)<=to_date('20200401','YYYYMMDD') \n",
    "                 and tocurrencycode = 'USD' \"\"\"\n",
    "connection_string = \"jdbc:redshift://egencia-reporting.czjkedodj6lc.us-west-2.redshift.amazonaws.com:5439/egedatamart?user=ds_rpt_user&password=Jan2019!\";\n",
    "\n",
    "currency_df = sqlContext.read.\\\n",
    "    format(\"com.databricks.spark.redshift\").\\\n",
    "    option(\"url\", connection_string).\\\n",
    "    option(\"query\", sqlCurrency).\\\n",
    "    option(\"tempdir\", \"s3a://ege-ds-workshops-corp/yixli/\").\\\n",
    "    load().\\\n",
    "    dropDuplicates().\\\n",
    "    orderBy([\"exch_rate_date\",\"fromcurrencycode\"],ascending=True)\n",
    "\n",
    "currency_df.show(50)"
   ]
  },
  {
   "cell_type": "code",
   "execution_count": 12,
   "metadata": {},
   "outputs": [],
   "source": [
    "search_below_peterman_df.registerTempTable(\"search_below_peterman_df\")\n",
    "currency_df.registerTempTable(\"currency_df\")"
   ]
  },
  {
   "cell_type": "code",
   "execution_count": 13,
   "metadata": {
    "scrolled": true
   },
   "outputs": [],
   "source": [
    "search_below_peterman_usd_df = sqlContext.sql(\"select\\\n",
    "                             a.*,\\\n",
    "                             a.rate_amount*COALESCE(ex1.exchangerate,1) AS src_rate_amount_usd,\\\n",
    "                             a.commission_base*COALESCE(ex2.exchangerate,1) AS src_commission_base_usd,\\\n",
    "                             a.commission_tax*COALESCE(ex2.exchangerate,1) AS src_commission_tax_usd\\\n",
    "                             from search_below_peterman_df a\\\n",
    "                             left join currency_df ex1 on to_date(a.message_date)=ex1.exch_rate_date and a.rate_currency=ex1.FromCurrencyCode\\\n",
    "                             left join currency_df ex2 on to_date(a.message_date)=ex2.exch_rate_date and a.commission_currency=ex2.FromCurrencyCode\").\\\n",
    "                             dropDuplicates()"
   ]
  },
  {
   "cell_type": "code",
   "execution_count": 14,
   "metadata": {},
   "outputs": [],
   "source": [
    "search_below_peterman_usd_df = search_below_peterman_usd_df.filter(F.col(\"src_commission_base_usd\").isNotNull())"
   ]
  },
  {
   "cell_type": "code",
   "execution_count": 15,
   "metadata": {},
   "outputs": [
    {
     "name": "stdout",
     "output_type": "stream",
     "text": [
      "94669936"
     ]
    }
   ],
   "source": [
    "search_below_peterman_usd_df.count()"
   ]
  },
  {
   "cell_type": "code",
   "execution_count": 18,
   "metadata": {
    "collapsed": true
   },
   "outputs": [
    {
     "name": "stdout",
     "output_type": "stream",
     "text": [
      "+-----------+-------------+-------------------+-----------------------+----------------------+\n",
      "|rate_amount|rate_currency|src_rate_amount_usd|src_commission_base_usd|src_commission_tax_usd|\n",
      "+-----------+-------------+-------------------+-----------------------+----------------------+\n",
      "|    1463.99|          SEK| 156.29063319857548|     35.359930097970924|    2.1212542664467566|\n",
      "|     1508.0|          SEK| 160.98899339176492|      25.87353616491249|    3.1044827026193893|\n",
      "|    1635.84|          SEK| 174.63675692800481|      39.51062827380042|      2.37106458610164|\n",
      "|    1635.84|          SEK| 174.63675692800481|      39.51062827380042|      2.37106458610164|\n",
      "|     1685.0|          SEK| 179.88491635618297|     28.909693266108935|    3.4695903748225203|\n",
      "|     1685.0|          SEK| 179.88491635618297|     28.909693266108935|    3.4695903748225203|\n",
      "|    1872.71|          SEK| 199.92419862470794|      45.23171551936102|     2.713753464390683|\n",
      "|     1929.0|          SEK| 205.93353332408128|      33.09668830413598|    3.9713466027841577|\n",
      "|      591.5|          SEK| 63.146544821769865|     10.208068959078275|    0.8508502941349678|\n",
      "|      591.5|          SEK| 63.146544821769865|     10.208068959078275|    0.8508502941349678|\n",
      "|      591.5|          SEK| 63.146544821769865|     10.208068959078275|    0.8508502941349678|\n",
      "|     595.01|          SEK|  63.52126162479588|     10.208068959078275|     1.225566028144926|\n",
      "|     595.01|          SEK|  63.52126162479588|     10.208068959078275|     1.225566028144926|\n",
      "|     595.01|          SEK|  63.52126162479588|     10.208068959078275|     1.225566028144926|\n",
      "|      695.0|          SEK|  74.19585570774312|     11.924714900902337|    1.4305387599716333|\n",
      "|     945.01|          SEK| 100.88608104596149|      16.21312840870575|    1.9461732598388342|\n",
      "|     685.93|          SEK|  73.22757231969146|     11.838242293735364|    0.9864312082841191|\n",
      "|      690.0|          SEK|  73.66207257315504|     11.838242293735364|    1.4209307490703325|\n",
      "|     884.75|          SEK|  94.45292566536077|      15.26940021770847|     1.272539001002867|\n",
      "|     889.99|          SEK|  95.01232934786388|      15.26940021770847|     1.831943701616522|\n",
      "|     984.17|          SEK| 105.06666768905608|     16.986046974020958|     1.415592897362241|\n",
      "|      990.0|          SEK| 105.68906064843985|     16.986046974020958|     2.037984024147058|\n",
      "|    1185.76|          SEK| 126.58773897637754|     15.823467372047192|    1.8992004906029998|\n",
      "|     1255.5|          SEK|  134.0329450950669|      16.75438528908695|     2.010227276713825|\n",
      "|    1270.75|          SEK| 135.66098365556053|     16.958290837454044|    2.0347812520355713|\n",
      "|    1325.25|          SEK|  141.4792198225706|      17.68530320612671|    2.1223216535284792|\n",
      "|    1395.01|          SEK| 148.92656315888868|     18.616221123166472|      2.23441623396524|\n",
      "|    1420.25|          SEK| 151.62109937974412|      18.95250384636622|    2.2739160718963785|\n",
      "|    1420.25|          SEK| 151.62109937974412|      18.95250384636622|    2.2739160718963785|\n",
      "|     1495.0|          SEK| 159.60115724183592|      19.94961035082231|     2.394551174341664|\n",
      "|     1495.0|          SEK| 159.60115724183592|      19.94961035082231|     2.394551174341664|\n",
      "|     1250.0|          SEK|    133.44578364702|     21.446338716320806|     2.573902340142796|\n",
      "|    1449.99|          SEK| 154.79604042172883|      24.87749664029391|    2.9849151908779326|\n",
      "|    1449.99|          SEK| 154.79604042172883|      24.87749664029391|    2.9849151908779326|\n",
      "|     1550.0|          SEK|  165.4727717223048|       26.5941433966064|    3.1909555134084684|\n",
      "|     1950.0|          SEK|  208.1754224893512|      33.45646087352946|     4.015116803530612|\n",
      "|      405.0|          SEK| 43.236433901634484|      6.949856249439117|    0.8337692501179178|\n",
      "|      405.0|          SEK| 43.236433901634484|      6.949856249439117|    0.8337692501179178|\n",
      "|      630.0|          SEK|  67.25667495809809|     10.809108475408621|     1.297092976324613|\n",
      "|      895.5|          SEK|  95.60055940472513|     15.364413550506073|    1.8436869957365338|\n",
      "|      895.5|          SEK|  95.60055940472513|     15.364413550506073|    1.8436869957365338|\n",
      "|      895.5|          SEK|  95.60055940472513|     15.364413550506073|    1.8436869957365338|\n",
      "|     647.18|          SEK|  69.09075302663383|        11.103756993758|    1.3323226550625422|\n",
      "|      719.1|          SEK|   76.7686878100947|     12.337863340289344|    1.4807144031300077|\n",
      "|     809.19|          SEK|  86.38639519610199|     13.883699656431332|    1.6664709095320067|\n",
      "|     899.09|          SEK|  95.98381856235864|     15.425265609758004|      1.85115992704123|\n",
      "|      989.1|          SEK| 105.59297707785103|     16.968965522759692|     2.036916433443229|\n",
      "|    1079.11|          SEK| 115.20214210925083|     18.514801024413256|     2.221605349141399|\n",
      "|      895.0|          SEK|  95.54718109126632|     15.355872824875442|     1.842619405032705|\n",
      "|      895.0|          SEK|  95.54718109126632|     15.355872824875442|     1.842619405032705|\n",
      "+-----------+-------------+-------------------+-----------------------+----------------------+\n",
      "only showing top 50 rows"
     ]
    }
   ],
   "source": [
    "search_below_peterman_usd_df.select(\"rate_amount\",\"rate_currency\",\"src_rate_amount_usd\",\"src_commission_base_usd\",\"src_commission_tax_usd\").show(50)"
   ]
  },
  {
   "cell_type": "markdown",
   "metadata": {},
   "source": [
    "## Booking data"
   ]
  },
  {
   "cell_type": "code",
   "execution_count": null,
   "metadata": {},
   "outputs": [],
   "source": [
    "'''\n",
    "wget https://s3.amazonaws.com/redshift-downloads/drivers/jdbc/1.2.20.1043/RedshiftJDBC42-no-awssdk-1.2.20.1043.jar\n",
    "wget https://repo1.maven.org/maven2/com/databricks/spark-avro_2.11/3.2.0/spark-avro_2.11-3.2.0.jar\n",
    "wget https://repo1.maven.org/maven2/com/databricks/spark-redshift_2.11/2.0.1/spark-redshift_2.11-2.0.1.jar\n",
    "wget https://repo1.maven.org/maven2/com/databricks/spark-csv_2.11/1.5.0/spark-csv_2.11-1.5.0.jar\n",
    "wget https://repo1.maven.org/maven2/com/eclipsesource/minimal-json/minimal-json/0.9.5/minimal-json-0.9.5.jar\n",
    "sudo cp *.jar /usr/lib/spark/jars\n",
    "'''"
   ]
  },
  {
   "cell_type": "code",
   "execution_count": 18,
   "metadata": {
    "collapsed": true
   },
   "outputs": [
    {
     "name": "stderr",
     "output_type": "stream",
     "text": [
      "An error occurred while calling o177.load.\n",
      ": java.sql.SQLException: [Amazon](500310) Invalid operation: column a.rate_amount does not exist;\n",
      "\tat com.amazon.redshift.client.messages.inbound.ErrorResponse.toErrorException(Unknown Source)\n",
      "\tat com.amazon.redshift.client.PGMessagingContext.handleErrorResponse(Unknown Source)\n",
      "\tat com.amazon.redshift.client.PGMessagingContext.handleMessage(Unknown Source)\n",
      "\tat com.amazon.jdbc.communications.InboundMessagesPipeline.getNextMessageOfClass(Unknown Source)\n",
      "\tat com.amazon.redshift.client.PGMessagingContext.doMoveToNextClass(Unknown Source)\n",
      "\tat com.amazon.redshift.client.PGMessagingContext.getParameterDescription(Unknown Source)\n",
      "\tat com.amazon.redshift.client.PGClient.prepareStatement(Unknown Source)\n",
      "\tat com.amazon.redshift.dataengine.PGQueryExecutor.<init>(Unknown Source)\n",
      "\tat com.amazon.redshift.dataengine.PGDataEngine.prepare(Unknown Source)\n",
      "\tat com.amazon.jdbc.common.SPreparedStatement.<init>(Unknown Source)\n",
      "\tat com.amazon.jdbc.jdbc41.S41PreparedStatement.<init>(Unknown Source)\n",
      "\tat com.amazon.jdbc.jdbc42.S42PreparedStatement.<init>(Unknown Source)\n",
      "\tat com.amazon.redshift.core.jdbc42.PGJDBC42PreparedStatement.<init>(Unknown Source)\n",
      "\tat com.amazon.redshift.core.jdbc42.PGJDBC42ObjectFactory.createPreparedStatement(Unknown Source)\n",
      "\tat com.amazon.jdbc.common.SConnection.prepareStatement(Unknown Source)\n",
      "\tat com.amazon.jdbc.common.SConnection.prepareStatement(Unknown Source)\n",
      "\tat com.databricks.spark.redshift.JDBCWrapper.resolveTable(RedshiftJDBCWrapper.scala:154)\n",
      "\tat com.databricks.spark.redshift.RedshiftRelation$$anonfun$schema$1.apply(RedshiftRelation.scala:65)\n",
      "\tat com.databricks.spark.redshift.RedshiftRelation$$anonfun$schema$1.apply(RedshiftRelation.scala:60)\n",
      "\tat scala.Option.getOrElse(Option.scala:121)\n",
      "\tat com.databricks.spark.redshift.RedshiftRelation.schema$lzycompute(RedshiftRelation.scala:60)\n",
      "\tat com.databricks.spark.redshift.RedshiftRelation.schema(RedshiftRelation.scala:59)\n",
      "\tat org.apache.spark.sql.execution.datasources.DataSource.resolveRelation(DataSource.scala:403)\n",
      "\tat org.apache.spark.sql.DataFrameReader.loadV1Source(DataFrameReader.scala:223)\n",
      "\tat org.apache.spark.sql.DataFrameReader.load(DataFrameReader.scala:211)\n",
      "\tat org.apache.spark.sql.DataFrameReader.load(DataFrameReader.scala:167)\n",
      "\tat sun.reflect.NativeMethodAccessorImpl.invoke0(Native Method)\n",
      "\tat sun.reflect.NativeMethodAccessorImpl.invoke(NativeMethodAccessorImpl.java:62)\n",
      "\tat sun.reflect.DelegatingMethodAccessorImpl.invoke(DelegatingMethodAccessorImpl.java:43)\n",
      "\tat java.lang.reflect.Method.invoke(Method.java:498)\n",
      "\tat py4j.reflection.MethodInvoker.invoke(MethodInvoker.java:244)\n",
      "\tat py4j.reflection.ReflectionEngine.invoke(ReflectionEngine.java:357)\n",
      "\tat py4j.Gateway.invoke(Gateway.java:282)\n",
      "\tat py4j.commands.AbstractCommand.invokeMethod(AbstractCommand.java:132)\n",
      "\tat py4j.commands.CallCommand.execute(CallCommand.java:79)\n",
      "\tat py4j.GatewayConnection.run(GatewayConnection.java:238)\n",
      "Caused by: com.amazon.support.exceptions.ErrorException: [Amazon](500310) Invalid operation: column a.rate_amount does not exist;\n",
      "\t... 36 more\n",
      "\n",
      "Traceback (most recent call last):\n",
      "  File \"/usr/lib/spark/python/lib/pyspark.zip/pyspark/sql/readwriter.py\", line 172, in load\n",
      "    return self._df(self._jreader.load())\n",
      "  File \"/usr/lib/spark/python/lib/py4j-0.10.7-src.zip/py4j/java_gateway.py\", line 1257, in __call__\n",
      "    answer, self.gateway_client, self.target_id, self.name)\n",
      "  File \"/usr/lib/spark/python/lib/pyspark.zip/pyspark/sql/utils.py\", line 63, in deco\n",
      "    return f(*a, **kw)\n",
      "  File \"/usr/lib/spark/python/lib/py4j-0.10.7-src.zip/py4j/protocol.py\", line 328, in get_return_value\n",
      "    format(target_id, \".\", name), value)\n",
      "py4j.protocol.Py4JJavaError: An error occurred while calling o177.load.\n",
      ": java.sql.SQLException: [Amazon](500310) Invalid operation: column a.rate_amount does not exist;\n",
      "\tat com.amazon.redshift.client.messages.inbound.ErrorResponse.toErrorException(Unknown Source)\n",
      "\tat com.amazon.redshift.client.PGMessagingContext.handleErrorResponse(Unknown Source)\n",
      "\tat com.amazon.redshift.client.PGMessagingContext.handleMessage(Unknown Source)\n",
      "\tat com.amazon.jdbc.communications.InboundMessagesPipeline.getNextMessageOfClass(Unknown Source)\n",
      "\tat com.amazon.redshift.client.PGMessagingContext.doMoveToNextClass(Unknown Source)\n",
      "\tat com.amazon.redshift.client.PGMessagingContext.getParameterDescription(Unknown Source)\n",
      "\tat com.amazon.redshift.client.PGClient.prepareStatement(Unknown Source)\n",
      "\tat com.amazon.redshift.dataengine.PGQueryExecutor.<init>(Unknown Source)\n",
      "\tat com.amazon.redshift.dataengine.PGDataEngine.prepare(Unknown Source)\n",
      "\tat com.amazon.jdbc.common.SPreparedStatement.<init>(Unknown Source)\n",
      "\tat com.amazon.jdbc.jdbc41.S41PreparedStatement.<init>(Unknown Source)\n",
      "\tat com.amazon.jdbc.jdbc42.S42PreparedStatement.<init>(Unknown Source)\n",
      "\tat com.amazon.redshift.core.jdbc42.PGJDBC42PreparedStatement.<init>(Unknown Source)\n",
      "\tat com.amazon.redshift.core.jdbc42.PGJDBC42ObjectFactory.createPreparedStatement(Unknown Source)\n",
      "\tat com.amazon.jdbc.common.SConnection.prepareStatement(Unknown Source)\n",
      "\tat com.amazon.jdbc.common.SConnection.prepareStatement(Unknown Source)\n",
      "\tat com.databricks.spark.redshift.JDBCWrapper.resolveTable(RedshiftJDBCWrapper.scala:154)\n",
      "\tat com.databricks.spark.redshift.RedshiftRelation$$anonfun$schema$1.apply(RedshiftRelation.scala:65)\n",
      "\tat com.databricks.spark.redshift.RedshiftRelation$$anonfun$schema$1.apply(RedshiftRelation.scala:60)\n",
      "\tat scala.Option.getOrElse(Option.scala:121)\n",
      "\tat com.databricks.spark.redshift.RedshiftRelation.schema$lzycompute(RedshiftRelation.scala:60)\n",
      "\tat com.databricks.spark.redshift.RedshiftRelation.schema(RedshiftRelation.scala:59)\n",
      "\tat org.apache.spark.sql.execution.datasources.DataSource.resolveRelation(DataSource.scala:403)\n",
      "\tat org.apache.spark.sql.DataFrameReader.loadV1Source(DataFrameReader.scala:223)\n",
      "\tat org.apache.spark.sql.DataFrameReader.load(DataFrameReader.scala:211)\n",
      "\tat org.apache.spark.sql.DataFrameReader.load(DataFrameReader.scala:167)\n",
      "\tat sun.reflect.NativeMethodAccessorImpl.invoke0(Native Method)\n",
      "\tat sun.reflect.NativeMethodAccessorImpl.invoke(NativeMethodAccessorImpl.java:62)\n",
      "\tat sun.reflect.DelegatingMethodAccessorImpl.invoke(DelegatingMethodAccessorImpl.java:43)\n",
      "\tat java.lang.reflect.Method.invoke(Method.java:498)\n",
      "\tat py4j.reflection.MethodInvoker.invoke(MethodInvoker.java:244)\n",
      "\tat py4j.reflection.ReflectionEngine.invoke(ReflectionEngine.java:357)\n",
      "\tat py4j.Gateway.invoke(Gateway.java:282)\n",
      "\tat py4j.commands.AbstractCommand.invokeMethod(AbstractCommand.java:132)\n",
      "\tat py4j.commands.CallCommand.execute(CallCommand.java:79)\n",
      "\tat py4j.GatewayConnection.run(GatewayConnection.java:238)\n",
      "Caused by: com.amazon.support.exceptions.ErrorException: [Amazon](500310) Invalid operation: column a.rate_amount does not exist;\n",
      "\t... 36 more\n",
      "\n",
      "\n"
     ]
    }
   ],
   "source": [
    "sqlBookings = \"\"\"SELECT \n",
    "      a.hotelfactid,\n",
    "      a.hotelid as hotel_id,\n",
    "     trunc(a.issuedate) as issue_date,\n",
    "     trunc(a.traveldatestart) as check_in_date,\n",
    "     trunc(a.traveldateend) as check_out_date,\n",
    "      (case when a.customersystemid=1 then a.TUIDTraveler else g.TUIDInternal end) as tuid,      \n",
    "      a.travelproductid AS travel_product_id,\n",
    "      a.GroupAccountID AS group_account_id,\n",
    "      hsp.rate_type AS hotel_rate_type,\n",
    "      (case  \n",
    "        when a.hotelrateTypeSupplyid IN (1,2,3,4,5,10,11,14,16,17,18,20,25,26,28,29,30,32) then 'GDS'\n",
    "        when a.hotelrateTypeSupplyid IN (12,13,15,19,21,22,23,27,31,33,34) then 'NEG'\n",
    "        when a.hotelrateTypeSupplyid = 6 then 'ESRA'\n",
    "        when a.hotelrateTypeSupplyid = 7 then 'ESRM'\n",
    "        when a.hotelrateTypeSupplyid = 8 then 'EPRA'\n",
    "        when a.hotelrateTypeSupplyid = 9 then 'EPRM'\n",
    "        when a.hotelrateTypeSupplyid IN (24,35) then 'HOTMIP'\n",
    "        else 'UNK'\n",
    "        end) as bk_rate_type,\n",
    "      CASE WHEN a.OnlineBool = 1 THEN 'online' ELSE 'offline' END AS booking_type,\n",
    "      a.bookingamtgross::DOUBLE precision*COALESCE(ex.exchangerate,1::DOUBLE precision) AS gross_booking_value_usd,\n",
    "      a.bookingamtcommissionest::DOUBLE precision*COALESCE(ex.exchangerate,1::DOUBLE precision)\n",
    "        + a.bookingamtgross::DOUBLE precision*COALESCE(ex.exchangerate,1::DOUBLE precision)*NVL(hsp.commission,0.00) AS total_commission,\n",
    "      a.bookingamtmargin::DOUBLE precision*COALESCE(ex.exchangerate,1::DOUBLE precision) AS total_markup,\n",
    "      NVL(hsp.gds,0.00) AS total_gds,\n",
    "      NVL(total_commission,0.00) + NVL(total_markup,0.00) + NVL(total_gds,0.00) AS total_supply_revenue\n",
    "FROM public.HotelFact a\n",
    "  JOIN public.ExchangeRateDailySubset ex\n",
    "    ON a.IssueDateTimeID = ex.TimeID AND a.CurrencyCode = ex.FromCurrencyCode AND ex.ToCurrencyCode = 'USD'\n",
    "  JOIN TravelerAccountDim g \n",
    "    ON a.TUIDTraveler = g.TUID AND a.customersystemid=g.customersystemid \n",
    "  JOIN public.GroupAccountdim d \n",
    "    ON a.GroupAccountID = d.GroupAccountID \n",
    "  JOIN public.hotel_supply hsp \n",
    "    ON hsp.year = EXTRACT (year FROM a.IssueDate)\n",
    "    AND hsp.quarter = EXTRACT (quarter FROM a.IssueDate)\n",
    "    AND hsp.rate_type = CASE\n",
    "         WHEN a.HotelRateTypeSupplyID IN (7,9,24) THEN 'Expedia Collect'\n",
    "         WHEN a.HotelRateTypeSupplyID IN (6,8,35) THEN 'Hotel Collect'\n",
    "         WHEN a.HotelRateTypeSupplyID IN (12,13,15,19,21,22,23,27,31,33,34) THEN 'Negotiated'\n",
    "         ELSE 'Published & GDS' END\n",
    "    AND hsp.travel_product_id = a.TravelProductID\n",
    "WHERE a.CustomerSystemID IN (1,2)\n",
    "AND   (d.groupaccountinternaltypeid = 1 OR d.groupaccountinternaltypeid = 3)\n",
    "AND a.BookingTypeID in (1,3) \n",
    "and a.issuedate>=to_date('20200101','YYYYMMDD') \n",
    "and a.issuedate<=to_date('20200401','YYYYMMDD')\"\"\".replace('\\n',' ')\n",
    "\n",
    "connection_string = \"jdbc:redshift://egencia-reporting.czjkedodj6lc.us-west-2.redshift.amazonaws.com:5439/egedatamart?user=ds_rpt_user&password=Jan2019!\";\n",
    "\n",
    "bookings_df = sqlContext.read.\\\n",
    "    format(\"com.databricks.spark.redshift\").\\\n",
    "    option(\"url\", connection_string).\\\n",
    "    option(\"query\", sqlBookings).\\\n",
    "    option(\"tempdir\", \"s3a://ege-ds-workshops-corp/yixli/\").\\\n",
    "    load()\n",
    "\n",
    "bookings_df.cache()\n",
    "bookings_df.count()"
   ]
  },
  {
   "cell_type": "code",
   "execution_count": 4,
   "metadata": {
    "collapsed": true
   },
   "outputs": [
    {
     "name": "stdout",
     "output_type": "stream",
     "text": [
      "+-----------+--------+----------+-------------+--------------+--------+-----------------+----------------+---------------+------------+------------+-----------------------+------------------+------------------+---------+--------------------+\n",
      "|hotelfactid|hotel_id|issue_date|check_in_date|check_out_date|    tuid|travel_product_id|group_account_id|hotel_rate_type|bk_rate_type|booking_type|gross_booking_value_usd|  total_commission|      total_markup|total_gds|total_supply_revenue|\n",
      "+-----------+--------+----------+-------------+--------------+--------+-----------------+----------------+---------------+------------+------------+-----------------------+------------------+------------------+---------+--------------------+\n",
      "|   89579450|   10971|2020-01-01|   2020-01-05|    2020-01-09|19466814|            60086|           34972|Expedia Collect|        ESRM|      online|      486.9729434742641|               0.0| 87.63766659007344|    0E-18|   87.63766659007344|\n",
      "|   89577955| 4027043|2020-01-01|   2020-01-02|    2020-01-04|21188726|            60086|           44256|  Hotel Collect|        ESRA|      online|        99.956916360294|               0.0|               0.0|    0E-18|                 0.0|\n",
      "|   89579391| 6253685|2020-01-01|   2020-01-06|    2020-01-07|18885566|            60086|           41419|Expedia Collect|        ESRM|      online|     200.94209558823508|               0.0| 32.15044806985291|    0E-18|   32.15044806985291|\n",
      "|   89580959| 4326646|2020-01-01|   2020-01-02|    2020-01-03|18081114|            60086|           42563|     Negotiated|         NEG|      online|      122.0717486213234|               0.0|               0.0|    0E-18|                 0.0|\n",
      "|   89580530| 2427310|2020-01-01|   2020-01-13|    2020-01-17|17399687|            60086|           19713|     Negotiated|         NEG|      online|      569.3359374999993|               0.0|               0.0|    0E-18|                 0.0|\n",
      "|   89579496| 2366900|2020-01-01|   2020-01-01|    2020-01-03|19432549|            60086|           38245|Expedia Collect|        ESRM|      online|      464.8437499999995|               0.0| 71.11960018382345|    0E-18|   71.11960018382345|\n",
      "|   89580009| 8800100|2020-01-01|   2020-01-31|    2020-02-01|17300927|            60086|           41897|     Negotiated|         NEG|      online|      79.03693704044109|               0.0|               0.0|    0E-18|                 0.0|\n",
      "|   89579795| 1667164|2020-01-01|   2020-01-06|    2020-01-08|    null|            60086|           41419|Published & GDS|         GDS|      online|     351.64866727941137| 28.13189338235291|               0.0|    0E-18|   28.13189338235291|\n",
      "|   89579563| 3907644|2020-01-01|   2020-01-05|    2020-01-06|    null|            60086|           41419|Published & GDS|         GDS|      online|     133.96139705882337| 10.71691176470587|               0.0|    0E-18|   10.71691176470587|\n",
      "|   89579608| 4642519|2020-01-01|   2020-01-01|    2020-01-04|15988114|            60086|           37647|     Negotiated|         NEG|      online|       204.650160845588|               0.0|               0.0|    0E-18|                 0.0|\n",
      "|   89580387|  552973|2020-01-01|   2020-01-13|    2020-01-17|15988401|            60086|           37647|     Negotiated|         NEG|      online|      804.4873764935652|               0.0|               0.0|    0E-18|                 0.0|\n",
      "|   89578500|22397671|2020-01-01|   2020-01-22|    2020-01-24|14492393|            60086|           34807|Expedia Collect|        ESRM|      online|      318.1611902573526|               0.0| 57.26964613970581|    0E-18|   57.26964613970581|\n",
      "|   89610113|  444214|2020-01-02|   2020-01-26|    2020-01-30|18535208|            60085|           37849|     Negotiated|         NEG|      online|     245.72768829291095|               0.0|               0.0|    0E-18|                 0.0|\n",
      "|   89595369| 1066467|2020-01-02|   2020-01-12|    2020-01-17|21183483|            60085|           42956|Expedia Collect|        ESRM|      online|      651.7927830234427|               0.0| 132.8270738007706|    0E-18|   132.8270738007706|\n",
      "|   89593863|16412344|2020-01-02|   2020-01-13|    2020-01-14|14563183|            60085|           36810|Expedia Collect|      HOTMIP|      online|      93.04354342440516|               0.0|12.199132481684261|    0E-18|  12.199132481684261|\n",
      "|   89603621| 1426751|2020-01-02|   2020-01-07|    2020-01-09|15045164|            60085|           37849|     Negotiated|         NEG|      online|     180.94493374593358|               0.0|               0.0|    0E-18|                 0.0|\n",
      "|   89606007| 4320905|2020-01-02|   2020-01-06|    2020-01-08|21064901|            60085|           37633|     Negotiated|         NEG|      online|     185.85948671832992|               0.0|               0.0|    0E-18|                 0.0|\n",
      "|   89588444|   63533|2020-01-02|   2020-01-26|    2020-01-31|19315693|            60085|           33678|Expedia Collect|        ESRM|      online|      604.1674380879334|               0.0|110.47817098221768|    0E-18|  110.47817098221768|\n",
      "|   89594612|   63533|2020-01-02|   2020-01-26|    2020-01-31|21130446|            60085|           33678|Expedia Collect|        ESRM|      online|      604.1674380879334|               0.0|110.47817098221768|    0E-18|  110.47817098221768|\n",
      "|   89584709|    2479|2020-01-02|   2020-01-12|    2020-01-25|20311459|            60085|           37633|  Hotel Collect|        EPRA|      online|     3097.6475221948926| 573.0976487079797|               0.0|    0E-18|   573.0976487079797|\n",
      "|   89600578| 2292408|2020-01-02|   2020-01-13|    2020-01-14|19156927|            60085|           43757|Published & GDS|         GDS|      online|      90.47246687296679| 7.237797349837344|               0.0|    0E-18|   7.237797349837344|\n",
      "|   89586161|   16874|2020-01-02|   2020-01-08|    2020-01-09|15721232|            60085|           36810|  Hotel Collect|        EPRA|      online|      99.21814030169186|17.848766166785694|               0.0|    0E-18|  17.848766166785694|\n",
      "|   89592847| 1742184|2020-01-02|   2020-01-06|    2020-01-07|18753640|            60085|           43955|Expedia Collect|        EPRM|      online|      192.5471889409048|               0.0| 32.68386715684979|    0E-18|   32.68386715684979|\n",
      "|   89585331| 2870934|2020-01-02|   2020-01-06|    2020-01-07|17499228|            60085|           41514|  Hotel Collect|        EPRA|      online|     50.758972731360274| 9.136669399702015|               0.0|    0E-18|   9.136669399702015|\n",
      "|   89605116| 4144989|2020-01-02|   2020-01-16|    2020-01-17|14902897|            60085|           37735|     Negotiated|         NEG|      online|      84.65797385102316|               0.0|               0.0|    0E-18|                 0.0|\n",
      "|   89590656| 1071025|2020-01-02|   2020-01-17|    2020-01-19|18258906|            60085|           25041|Expedia Collect|        ESRM|      online|     147.07344812081786|               0.0| 35.55775520819559|    0E-18|   35.55775520819559|\n",
      "|   89591226|  891948|2020-01-02|   2020-01-26|    2020-01-30|18317957|            60085|           25041|Expedia Collect|        ESRM|      online|     424.90764985409135|               0.0| 85.49069445546478|    0E-18|   85.49069445546478|\n",
      "|   89592599| 5399359|2020-01-02|   2020-01-14|    2020-01-16|18317957|            60085|           25041|Expedia Collect|        ESRM|      online|      436.1051601470551|               0.0|59.472224426283006|    0E-18|  59.472224426283006|\n",
      "|   89583580| 1400076|2020-01-02|   2020-01-07|    2020-01-08|15263793|            60085|           37745|  Hotel Collect|        EPRA|      online|      55.40042053479333|12.744333359782066|               0.0|    0E-18|  12.744333359782066|\n",
      "|   89586183| 1400076|2020-01-02|   2020-01-07|    2020-01-08|15263793|            60085|           37745|  Hotel Collect|        EPRA|      online|      60.76175425604136|13.972969398820391|               0.0|    0E-18|  13.972969398820391|\n",
      "|   89583593|   34839|2020-01-02|   2020-01-20|    2020-01-23|15050482|            60085|           36810|  Hotel Collect|        EPRA|      online|     400.35071896462057|  84.0726414345791|               0.0|    0E-18|    84.0726414345791|\n",
      "|   89611572|   17163|2020-01-02|   2020-01-21|    2020-01-22|14897357|            60085|           25041|Published & GDS|         GDS|      online|     140.06504624119484|11.205203699295588|               0.0|    0E-18|  11.205203699295588|\n",
      "|   89584795| 1426751|2020-01-02|   2020-01-06|    2020-01-10|14596685|            60085|           37849|  Hotel Collect|        EPRA|      online|     389.03161063944225| 77.79515459282185|               0.0|    0E-18|   77.79515459282185|\n",
      "|   89584881| 6002047|2020-01-02|   2020-01-20|    2020-01-23|14902762|            60085|           37735|  Hotel Collect|        ESRA|      online|     229.27318010702928| 34.39097833849085|               0.0|    0E-18|   34.39097833849085|\n",
      "|   89595421|   13666|2020-01-02|   2020-01-14|    2020-01-15| 8083573|            60085|           21781|Expedia Collect|      HOTMIP|      online|      75.88845689297965|               0.0|14.909699630599423|    0E-18|  14.909699630599423|\n",
      "|   89586887| 4144989|2020-01-02|   2020-01-06|    2020-01-09|14519139|            60085|           37725|Expedia Collect|        ESRM|      online|     405.89542172498625|               0.0| 61.89002618424187|    0E-18|   61.89002618424187|\n",
      "|   89584906|   13052|2020-01-02|   2020-01-14|    2020-01-15|14563870|            60085|           36810|  Hotel Collect|        ESRA|      online|       82.6538610736421|10.231205973886292|               0.0|    0E-18|  10.231205973886292|\n",
      "|   89667493| 1460579|2020-01-04|   2020-01-05|    2020-01-08|19651703|            60095|           40601|Expedia Collect|      HOTMIP|      online|      388.1962745375295|               0.0| 75.90053863656786|    0E-18|   75.90053863656786|\n",
      "|   89668007| 3164182|2020-01-04|   2020-01-23|    2020-01-25|10859048|            60095|           27254|Expedia Collect|        ESRM|      online|      539.0466518402324|               0.0| 91.55898648909195|    0E-18|   91.55898648909195|\n",
      "|   89666859|   21035|2020-01-04|   2020-01-07|    2020-01-10|17705918|            60095|           40601|Expedia Collect|        EPRM|      online|       779.686073866482|               0.0|103.33768270578064|    0E-18|  103.33768270578064|\n",
      "|   89670662|   24053|2020-01-04|   2020-02-13|    2020-02-15|18470716|            60095|           32645|     Negotiated|         NEG|      online|       201.542840247335|               0.0|               0.0|    0E-18|                 0.0|\n",
      "|   89669746| 6253991|2020-01-04|   2020-01-05|    2020-01-10|12288534|            60095|           33946|     Negotiated|         NEG|      online|     1548.2393783182654|               0.0|               0.0|    0E-18|                 0.0|\n",
      "|   89667177| 2754862|2020-01-04|   2020-01-06|    2020-01-09|13270454|            60095|           35269|Expedia Collect|      HOTMIP|      online|     399.83673784210987|               0.0| 25.20565889778751|    0E-18|   25.20565889778751|\n",
      "|   89670498|31719165|2020-01-04|   2020-01-16|    2020-01-17|11637371|            60095|           27276|Published & GDS|         GDS|      online|     161.20531180501038|12.896424944400831|               0.0|    0E-18|  12.896424944400831|\n",
      "|   89666551|   22724|2020-01-04|   2020-01-11|    2020-01-12|14778027|            60095|           32645|  Hotel Collect|        ESRA|      online|     170.77008317371286| 30.73660800370221|               0.0|    0E-18|   30.73660800370221|\n",
      "|   89669735|  992547|2020-01-04|   2020-01-06|    2020-01-10|14793931|            60095|           32645|Published & GDS|         GDS|      online|      853.5999948578816| 68.28799958863053|               0.0|    0E-18|   68.28799958863053|\n",
      "|   89670499|    5558|2020-01-04|   2020-01-31|    2020-02-03|14782066|            60095|           32645|     Negotiated|         NEG|      online|      373.7280335265898|               0.0|               0.0|    0E-18|                 0.0|\n",
      "|   89675188|15867986|2020-01-05|   2020-01-12|    2020-01-13|19165545|            60004|           44205|Expedia Collect|      HOTMIP|      online|      38.36627951696022|               0.0| 7.273902007537878|    0E-18|   7.273902007537878|\n",
      "|   89674532| 1206772|2020-01-05|   2020-01-19|    2020-01-24|19857161|            60004|           44205|Expedia Collect|        ESRM|      online|      694.1389123913542|               0.0|119.22159833858929|    0E-18|  119.22159833858929|\n",
      "|   89677030|  127122|2020-01-05|   2020-03-24|    2020-03-25|14242805|            60004|            5891|     Negotiated|         NEG|      online|     172.62518267825544|               0.0|               0.0|    0E-18|                 0.0|\n",
      "+-----------+--------+----------+-------------+--------------+--------+-----------------+----------------+---------------+------------+------------+-----------------------+------------------+------------------+---------+--------------------+\n",
      "only showing top 50 rows"
     ]
    }
   ],
   "source": [
    "bookings_df.show(50)"
   ]
  },
  {
   "cell_type": "code",
   "execution_count": 28,
   "metadata": {},
   "outputs": [],
   "source": [
    "dir = 's3://ege-ds-workshops-corp/yixli/data_understanding/'"
   ]
  },
  {
   "cell_type": "code",
   "execution_count": 29,
   "metadata": {},
   "outputs": [],
   "source": [
    "datestamp = datetime.datetime.now().strftime('%m-%d-%Y')\n",
    "bookings_df.repartition(1).write.format('com.databricks.spark.csv').mode('overwrite')\\\n",
    ".save(dir+datestamp+'_bookings_df.csv',header = 'true')"
   ]
  },
  {
   "cell_type": "code",
   "execution_count": 32,
   "metadata": {},
   "outputs": [
    {
     "name": "stdout",
     "output_type": "stream",
     "text": [
      "+------------+-------------------------+---------------------+-----------------+\n",
      "|bk_rate_type|avg(total_supply_revenue)|avg(total_commission)|avg(total_markup)|\n",
      "+------------+-------------------------+---------------------+-----------------+\n",
      "|        EPRA|        45.81221638076596|    45.81221638076596|              0.0|\n",
      "|         NEG|                      0.0|                  0.0|              0.0|\n",
      "|        EPRM|        53.72553461177965|                  0.0|53.72553461177965|\n",
      "|        ESRM|        54.15272217260957|                  0.0| 54.1601880177948|\n",
      "|      HOTMIP|       58.180847463342154|  0.15645780459399597|58.02438965874817|\n",
      "|        ESRA|        42.52432011210949|    42.52432011210949|              0.0|\n",
      "|         GDS|       29.038212791398234|   29.831784144380794|              0.0|\n",
      "+------------+-------------------------+---------------------+-----------------+"
     ]
    }
   ],
   "source": [
    "bookings_df.\\\n",
    "                  groupBy('bk_rate_type').\\\n",
    "                  agg(F.avg(\"total_supply_revenue\"),F.avg(\"total_commission\"),F.avg(\"total_markup\")).show(20)"
   ]
  },
  {
   "cell_type": "markdown",
   "metadata": {},
   "source": [
    "## Matching last message in search chain with booking record"
   ]
  },
  {
   "cell_type": "code",
   "execution_count": 17,
   "metadata": {},
   "outputs": [
    {
     "name": "stdout",
     "output_type": "stream",
     "text": [
      "48090"
     ]
    }
   ],
   "source": [
    "booking_search_df = bookings_df.\\\n",
    "                join(search_below_peterman_usd_df,[\"hotel_id\",\"check_in_date\", \"check_out_date\",\"tuid\"]).\\\n",
    "                withColumn(\"rn\", row_number().over(Window.partitionBy(\"hotel_id\",\"check_in_date\",\"check_out_date\",\"tuid\").orderBy(desc(\"message_date\")))).\\\n",
    "                filter(F.col(\"rn\") == 1).\\\n",
    "                withColumn(\"is_local\", F.when(F.col(\"bk_rate_type\").isin(\"ESRM\",\"ESRA\",\"EPRM\",\"EPRA\",\"HOTMIP\"),1).otherwise(0)).\\\n",
    "                withColumnRenamed(\"hotel_index\",\"bk_hotel_index\")\n",
    "booking_search_df.count()"
   ]
  },
  {
   "cell_type": "code",
   "execution_count": 20,
   "metadata": {
    "collapsed": true
   },
   "outputs": [
    {
     "name": "stdout",
     "output_type": "stream",
     "text": [
      "root\n",
      " |-- hotel_id: integer (nullable = true)\n",
      " |-- check_in_date: date (nullable = true)\n",
      " |-- check_out_date: date (nullable = true)\n",
      " |-- tuid: integer (nullable = true)\n",
      " |-- hotelfactid: integer (nullable = true)\n",
      " |-- issue_date: date (nullable = true)\n",
      " |-- travel_product_id: integer (nullable = true)\n",
      " |-- group_account_id: integer (nullable = true)\n",
      " |-- hotel_rate_type: string (nullable = true)\n",
      " |-- bk_rate_type: string (nullable = true)\n",
      " |-- booking_type: string (nullable = true)\n",
      " |-- gross_booking_value_usd: double (nullable = true)\n",
      " |-- total_commission: double (nullable = true)\n",
      " |-- total_markup: double (nullable = true)\n",
      " |-- total_gds: decimal(20,18) (nullable = true)\n",
      " |-- total_supply_revenue: double (nullable = true)\n",
      " |-- message_id: string (nullable = true)\n",
      " |-- message_date: timestamp (nullable = true)\n",
      " |-- hotel_result_index: integer (nullable = true)\n",
      " |-- rate_index: integer (nullable = true)\n",
      " |-- rate_amount: float (nullable = true)\n",
      " |-- rate_currency: string (nullable = true)\n",
      " |-- rate_type: string (nullable = true)\n",
      " |-- commission_base: float (nullable = true)\n",
      " |-- base_category: string (nullable = true)\n",
      " |-- commission_tax: float (nullable = true)\n",
      " |-- tax_category: string (nullable = true)\n",
      " |-- commission_currency: string (nullable = true)\n",
      " |-- bk_hotel_index: integer (nullable = true)\n",
      " |-- src_rate_amount_usd: double (nullable = true)\n",
      " |-- src_commission_base_usd: double (nullable = true)\n",
      " |-- src_commission_tax_usd: double (nullable = true)\n",
      " |-- rn: integer (nullable = true)\n",
      " |-- is_local: integer (nullable = false)"
     ]
    }
   ],
   "source": [
    "booking_search_df.printSchema()"
   ]
  },
  {
   "cell_type": "markdown",
   "metadata": {},
   "source": [
    "## Adjust the revenue by the length of stay"
   ]
  },
  {
   "cell_type": "code",
   "execution_count": 21,
   "metadata": {},
   "outputs": [],
   "source": [
    "booking_search_df = booking_search_df.\\\n",
    "                     withColumn('duration', F.datediff(F.col(\"check_out_date\"),F.col( \"check_in_date\")).cast(IntegerType()))"
   ]
  },
  {
   "cell_type": "code",
   "execution_count": 22,
   "metadata": {
    "collapsed": true
   },
   "outputs": [
    {
     "name": "stdout",
     "output_type": "stream",
     "text": [
      "+--------------+-------------+--------+\n",
      "|check_out_date|check_in_date|duration|\n",
      "+--------------+-------------+--------+\n",
      "|    2020-01-09|   2020-01-08|       1|\n",
      "|    2020-01-18|   2020-01-14|       4|\n",
      "|    2020-01-22|   2020-01-21|       1|\n",
      "|    2020-01-03|   2020-01-02|       1|\n",
      "|    2020-01-24|   2020-01-22|       2|\n",
      "|    2020-01-17|   2020-01-13|       4|\n",
      "|    2020-01-30|   2020-01-29|       1|\n",
      "|    2020-03-05|   2020-03-04|       1|\n",
      "|    2020-01-21|   2020-01-19|       2|\n",
      "|    2020-01-09|   2020-01-07|       2|\n",
      "|    2020-01-17|   2020-01-13|       4|\n",
      "|    2020-02-08|   2020-02-04|       4|\n",
      "|    2020-01-25|   2020-01-20|       5|\n",
      "|    2020-04-30|   2020-04-29|       1|\n",
      "|    2020-01-10|   2020-01-09|       1|\n",
      "|    2020-01-14|   2020-01-13|       1|\n",
      "|    2020-02-29|   2020-02-25|       4|\n",
      "|    2020-01-23|   2020-01-22|       1|\n",
      "|    2020-01-09|   2020-01-08|       1|\n",
      "|    2020-01-18|   2020-01-17|       1|\n",
      "|    2020-01-17|   2020-01-15|       2|\n",
      "|    2020-01-17|   2020-01-16|       1|\n",
      "|    2020-01-23|   2020-01-22|       1|\n",
      "|    2020-01-09|   2020-01-07|       2|\n",
      "|    2020-01-31|   2020-01-28|       3|\n",
      "|    2020-01-08|   2020-01-06|       2|\n",
      "|    2020-01-25|   2020-01-23|       2|\n",
      "|    2020-01-16|   2020-01-15|       1|\n",
      "|    2020-01-31|   2020-01-26|       5|\n",
      "|    2020-01-17|   2020-01-13|       4|\n",
      "|    2020-01-22|   2020-01-21|       1|\n",
      "|    2020-02-04|   2020-02-03|       1|\n",
      "|    2020-01-23|   2020-01-21|       2|\n",
      "|    2020-01-14|   2020-01-13|       1|\n",
      "|    2020-01-07|   2020-01-05|       2|\n",
      "|    2020-01-29|   2020-01-26|       3|\n",
      "|    2020-03-26|   2020-03-24|       2|\n",
      "|    2020-01-16|   2020-01-15|       1|\n",
      "|    2020-01-28|   2020-01-27|       1|\n",
      "|    2020-01-17|   2020-01-16|       1|\n",
      "|    2020-01-12|   2020-01-11|       1|\n",
      "|    2020-01-14|   2020-01-13|       1|\n",
      "|    2020-01-25|   2020-01-11|      14|\n",
      "|    2020-01-17|   2020-01-05|      12|\n",
      "|    2020-01-15|   2020-01-14|       1|\n",
      "|    2020-02-05|   2020-02-04|       1|\n",
      "|    2020-01-16|   2020-01-12|       4|\n",
      "|    2020-03-17|   2020-03-15|       2|\n",
      "|    2020-01-16|   2020-01-13|       3|\n",
      "|    2020-02-05|   2020-02-03|       2|\n",
      "+--------------+-------------+--------+\n",
      "only showing top 50 rows"
     ]
    }
   ],
   "source": [
    "booking_search_df.select(\"check_out_date\",\"check_in_date\",'duration').show(50)"
   ]
  },
  {
   "cell_type": "code",
   "execution_count": 43,
   "metadata": {},
   "outputs": [],
   "source": [
    "booking_search_df = booking_search_df.\\\n",
    "                     withColumn('src_total_commission_base_usd', F.col(\"src_commission_base_usd\")*F.col( \"duration\")).\\\n",
    "                     withColumn('src_total_commission_usd', F.col(\"src_commission_base_usd\")*F.col( \"duration\")+F.col('src_commission_tax_usd')).\\\n",
    "                     withColumn('avg_book_rate_amount_usd',F.col('gross_booking_value_usd')/F.col( \"duration\")).\\\n",
    "                     withColumn('bk_avg_commission_usd',F.col('total_commission')/F.col( \"duration\")).\\\n",
    "                     withColumn('bk_avg_markup_usd',F.col('total_markup')/F.col( \"duration\")).\\\n",
    "                     withColumn('bk_avg_revenue_usd',F.col('total_supply_revenue')/F.col( \"duration\"))"
   ]
  },
  {
   "cell_type": "markdown",
   "metadata": {},
   "source": [
    "## Match rates: is booked/not booked"
   ]
  },
  {
   "cell_type": "code",
   "execution_count": 25,
   "metadata": {},
   "outputs": [],
   "source": [
    "booking_search_df = booking_search_df.\\\n",
    "                         withColumn('rate_diff',F.abs(F.col('avg_book_rate_amount_usd')-F.col('src_rate_amount_usd'))).\\\n",
    "                         withColumn('is_booked', F.when(F.abs(F.col('avg_book_rate_amount_usd')-F.col('src_rate_amount_usd'))<1.0,1).otherwise(0))"
   ]
  },
  {
   "cell_type": "code",
   "execution_count": 26,
   "metadata": {},
   "outputs": [
    {
     "name": "stdout",
     "output_type": "stream",
     "text": [
      "7471"
     ]
    }
   ],
   "source": [
    "booking_search_df.filter(F.col('is_booked')==1).count()"
   ]
  },
  {
   "cell_type": "code",
   "execution_count": 27,
   "metadata": {},
   "outputs": [],
   "source": [
    "booking_search_df = booking_search_df.\\\n",
    "                    withColumn('revenue_diff',F.abs(F.col('total_supply_revenue')-F.col('src_total_commission_usd')))"
   ]
  },
  {
   "cell_type": "code",
   "execution_count": 48,
   "metadata": {},
   "outputs": [],
   "source": [
    "dir = 's3://ege-ds-workshops-corp/yixli/data_understanding/'"
   ]
  },
  {
   "cell_type": "code",
   "execution_count": 49,
   "metadata": {},
   "outputs": [],
   "source": [
    "datestamp = datetime.datetime.now().strftime('%m-%d-%Y')\n",
    "booking_search_df.repartition(1).write.format('com.databricks.spark.csv').mode('overwrite')\\\n",
    ".save(dir+datestamp+'_booking_search_df.csv',header = 'true')"
   ]
  },
  {
   "cell_type": "markdown",
   "metadata": {},
   "source": [
    "## Estimated revenue from booking data"
   ]
  },
  {
   "cell_type": "code",
   "execution_count": 44,
   "metadata": {},
   "outputs": [
    {
     "name": "stdout",
     "output_type": "stream",
     "text": [
      "+------------+-----------------------+--------------------------+----------------------+\n",
      "|bk_rate_type|avg(bk_avg_revenue_usd)|avg(bk_avg_commission_usd)|avg(bk_avg_markup_usd)|\n",
      "+------------+-----------------------+--------------------------+----------------------+\n",
      "|        EPRA|     22.182425043361306|        22.182425043361306|                   0.0|\n",
      "|         NEG|                    0.0|                       0.0|                   0.0|\n",
      "|        EPRM|      27.66371178499827|                       0.0|     27.66371178499827|\n",
      "|        ESRM|     25.383485106418156|                       0.0|    25.383485106418156|\n",
      "|      HOTMIP|     29.886133275140406|        0.0731780576447558|     29.81295521749565|\n",
      "|        ESRA|      19.96869810542563|         19.96869810542563|                   0.0|\n",
      "|         GDS|     14.276933739329458|        14.276933739329458|                   0.0|\n",
      "+------------+-----------------------+--------------------------+----------------------+"
     ]
    }
   ],
   "source": [
    "booking_search_df.\\\n",
    "                  groupBy('bk_rate_type').\\\n",
    "                  agg(F.avg(\"bk_avg_revenue_usd\"),F.avg(\"bk_avg_commission_usd\"),F.avg(\"bk_avg_markup_usd\")).show(20)"
   ]
  },
  {
   "cell_type": "markdown",
   "metadata": {},
   "source": [
    "## Estimated revenue from Search data(all)"
   ]
  },
  {
   "cell_type": "code",
   "execution_count": 46,
   "metadata": {},
   "outputs": [
    {
     "name": "stdout",
     "output_type": "stream",
     "text": [
      "+------------+----------------------------+-------------------------------------------------------+\n",
      "|bk_rate_type|avg(src_commission_base_usd)|avg((src_commission_base_usd + src_commission_tax_usd))|\n",
      "+------------+----------------------------+-------------------------------------------------------+\n",
      "|        EPRA|           22.54381125534363|                                      26.78441068546667|\n",
      "|         NEG|          20.396313044972903|                                     24.936022826639817|\n",
      "|        EPRM|          24.114858376449934|                                     30.299500597828573|\n",
      "|        ESRM|          21.178081247400634|                                      27.55562114398488|\n",
      "|      HOTMIP|          26.863897625390745|                                      33.20995771013311|\n",
      "|        ESRA|           20.44288793814704|                                     25.292741646955722|\n",
      "|         GDS|           23.72700553091482|                                      32.08309702820891|\n",
      "+------------+----------------------------+-------------------------------------------------------+"
     ]
    }
   ],
   "source": [
    "booking_search_df.\\\n",
    "                  groupBy('bk_rate_type').\\\n",
    "                  agg(F.avg(\"src_commission_base_usd\"),F.avg(F.col(\"src_commission_base_usd\")+F.col(\"src_commission_tax_usd\"))).show(20)"
   ]
  },
  {
   "cell_type": "markdown",
   "metadata": {},
   "source": [
    "## Estimated revenue from Search data(is booked)"
   ]
  },
  {
   "cell_type": "code",
   "execution_count": 47,
   "metadata": {},
   "outputs": [
    {
     "name": "stdout",
     "output_type": "stream",
     "text": [
      "+------------+----------------------------+-------------------------------------------------------+\n",
      "|bk_rate_type|avg(src_commission_base_usd)|avg((src_commission_base_usd + src_commission_tax_usd))|\n",
      "+------------+----------------------------+-------------------------------------------------------+\n",
      "|        EPRA|          18.353862493771864|                                      20.46561375108867|\n",
      "|         NEG|           16.53327200560976|                                     22.589362696174312|\n",
      "|        EPRM|          19.092465863779392|                                     23.454821298847094|\n",
      "|        ESRM|           16.67621684259227|                                     21.255125859550542|\n",
      "|      HOTMIP|          20.276661407143468|                                     24.948094062474308|\n",
      "|        ESRA|          16.222678519695798|                                     18.163415595705125|\n",
      "|         GDS|          20.356888765783356|                                      25.92079778032349|\n",
      "+------------+----------------------------+-------------------------------------------------------+"
     ]
    }
   ],
   "source": [
    "booking_search_df.filter(F.col('is_booked')==1).\\\n",
    "                  groupBy('bk_rate_type').\\\n",
    "                  agg(F.avg(\"src_commission_base_usd\"),F.avg(F.col(\"src_commission_base_usd\")+F.col(\"src_commission_tax_usd\"))).show(20)"
   ]
  },
  {
   "cell_type": "markdown",
   "metadata": {},
   "source": [
    "## Probabilty of booking by rate types"
   ]
  },
  {
   "cell_type": "code",
   "execution_count": 38,
   "metadata": {},
   "outputs": [
    {
     "name": "stdout",
     "output_type": "stream",
     "text": [
      "+------------+----------------+--------------------+\n",
      "|bk_rate_type|count(is_booked)|      avg(is_booked)|\n",
      "+------------+----------------+--------------------+\n",
      "|        EPRA|            1824|  0.2362938596491228|\n",
      "|         NEG|             107|0.009345794392523364|\n",
      "|        EPRM|            6426|  0.1568627450980392|\n",
      "|        ESRM|           21778| 0.17784002204059143|\n",
      "|      HOTMIP|            3592|  0.1723273942093541|\n",
      "|        ESRA|            5606| 0.20674277559757404|\n",
      "|         GDS|            8757| 0.03802672147995889|\n",
      "+------------+----------------+--------------------+"
     ]
    }
   ],
   "source": [
    "booking_search_df.\\\n",
    "                  groupBy('bk_rate_type').agg(F.count(F.col('is_booked')), F.avg(F.col('is_booked'))).show(20)"
   ]
  },
  {
   "cell_type": "markdown",
   "metadata": {},
   "source": [
    "## Probabilty of booking by rate index"
   ]
  },
  {
   "cell_type": "code",
   "execution_count": 39,
   "metadata": {},
   "outputs": [
    {
     "name": "stdout",
     "output_type": "stream",
     "text": [
      "+----------+----------------+--------------------+\n",
      "|rate_index|count(is_booked)|      avg(is_booked)|\n",
      "+----------+----------------+--------------------+\n",
      "|        12|             164| 0.06707317073170732|\n",
      "|         1|            7632| 0.21016771488469602|\n",
      "|        13|             130|0.046153846153846156|\n",
      "|         6|            3243| 0.08078939253777366|\n",
      "|         3|            4549|  0.1424488898659046|\n",
      "|         5|            3810| 0.10498687664041995|\n",
      "|        15|               9|                 0.0|\n",
      "|         9|            1062|0.062146892655367235|\n",
      "|         4|            4151|  0.1069621777884847|\n",
      "|         8|            2702| 0.06328645447816432|\n",
      "|         7|            3060| 0.08398692810457517|\n",
      "|        10|             754|  0.0649867374005305|\n",
      "|        11|             639| 0.03912363067292645|\n",
      "|        14|             111| 0.05405405405405406|\n",
      "|         2|            6175| 0.13748987854251013|\n",
      "|         0|            9899|  0.2719466612789171|\n",
      "+----------+----------------+--------------------+"
     ]
    }
   ],
   "source": [
    "booking_search_df.\\\n",
    "                  groupBy('rate_index').agg(F.count(F.col('is_booked')), F.avg(F.col('is_booked'))).show(20)"
   ]
  },
  {
   "cell_type": "code",
   "execution_count": null,
   "metadata": {},
   "outputs": [],
   "source": []
  }
 ],
 "metadata": {
  "kernelspec": {
   "display_name": "PySpark3",
   "language": "",
   "name": "pyspark3kernel"
  },
  "language_info": {
   "codemirror_mode": {
    "name": "python",
    "version": 3
   },
   "mimetype": "text/x-python",
   "name": "pyspark3",
   "pygments_lexer": "python3"
  }
 },
 "nbformat": 4,
 "nbformat_minor": 2
}
