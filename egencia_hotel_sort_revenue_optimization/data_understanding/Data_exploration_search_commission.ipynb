{
 "cells": [
  {
   "cell_type": "code",
   "execution_count": 2,
   "metadata": {},
   "outputs": [],
   "source": [
    "import datetime\n",
    "import pandas as pd\n",
    "import numpy as np\n",
    "\n",
    "from pyspark import SparkContext\n",
    "from pyspark import SQLContext\n",
    "from pyspark.sql.session import SparkSession\n",
    "\n",
    "\n",
    "from pyspark.sql import DataFrameStatFunctions as statFunc\n",
    "\n",
    "from pyspark.sql.functions import row_number\n",
    "from pyspark.sql.window import Window\n",
    "from pyspark.sql.functions import desc\n",
    "\n",
    "from pyspark.sql import functions as F\n",
    "from pyspark.sql import types as T\n",
    "from pyspark.sql.types import IntegerType"
   ]
  },
  {
   "cell_type": "markdown",
   "metadata": {},
   "source": [
    "## Obtain last_idx_peterman_line"
   ]
  },
  {
   "cell_type": "code",
   "execution_count": 3,
   "metadata": {},
   "outputs": [
    {
     "name": "stdout",
     "output_type": "stream",
     "text": [
      "\"\\nuse eandev; \\ndrop table if exists eandev.yixli_last_idx_peterman_line;\\ncreate table eandev.yixli_last_idx_peterman_line as    \\nselect  \\n  a.message_id,\\n  IF(b.message_id is null, 0, b.last_idx_peterman_line) as last_idx_peterman_line,\\n  IF(c.message_id is null, 0, c.last_hotel_result_index) as last_hotel_result_index\\nfrom eandev.HotelMessages as a \\nleft join (\\n  select  \\n   message_id\\n  ,MAX(v1.hotel_result_index) as last_idx_peterman_line\\n  from eandev.HotelMessages \\n  lateral view explode(hotels) hotel_tbl as v1\\n  where load_date between '20191201' and '20200101'\\n  and ((v1.property_level_neg = true) or (v1.chain_level_neg = true) or (v1.preferred = true))\\n  and message_id is not null \\n  and message_id <> ''\\n  and ((original_message_id is null) or (original_message_id == '')) \\n  and type = 'HSR'  \\n  group by message_id\\n) as b ON a.message_id = b.message_id\\nleft join (\\n  select  \\n   message_id\\n  ,MAX(v1.hotel_result_index) as last_hotel_result_index\\n  from eandev.HotelMessages \\n  lateral view explode(hotels) hotel_tbl as v1\\n  where load_date between '20191201' and '20200101'\\n  and message_id is not null \\n  and message_id <> ''\\n  and ((original_message_id is null) or (original_message_id == '')) \\n  and type = 'HSR'  \\n  group by message_id\\n) as c ON a.message_id = c.message_id\\nwhere a.load_date between '20191201' and '20200101'\\nand a.message_id is not null \\nand a.message_id <> ''\\nand ((original_message_id is null) or (original_message_id == '')) \\nand a.type = 'HSR'\\n\""
     ]
    }
   ],
   "source": [
    "'''\n",
    "use eandev; \n",
    "drop table if exists eandev.yixli_last_idx_peterman_line;\n",
    "create table eandev.yixli_last_idx_peterman_line as    \n",
    "select  \n",
    "  a.message_id,\n",
    "  IF(b.message_id is null, 0, b.last_idx_peterman_line) as last_idx_peterman_line,\n",
    "  IF(c.message_id is null, 0, c.last_hotel_result_index) as last_hotel_result_index\n",
    "from eandev.HotelMessages as a \n",
    "left join (\n",
    "  select  \n",
    "   message_id\n",
    "  ,MAX(v1.hotel_result_index) as last_idx_peterman_line\n",
    "  from eandev.HotelMessages \n",
    "  lateral view explode(hotels) hotel_tbl as v1\n",
    "  where load_date between '20191201' and '20200101'\n",
    "  and ((v1.property_level_neg = true) or (v1.chain_level_neg = true) or (v1.preferred = true))\n",
    "  and message_id is not null \n",
    "  and message_id <> ''\n",
    "  and ((original_message_id is null) or (original_message_id == '')) \n",
    "  and type = 'HSR'  \n",
    "  group by message_id\n",
    ") as b ON a.message_id = b.message_id\n",
    "left join (\n",
    "  select  \n",
    "   message_id\n",
    "  ,MAX(v1.hotel_result_index) as last_hotel_result_index\n",
    "  from eandev.HotelMessages \n",
    "  lateral view explode(hotels) hotel_tbl as v1\n",
    "  where load_date between '20191201' and '20200101'\n",
    "  and message_id is not null \n",
    "  and message_id <> ''\n",
    "  and ((original_message_id is null) or (original_message_id == '')) \n",
    "  and type = 'HSR'  \n",
    "  group by message_id\n",
    ") as c ON a.message_id = c.message_id\n",
    "where a.load_date between '20191201' and '20200101'\n",
    "and a.message_id is not null \n",
    "and a.message_id <> ''\n",
    "and ((original_message_id is null) or (original_message_id == '')) \n",
    "and a.type = 'HSR'\n",
    "'''"
   ]
  },
  {
   "cell_type": "code",
   "execution_count": 3,
   "metadata": {},
   "outputs": [],
   "source": [
    "peterman_schema = T.StructType([\n",
    "    T.StructField(\"message_id\", T.StringType(), True),                  #1\n",
    "    T.StructField(\"last_idx_peterman_line\", T.IntegerType(), True),     #2 \n",
    "    T.StructField(\"last_hotel_result_index\", T.IntegerType(), True)     #3\n",
    "])"
   ]
  },
  {
   "cell_type": "code",
   "execution_count": 4,
   "metadata": {},
   "outputs": [
    {
     "name": "stdout",
     "output_type": "stream",
     "text": [
      "2252960"
     ]
    }
   ],
   "source": [
    "file_loc = \"s3://ege-ds-workshops-corp/yixli/last_idx_peterman_line.csv\"\n",
    "\n",
    "peterman_df = sqlContext.read.format('csv').\\\n",
    "            options(header='false', inferSchema='false', delimiter=',').\\\n",
    "            schema(peterman_schema).load(file_loc)\n",
    "\n",
    "# load_date between '20191201' and '20200101'\n",
    "\n",
    "print(peterman_df.count())"
   ]
  },
  {
   "cell_type": "code",
   "execution_count": 5,
   "metadata": {
    "collapsed": true
   },
   "outputs": [
    {
     "name": "stdout",
     "output_type": "stream",
     "text": [
      "+--------------------+----------------------+-----------------------+\n",
      "|          message_id|last_idx_peterman_line|last_hotel_result_index|\n",
      "+--------------------+----------------------+-----------------------+\n",
      "|0010900b-b2e3-4e3...|                     0|                     29|\n",
      "|003dfe2c-fa7b-4b7...|                     0|                      8|\n",
      "|004c986f-7f97-4a4...|                     7|                     29|\n",
      "|006abdad-d5ba-47d...|                     0|                      0|\n",
      "|0081f9d5-9bf1-406...|                     0|                     18|\n",
      "|009cca8a-5842-43c...|                     0|                      0|\n",
      "|00dbaaf3-3bac-43c...|                     0|                     29|\n",
      "|012f23f3-6cfb-40f...|                     0|                     29|\n",
      "|01379dd8-37da-466...|                     0|                     29|\n",
      "|0190fc4e-9dd2-4f8...|                     1|                     21|\n",
      "|01924dd0-9d13-4e5...|                    11|                     16|\n",
      "|01acce93-2407-4bf...|                     2|                      2|\n",
      "|01b37fff-ed63-4ee...|                     0|                      0|\n",
      "|01d28e2d-f84b-4d3...|                     0|                      0|\n",
      "|0205bca5-33bc-4c8...|                     0|                     16|\n",
      "|0365305c-06e8-4eb...|                     0|                      0|\n",
      "|0371718b-5fe3-45b...|                    10|                     10|\n",
      "|039acb6e-d26d-41e...|                    23|                     29|\n",
      "|039b65e0-cf07-483...|                     0|                      0|\n",
      "|03c81e08-458b-4ac...|                     0|                     29|\n",
      "|03dc2573-1506-4cc...|                     1|                     25|\n",
      "|04095652-c617-4cd...|                     0|                     29|\n",
      "|0420d800-fa2d-482...|                     0|                      0|\n",
      "|0433bdd4-d7da-469...|                    27|                     30|\n",
      "|04545f1d-65c0-43d...|                     0|                     29|\n",
      "|0455aafc-4b54-4af...|                     0|                      0|\n",
      "|04595860-a7b4-4aa...|                    14|                     29|\n",
      "|04b51ed1-81bc-440...|                    26|                     29|\n",
      "|04c1ddd7-7e4e-4af...|                     0|                     29|\n",
      "|04ce686d-146f-447...|                     0|                      0|\n",
      "|04df1698-46b8-459...|                     0|                      0|\n",
      "|051d5b21-d0da-4eb...|                     0|                     29|\n",
      "|05346aa9-9547-4b3...|                     0|                      0|\n",
      "|05668d86-3727-484...|                     0|                     29|\n",
      "|056a1608-4099-404...|                     0|                      0|\n",
      "|056f9196-9d6b-485...|                     0|                      0|\n",
      "|059095f7-436b-4ca...|                     0|                      1|\n",
      "|05a3e1e4-06d9-421...|                     0|                      0|\n",
      "|05a5c505-3581-48d...|                     7|                     29|\n",
      "|05b0aa34-872f-453...|                     0|                     29|\n",
      "|05b41098-7f9f-490...|                     0|                     29|\n",
      "|0612d6d9-ca6e-412...|                     0|                      0|\n",
      "|062011c1-549a-441...|                     0|                     16|\n",
      "|065f2008-5d2e-443...|                     0|                     29|\n",
      "|066b01bf-f630-40c...|                     0|                     11|\n",
      "|067458d6-9f6b-4aa...|                    12|                     30|\n",
      "|069cef9e-e998-44e...|                     0|                     29|\n",
      "|0735e9b3-5e02-4f4...|                     0|                      3|\n",
      "|07408f80-02f5-435...|                    22|                     26|\n",
      "|07612887-07e1-467...|                     0|                      3|\n",
      "+--------------------+----------------------+-----------------------+\n",
      "only showing top 50 rows"
     ]
    }
   ],
   "source": [
    "peterman_df.show(50)"
   ]
  },
  {
   "cell_type": "markdown",
   "metadata": {},
   "source": [
    "## Search data"
   ]
  },
  {
   "cell_type": "code",
   "execution_count": null,
   "metadata": {},
   "outputs": [],
   "source": [
    "'''\n",
    "use eandev;\n",
    "\n",
    "drop table if exists eandev.yixli_search_commission;\n",
    "create table eandev.yixli_search_commission as   \n",
    "select \n",
    "message_id\n",
    ",message_timestamp as message_date\n",
    ",check_in_date\n",
    ",check_out_date\n",
    ",tuid\n",
    ",v1.hotel_id\n",
    ",v1.hotel_result_index\n",
    ",v2.rate_index\n",
    ",v2.price.amount as rate_amount\n",
    ",v2.price.currency as rate_currency\n",
    ",(case when v2.rate_type = 'GDS_CHAIN_NEGOTIATED' then 'NEG'                             \n",
    "  when v2.rate_type = 'GDS_CONSORTIA' then 'GDS'\n",
    "  when v2.rate_type = 'GDS_NEGOTIATED' then 'NEG'\n",
    "  when v2.rate_type = 'GDS_PUBLISHED' then 'GDS'                             \n",
    "  when v2.rate_type = 'EPR_MERCHANT' then 'EPRM'\n",
    "  when v2.rate_type = 'ESR_DIRECT_AGENCY' then 'ESRA'\n",
    "  when v2.rate_type = 'EPR_DIRECT_AGENCY' then 'EPRA'\n",
    "  when v2.rate_type = 'ESR_MERCHANT' then 'ESRM'\n",
    "  else v2.rate_type end) as rate_type\n",
    ",NVL(v3.commission_base, 0.0) as commission_base\n",
    ",NVL(v3.commission_tax, 0.0) as commission_tax\n",
    ",NVL(v3.currency, 'USD') as currency\n",
    "from eandev.HotelMessages\n",
    "lateral view explode(travelers) travl_tbl as tuid\n",
    "lateral view explode(hotels) hotel_tbl as v1\n",
    "lateral view explode(v1.prices) rate_tbl as v2\n",
    "lateral view explode(v2.commission_list) cms_tbl as v3 \n",
    "where load_date between '20191201' and '20200101'\n",
    "and message_id is not null \n",
    "and message_id <> ''\n",
    "and v2.selected = True\n",
    "and type = 'HSR'\n",
    "'''"
   ]
  },
  {
   "cell_type": "code",
   "execution_count": null,
   "metadata": {},
   "outputs": [],
   "source": [
    "'''\n",
    "ssh Chwxedwhdc002.datawarehouse.expecn.com\n",
    "\n",
    "hive -e \"use eandev; INSERT OVERWRITE LOCAL DIRECTORY '/home/yixli/temp' ROW FORMAT DELIMITED FIELDS TERMINATED BY ',' select * from yixli_search_commission;\"&\n",
    "\n",
    "cd temp\n",
    "ls | xargs -I '{}' -n1 sed -i 's/\\\\N//g' '{}' &\n",
    "cd ..\n",
    "cat temp/* >search_data.csv\n",
    "\n",
    "\n",
    "~/.linuxbrew/bin/aws_key_gen login\n",
    "\n",
    "aws s3 cp search_data.csv s3://ege-ds-workshops-corp/yixli/search_data.csv\n",
    "\n",
    "\n",
    "'''"
   ]
  },
  {
   "cell_type": "code",
   "execution_count": 5,
   "metadata": {},
   "outputs": [],
   "source": [
    "search_schema = T.StructType([\n",
    "    T.StructField(\"message_id\", T.StringType(), True),                  #1\n",
    "    T.StructField(\"message_date\", T.TimestampType(), True),             #2\n",
    "    T.StructField(\"check_in_date\", T.DateType(), True),                 #3\n",
    "    T.StructField(\"check_out_date\", T.DateType(), True),                #4\n",
    "    T.StructField(\"tuid\", T.IntegerType(), True),                       #5\n",
    "    T.StructField(\"hotel_id\", T.IntegerType(), True),                   #6 \n",
    "    T.StructField(\"hotel_result_index\", T.IntegerType(), True),         #7\n",
    "    T.StructField(\"rate_index\", T.IntegerType(), True),                 #8 \n",
    "    T.StructField(\"rate_amount\", T.FloatType(), True),                  #9\n",
    "    T.StructField(\"rate_currency\", T.StringType(), True),               #10\n",
    "    T.StructField(\"rate_type\", T.StringType(), True),                   #11\n",
    "])"
   ]
  },
  {
   "cell_type": "code",
   "execution_count": 6,
   "metadata": {},
   "outputs": [
    {
     "name": "stdout",
     "output_type": "stream",
     "text": [
      "Collecting search the data...\n",
      "278452443"
     ]
    }
   ],
   "source": [
    "file_loc = \"s3://ege-ds-workshops-corp/yixli/search_data.csv\"\n",
    "print(\"Collecting search the data...\")\n",
    "search_df1 = sqlContext.read.format('csv').\\\n",
    "            options(header='false', inferSchema='false', delimiter=',').\\\n",
    "            schema(search_schema).load(file_loc)\n",
    "\n",
    "# load_date between '20191201' and '20200101'\n",
    "\n",
    "search_df1 = search_df1.\\\n",
    "            filter(F.col(\"hotel_id\")>0).\\\n",
    "            filter(F.col(\"rate_amount\").isNotNull())\n",
    "print(search_df1.count())"
   ]
  },
  {
   "cell_type": "code",
   "execution_count": 7,
   "metadata": {},
   "outputs": [
    {
     "name": "stdout",
     "output_type": "stream",
     "text": [
      "+---------+-----------------+\n",
      "|rate_type|count(message_id)|\n",
      "+---------+-----------------+\n",
      "|     EPRA|         15888335|\n",
      "|      NEG|          7205695|\n",
      "|     EPRM|         31400764|\n",
      "|     ESRM|        126081114|\n",
      "|     ESRA|         57809894|\n",
      "|      GDS|         40066641|\n",
      "+---------+-----------------+"
     ]
    }
   ],
   "source": [
    "search_df1.groupBy('rate_type').agg(F.count(F.col('message_id'))).show()"
   ]
  },
  {
   "cell_type": "code",
   "execution_count": 7,
   "metadata": {},
   "outputs": [],
   "source": [
    "search_schema = T.StructType([\n",
    "    T.StructField(\"message_id\", T.StringType(), True),                  #1\n",
    "    T.StructField(\"message_date\", T.TimestampType(), True),             #2\n",
    "    T.StructField(\"check_in_date\", T.DateType(), True),                 #3\n",
    "    T.StructField(\"check_out_date\", T.DateType(), True),                #4\n",
    "    T.StructField(\"tuid\", T.IntegerType(), True),                       #5\n",
    "    T.StructField(\"hotel_id\", T.IntegerType(), True),                   #6 \n",
    "    T.StructField(\"hotel_result_index\", T.IntegerType(), True),         #7\n",
    "    T.StructField(\"rate_index\", T.IntegerType(), True),                 #8 \n",
    "    T.StructField(\"rate_amount\", T.FloatType(), True),                  #9\n",
    "    T.StructField(\"rate_currency\", T.StringType(), True),               #10\n",
    "    T.StructField(\"rate_type\", T.StringType(), True),                   #11\n",
    "    T.StructField(\"commission_base\", T.FloatType(), True),              #12\n",
    "    T.StructField(\"base_category\", T.StringType(), True),               #13\n",
    "    T.StructField(\"commission_tax\", T.FloatType(), True),               #14\n",
    "    T.StructField(\"tax_category\", T.StringType(), True),                #15\n",
    "    T.StructField(\"commission_currency\", T.StringType(), True)          #16\n",
    "])\n"
   ]
  },
  {
   "cell_type": "code",
   "execution_count": 8,
   "metadata": {
    "scrolled": true
   },
   "outputs": [
    {
     "name": "stdout",
     "output_type": "stream",
     "text": [
      "Collecting search the data...\n",
      "222922918"
     ]
    }
   ],
   "source": [
    "file_loc = \"s3://ege-ds-workshops-corp/yixli/search_commission_month.csv\"\n",
    "print(\"Collecting search the data...\")\n",
    "search_df2 = sqlContext.read.format('csv').\\\n",
    "            options(header='false', inferSchema='false', delimiter=',').\\\n",
    "            schema(search_schema).load(file_loc)\n",
    "\n",
    "# load_date between '20191201' and '20200101'\n",
    "\n",
    "search_df2 = search_df2.\\\n",
    "            filter(F.col(\"hotel_id\")>0).\\\n",
    "            filter(F.col(\"rate_amount\").isNotNull())\n",
    "print(search_df2.count())"
   ]
  },
  {
   "cell_type": "code",
   "execution_count": 10,
   "metadata": {
    "scrolled": false
   },
   "outputs": [
    {
     "name": "stdout",
     "output_type": "stream",
     "text": [
      "+---------+-----------------+\n",
      "|rate_type|count(message_id)|\n",
      "+---------+-----------------+\n",
      "|     EPRA|         14898092|\n",
      "|     EPRM|         28523882|\n",
      "|     ESRM|        121541868|\n",
      "|     ESRA|         57959076|\n",
      "+---------+-----------------+"
     ]
    }
   ],
   "source": [
    "search_df2.groupBy('rate_type').agg(F.count(F.col('message_id'))).show()"
   ]
  },
  {
   "cell_type": "code",
   "execution_count": 9,
   "metadata": {},
   "outputs": [],
   "source": [
    "search_df = search_df1.\\\n",
    "             join(search_df2.select(\"commission_base\",\"commission_tax\",\"commission_currency\",\"message_id\",\"hotel_id\",\"check_in_date\", \"check_out_date\",\"tuid\",\"rate_index\",'rate_type'),\n",
    "                  [\"message_id\",\"hotel_id\",\"check_in_date\", \"check_out_date\",\"tuid\",\"rate_index\",'rate_type']\n",
    "                 ,how='left').\\\n",
    "             dropDuplicates()"
   ]
  },
  {
   "cell_type": "code",
   "execution_count": 11,
   "metadata": {},
   "outputs": [
    {
     "name": "stdout",
     "output_type": "stream",
     "text": [
      "+---------+-----------------+\n",
      "|rate_type|count(message_id)|\n",
      "+---------+-----------------+\n",
      "|     EPRA|         17350683|\n",
      "|      NEG|          7205666|\n",
      "|     EPRM|         36257759|\n",
      "|     ESRM|        145804059|\n",
      "|     ESRA|         60765380|\n",
      "|      GDS|         40066599|\n",
      "+---------+-----------------+"
     ]
    }
   ],
   "source": [
    "search_df.groupBy('rate_type').agg(F.count(F.col('message_id'))).show()"
   ]
  },
  {
   "cell_type": "code",
   "execution_count": 10,
   "metadata": {},
   "outputs": [],
   "source": [
    "search_df = search_df.withColumn(\"hotel_index\", row_number().over(Window.partitionBy(\"message_id\", \"tuid\").\\\n",
    "                                                        orderBy(F.asc(\"hotel_result_index\"))))"
   ]
  },
  {
   "cell_type": "code",
   "execution_count": 13,
   "metadata": {},
   "outputs": [
    {
     "name": "stdout",
     "output_type": "stream",
     "text": [
      "root\n",
      " |-- message_id: string (nullable = true)\n",
      " |-- hotel_id: integer (nullable = true)\n",
      " |-- check_in_date: date (nullable = true)\n",
      " |-- check_out_date: date (nullable = true)\n",
      " |-- tuid: integer (nullable = true)\n",
      " |-- rate_index: integer (nullable = true)\n",
      " |-- rate_type: string (nullable = true)\n",
      " |-- message_date: timestamp (nullable = true)\n",
      " |-- hotel_result_index: integer (nullable = true)\n",
      " |-- rate_amount: float (nullable = true)\n",
      " |-- rate_currency: string (nullable = true)\n",
      " |-- commission_base: float (nullable = true)\n",
      " |-- commission_tax: float (nullable = true)\n",
      " |-- commission_currency: string (nullable = true)\n",
      " |-- hotel_index: integer (nullable = true)"
     ]
    }
   ],
   "source": [
    "search_df.printSchema()"
   ]
  },
  {
   "cell_type": "code",
   "execution_count": 11,
   "metadata": {},
   "outputs": [],
   "source": [
    "dir = 's3://ege-ds-workshops-corp/yixli/data_understanding/'\n",
    "\n",
    "datestamp = datetime.datetime.now().strftime('%m-%d-%Y')\n",
    "search_df.repartition(1).write.format('com.databricks.spark.csv').mode('overwrite')\\\n",
    ".save(dir+datestamp+'_search_df.csv',header = 'true')"
   ]
  },
  {
   "cell_type": "markdown",
   "metadata": {},
   "source": [
    "## Read search data"
   ]
  },
  {
   "cell_type": "code",
   "execution_count": 3,
   "metadata": {},
   "outputs": [],
   "source": [
    "search_schema = T.StructType([\n",
    "    T.StructField(\"message_id\", T.StringType(), True),                  #1\n",
    "    T.StructField(\"hotel_id\", T.IntegerType(), True),                   #6\n",
    "    T.StructField(\"check_in_date\", T.DateType(), True),                 #3\n",
    "    T.StructField(\"check_out_date\", T.DateType(), True),                #4\n",
    "    T.StructField(\"tuid\", T.IntegerType(), True),                       #5\n",
    "    T.StructField(\"rate_index\", T.IntegerType(), True),                 #8 \n",
    "    T.StructField(\"rate_type\", T.StringType(), True),                   #11\n",
    "    T.StructField(\"message_date\", T.TimestampType(), True),             #2\n",
    "    T.StructField(\"hotel_result_index\", T.IntegerType(), True),         #7\n",
    "    T.StructField(\"rate_amount\", T.FloatType(), True),                  #9\n",
    "    T.StructField(\"rate_currency\", T.StringType(), True),               #10\n",
    "    T.StructField(\"commission_base\", T.FloatType(), True),              #12\n",
    "    T.StructField(\"commission_tax\", T.FloatType(), True),               #14\n",
    "    T.StructField(\"commission_currency\", T.StringType(), True),          #16\n",
    "    T.StructField(\"hotel_index\", T.IntegerType(), True)                 #8 \n",
    "])\n"
   ]
  },
  {
   "cell_type": "code",
   "execution_count": 4,
   "metadata": {},
   "outputs": [
    {
     "name": "stdout",
     "output_type": "stream",
     "text": [
      "Collecting search the data...\n",
      "307450147"
     ]
    }
   ],
   "source": [
    "file_loc = \"s3://ege-ds-workshops-corp/yixli/data_understanding/08-10-2020_search_df.csv\"\n",
    "print(\"Collecting search the data...\")\n",
    "search_df = sqlContext.read.format('csv').\\\n",
    "            options(header='false', inferSchema='false', delimiter=',').\\\n",
    "            schema(search_schema).load(file_loc)\n",
    "\n",
    "# load_date between '20191201' and '20200101'\n",
    "print(search_df.count())"
   ]
  },
  {
   "cell_type": "code",
   "execution_count": 5,
   "metadata": {},
   "outputs": [],
   "source": [
    "search_df = search_df.\\\n",
    "            filter(F.col(\"hotel_id\")>0).\\\n",
    "            filter(F.col(\"rate_amount\").isNotNull())"
   ]
  },
  {
   "cell_type": "code",
   "execution_count": 19,
   "metadata": {},
   "outputs": [
    {
     "name": "stdout",
     "output_type": "stream",
     "text": [
      "+---------+-----------------+\n",
      "|rate_type|count(message_id)|\n",
      "+---------+-----------------+\n",
      "|     EPRA|         17350683|\n",
      "|      NEG|          7205666|\n",
      "|     EPRM|         36257759|\n",
      "|     ESRM|        145804059|\n",
      "|     ESRA|         60765380|\n",
      "|      GDS|         40066599|\n",
      "+---------+-----------------+"
     ]
    }
   ],
   "source": [
    "search_df.groupBy('rate_type').agg(F.count(F.col('message_id'))).show()"
   ]
  },
  {
   "cell_type": "markdown",
   "metadata": {},
   "source": [
    "## Filter hotels below peterman_line"
   ]
  },
  {
   "cell_type": "code",
   "execution_count": 17,
   "metadata": {},
   "outputs": [],
   "source": [
    "search_df.registerTempTable(\"search_df\")\n",
    "peterman_df.registerTempTable(\"peterman_df\")"
   ]
  },
  {
   "cell_type": "code",
   "execution_count": 18,
   "metadata": {},
   "outputs": [],
   "source": [
    "search_below_peterman_df = sqlContext.sql(\"select\\\n",
    "                             b.*\\\n",
    "                             from search_df as b join peterman_df as c on (b.message_id=c.message_id)\\\n",
    "                             where (b.hotel_result_index>c.last_idx_peterman_line)\\\n",
    "                             order by b.message_id, b.hotel_result_index\").\\\n",
    "                             dropDuplicates()"
   ]
  },
  {
   "cell_type": "code",
   "execution_count": 22,
   "metadata": {},
   "outputs": [
    {
     "name": "stdout",
     "output_type": "stream",
     "text": [
      "758"
     ]
    }
   ],
   "source": [
    "search_below_peterman_df.filter(F.col('rate_type')=='NEG').count()"
   ]
  },
  {
   "cell_type": "code",
   "execution_count": 19,
   "metadata": {},
   "outputs": [],
   "source": [
    "search_below_peterman_df = search_below_peterman_df.filter(F.col('rate_type')!='NEG')"
   ]
  },
  {
   "cell_type": "code",
   "execution_count": 20,
   "metadata": {},
   "outputs": [
    {
     "name": "stdout",
     "output_type": "stream",
     "text": [
      "+---------+-----------------+\n",
      "|rate_type|count(message_id)|\n",
      "+---------+-----------------+\n",
      "|     EPRA|         11914786|\n",
      "|     EPRM|         25588796|\n",
      "|     ESRM|        105851405|\n",
      "|     ESRA|         44691781|\n",
      "|      GDS|         23491335|\n",
      "+---------+-----------------+"
     ]
    }
   ],
   "source": [
    "search_below_peterman_df.groupBy('rate_type').agg(F.count(F.col('message_id'))).show()"
   ]
  },
  {
   "cell_type": "markdown",
   "metadata": {},
   "source": [
    "## Exchange currency to USD"
   ]
  },
  {
   "cell_type": "code",
   "execution_count": 21,
   "metadata": {},
   "outputs": [],
   "source": [
    "sqlCurrency = \"\"\"select DISTINCT\n",
    "                 a.exchangeratedate as timestamp,\n",
    "                 trunc(a.exchangeratedate) as exch_rate_date,\n",
    "                 a.fromcurrencycode,\n",
    "                 a.exchangerate\n",
    "                 from public.exchangeratedailyfull a\n",
    "                 where trunc(a.exchangeratedate)>=to_date('20191201','YYYYMMDD') \n",
    "                 and trunc(a.exchangeratedate)<=to_date('20200101','YYYYMMDD') \n",
    "                 and tocurrencycode = 'USD' \"\"\"\n",
    "connection_string = \"jdbc:redshift://egencia-reporting.czjkedodj6lc.us-west-2.redshift.amazonaws.com:5439/egedatamart?user=ds_rpt_user&password=Jan2019!\";\n",
    "\n",
    "currency_df = sqlContext.read.\\\n",
    "    format(\"com.databricks.spark.redshift\").\\\n",
    "    option(\"url\", connection_string).\\\n",
    "    option(\"query\", sqlCurrency).\\\n",
    "    option(\"tempdir\", \"s3a://ege-ds-workshops-corp/yixli/\").\\\n",
    "    load().\\\n",
    "    dropDuplicates().\\\n",
    "    orderBy([\"exch_rate_date\",\"fromcurrencycode\"],ascending=True)"
   ]
  },
  {
   "cell_type": "code",
   "execution_count": 22,
   "metadata": {},
   "outputs": [],
   "source": [
    "local_below_peterman_df = search_below_peterman_df.filter(F.col('rate_type')!='GDS').filter(F.col('commission_base').isNotNull())\n",
    "local_below_peterman_df.registerTempTable(\"local_below_peterman_df\")\n",
    "currency_df.registerTempTable(\"currency_df\")"
   ]
  },
  {
   "cell_type": "code",
   "execution_count": 23,
   "metadata": {
    "scrolled": true
   },
   "outputs": [],
   "source": [
    "local_below_peterman_usd_df = sqlContext.sql(\"select\\\n",
    "                             a.*,\\\n",
    "                             a.rate_amount*COALESCE(ex1.exchangerate,1) AS src_rate_amount_usd,\\\n",
    "                             a.commission_base*COALESCE(ex2.exchangerate,1) AS src_commission_base_usd,\\\n",
    "                             a.commission_tax*COALESCE(ex2.exchangerate,1) AS src_commission_tax_usd\\\n",
    "                             from local_below_peterman_df a\\\n",
    "                             left join currency_df ex1 on to_date(a.message_date)=ex1.exch_rate_date and a.rate_currency=ex1.FromCurrencyCode\\\n",
    "                             left join currency_df ex2 on to_date(a.message_date)=ex2.exch_rate_date and a.commission_currency=ex2.FromCurrencyCode\").\\\n",
    "                             dropDuplicates()"
   ]
  },
  {
   "cell_type": "code",
   "execution_count": 24,
   "metadata": {},
   "outputs": [],
   "source": [
    "local_below_peterman_usd_df = local_below_peterman_usd_df.\\\n",
    "withColumn('src_supply_revenue_usd',F.col('src_commission_base_usd')+F.col('src_commission_tax_usd'))"
   ]
  },
  {
   "cell_type": "code",
   "execution_count": 25,
   "metadata": {},
   "outputs": [],
   "source": [
    "local_below_peterman_usd_df = local_below_peterman_usd_df.filter(F.col('src_supply_revenue_usd')<1000)"
   ]
  },
  {
   "cell_type": "code",
   "execution_count": 26,
   "metadata": {},
   "outputs": [
    {
     "name": "stdout",
     "output_type": "stream",
     "text": [
      "+---------+-----------------+\n",
      "|rate_type|count(message_id)|\n",
      "+---------+-----------------+\n",
      "|     EPRA|          2831144|\n",
      "|     EPRM|         10851577|\n",
      "|     ESRM|         45737980|\n",
      "|     ESRA|          7473111|\n",
      "+---------+-----------------+"
     ]
    }
   ],
   "source": [
    "local_below_peterman_usd_df.groupBy('rate_type').agg(F.count(F.col('message_id'))).show()"
   ]
  },
  {
   "cell_type": "code",
   "execution_count": 39,
   "metadata": {},
   "outputs": [],
   "source": [
    "sqlGDS =  \"\"\"SELECT \n",
    "      a.hotelid as hotel_id,\n",
    "     trunc(a.issuedate) as issue_date,\n",
    "     trunc(a.traveldatestart) as check_in_date,\n",
    "     trunc(a.traveldateend) as check_out_date,\n",
    "      (case when a.customersystemid=1 then a.TUIDTraveler else g.TUIDInternal end) as tuid,      \n",
    "      a.travelproductid AS travel_product_id,\n",
    "      a.GroupAccountID AS group_account_id,\n",
    "      hsp.rate_type as hotel_rate_type,\n",
    "      (case  \n",
    "        when a.hotelrateTypeSupplyid IN (1,2,3,4,5,10,11,14,16,17,18,20,25,26,28,29,30,32) then 'GDS'\n",
    "        when a.hotelrateTypeSupplyid IN (12,13,15,19,21,22,23,27,31,33,34) then 'NEG'\n",
    "        when a.hotelrateTypeSupplyid = 6 then 'ESRA'\n",
    "        when a.hotelrateTypeSupplyid = 7 then 'ESRM'\n",
    "        when a.hotelrateTypeSupplyid = 8 then 'EPRA'\n",
    "        when a.hotelrateTypeSupplyid = 9 then 'EPRM'\n",
    "        when a.hotelrateTypeSupplyid IN (24,35) then 'HOTMIP'\n",
    "        else 'UNK'\n",
    "        end) as bk_rate_type,\n",
    "      NVL(hsp.commission,0.00) As commission_rate,\n",
    "      NVL(hsp.gds,0.00) AS gds\n",
    "FROM public.HotelFact a\n",
    "  JOIN TravelerAccountDim g \n",
    "    ON a.TUIDTraveler = g.TUID AND a.customersystemid=g.customersystemid \n",
    "  JOIN public.GroupAccountdim d \n",
    "    ON a.GroupAccountID = d.GroupAccountID \n",
    "  JOIN public.hotel_supply hsp \n",
    "    ON hsp.year = EXTRACT (year FROM a.IssueDate)\n",
    "    AND hsp.quarter = EXTRACT (quarter FROM a.IssueDate)\n",
    "    AND hsp.rate_type = CASE\n",
    "         WHEN a.HotelRateTypeSupplyID IN (7,9,24) THEN 'Expedia Collect'\n",
    "         WHEN a.HotelRateTypeSupplyID IN (6,8,35) THEN 'Hotel Collect'\n",
    "         WHEN a.HotelRateTypeSupplyID IN (12,13,15,19,21,22,23,27,31,33,34) THEN 'Negotiated'\n",
    "         ELSE 'Published & GDS' END\n",
    "    AND hsp.travel_product_id = a.TravelProductID\n",
    "WHERE a.CustomerSystemID IN (1,2)\n",
    "AND   (d.groupaccountinternaltypeid = 1 OR d.groupaccountinternaltypeid = 3)\n",
    "AND a.BookingTypeID in (1,3) \n",
    "and hsp.year=2019\n",
    "and hsp.quarter=4\"\"\".replace('\\n',' ')\n",
    "            \n",
    "connection_string = \"jdbc:redshift://egencia-reporting.czjkedodj6lc.us-west-2.redshift.amazonaws.com:5439/egedatamart?user=ds_rpt_user&password=Jan2019!\";\n",
    "\n",
    "gds_df = sqlContext.read.\\\n",
    "    format(\"com.databricks.spark.redshift\").\\\n",
    "    option(\"url\", connection_string).\\\n",
    "    option(\"query\", sqlGDS).\\\n",
    "    option(\"tempdir\", \"s3a://ege-ds-workshops-corp/yixli/\").\\\n",
    "    load().\\\n",
    "    filter(F.col(\"hotel_rate_type\")=='Published & GDS').\\\n",
    "    filter(F.col('commission_rate').isNotNull()).\\\n",
    "    filter(F.col('gds').isNotNull()).\\\n",
    "    dropDuplicates()"
   ]
  },
  {
   "cell_type": "code",
   "execution_count": 40,
   "metadata": {},
   "outputs": [],
   "source": [
    "gds_df = gds_df.groupBy('hotel_id').agg(F.avg('commission_rate').alias('commission_rate'),\n",
    "                                       F.avg('gds').alias('gds'))"
   ]
  },
  {
   "cell_type": "code",
   "execution_count": 41,
   "metadata": {
    "collapsed": true
   },
   "outputs": [
    {
     "name": "stdout",
     "output_type": "stream",
     "text": [
      "+--------+--------------------+-----+\n",
      "|hotel_id|     commission_rate|  gds|\n",
      "+--------+--------------------+-----+\n",
      "|   28024|0.080000000000000...|0E-22|\n",
      "| 1805074|0.080000000000000...|0E-22|\n",
      "|  525571|0.080000000000000...|0E-22|\n",
      "|  578559|0.080000000000000...|0E-22|\n",
      "|19681545|0.080000000000000...|0E-22|\n",
      "|  807527|0.080000000000000...|0E-22|\n",
      "|  528692|0.080000000000000...|0E-22|\n",
      "|    5300|0.080000000000000...|0E-22|\n",
      "|  904712|0.080000000000000...|0E-22|\n",
      "|    7833|0.080000000000000...|0E-22|\n",
      "|  802387|0.080000000000000...|0E-22|\n",
      "| 5058675|0.080000000000000...|0E-22|\n",
      "|  892857|0.080000000000000...|0E-22|\n",
      "|23192964|0.080000000000000...|0E-22|\n",
      "|11135961|0.080000000000000...|0E-22|\n",
      "|18411003|0.080000000000000...|0E-22|\n",
      "|    1829|0.080000000000000...|0E-22|\n",
      "| 1144437|0.080000000000000...|0E-22|\n",
      "|33374019|0.080000000000000...|0E-22|\n",
      "|11785371|0.080000000000000...|0E-22|\n",
      "|18629649|0.080000000000000...|0E-22|\n",
      "| 2863595|0.080000000000000...|0E-22|\n",
      "|    4818|0.080000000000000...|0E-22|\n",
      "|    2366|0.080000000000000...|0E-22|\n",
      "| 2330805|0.080000000000000...|0E-22|\n",
      "| 1509301|0.080000000000000...|0E-22|\n",
      "|   23336|0.080000000000000...|0E-22|\n",
      "|   15727|0.080000000000000...|0E-22|\n",
      "|   67753|0.080000000000000...|0E-22|\n",
      "|   63964|0.080000000000000...|0E-22|\n",
      "| 5531547|0.080000000000000...|0E-22|\n",
      "|32146635|0.080000000000000...|0E-22|\n",
      "|    6654|0.080000000000000...|0E-22|\n",
      "|   71527|0.080000000000000...|0E-22|\n",
      "|    6357|0.080000000000000...|0E-22|\n",
      "|11484251|0.080000000000000...|0E-22|\n",
      "|    3918|0.080000000000000...|0E-22|\n",
      "|  967342|0.080000000000000...|0E-22|\n",
      "|  904487|0.080000000000000...|0E-22|\n",
      "|  858737|0.080000000000000...|0E-22|\n",
      "| 8107170|0.080000000000000...|0E-22|\n",
      "|27209200|0.080000000000000...|0E-22|\n",
      "|    7982|0.080000000000000...|0E-22|\n",
      "|    4935|0.080000000000000...|0E-22|\n",
      "|  794550|0.080000000000000...|0E-22|\n",
      "|11785356|0.080000000000000...|0E-22|\n",
      "| 1551365|0.080000000000000...|0E-22|\n",
      "|   26425|0.080000000000000...|0E-22|\n",
      "| 1210726|0.080000000000000...|0E-22|\n",
      "|31356812|0.080000000000000...|0E-22|\n",
      "+--------+--------------------+-----+\n",
      "only showing top 50 rows"
     ]
    }
   ],
   "source": [
    "gds_df.show(50)"
   ]
  },
  {
   "cell_type": "code",
   "execution_count": 42,
   "metadata": {},
   "outputs": [
    {
     "name": "stdout",
     "output_type": "stream",
     "text": [
      "23490685"
     ]
    }
   ],
   "source": [
    "gds_below_peterman_df = search_below_peterman_df.filter(F.col('rate_type')=='GDS')\n",
    "gds_below_peterman_df = gds_below_peterman_df.join(currency_df,\n",
    "                                                                [F.to_date(gds_below_peterman_df.message_date)==currency_df.exch_rate_date,\n",
    "                                                                gds_below_peterman_df.rate_currency==currency_df.fromcurrencycode]).\\\n",
    "                        withColumn('src_rate_amount_usd',gds_below_peterman_df.rate_amount*currency_df.exchangerate)                                             \n",
    "gds_below_peterman_df.count()"
   ]
  },
  {
   "cell_type": "code",
   "execution_count": 43,
   "metadata": {},
   "outputs": [],
   "source": [
    "gds_below_peterman_df = gds_below_peterman_df.\\\n",
    "join(gds_df.select('hotel_id','gds','commission_rate'),['hotel_id'],how='left').\\\n",
    "withColumn('src_supply_revenue_usd',F.col('src_rate_amount_usd')*F.col('commission_rate')+F.col('gds'))"
   ]
  },
  {
   "cell_type": "code",
   "execution_count": 44,
   "metadata": {},
   "outputs": [],
   "source": [
    "gds_below_peterman_df = gds_below_peterman_df.filter(F.col('src_supply_revenue_usd')<1000)"
   ]
  },
  {
   "cell_type": "code",
   "execution_count": 45,
   "metadata": {},
   "outputs": [
    {
     "name": "stdout",
     "output_type": "stream",
     "text": [
      "19233691"
     ]
    }
   ],
   "source": [
    "gds_below_peterman_df.count()"
   ]
  },
  {
   "cell_type": "code",
   "execution_count": 57,
   "metadata": {},
   "outputs": [],
   "source": [
    "gds_below_peterman_df = gds_below_peterman_df.withColumn('src_commission_base_usd',F.lit(0.0))"
   ]
  },
  {
   "cell_type": "code",
   "execution_count": 58,
   "metadata": {},
   "outputs": [],
   "source": [
    "search_revenue_below_peterman_usd_df = local_below_peterman_usd_df.select('hotel_id','message_id','message_date',\n",
    "                             'check_in_date','check_out_date','tuid',\n",
    "                             'rate_index','rate_type','hotel_result_index','hotel_index',\n",
    "                            'src_rate_amount_usd','src_commission_base_usd','src_supply_revenue_usd').\\\n",
    "                            union(gds_below_peterman_df.select('hotel_id','message_id','message_date',\n",
    "                             'check_in_date','check_out_date','tuid',\n",
    "                             'rate_index','rate_type','hotel_result_index','hotel_index',\n",
    "                            'src_rate_amount_usd','src_commission_base_usd','src_supply_revenue_usd'))"
   ]
  },
  {
   "cell_type": "code",
   "execution_count": 47,
   "metadata": {},
   "outputs": [
    {
     "name": "stdout",
     "output_type": "stream",
     "text": [
      "86127503"
     ]
    }
   ],
   "source": [
    "search_revenue_below_peterman_usd_df.count()"
   ]
  },
  {
   "cell_type": "code",
   "execution_count": null,
   "metadata": {},
   "outputs": [],
   "source": [
    "search_revenue_below_peterman_usd_df.groupBy('rate_type').agg(F.avg('src_supply_revenue_usd')).show()"
   ]
  },
  {
   "cell_type": "code",
   "execution_count": 60,
   "metadata": {},
   "outputs": [],
   "source": [
    "dir = 's3://ege-ds-workshops-corp/yixli/data_understanding/'\n",
    "\n",
    "datestamp = datetime.datetime.now().strftime('%m-%d-%Y')\n",
    "search_revenue_below_peterman_usd_df.repartition(1).write.format('com.databricks.spark.csv').mode('overwrite')\\\n",
    ".save(dir+datestamp+'_search_revenue_below_peterman_usd_df.csv',header = 'true')"
   ]
  },
  {
   "cell_type": "code",
   "execution_count": 59,
   "metadata": {},
   "outputs": [
    {
     "name": "stdout",
     "output_type": "stream",
     "text": [
      "root\n",
      " |-- hotel_id: integer (nullable = true)\n",
      " |-- message_id: string (nullable = true)\n",
      " |-- message_date: timestamp (nullable = true)\n",
      " |-- check_in_date: date (nullable = true)\n",
      " |-- check_out_date: date (nullable = true)\n",
      " |-- tuid: integer (nullable = true)\n",
      " |-- rate_index: integer (nullable = true)\n",
      " |-- rate_type: string (nullable = true)\n",
      " |-- hotel_result_index: integer (nullable = true)\n",
      " |-- hotel_index: integer (nullable = true)\n",
      " |-- src_rate_amount_usd: double (nullable = true)\n",
      " |-- src_commission_base_usd: double (nullable = true)\n",
      " |-- src_supply_revenue_usd: double (nullable = true)"
     ]
    }
   ],
   "source": [
    "search_revenue_below_peterman_usd_df.printSchema()"
   ]
  },
  {
   "cell_type": "code",
   "execution_count": 6,
   "metadata": {},
   "outputs": [],
   "source": [
    "search_schema = T.StructType([\n",
    "    T.StructField(\"hotel_id\", T.IntegerType(), True),                   #6\n",
    "     T.StructField(\"message_id\", T.StringType(), True),                  #1\n",
    "     T.StructField(\"message_date\", T.TimestampType(), True),             #2\n",
    "    T.StructField(\"check_in_date\", T.DateType(), True),                 #3\n",
    "    T.StructField(\"check_out_date\", T.DateType(), True),                #4\n",
    "    T.StructField(\"tuid\", T.IntegerType(), True),                       #5\n",
    "    T.StructField(\"rate_index\", T.IntegerType(), True),                 #8 \n",
    "    T.StructField(\"rate_type\", T.StringType(), True),                   #11\n",
    "    T.StructField(\"hotel_result_index\", T.IntegerType(), True),         #7\n",
    "    T.StructField(\"hotel_index\", T.IntegerType(), True),                 #8\n",
    "    T.StructField(\"src_rate_amount_usd\", T.FloatType(), True),              #12\n",
    "    T.StructField(\"src_commission_base_usd\", T.FloatType(), True),              #12\n",
    "    T.StructField(\"src_supply_revenue_usd\", T.FloatType(), True)              #14\n",
    "])"
   ]
  },
  {
   "cell_type": "code",
   "execution_count": 7,
   "metadata": {},
   "outputs": [
    {
     "name": "stdout",
     "output_type": "stream",
     "text": [
      "Collecting search the data...\n",
      "86127503"
     ]
    }
   ],
   "source": [
    "file_loc = \"s3://ege-ds-workshops-corp/yixli/data_understanding/08-11-2020_search_revenue_below_peterman_usd_df.csv\"\n",
    "print(\"Collecting search the data...\")\n",
    "search_revenue_below_peterman_usd_df = sqlContext.read.format('csv').\\\n",
    "            options(header='True', inferSchema='false', delimiter=',').\\\n",
    "            schema(search_schema).load(file_loc)\n",
    "\n",
    "# load_date between '20191201' and '20200101'\n",
    "print(search_revenue_below_peterman_usd_df.count())"
   ]
  },
  {
   "cell_type": "code",
   "execution_count": 52,
   "metadata": {},
   "outputs": [
    {
     "name": "stdout",
     "output_type": "stream",
     "text": [
      "+---------+-----------------+\n",
      "|rate_type|count(message_id)|\n",
      "+---------+-----------------+\n",
      "|     EPRA|          2831144|\n",
      "|     EPRM|         10851577|\n",
      "|     ESRM|         45737980|\n",
      "|     ESRA|          7473111|\n",
      "|      GDS|         19233691|\n",
      "+---------+-----------------+"
     ]
    }
   ],
   "source": [
    "search_revenue_below_peterman_usd_df.groupBy('rate_type').agg(F.count(F.col('message_id'))).show()"
   ]
  },
  {
   "cell_type": "code",
   "execution_count": 63,
   "metadata": {},
   "outputs": [
    {
     "name": "stdout",
     "output_type": "stream",
     "text": [
      "+---------+------------------------+----------------------------+---------------------------+\n",
      "|rate_type|avg(src_rate_amount_usd)|avg(src_commission_base_usd)|avg(src_supply_revenue_usd)|\n",
      "+---------+------------------------+----------------------------+---------------------------+\n",
      "|     EPRA|      160.50747284356697|           25.78638466699946|         28.737860917031753|\n",
      "|     EPRM|      182.55486579183457|          29.988307561942353|         38.195347010062655|\n",
      "|     ESRM|      177.43720665719636|           27.06187241759471|          34.92993847592493|\n",
      "|     ESRA|      150.86520571461784|           23.84484317570675|         26.644187551017772|\n",
      "|      GDS|      191.35448903623652|                         0.0|         15.308359133772106|\n",
      "+---------+------------------------+----------------------------+---------------------------+"
     ]
    }
   ],
   "source": [
    "search_revenue_below_peterman_usd_df.\\\n",
    "                  groupBy('rate_type').\\\n",
    "                  agg(F.avg(\"src_rate_amount_usd\"),F.avg(\"src_commission_base_usd\"),F.avg(\"src_supply_revenue_usd\")).show()"
   ]
  },
  {
   "cell_type": "code",
   "execution_count": 37,
   "metadata": {},
   "outputs": [],
   "source": [
    "%spark -o search_below_peterman_usd_df -n 30000"
   ]
  },
  {
   "cell_type": "markdown",
   "metadata": {},
   "source": [
    "## Booking data"
   ]
  },
  {
   "cell_type": "code",
   "execution_count": null,
   "metadata": {},
   "outputs": [],
   "source": [
    "'''\n",
    "wget https://s3.amazonaws.com/redshift-downloads/drivers/jdbc/1.2.20.1043/RedshiftJDBC42-no-awssdk-1.2.20.1043.jar\n",
    "wget https://repo1.maven.org/maven2/com/databricks/spark-avro_2.11/3.2.0/spark-avro_2.11-3.2.0.jar\n",
    "wget https://repo1.maven.org/maven2/com/databricks/spark-redshift_2.11/2.0.1/spark-redshift_2.11-2.0.1.jar\n",
    "wget https://repo1.maven.org/maven2/com/databricks/spark-csv_2.11/1.5.0/spark-csv_2.11-1.5.0.jar\n",
    "wget https://repo1.maven.org/maven2/com/eclipsesource/minimal-json/minimal-json/0.9.5/minimal-json-0.9.5.jar\n",
    "sudo cp *.jar /usr/lib/spark/jars\n",
    "'''"
   ]
  },
  {
   "cell_type": "code",
   "execution_count": 8,
   "metadata": {},
   "outputs": [
    {
     "name": "stdout",
     "output_type": "stream",
     "text": [
      "460242"
     ]
    }
   ],
   "source": [
    "sqlBookings = \"\"\"SELECT \n",
    "      a.hotelfactid,\n",
    "      a.hotelid as hotel_id,\n",
    "     trunc(a.issuedate) as issue_date,\n",
    "     trunc(a.traveldatestart) as check_in_date,\n",
    "     trunc(a.traveldateend) as check_out_date,\n",
    "     hsp.quarter as quarter,\n",
    "      (case when a.customersystemid=1 then a.TUIDTraveler else g.TUIDInternal end) as tuid,      \n",
    "      a.travelproductid AS travel_product_id,\n",
    "      a.GroupAccountID AS group_account_id,\n",
    "      hsp.rate_type AS hotel_rate_type,\n",
    "      (case  \n",
    "        when a.hotelrateTypeSupplyid IN (1,2,3,4,5,10,11,14,16,17,18,20,25,26,28,29,30,32) then 'GDS'\n",
    "        when a.hotelrateTypeSupplyid IN (12,13,15,19,21,22,23,27,31,33,34) then 'NEG'\n",
    "        when a.hotelrateTypeSupplyid = 6 then 'ESRA'\n",
    "        when a.hotelrateTypeSupplyid = 7 then 'ESRM'\n",
    "        when a.hotelrateTypeSupplyid = 8 then 'EPRA'\n",
    "        when a.hotelrateTypeSupplyid = 9 then 'EPRM'\n",
    "        when a.hotelrateTypeSupplyid IN (24,35) then 'HOTMIP'\n",
    "        else 'UNK'\n",
    "        end) as bk_rate_type,\n",
    "      CASE WHEN a.OnlineBool = 1 THEN 'online' ELSE 'offline' END AS booking_type,\n",
    "      a.bookingamtgross::DOUBLE precision*COALESCE(ex.exchangerate,1::DOUBLE precision) AS gross_booking_value_usd,\n",
    "      a.bookingamtcommissionest::DOUBLE precision*COALESCE(ex.exchangerate,1::DOUBLE precision)\n",
    "        + a.bookingamtgross::DOUBLE precision*COALESCE(ex.exchangerate,1::DOUBLE precision)*NVL(hsp.commission,0.00) AS total_commission,\n",
    "      a.bookingamtmargin::DOUBLE precision*COALESCE(ex.exchangerate,1::DOUBLE precision) AS total_markup,\n",
    "      NVL(hsp.gds,0.00) AS total_gds,\n",
    "      NVL(total_commission,0.00) + NVL(total_markup,0.00) + NVL(total_gds,0.00) AS total_supply_revenue\n",
    "FROM public.HotelFact a\n",
    "  JOIN public.ExchangeRateDailySubset ex\n",
    "    ON a.IssueDateTimeID = ex.TimeID AND a.CurrencyCode = ex.FromCurrencyCode AND ex.ToCurrencyCode = 'USD'\n",
    "  JOIN TravelerAccountDim g \n",
    "    ON a.TUIDTraveler = g.TUID AND a.customersystemid=g.customersystemid \n",
    "  JOIN public.GroupAccountdim d \n",
    "    ON a.GroupAccountID = d.GroupAccountID \n",
    "  JOIN public.hotel_supply hsp \n",
    "    ON hsp.year = EXTRACT (year FROM a.IssueDate)\n",
    "    AND hsp.quarter = EXTRACT (quarter FROM a.IssueDate)\n",
    "    AND hsp.rate_type = CASE\n",
    "         WHEN a.HotelRateTypeSupplyID IN (7,9,24) THEN 'Expedia Collect'\n",
    "         WHEN a.HotelRateTypeSupplyID IN (6,8,35) THEN 'Hotel Collect'\n",
    "         WHEN a.HotelRateTypeSupplyID IN (12,13,15,19,21,22,23,27,31,33,34) THEN 'Negotiated'\n",
    "         ELSE 'Published & GDS' END\n",
    "    AND hsp.travel_product_id = a.TravelProductID\n",
    "WHERE a.CustomerSystemID IN (1,2)\n",
    "AND   (d.groupaccountinternaltypeid = 1 OR d.groupaccountinternaltypeid = 3)\n",
    "AND a.BookingTypeID in (1,3) \n",
    "and a.issuedate>=to_date('20191201','YYYYMMDD') \n",
    "and a.issuedate<=to_date('20200101','YYYYMMDD')\"\"\".replace('\\n',' ')\n",
    "\n",
    "connection_string = \"jdbc:redshift://egencia-reporting.czjkedodj6lc.us-west-2.redshift.amazonaws.com:5439/egedatamart?user=ds_rpt_user&password=Jan2019!\";\n",
    "\n",
    "bookings_df = sqlContext.read.\\\n",
    "    format(\"com.databricks.spark.redshift\").\\\n",
    "    option(\"url\", connection_string).\\\n",
    "    option(\"query\", sqlBookings).\\\n",
    "    option(\"tempdir\", \"s3a://ege-ds-workshops-corp/yixli/\").\\\n",
    "    load()\n",
    "\n",
    "bookings_df.cache()\n",
    "bookings_df.count()"
   ]
  },
  {
   "cell_type": "code",
   "execution_count": 29,
   "metadata": {},
   "outputs": [],
   "source": [
    "dir = 's3://ege-ds-workshops-corp/yixli/data_understanding/'\n",
    "datestamp = datetime.datetime.now().strftime('%m-%d-%Y')\n",
    "bookings_df.repartition(1).write.format('com.databricks.spark.csv').mode('overwrite')\\\n",
    ".save(dir+datestamp+'_bookings_df.csv',header = 'true')"
   ]
  },
  {
   "cell_type": "code",
   "execution_count": 18,
   "metadata": {
    "collapsed": true
   },
   "outputs": [
    {
     "name": "stdout",
     "output_type": "stream",
     "text": [
      "+------------+-------------------------+---------------------+-----------------+\n",
      "|bk_rate_type|avg(total_supply_revenue)|avg(total_commission)|avg(total_markup)|\n",
      "+------------+-------------------------+---------------------+-----------------+\n",
      "|        EPRA|         46.0896540718292|     46.0896540718292|              0.0|\n",
      "|         NEG|                      0.0|                  0.0|              0.0|\n",
      "|        EPRM|        55.29926517066873|                  0.0|55.29926517066873|\n",
      "|        ESRM|        54.00079820764198|                  0.0|54.01410507738632|\n",
      "|      HOTMIP|        58.34601692940934|  0.18765591199625353|58.15836101741308|\n",
      "|        ESRA|        43.04767840746359|    43.04767840746359|              0.0|\n",
      "|         GDS|        28.36807550209393|   29.486316720503424|              0.0|\n",
      "+------------+-------------------------+---------------------+-----------------+"
     ]
    }
   ],
   "source": [
    "bookings_df.\\\n",
    "                  groupBy('bk_rate_type').\\\n",
    "                  agg(F.avg(\"total_supply_revenue\"),F.avg(\"total_commission\"),F.avg(\"total_markup\")).show(20)"
   ]
  },
  {
   "cell_type": "code",
   "execution_count": 9,
   "metadata": {},
   "outputs": [
    {
     "name": "stdout",
     "output_type": "stream",
     "text": [
      "340081"
     ]
    }
   ],
   "source": [
    "bookings_df = bookings_df.filter(F.col('bk_rate_type')!='NEG')\n",
    "bookings_df.count()"
   ]
  },
  {
   "cell_type": "code",
   "execution_count": 10,
   "metadata": {},
   "outputs": [],
   "source": [
    "bookings_df = bookings_df.withColumn('rate_type',F.when(F.col('bk_rate_type')=='HOTMIP','ESRM').otherwise(F.col('bk_rate_type')))"
   ]
  },
  {
   "cell_type": "code",
   "execution_count": 52,
   "metadata": {},
   "outputs": [
    {
     "name": "stdout",
     "output_type": "stream",
     "text": [
      "+------------+------+\n",
      "|bk_rate_type| count|\n",
      "+------------+------+\n",
      "|        EPRA| 14133|\n",
      "|        EPRM| 45201|\n",
      "|        ESRM|142069|\n",
      "|      HOTMIP| 21660|\n",
      "|        ESRA| 41233|\n",
      "|         GDS| 75785|\n",
      "+------------+------+"
     ]
    }
   ],
   "source": [
    "bookings_df.groupBy('bk_rate_type').count().show()"
   ]
  },
  {
   "cell_type": "code",
   "execution_count": 53,
   "metadata": {},
   "outputs": [
    {
     "name": "stdout",
     "output_type": "stream",
     "text": [
      "+---------+------+\n",
      "|rate_type| count|\n",
      "+---------+------+\n",
      "|     EPRA| 14133|\n",
      "|     EPRM| 45201|\n",
      "|     ESRM|163729|\n",
      "|     ESRA| 41233|\n",
      "|      GDS| 75785|\n",
      "+---------+------+"
     ]
    }
   ],
   "source": [
    "bookings_df.groupBy('rate_type').count().show()"
   ]
  },
  {
   "cell_type": "code",
   "execution_count": 19,
   "metadata": {
    "collapsed": true
   },
   "outputs": [
    {
     "name": "stdout",
     "output_type": "stream",
     "text": [
      "+-----------------+------+\n",
      "|travel_product_id| count|\n",
      "+-----------------+------+\n",
      "|            60000|128440|\n",
      "|            60020| 70777|\n",
      "|            60003| 31166|\n",
      "|            60006| 26748|\n",
      "|            60010| 16274|\n",
      "|            60035|  8081|\n",
      "|            60013|  6922|\n",
      "|            60004|  6558|\n",
      "|            61025|  6185|\n",
      "|            60011|  5331|\n",
      "|            60008|  4871|\n",
      "|            60080|  4669|\n",
      "|            60009|  4306|\n",
      "|            61027|  3226|\n",
      "|            60082|  2903|\n",
      "|            60092|  2406|\n",
      "|            60084|  1921|\n",
      "|            60081|  1420|\n",
      "|            60083|  1339|\n",
      "|            60086|  1005|\n",
      "+-----------------+------+\n",
      "only showing top 20 rows"
     ]
    }
   ],
   "source": [
    "bookings_df.groupBy('travel_product_id').count().orderBy(desc('count')).show()"
   ]
  },
  {
   "cell_type": "markdown",
   "metadata": {},
   "source": [
    "## Adjust the revenue by the length of stay"
   ]
  },
  {
   "cell_type": "code",
   "execution_count": 11,
   "metadata": {},
   "outputs": [],
   "source": [
    "bookings_df = bookings_df.filter(F.col('total_supply_revenue')>0)"
   ]
  },
  {
   "cell_type": "code",
   "execution_count": 12,
   "metadata": {},
   "outputs": [],
   "source": [
    "bookings_df = bookings_df.\\\n",
    "                     withColumn('duration', F.datediff(F.col(\"check_out_date\"),F.col( \"check_in_date\")).cast(IntegerType()))"
   ]
  },
  {
   "cell_type": "code",
   "execution_count": 13,
   "metadata": {},
   "outputs": [],
   "source": [
    "bookings_df = bookings_df.\\\n",
    "                     withColumn('avg_book_rate_amount_usd',F.col('gross_booking_value_usd')/F.col( \"duration\")).\\\n",
    "                     withColumn('bk_avg_commission_usd',F.col('total_commission')/F.col( \"duration\")).\\\n",
    "                     withColumn('bk_avg_markup_usd',F.col('total_markup')/F.col( \"duration\")).\\\n",
    "                     withColumn('bk_avg_revenue_usd',F.col('total_supply_revenue')/F.col( \"duration\"))"
   ]
  },
  {
   "cell_type": "code",
   "execution_count": 57,
   "metadata": {},
   "outputs": [
    {
     "name": "stdout",
     "output_type": "stream",
     "text": [
      "+------------+-----------------------+--------------------------+----------------------+\n",
      "|bk_rate_type|avg(bk_avg_revenue_usd)|avg(bk_avg_commission_usd)|avg(bk_avg_markup_usd)|\n",
      "+------------+-----------------------+--------------------------+----------------------+\n",
      "|        EPRA|     22.770339986908912|        22.770339986908912|                   0.0|\n",
      "|        EPRM|     27.509558886367884|                       0.0|    27.509558886367884|\n",
      "|        ESRM|     25.099492101674105|                       0.0|    25.099492101674105|\n",
      "|      HOTMIP|       28.1425649447915|       0.07082701419944325|    28.071737930592057|\n",
      "|        ESRA|     20.160778320416547|        20.160778320416547|                   0.0|\n",
      "|         GDS|     13.753334274583183|        13.753334274583183|                   0.0|\n",
      "+------------+-----------------------+--------------------------+----------------------+"
     ]
    }
   ],
   "source": [
    "bookings_df.\\\n",
    "                  groupBy('bk_rate_type').\\\n",
    "                  agg(F.avg(\"bk_avg_revenue_usd\"),F.avg(\"bk_avg_commission_usd\"),F.avg(\"bk_avg_markup_usd\")).show(20)"
   ]
  },
  {
   "cell_type": "code",
   "execution_count": 58,
   "metadata": {},
   "outputs": [
    {
     "name": "stdout",
     "output_type": "stream",
     "text": [
      "+---------+-----------------------+--------------------------+----------------------+\n",
      "|rate_type|avg(bk_avg_revenue_usd)|avg(bk_avg_commission_usd)|avg(bk_avg_markup_usd)|\n",
      "+---------+-----------------------+--------------------------+----------------------+\n",
      "|     EPRA|     22.770339986908915|        22.770339986908915|                   0.0|\n",
      "|     EPRM|     27.509558886367877|                       0.0|    27.509558886367877|\n",
      "|     ESRM|      25.50236527755179|      0.009376806149416746|    25.492988471402366|\n",
      "|     ESRA|     20.160778320416547|        20.160778320416547|                   0.0|\n",
      "|      GDS|     13.753334274583183|        13.753334274583183|                   0.0|\n",
      "+---------+-----------------------+--------------------------+----------------------+"
     ]
    }
   ],
   "source": [
    "bookings_df.\\\n",
    "                  groupBy('rate_type').\\\n",
    "                  agg(F.avg(\"bk_avg_revenue_usd\"),F.avg(\"bk_avg_commission_usd\"),F.avg(\"bk_avg_markup_usd\")).show(20)"
   ]
  },
  {
   "cell_type": "markdown",
   "metadata": {},
   "source": [
    "## Matching last message in search chain with booking record"
   ]
  },
  {
   "cell_type": "code",
   "execution_count": 59,
   "metadata": {},
   "outputs": [
    {
     "name": "stdout",
     "output_type": "stream",
     "text": [
      "319706"
     ]
    }
   ],
   "source": [
    "booking_search_df_no_filter = bookings_df.\\\n",
    "                join(search_df,[\"hotel_id\",\"check_in_date\", \"check_out_date\",\"tuid\",\n",
    "                                'rate_type']).\\\n",
    "                withColumn(\"rn\", row_number().over(Window.partitionBy(\"hotel_id\",\"check_in_date\",\"check_out_date\",\"tuid\").orderBy(desc(\"message_date\")))).\\\n",
    "                filter(F.col(\"rn\") == 1).\\\n",
    "                withColumnRenamed(\"hotel_index\",\"bk_hotel_index\")\n",
    "booking_search_df_no_filter.count()"
   ]
  },
  {
   "cell_type": "code",
   "execution_count": 14,
   "metadata": {},
   "outputs": [
    {
     "name": "stdout",
     "output_type": "stream",
     "text": [
      "83577"
     ]
    }
   ],
   "source": [
    "booking_search_df = bookings_df.\\\n",
    "                join(search_revenue_below_peterman_usd_df,[\"hotel_id\",\"check_in_date\", \"check_out_date\",\"tuid\",'rate_type']).\\\n",
    "                withColumn(\"rn\", row_number().over(Window.partitionBy(\"hotel_id\",\"check_in_date\",\"check_out_date\",\"tuid\").orderBy(desc(\"message_date\")))).\\\n",
    "                filter(F.col(\"rn\") == 1).\\\n",
    "                withColumnRenamed(\"hotel_index\",\"bk_hotel_index\")\n",
    "booking_search_df.count()"
   ]
  },
  {
   "cell_type": "code",
   "execution_count": 61,
   "metadata": {},
   "outputs": [
    {
     "name": "stdout",
     "output_type": "stream",
     "text": [
      "+-----------------+-----+\n",
      "|travel_product_id|count|\n",
      "+-----------------+-----+\n",
      "|            60000|36440|\n",
      "|            60020|16339|\n",
      "|            60003| 7478|\n",
      "|            60006| 6657|\n",
      "|            60010| 3462|\n",
      "|            60035| 1758|\n",
      "|            60004| 1471|\n",
      "|            60013| 1341|\n",
      "|            60008| 1103|\n",
      "|            60011| 1052|\n",
      "|            61025| 1047|\n",
      "|            60009|  972|\n",
      "|            60080|  885|\n",
      "|            61027|  659|\n",
      "|            60092|  514|\n",
      "|            60084|  488|\n",
      "|            60082|  482|\n",
      "|            60081|  324|\n",
      "|            60086|  301|\n",
      "|            60083|  296|\n",
      "+-----------------+-----+\n",
      "only showing top 20 rows"
     ]
    }
   ],
   "source": [
    "booking_search_df.groupBy('travel_product_id').count().orderBy(desc('count')).show()"
   ]
  },
  {
   "cell_type": "code",
   "execution_count": 62,
   "metadata": {},
   "outputs": [
    {
     "name": "stdout",
     "output_type": "stream",
     "text": [
      "+------------+-----+\n",
      "|bk_rate_type|count|\n",
      "+------------+-----+\n",
      "|        EPRA| 1856|\n",
      "|        EPRM| 9735|\n",
      "|        ESRM|31557|\n",
      "|      HOTMIP| 4955|\n",
      "|        ESRA| 4378|\n",
      "|         GDS|31096|\n",
      "+------------+-----+"
     ]
    }
   ],
   "source": [
    "booking_search_df.groupBy('bk_rate_type').count().show()"
   ]
  },
  {
   "cell_type": "code",
   "execution_count": 23,
   "metadata": {
    "collapsed": true
   },
   "outputs": [
    {
     "name": "stdout",
     "output_type": "stream",
     "text": [
      "root\n",
      " |-- hotel_id: integer (nullable = true)\n",
      " |-- check_in_date: date (nullable = true)\n",
      " |-- check_out_date: date (nullable = true)\n",
      " |-- tuid: integer (nullable = true)\n",
      " |-- hotelfactid: integer (nullable = true)\n",
      " |-- issue_date: date (nullable = true)\n",
      " |-- quarter: integer (nullable = true)\n",
      " |-- travel_product_id: integer (nullable = true)\n",
      " |-- group_account_id: integer (nullable = true)\n",
      " |-- hotel_rate_type: string (nullable = true)\n",
      " |-- bk_rate_type: string (nullable = true)\n",
      " |-- booking_type: string (nullable = true)\n",
      " |-- gross_booking_value_usd: double (nullable = true)\n",
      " |-- total_commission: double (nullable = true)\n",
      " |-- total_markup: double (nullable = true)\n",
      " |-- total_gds: decimal(20,18) (nullable = true)\n",
      " |-- total_supply_revenue: double (nullable = true)\n",
      " |-- duration: integer (nullable = true)\n",
      " |-- avg_book_rate_amount_usd: double (nullable = true)\n",
      " |-- bk_avg_commission_usd: double (nullable = true)\n",
      " |-- bk_avg_markup_usd: double (nullable = true)\n",
      " |-- bk_avg_revenue_usd: double (nullable = true)\n",
      " |-- message_id: string (nullable = true)\n",
      " |-- message_date: timestamp (nullable = true)\n",
      " |-- hotel_result_index: integer (nullable = true)\n",
      " |-- rate_index: integer (nullable = true)\n",
      " |-- rate_amount: float (nullable = true)\n",
      " |-- rate_currency: string (nullable = true)\n",
      " |-- rate_type: string (nullable = true)\n",
      " |-- commission_base: float (nullable = true)\n",
      " |-- base_category: string (nullable = true)\n",
      " |-- commission_tax: float (nullable = true)\n",
      " |-- tax_category: string (nullable = true)\n",
      " |-- commission_currency: string (nullable = true)\n",
      " |-- bk_hotel_index: integer (nullable = true)\n",
      " |-- src_rate_amount_usd: double (nullable = true)\n",
      " |-- src_commission_base_usd: double (nullable = true)\n",
      " |-- src_commission_tax_usd: double (nullable = true)\n",
      " |-- rn: integer (nullable = true)"
     ]
    }
   ],
   "source": [
    "booking_search_df.printSchema()"
   ]
  },
  {
   "cell_type": "markdown",
   "metadata": {},
   "source": [
    "## Match rates: is booked/not booked"
   ]
  },
  {
   "cell_type": "code",
   "execution_count": 15,
   "metadata": {},
   "outputs": [],
   "source": [
    "booking_search_df = booking_search_df.\\\n",
    "                         withColumn('rate_diff',F.abs(F.col('avg_book_rate_amount_usd')-F.col('src_rate_amount_usd')))"
   ]
  },
  {
   "cell_type": "code",
   "execution_count": 16,
   "metadata": {},
   "outputs": [],
   "source": [
    "booking_search_df = booking_search_df.\\\n",
    "                         withColumn('is_booked',F.when((F.col('rate_diff')<1.0) & (F.col('bk_rate_type')==F.col('rate_type')),1).otherwise(0))"
   ]
  },
  {
   "cell_type": "code",
   "execution_count": 17,
   "metadata": {},
   "outputs": [
    {
     "name": "stdout",
     "output_type": "stream",
     "text": [
      "19580"
     ]
    }
   ],
   "source": [
    "booking_search_df.filter(F.col('is_booked')==1).count()"
   ]
  },
  {
   "cell_type": "code",
   "execution_count": 66,
   "metadata": {},
   "outputs": [],
   "source": [
    "booking_search_df = booking_search_df.\\\n",
    "                    withColumn('revenue_diff1',F.abs(F.col('bk_avg_revenue_usd')-F.col('src_commission_base_usd'))).\\\n",
    "                    withColumn('revenue_diff2',F.abs(F.col('bk_avg_revenue_usd')-F.col('src_supply_revenue_usd'))).\\\n",
    "                    withColumn('relative_revenue_diff1',F.abs(F.col('bk_avg_revenue_usd')-F.col('src_commission_base_usd'))/F.col('src_commission_base_usd')).\\\n",
    "                    withColumn('relative_revenue_diff2',F.abs(F.col('bk_avg_revenue_usd')-F.col('src_supply_revenue_usd'))/F.col('src_supply_revenue_usd'))"
   ]
  },
  {
   "cell_type": "code",
   "execution_count": 67,
   "metadata": {},
   "outputs": [
    {
     "name": "stdout",
     "output_type": "stream",
     "text": [
      "root\n",
      " |-- hotel_id: integer (nullable = true)\n",
      " |-- check_in_date: date (nullable = true)\n",
      " |-- check_out_date: date (nullable = true)\n",
      " |-- tuid: integer (nullable = true)\n",
      " |-- rate_type: string (nullable = true)\n",
      " |-- hotelfactid: integer (nullable = true)\n",
      " |-- issue_date: date (nullable = true)\n",
      " |-- quarter: integer (nullable = true)\n",
      " |-- travel_product_id: integer (nullable = true)\n",
      " |-- group_account_id: integer (nullable = true)\n",
      " |-- hotel_rate_type: string (nullable = true)\n",
      " |-- bk_rate_type: string (nullable = true)\n",
      " |-- booking_type: string (nullable = true)\n",
      " |-- gross_booking_value_usd: double (nullable = true)\n",
      " |-- total_commission: double (nullable = true)\n",
      " |-- total_markup: double (nullable = true)\n",
      " |-- total_gds: decimal(20,18) (nullable = true)\n",
      " |-- total_supply_revenue: double (nullable = true)\n",
      " |-- duration: integer (nullable = true)\n",
      " |-- avg_book_rate_amount_usd: double (nullable = true)\n",
      " |-- bk_avg_commission_usd: double (nullable = true)\n",
      " |-- bk_avg_markup_usd: double (nullable = true)\n",
      " |-- bk_avg_revenue_usd: double (nullable = true)\n",
      " |-- message_id: string (nullable = true)\n",
      " |-- message_date: timestamp (nullable = true)\n",
      " |-- rate_index: integer (nullable = true)\n",
      " |-- hotel_result_index: integer (nullable = true)\n",
      " |-- bk_hotel_index: integer (nullable = true)\n",
      " |-- src_rate_amount_usd: float (nullable = true)\n",
      " |-- src_commission_base_usd: float (nullable = true)\n",
      " |-- src_supply_revenue_usd: float (nullable = true)\n",
      " |-- rn: integer (nullable = true)\n",
      " |-- rate_diff: double (nullable = true)\n",
      " |-- is_booked: integer (nullable = false)\n",
      " |-- revenue_diff1: double (nullable = true)\n",
      " |-- revenue_diff2: double (nullable = true)\n",
      " |-- relative_revenue_diff1: double (nullable = true)\n",
      " |-- relative_revenue_diff2: double (nullable = true)"
     ]
    }
   ],
   "source": [
    "booking_search_df.printSchema()"
   ]
  },
  {
   "cell_type": "code",
   "execution_count": 72,
   "metadata": {},
   "outputs": [],
   "source": [
    "%spark -o booking_search_df -n 10000"
   ]
  },
  {
   "cell_type": "code",
   "execution_count": 73,
   "metadata": {},
   "outputs": [],
   "source": [
    "%local\n",
    "import pandas as pd\n",
    "import numpy as np\n",
    "import matplotlib.pyplot as plt\n",
    "import seaborn as sns\n",
    "pd.options.display.float_format = '{:.5f}'.format"
   ]
  },
  {
   "cell_type": "code",
   "execution_count": 82,
   "metadata": {},
   "outputs": [],
   "source": [
    "%local\n",
    "def revenue_diff_hist(df,revenue):\n",
    "    df = df.sort_values(by=['bk_rate_type'])\n",
    "    fig = plt.figure(figsize=(8,6))\n",
    "    fig = sns.boxplot(x='rate_type', y=revenue,data=df)\n",
    "    fig.set(xlabel='rate_type', ylabel='revenue difference')\n",
    "    fig.set_ylim(bottom=0,top=13)\n",
    "    plt.tight_layout()\n",
    "    return fig"
   ]
  },
  {
   "cell_type": "code",
   "execution_count": 83,
   "metadata": {},
   "outputs": [],
   "source": [
    "%local\n",
    "fig1 = revenue_diff_hist(booking_search_df,'revenue_diff1')\n",
    "fig1.figure.savefig('image/revenue_diff1.png')\n",
    "\n",
    "fig2 = revenue_diff_hist(booking_search_df,'revenue_diff2')\n",
    "fig2.figure.savefig('image/revenue_diff2.png')\n",
    "\n",
    "\n"
   ]
  },
  {
   "cell_type": "code",
   "execution_count": 68,
   "metadata": {},
   "outputs": [
    {
     "name": "stdout",
     "output_type": "stream",
     "text": [
      "+------------+-----+\n",
      "|bk_rate_type|count|\n",
      "+------------+-----+\n",
      "|        EPRA|  550|\n",
      "|        EPRM| 6722|\n",
      "|        ESRM|23208|\n",
      "|      HOTMIP| 3623|\n",
      "|        ESRA| 1471|\n",
      "+------------+-----+"
     ]
    }
   ],
   "source": [
    "booking_search_df.filter(F.col('relative_revenue_diff1')>0.15).groupBy('bk_rate_type').count().show()"
   ]
  },
  {
   "cell_type": "code",
   "execution_count": 69,
   "metadata": {},
   "outputs": [
    {
     "name": "stdout",
     "output_type": "stream",
     "text": [
      "+------------+-----+\n",
      "|bk_rate_type|count|\n",
      "+------------+-----+\n",
      "|        EPRA|  678|\n",
      "|        EPRM| 3683|\n",
      "|        ESRM|14352|\n",
      "|      HOTMIP| 3106|\n",
      "|        ESRA| 1793|\n",
      "|         GDS|18502|\n",
      "+------------+-----+"
     ]
    }
   ],
   "source": [
    "booking_search_df.filter(F.col('relative_revenue_diff2')>0.1).groupBy('bk_rate_type').count().show()"
   ]
  },
  {
   "cell_type": "code",
   "execution_count": 85,
   "metadata": {},
   "outputs": [
    {
     "name": "stdout",
     "output_type": "stream",
     "text": [
      "+---------+-----+\n",
      "|rate_type|count|\n",
      "+---------+-----+\n",
      "|     EPRA|  370|\n",
      "|     EPRM| 2620|\n",
      "|     ESRM|11852|\n",
      "|     ESRA|  952|\n",
      "|      GDS| 1795|\n",
      "+---------+-----+"
     ]
    }
   ],
   "source": [
    "booking_search_df.filter(F.col('revenue_diff2')>4).groupBy('rate_type').count().show()"
   ]
  },
  {
   "cell_type": "code",
   "execution_count": 86,
   "metadata": {},
   "outputs": [
    {
     "name": "stdout",
     "output_type": "stream",
     "text": [
      "+---------+-----+\n",
      "|rate_type|count|\n",
      "+---------+-----+\n",
      "|     EPRA|  683|\n",
      "|     EPRM| 4224|\n",
      "|     ESRM|18616|\n",
      "|     ESRA| 1696|\n",
      "|      GDS| 7820|\n",
      "+---------+-----+"
     ]
    }
   ],
   "source": [
    "booking_search_df.filter(F.col('revenue_diff2')>2).groupBy('rate_type').count().show()"
   ]
  },
  {
   "cell_type": "code",
   "execution_count": 71,
   "metadata": {
    "scrolled": true
   },
   "outputs": [
    {
     "name": "stdout",
     "output_type": "stream",
     "text": [
      "+------------+-----------------+--------+------------------+-----------------------+\n",
      "|bk_rate_type|travel_product_id|duration|bk_avg_revenue_usd|src_commission_base_usd|\n",
      "+------------+-----------------+--------+------------------+-----------------------+\n",
      "|         GDS|            60000|       1|           42.0224|                    0.0|\n",
      "|      HOTMIP|            60000|       3|            121.13|                  348.0|\n",
      "|        ESRM|            60000|       3|            181.25|                 344.85|\n",
      "|        ESRM|            60000|       3|59.626666666666665|                 274.67|\n",
      "|        ESRM|            60000|       2|            163.61|                 286.86|\n",
      "|        ESRM|            60000|       1|            212.54|                 347.08|\n",
      "|        ESRM|            60000|       6| 80.75023333333333|              208.96822|\n",
      "|        ESRA|            60003|       2|15.049504950495047|              164.85808|\n",
      "|        ESRA|            60003|       2|15.049504950495047|              164.85808|\n",
      "|        EPRM|            60020|       1| 57.59366636931308|              183.74219|\n",
      "|        ESRM|            60010|       3|125.78635741682096|                 297.18|\n",
      "|        ESRM|            60010|       5|22.993199281036812|               158.1838|\n",
      "|        ESRM|            60020|       1|128.90414450354558|              214.87746|\n",
      "|        ESRA|            60020|       1| 12.95824565289618|               150.8805|\n",
      "|        ESRM|            60000|       3| 223.7286333333333|               57.12278|\n",
      "|        ESRA|            60006|       2|14.366855997327116|              155.97505|\n",
      "|        EPRM|            60010|       1| 27.07982219197314|              148.24747|\n",
      "|      HOTMIP|            60000|       4|            155.26|                 228.48|\n",
      "|        ESRM|            60080|       2|147.05247700321428|              228.95515|\n",
      "|        EPRA|            60000|       6|189.22493333333333|               44.15248|\n",
      "|        EPRM|            60000|       2|            132.16|                 200.07|\n",
      "|        ESRM|            60000|       3| 223.7286333333333|              76.390205|\n",
      "|      HOTMIP|            60000|       7| 38.74285714285714|                 133.67|\n",
      "|      HOTMIP|            60000|       2|             146.4|                 217.67|\n",
      "|        EPRM|            60003|       4|166.22783411336414|                   41.8|\n",
      "|        ESRM|            60003|       2| 97.46980473296263|              163.15614|\n",
      "|        ESRM|            60092|       1|19.321131936787946|              119.74197|\n",
      "|        ESRA|            60013|       2|  38.7805926562802|              119.40438|\n",
      "|        EPRM|            61025|       3|264.25812897366035|                 288.83|\n",
      "|        ESRM|            60000|       1|             63.13|                 115.25|\n",
      "|        ESRM|            60000|       2|            40.645|                 104.85|\n",
      "|        ESRM|            60000|       3| 95.68403333333333|              149.34027|\n",
      "|      HOTMIP|            60000|       2|             38.84|                 108.12|\n",
      "|        EPRM|            60000|       2|             128.5|                 164.85|\n",
      "|      HOTMIP|            60000|       1|              95.8|                 158.24|\n",
      "|        ESRM|            60006|       1|19.836083730202613|              113.66357|\n",
      "|        ESRM|            60003|       2|228.31274638633343|                 257.71|\n",
      "|        ESRM|            60083|       2|  23.5259494375766|              107.60157|\n",
      "|        ESRM|            60000|       1|            150.35|                 189.81|\n",
      "|        ESRM|            60000|       2|            236.36|                  270.0|\n",
      "|      HOTMIP|            60000|       2|              7.32|                  85.44|\n",
      "|        ESRM|            60010|       3| 66.07271546427945|              156.07777|\n",
      "|        ESRM|            60000|       2|         157.72455|              200.80736|\n",
      "|      HOTMIP|            60000|       1|              25.4|                 102.15|\n",
      "|        EPRM|            60020|       2|20.042194092826964|               94.28159|\n",
      "|        ESRM|            60000|       4|            112.07|                 174.75|\n",
      "|      HOTMIP|            60003|       1|21.903221458417647|                96.8055|\n",
      "|        ESRM|            60003|       3|30.112721000431225|                  98.06|\n",
      "|        ESRM|            60035|       2|20.916845766955436|                  90.56|\n",
      "|      HOTMIP|            60010|       2|17.160343454663536|              104.48554|\n",
      "+------------+-----------------+--------+------------------+-----------------------+\n",
      "only showing top 50 rows"
     ]
    }
   ],
   "source": [
    "booking_search_df.select('bk_rate_type','travel_product_id','duration','bk_avg_revenue_usd','src_commission_base_usd').\\\n",
    "                  orderBy(desc('revenue_diff2')).show(50)"
   ]
  },
  {
   "cell_type": "code",
   "execution_count": 48,
   "metadata": {},
   "outputs": [],
   "source": [
    "dir = 's3://ege-ds-workshops-corp/yixli/data_understanding/'"
   ]
  },
  {
   "cell_type": "code",
   "execution_count": 49,
   "metadata": {},
   "outputs": [],
   "source": [
    "datestamp = datetime.datetime.now().strftime('%m-%d-%Y')\n",
    "booking_search_df.repartition(1).write.format('com.databricks.spark.csv').mode('overwrite')\\\n",
    ".save(dir+datestamp+'_booking_search_df.csv',header = 'true')"
   ]
  },
  {
   "cell_type": "markdown",
   "metadata": {},
   "source": [
    "## Match labels back to search data"
   ]
  },
  {
   "cell_type": "code",
   "execution_count": 87,
   "metadata": {},
   "outputs": [
    {
     "name": "stdout",
     "output_type": "stream",
     "text": [
      "root\n",
      " |-- hotel_id: integer (nullable = true)\n",
      " |-- check_in_date: date (nullable = true)\n",
      " |-- check_out_date: date (nullable = true)\n",
      " |-- tuid: integer (nullable = true)\n",
      " |-- rate_type: string (nullable = true)\n",
      " |-- hotelfactid: integer (nullable = true)\n",
      " |-- issue_date: date (nullable = true)\n",
      " |-- quarter: integer (nullable = true)\n",
      " |-- travel_product_id: integer (nullable = true)\n",
      " |-- group_account_id: integer (nullable = true)\n",
      " |-- hotel_rate_type: string (nullable = true)\n",
      " |-- bk_rate_type: string (nullable = true)\n",
      " |-- booking_type: string (nullable = true)\n",
      " |-- gross_booking_value_usd: double (nullable = true)\n",
      " |-- total_commission: double (nullable = true)\n",
      " |-- total_markup: double (nullable = true)\n",
      " |-- total_gds: decimal(20,18) (nullable = true)\n",
      " |-- total_supply_revenue: double (nullable = true)\n",
      " |-- duration: integer (nullable = true)\n",
      " |-- avg_book_rate_amount_usd: double (nullable = true)\n",
      " |-- bk_avg_commission_usd: double (nullable = true)\n",
      " |-- bk_avg_markup_usd: double (nullable = true)\n",
      " |-- bk_avg_revenue_usd: double (nullable = true)\n",
      " |-- message_id: string (nullable = true)\n",
      " |-- message_date: timestamp (nullable = true)\n",
      " |-- rate_index: integer (nullable = true)\n",
      " |-- hotel_result_index: integer (nullable = true)\n",
      " |-- bk_hotel_index: integer (nullable = true)\n",
      " |-- src_rate_amount_usd: float (nullable = true)\n",
      " |-- src_commission_base_usd: float (nullable = true)\n",
      " |-- src_supply_revenue_usd: float (nullable = true)\n",
      " |-- rn: integer (nullable = true)\n",
      " |-- rate_diff: double (nullable = true)\n",
      " |-- is_booked: integer (nullable = false)\n",
      " |-- revenue_diff1: double (nullable = true)\n",
      " |-- revenue_diff2: double (nullable = true)\n",
      " |-- relative_revenue_diff1: double (nullable = true)\n",
      " |-- relative_revenue_diff2: double (nullable = true)"
     ]
    }
   ],
   "source": [
    "booking_search_df.printSchema()"
   ]
  },
  {
   "cell_type": "code",
   "execution_count": 18,
   "metadata": {},
   "outputs": [
    {
     "name": "stdout",
     "output_type": "stream",
     "text": [
      "86127503"
     ]
    }
   ],
   "source": [
    "search_revenue_below_peterman_usd_label_df = search_revenue_below_peterman_usd_df.\\\n",
    "                join(booking_search_df.select('is_booked',\"message_id\",\"hotel_id\",\"check_in_date\", \"check_out_date\",\"tuid\",'rate_type','rate_index'),\n",
    "                     [\"message_id\",\"hotel_id\",\"check_in_date\", \"check_out_date\",\"tuid\",'rate_type','rate_index'],\n",
    "                     how='left').\\\n",
    "                withColumn(\"label\", F.when(F.col('is_booked')==1,1).otherwise(0))\n",
    "search_revenue_below_peterman_usd_label_df.count()"
   ]
  },
  {
   "cell_type": "code",
   "execution_count": 19,
   "metadata": {},
   "outputs": [
    {
     "name": "stdout",
     "output_type": "stream",
     "text": [
      "23261"
     ]
    }
   ],
   "source": [
    "search_revenue_below_peterman_usd_label_df.filter(F.col('label')==1).count()"
   ]
  },
  {
   "cell_type": "code",
   "execution_count": 20,
   "metadata": {},
   "outputs": [
    {
     "name": "stdout",
     "output_type": "stream",
     "text": [
      "86104415"
     ]
    }
   ],
   "source": [
    "search_revenue_below_peterman_usd_label_df.filter(F.col('label')==0).count()"
   ]
  },
  {
   "cell_type": "code",
   "execution_count": 23,
   "metadata": {},
   "outputs": [
    {
     "name": "stdout",
     "output_type": "stream",
     "text": [
      "root\n",
      " |-- message_id: string (nullable = true)\n",
      " |-- hotel_id: integer (nullable = true)\n",
      " |-- check_in_date: date (nullable = true)\n",
      " |-- check_out_date: date (nullable = true)\n",
      " |-- tuid: integer (nullable = true)\n",
      " |-- rate_type: string (nullable = true)\n",
      " |-- rate_index: integer (nullable = true)\n",
      " |-- message_date: timestamp (nullable = true)\n",
      " |-- hotel_result_index: integer (nullable = true)\n",
      " |-- hotel_index: integer (nullable = true)\n",
      " |-- src_rate_amount_usd: float (nullable = true)\n",
      " |-- src_commission_base_usd: float (nullable = true)\n",
      " |-- src_supply_revenue_usd: float (nullable = true)\n",
      " |-- is_booked: integer (nullable = true)\n",
      " |-- label: integer (nullable = false)"
     ]
    }
   ],
   "source": [
    "search_revenue_below_peterman_usd_label_df.printSchema()"
   ]
  },
  {
   "cell_type": "code",
   "execution_count": 22,
   "metadata": {},
   "outputs": [],
   "source": [
    "dir = 's3://ege-ds-workshops-corp/yixli/data_understanding/'\n",
    "datestamp = datetime.datetime.now().strftime('%m-%d-%Y')\n",
    "search_revenue_below_peterman_usd_label_df.repartition(1).write.format('com.databricks.spark.csv').mode('overwrite')\\\n",
    ".save(dir+datestamp+'_search_revenue_below_peterman_usd_label_dfa.csv',header = 'true')"
   ]
  },
  {
   "cell_type": "markdown",
   "metadata": {},
   "source": [
    "## Estimated revenue from booking data"
   ]
  },
  {
   "cell_type": "code",
   "execution_count": 81,
   "metadata": {},
   "outputs": [
    {
     "name": "stdout",
     "output_type": "stream",
     "text": [
      "+---------+-----------------------+--------------------------+----------------------+\n",
      "|rate_type|avg(bk_avg_revenue_usd)|avg(bk_avg_commission_usd)|avg(bk_avg_markup_usd)|\n",
      "+---------+-----------------------+--------------------------+----------------------+\n",
      "|     EPRA|     22.770339986908915|        22.770339986908915|                   0.0|\n",
      "|     EPRM|     27.509558886367877|                       0.0|    27.509558886367877|\n",
      "|     ESRM|      25.50236527755179|      0.009376806149416746|    25.492988471402366|\n",
      "|     ESRA|     20.160778320416547|        20.160778320416547|                   0.0|\n",
      "|      GDS|     13.753334274583183|        13.753334274583183|                   0.0|\n",
      "+---------+-----------------------+--------------------------+----------------------+"
     ]
    }
   ],
   "source": [
    "bookings_df.\\\n",
    "                  groupBy('rate_type').\\\n",
    "                  agg(F.avg(\"bk_avg_revenue_usd\"),F.avg(\"bk_avg_commission_usd\"),F.avg(\"bk_avg_markup_usd\")).show(20)"
   ]
  },
  {
   "cell_type": "markdown",
   "metadata": {},
   "source": [
    "## Estimated revenue from Search data(all)"
   ]
  },
  {
   "cell_type": "code",
   "execution_count": 79,
   "metadata": {},
   "outputs": [
    {
     "name": "stdout",
     "output_type": "stream",
     "text": [
      "+---------+----------------------------+---------------------------+\n",
      "|rate_type|avg(src_commission_base_usd)|avg(src_supply_revenue_usd)|\n",
      "+---------+----------------------------+---------------------------+\n",
      "|     EPRA|          21.687513998282636|          24.03620434476077|\n",
      "|     EPRM|           23.73457794222754|         30.228037416879875|\n",
      "|     ESRM|           21.49949521765525|          27.81141515292509|\n",
      "|     ESRA|           19.35225252128575|         21.406924983947718|\n",
      "|      GDS|                         0.0|         12.537897125821159|\n",
      "+---------+----------------------------+---------------------------+"
     ]
    }
   ],
   "source": [
    "booking_search_df.\\\n",
    "                  groupBy('rate_type').\\\n",
    "                  agg(F.avg(\"src_commission_base_usd\"),F.avg(F.col(\"src_supply_revenue_usd\"))).show(20)"
   ]
  },
  {
   "cell_type": "markdown",
   "metadata": {},
   "source": [
    "## Estimated revenue from Search data(is booked)"
   ]
  },
  {
   "cell_type": "code",
   "execution_count": 80,
   "metadata": {},
   "outputs": [
    {
     "name": "stdout",
     "output_type": "stream",
     "text": [
      "+---------+----------------------------+---------------------------+\n",
      "|rate_type|avg(src_commission_base_usd)|avg(src_supply_revenue_usd)|\n",
      "+---------+----------------------------+---------------------------+\n",
      "|     EPRA|           19.00152848300807|         21.049423043849462|\n",
      "|     EPRM|          18.799430768026244|         23.272720480296346|\n",
      "|     ESRM|          16.611169259773764|          21.12176178395332|\n",
      "|     ESRA|           17.01638980266414|          18.75087200991715|\n",
      "|      GDS|                         0.0|         10.605623845375613|\n",
      "+---------+----------------------------+---------------------------+"
     ]
    }
   ],
   "source": [
    "booking_search_df.filter(F.col('is_booked')==1).\\\n",
    "                  groupBy('rate_type').\\\n",
    "                  agg(F.avg(\"src_commission_base_usd\"),F.avg(F.col(\"src_supply_revenue_usd\"))).show(20)"
   ]
  },
  {
   "cell_type": "markdown",
   "metadata": {},
   "source": [
    "## Probabilty of booking by rate types"
   ]
  },
  {
   "cell_type": "code",
   "execution_count": 78,
   "metadata": {},
   "outputs": [
    {
     "name": "stdout",
     "output_type": "stream",
     "text": [
      "+------------+----------------+-------------------+\n",
      "|bk_rate_type|count(is_booked)|     avg(is_booked)|\n",
      "+------------+----------------+-------------------+\n",
      "|        EPRA|            1852| 0.4924406047516199|\n",
      "|        EPRM|            9739|0.29387000718759626|\n",
      "|        ESRM|           31560| 0.2282319391634981|\n",
      "|      HOTMIP|            4949|                0.0|\n",
      "|        ESRA|            4375|             0.4256|\n",
      "|         GDS|           31102|0.21664201659057294|\n",
      "+------------+----------------+-------------------+"
     ]
    }
   ],
   "source": [
    "booking_search_df.\\\n",
    "                  groupBy('bk_rate_type').agg(F.count(F.col('is_booked')), F.avg(F.col('is_booked'))).show(20)"
   ]
  },
  {
   "cell_type": "markdown",
   "metadata": {},
   "source": [
    "## Probabilty of booking by rate index"
   ]
  },
  {
   "cell_type": "code",
   "execution_count": 46,
   "metadata": {
    "collapsed": true
   },
   "outputs": [
    {
     "name": "stdout",
     "output_type": "stream",
     "text": [
      "+----------+----------------+--------------------+\n",
      "|rate_index|count(is_booked)|      avg(is_booked)|\n",
      "+----------+----------------+--------------------+\n",
      "|        12|             284| 0.02464788732394366|\n",
      "|         1|           10330|  0.1841239109390126|\n",
      "|        13|             179|  0.0111731843575419|\n",
      "|         6|            3755| 0.07163781624500666|\n",
      "|         3|            6075| 0.12609053497942388|\n",
      "|         5|            4681| 0.07968382824182867|\n",
      "|        15|               9|                 0.0|\n",
      "|         9|            1392| 0.03735632183908046|\n",
      "|         4|            5201| 0.09402038069601999|\n",
      "|         8|            3201| 0.05529522024367385|\n",
      "|         7|            3509| 0.06497577657452265|\n",
      "|        10|            1080| 0.03333333333333333|\n",
      "|        11|             939| 0.01597444089456869|\n",
      "|        14|             162|0.012345679012345678|\n",
      "|         2|            8246| 0.11872422992966286|\n",
      "|         0|           13800| 0.27956521739130435|\n",
      "+----------+----------------+--------------------+"
     ]
    }
   ],
   "source": [
    "booking_search_df.\\\n",
    "                  groupBy('rate_index').agg(F.count(F.col('is_booked')), F.avg(F.col('is_booked'))).show(20)"
   ]
  },
  {
   "cell_type": "code",
   "execution_count": 94,
   "metadata": {
    "scrolled": true
   },
   "outputs": [
    {
     "name": "stderr",
     "output_type": "stream",
     "text": [
      "An error occurred while calling z:org.apache.spark.sql.functions.desc. Trace:\n",
      "py4j.Py4JException: Method desc([class org.apache.spark.sql.Column]) does not exist\n",
      "\tat py4j.reflection.ReflectionEngine.getMethod(ReflectionEngine.java:318)\n",
      "\tat py4j.reflection.ReflectionEngine.getMethod(ReflectionEngine.java:339)\n",
      "\tat py4j.Gateway.invoke(Gateway.java:276)\n",
      "\tat py4j.commands.AbstractCommand.invokeMethod(AbstractCommand.java:132)\n",
      "\tat py4j.commands.CallCommand.execute(CallCommand.java:79)\n",
      "\tat py4j.GatewayConnection.run(GatewayConnection.java:238)\n",
      "\tat java.lang.Thread.run(Thread.java:748)\n",
      "\n",
      "\n",
      "Traceback (most recent call last):\n",
      "  File \"/usr/lib/spark/python/lib/pyspark.zip/pyspark/sql/functions.py\", line 44, in _\n",
      "    jc = getattr(sc._jvm.functions, name)(col._jc if isinstance(col, Column) else col)\n",
      "  File \"/usr/lib/spark/python/lib/py4j-0.10.7-src.zip/py4j/java_gateway.py\", line 1257, in __call__\n",
      "    answer, self.gateway_client, self.target_id, self.name)\n",
      "  File \"/usr/lib/spark/python/lib/pyspark.zip/pyspark/sql/utils.py\", line 63, in deco\n",
      "    return f(*a, **kw)\n",
      "  File \"/usr/lib/spark/python/lib/py4j-0.10.7-src.zip/py4j/protocol.py\", line 332, in get_return_value\n",
      "    format(target_id, \".\", name, value))\n",
      "py4j.protocol.Py4JError: An error occurred while calling z:org.apache.spark.sql.functions.desc. Trace:\n",
      "py4j.Py4JException: Method desc([class org.apache.spark.sql.Column]) does not exist\n",
      "\tat py4j.reflection.ReflectionEngine.getMethod(ReflectionEngine.java:318)\n",
      "\tat py4j.reflection.ReflectionEngine.getMethod(ReflectionEngine.java:339)\n",
      "\tat py4j.Gateway.invoke(Gateway.java:276)\n",
      "\tat py4j.commands.AbstractCommand.invokeMethod(AbstractCommand.java:132)\n",
      "\tat py4j.commands.CallCommand.execute(CallCommand.java:79)\n",
      "\tat py4j.GatewayConnection.run(GatewayConnection.java:238)\n",
      "\tat java.lang.Thread.run(Thread.java:748)\n",
      "\n",
      "\n",
      "\n"
     ]
    }
   ],
   "source": [
    "booking_search_df.\\\n",
    "                  groupBy('travel_product_id').agg(F.count(F.col('is_booked')), F.avg(F.col('is_booked'))).orderBy(desc(F.count(F.col('is_booked')))).show(20)"
   ]
  },
  {
   "cell_type": "code",
   "execution_count": null,
   "metadata": {},
   "outputs": [],
   "source": []
  }
 ],
 "metadata": {
  "kernelspec": {
   "display_name": "PySpark3",
   "language": "",
   "name": "pyspark3kernel"
  },
  "language_info": {
   "codemirror_mode": {
    "name": "python",
    "version": 3
   },
   "mimetype": "text/x-python",
   "name": "pyspark3",
   "pygments_lexer": "python3"
  }
 },
 "nbformat": 4,
 "nbformat_minor": 2
}
