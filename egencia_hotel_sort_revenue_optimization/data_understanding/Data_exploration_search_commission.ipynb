{
 "cells": [
  {
   "cell_type": "code",
   "execution_count": 2,
   "metadata": {},
   "outputs": [],
   "source": [
    "import datetime\n",
    "import pandas as pd\n",
    "import numpy as np\n",
    "\n",
    "from pyspark import SparkContext\n",
    "from pyspark import SQLContext\n",
    "from pyspark.sql.session import SparkSession\n",
    "\n",
    "\n",
    "from pyspark.sql import DataFrameStatFunctions as statFunc\n",
    "\n",
    "from pyspark.sql.functions import row_number\n",
    "from pyspark.sql.window import Window\n",
    "from pyspark.sql.functions import desc\n",
    "\n",
    "from pyspark.sql import functions as F\n",
    "from pyspark.sql import types as T\n",
    "from pyspark.sql.types import IntegerType"
   ]
  },
  {
   "cell_type": "markdown",
   "metadata": {},
   "source": [
    "## Obtain last_idx_peterman_line"
   ]
  },
  {
   "cell_type": "code",
   "execution_count": 3,
   "metadata": {},
   "outputs": [
    {
     "name": "stdout",
     "output_type": "stream",
     "text": [
      "\"\\nuse eandev; \\ndrop table if exists eandev.yixli_last_idx_peterman_line;\\ncreate table eandev.yixli_last_idx_peterman_line as    \\nselect  \\n  a.message_id,\\n  IF(b.message_id is null, 0, b.last_idx_peterman_line) as last_idx_peterman_line,\\n  IF(c.message_id is null, 0, c.last_hotel_result_index) as last_hotel_result_index\\nfrom eandev.HotelMessages as a \\nleft join (\\n  select  \\n   message_id\\n  ,MAX(v1.hotel_result_index) as last_idx_peterman_line\\n  from eandev.HotelMessages \\n  lateral view explode(hotels) hotel_tbl as v1\\n  where load_date between '20191201' and '20200101'\\n  and ((v1.property_level_neg = true) or (v1.chain_level_neg = true) or (v1.preferred = true))\\n  and message_id is not null \\n  and message_id <> ''\\n  and ((original_message_id is null) or (original_message_id == '')) \\n  and type = 'HSR'  \\n  group by message_id\\n) as b ON a.message_id = b.message_id\\nleft join (\\n  select  \\n   message_id\\n  ,MAX(v1.hotel_result_index) as last_hotel_result_index\\n  from eandev.HotelMessages \\n  lateral view explode(hotels) hotel_tbl as v1\\n  where load_date between '20191201' and '20200101'\\n  and message_id is not null \\n  and message_id <> ''\\n  and ((original_message_id is null) or (original_message_id == '')) \\n  and type = 'HSR'  \\n  group by message_id\\n) as c ON a.message_id = c.message_id\\nwhere a.load_date between '20191201' and '20200101'\\nand a.message_id is not null \\nand a.message_id <> ''\\nand ((original_message_id is null) or (original_message_id == '')) \\nand a.type = 'HSR'\\n\""
     ]
    }
   ],
   "source": [
    "'''\n",
    "use eandev; \n",
    "drop table if exists eandev.yixli_last_idx_peterman_line;\n",
    "create table eandev.yixli_last_idx_peterman_line as    \n",
    "select  \n",
    "  a.message_id,\n",
    "  IF(b.message_id is null, 0, b.last_idx_peterman_line) as last_idx_peterman_line,\n",
    "  IF(c.message_id is null, 0, c.last_hotel_result_index) as last_hotel_result_index\n",
    "from eandev.HotelMessages as a \n",
    "left join (\n",
    "  select  \n",
    "   message_id\n",
    "  ,MAX(v1.hotel_result_index) as last_idx_peterman_line\n",
    "  from eandev.HotelMessages \n",
    "  lateral view explode(hotels) hotel_tbl as v1\n",
    "  where load_date between '20191201' and '20200101'\n",
    "  and ((v1.property_level_neg = true) or (v1.chain_level_neg = true) or (v1.preferred = true))\n",
    "  and message_id is not null \n",
    "  and message_id <> ''\n",
    "  and ((original_message_id is null) or (original_message_id == '')) \n",
    "  and type = 'HSR'  \n",
    "  group by message_id\n",
    ") as b ON a.message_id = b.message_id\n",
    "left join (\n",
    "  select  \n",
    "   message_id\n",
    "  ,MAX(v1.hotel_result_index) as last_hotel_result_index\n",
    "  from eandev.HotelMessages \n",
    "  lateral view explode(hotels) hotel_tbl as v1\n",
    "  where load_date between '20191201' and '20200101'\n",
    "  and message_id is not null \n",
    "  and message_id <> ''\n",
    "  and ((original_message_id is null) or (original_message_id == '')) \n",
    "  and type = 'HSR'  \n",
    "  group by message_id\n",
    ") as c ON a.message_id = c.message_id\n",
    "where a.load_date between '20191201' and '20200101'\n",
    "and a.message_id is not null \n",
    "and a.message_id <> ''\n",
    "and ((original_message_id is null) or (original_message_id == '')) \n",
    "and a.type = 'HSR'\n",
    "'''"
   ]
  },
  {
   "cell_type": "code",
   "execution_count": 15,
   "metadata": {},
   "outputs": [],
   "source": [
    "peterman_schema = T.StructType([\n",
    "    T.StructField(\"message_id\", T.StringType(), True),                  #1\n",
    "    T.StructField(\"last_idx_peterman_line\", T.IntegerType(), True),     #2 \n",
    "    T.StructField(\"last_hotel_result_index\", T.IntegerType(), True)     #3\n",
    "])"
   ]
  },
  {
   "cell_type": "code",
   "execution_count": 16,
   "metadata": {},
   "outputs": [
    {
     "name": "stdout",
     "output_type": "stream",
     "text": [
      "2252960"
     ]
    }
   ],
   "source": [
    "file_loc = \"s3://ege-ds-workshops-corp/yixli/last_idx_peterman_line.csv\"\n",
    "\n",
    "peterman_df = sqlContext.read.format('csv').\\\n",
    "            options(header='false', inferSchema='false', delimiter=',').\\\n",
    "            schema(peterman_schema).load(file_loc)\n",
    "\n",
    "# load_date between '20191201' and '20200101'\n",
    "\n",
    "print(peterman_df.count())"
   ]
  },
  {
   "cell_type": "code",
   "execution_count": 5,
   "metadata": {
    "collapsed": true
   },
   "outputs": [
    {
     "name": "stdout",
     "output_type": "stream",
     "text": [
      "+--------------------+----------------------+-----------------------+\n",
      "|          message_id|last_idx_peterman_line|last_hotel_result_index|\n",
      "+--------------------+----------------------+-----------------------+\n",
      "|0010900b-b2e3-4e3...|                     0|                     29|\n",
      "|003dfe2c-fa7b-4b7...|                     0|                      8|\n",
      "|004c986f-7f97-4a4...|                     7|                     29|\n",
      "|006abdad-d5ba-47d...|                     0|                      0|\n",
      "|0081f9d5-9bf1-406...|                     0|                     18|\n",
      "|009cca8a-5842-43c...|                     0|                      0|\n",
      "|00dbaaf3-3bac-43c...|                     0|                     29|\n",
      "|012f23f3-6cfb-40f...|                     0|                     29|\n",
      "|01379dd8-37da-466...|                     0|                     29|\n",
      "|0190fc4e-9dd2-4f8...|                     1|                     21|\n",
      "|01924dd0-9d13-4e5...|                    11|                     16|\n",
      "|01acce93-2407-4bf...|                     2|                      2|\n",
      "|01b37fff-ed63-4ee...|                     0|                      0|\n",
      "|01d28e2d-f84b-4d3...|                     0|                      0|\n",
      "|0205bca5-33bc-4c8...|                     0|                     16|\n",
      "|0365305c-06e8-4eb...|                     0|                      0|\n",
      "|0371718b-5fe3-45b...|                    10|                     10|\n",
      "|039acb6e-d26d-41e...|                    23|                     29|\n",
      "|039b65e0-cf07-483...|                     0|                      0|\n",
      "|03c81e08-458b-4ac...|                     0|                     29|\n",
      "|03dc2573-1506-4cc...|                     1|                     25|\n",
      "|04095652-c617-4cd...|                     0|                     29|\n",
      "|0420d800-fa2d-482...|                     0|                      0|\n",
      "|0433bdd4-d7da-469...|                    27|                     30|\n",
      "|04545f1d-65c0-43d...|                     0|                     29|\n",
      "|0455aafc-4b54-4af...|                     0|                      0|\n",
      "|04595860-a7b4-4aa...|                    14|                     29|\n",
      "|04b51ed1-81bc-440...|                    26|                     29|\n",
      "|04c1ddd7-7e4e-4af...|                     0|                     29|\n",
      "|04ce686d-146f-447...|                     0|                      0|\n",
      "|04df1698-46b8-459...|                     0|                      0|\n",
      "|051d5b21-d0da-4eb...|                     0|                     29|\n",
      "|05346aa9-9547-4b3...|                     0|                      0|\n",
      "|05668d86-3727-484...|                     0|                     29|\n",
      "|056a1608-4099-404...|                     0|                      0|\n",
      "|056f9196-9d6b-485...|                     0|                      0|\n",
      "|059095f7-436b-4ca...|                     0|                      1|\n",
      "|05a3e1e4-06d9-421...|                     0|                      0|\n",
      "|05a5c505-3581-48d...|                     7|                     29|\n",
      "|05b0aa34-872f-453...|                     0|                     29|\n",
      "|05b41098-7f9f-490...|                     0|                     29|\n",
      "|0612d6d9-ca6e-412...|                     0|                      0|\n",
      "|062011c1-549a-441...|                     0|                     16|\n",
      "|065f2008-5d2e-443...|                     0|                     29|\n",
      "|066b01bf-f630-40c...|                     0|                     11|\n",
      "|067458d6-9f6b-4aa...|                    12|                     30|\n",
      "|069cef9e-e998-44e...|                     0|                     29|\n",
      "|0735e9b3-5e02-4f4...|                     0|                      3|\n",
      "|07408f80-02f5-435...|                    22|                     26|\n",
      "|07612887-07e1-467...|                     0|                      3|\n",
      "+--------------------+----------------------+-----------------------+\n",
      "only showing top 50 rows"
     ]
    }
   ],
   "source": [
    "peterman_df.show(50)"
   ]
  },
  {
   "cell_type": "markdown",
   "metadata": {},
   "source": [
    "## Search data"
   ]
  },
  {
   "cell_type": "code",
   "execution_count": null,
   "metadata": {},
   "outputs": [],
   "source": [
    "'''\n",
    "use eandev;\n",
    "\n",
    "drop table if exists eandev.yixli_search_commission;\n",
    "create table eandev.yixli_search_commission as   \n",
    "select \n",
    "message_id\n",
    ",message_timestamp as message_date\n",
    ",check_in_date\n",
    ",check_out_date\n",
    ",tuid\n",
    ",v1.hotel_id\n",
    ",v1.hotel_result_index\n",
    ",v2.rate_index\n",
    ",v2.price.amount as rate_amount\n",
    ",v2.price.currency as rate_currency\n",
    ",(case when v2.rate_type = 'GDS_CHAIN_NEGOTIATED' then 'NEG'                             \n",
    "  when v2.rate_type = 'GDS_CONSORTIA' then 'GDS'\n",
    "  when v2.rate_type = 'GDS_NEGOTIATED' then 'NEG'\n",
    "  when v2.rate_type = 'GDS_PUBLISHED' then 'GDS'                             \n",
    "  when v2.rate_type = 'EPR_MERCHANT' then 'EPRM'\n",
    "  when v2.rate_type = 'ESR_DIRECT_AGENCY' then 'ESRA'\n",
    "  when v2.rate_type = 'EPR_DIRECT_AGENCY' then 'EPRA'\n",
    "  when v2.rate_type = 'ESR_MERCHANT' then 'ESRM'\n",
    "  else v2.rate_type end) as rate_type\n",
    ",NVL(v3.commission_base, 0.0) as commission_base\n",
    ",NVL(v3.commission_tax, 0.0) as commission_tax\n",
    ",NVL(v3.currency, 'USD') as currency\n",
    "from eandev.HotelMessages\n",
    "lateral view explode(travelers) travl_tbl as tuid\n",
    "lateral view explode(hotels) hotel_tbl as v1\n",
    "lateral view explode(v1.prices) rate_tbl as v2\n",
    "lateral view explode(v2.commission_list) cms_tbl as v3 \n",
    "where load_date between '20191201' and '20200101'\n",
    "and message_id is not null \n",
    "and message_id <> ''\n",
    "and v2.selected = True\n",
    "and type = 'HSR'\n",
    "'''"
   ]
  },
  {
   "cell_type": "code",
   "execution_count": null,
   "metadata": {},
   "outputs": [],
   "source": [
    "'''\n",
    "ssh Chwxedwhdc002.datawarehouse.expecn.com\n",
    "\n",
    "hive -e \"use eandev; INSERT OVERWRITE LOCAL DIRECTORY '/home/yixli/temp' ROW FORMAT DELIMITED FIELDS TERMINATED BY ',' select * from yixli_search_commission;\"&\n",
    "\n",
    "cd temp\n",
    "ls | xargs -I '{}' -n1 sed -i 's/\\\\N//g' '{}' &\n",
    "cd ..\n",
    "cat temp/* >search_data.csv\n",
    "\n",
    "\n",
    "~/.linuxbrew/bin/aws_key_gen login\n",
    "\n",
    "aws s3 cp search_data.csv s3://ege-ds-workshops-corp/yixli/search_data.csv\n",
    "\n",
    "\n",
    "'''"
   ]
  },
  {
   "cell_type": "code",
   "execution_count": 5,
   "metadata": {},
   "outputs": [],
   "source": [
    "search_schema = T.StructType([\n",
    "    T.StructField(\"message_id\", T.StringType(), True),                  #1\n",
    "    T.StructField(\"message_date\", T.TimestampType(), True),             #2\n",
    "    T.StructField(\"check_in_date\", T.DateType(), True),                 #3\n",
    "    T.StructField(\"check_out_date\", T.DateType(), True),                #4\n",
    "    T.StructField(\"tuid\", T.IntegerType(), True),                       #5\n",
    "    T.StructField(\"hotel_id\", T.IntegerType(), True),                   #6 \n",
    "    T.StructField(\"hotel_result_index\", T.IntegerType(), True),         #7\n",
    "    T.StructField(\"rate_index\", T.IntegerType(), True),                 #8 \n",
    "    T.StructField(\"rate_amount\", T.FloatType(), True),                  #9\n",
    "    T.StructField(\"rate_currency\", T.StringType(), True),               #10\n",
    "    T.StructField(\"rate_type\", T.StringType(), True),                   #11\n",
    "])"
   ]
  },
  {
   "cell_type": "code",
   "execution_count": 6,
   "metadata": {},
   "outputs": [
    {
     "name": "stdout",
     "output_type": "stream",
     "text": [
      "Collecting search the data...\n",
      "278452443"
     ]
    }
   ],
   "source": [
    "file_loc = \"s3://ege-ds-workshops-corp/yixli/search_data.csv\"\n",
    "print(\"Collecting search the data...\")\n",
    "search_df1 = sqlContext.read.format('csv').\\\n",
    "            options(header='false', inferSchema='false', delimiter=',').\\\n",
    "            schema(search_schema).load(file_loc)\n",
    "\n",
    "# load_date between '20191201' and '20200101'\n",
    "\n",
    "search_df1 = search_df1.\\\n",
    "            filter(F.col(\"hotel_id\")>0).\\\n",
    "            filter(F.col(\"rate_amount\").isNotNull())\n",
    "print(search_df1.count())"
   ]
  },
  {
   "cell_type": "code",
   "execution_count": 7,
   "metadata": {},
   "outputs": [
    {
     "name": "stdout",
     "output_type": "stream",
     "text": [
      "+---------+-----------------+\n",
      "|rate_type|count(message_id)|\n",
      "+---------+-----------------+\n",
      "|     EPRA|         15888335|\n",
      "|      NEG|          7205695|\n",
      "|     EPRM|         31400764|\n",
      "|     ESRM|        126081114|\n",
      "|     ESRA|         57809894|\n",
      "|      GDS|         40066641|\n",
      "+---------+-----------------+"
     ]
    }
   ],
   "source": [
    "search_df1.groupBy('rate_type').agg(F.count(F.col('message_id'))).show()"
   ]
  },
  {
   "cell_type": "code",
   "execution_count": 7,
   "metadata": {},
   "outputs": [],
   "source": [
    "search_schema = T.StructType([\n",
    "    T.StructField(\"message_id\", T.StringType(), True),                  #1\n",
    "    T.StructField(\"message_date\", T.TimestampType(), True),             #2\n",
    "    T.StructField(\"check_in_date\", T.DateType(), True),                 #3\n",
    "    T.StructField(\"check_out_date\", T.DateType(), True),                #4\n",
    "    T.StructField(\"tuid\", T.IntegerType(), True),                       #5\n",
    "    T.StructField(\"hotel_id\", T.IntegerType(), True),                   #6 \n",
    "    T.StructField(\"hotel_result_index\", T.IntegerType(), True),         #7\n",
    "    T.StructField(\"rate_index\", T.IntegerType(), True),                 #8 \n",
    "    T.StructField(\"rate_amount\", T.FloatType(), True),                  #9\n",
    "    T.StructField(\"rate_currency\", T.StringType(), True),               #10\n",
    "    T.StructField(\"rate_type\", T.StringType(), True),                   #11\n",
    "    T.StructField(\"commission_base\", T.FloatType(), True),              #12\n",
    "    T.StructField(\"base_category\", T.StringType(), True),               #13\n",
    "    T.StructField(\"commission_tax\", T.FloatType(), True),               #14\n",
    "    T.StructField(\"tax_category\", T.StringType(), True),                #15\n",
    "    T.StructField(\"commission_currency\", T.StringType(), True)          #16\n",
    "])\n"
   ]
  },
  {
   "cell_type": "code",
   "execution_count": 8,
   "metadata": {
    "scrolled": true
   },
   "outputs": [
    {
     "name": "stdout",
     "output_type": "stream",
     "text": [
      "Collecting search the data...\n",
      "222922918"
     ]
    }
   ],
   "source": [
    "file_loc = \"s3://ege-ds-workshops-corp/yixli/search_commission_month.csv\"\n",
    "print(\"Collecting search the data...\")\n",
    "search_df2 = sqlContext.read.format('csv').\\\n",
    "            options(header='false', inferSchema='false', delimiter=',').\\\n",
    "            schema(search_schema).load(file_loc)\n",
    "\n",
    "# load_date between '20191201' and '20200101'\n",
    "\n",
    "search_df2 = search_df2.\\\n",
    "            filter(F.col(\"hotel_id\")>0).\\\n",
    "            filter(F.col(\"rate_amount\").isNotNull())\n",
    "print(search_df2.count())"
   ]
  },
  {
   "cell_type": "code",
   "execution_count": 10,
   "metadata": {
    "scrolled": false
   },
   "outputs": [
    {
     "name": "stdout",
     "output_type": "stream",
     "text": [
      "+---------+-----------------+\n",
      "|rate_type|count(message_id)|\n",
      "+---------+-----------------+\n",
      "|     EPRA|         14898092|\n",
      "|     EPRM|         28523882|\n",
      "|     ESRM|        121541868|\n",
      "|     ESRA|         57959076|\n",
      "+---------+-----------------+"
     ]
    }
   ],
   "source": [
    "search_df2.groupBy('rate_type').agg(F.count(F.col('message_id'))).show()"
   ]
  },
  {
   "cell_type": "code",
   "execution_count": 9,
   "metadata": {},
   "outputs": [],
   "source": [
    "search_df = search_df1.\\\n",
    "             join(search_df2.select(\"commission_base\",\"commission_tax\",\"commission_currency\",\"message_id\",\"hotel_id\",\"check_in_date\", \"check_out_date\",\"tuid\",\"rate_index\",'rate_type'),\n",
    "                  [\"message_id\",\"hotel_id\",\"check_in_date\", \"check_out_date\",\"tuid\",\"rate_index\",'rate_type']\n",
    "                 ,how='left').\\\n",
    "             dropDuplicates()"
   ]
  },
  {
   "cell_type": "code",
   "execution_count": 11,
   "metadata": {},
   "outputs": [
    {
     "name": "stdout",
     "output_type": "stream",
     "text": [
      "+---------+-----------------+\n",
      "|rate_type|count(message_id)|\n",
      "+---------+-----------------+\n",
      "|     EPRA|         17350683|\n",
      "|      NEG|          7205666|\n",
      "|     EPRM|         36257759|\n",
      "|     ESRM|        145804059|\n",
      "|     ESRA|         60765380|\n",
      "|      GDS|         40066599|\n",
      "+---------+-----------------+"
     ]
    }
   ],
   "source": [
    "search_df.groupBy('rate_type').agg(F.count(F.col('message_id'))).show()"
   ]
  },
  {
   "cell_type": "code",
   "execution_count": 10,
   "metadata": {},
   "outputs": [],
   "source": [
    "search_df = search_df.withColumn(\"hotel_index\", row_number().over(Window.partitionBy(\"message_id\", \"tuid\").\\\n",
    "                                                        orderBy(F.asc(\"hotel_result_index\"))))"
   ]
  },
  {
   "cell_type": "code",
   "execution_count": 13,
   "metadata": {},
   "outputs": [
    {
     "name": "stdout",
     "output_type": "stream",
     "text": [
      "root\n",
      " |-- message_id: string (nullable = true)\n",
      " |-- hotel_id: integer (nullable = true)\n",
      " |-- check_in_date: date (nullable = true)\n",
      " |-- check_out_date: date (nullable = true)\n",
      " |-- tuid: integer (nullable = true)\n",
      " |-- rate_index: integer (nullable = true)\n",
      " |-- rate_type: string (nullable = true)\n",
      " |-- message_date: timestamp (nullable = true)\n",
      " |-- hotel_result_index: integer (nullable = true)\n",
      " |-- rate_amount: float (nullable = true)\n",
      " |-- rate_currency: string (nullable = true)\n",
      " |-- commission_base: float (nullable = true)\n",
      " |-- commission_tax: float (nullable = true)\n",
      " |-- commission_currency: string (nullable = true)\n",
      " |-- hotel_index: integer (nullable = true)"
     ]
    }
   ],
   "source": [
    "search_df.printSchema()"
   ]
  },
  {
   "cell_type": "code",
   "execution_count": 11,
   "metadata": {},
   "outputs": [],
   "source": [
    "dir = 's3://ege-ds-workshops-corp/yixli/data_understanding/'\n",
    "\n",
    "datestamp = datetime.datetime.now().strftime('%m-%d-%Y')\n",
    "search_df.repartition(1).write.format('com.databricks.spark.csv').mode('overwrite')\\\n",
    ".save(dir+datestamp+'_search_df.csv',header = 'true')"
   ]
  },
  {
   "cell_type": "markdown",
   "metadata": {},
   "source": [
    "## Read search data"
   ]
  },
  {
   "cell_type": "code",
   "execution_count": 9,
   "metadata": {},
   "outputs": [],
   "source": [
    "search_schema = T.StructType([\n",
    "    T.StructField(\"message_id\", T.StringType(), True),                  #1\n",
    "    T.StructField(\"hotel_id\", T.IntegerType(), True),                   #6\n",
    "    T.StructField(\"check_in_date\", T.DateType(), True),                 #3\n",
    "    T.StructField(\"check_out_date\", T.DateType(), True),                #4\n",
    "    T.StructField(\"tuid\", T.IntegerType(), True),                       #5\n",
    "    T.StructField(\"rate_index\", T.IntegerType(), True),                 #8 \n",
    "    T.StructField(\"rate_type\", T.StringType(), True),                   #11\n",
    "    T.StructField(\"message_date\", T.TimestampType(), True),             #2\n",
    "    T.StructField(\"hotel_result_index\", T.IntegerType(), True),         #7\n",
    "    T.StructField(\"rate_amount\", T.FloatType(), True),                  #9\n",
    "    T.StructField(\"rate_currency\", T.StringType(), True),               #10\n",
    "    T.StructField(\"commission_base\", T.FloatType(), True),              #12\n",
    "    T.StructField(\"commission_tax\", T.FloatType(), True),               #14\n",
    "    T.StructField(\"commission_currency\", T.StringType(), True),          #16\n",
    "    T.StructField(\"hotel_index\", T.IntegerType(), True)                 #8 \n",
    "])\n"
   ]
  },
  {
   "cell_type": "code",
   "execution_count": 10,
   "metadata": {},
   "outputs": [
    {
     "name": "stdout",
     "output_type": "stream",
     "text": [
      "Collecting search the data...\n",
      "307450147"
     ]
    }
   ],
   "source": [
    "file_loc = \"s3://ege-ds-workshops-corp/yixli/data_understanding/08-10-2020_search_df.csv\"\n",
    "print(\"Collecting search the data...\")\n",
    "search_df = sqlContext.read.format('csv').\\\n",
    "            options(header='false', inferSchema='false', delimiter=',').\\\n",
    "            schema(search_schema).load(file_loc)\n",
    "\n",
    "# load_date between '20191201' and '20200101'\n",
    "print(search_df.count())"
   ]
  },
  {
   "cell_type": "code",
   "execution_count": 11,
   "metadata": {},
   "outputs": [],
   "source": [
    "search_df = search_df.\\\n",
    "            filter(F.col(\"hotel_id\")>0).\\\n",
    "            filter(F.col(\"rate_amount\").isNotNull())"
   ]
  },
  {
   "cell_type": "code",
   "execution_count": 19,
   "metadata": {},
   "outputs": [
    {
     "name": "stdout",
     "output_type": "stream",
     "text": [
      "+---------+-----------------+\n",
      "|rate_type|count(message_id)|\n",
      "+---------+-----------------+\n",
      "|     EPRA|         17350683|\n",
      "|      NEG|          7205666|\n",
      "|     EPRM|         36257759|\n",
      "|     ESRM|        145804059|\n",
      "|     ESRA|         60765380|\n",
      "|      GDS|         40066599|\n",
      "+---------+-----------------+"
     ]
    }
   ],
   "source": [
    "search_df.groupBy('rate_type').agg(F.count(F.col('message_id'))).show()"
   ]
  },
  {
   "cell_type": "markdown",
   "metadata": {},
   "source": [
    "## Filter hotels below peterman_line"
   ]
  },
  {
   "cell_type": "code",
   "execution_count": 17,
   "metadata": {},
   "outputs": [],
   "source": [
    "search_df.registerTempTable(\"search_df\")\n",
    "peterman_df.registerTempTable(\"peterman_df\")"
   ]
  },
  {
   "cell_type": "code",
   "execution_count": 18,
   "metadata": {},
   "outputs": [],
   "source": [
    "search_below_peterman_df = sqlContext.sql(\"select\\\n",
    "                             b.*\\\n",
    "                             from search_df as b join peterman_df as c on (b.message_id=c.message_id)\\\n",
    "                             where (b.hotel_result_index>c.last_idx_peterman_line)\\\n",
    "                             order by b.message_id, b.hotel_result_index\").\\\n",
    "                             dropDuplicates()"
   ]
  },
  {
   "cell_type": "code",
   "execution_count": 22,
   "metadata": {},
   "outputs": [
    {
     "name": "stdout",
     "output_type": "stream",
     "text": [
      "758"
     ]
    }
   ],
   "source": [
    "search_below_peterman_df.filter(F.col('rate_type')=='NEG').count()"
   ]
  },
  {
   "cell_type": "code",
   "execution_count": 19,
   "metadata": {},
   "outputs": [],
   "source": [
    "search_below_peterman_df = search_below_peterman_df.filter(F.col('rate_type')!='NEG')"
   ]
  },
  {
   "cell_type": "code",
   "execution_count": 20,
   "metadata": {},
   "outputs": [
    {
     "name": "stdout",
     "output_type": "stream",
     "text": [
      "+---------+-----------------+\n",
      "|rate_type|count(message_id)|\n",
      "+---------+-----------------+\n",
      "|     EPRA|         11914786|\n",
      "|     EPRM|         25588796|\n",
      "|     ESRM|        105851405|\n",
      "|     ESRA|         44691781|\n",
      "|      GDS|         23491335|\n",
      "+---------+-----------------+"
     ]
    }
   ],
   "source": [
    "search_below_peterman_df.groupBy('rate_type').agg(F.count(F.col('message_id'))).show()"
   ]
  },
  {
   "cell_type": "markdown",
   "metadata": {},
   "source": [
    "## Exchange currency to USD"
   ]
  },
  {
   "cell_type": "code",
   "execution_count": 21,
   "metadata": {},
   "outputs": [],
   "source": [
    "sqlCurrency = \"\"\"select DISTINCT\n",
    "                 a.exchangeratedate as timestamp,\n",
    "                 trunc(a.exchangeratedate) as exch_rate_date,\n",
    "                 a.fromcurrencycode,\n",
    "                 a.exchangerate\n",
    "                 from public.exchangeratedailyfull a\n",
    "                 where trunc(a.exchangeratedate)>=to_date('20191201','YYYYMMDD') \n",
    "                 and trunc(a.exchangeratedate)<=to_date('20200101','YYYYMMDD') \n",
    "                 and tocurrencycode = 'USD' \"\"\"\n",
    "connection_string = \"jdbc:redshift://egencia-reporting.czjkedodj6lc.us-west-2.redshift.amazonaws.com:5439/egedatamart?user=ds_rpt_user&password=Jan2019!\";\n",
    "\n",
    "currency_df = sqlContext.read.\\\n",
    "    format(\"com.databricks.spark.redshift\").\\\n",
    "    option(\"url\", connection_string).\\\n",
    "    option(\"query\", sqlCurrency).\\\n",
    "    option(\"tempdir\", \"s3a://ege-ds-workshops-corp/yixli/\").\\\n",
    "    load().\\\n",
    "    dropDuplicates().\\\n",
    "    orderBy([\"exch_rate_date\",\"fromcurrencycode\"],ascending=True)"
   ]
  },
  {
   "cell_type": "code",
   "execution_count": 22,
   "metadata": {},
   "outputs": [],
   "source": [
    "local_below_peterman_df = search_below_peterman_df.filter(F.col('rate_type')!='GDS').filter(F.col('commission_base').isNotNull())\n",
    "local_below_peterman_df.registerTempTable(\"local_below_peterman_df\")\n",
    "currency_df.registerTempTable(\"currency_df\")"
   ]
  },
  {
   "cell_type": "code",
   "execution_count": 23,
   "metadata": {
    "scrolled": true
   },
   "outputs": [],
   "source": [
    "local_below_peterman_usd_df = sqlContext.sql(\"select\\\n",
    "                             a.*,\\\n",
    "                             a.rate_amount*COALESCE(ex1.exchangerate,1) AS src_rate_amount_usd,\\\n",
    "                             a.commission_base*COALESCE(ex2.exchangerate,1) AS src_commission_base_usd,\\\n",
    "                             a.commission_tax*COALESCE(ex2.exchangerate,1) AS src_commission_tax_usd\\\n",
    "                             from local_below_peterman_df a\\\n",
    "                             left join currency_df ex1 on to_date(a.message_date)=ex1.exch_rate_date and a.rate_currency=ex1.FromCurrencyCode\\\n",
    "                             left join currency_df ex2 on to_date(a.message_date)=ex2.exch_rate_date and a.commission_currency=ex2.FromCurrencyCode\").\\\n",
    "                             dropDuplicates()"
   ]
  },
  {
   "cell_type": "code",
   "execution_count": 24,
   "metadata": {},
   "outputs": [],
   "source": [
    "local_below_peterman_usd_df = local_below_peterman_usd_df.\\\n",
    "withColumn('src_supply_revenue_usd',F.col('src_commission_base_usd')+F.col('src_commission_tax_usd'))"
   ]
  },
  {
   "cell_type": "code",
   "execution_count": 25,
   "metadata": {},
   "outputs": [],
   "source": [
    "local_below_peterman_usd_df = local_below_peterman_usd_df.filter(F.col('src_supply_revenue_usd')<1000)"
   ]
  },
  {
   "cell_type": "code",
   "execution_count": 26,
   "metadata": {},
   "outputs": [
    {
     "name": "stdout",
     "output_type": "stream",
     "text": [
      "+---------+-----------------+\n",
      "|rate_type|count(message_id)|\n",
      "+---------+-----------------+\n",
      "|     EPRA|          2831144|\n",
      "|     EPRM|         10851577|\n",
      "|     ESRM|         45737980|\n",
      "|     ESRA|          7473111|\n",
      "+---------+-----------------+"
     ]
    }
   ],
   "source": [
    "local_below_peterman_usd_df.groupBy('rate_type').agg(F.count(F.col('message_id'))).show()"
   ]
  },
  {
   "cell_type": "code",
   "execution_count": 39,
   "metadata": {},
   "outputs": [],
   "source": [
    "sqlGDS =  \"\"\"SELECT \n",
    "      a.hotelid as hotel_id,\n",
    "     trunc(a.issuedate) as issue_date,\n",
    "     trunc(a.traveldatestart) as check_in_date,\n",
    "     trunc(a.traveldateend) as check_out_date,\n",
    "      (case when a.customersystemid=1 then a.TUIDTraveler else g.TUIDInternal end) as tuid,      \n",
    "      a.travelproductid AS travel_product_id,\n",
    "      a.GroupAccountID AS group_account_id,\n",
    "      hsp.rate_type as hotel_rate_type,\n",
    "      (case  \n",
    "        when a.hotelrateTypeSupplyid IN (1,2,3,4,5,10,11,14,16,17,18,20,25,26,28,29,30,32) then 'GDS'\n",
    "        when a.hotelrateTypeSupplyid IN (12,13,15,19,21,22,23,27,31,33,34) then 'NEG'\n",
    "        when a.hotelrateTypeSupplyid = 6 then 'ESRA'\n",
    "        when a.hotelrateTypeSupplyid = 7 then 'ESRM'\n",
    "        when a.hotelrateTypeSupplyid = 8 then 'EPRA'\n",
    "        when a.hotelrateTypeSupplyid = 9 then 'EPRM'\n",
    "        when a.hotelrateTypeSupplyid IN (24,35) then 'HOTMIP'\n",
    "        else 'UNK'\n",
    "        end) as bk_rate_type,\n",
    "      NVL(hsp.commission,0.00) As commission_rate,\n",
    "      NVL(hsp.gds,0.00) AS gds\n",
    "FROM public.HotelFact a\n",
    "  JOIN TravelerAccountDim g \n",
    "    ON a.TUIDTraveler = g.TUID AND a.customersystemid=g.customersystemid \n",
    "  JOIN public.GroupAccountdim d \n",
    "    ON a.GroupAccountID = d.GroupAccountID \n",
    "  JOIN public.hotel_supply hsp \n",
    "    ON hsp.year = EXTRACT (year FROM a.IssueDate)\n",
    "    AND hsp.quarter = EXTRACT (quarter FROM a.IssueDate)\n",
    "    AND hsp.rate_type = CASE\n",
    "         WHEN a.HotelRateTypeSupplyID IN (7,9,24) THEN 'Expedia Collect'\n",
    "         WHEN a.HotelRateTypeSupplyID IN (6,8,35) THEN 'Hotel Collect'\n",
    "         WHEN a.HotelRateTypeSupplyID IN (12,13,15,19,21,22,23,27,31,33,34) THEN 'Negotiated'\n",
    "         ELSE 'Published & GDS' END\n",
    "    AND hsp.travel_product_id = a.TravelProductID\n",
    "WHERE a.CustomerSystemID IN (1,2)\n",
    "AND   (d.groupaccountinternaltypeid = 1 OR d.groupaccountinternaltypeid = 3)\n",
    "AND a.BookingTypeID in (1,3) \n",
    "and hsp.year=2019\n",
    "and hsp.quarter=4\"\"\".replace('\\n',' ')\n",
    "            \n",
    "connection_string = \"jdbc:redshift://egencia-reporting.czjkedodj6lc.us-west-2.redshift.amazonaws.com:5439/egedatamart?user=ds_rpt_user&password=Jan2019!\";\n",
    "\n",
    "gds_df = sqlContext.read.\\\n",
    "    format(\"com.databricks.spark.redshift\").\\\n",
    "    option(\"url\", connection_string).\\\n",
    "    option(\"query\", sqlGDS).\\\n",
    "    option(\"tempdir\", \"s3a://ege-ds-workshops-corp/yixli/\").\\\n",
    "    load().\\\n",
    "    filter(F.col(\"hotel_rate_type\")=='Published & GDS').\\\n",
    "    filter(F.col('commission_rate').isNotNull()).\\\n",
    "    filter(F.col('gds').isNotNull()).\\\n",
    "    dropDuplicates()"
   ]
  },
  {
   "cell_type": "code",
   "execution_count": 40,
   "metadata": {},
   "outputs": [],
   "source": [
    "gds_df = gds_df.groupBy('hotel_id').agg(F.avg('commission_rate').alias('commission_rate'),\n",
    "                                       F.avg('gds').alias('gds'))"
   ]
  },
  {
   "cell_type": "code",
   "execution_count": 41,
   "metadata": {
    "collapsed": true
   },
   "outputs": [
    {
     "name": "stdout",
     "output_type": "stream",
     "text": [
      "+--------+--------------------+-----+\n",
      "|hotel_id|     commission_rate|  gds|\n",
      "+--------+--------------------+-----+\n",
      "|   28024|0.080000000000000...|0E-22|\n",
      "| 1805074|0.080000000000000...|0E-22|\n",
      "|  525571|0.080000000000000...|0E-22|\n",
      "|  578559|0.080000000000000...|0E-22|\n",
      "|19681545|0.080000000000000...|0E-22|\n",
      "|  807527|0.080000000000000...|0E-22|\n",
      "|  528692|0.080000000000000...|0E-22|\n",
      "|    5300|0.080000000000000...|0E-22|\n",
      "|  904712|0.080000000000000...|0E-22|\n",
      "|    7833|0.080000000000000...|0E-22|\n",
      "|  802387|0.080000000000000...|0E-22|\n",
      "| 5058675|0.080000000000000...|0E-22|\n",
      "|  892857|0.080000000000000...|0E-22|\n",
      "|23192964|0.080000000000000...|0E-22|\n",
      "|11135961|0.080000000000000...|0E-22|\n",
      "|18411003|0.080000000000000...|0E-22|\n",
      "|    1829|0.080000000000000...|0E-22|\n",
      "| 1144437|0.080000000000000...|0E-22|\n",
      "|33374019|0.080000000000000...|0E-22|\n",
      "|11785371|0.080000000000000...|0E-22|\n",
      "|18629649|0.080000000000000...|0E-22|\n",
      "| 2863595|0.080000000000000...|0E-22|\n",
      "|    4818|0.080000000000000...|0E-22|\n",
      "|    2366|0.080000000000000...|0E-22|\n",
      "| 2330805|0.080000000000000...|0E-22|\n",
      "| 1509301|0.080000000000000...|0E-22|\n",
      "|   23336|0.080000000000000...|0E-22|\n",
      "|   15727|0.080000000000000...|0E-22|\n",
      "|   67753|0.080000000000000...|0E-22|\n",
      "|   63964|0.080000000000000...|0E-22|\n",
      "| 5531547|0.080000000000000...|0E-22|\n",
      "|32146635|0.080000000000000...|0E-22|\n",
      "|    6654|0.080000000000000...|0E-22|\n",
      "|   71527|0.080000000000000...|0E-22|\n",
      "|    6357|0.080000000000000...|0E-22|\n",
      "|11484251|0.080000000000000...|0E-22|\n",
      "|    3918|0.080000000000000...|0E-22|\n",
      "|  967342|0.080000000000000...|0E-22|\n",
      "|  904487|0.080000000000000...|0E-22|\n",
      "|  858737|0.080000000000000...|0E-22|\n",
      "| 8107170|0.080000000000000...|0E-22|\n",
      "|27209200|0.080000000000000...|0E-22|\n",
      "|    7982|0.080000000000000...|0E-22|\n",
      "|    4935|0.080000000000000...|0E-22|\n",
      "|  794550|0.080000000000000...|0E-22|\n",
      "|11785356|0.080000000000000...|0E-22|\n",
      "| 1551365|0.080000000000000...|0E-22|\n",
      "|   26425|0.080000000000000...|0E-22|\n",
      "| 1210726|0.080000000000000...|0E-22|\n",
      "|31356812|0.080000000000000...|0E-22|\n",
      "+--------+--------------------+-----+\n",
      "only showing top 50 rows"
     ]
    }
   ],
   "source": [
    "gds_df.show(50)"
   ]
  },
  {
   "cell_type": "code",
   "execution_count": 42,
   "metadata": {},
   "outputs": [
    {
     "name": "stdout",
     "output_type": "stream",
     "text": [
      "23490685"
     ]
    }
   ],
   "source": [
    "gds_below_peterman_df = search_below_peterman_df.filter(F.col('rate_type')=='GDS')\n",
    "gds_below_peterman_df = gds_below_peterman_df.join(currency_df,\n",
    "                                                                [F.to_date(gds_below_peterman_df.message_date)==currency_df.exch_rate_date,\n",
    "                                                                gds_below_peterman_df.rate_currency==currency_df.fromcurrencycode]).\\\n",
    "                        withColumn('src_rate_amount_usd',gds_below_peterman_df.rate_amount*currency_df.exchangerate)                                             \n",
    "gds_below_peterman_df.count()"
   ]
  },
  {
   "cell_type": "code",
   "execution_count": 43,
   "metadata": {},
   "outputs": [],
   "source": [
    "gds_below_peterman_df = gds_below_peterman_df.\\\n",
    "join(gds_df.select('hotel_id','gds','commission_rate'),['hotel_id'],how='left').\\\n",
    "withColumn('src_supply_revenue_usd',F.col('src_rate_amount_usd')*F.col('commission_rate')+F.col('gds'))"
   ]
  },
  {
   "cell_type": "code",
   "execution_count": 44,
   "metadata": {},
   "outputs": [],
   "source": [
    "gds_below_peterman_df = gds_below_peterman_df.filter(F.col('src_supply_revenue_usd')<1000)"
   ]
  },
  {
   "cell_type": "code",
   "execution_count": 45,
   "metadata": {},
   "outputs": [
    {
     "name": "stdout",
     "output_type": "stream",
     "text": [
      "19233691"
     ]
    }
   ],
   "source": [
    "gds_below_peterman_df.count()"
   ]
  },
  {
   "cell_type": "code",
   "execution_count": 57,
   "metadata": {},
   "outputs": [],
   "source": [
    "gds_below_peterman_df = gds_below_peterman_df.withColumn('src_commission_base_usd',F.lit(0.0))"
   ]
  },
  {
   "cell_type": "code",
   "execution_count": 58,
   "metadata": {},
   "outputs": [],
   "source": [
    "search_revenue_below_peterman_usd_df = local_below_peterman_usd_df.select('hotel_id','message_id','message_date',\n",
    "                             'check_in_date','check_out_date','tuid',\n",
    "                             'rate_index','rate_type','hotel_result_index','hotel_index',\n",
    "                            'src_rate_amount_usd','src_commission_base_usd','src_supply_revenue_usd').\\\n",
    "                            union(gds_below_peterman_df.select('hotel_id','message_id','message_date',\n",
    "                             'check_in_date','check_out_date','tuid',\n",
    "                             'rate_index','rate_type','hotel_result_index','hotel_index',\n",
    "                            'src_rate_amount_usd','src_commission_base_usd','src_supply_revenue_usd'))"
   ]
  },
  {
   "cell_type": "code",
   "execution_count": 47,
   "metadata": {},
   "outputs": [
    {
     "name": "stdout",
     "output_type": "stream",
     "text": [
      "86127503"
     ]
    }
   ],
   "source": [
    "search_revenue_below_peterman_usd_df.count()"
   ]
  },
  {
   "cell_type": "code",
   "execution_count": null,
   "metadata": {},
   "outputs": [],
   "source": [
    "search_revenue_below_peterman_usd_df.groupBy('rate_type').agg(F.avg('src_supply_revenue_usd')).show()"
   ]
  },
  {
   "cell_type": "code",
   "execution_count": 60,
   "metadata": {},
   "outputs": [],
   "source": [
    "dir = 's3://ege-ds-workshops-corp/yixli/data_understanding/'\n",
    "\n",
    "datestamp = datetime.datetime.now().strftime('%m-%d-%Y')\n",
    "search_revenue_below_peterman_usd_df.repartition(1).write.format('com.databricks.spark.csv').mode('overwrite')\\\n",
    ".save(dir+datestamp+'_search_revenue_below_peterman_usd_df.csv',header = 'true')"
   ]
  },
  {
   "cell_type": "code",
   "execution_count": 59,
   "metadata": {},
   "outputs": [
    {
     "name": "stdout",
     "output_type": "stream",
     "text": [
      "root\n",
      " |-- hotel_id: integer (nullable = true)\n",
      " |-- message_id: string (nullable = true)\n",
      " |-- message_date: timestamp (nullable = true)\n",
      " |-- check_in_date: date (nullable = true)\n",
      " |-- check_out_date: date (nullable = true)\n",
      " |-- tuid: integer (nullable = true)\n",
      " |-- rate_index: integer (nullable = true)\n",
      " |-- rate_type: string (nullable = true)\n",
      " |-- hotel_result_index: integer (nullable = true)\n",
      " |-- hotel_index: integer (nullable = true)\n",
      " |-- src_rate_amount_usd: double (nullable = true)\n",
      " |-- src_commission_base_usd: double (nullable = true)\n",
      " |-- src_supply_revenue_usd: double (nullable = true)"
     ]
    }
   ],
   "source": [
    "search_revenue_below_peterman_usd_df.printSchema()"
   ]
  },
  {
   "cell_type": "code",
   "execution_count": 61,
   "metadata": {},
   "outputs": [],
   "source": [
    "search_schema = T.StructType([\n",
    "    T.StructField(\"hotel_id\", T.IntegerType(), True),                   #6\n",
    "     T.StructField(\"message_id\", T.StringType(), True),                  #1\n",
    "     T.StructField(\"message_date\", T.TimestampType(), True),             #2\n",
    "    T.StructField(\"check_in_date\", T.DateType(), True),                 #3\n",
    "    T.StructField(\"check_out_date\", T.DateType(), True),                #4\n",
    "    T.StructField(\"tuid\", T.IntegerType(), True),                       #5\n",
    "    T.StructField(\"rate_index\", T.IntegerType(), True),                 #8 \n",
    "    T.StructField(\"rate_type\", T.StringType(), True),                   #11\n",
    "    T.StructField(\"hotel_result_index\", T.IntegerType(), True),         #7\n",
    "    T.StructField(\"hotel_index\", T.IntegerType(), True),                 #8\n",
    "    T.StructField(\"src_rate_amount_usd\", T.FloatType(), True),              #12\n",
    "    T.StructField(\"src_commission_base_usd\", T.FloatType(), True),              #12\n",
    "    T.StructField(\"src_supply_revenue_usd\", T.FloatType(), True)              #14\n",
    "])"
   ]
  },
  {
   "cell_type": "code",
   "execution_count": 62,
   "metadata": {},
   "outputs": [
    {
     "name": "stdout",
     "output_type": "stream",
     "text": [
      "Collecting search the data...\n",
      "86127503"
     ]
    }
   ],
   "source": [
    "file_loc = \"s3://ege-ds-workshops-corp/yixli/data_understanding/08-11-2020_search_revenue_below_peterman_usd_df.csv\"\n",
    "print(\"Collecting search the data...\")\n",
    "search_revenue_below_peterman_usd_df = sqlContext.read.format('csv').\\\n",
    "            options(header='True', inferSchema='false', delimiter=',').\\\n",
    "            schema(search_schema).load(file_loc)\n",
    "\n",
    "# load_date between '20191201' and '20200101'\n",
    "print(search_revenue_below_peterman_usd_df.count())"
   ]
  },
  {
   "cell_type": "code",
   "execution_count": 52,
   "metadata": {},
   "outputs": [
    {
     "name": "stdout",
     "output_type": "stream",
     "text": [
      "+---------+-----------------+\n",
      "|rate_type|count(message_id)|\n",
      "+---------+-----------------+\n",
      "|     EPRA|          2831144|\n",
      "|     EPRM|         10851577|\n",
      "|     ESRM|         45737980|\n",
      "|     ESRA|          7473111|\n",
      "|      GDS|         19233691|\n",
      "+---------+-----------------+"
     ]
    }
   ],
   "source": [
    "search_revenue_below_peterman_usd_df.groupBy('rate_type').agg(F.count(F.col('message_id'))).show()"
   ]
  },
  {
   "cell_type": "code",
   "execution_count": 63,
   "metadata": {},
   "outputs": [
    {
     "name": "stdout",
     "output_type": "stream",
     "text": [
      "+---------+------------------------+----------------------------+---------------------------+\n",
      "|rate_type|avg(src_rate_amount_usd)|avg(src_commission_base_usd)|avg(src_supply_revenue_usd)|\n",
      "+---------+------------------------+----------------------------+---------------------------+\n",
      "|     EPRA|      160.50747284356697|           25.78638466699946|         28.737860917031753|\n",
      "|     EPRM|      182.55486579183457|          29.988307561942353|         38.195347010062655|\n",
      "|     ESRM|      177.43720665719636|           27.06187241759471|          34.92993847592493|\n",
      "|     ESRA|      150.86520571461784|           23.84484317570675|         26.644187551017772|\n",
      "|      GDS|      191.35448903623652|                         0.0|         15.308359133772106|\n",
      "+---------+------------------------+----------------------------+---------------------------+"
     ]
    }
   ],
   "source": [
    "search_revenue_below_peterman_usd_df.\\\n",
    "                  groupBy('rate_type').\\\n",
    "                  agg(F.avg(\"src_rate_amount_usd\"),F.avg(\"src_commission_base_usd\"),F.avg(\"src_supply_revenue_usd\")).show()"
   ]
  },
  {
   "cell_type": "code",
   "execution_count": 37,
   "metadata": {},
   "outputs": [],
   "source": [
    "%spark -o search_below_peterman_usd_df -n 30000"
   ]
  },
  {
   "cell_type": "markdown",
   "metadata": {},
   "source": [
    "## Booking data"
   ]
  },
  {
   "cell_type": "code",
   "execution_count": null,
   "metadata": {},
   "outputs": [],
   "source": [
    "'''\n",
    "wget https://s3.amazonaws.com/redshift-downloads/drivers/jdbc/1.2.20.1043/RedshiftJDBC42-no-awssdk-1.2.20.1043.jar\n",
    "wget https://repo1.maven.org/maven2/com/databricks/spark-avro_2.11/3.2.0/spark-avro_2.11-3.2.0.jar\n",
    "wget https://repo1.maven.org/maven2/com/databricks/spark-redshift_2.11/2.0.1/spark-redshift_2.11-2.0.1.jar\n",
    "wget https://repo1.maven.org/maven2/com/databricks/spark-csv_2.11/1.5.0/spark-csv_2.11-1.5.0.jar\n",
    "wget https://repo1.maven.org/maven2/com/eclipsesource/minimal-json/minimal-json/0.9.5/minimal-json-0.9.5.jar\n",
    "sudo cp *.jar /usr/lib/spark/jars\n",
    "'''"
   ]
  },
  {
   "cell_type": "code",
   "execution_count": 3,
   "metadata": {},
   "outputs": [
    {
     "name": "stdout",
     "output_type": "stream",
     "text": [
      "460242"
     ]
    }
   ],
   "source": [
    "sqlBookings = \"\"\"SELECT \n",
    "      a.hotelfactid,\n",
    "      a.hotelid as hotel_id,\n",
    "     trunc(a.issuedate) as issue_date,\n",
    "     trunc(a.traveldatestart) as check_in_date,\n",
    "     trunc(a.traveldateend) as check_out_date,\n",
    "     hsp.quarter as quarter,\n",
    "      (case when a.customersystemid=1 then a.TUIDTraveler else g.TUIDInternal end) as tuid,      \n",
    "      a.travelproductid AS travel_product_id,\n",
    "      a.GroupAccountID AS group_account_id,\n",
    "      hsp.rate_type AS hotel_rate_type,\n",
    "      (case  \n",
    "        when a.hotelrateTypeSupplyid IN (1,2,3,4,5,10,11,14,16,17,18,20,25,26,28,29,30,32) then 'GDS'\n",
    "        when a.hotelrateTypeSupplyid IN (12,13,15,19,21,22,23,27,31,33,34) then 'NEG'\n",
    "        when a.hotelrateTypeSupplyid = 6 then 'ESRA'\n",
    "        when a.hotelrateTypeSupplyid = 7 then 'ESRM'\n",
    "        when a.hotelrateTypeSupplyid = 8 then 'EPRA'\n",
    "        when a.hotelrateTypeSupplyid = 9 then 'EPRM'\n",
    "        when a.hotelrateTypeSupplyid IN (24,35) then 'HOTMIP'\n",
    "        else 'UNK'\n",
    "        end) as bk_rate_type,\n",
    "      CASE WHEN a.OnlineBool = 1 THEN 'online' ELSE 'offline' END AS booking_type,\n",
    "      a.bookingamtgross::DOUBLE precision*COALESCE(ex.exchangerate,1::DOUBLE precision) AS gross_booking_value_usd,\n",
    "      a.bookingamtcommissionest::DOUBLE precision*COALESCE(ex.exchangerate,1::DOUBLE precision)\n",
    "        + a.bookingamtgross::DOUBLE precision*COALESCE(ex.exchangerate,1::DOUBLE precision)*NVL(hsp.commission,0.00) AS total_commission,\n",
    "      a.bookingamtmargin::DOUBLE precision*COALESCE(ex.exchangerate,1::DOUBLE precision) AS total_markup,\n",
    "      NVL(hsp.gds,0.00) AS total_gds,\n",
    "      NVL(total_commission,0.00) + NVL(total_markup,0.00) + NVL(total_gds,0.00) AS total_supply_revenue\n",
    "FROM public.HotelFact a\n",
    "  JOIN public.ExchangeRateDailySubset ex\n",
    "    ON a.IssueDateTimeID = ex.TimeID AND a.CurrencyCode = ex.FromCurrencyCode AND ex.ToCurrencyCode = 'USD'\n",
    "  JOIN TravelerAccountDim g \n",
    "    ON a.TUIDTraveler = g.TUID AND a.customersystemid=g.customersystemid \n",
    "  JOIN public.GroupAccountdim d \n",
    "    ON a.GroupAccountID = d.GroupAccountID \n",
    "  JOIN public.hotel_supply hsp \n",
    "    ON hsp.year = EXTRACT (year FROM a.IssueDate)\n",
    "    AND hsp.quarter = EXTRACT (quarter FROM a.IssueDate)\n",
    "    AND hsp.rate_type = CASE\n",
    "         WHEN a.HotelRateTypeSupplyID IN (7,9,24) THEN 'Expedia Collect'\n",
    "         WHEN a.HotelRateTypeSupplyID IN (6,8,35) THEN 'Hotel Collect'\n",
    "         WHEN a.HotelRateTypeSupplyID IN (12,13,15,19,21,22,23,27,31,33,34) THEN 'Negotiated'\n",
    "         ELSE 'Published & GDS' END\n",
    "    AND hsp.travel_product_id = a.TravelProductID\n",
    "WHERE a.CustomerSystemID IN (1,2)\n",
    "AND   (d.groupaccountinternaltypeid = 1 OR d.groupaccountinternaltypeid = 3)\n",
    "AND a.BookingTypeID in (1,3) \n",
    "and a.issuedate>=to_date('20191201','YYYYMMDD') \n",
    "and a.issuedate<=to_date('20200101','YYYYMMDD')\"\"\".replace('\\n',' ')\n",
    "\n",
    "connection_string = \"jdbc:redshift://egencia-reporting.czjkedodj6lc.us-west-2.redshift.amazonaws.com:5439/egedatamart?user=ds_rpt_user&password=Jan2019!\";\n",
    "\n",
    "bookings_df = sqlContext.read.\\\n",
    "    format(\"com.databricks.spark.redshift\").\\\n",
    "    option(\"url\", connection_string).\\\n",
    "    option(\"query\", sqlBookings).\\\n",
    "    option(\"tempdir\", \"s3a://ege-ds-workshops-corp/yixli/\").\\\n",
    "    load()\n",
    "\n",
    "bookings_df.cache()\n",
    "bookings_df.count()"
   ]
  },
  {
   "cell_type": "code",
   "execution_count": 4,
   "metadata": {
    "collapsed": true
   },
   "outputs": [
    {
     "name": "stdout",
     "output_type": "stream",
     "text": [
      "+-----------+--------+----------+-------------+--------------+--------+-----------------+----------------+---------------+------------+------------+-----------------------+------------------+------------------+---------+--------------------+\n",
      "|hotelfactid|hotel_id|issue_date|check_in_date|check_out_date|    tuid|travel_product_id|group_account_id|hotel_rate_type|bk_rate_type|booking_type|gross_booking_value_usd|  total_commission|      total_markup|total_gds|total_supply_revenue|\n",
      "+-----------+--------+----------+-------------+--------------+--------+-----------------+----------------+---------------+------------+------------+-----------------------+------------------+------------------+---------+--------------------+\n",
      "|   89579450|   10971|2020-01-01|   2020-01-05|    2020-01-09|19466814|            60086|           34972|Expedia Collect|        ESRM|      online|      486.9729434742641|               0.0| 87.63766659007344|    0E-18|   87.63766659007344|\n",
      "|   89577955| 4027043|2020-01-01|   2020-01-02|    2020-01-04|21188726|            60086|           44256|  Hotel Collect|        ESRA|      online|        99.956916360294|               0.0|               0.0|    0E-18|                 0.0|\n",
      "|   89579391| 6253685|2020-01-01|   2020-01-06|    2020-01-07|18885566|            60086|           41419|Expedia Collect|        ESRM|      online|     200.94209558823508|               0.0| 32.15044806985291|    0E-18|   32.15044806985291|\n",
      "|   89580959| 4326646|2020-01-01|   2020-01-02|    2020-01-03|18081114|            60086|           42563|     Negotiated|         NEG|      online|      122.0717486213234|               0.0|               0.0|    0E-18|                 0.0|\n",
      "|   89580530| 2427310|2020-01-01|   2020-01-13|    2020-01-17|17399687|            60086|           19713|     Negotiated|         NEG|      online|      569.3359374999993|               0.0|               0.0|    0E-18|                 0.0|\n",
      "|   89579496| 2366900|2020-01-01|   2020-01-01|    2020-01-03|19432549|            60086|           38245|Expedia Collect|        ESRM|      online|      464.8437499999995|               0.0| 71.11960018382345|    0E-18|   71.11960018382345|\n",
      "|   89580009| 8800100|2020-01-01|   2020-01-31|    2020-02-01|17300927|            60086|           41897|     Negotiated|         NEG|      online|      79.03693704044109|               0.0|               0.0|    0E-18|                 0.0|\n",
      "|   89579795| 1667164|2020-01-01|   2020-01-06|    2020-01-08|    null|            60086|           41419|Published & GDS|         GDS|      online|     351.64866727941137| 28.13189338235291|               0.0|    0E-18|   28.13189338235291|\n",
      "|   89579563| 3907644|2020-01-01|   2020-01-05|    2020-01-06|    null|            60086|           41419|Published & GDS|         GDS|      online|     133.96139705882337| 10.71691176470587|               0.0|    0E-18|   10.71691176470587|\n",
      "|   89579608| 4642519|2020-01-01|   2020-01-01|    2020-01-04|15988114|            60086|           37647|     Negotiated|         NEG|      online|       204.650160845588|               0.0|               0.0|    0E-18|                 0.0|\n",
      "|   89580387|  552973|2020-01-01|   2020-01-13|    2020-01-17|15988401|            60086|           37647|     Negotiated|         NEG|      online|      804.4873764935652|               0.0|               0.0|    0E-18|                 0.0|\n",
      "|   89578500|22397671|2020-01-01|   2020-01-22|    2020-01-24|14492393|            60086|           34807|Expedia Collect|        ESRM|      online|      318.1611902573526|               0.0| 57.26964613970581|    0E-18|   57.26964613970581|\n",
      "|   89610113|  444214|2020-01-02|   2020-01-26|    2020-01-30|18535208|            60085|           37849|     Negotiated|         NEG|      online|     245.72768829291095|               0.0|               0.0|    0E-18|                 0.0|\n",
      "|   89595369| 1066467|2020-01-02|   2020-01-12|    2020-01-17|21183483|            60085|           42956|Expedia Collect|        ESRM|      online|      651.7927830234427|               0.0| 132.8270738007706|    0E-18|   132.8270738007706|\n",
      "|   89593863|16412344|2020-01-02|   2020-01-13|    2020-01-14|14563183|            60085|           36810|Expedia Collect|      HOTMIP|      online|      93.04354342440516|               0.0|12.199132481684261|    0E-18|  12.199132481684261|\n",
      "|   89603621| 1426751|2020-01-02|   2020-01-07|    2020-01-09|15045164|            60085|           37849|     Negotiated|         NEG|      online|     180.94493374593358|               0.0|               0.0|    0E-18|                 0.0|\n",
      "|   89606007| 4320905|2020-01-02|   2020-01-06|    2020-01-08|21064901|            60085|           37633|     Negotiated|         NEG|      online|     185.85948671832992|               0.0|               0.0|    0E-18|                 0.0|\n",
      "|   89588444|   63533|2020-01-02|   2020-01-26|    2020-01-31|19315693|            60085|           33678|Expedia Collect|        ESRM|      online|      604.1674380879334|               0.0|110.47817098221768|    0E-18|  110.47817098221768|\n",
      "|   89594612|   63533|2020-01-02|   2020-01-26|    2020-01-31|21130446|            60085|           33678|Expedia Collect|        ESRM|      online|      604.1674380879334|               0.0|110.47817098221768|    0E-18|  110.47817098221768|\n",
      "|   89584709|    2479|2020-01-02|   2020-01-12|    2020-01-25|20311459|            60085|           37633|  Hotel Collect|        EPRA|      online|     3097.6475221948926| 573.0976487079797|               0.0|    0E-18|   573.0976487079797|\n",
      "|   89600578| 2292408|2020-01-02|   2020-01-13|    2020-01-14|19156927|            60085|           43757|Published & GDS|         GDS|      online|      90.47246687296679| 7.237797349837344|               0.0|    0E-18|   7.237797349837344|\n",
      "|   89586161|   16874|2020-01-02|   2020-01-08|    2020-01-09|15721232|            60085|           36810|  Hotel Collect|        EPRA|      online|      99.21814030169186|17.848766166785694|               0.0|    0E-18|  17.848766166785694|\n",
      "|   89592847| 1742184|2020-01-02|   2020-01-06|    2020-01-07|18753640|            60085|           43955|Expedia Collect|        EPRM|      online|      192.5471889409048|               0.0| 32.68386715684979|    0E-18|   32.68386715684979|\n",
      "|   89585331| 2870934|2020-01-02|   2020-01-06|    2020-01-07|17499228|            60085|           41514|  Hotel Collect|        EPRA|      online|     50.758972731360274| 9.136669399702015|               0.0|    0E-18|   9.136669399702015|\n",
      "|   89605116| 4144989|2020-01-02|   2020-01-16|    2020-01-17|14902897|            60085|           37735|     Negotiated|         NEG|      online|      84.65797385102316|               0.0|               0.0|    0E-18|                 0.0|\n",
      "|   89590656| 1071025|2020-01-02|   2020-01-17|    2020-01-19|18258906|            60085|           25041|Expedia Collect|        ESRM|      online|     147.07344812081786|               0.0| 35.55775520819559|    0E-18|   35.55775520819559|\n",
      "|   89591226|  891948|2020-01-02|   2020-01-26|    2020-01-30|18317957|            60085|           25041|Expedia Collect|        ESRM|      online|     424.90764985409135|               0.0| 85.49069445546478|    0E-18|   85.49069445546478|\n",
      "|   89592599| 5399359|2020-01-02|   2020-01-14|    2020-01-16|18317957|            60085|           25041|Expedia Collect|        ESRM|      online|      436.1051601470551|               0.0|59.472224426283006|    0E-18|  59.472224426283006|\n",
      "|   89583580| 1400076|2020-01-02|   2020-01-07|    2020-01-08|15263793|            60085|           37745|  Hotel Collect|        EPRA|      online|      55.40042053479333|12.744333359782066|               0.0|    0E-18|  12.744333359782066|\n",
      "|   89586183| 1400076|2020-01-02|   2020-01-07|    2020-01-08|15263793|            60085|           37745|  Hotel Collect|        EPRA|      online|      60.76175425604136|13.972969398820391|               0.0|    0E-18|  13.972969398820391|\n",
      "|   89583593|   34839|2020-01-02|   2020-01-20|    2020-01-23|15050482|            60085|           36810|  Hotel Collect|        EPRA|      online|     400.35071896462057|  84.0726414345791|               0.0|    0E-18|    84.0726414345791|\n",
      "|   89611572|   17163|2020-01-02|   2020-01-21|    2020-01-22|14897357|            60085|           25041|Published & GDS|         GDS|      online|     140.06504624119484|11.205203699295588|               0.0|    0E-18|  11.205203699295588|\n",
      "|   89584795| 1426751|2020-01-02|   2020-01-06|    2020-01-10|14596685|            60085|           37849|  Hotel Collect|        EPRA|      online|     389.03161063944225| 77.79515459282185|               0.0|    0E-18|   77.79515459282185|\n",
      "|   89584881| 6002047|2020-01-02|   2020-01-20|    2020-01-23|14902762|            60085|           37735|  Hotel Collect|        ESRA|      online|     229.27318010702928| 34.39097833849085|               0.0|    0E-18|   34.39097833849085|\n",
      "|   89595421|   13666|2020-01-02|   2020-01-14|    2020-01-15| 8083573|            60085|           21781|Expedia Collect|      HOTMIP|      online|      75.88845689297965|               0.0|14.909699630599423|    0E-18|  14.909699630599423|\n",
      "|   89586887| 4144989|2020-01-02|   2020-01-06|    2020-01-09|14519139|            60085|           37725|Expedia Collect|        ESRM|      online|     405.89542172498625|               0.0| 61.89002618424187|    0E-18|   61.89002618424187|\n",
      "|   89584906|   13052|2020-01-02|   2020-01-14|    2020-01-15|14563870|            60085|           36810|  Hotel Collect|        ESRA|      online|       82.6538610736421|10.231205973886292|               0.0|    0E-18|  10.231205973886292|\n",
      "|   89667493| 1460579|2020-01-04|   2020-01-05|    2020-01-08|19651703|            60095|           40601|Expedia Collect|      HOTMIP|      online|      388.1962745375295|               0.0| 75.90053863656786|    0E-18|   75.90053863656786|\n",
      "|   89668007| 3164182|2020-01-04|   2020-01-23|    2020-01-25|10859048|            60095|           27254|Expedia Collect|        ESRM|      online|      539.0466518402324|               0.0| 91.55898648909195|    0E-18|   91.55898648909195|\n",
      "|   89666859|   21035|2020-01-04|   2020-01-07|    2020-01-10|17705918|            60095|           40601|Expedia Collect|        EPRM|      online|       779.686073866482|               0.0|103.33768270578064|    0E-18|  103.33768270578064|\n",
      "|   89670662|   24053|2020-01-04|   2020-02-13|    2020-02-15|18470716|            60095|           32645|     Negotiated|         NEG|      online|       201.542840247335|               0.0|               0.0|    0E-18|                 0.0|\n",
      "|   89669746| 6253991|2020-01-04|   2020-01-05|    2020-01-10|12288534|            60095|           33946|     Negotiated|         NEG|      online|     1548.2393783182654|               0.0|               0.0|    0E-18|                 0.0|\n",
      "|   89667177| 2754862|2020-01-04|   2020-01-06|    2020-01-09|13270454|            60095|           35269|Expedia Collect|      HOTMIP|      online|     399.83673784210987|               0.0| 25.20565889778751|    0E-18|   25.20565889778751|\n",
      "|   89670498|31719165|2020-01-04|   2020-01-16|    2020-01-17|11637371|            60095|           27276|Published & GDS|         GDS|      online|     161.20531180501038|12.896424944400831|               0.0|    0E-18|  12.896424944400831|\n",
      "|   89666551|   22724|2020-01-04|   2020-01-11|    2020-01-12|14778027|            60095|           32645|  Hotel Collect|        ESRA|      online|     170.77008317371286| 30.73660800370221|               0.0|    0E-18|   30.73660800370221|\n",
      "|   89669735|  992547|2020-01-04|   2020-01-06|    2020-01-10|14793931|            60095|           32645|Published & GDS|         GDS|      online|      853.5999948578816| 68.28799958863053|               0.0|    0E-18|   68.28799958863053|\n",
      "|   89670499|    5558|2020-01-04|   2020-01-31|    2020-02-03|14782066|            60095|           32645|     Negotiated|         NEG|      online|      373.7280335265898|               0.0|               0.0|    0E-18|                 0.0|\n",
      "|   89675188|15867986|2020-01-05|   2020-01-12|    2020-01-13|19165545|            60004|           44205|Expedia Collect|      HOTMIP|      online|      38.36627951696022|               0.0| 7.273902007537878|    0E-18|   7.273902007537878|\n",
      "|   89674532| 1206772|2020-01-05|   2020-01-19|    2020-01-24|19857161|            60004|           44205|Expedia Collect|        ESRM|      online|      694.1389123913542|               0.0|119.22159833858929|    0E-18|  119.22159833858929|\n",
      "|   89677030|  127122|2020-01-05|   2020-03-24|    2020-03-25|14242805|            60004|            5891|     Negotiated|         NEG|      online|     172.62518267825544|               0.0|               0.0|    0E-18|                 0.0|\n",
      "+-----------+--------+----------+-------------+--------------+--------+-----------------+----------------+---------------+------------+------------+-----------------------+------------------+------------------+---------+--------------------+\n",
      "only showing top 50 rows"
     ]
    }
   ],
   "source": [
    "bookings_df.show(50)"
   ]
  },
  {
   "cell_type": "code",
   "execution_count": 28,
   "metadata": {},
   "outputs": [],
   "source": [
    "dir = 's3://ege-ds-workshops-corp/yixli/data_understanding/'"
   ]
  },
  {
   "cell_type": "code",
   "execution_count": 29,
   "metadata": {},
   "outputs": [],
   "source": [
    "datestamp = datetime.datetime.now().strftime('%m-%d-%Y')\n",
    "bookings_df.repartition(1).write.format('com.databricks.spark.csv').mode('overwrite')\\\n",
    ".save(dir+datestamp+'_bookings_df.csv',header = 'true')"
   ]
  },
  {
   "cell_type": "code",
   "execution_count": 18,
   "metadata": {
    "collapsed": true
   },
   "outputs": [
    {
     "name": "stdout",
     "output_type": "stream",
     "text": [
      "+------------+-------------------------+---------------------+-----------------+\n",
      "|bk_rate_type|avg(total_supply_revenue)|avg(total_commission)|avg(total_markup)|\n",
      "+------------+-------------------------+---------------------+-----------------+\n",
      "|        EPRA|         46.0896540718292|     46.0896540718292|              0.0|\n",
      "|         NEG|                      0.0|                  0.0|              0.0|\n",
      "|        EPRM|        55.29926517066873|                  0.0|55.29926517066873|\n",
      "|        ESRM|        54.00079820764198|                  0.0|54.01410507738632|\n",
      "|      HOTMIP|        58.34601692940934|  0.18765591199625353|58.15836101741308|\n",
      "|        ESRA|        43.04767840746359|    43.04767840746359|              0.0|\n",
      "|         GDS|        28.36807550209393|   29.486316720503424|              0.0|\n",
      "+------------+-------------------------+---------------------+-----------------+"
     ]
    }
   ],
   "source": [
    "bookings_df.\\\n",
    "                  groupBy('bk_rate_type').\\\n",
    "                  agg(F.avg(\"total_supply_revenue\"),F.avg(\"total_commission\"),F.avg(\"total_markup\")).show(20)"
   ]
  },
  {
   "cell_type": "code",
   "execution_count": 54,
   "metadata": {},
   "outputs": [
    {
     "name": "stdout",
     "output_type": "stream",
     "text": [
      "+------------+------+\n",
      "|bk_rate_type| count|\n",
      "+------------+------+\n",
      "|        EPRA| 14133|\n",
      "|         NEG|120161|\n",
      "|        EPRM| 45201|\n",
      "|        ESRM|142069|\n",
      "|      HOTMIP| 21660|\n",
      "|        ESRA| 41233|\n",
      "|         GDS| 75783|\n",
      "+------------+------+"
     ]
    }
   ],
   "source": [
    "bookings_df.groupBy('bk_rate_type').count().show()"
   ]
  },
  {
   "cell_type": "code",
   "execution_count": 59,
   "metadata": {
    "collapsed": true
   },
   "outputs": [
    {
     "name": "stdout",
     "output_type": "stream",
     "text": [
      "+-----------------+------+\n",
      "|travel_product_id| count|\n",
      "+-----------------+------+\n",
      "|            60000|180507|\n",
      "|            60020| 80698|\n",
      "|            60003| 41902|\n",
      "|            60006| 35694|\n",
      "|            60010| 28265|\n",
      "|            60035| 17618|\n",
      "|            60004|  9133|\n",
      "|            60013|  9062|\n",
      "|            61025|  7279|\n",
      "|            60011|  7086|\n",
      "|            60080|  6750|\n",
      "|            60008|  5803|\n",
      "|            61027|  5627|\n",
      "|            60009|  5331|\n",
      "|            60082|  4125|\n",
      "|            60092|  3174|\n",
      "|            60084|  3067|\n",
      "|            60083|  2179|\n",
      "|            60081|  1879|\n",
      "|            60086|  1578|\n",
      "+-----------------+------+\n",
      "only showing top 20 rows"
     ]
    }
   ],
   "source": [
    "bookings_df.groupBy('travel_product_id').count().orderBy(desc('count')).show()"
   ]
  },
  {
   "cell_type": "markdown",
   "metadata": {},
   "source": [
    "## Adjust the revenue by the length of stay"
   ]
  },
  {
   "cell_type": "code",
   "execution_count": 54,
   "metadata": {},
   "outputs": [],
   "source": [
    "bookings_df = bookings_df.\\\n",
    "                     withColumn('duration', F.datediff(F.col(\"check_out_date\"),F.col( \"check_in_date\")).cast(IntegerType()))"
   ]
  },
  {
   "cell_type": "code",
   "execution_count": 55,
   "metadata": {},
   "outputs": [],
   "source": [
    "bookings_df = bookings_df.\\\n",
    "                     withColumn('avg_book_rate_amount_usd',F.col('gross_booking_value_usd')/F.col( \"duration\")).\\\n",
    "                     withColumn('bk_avg_commission_usd',F.col('total_commission')/F.col( \"duration\")).\\\n",
    "                     withColumn('bk_avg_markup_usd',F.col('total_markup')/F.col( \"duration\")).\\\n",
    "                     withColumn('bk_avg_revenue_usd',F.col('total_supply_revenue')/F.col( \"duration\"))"
   ]
  },
  {
   "cell_type": "code",
   "execution_count": 56,
   "metadata": {},
   "outputs": [
    {
     "name": "stdout",
     "output_type": "stream",
     "text": [
      "+------------+-----------------------+--------------------------+----------------------+\n",
      "|bk_rate_type|avg(bk_avg_revenue_usd)|avg(bk_avg_commission_usd)|avg(bk_avg_markup_usd)|\n",
      "+------------+-----------------------+--------------------------+----------------------+\n",
      "|        EPRA|     22.770339986908915|        22.770339986908915|                   0.0|\n",
      "|         NEG|                    0.0|                       0.0|                   0.0|\n",
      "|        EPRM|     27.435996466929012|                       0.0|    27.435996466929012|\n",
      "|        ESRM|     24.990027918750375|                       0.0|    24.996185958213857|\n",
      "|      HOTMIP|     28.117755483102982|       0.07081393441842765|     28.04694154868456|\n",
      "|        ESRA|     20.152466210420982|        20.152466210420982|                   0.0|\n",
      "|         GDS|     13.231402634104182|        13.753334274583185|                   0.0|\n",
      "+------------+-----------------------+--------------------------+----------------------+"
     ]
    }
   ],
   "source": [
    "bookings_df.\\\n",
    "                  groupBy('bk_rate_type').\\\n",
    "                  agg(F.avg(\"bk_avg_revenue_usd\"),F.avg(\"bk_avg_commission_usd\"),F.avg(\"bk_avg_markup_usd\")).show(20)"
   ]
  },
  {
   "cell_type": "code",
   "execution_count": 20,
   "metadata": {},
   "outputs": [],
   "source": [
    "bookings_df = bookings_df.filter(F.col('total_supply_revenue')>0)"
   ]
  },
  {
   "cell_type": "code",
   "execution_count": 26,
   "metadata": {
    "collapsed": true
   },
   "outputs": [
    {
     "name": "stdout",
     "output_type": "stream",
     "text": [
      "+-----------+--------+----------+-------------+--------------+-------+--------+-----------------+----------------+---------------+------------+------------+-----------------------+----------------+------------------+---------+--------------------+--------+------------------------+---------------------+------------------+------------------+\n",
      "|hotelfactid|hotel_id|issue_date|check_in_date|check_out_date|quarter|    tuid|travel_product_id|group_account_id|hotel_rate_type|bk_rate_type|booking_type|gross_booking_value_usd|total_commission|      total_markup|total_gds|total_supply_revenue|duration|avg_book_rate_amount_usd|bk_avg_commission_usd| bk_avg_markup_usd|bk_avg_revenue_usd|\n",
      "+-----------+--------+----------+-------------+--------------+-------+--------+-----------------+----------------+---------------+------------+------------+-----------------------+----------------+------------------+---------+--------------------+--------+------------------------+---------------------+------------------+------------------+\n",
      "|   89509503| 1790087|2019-12-30|   2019-12-30|    2020-01-02|      4|10080142|            60000|           31016|Expedia Collect|        ESRM|      online|                8415.63|             0.0|           1724.94|    0E-18|             1724.94|       3|      2805.2099999999996|                  0.0|            574.98|            574.98|\n",
      "|   89515178| 1790087|2019-12-30|   2019-12-30|    2020-01-02|      4|10079532|            60000|           31016|Expedia Collect|        ESRM|      online|                8415.63|             0.0|           1724.94|    0E-18|             1724.94|       3|      2805.2099999999996|                  0.0|            574.98|            574.98|\n",
      "|   89086455| 6172750|2019-12-12|   2019-12-17|    2019-12-19|      4|14554546|            60000|           36620|Published & GDS|         GDS|      online|             13326.7452|     1066.139616|               0.0|    0E-18|         1066.139616|       2|               6663.3726|           533.069808|               0.0|        533.069808|\n",
      "|   88740212| 3629903|2019-12-05|   2019-12-10|    2019-12-12|      4|17408022|            60000|           42388|Expedia Collect|        ESRM|      online|                5752.52|             0.0|            1000.0|    0E-18|              1000.0|       2|                 2876.26|                  0.0|             500.0|             500.0|\n",
      "|   89514952| 2422198|2019-12-30|   2019-12-31|    2020-01-02|      4|10079532|            60000|           31016|Expedia Collect|        ESRM|      online|                 3974.9|             0.0|             749.1|    0E-18|               749.1|       2|                 1987.45|                  0.0|            374.55|            374.55|\n",
      "|   88530357|  423622|2019-12-01|   2020-01-30|    2020-02-02|      4|14908599|            60000|           36056|Expedia Collect|        ESRM|      online|                5204.61|             0.0|           1062.81|    0E-18|             1062.81|       3|                 1734.87|                  0.0|            354.27|            354.27|\n",
      "|   89430828|15980957|2019-12-21|   2019-12-21|    2019-12-25|      4|10079532|            60000|           31016|Expedia Collect|        ESRM|      online|                 5959.0|             0.0|         1412.6391|    0E-18|           1412.6391|       4|                 1489.75|                  0.0|        353.159775|        353.159775|\n",
      "|   89395910|    2203|2019-12-20|   2019-12-22|    2019-12-30|      4|10079532|            60000|           31016|Expedia Collect|        ESRM|      online|               14510.66|             0.0|           2749.16|    0E-18|             2749.16|       8|               1813.8325|                  0.0|           343.645|           343.645|\n",
      "|   89511825|18723252|2019-12-30|   2020-01-13|    2020-01-15|      4|20503725|            60000|           45922|Expedia Collect|        EPRM|      online|                3216.37|             0.0|             683.3|    0E-18|               683.3|       2|                1608.185|                  0.0|            341.65|            341.65|\n",
      "|   89532227| 3900409|2019-12-31|   2020-01-01|    2020-01-03|      4|10079532|            60000|           31016|Expedia Collect|        ESRM|      online|                2690.62|             0.0|            654.51|    0E-18|              654.51|       2|                 1345.31|                  0.0|           327.255|           327.255|\n",
      "|   89474823|  914370|2019-12-26|   2019-12-27|    2019-12-28|      4|10079532|            60000|           31016|Expedia Collect|        ESRM|      online|                 1023.0|             0.0|            301.44|    0E-18|              301.44|       1|                  1023.0|                  0.0|            301.44|            301.44|\n",
      "|   89486199| 6271901|2019-12-27|   2020-01-13|    2020-01-15|      4| 6805843|            60000|            2833|Expedia Collect|        ESRM|      online|                3110.74|             0.0|            600.06|    0E-18|              600.06|       2|                 1555.37|                  0.0|            300.03|            300.03|\n",
      "|   88957777| 1100630|2019-12-10|   2020-02-25|    2020-02-26|      4| 5262062|            60020|           13392|Expedia Collect|      HOTMIP|      online|     1088.1184823607728|             0.0| 290.1597514976704|    0E-18|   290.1597514976704|       1|      1088.1184823607728|                  0.0| 290.1597514976704| 290.1597514976704|\n",
      "|   88840264| 1853240|2019-12-06|   2019-12-09|    2019-12-11|      4| 8687435|            60000|           20435|Expedia Collect|        ESRM|      online|                3230.44|             0.0|            568.44|    0E-18|              568.44|       2|                 1615.22|                  0.0|            284.22|            284.22|\n",
      "|   88840142| 1853240|2019-12-06|   2019-12-09|    2019-12-11|      4| 8687435|            60000|           20435|Expedia Collect|        ESRM|      online|                3230.44|             0.0|            568.44|    0E-18|              568.44|       2|                 1615.22|                  0.0|            284.22|            284.22|\n",
      "|   89191030|    4218|2019-12-16|   2020-01-11|    2020-01-17|      4| 2655213|            60000|           16145|Expedia Collect|        ESRM|      online|                8192.19|             0.0|         1683.5926|    0E-18|           1683.5926|       6|                1365.365|                  0.0| 280.5987666666667| 280.5987666666667|\n",
      "|   88738786|  470265|2019-12-05|   2019-12-10|    2019-12-14|      4|18018601|            60011|           42879|Expedia Collect|        ESRM|      online|      5659.160559626905|             0.0|1112.4368198978436|    0E-18|  1112.4368198978436|       4|      1414.7901399067262|                  0.0| 278.1092049744609| 278.1092049744609|\n",
      "|   89185698|   23581|2019-12-16|   2020-01-12|    2020-01-15|      4|16287629|            60000|           30675|  Hotel Collect|        ESRA|      online|                4838.82|          831.06|               0.0|    0E-18|              831.06|       3|      1612.9399999999998|               277.02|               0.0|            277.02|\n",
      "|   89447959|   23581|2019-12-23|   2020-01-12|    2020-01-15|      4|20518265|            60004|           45901|Expedia Collect|        ESRM|      online|      3756.464861575905|             0.0| 825.0048676604806|    0E-18|   825.0048676604806|       3|       1252.154953858635|                  0.0| 275.0016225534935| 275.0016225534935|\n",
      "|   89320837|   25199|2019-12-18|   2020-02-13|    2020-02-16|      4| 7701397|            60000|           21949|Expedia Collect|        EPRM|      online|                3652.64|             0.0|            823.98|    0E-18|              823.98|       3|      1217.5466666666666|                  0.0|            274.66|            274.66|\n",
      "|   88880973| 3606282|2019-12-08|   2019-12-09|    2019-12-11|      4|18763747|            60000|           43994|Expedia Collect|        EPRM|      online|                3676.69|             0.0|            543.66|    0E-18|              543.66|       2|                1838.345|                  0.0|            271.83|            271.83|\n",
      "|   88678961|  470265|2019-12-04|   2019-12-11|    2019-12-14|      4|18018601|            60011|           42879|Expedia Collect|        ESRM|      online|      4197.772359525664|             0.0| 814.5395101407528|    0E-18|   814.5395101407528|       3|      1399.2574531752214|                  0.0| 271.5131700469176| 271.5131700469176|\n",
      "|   89399052|   23581|2019-12-20|   2020-01-12|    2020-01-15|      4|20518265|            60004|           45901|Expedia Collect|        ESRM|      online|     3742.2004406959973|             0.0| 810.7404452549201|    0E-18|   810.7404452549201|       3|      1247.4001468986658|                  0.0| 270.2468150849734| 270.2468150849734|\n",
      "|   88542169|   20213|2019-12-02|   2019-12-10|    2019-12-11|      4|13720602|            60000|           35198|  Hotel Collect|        ESRA|      online|                1552.62|           270.0|               0.0|    0E-18|               270.0|       1|                 1552.62|                270.0|               0.0|             270.0|\n",
      "|   88552245|   20213|2019-12-02|   2019-12-10|    2019-12-11|      4|13720163|            60000|           35198|Expedia Collect|        ESRM|      online|                1552.62|             0.0|             270.0|    0E-18|               270.0|       1|                 1552.62|                  0.0|             270.0|             270.0|\n",
      "|   88871497|     758|2019-12-07|   2019-12-10|    2019-12-11|      4|15198300|            60000|            2757|Expedia Collect|      HOTMIP|      online|                1082.34|             0.0|            268.62|    0E-18|              268.62|       1|                 1082.34|                  0.0|            268.62|            268.62|\n",
      "|   88839146| 1853240|2019-12-06|   2019-12-10|    2019-12-11|      4| 3221813|            60000|            4712|Expedia Collect|        ESRM|      online|                 1509.7|             0.0|            265.65|    0E-18|              265.65|       1|                  1509.7|                  0.0|            265.65|            265.65|\n",
      "|   89201518|   18437|2019-12-16|   2020-01-12|    2020-01-14|      4|15286054|            60000|           13042|Expedia Collect|        EPRM|      online|                2635.66|             0.0|            531.17|    0E-18|              531.17|       2|                 1317.83|                  0.0|           265.585|           265.585|\n",
      "|   88952916|   23855|2019-12-10|   2019-12-10|    2019-12-11|      4|19407747|            60000|           44983|Expedia Collect|        ESRM|      online|                1604.26|             0.0|            265.05|    0E-18|              265.05|       1|                 1604.26|                  0.0|            265.05|            265.05|\n",
      "|   89318739|   11793|2019-12-18|   2020-01-14|    2020-01-15|      4| 5280472|            60000|           15254|Expedia Collect|        ESRM|      online|                1312.48|             0.0|            264.86|    0E-18|              264.86|       1|                 1312.48|                  0.0|            264.86|            264.86|\n",
      "|   88958772| 6271901|2019-12-10|   2019-12-09|    2019-12-12|      4|21121042|            61025|           42043|Expedia Collect|        EPRM|      online|       4275.65395095368|             0.0| 792.7743869209811|    0E-18|   792.7743869209811|       3|      1425.2179836512266|                  0.0|264.25812897366035|264.25812897366035|\n",
      "|   88562008|  791769|2019-12-02|   2019-12-09|    2019-12-11|      4|17202891|            60000|           42059|Expedia Collect|        ESRM|      online|                2865.96|             0.0|             528.2|    0E-18|               528.2|       2|                 1432.98|                  0.0|             264.1|             264.1|\n",
      "|   89430184|24035995|2019-12-21|   2020-04-10|    2020-04-13|      4|16310870|            60000|           37408|  Hotel Collect|        ESRA|      online|                4916.87|          783.21|               0.0|    0E-18|              783.21|       3|      1638.9566666666667|               261.07|               0.0|            261.07|\n",
      "|   88907203| 2565776|2019-12-09|   2020-01-08|    2020-01-09|      4|11399049|            60000|           32558|Expedia Collect|      HOTMIP|      online|                 995.44|             0.0|             259.6|    0E-18|               259.6|       1|                  995.44|                  0.0|             259.6|             259.6|\n",
      "|   89464162|   23581|2019-12-24|   2020-01-12|    2020-01-14|      4|20518265|            60004|           45901|Expedia Collect|        ESRM|      online|     2342.0420876699845|             0.0|510.47208083263706|    0E-18|  510.47208083263706|       2|      1171.0210438349923|                  0.0|255.23604041631853|255.23604041631853|\n",
      "|   88834722|    8737|2019-12-06|   2019-12-10|    2019-12-11|      4|19107164|            60000|           44465|Expedia Collect|        ESRM|      online|                1667.63|             0.0|            254.85|    0E-18|              254.85|       1|                 1667.63|                  0.0|            254.85|            254.85|\n",
      "|   89320838|   25199|2019-12-18|   2020-02-13|    2020-02-16|      4| 7701397|            60000|           21949|Expedia Collect|        EPRM|      online|                3374.96|             0.0|            761.34|    0E-18|              761.34|       3|      1124.9866666666667|                  0.0|            253.78|            253.78|\n",
      "|   88685451|  791769|2019-12-04|   2019-12-09|    2019-12-11|      4|20497818|            60000|           45922|Expedia Collect|        ESRM|      online|                2752.04|             0.0|             507.2|    0E-18|               507.2|       2|                 1376.02|                  0.0|             253.6|             253.6|\n",
      "|   88841636| 1853240|2019-12-06|   2019-12-09|    2019-12-11|      4| 8687435|            60000|           20435|Expedia Collect|        ESRM|      online|                 2870.7|             0.0|            505.14|    0E-18|              505.14|       2|                 1435.35|                  0.0|            252.57|            252.57|\n",
      "|   89402883|  914146|2019-12-20|   2020-01-12|    2020-01-15|      4|14854502|            60000|           25854|Expedia Collect|        ESRM|      online|                 4679.0|             0.0|            735.46|    0E-18|              735.46|       3|      1559.6666666666667|                  0.0|245.15333333333334|245.15333333333334|\n",
      "|   89444203|35633797|2019-12-23|   2019-12-27|    2020-01-01|      4|10079532|            60000|           31016|Expedia Collect|        ESRM|      online|                 5921.1|             0.0|            1203.8|    0E-18|              1203.8|       5|                 1184.22|                  0.0|            240.76|            240.76|\n",
      "|   88554699|    6505|2019-12-02|   2019-12-10|    2019-12-11|      4|15926398|            60000|           19290|Expedia Collect|        EPRM|      online|                1194.66|             0.0|            240.76|    0E-18|              240.76|       1|                 1194.66|                  0.0|            240.76|            240.76|\n",
      "|   89198521| 4423875|2019-12-16|   2019-12-20|    2019-12-22|      4|10080142|            60000|           31016|Expedia Collect|        ESRM|      online|                1931.92|             0.0|            472.72|    0E-18|              472.72|       2|                  965.96|                  0.0|            236.36|            236.36|\n",
      "|   89197081| 4423875|2019-12-16|   2019-12-20|    2019-12-22|      4|10079532|            60000|           31016|Expedia Collect|        ESRM|      online|                1931.92|             0.0|            472.72|    0E-18|              472.72|       2|                  965.96|                  0.0|            236.36|            236.36|\n",
      "|   88870029|   23406|2019-12-07|   2019-12-11|    2019-12-12|      4|20503781|            60000|           45922|Expedia Collect|        ESRM|      online|                 961.07|             0.0|            235.46|    0E-18|              235.46|       1|                  961.07|                  0.0|            235.46|            235.46|\n",
      "|   89502916| 5279655|2019-12-29|   2019-12-30|    2020-01-02|      4|10079532|            60000|           31016|Expedia Collect|        ESRM|      online|                3545.47|             0.0|            701.31|    0E-18|              701.31|       3|      1181.8233333333333|                  0.0|233.76999999999998|233.76999999999998|\n",
      "|   89157147|   23774|2019-12-14|   2020-01-13|    2020-01-16|      4|14401340|            60000|           18986|Expedia Collect|        EPRM|      online|                3960.12|             0.0|             696.3|    0E-18|               696.3|       3|                 1320.04|                  0.0|             232.1|             232.1|\n",
      "|   88615055|  867189|2019-12-03|   2020-02-14|    2020-02-18|      4|19427087|            60000|           44094|Expedia Collect|        ESRM|      online|                4166.88|             0.0|          920.5064|    0E-18|            920.5064|       4|                 1041.72|                  0.0|          230.1266|          230.1266|\n",
      "|   89015237|   22148|2019-12-11|   2020-02-04|    2020-02-06|      4|11261558|            60000|           20841|Expedia Collect|        ESRM|      online|                3008.86|             0.0|            459.64|    0E-18|              459.64|       2|                 1504.43|                  0.0|            229.82|            229.82|\n",
      "|   89023974|   22148|2019-12-11|   2020-02-04|    2020-02-06|      4| 6800554|            60000|           20841|Expedia Collect|        ESRM|      online|                3008.86|             0.0|            459.64|    0E-18|              459.64|       2|                 1504.43|                  0.0|            229.82|            229.82|\n",
      "+-----------+--------+----------+-------------+--------------+-------+--------+-----------------+----------------+---------------+------------+------------+-----------------------+----------------+------------------+---------+--------------------+--------+------------------------+---------------------+------------------+------------------+\n",
      "only showing top 50 rows"
     ]
    }
   ],
   "source": [
    "bookings_df.orderBy(desc('bk_avg_revenue_usd')).show(50)"
   ]
  },
  {
   "cell_type": "markdown",
   "metadata": {},
   "source": [
    "## Matching last message in search chain with booking record"
   ]
  },
  {
   "cell_type": "code",
   "execution_count": 22,
   "metadata": {},
   "outputs": [
    {
     "name": "stdout",
     "output_type": "stream",
     "text": [
      "62799"
     ]
    }
   ],
   "source": [
    "booking_search_df = bookings_df.\\\n",
    "                join(search_below_peterman_usd_df,[\"hotel_id\",\"check_in_date\", \"check_out_date\",\"tuid\"]).\\\n",
    "                withColumn(\"rn\", row_number().over(Window.partitionBy(\"hotel_id\",\"check_in_date\",\"check_out_date\",\"tuid\").orderBy(desc(\"message_date\")))).\\\n",
    "                filter(F.col(\"rn\") == 1).\\\n",
    "                withColumnRenamed(\"hotel_index\",\"bk_hotel_index\")\n",
    "booking_search_df.count()"
   ]
  },
  {
   "cell_type": "code",
   "execution_count": 57,
   "metadata": {
    "collapsed": true
   },
   "outputs": [
    {
     "name": "stdout",
     "output_type": "stream",
     "text": [
      "+-----------------+-----+\n",
      "|travel_product_id|count|\n",
      "+-----------------+-----+\n",
      "|            60000|20924|\n",
      "|            60020|16617|\n",
      "|            60003| 6180|\n",
      "|            60006| 5947|\n",
      "|            60010| 2798|\n",
      "|            60013| 1198|\n",
      "|            60004| 1144|\n",
      "|            60008| 1011|\n",
      "|            60011|  966|\n",
      "|            61025|  889|\n",
      "|            60035|  879|\n",
      "|            60009|  874|\n",
      "|            60080|  832|\n",
      "|            60082|  439|\n",
      "|            60092|  439|\n",
      "|            60084|  400|\n",
      "|            60081|  251|\n",
      "|            60083|  241|\n",
      "|            61027|  241|\n",
      "|            60086|  161|\n",
      "+-----------------+-----+\n",
      "only showing top 20 rows"
     ]
    }
   ],
   "source": [
    "booking_search_df.groupBy('travel_product_id').count().orderBy(desc('count')).show()"
   ]
  },
  {
   "cell_type": "code",
   "execution_count": 22,
   "metadata": {},
   "outputs": [
    {
     "name": "stdout",
     "output_type": "stream",
     "text": [
      "+------------+-----+\n",
      "|bk_rate_type|count|\n",
      "+------------+-----+\n",
      "|        EPRA| 2698|\n",
      "|        EPRM|11187|\n",
      "|        ESRM|35397|\n",
      "|      HOTMIP| 5567|\n",
      "|        ESRA| 7994|\n",
      "+------------+-----+"
     ]
    }
   ],
   "source": [
    "booking_search_df.groupBy('bk_rate_type').count().show()"
   ]
  },
  {
   "cell_type": "code",
   "execution_count": 38,
   "metadata": {},
   "outputs": [
    {
     "name": "stdout",
     "output_type": "stream",
     "text": [
      "+-------------------------------------------------------------+\n",
      "|count(DISTINCT hotel_id, check_in_date, check_out_date, tuid)|\n",
      "+-------------------------------------------------------------+\n",
      "|                                                        62843|\n",
      "+-------------------------------------------------------------+"
     ]
    }
   ],
   "source": [
    "booking_search_df.agg(F.countDistinct(\"hotel_id\",\"check_in_date\", \"check_out_date\",\"tuid\")).show()"
   ]
  },
  {
   "cell_type": "code",
   "execution_count": 23,
   "metadata": {
    "collapsed": true
   },
   "outputs": [
    {
     "name": "stdout",
     "output_type": "stream",
     "text": [
      "root\n",
      " |-- hotel_id: integer (nullable = true)\n",
      " |-- check_in_date: date (nullable = true)\n",
      " |-- check_out_date: date (nullable = true)\n",
      " |-- tuid: integer (nullable = true)\n",
      " |-- hotelfactid: integer (nullable = true)\n",
      " |-- issue_date: date (nullable = true)\n",
      " |-- quarter: integer (nullable = true)\n",
      " |-- travel_product_id: integer (nullable = true)\n",
      " |-- group_account_id: integer (nullable = true)\n",
      " |-- hotel_rate_type: string (nullable = true)\n",
      " |-- bk_rate_type: string (nullable = true)\n",
      " |-- booking_type: string (nullable = true)\n",
      " |-- gross_booking_value_usd: double (nullable = true)\n",
      " |-- total_commission: double (nullable = true)\n",
      " |-- total_markup: double (nullable = true)\n",
      " |-- total_gds: decimal(20,18) (nullable = true)\n",
      " |-- total_supply_revenue: double (nullable = true)\n",
      " |-- duration: integer (nullable = true)\n",
      " |-- avg_book_rate_amount_usd: double (nullable = true)\n",
      " |-- bk_avg_commission_usd: double (nullable = true)\n",
      " |-- bk_avg_markup_usd: double (nullable = true)\n",
      " |-- bk_avg_revenue_usd: double (nullable = true)\n",
      " |-- message_id: string (nullable = true)\n",
      " |-- message_date: timestamp (nullable = true)\n",
      " |-- hotel_result_index: integer (nullable = true)\n",
      " |-- rate_index: integer (nullable = true)\n",
      " |-- rate_amount: float (nullable = true)\n",
      " |-- rate_currency: string (nullable = true)\n",
      " |-- rate_type: string (nullable = true)\n",
      " |-- commission_base: float (nullable = true)\n",
      " |-- base_category: string (nullable = true)\n",
      " |-- commission_tax: float (nullable = true)\n",
      " |-- tax_category: string (nullable = true)\n",
      " |-- commission_currency: string (nullable = true)\n",
      " |-- bk_hotel_index: integer (nullable = true)\n",
      " |-- src_rate_amount_usd: double (nullable = true)\n",
      " |-- src_commission_base_usd: double (nullable = true)\n",
      " |-- src_commission_tax_usd: double (nullable = true)\n",
      " |-- rn: integer (nullable = true)"
     ]
    }
   ],
   "source": [
    "booking_search_df.printSchema()"
   ]
  },
  {
   "cell_type": "markdown",
   "metadata": {},
   "source": [
    "## Match rates: is booked/not booked"
   ]
  },
  {
   "cell_type": "code",
   "execution_count": 30,
   "metadata": {},
   "outputs": [],
   "source": [
    "booking_search_df = booking_search_df.\\\n",
    "                         withColumn('rate_diff',F.abs(F.col('avg_book_rate_amount_usd')-F.col('src_rate_amount_usd')))"
   ]
  },
  {
   "cell_type": "code",
   "execution_count": 31,
   "metadata": {},
   "outputs": [],
   "source": [
    "booking_search_df = booking_search_df.\\\n",
    "                         withColumn('is_booked',F.when((F.col('rate_diff')<1.0) & (F.col('bk_rate_type')==F.col('rate_type')),1).otherwise(0))"
   ]
  },
  {
   "cell_type": "code",
   "execution_count": 32,
   "metadata": {},
   "outputs": [
    {
     "name": "stdout",
     "output_type": "stream",
     "text": [
      "9340"
     ]
    }
   ],
   "source": [
    "booking_search_df.filter(F.col('is_booked')==1).count()"
   ]
  },
  {
   "cell_type": "code",
   "execution_count": 48,
   "metadata": {},
   "outputs": [],
   "source": [
    "booking_search_df = booking_search_df.\\\n",
    "                    withColumn('revenue_diff1',F.abs(F.col('bk_avg_revenue_usd')-F.col('src_commission_base_usd'))).\\\n",
    "                    withColumn('revenue_diff2',F.abs(F.col('bk_avg_revenue_usd')-F.col('src_commission_base_usd')-F.col(\"src_commission_tax_usd\"))).\\\n",
    "                    withColumn('relative_revenue_diff1',F.abs(F.col('bk_avg_revenue_usd')-F.col('src_commission_base_usd'))/F.col('src_commission_base_usd')).\\\n",
    "                    withColumn('relative_revenue_diff2',F.abs(F.col('bk_avg_revenue_usd')-F.col('src_commission_base_usd')-F.col(\"src_commission_tax_usd\"))/(F.col('src_commission_base_usd')+F.col(\"src_commission_tax_usd\")))"
   ]
  },
  {
   "cell_type": "code",
   "execution_count": 38,
   "metadata": {},
   "outputs": [],
   "source": [
    "%spark -o booking_search_df -n 10000"
   ]
  },
  {
   "cell_type": "code",
   "execution_count": 39,
   "metadata": {},
   "outputs": [],
   "source": [
    "%local\n",
    "import pandas as pd\n",
    "import numpy as np\n",
    "import matplotlib.pyplot as plt\n",
    "import seaborn as sns\n",
    "pd.options.display.float_format = '{:.5f}'.format"
   ]
  },
  {
   "cell_type": "code",
   "execution_count": 40,
   "metadata": {},
   "outputs": [],
   "source": [
    "%local\n",
    "def revenue_diff_hist(df,revenue):\n",
    "    df = df.sort_values(by=['bk_rate_type'])\n",
    "    fig = plt.figure(figsize=(8,6))\n",
    "    fig = sns.boxplot(x='bk_rate_type', y=revenue,data=df)\n",
    "    fig.set(xlabel='bk_rate_type', ylabel='revenue difference')\n",
    "    fig.set_ylim(bottom=0,top=13)\n",
    "    plt.tight_layout()\n",
    "    return fig"
   ]
  },
  {
   "cell_type": "code",
   "execution_count": 41,
   "metadata": {},
   "outputs": [],
   "source": [
    "%local\n",
    "fig1 = revenue_diff_hist(booking_search_df,'revenue_diff1')\n",
    "fig1.figure.savefig('image/revenue_diff1.png')\n",
    "\n",
    "fig2 = revenue_diff_hist(booking_search_df,'revenue_diff2')\n",
    "fig2.figure.savefig('image/revenue_diff2.png')\n",
    "\n",
    "\n"
   ]
  },
  {
   "cell_type": "code",
   "execution_count": 49,
   "metadata": {},
   "outputs": [
    {
     "name": "stderr",
     "output_type": "stream",
     "text": [
      "An error was encountered:\n",
      "Invalid status code '400' from http://ip-10-40-9-70.us-west-2.compute.internal:8998/sessions/36/statements/47 with error payload: {\"msg\":\"requirement failed: Session isn't active.\"}\n"
     ]
    }
   ],
   "source": [
    "booking_search_df.filter(F.col('relative_revenue_diff1')>0.15).groupBy('bk_rate_type').count().show()"
   ]
  },
  {
   "cell_type": "code",
   "execution_count": 50,
   "metadata": {},
   "outputs": [
    {
     "name": "stderr",
     "output_type": "stream",
     "text": [
      "An error was encountered:\n",
      "Session 36 unexpectedly reached final status 'dead'. See logs:\n",
      "stdout: \n",
      "\n",
      "stderr: \n",
      "20/08/07 04:56:30 INFO TaskSetManager: Finished task 180.0 in stage 472.0 (TID 30699) in 790 ms on ip-10-40-9-73.us-west-2.compute.internal (executor 9) (181/200)\n",
      "20/08/07 04:56:30 INFO TaskSetManager: Starting task 187.0 in stage 472.0 (TID 30706, ip-10-40-9-73.us-west-2.compute.internal, executor 9, partition 187, NODE_LOCAL, 7767 bytes)\n",
      "20/08/07 04:56:30 INFO TaskSetManager: Finished task 181.0 in stage 472.0 (TID 30700) in 815 ms on ip-10-40-9-73.us-west-2.compute.internal (executor 9) (182/200)\n",
      "20/08/07 04:56:30 INFO TaskSetManager: Starting task 188.0 in stage 472.0 (TID 30707, ip-10-40-9-115.us-west-2.compute.internal, executor 11, partition 188, NODE_LOCAL, 7767 bytes)\n",
      "20/08/07 04:56:30 INFO TaskSetManager: Finished task 184.0 in stage 472.0 (TID 30703) in 799 ms on ip-10-40-9-115.us-west-2.compute.internal (executor 11) (183/200)\n",
      "20/08/07 04:56:31 INFO TaskSetManager: Starting task 189.0 in stage 472.0 (TID 30708, ip-10-40-9-96.us-west-2.compute.internal, executor 12, partition 189, NODE_LOCAL, 7767 bytes)\n",
      "20/08/07 04:56:31 INFO TaskSetManager: Finished task 183.0 in stage 472.0 (TID 30702) in 868 ms on ip-10-40-9-96.us-west-2.compute.internal (executor 12) (184/200)\n",
      "20/08/07 04:56:31 INFO TaskSetManager: Starting task 190.0 in stage 472.0 (TID 30709, ip-10-40-9-96.us-west-2.compute.internal, executor 12, partition 190, NODE_LOCAL, 7767 bytes)\n",
      "20/08/07 04:56:31 INFO TaskSetManager: Finished task 182.0 in stage 472.0 (TID 30701) in 884 ms on ip-10-40-9-96.us-west-2.compute.internal (executor 12) (185/200)\n",
      "20/08/07 04:56:31 INFO TaskSetManager: Starting task 191.0 in stage 472.0 (TID 30710, ip-10-40-9-115.us-west-2.compute.internal, executor 11, partition 191, NODE_LOCAL, 7767 bytes)\n",
      "20/08/07 04:56:31 INFO TaskSetManager: Finished task 185.0 in stage 472.0 (TID 30704) in 823 ms on ip-10-40-9-115.us-west-2.compute.internal (executor 11) (186/200)\n",
      "20/08/07 04:56:31 INFO TaskSetManager: Starting task 192.0 in stage 472.0 (TID 30711, ip-10-40-9-73.us-west-2.compute.internal, executor 9, partition 192, NODE_LOCAL, 7767 bytes)\n",
      "20/08/07 04:56:31 INFO TaskSetManager: Finished task 186.0 in stage 472.0 (TID 30705) in 817 ms on ip-10-40-9-73.us-west-2.compute.internal (executor 9) (187/200)\n",
      "20/08/07 04:56:31 INFO TaskSetManager: Starting task 193.0 in stage 472.0 (TID 30712, ip-10-40-9-73.us-west-2.compute.internal, executor 9, partition 193, NODE_LOCAL, 7767 bytes)\n",
      "20/08/07 04:56:31 INFO TaskSetManager: Finished task 187.0 in stage 472.0 (TID 30706) in 829 ms on ip-10-40-9-73.us-west-2.compute.internal (executor 9) (188/200)\n",
      "20/08/07 04:56:31 INFO TaskSetManager: Starting task 194.0 in stage 472.0 (TID 30713, ip-10-40-9-115.us-west-2.compute.internal, executor 11, partition 194, NODE_LOCAL, 7767 bytes)\n",
      "20/08/07 04:56:31 INFO TaskSetManager: Finished task 188.0 in stage 472.0 (TID 30707) in 787 ms on ip-10-40-9-115.us-west-2.compute.internal (executor 11) (189/200)\n",
      "20/08/07 04:56:31 INFO TaskSetManager: Starting task 195.0 in stage 472.0 (TID 30714, ip-10-40-9-115.us-west-2.compute.internal, executor 11, partition 195, NODE_LOCAL, 7767 bytes)\n",
      "20/08/07 04:56:31 INFO TaskSetManager: Finished task 191.0 in stage 472.0 (TID 30710) in 801 ms on ip-10-40-9-115.us-west-2.compute.internal (executor 11) (190/200)\n",
      "20/08/07 04:56:31 INFO TaskSetManager: Starting task 196.0 in stage 472.0 (TID 30715, ip-10-40-9-96.us-west-2.compute.internal, executor 12, partition 196, NODE_LOCAL, 7767 bytes)\n",
      "20/08/07 04:56:31 INFO TaskSetManager: Finished task 189.0 in stage 472.0 (TID 30708) in 882 ms on ip-10-40-9-96.us-west-2.compute.internal (executor 12) (191/200)\n",
      "20/08/07 04:56:31 INFO TaskSetManager: Starting task 197.0 in stage 472.0 (TID 30716, ip-10-40-9-96.us-west-2.compute.internal, executor 12, partition 197, NODE_LOCAL, 7767 bytes)\n",
      "20/08/07 04:56:31 INFO TaskSetManager: Finished task 190.0 in stage 472.0 (TID 30709) in 892 ms on ip-10-40-9-96.us-west-2.compute.internal (executor 12) (192/200)\n",
      "20/08/07 04:56:32 INFO TaskSetManager: Starting task 198.0 in stage 472.0 (TID 30717, ip-10-40-9-73.us-west-2.compute.internal, executor 9, partition 198, NODE_LOCAL, 7767 bytes)\n",
      "20/08/07 04:56:32 INFO TaskSetManager: Finished task 192.0 in stage 472.0 (TID 30711) in 795 ms on ip-10-40-9-73.us-west-2.compute.internal (executor 9) (193/200)\n",
      "20/08/07 04:56:32 INFO TaskSetManager: Starting task 199.0 in stage 472.0 (TID 30718, ip-10-40-9-73.us-west-2.compute.internal, executor 9, partition 199, NODE_LOCAL, 7767 bytes)\n",
      "20/08/07 04:56:32 INFO TaskSetManager: Finished task 193.0 in stage 472.0 (TID 30712) in 806 ms on ip-10-40-9-73.us-west-2.compute.internal (executor 9) (194/200)\n",
      "20/08/07 04:56:32 INFO TaskSetManager: Finished task 194.0 in stage 472.0 (TID 30713) in 804 ms on ip-10-40-9-115.us-west-2.compute.internal (executor 11) (195/200)\n",
      "20/08/07 04:56:32 INFO TaskSetManager: Finished task 195.0 in stage 472.0 (TID 30714) in 786 ms on ip-10-40-9-115.us-west-2.compute.internal (executor 11) (196/200)\n",
      "20/08/07 04:56:32 INFO TaskSetManager: Finished task 196.0 in stage 472.0 (TID 30715) in 899 ms on ip-10-40-9-96.us-west-2.compute.internal (executor 12) (197/200)\n",
      "20/08/07 04:56:32 INFO TaskSetManager: Finished task 197.0 in stage 472.0 (TID 30716) in 885 ms on ip-10-40-9-96.us-west-2.compute.internal (executor 12) (198/200)\n",
      "20/08/07 04:56:32 WARN TransportChannelHandler: Exception in connection from /10.40.9.73:59412\n",
      "java.io.IOException: Connection reset by peer\n",
      "\tat sun.nio.ch.FileDispatcherImpl.read0(Native Method)\n",
      "\tat sun.nio.ch.SocketDispatcher.read(SocketDispatcher.java:39)\n",
      "\tat sun.nio.ch.IOUtil.readIntoNativeBuffer(IOUtil.java:223)\n",
      "\tat sun.nio.ch.IOUtil.read(IOUtil.java:192)\n",
      "\tat sun.nio.ch.SocketChannelImpl.read(SocketChannelImpl.java:377)\n",
      "\tat io.netty.buffer.PooledUnsafeDirectByteBuf.setBytes(PooledUnsafeDirectByteBuf.java:288)\n",
      "\tat io.netty.buffer.AbstractByteBuf.writeBytes(AbstractByteBuf.java:1106)\n",
      "\tat io.netty.channel.socket.nio.NioSocketChannel.doReadBytes(NioSocketChannel.java:343)\n",
      "\tat io.netty.channel.nio.AbstractNioByteChannel$NioByteUnsafe.read(AbstractNioByteChannel.java:123)\n",
      "\tat io.netty.channel.nio.NioEventLoop.processSelectedKey(NioEventLoop.java:645)\n",
      "\tat io.netty.channel.nio.NioEventLoop.processSelectedKeysOptimized(NioEventLoop.java:580)\n",
      "\tat io.netty.channel.nio.NioEventLoop.processSelectedKeys(NioEventLoop.java:497)\n",
      "\tat io.netty.channel.nio.NioEventLoop.run(NioEventLoop.java:459)\n",
      "\tat io.netty.util.concurrent.SingleThreadEventExecutor$5.run(SingleThreadEventExecutor.java:858)\n",
      "\tat io.netty.util.concurrent.DefaultThreadFactory$DefaultRunnableDecorator.run(DefaultThreadFactory.java:138)\n",
      "\tat java.lang.Thread.run(Thread.java:748)\n",
      "20/08/07 04:56:32 ERROR TransportResponseHandler: Still have 1 requests outstanding when connection from /10.40.9.73:59412 is closed\n",
      "20/08/07 04:56:32 ERROR YarnSchedulerBackend$YarnSchedulerEndpoint: Sending RequestExecutors(1,200,Map(ip-10-40-9-96.us-west-2.compute.internal -> 200, ip-10-40-9-115.us-west-2.compute.internal -> 200, ip-10-40-9-73.us-west-2.compute.internal -> 200, ip-10-40-9-46.us-west-2.compute.internal -> 200),Set()) to AM was unsuccessful\n",
      "java.io.IOException: Connection reset by peer\n",
      "\tat sun.nio.ch.FileDispatcherImpl.read0(Native Method)\n",
      "\tat sun.nio.ch.SocketDispatcher.read(SocketDispatcher.java:39)\n",
      "\tat sun.nio.ch.IOUtil.readIntoNativeBuffer(IOUtil.java:223)\n",
      "\tat sun.nio.ch.IOUtil.read(IOUtil.java:192)\n",
      "\tat sun.nio.ch.SocketChannelImpl.read(SocketChannelImpl.java:377)\n",
      "\tat io.netty.buffer.PooledUnsafeDirectByteBuf.setBytes(PooledUnsafeDirectByteBuf.java:288)\n",
      "\tat io.netty.buffer.AbstractByteBuf.writeBytes(AbstractByteBuf.java:1106)\n",
      "\tat io.netty.channel.socket.nio.NioSocketChannel.doReadBytes(NioSocketChannel.java:343)\n",
      "\tat io.netty.channel.nio.AbstractNioByteChannel$NioByteUnsafe.read(AbstractNioByteChannel.java:123)\n",
      "\tat io.netty.channel.nio.NioEventLoop.processSelectedKey(NioEventLoop.java:645)\n",
      "\tat io.netty.channel.nio.NioEventLoop.processSelectedKeysOptimized(NioEventLoop.java:580)\n",
      "\tat io.netty.channel.nio.NioEventLoop.processSelectedKeys(NioEventLoop.java:497)\n",
      "\tat io.netty.channel.nio.NioEventLoop.run(NioEventLoop.java:459)\n",
      "\tat io.netty.util.concurrent.SingleThreadEventExecutor$5.run(SingleThreadEventExecutor.java:858)\n",
      "\tat io.netty.util.concurrent.DefaultThreadFactory$DefaultRunnableDecorator.run(DefaultThreadFactory.java:138)\n",
      "\tat java.lang.Thread.run(Thread.java:748)\n",
      "20/08/07 04:56:32 WARN ExecutorAllocationManager: Uncaught exception in thread spark-dynamic-executor-allocation\n",
      "org.apache.spark.SparkException: Exception thrown in awaitResult: \n",
      "\tat org.apache.spark.util.ThreadUtils$.awaitResult(ThreadUtils.scala:226)\n",
      "\tat org.apache.spark.rpc.RpcTimeout.awaitResult(RpcTimeout.scala:75)\n",
      "\tat org.apache.spark.scheduler.cluster.CoarseGrainedSchedulerBackend.requestTotalExecutors(CoarseGrainedSchedulerBackend.scala:599)\n",
      "\tat org.apache.spark.ExecutorAllocationManager.updateAndSyncNumExecutorsTarget(ExecutorAllocationManager.scala:366)\n",
      "\tat org.apache.spark.ExecutorAllocationManager.org$apache$spark$ExecutorAllocationManager$$schedule(ExecutorAllocationManager.scala:327)\n",
      "\tat org.apache.spark.ExecutorAllocationManager$$anon$2.run(ExecutorAllocationManager.scala:254)\n",
      "\tat java.util.concurrent.Executors$RunnableAdapter.call(Executors.java:511)\n",
      "\tat java.util.concurrent.FutureTask.runAndReset(FutureTask.java:308)\n",
      "\tat java.util.concurrent.ScheduledThreadPoolExecutor$ScheduledFutureTask.access$301(ScheduledThreadPoolExecutor.java:180)\n",
      "\tat java.util.concurrent.ScheduledThreadPoolExecutor$ScheduledFutureTask.run(ScheduledThreadPoolExecutor.java:294)\n",
      "\tat java.util.concurrent.ThreadPoolExecutor.runWorker(ThreadPoolExecutor.java:1149)\n",
      "\tat java.util.concurrent.ThreadPoolExecutor$Worker.run(ThreadPoolExecutor.java:624)\n",
      "\tat java.lang.Thread.run(Thread.java:748)\n",
      "Caused by: java.io.IOException: Connection reset by peer\n",
      "\tat sun.nio.ch.FileDispatcherImpl.read0(Native Method)\n",
      "\tat sun.nio.ch.SocketDispatcher.read(SocketDispatcher.java:39)\n",
      "\tat sun.nio.ch.IOUtil.readIntoNativeBuffer(IOUtil.java:223)\n",
      "\tat sun.nio.ch.IOUtil.read(IOUtil.java:192)\n",
      "\tat sun.nio.ch.SocketChannelImpl.read(SocketChannelImpl.java:377)\n",
      "\tat io.netty.buffer.PooledUnsafeDirectByteBuf.setBytes(PooledUnsafeDirectByteBuf.java:288)\n",
      "\tat io.netty.buffer.AbstractByteBuf.writeBytes(AbstractByteBuf.java:1106)\n",
      "\tat io.netty.channel.socket.nio.NioSocketChannel.doReadBytes(NioSocketChannel.java:343)\n",
      "\tat io.netty.channel.nio.AbstractNioByteChannel$NioByteUnsafe.read(AbstractNioByteChannel.java:123)\n",
      "\tat io.netty.channel.nio.NioEventLoop.processSelectedKey(NioEventLoop.java:645)\n",
      "\tat io.netty.channel.nio.NioEventLoop.processSelectedKeysOptimized(NioEventLoop.java:580)\n",
      "\tat io.netty.channel.nio.NioEventLoop.processSelectedKeys(NioEventLoop.java:497)\n",
      "\tat io.netty.channel.nio.NioEventLoop.run(NioEventLoop.java:459)\n",
      "\tat io.netty.util.concurrent.SingleThreadEventExecutor$5.run(SingleThreadEventExecutor.java:858)\n"
     ]
    }
   ],
   "source": [
    "booking_search_df.filter(F.col('relative_revenue_diff2')>0.1).groupBy('bk_rate_type').count().show()"
   ]
  },
  {
   "cell_type": "code",
   "execution_count": 51,
   "metadata": {
    "collapsed": true
   },
   "outputs": [
    {
     "name": "stderr",
     "output_type": "stream",
     "text": [
      "An error was encountered:\n",
      "Session 36 unexpectedly reached final status 'dead'. See logs:\n",
      "stdout: \n",
      "\n",
      "stderr: \n",
      "20/08/07 04:56:30 INFO TaskSetManager: Finished task 180.0 in stage 472.0 (TID 30699) in 790 ms on ip-10-40-9-73.us-west-2.compute.internal (executor 9) (181/200)\n",
      "20/08/07 04:56:30 INFO TaskSetManager: Starting task 187.0 in stage 472.0 (TID 30706, ip-10-40-9-73.us-west-2.compute.internal, executor 9, partition 187, NODE_LOCAL, 7767 bytes)\n",
      "20/08/07 04:56:30 INFO TaskSetManager: Finished task 181.0 in stage 472.0 (TID 30700) in 815 ms on ip-10-40-9-73.us-west-2.compute.internal (executor 9) (182/200)\n",
      "20/08/07 04:56:30 INFO TaskSetManager: Starting task 188.0 in stage 472.0 (TID 30707, ip-10-40-9-115.us-west-2.compute.internal, executor 11, partition 188, NODE_LOCAL, 7767 bytes)\n",
      "20/08/07 04:56:30 INFO TaskSetManager: Finished task 184.0 in stage 472.0 (TID 30703) in 799 ms on ip-10-40-9-115.us-west-2.compute.internal (executor 11) (183/200)\n",
      "20/08/07 04:56:31 INFO TaskSetManager: Starting task 189.0 in stage 472.0 (TID 30708, ip-10-40-9-96.us-west-2.compute.internal, executor 12, partition 189, NODE_LOCAL, 7767 bytes)\n",
      "20/08/07 04:56:31 INFO TaskSetManager: Finished task 183.0 in stage 472.0 (TID 30702) in 868 ms on ip-10-40-9-96.us-west-2.compute.internal (executor 12) (184/200)\n",
      "20/08/07 04:56:31 INFO TaskSetManager: Starting task 190.0 in stage 472.0 (TID 30709, ip-10-40-9-96.us-west-2.compute.internal, executor 12, partition 190, NODE_LOCAL, 7767 bytes)\n",
      "20/08/07 04:56:31 INFO TaskSetManager: Finished task 182.0 in stage 472.0 (TID 30701) in 884 ms on ip-10-40-9-96.us-west-2.compute.internal (executor 12) (185/200)\n",
      "20/08/07 04:56:31 INFO TaskSetManager: Starting task 191.0 in stage 472.0 (TID 30710, ip-10-40-9-115.us-west-2.compute.internal, executor 11, partition 191, NODE_LOCAL, 7767 bytes)\n",
      "20/08/07 04:56:31 INFO TaskSetManager: Finished task 185.0 in stage 472.0 (TID 30704) in 823 ms on ip-10-40-9-115.us-west-2.compute.internal (executor 11) (186/200)\n",
      "20/08/07 04:56:31 INFO TaskSetManager: Starting task 192.0 in stage 472.0 (TID 30711, ip-10-40-9-73.us-west-2.compute.internal, executor 9, partition 192, NODE_LOCAL, 7767 bytes)\n",
      "20/08/07 04:56:31 INFO TaskSetManager: Finished task 186.0 in stage 472.0 (TID 30705) in 817 ms on ip-10-40-9-73.us-west-2.compute.internal (executor 9) (187/200)\n",
      "20/08/07 04:56:31 INFO TaskSetManager: Starting task 193.0 in stage 472.0 (TID 30712, ip-10-40-9-73.us-west-2.compute.internal, executor 9, partition 193, NODE_LOCAL, 7767 bytes)\n",
      "20/08/07 04:56:31 INFO TaskSetManager: Finished task 187.0 in stage 472.0 (TID 30706) in 829 ms on ip-10-40-9-73.us-west-2.compute.internal (executor 9) (188/200)\n",
      "20/08/07 04:56:31 INFO TaskSetManager: Starting task 194.0 in stage 472.0 (TID 30713, ip-10-40-9-115.us-west-2.compute.internal, executor 11, partition 194, NODE_LOCAL, 7767 bytes)\n",
      "20/08/07 04:56:31 INFO TaskSetManager: Finished task 188.0 in stage 472.0 (TID 30707) in 787 ms on ip-10-40-9-115.us-west-2.compute.internal (executor 11) (189/200)\n",
      "20/08/07 04:56:31 INFO TaskSetManager: Starting task 195.0 in stage 472.0 (TID 30714, ip-10-40-9-115.us-west-2.compute.internal, executor 11, partition 195, NODE_LOCAL, 7767 bytes)\n",
      "20/08/07 04:56:31 INFO TaskSetManager: Finished task 191.0 in stage 472.0 (TID 30710) in 801 ms on ip-10-40-9-115.us-west-2.compute.internal (executor 11) (190/200)\n",
      "20/08/07 04:56:31 INFO TaskSetManager: Starting task 196.0 in stage 472.0 (TID 30715, ip-10-40-9-96.us-west-2.compute.internal, executor 12, partition 196, NODE_LOCAL, 7767 bytes)\n",
      "20/08/07 04:56:31 INFO TaskSetManager: Finished task 189.0 in stage 472.0 (TID 30708) in 882 ms on ip-10-40-9-96.us-west-2.compute.internal (executor 12) (191/200)\n",
      "20/08/07 04:56:31 INFO TaskSetManager: Starting task 197.0 in stage 472.0 (TID 30716, ip-10-40-9-96.us-west-2.compute.internal, executor 12, partition 197, NODE_LOCAL, 7767 bytes)\n",
      "20/08/07 04:56:31 INFO TaskSetManager: Finished task 190.0 in stage 472.0 (TID 30709) in 892 ms on ip-10-40-9-96.us-west-2.compute.internal (executor 12) (192/200)\n",
      "20/08/07 04:56:32 INFO TaskSetManager: Starting task 198.0 in stage 472.0 (TID 30717, ip-10-40-9-73.us-west-2.compute.internal, executor 9, partition 198, NODE_LOCAL, 7767 bytes)\n",
      "20/08/07 04:56:32 INFO TaskSetManager: Finished task 192.0 in stage 472.0 (TID 30711) in 795 ms on ip-10-40-9-73.us-west-2.compute.internal (executor 9) (193/200)\n",
      "20/08/07 04:56:32 INFO TaskSetManager: Starting task 199.0 in stage 472.0 (TID 30718, ip-10-40-9-73.us-west-2.compute.internal, executor 9, partition 199, NODE_LOCAL, 7767 bytes)\n",
      "20/08/07 04:56:32 INFO TaskSetManager: Finished task 193.0 in stage 472.0 (TID 30712) in 806 ms on ip-10-40-9-73.us-west-2.compute.internal (executor 9) (194/200)\n",
      "20/08/07 04:56:32 INFO TaskSetManager: Finished task 194.0 in stage 472.0 (TID 30713) in 804 ms on ip-10-40-9-115.us-west-2.compute.internal (executor 11) (195/200)\n",
      "20/08/07 04:56:32 INFO TaskSetManager: Finished task 195.0 in stage 472.0 (TID 30714) in 786 ms on ip-10-40-9-115.us-west-2.compute.internal (executor 11) (196/200)\n",
      "20/08/07 04:56:32 INFO TaskSetManager: Finished task 196.0 in stage 472.0 (TID 30715) in 899 ms on ip-10-40-9-96.us-west-2.compute.internal (executor 12) (197/200)\n",
      "20/08/07 04:56:32 INFO TaskSetManager: Finished task 197.0 in stage 472.0 (TID 30716) in 885 ms on ip-10-40-9-96.us-west-2.compute.internal (executor 12) (198/200)\n",
      "20/08/07 04:56:32 WARN TransportChannelHandler: Exception in connection from /10.40.9.73:59412\n",
      "java.io.IOException: Connection reset by peer\n",
      "\tat sun.nio.ch.FileDispatcherImpl.read0(Native Method)\n",
      "\tat sun.nio.ch.SocketDispatcher.read(SocketDispatcher.java:39)\n",
      "\tat sun.nio.ch.IOUtil.readIntoNativeBuffer(IOUtil.java:223)\n",
      "\tat sun.nio.ch.IOUtil.read(IOUtil.java:192)\n",
      "\tat sun.nio.ch.SocketChannelImpl.read(SocketChannelImpl.java:377)\n",
      "\tat io.netty.buffer.PooledUnsafeDirectByteBuf.setBytes(PooledUnsafeDirectByteBuf.java:288)\n",
      "\tat io.netty.buffer.AbstractByteBuf.writeBytes(AbstractByteBuf.java:1106)\n",
      "\tat io.netty.channel.socket.nio.NioSocketChannel.doReadBytes(NioSocketChannel.java:343)\n",
      "\tat io.netty.channel.nio.AbstractNioByteChannel$NioByteUnsafe.read(AbstractNioByteChannel.java:123)\n",
      "\tat io.netty.channel.nio.NioEventLoop.processSelectedKey(NioEventLoop.java:645)\n",
      "\tat io.netty.channel.nio.NioEventLoop.processSelectedKeysOptimized(NioEventLoop.java:580)\n",
      "\tat io.netty.channel.nio.NioEventLoop.processSelectedKeys(NioEventLoop.java:497)\n",
      "\tat io.netty.channel.nio.NioEventLoop.run(NioEventLoop.java:459)\n",
      "\tat io.netty.util.concurrent.SingleThreadEventExecutor$5.run(SingleThreadEventExecutor.java:858)\n",
      "\tat io.netty.util.concurrent.DefaultThreadFactory$DefaultRunnableDecorator.run(DefaultThreadFactory.java:138)\n",
      "\tat java.lang.Thread.run(Thread.java:748)\n",
      "20/08/07 04:56:32 ERROR TransportResponseHandler: Still have 1 requests outstanding when connection from /10.40.9.73:59412 is closed\n",
      "20/08/07 04:56:32 ERROR YarnSchedulerBackend$YarnSchedulerEndpoint: Sending RequestExecutors(1,200,Map(ip-10-40-9-96.us-west-2.compute.internal -> 200, ip-10-40-9-115.us-west-2.compute.internal -> 200, ip-10-40-9-73.us-west-2.compute.internal -> 200, ip-10-40-9-46.us-west-2.compute.internal -> 200),Set()) to AM was unsuccessful\n",
      "java.io.IOException: Connection reset by peer\n",
      "\tat sun.nio.ch.FileDispatcherImpl.read0(Native Method)\n",
      "\tat sun.nio.ch.SocketDispatcher.read(SocketDispatcher.java:39)\n",
      "\tat sun.nio.ch.IOUtil.readIntoNativeBuffer(IOUtil.java:223)\n",
      "\tat sun.nio.ch.IOUtil.read(IOUtil.java:192)\n",
      "\tat sun.nio.ch.SocketChannelImpl.read(SocketChannelImpl.java:377)\n",
      "\tat io.netty.buffer.PooledUnsafeDirectByteBuf.setBytes(PooledUnsafeDirectByteBuf.java:288)\n",
      "\tat io.netty.buffer.AbstractByteBuf.writeBytes(AbstractByteBuf.java:1106)\n",
      "\tat io.netty.channel.socket.nio.NioSocketChannel.doReadBytes(NioSocketChannel.java:343)\n",
      "\tat io.netty.channel.nio.AbstractNioByteChannel$NioByteUnsafe.read(AbstractNioByteChannel.java:123)\n",
      "\tat io.netty.channel.nio.NioEventLoop.processSelectedKey(NioEventLoop.java:645)\n",
      "\tat io.netty.channel.nio.NioEventLoop.processSelectedKeysOptimized(NioEventLoop.java:580)\n",
      "\tat io.netty.channel.nio.NioEventLoop.processSelectedKeys(NioEventLoop.java:497)\n",
      "\tat io.netty.channel.nio.NioEventLoop.run(NioEventLoop.java:459)\n",
      "\tat io.netty.util.concurrent.SingleThreadEventExecutor$5.run(SingleThreadEventExecutor.java:858)\n",
      "\tat io.netty.util.concurrent.DefaultThreadFactory$DefaultRunnableDecorator.run(DefaultThreadFactory.java:138)\n",
      "\tat java.lang.Thread.run(Thread.java:748)\n",
      "20/08/07 04:56:32 WARN ExecutorAllocationManager: Uncaught exception in thread spark-dynamic-executor-allocation\n",
      "org.apache.spark.SparkException: Exception thrown in awaitResult: \n",
      "\tat org.apache.spark.util.ThreadUtils$.awaitResult(ThreadUtils.scala:226)\n",
      "\tat org.apache.spark.rpc.RpcTimeout.awaitResult(RpcTimeout.scala:75)\n",
      "\tat org.apache.spark.scheduler.cluster.CoarseGrainedSchedulerBackend.requestTotalExecutors(CoarseGrainedSchedulerBackend.scala:599)\n",
      "\tat org.apache.spark.ExecutorAllocationManager.updateAndSyncNumExecutorsTarget(ExecutorAllocationManager.scala:366)\n",
      "\tat org.apache.spark.ExecutorAllocationManager.org$apache$spark$ExecutorAllocationManager$$schedule(ExecutorAllocationManager.scala:327)\n",
      "\tat org.apache.spark.ExecutorAllocationManager$$anon$2.run(ExecutorAllocationManager.scala:254)\n",
      "\tat java.util.concurrent.Executors$RunnableAdapter.call(Executors.java:511)\n",
      "\tat java.util.concurrent.FutureTask.runAndReset(FutureTask.java:308)\n",
      "\tat java.util.concurrent.ScheduledThreadPoolExecutor$ScheduledFutureTask.access$301(ScheduledThreadPoolExecutor.java:180)\n",
      "\tat java.util.concurrent.ScheduledThreadPoolExecutor$ScheduledFutureTask.run(ScheduledThreadPoolExecutor.java:294)\n",
      "\tat java.util.concurrent.ThreadPoolExecutor.runWorker(ThreadPoolExecutor.java:1149)\n",
      "\tat java.util.concurrent.ThreadPoolExecutor$Worker.run(ThreadPoolExecutor.java:624)\n",
      "\tat java.lang.Thread.run(Thread.java:748)\n",
      "Caused by: java.io.IOException: Connection reset by peer\n",
      "\tat sun.nio.ch.FileDispatcherImpl.read0(Native Method)\n",
      "\tat sun.nio.ch.SocketDispatcher.read(SocketDispatcher.java:39)\n",
      "\tat sun.nio.ch.IOUtil.readIntoNativeBuffer(IOUtil.java:223)\n",
      "\tat sun.nio.ch.IOUtil.read(IOUtil.java:192)\n",
      "\tat sun.nio.ch.SocketChannelImpl.read(SocketChannelImpl.java:377)\n",
      "\tat io.netty.buffer.PooledUnsafeDirectByteBuf.setBytes(PooledUnsafeDirectByteBuf.java:288)\n",
      "\tat io.netty.buffer.AbstractByteBuf.writeBytes(AbstractByteBuf.java:1106)\n",
      "\tat io.netty.channel.socket.nio.NioSocketChannel.doReadBytes(NioSocketChannel.java:343)\n",
      "\tat io.netty.channel.nio.AbstractNioByteChannel$NioByteUnsafe.read(AbstractNioByteChannel.java:123)\n",
      "\tat io.netty.channel.nio.NioEventLoop.processSelectedKey(NioEventLoop.java:645)\n",
      "\tat io.netty.channel.nio.NioEventLoop.processSelectedKeysOptimized(NioEventLoop.java:580)\n",
      "\tat io.netty.channel.nio.NioEventLoop.processSelectedKeys(NioEventLoop.java:497)\n",
      "\tat io.netty.channel.nio.NioEventLoop.run(NioEventLoop.java:459)\n",
      "\tat io.netty.util.concurrent.SingleThreadEventExecutor$5.run(SingleThreadEventExecutor.java:858)\n"
     ]
    }
   ],
   "source": [
    "booking_search_df.filter(F.col('relative_revenue_diff2')>0.15).groupBy('bk_rate_type').count().show()"
   ]
  },
  {
   "cell_type": "code",
   "execution_count": 52,
   "metadata": {
    "collapsed": true
   },
   "outputs": [
    {
     "name": "stderr",
     "output_type": "stream",
     "text": [
      "An error was encountered:\n",
      "Session 36 unexpectedly reached final status 'dead'. See logs:\n",
      "stdout: \n",
      "\n",
      "stderr: \n",
      "20/08/07 04:56:30 INFO TaskSetManager: Finished task 180.0 in stage 472.0 (TID 30699) in 790 ms on ip-10-40-9-73.us-west-2.compute.internal (executor 9) (181/200)\n",
      "20/08/07 04:56:30 INFO TaskSetManager: Starting task 187.0 in stage 472.0 (TID 30706, ip-10-40-9-73.us-west-2.compute.internal, executor 9, partition 187, NODE_LOCAL, 7767 bytes)\n",
      "20/08/07 04:56:30 INFO TaskSetManager: Finished task 181.0 in stage 472.0 (TID 30700) in 815 ms on ip-10-40-9-73.us-west-2.compute.internal (executor 9) (182/200)\n",
      "20/08/07 04:56:30 INFO TaskSetManager: Starting task 188.0 in stage 472.0 (TID 30707, ip-10-40-9-115.us-west-2.compute.internal, executor 11, partition 188, NODE_LOCAL, 7767 bytes)\n",
      "20/08/07 04:56:30 INFO TaskSetManager: Finished task 184.0 in stage 472.0 (TID 30703) in 799 ms on ip-10-40-9-115.us-west-2.compute.internal (executor 11) (183/200)\n",
      "20/08/07 04:56:31 INFO TaskSetManager: Starting task 189.0 in stage 472.0 (TID 30708, ip-10-40-9-96.us-west-2.compute.internal, executor 12, partition 189, NODE_LOCAL, 7767 bytes)\n",
      "20/08/07 04:56:31 INFO TaskSetManager: Finished task 183.0 in stage 472.0 (TID 30702) in 868 ms on ip-10-40-9-96.us-west-2.compute.internal (executor 12) (184/200)\n",
      "20/08/07 04:56:31 INFO TaskSetManager: Starting task 190.0 in stage 472.0 (TID 30709, ip-10-40-9-96.us-west-2.compute.internal, executor 12, partition 190, NODE_LOCAL, 7767 bytes)\n",
      "20/08/07 04:56:31 INFO TaskSetManager: Finished task 182.0 in stage 472.0 (TID 30701) in 884 ms on ip-10-40-9-96.us-west-2.compute.internal (executor 12) (185/200)\n",
      "20/08/07 04:56:31 INFO TaskSetManager: Starting task 191.0 in stage 472.0 (TID 30710, ip-10-40-9-115.us-west-2.compute.internal, executor 11, partition 191, NODE_LOCAL, 7767 bytes)\n",
      "20/08/07 04:56:31 INFO TaskSetManager: Finished task 185.0 in stage 472.0 (TID 30704) in 823 ms on ip-10-40-9-115.us-west-2.compute.internal (executor 11) (186/200)\n",
      "20/08/07 04:56:31 INFO TaskSetManager: Starting task 192.0 in stage 472.0 (TID 30711, ip-10-40-9-73.us-west-2.compute.internal, executor 9, partition 192, NODE_LOCAL, 7767 bytes)\n",
      "20/08/07 04:56:31 INFO TaskSetManager: Finished task 186.0 in stage 472.0 (TID 30705) in 817 ms on ip-10-40-9-73.us-west-2.compute.internal (executor 9) (187/200)\n",
      "20/08/07 04:56:31 INFO TaskSetManager: Starting task 193.0 in stage 472.0 (TID 30712, ip-10-40-9-73.us-west-2.compute.internal, executor 9, partition 193, NODE_LOCAL, 7767 bytes)\n",
      "20/08/07 04:56:31 INFO TaskSetManager: Finished task 187.0 in stage 472.0 (TID 30706) in 829 ms on ip-10-40-9-73.us-west-2.compute.internal (executor 9) (188/200)\n",
      "20/08/07 04:56:31 INFO TaskSetManager: Starting task 194.0 in stage 472.0 (TID 30713, ip-10-40-9-115.us-west-2.compute.internal, executor 11, partition 194, NODE_LOCAL, 7767 bytes)\n",
      "20/08/07 04:56:31 INFO TaskSetManager: Finished task 188.0 in stage 472.0 (TID 30707) in 787 ms on ip-10-40-9-115.us-west-2.compute.internal (executor 11) (189/200)\n",
      "20/08/07 04:56:31 INFO TaskSetManager: Starting task 195.0 in stage 472.0 (TID 30714, ip-10-40-9-115.us-west-2.compute.internal, executor 11, partition 195, NODE_LOCAL, 7767 bytes)\n",
      "20/08/07 04:56:31 INFO TaskSetManager: Finished task 191.0 in stage 472.0 (TID 30710) in 801 ms on ip-10-40-9-115.us-west-2.compute.internal (executor 11) (190/200)\n",
      "20/08/07 04:56:31 INFO TaskSetManager: Starting task 196.0 in stage 472.0 (TID 30715, ip-10-40-9-96.us-west-2.compute.internal, executor 12, partition 196, NODE_LOCAL, 7767 bytes)\n",
      "20/08/07 04:56:31 INFO TaskSetManager: Finished task 189.0 in stage 472.0 (TID 30708) in 882 ms on ip-10-40-9-96.us-west-2.compute.internal (executor 12) (191/200)\n",
      "20/08/07 04:56:31 INFO TaskSetManager: Starting task 197.0 in stage 472.0 (TID 30716, ip-10-40-9-96.us-west-2.compute.internal, executor 12, partition 197, NODE_LOCAL, 7767 bytes)\n",
      "20/08/07 04:56:31 INFO TaskSetManager: Finished task 190.0 in stage 472.0 (TID 30709) in 892 ms on ip-10-40-9-96.us-west-2.compute.internal (executor 12) (192/200)\n",
      "20/08/07 04:56:32 INFO TaskSetManager: Starting task 198.0 in stage 472.0 (TID 30717, ip-10-40-9-73.us-west-2.compute.internal, executor 9, partition 198, NODE_LOCAL, 7767 bytes)\n",
      "20/08/07 04:56:32 INFO TaskSetManager: Finished task 192.0 in stage 472.0 (TID 30711) in 795 ms on ip-10-40-9-73.us-west-2.compute.internal (executor 9) (193/200)\n",
      "20/08/07 04:56:32 INFO TaskSetManager: Starting task 199.0 in stage 472.0 (TID 30718, ip-10-40-9-73.us-west-2.compute.internal, executor 9, partition 199, NODE_LOCAL, 7767 bytes)\n",
      "20/08/07 04:56:32 INFO TaskSetManager: Finished task 193.0 in stage 472.0 (TID 30712) in 806 ms on ip-10-40-9-73.us-west-2.compute.internal (executor 9) (194/200)\n",
      "20/08/07 04:56:32 INFO TaskSetManager: Finished task 194.0 in stage 472.0 (TID 30713) in 804 ms on ip-10-40-9-115.us-west-2.compute.internal (executor 11) (195/200)\n",
      "20/08/07 04:56:32 INFO TaskSetManager: Finished task 195.0 in stage 472.0 (TID 30714) in 786 ms on ip-10-40-9-115.us-west-2.compute.internal (executor 11) (196/200)\n",
      "20/08/07 04:56:32 INFO TaskSetManager: Finished task 196.0 in stage 472.0 (TID 30715) in 899 ms on ip-10-40-9-96.us-west-2.compute.internal (executor 12) (197/200)\n",
      "20/08/07 04:56:32 INFO TaskSetManager: Finished task 197.0 in stage 472.0 (TID 30716) in 885 ms on ip-10-40-9-96.us-west-2.compute.internal (executor 12) (198/200)\n",
      "20/08/07 04:56:32 WARN TransportChannelHandler: Exception in connection from /10.40.9.73:59412\n",
      "java.io.IOException: Connection reset by peer\n",
      "\tat sun.nio.ch.FileDispatcherImpl.read0(Native Method)\n",
      "\tat sun.nio.ch.SocketDispatcher.read(SocketDispatcher.java:39)\n",
      "\tat sun.nio.ch.IOUtil.readIntoNativeBuffer(IOUtil.java:223)\n",
      "\tat sun.nio.ch.IOUtil.read(IOUtil.java:192)\n",
      "\tat sun.nio.ch.SocketChannelImpl.read(SocketChannelImpl.java:377)\n",
      "\tat io.netty.buffer.PooledUnsafeDirectByteBuf.setBytes(PooledUnsafeDirectByteBuf.java:288)\n",
      "\tat io.netty.buffer.AbstractByteBuf.writeBytes(AbstractByteBuf.java:1106)\n",
      "\tat io.netty.channel.socket.nio.NioSocketChannel.doReadBytes(NioSocketChannel.java:343)\n",
      "\tat io.netty.channel.nio.AbstractNioByteChannel$NioByteUnsafe.read(AbstractNioByteChannel.java:123)\n",
      "\tat io.netty.channel.nio.NioEventLoop.processSelectedKey(NioEventLoop.java:645)\n",
      "\tat io.netty.channel.nio.NioEventLoop.processSelectedKeysOptimized(NioEventLoop.java:580)\n",
      "\tat io.netty.channel.nio.NioEventLoop.processSelectedKeys(NioEventLoop.java:497)\n",
      "\tat io.netty.channel.nio.NioEventLoop.run(NioEventLoop.java:459)\n",
      "\tat io.netty.util.concurrent.SingleThreadEventExecutor$5.run(SingleThreadEventExecutor.java:858)\n",
      "\tat io.netty.util.concurrent.DefaultThreadFactory$DefaultRunnableDecorator.run(DefaultThreadFactory.java:138)\n",
      "\tat java.lang.Thread.run(Thread.java:748)\n",
      "20/08/07 04:56:32 ERROR TransportResponseHandler: Still have 1 requests outstanding when connection from /10.40.9.73:59412 is closed\n",
      "20/08/07 04:56:32 ERROR YarnSchedulerBackend$YarnSchedulerEndpoint: Sending RequestExecutors(1,200,Map(ip-10-40-9-96.us-west-2.compute.internal -> 200, ip-10-40-9-115.us-west-2.compute.internal -> 200, ip-10-40-9-73.us-west-2.compute.internal -> 200, ip-10-40-9-46.us-west-2.compute.internal -> 200),Set()) to AM was unsuccessful\n",
      "java.io.IOException: Connection reset by peer\n",
      "\tat sun.nio.ch.FileDispatcherImpl.read0(Native Method)\n",
      "\tat sun.nio.ch.SocketDispatcher.read(SocketDispatcher.java:39)\n",
      "\tat sun.nio.ch.IOUtil.readIntoNativeBuffer(IOUtil.java:223)\n",
      "\tat sun.nio.ch.IOUtil.read(IOUtil.java:192)\n",
      "\tat sun.nio.ch.SocketChannelImpl.read(SocketChannelImpl.java:377)\n",
      "\tat io.netty.buffer.PooledUnsafeDirectByteBuf.setBytes(PooledUnsafeDirectByteBuf.java:288)\n",
      "\tat io.netty.buffer.AbstractByteBuf.writeBytes(AbstractByteBuf.java:1106)\n",
      "\tat io.netty.channel.socket.nio.NioSocketChannel.doReadBytes(NioSocketChannel.java:343)\n",
      "\tat io.netty.channel.nio.AbstractNioByteChannel$NioByteUnsafe.read(AbstractNioByteChannel.java:123)\n",
      "\tat io.netty.channel.nio.NioEventLoop.processSelectedKey(NioEventLoop.java:645)\n",
      "\tat io.netty.channel.nio.NioEventLoop.processSelectedKeysOptimized(NioEventLoop.java:580)\n",
      "\tat io.netty.channel.nio.NioEventLoop.processSelectedKeys(NioEventLoop.java:497)\n",
      "\tat io.netty.channel.nio.NioEventLoop.run(NioEventLoop.java:459)\n",
      "\tat io.netty.util.concurrent.SingleThreadEventExecutor$5.run(SingleThreadEventExecutor.java:858)\n",
      "\tat io.netty.util.concurrent.DefaultThreadFactory$DefaultRunnableDecorator.run(DefaultThreadFactory.java:138)\n",
      "\tat java.lang.Thread.run(Thread.java:748)\n",
      "20/08/07 04:56:32 WARN ExecutorAllocationManager: Uncaught exception in thread spark-dynamic-executor-allocation\n",
      "org.apache.spark.SparkException: Exception thrown in awaitResult: \n",
      "\tat org.apache.spark.util.ThreadUtils$.awaitResult(ThreadUtils.scala:226)\n",
      "\tat org.apache.spark.rpc.RpcTimeout.awaitResult(RpcTimeout.scala:75)\n",
      "\tat org.apache.spark.scheduler.cluster.CoarseGrainedSchedulerBackend.requestTotalExecutors(CoarseGrainedSchedulerBackend.scala:599)\n",
      "\tat org.apache.spark.ExecutorAllocationManager.updateAndSyncNumExecutorsTarget(ExecutorAllocationManager.scala:366)\n",
      "\tat org.apache.spark.ExecutorAllocationManager.org$apache$spark$ExecutorAllocationManager$$schedule(ExecutorAllocationManager.scala:327)\n",
      "\tat org.apache.spark.ExecutorAllocationManager$$anon$2.run(ExecutorAllocationManager.scala:254)\n",
      "\tat java.util.concurrent.Executors$RunnableAdapter.call(Executors.java:511)\n",
      "\tat java.util.concurrent.FutureTask.runAndReset(FutureTask.java:308)\n",
      "\tat java.util.concurrent.ScheduledThreadPoolExecutor$ScheduledFutureTask.access$301(ScheduledThreadPoolExecutor.java:180)\n",
      "\tat java.util.concurrent.ScheduledThreadPoolExecutor$ScheduledFutureTask.run(ScheduledThreadPoolExecutor.java:294)\n",
      "\tat java.util.concurrent.ThreadPoolExecutor.runWorker(ThreadPoolExecutor.java:1149)\n",
      "\tat java.util.concurrent.ThreadPoolExecutor$Worker.run(ThreadPoolExecutor.java:624)\n",
      "\tat java.lang.Thread.run(Thread.java:748)\n",
      "Caused by: java.io.IOException: Connection reset by peer\n",
      "\tat sun.nio.ch.FileDispatcherImpl.read0(Native Method)\n",
      "\tat sun.nio.ch.SocketDispatcher.read(SocketDispatcher.java:39)\n",
      "\tat sun.nio.ch.IOUtil.readIntoNativeBuffer(IOUtil.java:223)\n",
      "\tat sun.nio.ch.IOUtil.read(IOUtil.java:192)\n",
      "\tat sun.nio.ch.SocketChannelImpl.read(SocketChannelImpl.java:377)\n",
      "\tat io.netty.buffer.PooledUnsafeDirectByteBuf.setBytes(PooledUnsafeDirectByteBuf.java:288)\n",
      "\tat io.netty.buffer.AbstractByteBuf.writeBytes(AbstractByteBuf.java:1106)\n",
      "\tat io.netty.channel.socket.nio.NioSocketChannel.doReadBytes(NioSocketChannel.java:343)\n",
      "\tat io.netty.channel.nio.AbstractNioByteChannel$NioByteUnsafe.read(AbstractNioByteChannel.java:123)\n",
      "\tat io.netty.channel.nio.NioEventLoop.processSelectedKey(NioEventLoop.java:645)\n",
      "\tat io.netty.channel.nio.NioEventLoop.processSelectedKeysOptimized(NioEventLoop.java:580)\n",
      "\tat io.netty.channel.nio.NioEventLoop.processSelectedKeys(NioEventLoop.java:497)\n",
      "\tat io.netty.channel.nio.NioEventLoop.run(NioEventLoop.java:459)\n",
      "\tat io.netty.util.concurrent.SingleThreadEventExecutor$5.run(SingleThreadEventExecutor.java:858)\n"
     ]
    }
   ],
   "source": [
    "booking_search_df.select('bk_rate_type','travel_product_id','duration','bk_avg_revenue_usd','src_commission_base_usd').\\\n",
    "                  orderBy(desc('revenue_diff2')).show(50)"
   ]
  },
  {
   "cell_type": "code",
   "execution_count": 48,
   "metadata": {},
   "outputs": [],
   "source": [
    "dir = 's3://ege-ds-workshops-corp/yixli/data_understanding/'"
   ]
  },
  {
   "cell_type": "code",
   "execution_count": 49,
   "metadata": {},
   "outputs": [],
   "source": [
    "datestamp = datetime.datetime.now().strftime('%m-%d-%Y')\n",
    "booking_search_df.repartition(1).write.format('com.databricks.spark.csv').mode('overwrite')\\\n",
    ".save(dir+datestamp+'_booking_search_df.csv',header = 'true')"
   ]
  },
  {
   "cell_type": "markdown",
   "metadata": {},
   "source": [
    "## Estimated revenue from booking data"
   ]
  },
  {
   "cell_type": "code",
   "execution_count": 23,
   "metadata": {},
   "outputs": [
    {
     "name": "stdout",
     "output_type": "stream",
     "text": [
      "+------------+-----------------------+--------------------------+----------------------+\n",
      "|bk_rate_type|avg(bk_avg_revenue_usd)|avg(bk_avg_commission_usd)|avg(bk_avg_markup_usd)|\n",
      "+------------+-----------------------+--------------------------+----------------------+\n",
      "|        EPRA|     23.039118714457242|        23.039118714457242|                   0.0|\n",
      "|        EPRM|     28.077147537864352|                       0.0|    28.077147537864352|\n",
      "|        ESRM|     25.342343676257844|                       0.0|    25.342343676257844|\n",
      "|      HOTMIP|     28.913798544914798|       0.08205245479353265|     28.83174609012126|\n",
      "|        ESRA|      20.20272044537961|         20.20272044537961|                   0.0|\n",
      "+------------+-----------------------+--------------------------+----------------------+"
     ]
    }
   ],
   "source": [
    "booking_search_df.\\\n",
    "                  groupBy('bk_rate_type').\\\n",
    "                  agg(F.avg(\"bk_avg_revenue_usd\"),F.avg(\"bk_avg_commission_usd\"),F.avg(\"bk_avg_markup_usd\")).show(20)"
   ]
  },
  {
   "cell_type": "markdown",
   "metadata": {},
   "source": [
    "## Estimated revenue from Search data(all)"
   ]
  },
  {
   "cell_type": "code",
   "execution_count": 24,
   "metadata": {},
   "outputs": [
    {
     "name": "stdout",
     "output_type": "stream",
     "text": [
      "+------------+----------------------------+-------------------------------------------------------+\n",
      "|bk_rate_type|avg(src_commission_base_usd)|avg((src_commission_base_usd + src_commission_tax_usd))|\n",
      "+------------+----------------------------+-------------------------------------------------------+\n",
      "|        EPRA|           23.42195068578366|                                     27.831068011981536|\n",
      "|        EPRM|           24.43068631974862|                                      30.68537334273243|\n",
      "|        ESRM|          21.120757738804066|                                      27.32815590028979|\n",
      "|      HOTMIP|          26.534933505714733|                                      32.62095569714313|\n",
      "|        ESRA|          20.830756610094145|                                     25.550693178368444|\n",
      "+------------+----------------------------+-------------------------------------------------------+"
     ]
    }
   ],
   "source": [
    "booking_search_df.\\\n",
    "                  groupBy('bk_rate_type').\\\n",
    "                  agg(F.avg(\"src_commission_base_usd\"),F.avg(F.col(\"src_commission_base_usd\")+F.col(\"src_commission_tax_usd\"))).show(20)"
   ]
  },
  {
   "cell_type": "markdown",
   "metadata": {},
   "source": [
    "## Estimated revenue from Search data(is booked)"
   ]
  },
  {
   "cell_type": "code",
   "execution_count": 44,
   "metadata": {},
   "outputs": [
    {
     "name": "stdout",
     "output_type": "stream",
     "text": [
      "+------------+----------------------------+-------------------------------------------------------+\n",
      "|bk_rate_type|avg(src_commission_base_usd)|avg((src_commission_base_usd + src_commission_tax_usd))|\n",
      "+------------+----------------------------+-------------------------------------------------------+\n",
      "|        EPRA|          18.847996690350552|                                      20.90431517883153|\n",
      "|        EPRM|           20.06657613780915|                                     24.722707170579355|\n",
      "|        ESRM|           16.52331728369093|                                      21.12220166179545|\n",
      "|        ESRA|           16.03880634360243|                                     17.706725813043338|\n",
      "+------------+----------------------------+-------------------------------------------------------+"
     ]
    }
   ],
   "source": [
    "booking_search_df.filter(F.col('is_booked')==1).\\\n",
    "                  groupBy('bk_rate_type').\\\n",
    "                  agg(F.avg(\"src_commission_base_usd\"),F.avg(F.col(\"src_commission_base_usd\")+F.col(\"src_commission_tax_usd\"))).show(20)"
   ]
  },
  {
   "cell_type": "markdown",
   "metadata": {},
   "source": [
    "## Probabilty of booking by rate types"
   ]
  },
  {
   "cell_type": "code",
   "execution_count": 45,
   "metadata": {},
   "outputs": [
    {
     "name": "stdout",
     "output_type": "stream",
     "text": [
      "+------------+----------------+-------------------+\n",
      "|bk_rate_type|count(is_booked)|     avg(is_booked)|\n",
      "+------------+----------------+-------------------+\n",
      "|        EPRA|            2698| 0.1808747220163084|\n",
      "|        EPRM|           11187| 0.1079824796638956|\n",
      "|        ESRM|           35401|0.17205728651733002|\n",
      "|      HOTMIP|            5573|                0.0|\n",
      "|        ESRA|            7984|0.19138276553106212|\n",
      "+------------+----------------+-------------------+"
     ]
    }
   ],
   "source": [
    "booking_search_df.\\\n",
    "                  groupBy('bk_rate_type').agg(F.count(F.col('is_booked')), F.avg(F.col('is_booked'))).show(20)"
   ]
  },
  {
   "cell_type": "markdown",
   "metadata": {},
   "source": [
    "## Probabilty of booking by rate index"
   ]
  },
  {
   "cell_type": "code",
   "execution_count": 46,
   "metadata": {
    "collapsed": true
   },
   "outputs": [
    {
     "name": "stdout",
     "output_type": "stream",
     "text": [
      "+----------+----------------+--------------------+\n",
      "|rate_index|count(is_booked)|      avg(is_booked)|\n",
      "+----------+----------------+--------------------+\n",
      "|        12|             284| 0.02464788732394366|\n",
      "|         1|           10330|  0.1841239109390126|\n",
      "|        13|             179|  0.0111731843575419|\n",
      "|         6|            3755| 0.07163781624500666|\n",
      "|         3|            6075| 0.12609053497942388|\n",
      "|         5|            4681| 0.07968382824182867|\n",
      "|        15|               9|                 0.0|\n",
      "|         9|            1392| 0.03735632183908046|\n",
      "|         4|            5201| 0.09402038069601999|\n",
      "|         8|            3201| 0.05529522024367385|\n",
      "|         7|            3509| 0.06497577657452265|\n",
      "|        10|            1080| 0.03333333333333333|\n",
      "|        11|             939| 0.01597444089456869|\n",
      "|        14|             162|0.012345679012345678|\n",
      "|         2|            8246| 0.11872422992966286|\n",
      "|         0|           13800| 0.27956521739130435|\n",
      "+----------+----------------+--------------------+"
     ]
    }
   ],
   "source": [
    "booking_search_df.\\\n",
    "                  groupBy('rate_index').agg(F.count(F.col('is_booked')), F.avg(F.col('is_booked'))).show(20)"
   ]
  },
  {
   "cell_type": "code",
   "execution_count": null,
   "metadata": {},
   "outputs": [],
   "source": []
  }
 ],
 "metadata": {
  "kernelspec": {
   "display_name": "PySpark3",
   "language": "",
   "name": "pyspark3kernel"
  },
  "language_info": {
   "codemirror_mode": {
    "name": "python",
    "version": 3
   },
   "mimetype": "text/x-python",
   "name": "pyspark3",
   "pygments_lexer": "python3"
  }
 },
 "nbformat": 4,
 "nbformat_minor": 2
}
