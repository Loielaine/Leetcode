{
 "cells": [
  {
   "cell_type": "code",
   "execution_count": 4,
   "metadata": {},
   "outputs": [],
   "source": [
    "import datetime\n",
    "from datetime import date\n",
    "import pandas as pd\n",
    "import numpy as np\n",
    "\n",
    "from pyspark import SparkContext\n",
    "from pyspark import SQLContext\n",
    "from pyspark.sql.session import SparkSession\n",
    "\n",
    "\n",
    "from pyspark.sql import DataFrameStatFunctions as statFunc\n",
    "\n",
    "from pyspark.sql.functions import row_number\n",
    "from pyspark.sql.window import Window\n",
    "from pyspark.sql.functions import desc\n",
    "\n",
    "from pyspark.sql import functions as F\n",
    "from pyspark.sql import types as T\n",
    "from pyspark.sql.types import IntegerType"
   ]
  },
  {
   "cell_type": "markdown",
   "metadata": {},
   "source": [
    "## Obtain last_idx_peterman_line"
   ]
  },
  {
   "cell_type": "code",
   "execution_count": 3,
   "metadata": {},
   "outputs": [
    {
     "name": "stdout",
     "output_type": "stream",
     "text": [
      "\"\\nuse eandev; \\ndrop table if exists eandev.yixli_last_idx_peterman_line;\\ncreate table eandev.yixli_last_idx_peterman_line as    \\nselect  \\n  a.message_id,\\n  IF(b.message_id is null, 0, b.last_idx_peterman_line) as last_idx_peterman_line,\\n  IF(c.message_id is null, 0, c.last_hotel_result_index) as last_hotel_result_index\\nfrom eandev.HotelMessages as a \\nleft join (\\n  select  \\n   message_id\\n  ,MAX(v1.hotel_result_index) as last_idx_peterman_line\\n  from eandev.HotelMessages \\n  lateral view explode(hotels) hotel_tbl as v1\\n  where load_date between '20191201' and '20200101'\\n  and ((v1.property_level_neg = true) or (v1.chain_level_neg = true) or (v1.preferred = true))\\n  and message_id is not null \\n  and message_id <> ''\\n  and ((original_message_id is null) or (original_message_id == '')) \\n  and type = 'HSR'  \\n  group by message_id\\n) as b ON a.message_id = b.message_id\\nleft join (\\n  select  \\n   message_id\\n  ,MAX(v1.hotel_result_index) as last_hotel_result_index\\n  from eandev.HotelMessages \\n  lateral view explode(hotels) hotel_tbl as v1\\n  where load_date between '20191201' and '20200101'\\n  and message_id is not null \\n  and message_id <> ''\\n  and ((original_message_id is null) or (original_message_id == '')) \\n  and type = 'HSR'  \\n  group by message_id\\n) as c ON a.message_id = c.message_id\\nwhere a.load_date between '20191201' and '20200101'\\nand a.message_id is not null \\nand a.message_id <> ''\\nand ((original_message_id is null) or (original_message_id == '')) \\nand a.type = 'HSR'\\n\""
     ]
    }
   ],
   "source": [
    "'''\n",
    "use eandev; \n",
    "drop table if exists eandev.yixli_last_idx_peterman_line;\n",
    "create table eandev.yixli_last_idx_peterman_line as    \n",
    "select  \n",
    "  a.message_id,\n",
    "  IF(b.message_id is null, 0, b.last_idx_peterman_line) as last_idx_peterman_line,\n",
    "  IF(c.message_id is null, 0, c.last_hotel_result_index) as last_hotel_result_index\n",
    "from eandev.HotelMessages as a \n",
    "left join (\n",
    "  select  \n",
    "   message_id\n",
    "  ,MAX(v1.hotel_result_index) as last_idx_peterman_line\n",
    "  from eandev.HotelMessages \n",
    "  lateral view explode(hotels) hotel_tbl as v1\n",
    "  where load_date between '20200301' and '20200401'\n",
    "  and ((v1.property_level_neg = true) or (v1.chain_level_neg = true) or (v1.preferred = true))\n",
    "  and message_id is not null \n",
    "  and message_id <> ''\n",
    "  and ((original_message_id is null) or (original_message_id == '')) \n",
    "  and type = 'HSR'  \n",
    "  group by message_id\n",
    ") as b ON a.message_id = b.message_id\n",
    "left join (\n",
    "  select  \n",
    "   message_id\n",
    "  ,MAX(v1.hotel_result_index) as last_hotel_result_index\n",
    "  from eandev.HotelMessages \n",
    "  lateral view explode(hotels) hotel_tbl as v1\n",
    "  where load_date between '20200301' and '20200401'\n",
    "  and message_id is not null \n",
    "  and message_id <> ''\n",
    "  and ((original_message_id is null) or (original_message_id == '')) \n",
    "  and type = 'HSR'  \n",
    "  group by message_id\n",
    ") as c ON a.message_id = c.message_id\n",
    "where a.load_date between '20200301' and '20200401'\n",
    "and a.message_id is not null \n",
    "and a.message_id <> ''\n",
    "and ((original_message_id is null) or (original_message_id == '')) \n",
    "and a.type = 'HSR'\n",
    "'''"
   ]
  },
  {
   "cell_type": "code",
   "execution_count": 3,
   "metadata": {},
   "outputs": [],
   "source": [
    "peterman_schema = T.StructType([\n",
    "    T.StructField(\"message_id\", T.StringType(), True),                  #1\n",
    "    T.StructField(\"last_idx_peterman_line\", T.IntegerType(), True),     #2 \n",
    "    T.StructField(\"last_hotel_result_index\", T.IntegerType(), True)     #3\n",
    "])"
   ]
  },
  {
   "cell_type": "code",
   "execution_count": 4,
   "metadata": {},
   "outputs": [
    {
     "name": "stdout",
     "output_type": "stream",
     "text": [
      "1085193"
     ]
    }
   ],
   "source": [
    "file_loc = \"s3://ege-ds-workshops-corp/yixli/last_idx_peterman_line_2019.csv\"\n",
    "\n",
    "peterman_df = sqlContext.read.format('csv').\\\n",
    "            options(header='false', inferSchema='false', delimiter=',').\\\n",
    "            schema(peterman_schema).load(file_loc)\n",
    "\n",
    "# load_date between '20191201' and '20200101'\n",
    "\n",
    "print(peterman_df.count())"
   ]
  },
  {
   "cell_type": "code",
   "execution_count": 23,
   "metadata": {
    "collapsed": true
   },
   "outputs": [
    {
     "name": "stdout",
     "output_type": "stream",
     "text": [
      "+--------------------+----------------------+-----------------------+\n",
      "|          message_id|last_idx_peterman_line|last_hotel_result_index|\n",
      "+--------------------+----------------------+-----------------------+\n",
      "|01321a12-beab-468...|                     3|                     29|\n",
      "|01573036-848e-48c...|                     0|                      8|\n",
      "|016fabaa-be7f-473...|                     0|                     30|\n",
      "|01812298-95a5-47e...|                     3|                     29|\n",
      "|01884eea-70fb-487...|                     4|                     29|\n",
      "|01c5055a-14a0-43e...|                     0|                     29|\n",
      "|01e27c58-328c-438...|                     0|                      9|\n",
      "|01efeab7-5a3f-489...|                     0|                      0|\n",
      "|02038b64-6011-46c...|                    29|                     29|\n",
      "|0221cddc-ac25-4cd...|                     0|                     29|\n",
      "|027be122-64f0-429...|                     0|                      0|\n",
      "|0291c6a0-7a77-400...|                     4|                     29|\n",
      "|02e33c72-4688-453...|                     0|                     29|\n",
      "|0312a4f1-7c39-438...|                     0|                     29|\n",
      "|03a6204c-c568-460...|                     4|                      9|\n",
      "|03ba5249-65b4-461...|                     0|                      0|\n",
      "|03edea26-a356-425...|                     0|                      0|\n",
      "|043914a8-fece-43b...|                     0|                      9|\n",
      "|043d20ab-0852-4a0...|                    30|                     30|\n",
      "|04932f9e-f9b2-47c...|                     0|                      4|\n",
      "|04ae528b-8ad3-469...|                    29|                     29|\n",
      "|04bcdf68-f678-4b8...|                     0|                     29|\n",
      "|05bc6e2e-6b97-423...|                     0|                     29|\n",
      "|05d61668-6190-4d3...|                     0|                     29|\n",
      "|05d66386-a6f2-470...|                     8|                     29|\n",
      "|05ee6ae1-eab1-452...|                     9|                     29|\n",
      "|063a0fd2-8855-49e...|                     0|                      1|\n",
      "|063a37c8-d77f-4ec...|                     0|                      0|\n",
      "|06451ecb-d29b-41a...|                     0|                     29|\n",
      "|06c40a35-c389-452...|                    13|                     20|\n",
      "|06e90f37-91af-4de...|                     0|                     29|\n",
      "|07177143-24b3-41a...|                    23|                     30|\n",
      "|076faef0-9aea-4e9...|                     0|                      0|\n",
      "|07a3f58a-423d-401...|                    26|                     29|\n",
      "|07abceb0-be8e-48a...|                    25|                     29|\n",
      "|081bb12e-971a-43c...|                     4|                     29|\n",
      "|082b5ddd-2500-493...|                     0|                     29|\n",
      "|0835ad54-09e8-49c...|                     0|                      9|\n",
      "|083c979e-0fc9-42b...|                    30|                     30|\n",
      "|0896476c-ea74-41f...|                     0|                     29|\n",
      "|090547bf-3fe7-44f...|                     3|                     29|\n",
      "|0911e6de-c859-436...|                     0|                     29|\n",
      "|092835b3-1a1b-420...|                     1|                     29|\n",
      "|09e9a169-207d-4a4...|                     0|                      4|\n",
      "|0aadb345-3535-4a9...|                     0|                     27|\n",
      "|0b3a3f8b-66d1-453...|                    18|                     25|\n",
      "|0b78c1eb-8764-424...|                     0|                     17|\n",
      "|0b7a1b21-fe2d-47b...|                    29|                     29|\n",
      "|0beeb4d0-d0f4-445...|                     0|                     29|\n",
      "|0bf8dd86-a9b8-433...|                     3|                     29|\n",
      "+--------------------+----------------------+-----------------------+\n",
      "only showing top 50 rows"
     ]
    }
   ],
   "source": [
    "peterman_df.show(50)"
   ]
  },
  {
   "cell_type": "markdown",
   "metadata": {},
   "source": [
    "## Search data"
   ]
  },
  {
   "cell_type": "code",
   "execution_count": null,
   "metadata": {},
   "outputs": [],
   "source": [
    "'''\n",
    "use eandev;\n",
    "\n",
    "drop table if exists eandev.yixli_search_commission_test;\n",
    "create table eandev.yixli_search_commission_test as   \n",
    "select \n",
    "message_id\n",
    ",message_timestamp as message_date\n",
    ",check_in_date\n",
    ",check_out_date\n",
    ",tuid\n",
    ",v1.hotel_id\n",
    ",v1.hotel_result_index\n",
    ",v2.rate_index\n",
    ",v2.price.amount as rate_amount\n",
    ",v2.price.currency as rate_currency\n",
    ",(case when v2.rate_type = 'GDS_CHAIN_NEGOTIATED' then 'NEG'                             \n",
    "  when v2.rate_type = 'GDS_CONSORTIA' then 'GDS'\n",
    "  when v2.rate_type = 'GDS_NEGOTIATED' then 'NEG'\n",
    "  when v2.rate_type = 'GDS_PUBLISHED' then 'GDS'                             \n",
    "  when v2.rate_type = 'EPR_MERCHANT' then 'EPRM'\n",
    "  when v2.rate_type = 'ESR_DIRECT_AGENCY' then 'ESRA'\n",
    "  when v2.rate_type = 'EPR_DIRECT_AGENCY' then 'EPRA'\n",
    "  when v2.rate_type = 'ESR_MERCHANT' then 'ESRM'\n",
    "  else v2.rate_type end) as rate_type\n",
    ",NVL(v3.commission_base, 0.0) as commission_base\n",
    ",NVL(v3.commission_tax, 0.0) as commission_tax\n",
    ",NVL(v3.currency, 'USD') as currency\n",
    "from eandev.HotelMessages\n",
    "lateral view explode(travelers) travl_tbl as tuid\n",
    "lateral view explode(hotels) hotel_tbl as v1\n",
    "lateral view explode(v1.prices) rate_tbl as v2\n",
    "lateral view outer explode(v2.commission_list) cms_tbl as v3 \n",
    "where load_date between '20191001' and '20200101'\n",
    "and message_id is not null \n",
    "and message_id <> ''\n",
    "and v2.selected = True\n",
    "and type = 'HSR'\n",
    "\n",
    "\n",
    "use eandev;\n",
    "drop table if exists eandev.yixli_src_amentity_test;\n",
    "create table eandev.yixli_src_amentity_test as\n",
    "select\n",
    " a.message_id\n",
    ",a.message_date\n",
    ",a.check_in_date\n",
    ",a.check_out_date\n",
    ",a.tuid\n",
    ",a.hotel_id\n",
    ",a.hotel_result_index\n",
    ",a.score\n",
    ",a.city\n",
    ",a.star_rating\n",
    ",a.filter_want_in_policy_rates_only\n",
    ",array_contains(a.filter_rate_amenities,\"EligibleForLoyalty\") as  filter_eligible_for_loyalty\n",
    ",array_contains(a.filter_rate_amenities,\"FreeBreakfast\") as  filter_free_breakfast\n",
    ",array_contains(a.filter_rate_amenities,\"FreeWifi\") as  filter_free_wifi\n",
    ",array_contains(a.filter_rate_amenities,\"FreeParking\") as  filter_free_parking\n",
    ",concat_ws(\"|\",collect_list(cast(a.rate_index as string))) as rate_index\n",
    ",concat_ws(\"|\",collect_list(cast(a.rate_amount as string))) as rate_amount\n",
    ",concat_ws(\"|\",collect_list(cast(a.rate_currency as string))) as rate_currency\n",
    ",concat_ws(\"|\",collect_list(a.rate_type)) as rate_type\n",
    ",concat_ws(\"|\",collect_list(cast(a.hot_mip_rate) as string) as hot_mip_rate\n",
    ",concat_ws(\"|\",collect_list(cast(array_contains(a.amnts,\"EligibleForLoyalty\") as string))) as eligible_for_loyalty\n",
    ",concat_ws(\"|\",collect_list(cast(array_contains(a.amnts,\"FreeBreakfast\") as string))) as free_breakfast\n",
    ",concat_ws(\"|\",collect_list(cast(array_contains(a.amnts,\"FreeWifi\") as string))) as free_wifi\n",
    ",concat_ws(\"|\",collect_list(cast(array_contains(a.amnts,\"FreeParking\") as string))) as free_parking\n",
    ",concat_ws(\"|\",collect_list(cast(array_contains(a.amnts,\"Refundable\") as string))) as refundable\n",
    "from (\n",
    "select\n",
    " message_id\n",
    ",message_timestamp as message_date\n",
    ",check_in_date\n",
    ",check_out_date\n",
    ",filter_rate_amenities\n",
    ",filter_want_in_policy_rates_only\n",
    ",tuid\n",
    ",v1.hotel_id\n",
    ",v1.hotel_result_index as hotel_result_index\n",
    ",v1.sort_model_scores[0].main_score as score\n",
    ",CONCAT(lower(v1.city), '-',lower(v1.country_code))  as city\n",
    ",v1.star_rating\n",
    ",v2.rate_index\n",
    ",v2.price.amount as rate_amount\n",
    ",v2.price.currency as rate_currency\n",
    ",(case when v2.rate_type = 'GDS_CHAIN_NEGOTIATED' then 'NEG'\n",
    "  when v2.rate_type = 'GDS_CONSORTIA' then 'GDS'\n",
    "  when v2.rate_type = 'GDS_NEGOTIATED' then 'NEG'\n",
    "  when v2.rate_type = 'GDS_PUBLISHED' then 'GDS'\n",
    "  when v2.rate_type = 'EPR_MERCHANT' then 'EPRM'\n",
    "  when v2.rate_type = 'ESR_DIRECT_AGENCY' then 'ESRA'\n",
    "  when v2.rate_type = 'EPR_DIRECT_AGENCY' then 'EPRA'\n",
    "  when v2.rate_type = 'ESR_MERCHANT' then 'ESRM'\n",
    "  else v2.rate_type end) as rate_type\n",
    ",v2.hot_mip_rate\n",
    ",collect_list(v3.amenity_description) as amnts\n",
    "from eandev.HotelMessages\n",
    "lateral view explode(travelers) travl_tbl as tuid\n",
    "lateral view explode(hotels) hotel_tbl as v1\n",
    "lateral view explode(v1.prices) rate_tbl as v2\n",
    "lateral view explode(v2.rate_amenities) amt_tbl as v3\n",
    "where load_date between '20200301' and '20200401'\n",
    "and message_id is not null\n",
    "and message_id <> ''\n",
    "and v2.selected = True\n",
    "and type = 'HSR'\n",
    "group by message_id, message_timestamp, check_in_date, check_out_date, filter_rate_amenities,\n",
    "filter_want_in_policy_rates_only, tuid, v1.hotel_id, v1.hotel_result_index,v1.sort_model_scores[0].main_score,v1.city, v1.country_code, v1.star_rating, v2.rate_index,v2.price.amount,v2.price.currency,\n",
    "v2.rate_type,v2.hot_mip_rate\n",
    ") as a\n",
    "group by a.message_id, a.message_date, a.check_in_date, a.check_out_date,\n",
    "a.filter_rate_amenities, a.filter_want_in_policy_rates_only, a.tuid, a.hotel_id,a.hotel_result_index,a.score, a.city, a.star_rating\n",
    "'''"
   ]
  },
  {
   "cell_type": "code",
   "execution_count": null,
   "metadata": {},
   "outputs": [],
   "source": [
    "'''\n",
    "ssh Chwxedwhdc002.datawarehouse.expecn.com\n",
    "\n",
    "hive -e \"use eandev; INSERT OVERWRITE LOCAL DIRECTORY '/home/yixli/temp' ROW FORMAT DELIMITED FIELDS TERMINATED BY ',' select * from yixli_search_commission_2019;\"&\n",
    "\n",
    "cd temp\n",
    "ls | xargs -I '{}' -n1 sed -i 's/\\\\N//g' '{}' &\n",
    "cd ..\n",
    "cat temp/* >search_commission_2019.csv\n",
    "\n",
    "\n",
    "~/.linuxbrew/bin/aws_key_gen login\n",
    "\n",
    "aws s3 cp search_commission_2019.csv s3://ege-ds-workshops-corp/yixli/search_commission_2019.csv\n",
    "\n",
    "\n",
    "'''"
   ]
  },
  {
   "cell_type": "code",
   "execution_count": 2,
   "metadata": {},
   "outputs": [],
   "source": [
    "search_schema = T.StructType([\n",
    "    T.StructField(\"message_id\", T.StringType(), True),                                  #1                \n",
    "    T.StructField(\"message_date\", T.TimestampType(), True),                                  #2                               #1                \n",
    "    T.StructField(\"check_in_date\", T.DateType(), True),                                 #3\n",
    "    T.StructField(\"check_out_date\", T.DateType(), True),                                #4\n",
    "    T.StructField(\"tuid\", T.IntegerType(), True),                                       #5\n",
    "    T.StructField(\"hotel_id\", T.IntegerType(), True),                                   #6 \n",
    "     T.StructField(\"hotel_result_index\", T.IntegerType(), True),                                   #6 \n",
    "     T.StructField(\"city\", T.StringType(), True),           #9                               \n",
    "     T.StructField(\"star_rating\", T.StringType(), True),           #9                               \n",
    "    T.StructField(\"filter_want_in_policy_rates_only\", T.BooleanType(), True),           #9    \n",
    "    T.StructField(\"filter_eligible_for_loyalty\", T.BooleanType(), True),                #10 \n",
    "    T.StructField(\"filter_free_breakfast\", T.BooleanType(), True),                      #11\n",
    "    T.StructField(\"filter_free_wifi\", T.BooleanType(), True),                           #12    \n",
    "    T.StructField(\"filter_free_parking\", T.BooleanType(), True),                        #13\n",
    "    T.StructField(\"rate_index\", T.StringType(), True),                                      #14\n",
    "    T.StructField(\"rate_amount\", T.StringType(), True),                                     #15\n",
    "    T.StructField(\"rate_currency\", T.StringType(), True),                                   #16\n",
    "    T.StructField(\"rate_type\", T.StringType(), True),                                       #17\n",
    "    T.StructField(\"eligible_for_loyalty\", T.StringType(), True),                            #20\n",
    "    T.StructField(\"free_breakfast\", T.StringType(), True),                                  #21\n",
    "    T.StructField(\"free_wifi\", T.StringType(), True),                                       #22\n",
    "    T.StructField(\"free_parking\", T.StringType(), True),                                    #23\n",
    "    T.StructField(\"refundable\", T.StringType(), True)                                       #24\n",
    "])"
   ]
  },
  {
   "cell_type": "code",
   "execution_count": 3,
   "metadata": {},
   "outputs": [
    {
     "name": "stdout",
     "output_type": "stream",
     "text": [
      "203379023"
     ]
    }
   ],
   "source": [
    "file_loc = \"s3://ege-ds-workshops-corp/yixli/src_amentity_2019.csv\"\n",
    "search_hotel_df = sqlContext.read.format('csv').\\\n",
    "            options(header='false', inferSchema='false', delimiter=',').\\\n",
    "            schema(search_schema).load(file_loc)\n",
    "\n",
    "# load_date between '20191001' and '20200101'\n",
    "\n",
    "search_hotel_df = search_hotel_df.\\\n",
    "            filter(F.col(\"hotel_id\")>0).\\\n",
    "            filter(F.col('rate_amount').isNotNull())\n",
    "print(search_hotel_df.count())"
   ]
  },
  {
   "cell_type": "code",
   "execution_count": 8,
   "metadata": {
    "collapsed": true
   },
   "outputs": [
    {
     "name": "stdout",
     "output_type": "stream",
     "text": [
      "+--------------------+--------------------+-------------+--------------+--------+--------+------------------+--------------------+-----------+--------------------------------+---------------------------+---------------------+----------------+-------------------+--------------------+--------------------+--------------------+--------------------+--------------------+--------------------+--------------------+--------------------+--------------------+\n",
      "|          message_id|        message_date|check_in_date|check_out_date|    tuid|hotel_id|hotel_result_index|                city|star_rating|filter_want_in_policy_rates_only|filter_eligible_for_loyalty|filter_free_breakfast|filter_free_wifi|filter_free_parking|          rate_index|         rate_amount|       rate_currency|           rate_type|eligible_for_loyalty|      free_breakfast|           free_wifi|        free_parking|          refundable|\n",
      "+--------------------+--------------------+-------------+--------------+--------+--------+------------------+--------------------+-----------+--------------------------------+---------------------------+---------------------+----------------+-------------------+--------------------+--------------------+--------------------+--------------------+--------------------+--------------------+--------------------+--------------------+--------------------+\n",
      "|000010b4-d05f-42a...|2019-12-30 13:43:...|   2020-01-15|    2020-01-16| 7155886|   17862|                 5|  jeffersonville-usa|        3.5|                           false|                      false|                false|           false|              false|   8|3|7|5|0|2|4|1|6|159.0|129.0|139.0...|USD|USD|USD|USD|U...|ESRM|ESRA|ESRA|GD...|FALSE|FALSE|FALSE...|TRUE|FALSE|TRUE|F...|TRUE|TRUE|TRUE|TR...|TRUE|TRUE|TRUE|TR...|TRUE|TRUE|TRUE|TR...|\n",
      "|00002770-ab07-4ca...|2019-11-07 02:23:...|   2019-12-02|    2019-12-05|12847074|    9851|                12|         bondues-fra|        3.0|                           false|                      false|                false|           false|              false|7|6|13|12|3|8|4|0...|95.49|94.32|126.4...|EUR|EUR|EUR|EUR|E...|EPRM|GDS|EPRM|EPR...|TRUE|TRUE|TRUE|TR...|FALSE|FALSE|FALSE...|TRUE|TRUE|TRUE|TR...|TRUE|TRUE|TRUE|TR...|FALSE|TRUE|FALSE|...|\n",
      "|0000b7c9-aff3-4fc...|2019-11-04 04:54:...|   2019-11-06|    2019-11-07|18467874|16706547|                20|          austin-usa|        3.0|                           false|                      false|                false|           false|              false|2|6|11|9|7|1|5|3|...|210.6|214.2|232.2...|USD|USD|USD|USD|U...|EPRM|ESRM|ESRM|ES...|TRUE|FALSE|FALSE|...|FALSE|TRUE|TRUE|T...|TRUE|TRUE|TRUE|TR...|FALSE|FALSE|FALSE...|TRUE|TRUE|TRUE|TR...|\n",
      "|0000d95f-5a73-4f4...|2019-10-10 02:13:...|   2019-11-13|    2019-11-15|15117023|   21366|                16|            lyon-fra|        4.0|                           false|                      false|                false|           false|              false|         3|0|1|5|2|4|177.3|135.5|135.5...|EUR|EUR|EUR|EUR|E...|ESRA|NEG|NEG|ESRA...|FALSE|TRUE|TRUE|F...|FALSE|TRUE|TRUE|F...|TRUE|TRUE|TRUE|TR...|FALSE|FALSE|FALSE...|TRUE|TRUE|TRUE|TR...|\n",
      "|00011fee-dfdd-4cb...|2019-11-04 03:51:...|   2019-11-25|    2019-11-29| 9281938| 3585774|                 2|      ottobeuren-deu|        3.5|                           false|                      false|                false|           false|              false|         3|2|5|0|1|4|644.31|618.16|750...|PLN|PLN|PLN|PLN|P...|ESRA|ESRA|ESRA|GD...|FALSE|FALSE|FALSE...|TRUE|TRUE|TRUE|TR...|TRUE|TRUE|TRUE|TR...|FALSE|FALSE|FALSE...|TRUE|TRUE|TRUE|TR...|\n",
      "|00014fca-22cf-418...|2019-10-20 18:18:...|   2019-10-22|    2019-10-24| 6604218|24316563|                20|      washington-usa|        4.5|                           false|                      false|                false|           false|              false|       2|0|3|6|5|4|1|534.0|509.0|709.0...|USD|USD|USD|USD|U...|GDS|GDS|ESRM|ESRA...|FALSE|FALSE|FALSE...|FALSE|FALSE|FALSE...|TRUE|TRUE|TRUE|TR...|FALSE|FALSE|FALSE...|FALSE|FALSE|FALSE...|\n",
      "|00018f0a-ca47-4c5...|2019-10-25 08:00:...|   2019-10-28|    2019-10-30|20460645|  972706|                26|       barcelona-esp|        3.0|                           false|                      false|                false|           false|              false|   0|6|8|5|1|3|2|4|7|91.07|116.5|123.0...|EUR|EUR|EUR|EUR|E...|ESRM|ESRA|GDS|ESR...|FALSE|FALSE|FALSE...|FALSE|TRUE|FALSE|...|TRUE|TRUE|TRUE|TR...|FALSE|FALSE|FALSE...|FALSE|TRUE|TRUE|F...|\n",
      "|0001c8d3-52b2-4f5...|2019-12-04 09:50:...|   2020-01-14|    2020-01-17|12319088| 1418701|                24|       las vegas-usa|        4.5|                           false|                      false|                false|           false|              false|     4|0|6|3|5|7|2|1|99.0|64.35|109.0|...|USD|USD|USD|USD|U...|EPRM|ESRM|EPRM|ES...|FALSE|FALSE|FALSE...|FALSE|FALSE|FALSE...|FALSE|FALSE|FALSE...|TRUE|TRUE|TRUE|TR...|TRUE|TRUE|TRUE|TR...|\n",
      "|00021075-9a94-4b7...|2019-11-01 05:36:...|   2019-11-11|    2019-11-13|18909413| 4972623|                 8|          weimar-deu|        3.0|                           false|                      false|                false|           false|              false|                 1|0|           75.0|62.0|             EUR|EUR|           ESRA|ESRA|         FALSE|FALSE|           TRUE|TRUE|           TRUE|TRUE|         FALSE|FALSE|           TRUE|TRUE|\n",
      "|00024650-7c31-488...|2019-10-22 11:00:...|   2019-11-01|    2019-11-03|20005417|   44896|                 8|        suresnes-fra|        3.0|                           false|                      false|                false|           false|              false|       3|0|2|6|1|5|4|79.0|135.0|79.0|1...|EUR|EUR|EUR|EUR|E...|GDS|NEG|ESRA|EPRA...|FALSE|FALSE|FALSE...|FALSE|TRUE|FALSE|...|TRUE|TRUE|TRUE|TR...|FALSE|FALSE|FALSE...|TRUE|TRUE|TRUE|TR...|\n",
      "|000279bc-fd93-434...|2019-10-01 04:06:...|   2019-10-02|    2019-10-03|19173263| 2534479|                23|         seville-esp|        3.0|                           false|                      false|                false|           false|              false|                 1|0|        225.96|219.0|             EUR|EUR|           ESRM|ESRA|         FALSE|FALSE|         FALSE|FALSE|           TRUE|TRUE|         FALSE|FALSE|           TRUE|TRUE|\n",
      "|00028064-e64c-461...|2019-11-25 06:35:...|   2019-11-27|    2019-11-28|20681260|   40674|                25|        montreal-can|        3.5|                           false|                      false|                false|           false|              false| 9|0|6|4|1|2|8|5|3|7|167.83|101.49|160...|USD|USD|USD|USD|U...|EPRA|ESRM|EPRM|ES...|FALSE|FALSE|FALSE...|FALSE|FALSE|FALSE...|TRUE|TRUE|TRUE|TR...|TRUE|TRUE|TRUE|TR...|TRUE|TRUE|TRUE|TR...|\n",
      "|000289c8-13b2-4e7...|2019-10-13 08:46:...|   2019-10-13|    2019-10-16|14755698|   20324|                 2|        savannah-usa|        4.0|                           false|                      false|                false|           false|              false|         3|4|1|0|2|5|200.67|200.67|180...|USD|USD|USD|USD|U...|ESRA|ESRA|ESRM|ES...|FALSE|FALSE|FALSE...|TRUE|TRUE|FALSE|F...|TRUE|TRUE|TRUE|TR...|FALSE|FALSE|FALSE...|FALSE|FALSE|FALSE...|\n",
      "|00029e78-a543-4fc...|2019-11-15 03:25:...|   2019-12-05|    2019-12-06|14689441|  119544|                13|          vienna-aut|        4.0|                           false|                      false|                 true|           false|              false|     6|1|7|5|2|3|4|0|150.21|136.71|155...|EUR|EUR|EUR|EUR|E...|ESRA|ESRM|EPRM|ES...|FALSE|FALSE|FALSE...|TRUE|TRUE|TRUE|TR...|TRUE|TRUE|TRUE|TR...|FALSE|FALSE|FALSE...|TRUE|TRUE|TRUE|FA...|\n",
      "|0002a4f1-3226-43d...|2019-10-27 13:26:...|   2019-10-28|    2019-10-30| 5018475| 2129929|                 9|       fairfield-usa|        2.5|                           false|                      false|                false|           false|              false|     1|2|3|4|7|5|6|0|68.0|76.0|76.0|76...|USD|USD|USD|USD|U...|ESRA|ESRM|ESRA|EP...|FALSE|FALSE|FALSE...|TRUE|TRUE|TRUE|TR...|TRUE|TRUE|TRUE|TR...|TRUE|TRUE|TRUE|TR...|TRUE|TRUE|TRUE|TR...|\n",
      "|0002ad5e-ec15-458...|2019-12-09 11:37:...|   2020-01-16|    2020-01-17|14012931|   14604|                 4|         norwood-usa|        3.5|                           false|                      false|                false|           false|              false|6|11|0|4|3|7|1|10...|164.0|204.0|128.0...|USD|USD|USD|USD|U...|ESRA|ESRM|NEG|GDS...|FALSE|FALSE|TRUE|...|TRUE|TRUE|TRUE|FA...|TRUE|TRUE|TRUE|TR...|TRUE|TRUE|TRUE|TR...|TRUE|TRUE|TRUE|TR...|\n",
      "|00030da2-0a12-491...|2019-10-23 07:08:...|   2019-10-30|    2019-10-31|11714175|   15445|                11|       stockholm-swe|        4.0|                           false|                      false|                false|           false|              false|   1|4|6|3|8|0|2|5|7|1230.0|1467.0|169...|SEK|SEK|SEK|SEK|S...|ESRA|EPRA|NEG|ESR...|FALSE|FALSE|FALSE...|TRUE|TRUE|TRUE|TR...|TRUE|TRUE|TRUE|TR...|FALSE|FALSE|FALSE...|TRUE|TRUE|TRUE|TR...|\n",
      "|000326a5-63cf-45b...|2019-10-20 10:56:...|   2019-10-31|    2019-11-01|18406761|38900407|                15|       pontenure-ita|        0.0|                           false|                      false|                false|           false|              false|         4|3|5|2|0|1|82.33|61.75|84.9|...|EUR|EUR|EUR|EUR|E...|ESRM|ESRM|ESRM|ES...|FALSE|FALSE|FALSE...|FALSE|FALSE|TRUE|...|TRUE|TRUE|TRUE|TR...|TRUE|TRUE|TRUE|TR...|TRUE|TRUE|TRUE|TR...|\n",
      "|000390dd-3dd4-4ec...|2019-10-02 18:44:...|   2019-11-01|    2019-11-05| 6887967| 1260016|                13|roissy-en-france-fra|        4.0|                           false|                      false|                false|           false|              false| 1|8|0|9|3|5|7|6|4|2|138.88|191.8|138....|USD|USD|USD|USD|U...|ESRM|ESRM|ESRM|ES...|FALSE|FALSE|FALSE...|FALSE|TRUE|FALSE|...|TRUE|TRUE|TRUE|TR...|FALSE|FALSE|FALSE...|FALSE|TRUE|FALSE|...|\n",
      "|0003dbf3-77bf-463...|2019-12-05 02:30:...|   2020-01-16|    2020-01-17|17281928|23533492|                29|          sceaux-fra|        0.0|                           false|                      false|                false|           false|              false|               0|2|1| 111.93|123.33|119.0|         EUR|EUR|EUR|      ESRM|ESRM|ESRA|   FALSE|FALSE|FALSE|      TRUE|TRUE|TRUE|      TRUE|TRUE|TRUE|   FALSE|FALSE|FALSE|     FALSE|TRUE|TRUE|\n",
      "|0004231e-4fa6-456...|2019-10-01 08:11:...|   2019-10-08|    2019-10-10|20398645|38766175|                 0|          boston-usa|        2.5|                           false|                      false|                false|           false|              false|   4|7|6|3|8|0|1|5|2|319.0|334.0|329.0...|USD|USD|USD|USD|U...|ESRA|ESRM|ESRA|ES...|FALSE|FALSE|FALSE...|FALSE|FALSE|FALSE...|TRUE|TRUE|TRUE|TR...|FALSE|FALSE|FALSE...|TRUE|TRUE|TRUE|TR...|\n",
      "|00043e20-bcc1-414...|2019-11-07 07:12:...|   2019-11-18|    2019-11-22|11135473|   11083|                18|        berkeley-usa|        3.0|                           false|                      false|                false|           false|              false|                 1|0|         279.0|279.0|             USD|USD|           EPRA|EPRM|           TRUE|TRUE|           TRUE|TRUE|           TRUE|TRUE|           TRUE|TRUE|          TRUE|FALSE|\n",
      "|000450b0-916d-4d7...|2019-11-13 05:03:...|   2019-12-02|    2019-12-03|17257045|  694425|                 8|       stockholm-swe|        4.0|                           false|                      false|                false|           false|              false|7|9|3|10|2|1|5|8|...|1228.05|1250.4|11...|DKK|DKK|DKK|DKK|D...|ESRA|EPRA|EPRA|EP...|FALSE|FALSE|FALSE...|TRUE|TRUE|TRUE|TR...|TRUE|TRUE|TRUE|TR...|FALSE|FALSE|FALSE...|TRUE|TRUE|TRUE|FA...|\n",
      "|00047f61-d932-4b0...|2019-11-13 04:50:...|   2019-11-20|    2019-11-21| 7803114|    8530|                 3|         atlanta-usa|        5.0|                           false|                      false|                false|           false|              false|                 0|1|         269.0|269.0|             USD|USD|             GDS|GDS|           TRUE|TRUE|         FALSE|FALSE|         FALSE|FALSE|         FALSE|FALSE|           TRUE|TRUE|\n",
      "|0004a3a3-8fe7-40b...|2019-10-09 16:09:...|   2019-10-09|    2019-10-10|11867879| 1156923|                15|         houston-usa|        4.0|                           false|                      false|                false|           false|              false|   5|6|4|8|2|1|0|3|7|190.4|199.0|184.0...|USD|USD|USD|USD|U...|ESRM|GDS|GDS|GDS|...|FALSE|TRUE|TRUE|T...|FALSE|FALSE|FALSE...|TRUE|TRUE|TRUE|TR...|FALSE|FALSE|FALSE...|FALSE|FALSE|FALSE...|\n",
      "|0004f052-ba73-4ba...|2019-10-09 01:13:...|   2020-02-11|    2020-02-12|14879135|11518997|                 6|          london-gbr|        5.0|                           false|                      false|                false|           false|              false|         2|1|3|4|5|0|234.86|234.86|329...|GBP|GBP|GBP|GBP|G...|ESRM|ESRM|ESRA|ES...|FALSE|FALSE|FALSE...|FALSE|FALSE|FALSE...|TRUE|TRUE|TRUE|TR...|FALSE|FALSE|FALSE...|FALSE|FALSE|TRUE|...|\n",
      "|00053352-7059-464...|2019-10-10 08:27:...|   2019-11-03|    2019-11-07| 8837754|   10498|                 0|           milan-ita|        4.0|                           false|                      false|                false|           false|              false|               2|0|1|   197.0|157.0|167.0|         EUR|EUR|EUR|         GDS|GDS|GDS|   FALSE|FALSE|FALSE|      TRUE|TRUE|TRUE|      TRUE|TRUE|TRUE|   FALSE|FALSE|FALSE|      TRUE|TRUE|TRUE|\n",
      "|0005ac2e-ee37-4b6...|2019-10-30 08:06:...|   2019-11-20|    2019-11-21|20009710| 1381930|                25|        besancon-fra|        0.0|                           false|                      false|                false|           false|              false|                   0|                45.0|                 EUR|                ESRA|               FALSE|               FALSE|                TRUE|                TRUE|                TRUE|\n",
      "|0005aef0-8bd7-42f...|2019-11-05 06:06:...|   2019-11-27|    2019-11-28|18344829|24923660|                20|       bucharest-rou|        4.0|                           false|                      false|                false|           false|              false|1|6|2|9|7|10|3|8|...|58.72|66.32|60.83...|GBP|GBP|GBP|GBP|G...|ESRA|ESRA|ESRM|ES...|FALSE|FALSE|FALSE...|TRUE|TRUE|TRUE|TR...|TRUE|TRUE|TRUE|TR...|FALSE|FALSE|FALSE...|TRUE|TRUE|TRUE|FA...|\n",
      "|0005dfb1-c337-4ab...|2019-10-01 14:10:...|   2019-11-11|    2019-11-12|17134015| 2244255|                 3|        new york-usa|        4.0|                           false|                      false|                false|           false|              false| 7|0|8|4|6|3|9|1|2|5|478.76|395.88|507...|CAD|CAD|CAD|CAD|C...|ESRM|NEG|ESRM|GDS...|FALSE|FALSE|FALSE...|FALSE|FALSE|FALSE...|TRUE|TRUE|TRUE|TR...|FALSE|FALSE|FALSE...|TRUE|TRUE|TRUE|TR...|\n",
      "|00063f27-95b5-4c0...|2019-10-26 23:13:...|   2019-11-09|    2019-11-10| 6808100| 1453532|                13|          austin-usa|        3.0|                           false|                      false|                false|           false|              false|         2|0|1|5|4|3|719.0|699.0|699.0...|USD|USD|USD|USD|U...|ESRM|ESRM|ESRA|ES...|FALSE|FALSE|FALSE...|FALSE|FALSE|FALSE...|TRUE|TRUE|TRUE|TR...|FALSE|FALSE|FALSE...|TRUE|TRUE|TRUE|TR...|\n",
      "|0006da09-8dd1-4ab...|2019-10-09 11:09:...|   2019-10-14|    2019-10-18| 4265929| 5947530|                13|         bologna-ita|        1.0|                           false|                      false|                false|           false|              false|               1|0|2|    77.0|65.63|78.96|         EUR|EUR|EUR|      ESRA|ESRM|ESRM|   FALSE|FALSE|FALSE|      TRUE|TRUE|TRUE|      TRUE|TRUE|TRUE|   FALSE|FALSE|FALSE|     TRUE|FALSE|TRUE|\n",
      "|00071382-5700-4d6...|2019-12-09 08:39:...|   2019-12-10|    2019-12-11| 5239353|  182484|                19|      manchester-gbr|        3.0|                           false|                      false|                false|           false|              false| 1|3|4|8|0|6|7|5|9|2|62.83|64.0|64.0|8...|GBP|GBP|GBP|GBP|G...|EPRM|GDS|GDS|ESRM...|FALSE|FALSE|FALSE...|TRUE|FALSE|FALSE|...|TRUE|TRUE|TRUE|TR...|FALSE|FALSE|FALSE...|TRUE|FALSE|FALSE|...|\n",
      "|0007a555-46cb-4f2...|2019-10-21 16:48:...|   2019-11-16|    2019-11-22|14553205|  553888|                20|       singapore-sgp|        4.5|                           false|                      false|                false|           false|              false|9|6|11|10|0|7|8|1...|175.94|164.21|224...|USD|USD|USD|USD|U...|EPRM|ESRM|ESRA|EP...|FALSE|FALSE|FALSE...|TRUE|TRUE|TRUE|TR...|TRUE|TRUE|TRUE|TR...|TRUE|TRUE|TRUE|TR...|TRUE|TRUE|TRUE|TR...|\n",
      "|00082e62-fca6-418...|2019-12-02 00:34:...|   2019-12-09|    2019-12-11|12022149|   14489|                 3|    kuala lumpur-mys|        5.0|                           false|                      false|                false|           false|              false|5|10|3|11|0|7|1|6...|647.52|1026.4|619...|DKK|DKK|DKK|DKK|D...|ESRM|ESRM|ESRM|ES...|FALSE|FALSE|FALSE...|TRUE|TRUE|TRUE|TR...|TRUE|TRUE|TRUE|TR...|FALSE|FALSE|FALSE...|TRUE|TRUE|TRUE|TR...|\n",
      "|00084b38-c56a-4ad...|2019-12-21 23:50:...|   2020-01-08|    2020-01-09|14899274|32795104|                18|           dubai-are|        0.0|                           false|                      false|                false|           false|              false|                   0|             10804.5|                 AED|                ESRM|               FALSE|               FALSE|                TRUE|                TRUE|               FALSE|\n",
      "|0008850c-be76-44d...|2019-11-20 07:51:...|   2019-11-22|    2019-11-23|11760439| 3576705|                28|            oslo-nor|        4.0|                           false|                      false|                false|           false|              false|               2|0|1|2495.0|1695.0|1895.0|         NOK|NOK|NOK|      ESRA|ESRA|ESRA|   FALSE|FALSE|FALSE|      TRUE|TRUE|TRUE|      TRUE|TRUE|TRUE|   FALSE|FALSE|FALSE|      TRUE|TRUE|TRUE|\n",
      "|000944ea-eaa9-4c9...|2019-10-07 01:25:...|   2019-10-08|    2019-10-10| 6065419| 5334413|                16|           izmir-tur|        4.0|                           false|                      false|                false|           false|              false|                 0|1|       337.84|406.66|             TRY|TRY|           ESRA|ESRA|         FALSE|FALSE|           TRUE|TRUE|           TRUE|TRUE|           TRUE|TRUE|         FALSE|FALSE|\n",
      "|0009aaf3-c4ba-4cd...|2019-10-03 02:39:...|   2019-10-07|    2019-10-08|17026701|   25065|                 2|           turin-ita|        4.0|                           false|                      false|                false|           false|              false|         1|5|0|3|2|4|93.85|116.32|91.5...|EUR|EUR|EUR|EUR|E...|EPRM|EPRM|EPRA|EP...|FALSE|FALSE|FALSE...|TRUE|TRUE|TRUE|TR...|FALSE|FALSE|FALSE...|FALSE|FALSE|FALSE...|TRUE|TRUE|TRUE|TR...|\n",
      "|0009b4eb-043e-422...|2019-10-30 07:55:...|   2019-10-30|    2019-10-31|20890104| 2301746|                 6|         wroclaw-pol|        4.0|                           false|                      false|                false|           false|              false|   6|7|5|4|3|1|8|2|0|378.0|390.46|370....|PLN|PLN|PLN|PLN|P...|EPRA|EPRM|ESRM|ES...|FALSE|FALSE|FALSE...|TRUE|TRUE|FALSE|F...|TRUE|TRUE|TRUE|TR...|FALSE|FALSE|FALSE...|TRUE|TRUE|FALSE|F...|\n",
      "|0009ca15-fc1d-453...|2019-11-26 06:27:...|   2019-12-09|    2019-12-13|10084968|  524898|                 1|        rottweil-deu|        0.0|                           false|                      false|                false|           false|              false|                   0|             1613.74|                 SEK|                 GDS|               FALSE|                TRUE|               FALSE|               FALSE|                TRUE|\n",
      "|000be1e3-aad6-466...|2019-12-02 03:39:...|   2019-12-09|    2019-12-10|18118511| 7985763|                11|           essen-deu|        3.0|                           false|                      false|                 true|           false|              false|         4|5|2|3|0|1|119.0|139.0|109.0...|EUR|EUR|EUR|EUR|E...|ESRA|ESRA|GDS|ESR...|FALSE|FALSE|FALSE...|TRUE|TRUE|TRUE|TR...|TRUE|TRUE|TRUE|TR...|TRUE|TRUE|TRUE|TR...|TRUE|TRUE|TRUE|TR...|\n",
      "|000c23f3-8915-49f...|2019-11-18 03:01:...|   2019-11-25|    2019-11-26| 7903983|12779396|                13|          london-gbr|        3.5|                           false|                      false|                false|           false|              false|         4|2|1|5|3|0|144.38|128.52|122...|GBP|GBP|GBP|GBP|G...|ESRA|ESRA|ESRA|ES...|FALSE|FALSE|FALSE...|TRUE|FALSE|FALSE|...|TRUE|TRUE|TRUE|TR...|FALSE|FALSE|FALSE...|TRUE|TRUE|TRUE|TR...|\n",
      "|000c715a-89dd-4cf...|2019-11-21 05:47:...|   2020-01-14|    2020-01-17|16307198|   67458|                12|   santa barbara-usa|        3.0|                           false|                      false|                false|           false|              false|           1|0|3|2|4|221.76|203.71|236...| EUR|EUR|EUR|EUR|EUR|GDS|GDS|ESRM|ESRA...|FALSE|FALSE|FALSE...|TRUE|TRUE|TRUE|TR...|TRUE|TRUE|TRUE|TR...|FALSE|FALSE|FALSE...|TRUE|TRUE|TRUE|TR...|\n",
      "|000cb727-3b0d-40d...|2019-10-29 06:28:...|   2019-11-16|    2019-11-17|15260595| 9340955|                15|           dugny-fra|        4.0|                           false|                      false|                false|           false|              false|6|1|7|10|8|11|4|2...|10149.44|7328.7|1...|INR|INR|INR|INR|I...|GDS|ESRM|GDS|ESRA...|TRUE|FALSE|TRUE|F...|FALSE|FALSE|FALSE...|FALSE|FALSE|FALSE...|FALSE|FALSE|FALSE...|TRUE|FALSE|TRUE|T...|\n",
      "|000d3056-29b2-4bd...|2019-10-16 16:28:...|   2019-10-24|    2019-10-25|20304628|30237895|                 3|         rousset-fra|        0.0|                           false|                      false|                 true|           false|               true|                   0|              361.14|                 EUR|                ESRM|               FALSE|                TRUE|                TRUE|                TRUE|               FALSE|\n",
      "|000d5fd8-00cf-48f...|2019-11-22 03:01:...|   2019-12-16|    2019-12-20| 9498428| 2773823|                 3|      winchester-gbr|        4.0|                           false|                      false|                false|           false|              false|             1|0|2|3|92.7|92.7|103.5|1...|     GBP|GBP|GBP|GBP|    GDS|GDS|ESRA|GDS|TRUE|TRUE|FALSE|TRUE| TRUE|TRUE|TRUE|TRUE| TRUE|TRUE|TRUE|TRUE| TRUE|TRUE|TRUE|TRUE|TRUE|TRUE|TRUE|FALSE|\n",
      "|000d6d22-07e1-4b4...|2019-12-23 04:48:...|   2020-01-06|    2020-01-08| 4732116| 1183784|                17|          pessac-fra|        4.0|                           false|                      false|                false|           false|              false|             3|1|0|2|127.9|107.22|91.8...|     EUR|EUR|EUR|EUR| ESRM|ESRM|ESRM|ESRM|FALSE|FALSE|FALSE...|TRUE|FALSE|FALSE|...| TRUE|TRUE|TRUE|TRUE| TRUE|TRUE|TRUE|TRUE|FALSE|FALSE|FALSE...|\n",
      "|000d78fb-dc28-4b2...|2019-10-10 13:26:...|   2019-10-21|    2019-10-24|12102672| 4182702|                22|        new york-usa|        4.0|                           false|                      false|                false|           false|              false|       2|3|5|6|1|4|0|294.33|309.0|370....|USD|USD|USD|USD|U...|GDS|GDS|ESRA|ESRM...|FALSE|FALSE|FALSE...|FALSE|FALSE|FALSE...|TRUE|TRUE|TRUE|TR...|FALSE|FALSE|FALSE...|FALSE|TRUE|TRUE|T...|\n",
      "|000ddbb0-89de-400...|2019-11-04 14:34:...|   2019-11-12|    2019-11-13|20586078|  900411|                27|         detroit-usa|        4.0|                           false|                      false|                false|           false|              false|       1|0|4|2|5|6|3|282.69|278.64|314...|USD|USD|USD|USD|U...|ESRM|ESRM|ESRA|ES...|FALSE|FALSE|FALSE...|FALSE|FALSE|FALSE...|FALSE|FALSE|FALSE...|FALSE|FALSE|FALSE...|FALSE|FALSE|TRUE|...|\n",
      "+--------------------+--------------------+-------------+--------------+--------+--------+------------------+--------------------+-----------+--------------------------------+---------------------------+---------------------+----------------+-------------------+--------------------+--------------------+--------------------+--------------------+--------------------+--------------------+--------------------+--------------------+--------------------+\n",
      "only showing top 50 rows"
     ]
    }
   ],
   "source": [
    "search_hotel_df.show(50)"
   ]
  },
  {
   "cell_type": "code",
   "execution_count": 9,
   "metadata": {},
   "outputs": [
    {
     "name": "stdout",
     "output_type": "stream",
     "text": [
      "86077534"
     ]
    }
   ],
   "source": [
    "#Oct\n",
    "search_hotel_df1 = search_hotel_df.\\\n",
    "            filter(F.col(\"message_date\") > F.unix_timestamp(F.lit('2019-10-01 00:00:00')).cast('timestamp')).\\\n",
    "            filter(F.col(\"message_date\") < F.unix_timestamp(F.lit('2019-11-01 00:00:00')).cast('timestamp'))\n",
    "print(search_hotel_df1.count())"
   ]
  },
  {
   "cell_type": "code",
   "execution_count": null,
   "metadata": {},
   "outputs": [],
   "source": [
    "#Nov\n",
    "search_hotel_df1 = search_hotel_df.\\\n",
    "            filter(F.col(\"message_date\") > F.unix_timestamp(F.lit('2019-11-01 00:00:00')).cast('timestamp')).\\\n",
    "            filter(F.col(\"message_date\") < F.unix_timestamp(F.lit('2019-12-01 00:00:00')).cast('timestamp'))\n",
    "print(search_hotel_df1.count())"
   ]
  },
  {
   "cell_type": "code",
   "execution_count": 4,
   "metadata": {},
   "outputs": [
    {
     "name": "stdout",
     "output_type": "stream",
     "text": [
      "43621333"
     ]
    }
   ],
   "source": [
    "#Dec\n",
    "search_hotel_df1 = search_hotel_df.\\\n",
    "            filter(F.col(\"message_date\") > F.unix_timestamp(F.lit('2019-12-01 00:00:00')).cast('timestamp')).\\\n",
    "            filter(F.col(\"message_date\") < F.unix_timestamp(F.lit('2020-1-01 00:00:00')).cast('timestamp'))\n",
    "print(search_hotel_df1.count())"
   ]
  },
  {
   "cell_type": "code",
   "execution_count": 5,
   "metadata": {},
   "outputs": [
    {
     "name": "stdout",
     "output_type": "stream",
     "text": [
      "root\n",
      " |-- message_id: string (nullable = true)\n",
      " |-- message_date: timestamp (nullable = true)\n",
      " |-- check_in_date: date (nullable = true)\n",
      " |-- check_out_date: date (nullable = true)\n",
      " |-- tuid: integer (nullable = true)\n",
      " |-- hotel_id: integer (nullable = true)\n",
      " |-- hotel_result_index: integer (nullable = true)\n",
      " |-- city: string (nullable = true)\n",
      " |-- star_rating: string (nullable = true)\n",
      " |-- filter_want_in_policy_rates_only: boolean (nullable = true)\n",
      " |-- filter_eligible_for_loyalty: boolean (nullable = true)\n",
      " |-- filter_free_breakfast: boolean (nullable = true)\n",
      " |-- filter_free_wifi: boolean (nullable = true)\n",
      " |-- filter_free_parking: boolean (nullable = true)\n",
      " |-- rate_index: string (nullable = true)\n",
      " |-- rate_amount: string (nullable = true)\n",
      " |-- rate_currency: string (nullable = true)\n",
      " |-- rate_type: string (nullable = true)\n",
      " |-- eligible_for_loyalty: string (nullable = true)\n",
      " |-- free_breakfast: string (nullable = true)\n",
      " |-- free_wifi: string (nullable = true)\n",
      " |-- free_parking: string (nullable = true)\n",
      " |-- refundable: string (nullable = true)"
     ]
    }
   ],
   "source": [
    "search_hotel_df1.printSchema()"
   ]
  },
  {
   "cell_type": "code",
   "execution_count": 6,
   "metadata": {},
   "outputs": [
    {
     "name": "stdout",
     "output_type": "stream",
     "text": [
      "+--------------------+--------------------+-------------+--------------+--------+--------+------------------+--------------------+-----------+--------------------------------+---------------------------+---------------------+----------------+-------------------+--------------------+--------------------+--------------------+--------------------+--------------------+--------------------+--------------------+--------------------+--------------------+\n",
      "|          message_id|        message_date|check_in_date|check_out_date|    tuid|hotel_id|hotel_result_index|                city|star_rating|filter_want_in_policy_rates_only|filter_eligible_for_loyalty|filter_free_breakfast|filter_free_wifi|filter_free_parking|          rate_index|         rate_amount|       rate_currency|           rate_type|eligible_for_loyalty|      free_breakfast|           free_wifi|        free_parking|          refundable|\n",
      "+--------------------+--------------------+-------------+--------------+--------+--------+------------------+--------------------+-----------+--------------------------------+---------------------------+---------------------+----------------+-------------------+--------------------+--------------------+--------------------+--------------------+--------------------+--------------------+--------------------+--------------------+--------------------+\n",
      "|000010b4-d05f-42a...|2019-12-30 13:43:...|   2020-01-15|    2020-01-16| 7155886|   17862|                 5|  jeffersonville-usa|        3.5|                           false|                      false|                false|           false|              false|   8|3|7|5|0|2|4|1|6|159.0|129.0|139.0...|USD|USD|USD|USD|U...|ESRM|ESRA|ESRA|GD...|FALSE|FALSE|FALSE...|TRUE|FALSE|TRUE|F...|TRUE|TRUE|TRUE|TR...|TRUE|TRUE|TRUE|TR...|TRUE|TRUE|TRUE|TR...|\n",
      "|0001c8d3-52b2-4f5...|2019-12-04 09:50:...|   2020-01-14|    2020-01-17|12319088| 1418701|                24|       las vegas-usa|        4.5|                           false|                      false|                false|           false|              false|     4|0|6|3|5|7|2|1|99.0|64.35|109.0|...|USD|USD|USD|USD|U...|EPRM|ESRM|EPRM|ES...|FALSE|FALSE|FALSE...|FALSE|FALSE|FALSE...|FALSE|FALSE|FALSE...|TRUE|TRUE|TRUE|TR...|TRUE|TRUE|TRUE|TR...|\n",
      "|0002ad5e-ec15-458...|2019-12-09 11:37:...|   2020-01-16|    2020-01-17|14012931|   14604|                 4|         norwood-usa|        3.5|                           false|                      false|                false|           false|              false|6|11|0|4|3|7|1|10...|164.0|204.0|128.0...|USD|USD|USD|USD|U...|ESRA|ESRM|NEG|GDS...|FALSE|FALSE|TRUE|...|TRUE|TRUE|TRUE|FA...|TRUE|TRUE|TRUE|TR...|TRUE|TRUE|TRUE|TR...|TRUE|TRUE|TRUE|TR...|\n",
      "|0003dbf3-77bf-463...|2019-12-05 02:30:...|   2020-01-16|    2020-01-17|17281928|23533492|                29|          sceaux-fra|        0.0|                           false|                      false|                false|           false|              false|               0|2|1| 111.93|123.33|119.0|         EUR|EUR|EUR|      ESRM|ESRM|ESRA|   FALSE|FALSE|FALSE|      TRUE|TRUE|TRUE|      TRUE|TRUE|TRUE|   FALSE|FALSE|FALSE|     FALSE|TRUE|TRUE|\n",
      "|00071382-5700-4d6...|2019-12-09 08:39:...|   2019-12-10|    2019-12-11| 5239353|  182484|                19|      manchester-gbr|        3.0|                           false|                      false|                false|           false|              false| 1|3|4|8|0|6|7|5|9|2|62.83|64.0|64.0|8...|GBP|GBP|GBP|GBP|G...|EPRM|GDS|GDS|ESRM...|FALSE|FALSE|FALSE...|TRUE|FALSE|FALSE|...|TRUE|TRUE|TRUE|TR...|FALSE|FALSE|FALSE...|TRUE|FALSE|FALSE|...|\n",
      "|00082e62-fca6-418...|2019-12-02 00:34:...|   2019-12-09|    2019-12-11|12022149|   14489|                 3|    kuala lumpur-mys|        5.0|                           false|                      false|                false|           false|              false|5|10|3|11|0|7|1|6...|647.52|1026.4|619...|DKK|DKK|DKK|DKK|D...|ESRM|ESRM|ESRM|ES...|FALSE|FALSE|FALSE...|TRUE|TRUE|TRUE|TR...|TRUE|TRUE|TRUE|TR...|FALSE|FALSE|FALSE...|TRUE|TRUE|TRUE|TR...|\n",
      "|00084b38-c56a-4ad...|2019-12-21 23:50:...|   2020-01-08|    2020-01-09|14899274|32795104|                18|           dubai-are|        0.0|                           false|                      false|                false|           false|              false|                   0|             10804.5|                 AED|                ESRM|               FALSE|               FALSE|                TRUE|                TRUE|               FALSE|\n",
      "|000be1e3-aad6-466...|2019-12-02 03:39:...|   2019-12-09|    2019-12-10|18118511| 7985763|                11|           essen-deu|        3.0|                           false|                      false|                 true|           false|              false|         4|5|2|3|0|1|119.0|139.0|109.0...|EUR|EUR|EUR|EUR|E...|ESRA|ESRA|GDS|ESR...|FALSE|FALSE|FALSE...|TRUE|TRUE|TRUE|TR...|TRUE|TRUE|TRUE|TR...|TRUE|TRUE|TRUE|TR...|TRUE|TRUE|TRUE|TR...|\n",
      "|000d6d22-07e1-4b4...|2019-12-23 04:48:...|   2020-01-06|    2020-01-08| 4732116| 1183784|                17|          pessac-fra|        4.0|                           false|                      false|                false|           false|              false|             3|1|0|2|127.9|107.22|91.8...|     EUR|EUR|EUR|EUR| ESRM|ESRM|ESRM|ESRM|FALSE|FALSE|FALSE...|TRUE|FALSE|FALSE|...| TRUE|TRUE|TRUE|TRUE| TRUE|TRUE|TRUE|TRUE|FALSE|FALSE|FALSE...|\n",
      "|000e68c1-9973-4d4...|2019-12-04 11:40:...|   2020-01-20|    2020-01-22| 9796932| 1631412|                 3|           tokyo-jpn|        5.0|                           false|                      false|                false|           false|              false|               0|2|1|4784.75|5663.86|4...|         DKK|DKK|DKK|      ESRA|ESRA|ESRA|   FALSE|FALSE|FALSE|    FALSE|TRUE|FALSE|      TRUE|TRUE|TRUE|   FALSE|FALSE|FALSE|      TRUE|TRUE|TRUE|\n",
      "|000f31ac-d71d-468...|2019-12-01 09:37:...|   2020-01-04|    2020-01-05|19032737|  880227|                28|     jersey city-usa|        4.0|                           false|                      false|                false|           false|              false|8|1|11|9|7|3|2|0|...|169.0|160.55|219....|USD|USD|USD|USD|U...|GDS|ESRM|EPRM|ESR...|TRUE|FALSE|TRUE|F...|FALSE|FALSE|FALSE...|TRUE|TRUE|TRUE|TR...|FALSE|FALSE|FALSE...|TRUE|FALSE|TRUE|F...|\n",
      "|000fcee2-8efc-4a0...|2019-12-03 08:37:...|   2019-12-04|    2019-12-06|18893190|   20547|                11|   san francisco-usa|        3.5|                           false|                      false|                false|           false|              false|0|1|10|5|11|3|2|6...|339.07|339.07|413...|CAD|CAD|CAD|CAD|C...|ESRM|ESRM|ESRM|ES...|FALSE|FALSE|FALSE...|FALSE|FALSE|FALSE...|TRUE|TRUE|TRUE|TR...|FALSE|FALSE|FALSE...|FALSE|FALSE|TRUE|...|\n",
      "|000fd515-66ee-49a...|2019-12-09 01:55:...|   2019-12-17|    2019-12-20| 3908212|  901211|                 1|saint-ouen-l'aumo...|        3.0|                           false|                      false|                false|           false|              false|           2|0|4|3|1|72.75|71.0|73.57|...| EUR|EUR|EUR|EUR|EUR|GDS|ESRA|ESRM|ESR...|TRUE|FALSE|FALSE|...|FALSE|FALSE|FALSE...|TRUE|TRUE|TRUE|TR...|TRUE|TRUE|TRUE|TR...|TRUE|TRUE|TRUE|TR...|\n",
      "|0010e0b4-a5d6-41e...|2019-12-04 20:19:...|   2019-12-07|    2019-12-11| 7755908| 1037700|                27| north highlands-usa|        2.0|                           false|                      false|                false|           false|              false|     0|4|7|1|2|3|5|6|63.13|67.09|70.15...|USD|USD|USD|USD|U...|EPRM|EPRM|ESRA|EP...|TRUE|TRUE|FALSE|T...|FALSE|FALSE|FALSE...|TRUE|TRUE|TRUE|TR...|TRUE|TRUE|TRUE|TR...|TRUE|TRUE|TRUE|TR...|\n",
      "|0013292b-8563-47b...|2019-12-19 12:34:...|   2019-12-19|    2019-12-20|18172281| 2774547|                 0|       princeton-usa|        3.0|                           false|                      false|                false|           false|              false|2|9|3|1|0|7|4|10|...|90.48|98.1|90.48|...|USD|USD|USD|USD|U...|ESRM|EPRM|ESRA|ES...|FALSE|TRUE|FALSE|...|TRUE|TRUE|TRUE|TR...|TRUE|TRUE|TRUE|TR...|TRUE|TRUE|TRUE|TR...|TRUE|TRUE|TRUE|TR...|\n",
      "|00145eed-808f-45b...|2019-12-31 18:27:...|   2020-02-14|    2020-02-15|15175299|    7655|                27|       san bruno-usa|        3.0|                           false|                      false|                false|           false|              false|   1|6|7|0|2|5|8|3|4|292.07|323.07|346...|SGD|SGD|SGD|SGD|S...|ESRM|ESRM|ESRM|ES...|FALSE|FALSE|FALSE...|TRUE|TRUE|TRUE|TR...|TRUE|TRUE|TRUE|TR...|TRUE|TRUE|TRUE|TR...|FALSE|TRUE|TRUE|F...|\n",
      "|00148095-b206-44b...|2019-12-03 04:26:...|   2020-01-22|    2020-01-23|17291108| 6521882|                26|          london-gbr|        4.0|                           false|                      false|                false|           false|              false|10|9|7|5|1|8|6|11...|148.93|111.93|100...|EUR|EUR|EUR|EUR|E...|EPRM|EPRM|ESRA|EP...|FALSE|FALSE|FALSE...|TRUE|TRUE|TRUE|FA...|TRUE|TRUE|TRUE|TR...|FALSE|FALSE|FALSE...|TRUE|TRUE|TRUE|TR...|\n",
      "|00151f47-34fa-41d...|2019-12-10 02:26:...|   2020-01-23|    2020-01-24| 9803149|   16979|                16|          munich-deu|        3.5|                           false|                      false|                false|           false|              false|               1|0|2|      89.0|79.0|95.0|         EUR|EUR|EUR|      ESRA|ESRA|ESRA|   FALSE|FALSE|FALSE|    FALSE|FALSE|TRUE|      TRUE|TRUE|TRUE|   FALSE|FALSE|FALSE|      TRUE|TRUE|TRUE|\n",
      "|00166dda-278c-4fe...|2019-12-20 07:05:...|   2020-02-23|    2020-02-28| 7578288|  856832|                13|      scottsdale-usa|        3.5|                           false|                      false|                false|           false|              false|                   0|               259.0|                 USD|                ESRM|               FALSE|               FALSE|                TRUE|                TRUE|                TRUE|\n",
      "|00168e5d-fd7b-428...|2019-12-11 05:16:...|   2020-01-29|    2020-01-30|16582861|  525613|                25|   hisings backa-swe|        4.0|                           false|                      false|                false|           false|              false|   6|0|1|5|8|3|4|7|2|1759.0|1583.0|158...|SEK|SEK|SEK|SEK|S...|GDS|ESRM|ESRM|GDS...|TRUE|FALSE|FALSE|...|TRUE|TRUE|TRUE|TR...|TRUE|TRUE|TRUE|TR...|TRUE|TRUE|TRUE|TR...|TRUE|FALSE|FALSE|...|\n",
      "|0017189d-c0cc-464...|2019-12-29 17:43:...|   2020-01-08|    2020-01-09| 7768208|   17725|                24|           paris-fra|        4.0|                           false|                      false|                false|           false|              false|   5|1|3|0|8|4|7|6|2|214.0|170.55|199....|EUR|EUR|EUR|EUR|E...|ESRA|ESRM|ESRA|ES...|FALSE|FALSE|FALSE...|FALSE|FALSE|FALSE...|TRUE|TRUE|TRUE|TR...|FALSE|FALSE|FALSE...|TRUE|FALSE|TRUE|F...|\n",
      "|00183290-4bd6-41e...|2019-12-27 06:41:...|   2020-01-02|    2020-01-07|19682553|   50957|                20|         el paso-usa|        2.5|                           false|                      false|                false|           false|              false|   7|1|0|2|8|3|4|5|6|66.6|56.6|56.6|56...|USD|USD|USD|USD|U...|EPRM|EPRM|EPRM|EP...|TRUE|TRUE|TRUE|TR...|TRUE|TRUE|TRUE|TR...|TRUE|TRUE|TRUE|TR...|TRUE|TRUE|TRUE|TR...|TRUE|TRUE|TRUE|TR...|\n",
      "|0018efc7-5143-420...|2019-12-05 07:01:...|   2019-12-09|    2019-12-11|12725196| 1112219|                23|       troisdorf-deu|        3.0|                           false|                      false|                false|           false|              false|                   0|                94.1|                 EUR|                 GDS|               FALSE|                TRUE|                TRUE|               FALSE|                TRUE|\n",
      "|001a4ae0-0580-432...|2019-12-11 04:25:...|   2019-12-11|    2019-12-12|20112206|  889939|                12|         orlando-usa|        4.0|                           false|                      false|                false|           false|              false|         0|2|4|5|1|3|95.92|113.52|126....|USD|USD|USD|USD|U...|ESRM|ESRM|ESRM|ES...|FALSE|FALSE|FALSE...|FALSE|TRUE|TRUE|T...|TRUE|TRUE|TRUE|TR...|FALSE|FALSE|FALSE...|FALSE|FALSE|FALSE...|\n",
      "|001fabbd-e441-44d...|2019-12-18 02:06:...|   2020-04-19|    2020-04-25|12929962|  481565|                22|    st. julian's-mlt|        5.0|                           false|                      false|                false|           false|              false|     4|1|5|2|6|7|3|0|2673.61|2255.31|1...|SEK|SEK|SEK|SEK|S...|GDS|GDS|ESRM|ESRM...|TRUE|TRUE|FALSE|F...|FALSE|FALSE|TRUE|...|TRUE|TRUE|TRUE|TR...|FALSE|FALSE|FALSE...|TRUE|TRUE|FALSE|F...|\n",
      "|001ff5df-3351-429...|2019-12-09 18:53:...|   2019-12-11|    2019-12-12|20352801|   15215|                 6|           tokyo-jpn|        4.5|                           false|                      false|                false|           false|              false|   8|1|7|3|2|6|4|5|0|375.04|345.81|375...|SGD|SGD|SGD|SGD|S...|ESRM|ESRM|ESRM|ES...|FALSE|FALSE|FALSE...|FALSE|FALSE|FALSE...|TRUE|TRUE|TRUE|TR...|FALSE|FALSE|FALSE...|TRUE|TRUE|TRUE|TR...|\n",
      "|002026ef-3212-4b9...|2019-12-23 08:49:...|   2019-12-23|    2019-12-24|16994561| 1742866|                24|      texas city-usa|        2.5|                           false|                      false|                false|           false|              false|           1|0|4|3|2|94.0|84.0|104.0|1...| USD|USD|USD|USD|USD|ESRM|ESRM|ESRM|ES...|FALSE|FALSE|FALSE...|TRUE|TRUE|TRUE|TR...|TRUE|TRUE|TRUE|TR...|TRUE|TRUE|TRUE|TR...|FALSE|FALSE|FALSE...|\n",
      "|0024fed8-bc78-4e2...|2019-12-27 04:40:...|   2020-01-20|    2020-01-21|21596091|  578613|                17|         glasgow-gbr|        4.0|                           false|                      false|                 true|           false|              false|         2|0|5|3|4|1|84.19|70.42|103.7...|GBP|GBP|GBP|GBP|G...|ESRM|ESRM|ESRM|ES...|FALSE|FALSE|FALSE...|TRUE|TRUE|TRUE|TR...|TRUE|TRUE|TRUE|TR...|FALSE|FALSE|FALSE...|FALSE|FALSE|TRUE|...|\n",
      "|002893cb-3a31-46a...|2019-12-06 09:02:...|   2019-12-16|    2019-12-19| 7791147|11785607|                25|          london-gbr|         \\N|                           false|                      false|                false|           false|              false|           4|1|0|2|3|179.82|160.77|150...| GBP|GBP|GBP|GBP|GBP| GDS|NEG|NEG|NEG|GDS|FALSE|FALSE|FALSE...|TRUE|TRUE|FALSE|T...|FALSE|FALSE|FALSE...|FALSE|FALSE|FALSE...|TRUE|TRUE|TRUE|FA...|\n",
      "|002a0fba-eec2-46a...|2019-12-30 12:48:...|   2020-01-06|    2020-01-09|14070472|   22233|                20|      naperville-usa|        3.5|                           false|                      false|                false|           false|              false|         3|1|4|5|2|0|185.67|185.67|185...|USD|USD|USD|USD|U...|ESRA|ESRM|GDS|ESR...|FALSE|FALSE|TRUE|...|FALSE|FALSE|FALSE...|FALSE|FALSE|FALSE...|TRUE|TRUE|TRUE|TR...|TRUE|TRUE|TRUE|TR...|\n",
      "|002a312e-a744-4a9...|2019-12-10 12:10:...|   2020-01-11|    2020-01-12|20309934|  692267|                21|            lyon-fra|        4.0|                           false|                      false|                false|           false|              false|   3|4|7|6|0|2|1|8|5|149.87|162.95|203...|USD|USD|USD|USD|U...|ESRA|ESRA|ESRM|GD...|FALSE|FALSE|FALSE...|FALSE|TRUE|TRUE|F...|TRUE|TRUE|TRUE|TR...|FALSE|FALSE|FALSE...|TRUE|TRUE|TRUE|TR...|\n",
      "|002cf749-a8da-432...|2019-12-03 08:19:...|   2019-12-03|    2019-12-04|20224891|   11427|                 3|   wolverhampton-gbr|        3.0|                           false|                      false|                false|           false|              false|               0|1|2|  132.6|144.84|158.0|         GBP|GBP|GBP|       ESRM|ESRM|GDS|    FALSE|FALSE|TRUE|     FALSE|TRUE|TRUE|      TRUE|TRUE|TRUE|   FALSE|FALSE|FALSE|   FALSE|FALSE|FALSE|\n",
      "|003150d0-680f-40f...|2019-12-26 18:43:...|   2020-02-27|    2020-02-29|10676276|   11826|                18|         madison-usa|        2.5|                           false|                      false|                false|           false|              false|14|8|5|12|2|6|9|4...|97.91|95.04|88.11...|USD|USD|USD|USD|U...|EPRA|ESRM|ESRA|EP...|TRUE|FALSE|FALSE|...|TRUE|TRUE|TRUE|TR...|TRUE|TRUE|TRUE|TR...|TRUE|TRUE|TRUE|TR...|TRUE|FALSE|TRUE|T...|\n",
      "|003271ff-3a99-4fe...|2019-12-19 03:53:...|   2020-01-14|    2020-01-16|12356487| 1197300|                 2|     hattersheim-deu|        3.5|                           false|                      false|                false|           false|              false|       5|6|4|0|3|2|1|93.45|97.9|78.64|...|EUR|EUR|EUR|EUR|E...|GDS|GDS|ESRA|ESRM...|FALSE|FALSE|FALSE...|TRUE|TRUE|TRUE|TR...|TRUE|TRUE|TRUE|TR...|FALSE|FALSE|TRUE|...|TRUE|TRUE|TRUE|FA...|\n",
      "|00338491-a1fe-4fd...|2019-12-02 19:54:...|   2020-01-17|    2020-01-21| 9100794|   45857|                25|            rome-ita|        5.0|                           false|                      false|                false|           false|              false|2|7|4|5|10|0|9|3|...|243.7|255.84|248....|USD|USD|USD|USD|U...|ESRM|ESRA|ESRA|ES...|FALSE|FALSE|FALSE...|FALSE|FALSE|FALSE...|TRUE|TRUE|TRUE|TR...|FALSE|FALSE|FALSE...|FALSE|TRUE|TRUE|F...|\n",
      "|0033b18d-93a5-44a...|2019-12-25 05:11:...|   2020-01-08|    2020-01-09| 7768208|   53388|                18| aix-en-provence-fra|        4.0|                           false|                      false|                false|           false|              false|0|10|9|2|1|8|7|5|...|135.0|169.66|163....|EUR|EUR|EUR|EUR|E...|ESRA|EPRM|ESRM|ES...|FALSE|FALSE|FALSE...|FALSE|TRUE|TRUE|F...|TRUE|TRUE|TRUE|TR...|TRUE|TRUE|TRUE|TR...|TRUE|FALSE|TRUE|T...|\n",
      "|0034f251-d570-499...|2019-12-09 16:49:...|   2019-12-09|    2019-12-10|21053110|    3008|                26|      northbrook-usa|        4.0|                           false|                      false|                false|           false|              false|       2|6|5|0|1|3|4|169.0|206.0|169.0...|USD|USD|USD|USD|U...|ESRM|ESRM|GDS|ESR...|FALSE|FALSE|TRUE|...|FALSE|FALSE|FALSE...|FALSE|FALSE|FALSE...|TRUE|TRUE|TRUE|TR...|FALSE|FALSE|FALSE...|\n",
      "|003606d3-3907-4ab...|2019-12-29 17:22:...|   2020-01-05|    2020-01-09|20494150| 7861136|                 7|       hong kong-hkg|        3.0|                           false|                      false|                false|           false|              false|                   0|              100.34|                 SGD|                ESRM|               FALSE|               FALSE|                TRUE|               FALSE|                TRUE|\n",
      "|0036163c-6e05-49b...|2019-12-01 12:53:...|   2019-12-11|    2019-12-13| 6831111|  569339|                11|  kongens lyngby-dnk|        3.5|                           false|                      false|                false|           false|              false|6|9|12|4|2|13|3|1...|1795.0|1945.0|205...|DKK|DKK|DKK|DKK|D...|ESRA|EPRA|EPRA|EP...|FALSE|TRUE|TRUE|T...|TRUE|TRUE|TRUE|TR...|TRUE|TRUE|TRUE|TR...|TRUE|TRUE|TRUE|TR...|TRUE|TRUE|TRUE|TR...|\n",
      "|003a1981-15cc-4ec...|2019-12-20 04:30:...|   2020-02-18|    2020-02-21|12040431|  804984|                15|         orlando-usa|        4.0|                           false|                      false|                false|           false|              false|4|0|3|1|5|9|2|8|1...|89.12|76.16|87.87...|GBP|GBP|GBP|GBP|G...|EPRM|ESRM|ESRM|ES...|FALSE|FALSE|FALSE...|FALSE|FALSE|FALSE...|TRUE|TRUE|TRUE|TR...|TRUE|TRUE|TRUE|TR...|TRUE|TRUE|TRUE|TR...|\n",
      "|003b94f3-232b-48b...|2019-12-27 09:23:...|   2020-01-12|    2020-01-14|10986451|   18352|                29|        new york-usa|        4.0|                           false|                      false|                false|           false|              false|8|10|11|12|13|6|7...|155.73|216.63|216...|USD|USD|USD|USD|U...|EPRA|EPRM|EPRA|ES...|FALSE|FALSE|FALSE...|FALSE|FALSE|FALSE...|FALSE|FALSE|FALSE...|FALSE|FALSE|FALSE...|TRUE|TRUE|TRUE|TR...|\n",
      "|003d01ce-4585-47d...|2019-12-22 19:32:...|   2020-01-26|    2020-01-31|12547808|  856888|                10|south san francis...|        2.5|                           false|                      false|                false|           false|              false|               1|0|2|283.97|283.97|299.11|         AUD|AUD|AUD|      ESRM|ESRM|ESRM|   FALSE|FALSE|FALSE|      TRUE|TRUE|TRUE|      TRUE|TRUE|TRUE|   FALSE|FALSE|FALSE|   FALSE|FALSE|FALSE|\n",
      "|003df44d-88b2-4ba...|2019-12-02 11:44:...|   2020-01-08|    2020-01-09| 1895786|  203613|                 6|       las vegas-usa|        4.5|                           false|                      false|                false|           false|              false|               1|2|0|   548.1|584.1|539.1|         USD|USD|USD|      EPRM|EPRM|EPRM|   FALSE|FALSE|FALSE|   FALSE|FALSE|FALSE|   FALSE|FALSE|FALSE|   FALSE|FALSE|FALSE|      TRUE|TRUE|TRUE|\n",
      "|003edac5-c8be-467...|2019-12-05 01:54:...|   2020-01-06|    2020-01-23|13584312| 1069026|                27|      gothenburg-swe|        4.0|                           false|                      false|                false|           false|              false| 9|5|2|0|4|3|1|6|7|8|1904.94|1566.12|1...|SEK|SEK|SEK|SEK|S...|EPRM|EPRA|EPRM|ES...|TRUE|TRUE|TRUE|FA...|TRUE|TRUE|TRUE|TR...|TRUE|TRUE|TRUE|FA...|FALSE|FALSE|FALSE...|TRUE|TRUE|TRUE|FA...|\n",
      "|0042a045-3743-409...|2019-12-03 14:00:...|   2020-01-07|    2020-01-08|10116251|   22174|                12|         forsyth-usa|        2.5|                           false|                      false|                false|           false|              false|   5|8|2|4|0|3|6|1|7|80.1|95.04|80.1|8...|USD|USD|USD|USD|U...|GDS|ESRM|ESRM|GDS...|TRUE|FALSE|FALSE|...|TRUE|TRUE|TRUE|TR...|TRUE|TRUE|TRUE|TR...|TRUE|TRUE|TRUE|TR...|TRUE|TRUE|FALSE|T...|\n",
      "|0043a162-d37d-405...|2019-12-23 08:15:...|   2020-02-02|    2020-02-07|15215635|   34880|                27|        new york-usa|        4.5|                           false|                      false|                false|           false|              false|   7|6|0|2|3|4|1|5|8|297.61|242.15|186...|EUR|EUR|EUR|EUR|E...|EPRM|EPRA|EPRM|GD...|FALSE|FALSE|FALSE...|FALSE|FALSE|FALSE...|FALSE|FALSE|FALSE...|FALSE|FALSE|FALSE...|TRUE|TRUE|TRUE|TR...|\n",
      "|00446d82-7701-432...|2019-12-10 03:00:...|   2020-01-15|    2020-01-16| 7291977|10004331|                27|       montrouge-fra|        0.0|                           false|                      false|                false|           false|              false|1|2|12|11|7|10|3|...|117.0|125.0|235.1...|EUR|EUR|EUR|EUR|E...|GDS|GDS|EPRM|EPRM...|FALSE|FALSE|FALSE...|FALSE|TRUE|TRUE|T...|TRUE|TRUE|TRUE|TR...|FALSE|FALSE|FALSE...|TRUE|TRUE|TRUE|FA...|\n",
      "|0044d952-33e2-4bf...|2019-12-03 06:20:...|   2019-12-16|    2019-12-17| 4010998| 1717689|                28|          krakow-pol|        3.0|                           false|                      false|                false|           false|              false|         3|1|4|5|0|2|97.73|81.64|116.6...|EUR|EUR|EUR|EUR|E...|ESRA|ESRA|ESRM|ES...|FALSE|FALSE|FALSE...|TRUE|TRUE|TRUE|TR...|TRUE|TRUE|TRUE|TR...|FALSE|FALSE|FALSE...|TRUE|TRUE|TRUE|TR...|\n",
      "|0044e284-7e9f-46c...|2019-12-07 12:20:...|   2020-02-13|    2020-02-18| 7330208|  852937|                11|       las vegas-usa|        3.5|                           false|                      false|                false|           false|              false|           3|1|2|4|0|133.0|132.0|132.0...| USD|USD|USD|USD|USD|ESRM|ESRM|ESRM|ES...|FALSE|FALSE|FALSE...|FALSE|FALSE|FALSE...|TRUE|TRUE|TRUE|TR...|TRUE|TRUE|TRUE|TR...|TRUE|TRUE|TRUE|TR...|\n",
      "|00479003-9c02-4d1...|2019-12-18 23:41:...|   2020-01-22|    2020-01-24|21037994|32908659|                16|          aachen-deu|        3.0|                           false|                      false|                false|           false|              false|             3|1|2|0| 77.0|60.0|64.5|56.0|     EUR|EUR|EUR|EUR| ESRM|ESRM|ESRM|ESRM|FALSE|FALSE|FALSE...|TRUE|FALSE|TRUE|F...| TRUE|TRUE|TRUE|TRUE|FALSE|FALSE|FALSE...| TRUE|TRUE|TRUE|TRUE|\n",
      "+--------------------+--------------------+-------------+--------------+--------+--------+------------------+--------------------+-----------+--------------------------------+---------------------------+---------------------+----------------+-------------------+--------------------+--------------------+--------------------+--------------------+--------------------+--------------------+--------------------+--------------------+--------------------+\n",
      "only showing top 50 rows"
     ]
    }
   ],
   "source": [
    "search_hotel_df1.show(50)"
   ]
  },
  {
   "cell_type": "code",
   "execution_count": 7,
   "metadata": {},
   "outputs": [],
   "source": [
    "dir = 's3://ege-ds-workshops-corp/yixli/'\n",
    "\n",
    "datestamp = datetime.datetime.now().strftime('%m-%d-%Y')\n",
    "search_hotel_df1.repartition(1).write.format('com.databricks.spark.csv').mode('overwrite')\\\n",
    ".save(dir+'search_amentity_2019_12.csv',header = 'true')"
   ]
  },
  {
   "cell_type": "code",
   "execution_count": 8,
   "metadata": {},
   "outputs": [],
   "source": [
    "search_schema = T.StructType([\n",
    "    T.StructField(\"message_id\", T.StringType(), True),                                  #1                \n",
    "    T.StructField(\"message_date\", T.TimestampType(), True),                                  #2                               #1                \n",
    "    T.StructField(\"check_in_date\", T.DateType(), True),                                 #3\n",
    "    T.StructField(\"check_out_date\", T.DateType(), True),                                #4\n",
    "    T.StructField(\"tuid\", T.IntegerType(), True),                                       #5\n",
    "    T.StructField(\"hotel_id\", T.IntegerType(), True),                                   #6 \n",
    "     T.StructField(\"hotel_result_index\", T.IntegerType(), True),                                   #6 \n",
    "     T.StructField(\"city\", T.StringType(), True),           #9                               \n",
    "     T.StructField(\"star_rating\", T.StringType(), True),           #9                               \n",
    "    T.StructField(\"filter_want_in_policy_rates_only\", T.BooleanType(), True),           #9    \n",
    "    T.StructField(\"filter_eligible_for_loyalty\", T.BooleanType(), True),                #10 \n",
    "    T.StructField(\"filter_free_breakfast\", T.BooleanType(), True),                      #11\n",
    "    T.StructField(\"filter_free_wifi\", T.BooleanType(), True),                           #12    \n",
    "    T.StructField(\"filter_free_parking\", T.BooleanType(), True),                        #13\n",
    "    T.StructField(\"rate_index\", T.StringType(), True),                                      #14\n",
    "    T.StructField(\"rate_amount\", T.StringType(), True),                                     #15\n",
    "    T.StructField(\"rate_currency\", T.StringType(), True),                                   #16\n",
    "    T.StructField(\"rate_type\", T.StringType(), True),                                       #17\n",
    "    T.StructField(\"eligible_for_loyalty\", T.StringType(), True),                            #20\n",
    "    T.StructField(\"free_breakfast\", T.StringType(), True),                                  #21\n",
    "    T.StructField(\"free_wifi\", T.StringType(), True),                                       #22\n",
    "    T.StructField(\"free_parking\", T.StringType(), True),                                    #23\n",
    "    T.StructField(\"refundable\", T.StringType(), True)                                       #24\n",
    "])"
   ]
  },
  {
   "cell_type": "code",
   "execution_count": 9,
   "metadata": {},
   "outputs": [
    {
     "name": "stdout",
     "output_type": "stream",
     "text": [
      "Collecting search the data...\n",
      "43621068"
     ]
    }
   ],
   "source": [
    "file_loc = \"s3://ege-ds-workshops-corp/yixli/search_amentity_2019_12.csv\"\n",
    "print(\"Collecting search the data...\")\n",
    "search_hotel_df1 = sqlContext.read.format('csv').\\\n",
    "             options(header='false', inferSchema='false', delimiter=',').\\\n",
    "            schema(search_schema).load(file_loc)\n",
    "\n",
    "\n",
    "search_hotel_df1 = search_hotel_df1.\\\n",
    "            filter(F.col(\"hotel_id\")>0).\\\n",
    "            filter(F.col('rate_amount').isNotNull())\n",
    "print(search_hotel_df1.count())"
   ]
  },
  {
   "cell_type": "code",
   "execution_count": 10,
   "metadata": {},
   "outputs": [],
   "source": [
    "combine = F.udf(lambda x1,x2,x3,x4,x5,x6,x7,x8,x9: list(zip(x1,x2,x3,x4,x5,x6,x7,x8,x9)),             \n",
    "              T.ArrayType(T.StructType([T.StructField(\"rate_index_a\", T.StringType()),                                      #1\n",
    "                                    T.StructField(\"rate_amount_a\", T.StringType()),                                         #2\n",
    "                                    T.StructField(\"rate_currency_a\", T.StringType()),                                   #3\n",
    "                                    T.StructField(\"rate_type_a\", T.StringType()),                                       #4\n",
    "                                   # T.StructField(\"hot_mip_rate_a\", T.StringType()),                                       #4\n",
    "                                    T.StructField(\"eligible_for_loyalty_a\", T.StringType()),                            #7\n",
    "                                    T.StructField(\"free_breakfast_a\", T.StringType()),                                  #8\n",
    "                                    T.StructField(\"free_wifi_a\", T.StringType()),                                       #9\n",
    "                                    T.StructField(\"free_parking_a\", T.StringType()),                                    #10\n",
    "                                    T.StructField(\"refundable_a\", T.StringType()),                                    #10\n",
    "                                    ])))"
   ]
  },
  {
   "cell_type": "code",
   "execution_count": 11,
   "metadata": {},
   "outputs": [],
   "source": [
    "search_df1= search_hotel_df1.\\\n",
    "    withColumn(\"rate_index_a\", F.split(F.col(\"rate_index\"),\"\\|\")).\\\n",
    "    withColumn(\"rate_amount_a\", F.split(F.col(\"rate_amount\"),\"\\|\")).\\\n",
    "    withColumn(\"rate_currency_a\", F.split(F.col(\"rate_currency\"),\"\\|\")).\\\n",
    "    withColumn(\"rate_type_a\", F.split(F.col(\"rate_type\"),\"\\|\")).\\\n",
    "    withColumn(\"eligible_for_loyalty_a\", F.split(F.col(\"eligible_for_loyalty\"),\"\\|\")).\\\n",
    "    withColumn(\"free_breakfast_a\", F.split(F.col(\"free_breakfast\"),\"\\|\")).\\\n",
    "    withColumn(\"free_wifi_a\", F.split(F.col(\"free_wifi\"),\"\\|\")).\\\n",
    "    withColumn(\"free_parking_a\", F.split(F.col(\"free_parking\"),\"\\|\")).\\\n",
    "    withColumn(\"refundable_a\", F.split(F.col(\"refundable\"),\"\\|\")).\\\n",
    "    withColumn(\"e\", combine(\"rate_index_a\", \"rate_amount_a\",\"rate_currency_a\",\"rate_type_a\",\\\n",
    "                \"eligible_for_loyalty_a\",\"free_breakfast_a\",\"free_wifi_a\",\"free_parking_a\",\"refundable_a\")).\\\n",
    "    withColumn(\"e\",F.explode(\"e\")).\\\n",
    "    select(\"message_id\",\"message_date\",\"check_in_date\",\"check_out_date\",\"hotel_id\",\"hotel_result_index\",\"tuid\",\"city\",\"star_rating\", \"filter_want_in_policy_rates_only\",\\\n",
    "            \"filter_eligible_for_loyalty\", \"filter_free_breakfast\", \"filter_free_wifi\", \"filter_free_parking\",\\\n",
    "        F.col(\"e.rate_index_a\").alias(\"rate_index\"),\\\n",
    "        F.col(\"e.rate_amount_a\").alias(\"rate_amount\"),\\\n",
    "        F.col(\"e.rate_currency_a\").alias(\"rate_currency\"),\\\n",
    "        F.col(\"e.rate_type_a\").alias(\"rate_type\"),\\\n",
    "        F.col(\"e.eligible_for_loyalty_a\").alias(\"eligible_for_loyalty\"),\\\n",
    "        F.col(\"e.free_breakfast_a\").alias(\"free_breakfast\"),\\\n",
    "        F.col(\"e.free_wifi_a\").alias(\"free_wifi\"),\\\n",
    "        F.col(\"e.free_parking_a\").alias(\"free_parking\"),\\\n",
    "        F.col(\"e.refundable_a\").alias(\"refundable\"))"
   ]
  },
  {
   "cell_type": "code",
   "execution_count": 12,
   "metadata": {},
   "outputs": [],
   "source": [
    "search_df1 = search_df1.\\\n",
    "            withColumn(\"rate_index\", search_df1.rate_index.cast(\"integer\")).\\\n",
    "            withColumn(\"rate_amount\", search_df1.rate_amount.cast(\"float\")).\\\n",
    "            withColumn(\"eligible_for_loyalty\", search_df1.eligible_for_loyalty.cast(\"boolean\")).\\\n",
    "            withColumn(\"free_breakfast\", search_df1.free_breakfast.cast(\"boolean\")).\\\n",
    "            withColumn(\"free_wifi\", search_df1.free_wifi.cast(\"boolean\")).\\\n",
    "            withColumn(\"free_parking\", search_df1.free_parking.cast(\"boolean\")).\\\n",
    "            withColumn(\"refundable\", search_df1.refundable.cast(\"boolean\"))"
   ]
  },
  {
   "cell_type": "code",
   "execution_count": 13,
   "metadata": {},
   "outputs": [
    {
     "name": "stdout",
     "output_type": "stream",
     "text": [
      "307581772"
     ]
    }
   ],
   "source": [
    "search_df1.count()"
   ]
  },
  {
   "cell_type": "code",
   "execution_count": 14,
   "metadata": {},
   "outputs": [],
   "source": [
    "search_df1 = search_df1.filter(F.col('rate_type').isin('EPRA','EPRM','ESRM','ESRA','GDS','NEG'))"
   ]
  },
  {
   "cell_type": "code",
   "execution_count": 15,
   "metadata": {},
   "outputs": [],
   "source": [
    "dir = 's3://ege-ds-workshops-corp/yixli/data_understanding/'\n",
    "\n",
    "datestamp = datetime.datetime.now().strftime('%m-%d-%Y')\n",
    "search_df1.repartition(1).write.format('com.databricks.spark.csv').mode('overwrite')\\\n",
    ".save(dir+datestamp+'_search_amentity_2019_12_df.csv',header = 'true')"
   ]
  },
  {
   "cell_type": "code",
   "execution_count": 16,
   "metadata": {},
   "outputs": [
    {
     "name": "stdout",
     "output_type": "stream",
     "text": [
      "Collecting search the data...\n",
      "307581772"
     ]
    }
   ],
   "source": [
    "#file_loc = \"s3://ege-ds-workshops-corp/yixli/data_understanding/09-21-2020_search_amentity_2019_10_df.csv\"\n",
    "file_loc = \"s3://ege-ds-workshops-corp/yixli/data_understanding/09-24-2020_search_amentity_2019_12_df.csv\"\n",
    "\n",
    "print(\"Collecting search the data...\")\n",
    "search_df1 = sqlContext.read.format('csv').\\\n",
    "            options(header='true', inferSchema='true', delimiter=',').\\\n",
    "           load(file_loc)\n",
    "\n",
    "\n",
    "search_df1 = search_df1.\\\n",
    "            filter(F.col(\"hotel_id\")>0).\\\n",
    "            filter(F.col(\"rate_amount\").isNotNull())\n",
    "print(search_df1.count())"
   ]
  },
  {
   "cell_type": "code",
   "execution_count": 17,
   "metadata": {},
   "outputs": [],
   "source": [
    "search_schema = T.StructType([\n",
    "    T.StructField(\"message_id\", T.StringType(), True),                  #1\n",
    "    T.StructField(\"message_date\", T.TimestampType(), True),             #2\n",
    "    T.StructField(\"check_in_date\", T.DateType(), True),                 #3\n",
    "    T.StructField(\"check_out_date\", T.DateType(), True),                #4\n",
    "    T.StructField(\"tuid\", T.IntegerType(), True),                       #5\n",
    "    T.StructField(\"hotel_id\", T.IntegerType(), True),                   #6 \n",
    "    T.StructField(\"hotel_result_index\", T.IntegerType(), True),         #7\n",
    "    T.StructField(\"rate_index\", T.StringType(), True),                 #8 \n",
    "    T.StructField(\"commission_base\", T.StringType(), True),              #12\n",
    "    T.StructField(\"commission_tax\", T.StringType(), True),               #14\n",
    "    T.StructField(\"commission_currency\", T.StringType(), True)          #16\n",
    "])\n"
   ]
  },
  {
   "cell_type": "code",
   "execution_count": 18,
   "metadata": {
    "scrolled": true
   },
   "outputs": [
    {
     "name": "stdout",
     "output_type": "stream",
     "text": [
      "Collecting search the data...\n",
      "29960773"
     ]
    }
   ],
   "source": [
    "file_loc = \"s3://ege-ds-workshops-corp/yixli/search_commission_2019_v2.csv\"\n",
    "print(\"Collecting search the data...\")\n",
    "search_hotel_df = sqlContext.read.format('csv').\\\n",
    "            options(header='false', inferSchema='false', delimiter=',').\\\n",
    "            schema(search_schema).load(file_loc)\n",
    "\n",
    "# load_date between '20191201' and '20200101'\n",
    "\n",
    "search_hotel_df = search_hotel_df.\\\n",
    "            filter(F.col(\"hotel_id\")>0)\n",
    "print(search_hotel_df.count())"
   ]
  },
  {
   "cell_type": "code",
   "execution_count": 7,
   "metadata": {},
   "outputs": [
    {
     "name": "stdout",
     "output_type": "stream",
     "text": [
      "12686824"
     ]
    }
   ],
   "source": [
    "#Oct\n",
    "search_df2 = search_hotel_df.\\\n",
    "            filter(F.col(\"message_date\") > F.unix_timestamp(F.lit('2019-10-01 00:00:00')).cast('timestamp')).\\\n",
    "            filter(F.col(\"message_date\") < F.unix_timestamp(F.lit('2019-11-01 00:00:00')).cast('timestamp'))\n",
    "print(search_df2.count())"
   ]
  },
  {
   "cell_type": "code",
   "execution_count": 19,
   "metadata": {},
   "outputs": [
    {
     "name": "stdout",
     "output_type": "stream",
     "text": [
      "6419212"
     ]
    }
   ],
   "source": [
    "#Dec\n",
    "search_df2 = search_hotel_df.\\\n",
    "            filter(F.col(\"message_date\") > F.unix_timestamp(F.lit('2019-12-01 00:00:00')).cast('timestamp')).\\\n",
    "            filter(F.col(\"message_date\") < F.unix_timestamp(F.lit('2020-01-01 00:00:00')).cast('timestamp'))\n",
    "print(search_df2.count())"
   ]
  },
  {
   "cell_type": "code",
   "execution_count": 20,
   "metadata": {},
   "outputs": [],
   "source": [
    "combine = F.udf(lambda x1,x2,x3,x4: list(zip(x1,x2,x3,x4)),             \n",
    "              T.ArrayType(T.StructType([T.StructField(\"rate_index_a\", T.StringType()),                                      #1\n",
    "                                    T.StructField(\"commission_base_a\", T.StringType()),                                         #2\n",
    "                                    T.StructField(\"commission_tax_a\", T.StringType()),                                   #3\n",
    "                                    T.StructField(\"commission_currency_a\", T.StringType())                                    \n",
    "                                    ])))"
   ]
  },
  {
   "cell_type": "code",
   "execution_count": 21,
   "metadata": {},
   "outputs": [],
   "source": [
    "search_df2= search_df2.\\\n",
    "    withColumn(\"rate_index_a\", F.split(F.col(\"rate_index\"),\"\\|\")).\\\n",
    "    withColumn(\"commission_base_a\", F.split(F.col(\"commission_base\"),\"\\|\")).\\\n",
    "    withColumn(\"commission_tax_a\", F.split(F.col(\"commission_tax\"),\"\\|\")).\\\n",
    "    withColumn(\"commission_currency_a\", F.split(F.col(\"commission_currency\"),\"\\|\")).\\\n",
    "    withColumn(\"e\", combine(\"rate_index_a\", \"commission_base_a\",\"commission_tax_a\",\"commission_currency_a\")).\\\n",
    "    withColumn(\"e\",F.explode(\"e\")).\\\n",
    "    select(\"message_id\",\"check_in_date\",\"check_out_date\",\"hotel_id\",\"tuid\",\\\n",
    "        F.col(\"e.rate_index_a\").alias(\"rate_index\"),\\\n",
    "        F.col(\"e.commission_base_a\").alias(\"commission_base\"),\\\n",
    "        F.col(\"e.commission_tax_a\").alias(\"commission_tax\"),\\\n",
    "        F.col(\"e.commission_currency_a\").alias(\"commission_currency\"))"
   ]
  },
  {
   "cell_type": "code",
   "execution_count": 22,
   "metadata": {},
   "outputs": [
    {
     "name": "stdout",
     "output_type": "stream",
     "text": [
      "94785434"
     ]
    }
   ],
   "source": [
    "search_df2.count()"
   ]
  },
  {
   "cell_type": "code",
   "execution_count": 23,
   "metadata": {},
   "outputs": [],
   "source": [
    "search_df2 = search_df2.\\\n",
    "            withColumn(\"rate_index\", search_df2.rate_index.cast(\"integer\")).\\\n",
    "            withColumn(\"commission_base\", search_df2.commission_base.cast(\"float\")).\\\n",
    "             withColumn(\"commission_tax\", search_df2.commission_tax.cast(\"float\"))\n",
    "          "
   ]
  },
  {
   "cell_type": "code",
   "execution_count": 24,
   "metadata": {},
   "outputs": [],
   "source": [
    "dir = 's3://ege-ds-workshops-corp/yixli/data_understanding/'\n",
    "\n",
    "datestamp = datetime.datetime.now().strftime('%m-%d-%Y')\n",
    "search_df2.repartition(1).write.format('com.databricks.spark.csv').mode('overwrite')\\\n",
    ".save(dir+datestamp+'_search_commission_2019_12_df.csv',header = 'true')"
   ]
  },
  {
   "cell_type": "code",
   "execution_count": 25,
   "metadata": {},
   "outputs": [
    {
     "name": "stdout",
     "output_type": "stream",
     "text": [
      "94785434"
     ]
    }
   ],
   "source": [
    "#file_loc = \"s3://ege-ds-workshops-corp/yixli/data_understanding/09-21-2020_search_commission_2019_10_df.csv\"\n",
    "\n",
    "file_loc = \"s3://ege-ds-workshops-corp/yixli/data_understanding/09-24-2020_search_commission_2019_12_df.csv\"\n",
    "\n",
    "search_df2 = sqlContext.read.format('csv').\\\n",
    "            options(header='true', inferSchema='true', delimiter=',').\\\n",
    "           load(file_loc)\n",
    "\n",
    "# load_date between '20191201' and '20200101'\n",
    "\n",
    "search_df2 = search_df2.\\\n",
    "            filter(F.col(\"hotel_id\")>0).\\\n",
    "            filter(F.col(\"commission_base\").isNotNull())\n",
    "print(search_df2.count())"
   ]
  },
  {
   "cell_type": "code",
   "execution_count": 26,
   "metadata": {},
   "outputs": [],
   "source": [
    "search_df = search_df1.\\\n",
    "             join(search_df2.select(\"commission_base\",\"commission_tax\",\"commission_currency\",\"message_id\",\"hotel_id\",\"check_in_date\", \"check_out_date\",\"tuid\",\"rate_index\"),\n",
    "                  [\"message_id\",\"hotel_id\",\"check_in_date\", \"check_out_date\",\"tuid\",\"rate_index\"]).\\\n",
    "             dropDuplicates()"
   ]
  },
  {
   "cell_type": "code",
   "execution_count": 20,
   "metadata": {
    "collapsed": true
   },
   "outputs": [
    {
     "name": "stderr",
     "output_type": "stream",
     "text": [
      "An error occurred while calling o344.showString.\n",
      ": org.apache.spark.SparkException: Job 12 cancelled because SparkContext was shut down\n",
      "\tat org.apache.spark.scheduler.DAGScheduler$$anonfun$cleanUpAfterSchedulerStop$1.apply(DAGScheduler.scala:972)\n",
      "\tat org.apache.spark.scheduler.DAGScheduler$$anonfun$cleanUpAfterSchedulerStop$1.apply(DAGScheduler.scala:970)\n",
      "\tat scala.collection.mutable.HashSet.foreach(HashSet.scala:78)\n",
      "\tat org.apache.spark.scheduler.DAGScheduler.cleanUpAfterSchedulerStop(DAGScheduler.scala:970)\n",
      "\tat org.apache.spark.scheduler.DAGSchedulerEventProcessLoop.onStop(DAGScheduler.scala:2286)\n",
      "\tat org.apache.spark.util.EventLoop.stop(EventLoop.scala:84)\n",
      "\tat org.apache.spark.scheduler.DAGScheduler.stop(DAGScheduler.scala:2193)\n",
      "\tat org.apache.spark.SparkContext$$anonfun$stop$6.apply$mcV$sp(SparkContext.scala:1949)\n",
      "\tat org.apache.spark.util.Utils$.tryLogNonFatalError(Utils.scala:1340)\n",
      "\tat org.apache.spark.SparkContext.stop(SparkContext.scala:1948)\n",
      "\tat org.apache.spark.scheduler.cluster.YarnClientSchedulerBackend$MonitorThread.run(YarnClientSchedulerBackend.scala:121)\n",
      "\tat org.apache.spark.scheduler.DAGScheduler.runJob(DAGScheduler.scala:777)\n",
      "\tat org.apache.spark.SparkContext.runJob(SparkContext.scala:2061)\n",
      "\tat org.apache.spark.SparkContext.runJob(SparkContext.scala:2082)\n",
      "\tat org.apache.spark.SparkContext.runJob(SparkContext.scala:2101)\n",
      "\tat org.apache.spark.sql.execution.SparkPlan.executeTake(SparkPlan.scala:401)\n",
      "\tat org.apache.spark.sql.execution.CollectLimitExec.executeCollect(limit.scala:38)\n",
      "\tat org.apache.spark.sql.Dataset.org$apache$spark$sql$Dataset$$collectFromPlan(Dataset.scala:3383)\n",
      "\tat org.apache.spark.sql.Dataset$$anonfun$head$1.apply(Dataset.scala:2544)\n",
      "\tat org.apache.spark.sql.Dataset$$anonfun$head$1.apply(Dataset.scala:2544)\n",
      "\tat org.apache.spark.sql.Dataset$$anonfun$53.apply(Dataset.scala:3364)\n",
      "\tat org.apache.spark.sql.execution.SQLExecution$$anonfun$withNewExecutionId$1.apply(SQLExecution.scala:78)\n",
      "\tat org.apache.spark.sql.execution.SQLExecution$.withSQLConfPropagated(SQLExecution.scala:125)\n",
      "\tat org.apache.spark.sql.execution.SQLExecution$.withNewExecutionId(SQLExecution.scala:73)\n",
      "\tat org.apache.spark.sql.Dataset.withAction(Dataset.scala:3363)\n",
      "\tat org.apache.spark.sql.Dataset.head(Dataset.scala:2544)\n",
      "\tat org.apache.spark.sql.Dataset.take(Dataset.scala:2758)\n",
      "\tat org.apache.spark.sql.Dataset.getRows(Dataset.scala:254)\n",
      "\tat org.apache.spark.sql.Dataset.showString(Dataset.scala:291)\n",
      "\tat sun.reflect.NativeMethodAccessorImpl.invoke0(Native Method)\n",
      "\tat sun.reflect.NativeMethodAccessorImpl.invoke(NativeMethodAccessorImpl.java:62)\n",
      "\tat sun.reflect.DelegatingMethodAccessorImpl.invoke(DelegatingMethodAccessorImpl.java:43)\n",
      "\tat java.lang.reflect.Method.invoke(Method.java:498)\n",
      "\tat py4j.reflection.MethodInvoker.invoke(MethodInvoker.java:244)\n",
      "\tat py4j.reflection.ReflectionEngine.invoke(ReflectionEngine.java:357)\n",
      "\tat py4j.Gateway.invoke(Gateway.java:282)\n",
      "\tat py4j.commands.AbstractCommand.invokeMethod(AbstractCommand.java:132)\n",
      "\tat py4j.commands.CallCommand.execute(CallCommand.java:79)\n",
      "\tat py4j.GatewayConnection.run(GatewayConnection.java:238)\n",
      "\tat java.lang.Thread.run(Thread.java:748)\n",
      "\n",
      "Traceback (most recent call last):\n",
      "  File \"/usr/lib/spark/python/lib/pyspark.zip/pyspark/sql/dataframe.py\", line 378, in show\n",
      "    print(self._jdf.showString(n, 20, vertical))\n",
      "  File \"/usr/lib/spark/python/lib/py4j-0.10.7-src.zip/py4j/java_gateway.py\", line 1257, in __call__\n",
      "    answer, self.gateway_client, self.target_id, self.name)\n",
      "  File \"/usr/lib/spark/python/lib/pyspark.zip/pyspark/sql/utils.py\", line 63, in deco\n",
      "    return f(*a, **kw)\n",
      "  File \"/usr/lib/spark/python/lib/py4j-0.10.7-src.zip/py4j/protocol.py\", line 328, in get_return_value\n",
      "    format(target_id, \".\", name), value)\n",
      "py4j.protocol.Py4JJavaError: An error occurred while calling o344.showString.\n",
      ": org.apache.spark.SparkException: Job 12 cancelled because SparkContext was shut down\n",
      "\tat org.apache.spark.scheduler.DAGScheduler$$anonfun$cleanUpAfterSchedulerStop$1.apply(DAGScheduler.scala:972)\n",
      "\tat org.apache.spark.scheduler.DAGScheduler$$anonfun$cleanUpAfterSchedulerStop$1.apply(DAGScheduler.scala:970)\n",
      "\tat scala.collection.mutable.HashSet.foreach(HashSet.scala:78)\n",
      "\tat org.apache.spark.scheduler.DAGScheduler.cleanUpAfterSchedulerStop(DAGScheduler.scala:970)\n",
      "\tat org.apache.spark.scheduler.DAGSchedulerEventProcessLoop.onStop(DAGScheduler.scala:2286)\n",
      "\tat org.apache.spark.util.EventLoop.stop(EventLoop.scala:84)\n",
      "\tat org.apache.spark.scheduler.DAGScheduler.stop(DAGScheduler.scala:2193)\n",
      "\tat org.apache.spark.SparkContext$$anonfun$stop$6.apply$mcV$sp(SparkContext.scala:1949)\n",
      "\tat org.apache.spark.util.Utils$.tryLogNonFatalError(Utils.scala:1340)\n",
      "\tat org.apache.spark.SparkContext.stop(SparkContext.scala:1948)\n",
      "\tat org.apache.spark.scheduler.cluster.YarnClientSchedulerBackend$MonitorThread.run(YarnClientSchedulerBackend.scala:121)\n",
      "\tat org.apache.spark.scheduler.DAGScheduler.runJob(DAGScheduler.scala:777)\n",
      "\tat org.apache.spark.SparkContext.runJob(SparkContext.scala:2061)\n",
      "\tat org.apache.spark.SparkContext.runJob(SparkContext.scala:2082)\n",
      "\tat org.apache.spark.SparkContext.runJob(SparkContext.scala:2101)\n",
      "\tat org.apache.spark.sql.execution.SparkPlan.executeTake(SparkPlan.scala:401)\n",
      "\tat org.apache.spark.sql.execution.CollectLimitExec.executeCollect(limit.scala:38)\n",
      "\tat org.apache.spark.sql.Dataset.org$apache$spark$sql$Dataset$$collectFromPlan(Dataset.scala:3383)\n",
      "\tat org.apache.spark.sql.Dataset$$anonfun$head$1.apply(Dataset.scala:2544)\n",
      "\tat org.apache.spark.sql.Dataset$$anonfun$head$1.apply(Dataset.scala:2544)\n",
      "\tat org.apache.spark.sql.Dataset$$anonfun$53.apply(Dataset.scala:3364)\n",
      "\tat org.apache.spark.sql.execution.SQLExecution$$anonfun$withNewExecutionId$1.apply(SQLExecution.scala:78)\n",
      "\tat org.apache.spark.sql.execution.SQLExecution$.withSQLConfPropagated(SQLExecution.scala:125)\n",
      "\tat org.apache.spark.sql.execution.SQLExecution$.withNewExecutionId(SQLExecution.scala:73)\n",
      "\tat org.apache.spark.sql.Dataset.withAction(Dataset.scala:3363)\n",
      "\tat org.apache.spark.sql.Dataset.head(Dataset.scala:2544)\n",
      "\tat org.apache.spark.sql.Dataset.take(Dataset.scala:2758)\n",
      "\tat org.apache.spark.sql.Dataset.getRows(Dataset.scala:254)\n",
      "\tat org.apache.spark.sql.Dataset.showString(Dataset.scala:291)\n",
      "\tat sun.reflect.NativeMethodAccessorImpl.invoke0(Native Method)\n",
      "\tat sun.reflect.NativeMethodAccessorImpl.invoke(NativeMethodAccessorImpl.java:62)\n",
      "\tat sun.reflect.DelegatingMethodAccessorImpl.invoke(DelegatingMethodAccessorImpl.java:43)\n",
      "\tat java.lang.reflect.Method.invoke(Method.java:498)\n",
      "\tat py4j.reflection.MethodInvoker.invoke(MethodInvoker.java:244)\n",
      "\tat py4j.reflection.ReflectionEngine.invoke(ReflectionEngine.java:357)\n",
      "\tat py4j.Gateway.invoke(Gateway.java:282)\n",
      "\tat py4j.commands.AbstractCommand.invokeMethod(AbstractCommand.java:132)\n",
      "\tat py4j.commands.CallCommand.execute(CallCommand.java:79)\n",
      "\tat py4j.GatewayConnection.run(GatewayConnection.java:238)\n",
      "\tat java.lang.Thread.run(Thread.java:748)\n",
      "\n",
      "\n"
     ]
    }
   ],
   "source": [
    "search_df.groupBy('rate_type').agg(F.count(F.col('message_id'))).show()"
   ]
  },
  {
   "cell_type": "code",
   "execution_count": 27,
   "metadata": {},
   "outputs": [],
   "source": [
    "search_df = search_df.withColumn(\"hotel_index\", row_number().over(Window.partitionBy(\"message_id\", \"tuid\").\\\n",
    "                                                        orderBy(F.asc(\"hotel_result_index\"))))"
   ]
  },
  {
   "cell_type": "code",
   "execution_count": 28,
   "metadata": {},
   "outputs": [
    {
     "name": "stdout",
     "output_type": "stream",
     "text": [
      "root\n",
      " |-- message_id: string (nullable = true)\n",
      " |-- hotel_id: integer (nullable = true)\n",
      " |-- check_in_date: timestamp (nullable = true)\n",
      " |-- check_out_date: timestamp (nullable = true)\n",
      " |-- tuid: integer (nullable = true)\n",
      " |-- rate_index: integer (nullable = true)\n",
      " |-- message_date: timestamp (nullable = true)\n",
      " |-- hotel_result_index: integer (nullable = true)\n",
      " |-- city: string (nullable = true)\n",
      " |-- star_rating: string (nullable = true)\n",
      " |-- filter_want_in_policy_rates_only: boolean (nullable = true)\n",
      " |-- filter_eligible_for_loyalty: boolean (nullable = true)\n",
      " |-- filter_free_breakfast: boolean (nullable = true)\n",
      " |-- filter_free_wifi: boolean (nullable = true)\n",
      " |-- filter_free_parking: boolean (nullable = true)\n",
      " |-- rate_amount: double (nullable = true)\n",
      " |-- rate_currency: string (nullable = true)\n",
      " |-- rate_type: string (nullable = true)\n",
      " |-- eligible_for_loyalty: boolean (nullable = true)\n",
      " |-- free_breakfast: boolean (nullable = true)\n",
      " |-- free_wifi: boolean (nullable = true)\n",
      " |-- free_parking: boolean (nullable = true)\n",
      " |-- refundable: boolean (nullable = true)\n",
      " |-- commission_base: double (nullable = true)\n",
      " |-- commission_tax: double (nullable = true)\n",
      " |-- commission_currency: string (nullable = true)\n",
      " |-- hotel_index: integer (nullable = true)"
     ]
    }
   ],
   "source": [
    "search_df.printSchema()"
   ]
  },
  {
   "cell_type": "code",
   "execution_count": 29,
   "metadata": {},
   "outputs": [],
   "source": [
    "dir = 's3://ege-ds-workshops-corp/yixli/data_understanding/'\n",
    "\n",
    "datestamp = datetime.datetime.now().strftime('%m-%d-%Y')\n",
    "search_df.repartition(1).write.format('com.databricks.spark.csv').mode('overwrite')\\\n",
    ".save(dir+datestamp+'_search_df.csv',header = 'true')"
   ]
  },
  {
   "cell_type": "markdown",
   "metadata": {},
   "source": [
    "## Read search data"
   ]
  },
  {
   "cell_type": "code",
   "execution_count": 30,
   "metadata": {},
   "outputs": [],
   "source": [
    "search_schema = T.StructType([\n",
    "    T.StructField(\"message_id\", T.StringType(), True),                  #1\n",
    "    T.StructField(\"hotel_id\", T.IntegerType(), True),                   #6\n",
    "    T.StructField(\"check_in_date\", T.DateType(), True),                 #3\n",
    "    T.StructField(\"check_out_date\", T.DateType(), True),                #4\n",
    "    T.StructField(\"tuid\", T.IntegerType(), True),                       #5\n",
    "    T.StructField(\"rate_index\", T.IntegerType(), True),                 #8 \n",
    "    T.StructField(\"rate_type\", T.StringType(), True),                   #11\n",
    "    T.StructField(\"message_date\", T.TimestampType(), True),             #2\n",
    "    T.StructField(\"hotel_result_index\", T.IntegerType(), True),         #7\n",
    "    T.StructField(\"rate_amount\", T.FloatType(), True),                  #9\n",
    "    T.StructField(\"rate_currency\", T.StringType(), True),               #10\n",
    "    T.StructField(\"commission_base\", T.FloatType(), True),              #12\n",
    "    T.StructField(\"commission_tax\", T.FloatType(), True),               #14\n",
    "    T.StructField(\"commission_currency\", T.StringType(), True),          #16\n",
    "    T.StructField(\"hotel_index\", T.IntegerType(), True)                 #8 \n",
    "])\n"
   ]
  },
  {
   "cell_type": "code",
   "execution_count": 31,
   "metadata": {},
   "outputs": [
    {
     "name": "stdout",
     "output_type": "stream",
     "text": [
      "Collecting search the data...\n",
      "62044274"
     ]
    }
   ],
   "source": [
    "file_loc = \"s3://ege-ds-workshops-corp/yixli/data_understanding/09-24-2020_search_df.csv\"\n",
    "print(\"Collecting search the data...\")\n",
    "search_df = sqlContext.read.format('csv').\\\n",
    "            options(header='true', inferSchema='true', delimiter=',').\\\n",
    "            load(file_loc)\n",
    "\n",
    "\n",
    "print(search_df.count())"
   ]
  },
  {
   "cell_type": "code",
   "execution_count": 32,
   "metadata": {},
   "outputs": [],
   "source": [
    "search_df = search_df.\\\n",
    "            filter(F.col(\"hotel_id\")>0).\\\n",
    "            filter(F.col(\"rate_amount\").isNotNull())"
   ]
  },
  {
   "cell_type": "code",
   "execution_count": 33,
   "metadata": {},
   "outputs": [
    {
     "name": "stdout",
     "output_type": "stream",
     "text": [
      "+---------+-----------------+\n",
      "|rate_type|count(message_id)|\n",
      "+---------+-----------------+\n",
      "|     EPRA|          3756502|\n",
      "|      NEG|          1175208|\n",
      "|     EPRM|          7394933|\n",
      "|     ESRM|         29364250|\n",
      "|     ESRA|         13830871|\n",
      "|      GDS|          6522510|\n",
      "+---------+-----------------+"
     ]
    }
   ],
   "source": [
    "search_df.groupBy('rate_type').agg(F.count(F.col('message_id'))).show()"
   ]
  },
  {
   "cell_type": "code",
   "execution_count": 34,
   "metadata": {},
   "outputs": [
    {
     "name": "stdout",
     "output_type": "stream",
     "text": [
      "+--------------------+--------+-------------------+-------------------+--------+----------+--------------------+------------------+------------------+-----------+--------------------------------+---------------------------+---------------------+----------------+-------------------+-----------+-------------+---------+--------------------+--------------+---------+------------+----------+---------------+--------------+-------------------+-----------+\n",
      "|          message_id|hotel_id|      check_in_date|     check_out_date|    tuid|rate_index|        message_date|hotel_result_index|              city|star_rating|filter_want_in_policy_rates_only|filter_eligible_for_loyalty|filter_free_breakfast|filter_free_wifi|filter_free_parking|rate_amount|rate_currency|rate_type|eligible_for_loyalty|free_breakfast|free_wifi|free_parking|refundable|commission_base|commission_tax|commission_currency|hotel_index|\n",
      "+--------------------+--------+-------------------+-------------------+--------+----------+--------------------+------------------+------------------+-----------+--------------------------------+---------------------------+---------------------+----------------+-------------------+-----------+-------------+---------+--------------------+--------------+---------+------------+----------+---------------+--------------+-------------------+-----------+\n",
      "|0000f98b-71d9-479...|   34529|2019-12-23 00:00:00|2019-12-26 00:00:00|10079532|         1|2019-12-22 13:27:...|                 0|marina del rey-usa|        3.5|                           false|                      false|                false|           false|              false|     232.33|          USD|     ESRM|               false|         false|    false|       false|     false|          26.94|         13.36|                USD|          1|\n",
      "|0000f98b-71d9-479...|   34529|2019-12-23 00:00:00|2019-12-26 00:00:00|10079532|         1|2019-12-22 13:27:...|                 0|marina del rey-usa|        3.5|                           false|                      false|                false|           false|              false|     232.33|          USD|     ESRM|               false|         false|    false|       false|     false|           29.4|         14.58|                USD|          2|\n",
      "|0000f98b-71d9-479...|   34529|2019-12-23 00:00:00|2019-12-26 00:00:00|10079532|         0|2019-12-22 13:27:...|                 0|marina del rey-usa|        3.5|                           false|                      false|                false|           false|              false|     212.33|          USD|     ESRM|               false|         false|    false|       false|     false|          24.48|         12.14|                USD|          3|\n",
      "|0000f98b-71d9-479...|   34529|2019-12-23 00:00:00|2019-12-26 00:00:00|10079532|         0|2019-12-22 13:27:...|                 0|marina del rey-usa|        3.5|                           false|                      false|                false|           false|              false|     212.33|          USD|     ESRM|               false|         false|    false|       false|     false|          26.94|         13.36|                USD|          4|\n",
      "|0000f98b-71d9-479...|   34529|2019-12-23 00:00:00|2019-12-26 00:00:00|10079532|         2|2019-12-22 13:27:...|                 0|marina del rey-usa|        3.5|                           false|                      false|                false|           false|              false|     232.33|          USD|     ESRM|               false|         false|    false|       false|     false|          26.94|         13.36|                USD|          5|\n",
      "|0000f98b-71d9-479...|   34529|2019-12-23 00:00:00|2019-12-26 00:00:00|10079532|         2|2019-12-22 13:27:...|                 0|marina del rey-usa|        3.5|                           false|                      false|                false|           false|              false|     232.33|          USD|     ESRM|               false|         false|    false|       false|     false|           29.4|         14.58|                USD|          6|\n",
      "|0000f98b-71d9-479...|   12386|2019-12-23 00:00:00|2019-12-26 00:00:00|10079532|         3|2019-12-22 13:27:...|                 4|   los angeles-usa|        4.0|                           false|                      false|                false|           false|              false|      149.0|          USD|     ESRM|               false|         false|    false|        true|     false|          18.33|          9.09|                USD|          7|\n",
      "|0000f98b-71d9-479...|   12386|2019-12-23 00:00:00|2019-12-26 00:00:00|10079532|         1|2019-12-22 13:27:...|                 4|   los angeles-usa|        4.0|                           false|                      false|                false|           false|              false|      129.0|          USD|     ESRM|               false|         false|    false|       false|     false|          15.87|          7.87|                USD|          8|\n",
      "|0000f98b-71d9-479...|   12386|2019-12-23 00:00:00|2019-12-26 00:00:00|10079532|         0|2019-12-22 13:27:...|                 4|   los angeles-usa|        4.0|                           false|                      false|                false|           false|              false|      129.0|          USD|     ESRM|               false|         false|    false|       false|     false|          15.87|          7.87|                USD|          9|\n",
      "|0000f98b-71d9-479...|   12386|2019-12-23 00:00:00|2019-12-26 00:00:00|10079532|         5|2019-12-22 13:27:...|                 4|   los angeles-usa|        4.0|                           false|                      false|                false|           false|              false|      159.0|          USD|     ESRM|               false|         false|    false|        true|     false|          19.56|           9.7|                USD|         10|\n",
      "|0000f98b-71d9-479...|   12386|2019-12-23 00:00:00|2019-12-26 00:00:00|10079532|         2|2019-12-22 13:27:...|                 4|   los angeles-usa|        4.0|                           false|                      false|                false|           false|              false|      147.0|          USD|     ESRM|               false|         false|     true|       false|     false|          18.08|          8.97|                USD|         11|\n",
      "|0000f98b-71d9-479...|11966077|2019-12-23 00:00:00|2019-12-26 00:00:00|10079532|         0|2019-12-22 13:27:...|                22|   los angeles-usa|        4.0|                           false|                      false|                false|           false|              false|      179.0|          USD|     ESRM|               false|         false|     true|       false|     false|           33.8|         11.53|                USD|         12|\n",
      "|0000f98b-71d9-479...|11966077|2019-12-23 00:00:00|2019-12-26 00:00:00|10079532|         0|2019-12-22 13:27:...|                22|   los angeles-usa|        4.0|                           false|                      false|                false|           false|              false|      179.0|          USD|     ESRM|               false|         false|     true|       false|     false|           35.8|         12.14|                USD|         13|\n",
      "|0000f98b-71d9-479...|11966077|2019-12-23 00:00:00|2019-12-26 00:00:00|10079532|         0|2019-12-22 13:27:...|                22|   los angeles-usa|        4.0|                           false|                      false|                false|           false|              false|      179.0|          USD|     ESRM|               false|         false|     true|       false|     false|          24.57|         12.75|                USD|         14|\n",
      "|0000f98b-71d9-479...|11966077|2019-12-23 00:00:00|2019-12-26 00:00:00|10079532|         1|2019-12-22 13:27:...|                22|   los angeles-usa|        4.0|                           false|                      false|                false|           false|              false|     319.33|          USD|     ESRM|               false|          true|     true|       false|     false|           61.4|         21.17|                USD|         15|\n",
      "|0000f98b-71d9-479...|11966077|2019-12-23 00:00:00|2019-12-26 00:00:00|10079532|         1|2019-12-22 13:27:...|                22|   los angeles-usa|        4.0|                           false|                      false|                false|           false|              false|     319.33|          USD|     ESRM|               false|          true|     true|       false|     false|           63.4|         21.78|                USD|         16|\n",
      "|0000f98b-71d9-479...|11966077|2019-12-23 00:00:00|2019-12-26 00:00:00|10079532|         1|2019-12-22 13:27:...|                22|   los angeles-usa|        4.0|                           false|                      false|                false|           false|              false|     319.33|          USD|     ESRM|               false|          true|     true|       false|     false|          43.42|         22.81|                USD|         17|\n",
      "|0000f98b-71d9-479...|    9174|2019-12-23 00:00:00|2019-12-26 00:00:00|10079532|         1|2019-12-22 13:27:...|                25|   los angeles-usa|        3.0|                           false|                      false|                false|           false|              false|      108.0|          USD|     ESRM|               false|          true|     true|       false|     false|          19.44|           7.2|                USD|         18|\n",
      "|0000f98b-71d9-479...|    9174|2019-12-23 00:00:00|2019-12-26 00:00:00|10079532|         3|2019-12-22 13:27:...|                25|   los angeles-usa|        3.0|                           false|                      false|                false|           false|              false|      118.0|          USD|     ESRM|               false|          true|     true|       false|     false|          21.24|          7.81|                USD|         19|\n",
      "|0000f98b-71d9-479...|    9174|2019-12-23 00:00:00|2019-12-26 00:00:00|10079532|         2|2019-12-22 13:27:...|                25|   los angeles-usa|        3.0|                           false|                      false|                false|           false|              false|      108.0|          USD|     ESRM|               false|         false|     true|       false|     false|          19.44|           7.2|                USD|         20|\n",
      "+--------------------+--------+-------------------+-------------------+--------+----------+--------------------+------------------+------------------+-----------+--------------------------------+---------------------------+---------------------+----------------+-------------------+-----------+-------------+---------+--------------------+--------------+---------+------------+----------+---------------+--------------+-------------------+-----------+\n",
      "only showing top 20 rows"
     ]
    }
   ],
   "source": [
    "search_df.show()"
   ]
  },
  {
   "cell_type": "code",
   "execution_count": 35,
   "metadata": {},
   "outputs": [
    {
     "name": "stdout",
     "output_type": "stream",
     "text": [
      "root\n",
      " |-- message_id: string (nullable = true)\n",
      " |-- hotel_id: integer (nullable = true)\n",
      " |-- check_in_date: timestamp (nullable = true)\n",
      " |-- check_out_date: timestamp (nullable = true)\n",
      " |-- tuid: integer (nullable = true)\n",
      " |-- rate_index: integer (nullable = true)\n",
      " |-- message_date: timestamp (nullable = true)\n",
      " |-- hotel_result_index: integer (nullable = true)\n",
      " |-- city: string (nullable = true)\n",
      " |-- star_rating: string (nullable = true)\n",
      " |-- filter_want_in_policy_rates_only: boolean (nullable = true)\n",
      " |-- filter_eligible_for_loyalty: boolean (nullable = true)\n",
      " |-- filter_free_breakfast: boolean (nullable = true)\n",
      " |-- filter_free_wifi: boolean (nullable = true)\n",
      " |-- filter_free_parking: boolean (nullable = true)\n",
      " |-- rate_amount: double (nullable = true)\n",
      " |-- rate_currency: string (nullable = true)\n",
      " |-- rate_type: string (nullable = true)\n",
      " |-- eligible_for_loyalty: boolean (nullable = true)\n",
      " |-- free_breakfast: boolean (nullable = true)\n",
      " |-- free_wifi: boolean (nullable = true)\n",
      " |-- free_parking: boolean (nullable = true)\n",
      " |-- refundable: boolean (nullable = true)\n",
      " |-- commission_base: double (nullable = true)\n",
      " |-- commission_tax: double (nullable = true)\n",
      " |-- commission_currency: string (nullable = true)\n",
      " |-- hotel_index: integer (nullable = true)"
     ]
    }
   ],
   "source": [
    "search_df.printSchema()"
   ]
  },
  {
   "cell_type": "markdown",
   "metadata": {},
   "source": [
    "## Filter hotels below peterman_line"
   ]
  },
  {
   "cell_type": "code",
   "execution_count": 10,
   "metadata": {},
   "outputs": [],
   "source": [
    "search_df.registerTempTable(\"search_df\")\n",
    "peterman_df.registerTempTable(\"peterman_df\")"
   ]
  },
  {
   "cell_type": "code",
   "execution_count": 11,
   "metadata": {},
   "outputs": [],
   "source": [
    "search_below_peterman_df = sqlContext.sql(\"select\\\n",
    "                             b.*\\\n",
    "                             from search_df as b join peterman_df as c on (b.message_id=c.message_id)\\\n",
    "                             where (b.hotel_result_index>c.last_idx_peterman_line)\\\n",
    "                             order by b.message_id, b.hotel_result_index\").\\\n",
    "                             dropDuplicates()"
   ]
  },
  {
   "cell_type": "code",
   "execution_count": 12,
   "metadata": {},
   "outputs": [
    {
     "name": "stdout",
     "output_type": "stream",
     "text": [
      "0"
     ]
    }
   ],
   "source": [
    "search_below_peterman_df.filter(F.col('rate_type')=='NEG').count()"
   ]
  },
  {
   "cell_type": "code",
   "execution_count": 36,
   "metadata": {},
   "outputs": [],
   "source": [
    "search_below_peterman_df = search_df.filter(F.col('rate_type')!='NEG')"
   ]
  },
  {
   "cell_type": "code",
   "execution_count": 37,
   "metadata": {
    "scrolled": true
   },
   "outputs": [
    {
     "name": "stdout",
     "output_type": "stream",
     "text": [
      "60869066"
     ]
    }
   ],
   "source": [
    "search_below_peterman_df.count()"
   ]
  },
  {
   "cell_type": "code",
   "execution_count": 39,
   "metadata": {},
   "outputs": [],
   "source": [
    "dir = 's3://ege-ds-workshops-corp/yixli/data_understanding/'\n",
    "\n",
    "datestamp = datetime.datetime.now().strftime('%m-%d-%Y')\n",
    "search_below_peterman_df.repartition(1).write.format('com.databricks.spark.csv').mode('overwrite')\\\n",
    ".save(dir+datestamp+'_search_below_peterman_df.csv',header = 'true')"
   ]
  },
  {
   "cell_type": "code",
   "execution_count": 2,
   "metadata": {},
   "outputs": [
    {
     "name": "stdout",
     "output_type": "stream",
     "text": [
      "Collecting search the data...\n",
      "60869066"
     ]
    }
   ],
   "source": [
    "file_loc = \"s3://ege-ds-workshops-corp/yixli/data_understanding/09-24-2020_search_below_peterman_df.csv\"\n",
    "print(\"Collecting search the data...\")\n",
    "search_below_peterman_df = sqlContext.read.format('csv').\\\n",
    "            options(header='true', inferSchema='true', delimiter=',').\\\n",
    "            load(file_loc)\n",
    "\n",
    "print(search_below_peterman_df.count())"
   ]
  },
  {
   "cell_type": "markdown",
   "metadata": {},
   "source": [
    "## Exchange currency to USD"
   ]
  },
  {
   "cell_type": "code",
   "execution_count": 3,
   "metadata": {},
   "outputs": [],
   "source": [
    "sqlCurrency = \"\"\"select DISTINCT\n",
    "                 a.exchangeratedate as timestamp,\n",
    "                 trunc(a.exchangeratedate) as exch_rate_date,\n",
    "                 a.fromcurrencycode,\n",
    "                 a.exchangerate\n",
    "                 from public.exchangeratedailyfull a\n",
    "                 where trunc(a.exchangeratedate)>=to_date('20191201','YYYYMMDD') \n",
    "                 and trunc(a.exchangeratedate)<=to_date('20200101','YYYYMMDD') \n",
    "                 and tocurrencycode = 'USD' \"\"\"\n",
    "connection_string = \"jdbc:redshift://egencia-reporting.czjkedodj6lc.us-west-2.redshift.amazonaws.com:5439/egedatamart?user=ds_rpt_user&password=Jan2019!\";\n",
    "\n",
    "currency_df = sqlContext.read.\\\n",
    "    format(\"com.databricks.spark.redshift\").\\\n",
    "    option(\"url\", connection_string).\\\n",
    "    option(\"query\", sqlCurrency).\\\n",
    "    option(\"tempdir\", \"s3a://ege-ds-workshops-corp/yixli/\").\\\n",
    "    load().\\\n",
    "    dropDuplicates().\\\n",
    "    orderBy([\"exch_rate_date\",\"fromcurrencycode\"],ascending=True)"
   ]
  },
  {
   "cell_type": "code",
   "execution_count": 5,
   "metadata": {},
   "outputs": [],
   "source": [
    "local_below_peterman_df = search_below_peterman_df.filter(F.col('rate_type')!='GDS').filter(F.col('commission_base').isNotNull())\n",
    "local_below_peterman_df.registerTempTable(\"local_below_peterman_df\")\n",
    "currency_df.registerTempTable(\"currency_df\")"
   ]
  },
  {
   "cell_type": "code",
   "execution_count": 6,
   "metadata": {
    "scrolled": true
   },
   "outputs": [],
   "source": [
    "local_below_peterman_usd_df = sqlContext.sql(\"select\\\n",
    "                             a.*,\\\n",
    "                             a.rate_amount*COALESCE(ex1.exchangerate,1) AS src_rate_amount_usd,\\\n",
    "                             a.commission_base*COALESCE(ex2.exchangerate,1) AS src_commission_base_usd,\\\n",
    "                             a.commission_tax*COALESCE(ex2.exchangerate,1) AS src_commission_tax_usd\\\n",
    "                             from local_below_peterman_df a\\\n",
    "                             left join currency_df ex1 on to_date(a.message_date)=ex1.exch_rate_date and a.rate_currency=ex1.FromCurrencyCode\\\n",
    "                             left join currency_df ex2 on to_date(a.message_date)=ex2.exch_rate_date and a.commission_currency=ex2.FromCurrencyCode\").\\\n",
    "                             dropDuplicates()"
   ]
  },
  {
   "cell_type": "code",
   "execution_count": 7,
   "metadata": {},
   "outputs": [],
   "source": [
    "local_below_peterman_usd_df = local_below_peterman_usd_df.\\\n",
    "withColumn('src_supply_revenue_usd',F.col('src_commission_base_usd')+F.col('src_commission_tax_usd'))"
   ]
  },
  {
   "cell_type": "code",
   "execution_count": 8,
   "metadata": {},
   "outputs": [],
   "source": [
    "local_below_peterman_usd_df = local_below_peterman_usd_df.filter(F.col('src_supply_revenue_usd')<1000)"
   ]
  },
  {
   "cell_type": "code",
   "execution_count": 9,
   "metadata": {},
   "outputs": [
    {
     "name": "stdout",
     "output_type": "stream",
     "text": [
      "+---------+-----------------+\n",
      "|rate_type|count(message_id)|\n",
      "+---------+-----------------+\n",
      "|     EPRA|          3756490|\n",
      "|     EPRM|          7394654|\n",
      "|     ESRM|         29361273|\n",
      "|     ESRA|         13830426|\n",
      "+---------+-----------------+"
     ]
    }
   ],
   "source": [
    "local_below_peterman_usd_df.groupBy('rate_type').agg(F.count(F.col('message_id'))).show()"
   ]
  },
  {
   "cell_type": "code",
   "execution_count": 10,
   "metadata": {},
   "outputs": [],
   "source": [
    "sqlGDS =  \"\"\"SELECT \n",
    "      a.hotelid as hotel_id,\n",
    "     trunc(a.issuedate) as issue_date,\n",
    "     trunc(a.traveldatestart) as check_in_date,\n",
    "     trunc(a.traveldateend) as check_out_date,\n",
    "      (case when a.customersystemid=1 then a.TUIDTraveler else g.TUIDInternal end) as tuid,      \n",
    "      a.travelproductid AS travel_product_id,\n",
    "      a.GroupAccountID AS group_account_id,\n",
    "      hsp.rate_type as hotel_rate_type,\n",
    "      (case  \n",
    "        when a.hotelrateTypeSupplyid IN (1,2,3,4,5,10,11,14,16,17,18,20,25,26,28,29,30,32) then 'GDS'\n",
    "        when a.hotelrateTypeSupplyid IN (12,13,15,19,21,22,23,27,31,33,34) then 'NEG'\n",
    "        when a.hotelrateTypeSupplyid = 6 then 'ESRA'\n",
    "        when a.hotelrateTypeSupplyid = 7 then 'ESRM'\n",
    "        when a.hotelrateTypeSupplyid = 8 then 'EPRA'\n",
    "        when a.hotelrateTypeSupplyid = 9 then 'EPRM'\n",
    "        when a.hotelrateTypeSupplyid IN (24,35) then 'HOTMIP'\n",
    "        else 'UNK'\n",
    "        end) as bk_rate_type,\n",
    "      NVL(hsp.commission,0.00) As commission_rate,\n",
    "      4.30 AS gds\n",
    "FROM public.HotelFact a\n",
    "  JOIN TravelerAccountDim g \n",
    "    ON a.TUIDTraveler = g.TUID AND a.customersystemid=g.customersystemid \n",
    "  JOIN public.GroupAccountdim d \n",
    "    ON a.GroupAccountID = d.GroupAccountID \n",
    "  JOIN public.hotel_supply hsp \n",
    "    ON hsp.year = EXTRACT (year FROM a.IssueDate)\n",
    "    AND hsp.quarter = EXTRACT (quarter FROM a.IssueDate)\n",
    "    AND hsp.rate_type = CASE\n",
    "         WHEN a.HotelRateTypeSupplyID IN (7,9,24) THEN 'Expedia Collect'\n",
    "         WHEN a.HotelRateTypeSupplyID IN (6,8,35) THEN 'Hotel Collect'\n",
    "         WHEN a.HotelRateTypeSupplyID IN (12,13,15,19,21,22,23,27,31,33,34) THEN 'Negotiated'\n",
    "         ELSE 'Published & GDS' END\n",
    "    AND hsp.travel_product_id = a.TravelProductID\n",
    "WHERE a.CustomerSystemID IN (1,2)\n",
    "AND   (d.groupaccountinternaltypeid = 1 OR d.groupaccountinternaltypeid = 3)\n",
    "AND a.BookingTypeID in (1,3) \n",
    "and hsp.year=2019\n",
    "and hsp.quarter=4\"\"\".replace('\\n',' ')\n",
    "            \n",
    "connection_string = \"jdbc:redshift://egencia-reporting.czjkedodj6lc.us-west-2.redshift.amazonaws.com:5439/egedatamart?user=ds_rpt_user&password=Jan2019!\";\n",
    "\n",
    "gds_df = sqlContext.read.\\\n",
    "    format(\"com.databricks.spark.redshift\").\\\n",
    "    option(\"url\", connection_string).\\\n",
    "    option(\"query\", sqlGDS).\\\n",
    "    option(\"tempdir\", \"s3a://ege-ds-workshops-corp/yixli/\").\\\n",
    "    load().\\\n",
    "    filter(F.col(\"hotel_rate_type\")=='Published & GDS').\\\n",
    "    filter(F.col('commission_rate').isNotNull()).\\\n",
    "    filter(F.col('gds').isNotNull()).\\\n",
    "    dropDuplicates()"
   ]
  },
  {
   "cell_type": "code",
   "execution_count": 11,
   "metadata": {},
   "outputs": [],
   "source": [
    "gds_df = gds_df.groupBy('hotel_id').agg(F.avg('commission_rate').alias('commission_rate'),\n",
    "                                       F.avg('gds').alias('gds'))"
   ]
  },
  {
   "cell_type": "code",
   "execution_count": 12,
   "metadata": {},
   "outputs": [
    {
     "name": "stdout",
     "output_type": "stream",
     "text": [
      "+--------+--------------------+--------+\n",
      "|hotel_id|     commission_rate|     gds|\n",
      "+--------+--------------------+--------+\n",
      "|32146635|0.080000000000000...|4.300000|\n",
      "|  904712|0.080000000000000...|4.300000|\n",
      "|  517191|0.080000000000000...|4.300000|\n",
      "|   63964|0.080000000000000...|4.300000|\n",
      "| 1601034|0.080000000000000...|4.300000|\n",
      "|11785356|0.080000000000000...|4.300000|\n",
      "|  525571|0.080000000000000...|4.300000|\n",
      "|  798779|0.080000000000000...|4.300000|\n",
      "|  851284|0.080000000000000...|4.300000|\n",
      "|18629649|0.080000000000000...|4.300000|\n",
      "| 5058675|0.080000000000000...|4.300000|\n",
      "|17347478|0.080000000000000...|4.300000|\n",
      "|33374019|0.080000000000000...|4.300000|\n",
      "|  904455|0.080000000000000...|4.300000|\n",
      "|   17753|0.080000000000000...|4.300000|\n",
      "|  802387|0.080000000000000...|4.300000|\n",
      "|23814718|0.080000000000000...|4.300000|\n",
      "|11484251|0.080000000000000...|4.300000|\n",
      "|13125518|0.080000000000000...|4.300000|\n",
      "|    3918|0.080000000000000...|4.300000|\n",
      "| 1636908|0.080000000000000...|4.300000|\n",
      "|  968049|0.080000000000000...|4.300000|\n",
      "|23192964|0.080000000000000...|4.300000|\n",
      "|  904487|0.080000000000000...|4.300000|\n",
      "|   26425|0.080000000000000...|4.300000|\n",
      "|16798615|0.080000000000000...|4.300000|\n",
      "|   71527|0.080000000000000...|4.300000|\n",
      "|    7833|0.080000000000000...|4.300000|\n",
      "|  116312|0.080000000000000...|4.300000|\n",
      "|11135961|0.080000000000000...|4.300000|\n",
      "|   15447|0.080000000000000...|4.300000|\n",
      "|    5300|0.080000000000000...|4.300000|\n",
      "|    6654|0.080000000000000...|4.300000|\n",
      "|  528692|0.080000000000000...|4.300000|\n",
      "|  807527|0.080000000000000...|4.300000|\n",
      "|   22097|0.080000000000000...|4.300000|\n",
      "| 1509301|0.080000000000000...|4.300000|\n",
      "|   99861|0.080000000000000...|4.300000|\n",
      "| 6525287|0.080000000000000...|4.300000|\n",
      "| 5531547|0.080000000000000...|4.300000|\n",
      "|    9900|0.080000000000000...|4.300000|\n",
      "|18411003|0.080000000000000...|4.300000|\n",
      "| 1805074|0.080000000000000...|4.300000|\n",
      "|  554653|0.080000000000000...|4.300000|\n",
      "|   18051|0.080000000000000...|4.300000|\n",
      "|    4935|0.080000000000000...|4.300000|\n",
      "| 3348006|0.080000000000000...|4.300000|\n",
      "| 1091376|0.080000000000000...|4.300000|\n",
      "|31356812|0.080000000000000...|4.300000|\n",
      "|    1829|0.080000000000000...|4.300000|\n",
      "+--------+--------------------+--------+\n",
      "only showing top 50 rows"
     ]
    }
   ],
   "source": [
    "gds_df.show(50)"
   ]
  },
  {
   "cell_type": "code",
   "execution_count": 13,
   "metadata": {},
   "outputs": [
    {
     "name": "stdout",
     "output_type": "stream",
     "text": [
      "6522510"
     ]
    }
   ],
   "source": [
    "gds_below_peterman_df = search_below_peterman_df.filter(F.col('rate_type')=='GDS')\n",
    "gds_below_peterman_df = gds_below_peterman_df.join(currency_df,\n",
    "                                                                [F.to_date(gds_below_peterman_df.message_date)==currency_df.exch_rate_date,\n",
    "                                                                gds_below_peterman_df.rate_currency==currency_df.fromcurrencycode]).\\\n",
    "                        withColumn('src_rate_amount_usd',gds_below_peterman_df.rate_amount*currency_df.exchangerate)                                             \n",
    "gds_below_peterman_df.count()"
   ]
  },
  {
   "cell_type": "code",
   "execution_count": 14,
   "metadata": {},
   "outputs": [],
   "source": [
    "gds_below_peterman_df = gds_below_peterman_df.\\\n",
    "join(gds_df.select('hotel_id','gds','commission_rate'),['hotel_id'],how='left').\\\n",
    "withColumn('src_supply_revenue_usd',F.col('src_rate_amount_usd')*F.col('commission_rate')+F.col('gds'))"
   ]
  },
  {
   "cell_type": "code",
   "execution_count": 15,
   "metadata": {},
   "outputs": [],
   "source": [
    "gds_below_peterman_df = gds_below_peterman_df.filter(F.col('src_supply_revenue_usd')<1000)"
   ]
  },
  {
   "cell_type": "code",
   "execution_count": 16,
   "metadata": {},
   "outputs": [
    {
     "name": "stdout",
     "output_type": "stream",
     "text": [
      "5523118"
     ]
    }
   ],
   "source": [
    "gds_below_peterman_df.count()"
   ]
  },
  {
   "cell_type": "code",
   "execution_count": 17,
   "metadata": {},
   "outputs": [],
   "source": [
    "gds_below_peterman_df = gds_below_peterman_df.withColumn('src_commission_base_usd',F.lit(0.0))"
   ]
  },
  {
   "cell_type": "code",
   "execution_count": 18,
   "metadata": {},
   "outputs": [
    {
     "name": "stdout",
     "output_type": "stream",
     "text": [
      "['message_id', 'hotel_id', 'check_in_date', 'check_out_date', 'tuid', 'rate_index', 'message_date', 'hotel_result_index', 'city', 'star_rating', 'filter_want_in_policy_rates_only', 'filter_eligible_for_loyalty', 'filter_free_breakfast', 'filter_free_wifi', 'filter_free_parking', 'rate_amount', 'rate_currency', 'rate_type', 'eligible_for_loyalty', 'free_breakfast', 'free_wifi', 'free_parking', 'refundable', 'commission_base', 'commission_tax', 'commission_currency', 'hotel_index', 'src_rate_amount_usd', 'src_commission_base_usd', 'src_commission_tax_usd', 'src_supply_revenue_usd']"
     ]
    }
   ],
   "source": [
    "local_below_peterman_usd_df.columns"
   ]
  },
  {
   "cell_type": "code",
   "execution_count": 19,
   "metadata": {},
   "outputs": [],
   "source": [
    "search_revenue_below_peterman_usd_df = local_below_peterman_usd_df.select('message_id', 'hotel_id', 'check_in_date', 'check_out_date', 'tuid', 'rate_index', 'message_date', 'hotel_result_index', 'city', 'star_rating', 'filter_want_in_policy_rates_only', 'filter_eligible_for_loyalty', 'filter_free_breakfast', 'filter_free_wifi', 'filter_free_parking',  'rate_type', 'eligible_for_loyalty', 'free_breakfast', 'free_wifi', 'free_parking', 'refundable',  'src_rate_amount_usd', 'src_commission_base_usd', 'src_supply_revenue_usd').\\\n",
    "                            union(gds_below_peterman_df.select('message_id', 'hotel_id', 'check_in_date', 'check_out_date', 'tuid', 'rate_index', 'message_date', 'hotel_result_index', 'city', 'star_rating', 'filter_want_in_policy_rates_only', 'filter_eligible_for_loyalty', 'filter_free_breakfast', 'filter_free_wifi', 'filter_free_parking',  'rate_type', 'eligible_for_loyalty', 'free_breakfast', 'free_wifi', 'free_parking', 'refundable',  'src_rate_amount_usd', 'src_commission_base_usd', 'src_supply_revenue_usd'))"
   ]
  },
  {
   "cell_type": "code",
   "execution_count": 20,
   "metadata": {},
   "outputs": [
    {
     "name": "stdout",
     "output_type": "stream",
     "text": [
      "59865961"
     ]
    }
   ],
   "source": [
    "search_revenue_below_peterman_usd_df.count()"
   ]
  },
  {
   "cell_type": "code",
   "execution_count": 21,
   "metadata": {},
   "outputs": [
    {
     "name": "stdout",
     "output_type": "stream",
     "text": [
      "+---------+---------------------------+\n",
      "|rate_type|avg(src_supply_revenue_usd)|\n",
      "+---------+---------------------------+\n",
      "|     EPRA|          27.91742984711789|\n",
      "|     EPRM|         37.865968243569846|\n",
      "|     ESRM|         34.585569360666746|\n",
      "|     ESRA|          25.54032326778975|\n",
      "|      GDS|          19.49274424419558|\n",
      "+---------+---------------------------+"
     ]
    }
   ],
   "source": [
    "search_revenue_below_peterman_usd_df.groupBy('rate_type').agg(F.avg('src_supply_revenue_usd')).show()"
   ]
  },
  {
   "cell_type": "code",
   "execution_count": 22,
   "metadata": {},
   "outputs": [],
   "source": [
    "dir = 's3://ege-ds-workshops-corp/yixli/data_understanding/'\n",
    "\n",
    "datestamp = datetime.datetime.now().strftime('%m-%d-%Y')\n",
    "search_revenue_below_peterman_usd_df.repartition(1).write.format('com.databricks.spark.csv').mode('overwrite')\\\n",
    ".save(dir+datestamp+'_search_revenue_below_peterman_usd_df.csv',header = 'true')"
   ]
  },
  {
   "cell_type": "code",
   "execution_count": 23,
   "metadata": {},
   "outputs": [
    {
     "name": "stdout",
     "output_type": "stream",
     "text": [
      "root\n",
      " |-- message_id: string (nullable = true)\n",
      " |-- hotel_id: integer (nullable = true)\n",
      " |-- check_in_date: timestamp (nullable = true)\n",
      " |-- check_out_date: timestamp (nullable = true)\n",
      " |-- tuid: integer (nullable = true)\n",
      " |-- rate_index: integer (nullable = true)\n",
      " |-- message_date: timestamp (nullable = true)\n",
      " |-- hotel_result_index: integer (nullable = true)\n",
      " |-- city: string (nullable = true)\n",
      " |-- star_rating: string (nullable = true)\n",
      " |-- filter_want_in_policy_rates_only: boolean (nullable = true)\n",
      " |-- filter_eligible_for_loyalty: boolean (nullable = true)\n",
      " |-- filter_free_breakfast: boolean (nullable = true)\n",
      " |-- filter_free_wifi: boolean (nullable = true)\n",
      " |-- filter_free_parking: boolean (nullable = true)\n",
      " |-- rate_type: string (nullable = true)\n",
      " |-- eligible_for_loyalty: boolean (nullable = true)\n",
      " |-- free_breakfast: boolean (nullable = true)\n",
      " |-- free_wifi: boolean (nullable = true)\n",
      " |-- free_parking: boolean (nullable = true)\n",
      " |-- refundable: boolean (nullable = true)\n",
      " |-- src_rate_amount_usd: double (nullable = true)\n",
      " |-- src_commission_base_usd: double (nullable = true)\n",
      " |-- src_supply_revenue_usd: double (nullable = true)"
     ]
    }
   ],
   "source": [
    "search_revenue_below_peterman_usd_df.printSchema()"
   ]
  },
  {
   "cell_type": "code",
   "execution_count": null,
   "metadata": {},
   "outputs": [],
   "source": []
  }
 ],
 "metadata": {
  "kernelspec": {
   "display_name": "PySpark3",
   "language": "",
   "name": "pyspark3kernel"
  },
  "language_info": {
   "codemirror_mode": {
    "name": "python",
    "version": 3
   },
   "mimetype": "text/x-python",
   "name": "pyspark3",
   "pygments_lexer": "python3"
  }
 },
 "nbformat": 4,
 "nbformat_minor": 2
}
