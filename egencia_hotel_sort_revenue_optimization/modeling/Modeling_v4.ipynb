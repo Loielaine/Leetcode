{
 "cells": [
  {
   "cell_type": "code",
   "execution_count": 2,
   "metadata": {},
   "outputs": [],
   "source": [
    "import datetime\n",
    "import pandas as pd\n",
    "import numpy as np\n",
    "\n",
    "from pyspark import SparkContext\n",
    "from pyspark import SQLContext\n",
    "from pyspark.sql.session import SparkSession\n",
    "\n",
    "\n",
    "from pyspark.sql import DataFrameStatFunctions as statFunc\n",
    "\n",
    "from pyspark.sql.functions import row_number\n",
    "from pyspark.sql.window import Window\n",
    "from pyspark.sql.functions import desc\n",
    "\n",
    "from pyspark.sql import functions as F\n",
    "from pyspark.sql import types as T\n",
    "from pyspark.sql.types import IntegerType,FloatType,DoubleType"
   ]
  },
  {
   "cell_type": "code",
   "execution_count": 3,
   "metadata": {},
   "outputs": [],
   "source": [
    "%local\n",
    "import pandas as pd\n",
    "import seaborn as sns\n",
    "import numpy as np\n",
    "import matplotlib.pyplot as plt\n",
    "import seaborn as sns\n",
    "pd.options.display.float_format = '{:.5f}'.format"
   ]
  },
  {
   "cell_type": "markdown",
   "metadata": {},
   "source": [
    "## Read data"
   ]
  },
  {
   "cell_type": "code",
   "execution_count": 4,
   "metadata": {},
   "outputs": [
    {
     "name": "stdout",
     "output_type": "stream",
     "text": [
      "3899947"
     ]
    }
   ],
   "source": [
    "search_df = sqlContext.read.parquet('s3://ege-ds-workshops-corp/yixli/data_preparation/bk_rate_all_usd_df_with_label')\n",
    "\n",
    "# load_date between '20200301' and '20200401'\n",
    "\n",
    "search_df = search_df.\\\n",
    "            filter(F.col(\"hotel_id\")>0).\\\n",
    "            filter(F.col(\"src_rate_amount_usd\").isNotNull())\n",
    "print(search_df.count())"
   ]
  },
  {
   "cell_type": "code",
   "execution_count": 5,
   "metadata": {
    "collapsed": true
   },
   "outputs": [
    {
     "name": "stdout",
     "output_type": "stream",
     "text": [
      "+--------------------+--------+-------------+--------------+--------+---------+----------+--------------------+------------------+-----------+--------------+-------------------+----------------+-----------+--------------------------------+---------------------------+---------------------+----------------+-------------------+--------------------+--------------+---------+------------+----------+-------------------+-----------------------+----------------------+-----+\n",
      "|          message_id|hotel_id|check_in_date|check_out_date|    tuid|rate_type|rate_index|        message_date|hotel_result_index|hotel_index|bk_hotel_index|            score_1|            city|star_rating|filter_want_in_policy_rates_only|filter_eligible_for_loyalty|filter_free_breakfast|filter_free_wifi|filter_free_parking|eligible_for_loyalty|free_breakfast|free_wifi|free_parking|refundable|src_rate_amount_usd|src_commission_base_usd|src_supply_revenue_usd|label|\n",
      "+--------------------+--------+-------------+--------------+--------+---------+----------+--------------------+------------------+-----------+--------------+-------------------+----------------+-----------+--------------------------------+---------------------------+---------------------+----------------+-------------------+--------------------+--------------+---------+------------+----------+-------------------+-----------------------+----------------------+-----+\n",
      "|0002099b-9457-46c...|   19783|   2019-12-09|    2019-12-10|16284424|     ESRM|         0|2019-11-21 09:46:...|                 1|          1|             1|0.14403629091682973| wallingford-usa|        3.0|                           false|                      false|                false|           false|              false|               false|         false|     true|        true|     false|               89.0|     10.949999809265137|    15.399999618530273|    0|\n",
      "|000488ba-aa3c-48a...| 8301308|   2019-10-15|    2019-10-17|17820642|     ESRA|         4|2019-10-03 11:50:...|                 1|          1|             1|0.11979323557019537|     toronto-can|        4.0|                           false|                      false|                false|           false|              false|               false|         false|     true|       false|      true|  351.8399963378906|       38.6905655861616|      38.6905655861616|    0|\n",
      "|0006eaa4-3ec6-416...|16116921|   2019-10-08|    2019-10-09|16972053|      GDS|         2|2019-10-02 04:13:...|                21|         21|            21|0.11963478616689523|       paris-fra|        4.0|                           false|                      false|                false|           false|              false|               false|         false|     true|       false|      true|  281.2077160207665|                    0.0|     26.79661728166132|    0|\n",
      "|0008758b-3794-4a2...|  158923|   2019-11-25|    2019-11-27|14179979|     ESRM|         8|2019-10-12 12:33:...|                 2|          2|             2|0.09191750867105987|  rio rancho-usa|        3.0|                           false|                      false|                false|           false|              false|               false|          true|     true|        true|      true|              122.0|     13.760000228881836|    21.200000286102295|    0|\n",
      "|0008892c-1d27-43b...|  912531|   2019-11-03|    2019-11-07|14211005|     ESRM|         1|2019-10-24 03:54:...|                28|         28|            28|0.11254144243353821|    biarritz-fra|        3.0|                           false|                      false|                false|           false|              false|               false|         false|     true|        true|      true|   70.9638017404086|     11.281367807475116|    14.412613569459118|    1|\n",
      "|000c44dd-85fc-4bc...|   20660|   2019-11-19|    2019-11-20| 6431342|     ESRM|         3|2019-11-19 19:25:...|                 4|          1|             1|               null|indianapolis-usa|        3.0|                           false|                      false|                false|           false|              false|               false|          true|     true|        true|     false|              164.0|                   18.5|                  28.5|    0|\n",
      "|000e4f07-c7e7-464...|  202052|   2019-10-18|    2019-10-20| 3130596|     EPRM|         0|2019-10-18 10:02:...|                 6|          5|             5|               null| kansas city-usa|        3.0|                           false|                      false|                false|           false|              false|                true|         false|     true|        true|     false|              139.0|     20.850000381469727|    29.329999923706055|    0|\n",
      "|0014ee41-3118-41d...|   17583|   2019-11-11|    2019-11-22|15597365|     ESRM|         6|2019-11-07 16:57:...|                 1|          1|             1|0.14212674556118807|    new york-usa|        3.0|                           false|                      false|                false|           false|              false|               false|          true|     true|        true|      true|  262.6400146484375|       29.6299991607666|      29.6299991607666|    0|\n",
      "|00157e7d-dede-475...|   41864|   2019-11-11|    2019-11-12|18137020|     EPRA|         7|2019-11-05 09:15:...|                22|          3|             3|               null|    new york-usa|        4.0|                           false|                      false|                false|           false|              false|               false|         false|    false|       false|      true|              292.5|      73.12000274658203|     73.12000274658203|    0|\n",
      "|001652ff-77e6-4c1...|   14877|   2019-12-12|    2019-12-13|20330310|     ESRA|        10|2019-12-03 07:56:...|                 3|          3|             3|0.15609432153715352|   st. louis-usa|        4.0|                           false|                      false|                false|           false|              false|               false|          true|     true|       false|      true|              139.0|      18.06999969482422|     18.06999969482422|    0|\n",
      "+--------------------+--------+-------------+--------------+--------+---------+----------+--------------------+------------------+-----------+--------------+-------------------+----------------+-----------+--------------------------------+---------------------------+---------------------+----------------+-------------------+--------------------+--------------+---------+------------+----------+-------------------+-----------------------+----------------------+-----+\n",
      "only showing top 10 rows"
     ]
    }
   ],
   "source": [
    "search_df.show(10)"
   ]
  },
  {
   "cell_type": "code",
   "execution_count": 6,
   "metadata": {
    "collapsed": true
   },
   "outputs": [
    {
     "name": "stdout",
     "output_type": "stream",
     "text": [
      "root\n",
      " |-- message_id: string (nullable = true)\n",
      " |-- hotel_id: integer (nullable = true)\n",
      " |-- check_in_date: date (nullable = true)\n",
      " |-- check_out_date: date (nullable = true)\n",
      " |-- tuid: integer (nullable = true)\n",
      " |-- rate_type: string (nullable = true)\n",
      " |-- rate_index: integer (nullable = true)\n",
      " |-- message_date: timestamp (nullable = true)\n",
      " |-- hotel_result_index: integer (nullable = true)\n",
      " |-- hotel_index: integer (nullable = true)\n",
      " |-- bk_hotel_index: integer (nullable = true)\n",
      " |-- score_1: double (nullable = true)\n",
      " |-- city: string (nullable = true)\n",
      " |-- star_rating: string (nullable = true)\n",
      " |-- filter_want_in_policy_rates_only: boolean (nullable = true)\n",
      " |-- filter_eligible_for_loyalty: boolean (nullable = true)\n",
      " |-- filter_free_breakfast: boolean (nullable = true)\n",
      " |-- filter_free_wifi: boolean (nullable = true)\n",
      " |-- filter_free_parking: boolean (nullable = true)\n",
      " |-- eligible_for_loyalty: boolean (nullable = true)\n",
      " |-- free_breakfast: boolean (nullable = true)\n",
      " |-- free_wifi: boolean (nullable = true)\n",
      " |-- free_parking: boolean (nullable = true)\n",
      " |-- refundable: boolean (nullable = true)\n",
      " |-- src_rate_amount_usd: double (nullable = true)\n",
      " |-- src_commission_base_usd: double (nullable = true)\n",
      " |-- src_supply_revenue_usd: double (nullable = true)\n",
      " |-- label: integer (nullable = true)"
     ]
    }
   ],
   "source": [
    "search_df.printSchema()"
   ]
  },
  {
   "cell_type": "code",
   "execution_count": 7,
   "metadata": {
    "scrolled": true
   },
   "outputs": [
    {
     "name": "stdout",
     "output_type": "stream",
     "text": [
      "+-----+-------+\n",
      "|label|  count|\n",
      "+-----+-------+\n",
      "|    1| 448687|\n",
      "|    0|3451260|\n",
      "+-----+-------+"
     ]
    }
   ],
   "source": [
    "search_df.groupBy('label').count().show()"
   ]
  },
  {
   "cell_type": "code",
   "execution_count": 8,
   "metadata": {},
   "outputs": [
    {
     "name": "stdout",
     "output_type": "stream",
     "text": [
      "+--------------------+-------+\n",
      "|eligible_for_loyalty|  count|\n",
      "+--------------------+-------+\n",
      "|                true| 655551|\n",
      "|               false|3244396|\n",
      "+--------------------+-------+"
     ]
    }
   ],
   "source": [
    "search_df.groupBy(\"eligible_for_loyalty\").count().show()"
   ]
  },
  {
   "cell_type": "code",
   "execution_count": 9,
   "metadata": {},
   "outputs": [
    {
     "name": "stdout",
     "output_type": "stream",
     "text": [
      "+--------------+-------+\n",
      "|free_breakfast|  count|\n",
      "+--------------+-------+\n",
      "|          true|1933153|\n",
      "|         false|1966794|\n",
      "+--------------+-------+"
     ]
    }
   ],
   "source": [
    "search_df.groupBy(\"free_breakfast\").count().show()"
   ]
  },
  {
   "cell_type": "code",
   "execution_count": 10,
   "metadata": {},
   "outputs": [
    {
     "name": "stdout",
     "output_type": "stream",
     "text": [
      "+---------+-------+\n",
      "|free_wifi|  count|\n",
      "+---------+-------+\n",
      "|     true|3584138|\n",
      "|    false| 315809|\n",
      "+---------+-------+"
     ]
    }
   ],
   "source": [
    "search_df.groupBy(\"free_wifi\").count().show()"
   ]
  },
  {
   "cell_type": "code",
   "execution_count": 11,
   "metadata": {},
   "outputs": [
    {
     "name": "stdout",
     "output_type": "stream",
     "text": [
      "+------------+-------+\n",
      "|free_parking|  count|\n",
      "+------------+-------+\n",
      "|        true|1669856|\n",
      "|       false|2230091|\n",
      "+------------+-------+"
     ]
    }
   ],
   "source": [
    "search_df.groupBy(\"free_parking\").count().show()"
   ]
  },
  {
   "cell_type": "code",
   "execution_count": 12,
   "metadata": {},
   "outputs": [
    {
     "name": "stdout",
     "output_type": "stream",
     "text": [
      "+----------+-------+\n",
      "|refundable|  count|\n",
      "+----------+-------+\n",
      "|      true|2835990|\n",
      "|     false|1063957|\n",
      "+----------+-------+"
     ]
    }
   ],
   "source": [
    "search_df.groupBy(\"refundable\").count().show()"
   ]
  },
  {
   "cell_type": "code",
   "execution_count": 13,
   "metadata": {},
   "outputs": [
    {
     "name": "stdout",
     "output_type": "stream",
     "text": [
      "+---------+-------+\n",
      "|rate_type|  count|\n",
      "+---------+-------+\n",
      "|     EPRA| 222840|\n",
      "|     EPRM| 464910|\n",
      "|     ESRM|1876222|\n",
      "|     ESRA| 804932|\n",
      "|      GDS| 531043|\n",
      "+---------+-------+"
     ]
    }
   ],
   "source": [
    "search_df.groupBy(\"rate_type\").count().show()"
   ]
  },
  {
   "cell_type": "code",
   "execution_count": 93,
   "metadata": {},
   "outputs": [],
   "source": [
    "search_sample = search_df.select('rate_type','src_supply_revenue_usd').sample(False, 0.1, 917)"
   ]
  },
  {
   "cell_type": "code",
   "execution_count": 94,
   "metadata": {},
   "outputs": [],
   "source": [
    "%%spark -o search_sample"
   ]
  },
  {
   "cell_type": "code",
   "execution_count": 97,
   "metadata": {},
   "outputs": [],
   "source": [
    "%local\n",
    "fig3 = plt.figure(figsize=(7,7))\n",
    "search_sample = search_sample.sort_values(by=['rate_type'])\n",
    "fig3 = sns.boxplot(x='rate_type', y='src_supply_revenue_usd',data=search_sample)\n",
    "fig3.set(xlabel='rate_type', ylabel='rate_revenue(USD)')\n",
    "fig3.set_ylim(bottom=0,top=80)\n",
    "plt.tight_layout()\n",
    "plt.savefig('image/rate_revenue_by_type.png')"
   ]
  },
  {
   "cell_type": "code",
   "execution_count": 102,
   "metadata": {},
   "outputs": [],
   "source": [
    "%local\n",
    "search_sample = search_sample.groupby('rate_type').agg({'src_supply_revenue_usd':np.median}).reset_index()"
   ]
  },
  {
   "cell_type": "code",
   "execution_count": 103,
   "metadata": {
    "collapsed": true
   },
   "outputs": [
    {
     "name": "stderr",
     "output_type": "stream",
     "text": [
      "/opt/conda/lib/python3.6/site-packages/autovizwidget/widget/utils.py:50: FutureWarning:\n",
      "\n",
      "A future version of pandas will default to `skipna=True`. To silence this warning, pass `skipna=True|False` explicitly.\n",
      "\n"
     ]
    },
    {
     "data": {
      "application/vnd.jupyter.widget-view+json": {
       "model_id": "dbbed0483d78405bb56c08f7dd4313a5",
       "version_major": 2,
       "version_minor": 0
      },
      "text/plain": [
       "VBox(children=(HBox(children=(HTML(value='Type:'), Button(description='Table', layout=Layout(width='70px'), st…"
      ]
     },
     "metadata": {},
     "output_type": "display_data"
    },
    {
     "data": {
      "application/vnd.jupyter.widget-view+json": {
       "model_id": "1b545c8d931041c89aab73961608975c",
       "version_major": 2,
       "version_minor": 0
      },
      "text/plain": [
       "Output()"
      ]
     },
     "metadata": {},
     "output_type": "display_data"
    }
   ],
   "source": [
    "%local\n",
    "search_sample"
   ]
  },
  {
   "cell_type": "code",
   "execution_count": 14,
   "metadata": {},
   "outputs": [],
   "source": [
    "data_df = search_df.select('hotel_id', 'check_in_date', 'check_out_date', 'tuid', 'rate_type', 'message_id', 'hotel_result_index', 'rate_index', 'message_date', 'score_1', 'city', 'star_rating', 'filter_want_in_policy_rates_only', 'filter_eligible_for_loyalty', 'filter_free_breakfast', 'filter_free_wifi', 'filter_free_parking', 'eligible_for_loyalty', 'free_breakfast', 'free_wifi', 'free_parking', 'refundable', 'src_rate_amount_usd', 'src_commission_base_usd', 'src_supply_revenue_usd','label')\n",
    "                         "
   ]
  },
  {
   "cell_type": "code",
   "execution_count": 15,
   "metadata": {},
   "outputs": [
    {
     "name": "stdout",
     "output_type": "stream",
     "text": [
      "3899947"
     ]
    }
   ],
   "source": [
    "data_df.count()"
   ]
  },
  {
   "cell_type": "code",
   "execution_count": 16,
   "metadata": {},
   "outputs": [
    {
     "name": "stdout",
     "output_type": "stream",
     "text": [
      "root\n",
      " |-- hotel_id: integer (nullable = true)\n",
      " |-- check_in_date: date (nullable = true)\n",
      " |-- check_out_date: date (nullable = true)\n",
      " |-- tuid: integer (nullable = true)\n",
      " |-- rate_type: string (nullable = true)\n",
      " |-- message_id: string (nullable = true)\n",
      " |-- hotel_result_index: integer (nullable = true)\n",
      " |-- rate_index: integer (nullable = true)\n",
      " |-- message_date: timestamp (nullable = true)\n",
      " |-- score_1: double (nullable = true)\n",
      " |-- city: string (nullable = true)\n",
      " |-- star_rating: string (nullable = true)\n",
      " |-- filter_want_in_policy_rates_only: boolean (nullable = true)\n",
      " |-- filter_eligible_for_loyalty: boolean (nullable = true)\n",
      " |-- filter_free_breakfast: boolean (nullable = true)\n",
      " |-- filter_free_wifi: boolean (nullable = true)\n",
      " |-- filter_free_parking: boolean (nullable = true)\n",
      " |-- eligible_for_loyalty: boolean (nullable = true)\n",
      " |-- free_breakfast: boolean (nullable = true)\n",
      " |-- free_wifi: boolean (nullable = true)\n",
      " |-- free_parking: boolean (nullable = true)\n",
      " |-- refundable: boolean (nullable = true)\n",
      " |-- src_rate_amount_usd: double (nullable = true)\n",
      " |-- src_commission_base_usd: double (nullable = true)\n",
      " |-- src_supply_revenue_usd: double (nullable = true)\n",
      " |-- label: integer (nullable = true)"
     ]
    }
   ],
   "source": [
    "data_df.printSchema()"
   ]
  },
  {
   "cell_type": "code",
   "execution_count": 17,
   "metadata": {},
   "outputs": [],
   "source": [
    "data_df = data_df.withColumn('rate_n',F.count('rate_index').\\\n",
    "                                                  over(Window.partitionBy(\"message_id\",\"hotel_id\",\"check_in_date\",\"check_out_date\",'tuid')))"
   ]
  },
  {
   "cell_type": "code",
   "execution_count": 18,
   "metadata": {},
   "outputs": [],
   "source": [
    "data_df = data_df.withColumn('row_index', row_number().over(Window.orderBy(F.monotonically_increasing_id())))"
   ]
  },
  {
   "cell_type": "code",
   "execution_count": 19,
   "metadata": {},
   "outputs": [],
   "source": [
    "data_df = data_df.\\\n",
    "             withColumn(\"rate_index\", data_df.rate_index.cast(\"integer\")).\\\n",
    "            withColumn(\"star_rating\", data_df.star_rating.cast(\"float\")).\\\n",
    "            withColumn(\"eligible_for_loyalty\", data_df.eligible_for_loyalty.cast(\"integer\")).\\\n",
    "            withColumn(\"free_breakfast\", data_df.free_breakfast.cast(\"integer\")).\\\n",
    "            withColumn(\"free_wifi\", data_df.free_wifi.cast(\"integer\")).\\\n",
    "            withColumn(\"free_parking\", data_df.free_parking.cast(\"integer\")).\\\n",
    "            withColumn(\"refundable\", data_df.refundable.cast(\"integer\"))"
   ]
  },
  {
   "cell_type": "markdown",
   "metadata": {},
   "source": [
    "## Fill missing values"
   ]
  },
  {
   "cell_type": "code",
   "execution_count": 20,
   "metadata": {},
   "outputs": [],
   "source": [
    "from pyspark.ml.feature import Imputer"
   ]
  },
  {
   "cell_type": "code",
   "execution_count": 21,
   "metadata": {},
   "outputs": [
    {
     "name": "stdout",
     "output_type": "stream",
     "text": [
      "+--------+-------------+--------------+----+---------+----------+------------------+----------+------------+-------+----+-----------+--------------------------------+---------------------------+---------------------+----------------+-------------------+--------------------+--------------+---------+------------+----------+-------------------+-----------------------+----------------------+-----+------+---------+\n",
      "|hotel_id|check_in_date|check_out_date|tuid|rate_type|message_id|hotel_result_index|rate_index|message_date|score_1|city|star_rating|filter_want_in_policy_rates_only|filter_eligible_for_loyalty|filter_free_breakfast|filter_free_wifi|filter_free_parking|eligible_for_loyalty|free_breakfast|free_wifi|free_parking|refundable|src_rate_amount_usd|src_commission_base_usd|src_supply_revenue_usd|label|rate_n|row_index|\n",
      "+--------+-------------+--------------+----+---------+----------+------------------+----------+------------+-------+----+-----------+--------------------------------+---------------------------+---------------------+----------------+-------------------+--------------------+--------------+---------+------------+----------+-------------------+-----------------------+----------------------+-----+------+---------+\n",
      "|       0|            0|             0|   0|        0|         0|                 0|         0|           0| 316071|   0|      16845|                               0|                          0|                    0|               0|                  0|                   0|             0|        0|           0|         0|                  0|                      0|                     0|    0|     0|        0|\n",
      "+--------+-------------+--------------+----+---------+----------+------------------+----------+------------+-------+----+-----------+--------------------------------+---------------------------+---------------------+----------------+-------------------+--------------------+--------------+---------+------------+----------+-------------------+-----------------------+----------------------+-----+------+---------+"
     ]
    }
   ],
   "source": [
    "data_df.select([F.count(F.when(F.col(c).isNull(), c)).alias(c) for c in data_df.columns]).show()"
   ]
  },
  {
   "cell_type": "code",
   "execution_count": 22,
   "metadata": {},
   "outputs": [],
   "source": [
    "imputer = Imputer(inputCols=['star_rating'],\n",
    "outputCols=['star_rating'])\n",
    "data_df = imputer.fit(data_df).transform(data_df)"
   ]
  },
  {
   "cell_type": "markdown",
   "metadata": {},
   "source": [
    "## Features"
   ]
  },
  {
   "cell_type": "code",
   "execution_count": 23,
   "metadata": {},
   "outputs": [],
   "source": [
    "from pyspark.ml.feature import OneHotEncoderEstimator, StringIndexer, VectorAssembler,StandardScaler\n",
    "\n",
    "categoricalColumns = []\n",
    "#booleanColumns = ['filter_want_in_policy_rates_only', 'filter_eligible_for_loyalty', 'filter_free_breakfast', 'filter_free_wifi', 'filter_free_parking',\n",
    " #                 \"eligible_for_loyalty\",\"free_breakfast\",\"free_wifi\",\"free_parking\",\"refundable\"]\n",
    "booleanColumns = [\"eligible_for_loyalty\",\"free_breakfast\",\"free_wifi\",\"free_parking\",\"refundable\"]\n",
    "numericCols =[\"src_rate_amount_usd\",\"rate_index\",\"star_rating\",'rate_n']\n",
    "stages = [] # stages in our Pipeline\n",
    "\n",
    "for categoricalCol in categoricalColumns:\n",
    "    # Category Indexing with StringIndexer\n",
    "    stringIndexer = StringIndexer(inputCol=categoricalCol, outputCol=categoricalCol + \"Index\")\n",
    "    \n",
    "    encoder = OneHotEncoderEstimator(inputCols=[stringIndexer.getOutputCol()], outputCols=[categoricalCol + \"classVec\"])\n",
    "    # Add stages.  These are not run here, but will run all at once later on.\n",
    "    stages += [stringIndexer, encoder]\n",
    "\n",
    "\n",
    "assemblerInputs = [c + \"classVec\" for c in categoricalColumns] + booleanColumns + numericCols\n",
    "assembler = VectorAssembler(inputCols=assemblerInputs, outputCol=\"_features\")\n",
    "stages += [assembler]\n",
    "\n",
    "# Standardize Features\n",
    "scaler = StandardScaler(inputCol=\"_features\", \n",
    "                            outputCol=\"features\", \n",
    "                            withStd=True, withMean=False)\n",
    "stages += [scaler]\n",
    "\n"
   ]
  },
  {
   "cell_type": "markdown",
   "metadata": {},
   "source": [
    "## Train, test data"
   ]
  },
  {
   "cell_type": "code",
   "execution_count": 24,
   "metadata": {},
   "outputs": [],
   "source": [
    "from pyspark.ml import Pipeline\n",
    "pipeline = Pipeline(stages = stages)\n",
    "\n",
    "samples_df = data_df.select(['label','row_index'] + categoricalColumns + booleanColumns + numericCols)\n",
    "\n",
    "pipelineModel = pipeline.fit(samples_df)\n",
    "samples_tm_df = pipelineModel.transform(samples_df)"
   ]
  },
  {
   "cell_type": "code",
   "execution_count": 25,
   "metadata": {},
   "outputs": [
    {
     "name": "stdout",
     "output_type": "stream",
     "text": [
      "Training Dataset Count: 3119666\n",
      "Test Dataset Count: 780281"
     ]
    }
   ],
   "source": [
    "train, test = samples_tm_df.randomSplit([0.8, 0.2], seed = 917)\n",
    "print(\"Training Dataset Count: \" + str(train.count()))\n",
    "print(\"Test Dataset Count: \" + str(test.count()))"
   ]
  },
  {
   "cell_type": "markdown",
   "metadata": {},
   "source": [
    "## downsampling Train data"
   ]
  },
  {
   "cell_type": "code",
   "execution_count": 26,
   "metadata": {},
   "outputs": [],
   "source": [
    "train_1= train.where(F.col('label')==1)"
   ]
  },
  {
   "cell_type": "code",
   "execution_count": 27,
   "metadata": {},
   "outputs": [],
   "source": [
    "train_0=train.where(F.col('label')==0).sample(False, 0.4, seed = 917)"
   ]
  },
  {
   "cell_type": "code",
   "execution_count": 28,
   "metadata": {},
   "outputs": [],
   "source": [
    "train_final = train_0.union(train_1)"
   ]
  },
  {
   "cell_type": "code",
   "execution_count": 29,
   "metadata": {},
   "outputs": [
    {
     "name": "stdout",
     "output_type": "stream",
     "text": [
      "1463623"
     ]
    }
   ],
   "source": [
    "train_final.count()"
   ]
  },
  {
   "cell_type": "code",
   "execution_count": 30,
   "metadata": {},
   "outputs": [
    {
     "name": "stdout",
     "output_type": "stream",
     "text": [
      "+-----+-------+\n",
      "|label|  count|\n",
      "+-----+-------+\n",
      "|    1| 359271|\n",
      "|    0|1104352|\n",
      "+-----+-------+"
     ]
    }
   ],
   "source": [
    "train_final.groupBy('label').count().show()"
   ]
  },
  {
   "cell_type": "code",
   "execution_count": 31,
   "metadata": {},
   "outputs": [
    {
     "name": "stdout",
     "output_type": "stream",
     "text": [
      "+-----+-------+\n",
      "|label|  count|\n",
      "+-----+-------+\n",
      "|    0|2760395|\n",
      "|    1| 359271|\n",
      "+-----+-------+"
     ]
    }
   ],
   "source": [
    "train.groupBy('label').count().show()"
   ]
  },
  {
   "cell_type": "code",
   "execution_count": 32,
   "metadata": {},
   "outputs": [
    {
     "name": "stdout",
     "output_type": "stream",
     "text": [
      "+-----+------+\n",
      "|label| count|\n",
      "+-----+------+\n",
      "|    0|690865|\n",
      "|    1| 89416|\n",
      "+-----+------+"
     ]
    }
   ],
   "source": [
    "test.groupBy('label').count().show()"
   ]
  },
  {
   "cell_type": "markdown",
   "metadata": {},
   "source": [
    "## Baseline: Logistic regression"
   ]
  },
  {
   "cell_type": "code",
   "execution_count": 33,
   "metadata": {},
   "outputs": [],
   "source": [
    "from pyspark.ml.classification import LogisticRegression\n",
    "\n",
    "lr = LogisticRegression(labelCol=\"label\", featuresCol=\"features\")\n",
    "lrModel = lr.fit(train)"
   ]
  },
  {
   "cell_type": "code",
   "execution_count": 34,
   "metadata": {},
   "outputs": [],
   "source": [
    "predictions = lrModel.transform(test)"
   ]
  },
  {
   "cell_type": "code",
   "execution_count": 35,
   "metadata": {},
   "outputs": [
    {
     "name": "stdout",
     "output_type": "stream",
     "text": [
      "0.7410485623542459"
     ]
    }
   ],
   "source": [
    "from pyspark.ml.evaluation import BinaryClassificationEvaluator\n",
    "evaluator = BinaryClassificationEvaluator(rawPredictionCol=\"rawPrediction\",metricName=\"areaUnderROC\")\n",
    "evaluator.evaluate(predictions)"
   ]
  },
  {
   "cell_type": "code",
   "execution_count": 36,
   "metadata": {
    "scrolled": true
   },
   "outputs": [
    {
     "name": "stdout",
     "output_type": "stream",
     "text": [
      "+----------+-----+------+\n",
      "|prediction|label| count|\n",
      "+----------+-----+------+\n",
      "|       0.0|    0|690657|\n",
      "|       1.0|    0|   208|\n",
      "|       0.0|    1| 88931|\n",
      "|       1.0|    1|   485|\n",
      "+----------+-----+------+"
     ]
    }
   ],
   "source": [
    "predictions.groupBy('prediction','label').count().show()"
   ]
  },
  {
   "cell_type": "code",
   "execution_count": 30,
   "metadata": {},
   "outputs": [
    {
     "name": "stdout",
     "output_type": "stream",
     "text": [
      "DenseVector([-0.1405, 0.1943, 0.1313, -0.258, 0.1077, -0.5577, -0.8095, 0.0812, -0.1401])"
     ]
    }
   ],
   "source": [
    "lrModel.coefficients"
   ]
  },
  {
   "cell_type": "markdown",
   "metadata": {},
   "source": [
    "## Baseline: Logistic regression with downsampling"
   ]
  },
  {
   "cell_type": "code",
   "execution_count": 37,
   "metadata": {},
   "outputs": [],
   "source": [
    "from pyspark.ml.classification import LogisticRegression\n",
    "\n",
    "lr = LogisticRegression(labelCol=\"label\", featuresCol=\"features\")\n",
    "lrModel = lr.fit(train_final)"
   ]
  },
  {
   "cell_type": "code",
   "execution_count": 38,
   "metadata": {},
   "outputs": [],
   "source": [
    "predictions = lrModel.transform(test)"
   ]
  },
  {
   "cell_type": "code",
   "execution_count": 39,
   "metadata": {},
   "outputs": [
    {
     "name": "stdout",
     "output_type": "stream",
     "text": [
      "0.7411949428892107"
     ]
    }
   ],
   "source": [
    "from pyspark.ml.evaluation import BinaryClassificationEvaluator\n",
    "evaluator = BinaryClassificationEvaluator(rawPredictionCol=\"rawPrediction\",metricName=\"areaUnderROC\")\n",
    "evaluator.evaluate(predictions)"
   ]
  },
  {
   "cell_type": "code",
   "execution_count": 40,
   "metadata": {},
   "outputs": [
    {
     "name": "stdout",
     "output_type": "stream",
     "text": [
      "+----------+-----+------+\n",
      "|prediction|label| count|\n",
      "+----------+-----+------+\n",
      "|       0.0|    0|666394|\n",
      "|       1.0|    0| 24471|\n",
      "|       0.0|    1| 72499|\n",
      "|       1.0|    1| 16917|\n",
      "+----------+-----+------+"
     ]
    }
   ],
   "source": [
    "predictions.groupBy('prediction','label').count().show()"
   ]
  },
  {
   "cell_type": "markdown",
   "metadata": {},
   "source": [
    "## Random Forest"
   ]
  },
  {
   "cell_type": "code",
   "execution_count": 41,
   "metadata": {},
   "outputs": [],
   "source": [
    "from pyspark.ml.classification import RandomForestClassifier, RandomForestClassificationModel\n",
    "from pyspark.ml.tuning import CrossValidator, ParamGridBuilder, TrainValidationSplit\n",
    "from pyspark.ml.evaluation import BinaryClassificationEvaluator\n",
    "# Initiate RF model\n",
    "rf = RandomForestClassifier(featuresCol='features', labelCol='label')\n",
    "\n",
    "# Build evaluator\n",
    "evaluator =  BinaryClassificationEvaluator()\n",
    "\n",
    "# Set parameters\n",
    "paramGrid = (ParamGridBuilder()\n",
    "             .addGrid(rf.maxDepth, [4,6])\n",
    "             .addGrid(rf.maxBins, [20,40])\n",
    "             .addGrid(rf.numTrees, [100])\n",
    "             .build())"
   ]
  },
  {
   "cell_type": "code",
   "execution_count": 42,
   "metadata": {},
   "outputs": [],
   "source": [
    "def cv_train_model(model,paramGrid,evaluator,numFolds,trainData_new):\n",
    "    cv = CrossValidator(estimator=model, estimatorParamMaps=paramGrid, evaluator=evaluator, numFolds=numFolds)\n",
    "    cv_Model = cv.fit(trainData_new)\n",
    "    print (cv_Model.bestModel)\n",
    "    return cv_Model"
   ]
  },
  {
   "cell_type": "code",
   "execution_count": 43,
   "metadata": {},
   "outputs": [
    {
     "name": "stdout",
     "output_type": "stream",
     "text": [
      "RandomForestClassificationModel (uid=RandomForestClassifier_c5c95cdca4ff) with 100 trees"
     ]
    }
   ],
   "source": [
    "rfCvModel = cv_train_model(rf,paramGrid,evaluator,5,train_final)"
   ]
  },
  {
   "cell_type": "markdown",
   "metadata": {},
   "source": [
    "## Evaluate"
   ]
  },
  {
   "cell_type": "code",
   "execution_count": 44,
   "metadata": {},
   "outputs": [],
   "source": [
    "from pyspark.mllib.evaluation import BinaryClassificationMetrics, MulticlassMetrics"
   ]
  },
  {
   "cell_type": "code",
   "execution_count": 45,
   "metadata": {},
   "outputs": [
    {
     "name": "stdout",
     "output_type": "stream",
     "text": [
      "0.7561615231337737"
     ]
    }
   ],
   "source": [
    "# Evaluate on training data\n",
    "evaluator = BinaryClassificationEvaluator(rawPredictionCol=\"rawPrediction\",metricName=\"areaUnderROC\")\n",
    "rf_cv_model_train_prediction = rfCvModel.transform(train_final)\n",
    "evaluator.evaluate(rf_cv_model_train_prediction)"
   ]
  },
  {
   "cell_type": "code",
   "execution_count": 46,
   "metadata": {},
   "outputs": [
    {
     "name": "stdout",
     "output_type": "stream",
     "text": [
      "0.7565660886231497"
     ]
    }
   ],
   "source": [
    "rf_cv_model_test_prediction = rfCvModel.transform(test)\n",
    "evaluator.evaluate(rf_cv_model_test_prediction)"
   ]
  },
  {
   "cell_type": "code",
   "execution_count": 47,
   "metadata": {},
   "outputs": [
    {
     "name": "stdout",
     "output_type": "stream",
     "text": [
      "+----------+-----+------+\n",
      "|prediction|label| count|\n",
      "+----------+-----+------+\n",
      "|       0.0|    0|675436|\n",
      "|       1.0|    0| 15429|\n",
      "|       0.0|    1| 73379|\n",
      "|       1.0|    1| 16037|\n",
      "+----------+-----+------+"
     ]
    }
   ],
   "source": [
    "rf_cv_model_test_prediction.groupBy('prediction','label').count().show()"
   ]
  },
  {
   "cell_type": "code",
   "execution_count": 89,
   "metadata": {},
   "outputs": [],
   "source": [
    "%%spark -o sample_predictions"
   ]
  },
  {
   "cell_type": "markdown",
   "metadata": {},
   "source": [
    "### AOC"
   ]
  },
  {
   "cell_type": "code",
   "execution_count": 91,
   "metadata": {},
   "outputs": [],
   "source": [
    "%%local\n",
    "from sklearn.metrics import roc_curve,auc\n",
    "import matplotlib.pyplot as plt\n",
    "labels = sample_predictions[\"label\"]\n",
    "probabilities = sample_predictions[\"probability\"]\n",
    "prob = []\n",
    "for dv in probabilities:\n",
    "    prob.append(dv['values'][1])\n",
    "fpr, tpr, thresholds = roc_curve(labels, prob, pos_label=1);\n",
    "roc_auc = auc(fpr, tpr)\n",
    "\n",
    "fig1 = plt.figure(figsize=(7,7))\n",
    "plt.plot(fpr, tpr, label='ROC curve (area = %0.2f)' % roc_auc)\n",
    "plt.plot([0, 1], [0, 1], 'k--')\n",
    "plt.xlim([-0.01, 1.0]); plt.ylim([-0.01, 1.05]);\n",
    "plt.xlabel('False Positive Rate'); plt.ylabel('True Positive Rate');\n",
    "plt.title('ROC Curve'); plt.legend(loc=\"lower right\");\n",
    "plt.savefig('image/roc3.png')"
   ]
  },
  {
   "cell_type": "markdown",
   "metadata": {},
   "source": [
    "### Distribution of probabilities"
   ]
  },
  {
   "cell_type": "code",
   "execution_count": 92,
   "metadata": {},
   "outputs": [],
   "source": [
    "%%local\n",
    "fig2 = plt.figure(figsize=(7,7))\n",
    "#plt.hist(prob, bins=100, alpha=0.5)\n",
    "sample_predictions['prob'] = prob\n",
    "sample_predictions.groupby(\"label\").prob.plot(kind='density', xlim=[-0.01,1.01])\n",
    "#sample_predictions.prob.plot(kind='density', xlim=[-0.01,1.01])\n",
    "plt.title('Distribution of predicted probabilities')\n",
    "plt.xlabel('Predict. prob.'); plt.ylabel('Prob');\n",
    "plt.legend(loc=\"lower right\");\n",
    "plt.xlim(0,1)\n",
    "plt.savefig('image/prob3.png')"
   ]
  },
  {
   "cell_type": "code",
   "execution_count": 96,
   "metadata": {
    "collapsed": true
   },
   "outputs": [
    {
     "data": {
      "text/plain": [
       "0     0.279381\n",
       "1     0.325438\n",
       "2     0.089923\n",
       "3     0.137710\n",
       "4     0.176192\n",
       "5     0.096528\n",
       "6     0.088336\n",
       "7     0.443244\n",
       "8     0.088336\n",
       "9     0.092025\n",
       "10    0.170920\n",
       "11    0.091934\n",
       "12    0.090866\n",
       "13    0.090990\n",
       "14    0.090990\n",
       "15    0.123913\n",
       "16    0.090677\n",
       "17    0.097914\n",
       "18    0.095333\n",
       "19    0.173949\n",
       "20    0.081866\n",
       "21    0.091432\n",
       "22    0.097769\n",
       "23    0.089016\n",
       "24    0.082004\n",
       "25    0.090106\n",
       "26    0.090096\n",
       "27    0.082861\n",
       "28    0.086894\n",
       "29    0.118066\n",
       "30    0.125085\n",
       "31    0.275512\n",
       "32    0.090990\n",
       "33    0.183322\n",
       "34    0.089239\n",
       "35    0.086169\n",
       "36    0.097769\n",
       "37    0.135722\n",
       "38    0.190099\n",
       "39    0.158392\n",
       "40    0.091159\n",
       "41    0.132281\n",
       "42    0.122867\n",
       "43    0.099318\n",
       "44    0.091159\n",
       "45    0.080789\n",
       "46    0.095902\n",
       "47    0.198132\n",
       "48    0.086894\n",
       "49    0.097769\n",
       "Name: prob, dtype: float64"
      ]
     },
     "execution_count": 96,
     "metadata": {},
     "output_type": "execute_result"
    }
   ],
   "source": [
    "%%local\n",
    "sample_predictions['prob'].head(50)"
   ]
  },
  {
   "cell_type": "markdown",
   "metadata": {},
   "source": [
    "## Feature importance"
   ]
  },
  {
   "cell_type": "code",
   "execution_count": 48,
   "metadata": {},
   "outputs": [],
   "source": [
    "def extract_feature_importance(featureImp, df, featuresCol):\n",
    "    list_extract = []\n",
    "    # featuresCol: _features\n",
    "    for i in df.schema[featuresCol].metadata[\"ml_attr\"][\"attrs\"]:\n",
    "        list_extract = list_extract + df.schema[featuresCol].metadata[\"ml_attr\"][\"attrs\"][i]\n",
    "    varlist = pd.DataFrame(list_extract)\n",
    "    varlist['score'] = varlist['idx'].apply(lambda x: featureImp[x])\n",
    "    return(varlist.sort_values('score', ascending = False))"
   ]
  },
  {
   "cell_type": "code",
   "execution_count": 49,
   "metadata": {},
   "outputs": [],
   "source": [
    "feature_importance = extract_feature_importance(rfCvModel.bestModel.featureImportances, \n",
    "                          rf_cv_model_test_prediction, \"_features\")\n",
    "feature_importance['score'] = feature_importance['score'].round(4)\n",
    "feature_importance['name'] = list(map(lambda x: x.replace('_importantclassVec','').replace('classVec',''),feature_importance['name']))"
   ]
  },
  {
   "cell_type": "code",
   "execution_count": 50,
   "metadata": {
    "scrolled": true
   },
   "outputs": [
    {
     "name": "stdout",
     "output_type": "stream",
     "text": [
      "   idx                  name   score\n",
      "6    6            rate_index  0.4731\n",
      "8    8                rate_n  0.2618\n",
      "5    5   src_rate_amount_usd  0.1246\n",
      "7    7           star_rating  0.0653\n",
      "0    0  eligible_for_loyalty  0.0268\n",
      "3    3          free_parking  0.0207\n",
      "1    1        free_breakfast  0.0148\n",
      "2    2             free_wifi  0.0096\n",
      "4    4            refundable  0.0032"
     ]
    }
   ],
   "source": [
    "feature_importance"
   ]
  },
  {
   "cell_type": "code",
   "execution_count": 51,
   "metadata": {},
   "outputs": [
    {
     "name": "stdout",
     "output_type": "stream",
     "text": [
      "+--------------------+--------------------+\n",
      "|weights             |features            |\n",
      "+--------------------+--------------------+\n",
      "|-0.7580464341332018 |rate_index          |\n",
      "|-0.5986107251283161 |src_rate_amount_usd |\n",
      "|-0.28631360350362706|free_parking        |\n",
      "|-0.1942755570299147 |rate_n              |\n",
      "|-0.19101800670441726|eligible_for_loyalty|\n",
      "|0.14795973395282574 |free_breakfast      |\n",
      "|0.136140129616197   |free_wifi           |\n",
      "|0.09772318452500461 |refundable          |\n",
      "|0.09125523433152447 |star_rating         |\n",
      "+--------------------+--------------------+"
     ]
    }
   ],
   "source": [
    "weights = lrModel.coefficients\n",
    "features = feature_importance.sort_values(by=['idx'])['name'].values\n",
    "weightsDF = sqlContext.createDataFrame(sc.parallelize([(float(w),f) for w,f in zip(weights,features)]),['weights','features'])\n",
    "weightsDF = weightsDF.withColumn('weights_abs',F.abs(F.col('weights')))\n",
    "weightsDF = weightsDF.orderBy([\"weights_abs\"], ascending=False)\n",
    "weightsDF = weightsDF.drop(\"weights_abs\")\n",
    "weightsDF.show(len(features),False)"
   ]
  },
  {
   "cell_type": "markdown",
   "metadata": {},
   "source": [
    "## Prediction"
   ]
  },
  {
   "cell_type": "markdown",
   "metadata": {},
   "source": [
    "### read last search data"
   ]
  },
  {
   "cell_type": "code",
   "execution_count": 52,
   "metadata": {},
   "outputs": [],
   "source": [
    "last_search_df = sqlContext.read.parquet('s3://ege-ds-workshops-corp/yixli/data_preparation/rate_all_usd_2019')"
   ]
  },
  {
   "cell_type": "code",
   "execution_count": 53,
   "metadata": {},
   "outputs": [
    {
     "name": "stdout",
     "output_type": "stream",
     "text": [
      "root\n",
      " |-- message_id: string (nullable = true)\n",
      " |-- hotel_id: integer (nullable = true)\n",
      " |-- check_in_date: date (nullable = true)\n",
      " |-- check_out_date: date (nullable = true)\n",
      " |-- tuid: integer (nullable = true)\n",
      " |-- rate_index: integer (nullable = true)\n",
      " |-- message_date: timestamp (nullable = true)\n",
      " |-- hotel_result_index: integer (nullable = true)\n",
      " |-- hotel_index: integer (nullable = true)\n",
      " |-- bk_hotel_index: integer (nullable = true)\n",
      " |-- score_1: double (nullable = true)\n",
      " |-- city: string (nullable = true)\n",
      " |-- star_rating: string (nullable = true)\n",
      " |-- filter_want_in_policy_rates_only: boolean (nullable = true)\n",
      " |-- filter_eligible_for_loyalty: boolean (nullable = true)\n",
      " |-- filter_free_breakfast: boolean (nullable = true)\n",
      " |-- filter_free_wifi: boolean (nullable = true)\n",
      " |-- filter_free_parking: boolean (nullable = true)\n",
      " |-- rate_type: string (nullable = true)\n",
      " |-- eligible_for_loyalty: boolean (nullable = true)\n",
      " |-- free_breakfast: boolean (nullable = true)\n",
      " |-- free_wifi: boolean (nullable = true)\n",
      " |-- free_parking: boolean (nullable = true)\n",
      " |-- refundable: boolean (nullable = true)\n",
      " |-- src_rate_amount_usd: double (nullable = true)\n",
      " |-- src_commission_base_usd: double (nullable = true)\n",
      " |-- src_supply_revenue_usd: double (nullable = true)"
     ]
    }
   ],
   "source": [
    "last_search_df.printSchema()"
   ]
  },
  {
   "cell_type": "markdown",
   "metadata": {},
   "source": [
    "### transform data"
   ]
  },
  {
   "cell_type": "code",
   "execution_count": 54,
   "metadata": {},
   "outputs": [],
   "source": [
    "data_df = last_search_df.select('hotel_id', 'check_in_date', 'check_out_date', 'tuid', 'rate_type', 'message_id', 'hotel_index','hotel_result_index', 'rate_index', 'message_date', 'score_1', 'city', 'star_rating', 'filter_want_in_policy_rates_only', 'filter_eligible_for_loyalty', 'filter_free_breakfast', 'filter_free_wifi', 'filter_free_parking', 'eligible_for_loyalty', 'free_breakfast', 'free_wifi', 'free_parking', 'refundable', 'bk_hotel_index', 'src_rate_amount_usd', 'src_commission_base_usd', 'src_supply_revenue_usd')\n",
    "                         "
   ]
  },
  {
   "cell_type": "code",
   "execution_count": 55,
   "metadata": {},
   "outputs": [],
   "source": [
    "data_df = data_df.withColumn('rate_n',F.count('rate_index').\\\n",
    "                                                  over(Window.partitionBy(\"message_id\",\"hotel_id\",\"check_in_date\",\"check_out_date\",'tuid')))"
   ]
  },
  {
   "cell_type": "code",
   "execution_count": 56,
   "metadata": {},
   "outputs": [],
   "source": [
    "data_df = data_df.withColumn('row_index', row_number().over(Window.orderBy(F.monotonically_increasing_id())))"
   ]
  },
  {
   "cell_type": "code",
   "execution_count": 57,
   "metadata": {
    "collapsed": true
   },
   "outputs": [
    {
     "name": "stdout",
     "output_type": "stream",
     "text": [
      "+--------+-------------+--------------+--------+---------+--------------------+-----------+------------------+----------+--------------------+--------------------+------------------+-----------+--------------------------------+---------------------------+---------------------+----------------+-------------------+--------------------+--------------+---------+------------+----------+--------------+-------------------+-----------------------+----------------------+------+---------+\n",
      "|hotel_id|check_in_date|check_out_date|    tuid|rate_type|          message_id|hotel_index|hotel_result_index|rate_index|        message_date|             score_1|              city|star_rating|filter_want_in_policy_rates_only|filter_eligible_for_loyalty|filter_free_breakfast|filter_free_wifi|filter_free_parking|eligible_for_loyalty|free_breakfast|free_wifi|free_parking|refundable|bk_hotel_index|src_rate_amount_usd|src_commission_base_usd|src_supply_revenue_usd|rate_n|row_index|\n",
      "+--------+-------------+--------------+--------+---------+--------------------+-----------+------------------+----------+--------------------+--------------------+------------------+-----------+--------------------------------+---------------------------+---------------------+----------------+-------------------+--------------------+--------------+---------+------------+----------+--------------+-------------------+-----------------------+----------------------+------+---------+\n",
      "|11565988|   2019-12-19|    2019-12-20|15810689|     EPRM|0002094c-7769-47f...|         21|                21|         9|2019-12-18 05:33:...|-1.79769313486231...|ivry-sur-seine-fra|        2.0|                           false|                      false|                false|           false|              false|               false|          true|     true|       false|      true|             5|  89.35081953470186|      7.047576870373362|     10.96042700479589|    12|        1|\n",
      "|11565988|   2019-12-19|    2019-12-20|15810689|     ESRM|0002094c-7769-47f...|         21|                21|         4|2019-12-18 05:33:...|-1.79769313486231...|ivry-sur-seine-fra|        2.0|                           false|                      false|                false|           false|              false|               false|         false|     true|       false|      true|             5|  78.80168896136982|      13.95064494301338|      17.4410852552679|    12|        2|\n",
      "|11565988|   2019-12-19|    2019-12-20|15810689|     ESRA|0002094c-7769-47f...|         21|                21|         2|2019-12-18 05:33:...|-1.79769313486231...|ivry-sur-seine-fra|        2.0|                           false|                      false|                false|           false|              false|               false|         false|     true|       false|      true|             5|  76.70075589150717|      6.280569247851734|     6.903068138896848|    12|        3|\n",
      "|11565988|   2019-12-19|    2019-12-20|15810689|     ESRM|0002094c-7769-47f...|         21|                21|         5|2019-12-18 05:33:...|-1.79769313486231...|ivry-sur-seine-fra|        2.0|                           false|                      false|                false|           false|              false|               false|         false|     true|       false|      true|             5|  78.80168896136982|      13.95064494301338|      17.4410852552679|    12|        4|\n",
      "|11565988|   2019-12-19|    2019-12-20|15810689|     ESRM|0002094c-7769-47f...|         21|                21|         7|2019-12-18 05:33:...|-1.79769313486231...|ivry-sur-seine-fra|        2.0|                           false|                      false|                false|           false|              false|               false|         false|     true|       false|      true|             5|  79.56869923416467|      6.280569247851734|     9.771009560106256|    12|        5|\n",
      "|11565988|   2019-12-19|    2019-12-20|15810689|     ESRM|0002094c-7769-47f...|         21|                21|         0|2019-12-18 05:33:...|-1.79769313486231...|ivry-sur-seine-fra|        2.0|                           false|                      false|                false|           false|              false|               false|         false|     true|       false|     false|             5|   74.9444177066976|      5.913739630570659|     9.192974899227517|    12|        6|\n",
      "|11565988|   2019-12-19|    2019-12-20|15810689|     ESRA|0002094c-7769-47f...|         21|                21|         3|2019-12-18 05:33:...|-1.79769313486231...|ivry-sur-seine-fra|        2.0|                           false|                      false|                false|           false|              false|               false|         false|     true|       false|      true|             5|  76.70075589150717|      6.280569247851734|     6.903068138896848|    12|        7|\n",
      "|11565988|   2019-12-19|    2019-12-20|15810689|     EPRA|0002094c-7769-47f...|         21|                21|         8|2019-12-18 05:33:...|-1.79769313486231...|ivry-sur-seine-fra|        2.0|                           false|                      false|                false|           false|              false|               false|          true|     true|       false|      true|             5|  86.14939973321458|      7.047576870373362|    7.7478881145170115|    12|        8|\n",
      "|11565988|   2019-12-19|    2019-12-20|15810689|     ESRM|0002094c-7769-47f...|         21|                21|         6|2019-12-18 05:33:...|-1.79769313486231...|ivry-sur-seine-fra|        2.0|                           false|                      false|                false|           false|              false|               false|         false|     true|       false|      true|             5|  79.56869923416467|      6.280569247851734|     9.771009560106256|    12|        9|\n",
      "|11565988|   2019-12-19|    2019-12-20|15810689|     ESRM|0002094c-7769-47f...|         21|                21|         1|2019-12-18 05:33:...|-1.79769313486231...|ivry-sur-seine-fra|        2.0|                           false|                      false|                false|           false|              false|               false|         false|     true|       false|     false|             5|   74.9444177066976|      5.913739630570659|     9.192974899227517|    12|       10|\n",
      "|11565988|   2019-12-19|    2019-12-20|15810689|     ESRA|0002094c-7769-47f...|         21|                21|        10|2019-12-18 05:33:...|-1.79769313486231...|ivry-sur-seine-fra|        2.0|                           false|                      false|                false|           false|              false|               false|          true|     true|       false|      true|             5|  95.59804357492199|      7.825700268845056|     8.603823866087241|    12|       11|\n",
      "|11565988|   2019-12-19|    2019-12-20|15810689|     ESRM|0002094c-7769-47f...|         21|                21|        11|2019-12-18 05:33:...|-1.79769313486231...|ivry-sur-seine-fra|        2.0|                           false|                      false|                false|           false|              false|               false|          true|     true|       false|      true|             5|  99.15517668768564|     7.8145844928949915|    12.160960755490233|    12|       12|\n",
      "|15814485|   2019-12-19|    2019-12-20|15810689|     ESRM|0002094c-7769-47f...|         23|                23|         0|2019-12-18 05:33:...|-1.79769313486231...|       bagneux-fra|        2.0|                           false|                      false|                false|           false|              false|               false|         false|     true|       false|     false|             5| 116.04046174927547|      25.78924051015941|    30.947088294158505|     6|       13|\n",
      "|15814485|   2019-12-19|    2019-12-20|15810689|     EPRA|0002094c-7769-47f...|         23|                23|         3|2019-12-18 05:33:...|-1.79769313486231...|       bagneux-fra|        2.0|                           false|                      false|                false|           false|              false|               false|          true|     true|       false|      true|             5|   134.648729717005|      23.04357441333513|     25.57803414142513|     6|       14|\n",
      "|15814485|   2019-12-19|    2019-12-20|15810689|     EPRM|0002094c-7769-47f...|         23|                23|         5|2019-12-18 05:33:...|-1.79769313486231...|       bagneux-fra|        2.0|                           false|                      false|                false|           false|              false|               false|          true|     true|       false|      true|             5| 138.40596057829057|      23.04357441333513|    29.101822311584492|     6|       15|\n",
      "|15814485|   2019-12-19|    2019-12-20|15810689|     ESRM|0002094c-7769-47f...|         23|                23|         4|2019-12-18 05:33:...|-1.79769313486231...|       bagneux-fra|        2.0|                           false|                      false|                false|           false|              false|               false|         false|     true|       false|     false|             5| 137.14984132216284|      23.04357441333513|    29.101822311584492|     6|       16|\n",
      "|15814485|   2019-12-19|    2019-12-20|15810689|     ESRM|0002094c-7769-47f...|         23|                23|         2|2019-12-18 05:33:...|-1.79769313486231...|       bagneux-fra|        2.0|                           false|                      false|                false|           false|              false|               false|         false|     true|       false|     false|             5| 119.99777339733431|     20.153400578886796|    25.455757160619235|     6|       17|\n",
      "|15814485|   2019-12-19|    2019-12-20|15810689|     ESRM|0002094c-7769-47f...|         23|                23|         1|2019-12-18 05:33:...|-1.79769313486231...|       bagneux-fra|        2.0|                           false|                      false|                false|           false|              false|               false|         false|     true|       false|     false|             5| 120.24232788900075|       17.7078705037525|     23.01022708548494|     6|       18|\n",
      "|  457793|   2019-11-03|    2019-11-04| 1636606|     ESRM|00029c0f-7ff0-44e...|          5|                 5|         3|2019-11-03 14:15:...| 0.16352264665818556|        kenner-usa|        3.5|                           false|                      false|                false|           false|              false|               false|         false|     true|        true|     false|             2|               99.0|     20.790000915527344|     25.74000072479248|     9|       19|\n",
      "|  457793|   2019-11-03|    2019-11-04| 1636606|     ESRM|00029c0f-7ff0-44e...|          5|                 5|         8|2019-11-03 14:15:...| 0.16352264665818556|        kenner-usa|        3.5|                           false|                      false|                false|           false|              false|               false|         false|     true|        true|     false|             2|  142.1999969482422|     29.860000610351562|     36.97000074386597|     9|       20|\n",
      "+--------+-------------+--------------+--------+---------+--------------------+-----------+------------------+----------+--------------------+--------------------+------------------+-----------+--------------------------------+---------------------------+---------------------+----------------+-------------------+--------------------+--------------+---------+------------+----------+--------------+-------------------+-----------------------+----------------------+------+---------+\n",
      "only showing top 20 rows"
     ]
    }
   ],
   "source": [
    "data_df.show()"
   ]
  },
  {
   "cell_type": "code",
   "execution_count": 58,
   "metadata": {},
   "outputs": [],
   "source": [
    "data_df = data_df.\\\n",
    "             withColumn(\"rate_index\", data_df.rate_index.cast(\"integer\")).\\\n",
    "            withColumn(\"star_rating\", data_df.star_rating.cast(\"float\")).\\\n",
    "            withColumn(\"eligible_for_loyalty\", data_df.eligible_for_loyalty.cast(\"boolean\").cast(\"integer\")).\\\n",
    "            withColumn(\"free_breakfast\", data_df.free_breakfast.cast(\"boolean\").cast(\"integer\")).\\\n",
    "            withColumn(\"free_wifi\", data_df.free_wifi.cast(\"boolean\").cast(\"integer\")).\\\n",
    "            withColumn(\"free_parking\", data_df.free_parking.cast(\"boolean\").cast(\"integer\")).\\\n",
    "            withColumn(\"refundable\", data_df.refundable.cast(\"boolean\").cast(\"integer\"))"
   ]
  },
  {
   "cell_type": "code",
   "execution_count": 59,
   "metadata": {},
   "outputs": [
    {
     "name": "stdout",
     "output_type": "stream",
     "text": [
      "72917266"
     ]
    }
   ],
   "source": [
    "data_df.count()"
   ]
  },
  {
   "cell_type": "code",
   "execution_count": 60,
   "metadata": {},
   "outputs": [],
   "source": [
    "imputer = Imputer(inputCols=['star_rating'],\n",
    "outputCols=['star_rating'])\n",
    "data_df = imputer.fit(data_df).transform(data_df)"
   ]
  },
  {
   "cell_type": "code",
   "execution_count": 61,
   "metadata": {},
   "outputs": [
    {
     "name": "stdout",
     "output_type": "stream",
     "text": [
      "+--------+-------------+--------------+----+---------+----------+-----------+------------------+----------+------------+-------+----+-----------+--------------------------------+---------------------------+---------------------+----------------+-------------------+--------------------+--------------+---------+------------+----------+--------------+-------------------+-----------------------+----------------------+------+---------+\n",
      "|hotel_id|check_in_date|check_out_date|tuid|rate_type|message_id|hotel_index|hotel_result_index|rate_index|message_date|score_1|city|star_rating|filter_want_in_policy_rates_only|filter_eligible_for_loyalty|filter_free_breakfast|filter_free_wifi|filter_free_parking|eligible_for_loyalty|free_breakfast|free_wifi|free_parking|refundable|bk_hotel_index|src_rate_amount_usd|src_commission_base_usd|src_supply_revenue_usd|rate_n|row_index|\n",
      "+--------+-------------+--------------+----+---------+----------+-----------+------------------+----------+------------+-------+----+-----------+--------------------------------+---------------------------+---------------------+----------------+-------------------+--------------------+--------------+---------+------------+----------+--------------+-------------------+-----------------------+----------------------+------+---------+\n",
      "|       0|            0|             0|   0|        0|         0|          0|                 0|         0|           0|5162519|   0|          0|                               0|                          0|                    0|               0|                  0|                   0|             0|        0|           0|         0|             0|                  0|                      0|                     0|     0|        0|\n",
      "+--------+-------------+--------------+----+---------+----------+-----------+------------------+----------+------------+-------+----+-----------+--------------------------------+---------------------------+---------------------+----------------+-------------------+--------------------+--------------+---------+------------+----------+--------------+-------------------+-----------------------+----------------------+------+---------+"
     ]
    }
   ],
   "source": [
    "data_df.select([F.count(F.when(F.col(c).isNull(), c)).alias(c) for c in data_df.columns]).show()"
   ]
  },
  {
   "cell_type": "markdown",
   "metadata": {},
   "source": [
    "### pip data into model"
   ]
  },
  {
   "cell_type": "code",
   "execution_count": 62,
   "metadata": {},
   "outputs": [],
   "source": [
    "pipelineModel = pipeline.fit(data_df)\n",
    "data_tm_df = pipelineModel.transform(data_df)"
   ]
  },
  {
   "cell_type": "code",
   "execution_count": 63,
   "metadata": {},
   "outputs": [],
   "source": [
    "prediction=rfCvModel.transform(data_tm_df)"
   ]
  },
  {
   "cell_type": "code",
   "execution_count": 64,
   "metadata": {},
   "outputs": [
    {
     "name": "stdout",
     "output_type": "stream",
     "text": [
      "72917266"
     ]
    }
   ],
   "source": [
    "prediction.count()"
   ]
  },
  {
   "cell_type": "code",
   "execution_count": 65,
   "metadata": {},
   "outputs": [],
   "source": [
    "unlist = F.udf(lambda x: float(list(x)[0]), DoubleType())\n",
    "prediction = prediction.withColumn('prob',unlist('probability'))"
   ]
  },
  {
   "cell_type": "code",
   "execution_count": 66,
   "metadata": {},
   "outputs": [],
   "source": [
    "prediction = prediction.\\\n",
    "withColumn('rate_revenue',F.col('src_supply_revenue_usd')*F.col('prob'))"
   ]
  },
  {
   "cell_type": "code",
   "execution_count": 67,
   "metadata": {},
   "outputs": [],
   "source": [
    "prediction_output = prediction.drop('_features','features','rawPrediction','probability')"
   ]
  },
  {
   "cell_type": "code",
   "execution_count": null,
   "metadata": {},
   "outputs": [],
   "source": [
    "dir = 's3://ege-ds-workshops-corp/yixli/prediction/'\n",
    "prediction_output.repartition(1).write.mode('overwrite').parquet(dir+'prediction')"
   ]
  },
  {
   "cell_type": "code",
   "execution_count": null,
   "metadata": {},
   "outputs": [],
   "source": []
  }
 ],
 "metadata": {
  "kernelspec": {
   "display_name": "PySpark3",
   "language": "",
   "name": "pyspark3kernel"
  },
  "language_info": {
   "codemirror_mode": {
    "name": "python",
    "version": 3
   },
   "mimetype": "text/x-python",
   "name": "pyspark3",
   "pygments_lexer": "python3"
  }
 },
 "nbformat": 4,
 "nbformat_minor": 2
}
