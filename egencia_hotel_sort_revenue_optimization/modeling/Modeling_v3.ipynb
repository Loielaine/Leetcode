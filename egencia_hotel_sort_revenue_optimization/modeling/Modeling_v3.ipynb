{
 "cells": [
  {
   "cell_type": "code",
   "execution_count": 2,
   "metadata": {},
   "outputs": [],
   "source": [
    "import datetime\n",
    "import pandas as pd\n",
    "import numpy as np\n",
    "\n",
    "from pyspark import SparkContext\n",
    "from pyspark import SQLContext\n",
    "from pyspark.sql.session import SparkSession\n",
    "\n",
    "\n",
    "from pyspark.sql import DataFrameStatFunctions as statFunc\n",
    "\n",
    "from pyspark.sql.functions import row_number\n",
    "from pyspark.sql.window import Window\n",
    "from pyspark.sql.functions import desc\n",
    "\n",
    "from pyspark.sql import functions as F\n",
    "from pyspark.sql import types as T\n",
    "from pyspark.sql.types import IntegerType,FloatType,DoubleType"
   ]
  },
  {
   "cell_type": "code",
   "execution_count": null,
   "metadata": {},
   "outputs": [],
   "source": [
    "%local\n",
    "import pandas as pd\n",
    "import numpy as np\n",
    "import matplotlib.pyplot as plt\n",
    "import seaborn as sns\n",
    "pd.options.display.float_format = '{:.5f}'.format"
   ]
  },
  {
   "cell_type": "markdown",
   "metadata": {},
   "source": [
    "## Read data"
   ]
  },
  {
   "cell_type": "code",
   "execution_count": 3,
   "metadata": {},
   "outputs": [
    {
     "name": "stdout",
     "output_type": "stream",
     "text": [
      "Collecting search the data...\n",
      "1905038"
     ]
    }
   ],
   "source": [
    "file_loc = \"s3://ege-ds-workshops-corp/yixli/data_understanding/09-15-2020_booking_search_df_label.csv\"\n",
    "print(\"Collecting search the data...\")\n",
    "search_df = sqlContext.read.format('csv').\\\n",
    "            options(header='True', inferSchema='True', delimiter=',').\\\n",
    "            load(file_loc)\n",
    "\n",
    "# load_date between '20200301' and '20200401'\n",
    "\n",
    "search_df = search_df.\\\n",
    "            filter(F.col(\"hotel_id\")>0).\\\n",
    "            filter(F.col(\"src_rate_amount_usd\").isNotNull())\n",
    "print(search_df.count())"
   ]
  },
  {
   "cell_type": "code",
   "execution_count": 4,
   "metadata": {},
   "outputs": [
    {
     "name": "stdout",
     "output_type": "stream",
     "text": [
      "+--------------------+--------+-------------------+-------------------+--------+---------+----------+------------------+--------------------+-----------+----------------+-----------+--------------------------------+---------------------------+---------------------+----------------+-------------------+--------------------+--------------+---------+------------+----------+-------------------+-----------------------+----------------------+-------------------+-----+\n",
      "|          message_id|hotel_id|      check_in_date|     check_out_date|    tuid|rate_type|rate_index|hotel_result_index|        message_date|hotel_index|            city|star_rating|filter_want_in_policy_rates_only|filter_eligible_for_loyalty|filter_free_breakfast|filter_free_wifi|filter_free_parking|eligible_for_loyalty|free_breakfast|free_wifi|free_parking|refundable|src_rate_amount_usd|src_commission_base_usd|src_supply_revenue_usd|            score_1|label|\n",
      "+--------------------+--------+-------------------+-------------------+--------+---------+----------+------------------+--------------------+-----------+----------------+-----------+--------------------------------+---------------------------+---------------------+----------------+-------------------+--------------------+--------------+---------+------------+----------+-------------------+-----------------------+----------------------+-------------------+-----+\n",
      "|000c00c8-ecbb-468...|  984028|2019-10-16 00:00:00|2019-10-18 00:00:00|10093367|     ESRM|         5|                 0|2019-10-13 03:42:...|          1|       paris-fra|        3.0|                           false|                      false|                false|           false|              false|               false|         false|     true|       false|      true|          246.20142|              40.039753|              51.15945|               null|    0|\n",
      "|000e7d53-9700-407...|   26199|2019-12-10 00:00:00|2019-12-12 00:00:00|13084968|     EPRM|         8|                 1|2019-11-11 05:22:...|          1|      moscow-rus|        4.0|                           false|                      false|                false|           false|              false|                true|          true|     true|       false|     false|          166.47539|              21.190962|             27.812265|               null|    0|\n",
      "|000f396f-0e29-472...|24004168|2019-10-18 00:00:00|2019-10-19 00:00:00|18768464|     ESRM|         1|                12|2019-10-09 12:04:...|          1|      munich-deu|        4.0|                           false|                      false|                false|           false|              false|               false|         false|     true|       false|     false|          109.68767|              18.641096|             19.945206|0.14091007877481027|    0|\n",
      "|0019f4bb-b05a-418...|   41080|2020-01-05 00:00:00|2020-01-07 00:00:00|11495102|     EPRM|         4|                 0|2019-12-20 20:44:...|          1|   las vegas-usa|        4.0|                           false|                      false|                false|           false|              false|               false|         false|    false|       false|      true|              184.0|                  20.86|                 29.95| 0.3763491326512589|    0|\n",
      "|0028bc48-6298-4e7...|    2747|2019-12-16 00:00:00|2019-12-19 00:00:00|19516819|     ESRM|         7|                 1|2019-12-16 03:49:...|          1|philadelphia-usa|        4.0|                           false|                      false|                false|           false|              false|               false|         false|     true|       false|     false|             149.25|                  23.88|                 31.34|0.25633136959706176|    0|\n",
      "|0029cb1f-5860-433...|  598664|2019-10-16 00:00:00|2019-10-18 00:00:00| 9852425|     ESRM|         2|                29|2019-10-07 01:54:...|          6|  gothenburg-swe|        4.5|                           false|                      false|                false|           false|              false|               false|          true|     true|       false|     false|          172.80606|              24.637287|              27.59348|0.38079436064706335|    0|\n",
      "|003c03c5-3a9d-4e8...| 8156699|2019-11-13 00:00:00|2019-11-14 00:00:00|14300100|     ESRM|         4|                 3|2019-11-11 03:55:...|          1| chessington-gbr|        3.5|                            true|                      false|                false|           false|              false|               false|          true|     true|        true|     false|          120.09514|              19.838005|              24.80072| 0.1303562971122921|    0|\n",
      "|003d9c63-8fbb-4ad...|  525903|2019-12-02 00:00:00|2019-12-03 00:00:00| 4322074|     ESRM|         8|                 7|2019-11-28 06:14:...|          1|ruesselsheim-deu|        4.0|                           false|                      false|                false|           false|              false|               false|          true|     true|       false|     false|            98.2601|              18.665346|             23.114195|0.13063816003863102|    1|\n",
      "|004849f9-49a9-4ca...|   16680|2019-10-14 00:00:00|2019-10-16 00:00:00|12812145|     ESRM|         5|                 6|2019-10-03 08:59:...|          1|      boston-usa|        4.0|                           false|                      false|                false|           false|              false|               false|         false|     true|       false|      true|          383.75027|                  59.14|                  74.7|0.15620084603623688|    0|\n",
      "|0055a52e-6172-4d4...|  564036|2019-11-27 00:00:00|2019-11-28 00:00:00|13022479|      GDS|         5|                 6|2019-11-07 06:38:...|          1|        oslo-nor|        4.0|                           false|                      false|                 true|           false|              false|                true|          true|     true|       false|      true|          227.84259|                    0.0|             22.527407|0.14624367256249557|    0|\n",
      "+--------------------+--------+-------------------+-------------------+--------+---------+----------+------------------+--------------------+-----------+----------------+-----------+--------------------------------+---------------------------+---------------------+----------------+-------------------+--------------------+--------------+---------+------------+----------+-------------------+-----------------------+----------------------+-------------------+-----+\n",
      "only showing top 10 rows"
     ]
    }
   ],
   "source": [
    "search_df.show(10)"
   ]
  },
  {
   "cell_type": "code",
   "execution_count": 5,
   "metadata": {},
   "outputs": [
    {
     "name": "stdout",
     "output_type": "stream",
     "text": [
      "root\n",
      " |-- message_id: string (nullable = true)\n",
      " |-- hotel_id: integer (nullable = true)\n",
      " |-- check_in_date: timestamp (nullable = true)\n",
      " |-- check_out_date: timestamp (nullable = true)\n",
      " |-- tuid: integer (nullable = true)\n",
      " |-- rate_type: string (nullable = true)\n",
      " |-- rate_index: integer (nullable = true)\n",
      " |-- hotel_result_index: integer (nullable = true)\n",
      " |-- message_date: timestamp (nullable = true)\n",
      " |-- hotel_index: integer (nullable = true)\n",
      " |-- city: string (nullable = true)\n",
      " |-- star_rating: string (nullable = true)\n",
      " |-- filter_want_in_policy_rates_only: boolean (nullable = true)\n",
      " |-- filter_eligible_for_loyalty: boolean (nullable = true)\n",
      " |-- filter_free_breakfast: boolean (nullable = true)\n",
      " |-- filter_free_wifi: boolean (nullable = true)\n",
      " |-- filter_free_parking: boolean (nullable = true)\n",
      " |-- eligible_for_loyalty: boolean (nullable = true)\n",
      " |-- free_breakfast: boolean (nullable = true)\n",
      " |-- free_wifi: boolean (nullable = true)\n",
      " |-- free_parking: boolean (nullable = true)\n",
      " |-- refundable: boolean (nullable = true)\n",
      " |-- src_rate_amount_usd: double (nullable = true)\n",
      " |-- src_commission_base_usd: double (nullable = true)\n",
      " |-- src_supply_revenue_usd: double (nullable = true)\n",
      " |-- score_1: double (nullable = true)\n",
      " |-- label: integer (nullable = true)"
     ]
    }
   ],
   "source": [
    "search_df.printSchema()"
   ]
  },
  {
   "cell_type": "code",
   "execution_count": 6,
   "metadata": {
    "scrolled": true
   },
   "outputs": [
    {
     "name": "stdout",
     "output_type": "stream",
     "text": [
      "+-----+-------+\n",
      "|label|  count|\n",
      "+-----+-------+\n",
      "|    1| 208654|\n",
      "|    0|1696384|\n",
      "+-----+-------+"
     ]
    }
   ],
   "source": [
    "search_df.groupBy('label').count().show()"
   ]
  },
  {
   "cell_type": "code",
   "execution_count": 7,
   "metadata": {},
   "outputs": [
    {
     "name": "stdout",
     "output_type": "stream",
     "text": [
      "+--------------------+-------+\n",
      "|eligible_for_loyalty|  count|\n",
      "+--------------------+-------+\n",
      "|                true| 329694|\n",
      "|               false|1575344|\n",
      "+--------------------+-------+"
     ]
    }
   ],
   "source": [
    "search_df.groupBy(\"eligible_for_loyalty\").count().show()"
   ]
  },
  {
   "cell_type": "code",
   "execution_count": 8,
   "metadata": {},
   "outputs": [
    {
     "name": "stdout",
     "output_type": "stream",
     "text": [
      "+--------------+------+\n",
      "|free_breakfast| count|\n",
      "+--------------+------+\n",
      "|          true|929894|\n",
      "|         false|975144|\n",
      "+--------------+------+"
     ]
    }
   ],
   "source": [
    "search_df.groupBy(\"free_breakfast\").count().show()"
   ]
  },
  {
   "cell_type": "code",
   "execution_count": 9,
   "metadata": {},
   "outputs": [
    {
     "name": "stdout",
     "output_type": "stream",
     "text": [
      "+---------+-------+\n",
      "|free_wifi|  count|\n",
      "+---------+-------+\n",
      "|     true|1744806|\n",
      "|    false| 160232|\n",
      "+---------+-------+"
     ]
    }
   ],
   "source": [
    "search_df.groupBy(\"free_wifi\").count().show()"
   ]
  },
  {
   "cell_type": "code",
   "execution_count": 10,
   "metadata": {},
   "outputs": [
    {
     "name": "stdout",
     "output_type": "stream",
     "text": [
      "+------------+-------+\n",
      "|free_parking|  count|\n",
      "+------------+-------+\n",
      "|        true| 741489|\n",
      "|       false|1163549|\n",
      "+------------+-------+"
     ]
    }
   ],
   "source": [
    "search_df.groupBy(\"free_parking\").count().show()"
   ]
  },
  {
   "cell_type": "code",
   "execution_count": 11,
   "metadata": {},
   "outputs": [
    {
     "name": "stdout",
     "output_type": "stream",
     "text": [
      "+----------+-------+\n",
      "|refundable|  count|\n",
      "+----------+-------+\n",
      "|      true|1401978|\n",
      "|     false| 503060|\n",
      "+----------+-------+"
     ]
    }
   ],
   "source": [
    "search_df.groupBy(\"refundable\").count().show()"
   ]
  },
  {
   "cell_type": "code",
   "execution_count": 12,
   "metadata": {},
   "outputs": [
    {
     "name": "stdout",
     "output_type": "stream",
     "text": [
      "+---------+------+\n",
      "|rate_type| count|\n",
      "+---------+------+\n",
      "|     EPRA|113646|\n",
      "|     EPRM|238846|\n",
      "|     ESRM|900725|\n",
      "|     ESRA|378476|\n",
      "|      GDS|273345|\n",
      "+---------+------+"
     ]
    }
   ],
   "source": [
    "search_df.groupBy(\"rate_type\").count().show()"
   ]
  },
  {
   "cell_type": "code",
   "execution_count": 13,
   "metadata": {},
   "outputs": [],
   "source": [
    "data_df = search_df.select('hotel_id', 'check_in_date', 'check_out_date', 'tuid', 'rate_type', 'message_id', 'hotel_result_index', 'rate_index', 'message_date', 'score_1', 'city', 'star_rating', 'filter_want_in_policy_rates_only', 'filter_eligible_for_loyalty', 'filter_free_breakfast', 'filter_free_wifi', 'filter_free_parking', 'eligible_for_loyalty', 'free_breakfast', 'free_wifi', 'free_parking', 'refundable', 'src_rate_amount_usd', 'src_commission_base_usd', 'src_supply_revenue_usd','label')\n",
    "                         "
   ]
  },
  {
   "cell_type": "code",
   "execution_count": 14,
   "metadata": {},
   "outputs": [
    {
     "name": "stdout",
     "output_type": "stream",
     "text": [
      "1905038"
     ]
    }
   ],
   "source": [
    "data_df.count()"
   ]
  },
  {
   "cell_type": "code",
   "execution_count": 15,
   "metadata": {},
   "outputs": [
    {
     "name": "stdout",
     "output_type": "stream",
     "text": [
      "root\n",
      " |-- hotel_id: integer (nullable = true)\n",
      " |-- check_in_date: timestamp (nullable = true)\n",
      " |-- check_out_date: timestamp (nullable = true)\n",
      " |-- tuid: integer (nullable = true)\n",
      " |-- rate_type: string (nullable = true)\n",
      " |-- message_id: string (nullable = true)\n",
      " |-- hotel_result_index: integer (nullable = true)\n",
      " |-- rate_index: integer (nullable = true)\n",
      " |-- message_date: timestamp (nullable = true)\n",
      " |-- score_1: double (nullable = true)\n",
      " |-- city: string (nullable = true)\n",
      " |-- star_rating: string (nullable = true)\n",
      " |-- filter_want_in_policy_rates_only: boolean (nullable = true)\n",
      " |-- filter_eligible_for_loyalty: boolean (nullable = true)\n",
      " |-- filter_free_breakfast: boolean (nullable = true)\n",
      " |-- filter_free_wifi: boolean (nullable = true)\n",
      " |-- filter_free_parking: boolean (nullable = true)\n",
      " |-- eligible_for_loyalty: boolean (nullable = true)\n",
      " |-- free_breakfast: boolean (nullable = true)\n",
      " |-- free_wifi: boolean (nullable = true)\n",
      " |-- free_parking: boolean (nullable = true)\n",
      " |-- refundable: boolean (nullable = true)\n",
      " |-- src_rate_amount_usd: double (nullable = true)\n",
      " |-- src_commission_base_usd: double (nullable = true)\n",
      " |-- src_supply_revenue_usd: double (nullable = true)\n",
      " |-- label: integer (nullable = true)"
     ]
    }
   ],
   "source": [
    "data_df.printSchema()"
   ]
  },
  {
   "cell_type": "code",
   "execution_count": 16,
   "metadata": {},
   "outputs": [],
   "source": [
    "data_df = data_df.withColumn('rate_n',F.count('rate_index').\\\n",
    "                                                  over(Window.partitionBy(\"message_id\",\"hotel_id\",\"check_in_date\",\"check_out_date\",'tuid')))"
   ]
  },
  {
   "cell_type": "code",
   "execution_count": 17,
   "metadata": {},
   "outputs": [],
   "source": [
    "data_df = data_df.withColumn('row_index', row_number().over(Window.orderBy(F.monotonically_increasing_id())))"
   ]
  },
  {
   "cell_type": "code",
   "execution_count": 18,
   "metadata": {},
   "outputs": [],
   "source": [
    "data_df = data_df.\\\n",
    "             withColumn(\"rate_index\", data_df.rate_index.cast(\"integer\")).\\\n",
    "            withColumn(\"star_rating\", data_df.star_rating.cast(\"float\")).\\\n",
    "            withColumn(\"eligible_for_loyalty\", data_df.eligible_for_loyalty.cast(\"integer\")).\\\n",
    "            withColumn(\"free_breakfast\", data_df.free_breakfast.cast(\"integer\")).\\\n",
    "            withColumn(\"free_wifi\", data_df.free_wifi.cast(\"integer\")).\\\n",
    "            withColumn(\"free_parking\", data_df.free_parking.cast(\"integer\")).\\\n",
    "            withColumn(\"refundable\", data_df.refundable.cast(\"integer\"))"
   ]
  },
  {
   "cell_type": "markdown",
   "metadata": {},
   "source": [
    "## Fill missing values"
   ]
  },
  {
   "cell_type": "code",
   "execution_count": 19,
   "metadata": {},
   "outputs": [],
   "source": [
    "from pyspark.ml.feature import Imputer"
   ]
  },
  {
   "cell_type": "code",
   "execution_count": 20,
   "metadata": {},
   "outputs": [
    {
     "name": "stdout",
     "output_type": "stream",
     "text": [
      "+--------+-------------+--------------+----+---------+----------+------------------+----------+------------+-------+----+-----------+--------------------------------+---------------------------+---------------------+----------------+-------------------+--------------------+--------------+---------+------------+----------+-------------------+-----------------------+----------------------+-----+------+---------+\n",
      "|hotel_id|check_in_date|check_out_date|tuid|rate_type|message_id|hotel_result_index|rate_index|message_date|score_1|city|star_rating|filter_want_in_policy_rates_only|filter_eligible_for_loyalty|filter_free_breakfast|filter_free_wifi|filter_free_parking|eligible_for_loyalty|free_breakfast|free_wifi|free_parking|refundable|src_rate_amount_usd|src_commission_base_usd|src_supply_revenue_usd|label|rate_n|row_index|\n",
      "+--------+-------------+--------------+----+---------+----------+------------------+----------+------------+-------+----+-----------+--------------------------------+---------------------------+---------------------+----------------+-------------------+--------------------+--------------+---------+------------+----------+-------------------+-----------------------+----------------------+-----+------+---------+\n",
      "|       0|            0|             0|   0|        0|         0|                 0|         0|           0| 450663|   0|       6774|                               0|                          0|                    0|               0|                  0|                   0|             0|        0|           0|         0|                  0|                      0|                     0|    0|     0|        0|\n",
      "+--------+-------------+--------------+----+---------+----------+------------------+----------+------------+-------+----+-----------+--------------------------------+---------------------------+---------------------+----------------+-------------------+--------------------+--------------+---------+------------+----------+-------------------+-----------------------+----------------------+-----+------+---------+"
     ]
    }
   ],
   "source": [
    "data_df.select([F.count(F.when(F.col(c).isNull(), c)).alias(c) for c in data_df.columns]).show()"
   ]
  },
  {
   "cell_type": "code",
   "execution_count": 21,
   "metadata": {},
   "outputs": [],
   "source": [
    "imputer = Imputer(inputCols=['star_rating'],\n",
    "outputCols=['star_rating'])\n",
    "data_df = imputer.fit(data_df).transform(data_df)"
   ]
  },
  {
   "cell_type": "markdown",
   "metadata": {},
   "source": [
    "## Features"
   ]
  },
  {
   "cell_type": "code",
   "execution_count": 22,
   "metadata": {},
   "outputs": [],
   "source": [
    "from pyspark.ml.feature import OneHotEncoderEstimator, StringIndexer, VectorAssembler,StandardScaler\n",
    "\n",
    "categoricalColumns = []\n",
    "#booleanColumns = ['filter_want_in_policy_rates_only', 'filter_eligible_for_loyalty', 'filter_free_breakfast', 'filter_free_wifi', 'filter_free_parking',\n",
    " #                 \"eligible_for_loyalty\",\"free_breakfast\",\"free_wifi\",\"free_parking\",\"refundable\"]\n",
    "booleanColumns = [\"eligible_for_loyalty\",\"free_breakfast\",\"free_wifi\",\"free_parking\",\"refundable\"]\n",
    "numericCols =[\"src_rate_amount_usd\",\"rate_index\",\"star_rating\",'rate_n']\n",
    "stages = [] # stages in our Pipeline\n",
    "\n",
    "for categoricalCol in categoricalColumns:\n",
    "    # Category Indexing with StringIndexer\n",
    "    stringIndexer = StringIndexer(inputCol=categoricalCol, outputCol=categoricalCol + \"Index\")\n",
    "    \n",
    "    encoder = OneHotEncoderEstimator(inputCols=[stringIndexer.getOutputCol()], outputCols=[categoricalCol + \"classVec\"])\n",
    "    # Add stages.  These are not run here, but will run all at once later on.\n",
    "    stages += [stringIndexer, encoder]\n",
    "\n",
    "\n",
    "assemblerInputs = [c + \"classVec\" for c in categoricalColumns] + booleanColumns + numericCols\n",
    "assembler = VectorAssembler(inputCols=assemblerInputs, outputCol=\"_features\")\n",
    "stages += [assembler]\n",
    "\n",
    "# Standardize Features\n",
    "scaler = StandardScaler(inputCol=\"_features\", \n",
    "                            outputCol=\"features\", \n",
    "                            withStd=True, withMean=False)\n",
    "stages += [scaler]\n",
    "\n"
   ]
  },
  {
   "cell_type": "markdown",
   "metadata": {},
   "source": [
    "## Train, test data"
   ]
  },
  {
   "cell_type": "code",
   "execution_count": 23,
   "metadata": {},
   "outputs": [],
   "source": [
    "from pyspark.ml import Pipeline\n",
    "pipeline = Pipeline(stages = stages)\n",
    "\n",
    "samples_df = data_df.select(['label','row_index'] + categoricalColumns + booleanColumns + numericCols)\n",
    "\n",
    "pipelineModel = pipeline.fit(samples_df)\n",
    "samples_tm_df = pipelineModel.transform(samples_df)"
   ]
  },
  {
   "cell_type": "code",
   "execution_count": 24,
   "metadata": {},
   "outputs": [
    {
     "name": "stdout",
     "output_type": "stream",
     "text": [
      "Training Dataset Count: 1523403\n",
      "Test Dataset Count: 381635"
     ]
    }
   ],
   "source": [
    "train, test = samples_tm_df.randomSplit([0.8, 0.2], seed = 917)\n",
    "print(\"Training Dataset Count: \" + str(train.count()))\n",
    "print(\"Test Dataset Count: \" + str(test.count()))"
   ]
  },
  {
   "cell_type": "markdown",
   "metadata": {},
   "source": [
    "## downsampling Train data"
   ]
  },
  {
   "cell_type": "code",
   "execution_count": 25,
   "metadata": {},
   "outputs": [],
   "source": [
    "train_1= train.where(F.col('label')==1)"
   ]
  },
  {
   "cell_type": "code",
   "execution_count": 26,
   "metadata": {},
   "outputs": [],
   "source": [
    "train_0=train.where(F.col('label')==0).sample(False, 0.8, seed = 917)"
   ]
  },
  {
   "cell_type": "code",
   "execution_count": 27,
   "metadata": {},
   "outputs": [],
   "source": [
    "train_final = train_0.union(train_1)"
   ]
  },
  {
   "cell_type": "code",
   "execution_count": 28,
   "metadata": {},
   "outputs": [
    {
     "name": "stdout",
     "output_type": "stream",
     "text": [
      "1251393"
     ]
    }
   ],
   "source": [
    "train_final.count()"
   ]
  },
  {
   "cell_type": "code",
   "execution_count": 29,
   "metadata": {},
   "outputs": [
    {
     "name": "stdout",
     "output_type": "stream",
     "text": [
      "+-----+-------+\n",
      "|label|  count|\n",
      "+-----+-------+\n",
      "|    1| 167143|\n",
      "|    0|1084250|\n",
      "+-----+-------+"
     ]
    }
   ],
   "source": [
    "train_final.groupBy('label').count().show()"
   ]
  },
  {
   "cell_type": "code",
   "execution_count": 30,
   "metadata": {},
   "outputs": [
    {
     "name": "stdout",
     "output_type": "stream",
     "text": [
      "+-----+-------+\n",
      "|label|  count|\n",
      "+-----+-------+\n",
      "|    0|1356260|\n",
      "|    1| 167143|\n",
      "+-----+-------+"
     ]
    }
   ],
   "source": [
    "train.groupBy('label').count().show()"
   ]
  },
  {
   "cell_type": "code",
   "execution_count": 31,
   "metadata": {},
   "outputs": [
    {
     "name": "stdout",
     "output_type": "stream",
     "text": [
      "+-----+------+\n",
      "|label| count|\n",
      "+-----+------+\n",
      "|    0|340124|\n",
      "|    1| 41511|\n",
      "+-----+------+"
     ]
    }
   ],
   "source": [
    "test.groupBy('label').count().show()"
   ]
  },
  {
   "cell_type": "markdown",
   "metadata": {},
   "source": [
    "## Baseline: Logistic regression"
   ]
  },
  {
   "cell_type": "code",
   "execution_count": 26,
   "metadata": {},
   "outputs": [],
   "source": [
    "from pyspark.ml.classification import LogisticRegression\n",
    "\n",
    "lr = LogisticRegression(labelCol=\"label\", featuresCol=\"features\")\n",
    "lrModel = lr.fit(train)"
   ]
  },
  {
   "cell_type": "code",
   "execution_count": 27,
   "metadata": {},
   "outputs": [],
   "source": [
    "predictions = lrModel.transform(test)"
   ]
  },
  {
   "cell_type": "code",
   "execution_count": 28,
   "metadata": {},
   "outputs": [
    {
     "name": "stdout",
     "output_type": "stream",
     "text": [
      "0.7326286182347924"
     ]
    }
   ],
   "source": [
    "from pyspark.ml.evaluation import BinaryClassificationEvaluator\n",
    "evaluator = BinaryClassificationEvaluator(rawPredictionCol=\"rawPrediction\",metricName=\"areaUnderROC\")\n",
    "evaluator.evaluate(predictions)"
   ]
  },
  {
   "cell_type": "code",
   "execution_count": 29,
   "metadata": {
    "scrolled": true
   },
   "outputs": [
    {
     "name": "stdout",
     "output_type": "stream",
     "text": [
      "+----------+-----+------+\n",
      "|prediction|label| count|\n",
      "+----------+-----+------+\n",
      "|       0.0|    0|340112|\n",
      "|       1.0|    0|    12|\n",
      "|       0.0|    1| 41492|\n",
      "|       1.0|    1|    19|\n",
      "+----------+-----+------+"
     ]
    }
   ],
   "source": [
    "predictions.groupBy('prediction','label').count().show()"
   ]
  },
  {
   "cell_type": "code",
   "execution_count": 30,
   "metadata": {},
   "outputs": [
    {
     "name": "stdout",
     "output_type": "stream",
     "text": [
      "DenseVector([-0.1405, 0.1943, 0.1313, -0.258, 0.1077, -0.5577, -0.8095, 0.0812, -0.1401])"
     ]
    }
   ],
   "source": [
    "lrModel.coefficients"
   ]
  },
  {
   "cell_type": "markdown",
   "metadata": {},
   "source": [
    "## Baseline: Logistic regression with downsampling"
   ]
  },
  {
   "cell_type": "code",
   "execution_count": 164,
   "metadata": {},
   "outputs": [],
   "source": [
    "from pyspark.ml.classification import LogisticRegression\n",
    "\n",
    "lr = LogisticRegression(labelCol=\"label\", featuresCol=\"features\")\n",
    "lrModel = lr.fit(train_final)"
   ]
  },
  {
   "cell_type": "code",
   "execution_count": 165,
   "metadata": {},
   "outputs": [],
   "source": [
    "predictions = lrModel.transform(test)"
   ]
  },
  {
   "cell_type": "code",
   "execution_count": 166,
   "metadata": {},
   "outputs": [
    {
     "name": "stdout",
     "output_type": "stream",
     "text": [
      "0.7731538738431155"
     ]
    }
   ],
   "source": [
    "from pyspark.ml.evaluation import BinaryClassificationEvaluator\n",
    "evaluator = BinaryClassificationEvaluator(rawPredictionCol=\"rawPrediction\",metricName=\"areaUnderROC\")\n",
    "evaluator.evaluate(predictions)"
   ]
  },
  {
   "cell_type": "code",
   "execution_count": 195,
   "metadata": {},
   "outputs": [
    {
     "name": "stdout",
     "output_type": "stream",
     "text": [
      "+----------+-----+-----+\n",
      "|prediction|label|count|\n",
      "+----------+-----+-----+\n",
      "|       0.0|    0|51843|\n",
      "|       1.0|    0|  268|\n",
      "|       0.0|    1| 7023|\n",
      "|       1.0|    1|  412|\n",
      "+----------+-----+-----+"
     ]
    }
   ],
   "source": [
    "predictions.groupBy('prediction','label').count().show()"
   ]
  },
  {
   "cell_type": "markdown",
   "metadata": {},
   "source": [
    "## Random Forest"
   ]
  },
  {
   "cell_type": "code",
   "execution_count": 32,
   "metadata": {},
   "outputs": [],
   "source": [
    "from pyspark.ml.classification import RandomForestClassifier, RandomForestClassificationModel\n",
    "from pyspark.ml.tuning import CrossValidator, ParamGridBuilder, TrainValidationSplit\n",
    "from pyspark.ml.evaluation import BinaryClassificationEvaluator\n",
    "# Initiate RF model\n",
    "rf = RandomForestClassifier(featuresCol='features', labelCol='label')\n",
    "\n",
    "# Build evaluator\n",
    "evaluator =  BinaryClassificationEvaluator()\n",
    "\n",
    "# Set parameters\n",
    "paramGrid = (ParamGridBuilder()\n",
    "             .addGrid(rf.maxDepth, [4,6])\n",
    "             .addGrid(rf.maxBins, [20,40])\n",
    "             .addGrid(rf.numTrees, [100])\n",
    "             .build())"
   ]
  },
  {
   "cell_type": "code",
   "execution_count": 33,
   "metadata": {},
   "outputs": [],
   "source": [
    "def cv_train_model(model,paramGrid,evaluator,numFolds,trainData_new):\n",
    "    cv = CrossValidator(estimator=model, estimatorParamMaps=paramGrid, evaluator=evaluator, numFolds=numFolds)\n",
    "    cv_Model = cv.fit(trainData_new)\n",
    "    print (cv_Model.bestModel)\n",
    "    return cv_Model"
   ]
  },
  {
   "cell_type": "code",
   "execution_count": 34,
   "metadata": {},
   "outputs": [
    {
     "name": "stdout",
     "output_type": "stream",
     "text": [
      "RandomForestClassificationModel (uid=RandomForestClassifier_e12de6e9e80a) with 100 trees"
     ]
    }
   ],
   "source": [
    "rfCvModel = cv_train_model(rf,paramGrid,evaluator,5,train_final)"
   ]
  },
  {
   "cell_type": "markdown",
   "metadata": {},
   "source": [
    "## Evaluate"
   ]
  },
  {
   "cell_type": "code",
   "execution_count": 35,
   "metadata": {},
   "outputs": [],
   "source": [
    "from pyspark.mllib.evaluation import BinaryClassificationMetrics, MulticlassMetrics"
   ]
  },
  {
   "cell_type": "code",
   "execution_count": 36,
   "metadata": {},
   "outputs": [
    {
     "name": "stdout",
     "output_type": "stream",
     "text": [
      "0.7353243454288807"
     ]
    }
   ],
   "source": [
    "# Evaluate on training data\n",
    "evaluator = BinaryClassificationEvaluator(rawPredictionCol=\"rawPrediction\",metricName=\"areaUnderROC\")\n",
    "rf_cv_model_train_prediction = rfCvModel.transform(train_final)\n",
    "evaluator.evaluate(rf_cv_model_train_prediction)"
   ]
  },
  {
   "cell_type": "code",
   "execution_count": 37,
   "metadata": {},
   "outputs": [
    {
     "name": "stdout",
     "output_type": "stream",
     "text": [
      "0.7351254232301984"
     ]
    }
   ],
   "source": [
    "rf_cv_model_test_prediction = rfCvModel.transform(test)\n",
    "evaluator.evaluate(rf_cv_model_test_prediction)"
   ]
  },
  {
   "cell_type": "code",
   "execution_count": 38,
   "metadata": {},
   "outputs": [
    {
     "name": "stdout",
     "output_type": "stream",
     "text": [
      "+----------+-----+------+\n",
      "|prediction|label| count|\n",
      "+----------+-----+------+\n",
      "|       0.0|    0|339659|\n",
      "|       1.0|    0|   465|\n",
      "|       0.0|    1| 40222|\n",
      "|       1.0|    1|  1289|\n",
      "+----------+-----+------+"
     ]
    }
   ],
   "source": [
    "rf_cv_model_test_prediction.groupBy('prediction','label').count().show()"
   ]
  },
  {
   "cell_type": "code",
   "execution_count": 39,
   "metadata": {},
   "outputs": [],
   "source": [
    "sample_predictions = rf_cv_model_test_prediction.sample(False, 0.1, 917).select(['probability','prediction','label'])"
   ]
  },
  {
   "cell_type": "code",
   "execution_count": 40,
   "metadata": {},
   "outputs": [
    {
     "name": "stdout",
     "output_type": "stream",
     "text": [
      "+----------+-----+-----+\n",
      "|prediction|label|count|\n",
      "+----------+-----+-----+\n",
      "|       0.0|    0|34184|\n",
      "|       1.0|    0|   61|\n",
      "|       0.0|    1| 4058|\n",
      "|       1.0|    1|  124|\n",
      "+----------+-----+-----+"
     ]
    }
   ],
   "source": [
    "sample_predictions.groupBy('prediction','label').count().show()"
   ]
  },
  {
   "cell_type": "code",
   "execution_count": 93,
   "metadata": {},
   "outputs": [],
   "source": [
    "%%spark -o sample_predictions"
   ]
  },
  {
   "cell_type": "markdown",
   "metadata": {},
   "source": [
    "### AOC"
   ]
  },
  {
   "cell_type": "code",
   "execution_count": 94,
   "metadata": {},
   "outputs": [
    {
     "name": "stderr",
     "output_type": "stream",
     "text": [
      "/opt/conda/lib/python3.6/site-packages/sklearn/metrics/ranking.py:656: UndefinedMetricWarning:\n",
      "\n",
      "No positive samples in y_true, true positive value should be meaningless\n",
      "\n"
     ]
    }
   ],
   "source": [
    "%%local\n",
    "from sklearn.metrics import roc_curve,auc\n",
    "import matplotlib.pyplot as plt\n",
    "labels = sample_predictions[\"label\"]\n",
    "probabilities = sample_predictions[\"probability\"]\n",
    "prob = []\n",
    "for dv in probabilities:\n",
    "    prob.append(dv['values'][1])\n",
    "fpr, tpr, thresholds = roc_curve(labels, prob, pos_label=1);\n",
    "roc_auc = auc(fpr, tpr)\n",
    "\n",
    "fig1 = plt.figure(figsize=(7,7))\n",
    "plt.plot(fpr, tpr, label='ROC curve (area = %0.2f)' % roc_auc)\n",
    "plt.plot([0, 1], [0, 1], 'k--')\n",
    "plt.xlim([-0.01, 1.0]); plt.ylim([-0.01, 1.05]);\n",
    "plt.xlabel('False Positive Rate'); plt.ylabel('True Positive Rate');\n",
    "plt.title('ROC Curve'); plt.legend(loc=\"lower right\");\n",
    "plt.savefig('image/roc3.png')"
   ]
  },
  {
   "cell_type": "markdown",
   "metadata": {},
   "source": [
    "### Distribution of probabilities"
   ]
  },
  {
   "cell_type": "code",
   "execution_count": 95,
   "metadata": {},
   "outputs": [],
   "source": [
    "%%local\n",
    "fig2 = plt.figure(figsize=(7,7))\n",
    "#plt.hist(prob, bins=100, alpha=0.5)\n",
    "sample_predictions['prob'] = prob\n",
    "#sample_predictions.groupby(\"label\").prob.plot(kind='density', xlim=[-0.01,1.01])\n",
    "sample_predictions.prob.plot(kind='density', xlim=[-0.01,1.01])\n",
    "plt.title('Distribution of predicted probabilities')\n",
    "plt.xlabel('Predict. prob.'); plt.ylabel('Prob');\n",
    "plt.legend(loc=\"lower right\");\n",
    "plt.xlim(0,1)\n",
    "plt.savefig('image/prob3.png')"
   ]
  },
  {
   "cell_type": "code",
   "execution_count": 96,
   "metadata": {},
   "outputs": [
    {
     "data": {
      "text/plain": [
       "0     0.279381\n",
       "1     0.325438\n",
       "2     0.089923\n",
       "3     0.137710\n",
       "4     0.176192\n",
       "5     0.096528\n",
       "6     0.088336\n",
       "7     0.443244\n",
       "8     0.088336\n",
       "9     0.092025\n",
       "10    0.170920\n",
       "11    0.091934\n",
       "12    0.090866\n",
       "13    0.090990\n",
       "14    0.090990\n",
       "15    0.123913\n",
       "16    0.090677\n",
       "17    0.097914\n",
       "18    0.095333\n",
       "19    0.173949\n",
       "20    0.081866\n",
       "21    0.091432\n",
       "22    0.097769\n",
       "23    0.089016\n",
       "24    0.082004\n",
       "25    0.090106\n",
       "26    0.090096\n",
       "27    0.082861\n",
       "28    0.086894\n",
       "29    0.118066\n",
       "30    0.125085\n",
       "31    0.275512\n",
       "32    0.090990\n",
       "33    0.183322\n",
       "34    0.089239\n",
       "35    0.086169\n",
       "36    0.097769\n",
       "37    0.135722\n",
       "38    0.190099\n",
       "39    0.158392\n",
       "40    0.091159\n",
       "41    0.132281\n",
       "42    0.122867\n",
       "43    0.099318\n",
       "44    0.091159\n",
       "45    0.080789\n",
       "46    0.095902\n",
       "47    0.198132\n",
       "48    0.086894\n",
       "49    0.097769\n",
       "Name: prob, dtype: float64"
      ]
     },
     "execution_count": 96,
     "metadata": {},
     "output_type": "execute_result"
    }
   ],
   "source": [
    "%%local\n",
    "sample_predictions['prob'].head(50)"
   ]
  },
  {
   "cell_type": "markdown",
   "metadata": {},
   "source": [
    "## Feature importance"
   ]
  },
  {
   "cell_type": "code",
   "execution_count": 41,
   "metadata": {},
   "outputs": [],
   "source": [
    "def extract_feature_importance(featureImp, df, featuresCol):\n",
    "    list_extract = []\n",
    "    # featuresCol: _features\n",
    "    for i in df.schema[featuresCol].metadata[\"ml_attr\"][\"attrs\"]:\n",
    "        list_extract = list_extract + df.schema[featuresCol].metadata[\"ml_attr\"][\"attrs\"][i]\n",
    "    varlist = pd.DataFrame(list_extract)\n",
    "    varlist['score'] = varlist['idx'].apply(lambda x: featureImp[x])\n",
    "    return(varlist.sort_values('score', ascending = False))"
   ]
  },
  {
   "cell_type": "code",
   "execution_count": 42,
   "metadata": {},
   "outputs": [],
   "source": [
    "feature_importance = extract_feature_importance(rfCvModel.bestModel.featureImportances, \n",
    "                          rf_cv_model_test_prediction, \"_features\")\n",
    "feature_importance['score'] = feature_importance['score'].round(4)\n",
    "feature_importance['name'] = list(map(lambda x: x.replace('_importantclassVec','').replace('classVec',''),feature_importance['name']))"
   ]
  },
  {
   "cell_type": "code",
   "execution_count": 43,
   "metadata": {
    "scrolled": true
   },
   "outputs": [
    {
     "name": "stdout",
     "output_type": "stream",
     "text": [
      "   idx                  name   score\n",
      "6    6            rate_index  0.4207\n",
      "8    8                rate_n  0.3401\n",
      "5    5   src_rate_amount_usd  0.1351\n",
      "7    7           star_rating  0.0491\n",
      "0    0  eligible_for_loyalty  0.0190\n",
      "3    3          free_parking  0.0143\n",
      "1    1        free_breakfast  0.0096\n",
      "2    2             free_wifi  0.0085\n",
      "4    4            refundable  0.0037"
     ]
    }
   ],
   "source": [
    "feature_importance"
   ]
  },
  {
   "cell_type": "code",
   "execution_count": 41,
   "metadata": {},
   "outputs": [
    {
     "name": "stdout",
     "output_type": "stream",
     "text": [
      "+--------------------+--------------------+\n",
      "|weights             |features            |\n",
      "+--------------------+--------------------+\n",
      "|-0.8094602753722356 |rate_index          |\n",
      "|-0.5577338679701562 |src_rate_amount_usd |\n",
      "|-0.2579508157967993 |free_parking        |\n",
      "|0.19426739534977197 |free_breakfast      |\n",
      "|-0.14050021928435147|eligible_for_loyalty|\n",
      "|-0.14010274984564297|rate_n              |\n",
      "|0.13132930238483456 |free_wifi           |\n",
      "|0.10773519280113225 |refundable          |\n",
      "|0.08115696961609643 |star_rating         |\n",
      "+--------------------+--------------------+"
     ]
    }
   ],
   "source": [
    "weights = lrModel.coefficients\n",
    "features = feature_importance.sort_values(by=['idx'])['name'].values\n",
    "weightsDF = sqlContext.createDataFrame(sc.parallelize([(float(w),f) for w,f in zip(weights,features)]),['weights','features'])\n",
    "weightsDF = weightsDF.withColumn('weights_abs',F.abs(F.col('weights')))\n",
    "weightsDF = weightsDF.orderBy([\"weights_abs\"], ascending=False)\n",
    "weightsDF = weightsDF.drop(\"weights_abs\")\n",
    "weightsDF.show(len(features),False)"
   ]
  },
  {
   "cell_type": "markdown",
   "metadata": {},
   "source": [
    "## Revenue Estimation"
   ]
  },
  {
   "cell_type": "markdown",
   "metadata": {},
   "source": [
    "### Distribution"
   ]
  },
  {
   "cell_type": "code",
   "execution_count": 47,
   "metadata": {},
   "outputs": [],
   "source": [
    "pipelineModel = pipeline.fit(data_df)\n",
    "data_tm_df = pipelineModel.transform(data_df)"
   ]
  },
  {
   "cell_type": "code",
   "execution_count": 48,
   "metadata": {},
   "outputs": [],
   "source": [
    "prediction=rfCvModel.transform(data_tm_df)"
   ]
  },
  {
   "cell_type": "code",
   "execution_count": 49,
   "metadata": {},
   "outputs": [
    {
     "name": "stdout",
     "output_type": "stream",
     "text": [
      "626342"
     ]
    }
   ],
   "source": [
    "prediction.count()"
   ]
  },
  {
   "cell_type": "code",
   "execution_count": 50,
   "metadata": {},
   "outputs": [],
   "source": [
    "unlist = F.udf(lambda x: float(list(x)[0]), DoubleType())\n",
    "prediction = prediction.withColumn('prob',unlist('probability'))"
   ]
  },
  {
   "cell_type": "code",
   "execution_count": 51,
   "metadata": {},
   "outputs": [],
   "source": [
    "prediction = prediction.\\\n",
    "withColumn('rate_revenue',F.col('src_supply_revenue_usd')*F.col('prob'))"
   ]
  },
  {
   "cell_type": "code",
   "execution_count": 52,
   "metadata": {},
   "outputs": [
    {
     "name": "stdout",
     "output_type": "stream",
     "text": [
      "+----------+------------------+\n",
      "|rate_index| avg(rate_revenue)|\n",
      "+----------+------------------+\n",
      "|        12| 28.83182900985359|\n",
      "|         1| 16.91943537783474|\n",
      "|        13| 31.01234302352645|\n",
      "|         6| 22.82916454626308|\n",
      "|         3| 19.66595451684039|\n",
      "|         5| 21.20914505655305|\n",
      "|        15|27.781647165293577|\n",
      "|         9|25.299044825786595|\n",
      "|         4| 20.49437485992719|\n",
      "|         8|26.347761419022756|\n",
      "|         7| 24.71274292593404|\n",
      "|        10|27.769850834028922|\n",
      "|        11|30.194028476709857|\n",
      "|        14|33.871021014550976|\n",
      "|         2|19.086816367428007|\n",
      "|         0|16.981607203050803|\n",
      "+----------+------------------+"
     ]
    }
   ],
   "source": [
    "prediction.groupBy('rate_index').agg(F.avg('rate_revenue')).show()"
   ]
  },
  {
   "cell_type": "code",
   "execution_count": 53,
   "metadata": {},
   "outputs": [
    {
     "name": "stdout",
     "output_type": "stream",
     "text": [
      "+----------+------------------+\n",
      "|rate_index|         avg(prob)|\n",
      "+----------+------------------+\n",
      "|        12|0.8622389454502336|\n",
      "|         1|0.7502280411264969|\n",
      "|        13|0.8537654304733346|\n",
      "|         6|0.8626642558968243|\n",
      "|         3|0.8513638587915634|\n",
      "|         5|0.8672811815904204|\n",
      "|        15|0.8622388717281845|\n",
      "|         9|0.8624870487612759|\n",
      "|         4|0.8716466568975798|\n",
      "|         8|0.8606705267798901|\n",
      "|         7|0.8593412080040556|\n",
      "|        10|0.8626716901996918|\n",
      "|        11|0.8651692593011434|\n",
      "|        14|0.8609508675856052|\n",
      "|         2|0.8483944872003494|\n",
      "|         0|0.7310739912784043|\n",
      "+----------+------------------+"
     ]
    }
   ],
   "source": [
    "prediction.groupBy('rate_index').agg(F.avg('prob')).show()"
   ]
  },
  {
   "cell_type": "markdown",
   "metadata": {},
   "source": [
    "### Hotel Revenue"
   ]
  },
  {
   "cell_type": "code",
   "execution_count": 57,
   "metadata": {},
   "outputs": [],
   "source": [
    "prediction = prediction.withColumn('hotel_revenue',F.sum('rate_revenue').over(Window.partitionBy(\"message_id\",\"hotel_id\",\"check_in_date\",\"check_out_date\",'tuid')))"
   ]
  },
  {
   "cell_type": "code",
   "execution_count": 58,
   "metadata": {},
   "outputs": [],
   "source": [
    "prediction = prediction.withColumn('avg_hotel_revenue',F.col('hotel_revenue')/F.col('rate_n'))"
   ]
  },
  {
   "cell_type": "code",
   "execution_count": 59,
   "metadata": {},
   "outputs": [
    {
     "name": "stdout",
     "output_type": "stream",
     "text": [
      "+------+------------------+\n",
      "|rate_n|avg(hotel_revenue)|\n",
      "+------+------------------+\n",
      "|    26| 603.8902043972981|\n",
      "|    29| 833.8151694814751|\n",
      "|    65|1242.4796288109503|\n",
      "|    19| 482.9106341353049|\n",
      "|    54|1460.6621186212285|\n",
      "|   112|2125.3521509345615|\n",
      "|    22| 523.7344539313586|\n",
      "|   196|  560.696132480702|\n",
      "|     7|145.25917143582183|\n",
      "|    77|1446.8746241860304|\n",
      "|    34| 784.7667281611959|\n",
      "|   184|1403.3732164000162|\n",
      "|   126| 2213.054178504973|\n",
      "|    50| 928.2385198014697|\n",
      "|   110|2076.9903440686326|\n",
      "|   190|1587.0596468542012|\n",
      "|    57|1022.1995036414669|\n",
      "|    32| 786.9972061763493|\n",
      "|    43| 917.5051128294874|\n",
      "|    84|1473.0890284644922|\n",
      "+------+------------------+\n",
      "only showing top 20 rows"
     ]
    }
   ],
   "source": [
    "prediction.groupBy('rate_n').agg(F.avg('hotel_revenue')).show()"
   ]
  },
  {
   "cell_type": "code",
   "execution_count": 312,
   "metadata": {},
   "outputs": [],
   "source": [
    "prdiction_output = prediction.drop('rate_typeIndex','rate_typeclassVec','_features','features','rawPrediction','probability')"
   ]
  },
  {
   "cell_type": "code",
   "execution_count": 313,
   "metadata": {},
   "outputs": [],
   "source": [
    "dir = 's3://ege-ds-workshops-corp/yixli/data_understanding/'\n",
    "datestamp = datetime.datetime.now().strftime('%m-%d-%Y')\n",
    "prdiction_output.repartition(1).write.format('com.databricks.spark.csv').mode('overwrite')\\\n",
    ".save(dir+datestamp+'_prediction.csv',header = 'true')"
   ]
  },
  {
   "cell_type": "code",
   "execution_count": 60,
   "metadata": {},
   "outputs": [],
   "source": [
    "sample_predictions = prediction.select(\"message_id\",\"hotel_id\",'tuid',\"check_in_date\",\"check_out_date\",'rate_index','rate_type','prob','rate_revenue','rate_n','hotel_revenue')"
   ]
  },
  {
   "cell_type": "code",
   "execution_count": 61,
   "metadata": {},
   "outputs": [],
   "source": [
    "%%spark -o sample_predictions"
   ]
  },
  {
   "cell_type": "code",
   "execution_count": 62,
   "metadata": {},
   "outputs": [],
   "source": [
    "%%local\n",
    "fig3 = plt.figure(figsize=(7,7))\n",
    "sample_predictions = sample_predictions.sort_values(by=['rate_type'])\n",
    "data = sample_predictions['rate_n']\n",
    "fig3 = sns.distplot(data,hist=True)\n",
    "fig3.set(xlabel='rate_n', ylabel='distribution')\n",
    "fig3.set_xlim(0,60)\n",
    "plt.tight_layout()\n",
    "plt.savefig('image/rate_n.png')"
   ]
  },
  {
   "cell_type": "code",
   "execution_count": 63,
   "metadata": {},
   "outputs": [],
   "source": [
    "%%local\n",
    "fig3 = plt.figure(figsize=(7,7))\n",
    "sample_predictions = sample_predictions.sort_values(by=['rate_type'])\n",
    "fig3 = sns.boxplot(x='rate_type', y='rate_revenue',data=sample_predictions)\n",
    "fig3.set(xlabel='rate_type', ylabel='rate_revenue')\n",
    "fig3.set_ylim(bottom=0,top=80)\n",
    "plt.tight_layout()\n",
    "plt.savefig('image/rate_revenue_by_type.png')"
   ]
  },
  {
   "cell_type": "code",
   "execution_count": 64,
   "metadata": {},
   "outputs": [],
   "source": [
    "%%local\n",
    "fig3 = plt.figure(figsize=(12,7))\n",
    "sample_predictions = sample_predictions.sort_values(by=['rate_index'])\n",
    "fig3 = sns.boxplot(x='rate_index', y='rate_revenue',data=sample_predictions,hue='rate_type')\n",
    "fig3.set(xlabel='rate_index', ylabel='rate_revenue')\n",
    "fig3.set_ylim(bottom=0,top=80)\n",
    "fig3.set_xlim(-0.5,5.5)\n",
    "plt.tight_layout()\n",
    "plt.savefig('image/rate_revenue_by_index.png')"
   ]
  },
  {
   "cell_type": "code",
   "execution_count": 65,
   "metadata": {},
   "outputs": [],
   "source": [
    "%%local\n",
    "fig4 = plt.figure(figsize=(7,7))\n",
    "sample_predictions = sample_predictions.sort_values(by=['rate_n'])\n",
    "fig4 = sns.scatterplot(x='rate_n', y='hotel_revenue',data=sample_predictions)\n",
    "fig4.set(xlabel='rate_n', ylabel='hotel_revenue')\n",
    "fig4.set_ylim(bottom=0,top=500)\n",
    "fig4.set_xlim(0,15)\n",
    "plt.tight_layout()\n",
    "plt.savefig('image/hotel_revenue_by_n.png')"
   ]
  },
  {
   "cell_type": "markdown",
   "metadata": {},
   "source": [
    "## Take top three rates"
   ]
  },
  {
   "cell_type": "code",
   "execution_count": 66,
   "metadata": {},
   "outputs": [],
   "source": [
    "top_three_prediction = prediction.withColumn('rate_rn',row_number().over(Window.partitionBy(\"message_id\",\"hotel_id\",\"check_in_date\",\"check_out_date\",'tuid').orderBy(desc('prob')))).\\\n",
    "filter(F.col('rate_rn')<=3)"
   ]
  },
  {
   "cell_type": "code",
   "execution_count": 67,
   "metadata": {},
   "outputs": [
    {
     "name": "stdout",
     "output_type": "stream",
     "text": [
      "264580"
     ]
    }
   ],
   "source": [
    "top_three_prediction.count()"
   ]
  },
  {
   "cell_type": "code",
   "execution_count": 68,
   "metadata": {},
   "outputs": [],
   "source": [
    "top_three_prediction = top_three_prediction.withColumn('trun_rate_n',F.count('rate_index').over(Window.partitionBy(\"message_id\",\"hotel_id\",\"check_in_date\",\"check_out_date\",'tuid')))"
   ]
  },
  {
   "cell_type": "code",
   "execution_count": 69,
   "metadata": {},
   "outputs": [],
   "source": [
    "top_three_prediction = top_three_prediction.withColumn('trun_hotel_revenue',F.sum('rate_revenue').over(Window.partitionBy(\"message_id\",\"hotel_id\",\"check_in_date\",\"check_out_date\",'tuid')))"
   ]
  },
  {
   "cell_type": "code",
   "execution_count": 70,
   "metadata": {},
   "outputs": [],
   "source": [
    "top_three_prediction = top_three_prediction.withColumn('avg_trun_hotel_revenue',F.col('trun_hotel_revenue')/F.col('trun_rate_n'))"
   ]
  },
  {
   "cell_type": "code",
   "execution_count": 71,
   "metadata": {},
   "outputs": [
    {
     "name": "stdout",
     "output_type": "stream",
     "text": [
      "+----------------------+\n",
      "|avg_trun_hotel_revenue|\n",
      "+----------------------+\n",
      "|    13.495824833038249|\n",
      "|    13.495824833038249|\n",
      "|    11.015897350139992|\n",
      "|     25.59143799213101|\n",
      "|     25.59143799213101|\n",
      "|     25.59143799213101|\n",
      "|    14.826111837550519|\n",
      "|    14.826111837550519|\n",
      "|    14.826111837550519|\n",
      "|    1.8741063642918618|\n",
      "|    16.135821634895468|\n",
      "|    16.135821634895468|\n",
      "|    16.135821634895468|\n",
      "|     9.329387306835898|\n",
      "|     9.329387306835898|\n",
      "|     9.329387306835898|\n",
      "|     6.100250178435805|\n",
      "|     6.100250178435805|\n",
      "|     6.100250178435805|\n",
      "|     22.98847553859661|\n",
      "+----------------------+\n",
      "only showing top 20 rows"
     ]
    }
   ],
   "source": [
    "top_three_prediction.select('avg_trun_hotel_revenue').show()"
   ]
  },
  {
   "cell_type": "code",
   "execution_count": 126,
   "metadata": {},
   "outputs": [],
   "source": [
    "sample_predictions =top_three_prediction.\\\n",
    "select(\"message_id\",\"hotel_id\",\"check_in_date\",\"check_out_date\",'rate_index','rate_type','prob',\n",
    "       'rate_revenue','trun_rate_n','trun_hotel_revenue','avg_trun_hotel_revenue',)"
   ]
  },
  {
   "cell_type": "code",
   "execution_count": 127,
   "metadata": {},
   "outputs": [],
   "source": [
    "%%spark -o sample_predictions"
   ]
  },
  {
   "cell_type": "code",
   "execution_count": 82,
   "metadata": {},
   "outputs": [],
   "source": [
    "%%local\n",
    "fig4 = plt.figure(figsize=(7,7))\n",
    "sample_predictions = sample_predictions.sort_values(by=['trun_rate_n'])\n",
    "fig4 = sns.scatterplot(x='trun_rate_n', y='trun_hotel_revenue',data=sample_predictions)\n",
    "fig4.set(xlabel='trun_rate_n', ylabel='trun_hotel_revenue')\n",
    "fig4.set_ylim(bottom=0,top=100)\n",
    "plt.tight_layout()\n",
    "plt.savefig('image/trun_hotel_revenue_by_n.png')"
   ]
  },
  {
   "cell_type": "code",
   "execution_count": 66,
   "metadata": {
    "collapsed": true
   },
   "outputs": [
    {
     "data": {
      "text/plain": [
       "1084   10.12112\n",
       "2226   13.11251\n",
       "1305   18.23883\n",
       "23     18.74732\n",
       "286     7.33658\n",
       "215    16.84115\n",
       "287     4.03053\n",
       "27      8.02256\n",
       "756     4.10109\n",
       "2289    7.18578\n",
       "1042   15.21596\n",
       "637    10.05006\n",
       "2154    9.91894\n",
       "49      9.12699\n",
       "2194    8.75786\n",
       "949    16.40713\n",
       "1200   20.71793\n",
       "103    29.96671\n",
       "279     7.66790\n",
       "1197    4.56407\n",
       "686    20.52672\n",
       "701     3.11842\n",
       "767    12.13597\n",
       "1875   14.10611\n",
       "1539   35.33625\n",
       "1775    7.05864\n",
       "1771    8.18157\n",
       "2201   11.84151\n",
       "202    15.06691\n",
       "1785   10.61459\n",
       "1401    9.35314\n",
       "1869   12.60943\n",
       "297    20.35567\n",
       "246     8.21420\n",
       "1068    8.74658\n",
       "1097    9.62761\n",
       "7      17.53554\n",
       "1833   16.24088\n",
       "735    14.94201\n",
       "1849   18.70016\n",
       "107     8.21524\n",
       "2236   16.85825\n",
       "1701   15.51707\n",
       "2184   11.89425\n",
       "1005   16.14439\n",
       "1560   15.85690\n",
       "347    31.86053\n",
       "62     20.42924\n",
       "996     5.10500\n",
       "725    11.89969\n",
       "Name: avg_trun_hotel_revenue, dtype: float64"
      ]
     },
     "execution_count": 66,
     "metadata": {},
     "output_type": "execute_result"
    }
   ],
   "source": [
    "%%local\n",
    "sample_predictions['avg_trun_hotel_revenue'].head(50)"
   ]
  },
  {
   "cell_type": "code",
   "execution_count": 128,
   "metadata": {},
   "outputs": [],
   "source": [
    "%%local\n",
    "fig4 = plt.figure(figsize=(7,7))\n",
    "data = sample_predictions['avg_trun_hotel_revenue']\n",
    "fig4 = sns.distplot(data,hist=True)\n",
    "fig4.set(xlabel='avg_trun_hotel_revenue', ylabel='distribution')\n",
    "fig4.set_xlim(0,100)\n",
    "plt.tight_layout()\n",
    "plt.savefig('image/avg_trun_hotel_revenue_top3.png')"
   ]
  },
  {
   "cell_type": "markdown",
   "metadata": {},
   "source": [
    "## Take top seven rates"
   ]
  },
  {
   "cell_type": "code",
   "execution_count": 72,
   "metadata": {},
   "outputs": [],
   "source": [
    "top_seven_prediction = prediction.withColumn('rate_rn',row_number().over(Window.partitionBy(\"message_id\",\"hotel_id\",\"check_in_date\",\"check_out_date\",\"tuid\").orderBy(desc('prob')))).\\\n",
    "filter(F.col('rate_rn')<=7)"
   ]
  },
  {
   "cell_type": "code",
   "execution_count": 73,
   "metadata": {},
   "outputs": [],
   "source": [
    "top_seven_prediction = top_seven_prediction.withColumn('trun_rate_n',F.count('rate_index').over(Window.partitionBy(\"message_id\",\"hotel_id\",\"check_in_date\",\"check_out_date\",'tuid')))"
   ]
  },
  {
   "cell_type": "code",
   "execution_count": 74,
   "metadata": {},
   "outputs": [],
   "source": [
    "top_seven_prediction  = top_seven_prediction.withColumn('trun_hotel_revenue',F.sum('rate_revenue').over(Window.partitionBy(\"message_id\",\"hotel_id\",\"check_in_date\",\"check_out_date\",'tuid')))"
   ]
  },
  {
   "cell_type": "code",
   "execution_count": 75,
   "metadata": {},
   "outputs": [],
   "source": [
    "top_seven_prediction  = top_seven_prediction .withColumn('avg_trun_hotel_revenue',F.col('trun_hotel_revenue')/F.col('trun_rate_n'))"
   ]
  },
  {
   "cell_type": "code",
   "execution_count": 88,
   "metadata": {},
   "outputs": [],
   "source": [
    "sample_predictions =top_seven_prediction .\\\n",
    "select(\"message_id\",\"hotel_id\",\"check_in_date\",\"check_out_date\",'rate_index','rate_type','prob',\n",
    "       'rate_revenue','trun_rate_n','trun_hotel_revenue','avg_trun_hotel_revenue')"
   ]
  },
  {
   "cell_type": "code",
   "execution_count": 76,
   "metadata": {},
   "outputs": [],
   "source": [
    "top_three_prediction = top_three_prediction.withColumnRenamed('avg_trun_hotel_revenue','avg_trun_hotel_revenue_top3')"
   ]
  },
  {
   "cell_type": "code",
   "execution_count": 77,
   "metadata": {},
   "outputs": [],
   "source": [
    "top_seven_prediction = top_seven_prediction.withColumnRenamed('avg_trun_hotel_revenue','avg_trun_hotel_revenue_top7')"
   ]
  },
  {
   "cell_type": "code",
   "execution_count": 84,
   "metadata": {},
   "outputs": [],
   "source": [
    "sample_predictions = prediction.select(\"message_id\",\"hotel_id\",\"check_in_date\",\"check_out_date\",\"tuid\",'avg_hotel_revenue','normalized_hotel_revenue').\\\n",
    "join(top_three_prediction .\\\n",
    "select(\"message_id\",\"hotel_id\",\"check_in_date\",\"check_out_date\",\"tuid\",'avg_trun_hotel_revenue_top3'),\n",
    "    [\"message_id\",\"hotel_id\",\"check_in_date\",\"check_out_date\",\"tuid\"],how='left')"
   ]
  },
  {
   "cell_type": "code",
   "execution_count": 85,
   "metadata": {},
   "outputs": [],
   "source": [
    "sample_predictions = sample_predictions.join(top_seven_prediction .\\\n",
    "select(\"message_id\",\"hotel_id\",\"check_in_date\",\"check_out_date\",\"tuid\",'avg_trun_hotel_revenue_top7'),\n",
    "    [\"message_id\",\"hotel_id\",\"check_in_date\",\"check_out_date\",\"tuid\"],how='left')"
   ]
  },
  {
   "cell_type": "code",
   "execution_count": 86,
   "metadata": {},
   "outputs": [
    {
     "name": "stdout",
     "output_type": "stream",
     "text": [
      "10927480"
     ]
    }
   ],
   "source": [
    "sample_predictions.count()"
   ]
  },
  {
   "cell_type": "code",
   "execution_count": 87,
   "metadata": {},
   "outputs": [],
   "source": [
    "sample_predictions = sample_predictions.sample(False,0.1,seed=917)"
   ]
  },
  {
   "cell_type": "code",
   "execution_count": 88,
   "metadata": {},
   "outputs": [],
   "source": [
    "%%spark -o sample_predictions"
   ]
  },
  {
   "cell_type": "code",
   "execution_count": 89,
   "metadata": {},
   "outputs": [],
   "source": [
    "%%local\n",
    "fig4 = plt.figure(figsize=(7,7))\n",
    "data = sample_predictions['avg_trun_hotel_revenue']\n",
    "fig4 = sns.distplot(data,hist=True)\n",
    "fig4.set(xlabel='avg_trun_hotel_revenue', ylabel='distribution')\n",
    "#fig4.set_ylim(bottom=0,top=10)\n",
    "plt.tight_layout()\n",
    "plt.savefig('image/avg_trun_hotel_revenue_top7.png')"
   ]
  },
  {
   "cell_type": "code",
   "execution_count": 89,
   "metadata": {},
   "outputs": [],
   "source": [
    "%%local\n",
    "fig4 = plt.figure(figsize=(7,7))\n",
    "fig4 = sns.distplot(sample_predictions['avg_trun_hotel_revenue_top3'],color=\"skyblue\", hist=False,label=\"top 3\")\n",
    "fig4 = sns.distplot(sample_predictions['avg_trun_hotel_revenue_top7'],color=\"steelblue\",  hist=False,label=\"top 7\")\n",
    "fig4 = sns.distplot(sample_predictions['avg_hotel_revenue'],color=\"red\", hist=False, label=\"all\")\n",
    "fig4 = sns.distplot(sample_predictions['normalized_hotel_revenue'],color=\"green\",  hist=False,label=\"normalized\")\n",
    "fig4.set(xlabel='hotel_revenue', ylabel='distribution')\n",
    "fig4.set_xlim(0,100)\n",
    "plt.legend()\n",
    "plt.tight_layout()\n",
    "plt.savefig('image/avg_trun_hotel_revenue.png')"
   ]
  },
  {
   "cell_type": "markdown",
   "metadata": {},
   "source": [
    "## Normalization"
   ]
  },
  {
   "cell_type": "code",
   "execution_count": 80,
   "metadata": {},
   "outputs": [],
   "source": [
    "prediction = prediction.withColumn('sum_prob',F.sum('prob').over(Window.partitionBy(\"message_id\",\"hotel_id\",\"check_in_date\",\"check_out_date\",'tuid')))"
   ]
  },
  {
   "cell_type": "code",
   "execution_count": 81,
   "metadata": {},
   "outputs": [],
   "source": [
    "prediction = prediction.withColumn('normalized_prob',F.col('prob')/F.col('sum_prob'))"
   ]
  },
  {
   "cell_type": "code",
   "execution_count": 82,
   "metadata": {},
   "outputs": [],
   "source": [
    "prediction = prediction.withColumn('normalized_rate_revenue',F.col('normalized_prob')*F.col('src_supply_revenue_usd'))"
   ]
  },
  {
   "cell_type": "code",
   "execution_count": 83,
   "metadata": {},
   "outputs": [],
   "source": [
    "prediction = prediction.withColumn('normalized_hotel_revenue',F.sum('normalized_rate_revenue').over(Window.partitionBy(\"message_id\",\"hotel_id\",\"check_in_date\",\"check_out_date\",'tuid')))"
   ]
  },
  {
   "cell_type": "code",
   "execution_count": 142,
   "metadata": {},
   "outputs": [],
   "source": [
    "sample_predictions =prediction .\\\n",
    "select(\"message_id\",\"hotel_id\",\"check_in_date\",\"check_out_date\",'normalized_hotel_revenue')"
   ]
  },
  {
   "cell_type": "code",
   "execution_count": 143,
   "metadata": {},
   "outputs": [],
   "source": [
    "sample_predictions = sample_predictions.sample(False,0.1,seed=917)"
   ]
  },
  {
   "cell_type": "code",
   "execution_count": 144,
   "metadata": {},
   "outputs": [],
   "source": [
    "%%spark -o sample_predictions"
   ]
  },
  {
   "cell_type": "code",
   "execution_count": 145,
   "metadata": {},
   "outputs": [
    {
     "name": "stderr",
     "output_type": "stream",
     "text": [
      "/opt/conda/lib/python3.6/site-packages/matplotlib/pyplot.py:514: RuntimeWarning:\n",
      "\n",
      "More than 20 figures have been opened. Figures created through the pyplot interface (`matplotlib.pyplot.figure`) are retained until explicitly closed and may consume too much memory. (To control this warning, see the rcParam `figure.max_open_warning`).\n",
      "\n"
     ]
    }
   ],
   "source": [
    "%%local\n",
    "fig4 = plt.figure(figsize=(7,7))\n",
    "fig4 = sns.distplot(sample_predictions['normalized_hotel_revenue'],color=\"green\", label=\"normalized_hotel_revenue\")\n",
    "fig4.set(xlabel='normalized_hotel_revenue', ylabel='distribution')\n",
    "fig4.set_xlim(0,100)\n",
    "plt.legend()\n",
    "plt.tight_layout()\n",
    "plt.savefig('image/normalized_hotel_revenue.png')"
   ]
  },
  {
   "cell_type": "markdown",
   "metadata": {},
   "source": [
    "## Addtional revenue estimation on last search lead to a booking"
   ]
  },
  {
   "cell_type": "markdown",
   "metadata": {},
   "source": [
    "### read last search data"
   ]
  },
  {
   "cell_type": "code",
   "execution_count": 44,
   "metadata": {},
   "outputs": [
    {
     "name": "stdout",
     "output_type": "stream",
     "text": [
      "Collecting search the data...\n",
      "3814935"
     ]
    }
   ],
   "source": [
    "#Oct\n",
    "#file_loc = \"s3://ege-ds-workshops-corp/yixli/data_understanding/09-22-2020_last_search_df.csv\"\n",
    "\n",
    "#Nov\n",
    "file_loc = \"s3://ege-ds-workshops-corp/yixli/data_understanding/09-23-2020_last_search_score_df.csv\"\n",
    "\n",
    "#Dec\n",
    "#file_loc = \"s3://ege-ds-workshops-corp/yixli/data_understanding/09-01-2020_last_search_score_df.csv\"\n",
    "\n",
    "last_search_df = sqlContext.read.format('csv').\\\n",
    "            options(header='True', inferSchema='True', delimiter=',').\\\n",
    "            load(file_loc)\n",
    "\n",
    "\n",
    "\n",
    "last_search_df = last_search_df.\\\n",
    "            filter(F.col(\"hotel_id\")>0).\\\n",
    "            filter(F.col('src_rate_amount_usd').isNotNull())\n",
    "print(last_search_df.count())"
   ]
  },
  {
   "cell_type": "code",
   "execution_count": 45,
   "metadata": {},
   "outputs": [
    {
     "name": "stdout",
     "output_type": "stream",
     "text": [
      "root\n",
      " |-- message_id: string (nullable = true)\n",
      " |-- tuid: integer (nullable = true)\n",
      " |-- hotel_id: integer (nullable = true)\n",
      " |-- check_in_date: timestamp (nullable = true)\n",
      " |-- check_out_date: timestamp (nullable = true)\n",
      " |-- hotel_index: integer (nullable = true)\n",
      " |-- bk_hotel_index: integer (nullable = true)\n",
      " |-- rate_index: integer (nullable = true)\n",
      " |-- message_date: timestamp (nullable = true)\n",
      " |-- hotel_result_index: integer (nullable = true)\n",
      " |-- city: string (nullable = true)\n",
      " |-- star_rating: string (nullable = true)\n",
      " |-- filter_want_in_policy_rates_only: boolean (nullable = true)\n",
      " |-- filter_eligible_for_loyalty: boolean (nullable = true)\n",
      " |-- filter_free_breakfast: boolean (nullable = true)\n",
      " |-- filter_free_wifi: boolean (nullable = true)\n",
      " |-- filter_free_parking: boolean (nullable = true)\n",
      " |-- rate_type: string (nullable = true)\n",
      " |-- eligible_for_loyalty: boolean (nullable = true)\n",
      " |-- free_breakfast: boolean (nullable = true)\n",
      " |-- free_wifi: boolean (nullable = true)\n",
      " |-- free_parking: boolean (nullable = true)\n",
      " |-- refundable: boolean (nullable = true)\n",
      " |-- src_rate_amount_usd: double (nullable = true)\n",
      " |-- src_commission_base_usd: double (nullable = true)\n",
      " |-- src_supply_revenue_usd: double (nullable = true)\n",
      " |-- score_1: double (nullable = true)"
     ]
    }
   ],
   "source": [
    "last_search_df.printSchema()"
   ]
  },
  {
   "cell_type": "markdown",
   "metadata": {},
   "source": [
    "### transform data"
   ]
  },
  {
   "cell_type": "code",
   "execution_count": 46,
   "metadata": {},
   "outputs": [],
   "source": [
    "data_df = last_search_df.select('hotel_id', 'check_in_date', 'check_out_date', 'tuid', 'rate_type', 'message_id', 'hotel_index','hotel_result_index', 'rate_index', 'message_date', 'score_1', 'city', 'star_rating', 'filter_want_in_policy_rates_only', 'filter_eligible_for_loyalty', 'filter_free_breakfast', 'filter_free_wifi', 'filter_free_parking', 'eligible_for_loyalty', 'free_breakfast', 'free_wifi', 'free_parking', 'refundable', 'bk_hotel_index', 'src_rate_amount_usd', 'src_commission_base_usd', 'src_supply_revenue_usd')\n",
    "                         "
   ]
  },
  {
   "cell_type": "code",
   "execution_count": 47,
   "metadata": {},
   "outputs": [],
   "source": [
    "data_df = data_df.withColumn('rate_n',F.count('rate_index').\\\n",
    "                                                  over(Window.partitionBy(\"message_id\",\"hotel_id\",\"check_in_date\",\"check_out_date\",'tuid')))"
   ]
  },
  {
   "cell_type": "code",
   "execution_count": 48,
   "metadata": {},
   "outputs": [],
   "source": [
    "data_df = data_df.withColumn('row_index', row_number().over(Window.orderBy(F.monotonically_increasing_id())))"
   ]
  },
  {
   "cell_type": "code",
   "execution_count": 49,
   "metadata": {
    "collapsed": true
   },
   "outputs": [
    {
     "name": "stdout",
     "output_type": "stream",
     "text": [
      "+--------+-------------------+-------------------+--------+---------+--------------------+-----------+------------------+----------+--------------------+-------------------+--------------+-----------+--------------------------------+---------------------------+---------------------+----------------+-------------------+--------------------+--------------+---------+------------+----------+--------------+-------------------+-----------------------+----------------------+------+---------+\n",
      "|hotel_id|      check_in_date|     check_out_date|    tuid|rate_type|          message_id|hotel_index|hotel_result_index|rate_index|        message_date|            score_1|          city|star_rating|filter_want_in_policy_rates_only|filter_eligible_for_loyalty|filter_free_breakfast|filter_free_wifi|filter_free_parking|eligible_for_loyalty|free_breakfast|free_wifi|free_parking|refundable|bk_hotel_index|src_rate_amount_usd|src_commission_base_usd|src_supply_revenue_usd|rate_n|row_index|\n",
      "+--------+-------------------+-------------------+--------+---------+--------------------+-----------+------------------+----------+--------------------+-------------------+--------------+-----------+--------------------------------+---------------------------+---------------------+----------------+-------------------+--------------------+--------------+---------+------------+----------+--------------+-------------------+-----------------------+----------------------+------+---------+\n",
      "| 7080823|2019-11-12 00:00:00|2019-11-13 00:00:00| 9644635|      GDS|0002872c-3fa7-443...|          1|                 0|         0|2019-11-11 02:03:...|0.14017748012410305| trondheim-nor|        3.0|                           false|                      false|                 true|           false|              false|                true|          true|     true|       false|      true|             1|          178.38371|                    0.0|             18.570696|     3|        1|\n",
      "| 7080823|2019-11-12 00:00:00|2019-11-13 00:00:00| 9644635|      GDS|0002872c-3fa7-443...|          1|                 0|         1|2019-11-11 02:03:...|0.14017748012410305| trondheim-nor|        3.0|                           false|                      false|                 true|           false|              false|                true|          true|     true|       false|      true|             1|          178.38371|                    0.0|             18.570696|     3|        2|\n",
      "| 7080823|2019-11-12 00:00:00|2019-11-13 00:00:00| 9644635|      GDS|0002872c-3fa7-443...|          1|                 0|         2|2019-11-11 02:03:...|0.14017748012410305| trondheim-nor|        3.0|                           false|                      false|                 true|           false|              false|                true|          true|     true|       false|      true|             1|          178.38371|                    0.0|             18.570696|     3|        3|\n",
      "|   28370|2019-11-14 00:00:00|2019-11-15 00:00:00| 7380722|      GDS|00064bb1-9e09-4d6...|          1|                 7|         5|2019-11-11 01:42:...|0.15114192552760153|copenhagen-dnk|        4.0|                           false|                      false|                false|           false|              false|                true|         false|     true|       false|      true|             3|           195.6586|                    0.0|             19.952688|     6|        4|\n",
      "|   28370|2019-11-14 00:00:00|2019-11-15 00:00:00| 7380722|      GDS|00064bb1-9e09-4d6...|          1|                 7|         3|2019-11-11 01:42:...|0.15114192552760153|copenhagen-dnk|        4.0|                           false|                      false|                false|           false|              false|                true|         false|     true|       false|      true|             3|          181.63025|                    0.0|              18.83042|     6|        5|\n",
      "|   28370|2019-11-14 00:00:00|2019-11-15 00:00:00| 7380722|     ESRA|00064bb1-9e09-4d6...|          1|                 7|         8|2019-11-11 01:42:...|0.15114192552760153|copenhagen-dnk|        4.0|                           false|                      false|                false|           false|              false|               false|         false|     true|       false|      true|             3|          294.62494|               44.78293|              55.97903|     6|        6|\n",
      "|   28370|2019-11-14 00:00:00|2019-11-15 00:00:00| 7380722|     ESRA|00064bb1-9e09-4d6...|          1|                 7|         7|2019-11-11 01:42:...|0.15114192552760153|copenhagen-dnk|        4.0|                           false|                      false|                false|           false|              false|               false|         false|     true|       false|      true|             3|          250.31749|              30.038393|             37.547253|     6|        7|\n",
      "|   28370|2019-11-14 00:00:00|2019-11-15 00:00:00| 7380722|     ESRA|00064bb1-9e09-4d6...|          1|                 7|         6|2019-11-11 01:42:...|0.15114192552760153|copenhagen-dnk|        4.0|                           false|                      false|                false|           false|              false|               false|         false|     true|       false|      true|             3|          206.01447|               24.72091|             30.900768|     6|        8|\n",
      "|   28370|2019-11-14 00:00:00|2019-11-15 00:00:00| 7380722|     ESRA|00064bb1-9e09-4d6...|          1|                 7|         4|2019-11-11 01:42:...|0.15114192552760153|copenhagen-dnk|        4.0|                           false|                      false|                false|           false|              false|               false|         false|     true|       false|      true|             3|           191.2463|              22.948908|             28.685764|     6|        9|\n",
      "|  328182|2019-11-10 00:00:00|2019-11-15 00:00:00|14070272|     ESRM|002d1a94-e76e-4d9...|          2|                13|         2|2019-11-07 10:30:...|0.15271855678987675|  rosemont-usa|        3.5|                           false|                      false|                false|           false|              false|               false|         false|     true|       false|     false|             4|              119.0|                  16.06|                 22.01|     6|       10|\n",
      "|  328182|2019-11-10 00:00:00|2019-11-15 00:00:00|14070272|     EPRA|002d1a94-e76e-4d9...|          2|                13|         1|2019-11-07 10:30:...|0.15271855678987675|  rosemont-usa|        3.5|                           false|                      false|                false|           false|              false|                true|         false|     true|       false|      true|             4|             104.72|                  15.71|                 15.71|     6|       11|\n",
      "|  328182|2019-11-10 00:00:00|2019-11-15 00:00:00|14070272|     ESRA|002d1a94-e76e-4d9...|          2|                13|         3|2019-11-07 10:30:...|0.15271855678987675|  rosemont-usa|        3.5|                           false|                      false|                false|           false|              false|               false|         false|     true|       false|      true|             4|              119.0|                  14.28|                 14.28|     6|       12|\n",
      "|  328182|2019-11-10 00:00:00|2019-11-15 00:00:00|14070272|     ESRA|002d1a94-e76e-4d9...|          2|                13|         5|2019-11-07 10:30:...|0.15271855678987675|  rosemont-usa|        3.5|                           false|                      false|                false|           false|              false|               false|         false|     true|       false|      true|             4|              139.0|                  16.68|                 16.68|     6|       13|\n",
      "|  328182|2019-11-10 00:00:00|2019-11-15 00:00:00|14070272|     ESRM|002d1a94-e76e-4d9...|          2|                13|         4|2019-11-07 10:30:...|0.15271855678987675|  rosemont-usa|        3.5|                           false|                      false|                false|           false|              false|               false|         false|     true|       false|     false|             4|              139.0|                  18.76|                 25.71|     6|       14|\n",
      "|  328182|2019-11-10 00:00:00|2019-11-15 00:00:00|14070272|     EPRM|002d1a94-e76e-4d9...|          2|                13|         0|2019-11-07 10:30:...|0.15271855678987675|  rosemont-usa|        3.5|                           false|                      false|                false|           false|              false|                true|         false|     true|       false|     false|             4|             104.72|                  15.71|                 16.68|     6|       15|\n",
      "| 3837200|2019-12-03 00:00:00|2019-12-04 00:00:00|18544169|     ESRM|0036c72b-83c1-40f...|          1|                 0|         0|2019-11-25 00:55:...|0.13681861104578275|  brussels-bel|        3.0|                           false|                      false|                false|           false|              false|               false|         false|     true|       false|     false|             3|          164.64337|              38.912132|              41.24642|    15|       16|\n",
      "| 3837200|2019-12-03 00:00:00|2019-12-04 00:00:00|18544169|     EPRM|0036c72b-83c1-40f...|          1|                 0|         2|2019-11-25 00:55:...|0.13681861104578275|  brussels-bel|        3.0|                           false|                      false|                false|           false|              false|               false|         false|     true|       false|      true|             3|           173.0454|              27.802246|             29.464876|    15|       17|\n",
      "| 3837200|2019-12-03 00:00:00|2019-12-04 00:00:00|18544169|     ESRA|0036c72b-83c1-40f...|          1|                 0|        10|2019-11-25 00:55:...|0.13681861104578275|  brussels-bel|        3.0|                           false|                      false|                false|           false|              false|               false|          true|     true|       false|      true|             3|          182.93358|              29.398811|             31.160538|    15|       18|\n",
      "| 3837200|2019-12-03 00:00:00|2019-12-04 00:00:00|18544169|     ESRM|0036c72b-83c1-40f...|          1|                 0|         4|2019-11-25 00:55:...|0.13681861104578275|  brussels-bel|        3.0|                           false|                      false|                false|           false|              false|               false|          true|     true|       false|      true|             3|           173.4711|              33.891212|              36.34662|    15|       19|\n",
      "| 3837200|2019-12-03 00:00:00|2019-12-04 00:00:00|18544169|     ESRM|0036c72b-83c1-40f...|          1|                 0|        12|2019-11-25 00:55:...|0.13681861104578275|  brussels-bel|        3.0|                           false|                      false|                false|           false|              false|               false|          true|     true|       false|      true|             3|          252.57222|              52.587536|             56.155033|    15|       20|\n",
      "+--------+-------------------+-------------------+--------+---------+--------------------+-----------+------------------+----------+--------------------+-------------------+--------------+-----------+--------------------------------+---------------------------+---------------------+----------------+-------------------+--------------------+--------------+---------+------------+----------+--------------+-------------------+-----------------------+----------------------+------+---------+\n",
      "only showing top 20 rows"
     ]
    }
   ],
   "source": [
    "data_df.show()"
   ]
  },
  {
   "cell_type": "code",
   "execution_count": 50,
   "metadata": {},
   "outputs": [],
   "source": [
    "data_df = data_df.\\\n",
    "             withColumn(\"rate_index\", data_df.rate_index.cast(\"integer\")).\\\n",
    "            withColumn(\"star_rating\", data_df.star_rating.cast(\"float\")).\\\n",
    "            withColumn(\"eligible_for_loyalty\", data_df.eligible_for_loyalty.cast(\"boolean\").cast(\"integer\")).\\\n",
    "            withColumn(\"free_breakfast\", data_df.free_breakfast.cast(\"boolean\").cast(\"integer\")).\\\n",
    "            withColumn(\"free_wifi\", data_df.free_wifi.cast(\"boolean\").cast(\"integer\")).\\\n",
    "            withColumn(\"free_parking\", data_df.free_parking.cast(\"boolean\").cast(\"integer\")).\\\n",
    "            withColumn(\"refundable\", data_df.refundable.cast(\"boolean\").cast(\"integer\"))"
   ]
  },
  {
   "cell_type": "code",
   "execution_count": 51,
   "metadata": {},
   "outputs": [
    {
     "name": "stdout",
     "output_type": "stream",
     "text": [
      "3814935"
     ]
    }
   ],
   "source": [
    "data_df.count()"
   ]
  },
  {
   "cell_type": "code",
   "execution_count": 52,
   "metadata": {},
   "outputs": [],
   "source": [
    "imputer = Imputer(inputCols=['star_rating'],\n",
    "outputCols=['star_rating'])\n",
    "data_df = imputer.fit(data_df).transform(data_df)"
   ]
  },
  {
   "cell_type": "code",
   "execution_count": 53,
   "metadata": {},
   "outputs": [
    {
     "name": "stdout",
     "output_type": "stream",
     "text": [
      "+--------+-------------+--------------+----+---------+----------+-----------+------------------+----------+------------+-------+----+-----------+--------------------------------+---------------------------+---------------------+----------------+-------------------+--------------------+--------------+---------+------------+----------+--------------+-------------------+-----------------------+----------------------+------+---------+\n",
      "|hotel_id|check_in_date|check_out_date|tuid|rate_type|message_id|hotel_index|hotel_result_index|rate_index|message_date|score_1|city|star_rating|filter_want_in_policy_rates_only|filter_eligible_for_loyalty|filter_free_breakfast|filter_free_wifi|filter_free_parking|eligible_for_loyalty|free_breakfast|free_wifi|free_parking|refundable|bk_hotel_index|src_rate_amount_usd|src_commission_base_usd|src_supply_revenue_usd|rate_n|row_index|\n",
      "+--------+-------------+--------------+----+---------+----------+-----------+------------------+----------+------------+-------+----+-----------+--------------------------------+---------------------------+---------------------+----------------+-------------------+--------------------+--------------+---------+------------+----------+--------------+-------------------+-----------------------+----------------------+------+---------+\n",
      "|       0|            0|             0|   0|        0|         0|          0|                 0|         0|           0| 403528|   0|          0|                               0|                          0|                    0|               0|                  0|                   0|             0|        0|           0|         0|             0|                  0|                      0|                     0|     0|        0|\n",
      "+--------+-------------+--------------+----+---------+----------+-----------+------------------+----------+------------+-------+----+-----------+--------------------------------+---------------------------+---------------------+----------------+-------------------+--------------------+--------------+---------+------------+----------+--------------+-------------------+-----------------------+----------------------+------+---------+"
     ]
    }
   ],
   "source": [
    "data_df.select([F.count(F.when(F.col(c).isNull(), c)).alias(c) for c in data_df.columns]).show()"
   ]
  },
  {
   "cell_type": "markdown",
   "metadata": {},
   "source": [
    "### pip data into model"
   ]
  },
  {
   "cell_type": "code",
   "execution_count": 54,
   "metadata": {},
   "outputs": [],
   "source": [
    "pipelineModel = pipeline.fit(data_df)\n",
    "data_tm_df = pipelineModel.transform(data_df)"
   ]
  },
  {
   "cell_type": "code",
   "execution_count": 55,
   "metadata": {},
   "outputs": [],
   "source": [
    "prediction=rfCvModel.transform(data_tm_df)"
   ]
  },
  {
   "cell_type": "code",
   "execution_count": 56,
   "metadata": {},
   "outputs": [
    {
     "name": "stdout",
     "output_type": "stream",
     "text": [
      "3814935"
     ]
    }
   ],
   "source": [
    "prediction.count()"
   ]
  },
  {
   "cell_type": "code",
   "execution_count": 57,
   "metadata": {},
   "outputs": [],
   "source": [
    "unlist = F.udf(lambda x: float(list(x)[0]), DoubleType())\n",
    "prediction = prediction.withColumn('prob',unlist('probability'))"
   ]
  },
  {
   "cell_type": "code",
   "execution_count": 58,
   "metadata": {},
   "outputs": [],
   "source": [
    "prediction = prediction.\\\n",
    "withColumn('rate_revenue',F.col('src_supply_revenue_usd')*F.col('prob'))"
   ]
  },
  {
   "cell_type": "code",
   "execution_count": 59,
   "metadata": {},
   "outputs": [],
   "source": [
    "prediction_output = prediction.drop('_features','features','rawPrediction','probability')"
   ]
  },
  {
   "cell_type": "code",
   "execution_count": 60,
   "metadata": {},
   "outputs": [],
   "source": [
    "dir = 's3://ege-ds-workshops-corp/yixli/data_understanding/'\n",
    "datestamp = datetime.datetime.now().strftime('%m-%d-%Y')\n",
    "prediction_output.repartition(1).write.format('com.databricks.spark.csv').mode('overwrite')\\\n",
    ".save(dir+datestamp+'_prediction.csv',header = 'true')"
   ]
  },
  {
   "cell_type": "code",
   "execution_count": 63,
   "metadata": {},
   "outputs": [
    {
     "name": "stdout",
     "output_type": "stream",
     "text": [
      "3814935"
     ]
    }
   ],
   "source": [
    "#Oct\n",
    "#file_loc = \"s3://ege-ds-workshops-corp/yixli/data_understanding/09-22-2020_prediction.csv\"\n",
    "\n",
    "#Nov\n",
    "file_loc = \"s3://ege-ds-workshops-corp/yixli/data_understanding/09-23-2020_prediction.csv\"\n",
    "\n",
    "#Dec\n",
    "#file_loc = \"s3://ege-ds-workshops-corp/yixli/data_understanding/09-16-2020_prediction.csv\"\n",
    "prediction = sqlContext.read.format('csv').\\\n",
    "            options(header='True', inferSchema='True', delimiter=',').\\\n",
    "            load(file_loc)\n",
    "\n",
    "\n",
    "prediction = prediction.\\\n",
    "            filter(F.col(\"hotel_id\")>0).\\\n",
    "            filter(F.col('src_rate_amount_usd').isNotNull())\n",
    "print(prediction.count())"
   ]
  },
  {
   "cell_type": "code",
   "execution_count": 64,
   "metadata": {},
   "outputs": [
    {
     "name": "stdout",
     "output_type": "stream",
     "text": [
      "3814935"
     ]
    }
   ],
   "source": [
    "prediction.dropDuplicates().count()"
   ]
  },
  {
   "cell_type": "code",
   "execution_count": 62,
   "metadata": {
    "collapsed": true
   },
   "outputs": [
    {
     "name": "stdout",
     "output_type": "stream",
     "text": [
      "+--------+-------------------+-------------------+--------+---------+--------------------+-----------+------------------+----------+--------------------+-------------------+--------------+-----------+--------------------------------+---------------------------+---------------------+----------------+-------------------+--------------------+--------------+---------+------------+----------+--------------+-------------------+-----------------------+----------------------+------+---------+--------------------+--------------------+--------------------+--------------------+----------+------------------+------------------+\n",
      "|hotel_id|      check_in_date|     check_out_date|    tuid|rate_type|          message_id|hotel_index|hotel_result_index|rate_index|        message_date|            score_1|          city|star_rating|filter_want_in_policy_rates_only|filter_eligible_for_loyalty|filter_free_breakfast|filter_free_wifi|filter_free_parking|eligible_for_loyalty|free_breakfast|free_wifi|free_parking|refundable|bk_hotel_index|src_rate_amount_usd|src_commission_base_usd|src_supply_revenue_usd|rate_n|row_index|           _features|            features|       rawPrediction|         probability|prediction|              prob|      rate_revenue|\n",
      "+--------+-------------------+-------------------+--------+---------+--------------------+-----------+------------------+----------+--------------------+-------------------+--------------+-----------+--------------------------------+---------------------------+---------------------+----------------+-------------------+--------------------+--------------+---------+------------+----------+--------------+-------------------+-----------------------+----------------------+------+---------+--------------------+--------------------+--------------------+--------------------+----------+------------------+------------------+\n",
      "| 7080823|2019-11-12 00:00:00|2019-11-13 00:00:00| 9644635|      GDS|0002872c-3fa7-443...|          1|                 0|         0|2019-11-11 02:03:...|0.14017748012410305| trondheim-nor|        3.0|                           false|                      false|                 true|           false|              false|                   1|             1|        1|           0|         1|             1|          178.38371|                    0.0|             18.570696|     3|        1|[1.0,1.0,1.0,0.0,...|[2.69485591518046...|[52.8057129209617...|[0.52805712920961...|       0.0| 0.528057129209618| 9.806388417184538|\n",
      "| 7080823|2019-11-12 00:00:00|2019-11-13 00:00:00| 9644635|      GDS|0002872c-3fa7-443...|          1|                 0|         1|2019-11-11 02:03:...|0.14017748012410305| trondheim-nor|        3.0|                           false|                      false|                 true|           false|              false|                   1|             1|        1|           0|         1|             1|          178.38371|                    0.0|             18.570696|     3|        2|[1.0,1.0,1.0,0.0,...|[2.69485591518046...|[68.2735325580150...|[0.68273532558015...|       0.0|0.6827353255801504|12.678870179809998|\n",
      "| 7080823|2019-11-12 00:00:00|2019-11-13 00:00:00| 9644635|      GDS|0002872c-3fa7-443...|          1|                 0|         2|2019-11-11 02:03:...|0.14017748012410305| trondheim-nor|        3.0|                           false|                      false|                 true|           false|              false|                   1|             1|        1|           0|         1|             1|          178.38371|                    0.0|             18.570696|     3|        3|[1.0,1.0,1.0,0.0,...|[2.69485591518046...|[83.6503491025101...|[0.83650349102510...|       0.0|0.8365034910251016|15.534452034765891|\n",
      "|   28370|2019-11-14 00:00:00|2019-11-15 00:00:00| 7380722|      GDS|00064bb1-9e09-4d6...|          1|                 7|         5|2019-11-11 01:42:...|0.15114192552760153|copenhagen-dnk|        4.0|                           false|                      false|                false|           false|              false|                   1|             0|        1|           0|         1|             3|           195.6586|                    0.0|             19.952688|     6|        4|[1.0,0.0,1.0,0.0,...|[2.69485591518046...|[83.6992187694344...|[0.83699218769434...|       0.0|0.8369921876943447|16.700243979502698|\n",
      "|   28370|2019-11-14 00:00:00|2019-11-15 00:00:00| 7380722|      GDS|00064bb1-9e09-4d6...|          1|                 7|         3|2019-11-11 01:42:...|0.15114192552760153|copenhagen-dnk|        4.0|                           false|                      false|                false|           false|              false|                   1|             0|        1|           0|         1|             3|          181.63025|                    0.0|              18.83042|     6|        5|[1.0,0.0,1.0,0.0,...|[2.69485591518046...|[83.1747601889849...|[0.83174760188984...|       0.0|0.8317476018898495|15.662156677578661|\n",
      "|   28370|2019-11-14 00:00:00|2019-11-15 00:00:00| 7380722|     ESRA|00064bb1-9e09-4d6...|          1|                 7|         8|2019-11-11 01:42:...|0.15114192552760153|copenhagen-dnk|        4.0|                           false|                      false|                false|           false|              false|                   0|             0|        1|           0|         1|             3|          294.62494|               44.78293|              55.97903|     6|        6|[0.0,0.0,1.0,0.0,...|[0.0,0.0,3.663799...|[83.3666277531007...|[0.83366627753100...|       0.0|0.8336662775310073| 46.66782955989658|\n",
      "|   28370|2019-11-14 00:00:00|2019-11-15 00:00:00| 7380722|     ESRA|00064bb1-9e09-4d6...|          1|                 7|         7|2019-11-11 01:42:...|0.15114192552760153|copenhagen-dnk|        4.0|                           false|                      false|                false|           false|              false|                   0|             0|        1|           0|         1|             3|          250.31749|              30.038393|             37.547253|     6|        7|[0.0,0.0,1.0,0.0,...|[0.0,0.0,3.663799...|[83.2331866291678...|[0.83233186629167...|       0.0| 0.832331866291678|31.251775163615804|\n",
      "|   28370|2019-11-14 00:00:00|2019-11-15 00:00:00| 7380722|     ESRA|00064bb1-9e09-4d6...|          1|                 7|         6|2019-11-11 01:42:...|0.15114192552760153|copenhagen-dnk|        4.0|                           false|                      false|                false|           false|              false|                   0|             0|        1|           0|         1|             3|          206.01447|               24.72091|             30.900768|     6|        8|[0.0,0.0,1.0,0.0,...|[0.0,0.0,3.663799...|[80.8442507052004...|[0.80844250705200...|       0.0|0.8084425070520044| 24.98149435175235|\n",
      "|   28370|2019-11-14 00:00:00|2019-11-15 00:00:00| 7380722|     ESRA|00064bb1-9e09-4d6...|          1|                 7|         4|2019-11-11 01:42:...|0.15114192552760153|copenhagen-dnk|        4.0|                           false|                      false|                false|           false|              false|                   0|             0|        1|           0|         1|             3|           191.2463|              22.948908|             28.685764|     6|        9|[0.0,0.0,1.0,0.0,...|[0.0,0.0,3.663799...|[80.8442507052004...|[0.80844250705200...|       0.0|0.8084425070520044| 23.19079096486213|\n",
      "|  328182|2019-11-10 00:00:00|2019-11-15 00:00:00|14070272|     ESRM|002d1a94-e76e-4d9...|          2|                13|         2|2019-11-07 10:30:...|0.15271855678987675|  rosemont-usa|        3.5|                           false|                      false|                false|           false|              false|                   0|             0|        1|           0|         0|             4|              119.0|                  16.06|                 22.01|     6|       10|[0.0,0.0,1.0,0.0,...|[0.0,0.0,3.663799...|[73.0888309363965...|[0.73088830936396...|       0.0|0.7308883093639653| 16.08685168910088|\n",
      "|  328182|2019-11-10 00:00:00|2019-11-15 00:00:00|14070272|     EPRA|002d1a94-e76e-4d9...|          2|                13|         1|2019-11-07 10:30:...|0.15271855678987675|  rosemont-usa|        3.5|                           false|                      false|                false|           false|              false|                   1|             0|        1|           0|         1|             4|             104.72|                  15.71|                 15.71|     6|       11|[1.0,0.0,1.0,0.0,...|[2.69485591518046...|[57.7599596111426...|[0.57759959611142...|       0.0|0.5775995961114265|  9.07408965491051|\n",
      "|  328182|2019-11-10 00:00:00|2019-11-15 00:00:00|14070272|     ESRA|002d1a94-e76e-4d9...|          2|                13|         3|2019-11-07 10:30:...|0.15271855678987675|  rosemont-usa|        3.5|                           false|                      false|                false|           false|              false|                   0|             0|        1|           0|         1|             4|              119.0|                  14.28|                 14.28|     6|       12|[0.0,0.0,1.0,0.0,...|[0.0,0.0,3.663799...|[71.9942504091118...|[0.71994250409111...|       0.0|0.7199425040911183|10.280778958421168|\n",
      "|  328182|2019-11-10 00:00:00|2019-11-15 00:00:00|14070272|     ESRA|002d1a94-e76e-4d9...|          2|                13|         5|2019-11-07 10:30:...|0.15271855678987675|  rosemont-usa|        3.5|                           false|                      false|                false|           false|              false|                   0|             0|        1|           0|         1|             4|              139.0|                  16.68|                 16.68|     6|       13|[0.0,0.0,1.0,0.0,...|[0.0,0.0,3.663799...|[78.9704992256732...|[0.78970499225673...|       0.0|0.7897049922567323|13.172279270842294|\n",
      "|  328182|2019-11-10 00:00:00|2019-11-15 00:00:00|14070272|     ESRM|002d1a94-e76e-4d9...|          2|                13|         4|2019-11-07 10:30:...|0.15271855678987675|  rosemont-usa|        3.5|                           false|                      false|                false|           false|              false|                   0|             0|        1|           0|         0|             4|              139.0|                  18.76|                 25.71|     6|       14|[0.0,0.0,1.0,0.0,...|[0.0,0.0,3.663799...|[79.1749361962283...|[0.79174936196228...|       0.0|0.7917493619622836|20.355876096050313|\n",
      "|  328182|2019-11-10 00:00:00|2019-11-15 00:00:00|14070272|     EPRM|002d1a94-e76e-4d9...|          2|                13|         0|2019-11-07 10:30:...|0.15271855678987675|  rosemont-usa|        3.5|                           false|                      false|                false|           false|              false|                   1|             0|        1|           0|         0|             4|             104.72|                  15.71|                 16.68|     6|       15|[1.0,0.0,1.0,0.0,...|[2.69485591518046...|[53.2084841464521...|[0.53208484146452...|       0.0|0.5320848414645214| 8.875175155628217|\n",
      "| 3837200|2019-12-03 00:00:00|2019-12-04 00:00:00|18544169|     ESRM|0036c72b-83c1-40f...|          1|                 0|         0|2019-11-25 00:55:...|0.13681861104578275|  brussels-bel|        3.0|                           false|                      false|                false|           false|              false|                   0|             0|        1|           0|         0|             3|          164.64337|              38.912132|              41.24642|    15|       16|(9,[2,5,7,8],[1.0...|(9,[2,5,7,8],[3.6...|[59.2462316209393...|[0.59246231620939...|       0.0|0.5924623162093934|24.436949528545448|\n",
      "| 3837200|2019-12-03 00:00:00|2019-12-04 00:00:00|18544169|     EPRM|0036c72b-83c1-40f...|          1|                 0|         2|2019-11-25 00:55:...|0.13681861104578275|  brussels-bel|        3.0|                           false|                      false|                false|           false|              false|                   0|             0|        1|           0|         1|             3|           173.0454|              27.802246|             29.464876|    15|       17|[0.0,0.0,1.0,0.0,...|[0.0,0.0,3.663799...|[83.1517913873214...|[0.83151791387321...|       0.0|0.8315179138732139|24.500572224052927|\n",
      "| 3837200|2019-12-03 00:00:00|2019-12-04 00:00:00|18544169|     ESRA|0036c72b-83c1-40f...|          1|                 0|        10|2019-11-25 00:55:...|0.13681861104578275|  brussels-bel|        3.0|                           false|                      false|                false|           false|              false|                   0|             1|        1|           0|         1|             3|          182.93358|              29.398811|             31.160538|    15|       18|[0.0,1.0,1.0,0.0,...|[0.0,2.0000445343...|[84.2304225186345...|[0.84230422518634...|       0.0|0.8423042251863453|26.246652816479667|\n",
      "| 3837200|2019-12-03 00:00:00|2019-12-04 00:00:00|18544169|     ESRM|0036c72b-83c1-40f...|          1|                 0|         4|2019-11-25 00:55:...|0.13681861104578275|  brussels-bel|        3.0|                           false|                      false|                false|           false|              false|                   0|             1|        1|           0|         1|             3|           173.4711|              33.891212|              36.34662|    15|       19|[0.0,1.0,1.0,0.0,...|[0.0,2.0000445343...|[83.8937192191678...|[0.83893719219167...|       0.0|0.8389371921916781| 30.49253132845789|\n",
      "| 3837200|2019-12-03 00:00:00|2019-12-04 00:00:00|18544169|     ESRM|0036c72b-83c1-40f...|          1|                 0|        12|2019-11-25 00:55:...|0.13681861104578275|  brussels-bel|        3.0|                           false|                      false|                false|           false|              false|                   0|             1|        1|           0|         1|             3|          252.57222|              52.587536|             56.155033|    15|       20|[0.0,1.0,1.0,0.0,...|[0.0,2.0000445343...|[85.6516694237015...|[0.85651669423701...|       0.0| 0.856516694237015|48.097723229930494|\n",
      "+--------+-------------------+-------------------+--------+---------+--------------------+-----------+------------------+----------+--------------------+-------------------+--------------+-----------+--------------------------------+---------------------------+---------------------+----------------+-------------------+--------------------+--------------+---------+------------+----------+--------------+-------------------+-----------------------+----------------------+------+---------+--------------------+--------------------+--------------------+--------------------+----------+------------------+------------------+\n",
      "only showing top 20 rows"
     ]
    }
   ],
   "source": [
    "prediction.show()"
   ]
  },
  {
   "cell_type": "markdown",
   "metadata": {},
   "source": [
    "### top seven hotel revenue"
   ]
  },
  {
   "cell_type": "code",
   "execution_count": 65,
   "metadata": {},
   "outputs": [],
   "source": [
    "top_seven_prediction = prediction.withColumn('rate_rn',row_number().over(Window.partitionBy(\"message_id\",\"hotel_id\",\"check_in_date\",\"check_out_date\",'tuid').orderBy(desc('prob')))).\\\n",
    "filter(F.col('rate_rn')<=7)"
   ]
  },
  {
   "cell_type": "code",
   "execution_count": 66,
   "metadata": {},
   "outputs": [
    {
     "name": "stdout",
     "output_type": "stream",
     "text": [
      "2350065"
     ]
    }
   ],
   "source": [
    "top_seven_prediction.count()"
   ]
  },
  {
   "cell_type": "code",
   "execution_count": 67,
   "metadata": {},
   "outputs": [],
   "source": [
    "top_seven_prediction = top_seven_prediction.withColumn('trun_rate_n',F.count('rate_index').over(Window.partitionBy(\"message_id\",\"hotel_id\",\"check_in_date\",\"check_out_date\",'tuid')))"
   ]
  },
  {
   "cell_type": "code",
   "execution_count": 68,
   "metadata": {},
   "outputs": [],
   "source": [
    "top_seven_prediction = top_seven_prediction.withColumn('trun_hotel_revenue',F.sum('rate_revenue').over(Window.partitionBy(\"message_id\",\"hotel_id\",\"check_in_date\",\"check_out_date\",'tuid')))"
   ]
  },
  {
   "cell_type": "code",
   "execution_count": 69,
   "metadata": {},
   "outputs": [],
   "source": [
    "top_seven_prediction = top_seven_prediction.withColumn('avg_trun_hotel_revenue',F.col('trun_hotel_revenue')/F.col('trun_rate_n'))"
   ]
  },
  {
   "cell_type": "markdown",
   "metadata": {},
   "source": [
    "### normalized hotel revenue"
   ]
  },
  {
   "cell_type": "code",
   "execution_count": 70,
   "metadata": {},
   "outputs": [],
   "source": [
    "prediction = prediction.withColumn('sum_prob',F.sum('prob').over(Window.partitionBy(\"message_id\",\"hotel_id\",\"check_in_date\",\"check_out_date\",'tuid')))"
   ]
  },
  {
   "cell_type": "code",
   "execution_count": 71,
   "metadata": {},
   "outputs": [],
   "source": [
    "prediction = prediction.withColumn('normalized_prob',F.col('prob')/F.col('sum_prob'))"
   ]
  },
  {
   "cell_type": "code",
   "execution_count": 72,
   "metadata": {},
   "outputs": [],
   "source": [
    "prediction = prediction.withColumn('normalized_rate_revenue',F.col('normalized_prob')*F.col('src_supply_revenue_usd'))"
   ]
  },
  {
   "cell_type": "code",
   "execution_count": 73,
   "metadata": {},
   "outputs": [],
   "source": [
    "prediction = prediction.withColumn('normalized_hotel_revenue',F.sum('normalized_rate_revenue').over(Window.partitionBy(\"message_id\",\"hotel_id\",\"check_in_date\",\"check_out_date\",'tuid')))"
   ]
  },
  {
   "cell_type": "code",
   "execution_count": 74,
   "metadata": {},
   "outputs": [
    {
     "name": "stdout",
     "output_type": "stream",
     "text": [
      "414259"
     ]
    }
   ],
   "source": [
    "prediction.select(\"message_id\",\"hotel_id\",\"check_in_date\",\"check_out_date\",\"tuid\",'normalized_hotel_revenue','hotel_index','score_1','bk_hotel_index').\\\n",
    "dropDuplicates().count()"
   ]
  },
  {
   "cell_type": "code",
   "execution_count": 98,
   "metadata": {},
   "outputs": [],
   "source": [
    "revenue_prediction = prediction.select(\"message_id\",\"hotel_id\",\"check_in_date\",\"check_out_date\",\"tuid\",'normalized_hotel_revenue','hotel_index','score_1','bk_hotel_index').\\\n",
    "join(top_seven_prediction .\\\n",
    "select(\"message_id\",\"hotel_id\",\"check_in_date\",\"check_out_date\",\"tuid\",'avg_trun_hotel_revenue','hotel_index','score_1','bk_hotel_index'),\n",
    "    [\"message_id\",\"hotel_id\",\"check_in_date\",\"check_out_date\",\"tuid\",'hotel_index','score_1','bk_hotel_index'],how='left').dropDuplicates()"
   ]
  },
  {
   "cell_type": "code",
   "execution_count": 99,
   "metadata": {},
   "outputs": [
    {
     "name": "stdout",
     "output_type": "stream",
     "text": [
      "938873"
     ]
    }
   ],
   "source": [
    "revenue_prediction.count()"
   ]
  },
  {
   "cell_type": "code",
   "execution_count": 100,
   "metadata": {},
   "outputs": [
    {
     "name": "stdout",
     "output_type": "stream",
     "text": [
      "257042"
     ]
    }
   ],
   "source": [
    "revenue_prediction.filter(F.col('bk_hotel_index')==F.col('hotel_index')).count()"
   ]
  },
  {
   "cell_type": "code",
   "execution_count": 101,
   "metadata": {},
   "outputs": [],
   "source": [
    "revenue_prediction = revenue_prediction.filter(F.col('score_1').isNotNull())"
   ]
  },
  {
   "cell_type": "markdown",
   "metadata": {},
   "source": [
    "### Bands"
   ]
  },
  {
   "cell_type": "code",
   "execution_count": 102,
   "metadata": {},
   "outputs": [],
   "source": [
    "band_df = revenue_prediction.\\\n",
    "    groupby(\"message_id\", \"tuid\").\\\n",
    "    agg(F.count(\"hotel_id\").alias(\"n\"),F.max(\"score_1\").alias(\"ub\"),F.min(\"score_1\").alias(\"lb\")).\\\n",
    "    filter(F.col(\"n\")>=1).\\\n",
    "    filter(F.col(\"n\")<=30).\\\n",
    "    withColumn(\"n_band\", F.lit(5)).\\\n",
    "    withColumn(\"sz_band\", F.expr(\"(ub - lb)/n_band\")).\\\n",
    "    select(\"message_id\", \"tuid\", \"sz_band\", \"ub\", \"lb\")"
   ]
  },
  {
   "cell_type": "code",
   "execution_count": 103,
   "metadata": {},
   "outputs": [],
   "source": [
    "revenue_prediction2 = revenue_prediction.\\\n",
    "    join(band_df, [\"message_id\", \"tuid\"]).\\\n",
    "    withColumn(\"band\", F.when(F.col(\"sz_band\") == 0, 1).otherwise(F.expr(\"int((score_1-lb)/sz_band)\")))"
   ]
  },
  {
   "cell_type": "code",
   "execution_count": 104,
   "metadata": {},
   "outputs": [
    {
     "name": "stdout",
     "output_type": "stream",
     "text": [
      "+----+------+\n",
      "|band|     n|\n",
      "+----+------+\n",
      "|   1|115277|\n",
      "|   3| 79754|\n",
      "|   5|182478|\n",
      "|   4| 79811|\n",
      "|   2| 79355|\n",
      "|   0|288001|\n",
      "+----+------+"
     ]
    }
   ],
   "source": [
    "revenue_prediction2.groupby(\"band\").agg(F.count(\"*\").alias(\"n\")).show(10)"
   ]
  },
  {
   "cell_type": "code",
   "execution_count": 105,
   "metadata": {},
   "outputs": [
    {
     "name": "stdout",
     "output_type": "stream",
     "text": [
      "824676"
     ]
    }
   ],
   "source": [
    "revenue_prediction2.count()"
   ]
  },
  {
   "cell_type": "code",
   "execution_count": 106,
   "metadata": {},
   "outputs": [
    {
     "name": "stdout",
     "output_type": "stream",
     "text": [
      "197908"
     ]
    }
   ],
   "source": [
    "revenue_prediction2.filter(F.col('bk_hotel_index')==F.col('hotel_index')).count()"
   ]
  },
  {
   "cell_type": "markdown",
   "metadata": {},
   "source": [
    "## New revenue with top 7"
   ]
  },
  {
   "cell_type": "code",
   "execution_count": 84,
   "metadata": {},
   "outputs": [
    {
     "name": "stderr",
     "output_type": "stream",
     "text": [
      "name 'f' is not defined\n",
      "Traceback (most recent call last):\n",
      "NameError: name 'f' is not defined\n",
      "\n"
     ]
    }
   ],
   "source": [
    "revenue_prediction2.filter(F.col('bk_hotel_index')==F.col('hotel_index')).\\\n",
    "select('avg_trun_hotel_revenue','normalized_hotel_revenue').\\\n",
    "agg(F.sum('avg_trun_hotel_revenue'),F.sum('normalized_hotel_revenue')).show()"
   ]
  },
  {
   "cell_type": "code",
   "execution_count": 85,
   "metadata": {},
   "outputs": [],
   "source": [
    "revenue_prediction2 = revenue_prediction2.\\\n",
    " withColumn(\"band_index_top7\", row_number().over(Window.partitionBy(\"message_id\", \"tuid\",\"band\").orderBy(F.desc('avg_trun_hotel_revenue')))).\\\n",
    "withColumn(\"new_hotel_index1\", row_number().over(Window.partitionBy(\"message_id\", \"tuid\").\\\n",
    "                                                orderBy(F.asc(\"band\"),F.asc(\"band_index_top7\"))))"
   ]
  },
  {
   "cell_type": "code",
   "execution_count": 86,
   "metadata": {},
   "outputs": [
    {
     "name": "stdout",
     "output_type": "stream",
     "text": [
      "+---------------------------+-----------------------------+\n",
      "|sum(avg_trun_hotel_revenue)|sum(normalized_hotel_revenue)|\n",
      "+---------------------------+-----------------------------+\n",
      "|         1969910.5313579082|            2533349.576271525|\n",
      "+---------------------------+-----------------------------+"
     ]
    }
   ],
   "source": [
    "revenue_prediction2.filter(F.col('bk_hotel_index')==F.col('new_hotel_index1')).\\\n",
    "select('avg_trun_hotel_revenue','normalized_hotel_revenue').\\\n",
    "agg(F.sum('avg_trun_hotel_revenue'),F.sum('normalized_hotel_revenue')).show()"
   ]
  },
  {
   "cell_type": "code",
   "execution_count": 87,
   "metadata": {},
   "outputs": [
    {
     "name": "stdout",
     "output_type": "stream",
     "text": [
      "316712"
     ]
    }
   ],
   "source": [
    "revenue_prediction2.filter(F.col('hotel_index')!=F.col('new_hotel_index1')).count()"
   ]
  },
  {
   "cell_type": "markdown",
   "metadata": {},
   "source": [
    "## Normalized revenue"
   ]
  },
  {
   "cell_type": "code",
   "execution_count": 88,
   "metadata": {},
   "outputs": [
    {
     "name": "stdout",
     "output_type": "stream",
     "text": [
      "+-----------------------------+\n",
      "|sum(normalized_hotel_revenue)|\n",
      "+-----------------------------+\n",
      "|           2255355.0818443066|\n",
      "+-----------------------------+"
     ]
    }
   ],
   "source": [
    "revenue_prediction2.filter(F.col('bk_hotel_index')==F.col('hotel_index')).\\\n",
    "select('normalized_hotel_revenue').\\\n",
    "agg(F.sum('normalized_hotel_revenue')).show()"
   ]
  },
  {
   "cell_type": "code",
   "execution_count": 89,
   "metadata": {},
   "outputs": [],
   "source": [
    "revenue_prediction2 = revenue_prediction2.\\\n",
    " withColumn(\"band_index_normalized\", row_number().over(Window.partitionBy(\"message_id\", \"tuid\",\"band\").orderBy(F.desc('normalized_hotel_revenue')))).\\\n",
    "withColumn(\"new_hotel_index2\", row_number().over(Window.partitionBy(\"message_id\", \"tuid\").\\\n",
    "                                                orderBy(F.asc(\"band\"),F.asc(\"band_index_normalized\"))))"
   ]
  },
  {
   "cell_type": "code",
   "execution_count": 90,
   "metadata": {},
   "outputs": [
    {
     "name": "stdout",
     "output_type": "stream",
     "text": [
      "+-----------------------------+\n",
      "|sum(normalized_hotel_revenue)|\n",
      "+-----------------------------+\n",
      "|            2538956.009340824|\n",
      "+-----------------------------+"
     ]
    }
   ],
   "source": [
    "revenue_prediction2.filter(F.col('bk_hotel_index')==F.col('new_hotel_index2')).\\\n",
    "select('normalized_hotel_revenue').\\\n",
    "agg(F.sum('normalized_hotel_revenue')).show()"
   ]
  },
  {
   "cell_type": "code",
   "execution_count": 91,
   "metadata": {},
   "outputs": [
    {
     "name": "stdout",
     "output_type": "stream",
     "text": [
      "316655"
     ]
    }
   ],
   "source": [
    "revenue_prediction2.filter(F.col('hotel_index')!=F.col('new_hotel_index2')).count()"
   ]
  },
  {
   "cell_type": "code",
   "execution_count": 92,
   "metadata": {},
   "outputs": [],
   "source": [
    "dir = 's3://ege-ds-workshops-corp/yixli/data_understanding/'\n",
    "datestamp = datetime.datetime.now().strftime('%m-%d-%Y')\n",
    "revenue_prediction2.repartition(1).write.format('com.databricks.spark.csv').mode('overwrite')\\\n",
    ".save(dir+datestamp+'_revenue_prediction.csv',header = 'true')"
   ]
  },
  {
   "cell_type": "markdown",
   "metadata": {},
   "source": [
    "## Compared by rate type"
   ]
  }
 ],
 "metadata": {
  "kernelspec": {
   "display_name": "PySpark3",
   "language": "",
   "name": "pyspark3kernel"
  },
  "language_info": {
   "codemirror_mode": {
    "name": "python",
    "version": 3
   },
   "mimetype": "text/x-python",
   "name": "pyspark3",
   "pygments_lexer": "python3"
  }
 },
 "nbformat": 4,
 "nbformat_minor": 2
}
