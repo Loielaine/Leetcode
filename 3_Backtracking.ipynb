{
 "cells": [
  {
   "cell_type": "markdown",
   "metadata": {},
   "source": [
    "https://leetcode.com/explore/interview/card/top-interview-questions-medium/109/backtracking/"
   ]
  },
  {
   "cell_type": "markdown",
   "metadata": {},
   "source": [
    "## Backtracking Summary"
   ]
  },
  {
   "cell_type": "markdown",
   "metadata": {},
   "source": [
    "https://leetcode.com/explore/interview/card/top-interview-questions-medium/109/backtracking/795/discuss/18284/Backtrack-Summary:-General-Solution-for-10-Questions!!!!!!!!-Python-(Combination-Sum-Subsets-Permutation-Palindrome)"
   ]
  },
  {
   "cell_type": "markdown",
   "metadata": {},
   "source": [
    "## 1 Phone number combinition"
   ]
  },
  {
   "cell_type": "markdown",
   "metadata": {},
   "source": [
    "### Solution1: Iteratively"
   ]
  },
  {
   "cell_type": "code",
   "execution_count": 40,
   "metadata": {},
   "outputs": [],
   "source": [
    "def numberCombinition(digits):\n",
    "    dic = {'1':'','2':\"abc\", '3':\"def\", '4':\"ghi\", '5':\"jkl\", '6':\"mno\", '7': \"pqrs\", \n",
    "        '8':\"tuv\", '9':\"wxyz\",'0':''}\n",
    "    ans = ['']\n",
    "    for i in range(len(digits)):\n",
    "        d = digits[i]\n",
    "        if d ==\"1\" or d=='0': continue\n",
    "        else:\n",
    "            ans = [a+digit for a in ans for digit in dic[d]]\n",
    "            #print(ans)\n",
    "    return ans "
   ]
  },
  {
   "cell_type": "code",
   "execution_count": 43,
   "metadata": {},
   "outputs": [
    {
     "data": {
      "text/plain": [
       "['']"
      ]
     },
     "execution_count": 43,
     "metadata": {},
     "output_type": "execute_result"
    }
   ],
   "source": [
    "numberCombinition('1')"
   ]
  },
  {
   "cell_type": "markdown",
   "metadata": {},
   "source": [
    "## 2 Generate Parentheses"
   ]
  },
  {
   "cell_type": "markdown",
   "metadata": {},
   "source": [
    "Given n pairs of parentheses, write a function to generate all combinations of well-formed parentheses.\n",
    "\n",
    " \n",
    "\n",
    "Example 1:\n",
    "\n",
    "Input: n = 3\n",
    "\n",
    "Output: [\"((()))\",\"(()())\",\"(())()\",\"()(())\",\"()()()\"]\n",
    "\n",
    "Example 2:\n",
    "\n",
    "Input: n = 1\n",
    "\n",
    "Output: [\"()\"]\n",
    " \n",
    "\n",
    "Constraints:\n",
    "\n",
    "1 <= n <= 8"
   ]
  },
  {
   "cell_type": "markdown",
   "metadata": {},
   "source": [
    "### Solution1: Dynamic programming"
   ]
  },
  {
   "cell_type": "markdown",
   "metadata": {},
   "source": [
    "To generate all n-pair parentheses, we can do the following:\n",
    "\n",
    "Generate one pair: ()\n",
    "\n",
    "Generate 0 pair inside, n - 1 afterward: () (...)...\n",
    "\n",
    "Generate 1 pair inside, n - 2 afterward: (()) (...)...\n",
    "\n",
    "...\n",
    "\n",
    "Generate n - 1 pair inside, 0 afterward: ((...))"
   ]
  },
  {
   "cell_type": "code",
   "execution_count": 74,
   "metadata": {},
   "outputs": [],
   "source": [
    "def generateParenthese(n):\n",
    "    ans = [[] for _ in range(n + 1)]\n",
    "    ans[0] = ['']\n",
    "    for i in range(1,n+1):\n",
    "        for j in range(i):\n",
    "            ans[i] += ['('+x+')'+y for x in ans[j] for y in ans[i-j-1]]\n",
    "    return ans"
   ]
  },
  {
   "cell_type": "code",
   "execution_count": 75,
   "metadata": {},
   "outputs": [
    {
     "data": {
      "text/plain": [
       "[[''], ['()'], ['()()', '(())']]"
      ]
     },
     "execution_count": 75,
     "metadata": {},
     "output_type": "execute_result"
    }
   ],
   "source": [
    " generateParenthese(2)"
   ]
  },
  {
   "cell_type": "markdown",
   "metadata": {},
   "source": [
    "## 3 Permutations I\n",
    "\n",
    "\n"
   ]
  },
  {
   "cell_type": "markdown",
   "metadata": {},
   "source": [
    "Given a collection of distinct integers, return all possible permutations."
   ]
  },
  {
   "cell_type": "markdown",
   "metadata": {},
   "source": [
    "For example, 123\n",
    "\n",
    "let 1 be the first element, recursively permute 23\n",
    "\n",
    "let 2 be the first element, recursively permute 13\n",
    "\n",
    "let 3 be the first element, recursively permute 12"
   ]
  },
  {
   "cell_type": "code",
   "execution_count": null,
   "metadata": {},
   "outputs": [],
   "source": [
    "dfs(nums = [1, 2, 3] , path = [] , result = [] )\n",
    "|____ dfs(nums = [2, 3] , path = [1] , result = [] )\n",
    "|      |___dfs(nums = [3] , path = [1, 2] , result = [] )\n",
    "|      |    |___dfs(nums = [] , path = [1, 2, 3] , result = [[1, 2, 3]] ) # added a new permutation to the result\n",
    "|      |___dfs(nums = [2] , path = [1, 3] , result = [[1, 2, 3]] )\n",
    "|           |___dfs(nums = [] , path = [1, 3, 2] , result = [[1, 2, 3], [1, 3, 2]] ) # added a new permutation to the result\n",
    "|____ dfs(nums = [1, 3] , path = [2] , result = [[1, 2, 3], [1, 3, 2]] )\n",
    "|      |___dfs(nums = [3] , path = [2, 1] , result = [[1, 2, 3], [1, 3, 2]] )\n",
    "|      |    |___dfs(nums = [] , path = [2, 1, 3] , result = [[1, 2, 3], [1, 3, 2], [2, 1, 3]] ) # added a new permutation to the result\n",
    "|      |___dfs(nums = [1] , path = [2, 3] , result = [[1, 2, 3], [1, 3, 2], [2, 1, 3]] )\n",
    "|           |___dfs(nums = [] , path = [2, 3, 1] , result = [[1, 2, 3], [1, 3, 2], [2, 1, 3], [2, 3, 1]] ) # added a new permutation to the result\n",
    "|____ dfs(nums = [1, 2] , path = [3] , result = [[1, 2, 3], [1, 3, 2], [2, 1, 3], [2, 3, 1]] )\n",
    "       |___dfs(nums = [2] , path = [3, 1] , result = [[1, 2, 3], [1, 3, 2], [2, 1, 3], [2, 3, 1]] )\n",
    "       |    |___dfs(nums = [] , path = [3, 1, 2] , result = [[1, 2, 3], [1, 3, 2], [2, 1, 3], [2, 3, 1], [3, 1, 2]] ) # added a new permutation to the result\n",
    "       |___dfs(nums = [1] , path = [3, 2] , result = [[1, 2, 3], [1, 3, 2], [2, 1, 3], [2, 3, 1], [3, 1, 2]] )\n",
    "            |___dfs(nums = [] , path = [3, 2, 1] , result = [[1, 2, 3], [1, 3, 2], [2, 1, 3], [2, 3, 1], [3, 1, 2], [3, 2, 1]] ) # added a new permutation to the result"
   ]
  },
  {
   "cell_type": "code",
   "execution_count": 113,
   "metadata": {},
   "outputs": [],
   "source": [
    "class Solution:\n",
    "    def backtrack(self,nums, path, ans):\n",
    "        if not nums:\n",
    "            ans.append(path.copy())\n",
    "            #ans.append(nums[:]) \n",
    "            #nums[:] use deepcopy because nums is tracking all partial solution, it eventually become []\n",
    "        for i in range(len(nums)):\n",
    "            self.backtrack(nums[:i]+nums[i+1:], path+[nums[i]], ans)\n",
    "            #self.backtrack(nums, path+[nums[i]], ans)\n",
    "    def permute(self,nums):\n",
    "        ans,path = [],[]\n",
    "        self.backtrack(nums, path, ans)\n",
    "        return ans"
   ]
  },
  {
   "cell_type": "code",
   "execution_count": 114,
   "metadata": {},
   "outputs": [
    {
     "ename": "RecursionError",
     "evalue": "maximum recursion depth exceeded in comparison",
     "output_type": "error",
     "traceback": [
      "\u001b[0;31m---------------------------------------------------------------------------\u001b[0m",
      "\u001b[0;31mRecursionError\u001b[0m                            Traceback (most recent call last)",
      "\u001b[0;32m<ipython-input-114-1ea9f5c5e88f>\u001b[0m in \u001b[0;36m<module>\u001b[0;34m()\u001b[0m\n\u001b[1;32m      1\u001b[0m \u001b[0msolution\u001b[0m \u001b[0;34m=\u001b[0m \u001b[0mSolution\u001b[0m\u001b[0;34m(\u001b[0m\u001b[0;34m)\u001b[0m\u001b[0;34m\u001b[0m\u001b[0;34m\u001b[0m\u001b[0m\n\u001b[0;32m----> 2\u001b[0;31m \u001b[0msolution\u001b[0m\u001b[0;34m.\u001b[0m\u001b[0mpermute\u001b[0m\u001b[0;34m(\u001b[0m\u001b[0;34m[\u001b[0m\u001b[0;36m1\u001b[0m\u001b[0;34m,\u001b[0m\u001b[0;36m2\u001b[0m\u001b[0;34m,\u001b[0m\u001b[0;36m3\u001b[0m\u001b[0;34m]\u001b[0m\u001b[0;34m)\u001b[0m\u001b[0;34m\u001b[0m\u001b[0;34m\u001b[0m\u001b[0m\n\u001b[0m",
      "\u001b[0;32m<ipython-input-113-33c27e8d02f5>\u001b[0m in \u001b[0;36mpermute\u001b[0;34m(self, nums)\u001b[0m\n\u001b[1;32m     10\u001b[0m     \u001b[0;32mdef\u001b[0m \u001b[0mpermute\u001b[0m\u001b[0;34m(\u001b[0m\u001b[0mself\u001b[0m\u001b[0;34m,\u001b[0m\u001b[0mnums\u001b[0m\u001b[0;34m)\u001b[0m\u001b[0;34m:\u001b[0m\u001b[0;34m\u001b[0m\u001b[0;34m\u001b[0m\u001b[0m\n\u001b[1;32m     11\u001b[0m         \u001b[0mans\u001b[0m\u001b[0;34m,\u001b[0m\u001b[0mpath\u001b[0m \u001b[0;34m=\u001b[0m \u001b[0;34m[\u001b[0m\u001b[0;34m]\u001b[0m\u001b[0;34m,\u001b[0m\u001b[0;34m[\u001b[0m\u001b[0;34m]\u001b[0m\u001b[0;34m\u001b[0m\u001b[0;34m\u001b[0m\u001b[0m\n\u001b[0;32m---> 12\u001b[0;31m         \u001b[0mself\u001b[0m\u001b[0;34m.\u001b[0m\u001b[0mbacktrack\u001b[0m\u001b[0;34m(\u001b[0m\u001b[0mnums\u001b[0m\u001b[0;34m,\u001b[0m \u001b[0mpath\u001b[0m\u001b[0;34m,\u001b[0m \u001b[0mans\u001b[0m\u001b[0;34m)\u001b[0m\u001b[0;34m\u001b[0m\u001b[0;34m\u001b[0m\u001b[0m\n\u001b[0m\u001b[1;32m     13\u001b[0m         \u001b[0;32mreturn\u001b[0m \u001b[0mans\u001b[0m\u001b[0;34m\u001b[0m\u001b[0;34m\u001b[0m\u001b[0m\n",
      "\u001b[0;32m<ipython-input-113-33c27e8d02f5>\u001b[0m in \u001b[0;36mbacktrack\u001b[0;34m(self, nums, path, ans)\u001b[0m\n\u001b[1;32m      7\u001b[0m         \u001b[0;32mfor\u001b[0m \u001b[0mi\u001b[0m \u001b[0;32min\u001b[0m \u001b[0mrange\u001b[0m\u001b[0;34m(\u001b[0m\u001b[0mlen\u001b[0m\u001b[0;34m(\u001b[0m\u001b[0mnums\u001b[0m\u001b[0;34m)\u001b[0m\u001b[0;34m)\u001b[0m\u001b[0;34m:\u001b[0m\u001b[0;34m\u001b[0m\u001b[0;34m\u001b[0m\u001b[0m\n\u001b[1;32m      8\u001b[0m             \u001b[0;31m#self.backtrack(nums[:i]+nums[i+1:], path+[nums[i]], ans)\u001b[0m\u001b[0;34m\u001b[0m\u001b[0;34m\u001b[0m\u001b[0;34m\u001b[0m\u001b[0m\n\u001b[0;32m----> 9\u001b[0;31m              \u001b[0mself\u001b[0m\u001b[0;34m.\u001b[0m\u001b[0mbacktrack\u001b[0m\u001b[0;34m(\u001b[0m\u001b[0mnums\u001b[0m\u001b[0;34m,\u001b[0m \u001b[0mpath\u001b[0m\u001b[0;34m+\u001b[0m\u001b[0;34m[\u001b[0m\u001b[0mnums\u001b[0m\u001b[0;34m[\u001b[0m\u001b[0mi\u001b[0m\u001b[0;34m]\u001b[0m\u001b[0;34m]\u001b[0m\u001b[0;34m,\u001b[0m \u001b[0mans\u001b[0m\u001b[0;34m)\u001b[0m\u001b[0;34m\u001b[0m\u001b[0;34m\u001b[0m\u001b[0m\n\u001b[0m\u001b[1;32m     10\u001b[0m     \u001b[0;32mdef\u001b[0m \u001b[0mpermute\u001b[0m\u001b[0;34m(\u001b[0m\u001b[0mself\u001b[0m\u001b[0;34m,\u001b[0m\u001b[0mnums\u001b[0m\u001b[0;34m)\u001b[0m\u001b[0;34m:\u001b[0m\u001b[0;34m\u001b[0m\u001b[0;34m\u001b[0m\u001b[0m\n\u001b[1;32m     11\u001b[0m         \u001b[0mans\u001b[0m\u001b[0;34m,\u001b[0m\u001b[0mpath\u001b[0m \u001b[0;34m=\u001b[0m \u001b[0;34m[\u001b[0m\u001b[0;34m]\u001b[0m\u001b[0;34m,\u001b[0m\u001b[0;34m[\u001b[0m\u001b[0;34m]\u001b[0m\u001b[0;34m\u001b[0m\u001b[0;34m\u001b[0m\u001b[0m\n",
      "... last 1 frames repeated, from the frame below ...\n",
      "\u001b[0;32m<ipython-input-113-33c27e8d02f5>\u001b[0m in \u001b[0;36mbacktrack\u001b[0;34m(self, nums, path, ans)\u001b[0m\n\u001b[1;32m      7\u001b[0m         \u001b[0;32mfor\u001b[0m \u001b[0mi\u001b[0m \u001b[0;32min\u001b[0m \u001b[0mrange\u001b[0m\u001b[0;34m(\u001b[0m\u001b[0mlen\u001b[0m\u001b[0;34m(\u001b[0m\u001b[0mnums\u001b[0m\u001b[0;34m)\u001b[0m\u001b[0;34m)\u001b[0m\u001b[0;34m:\u001b[0m\u001b[0;34m\u001b[0m\u001b[0;34m\u001b[0m\u001b[0m\n\u001b[1;32m      8\u001b[0m             \u001b[0;31m#self.backtrack(nums[:i]+nums[i+1:], path+[nums[i]], ans)\u001b[0m\u001b[0;34m\u001b[0m\u001b[0;34m\u001b[0m\u001b[0;34m\u001b[0m\u001b[0m\n\u001b[0;32m----> 9\u001b[0;31m              \u001b[0mself\u001b[0m\u001b[0;34m.\u001b[0m\u001b[0mbacktrack\u001b[0m\u001b[0;34m(\u001b[0m\u001b[0mnums\u001b[0m\u001b[0;34m,\u001b[0m \u001b[0mpath\u001b[0m\u001b[0;34m+\u001b[0m\u001b[0;34m[\u001b[0m\u001b[0mnums\u001b[0m\u001b[0;34m[\u001b[0m\u001b[0mi\u001b[0m\u001b[0;34m]\u001b[0m\u001b[0;34m]\u001b[0m\u001b[0;34m,\u001b[0m \u001b[0mans\u001b[0m\u001b[0;34m)\u001b[0m\u001b[0;34m\u001b[0m\u001b[0;34m\u001b[0m\u001b[0m\n\u001b[0m\u001b[1;32m     10\u001b[0m     \u001b[0;32mdef\u001b[0m \u001b[0mpermute\u001b[0m\u001b[0;34m(\u001b[0m\u001b[0mself\u001b[0m\u001b[0;34m,\u001b[0m\u001b[0mnums\u001b[0m\u001b[0;34m)\u001b[0m\u001b[0;34m:\u001b[0m\u001b[0;34m\u001b[0m\u001b[0;34m\u001b[0m\u001b[0m\n\u001b[1;32m     11\u001b[0m         \u001b[0mans\u001b[0m\u001b[0;34m,\u001b[0m\u001b[0mpath\u001b[0m \u001b[0;34m=\u001b[0m \u001b[0;34m[\u001b[0m\u001b[0;34m]\u001b[0m\u001b[0;34m,\u001b[0m\u001b[0;34m[\u001b[0m\u001b[0;34m]\u001b[0m\u001b[0;34m\u001b[0m\u001b[0;34m\u001b[0m\u001b[0m\n",
      "\u001b[0;31mRecursionError\u001b[0m: maximum recursion depth exceeded in comparison"
     ]
    }
   ],
   "source": [
    "solution = Solution()\n",
    "solution.permute([1,2,3])"
   ]
  },
  {
   "cell_type": "markdown",
   "metadata": {},
   "source": [
    "## 4 Permutations II"
   ]
  },
  {
   "cell_type": "markdown",
   "metadata": {},
   "source": [
    "Given a collection of numbers that might contain duplicates, return all possible unique permutations.\n",
    "\n",
    "Example:\n",
    "\n",
    "Input: [1,1,2]\n",
    "Output:\n",
    "[\n",
    "  [1,1,2],\n",
    "  [1,2,1],\n",
    "  [2,1,1]\n",
    "]"
   ]
  },
  {
   "cell_type": "markdown",
   "metadata": {},
   "source": [
    "How to adapt the previous code to take care of duplicates?\n",
    "\n",
    "We can simply pick out the unique element, and recursively permute the remainining."
   ]
  },
  {
   "cell_type": "code",
   "execution_count": 47,
   "metadata": {},
   "outputs": [],
   "source": [
    "class Solution:\n",
    "    def backtrack(self,nums, path, ans):\n",
    "        if not nums:\n",
    "            ans.append(path.copy())\n",
    "            #ans.append(nums[:]) \n",
    "            #nums[:] use deepcopy because nums is tracking all partial solution, it eventually become []\n",
    "        for n in set(nums):\n",
    "            remaining = nums.copy()\n",
    "            #Note: can't be nums, should be or list(nums) or nums.copy()\n",
    "            remaining.remove(n)\n",
    "            # Note: remaining = nums.remove(1) would mutate the original object, and remaining would be None\n",
    "            self.backtrack(remaining, path+[n], ans)\n",
    "\n",
    "    def permute(self,nums):\n",
    "        ans,path = [],[]\n",
    "        self.backtrack(nums, path, ans)\n",
    "        return ans"
   ]
  },
  {
   "cell_type": "code",
   "execution_count": 48,
   "metadata": {},
   "outputs": [
    {
     "data": {
      "text/plain": [
       "[[1, 1, 1, 2], [1, 1, 2, 1], [1, 2, 1, 1], [2, 1, 1, 1]]"
      ]
     },
     "execution_count": 48,
     "metadata": {},
     "output_type": "execute_result"
    }
   ],
   "source": [
    "solution = Solution()\n",
    "solution.permute([1,1,1,2])"
   ]
  },
  {
   "cell_type": "code",
   "execution_count": 54,
   "metadata": {},
   "outputs": [],
   "source": [
    "class Solution:\n",
    "    def backtrack(self,nums, path, ans):\n",
    "        if not nums:\n",
    "            ans.append(path.copy())\n",
    "            #ans.append(nums[:]) \n",
    "            #nums[:] use deepcopy because nums is tracking all partial solution, it eventually become []\n",
    "        for i in range(len(nums)):\n",
    "            # handle duplicates\n",
    "            if i>0 and nums[i] == nums[i-1]:\n",
    "                continue\n",
    "            self.backtrack(nums[:i]+nums[i+1:], path+[nums[i]], ans)\n",
    "\n",
    "    def permute(self,nums):\n",
    "        ans,path = [],[]\n",
    "        self.backtrack(sorted(nums), path, ans)\n",
    "        return ans"
   ]
  },
  {
   "cell_type": "code",
   "execution_count": 55,
   "metadata": {},
   "outputs": [
    {
     "data": {
      "text/plain": [
       "[[1, 1, 1, 2], [1, 1, 2, 1], [1, 2, 1, 1], [2, 1, 1, 1]]"
      ]
     },
     "execution_count": 55,
     "metadata": {},
     "output_type": "execute_result"
    }
   ],
   "source": [
    "solution = Solution()\n",
    "solution.permute([1,1,1,2])"
   ]
  },
  {
   "cell_type": "markdown",
   "metadata": {},
   "source": [
    "## 5 Permutation Sequence"
   ]
  },
  {
   "cell_type": "markdown",
   "metadata": {},
   "source": [
    "The set [1,2,3,...,n] contains a total of n! unique permutations.\n",
    "\n",
    "By listing and labeling all of the permutations in order, we get the following sequence for n = 3:\n",
    "\n",
    "\"123\"\n",
    "\"132\"\n",
    "\"213\"\n",
    "\"231\"\n",
    "\"312\"\n",
    "\"321\"\n",
    "\n",
    "Given n and k, return the kth permutation sequence.\n",
    "\n",
    "Note:\n",
    "\n",
    "Given n will be between 1 and 9 inclusive.\n",
    "\n",
    "Given k will be between 1 and n! inclusive.\n",
    "\n",
    "Example 1:\n",
    "\n",
    "Input: n = 3, k = 3\n",
    "\n",
    "    Output: \"213\"\n",
    "\n",
    "Example 2:\n",
    "\n",
    "Input: n = 4, k = 9\n",
    "\n",
    "    Output: \"2314\""
   ]
  },
  {
   "cell_type": "markdown",
   "metadata": {},
   "source": [
    "### Solution1: backtracking -- may exceed time limit"
   ]
  },
  {
   "cell_type": "code",
   "execution_count": 86,
   "metadata": {},
   "outputs": [],
   "source": [
    "class Solution:\n",
    "    def backtrack(self,nums, path, ans):\n",
    "        if not nums:\n",
    "            ans.append(path.copy())\n",
    "            #ans.append(nums[:]) \n",
    "            #nums[:] use deepcopy because nums is tracking all partial solution, it eventually become []\n",
    "        for i in range(len(nums)):\n",
    "            self.backtrack(nums[:i]+nums[i+1:], path+[nums[i]], ans)\n",
    "\n",
    "    def permute(self,n,k):\n",
    "        nums = [*range(1,n+1)] # note: [*range()]\n",
    "        ans,path = [],[]\n",
    "        while len(ans)<k:\n",
    "            self.backtrack(nums, path, ans)\n",
    "        return ''.join([str(x) for x in ans[k-1]])"
   ]
  },
  {
   "cell_type": "code",
   "execution_count": 87,
   "metadata": {},
   "outputs": [
    {
     "name": "stdout",
     "output_type": "stream",
     "text": [
      "CPU times: user 3 µs, sys: 1e+03 ns, total: 4 µs\n",
      "Wall time: 5.01 µs\n"
     ]
    },
    {
     "data": {
      "text/plain": [
       "'213'"
      ]
     },
     "execution_count": 87,
     "metadata": {},
     "output_type": "execute_result"
    }
   ],
   "source": [
    "%time\n",
    "solution = Solution()\n",
    "solution.permute(3,3)"
   ]
  },
  {
   "cell_type": "markdown",
   "metadata": {},
   "source": [
    "### Solution2: Use math "
   ]
  },
  {
   "cell_type": "markdown",
   "metadata": {},
   "source": [
    "For permutations of n, the first (n-1)! permutations start with 1, next (n-1)! ones start with 2, ... and so on. And in each group of (n-1)! permutations, the first (n-2)! permutations start with the smallest remaining number, ...\n",
    "\n",
    "take n = 3 as an example, the first 2 (that is, (3-1)! ) permutations start with 1, next 2 start with 2 and last 2 start with 3. For the first 2 permutations (123 and 132), the 1st one (1!) starts with 2, which is the smallest remaining number (2 and 3). So we can use a loop to check the region that the sequence number falls in and get the starting digit. Then we adjust the sequence number and continue."
   ]
  },
  {
   "cell_type": "code",
   "execution_count": 94,
   "metadata": {},
   "outputs": [],
   "source": [
    "class Solution:\n",
    "    def factorial(self,num):\n",
    "        res = 1\n",
    "        for i in range(1,num+1):\n",
    "            res *= i\n",
    "        return res\n",
    "    \n",
    "    def permute(self,n,k):\n",
    "        nums = [*range(1,n+1)]\n",
    "        ans = ''\n",
    "        k = k-1 \n",
    "        while n:\n",
    "            factor = self.factorial(n-1)\n",
    "            #index, k = deviod(k,factor)\n",
    "            index = int(k//factor) \n",
    "            k = k%factor\n",
    "            ans += str(nums[index])\n",
    "            nums.pop(index) \n",
    "            print(nums)\n",
    "            n -=1\n",
    "        return ans"
   ]
  },
  {
   "cell_type": "code",
   "execution_count": 95,
   "metadata": {},
   "outputs": [
    {
     "name": "stdout",
     "output_type": "stream",
     "text": [
      "CPU times: user 2 µs, sys: 0 ns, total: 2 µs\n",
      "Wall time: 5.01 µs\n",
      "[2, 3, 4, 5, 6, 7]\n",
      "[3, 4, 5, 6, 7]\n",
      "[4, 5, 6, 7]\n",
      "[5, 6, 7]\n",
      "[5, 7]\n",
      "[7]\n",
      "[]\n"
     ]
    },
    {
     "data": {
      "text/plain": [
       "'1234657'"
      ]
     },
     "execution_count": 95,
     "metadata": {},
     "output_type": "execute_result"
    }
   ],
   "source": [
    "%time\n",
    "solution = Solution()\n",
    "solution.permute(7,3)"
   ]
  },
  {
   "cell_type": "markdown",
   "metadata": {},
   "source": [
    "## 6 Subsets I"
   ]
  },
  {
   "cell_type": "markdown",
   "metadata": {},
   "source": [
    "Given a set of distinct integers, nums, return all possible subsets (the power set).\n",
    "\n",
    "Note: The solution set must not contain duplicate subsets.\n",
    "\n",
    "Example:\n",
    "\n",
    "Input: nums = [1,2,3]\n",
    "\n",
    "Output:\n",
    "[\n",
    "  [3],\n",
    "  [1],\n",
    "  [2],\n",
    "  [1,2,3],\n",
    "  [1,3],\n",
    "  [2,3],\n",
    "  [1,2],\n",
    "  []\n",
    "]"
   ]
  },
  {
   "cell_type": "markdown",
   "metadata": {},
   "source": [
    "### Solution1: Backtracking"
   ]
  },
  {
   "cell_type": "code",
   "execution_count": 43,
   "metadata": {},
   "outputs": [],
   "source": [
    "class Solution:\n",
    "    def backtrack(self,nums, path, ans):\n",
    "        ans.append(path.copy())\n",
    "        for i in range(len(nums)):\n",
    "            # subset:nums[i+1:] since order doesn't matter (similar to combinition)\n",
    "            self.backtrack(nums[i+1:], path+[nums[i]], ans)\n",
    "            \n",
    "    def subset(self,nums):\n",
    "        ans,path = [],[]\n",
    "        self.backtrack(nums, path, ans)\n",
    "        return ans"
   ]
  },
  {
   "cell_type": "code",
   "execution_count": 44,
   "metadata": {},
   "outputs": [
    {
     "data": {
      "text/plain": [
       "[[], [1], [1, 3], [1, 3, 2], [1, 2], [3], [3, 2], [2]]"
      ]
     },
     "execution_count": 44,
     "metadata": {},
     "output_type": "execute_result"
    }
   ],
   "source": [
    "solution = Solution()\n",
    "solution.subset([1,3,2])"
   ]
  },
  {
   "cell_type": "markdown",
   "metadata": {},
   "source": [
    "### Solution2: Iteratively"
   ]
  },
  {
   "cell_type": "code",
   "execution_count": 45,
   "metadata": {},
   "outputs": [],
   "source": [
    "# Iteratively\n",
    "class Solution:\n",
    "    def subset(self, nums):\n",
    "        res = [[]]\n",
    "        for num in sorted(nums):\n",
    "            res += [item+[num] for item in res]\n",
    "        return res"
   ]
  },
  {
   "cell_type": "code",
   "execution_count": 46,
   "metadata": {},
   "outputs": [
    {
     "data": {
      "text/plain": [
       "[[], [1], [2], [1, 2], [3], [1, 3], [2, 3], [1, 2, 3]]"
      ]
     },
     "execution_count": 46,
     "metadata": {},
     "output_type": "execute_result"
    }
   ],
   "source": [
    "solution = Solution()\n",
    "solution.subset([1,3,2])"
   ]
  },
  {
   "cell_type": "markdown",
   "metadata": {},
   "source": [
    "## 7 Subsets II"
   ]
  },
  {
   "cell_type": "markdown",
   "metadata": {},
   "source": [
    "Given a collection of integers that might contain duplicates, nums, return all possible subsets (the power set).\n",
    "\n",
    "Note: The solution set must not contain duplicate subsets.\n",
    "\n",
    "Example:\n",
    "\n",
    "Input: [1,2,2]\n",
    "\n",
    "Output:\n",
    "[\n",
    "  [2],\n",
    "  [1],\n",
    "  [1,2,2],\n",
    "  [2,2],\n",
    "  [1,2],\n",
    "  []\n",
    "]"
   ]
  },
  {
   "cell_type": "code",
   "execution_count": 52,
   "metadata": {},
   "outputs": [],
   "source": [
    "class Solution:\n",
    "    def backtrack(self, nums, path, ans):\n",
    "        ans.append(path.copy())\n",
    "        for i in range(len(nums)):\n",
    "            # handle duplicates\n",
    "            if i>0 and nums[i] == nums[i-1]:\n",
    "                continue\n",
    "            self.backtrack(nums[i+1:],path+[nums[i]],ans)\n",
    "    def subset(self,nums):\n",
    "        ans,path = [],[]\n",
    "        self.backtrack(sorted(nums),path,ans)\n",
    "        return ans"
   ]
  },
  {
   "cell_type": "code",
   "execution_count": 53,
   "metadata": {},
   "outputs": [
    {
     "data": {
      "text/plain": [
       "[[], [1], [1, 2], [1, 2, 2], [2], [2, 2]]"
      ]
     },
     "execution_count": 53,
     "metadata": {},
     "output_type": "execute_result"
    }
   ],
   "source": [
    "solution = Solution()\n",
    "solution.subset([1,2,2])"
   ]
  },
  {
   "cell_type": "markdown",
   "metadata": {},
   "source": [
    "## 8 Combination Sum I"
   ]
  },
  {
   "cell_type": "markdown",
   "metadata": {},
   "source": [
    "Given an array of distinct integers candidates and a target integer target, return a list of all unique combinations of candidates where the chosen numbers sum to target. You may return the combinations in any order.\n",
    "\n",
    "The same number may be chosen from candidates an unlimited number of times. Two combinations are unique if the frequency of at least one of the chosen numbers is different.\n",
    "\n",
    "It is guaranteed that the number of unique combinations that sum up to target is less than 150 combinations for the given input."
   ]
  },
  {
   "cell_type": "markdown",
   "metadata": {},
   "source": [
    "Example 1:\n",
    "\n",
    "Input: candidates = [2,3,6,7], target = 7\n",
    "\n",
    "Output: [[2,2,3],[7]]\n",
    "\n",
    "Explanation:\n",
    "2 and 3 are candidates, and 2 + 2 + 3 = 7. Note that 2 can be used multiple times.\n",
    "7 is a candidate, and 7 = 7.\n",
    "These are the only two combinations.\n",
    "\n",
    "Example 2:\n",
    "\n",
    "Input: candidates = [2,3,5], target = 8\n",
    "\n",
    "Output: [[2,2,2,2],[2,3,3],[3,5]]\n",
    "\n",
    "Example 3:\n",
    "\n",
    "Input: candidates = [2], target = 1\n",
    "\n",
    "Output: []\n",
    "\n",
    "Example 4:\n",
    "\n",
    "Input: candidates = [1], target = 1\n",
    "\n",
    "Output: [[1]]"
   ]
  },
  {
   "cell_type": "code",
   "execution_count": 115,
   "metadata": {},
   "outputs": [],
   "source": [
    "class Solution:\n",
    "    def backtrack(self,nums,target,path,ans):\n",
    "        if target<0:\n",
    "            return \n",
    "        if target ==0:\n",
    "            ans.append(path.copy())\n",
    "            return\n",
    "        for i in range(len(nums)):\n",
    "            # nums[i+1:] if numbers could not be used multiple times\n",
    "            # nums[i:] if numbers could be used multiple times\n",
    "            # nums if order matters (similar to permutation)\n",
    "            self.backtrack(nums[i:],target-nums[i],path+[nums[i]],ans)\n",
    "    def combineSum(self,nums,target):\n",
    "        path,ans = [],[]\n",
    "        self.backtrack(nums,target,path,ans)\n",
    "        return ans"
   ]
  },
  {
   "cell_type": "code",
   "execution_count": 116,
   "metadata": {},
   "outputs": [
    {
     "data": {
      "text/plain": [
       "[[2, 2, 3], [7]]"
      ]
     },
     "execution_count": 116,
     "metadata": {},
     "output_type": "execute_result"
    }
   ],
   "source": [
    "solution = Solution()\n",
    "solution.combineSum([2,3,6,7],7)"
   ]
  },
  {
   "cell_type": "markdown",
   "metadata": {},
   "source": [
    "## 9 Combination Sum II"
   ]
  },
  {
   "cell_type": "markdown",
   "metadata": {},
   "source": [
    "Given a collection of candidate numbers (candidates) and a target number (target), find all unique combinations in candidates where the candidate numbers sums to target.\n",
    "\n",
    "Each number in candidates may only be used once in the combination.\n",
    "\n",
    "Note:\n",
    "\n",
    "All numbers (including target) will be positive integers.\n",
    "The solution set must not contain duplicate combinations."
   ]
  },
  {
   "cell_type": "markdown",
   "metadata": {},
   "source": [
    "Example 1:\n",
    "\n",
    "Input: candidates = [10,1,2,7,6,1,5], target = 8,\n",
    "\n",
    "A solution set is:\n",
    "[\n",
    "  [1, 7],\n",
    "  [1, 2, 5],\n",
    "  [2, 6],\n",
    "  [1, 1, 6]\n",
    "]\n",
    "\n",
    "Example 2:\n",
    "\n",
    "Input: candidates = [2,5,2,1,2], target = 5,\n",
    "\n",
    "A solution set is:\n",
    "[\n",
    "  [1,2,2],\n",
    "  [5]\n",
    "]"
   ]
  },
  {
   "cell_type": "code",
   "execution_count": 117,
   "metadata": {},
   "outputs": [],
   "source": [
    "class Solution:\n",
    "    def backtrack(self,nums,target,path,ans):\n",
    "        if target<0:\n",
    "            return \n",
    "        if target ==0:\n",
    "            ans.append(path.copy())\n",
    "            return\n",
    "        for i in range(len(nums)):\n",
    "            if i>0 and nums[i]==nums[i-1]:\n",
    "                continue\n",
    "            # nums[i+1:] if numbers could not be used multiple times\n",
    "            # nums[i:] if numbers could be used multiple times\n",
    "            self.backtrack(nums[i+1:],target-nums[i],path+[nums[i]],ans)\n",
    "    def combineSum(self,nums,target):\n",
    "        path,ans = [],[]\n",
    "        self.backtrack(sorted(nums),target,path,ans)\n",
    "        return ans"
   ]
  },
  {
   "cell_type": "code",
   "execution_count": 119,
   "metadata": {},
   "outputs": [
    {
     "data": {
      "text/plain": [
       "[[1, 1, 6], [1, 2, 5], [1, 7], [2, 6]]"
      ]
     },
     "execution_count": 119,
     "metadata": {},
     "output_type": "execute_result"
    }
   ],
   "source": [
    "solution = Solution()\n",
    "solution.combineSum([10,1,2,7,6,1,5],8)"
   ]
  },
  {
   "cell_type": "markdown",
   "metadata": {},
   "source": [
    "## 10 Palindrome Partitioning"
   ]
  },
  {
   "cell_type": "markdown",
   "metadata": {},
   "source": [
    "Given a string s, partition s such that every substring of the partition is a palindrome.\n",
    "\n",
    "Return all possible palindrome partitioning of s.\n",
    "\n",
    "Example:\n",
    "\n",
    "Input: \"aab\"\n",
    "\n",
    "Output:\n",
    "[\n",
    "  [\"aa\",\"b\"],\n",
    "  [\"a\",\"a\",\"b\"]\n",
    "]"
   ]
  },
  {
   "cell_type": "code",
   "execution_count": 120,
   "metadata": {},
   "outputs": [],
   "source": [
    "class Solution:\n",
    "    def isPalindrome(self,s):\n",
    "        return (s==s[::-1])\n",
    "    \n",
    "    def backtrack(self,s,path,ans):\n",
    "        if not s:\n",
    "            ans.append(path.copy())\n",
    "            return\n",
    "        for i in range(1,len(s)+1): #add 1 for string slicing\n",
    "            if self.isPalindrome(s[:i]):\n",
    "                # if s[:i] is palindrome, then continue to partition s[i:]\n",
    "                self.backtrack(s[i:],path+[s[:i]],ans)\n",
    "    def partition(self,s):\n",
    "        path,ans = [],[]\n",
    "        self.backtrack(s,path,ans)\n",
    "        return ans"
   ]
  },
  {
   "cell_type": "code",
   "execution_count": 121,
   "metadata": {},
   "outputs": [
    {
     "data": {
      "text/plain": [
       "[['a', 'a', 'b'], ['aa', 'b']]"
      ]
     },
     "execution_count": 121,
     "metadata": {},
     "output_type": "execute_result"
    }
   ],
   "source": [
    "solution = Solution()\n",
    "solution.partition(\"aab\")"
   ]
  },
  {
   "cell_type": "markdown",
   "metadata": {},
   "source": [
    "## 11 Word Search"
   ]
  },
  {
   "cell_type": "markdown",
   "metadata": {},
   "source": [
    "https://leetcode.com/explore/interview/card/top-interview-questions-medium/109/backtracking/797/"
   ]
  },
  {
   "cell_type": "markdown",
   "metadata": {},
   "source": [
    "### Solution1: Backtrack -- find all potential path"
   ]
  },
  {
   "cell_type": "code",
   "execution_count": 1,
   "metadata": {},
   "outputs": [],
   "source": [
    "class Solution:\n",
    "    def backtrack(self,board,word,i,j):\n",
    "        if len(word) == 0:\n",
    "            return True\n",
    "        if i<0 or i>=len(board) or j<0 or j>=len(board[0]) or board[i][j]!=word[0]:\n",
    "            return False\n",
    "        board[i][j] = \"#\" #mark as visited\n",
    "        res =  self.backtrack(board,word[1:],i+1,j) or self.backtrack(board,word[1:],i-1,j) \\\n",
    "        or self.backtrack(board,word[1:],i,j+1) or self.backtrack(board,word[1:],i,j-1)\n",
    "        board[i][j] = word[0]  #change to original value\n",
    "        return res\n",
    "            \n",
    "    def exist(self,board,word):\n",
    "        if not board:\n",
    "            return False\n",
    "        for i in range(len(board)):\n",
    "            for j in range(len(board[0])):\n",
    "                if self.backtrack(board,word,i,j):\n",
    "                    return True\n",
    "        return False"
   ]
  },
  {
   "cell_type": "code",
   "execution_count": 2,
   "metadata": {},
   "outputs": [
    {
     "data": {
      "text/plain": [
       "True"
      ]
     },
     "execution_count": 2,
     "metadata": {},
     "output_type": "execute_result"
    }
   ],
   "source": [
    "solution = Solution()\n",
    "solution.exist(board =\n",
    "[\n",
    "  ['A','B','C','E'],\n",
    "  ['S','F','C','S'],\n",
    "  ['A','D','E','E']\n",
    "],word=\"ABCCED\")"
   ]
  },
  {
   "cell_type": "markdown",
   "metadata": {},
   "source": [
    "## 12 Number of island"
   ]
  },
  {
   "cell_type": "markdown",
   "metadata": {},
   "source": [
    "https://leetcode.com/problems/number-of-islands/"
   ]
  },
  {
   "cell_type": "markdown",
   "metadata": {},
   "source": [
    "Given an m x n 2d grid map of '1's (land) and '0's (water), return the number of islands.\n",
    "\n",
    "An island is surrounded by water and is formed by connecting adjacent lands horizontally or vertically. You may assume all four edges of the grid are all surrounded by water.\n",
    "\n",
    " \n",
    "\n",
    "Example 1:\n",
    "\n",
    "Input: grid = [\n",
    "  [\"1\",\"1\",\"1\",\"1\",\"0\"],\n",
    "  [\"1\",\"1\",\"0\",\"1\",\"0\"],\n",
    "  [\"1\",\"1\",\"0\",\"0\",\"0\"],\n",
    "  [\"0\",\"0\",\"0\",\"0\",\"0\"]\n",
    "]\n",
    "\n",
    "Output: 1\n",
    "\n",
    "Example 2:\n",
    "\n",
    "Input: grid = [\n",
    "  [\"1\",\"1\",\"0\",\"0\",\"0\"],\n",
    "  [\"1\",\"1\",\"0\",\"0\",\"0\"],\n",
    "  [\"0\",\"0\",\"1\",\"0\",\"0\"],\n",
    "  [\"0\",\"0\",\"0\",\"1\",\"1\"]\n",
    "]\n",
    "\n",
    "Output: 3\n",
    " \n",
    "\n",
    "Constraints:\n",
    "\n",
    "m == grid.length\n",
    "n == grid[i].length\n",
    "1 <= m, n <= 300\n",
    "grid[i][j] is '0' or '1'."
   ]
  },
  {
   "cell_type": "code",
   "execution_count": null,
   "metadata": {},
   "outputs": [],
   "source": [
    "class Solution:\n",
    "    def backtrack(self,board,i,j):\n",
    "        if i<0 or i>=len(board) or j<0 or j>=len(board[0]) or board[i][j]!='1':\n",
    "            return \n",
    "        # mark all '1' as '#'\n",
    "        board[i][j] = \"#\"\n",
    "        self.backtrack(board,i+1,j)\n",
    "        self.backtrack(board,i-1,j)\n",
    "        self.backtrack(board,i,j+1)\n",
    "        self.backtrack(board,i,j-1)\n",
    "            \n",
    "    def exist(self,board,word):\n",
    "        if not board:\n",
    "            return 0\n",
    "        count = 0\n",
    "        for i in range(len(board)):\n",
    "            for j in range(len(board[0])):\n",
    "                if board[i][j]=='1':\n",
    "                    self.backtrack(board,i,j):\n",
    "                    count+=1\n",
    "        return count"
   ]
  }
 ],
 "metadata": {
  "kernelspec": {
   "display_name": "Python 3",
   "language": "python",
   "name": "python3"
  },
  "language_info": {
   "codemirror_mode": {
    "name": "ipython",
    "version": 3
   },
   "file_extension": ".py",
   "mimetype": "text/x-python",
   "name": "python",
   "nbconvert_exporter": "python",
   "pygments_lexer": "ipython3",
   "version": "3.6.8"
  }
 },
 "nbformat": 4,
 "nbformat_minor": 2
}
