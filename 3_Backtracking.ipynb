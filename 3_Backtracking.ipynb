{
 "cells": [
  {
   "cell_type": "markdown",
   "metadata": {
    "toc": true
   },
   "source": [
    "<h1>Table of Contents<span class=\"tocSkip\"></span></h1>\n",
    "<div class=\"toc\"><ul class=\"toc-item\"><li><span><a href=\"#Backtracking-Summary\" data-toc-modified-id=\"Backtracking-Summary-1\"><span class=\"toc-item-num\">1&nbsp;&nbsp;</span>Backtracking Summary</a></span></li><li><span><a href=\"#Medium\" data-toc-modified-id=\"Medium-2\"><span class=\"toc-item-num\">2&nbsp;&nbsp;</span>Medium</a></span><ul class=\"toc-item\"><li><span><a href=\"#Phone-number-combinition\" data-toc-modified-id=\"Phone-number-combinition-2.1\"><span class=\"toc-item-num\">2.1&nbsp;&nbsp;</span>Phone number combinition</a></span><ul class=\"toc-item\"><li><span><a href=\"#Solution1:-Iteratively\" data-toc-modified-id=\"Solution1:-Iteratively-2.1.1\"><span class=\"toc-item-num\">2.1.1&nbsp;&nbsp;</span>Solution1: Iteratively</a></span></li></ul></li><li><span><a href=\"#Generate-Parentheses\" data-toc-modified-id=\"Generate-Parentheses-2.2\"><span class=\"toc-item-num\">2.2&nbsp;&nbsp;</span>Generate Parentheses</a></span><ul class=\"toc-item\"><li><span><a href=\"#Solution1:-Dynamic-programming\" data-toc-modified-id=\"Solution1:-Dynamic-programming-2.2.1\"><span class=\"toc-item-num\">2.2.1&nbsp;&nbsp;</span>Solution1: Dynamic programming</a></span></li></ul></li><li><span><a href=\"#Permutations-I\" data-toc-modified-id=\"Permutations-I-2.3\"><span class=\"toc-item-num\">2.3&nbsp;&nbsp;</span>Permutations I</a></span></li><li><span><a href=\"#Permutations-II\" data-toc-modified-id=\"Permutations-II-2.4\"><span class=\"toc-item-num\">2.4&nbsp;&nbsp;</span>Permutations II</a></span></li><li><span><a href=\"#Permutation-Sequence\" data-toc-modified-id=\"Permutation-Sequence-2.5\"><span class=\"toc-item-num\">2.5&nbsp;&nbsp;</span>Permutation Sequence</a></span><ul class=\"toc-item\"><li><span><a href=\"#Solution1:-backtracking----may-exceed-time-limit\" data-toc-modified-id=\"Solution1:-backtracking----may-exceed-time-limit-2.5.1\"><span class=\"toc-item-num\">2.5.1&nbsp;&nbsp;</span>Solution1: backtracking -- may exceed time limit</a></span></li><li><span><a href=\"#Solution2:-Use-math\" data-toc-modified-id=\"Solution2:-Use-math-2.5.2\"><span class=\"toc-item-num\">2.5.2&nbsp;&nbsp;</span>Solution2: Use math</a></span></li></ul></li><li><span><a href=\"#Subsets-I\" data-toc-modified-id=\"Subsets-I-2.6\"><span class=\"toc-item-num\">2.6&nbsp;&nbsp;</span>Subsets I</a></span><ul class=\"toc-item\"><li><span><a href=\"#Solution1:-Backtracking\" data-toc-modified-id=\"Solution1:-Backtracking-2.6.1\"><span class=\"toc-item-num\">2.6.1&nbsp;&nbsp;</span>Solution1: Backtracking</a></span></li><li><span><a href=\"#Solution2:-Iteratively\" data-toc-modified-id=\"Solution2:-Iteratively-2.6.2\"><span class=\"toc-item-num\">2.6.2&nbsp;&nbsp;</span>Solution2: Iteratively</a></span></li></ul></li><li><span><a href=\"#Subsets-II\" data-toc-modified-id=\"Subsets-II-2.7\"><span class=\"toc-item-num\">2.7&nbsp;&nbsp;</span>Subsets II</a></span></li><li><span><a href=\"#Combination-Sum-I\" data-toc-modified-id=\"Combination-Sum-I-2.8\"><span class=\"toc-item-num\">2.8&nbsp;&nbsp;</span>Combination Sum I</a></span></li><li><span><a href=\"#Combination-Sum-II\" data-toc-modified-id=\"Combination-Sum-II-2.9\"><span class=\"toc-item-num\">2.9&nbsp;&nbsp;</span>Combination Sum II</a></span></li><li><span><a href=\"#Palindrome-Partitioning\" data-toc-modified-id=\"Palindrome-Partitioning-2.10\"><span class=\"toc-item-num\">2.10&nbsp;&nbsp;</span>Palindrome Partitioning</a></span></li><li><span><a href=\"#Word-Search\" data-toc-modified-id=\"Word-Search-2.11\"><span class=\"toc-item-num\">2.11&nbsp;&nbsp;</span>Word Search</a></span><ul class=\"toc-item\"><li><span><a href=\"#Solution1:-Backtrack----find-all-potential-path\" data-toc-modified-id=\"Solution1:-Backtrack----find-all-potential-path-2.11.1\"><span class=\"toc-item-num\">2.11.1&nbsp;&nbsp;</span>Solution1: Backtrack -- find all potential path</a></span></li></ul></li><li><span><a href=\"#Longest-Increasing-Path-in-a-Matrix\" data-toc-modified-id=\"Longest-Increasing-Path-in-a-Matrix-2.12\"><span class=\"toc-item-num\">2.12&nbsp;&nbsp;</span>Longest Increasing Path in a Matrix</a></span><ul class=\"toc-item\"><li><span><a href=\"#Solution1:-Backtrack-(may-exceed-time-limit)\" data-toc-modified-id=\"Solution1:-Backtrack-(may-exceed-time-limit)-2.12.1\"><span class=\"toc-item-num\">2.12.1&nbsp;&nbsp;</span>Solution1: Backtrack (may exceed time limit)</a></span></li><li><span><a href=\"#Solution2:-Dynamic-Programming\" data-toc-modified-id=\"Solution2:-Dynamic-Programming-2.12.2\"><span class=\"toc-item-num\">2.12.2&nbsp;&nbsp;</span>Solution2: Dynamic Programming</a></span></li></ul></li><li><span><a href=\"#Number-of-island\" data-toc-modified-id=\"Number-of-island-2.13\"><span class=\"toc-item-num\">2.13&nbsp;&nbsp;</span>Number of island</a></span><ul class=\"toc-item\"><li><span><a href=\"#Solution:-Backtrack(DFS)\" data-toc-modified-id=\"Solution:-Backtrack(DFS)-2.13.1\"><span class=\"toc-item-num\">2.13.1&nbsp;&nbsp;</span>Solution: Backtrack(DFS)</a></span></li></ul></li></ul></li><li><span><a href=\"#Hard\" data-toc-modified-id=\"Hard-3\"><span class=\"toc-item-num\">3&nbsp;&nbsp;</span>Hard</a></span><ul class=\"toc-item\"><li><span><a href=\"#Surrounded-Regions\" data-toc-modified-id=\"Surrounded-Regions-3.1\"><span class=\"toc-item-num\">3.1&nbsp;&nbsp;</span>Surrounded Regions</a></span></li><li><span><a href=\"#Friend-Circles\" data-toc-modified-id=\"Friend-Circles-3.2\"><span class=\"toc-item-num\">3.2&nbsp;&nbsp;</span>Friend Circles</a></span><ul class=\"toc-item\"><li><span><a href=\"#Difference-between-Number-of-Island-and-Friends-Circle\" data-toc-modified-id=\"Difference-between-Number-of-Island-and-Friends-Circle-3.2.1\"><span class=\"toc-item-num\">3.2.1&nbsp;&nbsp;</span>Difference between Number of Island and Friends Circle</a></span></li><li><span><a href=\"#Solution:-DFS\" data-toc-modified-id=\"Solution:-DFS-3.2.2\"><span class=\"toc-item-num\">3.2.2&nbsp;&nbsp;</span>Solution: DFS</a></span></li></ul></li><li><span><a href=\"#Course-Schedule\" data-toc-modified-id=\"Course-Schedule-3.3\"><span class=\"toc-item-num\">3.3&nbsp;&nbsp;</span>Course Schedule</a></span><ul class=\"toc-item\"><li><span><a href=\"#Solution:-Topological-(DFS)\" data-toc-modified-id=\"Solution:-Topological-(DFS)-3.3.1\"><span class=\"toc-item-num\">3.3.1&nbsp;&nbsp;</span>Solution: Topological (DFS)</a></span></li></ul></li><li><span><a href=\"#Course-Schedule-II\" data-toc-modified-id=\"Course-Schedule-II-3.4\"><span class=\"toc-item-num\">3.4&nbsp;&nbsp;</span>Course Schedule II</a></span><ul class=\"toc-item\"><li><span><a href=\"#Solution:-Topological-(DFS)\" data-toc-modified-id=\"Solution:-Topological-(DFS)-3.4.1\"><span class=\"toc-item-num\">3.4.1&nbsp;&nbsp;</span>Solution: Topological (DFS)</a></span></li></ul></li><li><span><a href=\"#Word-Ladder\" data-toc-modified-id=\"Word-Ladder-3.5\"><span class=\"toc-item-num\">3.5&nbsp;&nbsp;</span>Word Ladder</a></span><ul class=\"toc-item\"><li><span><a href=\"#Solution1:-Backtrack\" data-toc-modified-id=\"Solution1:-Backtrack-3.5.1\"><span class=\"toc-item-num\">3.5.1&nbsp;&nbsp;</span>Solution1: Backtrack</a></span></li></ul></li><li><span><a href=\"#Cherry-Pickup\" data-toc-modified-id=\"Cherry-Pickup-3.6\"><span class=\"toc-item-num\">3.6&nbsp;&nbsp;</span>Cherry Pickup</a></span><ul class=\"toc-item\"><li><span><a href=\"#Solution:-Backtrack(DFS)-+-memo\" data-toc-modified-id=\"Solution:-Backtrack(DFS)-+-memo-3.6.1\"><span class=\"toc-item-num\">3.6.1&nbsp;&nbsp;</span>Solution: Backtrack(DFS) + memo</a></span></li></ul></li><li><span><a href=\"#Cherry-Pickup-II\" data-toc-modified-id=\"Cherry-Pickup-II-3.7\"><span class=\"toc-item-num\">3.7&nbsp;&nbsp;</span>Cherry Pickup II</a></span><ul class=\"toc-item\"><li><span><a href=\"#Solution1:-Backtrack(DFS)\" data-toc-modified-id=\"Solution1:-Backtrack(DFS)-3.7.1\"><span class=\"toc-item-num\">3.7.1&nbsp;&nbsp;</span>Solution1: Backtrack(DFS)</a></span></li><li><span><a href=\"#Solution2:-Backtrack(DFS)-+-memo\" data-toc-modified-id=\"Solution2:-Backtrack(DFS)-+-memo-3.7.2\"><span class=\"toc-item-num\">3.7.2&nbsp;&nbsp;</span>Solution2: Backtrack(DFS) + memo</a></span></li></ul></li></ul></li></ul></div>"
   ]
  },
  {
   "cell_type": "markdown",
   "metadata": {},
   "source": [
    "https://leetcode.com/explore/interview/card/top-interview-questions-medium/109/backtracking/"
   ]
  },
  {
   "cell_type": "markdown",
   "metadata": {},
   "source": [
    "# Backtracking Summary"
   ]
  },
  {
   "cell_type": "markdown",
   "metadata": {},
   "source": [
    "https://leetcode.com/explore/interview/card/top-interview-questions-medium/109/backtracking/795/discuss/18284/Backtrack-Summary:-General-Solution-for-10-Questions!!!!!!!!-Python-(Combination-Sum-Subsets-Permutation-Palindrome)"
   ]
  },
  {
   "cell_type": "markdown",
   "metadata": {},
   "source": [
    "# Medium"
   ]
  },
  {
   "cell_type": "markdown",
   "metadata": {},
   "source": [
    "## Phone number combinition"
   ]
  },
  {
   "cell_type": "markdown",
   "metadata": {},
   "source": [
    "### Solution1: Iteratively"
   ]
  },
  {
   "cell_type": "code",
   "execution_count": 40,
   "metadata": {
    "collapsed": true
   },
   "outputs": [],
   "source": [
    "def numberCombinition(digits):\n",
    "    dic = {'1':'','2':\"abc\", '3':\"def\", '4':\"ghi\", '5':\"jkl\", '6':\"mno\", '7': \"pqrs\", \n",
    "        '8':\"tuv\", '9':\"wxyz\",'0':''}\n",
    "    ans = ['']\n",
    "    for i in range(len(digits)):\n",
    "        d = digits[i]\n",
    "        if d ==\"1\" or d=='0': continue\n",
    "        else:\n",
    "            ans = [a+digit for a in ans for digit in dic[d]]\n",
    "            #print(ans)\n",
    "    return ans "
   ]
  },
  {
   "cell_type": "code",
   "execution_count": 43,
   "metadata": {},
   "outputs": [
    {
     "data": {
      "text/plain": [
       "['']"
      ]
     },
     "execution_count": 43,
     "metadata": {},
     "output_type": "execute_result"
    }
   ],
   "source": [
    "numberCombinition('1')"
   ]
  },
  {
   "cell_type": "markdown",
   "metadata": {},
   "source": [
    "## Generate Parentheses"
   ]
  },
  {
   "cell_type": "markdown",
   "metadata": {},
   "source": [
    "Given n pairs of parentheses, write a function to generate all combinations of well-formed parentheses.\n",
    "\n",
    " \n",
    "\n",
    "Example 1:\n",
    "\n",
    "Input: n = 3\n",
    "\n",
    "Output: [\"((()))\",\"(()())\",\"(())()\",\"()(())\",\"()()()\"]\n",
    "\n",
    "Example 2:\n",
    "\n",
    "Input: n = 1\n",
    "\n",
    "Output: [\"()\"]\n",
    " \n",
    "\n",
    "Constraints:\n",
    "\n",
    "1 <= n <= 8"
   ]
  },
  {
   "cell_type": "markdown",
   "metadata": {},
   "source": [
    "### Solution1: Dynamic programming"
   ]
  },
  {
   "cell_type": "markdown",
   "metadata": {},
   "source": [
    "To generate all n-pair parentheses, we can do the following:\n",
    "\n",
    "Generate one pair: ()\n",
    "\n",
    "Generate 0 pair inside, n - 1 afterward: () (...)...\n",
    "\n",
    "Generate 1 pair inside, n - 2 afterward: (()) (...)...\n",
    "\n",
    "...\n",
    "\n",
    "Generate n - 1 pair inside, 0 afterward: ((...))"
   ]
  },
  {
   "cell_type": "code",
   "execution_count": 1,
   "metadata": {},
   "outputs": [],
   "source": [
    "def generateParenthese(n):\n",
    "    ans = [[] for _ in range(n + 1)]\n",
    "    ans[0] = ['']\n",
    "    for i in range(1,n+1):\n",
    "        for j in range(i):\n",
    "            ans[i] += ['('+x+')'+y for x in ans[j] for y in ans[i-j-1]]\n",
    "    return ans[-1]"
   ]
  },
  {
   "cell_type": "code",
   "execution_count": 3,
   "metadata": {},
   "outputs": [
    {
     "data": {
      "text/plain": [
       "['()()()', '()(())', '(())()', '(()())', '((()))']"
      ]
     },
     "execution_count": 3,
     "metadata": {},
     "output_type": "execute_result"
    }
   ],
   "source": [
    " generateParenthese(3)"
   ]
  },
  {
   "cell_type": "markdown",
   "metadata": {},
   "source": [
    "## Permutations I\n",
    "\n",
    "\n"
   ]
  },
  {
   "cell_type": "markdown",
   "metadata": {},
   "source": [
    "Given a collection of distinct integers, return all possible permutations."
   ]
  },
  {
   "cell_type": "markdown",
   "metadata": {},
   "source": [
    "For example, 123\n",
    "\n",
    "let 1 be the first element, recursively permute 23\n",
    "\n",
    "let 2 be the first element, recursively permute 13\n",
    "\n",
    "let 3 be the first element, recursively permute 12"
   ]
  },
  {
   "cell_type": "code",
   "execution_count": null,
   "metadata": {
    "collapsed": true
   },
   "outputs": [],
   "source": [
    "dfs(nums = [1, 2, 3] , path = [] , result = [] )\n",
    "|____ dfs(nums = [2, 3] , path = [1] , result = [] )\n",
    "|      |___dfs(nums = [3] , path = [1, 2] , result = [] )\n",
    "|      |    |___dfs(nums = [] , path = [1, 2, 3] , result = [[1, 2, 3]] ) # added a new permutation to the result\n",
    "|      |___dfs(nums = [2] , path = [1, 3] , result = [[1, 2, 3]] )\n",
    "|           |___dfs(nums = [] , path = [1, 3, 2] , result = [[1, 2, 3], [1, 3, 2]] ) # added a new permutation to the result\n",
    "|____ dfs(nums = [1, 3] , path = [2] , result = [[1, 2, 3], [1, 3, 2]] )\n",
    "|      |___dfs(nums = [3] , path = [2, 1] , result = [[1, 2, 3], [1, 3, 2]] )\n",
    "|      |    |___dfs(nums = [] , path = [2, 1, 3] , result = [[1, 2, 3], [1, 3, 2], [2, 1, 3]] ) # added a new permutation to the result\n",
    "|      |___dfs(nums = [1] , path = [2, 3] , result = [[1, 2, 3], [1, 3, 2], [2, 1, 3]] )\n",
    "|           |___dfs(nums = [] , path = [2, 3, 1] , result = [[1, 2, 3], [1, 3, 2], [2, 1, 3], [2, 3, 1]] ) # added a new permutation to the result\n",
    "|____ dfs(nums = [1, 2] , path = [3] , result = [[1, 2, 3], [1, 3, 2], [2, 1, 3], [2, 3, 1]] )\n",
    "       |___dfs(nums = [2] , path = [3, 1] , result = [[1, 2, 3], [1, 3, 2], [2, 1, 3], [2, 3, 1]] )\n",
    "       |    |___dfs(nums = [] , path = [3, 1, 2] , result = [[1, 2, 3], [1, 3, 2], [2, 1, 3], [2, 3, 1], [3, 1, 2]] ) # added a new permutation to the result\n",
    "       |___dfs(nums = [1] , path = [3, 2] , result = [[1, 2, 3], [1, 3, 2], [2, 1, 3], [2, 3, 1], [3, 1, 2]] )\n",
    "            |___dfs(nums = [] , path = [3, 2, 1] , result = [[1, 2, 3], [1, 3, 2], [2, 1, 3], [2, 3, 1], [3, 1, 2], [3, 2, 1]] ) # added a new permutation to the result"
   ]
  },
  {
   "cell_type": "code",
   "execution_count": 2,
   "metadata": {
    "collapsed": true
   },
   "outputs": [],
   "source": [
    "class Solution:\n",
    "    def backtrack(self,nums, path, ans):\n",
    "        if not nums:\n",
    "            ans.append(path.copy())\n",
    "            #ans.append(nums[:]) \n",
    "            #nums[:] use deepcopy because nums is tracking all partial solution, it eventually become []\n",
    "        for i in range(len(nums)):\n",
    "            self.backtrack(nums[:i]+nums[i+1:], path+[nums[i]], ans)\n",
    "            #self.backtrack(nums, path+[nums[i]], ans)\n",
    "    def permute(self,nums):\n",
    "        ans,path = [],[]\n",
    "        self.backtrack(nums, path, ans)\n",
    "        return ans"
   ]
  },
  {
   "cell_type": "code",
   "execution_count": 3,
   "metadata": {},
   "outputs": [
    {
     "data": {
      "text/plain": [
       "[[1, 2, 3], [1, 3, 2], [2, 1, 3], [2, 3, 1], [3, 1, 2], [3, 2, 1]]"
      ]
     },
     "execution_count": 3,
     "metadata": {},
     "output_type": "execute_result"
    }
   ],
   "source": [
    "solution = Solution()\n",
    "solution.permute([1,2,3])"
   ]
  },
  {
   "cell_type": "markdown",
   "metadata": {},
   "source": [
    "## Permutations II"
   ]
  },
  {
   "cell_type": "markdown",
   "metadata": {},
   "source": [
    "https://leetcode.com/problems/permutations-ii/submissions/\n",
    "\n",
    "Given a collection of numbers that might contain duplicates, return all possible unique permutations.\n",
    "\n",
    "Example:\n",
    "\n",
    "Input: [1,1,2]\n",
    "Output:\n",
    "[\n",
    "  [1,1,2],\n",
    "  [1,2,1],\n",
    "  [2,1,1]\n",
    "]"
   ]
  },
  {
   "cell_type": "markdown",
   "metadata": {},
   "source": [
    "How to adapt the previous code to take care of duplicates?\n",
    "\n",
    "We can simply pick out the unique element, and recursively permute the remainining."
   ]
  },
  {
   "cell_type": "code",
   "execution_count": 47,
   "metadata": {
    "collapsed": true
   },
   "outputs": [],
   "source": [
    "class Solution:\n",
    "    def backtrack(self,nums, path, ans):\n",
    "        if not nums:\n",
    "            ans.append(path.copy())\n",
    "            #ans.append(nums[:]) \n",
    "            #nums[:] use deepcopy because nums is tracking all partial solution, it eventually become []\n",
    "        for n in set(nums):\n",
    "            remaining = nums.copy()\n",
    "            #Note: can't be nums, should be or list(nums) or nums.copy()\n",
    "            remaining.remove(n)\n",
    "            # Note: remaining = nums.remove(1) would mutate the original object, and remaining would be None\n",
    "            self.backtrack(remaining, path+[n], ans)\n",
    "\n",
    "    def permute(self,nums):\n",
    "        ans,path = [],[]\n",
    "        self.backtrack(nums, path, ans)\n",
    "        return ans"
   ]
  },
  {
   "cell_type": "code",
   "execution_count": 48,
   "metadata": {},
   "outputs": [
    {
     "data": {
      "text/plain": [
       "[[1, 1, 1, 2], [1, 1, 2, 1], [1, 2, 1, 1], [2, 1, 1, 1]]"
      ]
     },
     "execution_count": 48,
     "metadata": {},
     "output_type": "execute_result"
    }
   ],
   "source": [
    "solution = Solution()\n",
    "solution.permute([1,1,1,2])"
   ]
  },
  {
   "cell_type": "code",
   "execution_count": 54,
   "metadata": {
    "collapsed": true
   },
   "outputs": [],
   "source": [
    "class Solution:\n",
    "    def backtrack(self,nums, path, ans):\n",
    "        if not nums:\n",
    "            ans.append(path.copy())\n",
    "            #ans.append(nums[:]) \n",
    "            #nums[:] use deepcopy because nums is tracking all partial solution, it eventually become []\n",
    "        for i in range(len(nums)):\n",
    "            # handle duplicates\n",
    "            if i>0 and nums[i] == nums[i-1]:\n",
    "                continue\n",
    "            self.backtrack(nums[:i]+nums[i+1:], path+[nums[i]], ans)\n",
    "\n",
    "    def permute(self,nums):\n",
    "        ans,path = [],[]\n",
    "        self.backtrack(sorted(nums), path, ans)\n",
    "        return ans"
   ]
  },
  {
   "cell_type": "code",
   "execution_count": 55,
   "metadata": {},
   "outputs": [
    {
     "data": {
      "text/plain": [
       "[[1, 1, 1, 2], [1, 1, 2, 1], [1, 2, 1, 1], [2, 1, 1, 1]]"
      ]
     },
     "execution_count": 55,
     "metadata": {},
     "output_type": "execute_result"
    }
   ],
   "source": [
    "solution = Solution()\n",
    "solution.permute([1,1,1,2])"
   ]
  },
  {
   "cell_type": "markdown",
   "metadata": {},
   "source": [
    "## Permutation Sequence"
   ]
  },
  {
   "cell_type": "markdown",
   "metadata": {},
   "source": [
    "The set [1,2,3,...,n] contains a total of n! unique permutations.\n",
    "\n",
    "By listing and labeling all of the permutations in order, we get the following sequence for n = 3:\n",
    "\n",
    "\"123\"\n",
    "\"132\"\n",
    "\"213\"\n",
    "\"231\"\n",
    "\"312\"\n",
    "\"321\"\n",
    "\n",
    "Given n and k, return the kth permutation sequence.\n",
    "\n",
    "Note:\n",
    "\n",
    "Given n will be between 1 and 9 inclusive.\n",
    "\n",
    "Given k will be between 1 and n! inclusive.\n",
    "\n",
    "Example 1:\n",
    "\n",
    "Input: n = 3, k = 3\n",
    "\n",
    "    Output: \"213\"\n",
    "\n",
    "Example 2:\n",
    "\n",
    "Input: n = 4, k = 9\n",
    "\n",
    "    Output: \"2314\""
   ]
  },
  {
   "cell_type": "markdown",
   "metadata": {},
   "source": [
    "### Solution1: backtracking -- may exceed time limit"
   ]
  },
  {
   "cell_type": "code",
   "execution_count": 86,
   "metadata": {
    "collapsed": true
   },
   "outputs": [],
   "source": [
    "class Solution:\n",
    "    def backtrack(self,nums, path, ans):\n",
    "        if not nums:\n",
    "            ans.append(path.copy())\n",
    "            #ans.append(nums[:]) \n",
    "            #nums[:] use deepcopy because nums is tracking all partial solution, it eventually become []\n",
    "        for i in range(len(nums)):\n",
    "            self.backtrack(nums[:i]+nums[i+1:], path+[nums[i]], ans)\n",
    "\n",
    "    def permute(self,n,k):\n",
    "        nums = [*range(1,n+1)] # note: [*range()]\n",
    "        ans,path = [],[]\n",
    "        while len(ans)<k:\n",
    "            self.backtrack(nums, path, ans)\n",
    "        return ''.join([str(x) for x in ans[k-1]])"
   ]
  },
  {
   "cell_type": "code",
   "execution_count": 87,
   "metadata": {},
   "outputs": [
    {
     "name": "stdout",
     "output_type": "stream",
     "text": [
      "CPU times: user 3 µs, sys: 1e+03 ns, total: 4 µs\n",
      "Wall time: 5.01 µs\n"
     ]
    },
    {
     "data": {
      "text/plain": [
       "'213'"
      ]
     },
     "execution_count": 87,
     "metadata": {},
     "output_type": "execute_result"
    }
   ],
   "source": [
    "%time\n",
    "solution = Solution()\n",
    "solution.permute(3,3)"
   ]
  },
  {
   "cell_type": "markdown",
   "metadata": {},
   "source": [
    "### Solution2: Use math "
   ]
  },
  {
   "cell_type": "markdown",
   "metadata": {},
   "source": [
    "For permutations of n, the first (n-1)! permutations start with 1, next (n-1)! ones start with 2, ... and so on. And in each group of (n-1)! permutations, the first (n-2)! permutations start with the smallest remaining number, ...\n",
    "\n",
    "take n = 3 as an example, the first 2 (that is, (3-1)! ) permutations start with 1, next 2 start with 2 and last 2 start with 3. For the first 2 permutations (123 and 132), the 1st one (1!) starts with 2, which is the smallest remaining number (2 and 3). So we can use a loop to check the region that the sequence number falls in and get the starting digit. Then we adjust the sequence number and continue."
   ]
  },
  {
   "cell_type": "code",
   "execution_count": 94,
   "metadata": {
    "collapsed": true
   },
   "outputs": [],
   "source": [
    "class Solution:\n",
    "    def factorial(self,num):\n",
    "        res = 1\n",
    "        for i in range(1,num+1):\n",
    "            res *= i\n",
    "        return res\n",
    "    \n",
    "    def permute(self,n,k):\n",
    "        nums = [*range(1,n+1)]\n",
    "        ans = ''\n",
    "        k = k-1 \n",
    "        while n:\n",
    "            factor = self.factorial(n-1)\n",
    "            #index, k = deviod(k,factor)\n",
    "            index = int(k//factor) \n",
    "            k = k%factor\n",
    "            ans += str(nums[index])\n",
    "            nums.pop(index) \n",
    "            print(nums)\n",
    "            n -=1\n",
    "        return ans"
   ]
  },
  {
   "cell_type": "code",
   "execution_count": 95,
   "metadata": {},
   "outputs": [
    {
     "name": "stdout",
     "output_type": "stream",
     "text": [
      "CPU times: user 2 µs, sys: 0 ns, total: 2 µs\n",
      "Wall time: 5.01 µs\n",
      "[2, 3, 4, 5, 6, 7]\n",
      "[3, 4, 5, 6, 7]\n",
      "[4, 5, 6, 7]\n",
      "[5, 6, 7]\n",
      "[5, 7]\n",
      "[7]\n",
      "[]\n"
     ]
    },
    {
     "data": {
      "text/plain": [
       "'1234657'"
      ]
     },
     "execution_count": 95,
     "metadata": {},
     "output_type": "execute_result"
    }
   ],
   "source": [
    "%time\n",
    "solution = Solution()\n",
    "solution.permute(7,3)"
   ]
  },
  {
   "cell_type": "markdown",
   "metadata": {},
   "source": [
    "## Subsets I"
   ]
  },
  {
   "cell_type": "markdown",
   "metadata": {},
   "source": [
    "Given a set of distinct integers, nums, return all possible subsets (the power set).\n",
    "\n",
    "Note: The solution set must not contain duplicate subsets.\n",
    "\n",
    "Example:\n",
    "\n",
    "Input: nums = [1,2,3]\n",
    "\n",
    "Output:\n",
    "[\n",
    "  [3],\n",
    "  [1],\n",
    "  [2],\n",
    "  [1,2,3],\n",
    "  [1,3],\n",
    "  [2,3],\n",
    "  [1,2],\n",
    "  []\n",
    "]"
   ]
  },
  {
   "cell_type": "markdown",
   "metadata": {},
   "source": [
    "### Solution1: Backtracking"
   ]
  },
  {
   "cell_type": "code",
   "execution_count": 43,
   "metadata": {
    "collapsed": true
   },
   "outputs": [],
   "source": [
    "class Solution:\n",
    "    def backtrack(self,nums, path, ans):\n",
    "        ans.append(path.copy())\n",
    "        for i in range(len(nums)):\n",
    "            # subset:nums[i+1:] since order doesn't matter (similar to combinition)\n",
    "            self.backtrack(nums[i+1:], path+[nums[i]], ans)\n",
    "            \n",
    "    def subset(self,nums):\n",
    "        ans,path = [],[]\n",
    "        self.backtrack(nums, path, ans)\n",
    "        return ans"
   ]
  },
  {
   "cell_type": "code",
   "execution_count": 44,
   "metadata": {},
   "outputs": [
    {
     "data": {
      "text/plain": [
       "[[], [1], [1, 3], [1, 3, 2], [1, 2], [3], [3, 2], [2]]"
      ]
     },
     "execution_count": 44,
     "metadata": {},
     "output_type": "execute_result"
    }
   ],
   "source": [
    "solution = Solution()\n",
    "solution.subset([1,3,2])"
   ]
  },
  {
   "cell_type": "markdown",
   "metadata": {},
   "source": [
    "### Solution2: Iteratively"
   ]
  },
  {
   "cell_type": "code",
   "execution_count": 45,
   "metadata": {
    "collapsed": true
   },
   "outputs": [],
   "source": [
    "# Iteratively\n",
    "class Solution:\n",
    "    def subset(self, nums):\n",
    "        res = [[]]\n",
    "        for num in sorted(nums):\n",
    "            res += [item+[num] for item in res]\n",
    "        return res"
   ]
  },
  {
   "cell_type": "code",
   "execution_count": 46,
   "metadata": {},
   "outputs": [
    {
     "data": {
      "text/plain": [
       "[[], [1], [2], [1, 2], [3], [1, 3], [2, 3], [1, 2, 3]]"
      ]
     },
     "execution_count": 46,
     "metadata": {},
     "output_type": "execute_result"
    }
   ],
   "source": [
    "solution = Solution()\n",
    "solution.subset([1,3,2])"
   ]
  },
  {
   "cell_type": "markdown",
   "metadata": {},
   "source": [
    "## Subsets II"
   ]
  },
  {
   "cell_type": "markdown",
   "metadata": {},
   "source": [
    "Given a collection of integers that might contain duplicates, nums, return all possible subsets (the power set).\n",
    "\n",
    "Note: The solution set must not contain duplicate subsets.\n",
    "\n",
    "Example:\n",
    "\n",
    "Input: [1,2,2]\n",
    "\n",
    "Output:\n",
    "[\n",
    "  [2],\n",
    "  [1],\n",
    "  [1,2,2],\n",
    "  [2,2],\n",
    "  [1,2],\n",
    "  []\n",
    "]"
   ]
  },
  {
   "cell_type": "code",
   "execution_count": 52,
   "metadata": {
    "collapsed": true
   },
   "outputs": [],
   "source": [
    "class Solution:\n",
    "    def backtrack(self, nums, path, ans):\n",
    "        ans.append(path.copy())\n",
    "        for i in range(len(nums)):\n",
    "            # handle duplicates\n",
    "            if i>0 and nums[i] == nums[i-1]:\n",
    "                continue\n",
    "            self.backtrack(nums[i+1:],path+[nums[i]],ans)\n",
    "    def subset(self,nums):\n",
    "        ans,path = [],[]\n",
    "        self.backtrack(sorted(nums),path,ans)\n",
    "        return ans"
   ]
  },
  {
   "cell_type": "code",
   "execution_count": 53,
   "metadata": {},
   "outputs": [
    {
     "data": {
      "text/plain": [
       "[[], [1], [1, 2], [1, 2, 2], [2], [2, 2]]"
      ]
     },
     "execution_count": 53,
     "metadata": {},
     "output_type": "execute_result"
    }
   ],
   "source": [
    "solution = Solution()\n",
    "solution.subset([1,2,2])"
   ]
  },
  {
   "cell_type": "markdown",
   "metadata": {},
   "source": [
    "## Combination Sum I"
   ]
  },
  {
   "cell_type": "markdown",
   "metadata": {},
   "source": [
    "Given an array of distinct integers candidates and a target integer target, return a list of all unique combinations of candidates where the chosen numbers sum to target. You may return the combinations in any order.\n",
    "\n",
    "The same number may be chosen from candidates an unlimited number of times. Two combinations are unique if the frequency of at least one of the chosen numbers is different.\n",
    "\n",
    "It is guaranteed that the number of unique combinations that sum up to target is less than 150 combinations for the given input."
   ]
  },
  {
   "cell_type": "markdown",
   "metadata": {},
   "source": [
    "Example 1:\n",
    "\n",
    "Input: candidates = [2,3,6,7], target = 7\n",
    "\n",
    "Output: [[2,2,3],[7]]\n",
    "\n",
    "Explanation:\n",
    "2 and 3 are candidates, and 2 + 2 + 3 = 7. Note that 2 can be used multiple times.\n",
    "7 is a candidate, and 7 = 7.\n",
    "These are the only two combinations.\n",
    "\n",
    "Example 2:\n",
    "\n",
    "Input: candidates = [2,3,5], target = 8\n",
    "\n",
    "Output: [[2,2,2,2],[2,3,3],[3,5]]\n",
    "\n",
    "Example 3:\n",
    "\n",
    "Input: candidates = [2], target = 1\n",
    "\n",
    "Output: []\n",
    "\n",
    "Example 4:\n",
    "\n",
    "Input: candidates = [1], target = 1\n",
    "\n",
    "Output: [[1]]"
   ]
  },
  {
   "cell_type": "code",
   "execution_count": 115,
   "metadata": {
    "collapsed": true
   },
   "outputs": [],
   "source": [
    "class Solution:\n",
    "    def backtrack(self,nums,target,path,ans):\n",
    "        if target<0:\n",
    "            return \n",
    "        if target ==0:\n",
    "            ans.append(path.copy())\n",
    "            return\n",
    "        for i in range(len(nums)):\n",
    "            # nums[i+1:] if numbers could not be used multiple times\n",
    "            # nums[i:] if numbers could be used multiple times\n",
    "            # nums if order matters (similar to permutation)\n",
    "            self.backtrack(nums[i:],target-nums[i],path+[nums[i]],ans)\n",
    "    def combineSum(self,nums,target):\n",
    "        path,ans = [],[]\n",
    "        self.backtrack(nums,target,path,ans)\n",
    "        return ans"
   ]
  },
  {
   "cell_type": "code",
   "execution_count": 116,
   "metadata": {},
   "outputs": [
    {
     "data": {
      "text/plain": [
       "[[2, 2, 3], [7]]"
      ]
     },
     "execution_count": 116,
     "metadata": {},
     "output_type": "execute_result"
    }
   ],
   "source": [
    "solution = Solution()\n",
    "solution.combineSum([2,3,6,7],7)"
   ]
  },
  {
   "cell_type": "markdown",
   "metadata": {},
   "source": [
    "## Combination Sum II"
   ]
  },
  {
   "cell_type": "markdown",
   "metadata": {},
   "source": [
    "https://leetcode.com/problems/combination-sum/submissions/\n",
    "\n",
    "Given a collection of candidate numbers (candidates) and a target number (target), find all unique combinations in candidates where the candidate numbers sums to target.\n",
    "\n",
    "Each number in candidates may only be used once in the combination.\n",
    "\n",
    "Note:\n",
    "\n",
    "All numbers (including target) will be positive integers.\n",
    "The solution set must not contain duplicate combinations."
   ]
  },
  {
   "cell_type": "markdown",
   "metadata": {},
   "source": [
    "Example 1:\n",
    "\n",
    "Input: candidates = [10,1,2,7,6,1,5], target = 8,\n",
    "\n",
    "A solution set is:\n",
    "[\n",
    "  [1, 7],\n",
    "  [1, 2, 5],\n",
    "  [2, 6],\n",
    "  [1, 1, 6]\n",
    "]\n",
    "\n",
    "Example 2:\n",
    "\n",
    "Input: candidates = [2,5,2,1,2], target = 5,\n",
    "\n",
    "A solution set is:\n",
    "[\n",
    "  [1,2,2],\n",
    "  [5]\n",
    "]"
   ]
  },
  {
   "cell_type": "code",
   "execution_count": 4,
   "metadata": {
    "collapsed": true
   },
   "outputs": [],
   "source": [
    "class Solution:\n",
    "    def backtrack(self,nums,target,path,ans):\n",
    "        if target<0:\n",
    "            return \n",
    "        if target ==0:\n",
    "            ans.append(path.copy())\n",
    "            return\n",
    "        for i in range(len(nums)):\n",
    "            if i>0 and nums[i]==nums[i-1]:\n",
    "                continue\n",
    "            # nums[i+1:] if numbers could not be used multiple times\n",
    "            # nums[i:] if numbers could be used multiple times\n",
    "            self.backtrack(nums[i+1:],target-nums[i],path+[nums[i]],ans)\n",
    "    def combineSum(self,nums,target):\n",
    "        path,ans = [],[]\n",
    "        self.backtrack(sorted(nums),target,path,ans) #if not sorted, would get duplicated results\n",
    "        return ans"
   ]
  },
  {
   "cell_type": "code",
   "execution_count": 5,
   "metadata": {},
   "outputs": [
    {
     "data": {
      "text/plain": [
       "[[1, 1, 6], [1, 2, 5], [1, 7], [2, 6]]"
      ]
     },
     "execution_count": 5,
     "metadata": {},
     "output_type": "execute_result"
    }
   ],
   "source": [
    "solution = Solution()\n",
    "solution.combineSum([10,1,2,7,6,1,5],8)"
   ]
  },
  {
   "cell_type": "markdown",
   "metadata": {},
   "source": [
    "## Palindrome Partitioning"
   ]
  },
  {
   "cell_type": "markdown",
   "metadata": {},
   "source": [
    "Given a string s, partition s such that every substring of the partition is a palindrome.\n",
    "\n",
    "Return all possible palindrome partitioning of s.\n",
    "\n",
    "Example:\n",
    "\n",
    "Input: \"aab\"\n",
    "\n",
    "Output:\n",
    "[\n",
    "  [\"aa\",\"b\"],\n",
    "  [\"a\",\"a\",\"b\"]\n",
    "]"
   ]
  },
  {
   "cell_type": "code",
   "execution_count": 120,
   "metadata": {
    "collapsed": true
   },
   "outputs": [],
   "source": [
    "class Solution:\n",
    "    def isPalindrome(self,s):\n",
    "        return (s==s[::-1])\n",
    "    \n",
    "    def backtrack(self,s,path,ans):\n",
    "        if not s:\n",
    "            ans.append(path.copy())\n",
    "            return\n",
    "        for i in range(1,len(s)+1): #add 1 for string slicing\n",
    "            if self.isPalindrome(s[:i]):\n",
    "                # if s[:i] is palindrome, then continue to partition s[i:]\n",
    "                self.backtrack(s[i:],path+[s[:i]],ans)\n",
    "    def partition(self,s):\n",
    "        path,ans = [],[]\n",
    "        self.backtrack(s,path,ans)\n",
    "        return ans"
   ]
  },
  {
   "cell_type": "code",
   "execution_count": 121,
   "metadata": {},
   "outputs": [
    {
     "data": {
      "text/plain": [
       "[['a', 'a', 'b'], ['aa', 'b']]"
      ]
     },
     "execution_count": 121,
     "metadata": {},
     "output_type": "execute_result"
    }
   ],
   "source": [
    "solution = Solution()\n",
    "solution.partition(\"aab\")"
   ]
  },
  {
   "cell_type": "markdown",
   "metadata": {},
   "source": [
    "## Word Search"
   ]
  },
  {
   "cell_type": "markdown",
   "metadata": {},
   "source": [
    "https://leetcode.com/explore/interview/card/top-interview-questions-medium/109/backtracking/797/"
   ]
  },
  {
   "cell_type": "markdown",
   "metadata": {},
   "source": [
    "### Solution1: Backtrack -- find all potential path"
   ]
  },
  {
   "cell_type": "code",
   "execution_count": 1,
   "metadata": {
    "collapsed": true
   },
   "outputs": [],
   "source": [
    "class Solution:\n",
    "    def backtrack(self,board,word,i,j):\n",
    "        if len(word) == 0:\n",
    "            return True\n",
    "        if i<0 or i>=len(board) or j<0 or j>=len(board[0]) or board[i][j]!=word[0]:\n",
    "            return False\n",
    "        board[i][j] = \"#\" #mark as visited\n",
    "        res =  self.backtrack(board,word[1:],i+1,j) or self.backtrack(board,word[1:],i-1,j) \\\n",
    "        or self.backtrack(board,word[1:],i,j+1) or self.backtrack(board,word[1:],i,j-1)\n",
    "        board[i][j] = word[0]  #change to original value\n",
    "        return res\n",
    "            \n",
    "    def exist(self,board,word):\n",
    "        if not board:\n",
    "            return False\n",
    "        for i in range(len(board)):\n",
    "            for j in range(len(board[0])):\n",
    "                if self.backtrack(board,word,i,j):\n",
    "                    return True\n",
    "        return False"
   ]
  },
  {
   "cell_type": "code",
   "execution_count": 2,
   "metadata": {},
   "outputs": [
    {
     "data": {
      "text/plain": [
       "True"
      ]
     },
     "execution_count": 2,
     "metadata": {},
     "output_type": "execute_result"
    }
   ],
   "source": [
    "solution = Solution()\n",
    "solution.exist(board =\n",
    "[\n",
    "  ['A','B','C','E'],\n",
    "  ['S','F','C','S'],\n",
    "  ['A','D','E','E']\n",
    "],word=\"ABCCED\")"
   ]
  },
  {
   "cell_type": "markdown",
   "metadata": {},
   "source": [
    "## Longest Increasing Path in a Matrix"
   ]
  },
  {
   "cell_type": "markdown",
   "metadata": {},
   "source": [
    "https://leetcode.com/explore/interview/card/top-interview-questions-hard/118/trees-and-graphs/849/"
   ]
  },
  {
   "cell_type": "markdown",
   "metadata": {},
   "source": [
    "### Solution1: Backtrack (may exceed time limit)"
   ]
  },
  {
   "cell_type": "code",
   "execution_count": 37,
   "metadata": {
    "collapsed": true
   },
   "outputs": [],
   "source": [
    "class Solution:\n",
    "    def increasingPath(self, nums):\n",
    "        if not nums: return 0\n",
    "        path, res = [-sys.maxsize], []\n",
    "        for i in range(len(nums)):\n",
    "            for j in range(len(nums[0])):\n",
    "                self.backtrack(nums, path, res, i, j)\n",
    "        return max([len(p)-1 for p in res])\n",
    "        \n",
    "    \n",
    "    def backtrack(self, nums, path, res, i, j):\n",
    "        if i<0 or i>=len(nums) or j<0 or j>=len(nums[0]) or nums[i][j]<=path[-1]:\n",
    "            res.append(path)\n",
    "            return\n",
    "        #val = nums[i][j]\n",
    "        self.backtrack(nums, path+[nums[i][j]], res, i+1, j)\n",
    "        self.backtrack(nums, path+[nums[i][j]], res, i-1, j)\n",
    "        self.backtrack(nums, path+[nums[i][j]], res, i, j+1)\n",
    "        self.backtrack(nums, path+[nums[i][j]], res, i, j-1)\n",
    "        #nums[i][j] = val\n",
    "        \n",
    "        "
   ]
  },
  {
   "cell_type": "code",
   "execution_count": 38,
   "metadata": {},
   "outputs": [
    {
     "data": {
      "text/plain": [
       "4"
      ]
     },
     "execution_count": 38,
     "metadata": {},
     "output_type": "execute_result"
    }
   ],
   "source": [
    "solution = Solution()\n",
    "solution.increasingPath(nums = \n",
    "[\n",
    "  [9,9,4],\n",
    "  [6,6,8],\n",
    "  [2,1,1]\n",
    "] )"
   ]
  },
  {
   "cell_type": "markdown",
   "metadata": {},
   "source": [
    "### Solution2: Dynamic Programming"
   ]
  },
  {
   "cell_type": "markdown",
   "metadata": {},
   "source": [
    "Use dp to record previous results and choose the max dp value of smaller neighbors."
   ]
  },
  {
   "cell_type": "code",
   "execution_count": 68,
   "metadata": {
    "collapsed": true
   },
   "outputs": [],
   "source": [
    "class Solution:\n",
    "    def increasingPath(self, nums):\n",
    "        if not nums or not nums[0]: return 0\n",
    "        self.M = len(nums)\n",
    "        self.N = len(nums[0])\n",
    "        self.dp = [[0 for i in range(self.N)]  for j in range(self.M)] \n",
    "        # or  self.dp = [[0]*N for i in range(M)]\n",
    "        # note: can not be [[0]*N]*M\n",
    "        # this does shallow copy of first rows to all other M rows.\n",
    "        # so if you change any of the row entry, all gets changed.\n",
    "        res = []\n",
    "        for i in range(self.M):\n",
    "            for j in range(self.N):\n",
    "                res.append(self.dynamicProgramming(i,j,nums))\n",
    "        print(res)\n",
    "        return max(res)\n",
    "        \n",
    "    def dynamicProgramming(self,i, j,nums):\n",
    "        if not self.dp[i][j]:\n",
    "            val = nums[i][j]\n",
    "            self.dp[i][j] = 1 + max(self.dynamicProgramming(i+1,j,nums) if i<self.M-1 and nums[i+1][j]>val else 0,\n",
    "                               self.dynamicProgramming(i-1,j,nums) if i>0 and nums[i-1][j]>val else 0,\n",
    "                               self.dynamicProgramming(i,j-1,nums) if j>0 and nums[i][j-1]>val else 0,\n",
    "                               self.dynamicProgramming(i,j+1,nums) if j<self.N-1 and nums[i][j+1]>val else 0)\n",
    "        return self.dp[i][j]\n",
    "        "
   ]
  },
  {
   "cell_type": "code",
   "execution_count": 69,
   "metadata": {},
   "outputs": [
    {
     "name": "stdout",
     "output_type": "stream",
     "text": [
      "[1, 1, 2, 2, 2, 1, 3, 4, 2]\n"
     ]
    },
    {
     "data": {
      "text/plain": [
       "4"
      ]
     },
     "execution_count": 69,
     "metadata": {},
     "output_type": "execute_result"
    }
   ],
   "source": [
    "solution = Solution()\n",
    "solution.increasingPath(nums = \n",
    "[\n",
    "  [9,9,4],\n",
    "  [6,6,8],\n",
    "  [2,1,1]\n",
    "] )"
   ]
  },
  {
   "cell_type": "markdown",
   "metadata": {},
   "source": [
    "## Number of island"
   ]
  },
  {
   "cell_type": "markdown",
   "metadata": {},
   "source": [
    "https://leetcode.com/problems/number-of-islands/"
   ]
  },
  {
   "cell_type": "markdown",
   "metadata": {},
   "source": [
    "Given an m x n 2d grid map of '1's (land) and '0's (water), return the number of islands.\n",
    "\n",
    "An island is surrounded by water and is formed by connecting adjacent lands horizontally or vertically. You may assume all four edges of the grid are all surrounded by water.\n",
    "\n",
    " \n",
    "\n",
    "Example 1:\n",
    "\n",
    "Input: grid = [\n",
    "  [\"1\",\"1\",\"1\",\"1\",\"0\"],\n",
    "  [\"1\",\"1\",\"0\",\"1\",\"0\"],\n",
    "  [\"1\",\"1\",\"0\",\"0\",\"0\"],\n",
    "  [\"0\",\"0\",\"0\",\"0\",\"0\"]\n",
    "]\n",
    "\n",
    "Output: 1\n",
    "\n",
    "Example 2:\n",
    "\n",
    "Input: grid = [\n",
    "  [\"1\",\"1\",\"0\",\"0\",\"0\"],\n",
    "  [\"1\",\"1\",\"0\",\"0\",\"0\"],\n",
    "  [\"0\",\"0\",\"1\",\"0\",\"0\"],\n",
    "  [\"0\",\"0\",\"0\",\"1\",\"1\"]\n",
    "]\n",
    "\n",
    "Output: 3\n",
    " \n",
    "\n",
    "Constraints:\n",
    "\n",
    "m == grid.length\n",
    "n == grid[i].length\n",
    "1 <= m, n <= 300\n",
    "grid[i][j] is '0' or '1'."
   ]
  },
  {
   "cell_type": "markdown",
   "metadata": {},
   "source": [
    "### Solution: Backtrack(DFS)"
   ]
  },
  {
   "cell_type": "code",
   "execution_count": 7,
   "metadata": {
    "collapsed": true
   },
   "outputs": [],
   "source": [
    "class Solution:\n",
    "    def backtrack(self,board,i,j):\n",
    "        if i<0 or i>=len(board) or j<0 or j>=len(board[0]) or board[i][j]!='1':\n",
    "            return \n",
    "        # mark all '1' as '#'\n",
    "        board[i][j] = \"#\"\n",
    "        self.backtrack(board,i+1,j)\n",
    "        self.backtrack(board,i-1,j)\n",
    "        self.backtrack(board,i,j+1)\n",
    "        self.backtrack(board,i,j-1)\n",
    "            \n",
    "    def exist(self,board):\n",
    "        if not board:\n",
    "            return 0\n",
    "        count = 0\n",
    "        for i in range(len(board)):\n",
    "            for j in range(len(board[0])):\n",
    "                if board[i][j]=='1':\n",
    "                    self.backtrack(board,i,j)\n",
    "                    count+=1\n",
    "        return count"
   ]
  },
  {
   "cell_type": "markdown",
   "metadata": {},
   "source": [
    "# Hard"
   ]
  },
  {
   "cell_type": "markdown",
   "metadata": {},
   "source": [
    "## Surrounded Regions"
   ]
  },
  {
   "cell_type": "markdown",
   "metadata": {},
   "source": [
    "https://leetcode.com/explore/interview/card/top-interview-questions-hard/118/trees-and-graphs/843/"
   ]
  },
  {
   "cell_type": "markdown",
   "metadata": {},
   "source": [
    "In this problem we need to understand, what exactly surrouned by 'X' means. It actually means that if we start from 'O' at the border, and we traverse only 'O', only those 'O' are not surrouned by 'X'. So the plan is the following:\n",
    "\n",
    "Start dfs or bfs from all 'O', which are on the border.\n",
    "\n",
    "When we traverse them, let us color them as 'T', temporary color.\n",
    "\n",
    "Now, when we traverse all we wanted, all colors which are not 'T' need to renamed to 'X' and all \n",
    "colors which are 'T' need to be renamed to 'O', and that is all!"
   ]
  },
  {
   "cell_type": "code",
   "execution_count": null,
   "metadata": {
    "collapsed": true
   },
   "outputs": [],
   "source": [
    "class Solution:\n",
    "    def surroundedRegions(self, board):\n",
    "        if not board or not board[0]:\n",
    "            return \n",
    "        for i in [0, len(board)-1]:\n",
    "            for j in range(len(board[0])):\n",
    "                if board[i][j] == 'O':\n",
    "                    self.backtrack(board,i,j)  \n",
    "        for j in [0, len(board[0])-1]:\n",
    "            for i in range(len(board)):\n",
    "                if board[i][j] == 'O':\n",
    "                    self.backtrack(board,i,j)\n",
    "        for i in range(len(board)):\n",
    "            for j in range(len(board[0])):\n",
    "                if board[i][j] == 'O':\n",
    "                    board[i][j] = 'X'\n",
    "                elif board[i][j] == 'T':\n",
    "                    board[i][j] = 'O'\n",
    "        \n",
    "    def backtrack(self, board, i, j):\n",
    "#       if i<0 or  i>=len(board) or j<0 or j>= len(board[0]) or board[i][j] != 'O': return\n",
    "        if 0 <= i < len(board) and 0 <= j < len(board[0]) and board[i][j] == 'O':\n",
    "            board[i][j] == 'T'\n",
    "            self.backtrack(board,i+1,j)\n",
    "            self.backtrack(board,i-1,j)\n",
    "            self.backtrack(board,i,j+1)\n",
    "            self.backtrack(board,i,j-1)"
   ]
  },
  {
   "cell_type": "markdown",
   "metadata": {},
   "source": [
    "## Friend Circles"
   ]
  },
  {
   "cell_type": "markdown",
   "metadata": {},
   "source": [
    "https://leetcode.com/explore/interview/card/top-interview-questions-hard/118/trees-and-graphs/846"
   ]
  },
  {
   "cell_type": "markdown",
   "metadata": {},
   "source": [
    "### Difference between Number of Island and Friends Circle"
   ]
  },
  {
   "cell_type": "markdown",
   "metadata": {},
   "source": [
    "https://leetcode.com/explore/interview/card/top-interview-questions-hard/118/trees-and-graphs/846/discuss/101431/Stupid-question:-How-is-this-question-different-from-Number-of-Islands"
   ]
  },
  {
   "cell_type": "markdown",
   "metadata": {},
   "source": [
    "In the Number of Islands question, you have a 2d grid. The number of \"Nodes\" if you will, are the cells of the grid. So you have rows x columns in terms of the total number of nodes. Furthermore, the edges are represented by checking whether the adjacent members are the 1 or not. This is why when you perform DFS, you need to have checks in all 4 directions to add the neighbors.\n",
    "\n",
    "In this question, you have a NxN matrix but only N friends in total. Edges are directly given via the cells so you have to traverse a row (versus a 4 direction check) to get the neighbors for a specific matrix. In the Number of Islands question, you can track visited by editing the original matrix. In this question, a separate array of length N can be used."
   ]
  },
  {
   "cell_type": "markdown",
   "metadata": {},
   "source": [
    "### Solution: DFS"
   ]
  },
  {
   "cell_type": "code",
   "execution_count": 14,
   "metadata": {
    "collapsed": true
   },
   "outputs": [],
   "source": [
    "class Solution:\n",
    "    def friendCircle(self, M):\n",
    "        if not M: return 0\n",
    "        visit = [False] * len(M)\n",
    "        count = 0\n",
    "        for i in range(len(M)):\n",
    "            if visit[i] == False: # ith \n",
    "                count += 1\n",
    "                self.dfs(M, visit, i) #DFS i's friends\n",
    "                visit[i] == True\n",
    "        return count\n",
    "        \n",
    "        \n",
    "    def dfs(self, M, visit, i):\n",
    "        for j in range(len(M)):\n",
    "            if i != j and visit[j]==False and M[i][j]==1: #i and j are friends\n",
    "                visit[j] = True\n",
    "                #print(visit)\n",
    "                self.dfs(M, visit, j) #DFS j's friends\n",
    "            "
   ]
  },
  {
   "cell_type": "code",
   "execution_count": 15,
   "metadata": {},
   "outputs": [
    {
     "name": "stdout",
     "output_type": "stream",
     "text": [
      "[False, True, False]\n",
      "[True, True, False]\n",
      "[True, True, True]\n"
     ]
    },
    {
     "data": {
      "text/plain": [
       "1"
      ]
     },
     "execution_count": 15,
     "metadata": {},
     "output_type": "execute_result"
    }
   ],
   "source": [
    "solution = Solution()\n",
    "solution.friendCircle([[1,1,0],\n",
    " [1,1,1],\n",
    " [0,1,1]])"
   ]
  },
  {
   "cell_type": "markdown",
   "metadata": {},
   "source": [
    "## Course Schedule"
   ]
  },
  {
   "cell_type": "markdown",
   "metadata": {},
   "source": [
    "https://leetcode.com/explore/interview/card/top-interview-questions-hard/118/trees-and-graphs/847"
   ]
  },
  {
   "cell_type": "markdown",
   "metadata": {},
   "source": [
    "### Solution: Topological (DFS)"
   ]
  },
  {
   "cell_type": "markdown",
   "metadata": {},
   "source": [
    "https://leetcode.com/explore/interview/card/top-interview-questions-hard/118/trees-and-graphs/847/discuss/58586/Python-20-lines-DFS-solution-sharing-with-explanation"
   ]
  },
  {
   "cell_type": "markdown",
   "metadata": {},
   "source": [
    "if node v has not been visited, then mark it as 0.\n",
    "\n",
    "if node v is being visited, then mark it as -1. If we find a vertex marked as -1 in DFS, then their is a ring.\n",
    "\n",
    "if node v has been visited, then mark it as 1. If a vertex was marked as 1, then no ring contains v or its successors."
   ]
  },
  {
   "cell_type": "code",
   "execution_count": 2,
   "metadata": {
    "collapsed": true
   },
   "outputs": [],
   "source": [
    "class Solution:\n",
    "    def courseSchedule(self, numCourses, prerequisites):\n",
    "        visit = [0 for _ in range(numCourses)]\n",
    "        graph = [[] for _ in range(numCourses)]\n",
    "        for course, pre in prerequisites:\n",
    "            graph[course].append(pre)\n",
    "        \n",
    "        for i in range(numCourses):\n",
    "            if not self.dfs(visit, graph, i):\n",
    "                return False #only return False when finding a circle\n",
    "        return True #return True when all the courses are visited and no circle is found\n",
    "        \n",
    "    def dfs(self, visit, graph, i):\n",
    "        if visit[i] == -1: #find a circle\n",
    "            return False\n",
    "        if visit[i] == 1: return True\n",
    "        visit[i] = -1 #mark it as being visited\n",
    "        for j in graph[i]: #visit i'th pre\n",
    "            if not self.dfs(visit, graph, j):\n",
    "                return False #only return False when finding a circle\n",
    "        \n",
    "        visit[i] = 1 #finish visiting\n",
    "        return True"
   ]
  },
  {
   "cell_type": "markdown",
   "metadata": {},
   "source": [
    "## Course Schedule II"
   ]
  },
  {
   "cell_type": "markdown",
   "metadata": {},
   "source": [
    "https://leetcode.com/explore/interview/card/top-interview-questions-hard/118/trees-and-graphs/848/"
   ]
  },
  {
   "cell_type": "markdown",
   "metadata": {},
   "source": [
    "### Solution: Topological (DFS)"
   ]
  },
  {
   "cell_type": "markdown",
   "metadata": {},
   "source": [
    "https://leetcode.com/explore/interview/card/top-interview-questions-hard/118/trees-and-graphs/848/discuss/942200/Python-same-with-the-Leetcode-solution-with-extra-explanation"
   ]
  },
  {
   "cell_type": "code",
   "execution_count": null,
   "metadata": {
    "collapsed": true
   },
   "outputs": [],
   "source": [
    "class Solution:\n",
    "    def courseSchedule(self, numCourses, prerequisites):\n",
    "        visit = [0 for _ in range(numCourses)]\n",
    "        # 0 has not been visited\n",
    "        # -1 being visited\n",
    "        # 1 has been visited\n",
    "        graph = [[] for _ in range(numCourses)]\n",
    "        for course, pre in prerequisites:\n",
    "            graph[course].append(pre)\n",
    "        ans = []\n",
    "        self.is_possible = True\n",
    "        for i in range(numCourses):\n",
    "            if visit[i] == 0:\n",
    "                self.dfs(visit, graph, i, ans)\n",
    "        if self.is_possible == False:\n",
    "            return []\n",
    "        else:\n",
    "            return ans\n",
    "        \n",
    "    def dfs(self, visit, graph, i, ans):\n",
    "        if visit[i] == -1: #find a circle\n",
    "            self.is_possible = False\n",
    "            return \n",
    "        visit[i] = -1 #mark it as being visited\n",
    "        \n",
    "        for j in graph[i]: #visit i'th pre\n",
    "            if visit[j] == 0:\n",
    "                self.dfs(visit, graph, j, ans)\n",
    "            elif visit[j] == -1:\n",
    "                self.is_possible = False\n",
    "                return  #only return False when finding a circle\n",
    "        visit[i] = 1 #finish visiting\n",
    "        ans.append(i)"
   ]
  },
  {
   "cell_type": "markdown",
   "metadata": {},
   "source": [
    "## Word Ladder"
   ]
  },
  {
   "cell_type": "markdown",
   "metadata": {},
   "source": [
    "https://leetcode.com/explore/interview/card/top-interview-questions-hard/118/trees-and-graphs/842/"
   ]
  },
  {
   "cell_type": "markdown",
   "metadata": {},
   "source": [
    "### Solution1: Backtrack\n",
    "\n"
   ]
  },
  {
   "cell_type": "code",
   "execution_count": 4,
   "metadata": {
    "collapsed": true
   },
   "outputs": [],
   "source": [
    "class Solution:\n",
    "    def wordLadder(self, beginWord, endWord, wordList):\n",
    "        if not endWord: return 0\n",
    "        if endWord not in wordList:\n",
    "            return 0\n",
    "        path, res = [], []\n",
    "        self.dic = {}\n",
    "        self.backtrack(beginWord, endWord, wordList, path, res)\n",
    "        print(res)\n",
    "        if len(res) == 0: return 0\n",
    "        else:\n",
    "            return min([len(p) for p in res]) +2 #add beginWord and endWord\n",
    "    \n",
    "    def backtrack(self, beginWord, endWord, wordList, path, res):\n",
    "#         print(endWord)\n",
    "#         print(wordList)\n",
    "        if self.queryDict(beginWord, endWord)==1:\n",
    "            res.append(path[::-1].copy()) \n",
    "            #print(res)\n",
    "        if not wordList: return\n",
    "        for i in range(len(wordList)):\n",
    "            if self.queryDict(wordList[i], endWord)==1: #new wordList should remove w\n",
    "                self.backtrack(beginWord, wordList[i], wordList[:i]+wordList[i+1:], path+[wordList[i]], res)\n",
    "    \n",
    "    def queryDict(self, s1, s2):\n",
    "        if s1+\"-\"+s2 in self.dic:\n",
    "            return self.dic[s1+\"-\"+s2]\n",
    "        elif s2+\"-\"+s1 in self.dic:\n",
    "            return self.dic[s2+\"-\"+s1]\n",
    "        else:\n",
    "            self.dic[s1+\"-\"+s2] = self.countDiff(s1, s2)\n",
    "            return self.dic[s1+\"-\"+s2]\n",
    "    \n",
    "    def countDiff(self, s1, s2):\n",
    "        if s1 == s2:\n",
    "            return len(s1)\n",
    "        count = 0\n",
    "        for i in range(len(s1)):\n",
    "            if s1[i]!=s2[i]:\n",
    "                count += 1\n",
    "        return count\n",
    "            "
   ]
  },
  {
   "cell_type": "code",
   "execution_count": 5,
   "metadata": {},
   "outputs": [
    {
     "name": "stdout",
     "output_type": "stream",
     "text": [
      "[['hot', 'dot', 'dog'], ['hot', 'lot', 'dot', 'dog'], ['hot', 'lot', 'log', 'dog'], ['hot', 'dot', 'lot', 'log', 'dog'], ['hot', 'lot', 'log', 'cog', 'dog'], ['hot', 'dot', 'lot', 'log', 'cog', 'dog'], ['hot', 'dot', 'dog', 'log'], ['hot', 'lot', 'dot', 'dog', 'log'], ['hot', 'lot', 'log'], ['hot', 'dot', 'lot', 'log'], ['hot', 'dot', 'dog', 'cog', 'log'], ['hot', 'lot', 'dot', 'dog', 'cog', 'log']]\n"
     ]
    },
    {
     "data": {
      "text/plain": [
       "5"
      ]
     },
     "execution_count": 5,
     "metadata": {},
     "output_type": "execute_result"
    }
   ],
   "source": [
    "solution = Solution()\n",
    "solution.wordLadder(beginWord = \"hit\",\n",
    "endWord = \"cog\",\n",
    "wordList = [\"hot\",\"dot\",\"dog\",\"lot\",\"log\",\"cog\"])"
   ]
  },
  {
   "cell_type": "markdown",
   "metadata": {},
   "source": [
    "## Cherry Pickup"
   ]
  },
  {
   "cell_type": "markdown",
   "metadata": {},
   "source": [
    "https://leetcode.com/problems/cherry-pickup/"
   ]
  },
  {
   "cell_type": "markdown",
   "metadata": {},
   "source": [
    "### Solution: Backtrack(DFS) + memo"
   ]
  },
  {
   "cell_type": "markdown",
   "metadata": {},
   "source": [
    "two passes --> two robots start from (0,0)"
   ]
  },
  {
   "cell_type": "code",
   "execution_count": null,
   "metadata": {},
   "outputs": [],
   "source": [
    "class Solution:\n",
    "    def cherryPickup(self, grid):\n",
    "        self.memo = {}\n",
    "        res = self.dfs(grid, 0, 0, 0,0)\n",
    "        return res if res > 0 else 0\n",
    "        \n",
    "        \n",
    "    def dfs(self, grid, i1, j1, i2, j2):\n",
    "        # out of the grid and thorn check\n",
    "        if i1==len(grid) or j1==len(grid[0]) or i2==len(grid) or j2==len(grid[0]) or grid[i1][j1]==-1 or grid[i2][j2]==-1:\n",
    "            return -float('inf')\n",
    "        \n",
    "        # check if we reach the bottom\n",
    "        if i1 == len(grid)-1 and j1==len(grid[0])-1:\n",
    "            return grid[i1][j1] if grid[i1][j1]!=-1 else -float('inf')\n",
    "        \n",
    "        # check memo\n",
    "        if (i1, j1, i2, j2) in self.memo:\n",
    "            return self.memo[(i1, j1, i2, j2)]\n",
    "        \n",
    "        # pick cherry of current location\n",
    "        if i1==i2 and j1==j2:\n",
    "            cherry = grid[i1][j1]\n",
    "        else:\n",
    "            cherry = grid[i1][j1] + grid[i2][j2]\n",
    "        \n",
    "        # dfs \n",
    "        cherries = []\n",
    "        cherries.append(self.dfs(grid, i1+1, j1, i2+1, j2))\n",
    "        cherries.append(self.dfs(grid, i1+1, j1, i2, j2+1))\n",
    "        cherries.append(self.dfs(grid, i1, j1+1, i2+1, j2))\n",
    "        cherries.append(self.dfs(grid, i1, j1+1, i2, j2+1))\n",
    "        res = cherry + max(cherries)\n",
    "                                \n",
    "        #update memo\n",
    "        self.memo[(i1, j1, i2, j2)] = res\n",
    "        return res"
   ]
  },
  {
   "cell_type": "markdown",
   "metadata": {
    "collapsed": true
   },
   "source": [
    "## Cherry Pickup II"
   ]
  },
  {
   "cell_type": "markdown",
   "metadata": {},
   "source": [
    "https://leetcode.com/explore/challenge/card/december-leetcoding-challenge/571/week-3-december-15th-december-21st/3571"
   ]
  },
  {
   "cell_type": "markdown",
   "metadata": {},
   "source": [
    "### Solution1: Backtrack(DFS)"
   ]
  },
  {
   "cell_type": "markdown",
   "metadata": {},
   "source": [
    "may exceed time limit"
   ]
  },
  {
   "cell_type": "code",
   "execution_count": 4,
   "metadata": {},
   "outputs": [],
   "source": [
    "class Solution:\n",
    "    def cherryPickup(self, grid):\n",
    "        count = 0\n",
    "        res = []\n",
    "        self.dfs(grid, 0, 0, len(grid[0])-1, count, res)\n",
    "        return max(res)\n",
    "        \n",
    "        \n",
    "    def dfs(self, grid, i, j1, j2, count, res):\n",
    "#         print(i, j1, j2)\n",
    "        if j1<0 or j1==len(grid[0]) or j2<0 or j2==len(grid[0]):\n",
    "            return \n",
    "        if i == len(grid):\n",
    "            res.append(count)\n",
    "            return \n",
    "        for step1 in [0, -1, 1]:\n",
    "            for step2 in [0, -1, 1]:\n",
    "                if j1 == j2: #note: j1. j2\n",
    "                    self.dfs(grid, i+1, j1+step1, j2+step2, count+grid[i][j1],res)\n",
    "                else:\n",
    "                    self.dfs(grid, i+1, j1+step1, j2+step2, count+grid[i][j1] + grid[i][j2], res)"
   ]
  },
  {
   "cell_type": "code",
   "execution_count": 5,
   "metadata": {},
   "outputs": [
    {
     "data": {
      "text/plain": [
       "22"
      ]
     },
     "execution_count": 5,
     "metadata": {},
     "output_type": "execute_result"
    }
   ],
   "source": [
    "solution = Solution()\n",
    "solution.cherryPickup([[1,0,0,3],[0,0,0,3],[0,0,3,3],[9,0,3,3]])"
   ]
  },
  {
   "cell_type": "code",
   "execution_count": 7,
   "metadata": {},
   "outputs": [
    {
     "data": {
      "text/plain": [
       "28"
      ]
     },
     "execution_count": 7,
     "metadata": {},
     "output_type": "execute_result"
    }
   ],
   "source": [
    "solution = Solution()\n",
    "solution.cherryPickup([[1,0,0,0,0,0,1],[2,0,0,0,0,3,0],[2,0,9,0,0,0,0],[0,3,0,5,4,0,0],[1,0,2,3,0,0,6]])"
   ]
  },
  {
   "cell_type": "markdown",
   "metadata": {},
   "source": [
    "### Solution2: Backtrack(DFS) + memo"
   ]
  },
  {
   "cell_type": "code",
   "execution_count": 11,
   "metadata": {},
   "outputs": [],
   "source": [
    "class Solution:\n",
    "    def cherryPickup(self, grid):\n",
    "        self.memo = {}\n",
    "        res = self.dfs(grid, 0, 0, len(grid[0])-1)\n",
    "        return res if res > 0 else 0\n",
    "        \n",
    "        \n",
    "    def dfs(self, grid, i, j1, j2):\n",
    "        # out of the grid and thorn check\n",
    "        if j1<0 or j1==len(grid[0]) or j2<0 or j2==len(grid[0]):\n",
    "            return -float('inf')\n",
    "        \n",
    "        # check if we reach the bottom\n",
    "        if i == len(grid):\n",
    "            return 0\n",
    "        \n",
    "        # check memo\n",
    "        if (i, j1, j2) in self.memo:\n",
    "            return self.memo[(i, j1,j2)]\n",
    "        \n",
    "        # pick cherry of current location\n",
    "        if j1==j2:\n",
    "            cherry = grid[i][j1]\n",
    "        else:\n",
    "            cherry = grid[i][j1] + grid[i][j2]\n",
    "        \n",
    "        # dfs \n",
    "        cherries = []\n",
    "        for step1 in [0, -1, 1]:\n",
    "            for step2 in [0, -1, 1]:\n",
    "                cherries.append(self.dfs(grid, i+1, j1+step1, j2+step2))\n",
    "        res = cherry + max(cherries)\n",
    "                                \n",
    "        #update memo\n",
    "        self.memo[(i, j1,j2)] = res\n",
    "        return res"
   ]
  },
  {
   "cell_type": "code",
   "execution_count": 12,
   "metadata": {},
   "outputs": [
    {
     "data": {
      "text/plain": [
       "22"
      ]
     },
     "execution_count": 12,
     "metadata": {},
     "output_type": "execute_result"
    }
   ],
   "source": [
    "solution = Solution()\n",
    "solution.cherryPickup([[1,0,0,3],[0,0,0,3],[0,0,3,3],[9,0,3,3]])"
   ]
  },
  {
   "cell_type": "code",
   "execution_count": 13,
   "metadata": {},
   "outputs": [
    {
     "data": {
      "text/plain": [
       "28"
      ]
     },
     "execution_count": 13,
     "metadata": {},
     "output_type": "execute_result"
    }
   ],
   "source": [
    "solution = Solution()\n",
    "solution.cherryPickup([[1,0,0,0,0,0,1],[2,0,0,0,0,3,0],[2,0,9,0,0,0,0],[0,3,0,5,4,0,0],[1,0,2,3,0,0,6]])"
   ]
  },
  {
   "cell_type": "code",
   "execution_count": null,
   "metadata": {},
   "outputs": [],
   "source": []
  }
 ],
 "metadata": {
  "kernelspec": {
   "display_name": "Python 3",
   "language": "python",
   "name": "python3"
  },
  "language_info": {
   "codemirror_mode": {
    "name": "ipython",
    "version": 3
   },
   "file_extension": ".py",
   "mimetype": "text/x-python",
   "name": "python",
   "nbconvert_exporter": "python",
   "pygments_lexer": "ipython3",
   "version": "3.6.8"
  },
  "toc": {
   "base_numbering": 1,
   "nav_menu": {},
   "number_sections": true,
   "sideBar": true,
   "skip_h1_title": false,
   "title_cell": "Table of Contents",
   "title_sidebar": "Contents",
   "toc_cell": true,
   "toc_position": {
    "height": "calc(100% - 180px)",
    "left": "10px",
    "top": "150px",
    "width": "402px"
   },
   "toc_section_display": true,
   "toc_window_display": true
  }
 },
 "nbformat": 4,
 "nbformat_minor": 2
}
