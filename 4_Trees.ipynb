{
 "cells": [
  {
   "cell_type": "markdown",
   "metadata": {
    "toc": true
   },
   "source": [
    "<h1>Table of Contents<span class=\"tocSkip\"></span></h1>\n",
    "<div class=\"toc\"><ul class=\"toc-item\"><li><span><a href=\"#Summary\" data-toc-modified-id=\"Summary-1\"><span class=\"toc-item-num\">1&nbsp;&nbsp;</span>Summary</a></span><ul class=\"toc-item\"><li><span><a href=\"#Traverse-a-tree:-preorder,-inorder,-postorder\" data-toc-modified-id=\"Traverse-a-tree:-preorder,-inorder,-postorder-1.1\"><span class=\"toc-item-num\">1.1&nbsp;&nbsp;</span>Traverse a tree: preorder, inorder, postorder</a></span><ul class=\"toc-item\"><li><span><a href=\"#Solution1:-Recursive\" data-toc-modified-id=\"Solution1:-Recursive-1.1.1\"><span class=\"toc-item-num\">1.1.1&nbsp;&nbsp;</span>Solution1: Recursive</a></span></li><li><span><a href=\"#Solution2:-Iterative-Way-With-Stack\" data-toc-modified-id=\"Solution2:-Iterative-Way-With-Stack-1.1.2\"><span class=\"toc-item-num\">1.1.2&nbsp;&nbsp;</span>Solution2: Iterative Way With Stack</a></span></li><li><span><a href=\"#Solution-3:-Iterative-Way-With-Stack-+-Visited-State\" data-toc-modified-id=\"Solution-3:-Iterative-Way-With-Stack-+-Visited-State-1.1.3\"><span class=\"toc-item-num\">1.1.3&nbsp;&nbsp;</span>Solution 3: Iterative Way With Stack + Visited State</a></span></li></ul></li><li><span><a href=\"#Level-order\" data-toc-modified-id=\"Level-order-1.2\"><span class=\"toc-item-num\">1.2&nbsp;&nbsp;</span>Level order</a></span><ul class=\"toc-item\"><li><span><a href=\"#Solution1:-DFS-+-Recursive-(Preorder)\" data-toc-modified-id=\"Solution1:-DFS-+-Recursive-(Preorder)-1.2.1\"><span class=\"toc-item-num\">1.2.1&nbsp;&nbsp;</span>Solution1: DFS + Recursive (Preorder)</a></span></li><li><span><a href=\"#Solution2:-DFS-+-Interative-way-Stack-with-level\" data-toc-modified-id=\"Solution2:-DFS-+-Interative-way-Stack-with-level-1.2.2\"><span class=\"toc-item-num\">1.2.2&nbsp;&nbsp;</span>Solution2: DFS + Interative way Stack with level</a></span></li><li><span><a href=\"#Solution3:-BFS-+-Quene\" data-toc-modified-id=\"Solution3:-BFS-+-Quene-1.2.3\"><span class=\"toc-item-num\">1.2.3&nbsp;&nbsp;</span>Solution3: BFS + Quene</a></span></li><li><span><a href=\"#Solution4:-BFS-+-level\" data-toc-modified-id=\"Solution4:-BFS-+-level-1.2.4\"><span class=\"toc-item-num\">1.2.4&nbsp;&nbsp;</span>Solution4: BFS + level</a></span></li></ul></li></ul></li><li><span><a href=\"#Easy\" data-toc-modified-id=\"Easy-2\"><span class=\"toc-item-num\">2&nbsp;&nbsp;</span>Easy</a></span><ul class=\"toc-item\"><li><span><a href=\"#Maximum-Depth-of-Binary-Tree\" data-toc-modified-id=\"Maximum-Depth-of-Binary-Tree-2.1\"><span class=\"toc-item-num\">2.1&nbsp;&nbsp;</span>Maximum Depth of Binary Tree</a></span><ul class=\"toc-item\"><li><span><a href=\"#Solution1:-Recursive\" data-toc-modified-id=\"Solution1:-Recursive-2.1.1\"><span class=\"toc-item-num\">2.1.1&nbsp;&nbsp;</span>Solution1: Recursive</a></span></li><li><span><a href=\"#Solution2:-levelorder-traverse\" data-toc-modified-id=\"Solution2:-levelorder-traverse-2.1.2\"><span class=\"toc-item-num\">2.1.2&nbsp;&nbsp;</span>Solution2: levelorder traverse</a></span></li></ul></li><li><span><a href=\"#Validate-Binary-Search-Tree\" data-toc-modified-id=\"Validate-Binary-Search-Tree-2.2\"><span class=\"toc-item-num\">2.2&nbsp;&nbsp;</span>Validate Binary Search Tree</a></span><ul class=\"toc-item\"><li><span><a href=\"#Solution1:-in-order-Traverse(Recursive)\" data-toc-modified-id=\"Solution1:-in-order-Traverse(Recursive)-2.2.1\"><span class=\"toc-item-num\">2.2.1&nbsp;&nbsp;</span>Solution1: in-order Traverse(Recursive)</a></span></li><li><span><a href=\"#Solution2:-in-order-Traverse(Stack)\" data-toc-modified-id=\"Solution2:-in-order-Traverse(Stack)-2.2.2\"><span class=\"toc-item-num\">2.2.2&nbsp;&nbsp;</span>Solution2: in-order Traverse(Stack)</a></span></li></ul></li><li><span><a href=\"#Smallest-Subtree-with-all-the-Deepest-Nodes\" data-toc-modified-id=\"Smallest-Subtree-with-all-the-Deepest-Nodes-2.3\"><span class=\"toc-item-num\">2.3&nbsp;&nbsp;</span>Smallest Subtree with all the Deepest Nodes</a></span></li><li><span><a href=\"#Symmetric-Tree\" data-toc-modified-id=\"Symmetric-Tree-2.4\"><span class=\"toc-item-num\">2.4&nbsp;&nbsp;</span>Symmetric Tree</a></span><ul class=\"toc-item\"><li><span><a href=\"#Solution1:-levelorder\" data-toc-modified-id=\"Solution1:-levelorder-2.4.1\"><span class=\"toc-item-num\">2.4.1&nbsp;&nbsp;</span>Solution1: levelorder</a></span></li><li><span><a href=\"#Solution2:-Stack\" data-toc-modified-id=\"Solution2:-Stack-2.4.2\"><span class=\"toc-item-num\">2.4.2&nbsp;&nbsp;</span>Solution2: Stack</a></span></li></ul></li><li><span><a href=\"#Convert-Sorted-Array-to-Binary-Search-Tree\" data-toc-modified-id=\"Convert-Sorted-Array-to-Binary-Search-Tree-2.5\"><span class=\"toc-item-num\">2.5&nbsp;&nbsp;</span>Convert Sorted Array to Binary Search Tree</a></span><ul class=\"toc-item\"><li><span><a href=\"#Solution1:-Recursive\" data-toc-modified-id=\"Solution1:-Recursive-2.5.1\"><span class=\"toc-item-num\">2.5.1&nbsp;&nbsp;</span>Solution1: Recursive</a></span></li></ul></li></ul></li><li><span><a href=\"#Medium\" data-toc-modified-id=\"Medium-3\"><span class=\"toc-item-num\">3&nbsp;&nbsp;</span>Medium</a></span><ul class=\"toc-item\"><li><span><a href=\"#Binary-Tree-Zigzag-Level-Order-Traversal\" data-toc-modified-id=\"Binary-Tree-Zigzag-Level-Order-Traversal-3.1\"><span class=\"toc-item-num\">3.1&nbsp;&nbsp;</span>Binary Tree Zigzag Level Order Traversal</a></span><ul class=\"toc-item\"><li><span><a href=\"#Solution:-BFS\" data-toc-modified-id=\"Solution:-BFS-3.1.1\"><span class=\"toc-item-num\">3.1.1&nbsp;&nbsp;</span>Solution: BFS</a></span></li></ul></li><li><span><a href=\"#Construct-Binary-Tree-from-Preorder-and-Inorder-Traversal\" data-toc-modified-id=\"Construct-Binary-Tree-from-Preorder-and-Inorder-Traversal-3.2\"><span class=\"toc-item-num\">3.2&nbsp;&nbsp;</span>Construct Binary Tree from Preorder and Inorder Traversal</a></span><ul class=\"toc-item\"><li><span><a href=\"#Solution:-Recursive\" data-toc-modified-id=\"Solution:-Recursive-3.2.1\"><span class=\"toc-item-num\">3.2.1&nbsp;&nbsp;</span>Solution: Recursive</a></span></li></ul></li><li><span><a href=\"#Construct-Binary-Tree-from-Inorder-and-Postorder-Traversal\" data-toc-modified-id=\"Construct-Binary-Tree-from-Inorder-and-Postorder-Traversal-3.3\"><span class=\"toc-item-num\">3.3&nbsp;&nbsp;</span>Construct Binary Tree from Inorder and Postorder Traversal</a></span></li><li><span><a href=\"#Populating-Next-Right-Pointers-in-Each-Node\" data-toc-modified-id=\"Populating-Next-Right-Pointers-in-Each-Node-3.4\"><span class=\"toc-item-num\">3.4&nbsp;&nbsp;</span>Populating Next Right Pointers in Each Node</a></span><ul class=\"toc-item\"><li><span><a href=\"#Solution1:-Recursive\" data-toc-modified-id=\"Solution1:-Recursive-3.4.1\"><span class=\"toc-item-num\">3.4.1&nbsp;&nbsp;</span>Solution1: Recursive</a></span></li><li><span><a href=\"#Solution2:-DFS\" data-toc-modified-id=\"Solution2:-DFS-3.4.2\"><span class=\"toc-item-num\">3.4.2&nbsp;&nbsp;</span>Solution2: DFS</a></span></li></ul></li><li><span><a href=\"#Populating-Next-Right-Pointers-in-Each-Node-II\" data-toc-modified-id=\"Populating-Next-Right-Pointers-in-Each-Node-II-3.5\"><span class=\"toc-item-num\">3.5&nbsp;&nbsp;</span>Populating Next Right Pointers in Each Node II</a></span><ul class=\"toc-item\"><li><span><a href=\"#Solution:-Recursive\" data-toc-modified-id=\"Solution:-Recursive-3.5.1\"><span class=\"toc-item-num\">3.5.1&nbsp;&nbsp;</span>Solution: Recursive</a></span></li></ul></li><li><span><a href=\"#Kth-Smallest-Element-in-a-BST\" data-toc-modified-id=\"Kth-Smallest-Element-in-a-BST-3.6\"><span class=\"toc-item-num\">3.6&nbsp;&nbsp;</span>Kth Smallest Element in a BST</a></span><ul class=\"toc-item\"><li><span><a href=\"#Solution:-Inorder\" data-toc-modified-id=\"Solution:-Inorder-3.6.1\"><span class=\"toc-item-num\">3.6.1&nbsp;&nbsp;</span>Solution: Inorder</a></span></li></ul></li></ul></li><li><span><a href=\"#Hard\" data-toc-modified-id=\"Hard-4\"><span class=\"toc-item-num\">4&nbsp;&nbsp;</span>Hard</a></span><ul class=\"toc-item\"><li><span><a href=\"#Lowest-Common-Ancestor-of-a-Binary-Tree\" data-toc-modified-id=\"Lowest-Common-Ancestor-of-a-Binary-Tree-4.1\"><span class=\"toc-item-num\">4.1&nbsp;&nbsp;</span>Lowest Common Ancestor of a Binary Tree</a></span><ul class=\"toc-item\"><li><span><a href=\"#Solution1:-Backtrack\" data-toc-modified-id=\"Solution1:-Backtrack-4.1.1\"><span class=\"toc-item-num\">4.1.1&nbsp;&nbsp;</span>Solution1: Backtrack</a></span></li></ul></li><li><span><a href=\"#Binary-Tree-Maximum-Path-Sum\" data-toc-modified-id=\"Binary-Tree-Maximum-Path-Sum-4.2\"><span class=\"toc-item-num\">4.2&nbsp;&nbsp;</span>Binary Tree Maximum Path Sum</a></span><ul class=\"toc-item\"><li><span><a href=\"#Solution\" data-toc-modified-id=\"Solution-4.2.1\"><span class=\"toc-item-num\">4.2.1&nbsp;&nbsp;</span>Solution</a></span></li></ul></li><li><span><a href=\"#Path-Sum\" data-toc-modified-id=\"Path-Sum-4.3\"><span class=\"toc-item-num\">4.3&nbsp;&nbsp;</span>Path Sum</a></span><ul class=\"toc-item\"><li><span><a href=\"#Solution1:-DFS-recursive\" data-toc-modified-id=\"Solution1:-DFS-recursive-4.3.1\"><span class=\"toc-item-num\">4.3.1&nbsp;&nbsp;</span>Solution1: DFS recursive</a></span></li><li><span><a href=\"#Solution2:-DFS-recursive-+-Stack\" data-toc-modified-id=\"Solution2:-DFS-recursive-+-Stack-4.3.2\"><span class=\"toc-item-num\">4.3.2&nbsp;&nbsp;</span>Solution2: DFS recursive + Stack</a></span></li></ul></li></ul></li></ul></div>"
   ]
  },
  {
   "cell_type": "markdown",
   "metadata": {},
   "source": [
    "# Summary"
   ]
  },
  {
   "cell_type": "markdown",
   "metadata": {},
   "source": [
    "## Traverse a tree: preorder, inorder, postorder"
   ]
  },
  {
   "cell_type": "markdown",
   "metadata": {},
   "source": [
    "https://leetcode.com/explore/learn/card/data-structure-tree/134/traverse-a-tree/992/"
   ]
  },
  {
   "cell_type": "markdown",
   "metadata": {},
   "source": [
    "### Solution1: Recursive"
   ]
  },
  {
   "cell_type": "code",
   "execution_count": null,
   "metadata": {},
   "outputs": [],
   "source": [
    "class TreeNode:\n",
    "    def __init__(self, val=0, left=None, right=None):\n",
    "        self.val = val\n",
    "        self.left = left\n",
    "        self.right = right\n",
    "class Solution:\n",
    "    def postorderTraversal(self, root: TreeNode):\n",
    "        res = []\n",
    "        self.helper(root,res)\n",
    "        return res\n",
    "        \n",
    "    def helper(self,root,res):\n",
    "        if root:\n",
    "            self.helper(root.left,res)\n",
    "            self.helper(root.right,res)\n",
    "            res.append(root.val)"
   ]
  },
  {
   "cell_type": "code",
   "execution_count": null,
   "metadata": {},
   "outputs": [],
   "source": [
    "class TreeNode:\n",
    "    def __init__(self, val=0, left=None, right=None):\n",
    "        self.val = val\n",
    "        self.left = left\n",
    "        self.right = right\n",
    "class Solution:\n",
    "    def inorderTraversal(self, root: TreeNode):\n",
    "        res = []\n",
    "        self.helper(root,res)\n",
    "        return res\n",
    "        \n",
    "    def helper(self,root,res):\n",
    "        if root:\n",
    "            self.helper(root.left,res)\n",
    "            res.append(root.val)\n",
    "            self.helper(root.right,res)\n",
    "            "
   ]
  },
  {
   "cell_type": "code",
   "execution_count": null,
   "metadata": {},
   "outputs": [],
   "source": [
    "class TreeNode:\n",
    "    def __init__(self, val=0, left=None, right=None):\n",
    "        self.val = val\n",
    "        self.left = left\n",
    "        self.right = right\n",
    "class Solution:\n",
    "    def preorderTraversal(self, root: TreeNode):\n",
    "        res = []\n",
    "        self.helper(root,res)\n",
    "        return res\n",
    "        \n",
    "    def helper(self,root,res):\n",
    "        if root:\n",
    "            res.append(root.val)\n",
    "            self.helper(root.left,res)\n",
    "            self.helper(root.right,res)       "
   ]
  },
  {
   "cell_type": "markdown",
   "metadata": {},
   "source": [
    "### Solution2: Iterative Way With Stack"
   ]
  },
  {
   "cell_type": "code",
   "execution_count": null,
   "metadata": {},
   "outputs": [],
   "source": [
    "class TreeNode:\n",
    "    def __init__(self, val=0, left=None, right=None):\n",
    "        self.val = val\n",
    "        self.left = left\n",
    "        self.right = right\n",
    "class Solution:\n",
    "    def postorderTraversal(self, root):\n",
    "        res, stack = [], []\n",
    "        while stack or root:\n",
    "            if root:\n",
    "                stack.append(root)\n",
    "                root = root.left\n",
    "            elif stack[-1].right:\n",
    "                root = stack[-1].right\n",
    "                stack[-1].right = None #change right node to NONE\n",
    "            else:\n",
    "                rea.append(root.val) #append root.val last\n",
    "        return res\n",
    "\n",
    "    def inorderTraversal(self, root):\n",
    "        res, stack = [], []\n",
    "        while stack or root:\n",
    "            if root:\n",
    "                stack.append(root)\n",
    "                root = root.left\n",
    "            else:\n",
    "                top = stack.pop()\n",
    "                res.append(top.val) \n",
    "                root = top.right\n",
    "        return res\n",
    "    \n",
    "     def preorderTraversal(self, root):\n",
    "        res, stack = [], []\n",
    "        while stack or root:\n",
    "            if root:\n",
    "                res.append(root.val) #append root.val first\n",
    "                stack.append(root)\n",
    "                root = root.left\n",
    "            else:\n",
    "                top = stack.pop()\n",
    "                root = top.right\n",
    "        return res"
   ]
  },
  {
   "cell_type": "markdown",
   "metadata": {},
   "source": [
    "### Solution 3: Iterative Way With Stack + Visited State"
   ]
  },
  {
   "cell_type": "code",
   "execution_count": null,
   "metadata": {},
   "outputs": [],
   "source": [
    "class TreeNode:\n",
    "    def __init__(self, val=0, left=None, right=None):\n",
    "        self.val = val\n",
    "        self.left = left\n",
    "        self.right = right\n",
    "class Solution:\n",
    "    def postorderTraversal(self, root):\n",
    "        res, stack = [], [(1, root)]\n",
    "        while stack:\n",
    "            p = stack.pop()\n",
    "            if not p[1]:continue\n",
    "            if p[0] !=0:\n",
    "                stack.extend([(0,p[1]),(1,p[1].right),(1,p[1].left)])\n",
    "            if p[0] == 0:\n",
    "                res.append(p[1].val)\n",
    "        return res\n",
    "\n",
    "    def inorderTraversal(self, root):\n",
    "        res, stack = [], [(1, root)]\n",
    "        while stack:\n",
    "            p = stack.pop()\n",
    "            if not p[1]:continue\n",
    "            if p[0] !=0:\n",
    "                stack.extend([(1,p[1].right),(0,p[1]),(1,p[1].left)])\n",
    "            if p[0] == 0:\n",
    "                res.append(p[1].val)\n",
    "        return res\n",
    "    \n",
    "     def preorderTraversal(self, root):\n",
    "        res, stack = [], [(1, root)]\n",
    "        while stack:\n",
    "            p = stack.pop()\n",
    "            if not p[1]:continue\n",
    "            if p[0] !=0:\n",
    "                stack.extend([(1,p[1].right),(1,p[1].left),(0,p[1])])\n",
    "            if p[0] == 0:\n",
    "                res.append(p[1].val)\n",
    "        return res"
   ]
  },
  {
   "cell_type": "markdown",
   "metadata": {},
   "source": [
    "## Level order"
   ]
  },
  {
   "cell_type": "markdown",
   "metadata": {},
   "source": [
    "### Solution1: DFS + Recursive (Preorder)"
   ]
  },
  {
   "cell_type": "code",
   "execution_count": 2,
   "metadata": {},
   "outputs": [],
   "source": [
    "class TreeNode:\n",
    "    def __init__(self, val=0, left=None, right=None):\n",
    "        self.val = val\n",
    "        self.left = left\n",
    "        self.right = right\n",
    "class Solution:\n",
    "    def levelorderTraversal(self, root: TreeNode):\n",
    "        res = []\n",
    "        self.helper(root,0,res)\n",
    "        return res\n",
    "        \n",
    "    def helper(self,root,level,res):\n",
    "        if root:\n",
    "            if len(res)<level+1:\n",
    "                res.append([])\n",
    "            res[level].append(root.val)\n",
    "            self.helper(root.left,level+1,res)\n",
    "            self.helper(root.right,level+1,res)       "
   ]
  },
  {
   "cell_type": "markdown",
   "metadata": {},
   "source": [
    "### Solution2: DFS + Interative way Stack with level"
   ]
  },
  {
   "cell_type": "code",
   "execution_count": null,
   "metadata": {},
   "outputs": [],
   "source": [
    "class TreeNode:\n",
    "    def __init__(self, val=0, left=None, right=None):\n",
    "        self.val = val\n",
    "        self.left = left\n",
    "        self.right = right\n",
    "class Solution:\n",
    "    def levelorderTraversal(self, root: TreeNode):\n",
    "        res, stack= [],[(0,root)] #(level, node)\n",
    "        while stack:\n",
    "            level, node = stack.pop()\n",
    "            if not node:continue\n",
    "            if len(res)<level+1:\n",
    "                res.append([])\n",
    "            res[level].append(node.val)\n",
    "            stack.append((level+1,node.right)) #append right first\n",
    "            stack.append((level+1,node.left))\n",
    "        return res   "
   ]
  },
  {
   "cell_type": "markdown",
   "metadata": {},
   "source": [
    "### Solution3: BFS + Quene"
   ]
  },
  {
   "cell_type": "code",
   "execution_count": null,
   "metadata": {},
   "outputs": [],
   "source": [
    "class TreeNode:\n",
    "    def __init__(self, val=0, left=None, right=None):\n",
    "        self.val = val\n",
    "        self.left = left\n",
    "        self.right = right\n",
    "class Solution:\n",
    "    def levelorderTraversal(self, root: TreeNode):\n",
    "        quene = deque() #initate quene\n",
    "        quene.append((root, 0))\n",
    "        res = []\n",
    "        while quene:\n",
    "            node, level = quene.popleft()#pop from left\n",
    "            if not node:continue\n",
    "            if len(res)<level+1:\n",
    "                res.append([])\n",
    "            res[level].append(node.val)\n",
    "            quene.append((level+1,node.left)) #append left first\n",
    "            quene.append((level+1,node.right))#append right first\n",
    "        return res   "
   ]
  },
  {
   "cell_type": "markdown",
   "metadata": {},
   "source": [
    "### Solution4: BFS + level"
   ]
  },
  {
   "cell_type": "code",
   "execution_count": null,
   "metadata": {},
   "outputs": [],
   "source": [
    "class TreeNode:\n",
    "    def __init__(self, val=0, left=None, right=None):\n",
    "        self.val = val\n",
    "        self.left = left\n",
    "        self.right = right\n",
    "class Solution:\n",
    "    def levelorderTraversal(self, root: TreeNode):\n",
    "        res, level= [],[root] \n",
    "        while level:\n",
    "            res.append(node.val for node in level)\n",
    "            nextlevel = []\n",
    "            for node in level:\n",
    "                nextlevel.extend([node.left,node.right])\n",
    "            level = [leaf for leaf in nextlevel if leaf] #if leaf is neccessary\n",
    "        return res   "
   ]
  },
  {
   "cell_type": "markdown",
   "metadata": {},
   "source": [
    "# Easy"
   ]
  },
  {
   "cell_type": "markdown",
   "metadata": {},
   "source": [
    "## Maximum Depth of Binary Tree"
   ]
  },
  {
   "cell_type": "markdown",
   "metadata": {},
   "source": [
    "link: https://leetcode.com/explore/interview/card/top-interview-questions-easy/94/trees/555/"
   ]
  },
  {
   "cell_type": "markdown",
   "metadata": {},
   "source": [
    "### Solution1: Recursive"
   ]
  },
  {
   "cell_type": "code",
   "execution_count": 2,
   "metadata": {},
   "outputs": [],
   "source": [
    "# Definition for a binary tree node.\n",
    "class TreeNode:\n",
    "    def __init__(self, val=0, left=None, right=None):\n",
    "        self.val = val\n",
    "        self.left = left\n",
    "        self.right = right\n",
    "class Solution:\n",
    "    def maxDepth(self, root: TreeNode) -> int:\n",
    "        if not root: return 0\n",
    "        return 1+max(self.maxDepth(root.left),self.maxDepth(root.right))"
   ]
  },
  {
   "cell_type": "markdown",
   "metadata": {},
   "source": [
    "### Solution2: levelorder traverse"
   ]
  },
  {
   "cell_type": "code",
   "execution_count": 6,
   "metadata": {},
   "outputs": [],
   "source": [
    "# Definition for a binary tree node.\n",
    "class TreeNode:\n",
    "    def __init__(self, val=0, left=None, right=None):\n",
    "        self.val = val\n",
    "        self.left = left\n",
    "        self.right = right\n",
    "class Solution:\n",
    "    def maxDepth(self, root: TreeNode) -> int:\n",
    "        if not root: return 0\n",
    "        #res = []\n",
    "        level = [root]\n",
    "        h = 0\n",
    "        while level:\n",
    "            #res.append(node.val for node in level)\n",
    "            temp = []\n",
    "            for node in level:\n",
    "                temp.extend([node.left,node.right])\n",
    "            level = [leaf for leaf in temp if leaf]\n",
    "            h +=1\n",
    "        return h"
   ]
  },
  {
   "cell_type": "markdown",
   "metadata": {},
   "source": [
    "## Validate Binary Search Tree"
   ]
  },
  {
   "cell_type": "markdown",
   "metadata": {},
   "source": [
    "Given a binary tree, determine if it is a valid binary search tree (BST).\n",
    "\n",
    "Assume a BST is defined as follows:\n",
    "\n",
    "The left subtree of a node contains only nodes with keys less than the node's key.\n",
    "The right subtree of a node contains only nodes with keys greater than the node's key.\n",
    "Both the left and right subtrees must also be binary search trees."
   ]
  },
  {
   "cell_type": "markdown",
   "metadata": {},
   "source": [
    "### Solution1: in-order Traverse(Recursive)"
   ]
  },
  {
   "cell_type": "code",
   "execution_count": null,
   "metadata": {},
   "outputs": [],
   "source": [
    "class TreeNode:\n",
    "    def __init__(self, val=0, left=None, right=None):\n",
    "        self.val = val\n",
    "        self.left = left\n",
    "        self.right = right\n",
    "class Solution:\n",
    "    def isValidBST(self, root: TreeNode) -> bool:\n",
    "        res = []\n",
    "        self.helper(root,res)\n",
    "        for i in range(len(res)-1):\n",
    "            if res[i]>=res[i+1]:\n",
    "                return False\n",
    "        return True\n",
    "        \n",
    "    def helper(self,root,res):\n",
    "        if root:\n",
    "            self.helper(root.left,res)\n",
    "            res.append(root.val)\n",
    "            self.helper(root.right,res)"
   ]
  },
  {
   "cell_type": "markdown",
   "metadata": {},
   "source": [
    "### Solution2: in-order Traverse(Stack)"
   ]
  },
  {
   "cell_type": "code",
   "execution_count": null,
   "metadata": {},
   "outputs": [],
   "source": [
    "class TreeNode:\n",
    "    def __init__(self, val=0, left=None, right=None):\n",
    "        self.val = val\n",
    "        self.left = left\n",
    "        self.right = right\n",
    "class Solution:\n",
    "    def isValidBST(self, root: TreeNode) -> bool:\n",
    "        res = []\n",
    "        stack = []\n",
    "        while stack or root:\n",
    "            if root:\n",
    "                stack.append(root)\n",
    "                root = root.left\n",
    "            else:\n",
    "                top = stack.pop()\n",
    "                res.append(top.val)\n",
    "                root = top.right\n",
    "        for i in range(len(res)-1):\n",
    "            if res[i]>=res[i+1]:\n",
    "                return False\n",
    "        return True\n",
    "            "
   ]
  },
  {
   "cell_type": "markdown",
   "metadata": {},
   "source": [
    "## Smallest Subtree with all the Deepest Nodes"
   ]
  },
  {
   "cell_type": "markdown",
   "metadata": {},
   "source": [
    "https://leetcode.com/explore/challenge/card/december-leetcoding-challenge/570/week-2-december-8th-december-14th/3563/"
   ]
  },
  {
   "cell_type": "code",
   "execution_count": null,
   "metadata": {},
   "outputs": [],
   "source": [
    "# Definition for a binary tree node.\n",
    "# class TreeNode:\n",
    "#     def __init__(self, val=0, left=None, right=None):\n",
    "#         self.val = val\n",
    "#         self.left = left\n",
    "#         self.right = right\n",
    "class Solution:\n",
    "    def subtreeWithAllDeepest(self, root: TreeNode) -> TreeNode:\n",
    "        if not root:\n",
    "            return \n",
    "        node, depth = self.helper(root, 0)\n",
    "        return node\n",
    "    \n",
    "    \n",
    "    def helper(self, node, depth):\n",
    "        if not node:\n",
    "            return node, depth #note: return node, depth\n",
    "        \n",
    "        left, left_depth = self.helper(node.left, depth+1)\n",
    "        right, right_depth = self.helper(node.right, depth+1)\n",
    "        \n",
    "        if left_depth>right_depth:\n",
    "            return left, left_depth\n",
    "        \n",
    "        elif left_depth<right_depth:\n",
    "            return right, right_depth\n",
    "        \n",
    "        else:\n",
    "            return node, right_depth\n",
    "        "
   ]
  },
  {
   "cell_type": "markdown",
   "metadata": {},
   "source": [
    "## Symmetric Tree"
   ]
  },
  {
   "cell_type": "markdown",
   "metadata": {},
   "source": [
    "### Solution1: levelorder"
   ]
  },
  {
   "cell_type": "code",
   "execution_count": null,
   "metadata": {},
   "outputs": [],
   "source": [
    "class TreeNode:\n",
    "    def __init__(self, val=0, left=None, right=None):\n",
    "        self.val = val\n",
    "        self.left = left\n",
    "        self.right = right\n",
    "class Solution:\n",
    "    def isSymmetric(self, root: TreeNode):\n",
    "        res, level= [],[root] \n",
    "        while level:\n",
    "            res.append(node.val for node in level)\n",
    "            nextlevel = []\n",
    "            for node in level:\n",
    "                nextlevel.extend([node.left,node.right])\n",
    "            level = [leaf for leaf in nextlevel if leaf]\n",
    "            if not isLevelSymmetric(level):return False\n",
    "        return True  \n",
    "    \n",
    "    def isLevelSymmetric(level):\n",
    "        l = 0\n",
    "        r = len(level)-1\n",
    "        while(l<r):\n",
    "            if level[l] == level[r] == None:\n",
    "                continue\n",
    "            if None in(level[l],level[r]):\n",
    "                return False\n",
    "            if level[l].val != level[r].val:\n",
    "                return False    \n",
    "            l+=1\n",
    "            r-=1\n",
    "        return False"
   ]
  },
  {
   "cell_type": "markdown",
   "metadata": {},
   "source": [
    "### Solution2: Stack"
   ]
  },
  {
   "cell_type": "code",
   "execution_count": null,
   "metadata": {},
   "outputs": [],
   "source": [
    "class TreeNode:\n",
    "    def __init__(self, val=0, left=None, right=None):\n",
    "        self.val = val\n",
    "        self.left = left\n",
    "        self.right = right\n",
    "class Solution:\n",
    "    def isSymmetric(self, root: TreeNode):\n",
    "        if not root: return False\n",
    "        stack = [(root.left,root.right)]\n",
    "        while stack:\n",
    "            left , right = stack.pop()\n",
    "            if left == right == None: continue\n",
    "            if None in (left,right):\n",
    "                return False\n",
    "            if left.val == right.val:\n",
    "                stack.append((left.left,right.right))\n",
    "                stack.append((left.right,right.left))\n",
    "            else:\n",
    "                return False\n",
    "        return True"
   ]
  },
  {
   "cell_type": "markdown",
   "metadata": {},
   "source": [
    "## Convert Sorted Array to Binary Search Tree"
   ]
  },
  {
   "cell_type": "markdown",
   "metadata": {},
   "source": [
    "### Solution1: Recursive"
   ]
  },
  {
   "cell_type": "code",
   "execution_count": null,
   "metadata": {},
   "outputs": [],
   "source": [
    "class TreeNode:\n",
    "    def __init__(self, val=0, left=None, right=None):\n",
    "        self.val = val\n",
    "        self.left = left\n",
    "        self.right = right\n",
    "class Solution: \n",
    "    def sortedArrayToBST(self, nums):\n",
    "        \"\"\"\n",
    "        :type nums: List[int]\n",
    "        :rtype: TreeNode\n",
    "        \"\"\"\n",
    "        if not nums: return None\n",
    "        return self.convert(nums,0,len(nums)-1)\n",
    "        \n",
    "        def convert(self,nums,l,r):\n",
    "            if l==r:\n",
    "                return TreeNode(nums[l])\n",
    "            elif l<r:\n",
    "                mid = (l+r)//2\n",
    "                node = TreeNode(nums[mid]) \n",
    "                node.right = self.convert(nums,mid+1,r)\n",
    "                node.left = self.convert(nums,l,mid-1) #note: mid-1\n",
    "                return node "
   ]
  },
  {
   "cell_type": "markdown",
   "metadata": {},
   "source": [
    "# Medium"
   ]
  },
  {
   "cell_type": "markdown",
   "metadata": {},
   "source": [
    "## Binary Tree Zigzag Level Order Traversal"
   ]
  },
  {
   "cell_type": "markdown",
   "metadata": {},
   "source": [
    "https://leetcode.com/explore/interview/card/top-interview-questions-medium/108/trees-and-graphs/787/"
   ]
  },
  {
   "cell_type": "markdown",
   "metadata": {},
   "source": [
    "### Solution: BFS"
   ]
  },
  {
   "cell_type": "code",
   "execution_count": null,
   "metadata": {},
   "outputs": [],
   "source": [
    "class Solution:\n",
    "    def zigzagLevelOrderTree(self, root):\n",
    "        if not root:\n",
    "            return\n",
    "        res = []\n",
    "        level = [root]\n",
    "        while level:\n",
    "            if len(res)%2 ==0:\n",
    "                res.append([node.val for node in level])\n",
    "            else:\n",
    "                res.append([node.val for node in level][::-1])\n",
    "            nextlevel = []\n",
    "            for node in level:\n",
    "                nextlevel.extend([node.left, node.right])\n",
    "            level = [leaf for leaf in nextlevel if leaf]\n",
    "        return res\n",
    "                 "
   ]
  },
  {
   "cell_type": "markdown",
   "metadata": {},
   "source": [
    "## Construct Binary Tree from Preorder and Inorder Traversal"
   ]
  },
  {
   "cell_type": "markdown",
   "metadata": {},
   "source": [
    "Looking at preorder traversal, the first value (node 1) must be the root.\n",
    "Then, we find the index of root within in-order traversal, and split into two sub problems."
   ]
  },
  {
   "cell_type": "markdown",
   "metadata": {},
   "source": [
    "https://leetcode.com/explore/interview/card/top-interview-questions-medium/108/trees-and-graphs/788/discuss/34579/Python-short-recursive-solution."
   ]
  },
  {
   "cell_type": "markdown",
   "metadata": {},
   "source": [
    "### Solution: Recursive"
   ]
  },
  {
   "cell_type": "code",
   "execution_count": null,
   "metadata": {},
   "outputs": [],
   "source": [
    "# Definition for a binary tree node.\n",
    "# class TreeNode:\n",
    "#     def __init__(self, val=0, left=None, right=None):\n",
    "#         self.val = val\n",
    "#         self.left = left\n",
    "#         self.right = right\n",
    "class Solution:\n",
    "    def buildTree(self, preorder: List[int], inorder: List[int]) -> TreeNode:\n",
    "        if inorder:\n",
    "            idx = inorder.index(preorder.pop(0))\n",
    "            node = TreeNode(inorder[idx])\n",
    "            node.left = self.buildTree(preorder, inorder[0:idx])\n",
    "            node.right = self.buildTree(preorder, inorder[idx+1:])\n",
    "            return node"
   ]
  },
  {
   "cell_type": "markdown",
   "metadata": {},
   "source": [
    "## Construct Binary Tree from Inorder and Postorder Traversal"
   ]
  },
  {
   "cell_type": "markdown",
   "metadata": {},
   "source": [
    "https://leetcode.com/explore/learn/card/data-structure-tree/133/conclusion/942/"
   ]
  },
  {
   "cell_type": "code",
   "execution_count": null,
   "metadata": {},
   "outputs": [],
   "source": [
    "# Definition for a binary tree node.\n",
    "# class TreeNode:\n",
    "#     def __init__(self, val=0, left=None, right=None):\n",
    "#         self.val = val\n",
    "#         self.left = left\n",
    "#         self.right = right\n",
    "class Solution:\n",
    "    def buildTree(self, inorder: List[int], postorder: List[int]) -> TreeNode:\n",
    "         if inorder:\n",
    "            idx = inorder.index(postorder.pop())\n",
    "            node = TreeNode(inorder[idx])\n",
    "            node.right = self.buildTree(inorder[idx+1:],postorder) #note:build right tree first\n",
    "            node.left = self.buildTree(inorder[0:idx],postorder)\n",
    "            return node"
   ]
  },
  {
   "cell_type": "markdown",
   "metadata": {},
   "source": [
    "## Populating Next Right Pointers in Each Node"
   ]
  },
  {
   "cell_type": "markdown",
   "metadata": {},
   "source": [
    "https://leetcode.com/explore/learn/card/data-structure-tree/133/conclusion/994/"
   ]
  },
  {
   "cell_type": "markdown",
   "metadata": {},
   "source": [
    "### Solution1: Recursive"
   ]
  },
  {
   "cell_type": "code",
   "execution_count": null,
   "metadata": {},
   "outputs": [],
   "source": [
    "class Solution: \n",
    "    def popNextPointer(self, root):\n",
    "        if not root: return\n",
    "        if root and root.left and root.right:\n",
    "            root.left.next = root.right\n",
    "            if root.next:\n",
    "                root.right.next = root.next.left\n",
    "            self.popNextPointer(root.left)\n",
    "            self.popNextPointer(root.right)\n",
    "        return root"
   ]
  },
  {
   "cell_type": "markdown",
   "metadata": {},
   "source": [
    "### Solution2: DFS"
   ]
  },
  {
   "cell_type": "code",
   "execution_count": null,
   "metadata": {},
   "outputs": [],
   "source": [
    "class Solution: \n",
    "    def popNextPointer(self, root):\n",
    "        if not root: return\n",
    "        stack = [root]\n",
    "        while stack:\n",
    "            node = stack.pop()\n",
    "            if not node: continue\n",
    "            if node.left and node.right:\n",
    "                node.left.next = node.right\n",
    "                if node.next:\n",
    "                    node.right.next = node.next.left\n",
    "            stack.append(node.right)\n",
    "            stack.append(node.left)\n",
    "        return root"
   ]
  },
  {
   "cell_type": "markdown",
   "metadata": {},
   "source": [
    "## Populating Next Right Pointers in Each Node II"
   ]
  },
  {
   "cell_type": "markdown",
   "metadata": {},
   "source": [
    "https://leetcode.com/explore/learn/card/data-structure-tree/133/conclusion/1016"
   ]
  },
  {
   "cell_type": "markdown",
   "metadata": {},
   "source": [
    "### Solution: Recursive"
   ]
  },
  {
   "cell_type": "code",
   "execution_count": null,
   "metadata": {},
   "outputs": [],
   "source": [
    "class Solution: \n",
    "    def connect(self, root: 'Node') -> 'Node':\n",
    "            if not root: return\n",
    "            if root.right:\n",
    "                root.right.next = self.findNext(root)\n",
    "            if root.left:\n",
    "                root.left.next = root.right if root.right else self.findNext(root)\n",
    "            self.connect(root.right) #note: need to connect right node first, Go right sub-tree first because next points to right-hand side\n",
    "            self.connect(root.left)\n",
    "            return root\n",
    "    \n",
    "    \n",
    "    def findNext(self, node):\n",
    "        scanner = node.next\n",
    "        while scanner:\n",
    "            if scanner.left:\n",
    "                scanner = scanner.left\n",
    "                return scanner\n",
    "                break\n",
    "            elif scanner.right:\n",
    "                scanner = scanner.right\n",
    "                return scanner\n",
    "                break\n",
    "            scanner = scanner.next\n",
    "        return scanner"
   ]
  },
  {
   "cell_type": "markdown",
   "metadata": {},
   "source": [
    "## Kth Smallest Element in a BST"
   ]
  },
  {
   "cell_type": "markdown",
   "metadata": {},
   "source": [
    "https://leetcode.com/explore/interview/card/top-interview-questions-medium/108/trees-and-graphs/790/"
   ]
  },
  {
   "cell_type": "markdown",
   "metadata": {},
   "source": [
    "### Solution: Inorder"
   ]
  },
  {
   "cell_type": "code",
   "execution_count": null,
   "metadata": {},
   "outputs": [],
   "source": [
    "class Solution:\n",
    "    def kthSmallest(self, root: TreeNode, k: int) -> int:\n",
    "        self.res = None\n",
    "        self.k = k # note: self.k\n",
    "        self.helper(root)\n",
    "        return self.res\n",
    "    \n",
    "    def helper(self, root):\n",
    "        if not root: return\n",
    "        if root:\n",
    "            self.helper(root.left)\n",
    "            self.k -= 1\n",
    "            if self.k == 0:\n",
    "                self.res = root.val\n",
    "                return \n",
    "            self.helper(root.right) # the reason that we keep searching right node is that we may need to search into thr right tree to find the answer when k is large"
   ]
  },
  {
   "cell_type": "markdown",
   "metadata": {},
   "source": [
    "# Hard"
   ]
  },
  {
   "cell_type": "markdown",
   "metadata": {},
   "source": [
    "## Lowest Common Ancestor of a Binary Tree"
   ]
  },
  {
   "cell_type": "markdown",
   "metadata": {},
   "source": [
    "https://leetcode.com/explore/interview/card/top-interview-questions-hard/118/trees-and-graphs/844/"
   ]
  },
  {
   "cell_type": "markdown",
   "metadata": {},
   "source": [
    "### Solution1: Backtrack\n",
    "\n"
   ]
  },
  {
   "cell_type": "code",
   "execution_count": 46,
   "metadata": {},
   "outputs": [],
   "source": [
    "class Solution:\n",
    "    def LCA(self, root, p, q):\n",
    "        if not root: return None\n",
    "        if root == p or root == q:\n",
    "            return root\n",
    "        else:\n",
    "            # else look in left and right child\n",
    "            left = right = None\n",
    "            if root.left:\n",
    "                left = self.LCA(root.left, p, q)\n",
    "            if root.right:\n",
    "                right = self.LCA(root.right, p, q)\n",
    "        \n",
    "            # if both children returned a node, means\n",
    "            # both p and q found so parent is LCA\n",
    "            if left and right:\n",
    "                return root\n",
    "            else:\n",
    "            # either one of the chidren returned a node, meaning either p or q found on left or right branch.\n",
    "            # Example: assuming 'p' found in left child, right child returned 'None'. This means 'q' is\n",
    "            # somewhere below node where 'p' was found we dont need to search all the way, \n",
    "            # because in such scenarios, node where 'p' found is LCA\n",
    "                return left or right"
   ]
  },
  {
   "cell_type": "markdown",
   "metadata": {},
   "source": [
    "## Binary Tree Maximum Path Sum"
   ]
  },
  {
   "cell_type": "markdown",
   "metadata": {},
   "source": [
    "https://leetcode.com/explore/interview/card/top-interview-questions-hard/118/trees-and-graphs/845"
   ]
  },
  {
   "cell_type": "markdown",
   "metadata": {},
   "source": [
    "### Solution"
   ]
  },
  {
   "cell_type": "markdown",
   "metadata": {},
   "source": [
    "https://leetcode.com/explore/interview/card/top-interview-questions-hard/118/trees-and-graphs/845/discuss/389609/Full-Explanation-article-with-pseudo-code-Beats-JAVA-100-time-and-100-space-Solution"
   ]
  },
  {
   "cell_type": "markdown",
   "metadata": {},
   "source": [
    "four cases: \n",
    "    \n",
    "1. just root\n",
    "\n",
    "2. Left subtree+root\n",
    "\n",
    "3. Right subtree+root\n",
    "\n",
    "4. Left + right subtree + root"
   ]
  },
  {
   "cell_type": "code",
   "execution_count": null,
   "metadata": {},
   "outputs": [],
   "source": [
    "class Solution:\n",
    "    def maxPathSum(self, root: TreeNode) -> int:\n",
    "        self.global_max = -float('inf')\n",
    "        self.subSum(root)\n",
    "        return self.global_max\n",
    "    \n",
    "    def subSum(self, node):\n",
    "        if not node: return 0\n",
    "        left = self.subSum(node.left)\n",
    "        right = self.subSum(node.right)\n",
    "        leftPath = node.val + left  #node + left tree\n",
    "        rightPath = node.val + right #node + right tree\n",
    "        completePath = node.val + left + right #node+ left tree + right tree\n",
    "        cur_max = max(node.val, leftPath, rightPath, completePath) #max of four cases\n",
    "        self.global_max = max(self.global_max, cur_max)\n",
    "        \n",
    "        return max(leftPath, rightPath, node.val) #each time, return the max of node/node + left tree/node + right tree"
   ]
  },
  {
   "cell_type": "markdown",
   "metadata": {},
   "source": [
    "## Path Sum"
   ]
  },
  {
   "cell_type": "markdown",
   "metadata": {},
   "source": [
    "https://leetcode.com/explore/learn/card/data-structure-tree/17/solve-problems-recursively/537/"
   ]
  },
  {
   "cell_type": "markdown",
   "metadata": {},
   "source": [
    "### Solution1: DFS recursive"
   ]
  },
  {
   "cell_type": "code",
   "execution_count": null,
   "metadata": {},
   "outputs": [],
   "source": [
    "# Definition for a binary tree node.\n",
    "# class TreeNode:\n",
    "#     def __init__(self, val=0, left=None, right=None):\n",
    "#         self.val = val\n",
    "#         self.left = left\n",
    "#         self.right = right\n",
    "class Solution:\n",
    "    def hasPathSum(self, root: TreeNode, sum: int) -> bool:\n",
    "        self.hasSum = False\n",
    "        self.dfs(root, sum)\n",
    "        return self.hasSum\n",
    "        \n",
    "    def dfs(self, node, target):\n",
    "        if not node: return \n",
    "        if not node.left and not node.right and node.val == target:\n",
    "            self.hasSum = True\n",
    "        if node.left:\n",
    "            self.dfs(node.left, target-node.val)\n",
    "        if node.right:\n",
    "            self.dfs(node.right, target-node.val)"
   ]
  },
  {
   "cell_type": "markdown",
   "metadata": {},
   "source": [
    "### Solution2: DFS recursive + Stack"
   ]
  },
  {
   "cell_type": "code",
   "execution_count": null,
   "metadata": {},
   "outputs": [],
   "source": [
    "# Definition for a binary tree node.\n",
    "# class TreeNode:\n",
    "#     def __init__(self, val=0, left=None, right=None):\n",
    "#         self.val = val\n",
    "#         self.left = left\n",
    "#         self.right = right\n",
    "class Solution:\n",
    "    def hasPathSum(self, root: TreeNode, sum: int) -> bool:\n",
    "        if not root: return False\n",
    "        self.hasSum = False\n",
    "        stack = [(root, sum)]\n",
    "        while stack:\n",
    "            node, target = stack.pop()\n",
    "            if not node.left and not node.right and node.val == target:\n",
    "                self.hasSum = True\n",
    "            if node.left:\n",
    "                stack.append([node.left, target-node.val])\n",
    "            if node.right:\n",
    "                stack.append([node.right, target-node.val])\n",
    "        return self.hasSum\n",
    "        "
   ]
  }
 ],
 "metadata": {
  "kernelspec": {
   "display_name": "Python 3",
   "language": "python",
   "name": "python3"
  },
  "language_info": {
   "codemirror_mode": {
    "name": "ipython",
    "version": 3
   },
   "file_extension": ".py",
   "mimetype": "text/x-python",
   "name": "python",
   "nbconvert_exporter": "python",
   "pygments_lexer": "ipython3",
   "version": "3.6.8"
  },
  "toc": {
   "base_numbering": 1,
   "nav_menu": {},
   "number_sections": true,
   "sideBar": true,
   "skip_h1_title": false,
   "title_cell": "Table of Contents",
   "title_sidebar": "Contents",
   "toc_cell": true,
   "toc_position": {},
   "toc_section_display": true,
   "toc_window_display": true
  }
 },
 "nbformat": 4,
 "nbformat_minor": 2
}
