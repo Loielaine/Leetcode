{
 "cells": [
  {
   "cell_type": "markdown",
   "metadata": {
    "toc": true
   },
   "source": [
    "<h1>Table of Contents<span class=\"tocSkip\"></span></h1>\n",
    "<div class=\"toc\"><ul class=\"toc-item\"><li><span><a href=\"#Easy\" data-toc-modified-id=\"Easy-1\"><span class=\"toc-item-num\">1&nbsp;&nbsp;</span>Easy</a></span><ul class=\"toc-item\"><li><span><a href=\"#Number-of-1-Bits\" data-toc-modified-id=\"Number-of-1-Bits-1.1\"><span class=\"toc-item-num\">1.1&nbsp;&nbsp;</span>Number of 1 Bits</a></span><ul class=\"toc-item\"><li><span><a href=\"#Solution1:-Naive-bit-comparasion\" data-toc-modified-id=\"Solution1:-Naive-bit-comparasion-1.1.1\"><span class=\"toc-item-num\">1.1.1&nbsp;&nbsp;</span>Solution1: Naive bit comparasion</a></span></li><li><span><a href=\"#Solution2\" data-toc-modified-id=\"Solution2-1.1.2\"><span class=\"toc-item-num\">1.1.2&nbsp;&nbsp;</span>Solution2</a></span></li></ul></li><li><span><a href=\"#Hamming-Distance\" data-toc-modified-id=\"Hamming-Distance-1.2\"><span class=\"toc-item-num\">1.2&nbsp;&nbsp;</span>Hamming Distance</a></span></li><li><span><a href=\"#Reverse-Bits\" data-toc-modified-id=\"Reverse-Bits-1.3\"><span class=\"toc-item-num\">1.3&nbsp;&nbsp;</span>Reverse Bits</a></span></li><li><span><a href=\"#Pascal's-Triangle\" data-toc-modified-id=\"Pascal's-Triangle-1.4\"><span class=\"toc-item-num\">1.4&nbsp;&nbsp;</span>Pascal's Triangle</a></span><ul class=\"toc-item\"><li><span><a href=\"#Solution1:-DP\" data-toc-modified-id=\"Solution1:-DP-1.4.1\"><span class=\"toc-item-num\">1.4.1&nbsp;&nbsp;</span>Solution1: DP</a></span></li><li><span><a href=\"#Solution2:-Shift-sum\" data-toc-modified-id=\"Solution2:-Shift-sum-1.4.2\"><span class=\"toc-item-num\">1.4.2&nbsp;&nbsp;</span>Solution2: Shift sum</a></span></li></ul></li><li><span><a href=\"#Valid-Parentheses\" data-toc-modified-id=\"Valid-Parentheses-1.5\"><span class=\"toc-item-num\">1.5&nbsp;&nbsp;</span>Valid Parentheses</a></span></li><li><span><a href=\"#Missing-number\" data-toc-modified-id=\"Missing-number-1.6\"><span class=\"toc-item-num\">1.6&nbsp;&nbsp;</span>Missing number</a></span></li></ul></li><li><span><a href=\"#Medium\" data-toc-modified-id=\"Medium-2\"><span class=\"toc-item-num\">2&nbsp;&nbsp;</span>Medium</a></span><ul class=\"toc-item\"><li><span><a href=\"#Evaluate-Reverse-Polish-Notation\" data-toc-modified-id=\"Evaluate-Reverse-Polish-Notation-2.1\"><span class=\"toc-item-num\">2.1&nbsp;&nbsp;</span>Evaluate Reverse Polish Notation</a></span><ul class=\"toc-item\"><li><span><a href=\"#Solution:-Stack\" data-toc-modified-id=\"Solution:-Stack-2.1.1\"><span class=\"toc-item-num\">2.1.1&nbsp;&nbsp;</span>Solution: Stack</a></span></li></ul></li><li><span><a href=\"#Basic-Calculator-II\" data-toc-modified-id=\"Basic-Calculator-II-2.2\"><span class=\"toc-item-num\">2.2&nbsp;&nbsp;</span>Basic Calculator II</a></span><ul class=\"toc-item\"><li><span><a href=\"#Solution:-Stack\" data-toc-modified-id=\"Solution:-Stack-2.2.1\"><span class=\"toc-item-num\">2.2.1&nbsp;&nbsp;</span>Solution: Stack</a></span></li></ul></li><li><span><a href=\"#Majority-Element\" data-toc-modified-id=\"Majority-Element-2.3\"><span class=\"toc-item-num\">2.3&nbsp;&nbsp;</span>Majority Element</a></span><ul class=\"toc-item\"><li><span><a href=\"#Solution1:-Dict\" data-toc-modified-id=\"Solution1:-Dict-2.3.1\"><span class=\"toc-item-num\">2.3.1&nbsp;&nbsp;</span>Solution1: Dict</a></span></li><li><span><a href=\"#Solution2:-Sort\" data-toc-modified-id=\"Solution2:-Sort-2.3.2\"><span class=\"toc-item-num\">2.3.2&nbsp;&nbsp;</span>Solution2: Sort</a></span></li><li><span><a href=\"#Solution3:-Moore-voting\" data-toc-modified-id=\"Solution3:-Moore-voting-2.3.3\"><span class=\"toc-item-num\">2.3.3&nbsp;&nbsp;</span>Solution3: Moore voting</a></span></li></ul></li><li><span><a href=\"#Task-Scheduler\" data-toc-modified-id=\"Task-Scheduler-2.4\"><span class=\"toc-item-num\">2.4&nbsp;&nbsp;</span>Task Scheduler</a></span><ul class=\"toc-item\"><li><span><a href=\"#Solution\" data-toc-modified-id=\"Solution-2.4.1\"><span class=\"toc-item-num\">2.4.1&nbsp;&nbsp;</span>Solution</a></span></li></ul></li></ul></li></ul></div>"
   ]
  },
  {
   "cell_type": "markdown",
   "metadata": {},
   "source": [
    "# Easy"
   ]
  },
  {
   "cell_type": "markdown",
   "metadata": {},
   "source": [
    "## Number of 1 Bits"
   ]
  },
  {
   "cell_type": "markdown",
   "metadata": {},
   "source": [
    "x << y\n",
    "Returns x with the bits shifted to the left by y places (and new bits on the right-hand-side are zeros). This is the same as multiplying x by 2**y.\n",
    "\n",
    "x >> y\n",
    "Returns x with the bits shifted to the right by y places. This is the same as //'ing x by 2**y.\n",
    "\n",
    "x & y\n",
    "Does a \"bitwise and\". Each bit of the output is 1 if the corresponding bit of x AND of y is 1, otherwise it's 0.\n",
    "\n",
    "x | y\n",
    "Does a \"bitwise or\". Each bit of the output is 0 if the corresponding bit of x AND of y is 0, otherwise it's 1.\n",
    "\n",
    "~ x\n",
    "Returns the complement of x - the number you get by switching each 1 for a 0 and each 0 for a 1. This is the same as -x - 1.\n",
    "\n",
    "x ^ y\n",
    "Does a \"bitwise exclusive or\". Each bit of the output is the same as the corresponding bit in x if that bit in y is 0, and it's the complement of the bit in x if that bit in y is 1."
   ]
  },
  {
   "cell_type": "markdown",
   "metadata": {},
   "source": [
    "### Solution1: Naive bit comparasion"
   ]
  },
  {
   "cell_type": "code",
   "execution_count": 15,
   "metadata": {},
   "outputs": [],
   "source": [
    "def findOne(n):\n",
    "    count = 0\n",
    "    while True:\n",
    "        if n==0:\n",
    "            break\n",
    "        if n & 1 == 1:#check whether the last bit is 1\n",
    "            count +=1\n",
    "        n = n >> 1\n",
    "        #print(n)\n",
    "    return count"
   ]
  },
  {
   "cell_type": "markdown",
   "metadata": {},
   "source": [
    "### Solution2"
   ]
  },
  {
   "cell_type": "code",
   "execution_count": null,
   "metadata": {},
   "outputs": [],
   "source": [
    "def findOne(n):\n",
    "    count = 0\n",
    "    while True:\n",
    "        if n==0:\n",
    "            break\n",
    "        n &= n-1 \n",
    "        # Think of a number in binary n = XXXXXX1000, n - 1 is XXXXXX0111. \n",
    "        # n & (n - 1) will be XXXXXX0000 which is just remove the last significant 1\n",
    "        count +=1\n",
    "    return count"
   ]
  },
  {
   "cell_type": "markdown",
   "metadata": {},
   "source": [
    "## Hamming Distance"
   ]
  },
  {
   "cell_type": "markdown",
   "metadata": {},
   "source": [
    "The Hamming distance between two integers is the number of positions at which the corresponding bits are different.\n",
    "\n",
    "Given two integers x and y, calculate the Hamming distance.\n",
    "\n",
    "Note:\n",
    "0 ≤ x, y < 231.\n",
    "\n",
    "Example:\n",
    "\n",
    "Input: x = 1, y = 4\n",
    "\n",
    "Output: 2\n",
    "\n",
    "Explanation:\n",
    "\n",
    "1   (0 0 0 1)\n",
    "\n",
    "4   (0 1 0 0)\n",
    " \n",
    "\n",
    "\n",
    "The above arrows point to positions where the corresponding bits are different."
   ]
  },
  {
   "cell_type": "code",
   "execution_count": 17,
   "metadata": {},
   "outputs": [],
   "source": [
    "def calculateHammingDistance(x,y):\n",
    "    return bin(x^y).count('1')"
   ]
  },
  {
   "cell_type": "code",
   "execution_count": 22,
   "metadata": {},
   "outputs": [
    {
     "data": {
      "text/plain": [
       "2"
      ]
     },
     "execution_count": 22,
     "metadata": {},
     "output_type": "execute_result"
    }
   ],
   "source": [
    "calculateHammingDistance(2,4)"
   ]
  },
  {
   "cell_type": "code",
   "execution_count": 21,
   "metadata": {},
   "outputs": [],
   "source": [
    "def calculateHammingDistance(x,y):\n",
    "    xoy = x^y\n",
    "    count = 0\n",
    "    while True:\n",
    "        if xoy==0: break\n",
    "        if xoy & 1 ==1:\n",
    "            count+=1\n",
    "        xoy = xoy >>1\n",
    "    return count"
   ]
  },
  {
   "cell_type": "markdown",
   "metadata": {},
   "source": [
    "## Reverse Bits"
   ]
  },
  {
   "cell_type": "code",
   "execution_count": null,
   "metadata": {},
   "outputs": [],
   "source": [
    "def reverseBits(n):\n",
    "    ans = 0\n",
    "    for _ in range(32): #32 bits\n",
    "        # check the last bit of n, shift ans to left\n",
    "        ans = (ans << 1) + (n&1)\n",
    "        # shift n to the right to check the next bit\n",
    "        n = n >> 1\n",
    "    return ans"
   ]
  },
  {
   "cell_type": "markdown",
   "metadata": {},
   "source": [
    "## Pascal's Triangle"
   ]
  },
  {
   "cell_type": "markdown",
   "metadata": {},
   "source": [
    "### Solution1: DP"
   ]
  },
  {
   "cell_type": "code",
   "execution_count": 42,
   "metadata": {},
   "outputs": [],
   "source": [
    "def buildPascalTriangle(numRows):\n",
    "    ans = [[1]*n for n in range(1,numRows+1)]\n",
    "    #print(ans)\n",
    "    for row in range(2,numRows):\n",
    "        #print(row)\n",
    "        for j in range(1,row):\n",
    "            #print(j)\n",
    "            ans[row][j] = ans[row-1][j-1] + ans[row-1][j]\n",
    "    return ans"
   ]
  },
  {
   "cell_type": "code",
   "execution_count": 43,
   "metadata": {},
   "outputs": [
    {
     "data": {
      "text/plain": [
       "[[1], [1, 1], [1, 2, 1], [1, 3, 3, 1], [1, 4, 6, 4, 1]]"
      ]
     },
     "execution_count": 43,
     "metadata": {},
     "output_type": "execute_result"
    }
   ],
   "source": [
    "buildPascalTriangle(5)"
   ]
  },
  {
   "cell_type": "markdown",
   "metadata": {},
   "source": [
    "### Solution2: Shift sum"
   ]
  },
  {
   "cell_type": "markdown",
   "metadata": {},
   "source": [
    "explanation: Any row can be constructed using the offset sum of the previous row. Example:\n",
    "\n",
    "   1 3 3 1 0 \n",
    " \n",
    " \\+  0 1 3 3 1\n",
    " \n",
    " =  1 4 6 4 1"
   ]
  },
  {
   "cell_type": "code",
   "execution_count": 50,
   "metadata": {},
   "outputs": [],
   "source": [
    "def buildPascalTriangle(numRows):\n",
    "    ans = [[1]]\n",
    "    for row in range(0,numRows-1):\n",
    "        t1 = ans[row] + [0]\n",
    "        t2 = [0] + ans[row]\n",
    "        #ans.append([t1[i]+t2[i] for i in range(len(t1))])\n",
    "        ans.append(list(map(lambda x,y:x+y, t1,t2)))\n",
    "    return ans"
   ]
  },
  {
   "cell_type": "code",
   "execution_count": 51,
   "metadata": {},
   "outputs": [
    {
     "data": {
      "text/plain": [
       "[[1], [1, 1], [1, 2, 1], [1, 3, 3, 1], [1, 4, 6, 4, 1]]"
      ]
     },
     "execution_count": 51,
     "metadata": {},
     "output_type": "execute_result"
    }
   ],
   "source": [
    "buildPascalTriangle(5)"
   ]
  },
  {
   "cell_type": "markdown",
   "metadata": {},
   "source": [
    "## Valid Parentheses"
   ]
  },
  {
   "cell_type": "code",
   "execution_count": 52,
   "metadata": {},
   "outputs": [],
   "source": [
    "def isValidParenthese(s):\n",
    "    dic = {'}':'{',')':'(',']':'['}\n",
    "    stack = ['N']\n",
    "    for c in list(s):\n",
    "        if c in dic.keys():\n",
    "            p = stack.pop()\n",
    "            if p != dic[c]:\n",
    "                return False\n",
    "        else:\n",
    "            stack.append(c)\n",
    "    return len(stack)==1"
   ]
  },
  {
   "cell_type": "code",
   "execution_count": 54,
   "metadata": {},
   "outputs": [
    {
     "data": {
      "text/plain": [
       "False"
      ]
     },
     "execution_count": 54,
     "metadata": {},
     "output_type": "execute_result"
    }
   ],
   "source": [
    "isValidParenthese(\"([)]\")"
   ]
  },
  {
   "cell_type": "markdown",
   "metadata": {},
   "source": [
    "## Missing number"
   ]
  },
  {
   "cell_type": "markdown",
   "metadata": {},
   "source": [
    "Given an array nums containing n distinct numbers in the range [0, n], return the only number in the range that is missing from the array."
   ]
  },
  {
   "cell_type": "code",
   "execution_count": 57,
   "metadata": {},
   "outputs": [],
   "source": [
    "def findMissingNum(nums):\n",
    "    n = len(nums)\n",
    "    sumtotal = (1+n)*(n/2)\n",
    "    return sumtotal - sum(nums)"
   ]
  },
  {
   "cell_type": "code",
   "execution_count": 58,
   "metadata": {},
   "outputs": [
    {
     "data": {
      "text/plain": [
       "2.0"
      ]
     },
     "execution_count": 58,
     "metadata": {},
     "output_type": "execute_result"
    }
   ],
   "source": [
    "findMissingNum([3,0,1])"
   ]
  },
  {
   "cell_type": "markdown",
   "metadata": {},
   "source": [
    "# Medium"
   ]
  },
  {
   "cell_type": "markdown",
   "metadata": {},
   "source": [
    "## Evaluate Reverse Polish Notation"
   ]
  },
  {
   "cell_type": "markdown",
   "metadata": {},
   "source": [
    "https://leetcode.com/problems/evaluate-reverse-polish-notation/"
   ]
  },
  {
   "cell_type": "markdown",
   "metadata": {},
   "source": [
    "### Solution: Stack"
   ]
  },
  {
   "cell_type": "code",
   "execution_count": null,
   "metadata": {},
   "outputs": [],
   "source": [
    "class Solution:\n",
    "    def reverseNotation(self,tokens):\n",
    "        if not tokens: return 0\n",
    "        stack = []\n",
    "        for t in tokens:\n",
    "            if t not in ['+','-','*','/']:\n",
    "                stack.append(int(t))\n",
    "            else:\n",
    "                r,l = stack.pop(),stack.pop() # note: left should be poped after right\n",
    "                if t == '+':\n",
    "                    stack.append(l+r)\n",
    "                elif t== '-':\n",
    "                    stack.append(l-r) # note: l-r\n",
    "                elif t== '*':\n",
    "                    stack.append(l*r)\n",
    "                else:\n",
    "                    stack.append(l//r) # note: l//r\n",
    "        return stack.pop() # return the last one"
   ]
  },
  {
   "cell_type": "markdown",
   "metadata": {},
   "source": [
    "## Basic Calculator II"
   ]
  },
  {
   "cell_type": "markdown",
   "metadata": {},
   "source": [
    "https://leetcode.com/explore/interview/card/top-interview-questions-hard/116/array-and-strings/836/"
   ]
  },
  {
   "cell_type": "markdown",
   "metadata": {},
   "source": [
    "### Solution: Stack"
   ]
  },
  {
   "cell_type": "code",
   "execution_count": 24,
   "metadata": {},
   "outputs": [],
   "source": [
    "class Solution:\n",
    "    def basicCalculator(self,s):\n",
    "        if not s:\n",
    "            return 0\n",
    "        \n",
    "        stack = []\n",
    "        num = 0\n",
    "        sign = \"+\" #note: each num is assocaited with sign on the left, so initiate with \"+\"\n",
    "        \n",
    "        for i in range(len(s)):\n",
    "            if s[i].isdigit():\n",
    "                num = num*10 + ord(s[i]) - ord('0')\n",
    "            if (not s[i].isdigit() and s[i]!=\" \") or i == len(s)-1: #note: i == len(s)-1 to do the last calculation\n",
    "                if sign == \"+\":\n",
    "                    stack.append(num) #cannot append(stack.pop()+num) as previous one, since we need to do \"*\" or \"/\" first\n",
    "                elif sign ==\"-\":\n",
    "                    stack.append(-num)\n",
    "                elif sign ==\"*\":\n",
    "                    stack.append(stack.pop()*num) # wait and only operate when sign == \"*\" or \"/\"\n",
    "                else:\n",
    "                    stack.append(stack.pop()//num)\n",
    "                sign = s[i]\n",
    "                num = 0\n",
    "            print(stack,num,sign)\n",
    "        return sum(stack)"
   ]
  },
  {
   "cell_type": "code",
   "execution_count": 25,
   "metadata": {},
   "outputs": [
    {
     "name": "stdout",
     "output_type": "stream",
     "text": [
      "[] 1 +\n",
      "[1] 0 +\n",
      "[1] 3 +\n",
      "[1, 3] 0 /\n",
      "[1, 1] 0 2\n"
     ]
    },
    {
     "data": {
      "text/plain": [
       "2"
      ]
     },
     "execution_count": 25,
     "metadata": {},
     "output_type": "execute_result"
    }
   ],
   "source": [
    "solution = Solution()\n",
    "solution.basicCalculator(\"1+3/2\")"
   ]
  },
  {
   "cell_type": "markdown",
   "metadata": {},
   "source": [
    "## Majority Element"
   ]
  },
  {
   "cell_type": "markdown",
   "metadata": {},
   "source": [
    "Given an array of size n, find the majority element. The majority element is the element that appears more than ⌊ n/2 ⌋ times.\n",
    "\n",
    "You may assume that the array is non-empty and the majority element always exist in the array.\n",
    "\n",
    "Example 1:\n",
    "\n",
    "Input: [3,2,3]\n",
    "Output: 3\n",
    "\n",
    "Example 2:\n",
    "\n",
    "Input: [2,2,1,1,1,2,2]\n",
    "Output: 2"
   ]
  },
  {
   "cell_type": "markdown",
   "metadata": {},
   "source": [
    "### Solution1: Dict"
   ]
  },
  {
   "cell_type": "code",
   "execution_count": 5,
   "metadata": {},
   "outputs": [],
   "source": [
    "class Solution:\n",
    "    def majorityElement(self,nums):\n",
    "        dic = {}\n",
    "        for n in nums:\n",
    "            dic[n] = dic.get(n,0)+1\n",
    "            if dic[n]>= len(nums)//2+1:\n",
    "                return n"
   ]
  },
  {
   "cell_type": "code",
   "execution_count": 6,
   "metadata": {},
   "outputs": [
    {
     "data": {
      "text/plain": [
       "2"
      ]
     },
     "execution_count": 6,
     "metadata": {},
     "output_type": "execute_result"
    }
   ],
   "source": [
    "solution = Solution()\n",
    "solution.majorityElement([2,2,1,1,1,2,2])"
   ]
  },
  {
   "cell_type": "markdown",
   "metadata": {},
   "source": [
    "### Solution2: Sort"
   ]
  },
  {
   "cell_type": "code",
   "execution_count": 7,
   "metadata": {},
   "outputs": [],
   "source": [
    "class Solution:\n",
    "    def majorityElement(self,nums):\n",
    "        nums.sort()\n",
    "        return nums[len(nums)//2]"
   ]
  },
  {
   "cell_type": "code",
   "execution_count": 8,
   "metadata": {},
   "outputs": [
    {
     "data": {
      "text/plain": [
       "2"
      ]
     },
     "execution_count": 8,
     "metadata": {},
     "output_type": "execute_result"
    }
   ],
   "source": [
    "solution = Solution()\n",
    "solution.majorityElement([2,2,1,1,1,2,2])"
   ]
  },
  {
   "cell_type": "markdown",
   "metadata": {},
   "source": [
    "### Solution3: Moore voting"
   ]
  },
  {
   "cell_type": "code",
   "execution_count": 21,
   "metadata": {},
   "outputs": [],
   "source": [
    "class Solution:\n",
    "    def majorityElement(self,nums):\n",
    "        candidate, count = nums[0], 1\n",
    "        for n in nums[1:]:\n",
    "#             print(candidate)\n",
    "#             print(count)\n",
    "            if count == 0:\n",
    "                candidate, count = n, 1\n",
    "                continue # note: add continue to avoid runninng following codes\n",
    "            if n != candidate:\n",
    "                count -= 1\n",
    "            else:\n",
    "                count += 1\n",
    "        return candidate"
   ]
  },
  {
   "cell_type": "code",
   "execution_count": 22,
   "metadata": {},
   "outputs": [
    {
     "data": {
      "text/plain": [
       "2"
      ]
     },
     "execution_count": 22,
     "metadata": {},
     "output_type": "execute_result"
    }
   ],
   "source": [
    "solution = Solution()\n",
    "solution.majorityElement([2,2,1,1,1,2,2])"
   ]
  },
  {
   "cell_type": "markdown",
   "metadata": {},
   "source": [
    "## Task Scheduler"
   ]
  },
  {
   "cell_type": "markdown",
   "metadata": {},
   "source": [
    "https://leetcode.com/explore/interview/card/top-interview-questions-medium/114/others/826/"
   ]
  },
  {
   "cell_type": "markdown",
   "metadata": {},
   "source": [
    "### Solution "
   ]
  },
  {
   "cell_type": "markdown",
   "metadata": {},
   "source": [
    "https://leetcode.com/explore/interview/card/top-interview-questions-medium/114/others/826/discuss/207948/Python-solution"
   ]
  },
  {
   "cell_type": "code",
   "execution_count": 1,
   "metadata": {},
   "outputs": [],
   "source": [
    "class Solution:\n",
    "    def taskScheduler(self,tasks,n):\n",
    "        maxFreq = 0\n",
    "        maxCount = 0\n",
    "        dic = {}\n",
    "        \n",
    "        for t in tasks:\n",
    "            dic[t] = dic.get(t,0)+1\n",
    "            \n",
    "            if dic[t]>maxFreq:\n",
    "                maxFreq = dic[t]\n",
    "                maxCount = 1\n",
    "            elif dic[t]==maxFreq:\n",
    "                maxCount += 1\n",
    "        if len(dic)<=(n+1):\n",
    "            return maxFreq+(maxFreq-1)*n+(maxCount-1)\n",
    "        else:\n",
    "            return max(len(tasks), maxFreq+(maxFreq-1)*n+(maxCount-1))"
   ]
  },
  {
   "cell_type": "code",
   "execution_count": null,
   "metadata": {},
   "outputs": [],
   "source": []
  }
 ],
 "metadata": {
  "kernelspec": {
   "display_name": "Python 3",
   "language": "python",
   "name": "python3"
  },
  "language_info": {
   "codemirror_mode": {
    "name": "ipython",
    "version": 3
   },
   "file_extension": ".py",
   "mimetype": "text/x-python",
   "name": "python",
   "nbconvert_exporter": "python",
   "pygments_lexer": "ipython3",
   "version": "3.6.8"
  },
  "toc": {
   "base_numbering": 1,
   "nav_menu": {},
   "number_sections": true,
   "sideBar": true,
   "skip_h1_title": false,
   "title_cell": "Table of Contents",
   "title_sidebar": "Contents",
   "toc_cell": true,
   "toc_position": {},
   "toc_section_display": true,
   "toc_window_display": true
  }
 },
 "nbformat": 4,
 "nbformat_minor": 2
}
