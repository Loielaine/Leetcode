{
 "cells": [
  {
   "cell_type": "markdown",
   "metadata": {
    "toc": true
   },
   "source": [
    "<h1>Table of Contents<span class=\"tocSkip\"></span></h1>\n",
    "<div class=\"toc\"><ul class=\"toc-item\"><li><span><a href=\"#Easy\" data-toc-modified-id=\"Easy-1\"><span class=\"toc-item-num\">1&nbsp;&nbsp;</span>Easy</a></span><ul class=\"toc-item\"><li><span><a href=\"#Reverse-String\" data-toc-modified-id=\"Reverse-String-1.1\"><span class=\"toc-item-num\">1.1&nbsp;&nbsp;</span>Reverse String</a></span><ul class=\"toc-item\"><li><span><a href=\"#Solution1:-Two-pointer\" data-toc-modified-id=\"Solution1:-Two-pointer-1.1.1\"><span class=\"toc-item-num\">1.1.1&nbsp;&nbsp;</span>Solution1: Two pointer</a></span></li><li><span><a href=\"#Solution2:-String\" data-toc-modified-id=\"Solution2:-String-1.1.2\"><span class=\"toc-item-num\">1.1.2&nbsp;&nbsp;</span>Solution2: String</a></span></li></ul></li><li><span><a href=\"#Reverse-Integer\" data-toc-modified-id=\"Reverse-Integer-1.2\"><span class=\"toc-item-num\">1.2&nbsp;&nbsp;</span>Reverse Integer</a></span><ul class=\"toc-item\"><li><span><a href=\"#Solution1:-Convert-to-string\" data-toc-modified-id=\"Solution1:-Convert-to-string-1.2.1\"><span class=\"toc-item-num\">1.2.1&nbsp;&nbsp;</span>Solution1: Convert to string</a></span></li></ul></li><li><span><a href=\"#First-Unique-Character-in-a-String\" data-toc-modified-id=\"First-Unique-Character-in-a-String-1.3\"><span class=\"toc-item-num\">1.3&nbsp;&nbsp;</span>First Unique Character in a String</a></span><ul class=\"toc-item\"><li><span><a href=\"#Solution1:-String\" data-toc-modified-id=\"Solution1:-String-1.3.1\"><span class=\"toc-item-num\">1.3.1&nbsp;&nbsp;</span>Solution1: String</a></span></li><li><span><a href=\"#Solution2:-Dictionary\" data-toc-modified-id=\"Solution2:-Dictionary-1.3.2\"><span class=\"toc-item-num\">1.3.2&nbsp;&nbsp;</span>Solution2: Dictionary</a></span></li></ul></li><li><span><a href=\"#Valid-Anagram\" data-toc-modified-id=\"Valid-Anagram-1.4\"><span class=\"toc-item-num\">1.4&nbsp;&nbsp;</span>Valid Anagram</a></span><ul class=\"toc-item\"><li><span><a href=\"#Solution1:-String\" data-toc-modified-id=\"Solution1:-String-1.4.1\"><span class=\"toc-item-num\">1.4.1&nbsp;&nbsp;</span>Solution1: String</a></span></li><li><span><a href=\"#Solution2:-Dictionary\" data-toc-modified-id=\"Solution2:-Dictionary-1.4.2\"><span class=\"toc-item-num\">1.4.2&nbsp;&nbsp;</span>Solution2: Dictionary</a></span></li></ul></li><li><span><a href=\"#Valid-Palindrome\" data-toc-modified-id=\"Valid-Palindrome-1.5\"><span class=\"toc-item-num\">1.5&nbsp;&nbsp;</span>Valid Palindrome</a></span><ul class=\"toc-item\"><li><span><a href=\"#Solution1:-String\" data-toc-modified-id=\"Solution1:-String-1.5.1\"><span class=\"toc-item-num\">1.5.1&nbsp;&nbsp;</span>Solution1: String</a></span></li><li><span><a href=\"#Solution2:-Two-Pointer\" data-toc-modified-id=\"Solution2:-Two-Pointer-1.5.2\"><span class=\"toc-item-num\">1.5.2&nbsp;&nbsp;</span>Solution2: Two Pointer</a></span></li></ul></li><li><span><a href=\"#String-to-Integer-(atoi)\" data-toc-modified-id=\"String-to-Integer-(atoi)-1.6\"><span class=\"toc-item-num\">1.6&nbsp;&nbsp;</span>String to Integer (atoi)</a></span><ul class=\"toc-item\"><li><span><a href=\"#Solution1:-String\" data-toc-modified-id=\"Solution1:-String-1.6.1\"><span class=\"toc-item-num\">1.6.1&nbsp;&nbsp;</span>Solution1: String</a></span></li></ul></li><li><span><a href=\"#Implement-strStr()\" data-toc-modified-id=\"Implement-strStr()-1.7\"><span class=\"toc-item-num\">1.7&nbsp;&nbsp;</span>Implement strStr()</a></span><ul class=\"toc-item\"><li><span><a href=\"#Solution1:-String\" data-toc-modified-id=\"Solution1:-String-1.7.1\"><span class=\"toc-item-num\">1.7.1&nbsp;&nbsp;</span>Solution1: String</a></span></li></ul></li><li><span><a href=\"#Count-and-Say\" data-toc-modified-id=\"Count-and-Say-1.8\"><span class=\"toc-item-num\">1.8&nbsp;&nbsp;</span>Count and Say</a></span><ul class=\"toc-item\"><li><span><a href=\"#Solution1:\" data-toc-modified-id=\"Solution1:-1.8.1\"><span class=\"toc-item-num\">1.8.1&nbsp;&nbsp;</span>Solution1:</a></span></li></ul></li><li><span><a href=\"#Longest-Common-Prefix\" data-toc-modified-id=\"Longest-Common-Prefix-1.9\"><span class=\"toc-item-num\">1.9&nbsp;&nbsp;</span>Longest Common Prefix</a></span><ul class=\"toc-item\"><li><span><a href=\"#Solution1:-Find-min-string-first,-then-compare-with-others\" data-toc-modified-id=\"Solution1:-Find-min-string-first,-then-compare-with-others-1.9.1\"><span class=\"toc-item-num\">1.9.1&nbsp;&nbsp;</span>Solution1: Find min string first, then compare with others</a></span></li></ul></li><li><span><a href=\"#Length-of-String-combined-by-others\" data-toc-modified-id=\"Length-of-String-combined-by-others-1.10\"><span class=\"toc-item-num\">1.10&nbsp;&nbsp;</span>Length of String combined by others</a></span></li></ul></li><li><span><a href=\"#Medium\" data-toc-modified-id=\"Medium-2\"><span class=\"toc-item-num\">2&nbsp;&nbsp;</span>Medium</a></span><ul class=\"toc-item\"><li><span><a href=\"#Minimum-Window-Substring\" data-toc-modified-id=\"Minimum-Window-Substring-2.1\"><span class=\"toc-item-num\">2.1&nbsp;&nbsp;</span>Minimum Window Substring</a></span><ul class=\"toc-item\"><li><span><a href=\"#Solution:-Two-pointers-+-Counter\" data-toc-modified-id=\"Solution:-Two-pointers-+-Counter-2.1.1\"><span class=\"toc-item-num\">2.1.1&nbsp;&nbsp;</span>Solution: Two pointers + Counter</a></span></li></ul></li></ul></li></ul></div>"
   ]
  },
  {
   "cell_type": "markdown",
   "metadata": {},
   "source": [
    "https://leetcode.com/explore/interview/card/top-interview-questions-easy/127/strings/879/"
   ]
  },
  {
   "cell_type": "markdown",
   "metadata": {},
   "source": [
    "# Easy"
   ]
  },
  {
   "cell_type": "markdown",
   "metadata": {},
   "source": [
    "## Reverse String\n"
   ]
  },
  {
   "cell_type": "markdown",
   "metadata": {},
   "source": [
    "Write a function that reverses a string. The input string is given as an array of characters char[].\n",
    "\n",
    "Do not allocate extra space for another array, you must do this by modifying the input array in-place with O(1) extra memory.\n",
    "\n",
    "You may assume all the characters consist of printable ascii characters."
   ]
  },
  {
   "cell_type": "markdown",
   "metadata": {},
   "source": [
    "### Solution1: Two pointer"
   ]
  },
  {
   "cell_type": "code",
   "execution_count": 8,
   "metadata": {},
   "outputs": [],
   "source": [
    "def reverseString(s):\n",
    "    if not s: return []\n",
    "    l = 0\n",
    "    r = len(s)-1\n",
    "    while(l<r):\n",
    "        s[l],s[r]=s[r],s[l]\n",
    "        l+=1\n",
    "        r-=1\n",
    "    return s"
   ]
  },
  {
   "cell_type": "code",
   "execution_count": 11,
   "metadata": {
    "scrolled": true
   },
   "outputs": [
    {
     "data": {
      "text/plain": [
       "['o', 'l', 'l', 'e', 'h']"
      ]
     },
     "execution_count": 11,
     "metadata": {},
     "output_type": "execute_result"
    }
   ],
   "source": [
    "reverseString([\"h\",\"e\",\"l\",\"l\",\"o\"])"
   ]
  },
  {
   "cell_type": "markdown",
   "metadata": {},
   "source": [
    "### Solution2: String"
   ]
  },
  {
   "cell_type": "code",
   "execution_count": 12,
   "metadata": {},
   "outputs": [],
   "source": [
    "def reverseString(s):\n",
    "    s.reverse()\n",
    "    return s"
   ]
  },
  {
   "cell_type": "code",
   "execution_count": 13,
   "metadata": {},
   "outputs": [],
   "source": [
    "def reverseString(s):\n",
    "    return s[::-1]"
   ]
  },
  {
   "cell_type": "code",
   "execution_count": 14,
   "metadata": {},
   "outputs": [
    {
     "data": {
      "text/plain": [
       "['o', 'l', 'l', 'e', 'h']"
      ]
     },
     "execution_count": 14,
     "metadata": {},
     "output_type": "execute_result"
    }
   ],
   "source": [
    "reverseString([\"h\",\"e\",\"l\",\"l\",\"o\"])"
   ]
  },
  {
   "cell_type": "markdown",
   "metadata": {},
   "source": [
    "## Reverse Integer"
   ]
  },
  {
   "cell_type": "markdown",
   "metadata": {},
   "source": [
    "Given a 32-bit signed integer, reverse digits of an integer.\n",
    "\n",
    "Example 1:\n",
    "\n",
    "Input: 123\n",
    "\n",
    "Output: 321"
   ]
  },
  {
   "cell_type": "markdown",
   "metadata": {},
   "source": [
    "### Solution1: Convert to string"
   ]
  },
  {
   "cell_type": "code",
   "execution_count": 15,
   "metadata": {},
   "outputs": [],
   "source": [
    "def reverseInteger(num):\n",
    "    rv_num = int(str(num)[::-1])\n",
    "    return rv_num"
   ]
  },
  {
   "cell_type": "code",
   "execution_count": 16,
   "metadata": {},
   "outputs": [
    {
     "data": {
      "text/plain": [
       "321"
      ]
     },
     "execution_count": 16,
     "metadata": {},
     "output_type": "execute_result"
    }
   ],
   "source": [
    "reverseInteger(123)"
   ]
  },
  {
   "cell_type": "markdown",
   "metadata": {},
   "source": [
    "## First Unique Character in a String"
   ]
  },
  {
   "cell_type": "markdown",
   "metadata": {},
   "source": [
    "Given a string, find the first non-repeating character in it and return its index. If it doesn't exist, return -1.\n",
    "\n",
    "Examples:\n",
    "\n",
    "s = \"leetcode\"\n",
    "\n",
    "return 0.\n",
    "\n",
    "s = \"loveleetcode\"\n",
    "\n",
    "return 2."
   ]
  },
  {
   "cell_type": "markdown",
   "metadata": {},
   "source": [
    "### Solution1: String"
   ]
  },
  {
   "cell_type": "code",
   "execution_count": 17,
   "metadata": {},
   "outputs": [],
   "source": [
    "def findUnique(s):\n",
    "    letters = \"abcdefghijklmnopqrstuvwxyz\"\n",
    "    index = [s.index(l) for l in letters if s.count(l)==1]\n",
    "    return min(index) if len(index)>0 else -1"
   ]
  },
  {
   "cell_type": "code",
   "execution_count": 18,
   "metadata": {},
   "outputs": [
    {
     "data": {
      "text/plain": [
       "0"
      ]
     },
     "execution_count": 18,
     "metadata": {},
     "output_type": "execute_result"
    }
   ],
   "source": [
    "findUnique(\"leetcode\")"
   ]
  },
  {
   "cell_type": "markdown",
   "metadata": {},
   "source": [
    "### Solution2: Dictionary"
   ]
  },
  {
   "cell_type": "code",
   "execution_count": 19,
   "metadata": {},
   "outputs": [],
   "source": [
    "def findUnique(s):\n",
    "    hashmap = {}\n",
    "    for char in s:\n",
    "        hashmap[char] = hashmap.get(char,0)+1\n",
    "     \n",
    "    for i in range(len(s)):\n",
    "        if hashmap[s[i]]==1:\n",
    "            return i\n",
    "    return  -1"
   ]
  },
  {
   "cell_type": "code",
   "execution_count": 20,
   "metadata": {},
   "outputs": [
    {
     "data": {
      "text/plain": [
       "0"
      ]
     },
     "execution_count": 20,
     "metadata": {},
     "output_type": "execute_result"
    }
   ],
   "source": [
    "findUnique(\"leetcode\")"
   ]
  },
  {
   "cell_type": "markdown",
   "metadata": {},
   "source": [
    "## Valid Anagram"
   ]
  },
  {
   "cell_type": "markdown",
   "metadata": {},
   "source": [
    "Given two strings s and t , write a function to determine if t is an anagram of s.\n",
    "\n",
    "Example 1:\n",
    "\n",
    "Input: s = \"anagram\", t = \"nagaram\"\n",
    "\n",
    "Output: true\n",
    "\n",
    "Example 2:\n",
    "\n",
    "Input: s = \"rat\", t = \"car\"\n",
    "\n",
    "Output: false"
   ]
  },
  {
   "cell_type": "markdown",
   "metadata": {},
   "source": [
    "### Solution1: String"
   ]
  },
  {
   "cell_type": "code",
   "execution_count": 29,
   "metadata": {},
   "outputs": [],
   "source": [
    "def validAnagram(s1,s2):\n",
    "    return sorted(s1)==sorted(s2)"
   ]
  },
  {
   "cell_type": "code",
   "execution_count": 30,
   "metadata": {},
   "outputs": [
    {
     "data": {
      "text/plain": [
       "True"
      ]
     },
     "execution_count": 30,
     "metadata": {},
     "output_type": "execute_result"
    }
   ],
   "source": [
    "validAnagram(\"anagram\",\"nagaram\")"
   ]
  },
  {
   "cell_type": "markdown",
   "metadata": {},
   "source": [
    "### Solution2: Dictionary"
   ]
  },
  {
   "cell_type": "code",
   "execution_count": 27,
   "metadata": {},
   "outputs": [],
   "source": [
    "def validAnagram(s1,s2):\n",
    "    dic1, dic2 = {}, {}\n",
    "    for item in s1:\n",
    "        dic1[item] = dic1.get(item, 0) + 1\n",
    "    for item in s2:\n",
    "        dic2[item] = dic2.get(item, 0) + 1\n",
    "    return dic1 == dic2"
   ]
  },
  {
   "cell_type": "code",
   "execution_count": 28,
   "metadata": {},
   "outputs": [
    {
     "data": {
      "text/plain": [
       "True"
      ]
     },
     "execution_count": 28,
     "metadata": {},
     "output_type": "execute_result"
    }
   ],
   "source": [
    "validAnagram(\"anagram\",\"nagaram\")"
   ]
  },
  {
   "cell_type": "markdown",
   "metadata": {},
   "source": [
    "## Valid Palindrome"
   ]
  },
  {
   "cell_type": "markdown",
   "metadata": {},
   "source": [
    "Given a string, determine if it is a palindrome, considering only alphanumeric characters and ignoring cases.\n",
    "\n",
    "Note: For the purpose of this problem, we define empty string as valid palindrome.\n",
    "\n",
    "Example 1:\n",
    "\n",
    "Input: \"A man, a plan, a canal: Panama\"\n",
    "\n",
    "Output: true\n",
    "\n",
    "Example 2:\n",
    "\n",
    "Input: \"race a car\"\n",
    "\n",
    "Output: false"
   ]
  },
  {
   "cell_type": "markdown",
   "metadata": {},
   "source": [
    "### Solution1: String"
   ]
  },
  {
   "cell_type": "code",
   "execution_count": 32,
   "metadata": {},
   "outputs": [],
   "source": [
    "def isValidPalindrome(s):\n",
    "    s = \"\".join(char.lower() for char in s if char.isalnum())\n",
    "    # The isalnum() method returns True if all characters in the string are alphanumeric (either alphabets or numbers).\n",
    "    # If not, it returns False.\n",
    "    return s == s[::-1]"
   ]
  },
  {
   "cell_type": "code",
   "execution_count": 33,
   "metadata": {},
   "outputs": [
    {
     "data": {
      "text/plain": [
       "True"
      ]
     },
     "execution_count": 33,
     "metadata": {},
     "output_type": "execute_result"
    }
   ],
   "source": [
    "isValidPalindrome(\"A man, a plan, a canal: Panama\")"
   ]
  },
  {
   "cell_type": "code",
   "execution_count": 34,
   "metadata": {},
   "outputs": [
    {
     "data": {
      "text/plain": [
       "False"
      ]
     },
     "execution_count": 34,
     "metadata": {},
     "output_type": "execute_result"
    }
   ],
   "source": [
    "isValidPalindrome(\"race a car\")"
   ]
  },
  {
   "cell_type": "markdown",
   "metadata": {},
   "source": [
    "The isalnum() method returns True if all characters in the string are alphanumeric (either alphabets or numbers).\n",
    "\n",
    "The isalpha() method returns True if all characters in the string are alphabets. If not, it returns False.\n",
    "\n",
    "The isdecimal() method returns True if all characters in a string are decimal characters. If not, it returns False.\n",
    "\n",
    "The isdigit() method returns True if all characters in a string are decimal/digits. If not, it returns False.\n",
    "\n",
    "The isnumeric() method returns True if all characters in a string are decimal/digits/numeric characters. If not, it returns False.\n",
    "\n",
    "In Python, decimal characters (like: 0, 1, 2..), digits (like: subscript, superscript), and characters having Unicode numeric value property (like: fraction, roman numerals, currency numerators) are all considered numeric characters."
   ]
  },
  {
   "cell_type": "markdown",
   "metadata": {},
   "source": [
    "### Solution2: Two Pointer"
   ]
  },
  {
   "cell_type": "code",
   "execution_count": 39,
   "metadata": {},
   "outputs": [],
   "source": [
    "def isValidPalindrome(s):\n",
    "    l = 0\n",
    "    r = len(s)-1\n",
    "    while l<r:\n",
    "        while l<r and not s[l].isalnum():\n",
    "            l +=1\n",
    "        while l<r and not s[r].isalnum():\n",
    "            r -=1\n",
    "        if s[l].lower() != s[r].lower(): return False \n",
    "        l +=1\n",
    "        r -= 1\n",
    "    return True"
   ]
  },
  {
   "cell_type": "code",
   "execution_count": 40,
   "metadata": {},
   "outputs": [
    {
     "data": {
      "text/plain": [
       "True"
      ]
     },
     "execution_count": 40,
     "metadata": {},
     "output_type": "execute_result"
    }
   ],
   "source": [
    "isValidPalindrome(\"A man, a plan, a canal: Panama\")"
   ]
  },
  {
   "cell_type": "code",
   "execution_count": 41,
   "metadata": {},
   "outputs": [
    {
     "data": {
      "text/plain": [
       "False"
      ]
     },
     "execution_count": 41,
     "metadata": {},
     "output_type": "execute_result"
    }
   ],
   "source": [
    "isValidPalindrome(\"race a car\")"
   ]
  },
  {
   "cell_type": "markdown",
   "metadata": {},
   "source": [
    "## String to Integer (atoi)"
   ]
  },
  {
   "cell_type": "markdown",
   "metadata": {},
   "source": [
    "Implement atoi which converts a string to an integer.\n",
    "\n",
    "The function first discards as many whitespace characters as necessary until the first non-whitespace character is found. Then, starting from this character, takes an optional initial plus or minus sign followed by as many numerical digits as possible, and interprets them as a numerical value.\n",
    "\n",
    "The string can contain additional characters after those that form the integral number, which are ignored and have no effect on the behavior of this function.\n",
    "\n",
    "If the first sequence of non-whitespace characters in str is not a valid integral number, or if no such sequence exists because either str is empty or it contains only whitespace characters, no conversion is performed.\n",
    "\n",
    "If no valid conversion could be performed, a zero value is returned.\n",
    "\n",
    "Note:\n",
    "\n",
    "Only the space character ' ' is considered as whitespace character.\n",
    "Assume we are dealing with an environment which could only store integers within the 32-bit signed integer range: [−231,  231 − 1]. If the numerical value is out of the range of representable values, INT_MAX (231 − 1) or INT_MIN (−231) is returned.\n",
    "\n",
    "Example 1:\n",
    "\n",
    "Input: \"42\"\n",
    "\n",
    "Output: 42\n",
    "\n",
    "Example 2:\n",
    "\n",
    "Input: \"   -42\"\n",
    "\n",
    "Output: -42\n",
    "\n",
    "Explanation: The first non-whitespace character is '-', which is the minus sign.\n",
    "             Then take as many numerical digits as possible, which gets 42.\n",
    "Example 3:\n",
    "\n",
    "Input: \"4193 with words\"\n",
    "\n",
    "Output: 4193\n",
    "\n",
    "Explanation: Conversion stops at digit '3' as the next character is not a numerical digit.\n",
    "\n",
    "Example 4:\n",
    "\n",
    "Input: \"words and 987\"\n",
    "\n",
    "Output: 0\n",
    "\n",
    "Explanation: The first non-whitespace character is 'w', which is not a numerical \n",
    "             digit or a +/- sign. Therefore no valid conversion could be performed.\n",
    "Example 5:\n",
    "\n",
    "Input: \"-91283472332\"\n",
    "\n",
    "Output: -2147483648\n",
    "\n",
    "Explanation: The number \"-91283472332\" is out of the range of a 32-bit signed integer.\n",
    "             Thefore INT_MIN (−231) is returned."
   ]
  },
  {
   "cell_type": "markdown",
   "metadata": {},
   "source": [
    "### Solution1: String"
   ]
  },
  {
   "cell_type": "code",
   "execution_count": 46,
   "metadata": {},
   "outputs": [],
   "source": [
    "def atoi(s):\n",
    "    intMax = 2147483647\n",
    "    intMin = -2147483648\n",
    "    s = s.strip()\n",
    "    if not s:\n",
    "        return 0\n",
    "    sign, it = 1, 0\n",
    "    if s[it] == \"+\":\n",
    "        it += 1\n",
    "    elif s[it] == \"-\":\n",
    "        sign = -1\n",
    "        it += 1\n",
    "    num = 0\n",
    "    while it < len(s):\n",
    "        if not s[it].isdigit():\n",
    "            break\n",
    "        num = num * 10 + ord(s[it]) - ord('0') \n",
    "        # The ord() function in Python accepts a string of length 1 as an argument and returns the unicode code point representation of the passed argument. \n",
    "        # ord(s[it]) - ord('0') equals to int(s[it]). We could not use int() here since it's 'cheating'.\n",
    "        if num > intMax:\n",
    "            break\n",
    "        it += 1\n",
    "    return min(max(sign * num, intMin), intMax)"
   ]
  },
  {
   "cell_type": "code",
   "execution_count": 47,
   "metadata": {},
   "outputs": [
    {
     "data": {
      "text/plain": [
       "0"
      ]
     },
     "execution_count": 47,
     "metadata": {},
     "output_type": "execute_result"
    }
   ],
   "source": [
    "atoi(\"words and 987\")"
   ]
  },
  {
   "cell_type": "code",
   "execution_count": 48,
   "metadata": {},
   "outputs": [
    {
     "data": {
      "text/plain": [
       "-2147483648"
      ]
     },
     "execution_count": 48,
     "metadata": {},
     "output_type": "execute_result"
    }
   ],
   "source": [
    "atoi(\"-91283472332\")"
   ]
  },
  {
   "cell_type": "code",
   "execution_count": 49,
   "metadata": {},
   "outputs": [
    {
     "data": {
      "text/plain": [
       "-1243"
      ]
     },
     "execution_count": 49,
     "metadata": {},
     "output_type": "execute_result"
    }
   ],
   "source": [
    "atoi(\"-1243 pig pig\")"
   ]
  },
  {
   "cell_type": "markdown",
   "metadata": {},
   "source": [
    "## Implement strStr()"
   ]
  },
  {
   "cell_type": "markdown",
   "metadata": {},
   "source": [
    "### Solution1: String"
   ]
  },
  {
   "cell_type": "markdown",
   "metadata": {},
   "source": [
    "Implement strStr().\n",
    "\n",
    "Return the index of the first occurrence of needle in haystack, or -1 if needle is not part of haystack.\n",
    "\n",
    "Example 1:\n",
    "\n",
    "Input: haystack = \"hello\", needle = \"ll\"\n",
    "\n",
    "Output: 2\n",
    "\n",
    "Example 2:\n",
    "\n",
    "Input: haystack = \"aaaaa\", needle = \"bba\"\n",
    "\n",
    "Output: -1\n",
    "\n",
    "Clarification:\n",
    "\n",
    "What should we return when needle is an empty string? This is a great question to ask during an interview.\n",
    "\n",
    "For the purpose of this problem, we will return 0 when needle is an empty string. This is consistent to C's strstr() and Java's indexOf()."
   ]
  },
  {
   "cell_type": "code",
   "execution_count": 50,
   "metadata": {},
   "outputs": [],
   "source": [
    "def strStr(haystack, needle):\n",
    "    if not needle: return 0\n",
    "    if len(haystack)<len(needle):return -1\n",
    "    for i in range(len(haystack) - len(needle)+1):\n",
    "        if haystack[i] != needle[0]:\n",
    "            continue\n",
    "        if haystack[i:(i+len(needle))] == needle:\n",
    "            return i\n",
    "    return -1"
   ]
  },
  {
   "cell_type": "code",
   "execution_count": 51,
   "metadata": {},
   "outputs": [
    {
     "data": {
      "text/plain": [
       "-1"
      ]
     },
     "execution_count": 51,
     "metadata": {},
     "output_type": "execute_result"
    }
   ],
   "source": [
    "strStr(haystack = \"aaaaa\", needle = \"bba\")"
   ]
  },
  {
   "cell_type": "markdown",
   "metadata": {},
   "source": [
    "## Count and Say\n"
   ]
  },
  {
   "cell_type": "markdown",
   "metadata": {},
   "source": [
    "https://leetcode.com/explore/interview/card/top-interview-questions-easy/127/strings/886/"
   ]
  },
  {
   "cell_type": "markdown",
   "metadata": {},
   "source": [
    "### Solution1:"
   ]
  },
  {
   "cell_type": "markdown",
   "metadata": {},
   "source": [
    "Idea here is keep track of the first letter in the sequence and count consecutive occurances. Once you encounter a new letter you add the previous count and letter to the chain. Repeat n-1 times (since we seeded the initial '1' case). We always update temp after the inner loop since we will never have already added the last sequence."
   ]
  },
  {
   "cell_type": "code",
   "execution_count": 60,
   "metadata": {},
   "outputs": [],
   "source": [
    "def countSay(n):\n",
    "    s = '1'\n",
    "    for _ in range(n-1):\n",
    "        letter =  s[0]\n",
    "        tmp = \"\"\n",
    "        count = 0\n",
    "        for i in range(len(s)):\n",
    "            if s[i] == letter:\n",
    "                count +=1\n",
    "            else:\n",
    "                tmp += str(count) + letter\n",
    "                letter = s[i]\n",
    "                count = 1\n",
    "        tmp += str(count) + letter\n",
    "        s = tmp\n",
    "    return s"
   ]
  },
  {
   "cell_type": "code",
   "execution_count": 61,
   "metadata": {
    "scrolled": true
   },
   "outputs": [
    {
     "data": {
      "text/plain": [
       "'1211'"
      ]
     },
     "execution_count": 61,
     "metadata": {},
     "output_type": "execute_result"
    }
   ],
   "source": [
    "countSay(4)"
   ]
  },
  {
   "cell_type": "markdown",
   "metadata": {},
   "source": [
    "## Longest Common Prefix"
   ]
  },
  {
   "cell_type": "markdown",
   "metadata": {},
   "source": [
    "Write a function to find the longest common prefix string amongst an array of strings.\n",
    "\n",
    "If there is no common prefix, return an empty string \"\".\n",
    "\n",
    "Example 1:\n",
    "\n",
    "Input: [\"flower\",\"flow\",\"flight\"]\n",
    "\n",
    "Output: \"fl\"\n",
    "\n",
    "Example 2:\n",
    "\n",
    "Input: [\"dog\",\"racecar\",\"car\"]\n",
    "\n",
    "Output: \"\"\n",
    "\n",
    "Explanation: There is no common prefix among the input strings.\n",
    "\n",
    "Note:\n",
    "\n",
    "All given inputs are in lowercase letters a-z."
   ]
  },
  {
   "cell_type": "markdown",
   "metadata": {},
   "source": [
    "### Solution1: Find min string first, then compare with others"
   ]
  },
  {
   "cell_type": "code",
   "execution_count": null,
   "metadata": {},
   "outputs": [],
   "source": [
    "def findCommonPrefix(strs):\n",
    "    if not strs: return \"\"\n",
    "    minstr = min(strs,key=len) #find the str whose length is minimum\n",
    "    for i, char in enumerate(minstr):\n",
    "        for s in strs:\n",
    "            if s[i] != char:\n",
    "                return minstr[:i]\n",
    "    return minstr"
   ]
  },
  {
   "cell_type": "markdown",
   "metadata": {},
   "source": [
    "## Length of String combined by others"
   ]
  },
  {
   "cell_type": "code",
   "execution_count": 10,
   "metadata": {},
   "outputs": [],
   "source": [
    "def maxString(s,n):\n",
    "    for _ in range(n):\n",
    "        s = sorted(s,key =len)\n",
    "        while(s):\n",
    "            maxString = s.pop()\n",
    "            for r in range(len(s)):\n",
    "                l = 0\n",
    "                while l<r:\n",
    "                    if s[l] + s[r] == maxString or s[r] + s[l] == maxString:\n",
    "                        return len(maxString)\n",
    "                    l+=1\n",
    "                      \n",
    "    return len(maxString)"
   ]
  },
  {
   "cell_type": "code",
   "execution_count": 11,
   "metadata": {},
   "outputs": [
    {
     "data": {
      "text/plain": [
       "4"
      ]
     },
     "execution_count": 11,
     "metadata": {},
     "output_type": "execute_result"
    }
   ],
   "source": [
    "maxString(['a','abc','bcd', 'abcd'],4)"
   ]
  },
  {
   "cell_type": "code",
   "execution_count": 12,
   "metadata": {},
   "outputs": [
    {
     "data": {
      "text/plain": [
       "4"
      ]
     },
     "execution_count": 12,
     "metadata": {},
     "output_type": "execute_result"
    }
   ],
   "source": [
    "maxString(['a','d','abc', 'abcd'],4)"
   ]
  },
  {
   "cell_type": "markdown",
   "metadata": {},
   "source": [
    "# Medium"
   ]
  },
  {
   "cell_type": "markdown",
   "metadata": {},
   "source": [
    "## Minimum Window Substring"
   ]
  },
  {
   "cell_type": "markdown",
   "metadata": {},
   "source": [
    "### Solution: Two pointers + Counter"
   ]
  },
  {
   "cell_type": "markdown",
   "metadata": {},
   "source": [
    "https://leetcode.com/explore/interview/card/top-interview-questions-hard/116/array-and-strings/838/discuss/26808/Here-is-a-10-line-template-that-can-solve-most-'substring'-problems"
   ]
  },
  {
   "cell_type": "markdown",
   "metadata": {},
   "source": [
    "1. Use two pointers: start and end to represent a window.\n",
    "\n",
    "2. Move end to find a valid window.\n",
    "\n",
    "3. When a valid window is found, move start to find a smaller window."
   ]
  },
  {
   "cell_type": "code",
   "execution_count": 12,
   "metadata": {},
   "outputs": [],
   "source": [
    "class Solution:\n",
    "    def minWindow(self,s,t):\n",
    "        # step 1: def\n",
    "        # define a counter to store chars in t\n",
    "        dic = {}\n",
    "        for char in t:\n",
    "            dic[char] = dic.get(char,0)+1\n",
    "        print(dic)\n",
    "        # start, end\n",
    "        start = end = 0\n",
    "        \n",
    "        minWindowLen = len(s) +1 #note: if minWindowLen doesn't change, there is no valid substring\n",
    "        minStart = 0\n",
    "        charsNeed = len(t)\n",
    "        \n",
    "        # step 2: move end to find valid window\n",
    "        while(end<len(s)):\n",
    "            if s[end] in t: #this char is needed\n",
    "                if dic[s[end]]>0:#this char is still need\n",
    "                    charsNeed -=1\n",
    "                dic[s[end]] -=1\n",
    "            \n",
    "            while charsNeed == 0: #find a valid window\n",
    "                if  end-start+1<minWindowLen: #check if this is the min window\n",
    "                    minWindowLen = end-start+1\n",
    "                    minStart = start\n",
    "                \n",
    "                # step 3: move start to find the min window\n",
    "                if s[start] in t:\n",
    "                    # we don't need to do anything if s[start] is useless, but need to update when s[start] is needed\n",
    "                    dic[s[start]] +=1\n",
    "                    if dic[s[start]] >0:#this char is needed \n",
    "                        charsNeed +=1\n",
    "                start +=1\n",
    "            \n",
    "            end +=1\n",
    "        if minWindowLen == len(s) +1:\n",
    "            return \"\"\n",
    "        else:\n",
    "            return s[minStart:minStart+minWindowLen]\n",
    "                "
   ]
  },
  {
   "cell_type": "code",
   "execution_count": 13,
   "metadata": {},
   "outputs": [
    {
     "name": "stdout",
     "output_type": "stream",
     "text": [
      "{'A': 1, 'B': 1, 'C': 1}\n"
     ]
    },
    {
     "data": {
      "text/plain": [
       "'BANC'"
      ]
     },
     "execution_count": 13,
     "metadata": {},
     "output_type": "execute_result"
    }
   ],
   "source": [
    "solution = Solution()\n",
    "solution.minWindow(s = \"ADOBECODEBANC\", t = \"ABC\")"
   ]
  },
  {
   "cell_type": "code",
   "execution_count": null,
   "metadata": {},
   "outputs": [],
   "source": []
  }
 ],
 "metadata": {
  "kernelspec": {
   "display_name": "Python 3",
   "language": "python",
   "name": "python3"
  },
  "language_info": {
   "codemirror_mode": {
    "name": "ipython",
    "version": 3
   },
   "file_extension": ".py",
   "mimetype": "text/x-python",
   "name": "python",
   "nbconvert_exporter": "python",
   "pygments_lexer": "ipython3",
   "version": "3.6.8"
  },
  "toc": {
   "base_numbering": 1,
   "nav_menu": {},
   "number_sections": true,
   "sideBar": true,
   "skip_h1_title": false,
   "title_cell": "Table of Contents",
   "title_sidebar": "Contents",
   "toc_cell": true,
   "toc_position": {},
   "toc_section_display": true,
   "toc_window_display": true
  }
 },
 "nbformat": 4,
 "nbformat_minor": 2
}
