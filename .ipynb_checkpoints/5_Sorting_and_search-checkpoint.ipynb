{
 "cells": [
  {
   "cell_type": "markdown",
   "metadata": {
    "toc": true
   },
   "source": [
    "<h1>Table of Contents<span class=\"tocSkip\"></span></h1>\n",
    "<div class=\"toc\"><ul class=\"toc-item\"><li><span><a href=\"#Easy\" data-toc-modified-id=\"Easy-1\"><span class=\"toc-item-num\">1&nbsp;&nbsp;</span>Easy</a></span><ul class=\"toc-item\"><li><span><a href=\"#Merge-Sorted-Array\" data-toc-modified-id=\"Merge-Sorted-Array-1.1\"><span class=\"toc-item-num\">1.1&nbsp;&nbsp;</span>Merge Sorted Array</a></span><ul class=\"toc-item\"><li><span><a href=\"#Solution1:-Adding-elements-from-tail\" data-toc-modified-id=\"Solution1:-Adding-elements-from-tail-1.1.1\"><span class=\"toc-item-num\">1.1.1&nbsp;&nbsp;</span>Solution1: Adding elements from tail</a></span></li></ul></li><li><span><a href=\"#First-Bad-Version\" data-toc-modified-id=\"First-Bad-Version-1.2\"><span class=\"toc-item-num\">1.2&nbsp;&nbsp;</span>First Bad Version</a></span><ul class=\"toc-item\"><li><span><a href=\"#Solution1:-Binary-Search\" data-toc-modified-id=\"Solution1:-Binary-Search-1.2.1\"><span class=\"toc-item-num\">1.2.1&nbsp;&nbsp;</span>Solution1: Binary Search</a></span></li></ul></li></ul></li><li><span><a href=\"#Medium\" data-toc-modified-id=\"Medium-2\"><span class=\"toc-item-num\">2&nbsp;&nbsp;</span>Medium</a></span><ul class=\"toc-item\"><li><span><a href=\"#Sort-Colors\" data-toc-modified-id=\"Sort-Colors-2.1\"><span class=\"toc-item-num\">2.1&nbsp;&nbsp;</span>Sort Colors</a></span><ul class=\"toc-item\"><li><span><a href=\"#Solution1:-Count-Sort\" data-toc-modified-id=\"Solution1:-Count-Sort-2.1.1\"><span class=\"toc-item-num\">2.1.1&nbsp;&nbsp;</span>Solution1: Count Sort</a></span></li></ul></li><li><span><a href=\"#Top-K-Frequent-Elements\" data-toc-modified-id=\"Top-K-Frequent-Elements-2.2\"><span class=\"toc-item-num\">2.2&nbsp;&nbsp;</span>Top K Frequent Elements</a></span><ul class=\"toc-item\"><li><span><a href=\"#Solution:-Counter-+-bucket\" data-toc-modified-id=\"Solution:-Counter-+-bucket-2.2.1\"><span class=\"toc-item-num\">2.2.1&nbsp;&nbsp;</span>Solution: Counter + bucket</a></span></li></ul></li><li><span><a href=\"#Kth-Largest-Element-in-an-Array\" data-toc-modified-id=\"Kth-Largest-Element-in-an-Array-2.3\"><span class=\"toc-item-num\">2.3&nbsp;&nbsp;</span>Kth Largest Element in an Array</a></span><ul class=\"toc-item\"><li><span><a href=\"#Solution1:-bubble-sort\" data-toc-modified-id=\"Solution1:-bubble-sort-2.3.1\"><span class=\"toc-item-num\">2.3.1&nbsp;&nbsp;</span>Solution1: bubble sort</a></span></li><li><span><a href=\"#Solution2:-quick-select\" data-toc-modified-id=\"Solution2:-quick-select-2.3.2\"><span class=\"toc-item-num\">2.3.2&nbsp;&nbsp;</span>Solution2: quick select</a></span></li><li><span><a href=\"#Solution3:-quick-select-(use-partition)\" data-toc-modified-id=\"Solution3:-quick-select-(use-partition)-2.3.3\"><span class=\"toc-item-num\">2.3.3&nbsp;&nbsp;</span>Solution3: quick select (use partition)</a></span><ul class=\"toc-item\"><li><span><a href=\"#Note:-quick-sort-vs-quick-select\" data-toc-modified-id=\"Note:-quick-sort-vs-quick-select-2.3.3.1\"><span class=\"toc-item-num\">2.3.3.1&nbsp;&nbsp;</span>Note: quick sort vs quick select</a></span></li></ul></li><li><span><a href=\"#Solution4:-Heap\" data-toc-modified-id=\"Solution4:-Heap-2.3.4\"><span class=\"toc-item-num\">2.3.4&nbsp;&nbsp;</span>Solution4: Heap</a></span></li></ul></li><li><span><a href=\"#Find-Peak-Element\" data-toc-modified-id=\"Find-Peak-Element-2.4\"><span class=\"toc-item-num\">2.4&nbsp;&nbsp;</span>Find Peak Element</a></span><ul class=\"toc-item\"><li><span><a href=\"#Solution1:-Binary-Search\" data-toc-modified-id=\"Solution1:-Binary-Search-2.4.1\"><span class=\"toc-item-num\">2.4.1&nbsp;&nbsp;</span>Solution1: Binary Search</a></span></li><li><span><a href=\"#Solution2:-Recursive-Binary-Search:-find-max\" data-toc-modified-id=\"Solution2:-Recursive-Binary-Search:-find-max-2.4.2\"><span class=\"toc-item-num\">2.4.2&nbsp;&nbsp;</span>Solution2: Recursive Binary Search: find max</a></span></li></ul></li><li><span><a href=\"#Search-for-a-Range\" data-toc-modified-id=\"Search-for-a-Range-2.5\"><span class=\"toc-item-num\">2.5&nbsp;&nbsp;</span>Search for a Range</a></span><ul class=\"toc-item\"><li><span><a href=\"#Solution1:-Binary-Search\" data-toc-modified-id=\"Solution1:-Binary-Search-2.5.1\"><span class=\"toc-item-num\">2.5.1&nbsp;&nbsp;</span>Solution1: Binary Search</a></span></li><li><span><a href=\"#Solution2:-Two-binary-search-for-left,-right\" data-toc-modified-id=\"Solution2:-Two-binary-search-for-left,-right-2.5.2\"><span class=\"toc-item-num\">2.5.2&nbsp;&nbsp;</span>Solution2: Two binary search for left, right</a></span></li></ul></li><li><span><a href=\"#Merge-Intervals\" data-toc-modified-id=\"Merge-Intervals-2.6\"><span class=\"toc-item-num\">2.6&nbsp;&nbsp;</span>Merge Intervals</a></span><ul class=\"toc-item\"><li><span><a href=\"#Solution1\" data-toc-modified-id=\"Solution1-2.6.1\"><span class=\"toc-item-num\">2.6.1&nbsp;&nbsp;</span>Solution1</a></span></li></ul></li><li><span><a href=\"#Non-overlapping-Intervals\" data-toc-modified-id=\"Non-overlapping-Intervals-2.7\"><span class=\"toc-item-num\">2.7&nbsp;&nbsp;</span>Non-overlapping Intervals</a></span><ul class=\"toc-item\"><li><span><a href=\"#Solution1\" data-toc-modified-id=\"Solution1-2.7.1\"><span class=\"toc-item-num\">2.7.1&nbsp;&nbsp;</span>Solution1</a></span></li></ul></li><li><span><a href=\"#Search-in-Rotated-Sorted-Array\" data-toc-modified-id=\"Search-in-Rotated-Sorted-Array-2.8\"><span class=\"toc-item-num\">2.8&nbsp;&nbsp;</span>Search in Rotated Sorted Array</a></span><ul class=\"toc-item\"><li><span><a href=\"#Solution:-Revised-Binary-Search\" data-toc-modified-id=\"Solution:-Revised-Binary-Search-2.8.1\"><span class=\"toc-item-num\">2.8.1&nbsp;&nbsp;</span>Solution: Revised Binary Search</a></span></li></ul></li><li><span><a href=\"#Search-a-2D-Matrix-II\" data-toc-modified-id=\"Search-a-2D-Matrix-II-2.9\"><span class=\"toc-item-num\">2.9&nbsp;&nbsp;</span>Search a 2D Matrix II</a></span><ul class=\"toc-item\"><li><span><a href=\"#Solution-1:-BFS\" data-toc-modified-id=\"Solution-1:-BFS-2.9.1\"><span class=\"toc-item-num\">2.9.1&nbsp;&nbsp;</span>Solution 1: BFS</a></span></li></ul></li></ul></li><li><span><a href=\"#Hard\" data-toc-modified-id=\"Hard-3\"><span class=\"toc-item-num\">3&nbsp;&nbsp;</span>Hard</a></span><ul class=\"toc-item\"><li><span><a href=\"#Wiggle-Sort-II\" data-toc-modified-id=\"Wiggle-Sort-II-3.1\"><span class=\"toc-item-num\">3.1&nbsp;&nbsp;</span>Wiggle Sort II</a></span><ul class=\"toc-item\"><li><span><a href=\"#Solution1:-Quick-select-+-Virtual-indexing\" data-toc-modified-id=\"Solution1:-Quick-select-+-Virtual-indexing-3.1.1\"><span class=\"toc-item-num\">3.1.1&nbsp;&nbsp;</span>Solution1: Quick select + Virtual indexing</a></span></li><li><span><a href=\"#Solution2:-Sort\" data-toc-modified-id=\"Solution2:-Sort-3.1.2\"><span class=\"toc-item-num\">3.1.2&nbsp;&nbsp;</span>Solution2: Sort</a></span></li></ul></li><li><span><a href=\"#Kth-Smallest-Element-in-a-Sorted-Matrix\" data-toc-modified-id=\"Kth-Smallest-Element-in-a-Sorted-Matrix-3.2\"><span class=\"toc-item-num\">3.2&nbsp;&nbsp;</span>Kth Smallest Element in a Sorted Matrix</a></span><ul class=\"toc-item\"><li><span><a href=\"#Solution1:-Heap\" data-toc-modified-id=\"Solution1:-Heap-3.2.1\"><span class=\"toc-item-num\">3.2.1&nbsp;&nbsp;</span>Solution1: Heap</a></span></li><li><span><a href=\"#Solution2:-Sort\" data-toc-modified-id=\"Solution2:-Sort-3.2.2\"><span class=\"toc-item-num\">3.2.2&nbsp;&nbsp;</span>Solution2: Sort</a></span></li><li><span><a href=\"#Solution3:-Binary-Search\" data-toc-modified-id=\"Solution3:-Binary-Search-3.2.3\"><span class=\"toc-item-num\">3.2.3&nbsp;&nbsp;</span>Solution3: Binary Search</a></span></li></ul></li></ul></li></ul></div>"
   ]
  },
  {
   "cell_type": "markdown",
   "metadata": {},
   "source": [
    "# Easy"
   ]
  },
  {
   "cell_type": "markdown",
   "metadata": {},
   "source": [
    "## Merge Sorted Array"
   ]
  },
  {
   "cell_type": "markdown",
   "metadata": {},
   "source": [
    "Given two sorted integer arrays nums1 and nums2, merge nums2 into nums1 as one sorted array.\n",
    "\n",
    "Note:\n",
    "\n",
    "The number of elements initialized in nums1 and nums2 are m and n respectively.\n",
    "You may assume that nums1 has enough space (size that is equal to m + n) to hold additional elements from nums2.\n",
    "Example:\n",
    "\n",
    "Input:\n",
    "\n",
    "nums1 = [1,2,3,0,0,0], m = 3\n",
    "\n",
    "nums2 = [2,5,6],       n = 3\n",
    "\n",
    "Output: [1,2,2,3,5,6]"
   ]
  },
  {
   "cell_type": "markdown",
   "metadata": {},
   "source": [
    "### Solution1: Adding elements from tail"
   ]
  },
  {
   "cell_type": "code",
   "execution_count": 1,
   "metadata": {},
   "outputs": [],
   "source": [
    "def mergeArray(nums1,m,nums2,n):\n",
    "    while m>0 and n>0:\n",
    "        if nums1[m-1]>nums2[n-1]:\n",
    "            nums1[m+n-1] = nums1[m-1]\n",
    "            m -=1\n",
    "        else:\n",
    "            nums1[m+n-1] = nums2[n-1]\n",
    "            n -=1\n",
    "    if n>0:\n",
    "        nums1[:n] = nums2[:n]\n",
    "    return nums1"
   ]
  },
  {
   "cell_type": "code",
   "execution_count": 2,
   "metadata": {},
   "outputs": [
    {
     "data": {
      "text/plain": [
       "[1, 2, 2, 3, 5, 6]"
      ]
     },
     "execution_count": 2,
     "metadata": {},
     "output_type": "execute_result"
    }
   ],
   "source": [
    "mergeArray(nums1 = [1,2,3,0,0,0], m = 3,nums2 = [2,5,6], n = 3)"
   ]
  },
  {
   "cell_type": "markdown",
   "metadata": {},
   "source": [
    "## First Bad Version"
   ]
  },
  {
   "cell_type": "markdown",
   "metadata": {},
   "source": [
    "You are a product manager and currently leading a team to develop a new product. Unfortunately, the latest version of your product fails the quality check. Since each version is developed based on the previous version, all the versions after a bad version are also bad.\n",
    "\n",
    "Suppose you have n versions [1, 2, ..., n] and you want to find out the first bad one, which causes all the following ones to be bad.\n",
    "\n",
    "You are given an API bool isBadVersion(version) which will return whether version is bad. Implement a function to find the first bad version. You should minimize the number of calls to the API.\n",
    "\n",
    "Example:\n",
    "\n",
    "Given n = 5, and version = 4 is the first bad version.\n",
    "\n",
    "call isBadVersion(3) -> false\n",
    "\n",
    "call isBadVersion(5) -> true\n",
    "\n",
    "call isBadVersion(4) -> true\n",
    "\n",
    "Then 4 is the first bad version. "
   ]
  },
  {
   "cell_type": "markdown",
   "metadata": {},
   "source": [
    "### Solution1: Binary Search"
   ]
  },
  {
   "cell_type": "code",
   "execution_count": null,
   "metadata": {},
   "outputs": [],
   "source": [
    "def findBadVersion(n):\n",
    "    l = 0\n",
    "    r = n\n",
    "    while(l<r):\n",
    "        mid = l + (r - l) / 2 # mid = (l+r)/2 may yield to  overflow\n",
    "        if(isBadVersion(mid)):\n",
    "            r = mid #search interval: [left, mid]\n",
    "        else:\n",
    "            l = mid+1 #search interval: (mid, right]"
   ]
  },
  {
   "cell_type": "markdown",
   "metadata": {},
   "source": [
    "# Medium"
   ]
  },
  {
   "cell_type": "markdown",
   "metadata": {},
   "source": [
    "https://leetcode.com/explore/interview/card/top-interview-questions-medium/110/sorting-and-searching/798/"
   ]
  },
  {
   "cell_type": "markdown",
   "metadata": {},
   "source": [
    "## Sort Colors"
   ]
  },
  {
   "cell_type": "markdown",
   "metadata": {},
   "source": [
    "Given an array nums with n objects colored red, white, or blue, sort them in-place so that objects of the same color are adjacent, with the colors in the order red, white, and blue.\n",
    "\n",
    "Here, we will use the integers 0, 1, and 2 to represent the color red, white, and blue respectively.\n",
    "\n",
    "Follow up:\n",
    "\n",
    "Could you solve this problem without using the library's sort function?\n",
    "Could you come up with a one-pass algorithm using only O(1) constant space?\n",
    " \n",
    "\n",
    "Example 1:\n",
    "\n",
    "Input: nums = [2,0,2,1,1,0]\n",
    "Output: [0,0,1,1,2,2]\n",
    "Example 2:\n",
    "\n",
    "Input: nums = [2,0,1]\n",
    "Output: [0,1,2]\n",
    "Example 3:\n",
    "\n",
    "Input: nums = [0]\n",
    "Output: [0]\n",
    "Example 4:\n",
    "\n",
    "Input: nums = [1]\n",
    "Output: [1]"
   ]
  },
  {
   "cell_type": "markdown",
   "metadata": {},
   "source": [
    "### Solution1: Count Sort"
   ]
  },
  {
   "cell_type": "code",
   "execution_count": 1,
   "metadata": {},
   "outputs": [],
   "source": [
    "def sortColors(nums):\n",
    "    c0 = 0\n",
    "    c1 = 0\n",
    "    c2 = 0\n",
    "    for num in nums:\n",
    "        if num==0: c0+=1\n",
    "        elif num==1: c1+=1\n",
    "        else: c2+=1\n",
    "    nums[0:c0] = [0] * c0\n",
    "    nums[c0:c0+c1] = [1] * c1\n",
    "    nums[c0+c1:] = [2] * c2\n",
    "    return nums    "
   ]
  },
  {
   "cell_type": "code",
   "execution_count": 2,
   "metadata": {},
   "outputs": [
    {
     "data": {
      "text/plain": [
       "[0, 0, 1, 1, 2, 2]"
      ]
     },
     "execution_count": 2,
     "metadata": {},
     "output_type": "execute_result"
    }
   ],
   "source": [
    "sortColors([2,0,2,1,1,0])"
   ]
  },
  {
   "cell_type": "markdown",
   "metadata": {},
   "source": [
    "## Top K Frequent Elements"
   ]
  },
  {
   "cell_type": "markdown",
   "metadata": {},
   "source": [
    "### Solution: Counter + bucket"
   ]
  },
  {
   "cell_type": "code",
   "execution_count": 18,
   "metadata": {},
   "outputs": [],
   "source": [
    "from collections import Counter, defaultdict\n",
    "def topKFrequent(nums, k):\n",
    "    freqDict = Counter(nums)\n",
    "    print(freqDict)\n",
    "    bucket =  defaultdict(list)\n",
    "    for num,count in freqDict.items():\n",
    "        bucket[count] = num\n",
    "    print(bucket) #bucket: reverse Counter\n",
    "    res = []\n",
    "    maxcount = len(nums)\n",
    "    while len(res)<k: \n",
    "        if maxcount in bucket: #search from len(nums)\n",
    "            res.append(bucket[maxcount])\n",
    "        maxcount -=1\n",
    "    return res"
   ]
  },
  {
   "cell_type": "code",
   "execution_count": 19,
   "metadata": {},
   "outputs": [
    {
     "name": "stdout",
     "output_type": "stream",
     "text": [
      "Counter({1: 3, 3: 2, 2: 1, 4: 1, 5: 1})\n",
      "defaultdict(<class 'list'>, {1: 5, 2: 3, 3: 1})\n"
     ]
    },
    {
     "data": {
      "text/plain": [
       "[1, 3]"
      ]
     },
     "execution_count": 19,
     "metadata": {},
     "output_type": "execute_result"
    }
   ],
   "source": [
    "topKFrequent([2,3,4,5,1,1,1,3],2)"
   ]
  },
  {
   "cell_type": "markdown",
   "metadata": {},
   "source": [
    "## Kth Largest Element in an Array"
   ]
  },
  {
   "cell_type": "markdown",
   "metadata": {},
   "source": [
    "https://leetcode.com/explore/interview/card/top-interview-questions-medium/110/sorting-and-searching/800/discuss/60306/Python-different-solutions-with-comments-(bubble-sort-selection-sort-heap-sort-and-quick-sort)."
   ]
  },
  {
   "cell_type": "markdown",
   "metadata": {},
   "source": [
    "### Solution1: bubble sort"
   ]
  },
  {
   "cell_type": "code",
   "execution_count": 19,
   "metadata": {},
   "outputs": [],
   "source": [
    "# O(nk)\n",
    "def findLargestElement(nums,k):\n",
    "    for i in range(k):\n",
    "        for j in range(len(nums)-i-1):\n",
    "            if nums[j]>nums[j+1]:\n",
    "                nums[j], nums[j+1] = nums[j+1], nums[j]\n",
    "        print(nums)\n",
    "    return nums[len(nums)-k:]"
   ]
  },
  {
   "cell_type": "code",
   "execution_count": 20,
   "metadata": {},
   "outputs": [
    {
     "name": "stdout",
     "output_type": "stream",
     "text": [
      "[2, 3, 4, 1, 1, 1, 3, 5]\n",
      "[2, 3, 1, 1, 1, 3, 4, 5]\n"
     ]
    },
    {
     "data": {
      "text/plain": [
       "[4, 5]"
      ]
     },
     "execution_count": 20,
     "metadata": {},
     "output_type": "execute_result"
    }
   ],
   "source": [
    "findLargestElement([2,3,4,5,1,1,1,3],2)"
   ]
  },
  {
   "cell_type": "markdown",
   "metadata": {},
   "source": [
    "### Solution2: quick select"
   ]
  },
  {
   "cell_type": "code",
   "execution_count": 47,
   "metadata": {},
   "outputs": [],
   "source": [
    "class Solution:\n",
    "    def findLargestElement(self,nums,k):\n",
    "        pivot = nums[-1]\n",
    "        left  = [l for l in nums if l < pivot]\n",
    "        equal = [e for e in nums if e == pivot]\n",
    "        right = [r for r in nums if r > pivot]\n",
    "\n",
    "        if k <= len(right):\n",
    "            return self.findLargestElement(right, k)\n",
    "        elif (k - len(right)) <= len(equal):\n",
    "            return equal[0]\n",
    "        else:\n",
    "            return self.findLargestElement(left, k - len(right) - len(equal)) "
   ]
  },
  {
   "cell_type": "code",
   "execution_count": 48,
   "metadata": {},
   "outputs": [
    {
     "name": "stdout",
     "output_type": "stream",
     "text": [
      "CPU times: user 2 µs, sys: 0 ns, total: 2 µs\n",
      "Wall time: 4.05 µs\n"
     ]
    },
    {
     "data": {
      "text/plain": [
       "1"
      ]
     },
     "execution_count": 48,
     "metadata": {},
     "output_type": "execute_result"
    }
   ],
   "source": [
    "%time\n",
    "solution = Solution()\n",
    "solution.findLargestElement([2,3,4,5,1,1,1,3],6)"
   ]
  },
  {
   "cell_type": "markdown",
   "metadata": {},
   "source": [
    "### Solution3: quick select (use partition) "
   ]
  },
  {
   "cell_type": "code",
   "execution_count": 45,
   "metadata": {},
   "outputs": [],
   "source": [
    "# O(n)\n",
    "class Solution:\n",
    "    def findLargestElement(self,nums,k):\n",
    "        l, r= 0, len(nums) - 1\n",
    "        while True:\n",
    "            pos = self.partition(nums,l, r)\n",
    "            print(pos)\n",
    "            print(nums)\n",
    "            if pos < k-1:#note:pos is index, therefore, we should compare it with k-1\n",
    "                l = pos +1 #search numbers smaller than nums[pos]\n",
    "            elif pos > k-1:\n",
    "                r = pos -1 #search numbers larger than nums[pos]\n",
    "            else:\n",
    "                return nums[pos]\n",
    "    \n",
    "    def partition(self,nums,left, right):\n",
    "        pivot = nums[right] # pick the last one as pivot\n",
    "        i = left\n",
    "        for j in range(left, right): # left to right -1\n",
    "            #print(\"j%d\" %j)\n",
    "            #print(nums)\n",
    "            if nums[j] > pivot: # put larger elements in left side\n",
    "                #print(\"i%d\" %i)\n",
    "                #print(nums)\n",
    "                nums[j], nums[i] = nums[i], nums[j]\n",
    "                i += 1\n",
    "        #print(nums)      \n",
    "        nums[right], nums[i] = nums[i], nums[right] # swap the i and the last element(pivot) so that the pivot is in the right place\n",
    "        #print(nums)\n",
    "        return i"
   ]
  },
  {
   "cell_type": "code",
   "execution_count": 46,
   "metadata": {},
   "outputs": [
    {
     "name": "stdout",
     "output_type": "stream",
     "text": [
      "CPU times: user 2 µs, sys: 0 ns, total: 2 µs\n",
      "Wall time: 4.77 µs\n",
      "2\n",
      "[4, 5, 3, 3, 1, 1, 1, 2]\n",
      "4\n",
      "[4, 5, 3, 3, 2, 1, 1, 1]\n",
      "5\n",
      "[4, 5, 3, 3, 2, 1, 1, 1]\n"
     ]
    },
    {
     "data": {
      "text/plain": [
       "1"
      ]
     },
     "execution_count": 46,
     "metadata": {},
     "output_type": "execute_result"
    }
   ],
   "source": [
    "%time\n",
    "solution = Solution()\n",
    "solution.findLargestElement([2,3,4,5,1,1,1,3],6)"
   ]
  },
  {
   "cell_type": "code",
   "execution_count": 33,
   "metadata": {},
   "outputs": [
    {
     "name": "stdout",
     "output_type": "stream",
     "text": [
      "j0\n",
      "[2, 3, 4, 5, 1, 1, 1, 3]\n",
      "j1\n",
      "[2, 3, 4, 5, 1, 1, 1, 3]\n",
      "j2\n",
      "[2, 3, 4, 5, 1, 1, 1, 3]\n",
      "i0\n",
      "[2, 3, 4, 5, 1, 1, 1, 3]\n",
      "j3\n",
      "[4, 3, 2, 5, 1, 1, 1, 3]\n",
      "i1\n",
      "[4, 3, 2, 5, 1, 1, 1, 3]\n",
      "j4\n",
      "[4, 5, 2, 3, 1, 1, 1, 3]\n",
      "j5\n",
      "[4, 5, 2, 3, 1, 1, 1, 3]\n",
      "j6\n",
      "[4, 5, 2, 3, 1, 1, 1, 3]\n",
      "[4, 5, 2, 3, 1, 1, 1, 3]\n",
      "[4, 5, 3, 3, 1, 1, 1, 2]\n"
     ]
    },
    {
     "data": {
      "text/plain": [
       "2"
      ]
     },
     "execution_count": 33,
     "metadata": {},
     "output_type": "execute_result"
    }
   ],
   "source": [
    "solution = Solution()\n",
    "solution.partition([2,3,4,5,1,1,1,3],0,7)"
   ]
  },
  {
   "cell_type": "markdown",
   "metadata": {},
   "source": [
    "#### Note: quick sort vs quick select"
   ]
  },
  {
   "cell_type": "markdown",
   "metadata": {},
   "source": [
    "quick sort: sort nums in desc or asc order\n",
    "\n",
    "quick select: the left side is larger than the kth element and the right side is smaller than the kth element, but the order is not guranteed."
   ]
  },
  {
   "cell_type": "code",
   "execution_count": 101,
   "metadata": {},
   "outputs": [],
   "source": [
    "class Solution:\n",
    "    def quickSort(self,nums,l,r):\n",
    "        if len(nums) == 1:\n",
    "            return nums\n",
    "        if l<r:\n",
    "            pos = self.partition(nums,l, r)\n",
    "            #print(pos)\n",
    "            #print(nums)\n",
    "            self.quickSort(nums,l,pos-1)\n",
    "            self.quickSort(nums,pos+1,r)\n",
    "        print(nums)\n",
    "    \n",
    "    def partition(self,nums,left, right):\n",
    "        pivot = nums[right] # pick the last one as pivot\n",
    "        i = left\n",
    "        for j in range(left, right): # left to right -1\n",
    "            #print(\"j%d\" %j)\n",
    "            #print(nums)\n",
    "            if nums[j] > pivot: # put larger elements in left side\n",
    "                #print(\"i%d\" %i)\n",
    "                #print(nums)\n",
    "                nums[j], nums[i] = nums[i], nums[j]\n",
    "                i += 1\n",
    "        #print(nums)      \n",
    "        nums[right], nums[i] = nums[i], nums[right] # swap the i and the last element(pivot) so that the pivot is in the right place\n",
    "        #print(nums)\n",
    "        return i"
   ]
  },
  {
   "cell_type": "code",
   "execution_count": 102,
   "metadata": {},
   "outputs": [
    {
     "name": "stdout",
     "output_type": "stream",
     "text": [
      "[9, 7, 6, 5, 1, 2, 4, 3]\n",
      "[9, 7, 6, 5, 1, 2, 4, 3]\n",
      "[9, 7, 6, 5, 1, 2, 4, 3]\n",
      "[9, 7, 6, 5, 1, 2, 4, 3]\n",
      "[9, 7, 6, 5, 1, 2, 4, 3]\n",
      "[9, 7, 6, 5, 4, 3, 1, 2]\n",
      "[9, 7, 6, 5, 4, 3, 2, 1]\n",
      "[9, 7, 6, 5, 4, 3, 2, 1]\n",
      "[9, 7, 6, 5, 4, 3, 2, 1]\n",
      "[9, 7, 6, 5, 4, 3, 2, 1]\n",
      "[9, 7, 6, 5, 4, 3, 2, 1]\n"
     ]
    }
   ],
   "source": [
    "solution = Solution()\n",
    "solution.quickSort([1, 6,7,3,9,2,4,5],0,7)"
   ]
  },
  {
   "cell_type": "markdown",
   "metadata": {},
   "source": [
    "### Solution4: Heap"
   ]
  },
  {
   "cell_type": "code",
   "execution_count": 109,
   "metadata": {},
   "outputs": [],
   "source": [
    "from heapq import heappush, heappop\n",
    "class Solution:\n",
    "    def findLargestElement(self,nums,k):\n",
    "        quene = []\n",
    "        for n in nums:\n",
    "            heappush(quene,n) #quene is in asc order\n",
    "        for i in range(len(nums)-k):\n",
    "            heappop(quene) #pop from the smallest\n",
    "        return heappop(quene)"
   ]
  },
  {
   "cell_type": "code",
   "execution_count": 110,
   "metadata": {},
   "outputs": [
    {
     "name": "stdout",
     "output_type": "stream",
     "text": [
      "CPU times: user 2 µs, sys: 1 µs, total: 3 µs\n",
      "Wall time: 22.9 µs\n"
     ]
    },
    {
     "data": {
      "text/plain": [
       "1"
      ]
     },
     "execution_count": 110,
     "metadata": {},
     "output_type": "execute_result"
    }
   ],
   "source": [
    "%time\n",
    "solution = Solution()\n",
    "solution.findLargestElement([2,3,4,5,1,1,1,3],6)"
   ]
  },
  {
   "cell_type": "markdown",
   "metadata": {},
   "source": [
    "## Find Peak Element"
   ]
  },
  {
   "cell_type": "markdown",
   "metadata": {},
   "source": [
    "A peak element is an element that is greater than its neighbors.\n",
    "\n",
    "Given an input array nums, where nums[i] ≠ nums[i+1], find a peak element and return its index.\n",
    "\n",
    "The array may contain multiple peaks, in that case return the index to any one of the peaks is fine.\n",
    "\n",
    "You may imagine that nums[-1] = nums[n] = -∞.\n",
    "\n",
    "Example 1:\n",
    "\n",
    "Input: nums = [1,2,3,1]\n",
    "\n",
    "Output: 2\n",
    "\n",
    "Explanation: 3 is a peak element and your function should return the index number 2.\n",
    "\n",
    "Example 2:\n",
    "\n",
    "Input: nums = [1,2,1,3,5,6,4]\n",
    "\n",
    "Output: 1 or 5 \n",
    "\n",
    "Explanation: Your function can return either index number 1 where the peak element is 2, \n",
    "             or index number 5 where the peak element is 6."
   ]
  },
  {
   "cell_type": "markdown",
   "metadata": {},
   "source": [
    "### Solution1: Binary Search"
   ]
  },
  {
   "cell_type": "code",
   "execution_count": 16,
   "metadata": {},
   "outputs": [],
   "source": [
    "class Solution:\n",
    "    def findPeak(self,nums):\n",
    "        l = 0\n",
    "        r = len(nums)-1\n",
    "        while l<r:\n",
    "            mid = (l+r)//2\n",
    "            if nums[mid]>nums[mid+1]:\n",
    "                r = mid\n",
    "            else:\n",
    "                l = mid+1\n",
    "        return l"
   ]
  },
  {
   "cell_type": "code",
   "execution_count": 18,
   "metadata": {},
   "outputs": [
    {
     "name": "stdout",
     "output_type": "stream",
     "text": [
      "CPU times: user 2 µs, sys: 0 ns, total: 2 µs\n",
      "Wall time: 5.25 µs\n"
     ]
    },
    {
     "data": {
      "text/plain": [
       "5"
      ]
     },
     "execution_count": 18,
     "metadata": {},
     "output_type": "execute_result"
    }
   ],
   "source": [
    "%time\n",
    "solution = Solution()\n",
    "solution.findPeak([1,2,1,3,5,6,4])"
   ]
  },
  {
   "cell_type": "markdown",
   "metadata": {},
   "source": [
    "### Solution2: Recursive Binary Search: find max"
   ]
  },
  {
   "cell_type": "code",
   "execution_count": 19,
   "metadata": {},
   "outputs": [],
   "source": [
    "class Solution:\n",
    "    def findPeak(self,nums):\n",
    "        return self.helper(nums,0,len(nums)-1)\n",
    "          \n",
    "    def helper(self,nums,l,r):\n",
    "        if l==r:\n",
    "            return l\n",
    "        mid = (l+r)//2\n",
    "        if nums[mid]>nums[mid+1]:\n",
    "            # note should return ...\n",
    "            return self.helper(nums,l,mid)\n",
    "        else:\n",
    "            return self.helper(nums,mid+1,r)"
   ]
  },
  {
   "cell_type": "code",
   "execution_count": 20,
   "metadata": {},
   "outputs": [
    {
     "name": "stdout",
     "output_type": "stream",
     "text": [
      "CPU times: user 2 µs, sys: 0 ns, total: 2 µs\n",
      "Wall time: 4.77 µs\n"
     ]
    },
    {
     "data": {
      "text/plain": [
       "5"
      ]
     },
     "execution_count": 20,
     "metadata": {},
     "output_type": "execute_result"
    }
   ],
   "source": [
    "%time\n",
    "solution = Solution()\n",
    "solution.findPeak([1,2,1,3,5,6,4])"
   ]
  },
  {
   "cell_type": "code",
   "execution_count": 42,
   "metadata": {},
   "outputs": [],
   "source": [
    "class Solution:\n",
    "    def findPeak(self,nums):\n",
    "        self.l = 0\n",
    "        self.r = len(nums)-1\n",
    "        self.helper(nums)\n",
    "        return self.l\n",
    "          \n",
    "    def helper(self,nums):\n",
    "        if self.l==self.r:\n",
    "            return \n",
    "        mid = (self.l+self.r)//2\n",
    "        if nums[mid]>nums[mid+1]:\n",
    "            # update self.r, not need to return\n",
    "            self.r = mid\n",
    "            self.helper(nums)\n",
    "        else:\n",
    "            self.l = mid+1\n",
    "            self.helper(nums)"
   ]
  },
  {
   "cell_type": "code",
   "execution_count": 43,
   "metadata": {},
   "outputs": [
    {
     "name": "stdout",
     "output_type": "stream",
     "text": [
      "CPU times: user 2 µs, sys: 0 ns, total: 2 µs\n",
      "Wall time: 5.25 µs\n"
     ]
    },
    {
     "data": {
      "text/plain": [
       "5"
      ]
     },
     "execution_count": 43,
     "metadata": {},
     "output_type": "execute_result"
    }
   ],
   "source": [
    "%time\n",
    "solution = Solution()\n",
    "solution.findPeak([1,2,1,3,5,6,4])"
   ]
  },
  {
   "cell_type": "markdown",
   "metadata": {},
   "source": [
    "## Search for a Range"
   ]
  },
  {
   "cell_type": "markdown",
   "metadata": {},
   "source": [
    "Given an array of integers nums sorted in ascending order, find the starting and ending position of a given target value.\n",
    "\n",
    "If target is not found in the array, return [-1, -1].\n",
    "\n",
    "Follow up: Could you write an algorithm with O(log n) runtime complexity?\n",
    "\n",
    " \n",
    "\n",
    "Example 1:\n",
    "\n",
    "Input: nums = [5,7,7,8,8,10], target = 8\n",
    "\n",
    "Output: [3,4]\n",
    "\n",
    "Example 2:\n",
    "\n",
    "Input: nums = [5,7,7,8,8,10], target = 6\n",
    "\n",
    "Output: [-1,-1]\n",
    "\n",
    "Example 3:\n",
    "\n",
    "Input: nums = [], target = 0\n",
    "\n",
    "Output: [-1,-1]"
   ]
  },
  {
   "cell_type": "markdown",
   "metadata": {},
   "source": [
    "### Solution1: Binary Search"
   ]
  },
  {
   "cell_type": "code",
   "execution_count": 45,
   "metadata": {},
   "outputs": [],
   "source": [
    "class Solution:\n",
    "    def findRange(self,nums,target):\n",
    "        if not nums:\n",
    "            return [-1,-1]\n",
    "        self.l = 0\n",
    "        self.r = len(nums)-1\n",
    "        self.helper(nums,target)\n",
    "        return [self.l,self.r]\n",
    "                \n",
    "          \n",
    "    def helper(self,nums,target):\n",
    "        mid = (self.l+self.r)//2\n",
    "        if  self.l == self.r and target != nums[mid]:\n",
    "            self.l = self.r = -1\n",
    "            return \n",
    "        if target == nums[mid]:\n",
    "            self.l = self.r = mid\n",
    "            # handle duplicates\n",
    "            while self.l>0 and nums[self.l]==nums[self.l-1]:\n",
    "                self.l -=1\n",
    "            while self.r<len(nums)-1 and nums[self.r]==nums[self.r+1]:\n",
    "                self.r +=1\n",
    "            return \n",
    "        elif target<nums[mid]:\n",
    "            self.r = mid\n",
    "            self.helper(nums,target)\n",
    "        else:\n",
    "            self.l = mid+1\n",
    "            self.helper(nums,target)"
   ]
  },
  {
   "cell_type": "code",
   "execution_count": 46,
   "metadata": {},
   "outputs": [
    {
     "data": {
      "text/plain": [
       "[3, 4]"
      ]
     },
     "execution_count": 46,
     "metadata": {},
     "output_type": "execute_result"
    }
   ],
   "source": [
    "solution = Solution()\n",
    "solution.findRange( [5,7,7,8,8,10],8)"
   ]
  },
  {
   "cell_type": "markdown",
   "metadata": {},
   "source": [
    "### Solution2: Two binary search for left, right"
   ]
  },
  {
   "cell_type": "code",
   "execution_count": 51,
   "metadata": {},
   "outputs": [],
   "source": [
    "class Solution:\n",
    "    def findRange(self,nums,target):\n",
    "        if not nums:\n",
    "            return [-1,-1]\n",
    "        self.l = self.lc = 0\n",
    "        self.r = self.rc = len(nums)-1\n",
    "        self.binarySearchLeft(nums,target)\n",
    "        self.binarySearchRight(nums,target)\n",
    "        return [self.l,self.r]\n",
    "                \n",
    "          \n",
    "    def binarySearchLeft(self,nums,target):\n",
    "        mid = (self.l+self.rc)//2 # check lower bound\n",
    "        if self.l==self.rc:\n",
    "            if nums[self.l]==target:\n",
    "                return\n",
    "            else:\n",
    "                self.l = -1\n",
    "                return\n",
    "        if target>nums[mid]: # make sure update left bound first\n",
    "            self.l = mid+1 # mid+1 always valid\n",
    "            self.binarySearchLeft(nums,target)\n",
    "        else:\n",
    "            self.rc = mid\n",
    "            self.binarySearchLeft(nums,target)\n",
    "    \n",
    "    def binarySearchRight(self,nums,target):\n",
    "        mid = (self.lc+self.r)//2 +1 # check upper bound\n",
    "        if self.lc==self.r:\n",
    "            if nums[self.r]==target:\n",
    "                return \n",
    "            else:\n",
    "                self.r = -1\n",
    "                return \n",
    "        if target<nums[mid]: # make sure update right bound first\n",
    "            self.r = mid-1 # mid -1 always exist\n",
    "            self.binarySearchRight(nums,target)\n",
    "        else:\n",
    "            self.lc = mid\n",
    "            self.binarySearchRight(nums,target)"
   ]
  },
  {
   "cell_type": "code",
   "execution_count": 52,
   "metadata": {},
   "outputs": [
    {
     "data": {
      "text/plain": [
       "[3, 4]"
      ]
     },
     "execution_count": 52,
     "metadata": {},
     "output_type": "execute_result"
    }
   ],
   "source": [
    "solution = Solution()\n",
    "solution.findRange( [5,7,7,8,8,10],8)"
   ]
  },
  {
   "cell_type": "markdown",
   "metadata": {},
   "source": [
    "## Merge Intervals"
   ]
  },
  {
   "cell_type": "markdown",
   "metadata": {},
   "source": [
    "Given a collection of intervals, merge all overlapping intervals.\n",
    "\n",
    "Example 1:\n",
    "\n",
    "Input: intervals = [[1,3],[2,6],[8,10],[15,18]]\n",
    "\n",
    "Output: [[1,6],[8,10],[15,18]]\n",
    "\n",
    "Explanation: Since intervals [1,3] and [2,6] overlaps, merge them into [1,6].\n",
    "\n",
    "Example 2:\n",
    "\n",
    "Input: intervals = [[1,4],[4,5]]\n",
    "\n",
    "Output: [[1,5]]\n",
    "\n",
    "Explanation: Intervals [1,4] and [4,5] are considered overlapping.\n",
    "\n",
    "NOTE: input types have been changed on April 15, 2019. Please reset to default code definition to get new method signature."
   ]
  },
  {
   "cell_type": "markdown",
   "metadata": {},
   "source": [
    "### Solution1"
   ]
  },
  {
   "cell_type": "markdown",
   "metadata": {},
   "source": [
    "Just go through the intervals sorted by start coordinate and either combine the current interval with the previous one if they overlap, or add it to the output by itself if they don't."
   ]
  },
  {
   "cell_type": "code",
   "execution_count": 58,
   "metadata": {},
   "outputs": [],
   "source": [
    "class Solution:\n",
    "    def merge(self,intervals):\n",
    "        intervals = sorted(intervals,key=lambda i:i[0])\n",
    "        print(intervals)\n",
    "        ans = []\n",
    "        for i in intervals:\n",
    "            # note: if ans\n",
    "            if ans and i[0]<=ans[-1][1]:\n",
    "                ans[-1][1] = max(ans[-1][1],i[1])\n",
    "            else:\n",
    "                ans.append(i)\n",
    "        return ans"
   ]
  },
  {
   "cell_type": "code",
   "execution_count": 59,
   "metadata": {},
   "outputs": [
    {
     "name": "stdout",
     "output_type": "stream",
     "text": [
      "[[1, 3], [2, 6], [8, 10], [15, 18]]\n"
     ]
    },
    {
     "data": {
      "text/plain": [
       "[[1, 6], [8, 10], [15, 18]]"
      ]
     },
     "execution_count": 59,
     "metadata": {},
     "output_type": "execute_result"
    }
   ],
   "source": [
    "solution = Solution()\n",
    "solution.merge( [[1,3],[2,6],[8,10],[15,18]])"
   ]
  },
  {
   "cell_type": "markdown",
   "metadata": {},
   "source": [
    "## Non-overlapping Intervals"
   ]
  },
  {
   "cell_type": "markdown",
   "metadata": {},
   "source": [
    "Given a collection of intervals, find the minimum number of intervals you need to remove to make the rest of the intervals non-overlapping."
   ]
  },
  {
   "cell_type": "markdown",
   "metadata": {},
   "source": [
    "Example 1:\n",
    "\n",
    "Input: [[1,2],[2,3],[3,4],[1,3]]\n",
    "\n",
    "Output: 1\n",
    "\n",
    "Explanation: [1,3] can be removed and the rest of intervals are non-overlapping.\n",
    "\n",
    "Example 2:\n",
    "\n",
    "Input: [[1,2],[1,2],[1,2]]\n",
    "\n",
    "Output: 2\n",
    "\n",
    "Explanation: You need to remove two [1,2] to make the rest of intervals non-overlapping.\n",
    "\n",
    "Example 3:\n",
    "\n",
    "Input: [[1,2],[2,3]]\n",
    "\n",
    "Output: 0\n",
    "\n",
    "Explanation: You don't need to remove any of the intervals since they're already non-overlapping."
   ]
  },
  {
   "cell_type": "markdown",
   "metadata": {},
   "source": [
    "### Solution1"
   ]
  },
  {
   "cell_type": "markdown",
   "metadata": {},
   "source": [
    "Which interval would be the best first (leftmost) interval to keep? One that ends first, as it leaves the most room for the rest. So take one with smallest end, remove all the bad ones overlapping it, and repeat (taking the one with smallest end of the remaining ones). For the overlap test, just keep track of the current end, initialized with negative infinity."
   ]
  },
  {
   "cell_type": "code",
   "execution_count": 76,
   "metadata": {},
   "outputs": [],
   "source": [
    "class Solution:\n",
    "    def remove(self,intervals):\n",
    "        intervals = sorted(intervals,key=lambda i:i[1])\n",
    "        print(intervals)\n",
    "        erased = 0\n",
    "        end = float('-inf')\n",
    "        for i in intervals:\n",
    "            if i[0]>=end:\n",
    "                end = i[1]\n",
    "            else:\n",
    "                erased +=1\n",
    "        return erased"
   ]
  },
  {
   "cell_type": "code",
   "execution_count": 80,
   "metadata": {},
   "outputs": [],
   "source": [
    "class Solution:\n",
    "    def remove(self,intervals):\n",
    "        intervals = sorted(intervals,key=lambda i:i[1])\n",
    "        print(intervals)\n",
    "        erased = 0\n",
    "        ans = []\n",
    "        for i in intervals:\n",
    "            # note: if ans\n",
    "            if ans and i[0]<ans[-1][1]:\n",
    "                erased +=1\n",
    "            else:\n",
    "                 ans.append(i)\n",
    "        return erased"
   ]
  },
  {
   "cell_type": "code",
   "execution_count": 81,
   "metadata": {},
   "outputs": [
    {
     "name": "stdout",
     "output_type": "stream",
     "text": [
      "[[1, 2], [0, 2], [1, 3], [3, 4]]\n"
     ]
    },
    {
     "data": {
      "text/plain": [
       "2"
      ]
     },
     "execution_count": 81,
     "metadata": {},
     "output_type": "execute_result"
    }
   ],
   "source": [
    "solution = Solution()\n",
    "solution.remove( [[1,2],[0,2],[3,4],[1,3]])"
   ]
  },
  {
   "cell_type": "markdown",
   "metadata": {},
   "source": [
    "## Search in Rotated Sorted Array"
   ]
  },
  {
   "cell_type": "markdown",
   "metadata": {},
   "source": [
    "You are given an integer array nums sorted in ascending order, and an integer target.\n",
    "\n",
    "Suppose that nums is rotated at some pivot unknown to you beforehand (i.e., [0,1,2,4,5,6,7] might become [4,5,6,7,0,1,2]).\n",
    "\n",
    "If target is found in the array return its index, otherwise, return -1.\n",
    "\n",
    " \n",
    "\n",
    "Example 1:\n",
    "\n",
    "Input: nums = [4,5,6,7,0,1,2], target = 0\n",
    "\n",
    "Output: 4\n",
    "\n",
    "Example 2:\n",
    "\n",
    "Input: nums = [4,5,6,7,0,1,2], target = 3\n",
    "\n",
    "Output: -1\n",
    "\n",
    "Example 3:\n",
    "\n",
    "Input: nums = [1], target = 0\n",
    "\n",
    "Output: -1"
   ]
  },
  {
   "cell_type": "markdown",
   "metadata": {},
   "source": [
    "### Solution: Revised Binary Search"
   ]
  },
  {
   "cell_type": "markdown",
   "metadata": {},
   "source": [
    "https://leetcode.com/explore/interview/card/top-interview-questions-medium/110/sorting-and-searching/804/discuss/14436/Revised-Binary-Search"
   ]
  },
  {
   "cell_type": "code",
   "execution_count": 105,
   "metadata": {},
   "outputs": [],
   "source": [
    "class Solution:\n",
    "    def searchRotateArray(self,nums,target):\n",
    "        if not nums:\n",
    "            return -1\n",
    "        l,r = 0, len(nums)-1\n",
    "        while(l<=r):\n",
    "           \n",
    "            mid = (l+r)//2 # take lower bound, mid+1 is valid\n",
    "            print(l,mid,r)\n",
    "            if nums[mid]==target:\n",
    "                return mid\n",
    "            # nums[l]<=nums[mid]\n",
    "            elif nums[l]<=nums[mid]:#nums[l]~nums[mid] is monotonically increasing\n",
    "                if nums[l]<=target<nums[mid]: \n",
    "                    r = mid #search interval [left,mid)\n",
    "                else:\n",
    "                    l = mid+1 #search interval (mid,right]\n",
    "            else: #nums[mid]~nums[r] is monotonically increasing\n",
    "                if nums[mid]<target<=nums[r]:\n",
    "                    l = mid+1 #search interval (mid,right]\n",
    "                else:\n",
    "                    r = mid #search interval [left,mid)\n",
    "        return -1"
   ]
  },
  {
   "cell_type": "code",
   "execution_count": 103,
   "metadata": {},
   "outputs": [
    {
     "name": "stdout",
     "output_type": "stream",
     "text": [
      "0 3 6\n",
      "4 5 6\n",
      "4 4 5\n"
     ]
    },
    {
     "data": {
      "text/plain": [
       "4"
      ]
     },
     "execution_count": 103,
     "metadata": {},
     "output_type": "execute_result"
    }
   ],
   "source": [
    "solution = Solution()\n",
    "solution.searchRotateArray(nums = [4,5,6,7,0,1,2], target = 0)"
   ]
  },
  {
   "cell_type": "code",
   "execution_count": 106,
   "metadata": {},
   "outputs": [
    {
     "name": "stdout",
     "output_type": "stream",
     "text": [
      "0 3 6\n",
      "4 5 6\n",
      "6 6 6\n"
     ]
    },
    {
     "data": {
      "text/plain": [
       "-1"
      ]
     },
     "execution_count": 106,
     "metadata": {},
     "output_type": "execute_result"
    }
   ],
   "source": [
    "solution = Solution()\n",
    "solution.searchRotateArray(nums = [4,5,6,7,0,1,2], target = 3)"
   ]
  },
  {
   "cell_type": "code",
   "execution_count": 100,
   "metadata": {},
   "outputs": [
    {
     "name": "stdout",
     "output_type": "stream",
     "text": [
      "0 0 1\n",
      "1 1 1\n"
     ]
    },
    {
     "data": {
      "text/plain": [
       "1"
      ]
     },
     "execution_count": 100,
     "metadata": {},
     "output_type": "execute_result"
    }
   ],
   "source": [
    "solution = Solution()\n",
    "solution.searchRotateArray(nums = [1,3], target = 3)"
   ]
  },
  {
   "cell_type": "code",
   "execution_count": 101,
   "metadata": {},
   "outputs": [
    {
     "name": "stdout",
     "output_type": "stream",
     "text": [
      "0 0 1\n"
     ]
    },
    {
     "data": {
      "text/plain": [
       "0"
      ]
     },
     "execution_count": 101,
     "metadata": {},
     "output_type": "execute_result"
    }
   ],
   "source": [
    "solution = Solution()\n",
    "solution.searchRotateArray(nums = [3,1], target = 3)"
   ]
  },
  {
   "cell_type": "markdown",
   "metadata": {},
   "source": [
    "## Search a 2D Matrix II"
   ]
  },
  {
   "cell_type": "markdown",
   "metadata": {},
   "source": [
    "Write an efficient algorithm that searches for a value in an m x n matrix. This matrix has the following properties:\n",
    "\n",
    "Integers in each row are sorted in ascending from left to right.\n",
    "Integers in each column are sorted in ascending from top to bottom.\n",
    "Example:\n",
    "\n",
    "Consider the following matrix:\n",
    "\n",
    "[\n",
    "  [1,   4,  7, 11, 15],\n",
    "  [2,   5,  8, 12, 19],\n",
    "  [3,   6,  9, 16, 22],\n",
    "  [10, 13, 14, 17, 24],\n",
    "  [18, 21, 23, 26, 30]\n",
    "]\n",
    "\n",
    "Given target = 5, return true.\n",
    "\n",
    "Given target = 20, return false."
   ]
  },
  {
   "cell_type": "markdown",
   "metadata": {},
   "source": [
    "### Solution 1: BFS"
   ]
  },
  {
   "cell_type": "markdown",
   "metadata": {},
   "source": [
    "Search from the top-right/bottom-left element and reduce the search space by one row or column at each time.(we can treat the top-right/bottom-left element as a root of a BST so we only need o(m+N) to find the target.)\n"
   ]
  },
  {
   "cell_type": "code",
   "execution_count": null,
   "metadata": {},
   "outputs": [],
   "source": [
    "class Solution:\n",
    "    def searchMatrix(self,matrix,target):\n",
    "        if not matrix:\n",
    "            return False\n",
    "        # search from top-right\n",
    "        row = 0\n",
    "        col = len(matrix[0])-1\n",
    "        while row<=len(matrix)-1 and col>=0:\n",
    "            if matrix[row][col]==target:\n",
    "                return True\n",
    "            elif matrix[row][col] > target:\n",
    "                col -=1\n",
    "            else:\n",
    "                row +=1\n",
    "        return False"
   ]
  },
  {
   "cell_type": "markdown",
   "metadata": {},
   "source": [
    "# Hard"
   ]
  },
  {
   "cell_type": "markdown",
   "metadata": {},
   "source": [
    "## Wiggle Sort II"
   ]
  },
  {
   "cell_type": "markdown",
   "metadata": {},
   "source": [
    "Given an unsorted array nums, reorder it such that nums[0] < nums[1] > nums[2] < nums[3]....\n",
    "\n",
    "Example 1:\n",
    "\n",
    "Input: nums = [1, 5, 1, 1, 6, 4]\n",
    "\n",
    "Output: One possible answer is [1, 4, 1, 5, 1, 6].\n",
    "\n",
    "Example 2:\n",
    "\n",
    "Input: nums = [1, 3, 2, 2, 3, 1]\n",
    "\n",
    "Output: One possible answer is [2, 3, 1, 3, 1, 2]."
   ]
  },
  {
   "cell_type": "markdown",
   "metadata": {},
   "source": [
    "### Solution1: Quick select + Virtual indexing"
   ]
  },
  {
   "cell_type": "markdown",
   "metadata": {},
   "source": [
    "https://leetcode.com/explore/interview/card/top-interview-questions-hard/120/sorting-and-searching/857/discuss/77684/Summary-of-the-various-solutions-to-Wiggle-Sort-for-your-reference"
   ]
  },
  {
   "cell_type": "markdown",
   "metadata": {},
   "source": [
    "https://leetcode.com/explore/interview/card/top-interview-questions-hard/120/sorting-and-searching/857/discuss/333079/Python-deterministic-O(n)-time-+-O(1)-memory-quick-select-+-%22median-of-medians%22"
   ]
  },
  {
   "cell_type": "code",
   "execution_count": 107,
   "metadata": {},
   "outputs": [],
   "source": [
    "class Solution:\n",
    "    def wiggleSort(self,nums):\n",
    "        n=len(nums)\n",
    "        mid=self.finKthSmallestElement(nums,(n+1)//2)\n",
    "        print(\"mid: %d\" %mid)\n",
    "        mapIdx=lambda i:(1+2*i)%(n|1) \n",
    "        # note: (n|1) here is n+1, and this function would map the index to odd indexes,even indexes\n",
    "        # for example: mapIdx = lambda i:(1+2*i)%(6|1)\n",
    "        # [0,1,2,3,4,5] --> [1,3,5,0,2,4]\n",
    "        # if we don't do any mapping, the codes below would lead to [>mid][mid][<mid] where order is not guranteed.\n",
    "        i,j,k = 0,n-1,0\n",
    "        while k<=j:\n",
    "            print(\"k: %d\" %k)\n",
    "            print(\"mapIdx(k): %d\" %mapIdx(k))\n",
    "            if nums[mapIdx(k)]>mid: \n",
    "                print(\"nums[mapIdx(k)]>mid\")\n",
    "                print(\"i: %d\" %i)\n",
    "                print(\"mapIdx(i): %d\" %mapIdx(i))\n",
    "                nums[mapIdx(k)],nums[mapIdx(i)]=nums[mapIdx(i)],nums[mapIdx(k)] # move >mid to the 'left'\n",
    "                i+=1\n",
    "                k+=1\n",
    "            elif nums[mapIdx(k)]<mid:\n",
    "                print(\"nums[mapIdx(k)]<mid\")\n",
    "                print(\"j: %d\" %j)\n",
    "                print(\"mapIdx(j): %d\" %mapIdx(j))\n",
    "                nums[mapIdx(k)],nums[mapIdx(j)]=nums[mapIdx(j)],nums[mapIdx(k)] # move <mid to the 'right'\n",
    "                j-=1\n",
    "            else:\n",
    "                k+=1\n",
    "            print(nums)\n",
    "    \n",
    "    \n",
    "    def finKthSmallestElement(self,nums,k):\n",
    "        pivot = nums[-1]\n",
    "        small = [n for n in nums if n < pivot]\n",
    "        equal = [n for n in nums if n == pivot]\n",
    "        large = [n for n in nums if n > pivot]\n",
    "        \n",
    "        if k <= len(small):\n",
    "            return self.finKthSmallestElement(small,k)\n",
    "        elif len(small)<k<=len(small)+len(equal):\n",
    "            return equal[0]\n",
    "        else:\n",
    "            return self.finKthSmallestElement(large,k-(len(small)+len(equal)))"
   ]
  },
  {
   "cell_type": "code",
   "execution_count": 108,
   "metadata": {},
   "outputs": [
    {
     "name": "stdout",
     "output_type": "stream",
     "text": [
      "mid: 3\n",
      "k: 0\n",
      "mapIdx(k): 1\n",
      "nums[mapIdx(k)]>mid\n",
      "i: 0\n",
      "mapIdx(i): 1\n",
      "[1, 6, 2, 3, 9, 2, 4, 5]\n",
      "k: 1\n",
      "mapIdx(k): 3\n",
      "[1, 6, 2, 3, 9, 2, 4, 5]\n",
      "k: 2\n",
      "mapIdx(k): 5\n",
      "nums[mapIdx(k)]<mid\n",
      "j: 7\n",
      "mapIdx(j): 6\n",
      "[1, 6, 2, 3, 9, 4, 2, 5]\n",
      "k: 2\n",
      "mapIdx(k): 5\n",
      "nums[mapIdx(k)]>mid\n",
      "i: 1\n",
      "mapIdx(i): 3\n",
      "[1, 6, 2, 4, 9, 3, 2, 5]\n",
      "k: 3\n",
      "mapIdx(k): 7\n",
      "nums[mapIdx(k)]>mid\n",
      "i: 2\n",
      "mapIdx(i): 5\n",
      "[1, 6, 2, 4, 9, 5, 2, 3]\n",
      "k: 4\n",
      "mapIdx(k): 0\n",
      "nums[mapIdx(k)]<mid\n",
      "j: 6\n",
      "mapIdx(j): 4\n",
      "[9, 6, 2, 4, 1, 5, 2, 3]\n",
      "k: 4\n",
      "mapIdx(k): 0\n",
      "nums[mapIdx(k)]>mid\n",
      "i: 3\n",
      "mapIdx(i): 7\n",
      "[3, 6, 2, 4, 1, 5, 2, 9]\n",
      "k: 5\n",
      "mapIdx(k): 2\n",
      "nums[mapIdx(k)]<mid\n",
      "j: 5\n",
      "mapIdx(j): 2\n",
      "[3, 6, 2, 4, 1, 5, 2, 9]\n"
     ]
    }
   ],
   "source": [
    "solution = Solution()\n",
    "solution.wiggleSort([1, 6,2,3,9,2,4,5])"
   ]
  },
  {
   "cell_type": "markdown",
   "metadata": {},
   "source": [
    "### Solution2: Sort"
   ]
  },
  {
   "cell_type": "code",
   "execution_count": 113,
   "metadata": {},
   "outputs": [],
   "source": [
    "class Solution:\n",
    "    def wiggleSort(self,nums):\n",
    "        arr = sorted(nums)\n",
    "        # pop from last\n",
    "        for i in range(1,len(nums),2): # fill even indexes first\n",
    "            nums[i] = arr.pop()\n",
    "        for i in range(0,len(nums),2): # fill even indexes first\n",
    "            nums[i] = arr.pop()\n",
    "        print(nums)"
   ]
  },
  {
   "cell_type": "code",
   "execution_count": 114,
   "metadata": {},
   "outputs": [
    {
     "name": "stdout",
     "output_type": "stream",
     "text": [
      "[3, 9, 2, 6, 2, 5, 1, 4]\n"
     ]
    }
   ],
   "source": [
    "solution = Solution()\n",
    "solution.wiggleSort([1, 6,2,3,9,2,4,5])"
   ]
  },
  {
   "cell_type": "markdown",
   "metadata": {},
   "source": [
    "## Kth Smallest Element in a Sorted Matrix"
   ]
  },
  {
   "cell_type": "markdown",
   "metadata": {},
   "source": [
    "https://leetcode.com/explore/interview/card/top-interview-questions-hard/120/sorting-and-searching/858/"
   ]
  },
  {
   "cell_type": "markdown",
   "metadata": {},
   "source": [
    "### Solution1: Heap"
   ]
  },
  {
   "cell_type": "markdown",
   "metadata": {},
   "source": [
    "https://leetcode.com/explore/interview/card/top-interview-questions-hard/120/sorting-and-searching/858/discuss/85219/Python-solution-O(klogk)-similar-to-problem-373"
   ]
  },
  {
   "cell_type": "code",
   "execution_count": 129,
   "metadata": {},
   "outputs": [],
   "source": [
    "from heapq import heappush, heappop\n",
    "class Solution:\n",
    "    def findKthSmallestMatrix(self,matrix,k):\n",
    "        quene = []\n",
    "        heappush(quene, (matrix[0][0],0,0)) #start from left-top corner\n",
    "        for _ in range(k):\n",
    "            print(quene)\n",
    "            element, i, j = heappop(quene)\n",
    "            print(element)\n",
    "            \n",
    "            if i==0 and j<len(matrix[0])-1:\n",
    "                heappush(quene, (matrix[i][j+1],i,j+1))\n",
    "            if i<len(matrix)-1 and j<len(matrix[0]):\n",
    "                heappush(quene, (matrix[i+1][j],i+1,j))\n",
    "        \n",
    "        return element"
   ]
  },
  {
   "cell_type": "code",
   "execution_count": 130,
   "metadata": {},
   "outputs": [
    {
     "name": "stdout",
     "output_type": "stream",
     "text": [
      "[(1, 0, 0)]\n",
      "1\n",
      "[(5, 0, 1), (10, 1, 0)]\n",
      "5\n",
      "[(9, 0, 2), (10, 1, 0), (11, 1, 1)]\n",
      "9\n",
      "[(10, 1, 0), (11, 1, 1), (13, 0, 3), (15, 1, 2)]\n",
      "10\n",
      "[(11, 1, 1), (12, 2, 0), (13, 0, 3), (15, 1, 2)]\n",
      "11\n",
      "[(12, 2, 0), (13, 2, 1), (13, 0, 3), (15, 1, 2)]\n",
      "12\n",
      "[(13, 0, 3), (13, 2, 1), (15, 1, 2)]\n",
      "13\n",
      "[(13, 2, 1), (15, 1, 2), (16, 1, 3)]\n",
      "13\n"
     ]
    },
    {
     "data": {
      "text/plain": [
       "13"
      ]
     },
     "execution_count": 130,
     "metadata": {},
     "output_type": "execute_result"
    }
   ],
   "source": [
    "solution = Solution()\n",
    "solution.findKthSmallestMatrix(matrix = [\n",
    "   [ 1,  5,  9, 13],\n",
    "   [10, 11, 15, 16],\n",
    "   [12, 13, 15,16]],\n",
    "k = 8)"
   ]
  },
  {
   "cell_type": "markdown",
   "metadata": {},
   "source": [
    "### Solution2: Sort"
   ]
  },
  {
   "cell_type": "code",
   "execution_count": 131,
   "metadata": {},
   "outputs": [],
   "source": [
    "class Solution:\n",
    "    def findKthSmallestMatrix(self,matrix,k):\n",
    "        l = []\n",
    "        for row in matrix:\n",
    "            l += row\n",
    "        l.sort()\n",
    "        return l[k-1]"
   ]
  },
  {
   "cell_type": "code",
   "execution_count": 132,
   "metadata": {},
   "outputs": [
    {
     "data": {
      "text/plain": [
       "13"
      ]
     },
     "execution_count": 132,
     "metadata": {},
     "output_type": "execute_result"
    }
   ],
   "source": [
    "solution = Solution()\n",
    "solution.findKthSmallestMatrix(matrix = [\n",
    "   [ 1,  5,  9, 13],\n",
    "   [10, 11, 15, 16],\n",
    "   [12, 13, 15,16]],\n",
    "k = 8)"
   ]
  }
 ],
 "metadata": {
  "kernelspec": {
   "display_name": "Python 3",
   "language": "python",
   "name": "python3"
  },
  "language_info": {
   "codemirror_mode": {
    "name": "ipython",
    "version": 3
   },
   "file_extension": ".py",
   "mimetype": "text/x-python",
   "name": "python",
   "nbconvert_exporter": "python",
   "pygments_lexer": "ipython3",
   "version": "3.6.8"
  },
  "toc": {
   "base_numbering": 1,
   "nav_menu": {},
   "number_sections": true,
   "sideBar": true,
   "skip_h1_title": false,
   "title_cell": "Table of Contents",
   "title_sidebar": "Contents",
   "toc_cell": true,
   "toc_position": {},
   "toc_section_display": true,
   "toc_window_display": true
  }
 },
 "nbformat": 4,
 "nbformat_minor": 2
}
