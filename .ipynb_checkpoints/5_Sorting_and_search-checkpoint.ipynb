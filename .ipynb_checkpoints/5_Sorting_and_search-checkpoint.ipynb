{
 "cells": [
  {
   "cell_type": "markdown",
   "metadata": {
    "toc": true
   },
   "source": [
    "<h1>Table of Contents<span class=\"tocSkip\"></span></h1>\n",
    "<div class=\"toc\"><ul class=\"toc-item\"><li><span><a href=\"#Sorting-Algorithms\" data-toc-modified-id=\"Sorting-Algorithms-1\"><span class=\"toc-item-num\">1&nbsp;&nbsp;</span>Sorting Algorithms</a></span><ul class=\"toc-item\"><li><span><a href=\"#Selection-Sort\" data-toc-modified-id=\"Selection-Sort-1.1\"><span class=\"toc-item-num\">1.1&nbsp;&nbsp;</span>Selection Sort</a></span></li><li><span><a href=\"#Heap-Sort\" data-toc-modified-id=\"Heap-Sort-1.2\"><span class=\"toc-item-num\">1.2&nbsp;&nbsp;</span>Heap Sort</a></span></li><li><span><a href=\"#Bubble-Sort\" data-toc-modified-id=\"Bubble-Sort-1.3\"><span class=\"toc-item-num\">1.3&nbsp;&nbsp;</span>Bubble Sort</a></span></li><li><span><a href=\"#Quick-Sort\" data-toc-modified-id=\"Quick-Sort-1.4\"><span class=\"toc-item-num\">1.4&nbsp;&nbsp;</span>Quick Sort</a></span></li><li><span><a href=\"#Insertion-Sort\" data-toc-modified-id=\"Insertion-Sort-1.5\"><span class=\"toc-item-num\">1.5&nbsp;&nbsp;</span>Insertion Sort</a></span></li><li><span><a href=\"#Binary-Insertion-Sort\" data-toc-modified-id=\"Binary-Insertion-Sort-1.6\"><span class=\"toc-item-num\">1.6&nbsp;&nbsp;</span>Binary Insertion Sort</a></span></li><li><span><a href=\"#Count-Sort\" data-toc-modified-id=\"Count-Sort-1.7\"><span class=\"toc-item-num\">1.7&nbsp;&nbsp;</span>Count Sort</a></span></li><li><span><a href=\"#Merge-Sort\" data-toc-modified-id=\"Merge-Sort-1.8\"><span class=\"toc-item-num\">1.8&nbsp;&nbsp;</span>Merge Sort</a></span></li></ul></li><li><span><a href=\"#Easy\" data-toc-modified-id=\"Easy-2\"><span class=\"toc-item-num\">2&nbsp;&nbsp;</span>Easy</a></span><ul class=\"toc-item\"><li><span><a href=\"#Merge-Sorted-Array\" data-toc-modified-id=\"Merge-Sorted-Array-2.1\"><span class=\"toc-item-num\">2.1&nbsp;&nbsp;</span>Merge Sorted Array</a></span><ul class=\"toc-item\"><li><span><a href=\"#Solution1:-Adding-elements-from-tail\" data-toc-modified-id=\"Solution1:-Adding-elements-from-tail-2.1.1\"><span class=\"toc-item-num\">2.1.1&nbsp;&nbsp;</span>Solution1: Adding elements from tail</a></span></li></ul></li><li><span><a href=\"#First-Bad-Version\" data-toc-modified-id=\"First-Bad-Version-2.2\"><span class=\"toc-item-num\">2.2&nbsp;&nbsp;</span>First Bad Version</a></span><ul class=\"toc-item\"><li><span><a href=\"#Solution1:-Binary-Search\" data-toc-modified-id=\"Solution1:-Binary-Search-2.2.1\"><span class=\"toc-item-num\">2.2.1&nbsp;&nbsp;</span>Solution1: Binary Search</a></span></li></ul></li><li><span><a href=\"#Squares-of-a-Sorted-Array\" data-toc-modified-id=\"Squares-of-a-Sorted-Array-2.3\"><span class=\"toc-item-num\">2.3&nbsp;&nbsp;</span>Squares of a Sorted Array</a></span></li></ul></li><li><span><a href=\"#Medium\" data-toc-modified-id=\"Medium-3\"><span class=\"toc-item-num\">3&nbsp;&nbsp;</span>Medium</a></span><ul class=\"toc-item\"><li><span><a href=\"#Sort-Colors\" data-toc-modified-id=\"Sort-Colors-3.1\"><span class=\"toc-item-num\">3.1&nbsp;&nbsp;</span>Sort Colors</a></span><ul class=\"toc-item\"><li><span><a href=\"#Solution1:-Count-Sort\" data-toc-modified-id=\"Solution1:-Count-Sort-3.1.1\"><span class=\"toc-item-num\">3.1.1&nbsp;&nbsp;</span>Solution1: Count Sort</a></span></li></ul></li><li><span><a href=\"#Height-Checker\" data-toc-modified-id=\"Height-Checker-3.2\"><span class=\"toc-item-num\">3.2&nbsp;&nbsp;</span>Height Checker</a></span><ul class=\"toc-item\"><li><span><a href=\"#Solution:-Count-Sort\" data-toc-modified-id=\"Solution:-Count-Sort-3.2.1\"><span class=\"toc-item-num\">3.2.1&nbsp;&nbsp;</span>Solution: Count Sort</a></span></li></ul></li><li><span><a href=\"#Top-K-Frequent-Elements\" data-toc-modified-id=\"Top-K-Frequent-Elements-3.3\"><span class=\"toc-item-num\">3.3&nbsp;&nbsp;</span>Top K Frequent Elements</a></span><ul class=\"toc-item\"><li><span><a href=\"#Solution:-Counter-+-bucket\" data-toc-modified-id=\"Solution:-Counter-+-bucket-3.3.1\"><span class=\"toc-item-num\">3.3.1&nbsp;&nbsp;</span>Solution: Counter + bucket</a></span></li></ul></li><li><span><a href=\"#Kth-Largest-Element-in-an-Array\" data-toc-modified-id=\"Kth-Largest-Element-in-an-Array-3.4\"><span class=\"toc-item-num\">3.4&nbsp;&nbsp;</span>Kth Largest Element in an Array</a></span><ul class=\"toc-item\"><li><span><a href=\"#Solution1:-bubble-sort\" data-toc-modified-id=\"Solution1:-bubble-sort-3.4.1\"><span class=\"toc-item-num\">3.4.1&nbsp;&nbsp;</span>Solution1: bubble sort</a></span></li><li><span><a href=\"#Solution2:-quick-select\" data-toc-modified-id=\"Solution2:-quick-select-3.4.2\"><span class=\"toc-item-num\">3.4.2&nbsp;&nbsp;</span>Solution2: quick select</a></span></li><li><span><a href=\"#Solution3:-quick-select-(use-partition)\" data-toc-modified-id=\"Solution3:-quick-select-(use-partition)-3.4.3\"><span class=\"toc-item-num\">3.4.3&nbsp;&nbsp;</span>Solution3: quick select (use partition)</a></span><ul class=\"toc-item\"><li><span><a href=\"#Note:-quick-sort-vs-quick-select\" data-toc-modified-id=\"Note:-quick-sort-vs-quick-select-3.4.3.1\"><span class=\"toc-item-num\">3.4.3.1&nbsp;&nbsp;</span>Note: quick sort vs quick select</a></span></li></ul></li><li><span><a href=\"#Solution4:-Heap\" data-toc-modified-id=\"Solution4:-Heap-3.4.4\"><span class=\"toc-item-num\">3.4.4&nbsp;&nbsp;</span>Solution4: Heap</a></span></li></ul></li><li><span><a href=\"#Find-Peak-Element\" data-toc-modified-id=\"Find-Peak-Element-3.5\"><span class=\"toc-item-num\">3.5&nbsp;&nbsp;</span>Find Peak Element</a></span><ul class=\"toc-item\"><li><span><a href=\"#Solution1:-Binary-Search\" data-toc-modified-id=\"Solution1:-Binary-Search-3.5.1\"><span class=\"toc-item-num\">3.5.1&nbsp;&nbsp;</span>Solution1: Binary Search</a></span></li><li><span><a href=\"#Solution2:-Recursive-Binary-Search:-find-max\" data-toc-modified-id=\"Solution2:-Recursive-Binary-Search:-find-max-3.5.2\"><span class=\"toc-item-num\">3.5.2&nbsp;&nbsp;</span>Solution2: Recursive Binary Search: find max</a></span></li></ul></li><li><span><a href=\"#Valid-Mountain-Array\" data-toc-modified-id=\"Valid-Mountain-Array-3.6\"><span class=\"toc-item-num\">3.6&nbsp;&nbsp;</span>Valid Mountain Array</a></span></li><li><span><a href=\"#Longest-Mountain-in-Array\" data-toc-modified-id=\"Longest-Mountain-in-Array-3.7\"><span class=\"toc-item-num\">3.7&nbsp;&nbsp;</span>Longest Mountain in Array</a></span></li><li><span><a href=\"#Minimum-Number-of-Removals-to-Make-Mountain-Array\" data-toc-modified-id=\"Minimum-Number-of-Removals-to-Make-Mountain-Array-3.8\"><span class=\"toc-item-num\">3.8&nbsp;&nbsp;</span>Minimum Number of Removals to Make Mountain Array</a></span><ul class=\"toc-item\"><li><span><a href=\"#Solution:-Dynamic-programming\" data-toc-modified-id=\"Solution:-Dynamic-programming-3.8.1\"><span class=\"toc-item-num\">3.8.1&nbsp;&nbsp;</span>Solution: Dynamic programming</a></span></li></ul></li><li><span><a href=\"#Search-for-a-Range\" data-toc-modified-id=\"Search-for-a-Range-3.9\"><span class=\"toc-item-num\">3.9&nbsp;&nbsp;</span>Search for a Range</a></span><ul class=\"toc-item\"><li><span><a href=\"#Solution1:-Binary-Search\" data-toc-modified-id=\"Solution1:-Binary-Search-3.9.1\"><span class=\"toc-item-num\">3.9.1&nbsp;&nbsp;</span>Solution1: Binary Search</a></span></li><li><span><a href=\"#Solution2:-Two-binary-search-for-left,-right\" data-toc-modified-id=\"Solution2:-Two-binary-search-for-left,-right-3.9.2\"><span class=\"toc-item-num\">3.9.2&nbsp;&nbsp;</span>Solution2: Two binary search for left, right</a></span></li></ul></li><li><span><a href=\"#Merge-Intervals\" data-toc-modified-id=\"Merge-Intervals-3.10\"><span class=\"toc-item-num\">3.10&nbsp;&nbsp;</span>Merge Intervals</a></span><ul class=\"toc-item\"><li><span><a href=\"#Solution1\" data-toc-modified-id=\"Solution1-3.10.1\"><span class=\"toc-item-num\">3.10.1&nbsp;&nbsp;</span>Solution1</a></span></li></ul></li><li><span><a href=\"#Non-overlapping-Intervals\" data-toc-modified-id=\"Non-overlapping-Intervals-3.11\"><span class=\"toc-item-num\">3.11&nbsp;&nbsp;</span>Non-overlapping Intervals</a></span><ul class=\"toc-item\"><li><span><a href=\"#Solution1\" data-toc-modified-id=\"Solution1-3.11.1\"><span class=\"toc-item-num\">3.11.1&nbsp;&nbsp;</span>Solution1</a></span></li></ul></li><li><span><a href=\"#Search-in-Rotated-Sorted-Array\" data-toc-modified-id=\"Search-in-Rotated-Sorted-Array-3.12\"><span class=\"toc-item-num\">3.12&nbsp;&nbsp;</span>Search in Rotated Sorted Array</a></span><ul class=\"toc-item\"><li><span><a href=\"#Solution:-Revised-Binary-Search\" data-toc-modified-id=\"Solution:-Revised-Binary-Search-3.12.1\"><span class=\"toc-item-num\">3.12.1&nbsp;&nbsp;</span>Solution: Revised Binary Search</a></span></li></ul></li><li><span><a href=\"#Search-a-2D-Matrix-II\" data-toc-modified-id=\"Search-a-2D-Matrix-II-3.13\"><span class=\"toc-item-num\">3.13&nbsp;&nbsp;</span>Search a 2D Matrix II</a></span><ul class=\"toc-item\"><li><span><a href=\"#Solution-1:-BFS\" data-toc-modified-id=\"Solution-1:-BFS-3.13.1\"><span class=\"toc-item-num\">3.13.1&nbsp;&nbsp;</span>Solution 1: BFS</a></span></li></ul></li></ul></li><li><span><a href=\"#Hard\" data-toc-modified-id=\"Hard-4\"><span class=\"toc-item-num\">4&nbsp;&nbsp;</span>Hard</a></span><ul class=\"toc-item\"><li><span><a href=\"#Wiggle-Sort-II\" data-toc-modified-id=\"Wiggle-Sort-II-4.1\"><span class=\"toc-item-num\">4.1&nbsp;&nbsp;</span>Wiggle Sort II</a></span><ul class=\"toc-item\"><li><span><a href=\"#Solution1:-Quick-select-+-Virtual-indexing\" data-toc-modified-id=\"Solution1:-Quick-select-+-Virtual-indexing-4.1.1\"><span class=\"toc-item-num\">4.1.1&nbsp;&nbsp;</span>Solution1: Quick select + Virtual indexing</a></span></li><li><span><a href=\"#Solution2:-Sort\" data-toc-modified-id=\"Solution2:-Sort-4.1.2\"><span class=\"toc-item-num\">4.1.2&nbsp;&nbsp;</span>Solution2: Sort</a></span></li></ul></li><li><span><a href=\"#Kth-Smallest-Element-in-a-Sorted-Matrix\" data-toc-modified-id=\"Kth-Smallest-Element-in-a-Sorted-Matrix-4.2\"><span class=\"toc-item-num\">4.2&nbsp;&nbsp;</span>Kth Smallest Element in a Sorted Matrix</a></span><ul class=\"toc-item\"><li><span><a href=\"#Solution1:-Heap\" data-toc-modified-id=\"Solution1:-Heap-4.2.1\"><span class=\"toc-item-num\">4.2.1&nbsp;&nbsp;</span>Solution1: Heap</a></span></li><li><span><a href=\"#Solution2:-Sort\" data-toc-modified-id=\"Solution2:-Sort-4.2.2\"><span class=\"toc-item-num\">4.2.2&nbsp;&nbsp;</span>Solution2: Sort</a></span></li></ul></li><li><span><a href=\"#Median-of-Two-Sorted-Arrays\" data-toc-modified-id=\"Median-of-Two-Sorted-Arrays-4.3\"><span class=\"toc-item-num\">4.3&nbsp;&nbsp;</span>Median of Two Sorted Arrays</a></span></li><li><span><a href=\"#Solution1:-Binary-Search-with-two-pointer\" data-toc-modified-id=\"Solution1:-Binary-Search-with-two-pointer-4.4\"><span class=\"toc-item-num\">4.4&nbsp;&nbsp;</span>Solution1: Binary Search with two pointer</a></span><ul class=\"toc-item\"><li><span><a href=\"#Solution2:-Merge-two-sorted-array,-then-find-median\" data-toc-modified-id=\"Solution2:-Merge-two-sorted-array,-then-find-median-4.4.1\"><span class=\"toc-item-num\">4.4.1&nbsp;&nbsp;</span>Solution2: Merge two sorted array, then find median</a></span></li></ul></li></ul></li></ul></div>"
   ]
  },
  {
   "cell_type": "markdown",
   "metadata": {},
   "source": [
    "# Sorting Algorithms"
   ]
  },
  {
   "cell_type": "markdown",
   "metadata": {},
   "source": [
    "https://leetcode.com/problems/sort-an-array/discuss/461394/Python-3-(Eight-Sorting-Algorithms)-(With-Explanation)"
   ]
  },
  {
   "cell_type": "markdown",
   "metadata": {},
   "source": [
    "## Selection Sort"
   ]
  },
  {
   "cell_type": "code",
   "execution_count": 4,
   "metadata": {},
   "outputs": [],
   "source": [
    "# O(n²), unstable\n",
    "class Solution:\n",
    "    def sortArray(self, N):\n",
    "        length = len(N)\n",
    "        # pop an index, which is the min(, key = lambda x: N[x])\n",
    "        return [N.pop(min(range(0, length-i), key = lambda x: N[x])) for i in range(length)]"
   ]
  },
  {
   "cell_type": "markdown",
   "metadata": {},
   "source": [
    "## Heap Sort"
   ]
  },
  {
   "cell_type": "code",
   "execution_count": null,
   "metadata": {},
   "outputs": [],
   "source": [
    "# Selection sort using binary search\n",
    "# O(n log n)\n",
    "# unstable\n",
    "from heapq import heappush, heappop\n",
    "class Solution:\n",
    "    def sortArray(self, N):\n",
    "        quene = []\n",
    "        for n in N:\n",
    "            heappush(quene,n) #quene is in asc order\n",
    "        return quene"
   ]
  },
  {
   "cell_type": "markdown",
   "metadata": {},
   "source": [
    "## Bubble Sort"
   ]
  },
  {
   "cell_type": "code",
   "execution_count": null,
   "metadata": {},
   "outputs": [],
   "source": [
    "# O(n²), stable\n",
    "class Solution:\n",
    "    def sortArray(self, N):\n",
    "        for i in range(len(N)):\n",
    "            #bubble to the end(sort from largest to smallest)\n",
    "            for j in range(len(N)-i-1): \n",
    "                if N[j+1] < N[j]:\n",
    "                    N[j+1], N[j] = N[j], N[j+1]\n",
    "    return N"
   ]
  },
  {
   "cell_type": "markdown",
   "metadata": {},
   "source": [
    "## Quick Sort"
   ]
  },
  {
   "cell_type": "code",
   "execution_count": null,
   "metadata": {},
   "outputs": [],
   "source": [
    "# In the average case, this method is O(n log n). \n",
    "# In the worst case, however, it is O(n²)\n",
    "# unstable\n",
    "# divide and conquer\n",
    "class Solution:\n",
    "    def sortArray(self, N):\n",
    "        self.quickSort(N, 0, len(N))\n",
    "        return N\n",
    "    \n",
    "    def quickSort(self, N, left, right):\n",
    "        if right-left <=1:\n",
    "            return\n",
    "        pos = self.partition(N, left, right)\n",
    "        self.quickSort(N, left, pos)\n",
    "        self.quickSort(N, pos+1, right)\n",
    "    \n",
    "    def partition(self, N, left, right):\n",
    "        pivot = N[right-1]\n",
    "        i = left\n",
    "        for j in range(left, right):\n",
    "            if N[j] < pivot:\n",
    "                N[i], N[j] = N[j], N[i]\n",
    "                i += 1\n",
    "        N[i], N[right-1] = N[right-1], N[i]\n",
    "        return i  "
   ]
  },
  {
   "cell_type": "markdown",
   "metadata": {},
   "source": [
    "## Insertion Sort"
   ]
  },
  {
   "cell_type": "code",
   "execution_count": null,
   "metadata": {},
   "outputs": [],
   "source": [
    "# O(n²), stable\n",
    "class Solution:\n",
    "    def sortArray(self, N):\n",
    "        for i in range(len(N)):\n",
    "            #check from the beginning(sort from smallest to largest)\n",
    "            for j in range(i):\n",
    "                if N[i]<N[j]:\n",
    "                    N.insert(j, N.pop(i)) #insert N[i] to jth, and pop(i)\n",
    "                    break\n",
    "        return N"
   ]
  },
  {
   "cell_type": "markdown",
   "metadata": {},
   "source": [
    "## Binary Insertion Sort"
   ]
  },
  {
   "cell_type": "code",
   "execution_count": null,
   "metadata": {},
   "outputs": [],
   "source": [
    "# O(n²)\n",
    "class Solution:\n",
    "    def sortArray(self, N):\n",
    "        for i in range(len(N)):\n",
    "            bisect.insort_left(N, N.pop(i), 0, i)\n",
    "        return N"
   ]
  },
  {
   "cell_type": "markdown",
   "metadata": {},
   "source": [
    "## Count Sort"
   ]
  },
  {
   "cell_type": "code",
   "execution_count": null,
   "metadata": {},
   "outputs": [],
   "source": [
    "# This approach is a linear time sorting algorithm that sorts in O(n+k) time, where n is the number of elements and k is the statistical range of the dataset (i.e. max(N) - min(N)).\n",
    "class Solution:\n",
    "    def sortArray(self, N):\n",
    "      # 1. count elelment\n",
    "        counter = collections.Counter(N)\n",
    "        # counter = [0 for _ in range(0, max(N))] only valid when elements >= 0\n",
    "        # for n in N:\n",
    "             # counter[n] += 1\n",
    "\n",
    "      # 2. sort\n",
    "        sort_N = []\n",
    "        for n in range(min(N), max(N)+1):\n",
    "            sort_N.extend( [n] * counter[n])\n",
    "        return sort_N"
   ]
  },
  {
   "cell_type": "markdown",
   "metadata": {},
   "source": [
    "## Merge Sort"
   ]
  },
  {
   "cell_type": "code",
   "execution_count": null,
   "metadata": {},
   "outputs": [],
   "source": [
    "# O(n log n)\n",
    "# divide and conquer\n",
    "# stable\n",
    "class Solution:\n",
    "    def sortArray(self, N):\n",
    "        return self.mergeSort(N)\n",
    "        \n",
    "    def mergeSort(self, N):\n",
    "        length = len(N)\n",
    "        if length == 1:\n",
    "            return N\n",
    "        left_half, right_half = self.mergeSort(N[:length//2]), self.mergeSort(N[length//2:])\n",
    "        return self.merge(left_half, right_half)\n",
    "    \n",
    "    def merge(self, left_half, right_half):\n",
    "        left_n = len(left_half)\n",
    "        right_n = len(right_half)\n",
    "        left_index = right_index = 0\n",
    "        merge_array = []\n",
    "        \n",
    "        while left_index<left_n and right_index<right_n:\n",
    "            if left_half[left_index] < right_half[right_index]:\n",
    "                merge_array.append(left_half[left_index])\n",
    "                left_index += 1\n",
    "            else:\n",
    "                merge_array.append(right_half[right_index])\n",
    "                right_index += 1\n",
    "            \n",
    "            if left_index == left_n:\n",
    "                return merge_array + right_half[right_index:]\n",
    "            else:\n",
    "                return merge_array + left_half[left_index:]"
   ]
  },
  {
   "cell_type": "markdown",
   "metadata": {},
   "source": [
    "# Easy"
   ]
  },
  {
   "cell_type": "markdown",
   "metadata": {},
   "source": [
    "## Merge Sorted Array"
   ]
  },
  {
   "cell_type": "markdown",
   "metadata": {},
   "source": [
    "Given two sorted integer arrays nums1 and nums2, merge nums2 into nums1 as one sorted array.\n",
    "\n",
    "Note:\n",
    "\n",
    "The number of elements initialized in nums1 and nums2 are m and n respectively.\n",
    "You may assume that nums1 has enough space (size that is equal to m + n) to hold additional elements from nums2.\n",
    "Example:\n",
    "\n",
    "Input:\n",
    "\n",
    "nums1 = [1,2,3,0,0,0], m = 3\n",
    "\n",
    "nums2 = [2,5,6],       n = 3\n",
    "\n",
    "Output: [1,2,2,3,5,6]"
   ]
  },
  {
   "cell_type": "markdown",
   "metadata": {},
   "source": [
    "### Solution1: Adding elements from tail"
   ]
  },
  {
   "cell_type": "code",
   "execution_count": 1,
   "metadata": {
    "collapsed": true
   },
   "outputs": [],
   "source": [
    "def mergeArray(nums1,m,nums2,n):\n",
    "    while m>0 and n>0:\n",
    "        if nums1[m-1]>nums2[n-1]:\n",
    "            nums1[m+n-1] = nums1[m-1]\n",
    "            m -=1\n",
    "        else:\n",
    "            nums1[m+n-1] = nums2[n-1]\n",
    "            n -=1\n",
    "    if n>0:\n",
    "        nums1[:n] = nums2[:n]\n",
    "    return nums1"
   ]
  },
  {
   "cell_type": "code",
   "execution_count": 2,
   "metadata": {},
   "outputs": [
    {
     "data": {
      "text/plain": [
       "[1, 2, 2, 3, 5, 6]"
      ]
     },
     "execution_count": 2,
     "metadata": {},
     "output_type": "execute_result"
    }
   ],
   "source": [
    "mergeArray(nums1 = [1,2,2,0,0,0], m = 3,nums2 = [9,5,6], n = 3)"
   ]
  },
  {
   "cell_type": "markdown",
   "metadata": {},
   "source": [
    "## First Bad Version"
   ]
  },
  {
   "cell_type": "markdown",
   "metadata": {},
   "source": [
    "You are a product manager and currently leading a team to develop a new product. Unfortunately, the latest version of your product fails the quality check. Since each version is developed based on the previous version, all the versions after a bad version are also bad.\n",
    "\n",
    "Suppose you have n versions [1, 2, ..., n] and you want to find out the first bad one, which causes all the following ones to be bad.\n",
    "\n",
    "You are given an API bool isBadVersion(version) which will return whether version is bad. Implement a function to find the first bad version. You should minimize the number of calls to the API.\n",
    "\n",
    "Example:\n",
    "\n",
    "Given n = 5, and version = 4 is the first bad version.\n",
    "\n",
    "call isBadVersion(3) -> false\n",
    "\n",
    "call isBadVersion(5) -> true\n",
    "\n",
    "call isBadVersion(4) -> true\n",
    "\n",
    "Then 4 is the first bad version. "
   ]
  },
  {
   "cell_type": "markdown",
   "metadata": {},
   "source": [
    "### Solution1: Binary Search"
   ]
  },
  {
   "cell_type": "code",
   "execution_count": null,
   "metadata": {
    "collapsed": true
   },
   "outputs": [],
   "source": [
    "def findBadVersion(n):\n",
    "    l = 0\n",
    "    r = n\n",
    "    while(l<r):\n",
    "        mid = l + (r - l) / 2 # mid = (l+r)/2 may yield to  overflow\n",
    "        if(isBadVersion(mid)):\n",
    "            r = mid #search interval: [left, mid]\n",
    "        else:\n",
    "            l = mid+1 #search interval: (mid, right]"
   ]
  },
  {
   "cell_type": "markdown",
   "metadata": {},
   "source": [
    "## Squares of a Sorted Array"
   ]
  },
  {
   "cell_type": "code",
   "execution_count": null,
   "metadata": {},
   "outputs": [],
   "source": [
    "class Solution:\n",
    "    def sortedSquares(self, nums: List[int]) -> List[int]:\n",
    "        ans = []\n",
    "        l = 0\n",
    "        r = len(nums)-1\n",
    "        while(l<=r):\n",
    "            left = abs(nums[l])\n",
    "            right = abs(nums[r])\n",
    "            if left>=right:\n",
    "                ans.append(left*left)\n",
    "                l += 1\n",
    "            else:\n",
    "                ans.append(right*right)\n",
    "                r -= 1\n",
    "        return ans[::-1]"
   ]
  },
  {
   "cell_type": "markdown",
   "metadata": {},
   "source": [
    "# Medium"
   ]
  },
  {
   "cell_type": "markdown",
   "metadata": {},
   "source": [
    "https://leetcode.com/explore/interview/card/top-interview-questions-medium/110/sorting-and-searching/798/"
   ]
  },
  {
   "cell_type": "markdown",
   "metadata": {},
   "source": [
    "## Sort Colors"
   ]
  },
  {
   "cell_type": "markdown",
   "metadata": {},
   "source": [
    "Given an array nums with n objects colored red, white, or blue, sort them in-place so that objects of the same color are adjacent, with the colors in the order red, white, and blue.\n",
    "\n",
    "Here, we will use the integers 0, 1, and 2 to represent the color red, white, and blue respectively.\n",
    "\n",
    "Follow up:\n",
    "\n",
    "Could you solve this problem without using the library's sort function?\n",
    "Could you come up with a one-pass algorithm using only O(1) constant space?\n",
    " \n",
    "\n",
    "Example 1:\n",
    "\n",
    "Input: nums = [2,0,2,1,1,0]\n",
    "Output: [0,0,1,1,2,2]\n",
    "Example 2:\n",
    "\n",
    "Input: nums = [2,0,1]\n",
    "Output: [0,1,2]\n",
    "Example 3:\n",
    "\n",
    "Input: nums = [0]\n",
    "Output: [0]\n",
    "Example 4:\n",
    "\n",
    "Input: nums = [1]\n",
    "Output: [1]"
   ]
  },
  {
   "cell_type": "markdown",
   "metadata": {},
   "source": [
    "### Solution1: Count Sort"
   ]
  },
  {
   "cell_type": "code",
   "execution_count": 1,
   "metadata": {
    "collapsed": true
   },
   "outputs": [],
   "source": [
    "def sortColors(nums):\n",
    "    c0 = 0\n",
    "    c1 = 0\n",
    "    c2 = 0\n",
    "    for num in nums:\n",
    "        if num==0: c0+=1\n",
    "        elif num==1: c1+=1\n",
    "        else: c2+=1\n",
    "    nums[0:c0] = [0] * c0\n",
    "    nums[c0:c0+c1] = [1] * c1\n",
    "    nums[c0+c1:] = [2] * c2\n",
    "    return nums    "
   ]
  },
  {
   "cell_type": "code",
   "execution_count": 2,
   "metadata": {},
   "outputs": [
    {
     "data": {
      "text/plain": [
       "[0, 0, 1, 1, 2, 2]"
      ]
     },
     "execution_count": 2,
     "metadata": {},
     "output_type": "execute_result"
    }
   ],
   "source": [
    "sortColors([2,0,2,1,1,0])"
   ]
  },
  {
   "cell_type": "markdown",
   "metadata": {},
   "source": [
    "## Height Checker"
   ]
  },
  {
   "cell_type": "markdown",
   "metadata": {},
   "source": [
    "https://leetcode.com/explore/learn/card/fun-with-arrays/523/conclusion/3228/"
   ]
  },
  {
   "cell_type": "markdown",
   "metadata": {},
   "source": [
    "### Solution: Count Sort"
   ]
  },
  {
   "cell_type": "markdown",
   "metadata": {},
   "source": [
    "https://leetcode.com/explore/learn/card/fun-with-arrays/523/conclusion/3228/discuss/347368/Easy-Python-O(n)-Let's-step-through-the-algorithm"
   ]
  },
  {
   "cell_type": "code",
   "execution_count": null,
   "metadata": {},
   "outputs": [],
   "source": [
    "class Solution:\n",
    "    def heightChecker(self, heights: List[int]) -> int:\n",
    "        # count elements\n",
    "        hcnt = [0] *(max(heights)+1)\n",
    "        for n in heights:\n",
    "            hcnt[n] += 1\n",
    "        #cumulative count\n",
    "        for i in range(1, len(hcnt)):\n",
    "            hcnt[i] = hcnt[i-1] + hcnt[i]\n",
    "        \n",
    "        ans = 0\n",
    "        height_sorted = [0] * len(heights)\n",
    "        for h in heights:\n",
    "            height_sorted[hcnt[h]-1] = h\n",
    "            if height_sorted[hcnt[h]-1] != heights[hcnt[h]-1]:\n",
    "                ans +=1\n",
    "            hcnt[h]-=1\n",
    "        return ans"
   ]
  },
  {
   "cell_type": "markdown",
   "metadata": {},
   "source": [
    "## Top K Frequent Elements"
   ]
  },
  {
   "cell_type": "markdown",
   "metadata": {},
   "source": [
    "### Solution: Counter + bucket"
   ]
  },
  {
   "cell_type": "code",
   "execution_count": 18,
   "metadata": {
    "collapsed": true
   },
   "outputs": [],
   "source": [
    "from collections import Counter, defaultdict\n",
    "def topKFrequent(nums, k):\n",
    "    freqDict = Counter(nums)\n",
    "    print(freqDict)\n",
    "    bucket =  defaultdict(list)\n",
    "    for num,count in freqDict.items():\n",
    "        bucket[count] = num\n",
    "    print(bucket) #bucket: reverse Counter\n",
    "    res = []\n",
    "    maxcount = len(nums)\n",
    "    while len(res)<k: \n",
    "        if maxcount in bucket: #search from len(nums)\n",
    "            res.append(bucket[maxcount])\n",
    "        maxcount -=1\n",
    "    return res"
   ]
  },
  {
   "cell_type": "code",
   "execution_count": 19,
   "metadata": {},
   "outputs": [
    {
     "name": "stdout",
     "output_type": "stream",
     "text": [
      "Counter({1: 3, 3: 2, 2: 1, 4: 1, 5: 1})\n",
      "defaultdict(<class 'list'>, {1: 5, 2: 3, 3: 1})\n"
     ]
    },
    {
     "data": {
      "text/plain": [
       "[1, 3]"
      ]
     },
     "execution_count": 19,
     "metadata": {},
     "output_type": "execute_result"
    }
   ],
   "source": [
    "topKFrequent([2,3,4,5,1,1,1,3],2)"
   ]
  },
  {
   "cell_type": "markdown",
   "metadata": {},
   "source": [
    "## Kth Largest Element in an Array"
   ]
  },
  {
   "cell_type": "markdown",
   "metadata": {},
   "source": [
    "https://leetcode.com/explore/interview/card/top-interview-questions-medium/110/sorting-and-searching/800/discuss/60306/Python-different-solutions-with-comments-(bubble-sort-selection-sort-heap-sort-and-quick-sort)."
   ]
  },
  {
   "cell_type": "markdown",
   "metadata": {},
   "source": [
    "### Solution1: bubble sort"
   ]
  },
  {
   "cell_type": "code",
   "execution_count": 19,
   "metadata": {
    "collapsed": true
   },
   "outputs": [],
   "source": [
    "# O(nk), stable\n",
    "def findLargestElement(nums,k):\n",
    "    for i in range(k):\n",
    "        for j in range(len(nums)-i-1):\n",
    "            if nums[j]>nums[j+1]:\n",
    "                nums[j], nums[j+1] = nums[j+1], nums[j]\n",
    "        print(nums)\n",
    "    return nums[len(nums)-k:]"
   ]
  },
  {
   "cell_type": "code",
   "execution_count": 20,
   "metadata": {},
   "outputs": [
    {
     "name": "stdout",
     "output_type": "stream",
     "text": [
      "[2, 3, 4, 1, 1, 1, 3, 5]\n",
      "[2, 3, 1, 1, 1, 3, 4, 5]\n"
     ]
    },
    {
     "data": {
      "text/plain": [
       "[4, 5]"
      ]
     },
     "execution_count": 20,
     "metadata": {},
     "output_type": "execute_result"
    }
   ],
   "source": [
    "findLargestElement([2,3,4,5,1,1,1,3],2)"
   ]
  },
  {
   "cell_type": "markdown",
   "metadata": {},
   "source": [
    "### Solution2: quick select"
   ]
  },
  {
   "cell_type": "code",
   "execution_count": 47,
   "metadata": {
    "collapsed": true
   },
   "outputs": [],
   "source": [
    "class Solution:\n",
    "    def findLargestElement(self,nums,k):\n",
    "        pivot = nums[-1]\n",
    "        left  = [l for l in nums if l < pivot]\n",
    "        equal = [e for e in nums if e == pivot]\n",
    "        right = [r for r in nums if r > pivot]\n",
    "\n",
    "        if k <= len(right):\n",
    "            return self.findLargestElement(right, k)\n",
    "        elif (k - len(right)) <= len(equal):\n",
    "            return equal[0]\n",
    "        else:\n",
    "            return self.findLargestElement(left, k - len(right) - len(equal)) "
   ]
  },
  {
   "cell_type": "code",
   "execution_count": 48,
   "metadata": {},
   "outputs": [
    {
     "name": "stdout",
     "output_type": "stream",
     "text": [
      "CPU times: user 2 µs, sys: 0 ns, total: 2 µs\n",
      "Wall time: 4.05 µs\n"
     ]
    },
    {
     "data": {
      "text/plain": [
       "1"
      ]
     },
     "execution_count": 48,
     "metadata": {},
     "output_type": "execute_result"
    }
   ],
   "source": [
    "%time\n",
    "solution = Solution()\n",
    "solution.findLargestElement([2,3,4,5,1,1,1,3],6)"
   ]
  },
  {
   "cell_type": "markdown",
   "metadata": {},
   "source": [
    "### Solution3: quick select (use partition) "
   ]
  },
  {
   "cell_type": "code",
   "execution_count": 45,
   "metadata": {
    "collapsed": true
   },
   "outputs": [],
   "source": [
    "# O(n)\n",
    "class Solution:\n",
    "    def findLargestElement(self,nums,k):\n",
    "        l, r= 0, len(nums) - 1\n",
    "        while True:\n",
    "            pos = self.partition(nums,l, r)\n",
    "            print(pos)\n",
    "            print(nums)\n",
    "            if pos < k-1:#note:pos is index, therefore, we should compare it with k-1\n",
    "                l = pos +1 #search numbers smaller than nums[pos]\n",
    "            elif pos > k-1:\n",
    "                r = pos -1 #search numbers larger than nums[pos]\n",
    "            else:\n",
    "                return nums[pos]\n",
    "    \n",
    "    def partition(self,nums,left, right):\n",
    "        pivot = nums[right] # pick the last one as pivot\n",
    "        i = left\n",
    "        for j in range(left, right): # left to right -1\n",
    "            #print(\"j%d\" %j)\n",
    "            #print(nums)\n",
    "            if nums[j] > pivot: # put larger elements in left side\n",
    "                #print(\"i%d\" %i)\n",
    "                #print(nums)\n",
    "                nums[j], nums[i] = nums[i], nums[j]\n",
    "                i += 1\n",
    "        #print(nums)      \n",
    "        nums[right], nums[i] = nums[i], nums[right] # swap the i and the last element(pivot) so that the pivot is in the right place\n",
    "        #print(nums)\n",
    "        return i"
   ]
  },
  {
   "cell_type": "code",
   "execution_count": 46,
   "metadata": {},
   "outputs": [
    {
     "name": "stdout",
     "output_type": "stream",
     "text": [
      "CPU times: user 2 µs, sys: 0 ns, total: 2 µs\n",
      "Wall time: 4.77 µs\n",
      "2\n",
      "[4, 5, 3, 3, 1, 1, 1, 2]\n",
      "4\n",
      "[4, 5, 3, 3, 2, 1, 1, 1]\n",
      "5\n",
      "[4, 5, 3, 3, 2, 1, 1, 1]\n"
     ]
    },
    {
     "data": {
      "text/plain": [
       "1"
      ]
     },
     "execution_count": 46,
     "metadata": {},
     "output_type": "execute_result"
    }
   ],
   "source": [
    "%time\n",
    "solution = Solution()\n",
    "solution.findLargestElement([2,3,4,5,1,1,1,3],6)"
   ]
  },
  {
   "cell_type": "code",
   "execution_count": 33,
   "metadata": {},
   "outputs": [
    {
     "name": "stdout",
     "output_type": "stream",
     "text": [
      "j0\n",
      "[2, 3, 4, 5, 1, 1, 1, 3]\n",
      "j1\n",
      "[2, 3, 4, 5, 1, 1, 1, 3]\n",
      "j2\n",
      "[2, 3, 4, 5, 1, 1, 1, 3]\n",
      "i0\n",
      "[2, 3, 4, 5, 1, 1, 1, 3]\n",
      "j3\n",
      "[4, 3, 2, 5, 1, 1, 1, 3]\n",
      "i1\n",
      "[4, 3, 2, 5, 1, 1, 1, 3]\n",
      "j4\n",
      "[4, 5, 2, 3, 1, 1, 1, 3]\n",
      "j5\n",
      "[4, 5, 2, 3, 1, 1, 1, 3]\n",
      "j6\n",
      "[4, 5, 2, 3, 1, 1, 1, 3]\n",
      "[4, 5, 2, 3, 1, 1, 1, 3]\n",
      "[4, 5, 3, 3, 1, 1, 1, 2]\n"
     ]
    },
    {
     "data": {
      "text/plain": [
       "2"
      ]
     },
     "execution_count": 33,
     "metadata": {},
     "output_type": "execute_result"
    }
   ],
   "source": [
    "solution = Solution()\n",
    "solution.partition([2,3,4,5,1,1,1,3],0,7)"
   ]
  },
  {
   "cell_type": "markdown",
   "metadata": {},
   "source": [
    "#### Note: quick sort vs quick select"
   ]
  },
  {
   "cell_type": "markdown",
   "metadata": {},
   "source": [
    "quick sort: sort nums in desc or asc order\n",
    "\n",
    "quick select: the left side is larger than the kth element and the right side is smaller than the kth element, but the order is not guranteed."
   ]
  },
  {
   "cell_type": "code",
   "execution_count": 101,
   "metadata": {
    "collapsed": true
   },
   "outputs": [],
   "source": [
    "class Solution:\n",
    "    def quickSort(self,nums,l,r):\n",
    "        if len(nums) == 1:\n",
    "            return nums\n",
    "        if l<r:\n",
    "            pos = self.partition(nums,l, r)\n",
    "            #print(pos)\n",
    "            #print(nums)\n",
    "            self.quickSort(nums,l,pos-1)\n",
    "            self.quickSort(nums,pos+1,r)\n",
    "        print(nums)\n",
    "    \n",
    "    def partition(self,nums,left, right):\n",
    "        pivot = nums[right] # pick the last one as pivot\n",
    "        i = left\n",
    "        for j in range(left, right): # left to right -1\n",
    "            #print(\"j%d\" %j)\n",
    "            #print(nums)\n",
    "            if nums[j] > pivot: # put larger elements in left side\n",
    "                #print(\"i%d\" %i)\n",
    "                #print(nums)\n",
    "                nums[j], nums[i] = nums[i], nums[j]\n",
    "                i += 1\n",
    "        #print(nums)      \n",
    "        nums[right], nums[i] = nums[i], nums[right] # swap the i and the last element(pivot) so that the pivot is in the right place\n",
    "        #print(nums)\n",
    "        return i"
   ]
  },
  {
   "cell_type": "code",
   "execution_count": 102,
   "metadata": {},
   "outputs": [
    {
     "name": "stdout",
     "output_type": "stream",
     "text": [
      "[9, 7, 6, 5, 1, 2, 4, 3]\n",
      "[9, 7, 6, 5, 1, 2, 4, 3]\n",
      "[9, 7, 6, 5, 1, 2, 4, 3]\n",
      "[9, 7, 6, 5, 1, 2, 4, 3]\n",
      "[9, 7, 6, 5, 1, 2, 4, 3]\n",
      "[9, 7, 6, 5, 4, 3, 1, 2]\n",
      "[9, 7, 6, 5, 4, 3, 2, 1]\n",
      "[9, 7, 6, 5, 4, 3, 2, 1]\n",
      "[9, 7, 6, 5, 4, 3, 2, 1]\n",
      "[9, 7, 6, 5, 4, 3, 2, 1]\n",
      "[9, 7, 6, 5, 4, 3, 2, 1]\n"
     ]
    }
   ],
   "source": [
    "solution = Solution()\n",
    "solution.quickSort([1, 6,7,3,9,2,4,5],0,7)"
   ]
  },
  {
   "cell_type": "markdown",
   "metadata": {},
   "source": [
    "### Solution4: Heap"
   ]
  },
  {
   "cell_type": "code",
   "execution_count": 109,
   "metadata": {
    "collapsed": true
   },
   "outputs": [],
   "source": [
    "from heapq import heappush, heappop\n",
    "class Solution:\n",
    "    def findLargestElement(self,nums,k):\n",
    "        quene = []\n",
    "        for n in nums:\n",
    "            heappush(quene,n) #quene is in asc order\n",
    "        for i in range(len(nums)-k):\n",
    "            heappop(quene) #pop from the smallest\n",
    "        return heappop(quene)"
   ]
  },
  {
   "cell_type": "code",
   "execution_count": 110,
   "metadata": {},
   "outputs": [
    {
     "name": "stdout",
     "output_type": "stream",
     "text": [
      "CPU times: user 2 µs, sys: 1 µs, total: 3 µs\n",
      "Wall time: 22.9 µs\n"
     ]
    },
    {
     "data": {
      "text/plain": [
       "1"
      ]
     },
     "execution_count": 110,
     "metadata": {},
     "output_type": "execute_result"
    }
   ],
   "source": [
    "%time\n",
    "solution = Solution()\n",
    "solution.findLargestElement([2,3,4,5,1,1,1,3],6)"
   ]
  },
  {
   "cell_type": "markdown",
   "metadata": {},
   "source": [
    "## Find Peak Element"
   ]
  },
  {
   "cell_type": "markdown",
   "metadata": {},
   "source": [
    "A peak element is an element that is greater than its neighbors.\n",
    "\n",
    "Given an input array nums, where nums[i] ≠ nums[i+1], find a peak element and return its index.\n",
    "\n",
    "The array may contain multiple peaks, in that case return the index to any one of the peaks is fine.\n",
    "\n",
    "You may imagine that nums[-1] = nums[n] = -∞.\n",
    "\n",
    "Example 1:\n",
    "\n",
    "Input: nums = [1,2,3,1]\n",
    "\n",
    "Output: 2\n",
    "\n",
    "Explanation: 3 is a peak element and your function should return the index number 2.\n",
    "\n",
    "Example 2:\n",
    "\n",
    "Input: nums = [1,2,1,3,5,6,4]\n",
    "\n",
    "Output: 1 or 5 \n",
    "\n",
    "Explanation: Your function can return either index number 1 where the peak element is 2, \n",
    "             or index number 5 where the peak element is 6."
   ]
  },
  {
   "cell_type": "markdown",
   "metadata": {},
   "source": [
    "### Solution1: Binary Search"
   ]
  },
  {
   "cell_type": "code",
   "execution_count": 16,
   "metadata": {
    "collapsed": true
   },
   "outputs": [],
   "source": [
    "class Solution:\n",
    "    def findPeak(self,nums):\n",
    "        l = 0\n",
    "        r = len(nums)-1\n",
    "        while l<r:\n",
    "            mid = (l+r)//2\n",
    "            if nums[mid]>nums[mid+1]:\n",
    "                r = mid\n",
    "            else:\n",
    "                l = mid+1\n",
    "        return l"
   ]
  },
  {
   "cell_type": "code",
   "execution_count": 18,
   "metadata": {},
   "outputs": [
    {
     "name": "stdout",
     "output_type": "stream",
     "text": [
      "CPU times: user 2 µs, sys: 0 ns, total: 2 µs\n",
      "Wall time: 5.25 µs\n"
     ]
    },
    {
     "data": {
      "text/plain": [
       "5"
      ]
     },
     "execution_count": 18,
     "metadata": {},
     "output_type": "execute_result"
    }
   ],
   "source": [
    "%time\n",
    "solution = Solution()\n",
    "solution.findPeak([1,2,1,3,5,6,4])"
   ]
  },
  {
   "cell_type": "markdown",
   "metadata": {},
   "source": [
    "### Solution2: Recursive Binary Search: find max"
   ]
  },
  {
   "cell_type": "code",
   "execution_count": 19,
   "metadata": {
    "collapsed": true
   },
   "outputs": [],
   "source": [
    "class Solution:\n",
    "    def findPeak(self,nums):\n",
    "        return self.helper(nums,0,len(nums)-1)\n",
    "          \n",
    "    def helper(self,nums,l,r):\n",
    "        if l==r:\n",
    "            return l\n",
    "        mid = (l+r)//2\n",
    "        if nums[mid]>nums[mid+1]:\n",
    "            # note should return ...\n",
    "            return self.helper(nums,l,mid)\n",
    "        else:\n",
    "            return self.helper(nums,mid+1,r)"
   ]
  },
  {
   "cell_type": "code",
   "execution_count": 20,
   "metadata": {},
   "outputs": [
    {
     "name": "stdout",
     "output_type": "stream",
     "text": [
      "CPU times: user 2 µs, sys: 0 ns, total: 2 µs\n",
      "Wall time: 4.77 µs\n"
     ]
    },
    {
     "data": {
      "text/plain": [
       "5"
      ]
     },
     "execution_count": 20,
     "metadata": {},
     "output_type": "execute_result"
    }
   ],
   "source": [
    "%time\n",
    "solution = Solution()\n",
    "solution.findPeak([1,2,1,3,5,6,4])"
   ]
  },
  {
   "cell_type": "code",
   "execution_count": 42,
   "metadata": {
    "collapsed": true
   },
   "outputs": [],
   "source": [
    "class Solution:\n",
    "    def findPeak(self,nums):\n",
    "        self.l = 0\n",
    "        self.r = len(nums)-1\n",
    "        self.helper(nums)\n",
    "        return self.l\n",
    "          \n",
    "    def helper(self,nums):\n",
    "        if self.l==self.r:\n",
    "            return \n",
    "        mid = (self.l+self.r)//2\n",
    "        if nums[mid]>nums[mid+1]:\n",
    "            # update self.r, not need to return\n",
    "            self.r = mid\n",
    "            self.helper(nums)\n",
    "        else:\n",
    "            self.l = mid+1\n",
    "            self.helper(nums)"
   ]
  },
  {
   "cell_type": "code",
   "execution_count": 43,
   "metadata": {},
   "outputs": [
    {
     "name": "stdout",
     "output_type": "stream",
     "text": [
      "CPU times: user 2 µs, sys: 0 ns, total: 2 µs\n",
      "Wall time: 5.25 µs\n"
     ]
    },
    {
     "data": {
      "text/plain": [
       "5"
      ]
     },
     "execution_count": 43,
     "metadata": {},
     "output_type": "execute_result"
    }
   ],
   "source": [
    "%time\n",
    "solution = Solution()\n",
    "solution.findPeak([1,2,1,3,5,6,4])"
   ]
  },
  {
   "cell_type": "markdown",
   "metadata": {},
   "source": [
    "## Valid Mountain Array"
   ]
  },
  {
   "cell_type": "markdown",
   "metadata": {},
   "source": [
    "https://leetcode.com/explore/challenge/card/december-leetcoding-challenge/570/week-2-december-8th-december-14th/3561/"
   ]
  },
  {
   "cell_type": "code",
   "execution_count": null,
   "metadata": {},
   "outputs": [],
   "source": [
    "class Solution:\n",
    "    def validMountainArray(self, arr: List[int]) -> bool:\n",
    "        l = 0\n",
    "        n = len(arr) \n",
    "        r = n-1\n",
    "        while l<n-1 and arr[l+1] > arr[l]:\n",
    "            l+=1\n",
    "        while r>0 and arr[r-1] > arr[r]:\n",
    "            r-=1\n",
    "        return l==r and l!=0 and r!=n-1 #note: l!=0 and r!=n-1 to handle extreme cases"
   ]
  },
  {
   "cell_type": "markdown",
   "metadata": {},
   "source": [
    "## Longest Mountain in Array"
   ]
  },
  {
   "cell_type": "markdown",
   "metadata": {},
   "source": [
    "https://leetcode.com/problems/longest-mountain-in-array/"
   ]
  },
  {
   "cell_type": "code",
   "execution_count": null,
   "metadata": {},
   "outputs": [],
   "source": [
    "class Solution:\n",
    "    def longestMountain(self, arr: List[int]) -> int:\n",
    "        max_len = 0\n",
    "        for i in range(1, len(arr)-1):\n",
    "            if arr[i-1]<arr[i]>arr[i+1]:\n",
    "                l = i-1\n",
    "                r = i+1\n",
    "                while l>0 and arr[l]>arr[l-1]:\n",
    "                    l -=1\n",
    "                while r<len(arr)-1 and arr[r]>arr[r+1]:\n",
    "                    r+= 1\n",
    "                max_len = max(max_len, r-l+1)\n",
    "        return max_len"
   ]
  },
  {
   "cell_type": "markdown",
   "metadata": {},
   "source": [
    "## Minimum Number of Removals to Make Mountain Array"
   ]
  },
  {
   "cell_type": "markdown",
   "metadata": {},
   "source": [
    "https://leetcode.com/problems/minimum-number-of-removals-to-make-mountain-array/"
   ]
  },
  {
   "cell_type": "markdown",
   "metadata": {},
   "source": [
    "### Solution: Dynamic programming"
   ]
  },
  {
   "cell_type": "markdown",
   "metadata": {},
   "source": [
    "https://leetcode.com/problems/minimum-number-of-removals-to-make-mountain-array/discuss/951990/Python-Same-problem-with-%22Max-increasing-subarray%22-Revised-(TestCases-are-not-enough)"
   ]
  },
  {
   "cell_type": "code",
   "execution_count": null,
   "metadata": {},
   "outputs": [],
   "source": [
    "class Solution:\n",
    "    def minimumMountainRemovals(self, nums: List[int]) -> int:\n",
    "        if len(nums) <= 3:\n",
    "            return 0\n",
    "        \n",
    "        n = len(nums)\n",
    "        \n",
    "        increasing_dp = [0 for _ in range(n)]\n",
    "        decreasing_dp = [0 for _ in range(n)]\n",
    "        \n",
    "        for i in range(1, n):  #note: i range(1,n)\n",
    "            for j in range(i):\n",
    "                if nums[j] < nums[i]:\n",
    "                    increasing_dp[i] = max(increasing_dp[i], increasing_dp[j]+1)\n",
    "        \n",
    "        \n",
    "        for i in range(n-2,-1,-1): #note: i range(n-2,-1,-1)\n",
    "            for j in range(i+1, n):\n",
    "                if nums[j] < nums[i]:\n",
    "                    decreasing_dp[i] = max(decreasing_dp[i], decreasing_dp[j]+1) \n",
    "        \n",
    "        max_len = 0\n",
    "        for i in range(n):\n",
    "            # if any one side is 0 it means it's strictly increasing (right side) or desceasing (left side) and these positions are not valid\n",
    "            if increasing_dp[i]>0 and  decreasing_dp[i]>0:\n",
    "                # len = increasing in left side + decreasing in right side + itself\n",
    "                max_len = max(max_len, increasing_dp[i]+decreasing_dp[i]+1)\n",
    "        \n",
    "        return n-max_len"
   ]
  },
  {
   "cell_type": "markdown",
   "metadata": {},
   "source": [
    "## Search for a Range"
   ]
  },
  {
   "cell_type": "markdown",
   "metadata": {},
   "source": [
    "Given an array of integers nums sorted in ascending order, find the starting and ending position of a given target value.\n",
    "\n",
    "If target is not found in the array, return [-1, -1].\n",
    "\n",
    "Follow up: Could you write an algorithm with O(log n) runtime complexity?\n",
    "\n",
    " \n",
    "\n",
    "Example 1:\n",
    "\n",
    "Input: nums = [5,7,7,8,8,10], target = 8\n",
    "\n",
    "Output: [3,4]\n",
    "\n",
    "Example 2:\n",
    "\n",
    "Input: nums = [5,7,7,8,8,10], target = 6\n",
    "\n",
    "Output: [-1,-1]\n",
    "\n",
    "Example 3:\n",
    "\n",
    "Input: nums = [], target = 0\n",
    "\n",
    "Output: [-1,-1]"
   ]
  },
  {
   "cell_type": "markdown",
   "metadata": {},
   "source": [
    "### Solution1: Binary Search"
   ]
  },
  {
   "cell_type": "code",
   "execution_count": 45,
   "metadata": {
    "collapsed": true
   },
   "outputs": [],
   "source": [
    "class Solution:\n",
    "    def findRange(self,nums,target):\n",
    "        if not nums:\n",
    "            return [-1,-1]\n",
    "        self.l = 0\n",
    "        self.r = len(nums)-1\n",
    "        self.helper(nums,target)\n",
    "        return [self.l,self.r]\n",
    "                \n",
    "          \n",
    "    def helper(self,nums,target):\n",
    "        mid = (self.l+self.r)//2\n",
    "        if  self.l == self.r and target != nums[mid]:\n",
    "            self.l = self.r = -1\n",
    "            return \n",
    "        if target == nums[mid]:\n",
    "            self.l = self.r = mid\n",
    "            # handle duplicates\n",
    "            while self.l>0 and nums[self.l]==nums[self.l-1]:\n",
    "                self.l -=1\n",
    "            while self.r<len(nums)-1 and nums[self.r]==nums[self.r+1]:\n",
    "                self.r +=1\n",
    "            return \n",
    "        elif target<nums[mid]:\n",
    "            self.r = mid\n",
    "            self.helper(nums,target)\n",
    "        else:\n",
    "            self.l = mid+1\n",
    "            self.helper(nums,target)"
   ]
  },
  {
   "cell_type": "code",
   "execution_count": 46,
   "metadata": {},
   "outputs": [
    {
     "data": {
      "text/plain": [
       "[3, 4]"
      ]
     },
     "execution_count": 46,
     "metadata": {},
     "output_type": "execute_result"
    }
   ],
   "source": [
    "solution = Solution()\n",
    "solution.findRange( [5,7,7,8,8,10],8)"
   ]
  },
  {
   "cell_type": "markdown",
   "metadata": {},
   "source": [
    "### Solution2: Two binary search for left, right"
   ]
  },
  {
   "cell_type": "code",
   "execution_count": 51,
   "metadata": {
    "collapsed": true
   },
   "outputs": [],
   "source": [
    "class Solution:\n",
    "    def findRange(self,nums,target):\n",
    "        if not nums:\n",
    "            return [-1,-1]\n",
    "        self.l = self.lc = 0\n",
    "        self.r = self.rc = len(nums)-1\n",
    "        self.binarySearchLeft(nums,target)\n",
    "        self.binarySearchRight(nums,target)\n",
    "        return [self.l,self.r]\n",
    "                \n",
    "          \n",
    "    def binarySearchLeft(self,nums,target):\n",
    "        mid = (self.l+self.rc)//2 # check lower bound\n",
    "        if self.l==self.rc:\n",
    "            if nums[self.l]==target:\n",
    "                return\n",
    "            else:\n",
    "                self.l = -1\n",
    "                return\n",
    "        if target>nums[mid]: # make sure update left bound first\n",
    "            self.l = mid+1 # mid+1 always valid\n",
    "            self.binarySearchLeft(nums,target)\n",
    "        else:\n",
    "            self.rc = mid\n",
    "            self.binarySearchLeft(nums,target)\n",
    "    \n",
    "    def binarySearchRight(self,nums,target):\n",
    "        mid = (self.lc+self.r)//2 +1 # check upper bound\n",
    "        if self.lc==self.r:\n",
    "            if nums[self.r]==target:\n",
    "                return \n",
    "            else:\n",
    "                self.r = -1\n",
    "                return \n",
    "        if target<nums[mid]: # make sure update right bound first\n",
    "            self.r = mid-1 # mid -1 always exist\n",
    "            self.binarySearchRight(nums,target)\n",
    "        else:\n",
    "            self.lc = mid\n",
    "            self.binarySearchRight(nums,target)"
   ]
  },
  {
   "cell_type": "code",
   "execution_count": 52,
   "metadata": {},
   "outputs": [
    {
     "data": {
      "text/plain": [
       "[3, 4]"
      ]
     },
     "execution_count": 52,
     "metadata": {},
     "output_type": "execute_result"
    }
   ],
   "source": [
    "solution = Solution()\n",
    "solution.findRange( [5,7,7,8,8,10],8)"
   ]
  },
  {
   "cell_type": "markdown",
   "metadata": {},
   "source": [
    "## Merge Intervals"
   ]
  },
  {
   "cell_type": "markdown",
   "metadata": {},
   "source": [
    "Given a collection of intervals, merge all overlapping intervals.\n",
    "\n",
    "Example 1:\n",
    "\n",
    "Input: intervals = [[1,3],[2,6],[8,10],[15,18]]\n",
    "\n",
    "Output: [[1,6],[8,10],[15,18]]\n",
    "\n",
    "Explanation: Since intervals [1,3] and [2,6] overlaps, merge them into [1,6].\n",
    "\n",
    "Example 2:\n",
    "\n",
    "Input: intervals = [[1,4],[4,5]]\n",
    "\n",
    "Output: [[1,5]]\n",
    "\n",
    "Explanation: Intervals [1,4] and [4,5] are considered overlapping.\n",
    "\n",
    "NOTE: input types have been changed on April 15, 2019. Please reset to default code definition to get new method signature."
   ]
  },
  {
   "cell_type": "markdown",
   "metadata": {},
   "source": [
    "### Solution1"
   ]
  },
  {
   "cell_type": "markdown",
   "metadata": {},
   "source": [
    "Just go through the intervals sorted by start coordinate and either combine the current interval with the previous one if they overlap, or add it to the output by itself if they don't."
   ]
  },
  {
   "cell_type": "code",
   "execution_count": 58,
   "metadata": {
    "collapsed": true
   },
   "outputs": [],
   "source": [
    "class Solution:\n",
    "    def merge(self,intervals):\n",
    "        intervals = sorted(intervals,key=lambda i:i[0])\n",
    "        print(intervals)\n",
    "        ans = []\n",
    "        for i in intervals:\n",
    "            # note: if ans\n",
    "            if ans and i[0]<=ans[-1][1]:\n",
    "                ans[-1][1] = max(ans[-1][1],i[1])\n",
    "            else:\n",
    "                ans.append(i)\n",
    "        return ans"
   ]
  },
  {
   "cell_type": "code",
   "execution_count": 59,
   "metadata": {},
   "outputs": [
    {
     "name": "stdout",
     "output_type": "stream",
     "text": [
      "[[1, 3], [2, 6], [8, 10], [15, 18]]\n"
     ]
    },
    {
     "data": {
      "text/plain": [
       "[[1, 6], [8, 10], [15, 18]]"
      ]
     },
     "execution_count": 59,
     "metadata": {},
     "output_type": "execute_result"
    }
   ],
   "source": [
    "solution = Solution()\n",
    "solution.merge( [[1,3],[2,6],[8,10],[15,18]])"
   ]
  },
  {
   "cell_type": "markdown",
   "metadata": {},
   "source": [
    "## Non-overlapping Intervals"
   ]
  },
  {
   "cell_type": "markdown",
   "metadata": {},
   "source": [
    "Given a collection of intervals, find the minimum number of intervals you need to remove to make the rest of the intervals non-overlapping."
   ]
  },
  {
   "cell_type": "markdown",
   "metadata": {},
   "source": [
    "Example 1:\n",
    "\n",
    "Input: [[1,2],[2,3],[3,4],[1,3]]\n",
    "\n",
    "Output: 1\n",
    "\n",
    "Explanation: [1,3] can be removed and the rest of intervals are non-overlapping.\n",
    "\n",
    "Example 2:\n",
    "\n",
    "Input: [[1,2],[1,2],[1,2]]\n",
    "\n",
    "Output: 2\n",
    "\n",
    "Explanation: You need to remove two [1,2] to make the rest of intervals non-overlapping.\n",
    "\n",
    "Example 3:\n",
    "\n",
    "Input: [[1,2],[2,3]]\n",
    "\n",
    "Output: 0\n",
    "\n",
    "Explanation: You don't need to remove any of the intervals since they're already non-overlapping."
   ]
  },
  {
   "cell_type": "markdown",
   "metadata": {},
   "source": [
    "### Solution1"
   ]
  },
  {
   "cell_type": "markdown",
   "metadata": {},
   "source": [
    "Which interval would be the best first (leftmost) interval to keep? One that ends first, as it leaves the most room for the rest. So take one with smallest end, remove all the bad ones overlapping it, and repeat (taking the one with smallest end of the remaining ones). For the overlap test, just keep track of the current end, initialized with negative infinity."
   ]
  },
  {
   "cell_type": "code",
   "execution_count": 76,
   "metadata": {
    "collapsed": true
   },
   "outputs": [],
   "source": [
    "class Solution:\n",
    "    def remove(self,intervals):\n",
    "        intervals = sorted(intervals,key=lambda i:i[1])\n",
    "        print(intervals)\n",
    "        erased = 0\n",
    "        end = float('-inf')\n",
    "        for i in intervals:\n",
    "            if i[0]>=end:\n",
    "                end = i[1]\n",
    "            else:\n",
    "                erased +=1\n",
    "        return erased"
   ]
  },
  {
   "cell_type": "code",
   "execution_count": 80,
   "metadata": {
    "collapsed": true
   },
   "outputs": [],
   "source": [
    "class Solution:\n",
    "    def remove(self,intervals):\n",
    "        intervals = sorted(intervals,key=lambda i:i[1])\n",
    "        print(intervals)\n",
    "        erased = 0\n",
    "        ans = []\n",
    "        for i in intervals:\n",
    "            # note: if ans\n",
    "            if ans and i[0]<ans[-1][1]:\n",
    "                erased +=1\n",
    "            else:\n",
    "                 ans.append(i)\n",
    "        return erased"
   ]
  },
  {
   "cell_type": "code",
   "execution_count": 81,
   "metadata": {},
   "outputs": [
    {
     "name": "stdout",
     "output_type": "stream",
     "text": [
      "[[1, 2], [0, 2], [1, 3], [3, 4]]\n"
     ]
    },
    {
     "data": {
      "text/plain": [
       "2"
      ]
     },
     "execution_count": 81,
     "metadata": {},
     "output_type": "execute_result"
    }
   ],
   "source": [
    "solution = Solution()\n",
    "solution.remove( [[1,2],[0,2],[3,4],[1,3]])"
   ]
  },
  {
   "cell_type": "markdown",
   "metadata": {},
   "source": [
    "## Search in Rotated Sorted Array"
   ]
  },
  {
   "cell_type": "markdown",
   "metadata": {},
   "source": [
    "You are given an integer array nums sorted in ascending order, and an integer target.\n",
    "\n",
    "Suppose that nums is rotated at some pivot unknown to you beforehand (i.e., [0,1,2,4,5,6,7] might become [4,5,6,7,0,1,2]).\n",
    "\n",
    "If target is found in the array return its index, otherwise, return -1.\n",
    "\n",
    " \n",
    "\n",
    "Example 1:\n",
    "\n",
    "Input: nums = [4,5,6,7,0,1,2], target = 0\n",
    "\n",
    "Output: 4\n",
    "\n",
    "Example 2:\n",
    "\n",
    "Input: nums = [4,5,6,7,0,1,2], target = 3\n",
    "\n",
    "Output: -1\n",
    "\n",
    "Example 3:\n",
    "\n",
    "Input: nums = [1], target = 0\n",
    "\n",
    "Output: -1"
   ]
  },
  {
   "cell_type": "markdown",
   "metadata": {},
   "source": [
    "### Solution: Revised Binary Search"
   ]
  },
  {
   "cell_type": "markdown",
   "metadata": {},
   "source": [
    "https://leetcode.com/explore/interview/card/top-interview-questions-medium/110/sorting-and-searching/804/discuss/14436/Revised-Binary-Search"
   ]
  },
  {
   "cell_type": "code",
   "execution_count": 105,
   "metadata": {
    "collapsed": true
   },
   "outputs": [],
   "source": [
    "class Solution:\n",
    "    def searchRotateArray(self,nums,target):\n",
    "        if not nums:\n",
    "            return -1\n",
    "        l,r = 0, len(nums)-1\n",
    "        while(l<=r):\n",
    "           \n",
    "            mid = (l+r)//2 # take lower bound, mid+1 is valid\n",
    "            print(l,mid,r)\n",
    "            if nums[mid]==target:\n",
    "                return mid\n",
    "            # nums[l]<=nums[mid]\n",
    "            elif nums[l]<=nums[mid]:#nums[l]~nums[mid] is monotonically increasing\n",
    "                if nums[l]<=target<nums[mid]: \n",
    "                    r = mid #search interval [left,mid)\n",
    "                else:\n",
    "                    l = mid+1 #search interval (mid,right]\n",
    "            else: #nums[mid]~nums[r] is monotonically increasing\n",
    "                if nums[mid]<target<=nums[r]:\n",
    "                    l = mid+1 #search interval (mid,right]\n",
    "                else:\n",
    "                    r = mid #search interval [left,mid)\n",
    "        return -1"
   ]
  },
  {
   "cell_type": "code",
   "execution_count": 103,
   "metadata": {},
   "outputs": [
    {
     "name": "stdout",
     "output_type": "stream",
     "text": [
      "0 3 6\n",
      "4 5 6\n",
      "4 4 5\n"
     ]
    },
    {
     "data": {
      "text/plain": [
       "4"
      ]
     },
     "execution_count": 103,
     "metadata": {},
     "output_type": "execute_result"
    }
   ],
   "source": [
    "solution = Solution()\n",
    "solution.searchRotateArray(nums = [4,5,6,7,0,1,2], target = 0)"
   ]
  },
  {
   "cell_type": "code",
   "execution_count": 106,
   "metadata": {},
   "outputs": [
    {
     "name": "stdout",
     "output_type": "stream",
     "text": [
      "0 3 6\n",
      "4 5 6\n",
      "6 6 6\n"
     ]
    },
    {
     "data": {
      "text/plain": [
       "-1"
      ]
     },
     "execution_count": 106,
     "metadata": {},
     "output_type": "execute_result"
    }
   ],
   "source": [
    "solution = Solution()\n",
    "solution.searchRotateArray(nums = [4,5,6,7,0,1,2], target = 3)"
   ]
  },
  {
   "cell_type": "code",
   "execution_count": 100,
   "metadata": {},
   "outputs": [
    {
     "name": "stdout",
     "output_type": "stream",
     "text": [
      "0 0 1\n",
      "1 1 1\n"
     ]
    },
    {
     "data": {
      "text/plain": [
       "1"
      ]
     },
     "execution_count": 100,
     "metadata": {},
     "output_type": "execute_result"
    }
   ],
   "source": [
    "solution = Solution()\n",
    "solution.searchRotateArray(nums = [1,3], target = 3)"
   ]
  },
  {
   "cell_type": "code",
   "execution_count": 101,
   "metadata": {},
   "outputs": [
    {
     "name": "stdout",
     "output_type": "stream",
     "text": [
      "0 0 1\n"
     ]
    },
    {
     "data": {
      "text/plain": [
       "0"
      ]
     },
     "execution_count": 101,
     "metadata": {},
     "output_type": "execute_result"
    }
   ],
   "source": [
    "solution = Solution()\n",
    "solution.searchRotateArray(nums = [3,1], target = 3)"
   ]
  },
  {
   "cell_type": "markdown",
   "metadata": {},
   "source": [
    "## Search a 2D Matrix II"
   ]
  },
  {
   "cell_type": "markdown",
   "metadata": {},
   "source": [
    "Write an efficient algorithm that searches for a value in an m x n matrix. This matrix has the following properties:\n",
    "\n",
    "Integers in each row are sorted in ascending from left to right.\n",
    "Integers in each column are sorted in ascending from top to bottom.\n",
    "Example:\n",
    "\n",
    "Consider the following matrix:\n",
    "\n",
    "[\n",
    "  [1,   4,  7, 11, 15],\n",
    "  [2,   5,  8, 12, 19],\n",
    "  [3,   6,  9, 16, 22],\n",
    "  [10, 13, 14, 17, 24],\n",
    "  [18, 21, 23, 26, 30]\n",
    "]\n",
    "\n",
    "Given target = 5, return true.\n",
    "\n",
    "Given target = 20, return false."
   ]
  },
  {
   "cell_type": "markdown",
   "metadata": {},
   "source": [
    "### Solution 1: BFS"
   ]
  },
  {
   "cell_type": "markdown",
   "metadata": {},
   "source": [
    "Search from the top-right/bottom-left element and reduce the search space by one row or column at each time.(we can treat the top-right/bottom-left element as a root of a BST so we only need o(m+N) to find the target.)\n"
   ]
  },
  {
   "cell_type": "code",
   "execution_count": null,
   "metadata": {
    "collapsed": true
   },
   "outputs": [],
   "source": [
    "class Solution:\n",
    "    def searchMatrix(self,matrix,target):\n",
    "        if not matrix:\n",
    "            return False\n",
    "        # search from top-right\n",
    "        row = 0\n",
    "        col = len(matrix[0])-1\n",
    "        while row<=len(matrix)-1 and col>=0:\n",
    "            if matrix[row][col]==target:\n",
    "                return True\n",
    "            elif matrix[row][col] > target:\n",
    "                col -=1\n",
    "            else:\n",
    "                row +=1\n",
    "        return False"
   ]
  },
  {
   "cell_type": "markdown",
   "metadata": {},
   "source": [
    "# Hard"
   ]
  },
  {
   "cell_type": "markdown",
   "metadata": {},
   "source": [
    "## Wiggle Sort II"
   ]
  },
  {
   "cell_type": "markdown",
   "metadata": {},
   "source": [
    "Given an unsorted array nums, reorder it such that nums[0] < nums[1] > nums[2] < nums[3]....\n",
    "\n",
    "Example 1:\n",
    "\n",
    "Input: nums = [1, 5, 1, 1, 6, 4]\n",
    "\n",
    "Output: One possible answer is [1, 4, 1, 5, 1, 6].\n",
    "\n",
    "Example 2:\n",
    "\n",
    "Input: nums = [1, 3, 2, 2, 3, 1]\n",
    "\n",
    "Output: One possible answer is [2, 3, 1, 3, 1, 2]."
   ]
  },
  {
   "cell_type": "markdown",
   "metadata": {},
   "source": [
    "### Solution1: Quick select + Virtual indexing"
   ]
  },
  {
   "cell_type": "markdown",
   "metadata": {},
   "source": [
    "https://leetcode.com/explore/interview/card/top-interview-questions-hard/120/sorting-and-searching/857/discuss/77684/Summary-of-the-various-solutions-to-Wiggle-Sort-for-your-reference"
   ]
  },
  {
   "cell_type": "markdown",
   "metadata": {},
   "source": [
    "https://leetcode.com/explore/interview/card/top-interview-questions-hard/120/sorting-and-searching/857/discuss/333079/Python-deterministic-O(n)-time-+-O(1)-memory-quick-select-+-%22median-of-medians%22"
   ]
  },
  {
   "cell_type": "code",
   "execution_count": 107,
   "metadata": {
    "collapsed": true
   },
   "outputs": [],
   "source": [
    "class Solution:\n",
    "    def wiggleSort(self,nums):\n",
    "        n=len(nums)\n",
    "        mid=self.finKthSmallestElement(nums,(n+1)//2)\n",
    "        print(\"mid: %d\" %mid)\n",
    "        mapIdx=lambda i:(1+2*i)%(n|1) \n",
    "        # note: (n|1) here is n+1, and this function would map the index to odd indexes,even indexes\n",
    "        # for example: mapIdx = lambda i:(1+2*i)%(6|1)\n",
    "        # [0,1,2,3,4,5] --> [1,3,5,0,2,4]\n",
    "        # if we don't do any mapping, the codes below would lead to [>mid][mid][<mid] where order is not guranteed.\n",
    "        i,j,k = 0,n-1,0\n",
    "        while k<=j:\n",
    "            print(\"k: %d\" %k)\n",
    "            print(\"mapIdx(k): %d\" %mapIdx(k))\n",
    "            if nums[mapIdx(k)]>mid: \n",
    "                print(\"nums[mapIdx(k)]>mid\")\n",
    "                print(\"i: %d\" %i)\n",
    "                print(\"mapIdx(i): %d\" %mapIdx(i))\n",
    "                nums[mapIdx(k)],nums[mapIdx(i)]=nums[mapIdx(i)],nums[mapIdx(k)] # move >mid to the 'left'\n",
    "                i+=1\n",
    "                k+=1\n",
    "            elif nums[mapIdx(k)]<mid:\n",
    "                print(\"nums[mapIdx(k)]<mid\")\n",
    "                print(\"j: %d\" %j)\n",
    "                print(\"mapIdx(j): %d\" %mapIdx(j))\n",
    "                nums[mapIdx(k)],nums[mapIdx(j)]=nums[mapIdx(j)],nums[mapIdx(k)] # move <mid to the 'right'\n",
    "                j-=1\n",
    "            else:\n",
    "                k+=1\n",
    "            print(nums)\n",
    "    \n",
    "    \n",
    "    def finKthSmallestElement(self,nums,k):\n",
    "        pivot = nums[-1]\n",
    "        small = [n for n in nums if n < pivot]\n",
    "        equal = [n for n in nums if n == pivot]\n",
    "        large = [n for n in nums if n > pivot]\n",
    "        \n",
    "        if k <= len(small):\n",
    "            return self.finKthSmallestElement(small,k)\n",
    "        elif len(small)<k<=len(small)+len(equal):\n",
    "            return equal[0]\n",
    "        else:\n",
    "            return self.finKthSmallestElement(large,k-(len(small)+len(equal)))"
   ]
  },
  {
   "cell_type": "code",
   "execution_count": 108,
   "metadata": {},
   "outputs": [
    {
     "name": "stdout",
     "output_type": "stream",
     "text": [
      "mid: 3\n",
      "k: 0\n",
      "mapIdx(k): 1\n",
      "nums[mapIdx(k)]>mid\n",
      "i: 0\n",
      "mapIdx(i): 1\n",
      "[1, 6, 2, 3, 9, 2, 4, 5]\n",
      "k: 1\n",
      "mapIdx(k): 3\n",
      "[1, 6, 2, 3, 9, 2, 4, 5]\n",
      "k: 2\n",
      "mapIdx(k): 5\n",
      "nums[mapIdx(k)]<mid\n",
      "j: 7\n",
      "mapIdx(j): 6\n",
      "[1, 6, 2, 3, 9, 4, 2, 5]\n",
      "k: 2\n",
      "mapIdx(k): 5\n",
      "nums[mapIdx(k)]>mid\n",
      "i: 1\n",
      "mapIdx(i): 3\n",
      "[1, 6, 2, 4, 9, 3, 2, 5]\n",
      "k: 3\n",
      "mapIdx(k): 7\n",
      "nums[mapIdx(k)]>mid\n",
      "i: 2\n",
      "mapIdx(i): 5\n",
      "[1, 6, 2, 4, 9, 5, 2, 3]\n",
      "k: 4\n",
      "mapIdx(k): 0\n",
      "nums[mapIdx(k)]<mid\n",
      "j: 6\n",
      "mapIdx(j): 4\n",
      "[9, 6, 2, 4, 1, 5, 2, 3]\n",
      "k: 4\n",
      "mapIdx(k): 0\n",
      "nums[mapIdx(k)]>mid\n",
      "i: 3\n",
      "mapIdx(i): 7\n",
      "[3, 6, 2, 4, 1, 5, 2, 9]\n",
      "k: 5\n",
      "mapIdx(k): 2\n",
      "nums[mapIdx(k)]<mid\n",
      "j: 5\n",
      "mapIdx(j): 2\n",
      "[3, 6, 2, 4, 1, 5, 2, 9]\n"
     ]
    }
   ],
   "source": [
    "solution = Solution()\n",
    "solution.wiggleSort([1, 6,2,3,9,2,4,5])"
   ]
  },
  {
   "cell_type": "markdown",
   "metadata": {},
   "source": [
    "### Solution2: Sort"
   ]
  },
  {
   "cell_type": "code",
   "execution_count": 113,
   "metadata": {
    "collapsed": true
   },
   "outputs": [],
   "source": [
    "class Solution:\n",
    "    def wiggleSort(self,nums):\n",
    "        arr = sorted(nums)\n",
    "        # pop from last\n",
    "        for i in range(1,len(nums),2): # fill even indexes first\n",
    "            nums[i] = arr.pop()\n",
    "        for i in range(0,len(nums),2): # fill odd indexes \n",
    "            nums[i] = arr.pop()\n",
    "        print(nums)"
   ]
  },
  {
   "cell_type": "code",
   "execution_count": 114,
   "metadata": {},
   "outputs": [
    {
     "name": "stdout",
     "output_type": "stream",
     "text": [
      "[3, 9, 2, 6, 2, 5, 1, 4]\n"
     ]
    }
   ],
   "source": [
    "solution = Solution()\n",
    "solution.wiggleSort([1, 6,2,3,9,2,4,5])"
   ]
  },
  {
   "cell_type": "markdown",
   "metadata": {},
   "source": [
    "## Kth Smallest Element in a Sorted Matrix"
   ]
  },
  {
   "cell_type": "markdown",
   "metadata": {},
   "source": [
    "https://leetcode.com/explore/interview/card/top-interview-questions-hard/120/sorting-and-searching/858/"
   ]
  },
  {
   "cell_type": "markdown",
   "metadata": {},
   "source": [
    "### Solution1: Heap"
   ]
  },
  {
   "cell_type": "markdown",
   "metadata": {},
   "source": [
    "https://leetcode.com/explore/interview/card/top-interview-questions-hard/120/sorting-and-searching/858/discuss/85219/Python-solution-O(klogk)-similar-to-problem-373"
   ]
  },
  {
   "cell_type": "code",
   "execution_count": 129,
   "metadata": {
    "collapsed": true
   },
   "outputs": [],
   "source": [
    "from heapq import heappush, heappop\n",
    "class Solution:\n",
    "    def findKthSmallestMatrix(self,matrix,k):\n",
    "        quene = []\n",
    "        heappush(quene, (matrix[0][0],0,0)) #start from left-top corner\n",
    "        for _ in range(k):\n",
    "            print(quene)\n",
    "            element, i, j = heappop(quene)\n",
    "            print(element)\n",
    "            \n",
    "            if i==0 and j<len(matrix[0])-1:\n",
    "                heappush(quene, (matrix[i][j+1],i,j+1))\n",
    "            if i<len(matrix)-1 and j<len(matrix[0]):\n",
    "                heappush(quene, (matrix[i+1][j],i+1,j))\n",
    "        \n",
    "        return element"
   ]
  },
  {
   "cell_type": "code",
   "execution_count": 130,
   "metadata": {},
   "outputs": [
    {
     "name": "stdout",
     "output_type": "stream",
     "text": [
      "[(1, 0, 0)]\n",
      "1\n",
      "[(5, 0, 1), (10, 1, 0)]\n",
      "5\n",
      "[(9, 0, 2), (10, 1, 0), (11, 1, 1)]\n",
      "9\n",
      "[(10, 1, 0), (11, 1, 1), (13, 0, 3), (15, 1, 2)]\n",
      "10\n",
      "[(11, 1, 1), (12, 2, 0), (13, 0, 3), (15, 1, 2)]\n",
      "11\n",
      "[(12, 2, 0), (13, 2, 1), (13, 0, 3), (15, 1, 2)]\n",
      "12\n",
      "[(13, 0, 3), (13, 2, 1), (15, 1, 2)]\n",
      "13\n",
      "[(13, 2, 1), (15, 1, 2), (16, 1, 3)]\n",
      "13\n"
     ]
    },
    {
     "data": {
      "text/plain": [
       "13"
      ]
     },
     "execution_count": 130,
     "metadata": {},
     "output_type": "execute_result"
    }
   ],
   "source": [
    "solution = Solution()\n",
    "solution.findKthSmallestMatrix(matrix = [\n",
    "   [ 1,  5,  9, 13],\n",
    "   [10, 11, 15, 16],\n",
    "   [12, 13, 15,16]],\n",
    "k = 8)"
   ]
  },
  {
   "cell_type": "markdown",
   "metadata": {},
   "source": [
    "### Solution2: Sort"
   ]
  },
  {
   "cell_type": "code",
   "execution_count": 131,
   "metadata": {
    "collapsed": true
   },
   "outputs": [],
   "source": [
    "class Solution:\n",
    "    def findKthSmallestMatrix(self,matrix,k):\n",
    "        l = []\n",
    "        for row in matrix:\n",
    "            l += row\n",
    "        l.sort()\n",
    "        return l[k-1]"
   ]
  },
  {
   "cell_type": "code",
   "execution_count": 132,
   "metadata": {},
   "outputs": [
    {
     "data": {
      "text/plain": [
       "13"
      ]
     },
     "execution_count": 132,
     "metadata": {},
     "output_type": "execute_result"
    }
   ],
   "source": [
    "solution = Solution()\n",
    "solution.findKthSmallestMatrix(matrix = [\n",
    "   [ 1,  5,  9, 13],\n",
    "   [10, 11, 15, 16],\n",
    "   [12, 13, 15,16]],\n",
    "k = 8)"
   ]
  },
  {
   "cell_type": "markdown",
   "metadata": {},
   "source": [
    "## Median of Two Sorted Arrays"
   ]
  },
  {
   "cell_type": "markdown",
   "metadata": {},
   "source": [
    "https://leetcode.com/explore/interview/card/top-interview-questions-hard/120/sorting-and-searching/859/"
   ]
  },
  {
   "cell_type": "markdown",
   "metadata": {},
   "source": [
    "## Solution1: Binary Search with two pointer"
   ]
  },
  {
   "cell_type": "markdown",
   "metadata": {},
   "source": [
    "https://leetcode.com/explore/interview/card/top-interview-questions-hard/120/sorting-and-searching/859/discuss/2471/Very-concise-O(log(min(MN)))-iterative-solution-with-detailed-explanation"
   ]
  },
  {
   "cell_type": "markdown",
   "metadata": {},
   "source": [
    "We want to make two cuts, separating nums1 into [. . . . L1 | R1 . . . ] and nums2 into [. . . . L2 | R2 . . . ] respectively, so that [. . . . L1] + [. . . . L2] has equal number of elements as [R1 . . . ] + [R2 . . . ]. Our goal is to find such cutting positions that give us the median values.\n",
    "\n",
    "There are 2N1 + 2N2 + 2 position altogether. Therefore, there must be exactly N1 + N2 positions on each side of the cut, and 2 positions directly on the cut.\n",
    "\n",
    "Cutting on a gap is simple. Cutting on a number means both left half and right half get the number.\n",
    "\n",
    "With two arrays, a valid cutting position that gives the median can be ANY cutting position of the shorter array. This is not true for the longer array. Therefore, we always cut the shorter array, and then calculate the cutting position of longer array directly(by using the fact that each half has the same number of cutting positions). We want to make nums2 always point to the shorter array for convenience.\n",
    "\n",
    "Using binary search, If L1 > R2, we know current cutting position is incorrect. A valid cutting position for median should be on the left half of nums1.\n",
    "\n",
    "If L2 > R1, we know current cutting position is incorrect. A valid cutting position for median should be on the right half of nums1.\n",
    "\n",
    "if L1 <= R1 && L1 <= R2 && L2 <= R1 && L2 <= R2, we are good. median = (max(L1, L2) + min(R1, R2)) / 2"
   ]
  },
  {
   "cell_type": "code",
   "execution_count": 3,
   "metadata": {
    "collapsed": true
   },
   "outputs": [],
   "source": [
    "class Solution:\n",
    "    def medianSortedArray(self,nums1,nums2):\n",
    "        if len(nums1)<len(nums2):\n",
    "            nums1, nums2 = nums2, nums1 # make sure nums2 is shorter\n",
    "        n1,n2 = len(nums1),len(nums2)\n",
    "        l = 0\n",
    "        r = 2*n2 #check the split starting from nums2 (split = (l+r)//2)\n",
    "        while(l<r):\n",
    "            p2 = (l+r)//2 #pointer of mid for nums2\n",
    "            p1 = n1+n2-p2 #pointer of mid for nums1\n",
    "            L1 = -sys.maxint if p1==0 else nums1[(p1-1)/2]\n",
    "            L2 = -sys.maxint if p2==0 else nums2[(p2-1)/2]\n",
    "            R1 = sys.maxint if p1==2*n1 else nums1[p1/2]\n",
    "            R2 = sys.maxint if p2==2*n2 else nums2[p2/2]\n",
    "            \n",
    "            if L1 > R2:\n",
    "                l = p2+1 # L1 is to large, move p1 left, i.e. move p2 right\n",
    "            elif L2 > R1:\n",
    "                r = p2-1 # L2 is to large, move p2 left\n",
    "            else:\n",
    "                return (max(L1, L2) + min(R1, R2)) / 2"
   ]
  },
  {
   "cell_type": "markdown",
   "metadata": {},
   "source": [
    "### Solution2: Merge two sorted array, then find median"
   ]
  },
  {
   "cell_type": "code",
   "execution_count": null,
   "metadata": {
    "collapsed": true
   },
   "outputs": [],
   "source": [
    "def findMedian(nums1,nums2):\n",
    "    m = len(nums1)\n",
    "    n = len(nums2)\n",
    "    nums1.extend(nums2)\n",
    "    while m>0 and n>0:\n",
    "        if nums1[m-1]>=nums2[n-1]:\n",
    "            nums1[m+n-1] = nums1[m-1]\n",
    "            m-=1\n",
    "        else:\n",
    "            nums1[m+n-1] = nums2[n-1]\n",
    "            n-=1\n",
    "    if n>0:\n",
    "        nums1[0:n] = nums2[0:n]\n",
    "    print(nums1)\n",
    "    if len(nums1)%2==1:\n",
    "        return nums1[len(nums1)//2]\n",
    "    else:\n",
    "        return (nums1[len(nums1)//2]+nums1[len(nums1)//2-1])/2"
   ]
  }
 ],
 "metadata": {
  "kernelspec": {
   "display_name": "Python 3",
   "language": "python",
   "name": "python3"
  },
  "language_info": {
   "codemirror_mode": {
    "name": "ipython",
    "version": 3
   },
   "file_extension": ".py",
   "mimetype": "text/x-python",
   "name": "python",
   "nbconvert_exporter": "python",
   "pygments_lexer": "ipython3",
   "version": "3.6.8"
  },
  "toc": {
   "base_numbering": 1,
   "nav_menu": {},
   "number_sections": true,
   "sideBar": true,
   "skip_h1_title": false,
   "title_cell": "Table of Contents",
   "title_sidebar": "Contents",
   "toc_cell": true,
   "toc_position": {
    "height": "690px",
    "left": "0px",
    "right": "1084px",
    "top": "106px",
    "width": "421px"
   },
   "toc_section_display": true,
   "toc_window_display": true
  }
 },
 "nbformat": 4,
 "nbformat_minor": 2
}
