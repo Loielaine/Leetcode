{
 "cells": [
  {
   "cell_type": "markdown",
   "metadata": {
    "toc": true
   },
   "source": [
    "<h1>Table of Contents<span class=\"tocSkip\"></span></h1>\n",
    "<div class=\"toc\"><ul class=\"toc-item\"><li><span><a href=\"#Easy\" data-toc-modified-id=\"Easy-1\"><span class=\"toc-item-num\">1&nbsp;&nbsp;</span>Easy</a></span><ul class=\"toc-item\"><li><span><a href=\"#Climbing-Stairs\" data-toc-modified-id=\"Climbing-Stairs-1.1\"><span class=\"toc-item-num\">1.1&nbsp;&nbsp;</span>Climbing Stairs</a></span><ul class=\"toc-item\"><li><span><a href=\"#Fabonacci-array\" data-toc-modified-id=\"Fabonacci-array-1.1.1\"><span class=\"toc-item-num\">1.1.1&nbsp;&nbsp;</span>Fabonacci array</a></span></li><li><span><a href=\"#Solution1:-Top-down\" data-toc-modified-id=\"Solution1:-Top-down-1.1.2\"><span class=\"toc-item-num\">1.1.2&nbsp;&nbsp;</span>Solution1: Top down</a></span></li><li><span><a href=\"#Solution2:-Top-down-+-memorization-(dictionary)\" data-toc-modified-id=\"Solution2:-Top-down-+-memorization-(dictionary)-1.1.3\"><span class=\"toc-item-num\">1.1.3&nbsp;&nbsp;</span>Solution2: Top down + memorization (dictionary)</a></span></li><li><span><a href=\"#Solution3:-Bottom-down\" data-toc-modified-id=\"Solution3:-Bottom-down-1.1.4\"><span class=\"toc-item-num\">1.1.4&nbsp;&nbsp;</span>Solution3: Bottom down</a></span></li><li><span><a href=\"#Solution4:-Bottom-down-+-Constant-Space\" data-toc-modified-id=\"Solution4:-Bottom-down-+-Constant-Space-1.1.5\"><span class=\"toc-item-num\">1.1.5&nbsp;&nbsp;</span>Solution4: Bottom down + Constant Space</a></span></li></ul></li><li><span><a href=\"#Best-Time-to-Buy-and-Sell-Stock\" data-toc-modified-id=\"Best-Time-to-Buy-and-Sell-Stock-1.2\"><span class=\"toc-item-num\">1.2&nbsp;&nbsp;</span>Best Time to Buy and Sell Stock</a></span><ul class=\"toc-item\"><li><span><a href=\"#Solution1:-largest-contigious-sum-(maxCur,-maxSoFar)\" data-toc-modified-id=\"Solution1:-largest-contigious-sum-(maxCur,-maxSoFar)-1.2.1\"><span class=\"toc-item-num\">1.2.1&nbsp;&nbsp;</span>Solution1: largest contigious sum (maxCur, maxSoFar)</a></span></li><li><span><a href=\"#Solution2:-find-lowest-price-so-far(buy-point)\" data-toc-modified-id=\"Solution2:-find-lowest-price-so-far(buy-point)-1.2.2\"><span class=\"toc-item-num\">1.2.2&nbsp;&nbsp;</span>Solution2: find lowest price so far(buy point)</a></span></li></ul></li><li><span><a href=\"#Maximum-Subarray\" data-toc-modified-id=\"Maximum-Subarray-1.3\"><span class=\"toc-item-num\">1.3&nbsp;&nbsp;</span>Maximum Subarray</a></span><ul class=\"toc-item\"><li><span><a href=\"#Solution1:-largest-contigious-sum-(maxCur,-maxSoFar)\" data-toc-modified-id=\"Solution1:-largest-contigious-sum-(maxCur,-maxSoFar)-1.3.1\"><span class=\"toc-item-num\">1.3.1&nbsp;&nbsp;</span>Solution1: largest contigious sum (maxCur, maxSoFar)</a></span></li></ul></li><li><span><a href=\"#House-Robber\" data-toc-modified-id=\"House-Robber-1.4\"><span class=\"toc-item-num\">1.4&nbsp;&nbsp;</span>House Robber</a></span><ul class=\"toc-item\"><li><span><a href=\"#Solution1:-maxCur,-maxSoFar\" data-toc-modified-id=\"Solution1:-maxCur,-maxSoFar-1.4.1\"><span class=\"toc-item-num\">1.4.1&nbsp;&nbsp;</span>Solution1: maxCur, maxSoFar</a></span></li><li><span><a href=\"#Solution2:-Top-down(recursive)\" data-toc-modified-id=\"Solution2:-Top-down(recursive)-1.4.2\"><span class=\"toc-item-num\">1.4.2&nbsp;&nbsp;</span>Solution2: Top down(recursive)</a></span></li><li><span><a href=\"#Solution3:-Top-down(recursive)-+-Memorization(dictionary)\" data-toc-modified-id=\"Solution3:-Top-down(recursive)-+-Memorization(dictionary)-1.4.3\"><span class=\"toc-item-num\">1.4.3&nbsp;&nbsp;</span>Solution3: Top down(recursive) + Memorization(dictionary)</a></span></li><li><span><a href=\"#Solution3:-Top-down(recursive)-+-Memorization(list)\" data-toc-modified-id=\"Solution3:-Top-down(recursive)-+-Memorization(list)-1.4.4\"><span class=\"toc-item-num\">1.4.4&nbsp;&nbsp;</span>Solution3: Top down(recursive) + Memorization(list)</a></span></li><li><span><a href=\"#Solution4:-Bottom-down(Iterative)-+-Memorization\" data-toc-modified-id=\"Solution4:-Bottom-down(Iterative)-+-Memorization-1.4.5\"><span class=\"toc-item-num\">1.4.5&nbsp;&nbsp;</span>Solution4: Bottom down(Iterative) + Memorization</a></span></li></ul></li></ul></li><li><span><a href=\"#Meduim\" data-toc-modified-id=\"Meduim-2\"><span class=\"toc-item-num\">2&nbsp;&nbsp;</span>Meduim</a></span><ul class=\"toc-item\"><li><span><a href=\"#Jump-Game\" data-toc-modified-id=\"Jump-Game-2.1\"><span class=\"toc-item-num\">2.1&nbsp;&nbsp;</span>Jump Game</a></span><ul class=\"toc-item\"><li><span><a href=\"#Solution1:-Backtracking----find-all-potential-path\" data-toc-modified-id=\"Solution1:-Backtracking----find-all-potential-path-2.1.1\"><span class=\"toc-item-num\">2.1.1&nbsp;&nbsp;</span>Solution1: Backtracking -- find all potential path</a></span></li><li><span><a href=\"#Solution2:-Max-reach\" data-toc-modified-id=\"Solution2:-Max-reach-2.1.2\"><span class=\"toc-item-num\">2.1.2&nbsp;&nbsp;</span>Solution2: Max reach</a></span></li></ul></li><li><span><a href=\"#Unique-Paths\" data-toc-modified-id=\"Unique-Paths-2.2\"><span class=\"toc-item-num\">2.2&nbsp;&nbsp;</span>Unique Paths</a></span><ul class=\"toc-item\"><li><span><a href=\"#Solution1:-Backtracking-(may-exceed-time-limit)\" data-toc-modified-id=\"Solution1:-Backtracking-(may-exceed-time-limit)-2.2.1\"><span class=\"toc-item-num\">2.2.1&nbsp;&nbsp;</span>Solution1: Backtracking (may exceed time limit)</a></span></li><li><span><a href=\"#Solution2:-Math\" data-toc-modified-id=\"Solution2:-Math-2.2.2\"><span class=\"toc-item-num\">2.2.2&nbsp;&nbsp;</span>Solution2: Math</a></span></li><li><span><a href=\"#Solution3:-Topdown\" data-toc-modified-id=\"Solution3:-Topdown-2.2.3\"><span class=\"toc-item-num\">2.2.3&nbsp;&nbsp;</span>Solution3: Topdown</a></span></li><li><span><a href=\"#Solution-4:-Bottemup\" data-toc-modified-id=\"Solution-4:-Bottemup-2.2.4\"><span class=\"toc-item-num\">2.2.4&nbsp;&nbsp;</span>Solution 4: Bottemup</a></span></li></ul></li><li><span><a href=\"#Decode-Ways\" data-toc-modified-id=\"Decode-Ways-2.3\"><span class=\"toc-item-num\">2.3&nbsp;&nbsp;</span>Decode Ways</a></span><ul class=\"toc-item\"><li><span><a href=\"#Solution1:-Backtrack\" data-toc-modified-id=\"Solution1:-Backtrack-2.3.1\"><span class=\"toc-item-num\">2.3.1&nbsp;&nbsp;</span>Solution1: Backtrack</a></span></li><li><span><a href=\"#Solution2:-DP-Bottemup\" data-toc-modified-id=\"Solution2:-DP-Bottemup-2.3.2\"><span class=\"toc-item-num\">2.3.2&nbsp;&nbsp;</span>Solution2: DP Bottemup</a></span></li></ul></li><li><span><a href=\"#Coin-Change\" data-toc-modified-id=\"Coin-Change-2.4\"><span class=\"toc-item-num\">2.4&nbsp;&nbsp;</span>Coin Change</a></span><ul class=\"toc-item\"><li><span><a href=\"#Solution1:-Backtrack-(Combinition-Sum)\" data-toc-modified-id=\"Solution1:-Backtrack-(Combinition-Sum)-2.4.1\"><span class=\"toc-item-num\">2.4.1&nbsp;&nbsp;</span>Solution1: Backtrack (Combinition Sum)</a></span></li><li><span><a href=\"#Solution2:-DP-Bottemup\" data-toc-modified-id=\"Solution2:-DP-Bottemup-2.4.2\"><span class=\"toc-item-num\">2.4.2&nbsp;&nbsp;</span>Solution2: DP Bottemup</a></span></li></ul></li><li><span><a href=\"#Longest-Increasing-Subsequence\" data-toc-modified-id=\"Longest-Increasing-Subsequence-2.5\"><span class=\"toc-item-num\">2.5&nbsp;&nbsp;</span>Longest Increasing Subsequence</a></span><ul class=\"toc-item\"><li><span><a href=\"#Solution1:-DP-Bottemup\" data-toc-modified-id=\"Solution1:-DP-Bottemup-2.5.1\"><span class=\"toc-item-num\">2.5.1&nbsp;&nbsp;</span>Solution1: DP Bottemup</a></span></li></ul></li></ul></li></ul></div>"
   ]
  },
  {
   "cell_type": "markdown",
   "metadata": {},
   "source": [
    "# Easy"
   ]
  },
  {
   "cell_type": "markdown",
   "metadata": {},
   "source": [
    "## Climbing Stairs"
   ]
  },
  {
   "cell_type": "markdown",
   "metadata": {},
   "source": [
    "You are climbing a stair case. It takes n steps to reach to the top.\n",
    "\n",
    "Each time you can either climb 1 or 2 steps. In how many distinct ways can you climb to the top?\n",
    "\n",
    "Example 1:\n",
    "\n",
    "Input: 2\n",
    "\n",
    "Output: 2\n",
    "\n",
    "Explanation: There are two ways to climb to the top.\n",
    "\n",
    "1. 1 step + 1 step\n",
    "\n",
    "2. 2 steps\n",
    "\n",
    "Example 2:\n",
    "\n",
    "Input: 3\n",
    "\n",
    "Output: 3\n",
    "\n",
    "Explanation: There are three ways to climb to the top.\n",
    "\n",
    "1. 1 step + 1 step + 1 step\n",
    "\n",
    "2. 1 step + 2 steps\n",
    "\n",
    "3. 2 steps + 1 step\n",
    " \n",
    "\n",
    "Constraints:\n",
    "\n",
    "1 <= n <= 45"
   ]
  },
  {
   "cell_type": "markdown",
   "metadata": {},
   "source": [
    "### Fabonacci array"
   ]
  },
  {
   "cell_type": "markdown",
   "metadata": {},
   "source": [
    "### Solution1: Top down"
   ]
  },
  {
   "cell_type": "code",
   "execution_count": 1,
   "metadata": {},
   "outputs": [],
   "source": [
    "def climbStairs(n):\n",
    "    if n==1:\n",
    "        return 1\n",
    "    if n==2:\n",
    "        return 2\n",
    "    return climbStairs(n-1)+climbStairs(n-2)"
   ]
  },
  {
   "cell_type": "code",
   "execution_count": 3,
   "metadata": {},
   "outputs": [
    {
     "data": {
      "text/plain": [
       "89"
      ]
     },
     "execution_count": 3,
     "metadata": {},
     "output_type": "execute_result"
    }
   ],
   "source": [
    "climbStairs(10)"
   ]
  },
  {
   "cell_type": "markdown",
   "metadata": {},
   "source": [
    "### Solution2: Top down + memorization (dictionary)  "
   ]
  },
  {
   "cell_type": "code",
   "execution_count": 4,
   "metadata": {},
   "outputs": [],
   "source": [
    "def helper(num,dic):\n",
    "    if num not in dic:\n",
    "        dic[num] = helper(num-1,dic) + helper(num-2,dic)\n",
    "    return dic[num]\n",
    "    \n",
    "def climbStairs(n):\n",
    "    dic = {1:1,2:2}\n",
    "    return helper(n,dic)"
   ]
  },
  {
   "cell_type": "code",
   "execution_count": 5,
   "metadata": {},
   "outputs": [
    {
     "data": {
      "text/plain": [
       "89"
      ]
     },
     "execution_count": 5,
     "metadata": {},
     "output_type": "execute_result"
    }
   ],
   "source": [
    "climbStairs(10)"
   ]
  },
  {
   "cell_type": "markdown",
   "metadata": {},
   "source": [
    "### Solution3: Bottom down"
   ]
  },
  {
   "cell_type": "code",
   "execution_count": 10,
   "metadata": {},
   "outputs": [],
   "source": [
    "def climbStairs(n):\n",
    "    if n==1:\n",
    "        return 1\n",
    "    if n==2:\n",
    "        return 2\n",
    "    res = [1,2] \n",
    "    for i in range(2,n):\n",
    "        res.append(res[i-1] + res[i-2])\n",
    "    return res[-1]"
   ]
  },
  {
   "cell_type": "code",
   "execution_count": 11,
   "metadata": {},
   "outputs": [
    {
     "data": {
      "text/plain": [
       "89"
      ]
     },
     "execution_count": 11,
     "metadata": {},
     "output_type": "execute_result"
    }
   ],
   "source": [
    "climbStairs(10)"
   ]
  },
  {
   "cell_type": "markdown",
   "metadata": {},
   "source": [
    "### Solution4: Bottom down + Constant Space"
   ]
  },
  {
   "cell_type": "code",
   "execution_count": 12,
   "metadata": {},
   "outputs": [],
   "source": [
    "def climbStairs(n):\n",
    "    if n==1:\n",
    "        return 1\n",
    "    if n==2:\n",
    "        return 2\n",
    "    previous, res = 1,2\n",
    "    for i in range(2,n):\n",
    "        previous, res = res, previous+res\n",
    "    return res"
   ]
  },
  {
   "cell_type": "code",
   "execution_count": 13,
   "metadata": {},
   "outputs": [
    {
     "data": {
      "text/plain": [
       "89"
      ]
     },
     "execution_count": 13,
     "metadata": {},
     "output_type": "execute_result"
    }
   ],
   "source": [
    "climbStairs(10)"
   ]
  },
  {
   "cell_type": "markdown",
   "metadata": {},
   "source": [
    "## Best Time to Buy and Sell Stock"
   ]
  },
  {
   "cell_type": "markdown",
   "metadata": {},
   "source": [
    "Say you have an array for which the ith element is the price of a given stock on day i.\n",
    "\n",
    "If you were only permitted to complete at most one transaction (i.e., buy one and sell one share of the stock), design an algorithm to find the maximum profit.\n",
    "\n",
    "Note that you cannot sell a stock before you buy one.\n",
    "\n",
    "Example 1:\n",
    "\n",
    "Input: [7,1,5,3,6,4]\n",
    "\n",
    "Output: 5\n",
    "\n",
    "Explanation: Buy on day 2 (price = 1) and sell on day 5 (price = 6), profit = 6-1 = 5.\n",
    "             Not 7-1 = 6, as selling price needs to be larger than buying price."
   ]
  },
  {
   "cell_type": "markdown",
   "metadata": {},
   "source": [
    "### Solution1: largest contigious sum (maxCur, maxSoFar)"
   ]
  },
  {
   "cell_type": "markdown",
   "metadata": {},
   "source": [
    "Here, the logic is to calculate the difference (maxCur += prices[i] - prices[i-1]) of the original array, and find a contiguous subarray giving maximum profit. If the difference falls below 0, reset it to zero."
   ]
  },
  {
   "cell_type": "code",
   "execution_count": 22,
   "metadata": {},
   "outputs": [],
   "source": [
    "def maxProfit(prices):\n",
    "    maxCur = 0\n",
    "    maxSoFar = 0\n",
    "    for i in range(0,len(prices)-1):\n",
    "        maxCur = max(0,maxCur+prices[i+1]-prices[i])\n",
    "        print(\"maxCur:%d\"%maxCur)\n",
    "        maxSoFar = max(maxCur,maxSoFar)\n",
    "        print(\"maxSoFar:%d\"%maxSoFar)\n",
    "    return maxSoFar"
   ]
  },
  {
   "cell_type": "code",
   "execution_count": 23,
   "metadata": {},
   "outputs": [
    {
     "name": "stdout",
     "output_type": "stream",
     "text": [
      "maxCur:0\n",
      "maxSoFar:0\n",
      "maxCur:4\n",
      "maxSoFar:4\n",
      "maxCur:2\n",
      "maxSoFar:4\n",
      "maxCur:5\n",
      "maxSoFar:5\n",
      "maxCur:3\n",
      "maxSoFar:5\n"
     ]
    },
    {
     "data": {
      "text/plain": [
       "5"
      ]
     },
     "execution_count": 23,
     "metadata": {},
     "output_type": "execute_result"
    }
   ],
   "source": [
    "maxProfit([7,1,5,3,6,4])"
   ]
  },
  {
   "cell_type": "markdown",
   "metadata": {},
   "source": [
    "### Solution2: find lowest price so far(buy point)"
   ]
  },
  {
   "cell_type": "code",
   "execution_count": 24,
   "metadata": {},
   "outputs": [],
   "source": [
    "def maxProfit(prices):\n",
    "    minPriceSoFar = float('inf')\n",
    "    maxSoFar = 0\n",
    "    for i in range(0,len(prices)-1):\n",
    "        minPriceSoFar = min(minPriceSoFar, prices[i])\n",
    "        print(\"minPriceSoFar:%d\"%minPriceSoFar)\n",
    "        maxCur = prices[i] - minPriceSoFar\n",
    "        maxSoFar = max(maxCur,maxSoFar)\n",
    "        print(\"maxSoFar:%d\"%maxSoFar)\n",
    "    return maxSoFar"
   ]
  },
  {
   "cell_type": "code",
   "execution_count": 25,
   "metadata": {},
   "outputs": [
    {
     "name": "stdout",
     "output_type": "stream",
     "text": [
      "minPriceSoFar:7\n",
      "maxSoFar:0\n",
      "minPriceSoFar:1\n",
      "maxSoFar:0\n",
      "minPriceSoFar:1\n",
      "maxSoFar:4\n",
      "minPriceSoFar:1\n",
      "maxSoFar:4\n",
      "minPriceSoFar:1\n",
      "maxSoFar:5\n"
     ]
    },
    {
     "data": {
      "text/plain": [
       "5"
      ]
     },
     "execution_count": 25,
     "metadata": {},
     "output_type": "execute_result"
    }
   ],
   "source": [
    "maxProfit([7,1,5,3,6,4])"
   ]
  },
  {
   "cell_type": "markdown",
   "metadata": {},
   "source": [
    "## Maximum Subarray"
   ]
  },
  {
   "cell_type": "markdown",
   "metadata": {},
   "source": [
    "Given an integer array nums, find the contiguous subarray (containing at least one number) which has the largest sum and return its sum.\n",
    "\n",
    "Example:\n",
    "\n",
    "Input: [-2,1,-3,4,-1,2,1,-5,4],\n",
    "\n",
    "Output: 6\n",
    "\n",
    "Explanation: [4,-1,2,1] has the largest sum = 6.\n",
    "\n",
    "Follow up:\n",
    "\n",
    "If you have figured out the O(n) solution, try coding another solution using the divide and conquer approach, which is more subtle."
   ]
  },
  {
   "cell_type": "markdown",
   "metadata": {},
   "source": [
    "### Solution1: largest contigious sum (maxCur, maxSoFar)"
   ]
  },
  {
   "cell_type": "code",
   "execution_count": 37,
   "metadata": {},
   "outputs": [],
   "source": [
    "def findMaxSubarray(nums):\n",
    "    maxCur = 0\n",
    "    maxSoFar = 0\n",
    "    for i in range(len(nums)):\n",
    "        maxCur = max(nums[i], maxCur+nums[i])\n",
    "        print(\"maxCur:%d\"%maxCur)\n",
    "        maxSoFar = max(maxCur,maxSoFar)\n",
    "        print(\"maxSoFar:%d\"%maxSoFar)\n",
    "    return maxSoFar"
   ]
  },
  {
   "cell_type": "code",
   "execution_count": 38,
   "metadata": {},
   "outputs": [
    {
     "name": "stdout",
     "output_type": "stream",
     "text": [
      "maxCur:-2\n",
      "maxSoFar:0\n",
      "maxCur:1\n",
      "maxSoFar:1\n",
      "maxCur:-2\n",
      "maxSoFar:1\n",
      "maxCur:4\n",
      "maxSoFar:4\n",
      "maxCur:3\n",
      "maxSoFar:4\n",
      "maxCur:5\n",
      "maxSoFar:5\n",
      "maxCur:6\n",
      "maxSoFar:6\n",
      "maxCur:1\n",
      "maxSoFar:6\n",
      "maxCur:5\n",
      "maxSoFar:6\n"
     ]
    },
    {
     "data": {
      "text/plain": [
       "6"
      ]
     },
     "execution_count": 38,
     "metadata": {},
     "output_type": "execute_result"
    }
   ],
   "source": [
    "findMaxSubarray([-2,1,-3,4,-1,2,1,-5,4])"
   ]
  },
  {
   "cell_type": "markdown",
   "metadata": {},
   "source": [
    "## House Robber"
   ]
  },
  {
   "cell_type": "markdown",
   "metadata": {},
   "source": [
    "You are a professional robber planning to rob houses along a street. Each house has a certain amount of money stashed, the only constraint stopping you from robbing each of them is that adjacent houses have security system connected and it will automatically contact the police if two adjacent houses were broken into on the same night.\n",
    "\n",
    "Given a list of non-negative integers representing the amount of money of each house, determine the maximum amount of money you can rob tonight without alerting the police.\n",
    "\n",
    " \n",
    "\n",
    "Example 1:\n",
    "\n",
    "Input: nums = [1,2,3,1]\n",
    "\n",
    "Output: 4\n",
    "\n",
    "Explanation: Rob house 1 (money = 1) and then rob house 3 (money = 3).\n",
    "             Total amount you can rob = 1 + 3 = 4.\n",
    "Example 2:\n",
    "\n",
    "Input: nums = [2,7,9,3,1]\n",
    "\n",
    "Output: 12\n",
    "\n",
    "Explanation: Rob house 1 (money = 2), rob house 3 (money = 9) and rob house 5 (money = 1).\n",
    "             Total amount you can rob = 2 + 9 + 1 = 12."
   ]
  },
  {
   "cell_type": "markdown",
   "metadata": {},
   "source": [
    "### Solution1: maxCur, maxSoFar"
   ]
  },
  {
   "cell_type": "code",
   "execution_count": 35,
   "metadata": {},
   "outputs": [],
   "source": [
    "def robHouse(nums):\n",
    "    maxCurSingle = 0\n",
    "    maxCurEven = 0\n",
    "    maxSoFarSingle = 0\n",
    "    maxSoFarEven = 0\n",
    "    for i in range(len(nums)):\n",
    "        if i%2==1:     \n",
    "            maxCurSingle = max(nums[i], maxCurSingle+nums[i])\n",
    "            maxSoFarSingle = max(maxCurSingle,maxSoFarSingle)\n",
    "        else:\n",
    "            maxCurEven = max(nums[i], maxCurEven+nums[i])\n",
    "            maxSoFarEven = max(maxCurEven,maxSoFarEven)\n",
    "    return max(maxSoFarSingle, maxSoFarEven)"
   ]
  },
  {
   "cell_type": "code",
   "execution_count": 36,
   "metadata": {},
   "outputs": [
    {
     "data": {
      "text/plain": [
       "12"
      ]
     },
     "execution_count": 36,
     "metadata": {},
     "output_type": "execute_result"
    }
   ],
   "source": [
    "robHouse( [2,7,9,3,1])"
   ]
  },
  {
   "cell_type": "markdown",
   "metadata": {},
   "source": [
    "### Solution2: Top down(recursive)"
   ]
  },
  {
   "cell_type": "code",
   "execution_count": 66,
   "metadata": {},
   "outputs": [],
   "source": [
    "def robHouse(nums):\n",
    "    if not nums:return 0\n",
    "    if len(nums)==1:\n",
    "        return nums[0]\n",
    "    n = len(nums)\n",
    "    return max(robHouse(nums[0:(n-2)])+nums[-1],robHouse(nums[0:(n-1)]))"
   ]
  },
  {
   "cell_type": "code",
   "execution_count": 67,
   "metadata": {},
   "outputs": [
    {
     "data": {
      "text/plain": [
       "12"
      ]
     },
     "execution_count": 67,
     "metadata": {},
     "output_type": "execute_result"
    }
   ],
   "source": [
    "robHouse( [2,7,9,3,1])"
   ]
  },
  {
   "cell_type": "markdown",
   "metadata": {},
   "source": [
    "### Solution3: Top down(recursive) + Memorization(dictionary)"
   ]
  },
  {
   "cell_type": "code",
   "execution_count": 1,
   "metadata": {},
   "outputs": [],
   "source": [
    "def helper(nums,dic):\n",
    "    n = len(nums)\n",
    "    if n not in dic:\n",
    "        dic[n] = max(helper(nums[0:(n-2)],dic)+nums[-1], helper(nums[0:(n-1)],dic))\n",
    "    return dic[n]\n",
    "    \n",
    "def robHouse(nums):\n",
    "    dic = {0:0,1:nums[0]}\n",
    "    return helper(nums,dic)"
   ]
  },
  {
   "cell_type": "code",
   "execution_count": 2,
   "metadata": {},
   "outputs": [
    {
     "data": {
      "text/plain": [
       "12"
      ]
     },
     "execution_count": 2,
     "metadata": {},
     "output_type": "execute_result"
    }
   ],
   "source": [
    "robHouse( [2,7,9,3,1])"
   ]
  },
  {
   "cell_type": "markdown",
   "metadata": {},
   "source": [
    "### Solution3: Top down(recursive) + Memorization(list)"
   ]
  },
  {
   "cell_type": "code",
   "execution_count": 62,
   "metadata": {},
   "outputs": [],
   "source": [
    "def helper(nums,val):\n",
    "    n = len(nums)\n",
    "    if val[n]<0:\n",
    "        val[n] = max(helper(nums[0:(n-2)],val)+nums[-1], helper(nums[0:(n-1)],val))\n",
    "    return val[n]\n",
    "    \n",
    "def robHouse(nums):\n",
    "    val = [-1 for i in range(len(nums)+1)]\n",
    "    n = len(nums)\n",
    "    val[0]=0\n",
    "    val[1]=2\n",
    "    return helper(nums,val)"
   ]
  },
  {
   "cell_type": "code",
   "execution_count": 63,
   "metadata": {},
   "outputs": [
    {
     "data": {
      "text/plain": [
       "12"
      ]
     },
     "execution_count": 63,
     "metadata": {},
     "output_type": "execute_result"
    }
   ],
   "source": [
    "robHouse( [2,7,9,3,1])"
   ]
  },
  {
   "cell_type": "markdown",
   "metadata": {},
   "source": [
    "### Solution4: Bottom down(Iterative) + Memorization"
   ]
  },
  {
   "cell_type": "code",
   "execution_count": 3,
   "metadata": {},
   "outputs": [],
   "source": [
    "def robHouse(nums):\n",
    "    dic = {0:0,1:nums[0]}\n",
    "    for i in range(1,len(nums)):\n",
    "        dic[i+1] = max(dic[i-1]+nums[i],dic[i])\n",
    "    return dic[len(nums)]"
   ]
  },
  {
   "cell_type": "code",
   "execution_count": 4,
   "metadata": {},
   "outputs": [
    {
     "data": {
      "text/plain": [
       "12"
      ]
     },
     "execution_count": 4,
     "metadata": {},
     "output_type": "execute_result"
    }
   ],
   "source": [
    "robHouse( [2,7,9,3,1])"
   ]
  },
  {
   "cell_type": "markdown",
   "metadata": {},
   "source": [
    "# Meduim"
   ]
  },
  {
   "cell_type": "markdown",
   "metadata": {},
   "source": [
    "## Jump Game"
   ]
  },
  {
   "cell_type": "markdown",
   "metadata": {},
   "source": [
    "Given an array of non-negative integers, you are initially positioned at the first index of the array.\n",
    "\n",
    "Each element in the array represents your maximum jump length at that position.\n",
    "\n",
    "Determine if you are able to reach the last index.\n",
    "\n",
    " \n",
    "\n",
    "Example 1:\n",
    "\n",
    "Input: nums = [2,3,1,1,4]\n",
    "\n",
    "Output: true\n",
    "\n",
    "Explanation: Jump 1 step from index 0 to 1, then 3 steps to the last index.\n",
    "\n",
    "Example 2:\n",
    "\n",
    "Input: nums = [3,2,1,0,4]\n",
    "\n",
    "Output: false\n",
    "\n",
    "Explanation: You will always arrive at index 3 no matter what. Its maximum jump length is 0, which makes"
   ]
  },
  {
   "cell_type": "markdown",
   "metadata": {},
   "source": [
    "### Solution1: Backtracking -- find all potential path"
   ]
  },
  {
   "cell_type": "code",
   "execution_count": 128,
   "metadata": {},
   "outputs": [],
   "source": [
    "class Solution:\n",
    "    def backtrack(self,nums,path,ans):\n",
    "        print(path)\n",
    "        if path[-1]==len(nums)-1:\n",
    "            ans.append(path.copy())\n",
    "        elif path[-1]>=len(nums):\n",
    "            return \n",
    "        else:\n",
    "            if nums[path[-1]]>0:\n",
    "                for step in range(1,nums[path[-1]]+1): #nums[path[-1]] jump to this index\n",
    "                    print(step)\n",
    "                    self.backtrack(nums,path+[path[-1]+step],ans)\n",
    "    \n",
    "    def jump(self,nums):\n",
    "        path = [0]\n",
    "        ans = []\n",
    "        self.backtrack(nums,path,ans)\n",
    "        print(ans)\n",
    "        return len(ans)>0\n",
    "        "
   ]
  },
  {
   "cell_type": "code",
   "execution_count": 125,
   "metadata": {
    "collapsed": true
   },
   "outputs": [
    {
     "name": "stdout",
     "output_type": "stream",
     "text": [
      "[0]\n",
      "1\n",
      "[0, 1]\n",
      "1\n",
      "[0, 1, 2]\n",
      "1\n",
      "[0, 1, 2, 3]\n",
      "1\n",
      "[0, 1, 2, 3, 4]\n",
      "2\n",
      "[0, 1, 3]\n",
      "1\n",
      "[0, 1, 3, 4]\n",
      "3\n",
      "[0, 1, 4]\n",
      "2\n",
      "[0, 2]\n",
      "1\n",
      "[0, 2, 3]\n",
      "1\n",
      "[0, 2, 3, 4]\n",
      "[[0, 1, 2, 3, 4], [0, 1, 3, 4], [0, 1, 4], [0, 2, 3, 4]]\n"
     ]
    },
    {
     "data": {
      "text/plain": [
       "True"
      ]
     },
     "execution_count": 125,
     "metadata": {},
     "output_type": "execute_result"
    }
   ],
   "source": [
    "solution = Solution()\n",
    "solution.jump([2,3,1,1,4])"
   ]
  },
  {
   "cell_type": "code",
   "execution_count": 129,
   "metadata": {
    "collapsed": true
   },
   "outputs": [
    {
     "name": "stdout",
     "output_type": "stream",
     "text": [
      "[0]\n",
      "1\n",
      "[0, 1]\n",
      "2\n",
      "[0, 2]\n",
      "[[0, 1]]\n"
     ]
    },
    {
     "data": {
      "text/plain": [
       "True"
      ]
     },
     "execution_count": 129,
     "metadata": {},
     "output_type": "execute_result"
    }
   ],
   "source": [
    "solution = Solution()\n",
    "solution.jump([2,0])"
   ]
  },
  {
   "cell_type": "markdown",
   "metadata": {},
   "source": [
    "### Solution2: Max reach"
   ]
  },
  {
   "cell_type": "code",
   "execution_count": 151,
   "metadata": {},
   "outputs": [],
   "source": [
    "class Solution:\n",
    "    def jump(self,nums):\n",
    "        maxReach = 0\n",
    "        index = len(nums)-1\n",
    "        for i,v in enumerate(nums):\n",
    "            if maxReach < i: #maxReach could not reach index i\n",
    "                return False\n",
    "            if maxReach >= index: #maxReach could reach index\n",
    "                return True\n",
    "            maxReach = max(maxReach,i+v) #i+v: currentMax(current index + max step)"
   ]
  },
  {
   "cell_type": "code",
   "execution_count": 136,
   "metadata": {},
   "outputs": [
    {
     "data": {
      "text/plain": [
       "True"
      ]
     },
     "execution_count": 136,
     "metadata": {},
     "output_type": "execute_result"
    }
   ],
   "source": [
    "solution = Solution()\n",
    "solution.jump([2,0])"
   ]
  },
  {
   "cell_type": "markdown",
   "metadata": {},
   "source": [
    "## Unique Paths"
   ]
  },
  {
   "cell_type": "markdown",
   "metadata": {},
   "source": [
    "A robot is located at the top-left corner of a m x n grid (marked 'Start' in the diagram below).\n",
    "\n",
    "The robot can only move either down or right at any point in time. The robot is trying to reach the bottom-right corner of the grid (marked 'Finish' in the diagram below).\n",
    "\n",
    "How many possible unique paths are there?"
   ]
  },
  {
   "cell_type": "markdown",
   "metadata": {},
   "source": [
    "### Solution1: Backtracking (may exceed time limit)"
   ]
  },
  {
   "cell_type": "code",
   "execution_count": 194,
   "metadata": {},
   "outputs": [],
   "source": [
    "class Solution:\n",
    "    def backtrack(self,m,n,i,j,count):\n",
    "        if i==m-1 and j==n-1:\n",
    "            self.count +=1\n",
    "            #print(self.count)\n",
    "        if i<0 or i>=m or j<0 or j>=n:\n",
    "            return \n",
    "        self.backtrack(m,n,i+1,j,count)\n",
    "        self.backtrack(m,n,i,j+1,count)\n",
    "    \n",
    "    def uniquePath(self,m,n):\n",
    "        self.count = 0\n",
    "        self.backtrack(m,n,0,0,self.count)\n",
    "        return self.count     "
   ]
  },
  {
   "cell_type": "code",
   "execution_count": 195,
   "metadata": {},
   "outputs": [
    {
     "name": "stdout",
     "output_type": "stream",
     "text": [
      "CPU times: user 2 µs, sys: 0 ns, total: 2 µs\n",
      "Wall time: 5.25 µs\n"
     ]
    },
    {
     "data": {
      "text/plain": [
       "3"
      ]
     },
     "execution_count": 195,
     "metadata": {},
     "output_type": "execute_result"
    }
   ],
   "source": [
    "%time\n",
    "solution = Solution()\n",
    "solution.uniquePath(m = 3, n = 2)"
   ]
  },
  {
   "cell_type": "markdown",
   "metadata": {},
   "source": [
    "### Solution2: Math"
   ]
  },
  {
   "cell_type": "code",
   "execution_count": 198,
   "metadata": {},
   "outputs": [],
   "source": [
    "# C(m+n-2,n-1)\n",
    "import math\n",
    "class Solution:\n",
    "    def uniquePath(self,m,n):\n",
    "        if m==0 or n==0:\n",
    "            return 0\n",
    "        return math.factorial(m+n-2)/(math.factorial(m-1)*math.factorial(n-1))"
   ]
  },
  {
   "cell_type": "code",
   "execution_count": 199,
   "metadata": {},
   "outputs": [
    {
     "name": "stdout",
     "output_type": "stream",
     "text": [
      "CPU times: user 2 µs, sys: 0 ns, total: 2 µs\n",
      "Wall time: 5.01 µs\n"
     ]
    },
    {
     "data": {
      "text/plain": [
       "3.0"
      ]
     },
     "execution_count": 199,
     "metadata": {},
     "output_type": "execute_result"
    }
   ],
   "source": [
    "%time\n",
    "solution = Solution()\n",
    "solution.uniquePath(m = 3, n = 2)"
   ]
  },
  {
   "cell_type": "markdown",
   "metadata": {},
   "source": [
    "### Solution3: Topdown"
   ]
  },
  {
   "cell_type": "code",
   "execution_count": 200,
   "metadata": {},
   "outputs": [],
   "source": [
    "class Solution:\n",
    "    def uniquePath(self,m,n):\n",
    "        if m==0 or n==0:\n",
    "            return 0\n",
    "        if m==1 and n==1:\n",
    "            return 1\n",
    "        return self.uniquePath(m-1,n)+self.uniquePath(m,n-1)"
   ]
  },
  {
   "cell_type": "code",
   "execution_count": 201,
   "metadata": {},
   "outputs": [
    {
     "name": "stdout",
     "output_type": "stream",
     "text": [
      "CPU times: user 2 µs, sys: 1e+03 ns, total: 3 µs\n",
      "Wall time: 5.96 µs\n"
     ]
    },
    {
     "data": {
      "text/plain": [
       "3"
      ]
     },
     "execution_count": 201,
     "metadata": {},
     "output_type": "execute_result"
    }
   ],
   "source": [
    "%time\n",
    "solution = Solution()\n",
    "solution.uniquePath(m = 3, n = 2)"
   ]
  },
  {
   "cell_type": "markdown",
   "metadata": {},
   "source": [
    "### Solution 4: Bottemup"
   ]
  },
  {
   "cell_type": "code",
   "execution_count": 202,
   "metadata": {},
   "outputs": [],
   "source": [
    "class Solution:\n",
    "    def uniquePath(self,m,n):\n",
    "        grid = [[1]*n]*m\n",
    "        for i in range(1,m):\n",
    "            for j in range(1,n):\n",
    "                grid[i][j] = grid[i-1][j]+grid[i][j-1]\n",
    "        return grid[m-1][n-1]"
   ]
  },
  {
   "cell_type": "code",
   "execution_count": 204,
   "metadata": {},
   "outputs": [
    {
     "name": "stdout",
     "output_type": "stream",
     "text": [
      "CPU times: user 3 µs, sys: 1e+03 ns, total: 4 µs\n",
      "Wall time: 5.25 µs\n"
     ]
    },
    {
     "data": {
      "text/plain": [
       "3"
      ]
     },
     "execution_count": 204,
     "metadata": {},
     "output_type": "execute_result"
    }
   ],
   "source": [
    "%time\n",
    "solution = Solution()\n",
    "solution.uniquePath(m = 3, n = 2)"
   ]
  },
  {
   "cell_type": "markdown",
   "metadata": {},
   "source": [
    "## Decode Ways"
   ]
  },
  {
   "cell_type": "markdown",
   "metadata": {},
   "source": [
    "https://leetcode.com/problems/decode-ways/"
   ]
  },
  {
   "cell_type": "markdown",
   "metadata": {},
   "source": [
    "A message containing letters from A-Z is being encoded to numbers using the following mapping:\n",
    "\n",
    "'A' -> 1\n",
    "'B' -> 2\n",
    "...\n",
    "'Z' -> 26\n",
    "\n",
    "Given a non-empty string containing only digits, determine the total number of ways to decode it.\n",
    "\n",
    "The answer is guaranteed to fit in a 32-bit integer."
   ]
  },
  {
   "cell_type": "markdown",
   "metadata": {},
   "source": [
    "### Solution1: Backtrack"
   ]
  },
  {
   "cell_type": "code",
   "execution_count": 226,
   "metadata": {},
   "outputs": [],
   "source": [
    "class Solution:\n",
    "    def backtrack(self,s,count,path,ans):\n",
    "        if len(s)==0:\n",
    "            self.count+=1\n",
    "            ans.append(path.copy())\n",
    "        for i in range(1,len(s)+1):\n",
    "            if 0<int(s[:i])<=26 and s[0]!='0':\n",
    "                # note: s[i:] not s[i+1:]\n",
    "                self.backtrack(s[i:],count,path+[s[:i]],ans)\n",
    "    \n",
    "    def decode(self,s):\n",
    "        self.count = 0\n",
    "        ans,path = [],[]\n",
    "        self.backtrack(s,self.count,path,ans)\n",
    "        return ans"
   ]
  },
  {
   "cell_type": "code",
   "execution_count": 211,
   "metadata": {},
   "outputs": [
    {
     "name": "stdout",
     "output_type": "stream",
     "text": [
      "CPU times: user 2 µs, sys: 1 µs, total: 3 µs\n",
      "Wall time: 5.25 µs\n"
     ]
    },
    {
     "data": {
      "text/plain": [
       "[['2', '2', '6'], ['2', '26'], ['22', '6']]"
      ]
     },
     "execution_count": 211,
     "metadata": {},
     "output_type": "execute_result"
    }
   ],
   "source": [
    "%time\n",
    "solution = Solution()\n",
    "solution.decode('226')"
   ]
  },
  {
   "cell_type": "markdown",
   "metadata": {},
   "source": [
    "### Solution2: DP Bottemup"
   ]
  },
  {
   "cell_type": "code",
   "execution_count": 229,
   "metadata": {},
   "outputs": [],
   "source": [
    "class Solution:\n",
    "    def decode(self,s):\n",
    "        ans = [1] + [0]*len(s)\n",
    "        for i in range(1,len(s)+1):\n",
    "            if s[i-1]!=0:\n",
    "                ans[i] += ans[i-1]\n",
    "            if i>=2 and 10<=int(s[i-2:i])<=26:\n",
    "                ans[i] += ans[i-2]\n",
    "        return ans[-1]"
   ]
  },
  {
   "cell_type": "code",
   "execution_count": 230,
   "metadata": {},
   "outputs": [
    {
     "name": "stdout",
     "output_type": "stream",
     "text": [
      "CPU times: user 2 µs, sys: 0 ns, total: 2 µs\n",
      "Wall time: 4.05 µs\n"
     ]
    },
    {
     "data": {
      "text/plain": [
       "3"
      ]
     },
     "execution_count": 230,
     "metadata": {},
     "output_type": "execute_result"
    }
   ],
   "source": [
    "%time\n",
    "solution = Solution()\n",
    "solution.decode('226')"
   ]
  },
  {
   "cell_type": "markdown",
   "metadata": {},
   "source": [
    "## Coin Change"
   ]
  },
  {
   "cell_type": "markdown",
   "metadata": {},
   "source": [
    "https://leetcode.com/explore/interview/card/top-interview-questions-medium/111/dynamic-programming/809/"
   ]
  },
  {
   "cell_type": "markdown",
   "metadata": {},
   "source": [
    "You are given coins of different denominations and a total amount of money amount. Write a function to compute the fewest number of coins that you need to make up that amount. If that amount of money cannot be made up by any combination of the coins, return -1.\n",
    "\n",
    "You may assume that you have an infinite number of each kind of coin.\n",
    "\n",
    " \n",
    "\n",
    "Example 1:\n",
    "\n",
    "Input: coins = [1,2,5], amount = 11\n",
    "\n",
    "Output: 3\n",
    "\n",
    "Explanation: 11 = 5 + 5 + 1\n",
    "\n",
    "Example 2:\n",
    "\n",
    "Input: coins = [2], amount = 3\n",
    "\n",
    "Output: -1\n",
    "\n",
    "Example 3:\n",
    "\n",
    "Input: coins = [1], amount = 0\n",
    "\n",
    "Output: 0\n",
    "\n",
    "Example 4:\n",
    "\n",
    "Input: coins = [1], amount = 1\n",
    "\n",
    "Output: 1\n",
    "\n",
    "Example 5:\n",
    "\n",
    "Input: coins = [1], amount = 2\n",
    "\n",
    "Output: 2"
   ]
  },
  {
   "cell_type": "markdown",
   "metadata": {},
   "source": [
    "### Solution1: Backtrack (Combinition Sum)"
   ]
  },
  {
   "cell_type": "code",
   "execution_count": 18,
   "metadata": {},
   "outputs": [],
   "source": [
    "class Solution:\n",
    "    def backtrack(self,nums,amount,path,ans):\n",
    "        if amount == 0:\n",
    "            ans.append(path.copy())\n",
    "            return\n",
    "        if amount<0:\n",
    "            return\n",
    "        for i in range(len(nums)):\n",
    "            self.backtrack(nums[i:],amount-nums[i],path+[nums[i]],ans)\n",
    "    def coinChange(self,nums,amount):\n",
    "        if amount == 0:\n",
    "            return 0\n",
    "        if not nums:\n",
    "            return -1\n",
    "        if amount <0:\n",
    "            return -1\n",
    "        ans, path = [],[]\n",
    "        self.backtrack(nums,amount,path,ans)\n",
    "        if len(ans)==0:\n",
    "            return -1\n",
    "        else:\n",
    "            print(ans)\n",
    "            minCoin = sorted(ans,key=len)[0]\n",
    "            return len(minCoin)"
   ]
  },
  {
   "cell_type": "code",
   "execution_count": 19,
   "metadata": {},
   "outputs": [
    {
     "name": "stdout",
     "output_type": "stream",
     "text": [
      "CPU times: user 2 µs, sys: 0 ns, total: 2 µs\n",
      "Wall time: 5.01 µs\n",
      "[[1, 1, 1, 1, 1, 1, 1, 1, 1, 1, 1], [1, 1, 1, 1, 1, 1, 1, 1, 1, 2], [1, 1, 1, 1, 1, 1, 1, 2, 2], [1, 1, 1, 1, 1, 1, 5], [1, 1, 1, 1, 1, 2, 2, 2], [1, 1, 1, 1, 2, 5], [1, 1, 1, 2, 2, 2, 2], [1, 1, 2, 2, 5], [1, 2, 2, 2, 2, 2], [1, 5, 5], [2, 2, 2, 5]]\n"
     ]
    },
    {
     "data": {
      "text/plain": [
       "3"
      ]
     },
     "execution_count": 19,
     "metadata": {},
     "output_type": "execute_result"
    }
   ],
   "source": [
    "%time\n",
    "solution = Solution()\n",
    "solution.coinChange(nums = [1,2,5], amount = 11)"
   ]
  },
  {
   "cell_type": "markdown",
   "metadata": {},
   "source": [
    "### Solution2: DP Bottemup"
   ]
  },
  {
   "cell_type": "code",
   "execution_count": 33,
   "metadata": {},
   "outputs": [],
   "source": [
    "class Solution:\n",
    "    def coinChange(self,coins,amount):\n",
    "        MAX = float('inf')\n",
    "        ans = [0] + [MAX]*amount\n",
    "        for i in range(1,amount+1):\n",
    "            # i is the current amount\n",
    "            # ans[i] is the min number of coins needed to get i\n",
    "            for c in coins:\n",
    "                if i-c>=0:\n",
    "                    ans[i] = min(ans[i],ans[i-c]+1)\n",
    "        print(ans)\n",
    "        if ans[-1]==MAX:\n",
    "            return -1\n",
    "        else:\n",
    "            return ans[amount]"
   ]
  },
  {
   "cell_type": "code",
   "execution_count": 34,
   "metadata": {
    "scrolled": true
   },
   "outputs": [
    {
     "name": "stdout",
     "output_type": "stream",
     "text": [
      "CPU times: user 2 µs, sys: 1 µs, total: 3 µs\n",
      "Wall time: 5.25 µs\n",
      "[0, 1, 1, 2, 2, 1, 2, 2, 3, 3, 2, 3]\n"
     ]
    },
    {
     "data": {
      "text/plain": [
       "3"
      ]
     },
     "execution_count": 34,
     "metadata": {},
     "output_type": "execute_result"
    }
   ],
   "source": [
    "%time\n",
    "solution = Solution()\n",
    "solution.coinChange(coins = [1,2,5], amount = 11)"
   ]
  },
  {
   "cell_type": "markdown",
   "metadata": {},
   "source": [
    "## Longest Increasing Subsequence"
   ]
  },
  {
   "cell_type": "markdown",
   "metadata": {},
   "source": [
    "https://leetcode.com/explore/interview/card/top-interview-questions-medium/111/dynamic-programming/810/"
   ]
  },
  {
   "cell_type": "markdown",
   "metadata": {},
   "source": [
    "Given an unsorted array of integers, find the length of longest increasing subsequence.\n",
    "\n",
    "Example:\n",
    "\n",
    "Input: [10,9,2,5,3,7,101,18]\n",
    "\n",
    "Output: 4 \n",
    "\n",
    "Explanation: The longest increasing subsequence is [2,3,7,101], therefore the length is 4. \n",
    "\n",
    "Note:\n",
    "\n",
    "There may be more than one LIS combination, it is only necessary for you to return the length.\n",
    "Your algorithm should run in O(n2) complexity.\n",
    "Follow up: Could you improve it to O(n log n) time complexity?"
   ]
  },
  {
   "cell_type": "markdown",
   "metadata": {},
   "source": [
    "### Solution1: DP Bottemup"
   ]
  },
  {
   "cell_type": "code",
   "execution_count": 40,
   "metadata": {},
   "outputs": [],
   "source": [
    "class Solution:\n",
    "    def longestIncrease(self,nums):\n",
    "        ans = [1] * len(nums)\n",
    "        for i in range(1,len(nums)):\n",
    "            for j in range(i): # the subsequence could be incontigous\n",
    "                if nums[i]>nums[j]:\n",
    "                    ans[i] = max(ans[i],ans[j]+1)\n",
    "        return max(ans)"
   ]
  },
  {
   "cell_type": "code",
   "execution_count": 41,
   "metadata": {},
   "outputs": [
    {
     "name": "stdout",
     "output_type": "stream",
     "text": [
      "CPU times: user 3 µs, sys: 1 µs, total: 4 µs\n",
      "Wall time: 5.25 µs\n"
     ]
    },
    {
     "data": {
      "text/plain": [
       "4"
      ]
     },
     "execution_count": 41,
     "metadata": {},
     "output_type": "execute_result"
    }
   ],
   "source": [
    "%time\n",
    "solution = Solution()\n",
    "solution.longestIncrease([10,9,2,5,3,7,101,18])"
   ]
  },
  {
   "cell_type": "code",
   "execution_count": null,
   "metadata": {},
   "outputs": [],
   "source": []
  }
 ],
 "metadata": {
  "kernelspec": {
   "display_name": "Python 3",
   "language": "python",
   "name": "python3"
  },
  "language_info": {
   "codemirror_mode": {
    "name": "ipython",
    "version": 3
   },
   "file_extension": ".py",
   "mimetype": "text/x-python",
   "name": "python",
   "nbconvert_exporter": "python",
   "pygments_lexer": "ipython3",
   "version": "3.6.8"
  },
  "toc": {
   "base_numbering": 1,
   "nav_menu": {},
   "number_sections": true,
   "sideBar": true,
   "skip_h1_title": false,
   "title_cell": "Table of Contents",
   "title_sidebar": "Contents",
   "toc_cell": true,
   "toc_position": {},
   "toc_section_display": true,
   "toc_window_display": true
  }
 },
 "nbformat": 4,
 "nbformat_minor": 2
}
