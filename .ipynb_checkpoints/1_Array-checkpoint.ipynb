{
 "cells": [
  {
   "cell_type": "markdown",
   "metadata": {
    "toc": true
   },
   "source": [
    "<h1>Table of Contents<span class=\"tocSkip\"></span></h1>\n",
    "<div class=\"toc\"><ul class=\"toc-item\"><li><span><a href=\"#Easy\" data-toc-modified-id=\"Easy-1\"><span class=\"toc-item-num\">1&nbsp;&nbsp;</span>Easy</a></span><ul class=\"toc-item\"><li><span><a href=\"#Remove-Duplicates-from-Sorted-Array\" data-toc-modified-id=\"Remove-Duplicates-from-Sorted-Array-1.1\"><span class=\"toc-item-num\">1.1&nbsp;&nbsp;</span>Remove Duplicates from Sorted Array</a></span><ul class=\"toc-item\"><li><span><a href=\"#Solution1:-Two-pointer-(usual-method-when-array-is-sorted)\" data-toc-modified-id=\"Solution1:-Two-pointer-(usual-method-when-array-is-sorted)-1.1.1\"><span class=\"toc-item-num\">1.1.1&nbsp;&nbsp;</span>Solution1: Two pointer (usual method when array is sorted)</a></span></li></ul></li><li><span><a href=\"#Best-Time-to-Buy-and-Sell-Stock-II\" data-toc-modified-id=\"Best-Time-to-Buy-and-Sell-Stock-II-1.2\"><span class=\"toc-item-num\">1.2&nbsp;&nbsp;</span>Best Time to Buy and Sell Stock II</a></span><ul class=\"toc-item\"><li><span><a href=\"#Solution1:-Largest-contigous-sum\" data-toc-modified-id=\"Solution1:-Largest-contigous-sum-1.2.1\"><span class=\"toc-item-num\">1.2.1&nbsp;&nbsp;</span>Solution1: Largest contigous sum</a></span></li></ul></li><li><span><a href=\"#Rotate-Array\" data-toc-modified-id=\"Rotate-Array-1.3\"><span class=\"toc-item-num\">1.3&nbsp;&nbsp;</span>Rotate Array</a></span><ul class=\"toc-item\"><li><span><a href=\"#Solution-1:-Swap-numbers\" data-toc-modified-id=\"Solution-1:-Swap-numbers-1.3.1\"><span class=\"toc-item-num\">1.3.1&nbsp;&nbsp;</span>Solution 1: Swap numbers</a></span></li><li><span><a href=\"#Solution2:-Cyclic-Replacements\" data-toc-modified-id=\"Solution2:-Cyclic-Replacements-1.3.2\"><span class=\"toc-item-num\">1.3.2&nbsp;&nbsp;</span>Solution2: Cyclic Replacements</a></span></li><li><span><a href=\"#Solution3:-Reverse\" data-toc-modified-id=\"Solution3:-Reverse-1.3.3\"><span class=\"toc-item-num\">1.3.3&nbsp;&nbsp;</span>Solution3: Reverse</a></span></li></ul></li><li><span><a href=\"#Contains-Duplicate\" data-toc-modified-id=\"Contains-Duplicate-1.4\"><span class=\"toc-item-num\">1.4&nbsp;&nbsp;</span>Contains Duplicate</a></span><ul class=\"toc-item\"><li><span><a href=\"#Solution1:-Set\" data-toc-modified-id=\"Solution1:-Set-1.4.1\"><span class=\"toc-item-num\">1.4.1&nbsp;&nbsp;</span>Solution1: Set</a></span></li><li><span><a href=\"#Solution2:-Dictionary/Hashmap\" data-toc-modified-id=\"Solution2:-Dictionary/Hashmap-1.4.2\"><span class=\"toc-item-num\">1.4.2&nbsp;&nbsp;</span>Solution2: Dictionary/Hashmap</a></span></li><li><span><a href=\"#Solution3:-Sort\" data-toc-modified-id=\"Solution3:-Sort-1.4.3\"><span class=\"toc-item-num\">1.4.3&nbsp;&nbsp;</span>Solution3: Sort</a></span></li></ul></li><li><span><a href=\"#Single-Number\" data-toc-modified-id=\"Single-Number-1.5\"><span class=\"toc-item-num\">1.5&nbsp;&nbsp;</span>Single Number</a></span><ul class=\"toc-item\"><li><span><a href=\"#Solution1:-Dictionary\" data-toc-modified-id=\"Solution1:-Dictionary-1.5.1\"><span class=\"toc-item-num\">1.5.1&nbsp;&nbsp;</span>Solution1: Dictionary</a></span></li><li><span><a href=\"#Solution2:-XOR\" data-toc-modified-id=\"Solution2:-XOR-1.5.2\"><span class=\"toc-item-num\">1.5.2&nbsp;&nbsp;</span>Solution2: XOR</a></span></li></ul></li><li><span><a href=\"#Intersection-of-Two-Arrays-II\" data-toc-modified-id=\"Intersection-of-Two-Arrays-II-1.6\"><span class=\"toc-item-num\">1.6&nbsp;&nbsp;</span>Intersection of Two Arrays II</a></span><ul class=\"toc-item\"><li><span><a href=\"#Solution1:-Sort-+-Two-pointer\" data-toc-modified-id=\"Solution1:-Sort-+-Two-pointer-1.6.1\"><span class=\"toc-item-num\">1.6.1&nbsp;&nbsp;</span>Solution1: Sort + Two pointer</a></span></li><li><span><a href=\"#Solution2:-Dictionary\" data-toc-modified-id=\"Solution2:-Dictionary-1.6.2\"><span class=\"toc-item-num\">1.6.2&nbsp;&nbsp;</span>Solution2: Dictionary</a></span></li></ul></li><li><span><a href=\"#Plus-One\" data-toc-modified-id=\"Plus-One-1.7\"><span class=\"toc-item-num\">1.7&nbsp;&nbsp;</span>Plus One</a></span><ul class=\"toc-item\"><li><span><a href=\"#Solution1:-Multiply-10**n\" data-toc-modified-id=\"Solution1:-Multiply-10**n-1.7.1\"><span class=\"toc-item-num\">1.7.1&nbsp;&nbsp;</span>Solution1: Multiply 10**n</a></span></li></ul></li><li><span><a href=\"#Move-Zeroes\" data-toc-modified-id=\"Move-Zeroes-1.8\"><span class=\"toc-item-num\">1.8&nbsp;&nbsp;</span>Move Zeroes</a></span><ul class=\"toc-item\"><li><span><a href=\"#Solution1:-Two-pointer-+-Swap-numbers\" data-toc-modified-id=\"Solution1:-Two-pointer-+-Swap-numbers-1.8.1\"><span class=\"toc-item-num\">1.8.1&nbsp;&nbsp;</span>Solution1: Two pointer + Swap numbers</a></span></li></ul></li><li><span><a href=\"#Two-Sum\" data-toc-modified-id=\"Two-Sum-1.9\"><span class=\"toc-item-num\">1.9&nbsp;&nbsp;</span>Two Sum</a></span><ul class=\"toc-item\"><li><span><a href=\"#Solution1:-Dictionary\" data-toc-modified-id=\"Solution1:-Dictionary-1.9.1\"><span class=\"toc-item-num\">1.9.1&nbsp;&nbsp;</span>Solution1: Dictionary</a></span></li><li><span><a href=\"#Solution2:-Sort-+-Two-pointer\" data-toc-modified-id=\"Solution2:-Sort-+-Two-pointer-1.9.2\"><span class=\"toc-item-num\">1.9.2&nbsp;&nbsp;</span>Solution2: Sort + Two pointer</a></span></li><li><span><a href=\"#Solution2:-Sort-+-Two-pointer(handle-duplicates,-multiple-solutions)\" data-toc-modified-id=\"Solution2:-Sort-+-Two-pointer(handle-duplicates,-multiple-solutions)-1.9.3\"><span class=\"toc-item-num\">1.9.3&nbsp;&nbsp;</span>Solution2: Sort + Two pointer(handle duplicates, multiple solutions)</a></span></li></ul></li><li><span><a href=\"#Valid-Sudoku\" data-toc-modified-id=\"Valid-Sudoku-1.10\"><span class=\"toc-item-num\">1.10&nbsp;&nbsp;</span>Valid Sudoku</a></span><ul class=\"toc-item\"><li><span><a href=\"#Solution1\" data-toc-modified-id=\"Solution1-1.10.1\"><span class=\"toc-item-num\">1.10.1&nbsp;&nbsp;</span>Solution1</a></span></li></ul></li><li><span><a href=\"#Rotate-Image\" data-toc-modified-id=\"Rotate-Image-1.11\"><span class=\"toc-item-num\">1.11&nbsp;&nbsp;</span>Rotate Image</a></span><ul class=\"toc-item\"><li><span><a href=\"#Solution1:-Transpose-matrix-and-reverse-each-row\" data-toc-modified-id=\"Solution1:-Transpose-matrix-and-reverse-each-row-1.11.1\"><span class=\"toc-item-num\">1.11.1&nbsp;&nbsp;</span>Solution1: Transpose matrix and reverse each row</a></span></li></ul></li></ul></li><li><span><a href=\"#Medium\" data-toc-modified-id=\"Medium-2\"><span class=\"toc-item-num\">2&nbsp;&nbsp;</span>Medium</a></span><ul class=\"toc-item\"><li><span><a href=\"#Three-sum\" data-toc-modified-id=\"Three-sum-2.1\"><span class=\"toc-item-num\">2.1&nbsp;&nbsp;</span>Three sum</a></span><ul class=\"toc-item\"><li><span><a href=\"#Solution1:-Sort-+-Two-pointer(handle-duplicates,-multiple-solutions)\" data-toc-modified-id=\"Solution1:-Sort-+-Two-pointer(handle-duplicates,-multiple-solutions)-2.1.1\"><span class=\"toc-item-num\">2.1.1&nbsp;&nbsp;</span>Solution1: Sort + Two pointer(handle duplicates, multiple solutions)</a></span></li></ul></li><li><span><a href=\"#Set-matrix-zero\" data-toc-modified-id=\"Set-matrix-zero-2.2\"><span class=\"toc-item-num\">2.2&nbsp;&nbsp;</span>Set matrix zero</a></span></li><li><span><a href=\"#Group-Anagrams\" data-toc-modified-id=\"Group-Anagrams-2.3\"><span class=\"toc-item-num\">2.3&nbsp;&nbsp;</span>Group Anagrams</a></span><ul class=\"toc-item\"><li><span><a href=\"#Solution1:-dict-+-sorted\" data-toc-modified-id=\"Solution1:-dict-+-sorted-2.3.1\"><span class=\"toc-item-num\">2.3.1&nbsp;&nbsp;</span>Solution1: dict + sorted</a></span></li></ul></li><li><span><a href=\"#Longest-Substring-Without-Repeating-Characters\" data-toc-modified-id=\"Longest-Substring-Without-Repeating-Characters-2.4\"><span class=\"toc-item-num\">2.4&nbsp;&nbsp;</span>Longest Substring Without Repeating Characters</a></span></li><li><span><a href=\"#Longest-Palindromic-Substring\" data-toc-modified-id=\"Longest-Palindromic-Substring-2.5\"><span class=\"toc-item-num\">2.5&nbsp;&nbsp;</span>Longest Palindromic Substring</a></span></li><li><span><a href=\"#Increasing-Triplet-Subsequence\" data-toc-modified-id=\"Increasing-Triplet-Subsequence-2.6\"><span class=\"toc-item-num\">2.6&nbsp;&nbsp;</span>Increasing Triplet Subsequence</a></span><ul class=\"toc-item\"><li><span><a href=\"#Solution1:-two-thresholds\" data-toc-modified-id=\"Solution1:-two-thresholds-2.6.1\"><span class=\"toc-item-num\">2.6.1&nbsp;&nbsp;</span>Solution1: two thresholds</a></span></li></ul></li><li><span><a href=\"#Median-of-two-sorted-array\" data-toc-modified-id=\"Median-of-two-sorted-array-2.7\"><span class=\"toc-item-num\">2.7&nbsp;&nbsp;</span>Median of two sorted array</a></span><ul class=\"toc-item\"><li><span><a href=\"#Solution1:-Merge-two-sorted-array,-then-find-median\" data-toc-modified-id=\"Solution1:-Merge-two-sorted-array,-then-find-median-2.7.1\"><span class=\"toc-item-num\">2.7.1&nbsp;&nbsp;</span>Solution1: Merge two sorted array, then find median</a></span></li></ul></li></ul></li></ul></div>"
   ]
  },
  {
   "cell_type": "markdown",
   "metadata": {},
   "source": [
    "link: https://leetcode.com/explore/interview/card/top-interview-questions-easy/"
   ]
  },
  {
   "cell_type": "markdown",
   "metadata": {},
   "source": [
    "# Easy"
   ]
  },
  {
   "cell_type": "markdown",
   "metadata": {},
   "source": [
    "## Remove Duplicates from Sorted Array"
   ]
  },
  {
   "cell_type": "markdown",
   "metadata": {},
   "source": [
    "Given a sorted array nums, remove the duplicates in-place such that each element appear only once and return the new length.\n",
    "\n",
    "Do not allocate extra space for another array, you must do this by modifying the input array in-place with O(1) extra memory."
   ]
  },
  {
   "cell_type": "markdown",
   "metadata": {},
   "source": [
    "Given nums = [1,1,2],\n",
    "\n",
    "Your function should return length = 2, with the first two elements of nums being 1 and 2 respectively.\n",
    "\n",
    "It doesn't matter what you leave beyond the returned length."
   ]
  },
  {
   "cell_type": "markdown",
   "metadata": {},
   "source": [
    "### Solution1: Two pointer (usual method when array is sorted)"
   ]
  },
  {
   "cell_type": "code",
   "execution_count": 22,
   "metadata": {},
   "outputs": [],
   "source": [
    "def removeDuplicates(nums) -> int:\n",
    "    if not nums: return 0\n",
    "    slow = 0\n",
    "    # slow starts from 0\n",
    "    # fast starts from 1\n",
    "    for fast in range(1,len(nums)):\n",
    "        if nums[slow] != nums[fast]:\n",
    "            # only add 1 to slow when nums[slow] != nums[fast]\n",
    "            slow += 1\n",
    "            # copy fast to slow\n",
    "            nums[slow] = nums[fast]\n",
    "    print(nums)\n",
    "    return slow+1"
   ]
  },
  {
   "cell_type": "code",
   "execution_count": 23,
   "metadata": {},
   "outputs": [
    {
     "name": "stdout",
     "output_type": "stream",
     "text": [
      "[0, 1, 2, 3, 4, 2, 2, 3, 3, 4]\n",
      "5\n"
     ]
    }
   ],
   "source": [
    "print(removeDuplicates([0,0,1,1,1,2,2,3,3,4]))"
   ]
  },
  {
   "cell_type": "markdown",
   "metadata": {},
   "source": [
    "## Best Time to Buy and Sell Stock II"
   ]
  },
  {
   "cell_type": "markdown",
   "metadata": {},
   "source": [
    "Say you have an array prices for which the ith element is the price of a given stock on day i.\n",
    "\n",
    "Design an algorithm to find the maximum profit. You may complete as many transactions as you like (i.e., buy one and sell one share of the stock multiple times).\n",
    "\n",
    "Note: You may not engage in multiple transactions at the same time (i.e., you must sell the stock before you buy again)."
   ]
  },
  {
   "cell_type": "markdown",
   "metadata": {},
   "source": [
    "Input: [7,1,5,3,6,4]\n",
    "\n",
    "Output: 7\n",
    "\n",
    "Explanation: Buy on day 2 (price = 1) and sell on day 3 (price = 5), profit = 5-1 = 4.\n",
    "             Then buy on day 4 (price = 3) and sell on day 5 (price = 6), profit = 6-3 = 3.\n",
    "        \n",
    "Input: [1,2,3,4,5]\n",
    "\n",
    "Output: 4\n",
    "\n",
    "Explanation: Buy on day 1 (price = 1) and sell on day 5 (price = 5), profit = 5-1 = 4.\n",
    "             Note that you cannot buy on day 1, buy on day 2 and sell them later, as you are\n",
    "             engaging multiple transactions at the same time. You must sell before buying again.\n",
    "\n",
    "Input: [7,6,4,3,1]\n",
    "\n",
    "Output: 0\n",
    "\n",
    "Explanation: In this case, no transaction is done, i.e. max profit = 0."
   ]
  },
  {
   "cell_type": "markdown",
   "metadata": {},
   "source": [
    "### Solution1: Largest contigous sum"
   ]
  },
  {
   "cell_type": "markdown",
   "metadata": {},
   "source": [
    "The problem is to find max(Prices[Y] - Prices[X]) which is equivalent to finding the largest sum of contiguous D's.\n",
    "\n",
    "To illustrate, if D[Y+1] is positive, it means Prices[Y+1] > Prices[Y], which implies I should sell at Prices[Y+1] instead of Prices[Y]. Basically it means I just add D[Y+1] to D[Y] + ... + D[X+1].\n",
    "\n",
    "Note that there could be a negative or zero D in the best running sequence. It doesn't matter so long the sum of the sequence is the largest.\n",
    "\n",
    "Now we are allowed unlimited transactions. So if there is a negative D, we could just break the sequence into 2, that is, into 2 transactions so as to avoid the negative element."
   ]
  },
  {
   "cell_type": "code",
   "execution_count": 1,
   "metadata": {},
   "outputs": [],
   "source": [
    "def maxProfit(prices):\n",
    "    profit = 0\n",
    "    for i in range(0,len(prices)-1):\n",
    "        profit += max(0,prices[i+1]-prices[i])\n",
    "    return profit"
   ]
  },
  {
   "cell_type": "code",
   "execution_count": 2,
   "metadata": {},
   "outputs": [
    {
     "name": "stdout",
     "output_type": "stream",
     "text": [
      "7\n"
     ]
    }
   ],
   "source": [
    "print(maxProfit([7,1,5,3,6,4]))"
   ]
  },
  {
   "cell_type": "code",
   "execution_count": 26,
   "metadata": {},
   "outputs": [
    {
     "name": "stdout",
     "output_type": "stream",
     "text": [
      "4\n"
     ]
    }
   ],
   "source": [
    "print(maxProfit([1,2,3,4,5]))"
   ]
  },
  {
   "cell_type": "code",
   "execution_count": 27,
   "metadata": {},
   "outputs": [
    {
     "name": "stdout",
     "output_type": "stream",
     "text": [
      "0\n"
     ]
    }
   ],
   "source": [
    "print(maxProfit([7,6,4,3,1]))"
   ]
  },
  {
   "cell_type": "markdown",
   "metadata": {},
   "source": [
    "## Rotate Array"
   ]
  },
  {
   "cell_type": "markdown",
   "metadata": {},
   "source": [
    "Given an array, rotate the array to the right by k steps, where k is non-negative.\n",
    "\n",
    "Follow up:\n",
    "\n",
    "Try to come up as many solutions as you can, there are at least 3 different ways to solve this problem.\n",
    "Could you do it in-place with O(1) extra space?"
   ]
  },
  {
   "cell_type": "markdown",
   "metadata": {},
   "source": [
    "Input: nums = [1,2,3,4,5,6,7], k = 3\n",
    "Output: [5,6,7,1,2,3,4]\n",
    "Explanation:\n",
    "rotate 1 steps to the right: [7,1,2,3,4,5,6]\n",
    "rotate 2 steps to the right: [6,7,1,2,3,4,5]\n",
    "rotate 3 steps to the right: [5,6,7,1,2,3,4]"
   ]
  },
  {
   "cell_type": "markdown",
   "metadata": {},
   "source": [
    "### Solution 1: Swap numbers"
   ]
  },
  {
   "cell_type": "code",
   "execution_count": 31,
   "metadata": {},
   "outputs": [],
   "source": [
    "def rotateArray(nums,k):\n",
    "    for _ in range(k):\n",
    "        previous = nums[-1] #initiate a first previous \n",
    "        for i in range(len(nums)):\n",
    "            temp = nums[i]\n",
    "            nums[i] = previous\n",
    "            previous = temp\n",
    "            print(nums)\n",
    "        \n",
    "    return nums"
   ]
  },
  {
   "cell_type": "code",
   "execution_count": 32,
   "metadata": {},
   "outputs": [
    {
     "name": "stdout",
     "output_type": "stream",
     "text": [
      "[7, 2, 3, 4, 5, 6, 7]\n",
      "[7, 1, 3, 4, 5, 6, 7]\n",
      "[7, 1, 2, 4, 5, 6, 7]\n",
      "[7, 1, 2, 3, 5, 6, 7]\n",
      "[7, 1, 2, 3, 4, 6, 7]\n",
      "[7, 1, 2, 3, 4, 5, 7]\n",
      "[7, 1, 2, 3, 4, 5, 6]\n"
     ]
    },
    {
     "data": {
      "text/plain": [
       "[7, 1, 2, 3, 4, 5, 6]"
      ]
     },
     "execution_count": 32,
     "metadata": {},
     "output_type": "execute_result"
    }
   ],
   "source": [
    "rotateArray(nums = [1,2,3,4,5,6,7], k = 1)"
   ]
  },
  {
   "cell_type": "code",
   "execution_count": 68,
   "metadata": {},
   "outputs": [],
   "source": [
    "def rotateArray(nums,k):\n",
    "    for _ in range(k):\n",
    "        last = nums[-1] \n",
    "        nums[1:len(nums)] = nums[0:(len(nums)-1)]\n",
    "        nums[0] = last\n",
    "    return nums"
   ]
  },
  {
   "cell_type": "code",
   "execution_count": 67,
   "metadata": {},
   "outputs": [
    {
     "data": {
      "text/plain": [
       "[5, 6, 7, 1, 2, 3, 4]"
      ]
     },
     "execution_count": 67,
     "metadata": {},
     "output_type": "execute_result"
    }
   ],
   "source": [
    "rotateArray(nums = [1,2,3,4,5,6,7], k = 3)"
   ]
  },
  {
   "cell_type": "markdown",
   "metadata": {},
   "source": [
    "### Solution2: Cyclic Replacements"
   ]
  },
  {
   "cell_type": "markdown",
   "metadata": {},
   "source": [
    "??? don't understand "
   ]
  },
  {
   "cell_type": "markdown",
   "metadata": {},
   "source": [
    "### Solution3: Reverse"
   ]
  },
  {
   "cell_type": "markdown",
   "metadata": {},
   "source": [
    "This approach is based on the fact that when we rotate the array k times, k%nk elements from the back end of the array come to the front and the rest of the elements from the front shift backwards.\n",
    "\n",
    "In this approach, we firstly reverse all the elements of the array. Then, reversing the first k elements followed by reversing the rest n-kn−kelements gives us the required result.\n",
    "\n",
    "Original List                   : 1 2 3 4 5 6 7\n",
    "\n",
    "After reversing all numbers     : 7 6 5 4 3 2 1\n",
    "\n",
    "After reversing first k numbers : 5 6 7 4 3 2 1\n",
    "\n",
    "After revering last n-k numbers : 5 6 7 1 2 3 4 --> Result"
   ]
  },
  {
   "cell_type": "code",
   "execution_count": 33,
   "metadata": {},
   "outputs": [],
   "source": [
    "def reverse(nums, start, end):\n",
    "    while(start<end):\n",
    "        temp = nums[start]\n",
    "        nums[start] = nums[end]\n",
    "        nums[end] = temp\n",
    "        start += 1\n",
    "        end -=1\n",
    "    return nums\n",
    "\n",
    "def rotateArray(nums, k):\n",
    "    k = k%len(nums)\n",
    "    print(k)\n",
    "    nums = reverse(nums, 0, len(nums)-1)\n",
    "    nums = reverse(nums, 0, k-1)\n",
    "    nums = reverse(nums, k, len(nums)-1)\n",
    "    return nums"
   ]
  },
  {
   "cell_type": "code",
   "execution_count": 36,
   "metadata": {},
   "outputs": [
    {
     "name": "stdout",
     "output_type": "stream",
     "text": [
      "3\n"
     ]
    },
    {
     "data": {
      "text/plain": [
       "[5, 6, 7, 1, 2, 3, 4]"
      ]
     },
     "execution_count": 36,
     "metadata": {},
     "output_type": "execute_result"
    }
   ],
   "source": [
    "rotateArray([1,2,3,4,5,6,7], 3)"
   ]
  },
  {
   "cell_type": "markdown",
   "metadata": {},
   "source": [
    "## Contains Duplicate"
   ]
  },
  {
   "cell_type": "markdown",
   "metadata": {},
   "source": [
    "Given an array of integers, find if the array contains any duplicates.\n",
    "\n",
    "Your function should return true if any value appears at least twice in the array, and it should return false if every element is distinct."
   ]
  },
  {
   "cell_type": "markdown",
   "metadata": {},
   "source": [
    "### Solution1: Set"
   ]
  },
  {
   "cell_type": "code",
   "execution_count": null,
   "metadata": {},
   "outputs": [],
   "source": [
    "def containDulplicate(nums):\n",
    "    return len(nums) != len(set(nums))          "
   ]
  },
  {
   "cell_type": "markdown",
   "metadata": {},
   "source": [
    "### Solution2: Dictionary/Hashmap"
   ]
  },
  {
   "cell_type": "code",
   "execution_count": null,
   "metadata": {},
   "outputs": [],
   "source": [
    "def containDulplicate(nums):\n",
    "    hashmap = {}\n",
    "    for i in nums:\n",
    "        if i not in hashmap:\n",
    "            hashmap[i] = 1\n",
    "        else:\n",
    "            return True\n",
    "    return False"
   ]
  },
  {
   "cell_type": "markdown",
   "metadata": {},
   "source": [
    "### Solution3: Sort"
   ]
  },
  {
   "cell_type": "code",
   "execution_count": null,
   "metadata": {},
   "outputs": [],
   "source": [
    "def containDulplicate(nums):\n",
    "    if len(nums)==1:return False\n",
    "    nums.sort()\n",
    "    for i in range(len(nums)-1):\n",
    "        if nums[i] == nums[i+1]:\n",
    "            return True\n",
    "    return False"
   ]
  },
  {
   "cell_type": "markdown",
   "metadata": {},
   "source": [
    "## Single Number"
   ]
  },
  {
   "cell_type": "markdown",
   "metadata": {},
   "source": [
    "Given a non-empty array of integers, every element appears twice except for one. Find that single one.\n",
    "\n",
    "Note:\n",
    "\n",
    "Your algorithm should have a linear runtime complexity. Could you implement it without using extra memory?\n",
    "\n",
    "Input: [4,1,2,1,2]\n",
    "\n",
    "Output: 4"
   ]
  },
  {
   "cell_type": "markdown",
   "metadata": {},
   "source": [
    "### Solution1: Dictionary"
   ]
  },
  {
   "cell_type": "code",
   "execution_count": 41,
   "metadata": {},
   "outputs": [],
   "source": [
    "def findSingle(nums):\n",
    "    hashmap = {}\n",
    "    for i in nums:\n",
    "        if i not in hashmap:\n",
    "            hashmap[i] = 1\n",
    "        else:\n",
    "            hashmap[i] += 1\n",
    "    for k,v in hashmap.items():\n",
    "        if v == 1:\n",
    "            return k"
   ]
  },
  {
   "cell_type": "code",
   "execution_count": 43,
   "metadata": {},
   "outputs": [],
   "source": [
    "def findSingle(nums):\n",
    "    hashmap = {}\n",
    "    for i in nums:\n",
    "        hashmap[i] = hashmap.get(i,0)+1\n",
    "    for k,v in hashmap.items():\n",
    "        if v == 1:\n",
    "            return k"
   ]
  },
  {
   "cell_type": "markdown",
   "metadata": {},
   "source": [
    "### Solution2: XOR"
   ]
  },
  {
   "cell_type": "code",
   "execution_count": 37,
   "metadata": {},
   "outputs": [],
   "source": [
    "def findSingle(nums):\n",
    "    res = 0\n",
    "    for i in nums:\n",
    "        res ^= i\n",
    "    return res"
   ]
  },
  {
   "cell_type": "code",
   "execution_count": 44,
   "metadata": {},
   "outputs": [
    {
     "data": {
      "text/plain": [
       "0"
      ]
     },
     "execution_count": 44,
     "metadata": {},
     "output_type": "execute_result"
    }
   ],
   "source": [
    "findSingle([1,3,3,4,4,0,1])"
   ]
  },
  {
   "cell_type": "markdown",
   "metadata": {},
   "source": [
    "## Intersection of Two Arrays II"
   ]
  },
  {
   "cell_type": "markdown",
   "metadata": {},
   "source": [
    "Given two arrays, write a function to compute their intersection.\n",
    "\n",
    "Example 1:\n",
    "\n",
    "Input: nums1 = [1,2,2,1], nums2 = [2,2]\n",
    "    \n",
    "Output: [2,2]\n",
    "\n",
    "Example 2:\n",
    "\n",
    "Input: nums1 = [4,9,5], nums2 = [9,4,9,8,4]\n",
    "\n",
    "Output: [4,9]"
   ]
  },
  {
   "cell_type": "markdown",
   "metadata": {},
   "source": [
    "### Solution1: Sort + Two pointer"
   ]
  },
  {
   "cell_type": "code",
   "execution_count": 49,
   "metadata": {},
   "outputs": [],
   "source": [
    "def intersectArray(nums1,nums2):\n",
    "    nums1.sort()\n",
    "    nums2.sort()\n",
    "    p1 = p2 = 0\n",
    "    res = []\n",
    "    while(p1<len(nums1) and p2<len(nums2)):\n",
    "        if nums1[p1] > nums2[p2]:\n",
    "            p2 +=1\n",
    "        elif nums1[p1] < nums2[p2]:\n",
    "            p1 +=1\n",
    "        else:\n",
    "            res.append(nums1[p1])\n",
    "            p1 +=1\n",
    "            p2 +=1\n",
    "    return res"
   ]
  },
  {
   "cell_type": "code",
   "execution_count": 50,
   "metadata": {},
   "outputs": [
    {
     "data": {
      "text/plain": [
       "[2, 2]"
      ]
     },
     "execution_count": 50,
     "metadata": {},
     "output_type": "execute_result"
    }
   ],
   "source": [
    "intersectArray([1,2,2,1],[2,2])"
   ]
  },
  {
   "cell_type": "markdown",
   "metadata": {},
   "source": [
    "### Solution2: Dictionary"
   ]
  },
  {
   "cell_type": "code",
   "execution_count": 54,
   "metadata": {},
   "outputs": [],
   "source": [
    "def intersectArray(nums1,nums2):\n",
    "    hashmap = {}\n",
    "    for num in nums1:\n",
    "        hashmap[num] = hashmap.get(num,0)+1\n",
    "    res = []\n",
    "    for num in nums2:\n",
    "        if num in hashmap and hashmap[num]>0:\n",
    "            res.append(num)\n",
    "            hashmap[num] -=1\n",
    "    return res"
   ]
  },
  {
   "cell_type": "code",
   "execution_count": 55,
   "metadata": {},
   "outputs": [
    {
     "data": {
      "text/plain": [
       "[2, 2]"
      ]
     },
     "execution_count": 55,
     "metadata": {},
     "output_type": "execute_result"
    }
   ],
   "source": [
    "intersectArray([1,2,2,1],[2,2])"
   ]
  },
  {
   "cell_type": "markdown",
   "metadata": {},
   "source": [
    "## Plus One"
   ]
  },
  {
   "cell_type": "markdown",
   "metadata": {},
   "source": [
    "Given a non-empty array of digits representing a non-negative integer, increment one to the integer.\n",
    "\n",
    "The digits are stored such that the most significant digit is at the head of the list, and each element in the array contains a single digit.\n",
    "\n",
    "You may assume the integer does not contain any leading zero, except the number 0 itself.\n",
    "\n",
    " \n",
    "\n",
    "Example 1:\n",
    "\n",
    "Input: digits = [1,2,3]\n",
    "\n",
    "Output: [1,2,4]\n",
    "\n",
    "Explanation: The array represents the integer 123.\n",
    "\n",
    "Example 2:\n",
    "\n",
    "Input: digits = [4,3,2,1]\n",
    "\n",
    "Output: [4,3,2,2]\n",
    "\n",
    "Explanation: The array represents the integer 4321.\n",
    "\n",
    "Example 3:\n",
    "\n",
    "Input: digits = [0]\n",
    "\n",
    "Output: [1]"
   ]
  },
  {
   "cell_type": "markdown",
   "metadata": {},
   "source": [
    "### Solution1: Multiply 10**n"
   ]
  },
  {
   "cell_type": "code",
   "execution_count": 61,
   "metadata": {},
   "outputs": [],
   "source": [
    "def plusOne(digits):\n",
    "    if not digits: return 0\n",
    "    num = 0\n",
    "    for i in range(len(digits)):\n",
    "        j = len(digits) - i - 1\n",
    "        num +=  digits[i] * 10 **j \n",
    "    num += 1\n",
    "    return [n for n in str(num)]"
   ]
  },
  {
   "cell_type": "code",
   "execution_count": 62,
   "metadata": {},
   "outputs": [
    {
     "data": {
      "text/plain": [
       "['1', '2', '4', '4']"
      ]
     },
     "execution_count": 62,
     "metadata": {},
     "output_type": "execute_result"
    }
   ],
   "source": [
    "plusOne([1,2,4,3])"
   ]
  },
  {
   "cell_type": "markdown",
   "metadata": {},
   "source": [
    "## Move Zeroes"
   ]
  },
  {
   "cell_type": "markdown",
   "metadata": {},
   "source": [
    "Given an array nums, write a function to move all 0's to the end of it while maintaining the relative order of the non-zero elements.\n",
    "\n",
    "Example:\n",
    "\n",
    "Input: [0,1,0,3,12]\n",
    "\n",
    "Output: [1,3,12,0,0]\n",
    "\n",
    "Note:\n",
    "\n",
    "You must do this in-place without making a copy of the array.\n",
    "\n",
    "Minimize the total number of operations."
   ]
  },
  {
   "cell_type": "markdown",
   "metadata": {},
   "source": [
    "### Solution1: Two pointer + Swap numbers"
   ]
  },
  {
   "cell_type": "code",
   "execution_count": 76,
   "metadata": {},
   "outputs": [],
   "source": [
    "def moveZeros(nums):\n",
    "    slow = 0\n",
    "    for fast in range(1, len(nums)):\n",
    "        if nums[slow] == 0 and nums[fast] != 0:\n",
    "            nums[slow], nums[fast] = nums[fast], nums[slow]\n",
    "            # Add 1 to slow only when nums[fast] is not zero\n",
    "            slow +=1\n",
    "        print(nums)\n",
    "    return nums"
   ]
  },
  {
   "cell_type": "code",
   "execution_count": 77,
   "metadata": {},
   "outputs": [
    {
     "name": "stdout",
     "output_type": "stream",
     "text": [
      "[1, 0, 0, 3, 0, 12]\n",
      "[1, 0, 0, 3, 0, 12]\n",
      "[1, 3, 0, 0, 0, 12]\n",
      "[1, 3, 0, 0, 0, 12]\n",
      "[1, 3, 12, 0, 0, 0]\n"
     ]
    },
    {
     "data": {
      "text/plain": [
       "[1, 3, 12, 0, 0, 0]"
      ]
     },
     "execution_count": 77,
     "metadata": {},
     "output_type": "execute_result"
    }
   ],
   "source": [
    "moveZeros([0,1,0,3,0,12])"
   ]
  },
  {
   "cell_type": "markdown",
   "metadata": {},
   "source": [
    "## Two Sum"
   ]
  },
  {
   "cell_type": "markdown",
   "metadata": {},
   "source": [
    "Given an array of integers nums and and integer target, return the indices of the two numbers such that they add up to target.\n",
    "\n",
    "You may assume that each input would have exactly one solution, and you may not use the same element twice.\n",
    "\n",
    "You can return the answer in any order."
   ]
  },
  {
   "cell_type": "markdown",
   "metadata": {},
   "source": [
    "Example 1:\n",
    "\n",
    "Input: nums = [2,7,11,15], target = 9\n",
    "\n",
    "Output: [0,1]\n",
    "\n",
    "Output: Because nums[0] + nums[1] == 9, we return [0, 1]\n",
    "\n",
    "Example 2:\n",
    "\n",
    "Input: nums = [3,2,4], target = 6\n",
    "\n",
    "Output: [1,2]\n",
    "\n",
    "Example 3:\n",
    "\n",
    "Input: nums = [3,3], target = 6\n",
    "\n",
    "Output: [0,1]"
   ]
  },
  {
   "cell_type": "markdown",
   "metadata": {},
   "source": [
    "### Solution1: Dictionary"
   ]
  },
  {
   "cell_type": "code",
   "execution_count": 92,
   "metadata": {},
   "outputs": [],
   "source": [
    "def twoSum(nums, target):\n",
    "    hashmap = {}\n",
    "    for i,v in enumerate(nums):\n",
    "        m = target - v\n",
    "        if m in hashmap:\n",
    "            return([hashmap[m],i])\n",
    "        else:\n",
    "            hashmap[v] = i"
   ]
  },
  {
   "cell_type": "code",
   "execution_count": 93,
   "metadata": {},
   "outputs": [
    {
     "data": {
      "text/plain": [
       "[1, 2]"
      ]
     },
     "execution_count": 93,
     "metadata": {},
     "output_type": "execute_result"
    }
   ],
   "source": [
    "twoSum([3,2,4], 6)"
   ]
  },
  {
   "cell_type": "markdown",
   "metadata": {},
   "source": [
    "### Solution2: Sort + Two pointer"
   ]
  },
  {
   "cell_type": "code",
   "execution_count": 90,
   "metadata": {},
   "outputs": [],
   "source": [
    "def twoSum(nums, target):\n",
    "    nums = enumerate(nums) #{(k,v),...}\n",
    "    nums = sorted(nums, key=lambda x:x[1]) #sort nums by value\n",
    "    l, r = 0, len(nums)-1\n",
    "    while l < r:\n",
    "        if nums[l][1]+nums[r][1] == target:\n",
    "            return sorted([nums[l][0]+1, nums[r][0]+1])\n",
    "        elif nums[l][1]+nums[r][1] < target:\n",
    "            l += 1\n",
    "        else:\n",
    "            r -= 1"
   ]
  },
  {
   "cell_type": "code",
   "execution_count": 91,
   "metadata": {},
   "outputs": [
    {
     "data": {
      "text/plain": [
       "[2, 3]"
      ]
     },
     "execution_count": 91,
     "metadata": {},
     "output_type": "execute_result"
    }
   ],
   "source": [
    "twoSum([3,2,4], 6)"
   ]
  },
  {
   "cell_type": "markdown",
   "metadata": {},
   "source": [
    "### Solution2: Sort + Two pointer(handle duplicates, multiple solutions)"
   ]
  },
  {
   "cell_type": "code",
   "execution_count": 3,
   "metadata": {},
   "outputs": [],
   "source": [
    "def twoSum(nums, target):\n",
    "    nums.sort()\n",
    "    l, r = 0, len(nums)-1\n",
    "    res = []\n",
    "    while l < r:\n",
    "        if nums[l]+nums[r] == target:\n",
    "            res.append([nums[l],nums[r]])\n",
    "            l +=1\n",
    "            while l<r and nums[l] == nums[l-1]:\n",
    "                l +=1\n",
    "        elif nums[l]+nums[r] < target:\n",
    "            l += 1\n",
    "        else:\n",
    "            r -= 1\n",
    "    return res"
   ]
  },
  {
   "cell_type": "code",
   "execution_count": 6,
   "metadata": {},
   "outputs": [
    {
     "data": {
      "text/plain": [
       "[[2, 4], [3, 3]]"
      ]
     },
     "execution_count": 6,
     "metadata": {},
     "output_type": "execute_result"
    }
   ],
   "source": [
    "twoSum([3,2,3,3,4], 6)"
   ]
  },
  {
   "cell_type": "markdown",
   "metadata": {},
   "source": [
    "## Valid Sudoku\n",
    "\n"
   ]
  },
  {
   "cell_type": "markdown",
   "metadata": {},
   "source": [
    "https://leetcode.com/explore/interview/card/top-interview-questions-easy/92/array/769/"
   ]
  },
  {
   "cell_type": "markdown",
   "metadata": {},
   "source": [
    "### Solution1"
   ]
  },
  {
   "cell_type": "code",
   "execution_count": 100,
   "metadata": {},
   "outputs": [],
   "source": [
    "def isValidSudoku(board):\n",
    "    def isValidRow(board):\n",
    "        for row in board:\n",
    "            if not isValid(row):\n",
    "                return False\n",
    "        return True\n",
    "    \n",
    "    def isValidCol(board):\n",
    "        for col in zip(*board):\n",
    "            if not isValid(col):\n",
    "                return False\n",
    "        return True\n",
    "    \n",
    "    def isValidSquare(board):\n",
    "        for i in [0,3,6]:\n",
    "            for j in [0,3,6]:\n",
    "                square = [board[x][y] for x in range(i,i+3) for y in range(j,j+3)]\n",
    "                if not isValid(square):\n",
    "                    return False\n",
    "        return True\n",
    "    \n",
    "    def isValid(values):\n",
    "        nums = [i for i in values if i != '.']\n",
    "        return len(nums) == len(set(nums))\n",
    "    \n",
    "    return isValidRow(board) and isValidCol(board) and isValidSquare(board)"
   ]
  },
  {
   "cell_type": "code",
   "execution_count": 101,
   "metadata": {},
   "outputs": [],
   "source": [
    "input1 = [[\"5\",\"3\",\".\",\".\",\"7\",\".\",\".\",\".\",\".\"],\n",
    "  [\"6\",\".\",\".\",\"1\",\"9\",\"5\",\".\",\".\",\".\"],\n",
    "  [\".\",\"9\",\"8\",\".\",\".\",\".\",\".\",\"6\",\".\"],\n",
    "  [\"8\",\".\",\".\",\".\",\"6\",\".\",\".\",\".\",\"3\"],\n",
    "  [\"4\",\".\",\".\",\"8\",\".\",\"3\",\".\",\".\",\"1\"],\n",
    "  [\"7\",\".\",\".\",\".\",\"2\",\".\",\".\",\".\",\"6\"],\n",
    "  [\".\",\"6\",\".\",\".\",\".\",\".\",\"2\",\"8\",\".\"],\n",
    "  [\".\",\".\",\".\",\"4\",\"1\",\"9\",\".\",\".\",\"5\"],\n",
    "  [\".\",\".\",\".\",\".\",\"8\",\".\",\".\",\"7\",\"9\"]]"
   ]
  },
  {
   "cell_type": "code",
   "execution_count": 102,
   "metadata": {},
   "outputs": [
    {
     "data": {
      "text/plain": [
       "True"
      ]
     },
     "execution_count": 102,
     "metadata": {},
     "output_type": "execute_result"
    }
   ],
   "source": [
    "isValidSudoku(input1)"
   ]
  },
  {
   "cell_type": "code",
   "execution_count": 103,
   "metadata": {},
   "outputs": [],
   "source": [
    "input2 = [\n",
    "  [\"8\",\"3\",\".\",\".\",\"7\",\".\",\".\",\".\",\".\"],\n",
    "  [\"6\",\".\",\".\",\"1\",\"9\",\"5\",\".\",\".\",\".\"],\n",
    "  [\".\",\"9\",\"8\",\".\",\".\",\".\",\".\",\"6\",\".\"],\n",
    "  [\"8\",\".\",\".\",\".\",\"6\",\".\",\".\",\".\",\"3\"],\n",
    "  [\"4\",\".\",\".\",\"8\",\".\",\"3\",\".\",\".\",\"1\"],\n",
    "  [\"7\",\".\",\".\",\".\",\"2\",\".\",\".\",\".\",\"6\"],\n",
    "  [\".\",\"6\",\".\",\".\",\".\",\".\",\"2\",\"8\",\".\"],\n",
    "  [\".\",\".\",\".\",\"4\",\"1\",\"9\",\".\",\".\",\"5\"],\n",
    "  [\".\",\".\",\".\",\".\",\"8\",\".\",\".\",\"7\",\"9\"]\n",
    "]"
   ]
  },
  {
   "cell_type": "code",
   "execution_count": 104,
   "metadata": {},
   "outputs": [
    {
     "data": {
      "text/plain": [
       "False"
      ]
     },
     "execution_count": 104,
     "metadata": {},
     "output_type": "execute_result"
    }
   ],
   "source": [
    "isValidSudoku(input2)"
   ]
  },
  {
   "cell_type": "markdown",
   "metadata": {},
   "source": [
    "## Rotate Image\n",
    "\n"
   ]
  },
  {
   "cell_type": "markdown",
   "metadata": {},
   "source": [
    "https://leetcode.com/explore/interview/card/top-interview-questions-easy/92/array/770/"
   ]
  },
  {
   "cell_type": "markdown",
   "metadata": {},
   "source": [
    "### Solution1: Transpose matrix and reverse each row"
   ]
  },
  {
   "cell_type": "code",
   "execution_count": 110,
   "metadata": {},
   "outputs": [],
   "source": [
    "def rotateImage(matrix):\n",
    "    def reverse(nums):\n",
    "        l = 0\n",
    "        r = len(nums)-1\n",
    "        while(l<r):\n",
    "            nums[l], nums[r] =  nums[r], nums[l] \n",
    "            l += 1\n",
    "            r -= 1\n",
    "        return nums\n",
    "\n",
    "    # Transpose matrix\n",
    "    for i in range(len(matrix)):\n",
    "        for j in range(len(matrix)):\n",
    "            if i < j:\n",
    "                matrix[i][j], matrix[j][i] = matrix[j][i], matrix[i][j]\n",
    "    \n",
    "    print(matrix)\n",
    "    \n",
    "    # Reverse row\n",
    "    for row in matrix:\n",
    "        row = reverse(row)\n",
    "\n",
    "    return matrix"
   ]
  },
  {
   "cell_type": "code",
   "execution_count": 111,
   "metadata": {},
   "outputs": [
    {
     "name": "stdout",
     "output_type": "stream",
     "text": [
      "[[1, 4, 7], [2, 5, 8], [3, 6, 9]]\n"
     ]
    },
    {
     "data": {
      "text/plain": [
       "[[7, 4, 1], [8, 5, 2], [9, 6, 3]]"
      ]
     },
     "execution_count": 111,
     "metadata": {},
     "output_type": "execute_result"
    }
   ],
   "source": [
    "rotateImage([[1,2,3],[4,5,6],[7,8,9]])"
   ]
  },
  {
   "cell_type": "markdown",
   "metadata": {},
   "source": [
    "# Medium"
   ]
  },
  {
   "cell_type": "markdown",
   "metadata": {},
   "source": [
    "## Three sum"
   ]
  },
  {
   "cell_type": "markdown",
   "metadata": {},
   "source": [
    "Given an array nums of n integers, are there elements a, b, c in nums such that a + b + c = 0? Find all unique triplets in the array which gives the sum of zero.\n",
    "\n",
    "Notice that the solution set must not contain duplicate triplets.\n",
    "\n",
    " \n",
    "\n",
    "Example 1:\n",
    "\n",
    "Input: nums = [-1,0,1,2,-1,-4]\n",
    "\n",
    "Output: [[-1,-1,2],[-1,0,1]]\n",
    "\n",
    "Example 2:\n",
    "\n",
    "Input: nums = []\n",
    "\n",
    "Output: []\n",
    "\n",
    "Example 3:\n",
    "\n",
    "Input: nums = [0]\n",
    "\n",
    "Output: []"
   ]
  },
  {
   "cell_type": "markdown",
   "metadata": {},
   "source": [
    "### Solution1: Sort + Two pointer(handle duplicates, multiple solutions)\n"
   ]
  },
  {
   "cell_type": "code",
   "execution_count": 10,
   "metadata": {},
   "outputs": [],
   "source": [
    "def threeSum(nums):\n",
    "    nums.sort()\n",
    "    res = []\n",
    "    for i in range(len(nums)):\n",
    "        if i>0 and nums[i]==nums[i-1]: #handle duplicates\n",
    "            continue\n",
    "        if nums[i]>0:\n",
    "            break\n",
    "        \n",
    "        target = -1 * nums[i] #reduce problem to twoSum\n",
    "        l, r = i+1, len(nums)-1\n",
    "        while l < r:\n",
    "            if nums[l]+nums[r] == target:\n",
    "                res.append([nums[i],nums[l],nums[r]])\n",
    "                l +=1\n",
    "                while l<r and nums[l] == nums[l-1]: #handle duplicates\n",
    "                    l +=1\n",
    "            elif nums[l]+nums[r] < target:\n",
    "                l += 1\n",
    "            else:\n",
    "                r -= 1\n",
    "    return res"
   ]
  },
  {
   "cell_type": "code",
   "execution_count": 12,
   "metadata": {},
   "outputs": [
    {
     "data": {
      "text/plain": [
       "[[-6, 2, 4], [-6, 3, 3]]"
      ]
     },
     "execution_count": 12,
     "metadata": {},
     "output_type": "execute_result"
    }
   ],
   "source": [
    "threeSum([3,2,3,3,4,-3,-2,-6,-6])"
   ]
  },
  {
   "cell_type": "code",
   "execution_count": 13,
   "metadata": {},
   "outputs": [
    {
     "data": {
      "text/plain": [
       "[]"
      ]
     },
     "execution_count": 13,
     "metadata": {},
     "output_type": "execute_result"
    }
   ],
   "source": [
    "threeSum([3,2,3,3,4])"
   ]
  },
  {
   "cell_type": "markdown",
   "metadata": {},
   "source": [
    "## Set matrix zero"
   ]
  },
  {
   "cell_type": "code",
   "execution_count": null,
   "metadata": {},
   "outputs": [],
   "source": [
    "def setMatrixZero(matrix):\n",
    "    M,N = len(matrix), len(matrix[0])\n",
    "    queue = collections.deque()\n",
    "    for row in range(M):\n",
    "        for col in range(N):\n",
    "            if matrix[row][col] == 0:\n",
    "                queue.append([row,col])\n",
    "    while queue:\n",
    "        row,col = queue.popleft()\n",
    "        matrix[row] = [0] * N\n",
    "        for i in range(M):\n",
    "            matrix[i][col] = 0\n",
    "    return matrix"
   ]
  },
  {
   "cell_type": "markdown",
   "metadata": {},
   "source": [
    "## Group Anagrams"
   ]
  },
  {
   "cell_type": "markdown",
   "metadata": {},
   "source": [
    "Given an array of strings strs, group the anagrams together. You can return the answer in any order.\n",
    "\n",
    "An Anagram is a word or phrase formed by rearranging the letters of a different word or phrase, typically using all the original letters exactly once.\n",
    "\n",
    " \n",
    "\n",
    "Example 1:\n",
    "\n",
    "Input: strs = [\"eat\",\"tea\",\"tan\",\"ate\",\"nat\",\"bat\"]\n",
    "\n",
    "Output: [[\"bat\"],[\"nat\",\"tan\"],[\"ate\",\"eat\",\"tea\"]]\n",
    "\n",
    "Example 2:\n",
    "\n",
    "Input: strs = [\"\"]\n",
    "\n",
    "Output: [[\"\"]]\n",
    "\n",
    "Example 3:\n",
    "\n",
    "Input: strs = [\"a\"]\n",
    "\n",
    "Output: [[\"a\"]]"
   ]
  },
  {
   "cell_type": "markdown",
   "metadata": {},
   "source": [
    "### Solution1: dict + sorted"
   ]
  },
  {
   "cell_type": "code",
   "execution_count": 21,
   "metadata": {},
   "outputs": [],
   "source": [
    "from collections import defaultdict\n",
    "def groupAnagrams(l):\n",
    "    res = dict()\n",
    "    for word in l:\n",
    "        ana = ''.join(sorted(word))\n",
    "        if ana not in res:\n",
    "            res[ana] = [word]\n",
    "        else:\n",
    "            res[ana].append(word)\n",
    "    return res.values()"
   ]
  },
  {
   "cell_type": "code",
   "execution_count": 22,
   "metadata": {},
   "outputs": [
    {
     "data": {
      "text/plain": [
       "dict_values([['eat', 'tea', 'ate'], ['tan', 'nat'], ['bat']])"
      ]
     },
     "execution_count": 22,
     "metadata": {},
     "output_type": "execute_result"
    }
   ],
   "source": [
    "groupAnagrams([\"eat\",\"tea\",\"tan\",\"ate\",\"nat\",\"bat\"])"
   ]
  },
  {
   "cell_type": "markdown",
   "metadata": {},
   "source": [
    "## Longest Substring Without Repeating Characters\n"
   ]
  },
  {
   "cell_type": "markdown",
   "metadata": {},
   "source": [
    "Given a string s, find the length of the longest substring without repeating characters.\n",
    "\n",
    " \n",
    "\n",
    "Example 1:\n",
    "\n",
    "Input: s = \"abcabcbb\"\n",
    "\n",
    "Output: 3\n",
    "\n",
    "Explanation: The answer is \"abc\", with the length of 3.\n",
    "\n",
    "Example 2:\n",
    "\n",
    "Input: s = \"bbbbb\"\n",
    "\n",
    "Output: 1\n",
    "\n",
    "Explanation: The answer is \"b\", with the length of 1.\n",
    "\n",
    "Example 3:\n",
    "\n",
    "Input: s = \"pwwkew\"\n",
    "\n",
    "Output: 3\n",
    "\n",
    "Explanation: The answer is \"wke\", with the length of 3.\n",
    "\n",
    "Notice that the answer must be a substring, \"pwke\" is a subsequence and not a substring.\n",
    "\n",
    "Example 4:\n",
    "\n",
    "Input: s = \"\"\n",
    "Output: 0"
   ]
  },
  {
   "cell_type": "code",
   "execution_count": 50,
   "metadata": {},
   "outputs": [],
   "source": [
    "def findLongestSubstring(s):\n",
    "    subCur = s[0]\n",
    "    res = []\n",
    "    for i in range(1,len(s)):\n",
    "        if s[i] not in subCur:\n",
    "            subCur +=s[i]\n",
    "        else:\n",
    "            res.append(subCur)\n",
    "            subCur = s[i]\n",
    "    #print(subCur)\n",
    "    return max(res,key=len)"
   ]
  },
  {
   "cell_type": "code",
   "execution_count": 51,
   "metadata": {},
   "outputs": [
    {
     "data": {
      "text/plain": [
       "'wke'"
      ]
     },
     "execution_count": 51,
     "metadata": {},
     "output_type": "execute_result"
    }
   ],
   "source": [
    "findLongestSubstring(\"pwwkew\")"
   ]
  },
  {
   "cell_type": "markdown",
   "metadata": {},
   "source": [
    "## Longest Palindromic Substring\n"
   ]
  },
  {
   "cell_type": "markdown",
   "metadata": {},
   "source": [
    "Given a string s, find the longest palindromic substring in s. You may assume that the maximum length of s is 1000.\n",
    "\n",
    "Example 1:\n",
    "\n",
    "Input: \"babad\"\n",
    "\n",
    "Output: \"bab\"\n",
    "\n",
    "Note: \"aba\" is also a valid answer.\n",
    "\n",
    "Example 2:\n",
    "\n",
    "Input: \"cbbd\"\n",
    "\n",
    "Output: \"bb\""
   ]
  },
  {
   "cell_type": "code",
   "execution_count": 55,
   "metadata": {},
   "outputs": [],
   "source": [
    "def findPalindrome(s,l,r):\n",
    "    while l>0 and r<len(s) and s[l]==s[r]: #start from the middle\n",
    "        l-=1\n",
    "        r+=1\n",
    "    return s[l+1:r]\n",
    "\n",
    "def findPalindromicSubstring(s):\n",
    "    substr = ''\n",
    "    for i in range(len(s)):\n",
    "        even = findPalindrome(s,i,i) #'aba'\n",
    "        odd = findPalindrome(s,i,i+1) #'abba'\n",
    "        substr = max([substr,even,odd],key=len)\n",
    "    #print(subCur)\n",
    "    return substr\n",
    "\n"
   ]
  },
  {
   "cell_type": "code",
   "execution_count": 56,
   "metadata": {},
   "outputs": [
    {
     "data": {
      "text/plain": [
       "'wkw'"
      ]
     },
     "execution_count": 56,
     "metadata": {},
     "output_type": "execute_result"
    }
   ],
   "source": [
    "findPalindromicSubstring(\"pwwkwew\")"
   ]
  },
  {
   "cell_type": "markdown",
   "metadata": {},
   "source": [
    "## Increasing Triplet Subsequence"
   ]
  },
  {
   "cell_type": "markdown",
   "metadata": {},
   "source": [
    "Given an unsorted array return whether an increasing subsequence of length 3 exists or not in the array.\n",
    "\n",
    "Formally the function should:\n",
    "\n",
    "Return true if there exists i, j, k\n",
    "such that arr[i] < arr[j] < arr[k] given 0 ≤ i < j < k ≤ n-1 else return false.\n",
    "Note: Your algorithm should run in O(n) time complexity and O(1) space complexity.\n",
    "\n",
    "Example 1:\n",
    "\n",
    "Input: [1,2,3,4,5]\n",
    "\n",
    "Output: true\n",
    "\n",
    "Example 2:\n",
    "\n",
    "Input: [5,4,3,2,1]\n",
    "\n",
    "Output: false"
   ]
  },
  {
   "cell_type": "markdown",
   "metadata": {},
   "source": [
    "### Solution1: two thresholds"
   ]
  },
  {
   "cell_type": "code",
   "execution_count": 1,
   "metadata": {},
   "outputs": [],
   "source": [
    "def findIncreasingTriplet(nums):\n",
    "    threshold1 = threshold2 = float('inf')\n",
    "    for num in nums:\n",
    "        if num<=threshold1:\n",
    "            threshold1 = num\n",
    "        elif num<=threshold2:\n",
    "            threshold2 = num\n",
    "        else:\n",
    "            return True\n",
    "    return False"
   ]
  },
  {
   "cell_type": "code",
   "execution_count": 2,
   "metadata": {},
   "outputs": [
    {
     "data": {
      "text/plain": [
       "False"
      ]
     },
     "execution_count": 2,
     "metadata": {},
     "output_type": "execute_result"
    }
   ],
   "source": [
    "findIncreasingTriplet([5,4,3,2,1])"
   ]
  },
  {
   "cell_type": "code",
   "execution_count": 4,
   "metadata": {},
   "outputs": [
    {
     "data": {
      "text/plain": [
       "False"
      ]
     },
     "execution_count": 4,
     "metadata": {},
     "output_type": "execute_result"
    }
   ],
   "source": [
    "findIncreasingTriplet([5,1,2,0])"
   ]
  },
  {
   "cell_type": "markdown",
   "metadata": {},
   "source": [
    "## Median of two sorted array"
   ]
  },
  {
   "cell_type": "markdown",
   "metadata": {},
   "source": [
    "### Solution1: Merge two sorted array, then find median"
   ]
  },
  {
   "cell_type": "code",
   "execution_count": 6,
   "metadata": {},
   "outputs": [],
   "source": [
    "def findMedian(nums1,nums2):\n",
    "    m = len(nums1)\n",
    "    n = len(nums2)\n",
    "    nums1.extend(nums2)\n",
    "    while m>0 and n>0:\n",
    "        if nums1[m-1]>=nums2[n-1]:\n",
    "            nums1[m+n-1] = nums1[m-1]\n",
    "            m-=1\n",
    "        else:\n",
    "            nums1[m+n-1] = nums2[n-1]\n",
    "            n-=1\n",
    "    if n>0:\n",
    "        nums1[0:n] = nums2[0:n]\n",
    "    print(nums1)\n",
    "    if len(nums1)%2==1:\n",
    "        return nums1[len(nums1)//2]\n",
    "    else:\n",
    "        return (nums1[len(nums1)//2]+nums1[len(nums1)//2-1])/2"
   ]
  },
  {
   "cell_type": "code",
   "execution_count": 7,
   "metadata": {},
   "outputs": [
    {
     "name": "stdout",
     "output_type": "stream",
     "text": [
      "[1, 2, 3, 4, 5, 9]\n"
     ]
    },
    {
     "data": {
      "text/plain": [
       "3.5"
      ]
     },
     "execution_count": 7,
     "metadata": {},
     "output_type": "execute_result"
    }
   ],
   "source": [
    "findMedian([1,2,3],[4,5,9])"
   ]
  },
  {
   "cell_type": "code",
   "execution_count": 8,
   "metadata": {},
   "outputs": [
    {
     "name": "stdout",
     "output_type": "stream",
     "text": [
      "[1, 2, 3, 4, 5, 9]\n"
     ]
    },
    {
     "data": {
      "text/plain": [
       "3.5"
      ]
     },
     "execution_count": 8,
     "metadata": {},
     "output_type": "execute_result"
    }
   ],
   "source": [
    "findMedian([4,5,9],[1,2,3])"
   ]
  },
  {
   "cell_type": "code",
   "execution_count": null,
   "metadata": {},
   "outputs": [],
   "source": []
  }
 ],
 "metadata": {
  "kernelspec": {
   "display_name": "Python 3",
   "language": "python",
   "name": "python3"
  },
  "language_info": {
   "codemirror_mode": {
    "name": "ipython",
    "version": 3
   },
   "file_extension": ".py",
   "mimetype": "text/x-python",
   "name": "python",
   "nbconvert_exporter": "python",
   "pygments_lexer": "ipython3",
   "version": "3.6.8"
  },
  "toc": {
   "base_numbering": 1,
   "nav_menu": {},
   "number_sections": true,
   "sideBar": true,
   "skip_h1_title": false,
   "title_cell": "Table of Contents",
   "title_sidebar": "Contents",
   "toc_cell": true,
   "toc_position": {},
   "toc_section_display": true,
   "toc_window_display": true
  }
 },
 "nbformat": 4,
 "nbformat_minor": 2
}
