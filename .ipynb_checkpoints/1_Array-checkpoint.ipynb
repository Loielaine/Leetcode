{
 "cells": [
  {
   "cell_type": "markdown",
   "metadata": {
    "toc": true
   },
   "source": [
    "<h1>Table of Contents<span class=\"tocSkip\"></span></h1>\n",
    "<div class=\"toc\"><ul class=\"toc-item\"><li><span><a href=\"#Easy\" data-toc-modified-id=\"Easy-1\"><span class=\"toc-item-num\">1&nbsp;&nbsp;</span>Easy</a></span><ul class=\"toc-item\"><li><span><a href=\"#Remove-Duplicates-from-Sorted-Array\" data-toc-modified-id=\"Remove-Duplicates-from-Sorted-Array-1.1\"><span class=\"toc-item-num\">1.1&nbsp;&nbsp;</span>Remove Duplicates from Sorted Array</a></span><ul class=\"toc-item\"><li><span><a href=\"#Solution1:-Two-pointer-(usual-method-when-array-is-sorted)\" data-toc-modified-id=\"Solution1:-Two-pointer-(usual-method-when-array-is-sorted)-1.1.1\"><span class=\"toc-item-num\">1.1.1&nbsp;&nbsp;</span>Solution1: Two pointer (usual method when array is sorted)</a></span></li></ul></li><li><span><a href=\"#Best-Time-to-Buy-and-Sell-Stock-II\" data-toc-modified-id=\"Best-Time-to-Buy-and-Sell-Stock-II-1.2\"><span class=\"toc-item-num\">1.2&nbsp;&nbsp;</span>Best Time to Buy and Sell Stock II</a></span><ul class=\"toc-item\"><li><span><a href=\"#Solution1:-Largest-contigous-sum\" data-toc-modified-id=\"Solution1:-Largest-contigous-sum-1.2.1\"><span class=\"toc-item-num\">1.2.1&nbsp;&nbsp;</span>Solution1: Largest contigous sum</a></span></li></ul></li><li><span><a href=\"#Rotate-Array\" data-toc-modified-id=\"Rotate-Array-1.3\"><span class=\"toc-item-num\">1.3&nbsp;&nbsp;</span>Rotate Array</a></span><ul class=\"toc-item\"><li><span><a href=\"#Solution-1:-Swap-numbers\" data-toc-modified-id=\"Solution-1:-Swap-numbers-1.3.1\"><span class=\"toc-item-num\">1.3.1&nbsp;&nbsp;</span>Solution 1: Swap numbers</a></span></li><li><span><a href=\"#Solution2:-Cyclic-Replacements\" data-toc-modified-id=\"Solution2:-Cyclic-Replacements-1.3.2\"><span class=\"toc-item-num\">1.3.2&nbsp;&nbsp;</span>Solution2: Cyclic Replacements</a></span></li><li><span><a href=\"#Solution3:-Reverse\" data-toc-modified-id=\"Solution3:-Reverse-1.3.3\"><span class=\"toc-item-num\">1.3.3&nbsp;&nbsp;</span>Solution3: Reverse</a></span></li></ul></li><li><span><a href=\"#Contains-Duplicate\" data-toc-modified-id=\"Contains-Duplicate-1.4\"><span class=\"toc-item-num\">1.4&nbsp;&nbsp;</span>Contains Duplicate</a></span><ul class=\"toc-item\"><li><span><a href=\"#Solution1:-Set\" data-toc-modified-id=\"Solution1:-Set-1.4.1\"><span class=\"toc-item-num\">1.4.1&nbsp;&nbsp;</span>Solution1: Set</a></span></li><li><span><a href=\"#Solution2:-Dictionary/Hashmap\" data-toc-modified-id=\"Solution2:-Dictionary/Hashmap-1.4.2\"><span class=\"toc-item-num\">1.4.2&nbsp;&nbsp;</span>Solution2: Dictionary/Hashmap</a></span></li><li><span><a href=\"#Solution3:-Sort\" data-toc-modified-id=\"Solution3:-Sort-1.4.3\"><span class=\"toc-item-num\">1.4.3&nbsp;&nbsp;</span>Solution3: Sort</a></span></li></ul></li><li><span><a href=\"#Single-Number\" data-toc-modified-id=\"Single-Number-1.5\"><span class=\"toc-item-num\">1.5&nbsp;&nbsp;</span>Single Number</a></span><ul class=\"toc-item\"><li><span><a href=\"#Solution1:-Dictionary\" data-toc-modified-id=\"Solution1:-Dictionary-1.5.1\"><span class=\"toc-item-num\">1.5.1&nbsp;&nbsp;</span>Solution1: Dictionary</a></span></li><li><span><a href=\"#Solution2:-XOR\" data-toc-modified-id=\"Solution2:-XOR-1.5.2\"><span class=\"toc-item-num\">1.5.2&nbsp;&nbsp;</span>Solution2: XOR</a></span></li></ul></li><li><span><a href=\"#Intersection-of-Two-Arrays-II\" data-toc-modified-id=\"Intersection-of-Two-Arrays-II-1.6\"><span class=\"toc-item-num\">1.6&nbsp;&nbsp;</span>Intersection of Two Arrays II</a></span><ul class=\"toc-item\"><li><span><a href=\"#Solution1:-Sort-+-Two-pointer\" data-toc-modified-id=\"Solution1:-Sort-+-Two-pointer-1.6.1\"><span class=\"toc-item-num\">1.6.1&nbsp;&nbsp;</span>Solution1: Sort + Two pointer</a></span></li><li><span><a href=\"#Solution2:-Dictionary\" data-toc-modified-id=\"Solution2:-Dictionary-1.6.2\"><span class=\"toc-item-num\">1.6.2&nbsp;&nbsp;</span>Solution2: Dictionary</a></span></li></ul></li><li><span><a href=\"#Plus-One\" data-toc-modified-id=\"Plus-One-1.7\"><span class=\"toc-item-num\">1.7&nbsp;&nbsp;</span>Plus One</a></span><ul class=\"toc-item\"><li><span><a href=\"#Solution1:-Multiply-10**n\" data-toc-modified-id=\"Solution1:-Multiply-10**n-1.7.1\"><span class=\"toc-item-num\">1.7.1&nbsp;&nbsp;</span>Solution1: Multiply 10**n</a></span></li></ul></li><li><span><a href=\"#Move-Zeroes\" data-toc-modified-id=\"Move-Zeroes-1.8\"><span class=\"toc-item-num\">1.8&nbsp;&nbsp;</span>Move Zeroes</a></span><ul class=\"toc-item\"><li><span><a href=\"#Solution1:-Two-pointer-+-Swap-numbers\" data-toc-modified-id=\"Solution1:-Two-pointer-+-Swap-numbers-1.8.1\"><span class=\"toc-item-num\">1.8.1&nbsp;&nbsp;</span>Solution1: Two pointer + Swap numbers</a></span></li></ul></li><li><span><a href=\"#Two-Sum\" data-toc-modified-id=\"Two-Sum-1.9\"><span class=\"toc-item-num\">1.9&nbsp;&nbsp;</span>Two Sum</a></span><ul class=\"toc-item\"><li><span><a href=\"#Solution1:-Dictionary\" data-toc-modified-id=\"Solution1:-Dictionary-1.9.1\"><span class=\"toc-item-num\">1.9.1&nbsp;&nbsp;</span>Solution1: Dictionary</a></span></li><li><span><a href=\"#Solution2:-Sort-+-Two-pointer\" data-toc-modified-id=\"Solution2:-Sort-+-Two-pointer-1.9.2\"><span class=\"toc-item-num\">1.9.2&nbsp;&nbsp;</span>Solution2: Sort + Two pointer</a></span></li><li><span><a href=\"#Solution2:-Sort-+-Two-pointer(handle-duplicates,-multiple-solutions)\" data-toc-modified-id=\"Solution2:-Sort-+-Two-pointer(handle-duplicates,-multiple-solutions)-1.9.3\"><span class=\"toc-item-num\">1.9.3&nbsp;&nbsp;</span>Solution2: Sort + Two pointer(handle duplicates, multiple solutions)</a></span></li></ul></li><li><span><a href=\"#Valid-Sudoku\" data-toc-modified-id=\"Valid-Sudoku-1.10\"><span class=\"toc-item-num\">1.10&nbsp;&nbsp;</span>Valid Sudoku</a></span><ul class=\"toc-item\"><li><span><a href=\"#Solution1\" data-toc-modified-id=\"Solution1-1.10.1\"><span class=\"toc-item-num\">1.10.1&nbsp;&nbsp;</span>Solution1</a></span></li></ul></li><li><span><a href=\"#Rotate-Image\" data-toc-modified-id=\"Rotate-Image-1.11\"><span class=\"toc-item-num\">1.11&nbsp;&nbsp;</span>Rotate Image</a></span><ul class=\"toc-item\"><li><span><a href=\"#Solution1:-Transpose-matrix-and-reverse-each-row\" data-toc-modified-id=\"Solution1:-Transpose-matrix-and-reverse-each-row-1.11.1\"><span class=\"toc-item-num\">1.11.1&nbsp;&nbsp;</span>Solution1: Transpose matrix and reverse each row</a></span></li></ul></li></ul></li><li><span><a href=\"#Medium\" data-toc-modified-id=\"Medium-2\"><span class=\"toc-item-num\">2&nbsp;&nbsp;</span>Medium</a></span><ul class=\"toc-item\"><li><span><a href=\"#Three-sum\" data-toc-modified-id=\"Three-sum-2.1\"><span class=\"toc-item-num\">2.1&nbsp;&nbsp;</span>Three sum</a></span><ul class=\"toc-item\"><li><span><a href=\"#Solution1:-Sort-+-Two-pointer(handle-duplicates,-multiple-solutions)\" data-toc-modified-id=\"Solution1:-Sort-+-Two-pointer(handle-duplicates,-multiple-solutions)-2.1.1\"><span class=\"toc-item-num\">2.1.1&nbsp;&nbsp;</span>Solution1: Sort + Two pointer(handle duplicates, multiple solutions)</a></span></li></ul></li><li><span><a href=\"#Set-matrix-zero\" data-toc-modified-id=\"Set-matrix-zero-2.2\"><span class=\"toc-item-num\">2.2&nbsp;&nbsp;</span>Set matrix zero</a></span></li><li><span><a href=\"#Group-Anagrams\" data-toc-modified-id=\"Group-Anagrams-2.3\"><span class=\"toc-item-num\">2.3&nbsp;&nbsp;</span>Group Anagrams</a></span><ul class=\"toc-item\"><li><span><a href=\"#Solution1:-dict-+-sorted\" data-toc-modified-id=\"Solution1:-dict-+-sorted-2.3.1\"><span class=\"toc-item-num\">2.3.1&nbsp;&nbsp;</span>Solution1: dict + sorted</a></span></li></ul></li><li><span><a href=\"#Longest-Substring-Without-Repeating-Characters\" data-toc-modified-id=\"Longest-Substring-Without-Repeating-Characters-2.4\"><span class=\"toc-item-num\">2.4&nbsp;&nbsp;</span>Longest Substring Without Repeating Characters</a></span></li><li><span><a href=\"#Longest-Palindromic-Substring\" data-toc-modified-id=\"Longest-Palindromic-Substring-2.5\"><span class=\"toc-item-num\">2.5&nbsp;&nbsp;</span>Longest Palindromic Substring</a></span></li><li><span><a href=\"#Increasing-Triplet-Subsequence\" data-toc-modified-id=\"Increasing-Triplet-Subsequence-2.6\"><span class=\"toc-item-num\">2.6&nbsp;&nbsp;</span>Increasing Triplet Subsequence</a></span><ul class=\"toc-item\"><li><span><a href=\"#Solution1:-two-thresholds\" data-toc-modified-id=\"Solution1:-two-thresholds-2.6.1\"><span class=\"toc-item-num\">2.6.1&nbsp;&nbsp;</span>Solution1: two thresholds</a></span></li></ul></li></ul></li><li><span><a href=\"#Hard\" data-toc-modified-id=\"Hard-3\"><span class=\"toc-item-num\">3&nbsp;&nbsp;</span>Hard</a></span><ul class=\"toc-item\"><li><span><a href=\"#Product-of-Array-Except-Self\" data-toc-modified-id=\"Product-of-Array-Except-Self-3.1\"><span class=\"toc-item-num\">3.1&nbsp;&nbsp;</span>Product of Array Except Self</a></span><ul class=\"toc-item\"><li><span><a href=\"#Solution:-two-round-solution\" data-toc-modified-id=\"Solution:-two-round-solution-3.1.1\"><span class=\"toc-item-num\">3.1.1&nbsp;&nbsp;</span>Solution: two-round solution</a></span></li></ul></li><li><span><a href=\"#Spiral-Matrix\" data-toc-modified-id=\"Spiral-Matrix-3.2\"><span class=\"toc-item-num\">3.2&nbsp;&nbsp;</span>Spiral Matrix</a></span><ul class=\"toc-item\"><li><span><a href=\"#Solution:-pop-row/columns-(would-modify-the-matrix)\" data-toc-modified-id=\"Solution:-pop-row/columns-(would-modify-the-matrix)-3.2.1\"><span class=\"toc-item-num\">3.2.1&nbsp;&nbsp;</span>Solution: pop row/columns (would modify the matrix)</a></span></li></ul></li><li><span><a href=\"#4Sum\" data-toc-modified-id=\"4Sum-3.3\"><span class=\"toc-item-num\">3.3&nbsp;&nbsp;</span>4Sum</a></span><ul class=\"toc-item\"><li><span><a href=\"#Solution1:-Backtrack-(reduce-to-2Sum)\" data-toc-modified-id=\"Solution1:-Backtrack-(reduce-to-2Sum)-3.3.1\"><span class=\"toc-item-num\">3.3.1&nbsp;&nbsp;</span>Solution1: Backtrack (reduce to 2Sum)</a></span></li><li><span><a href=\"#Solution2:-Backtrack-(Combination-Sum)\" data-toc-modified-id=\"Solution2:-Backtrack-(Combination-Sum)-3.3.2\"><span class=\"toc-item-num\">3.3.2&nbsp;&nbsp;</span>Solution2: Backtrack (Combination Sum)</a></span></li></ul></li><li><span><a href=\"#4Sum-II\" data-toc-modified-id=\"4Sum-II-3.4\"><span class=\"toc-item-num\">3.4&nbsp;&nbsp;</span>4Sum II</a></span><ul class=\"toc-item\"><li><span><a href=\"#Solution1:-count\" data-toc-modified-id=\"Solution1:-count-3.4.1\"><span class=\"toc-item-num\">3.4.1&nbsp;&nbsp;</span>Solution1: count</a></span></li></ul></li><li><span><a href=\"#Game-of-life\" data-toc-modified-id=\"Game-of-life-3.5\"><span class=\"toc-item-num\">3.5&nbsp;&nbsp;</span>Game of life</a></span><ul class=\"toc-item\"><li><span><a href=\"#Solution\" data-toc-modified-id=\"Solution-3.5.1\"><span class=\"toc-item-num\">3.5.1&nbsp;&nbsp;</span>Solution</a></span></li></ul></li><li><span><a href=\"#Container-With-Most-Water\" data-toc-modified-id=\"Container-With-Most-Water-3.6\"><span class=\"toc-item-num\">3.6&nbsp;&nbsp;</span>Container With Most Water</a></span></li><li><span><a href=\"#Trapping-Rain-Water\" data-toc-modified-id=\"Trapping-Rain-Water-3.7\"><span class=\"toc-item-num\">3.7&nbsp;&nbsp;</span>Trapping Rain Water</a></span></li><li><span><a href=\"#The-Skyline-Problem\" data-toc-modified-id=\"The-Skyline-Problem-3.8\"><span class=\"toc-item-num\">3.8&nbsp;&nbsp;</span>The Skyline Problem</a></span><ul class=\"toc-item\"><li><span><a href=\"#Solution\" data-toc-modified-id=\"Solution-3.8.1\"><span class=\"toc-item-num\">3.8.1&nbsp;&nbsp;</span>Solution</a></span></li></ul></li><li><span><a href=\"#Largest-Rectangle-in-Histogram\" data-toc-modified-id=\"Largest-Rectangle-in-Histogram-3.9\"><span class=\"toc-item-num\">3.9&nbsp;&nbsp;</span>Largest Rectangle in Histogram</a></span></li><li><span><a href=\"#Longest-Consecutive-Sequence\" data-toc-modified-id=\"Longest-Consecutive-Sequence-3.10\"><span class=\"toc-item-num\">3.10&nbsp;&nbsp;</span>Longest Consecutive Sequence</a></span></li><li><span><a href=\"#First-Missing-Number\" data-toc-modified-id=\"First-Missing-Number-3.11\"><span class=\"toc-item-num\">3.11&nbsp;&nbsp;</span>First Missing Number</a></span><ul class=\"toc-item\"><li><span><a href=\"#Solution:-Use-index-to-rearragne-numbers\" data-toc-modified-id=\"Solution:-Use-index-to-rearragne-numbers-3.11.1\"><span class=\"toc-item-num\">3.11.1&nbsp;&nbsp;</span>Solution: Use index to rearragne numbers</a></span></li></ul></li><li><span><a href=\"#Find-the-Duplicate-Number\" data-toc-modified-id=\"Find-the-Duplicate-Number-3.12\"><span class=\"toc-item-num\">3.12&nbsp;&nbsp;</span>Find the Duplicate Number</a></span><ul class=\"toc-item\"><li><span><a href=\"#Solution:-Linked-List-Cycle\" data-toc-modified-id=\"Solution:-Linked-List-Cycle-3.12.1\"><span class=\"toc-item-num\">3.12.1&nbsp;&nbsp;</span>Solution: Linked List Cycle</a></span></li><li><span><a href=\"#Solution:-Binary-Search\" data-toc-modified-id=\"Solution:-Binary-Search-3.12.2\"><span class=\"toc-item-num\">3.12.2&nbsp;&nbsp;</span>Solution: Binary Search</a></span></li></ul></li><li><span><a href=\"#Find-All-Duplicates-in-an-Array\" data-toc-modified-id=\"Find-All-Duplicates-in-an-Array-3.13\"><span class=\"toc-item-num\">3.13&nbsp;&nbsp;</span>Find All Duplicates in an Array</a></span><ul class=\"toc-item\"><li><span><a href=\"#Solution:-Use-index-to-rearragne-numbers\" data-toc-modified-id=\"Solution:-Use-index-to-rearragne-numbers-3.13.1\"><span class=\"toc-item-num\">3.13.1&nbsp;&nbsp;</span>Solution: Use index to rearragne numbers</a></span></li></ul></li><li><span><a href=\"#Sliding-Window-Maximum\" data-toc-modified-id=\"Sliding-Window-Maximum-3.14\"><span class=\"toc-item-num\">3.14&nbsp;&nbsp;</span>Sliding Window Maximum</a></span><ul class=\"toc-item\"><li><span><a href=\"#Solution\" data-toc-modified-id=\"Solution-3.14.1\"><span class=\"toc-item-num\">3.14.1&nbsp;&nbsp;</span>Solution</a></span></li></ul></li><li><span><a href=\"#Minimum-Window-Substring\" data-toc-modified-id=\"Minimum-Window-Substring-3.15\"><span class=\"toc-item-num\">3.15&nbsp;&nbsp;</span>Minimum Window Substring</a></span><ul class=\"toc-item\"><li><span><a href=\"#Solution:-See-String\" data-toc-modified-id=\"Solution:-See-String-3.15.1\"><span class=\"toc-item-num\">3.15.1&nbsp;&nbsp;</span>Solution: See String</a></span></li></ul></li><li><span><a href=\"#Basic-Calculator-II\" data-toc-modified-id=\"Basic-Calculator-II-3.16\"><span class=\"toc-item-num\">3.16&nbsp;&nbsp;</span>Basic Calculator II</a></span></li></ul></li></ul></div>"
   ]
  },
  {
   "cell_type": "markdown",
   "metadata": {},
   "source": [
    "link: https://leetcode.com/explore/interview/card/top-interview-questions-easy/"
   ]
  },
  {
   "cell_type": "markdown",
   "metadata": {},
   "source": [
    "# Easy"
   ]
  },
  {
   "cell_type": "markdown",
   "metadata": {},
   "source": [
    "## Remove Duplicates from Sorted Array"
   ]
  },
  {
   "cell_type": "markdown",
   "metadata": {},
   "source": [
    "https://leetcode.com/problems/remove-duplicates-from-sorted-array/"
   ]
  },
  {
   "cell_type": "markdown",
   "metadata": {},
   "source": [
    "Given a sorted array nums, remove the duplicates in-place such that each element appear only once and return the new length.\n",
    "\n",
    "Do not allocate extra space for another array, you must do this by modifying the input array in-place with O(1) extra memory."
   ]
  },
  {
   "cell_type": "markdown",
   "metadata": {},
   "source": [
    "Given nums = [1,1,2],\n",
    "\n",
    "Your function should return length = 2, with the first two elements of nums being 1 and 2 respectively.\n",
    "\n",
    "It doesn't matter what you leave beyond the returned length."
   ]
  },
  {
   "cell_type": "markdown",
   "metadata": {},
   "source": [
    "### Solution1: Two pointer (usual method when array is sorted)"
   ]
  },
  {
   "cell_type": "code",
   "execution_count": 4,
   "metadata": {},
   "outputs": [],
   "source": [
    "def removeDuplicates(nums) -> int:\n",
    "    if not nums: return 0\n",
    "    slow = 0\n",
    "    # slow starts from 0\n",
    "    # fast starts from 1\n",
    "    for fast in range(1,len(nums)):\n",
    "        if nums[slow] != nums[fast]:\n",
    "            # only add 1 to slow when nums[slow] != nums[fast]\n",
    "            slow += 1\n",
    "            # copy fast to slow\n",
    "            nums[slow], nums[fast] = nums[fast], nums[slow]\n",
    "    print(nums)\n",
    "    return slow+1"
   ]
  },
  {
   "cell_type": "code",
   "execution_count": 5,
   "metadata": {},
   "outputs": [
    {
     "name": "stdout",
     "output_type": "stream",
     "text": [
      "[0, 1, 2, 3, 4, 0, 2, 1, 3, 1]\n",
      "5\n"
     ]
    }
   ],
   "source": [
    "print(removeDuplicates([0,0,1,1,1,2,2,3,3,4]))"
   ]
  },
  {
   "cell_type": "markdown",
   "metadata": {},
   "source": [
    "## Best Time to Buy and Sell Stock II"
   ]
  },
  {
   "cell_type": "markdown",
   "metadata": {},
   "source": [
    "https://leetcode.com/problems/best-time-to-buy-and-sell-stock-ii/"
   ]
  },
  {
   "cell_type": "markdown",
   "metadata": {},
   "source": [
    "Say you have an array prices for which the ith element is the price of a given stock on day i.\n",
    "\n",
    "Design an algorithm to find the maximum profit. You may complete as many transactions as you like (i.e., buy one and sell one share of the stock multiple times).\n",
    "\n",
    "Note: You may not engage in multiple transactions at the same time (i.e., you must sell the stock before you buy again)."
   ]
  },
  {
   "cell_type": "markdown",
   "metadata": {},
   "source": [
    "Input: [7,1,5,3,6,4]\n",
    "\n",
    "Output: 7\n",
    "\n",
    "Explanation: Buy on day 2 (price = 1) and sell on day 3 (price = 5), profit = 5-1 = 4.\n",
    "             Then buy on day 4 (price = 3) and sell on day 5 (price = 6), profit = 6-3 = 3.\n",
    "        \n",
    "Input: [1,2,3,4,5]\n",
    "\n",
    "Output: 4\n",
    "\n",
    "Explanation: Buy on day 1 (price = 1) and sell on day 5 (price = 5), profit = 5-1 = 4.\n",
    "             Note that you cannot buy on day 1, buy on day 2 and sell them later, as you are\n",
    "             engaging multiple transactions at the same time. You must sell before buying again.\n",
    "\n",
    "Input: [7,6,4,3,1]\n",
    "\n",
    "Output: 0\n",
    "\n",
    "Explanation: In this case, no transaction is done, i.e. max profit = 0."
   ]
  },
  {
   "cell_type": "markdown",
   "metadata": {},
   "source": [
    "### Solution1: Largest contigous sum"
   ]
  },
  {
   "cell_type": "markdown",
   "metadata": {},
   "source": [
    "The problem is to find max(Prices[Y] - Prices[X]) which is equivalent to finding the largest sum of contiguous D's.\n",
    "\n",
    "To illustrate, if D[Y+1] is positive, it means Prices[Y+1] > Prices[Y], which implies I should sell at Prices[Y+1] instead of Prices[Y]. Basically it means I just add D[Y+1] to D[Y] + ... + D[X+1].\n",
    "\n",
    "Note that there could be a negative or zero D in the best running sequence. It doesn't matter so long the sum of the sequence is the largest.\n",
    "\n",
    "Now we are allowed unlimited transactions. So if there is a negative D, we could just break the sequence into 2, that is, into 2 transactions so as to avoid the negative element."
   ]
  },
  {
   "cell_type": "code",
   "execution_count": 1,
   "metadata": {},
   "outputs": [],
   "source": [
    "def maxProfit(prices):\n",
    "    profit = 0\n",
    "    for i in range(0,len(prices)-1):\n",
    "        profit += max(0,prices[i+1]-prices[i])\n",
    "    return profit"
   ]
  },
  {
   "cell_type": "code",
   "execution_count": 2,
   "metadata": {},
   "outputs": [
    {
     "name": "stdout",
     "output_type": "stream",
     "text": [
      "7\n"
     ]
    }
   ],
   "source": [
    "print(maxProfit([7,1,5,3,6,4]))"
   ]
  },
  {
   "cell_type": "code",
   "execution_count": 26,
   "metadata": {},
   "outputs": [
    {
     "name": "stdout",
     "output_type": "stream",
     "text": [
      "4\n"
     ]
    }
   ],
   "source": [
    "print(maxProfit([1,2,3,4,5]))"
   ]
  },
  {
   "cell_type": "code",
   "execution_count": 27,
   "metadata": {},
   "outputs": [
    {
     "name": "stdout",
     "output_type": "stream",
     "text": [
      "0\n"
     ]
    }
   ],
   "source": [
    "print(maxProfit([7,6,4,3,1]))"
   ]
  },
  {
   "cell_type": "markdown",
   "metadata": {},
   "source": [
    "## Rotate Array"
   ]
  },
  {
   "cell_type": "markdown",
   "metadata": {},
   "source": [
    "Given an array, rotate the array to the right by k steps, where k is non-negative.\n",
    "\n",
    "Follow up:\n",
    "\n",
    "Try to come up as many solutions as you can, there are at least 3 different ways to solve this problem.\n",
    "Could you do it in-place with O(1) extra space?"
   ]
  },
  {
   "cell_type": "markdown",
   "metadata": {},
   "source": [
    "Input: nums = [1,2,3,4,5,6,7], k = 3\n",
    "Output: [5,6,7,1,2,3,4]\n",
    "Explanation:\n",
    "rotate 1 steps to the right: [7,1,2,3,4,5,6]\n",
    "rotate 2 steps to the right: [6,7,1,2,3,4,5]\n",
    "rotate 3 steps to the right: [5,6,7,1,2,3,4]"
   ]
  },
  {
   "cell_type": "markdown",
   "metadata": {},
   "source": [
    "### Solution 1: Swap numbers"
   ]
  },
  {
   "cell_type": "code",
   "execution_count": 31,
   "metadata": {},
   "outputs": [],
   "source": [
    "def rotateArray(nums,k):\n",
    "    for _ in range(k):\n",
    "        previous = nums[-1] #initiate a first previous \n",
    "        for i in range(len(nums)):\n",
    "            temp = nums[i]\n",
    "            nums[i] = previous\n",
    "            previous = temp\n",
    "            print(nums)\n",
    "        \n",
    "    return nums"
   ]
  },
  {
   "cell_type": "code",
   "execution_count": 32,
   "metadata": {},
   "outputs": [
    {
     "name": "stdout",
     "output_type": "stream",
     "text": [
      "[7, 2, 3, 4, 5, 6, 7]\n",
      "[7, 1, 3, 4, 5, 6, 7]\n",
      "[7, 1, 2, 4, 5, 6, 7]\n",
      "[7, 1, 2, 3, 5, 6, 7]\n",
      "[7, 1, 2, 3, 4, 6, 7]\n",
      "[7, 1, 2, 3, 4, 5, 7]\n",
      "[7, 1, 2, 3, 4, 5, 6]\n"
     ]
    },
    {
     "data": {
      "text/plain": [
       "[7, 1, 2, 3, 4, 5, 6]"
      ]
     },
     "execution_count": 32,
     "metadata": {},
     "output_type": "execute_result"
    }
   ],
   "source": [
    "rotateArray(nums = [1,2,3,4,5,6,7], k = 1)"
   ]
  },
  {
   "cell_type": "code",
   "execution_count": 68,
   "metadata": {},
   "outputs": [],
   "source": [
    "def rotateArray(nums,k):\n",
    "    for _ in range(k):\n",
    "        last = nums[-1] \n",
    "        nums[1:len(nums)] = nums[0:(len(nums)-1)]\n",
    "        nums[0] = last\n",
    "    return nums"
   ]
  },
  {
   "cell_type": "code",
   "execution_count": 67,
   "metadata": {},
   "outputs": [
    {
     "data": {
      "text/plain": [
       "[5, 6, 7, 1, 2, 3, 4]"
      ]
     },
     "execution_count": 67,
     "metadata": {},
     "output_type": "execute_result"
    }
   ],
   "source": [
    "rotateArray(nums = [1,2,3,4,5,6,7], k = 3)"
   ]
  },
  {
   "cell_type": "markdown",
   "metadata": {},
   "source": [
    "### Solution2: Cyclic Replacements"
   ]
  },
  {
   "cell_type": "markdown",
   "metadata": {},
   "source": [
    "??? don't understand "
   ]
  },
  {
   "cell_type": "markdown",
   "metadata": {},
   "source": [
    "### Solution3: Reverse"
   ]
  },
  {
   "cell_type": "markdown",
   "metadata": {},
   "source": [
    "This approach is based on the fact that when we rotate the array k times, k%nk elements from the back end of the array come to the front and the rest of the elements from the front shift backwards.\n",
    "\n",
    "In this approach, we firstly reverse all the elements of the array. Then, reversing the first k elements followed by reversing the rest n-kn−kelements gives us the required result.\n",
    "\n",
    "Original List                   : 1 2 3 4 5 6 7\n",
    "\n",
    "After reversing all numbers     : 7 6 5 4 3 2 1\n",
    "\n",
    "After reversing first k numbers : 5 6 7 4 3 2 1\n",
    "\n",
    "After revering last n-k numbers : 5 6 7 1 2 3 4 --> Result"
   ]
  },
  {
   "cell_type": "code",
   "execution_count": 33,
   "metadata": {},
   "outputs": [],
   "source": [
    "def reverse(nums, start, end):\n",
    "    while(start<end):\n",
    "        temp = nums[start]\n",
    "        nums[start] = nums[end]\n",
    "        nums[end] = temp\n",
    "        start += 1\n",
    "        end -=1\n",
    "    return nums\n",
    "\n",
    "def rotateArray(nums, k):\n",
    "    k = k%len(nums)\n",
    "    print(k)\n",
    "    nums = reverse(nums, 0, len(nums)-1)\n",
    "    nums = reverse(nums, 0, k-1)\n",
    "    nums = reverse(nums, k, len(nums)-1)\n",
    "    return nums"
   ]
  },
  {
   "cell_type": "code",
   "execution_count": 36,
   "metadata": {},
   "outputs": [
    {
     "name": "stdout",
     "output_type": "stream",
     "text": [
      "3\n"
     ]
    },
    {
     "data": {
      "text/plain": [
       "[5, 6, 7, 1, 2, 3, 4]"
      ]
     },
     "execution_count": 36,
     "metadata": {},
     "output_type": "execute_result"
    }
   ],
   "source": [
    "rotateArray([1,2,3,4,5,6,7], 3)"
   ]
  },
  {
   "cell_type": "markdown",
   "metadata": {},
   "source": [
    "## Contains Duplicate"
   ]
  },
  {
   "cell_type": "markdown",
   "metadata": {},
   "source": [
    "Given an array of integers, find if the array contains any duplicates.\n",
    "\n",
    "Your function should return true if any value appears at least twice in the array, and it should return false if every element is distinct."
   ]
  },
  {
   "cell_type": "markdown",
   "metadata": {},
   "source": [
    "### Solution1: Set"
   ]
  },
  {
   "cell_type": "code",
   "execution_count": null,
   "metadata": {},
   "outputs": [],
   "source": [
    "def containDulplicate(nums):\n",
    "    return len(nums) != len(set(nums))          "
   ]
  },
  {
   "cell_type": "markdown",
   "metadata": {},
   "source": [
    "### Solution2: Dictionary/Hashmap"
   ]
  },
  {
   "cell_type": "code",
   "execution_count": null,
   "metadata": {},
   "outputs": [],
   "source": [
    "def containDulplicate(nums):\n",
    "    hashmap = {}\n",
    "    for i in nums:\n",
    "        if i not in hashmap:\n",
    "            hashmap[i] = 1\n",
    "        else:\n",
    "            return True\n",
    "    return False"
   ]
  },
  {
   "cell_type": "markdown",
   "metadata": {},
   "source": [
    "### Solution3: Sort"
   ]
  },
  {
   "cell_type": "code",
   "execution_count": null,
   "metadata": {},
   "outputs": [],
   "source": [
    "def containDulplicate(nums):\n",
    "    if len(nums)==1:return False\n",
    "    nums.sort()\n",
    "    for i in range(len(nums)-1):\n",
    "        if nums[i] == nums[i+1]:\n",
    "            return True\n",
    "    return False"
   ]
  },
  {
   "cell_type": "markdown",
   "metadata": {},
   "source": [
    "## Single Number"
   ]
  },
  {
   "cell_type": "markdown",
   "metadata": {},
   "source": [
    "Given a non-empty array of integers, every element appears twice except for one. Find that single one.\n",
    "\n",
    "Note:\n",
    "\n",
    "Your algorithm should have a linear runtime complexity. Could you implement it without using extra memory?\n",
    "\n",
    "Input: [4,1,2,1,2]\n",
    "\n",
    "Output: 4"
   ]
  },
  {
   "cell_type": "markdown",
   "metadata": {},
   "source": [
    "### Solution1: Dictionary"
   ]
  },
  {
   "cell_type": "code",
   "execution_count": 41,
   "metadata": {},
   "outputs": [],
   "source": [
    "def findSingle(nums):\n",
    "    hashmap = {}\n",
    "    for i in nums:\n",
    "        if i not in hashmap:\n",
    "            hashmap[i] = 1\n",
    "        else:\n",
    "            hashmap[i] += 1\n",
    "    for k,v in hashmap.items():\n",
    "        if v == 1:\n",
    "            return k"
   ]
  },
  {
   "cell_type": "code",
   "execution_count": 43,
   "metadata": {},
   "outputs": [],
   "source": [
    "def findSingle(nums):\n",
    "    hashmap = {}\n",
    "    for i in nums:\n",
    "        hashmap[i] = hashmap.get(i,0)+1\n",
    "    for k,v in hashmap.items():\n",
    "        if v == 1:\n",
    "            return k"
   ]
  },
  {
   "cell_type": "markdown",
   "metadata": {},
   "source": [
    "### Solution2: XOR"
   ]
  },
  {
   "cell_type": "code",
   "execution_count": 37,
   "metadata": {},
   "outputs": [],
   "source": [
    "def findSingle(nums):\n",
    "    res = 0\n",
    "    for i in nums:\n",
    "        res ^= i\n",
    "    return res"
   ]
  },
  {
   "cell_type": "code",
   "execution_count": 44,
   "metadata": {},
   "outputs": [
    {
     "data": {
      "text/plain": [
       "0"
      ]
     },
     "execution_count": 44,
     "metadata": {},
     "output_type": "execute_result"
    }
   ],
   "source": [
    "findSingle([1,3,3,4,4,0,1])"
   ]
  },
  {
   "cell_type": "markdown",
   "metadata": {},
   "source": [
    "## Intersection of Two Arrays II"
   ]
  },
  {
   "cell_type": "markdown",
   "metadata": {},
   "source": [
    "Given two arrays, write a function to compute their intersection.\n",
    "\n",
    "Example 1:\n",
    "\n",
    "Input: nums1 = [1,2,2,1], nums2 = [2,2]\n",
    "    \n",
    "Output: [2,2]\n",
    "\n",
    "Example 2:\n",
    "\n",
    "Input: nums1 = [4,9,5], nums2 = [9,4,9,8,4]\n",
    "\n",
    "Output: [4,9]"
   ]
  },
  {
   "cell_type": "markdown",
   "metadata": {},
   "source": [
    "### Solution1: Sort + Two pointer"
   ]
  },
  {
   "cell_type": "code",
   "execution_count": 49,
   "metadata": {},
   "outputs": [],
   "source": [
    "def intersectArray(nums1,nums2):\n",
    "    nums1.sort()\n",
    "    nums2.sort()\n",
    "    p1 = p2 = 0\n",
    "    res = []\n",
    "    while(p1<len(nums1) and p2<len(nums2)):\n",
    "        if nums1[p1] > nums2[p2]:\n",
    "            p2 +=1\n",
    "        elif nums1[p1] < nums2[p2]:\n",
    "            p1 +=1\n",
    "        else:\n",
    "            res.append(nums1[p1])\n",
    "            p1 +=1\n",
    "            p2 +=1\n",
    "    return res"
   ]
  },
  {
   "cell_type": "code",
   "execution_count": 50,
   "metadata": {},
   "outputs": [
    {
     "data": {
      "text/plain": [
       "[2, 2]"
      ]
     },
     "execution_count": 50,
     "metadata": {},
     "output_type": "execute_result"
    }
   ],
   "source": [
    "intersectArray([1,2,2,1],[2,2])"
   ]
  },
  {
   "cell_type": "markdown",
   "metadata": {},
   "source": [
    "### Solution2: Dictionary"
   ]
  },
  {
   "cell_type": "code",
   "execution_count": 54,
   "metadata": {},
   "outputs": [],
   "source": [
    "def intersectArray(nums1,nums2):\n",
    "    hashmap = {}\n",
    "    for num in nums1:\n",
    "        hashmap[num] = hashmap.get(num,0)+1\n",
    "    res = []\n",
    "    for num in nums2:\n",
    "        if num in hashmap and hashmap[num]>0:\n",
    "            res.append(num)\n",
    "            hashmap[num] -=1\n",
    "    return res"
   ]
  },
  {
   "cell_type": "code",
   "execution_count": 55,
   "metadata": {},
   "outputs": [
    {
     "data": {
      "text/plain": [
       "[2, 2]"
      ]
     },
     "execution_count": 55,
     "metadata": {},
     "output_type": "execute_result"
    }
   ],
   "source": [
    "intersectArray([1,2,2,1],[2,2])"
   ]
  },
  {
   "cell_type": "markdown",
   "metadata": {},
   "source": [
    "## Plus One"
   ]
  },
  {
   "cell_type": "markdown",
   "metadata": {},
   "source": [
    "Given a non-empty array of digits representing a non-negative integer, increment one to the integer.\n",
    "\n",
    "The digits are stored such that the most significant digit is at the head of the list, and each element in the array contains a single digit.\n",
    "\n",
    "You may assume the integer does not contain any leading zero, except the number 0 itself.\n",
    "\n",
    " \n",
    "\n",
    "Example 1:\n",
    "\n",
    "Input: digits = [1,2,3]\n",
    "\n",
    "Output: [1,2,4]\n",
    "\n",
    "Explanation: The array represents the integer 123.\n",
    "\n",
    "Example 2:\n",
    "\n",
    "Input: digits = [4,3,2,1]\n",
    "\n",
    "Output: [4,3,2,2]\n",
    "\n",
    "Explanation: The array represents the integer 4321.\n",
    "\n",
    "Example 3:\n",
    "\n",
    "Input: digits = [0]\n",
    "\n",
    "Output: [1]"
   ]
  },
  {
   "cell_type": "markdown",
   "metadata": {},
   "source": [
    "### Solution1: Multiply 10**n"
   ]
  },
  {
   "cell_type": "code",
   "execution_count": 61,
   "metadata": {},
   "outputs": [],
   "source": [
    "def plusOne(digits):\n",
    "    if not digits: return 0\n",
    "    num = 0\n",
    "    for i in range(len(digits)):\n",
    "        j = len(digits) - i - 1\n",
    "        num +=  digits[i] * 10 **j \n",
    "    num += 1\n",
    "    return [n for n in str(num)]"
   ]
  },
  {
   "cell_type": "code",
   "execution_count": 62,
   "metadata": {},
   "outputs": [
    {
     "data": {
      "text/plain": [
       "['1', '2', '4', '4']"
      ]
     },
     "execution_count": 62,
     "metadata": {},
     "output_type": "execute_result"
    }
   ],
   "source": [
    "plusOne([1,2,4,3])"
   ]
  },
  {
   "cell_type": "markdown",
   "metadata": {},
   "source": [
    "## Move Zeroes"
   ]
  },
  {
   "cell_type": "markdown",
   "metadata": {},
   "source": [
    "Given an array nums, write a function to move all 0's to the end of it while maintaining the relative order of the non-zero elements.\n",
    "\n",
    "Example:\n",
    "\n",
    "Input: [0,1,0,3,12]\n",
    "\n",
    "Output: [1,3,12,0,0]\n",
    "\n",
    "Note:\n",
    "\n",
    "You must do this in-place without making a copy of the array.\n",
    "\n",
    "Minimize the total number of operations."
   ]
  },
  {
   "cell_type": "markdown",
   "metadata": {},
   "source": [
    "### Solution1: Two pointer + Swap numbers"
   ]
  },
  {
   "cell_type": "code",
   "execution_count": 76,
   "metadata": {},
   "outputs": [],
   "source": [
    "def moveZeros(nums):\n",
    "    slow = 0\n",
    "    for fast in range(1, len(nums)):\n",
    "        if nums[slow] == 0 and nums[fast] != 0:\n",
    "            nums[slow], nums[fast] = nums[fast], nums[slow]\n",
    "            # Add 1 to slow only when nums[fast] is not zero\n",
    "            slow +=1\n",
    "        print(nums)\n",
    "    return nums"
   ]
  },
  {
   "cell_type": "code",
   "execution_count": 77,
   "metadata": {},
   "outputs": [
    {
     "name": "stdout",
     "output_type": "stream",
     "text": [
      "[1, 0, 0, 3, 0, 12]\n",
      "[1, 0, 0, 3, 0, 12]\n",
      "[1, 3, 0, 0, 0, 12]\n",
      "[1, 3, 0, 0, 0, 12]\n",
      "[1, 3, 12, 0, 0, 0]\n"
     ]
    },
    {
     "data": {
      "text/plain": [
       "[1, 3, 12, 0, 0, 0]"
      ]
     },
     "execution_count": 77,
     "metadata": {},
     "output_type": "execute_result"
    }
   ],
   "source": [
    "moveZeros([0,1,0,3,0,12])"
   ]
  },
  {
   "cell_type": "markdown",
   "metadata": {},
   "source": [
    "## Two Sum"
   ]
  },
  {
   "cell_type": "markdown",
   "metadata": {},
   "source": [
    "Given an array of integers nums and and integer target, return the indices of the two numbers such that they add up to target.\n",
    "\n",
    "You may assume that each input would have exactly one solution, and you may not use the same element twice.\n",
    "\n",
    "You can return the answer in any order."
   ]
  },
  {
   "cell_type": "markdown",
   "metadata": {},
   "source": [
    "Example 1:\n",
    "\n",
    "Input: nums = [2,7,11,15], target = 9\n",
    "\n",
    "Output: [0,1]\n",
    "\n",
    "Output: Because nums[0] + nums[1] == 9, we return [0, 1]\n",
    "\n",
    "Example 2:\n",
    "\n",
    "Input: nums = [3,2,4], target = 6\n",
    "\n",
    "Output: [1,2]\n",
    "\n",
    "Example 3:\n",
    "\n",
    "Input: nums = [3,3], target = 6\n",
    "\n",
    "Output: [0,1]"
   ]
  },
  {
   "cell_type": "markdown",
   "metadata": {},
   "source": [
    "### Solution1: Dictionary"
   ]
  },
  {
   "cell_type": "code",
   "execution_count": 92,
   "metadata": {},
   "outputs": [],
   "source": [
    "def twoSum(nums, target):\n",
    "    hashmap = {}\n",
    "    for i,v in enumerate(nums):\n",
    "        m = target - v\n",
    "        if m in hashmap:\n",
    "            return([hashmap[m],i])\n",
    "        else:\n",
    "            hashmap[v] = i"
   ]
  },
  {
   "cell_type": "code",
   "execution_count": 93,
   "metadata": {},
   "outputs": [
    {
     "data": {
      "text/plain": [
       "[1, 2]"
      ]
     },
     "execution_count": 93,
     "metadata": {},
     "output_type": "execute_result"
    }
   ],
   "source": [
    "twoSum([3,2,4], 6)"
   ]
  },
  {
   "cell_type": "markdown",
   "metadata": {},
   "source": [
    "### Solution2: Sort + Two pointer"
   ]
  },
  {
   "cell_type": "code",
   "execution_count": 90,
   "metadata": {},
   "outputs": [],
   "source": [
    "def twoSum(nums, target):\n",
    "    nums = enumerate(nums) #{(k,v),...}\n",
    "    nums = sorted(nums, key=lambda x:x[1]) #sort nums by value\n",
    "    l, r = 0, len(nums)-1\n",
    "    while l < r:\n",
    "        if nums[l][1]+nums[r][1] == target:\n",
    "            return sorted([nums[l][0]+1, nums[r][0]+1])\n",
    "        elif nums[l][1]+nums[r][1] < target:\n",
    "            l += 1\n",
    "        else:\n",
    "            r -= 1"
   ]
  },
  {
   "cell_type": "code",
   "execution_count": 91,
   "metadata": {},
   "outputs": [
    {
     "data": {
      "text/plain": [
       "[2, 3]"
      ]
     },
     "execution_count": 91,
     "metadata": {},
     "output_type": "execute_result"
    }
   ],
   "source": [
    "twoSum([3,2,4], 6)"
   ]
  },
  {
   "cell_type": "markdown",
   "metadata": {},
   "source": [
    "### Solution2: Sort + Two pointer(handle duplicates, multiple solutions)"
   ]
  },
  {
   "cell_type": "code",
   "execution_count": 3,
   "metadata": {},
   "outputs": [],
   "source": [
    "def twoSum(nums, target):\n",
    "    nums.sort() #could not record the original index\n",
    "    l, r = 0, len(nums)-1\n",
    "    res = []\n",
    "    while l < r:\n",
    "        if nums[l]+nums[r] == target:\n",
    "            res.append([nums[l],nums[r]])\n",
    "            l +=1\n",
    "            while l<r and nums[l] == nums[l-1]: #note: nums[l] == nums[l-1] since we added 1 to l\n",
    "                l +=1\n",
    "        elif nums[l]+nums[r] < target:\n",
    "            l += 1\n",
    "        else:\n",
    "            r -= 1\n",
    "    return res"
   ]
  },
  {
   "cell_type": "code",
   "execution_count": 6,
   "metadata": {},
   "outputs": [
    {
     "data": {
      "text/plain": [
       "[[2, 4], [3, 3]]"
      ]
     },
     "execution_count": 6,
     "metadata": {},
     "output_type": "execute_result"
    }
   ],
   "source": [
    "twoSum([3,2,3,3,4], 6)"
   ]
  },
  {
   "cell_type": "markdown",
   "metadata": {},
   "source": [
    "## Valid Sudoku\n",
    "\n"
   ]
  },
  {
   "cell_type": "markdown",
   "metadata": {},
   "source": [
    "https://leetcode.com/explore/interview/card/top-interview-questions-easy/92/array/769/"
   ]
  },
  {
   "cell_type": "markdown",
   "metadata": {},
   "source": [
    "### Solution1"
   ]
  },
  {
   "cell_type": "code",
   "execution_count": 100,
   "metadata": {},
   "outputs": [],
   "source": [
    "def isValidSudoku(board):\n",
    "    def isValidRow(board):\n",
    "        for row in board:\n",
    "            if not isValid(row):\n",
    "                return False\n",
    "        return True\n",
    "    \n",
    "    def isValidCol(board):\n",
    "        for col in zip(*board): #zip(*matrix) the cols of matrix\n",
    "            if not isValid(col):\n",
    "                return False\n",
    "        return True\n",
    "    \n",
    "    def isValidSquare(board):\n",
    "        for i in [0,3,6]:\n",
    "            for j in [0,3,6]:\n",
    "                square = [board[x][y] for x in range(i,i+3) for y in range(j,j+3)]\n",
    "                if not isValid(square):\n",
    "                    return False\n",
    "        return True\n",
    "    \n",
    "    def isValid(values):\n",
    "        nums = [i for i in values if i != '.']\n",
    "        return len(nums) == len(set(nums))\n",
    "    \n",
    "    return isValidRow(board) and isValidCol(board) and isValidSquare(board)"
   ]
  },
  {
   "cell_type": "code",
   "execution_count": 101,
   "metadata": {},
   "outputs": [],
   "source": [
    "input1 = [[\"5\",\"3\",\".\",\".\",\"7\",\".\",\".\",\".\",\".\"],\n",
    "  [\"6\",\".\",\".\",\"1\",\"9\",\"5\",\".\",\".\",\".\"],\n",
    "  [\".\",\"9\",\"8\",\".\",\".\",\".\",\".\",\"6\",\".\"],\n",
    "  [\"8\",\".\",\".\",\".\",\"6\",\".\",\".\",\".\",\"3\"],\n",
    "  [\"4\",\".\",\".\",\"8\",\".\",\"3\",\".\",\".\",\"1\"],\n",
    "  [\"7\",\".\",\".\",\".\",\"2\",\".\",\".\",\".\",\"6\"],\n",
    "  [\".\",\"6\",\".\",\".\",\".\",\".\",\"2\",\"8\",\".\"],\n",
    "  [\".\",\".\",\".\",\"4\",\"1\",\"9\",\".\",\".\",\"5\"],\n",
    "  [\".\",\".\",\".\",\".\",\"8\",\".\",\".\",\"7\",\"9\"]]"
   ]
  },
  {
   "cell_type": "code",
   "execution_count": 102,
   "metadata": {},
   "outputs": [
    {
     "data": {
      "text/plain": [
       "True"
      ]
     },
     "execution_count": 102,
     "metadata": {},
     "output_type": "execute_result"
    }
   ],
   "source": [
    "isValidSudoku(input1)"
   ]
  },
  {
   "cell_type": "code",
   "execution_count": 103,
   "metadata": {},
   "outputs": [],
   "source": [
    "input2 = [\n",
    "  [\"8\",\"3\",\".\",\".\",\"7\",\".\",\".\",\".\",\".\"],\n",
    "  [\"6\",\".\",\".\",\"1\",\"9\",\"5\",\".\",\".\",\".\"],\n",
    "  [\".\",\"9\",\"8\",\".\",\".\",\".\",\".\",\"6\",\".\"],\n",
    "  [\"8\",\".\",\".\",\".\",\"6\",\".\",\".\",\".\",\"3\"],\n",
    "  [\"4\",\".\",\".\",\"8\",\".\",\"3\",\".\",\".\",\"1\"],\n",
    "  [\"7\",\".\",\".\",\".\",\"2\",\".\",\".\",\".\",\"6\"],\n",
    "  [\".\",\"6\",\".\",\".\",\".\",\".\",\"2\",\"8\",\".\"],\n",
    "  [\".\",\".\",\".\",\"4\",\"1\",\"9\",\".\",\".\",\"5\"],\n",
    "  [\".\",\".\",\".\",\".\",\"8\",\".\",\".\",\"7\",\"9\"]\n",
    "]"
   ]
  },
  {
   "cell_type": "code",
   "execution_count": 104,
   "metadata": {},
   "outputs": [
    {
     "data": {
      "text/plain": [
       "False"
      ]
     },
     "execution_count": 104,
     "metadata": {},
     "output_type": "execute_result"
    }
   ],
   "source": [
    "isValidSudoku(input2)"
   ]
  },
  {
   "cell_type": "markdown",
   "metadata": {},
   "source": [
    "## Rotate Image\n",
    "\n"
   ]
  },
  {
   "cell_type": "markdown",
   "metadata": {},
   "source": [
    "https://leetcode.com/explore/interview/card/top-interview-questions-easy/92/array/770/"
   ]
  },
  {
   "cell_type": "markdown",
   "metadata": {},
   "source": [
    "### Solution1: Transpose matrix and reverse each row"
   ]
  },
  {
   "cell_type": "code",
   "execution_count": 110,
   "metadata": {},
   "outputs": [],
   "source": [
    "def rotateImage(matrix):\n",
    "    def reverse(nums):\n",
    "        l = 0\n",
    "        r = len(nums)-1\n",
    "        while(l<r):\n",
    "            nums[l], nums[r] =  nums[r], nums[l] \n",
    "            l += 1\n",
    "            r -= 1\n",
    "        return nums\n",
    "\n",
    "    # Transpose matrix\n",
    "    for i in range(len(matrix)):\n",
    "        for j in range(len(matrix)):\n",
    "            if i < j:\n",
    "                matrix[i][j], matrix[j][i] = matrix[j][i], matrix[i][j]\n",
    "    \n",
    "    print(matrix)\n",
    "    \n",
    "    # Reverse row\n",
    "    for row in matrix:\n",
    "        row = reverse(row)\n",
    "\n",
    "    return matrix"
   ]
  },
  {
   "cell_type": "code",
   "execution_count": 111,
   "metadata": {},
   "outputs": [
    {
     "name": "stdout",
     "output_type": "stream",
     "text": [
      "[[1, 4, 7], [2, 5, 8], [3, 6, 9]]\n"
     ]
    },
    {
     "data": {
      "text/plain": [
       "[[7, 4, 1], [8, 5, 2], [9, 6, 3]]"
      ]
     },
     "execution_count": 111,
     "metadata": {},
     "output_type": "execute_result"
    }
   ],
   "source": [
    "rotateImage([[1,2,3],[4,5,6],[7,8,9]])"
   ]
  },
  {
   "cell_type": "markdown",
   "metadata": {},
   "source": [
    "# Medium"
   ]
  },
  {
   "cell_type": "markdown",
   "metadata": {},
   "source": [
    "## Three sum"
   ]
  },
  {
   "cell_type": "markdown",
   "metadata": {},
   "source": [
    "https://leetcode.com/problems/3sum/"
   ]
  },
  {
   "cell_type": "markdown",
   "metadata": {},
   "source": [
    "Given an array nums of n integers, are there elements a, b, c in nums such that a + b + c = 0? Find all unique triplets in the array which gives the sum of zero.\n",
    "\n",
    "Notice that the solution set must not contain duplicate triplets.\n",
    "\n",
    " \n",
    "\n",
    "Example 1:\n",
    "\n",
    "Input: nums = [-1,0,1,2,-1,-4]\n",
    "\n",
    "Output: [[-1,-1,2],[-1,0,1]]\n",
    "\n",
    "Example 2:\n",
    "\n",
    "Input: nums = []\n",
    "\n",
    "Output: []\n",
    "\n",
    "Example 3:\n",
    "\n",
    "Input: nums = [0]\n",
    "\n",
    "Output: []"
   ]
  },
  {
   "cell_type": "markdown",
   "metadata": {},
   "source": [
    "### Solution1: Sort + Two pointer(handle duplicates, multiple solutions)\n"
   ]
  },
  {
   "cell_type": "code",
   "execution_count": 10,
   "metadata": {},
   "outputs": [],
   "source": [
    "def threeSum(nums):\n",
    "    nums.sort()\n",
    "    res = []\n",
    "    for i in range(len(nums)):\n",
    "        if i>0 and nums[i]==nums[i-1]: #handle duplicates\n",
    "            continue\n",
    "        if nums[i]>0:\n",
    "            break\n",
    "        \n",
    "        target = -1 * nums[i] #reduce problem to twoSum\n",
    "        l, r = i+1, len(nums)-1 #note: l = i+1\n",
    "        while l < r:\n",
    "            if nums[l]+nums[r] == target:\n",
    "                res.append([nums[i],nums[l],nums[r]])\n",
    "                l +=1\n",
    "                while l<r and nums[l] == nums[l-1]: #handle duplicates\n",
    "                    l +=1\n",
    "            elif nums[l]+nums[r] < target:\n",
    "                l += 1\n",
    "            else:\n",
    "                r -= 1\n",
    "    return res"
   ]
  },
  {
   "cell_type": "code",
   "execution_count": 12,
   "metadata": {},
   "outputs": [
    {
     "data": {
      "text/plain": [
       "[[-6, 2, 4], [-6, 3, 3]]"
      ]
     },
     "execution_count": 12,
     "metadata": {},
     "output_type": "execute_result"
    }
   ],
   "source": [
    "threeSum([3,2,3,3,4,-3,-2,-6,-6])"
   ]
  },
  {
   "cell_type": "code",
   "execution_count": 13,
   "metadata": {},
   "outputs": [
    {
     "data": {
      "text/plain": [
       "[]"
      ]
     },
     "execution_count": 13,
     "metadata": {},
     "output_type": "execute_result"
    }
   ],
   "source": [
    "threeSum([3,2,3,3,4])"
   ]
  },
  {
   "cell_type": "markdown",
   "metadata": {},
   "source": [
    "## Set matrix zero"
   ]
  },
  {
   "cell_type": "code",
   "execution_count": null,
   "metadata": {},
   "outputs": [],
   "source": [
    "def setMatrixZero(matrix):\n",
    "    M,N = len(matrix), len(matrix[0])\n",
    "    queue = collections.deque()\n",
    "    for row in range(M):\n",
    "        for col in range(N):\n",
    "            if matrix[row][col] == 0:\n",
    "                queue.append([row,col])\n",
    "    while queue:\n",
    "        row,col = queue.popleft()\n",
    "        matrix[row] = [0] * N\n",
    "        for i in range(M):\n",
    "            matrix[i][col] = 0\n",
    "    return matrix"
   ]
  },
  {
   "cell_type": "markdown",
   "metadata": {},
   "source": [
    "## Group Anagrams"
   ]
  },
  {
   "cell_type": "markdown",
   "metadata": {},
   "source": [
    "Given an array of strings strs, group the anagrams together. You can return the answer in any order.\n",
    "\n",
    "An Anagram is a word or phrase formed by rearranging the letters of a different word or phrase, typically using all the original letters exactly once.\n",
    "\n",
    " \n",
    "\n",
    "Example 1:\n",
    "\n",
    "Input: strs = [\"eat\",\"tea\",\"tan\",\"ate\",\"nat\",\"bat\"]\n",
    "\n",
    "Output: [[\"bat\"],[\"nat\",\"tan\"],[\"ate\",\"eat\",\"tea\"]]\n",
    "\n",
    "Example 2:\n",
    "\n",
    "Input: strs = [\"\"]\n",
    "\n",
    "Output: [[\"\"]]\n",
    "\n",
    "Example 3:\n",
    "\n",
    "Input: strs = [\"a\"]\n",
    "\n",
    "Output: [[\"a\"]]"
   ]
  },
  {
   "cell_type": "markdown",
   "metadata": {},
   "source": [
    "### Solution1: dict + sorted"
   ]
  },
  {
   "cell_type": "code",
   "execution_count": 21,
   "metadata": {},
   "outputs": [],
   "source": [
    "from collections import defaultdict\n",
    "def groupAnagrams(l):\n",
    "    res = dict()\n",
    "    for word in l:\n",
    "        ana = ''.join(sorted(word))\n",
    "        if ana not in res:\n",
    "            res[ana] = [word]\n",
    "        else:\n",
    "            res[ana].append(word)\n",
    "    return res.values()"
   ]
  },
  {
   "cell_type": "code",
   "execution_count": 22,
   "metadata": {},
   "outputs": [
    {
     "data": {
      "text/plain": [
       "dict_values([['eat', 'tea', 'ate'], ['tan', 'nat'], ['bat']])"
      ]
     },
     "execution_count": 22,
     "metadata": {},
     "output_type": "execute_result"
    }
   ],
   "source": [
    "groupAnagrams([\"eat\",\"tea\",\"tan\",\"ate\",\"nat\",\"bat\"])"
   ]
  },
  {
   "cell_type": "markdown",
   "metadata": {},
   "source": [
    "## Longest Substring Without Repeating Characters\n"
   ]
  },
  {
   "cell_type": "markdown",
   "metadata": {},
   "source": [
    "Given a string s, find the length of the longest substring without repeating characters.\n",
    "\n",
    " \n",
    "\n",
    "Example 1:\n",
    "\n",
    "Input: s = \"abcabcbb\"\n",
    "\n",
    "Output: 3\n",
    "\n",
    "Explanation: The answer is \"abc\", with the length of 3.\n",
    "\n",
    "Example 2:\n",
    "\n",
    "Input: s = \"bbbbb\"\n",
    "\n",
    "Output: 1\n",
    "\n",
    "Explanation: The answer is \"b\", with the length of 1.\n",
    "\n",
    "Example 3:\n",
    "\n",
    "Input: s = \"pwwkew\"\n",
    "\n",
    "Output: 3\n",
    "\n",
    "Explanation: The answer is \"wke\", with the length of 3.\n",
    "\n",
    "Notice that the answer must be a substring, \"pwke\" is a subsequence and not a substring.\n",
    "\n",
    "Example 4:\n",
    "\n",
    "Input: s = \"\"\n",
    "Output: 0"
   ]
  },
  {
   "cell_type": "code",
   "execution_count": 50,
   "metadata": {},
   "outputs": [],
   "source": [
    "def findLongestSubstring(s):\n",
    "    subCur = s[0]\n",
    "    res = []\n",
    "    for i in range(1,len(s)):\n",
    "        if s[i] not in subCur:\n",
    "            subCur +=s[i]\n",
    "        else:\n",
    "            res.append(subCur)\n",
    "            subCur = s[i]\n",
    "    #print(subCur)\n",
    "    return max(res,key=len)"
   ]
  },
  {
   "cell_type": "code",
   "execution_count": 51,
   "metadata": {},
   "outputs": [
    {
     "data": {
      "text/plain": [
       "'wke'"
      ]
     },
     "execution_count": 51,
     "metadata": {},
     "output_type": "execute_result"
    }
   ],
   "source": [
    "findLongestSubstring(\"pwwkew\")"
   ]
  },
  {
   "cell_type": "markdown",
   "metadata": {},
   "source": [
    "## Longest Palindromic Substring\n"
   ]
  },
  {
   "cell_type": "markdown",
   "metadata": {},
   "source": [
    "Given a string s, find the longest palindromic substring in s. You may assume that the maximum length of s is 1000.\n",
    "\n",
    "Example 1:\n",
    "\n",
    "Input: \"babad\"\n",
    "\n",
    "Output: \"bab\"\n",
    "\n",
    "Note: \"aba\" is also a valid answer.\n",
    "\n",
    "Example 2:\n",
    "\n",
    "Input: \"cbbd\"\n",
    "\n",
    "Output: \"bb\""
   ]
  },
  {
   "cell_type": "code",
   "execution_count": 55,
   "metadata": {},
   "outputs": [],
   "source": [
    "def findPalindrome(s,l,r):\n",
    "    while l>0 and r<len(s) and s[l]==s[r]: #start from the middle\n",
    "        l-=1\n",
    "        r+=1\n",
    "    return s[l+1:r]\n",
    "\n",
    "def findPalindromicSubstring(s):\n",
    "    substr = ''\n",
    "    for i in range(len(s)):\n",
    "        even = findPalindrome(s,i,i) #'aba'\n",
    "        odd = findPalindrome(s,i,i+1) #'abba'\n",
    "        substr = max([substr,even,odd],key=len)\n",
    "    #print(subCur)\n",
    "    return substr\n",
    "\n"
   ]
  },
  {
   "cell_type": "code",
   "execution_count": 56,
   "metadata": {},
   "outputs": [
    {
     "data": {
      "text/plain": [
       "'wkw'"
      ]
     },
     "execution_count": 56,
     "metadata": {},
     "output_type": "execute_result"
    }
   ],
   "source": [
    "findPalindromicSubstring(\"pwwkwew\")"
   ]
  },
  {
   "cell_type": "markdown",
   "metadata": {},
   "source": [
    "## Increasing Triplet Subsequence"
   ]
  },
  {
   "cell_type": "markdown",
   "metadata": {},
   "source": [
    "Given an unsorted array return whether an increasing subsequence of length 3 exists or not in the array.\n",
    "\n",
    "Formally the function should:\n",
    "\n",
    "Return true if there exists i, j, k\n",
    "such that arr[i] < arr[j] < arr[k] given 0 ≤ i < j < k ≤ n-1 else return false.\n",
    "Note: Your algorithm should run in O(n) time complexity and O(1) space complexity.\n",
    "\n",
    "Example 1:\n",
    "\n",
    "Input: [1,2,3,4,5]\n",
    "\n",
    "Output: true\n",
    "\n",
    "Example 2:\n",
    "\n",
    "Input: [5,4,3,2,1]\n",
    "\n",
    "Output: false"
   ]
  },
  {
   "cell_type": "markdown",
   "metadata": {},
   "source": [
    "### Solution1: two thresholds"
   ]
  },
  {
   "cell_type": "code",
   "execution_count": 1,
   "metadata": {},
   "outputs": [],
   "source": [
    "def findIncreasingTriplet(nums):\n",
    "    threshold1 = threshold2 = float('inf')\n",
    "    for num in nums:\n",
    "        if num<=threshold1:\n",
    "            threshold1 = num\n",
    "        elif num<=threshold2:\n",
    "            threshold2 = num\n",
    "        else:\n",
    "            return True\n",
    "    return False"
   ]
  },
  {
   "cell_type": "code",
   "execution_count": 2,
   "metadata": {},
   "outputs": [
    {
     "data": {
      "text/plain": [
       "False"
      ]
     },
     "execution_count": 2,
     "metadata": {},
     "output_type": "execute_result"
    }
   ],
   "source": [
    "findIncreasingTriplet([5,4,3,2,1])"
   ]
  },
  {
   "cell_type": "code",
   "execution_count": 4,
   "metadata": {},
   "outputs": [
    {
     "data": {
      "text/plain": [
       "False"
      ]
     },
     "execution_count": 4,
     "metadata": {},
     "output_type": "execute_result"
    }
   ],
   "source": [
    "findIncreasingTriplet([5,1,2,0])"
   ]
  },
  {
   "cell_type": "markdown",
   "metadata": {},
   "source": [
    "# Hard"
   ]
  },
  {
   "cell_type": "markdown",
   "metadata": {},
   "source": [
    "https://leetcode.com/explore/interview/card/top-interview-questions-hard/116/array-and-strings/"
   ]
  },
  {
   "cell_type": "markdown",
   "metadata": {},
   "source": [
    "## Product of Array Except Self"
   ]
  },
  {
   "cell_type": "markdown",
   "metadata": {},
   "source": [
    "Given an array nums of n integers where n > 1,  return an array output such that output[i] is equal to the product of all the elements of nums except nums[i].\n",
    "\n",
    "Example:\n",
    "\n",
    "Input:  [1,2,3,4]\n",
    "\n",
    "Output: [24,12,8,6]\n",
    "\n",
    "Constraint: It's guaranteed that the product of the elements of any prefix or suffix of the array (including the whole array) fits in a 32 bit integer.\n",
    "\n",
    "Note: Please solve it without division and in O(n)."
   ]
  },
  {
   "cell_type": "markdown",
   "metadata": {},
   "source": [
    "### Solution: two-round solution "
   ]
  },
  {
   "cell_type": "code",
   "execution_count": 1,
   "metadata": {},
   "outputs": [],
   "source": [
    "class Solution:\n",
    "    def productArray(self,nums):\n",
    "        res = [1 for _ in range(len(nums))]\n",
    "        \n",
    "        # from left to right\n",
    "        for i in range(1,len(nums)):\n",
    "            res[i] = res[i-1] * nums[i-1]\n",
    "        print(res)\n",
    "        # from right to left\n",
    "        temp = 1\n",
    "        for j in range(len(nums)-2,-1,-1):\n",
    "            temp = temp * nums[j+1]\n",
    "            res[j] = res[j] * temp\n",
    "        return res"
   ]
  },
  {
   "cell_type": "code",
   "execution_count": 2,
   "metadata": {},
   "outputs": [
    {
     "name": "stdout",
     "output_type": "stream",
     "text": [
      "[1, 1, 2, 6]\n"
     ]
    },
    {
     "data": {
      "text/plain": [
       "[24, 12, 8, 6]"
      ]
     },
     "execution_count": 2,
     "metadata": {},
     "output_type": "execute_result"
    }
   ],
   "source": [
    "solution = Solution()\n",
    "solution.productArray([1,2,3,4])"
   ]
  },
  {
   "cell_type": "markdown",
   "metadata": {},
   "source": [
    "## Spiral Matrix"
   ]
  },
  {
   "cell_type": "markdown",
   "metadata": {},
   "source": [
    "Given a matrix of m x n elements (m rows, n columns), return all elements of the matrix in spiral order.\n",
    "\n",
    "Example 1:\n",
    "\n",
    "Input:\n",
    "[\n",
    " [ 1, 2, 3 ],\n",
    " [ 4, 5, 6 ],\n",
    " [ 7, 8, 9 ]\n",
    "]\n",
    "\n",
    "Output: [1,2,3,6,9,8,7,4,5]"
   ]
  },
  {
   "cell_type": "markdown",
   "metadata": {},
   "source": [
    "### Solution: pop row/columns (would modify the matrix)"
   ]
  },
  {
   "cell_type": "code",
   "execution_count": 5,
   "metadata": {},
   "outputs": [],
   "source": [
    "class Solution:\n",
    "    def spiralMatrix(self, matrix):\n",
    "        res = []\n",
    "        turn = 0\n",
    "        while(matrix):\n",
    "            \n",
    "            # pop first row\n",
    "            if turn % 4 ==0:\n",
    "                res.extend(matrix.pop(0))\n",
    "            \n",
    "             # pop last column\n",
    "            if turn % 4 ==1:\n",
    "                for i in range(len(matrix)):\n",
    "                    res.append(matrix[i].pop()) #note: append here since pop one by one\n",
    "            \n",
    "             # pop last row and reverse\n",
    "            if turn % 4 ==2:\n",
    "                res.extend(matrix.pop()[::-1])\n",
    "            \n",
    "             # pop first column and reverse\n",
    "            if turn % 4 ==3:\n",
    "                for i in range(len(matrix)-1,-1,-1):\n",
    "                    res.append(matrix[i].pop(0))\n",
    "            turn += 1\n",
    "            \n",
    "        return res"
   ]
  },
  {
   "cell_type": "code",
   "execution_count": 6,
   "metadata": {},
   "outputs": [
    {
     "data": {
      "text/plain": [
       "[1, 2, 3, 6, 9, 8, 7, 4, 5]"
      ]
     },
     "execution_count": 6,
     "metadata": {},
     "output_type": "execute_result"
    }
   ],
   "source": [
    "solution = Solution()\n",
    "solution.spiralMatrix([ [ 1, 2, 3 ], [ 4, 5, 6 ], [ 7, 8, 9 ] ])"
   ]
  },
  {
   "cell_type": "markdown",
   "metadata": {},
   "source": [
    "## 4Sum"
   ]
  },
  {
   "cell_type": "markdown",
   "metadata": {},
   "source": [
    "Given an array nums of n integers and an integer target, are there elements a, b, c, and d in nums such that a + b + c + d = target? Find all unique quadruplets in the array which gives the sum of target.\n",
    "\n",
    "Notice that the solution set must not contain duplicate quadruplets.\n",
    "\n",
    " \n",
    "\n",
    "Example 1:\n",
    "\n",
    "Input: nums = [1,0,-1,0,-2,2], target = 0\n",
    "\n",
    "Output: [[-2,-1,1,2],[-2,0,0,2],[-1,0,0,1]]\n",
    "\n",
    "Example 2:\n",
    "\n",
    "Input: nums = [], target = 0\n",
    "\n",
    "Output: []"
   ]
  },
  {
   "cell_type": "markdown",
   "metadata": {},
   "source": [
    "### Solution1: Backtrack (reduce to 2Sum)"
   ]
  },
  {
   "cell_type": "code",
   "execution_count": 39,
   "metadata": {},
   "outputs": [],
   "source": [
    "class Solution:\n",
    "    def fourSum(self, nums,target):\n",
    "        res,path= [],[]\n",
    "        nums.sort() # sort nums to handle duplicates\n",
    "        self.backtrack(nums,target,res,path,4)\n",
    "        return res\n",
    "        \n",
    "    def backtrack(self,nums,target,res,path,N):\n",
    "        if N<2 or len(nums)<N:\n",
    "            return\n",
    "        if N==2:\n",
    "            l,r = 0, len(nums)-1\n",
    "            while(l<r):\n",
    "                if nums[l]+nums[r]==target:\n",
    "                    path += [nums[l],nums[r]]\n",
    "                    res.append(path.copy())\n",
    "                    l += 1\n",
    "#                     r -= 1\n",
    "                    while l < r and nums[l] == nums[l - 1]:\n",
    "                        l += 1\n",
    "#                     while r > l and nums[r] == nums[r + 1]:\n",
    "#                         r -= 1\n",
    "                elif nums[l]+nums[r]<target:\n",
    "                    l+=1\n",
    "                else:\n",
    "                    r-=1\n",
    "        \n",
    "        else:\n",
    "            for i in range(len(nums)-N): # make sure at least N num\n",
    "                if i>0 and nums[i]==nums[i-1]:\n",
    "                    continue\n",
    "                self.backtrack(nums[i+1:],target-nums[i],res,path+[nums[i]],N-1)\n",
    "        return "
   ]
  },
  {
   "cell_type": "code",
   "execution_count": 40,
   "metadata": {},
   "outputs": [
    {
     "name": "stdout",
     "output_type": "stream",
     "text": [
      "CPU times: user 2 µs, sys: 1e+03 ns, total: 3 µs\n",
      "Wall time: 4.05 µs\n"
     ]
    },
    {
     "data": {
      "text/plain": [
       "[[-2, -1, 1, 2], [-2, 0, 0, 2], [-1, 0, 0, 1]]"
      ]
     },
     "execution_count": 40,
     "metadata": {},
     "output_type": "execute_result"
    }
   ],
   "source": [
    "%time\n",
    "solution = Solution()\n",
    "solution.fourSum(nums = [1,0,-1,0,-2,2], target = 0)"
   ]
  },
  {
   "cell_type": "markdown",
   "metadata": {},
   "source": [
    "### Solution2: Backtrack (Combination Sum)"
   ]
  },
  {
   "cell_type": "code",
   "execution_count": 37,
   "metadata": {},
   "outputs": [],
   "source": [
    "class Solution:\n",
    "    def fourSum(self, nums,target):\n",
    "        res,path= [],[]\n",
    "        nums.sort() # sort nums to handle duplicates\n",
    "        self.backtrack(nums,target,res,path)\n",
    "        return res\n",
    "        \n",
    "    def backtrack(self,nums,target,res,path):\n",
    "        if target<0:\n",
    "            return\n",
    "        if target==0:\n",
    "            if len(path)==4: #4Sum\n",
    "                res.append(path.copy())\n",
    "        for i in range(len(nums)): # make sure at least N num\n",
    "            if i>0 and nums[i]==nums[i-1]:\n",
    "                continue\n",
    "            self.backtrack(nums[i+1:],target-nums[i],res,path+[nums[i]])\n",
    "        return "
   ]
  },
  {
   "cell_type": "code",
   "execution_count": 38,
   "metadata": {},
   "outputs": [
    {
     "name": "stdout",
     "output_type": "stream",
     "text": [
      "CPU times: user 2 µs, sys: 0 ns, total: 2 µs\n",
      "Wall time: 4.05 µs\n"
     ]
    },
    {
     "data": {
      "text/plain": [
       "[[-2, -1, 1, 2], [-2, 0, 0, 2], [-1, 0, 0, 1]]"
      ]
     },
     "execution_count": 38,
     "metadata": {},
     "output_type": "execute_result"
    }
   ],
   "source": [
    "%time\n",
    "solution = Solution()\n",
    "solution.fourSum(nums = [1,0,-1,0,-2,2], target = 0)"
   ]
  },
  {
   "cell_type": "markdown",
   "metadata": {},
   "source": [
    "## 4Sum II"
   ]
  },
  {
   "cell_type": "markdown",
   "metadata": {},
   "source": [
    "Given four lists A, B, C, D of integer values, compute how many tuples (i, j, k, l) there are such that A[i] + B[j] + C[k] + D[l] is zero.\n",
    "\n",
    "To make problem a bit easier, all A, B, C, D have same length of N where 0 ≤ N ≤ 500. All integers are in the range of -228 to 228 - 1 and the result is guaranteed to be at most 231 - 1.\n",
    "\n",
    "Example:\n",
    "\n",
    "Input:\n",
    "A = [ 1, 2]\n",
    "\n",
    "B = [-2,-1]\n",
    "\n",
    "C = [-1, 2]\n",
    "\n",
    "D = [ 0, 2]\n",
    "\n",
    "Output:\n",
    "2\n",
    "\n",
    "Explanation:\n",
    "The two tuples are:\n",
    "\n",
    "1. (0, 0, 0, 1) -> A[0] + B[0] + C[0] + D[1] = 1 + (-2) + (-1) + 2 = 0\n",
    "\n",
    "2. (1, 1, 0, 0) -> A[1] + B[1] + C[0] + D[0] = 2 + (-1) + (-1) + 0 = 0"
   ]
  },
  {
   "cell_type": "markdown",
   "metadata": {},
   "source": [
    "### Solution1: count"
   ]
  },
  {
   "cell_type": "code",
   "execution_count": 15,
   "metadata": {},
   "outputs": [],
   "source": [
    "class Solution:\n",
    "    def fourSum(self, A,B,C,D):\n",
    "        res = 0\n",
    "        dic1 = {}\n",
    "        for i in A:\n",
    "            for j in B:\n",
    "                dic1[i+j] = dic1.get(i+j,0)+1\n",
    "        \n",
    "        for i in C:\n",
    "            for j in D:\n",
    "                target = -(i+j)\n",
    "                if target in dic1:\n",
    "                    res += dic1[target]\n",
    "                else:\n",
    "                    continue\n",
    "        return res"
   ]
  },
  {
   "cell_type": "code",
   "execution_count": 16,
   "metadata": {},
   "outputs": [
    {
     "data": {
      "text/plain": [
       "2"
      ]
     },
     "execution_count": 16,
     "metadata": {},
     "output_type": "execute_result"
    }
   ],
   "source": [
    "solution = Solution()\n",
    "solution.fourSum(A = [ 1, 2],B = [-2,-1],C = [-1, 2],D = [ 0, 2])"
   ]
  },
  {
   "cell_type": "markdown",
   "metadata": {},
   "source": [
    "## Game of life"
   ]
  },
  {
   "cell_type": "markdown",
   "metadata": {},
   "source": [
    "https://leetcode.com/explore/interview/card/top-interview-questions-hard/116/array-and-strings/831/"
   ]
  },
  {
   "cell_type": "markdown",
   "metadata": {},
   "source": [
    "### Solution"
   ]
  },
  {
   "cell_type": "markdown",
   "metadata": {},
   "source": [
    "The idea is:\n",
    "if board[x][y] == 1, change its value to count(x,y) + 1, the reason I add 1 is to keep it positive\n",
    "else:change its value to -count(x,y), so it will be either 0 or negative\n",
    "This way, we wouldn't mess up the number of live neighbors.\n",
    "The first time we use this strategy to do counting. The second time, we set the value to 1 if we see\n",
    "\n",
    "3 ( = 2 + 1, means 2 live neighbors),\n",
    "\n",
    "4 (3 live neighbors)\n",
    "\n",
    "-3 (3 live neighbors for dead cell)\n",
    "\n"
   ]
  },
  {
   "cell_type": "code",
   "execution_count": 40,
   "metadata": {},
   "outputs": [],
   "source": [
    "class Solution:\n",
    "    def gameOfLife(self,board):\n",
    "        if not board: return \n",
    "        def  countNeighbors(x,y):\n",
    "            res = 0 \n",
    "            for r in range(x-1,x+2):\n",
    "                for c in range(y-1,y+2):\n",
    "                    if (r!=x or c!=y) and 0<=r<len(board) and 0<=c<len(board[0]) and board[r][c]>0: #note: board>0\n",
    "                        res += 1 \n",
    "            return res\n",
    "        for x in range(len(board)):\n",
    "            for y in range(len(board[0])):\n",
    "#                 board[x][y] = count(x,y) + 1 if board[x][y] == 1 else - count(x,y) \n",
    "                if board[x][y] == 1:\n",
    "                    board[x][y] = countNeighbors(x,y) +1 # add one to '1' to avoid negative\n",
    "                else:\n",
    "                    board[x][y] = -countNeighbors(x,y)\n",
    "        print(board)\n",
    "        for x in range(len(board)):\n",
    "            for y in range(len(board[0])):\n",
    "                board[x][y] = 1 if board[x][y] in {3,4,-3} else 0\n",
    "        print(board)\n",
    "    \n",
    "    "
   ]
  },
  {
   "cell_type": "code",
   "execution_count": 41,
   "metadata": {},
   "outputs": [
    {
     "name": "stdout",
     "output_type": "stream",
     "text": [
      "[[-1, 2, -2], [-3, -5, 4], [2, 4, 3], [-2, -3, -2]]\n",
      "[[0, 0, 0], [1, 0, 1], [0, 1, 1], [0, 1, 0]]\n"
     ]
    }
   ],
   "source": [
    "solution = Solution()\n",
    "solution.gameOfLife([\n",
    "  [0,1,0],\n",
    "  [0,0,1],\n",
    "  [1,1,1],\n",
    "  [0,0,0]\n",
    "])"
   ]
  },
  {
   "cell_type": "markdown",
   "metadata": {},
   "source": [
    "## Container With Most Water"
   ]
  },
  {
   "cell_type": "markdown",
   "metadata": {},
   "source": [
    "\n",
    "https://leetcode.com/explore/interview/card/top-interview-questions-hard/116/array-and-strings/830/"
   ]
  },
  {
   "cell_type": "markdown",
   "metadata": {},
   "source": [
    "Idea / Proof:\n",
    "\n",
    "The widest container (using first and last line) is a good candidate, because of its width. Its water level is the height of the smaller one of first and last line.\n",
    "\n",
    "All other containers are less wide and thus would need a higher water level in order to hold more water.\n",
    "\n",
    "The smaller one of first and last line doesn't support a higher water level and can thus be safely removed from further consideration.\n",
    "\n",
    "One thing that is ignored in the explanation is the h[i] == h[j] case.\n",
    "You need to prove that in this case, it does not matter whether you perform i++ or j--, because if h[i] == h[j], neither (i+1, j) or (i, j-1) can be potential solutions because the area obtained is necessarily smaller than (i, j)."
   ]
  },
  {
   "cell_type": "code",
   "execution_count": 41,
   "metadata": {},
   "outputs": [],
   "source": [
    "class Solution:\n",
    "    def containMostWater(self,height):\n",
    "        maxWater = 0\n",
    "        curWater\n",
    "        l, r = 0, len(height)-1\n",
    "        while(l<r):\n",
    "            curWater = (r-l) * min(height[l],height[r])\n",
    "            maxWater = max(maxWater,curWater)\n",
    "            if height[l]<=height[r]:\n",
    "                l +=1\n",
    "            else:\n",
    "                r -=1\n",
    "        return maxWater"
   ]
  },
  {
   "cell_type": "markdown",
   "metadata": {},
   "source": [
    "## Trapping Rain Water"
   ]
  },
  {
   "cell_type": "markdown",
   "metadata": {},
   "source": [
    "https://leetcode.com/explore/interview/card/top-interview-questions-hard/124/others/875/"
   ]
  },
  {
   "cell_type": "markdown",
   "metadata": {},
   "source": [
    "Here is my idea: instead of calculating area by height*width, we can think it in a cumulative way. In other words, sum water amount of each bin(width=1).\n",
    "Search from left to right and maintain a max height of left and right separately, which is like a one-side wall of partial container. Fix the higher one and flow water from the lower part. For example, if current height of left is lower, we fill water in the left bin. Until left meets right, we filled the whole container."
   ]
  },
  {
   "cell_type": "code",
   "execution_count": 8,
   "metadata": {},
   "outputs": [],
   "source": [
    "class Solution:\n",
    "    def trapWater(self,bars):\n",
    "        l,r = 0, len(bars)-1\n",
    "        lmax, rmax = bars[l], bars[r]\n",
    "        water = 0\n",
    "        while(l<r):\n",
    "            lmax = max(lmax,bars[l])\n",
    "            rmax = max(rmax, bars[r])\n",
    "            print(lmax,rmax,l,r,water)\n",
    "            if lmax <= rmax:\n",
    "                water += lmax - bars[l]\n",
    "                l += 1\n",
    "            else:\n",
    "                water += rmax - bars[r]\n",
    "                r -= 1\n",
    "        return water"
   ]
  },
  {
   "cell_type": "code",
   "execution_count": 9,
   "metadata": {},
   "outputs": [
    {
     "name": "stdout",
     "output_type": "stream",
     "text": [
      "0 1 0 11 0\n",
      "1 1 1 11 0\n",
      "1 1 2 11 0\n",
      "2 1 3 11 1\n",
      "2 2 3 10 1\n",
      "2 2 4 10 1\n",
      "2 2 5 10 2\n",
      "2 2 6 10 4\n",
      "3 2 7 10 5\n",
      "3 2 7 9 5\n",
      "3 2 7 8 6\n"
     ]
    },
    {
     "data": {
      "text/plain": [
       "6"
      ]
     },
     "execution_count": 9,
     "metadata": {},
     "output_type": "execute_result"
    }
   ],
   "source": [
    "solution = Solution()\n",
    "solution.trapWater([0,1,0,2,1,0,1,3,2,1,2,1])"
   ]
  },
  {
   "cell_type": "markdown",
   "metadata": {},
   "source": [
    "## The Skyline Problem"
   ]
  },
  {
   "cell_type": "markdown",
   "metadata": {},
   "source": [
    "https://leetcode.com/explore/interview/card/top-interview-questions-hard/124/others/876/"
   ]
  },
  {
   "cell_type": "markdown",
   "metadata": {},
   "source": [
    "### Solution"
   ]
  },
  {
   "cell_type": "markdown",
   "metadata": {},
   "source": [
    "heapq.heappush(heap, item)\n",
    "\n",
    "Push the value item onto the heap, maintaining the heap invariant.\n",
    "\n",
    "heapq.heappop(heap)\n",
    "\n",
    "Pop and return the smallest item from the heap, maintaining the heap invariant."
   ]
  },
  {
   "cell_type": "code",
   "execution_count": 11,
   "metadata": {},
   "outputs": [],
   "source": [
    "from heapq import heappush, heappop\n",
    "class Solution:\n",
    "    def skyLine(self,buildings):\n",
    "        \n",
    "        # two kind of events:\n",
    "        # events: (L:enter point, -H: height, R:endpoint)\n",
    "        events = [(L,-H,R) for (L,R,H) in buildings] # left side\n",
    "        events += [(R,0,0) for (L,R,H) in buildings] # right side (H=0 so that endpoint ranks before startpoint for the same x)\n",
    "        events.sort() # sort by asc x[0], desc x[1], asc x[2]\n",
    "        \n",
    "        # res: [[x,h]]\n",
    "        res = [[0, 0]]\n",
    "        \n",
    "        # live: [(-H,R)] \n",
    "        # H: record the current highest height\n",
    "        # R: record the duration of it lasts\n",
    "        live = [(0,float('inf'))]\n",
    "        \n",
    "        for (L,negH,R) in events:\n",
    "            \n",
    "            # a new building enters, add to live\n",
    "            # live[0][0]: (-current highest, duration)\n",
    "            if negH:\n",
    "                heappush(live, (negH, R))\n",
    "            \n",
    "            # pop the current max, if it no longer has an impact\n",
    "            while live[0][1]<=L:\n",
    "                heappop(live)\n",
    "            \n",
    "            # add to res if the highest changes\n",
    "            if res[-1][1] != -live[0][0]:\n",
    "                res += [[L,-live[0][0]]]\n",
    "        return res[1:]"
   ]
  },
  {
   "cell_type": "markdown",
   "metadata": {},
   "source": [
    "## Largest Rectangle in Histogram"
   ]
  },
  {
   "cell_type": "markdown",
   "metadata": {},
   "source": [
    "https://leetcode.com/explore/interview/card/top-interview-questions-hard/124/others/877/"
   ]
  },
  {
   "cell_type": "markdown",
   "metadata": {},
   "source": [
    "It is more natural to think about this way. Let  left[i] to indicate how many continuous bars to the left (including the bar at index i) are equal or higher than bar[i], right[i] is that to the right of bar[i], so the the square of the max rectangle containing bar[i] is simply height[i] * (left[i] + right[i] - 1)"
   ]
  },
  {
   "cell_type": "code",
   "execution_count": null,
   "metadata": {},
   "outputs": [],
   "source": [
    "class Solution:\n",
    "    def largestRec(self, heights):\n",
    "        left = [1] * len(heights)\n",
    "        right = [1] * len(heights)\n",
    "        \n",
    "        for i in range(1,len(heights)):\n",
    "            j = i-1\n",
    "            while(j>=0 and heights[j]>=heights[i]):\n",
    "                j -= left[j] #skip left[j] steps\n",
    "            left[i] = i-j\n",
    "        \n",
    "        for i in range(len(heights)-2,-1,-1): #note\n",
    "            j = i+1\n",
    "            while(j<len(heights) and heights[j]>=heights[i]):\n",
    "                j += right[j]\n",
    "            right[i] = j-i\n",
    "            \n",
    "        res = 0\n",
    "        for i in range(len(heights)):\n",
    "            res = max(res,  heights[i] * (left[i] + right[i] - 1))\n",
    "        \n",
    "        return res"
   ]
  },
  {
   "cell_type": "markdown",
   "metadata": {},
   "source": [
    "## Longest Consecutive Sequence"
   ]
  },
  {
   "cell_type": "markdown",
   "metadata": {},
   "source": [
    "Given an unsorted array of integers nums, return the length of the longest consecutive elements sequence.\n",
    "\n",
    "Follow up: Could you implement the O(n) solution? \n",
    "\n",
    " \n",
    "\n",
    "Example 1:\n",
    "\n",
    "Input: nums = [100,4,200,1,3,2]\n",
    "\n",
    "Output: 4\n",
    "\n",
    "Explanation: The longest consecutive elements sequence is [1, 2, 3, 4]. Therefore its length is 4.\n",
    "\n",
    "Example 2:\n",
    "\n",
    "\n",
    "Input: nums = [0,3,7,2,5,8,4,6,0,1]\n",
    "\n",
    "Output: 9"
   ]
  },
  {
   "cell_type": "code",
   "execution_count": 1,
   "metadata": {},
   "outputs": [],
   "source": [
    "class Solution:\n",
    "    def longestConsecutive(self,nums):\n",
    "        numset = set(nums)\n",
    "        maxLen = 0\n",
    "        for n in numset:\n",
    "            if n-1 not in numset: #this is a start\n",
    "                last = n+1\n",
    "                while last in nums:\n",
    "                    last +=1\n",
    "                maxLen = max(maxLen, last-n) #note: last-n since last = last + 1\n",
    "        return maxLen\n",
    "    "
   ]
  },
  {
   "cell_type": "code",
   "execution_count": 2,
   "metadata": {},
   "outputs": [
    {
     "data": {
      "text/plain": [
       "4"
      ]
     },
     "execution_count": 2,
     "metadata": {},
     "output_type": "execute_result"
    }
   ],
   "source": [
    "solution = Solution()\n",
    "solution.longestConsecutive([100,4,200,1,3,2])"
   ]
  },
  {
   "cell_type": "markdown",
   "metadata": {},
   "source": [
    "## First Missing Number"
   ]
  },
  {
   "cell_type": "markdown",
   "metadata": {},
   "source": [
    "### Solution: Use index to rearragne numbers"
   ]
  },
  {
   "cell_type": "markdown",
   "metadata": {},
   "source": [
    "https://leetcode.com/explore/interview/card/top-interview-questions-hard/116/array-and-strings/832/discuss/871665/Python-O(n)-solution-without-additional-memory-explained"
   ]
  },
  {
   "cell_type": "code",
   "execution_count": 42,
   "metadata": {},
   "outputs": [],
   "source": [
    "class Solution:\n",
    "    def firstMissingNum(self,nums):\n",
    "        for i in range(len(nums)): \n",
    "            # ignore those who are not in range 1~n+1\n",
    "            # only put those who are not in place\n",
    "            while 0 <= nums[i]-1 < len(nums) and nums[nums[i]-1] != nums[i]:\n",
    "                # swap number into the right place (index = nums[i]-1)\n",
    "#               nums[i], nums[nums[i]-1] =  nums[nums[i]-1], nums[i]  note: this is wrong\n",
    "#               nums[nums[i]-1], nums[i] = nums[i], nums[nums[i]-1]   note: this is correct\n",
    "                temp = nums[nums[i]-1]\n",
    "                nums[nums[i]-1] = nums[i]\n",
    "                nums[i] = temp\n",
    "        \n",
    "        # find those who are in wrong place\n",
    "        for i in range(len(nums)):\n",
    "            if nums[i] != i+1:\n",
    "                return i+1\n",
    "        return len(nums)+1 #extreme case"
   ]
  },
  {
   "cell_type": "code",
   "execution_count": 43,
   "metadata": {},
   "outputs": [
    {
     "name": "stdout",
     "output_type": "stream",
     "text": [
      "0\n",
      "2\n",
      "i: 0\n",
      "index: 2\n",
      "nums[i] 3\n",
      "nums[index] -1\n",
      "[3, 4, -1, 1]\n",
      "[-1, 4, 3, 1]\n",
      "1\n",
      "3\n",
      "i: 1\n",
      "index: 3\n",
      "nums[i] 4\n",
      "nums[index] 1\n",
      "[-1, 4, 3, 1]\n",
      "[-1, 1, 3, 4]\n",
      "i: 1\n",
      "index: 0\n",
      "nums[i] 1\n",
      "nums[index] -1\n",
      "[-1, 1, 3, 4]\n",
      "[1, -1, 3, 4]\n",
      "2\n",
      "2\n",
      "3\n",
      "3\n"
     ]
    },
    {
     "data": {
      "text/plain": [
       "2"
      ]
     },
     "execution_count": 43,
     "metadata": {},
     "output_type": "execute_result"
    }
   ],
   "source": [
    "solution = Solution()\n",
    "solution.firstMissingNum([3,4,-1,1])"
   ]
  },
  {
   "cell_type": "markdown",
   "metadata": {},
   "source": [
    "Note: careful with orders"
   ]
  },
  {
   "cell_type": "code",
   "execution_count": 73,
   "metadata": {},
   "outputs": [],
   "source": [
    "a=[1,2,3,0]\n",
    "b=[2,1,0,3]\n",
    "b[a[1]],a[1]=a[1],b[a[1]]"
   ]
  },
  {
   "cell_type": "code",
   "execution_count": 74,
   "metadata": {
    "scrolled": true
   },
   "outputs": [
    {
     "data": {
      "text/plain": [
       "[1, 0, 3, 0]"
      ]
     },
     "execution_count": 74,
     "metadata": {},
     "output_type": "execute_result"
    }
   ],
   "source": [
    "a"
   ]
  },
  {
   "cell_type": "code",
   "execution_count": 75,
   "metadata": {},
   "outputs": [
    {
     "data": {
      "text/plain": [
       "[2, 1, 2, 3]"
      ]
     },
     "execution_count": 75,
     "metadata": {},
     "output_type": "execute_result"
    }
   ],
   "source": [
    "b"
   ]
  },
  {
   "cell_type": "code",
   "execution_count": null,
   "metadata": {},
   "outputs": [],
   "source": [
    "temp = b[a[1]] #temp = 0\n",
    "b[a[1]] = a[1] #b[2]=2\n",
    "a[1]=temp #a[1]=0"
   ]
  },
  {
   "cell_type": "code",
   "execution_count": 76,
   "metadata": {},
   "outputs": [],
   "source": [
    "a=[1,2,3,0]\n",
    "b=[2,1,0,3]\n",
    "a[1],b[a[1]]=b[a[1]],a[1]"
   ]
  },
  {
   "cell_type": "code",
   "execution_count": 77,
   "metadata": {},
   "outputs": [
    {
     "data": {
      "text/plain": [
       "[1, 0, 3, 0]"
      ]
     },
     "execution_count": 77,
     "metadata": {},
     "output_type": "execute_result"
    }
   ],
   "source": [
    "a"
   ]
  },
  {
   "cell_type": "code",
   "execution_count": 78,
   "metadata": {},
   "outputs": [
    {
     "data": {
      "text/plain": [
       "[2, 1, 0, 3]"
      ]
     },
     "execution_count": 78,
     "metadata": {},
     "output_type": "execute_result"
    }
   ],
   "source": [
    "b"
   ]
  },
  {
   "cell_type": "code",
   "execution_count": null,
   "metadata": {},
   "outputs": [],
   "source": [
    "temp = a[1] #temp=2\n",
    "a[1]=b[a[1]] #a[1]=0\n",
    "b[a[1]] = temp #b[0]=2"
   ]
  },
  {
   "cell_type": "markdown",
   "metadata": {},
   "source": [
    "## Find the Duplicate Number"
   ]
  },
  {
   "cell_type": "markdown",
   "metadata": {},
   "source": [
    "Given an array of integers nums containing n + 1 integers where each integer is in the range [1, n] inclusive.\n",
    "\n",
    "There is only one duplicate number in nums, return this duplicate number."
   ]
  },
  {
   "cell_type": "markdown",
   "metadata": {},
   "source": [
    "### Solution: Linked List Cycle"
   ]
  },
  {
   "cell_type": "markdown",
   "metadata": {},
   "source": [
    "https://leetcode.com/problems/find-the-duplicate-number/solution/"
   ]
  },
  {
   "cell_type": "code",
   "execution_count": 4,
   "metadata": {},
   "outputs": [],
   "source": [
    "class Solution:\n",
    "    def findDuplicate(self,nums):\n",
    "        #first round\n",
    "        slow = nums[0]\n",
    "        fast = nums[0]\n",
    "        while True:\n",
    "            slow, fast = nums[slow], nums[nums[fast]]\n",
    "            if slow == fast:\n",
    "                break\n",
    "            \n",
    "        #second round\n",
    "        slow = nums[0]\n",
    "        while slow != fast:\n",
    "            slow, fast = nums[slow], nums[fast]\n",
    "        \n",
    "        return slow"
   ]
  },
  {
   "cell_type": "code",
   "execution_count": 5,
   "metadata": {},
   "outputs": [
    {
     "data": {
      "text/plain": [
       "1"
      ]
     },
     "execution_count": 5,
     "metadata": {},
     "output_type": "execute_result"
    }
   ],
   "source": [
    "solution = Solution()\n",
    "solution.findDuplicate([1,1,2])"
   ]
  },
  {
   "cell_type": "code",
   "execution_count": 6,
   "metadata": {},
   "outputs": [
    {
     "data": {
      "text/plain": [
       "3"
      ]
     },
     "execution_count": 6,
     "metadata": {},
     "output_type": "execute_result"
    }
   ],
   "source": [
    "solution = Solution()\n",
    "solution.findDuplicate([2,3,3,4,1])"
   ]
  },
  {
   "cell_type": "markdown",
   "metadata": {},
   "source": [
    "### Solution: Binary Search"
   ]
  },
  {
   "cell_type": "markdown",
   "metadata": {},
   "source": [
    "https://leetcode.com/problems/find-the-duplicate-number/discuss/72844/Two-Solutions-(with-explanation)%3A-O(nlog(n))-and-O(n)-time-O(1)-space-without-changing-the-input-array"
   ]
  },
  {
   "cell_type": "markdown",
   "metadata": {},
   "source": [
    "Pigeonhole principle:\n",
    "\n",
    "Originally, there are n+1 objects and n holes, this condition complies to pigeonhole principle, so at least one hole has two objects, that is one number appears twice.\n",
    "\n",
    "In each iteration, the algorithm finds the number of objects that should be filled into the first n/2 holes.\n",
    "\n",
    "If this number k >= n/2+1, then this is complies to pigeonhole principle again, we search this subproblem.\n",
    "otherwise, consider the remaining n/2 holes and remaining objects to fill. Because k <= n/2, the number of remaining objects is r=(n+1)-k>=n/2+1, that is, the remaining objects and remaining n/2 holes complies to pigeonhole principle again, we just need to search this subproblem."
   ]
  },
  {
   "cell_type": "code",
   "execution_count": 9,
   "metadata": {},
   "outputs": [],
   "source": [
    "class Solution:\n",
    "    def findDuplicate(self,nums):\n",
    "        l = 0\n",
    "        r = len(nums)-1\n",
    "        while(l<r):\n",
    "            mid = (l+r)//2\n",
    "            count = 0\n",
    "            for n in nums:\n",
    "                if n < mid:\n",
    "                    count+=1\n",
    "            if count<mid:\n",
    "                l = mid+1\n",
    "            else:\n",
    "                r = mid\n",
    "        return mid"
   ]
  },
  {
   "cell_type": "code",
   "execution_count": 10,
   "metadata": {},
   "outputs": [
    {
     "data": {
      "text/plain": [
       "3"
      ]
     },
     "execution_count": 10,
     "metadata": {},
     "output_type": "execute_result"
    }
   ],
   "source": [
    "solution = Solution()\n",
    "solution.findDuplicate([2,3,3,4,1])"
   ]
  },
  {
   "cell_type": "markdown",
   "metadata": {},
   "source": [
    "## Find All Duplicates in an Array"
   ]
  },
  {
   "cell_type": "markdown",
   "metadata": {},
   "source": [
    "Given an array of integers, 1 ≤ a[i] ≤ n (n = size of array), some elements appear twice and others appear once.\n",
    "\n",
    "Find all the elements that appear twice in this array.\n",
    "\n",
    "Could you do it without extra space and in O(n) runtime?\n",
    "\n",
    "\n",
    "Example:\n",
    "\n",
    "Input:\n",
    "[4,3,2,7,8,2,3,1]\n",
    "\n",
    "Output:\n",
    "[2,3]"
   ]
  },
  {
   "cell_type": "markdown",
   "metadata": {},
   "source": [
    "### Solution: Use index to rearragne numbers"
   ]
  },
  {
   "cell_type": "markdown",
   "metadata": {},
   "source": [
    "https://leetcode.com/problems/find-all-duplicates-in-an-array/discuss/775738/Python-2-solutions-with-O(n)-timeO(1)-space-explained"
   ]
  },
  {
   "cell_type": "code",
   "execution_count": 19,
   "metadata": {},
   "outputs": [],
   "source": [
    "class Solution:\n",
    "    def findAllDuplicates(self,nums):\n",
    "        for i in range(len(nums)):\n",
    "            while i != nums[i] - 1 and nums[nums[i]-1] != nums[i]:\n",
    "                nums[nums[i]-1], nums[i] = nums[i], nums[nums[i]-1]\n",
    "        \n",
    "        res = []\n",
    "        for i in range(len(nums)):\n",
    "            if nums[i]!=i+1:\n",
    "                res.append(nums[i])\n",
    "        \n",
    "        return res"
   ]
  },
  {
   "cell_type": "code",
   "execution_count": 20,
   "metadata": {},
   "outputs": [
    {
     "data": {
      "text/plain": [
       "[3, 2]"
      ]
     },
     "execution_count": 20,
     "metadata": {},
     "output_type": "execute_result"
    }
   ],
   "source": [
    "solution = Solution()\n",
    "solution.findAllDuplicates([4,3,2,7,8,2,3,1])"
   ]
  },
  {
   "cell_type": "markdown",
   "metadata": {},
   "source": [
    "## Sliding Window Maximum"
   ]
  },
  {
   "cell_type": "markdown",
   "metadata": {},
   "source": [
    "### Solution"
   ]
  },
  {
   "cell_type": "markdown",
   "metadata": {},
   "source": [
    "https://leetcode.com/explore/interview/card/top-interview-questions-hard/116/array-and-strings/837/discuss/694119/Python-Detailed-explanation-with-example.-Very-Simple-Code.-O(N)-using-deque"
   ]
  },
  {
   "cell_type": "code",
   "execution_count": 45,
   "metadata": {},
   "outputs": [],
   "source": [
    "#import collections\n",
    "class Solution:\n",
    "    def slideWindowMax(self, nums, k):\n",
    "        #deque = collections.deque()\n",
    "        deque = []\n",
    "        res = []\n",
    "        for i,num in enumerate(nums):\n",
    "            while(deque and nums[deque[-1]]<num): #only keep the max in the deque\n",
    "                deque.pop()\n",
    "            if(deque and i-deque[0]>=k):#if the length is larger than k, popleft\n",
    "                deque.pop(0)\n",
    "            deque.append(i)\n",
    "            res.append(nums[deque[0]])\n",
    "        return res[k-1:]"
   ]
  },
  {
   "cell_type": "code",
   "execution_count": 46,
   "metadata": {},
   "outputs": [
    {
     "data": {
      "text/plain": [
       "[4, 3, 7, 8, 8, 3, 3]"
      ]
     },
     "execution_count": 46,
     "metadata": {},
     "output_type": "execute_result"
    }
   ],
   "source": [
    "solution = Solution()\n",
    "solution.slideWindowMax([4,3,2,7,8,2,3,1],2)"
   ]
  },
  {
   "cell_type": "markdown",
   "metadata": {},
   "source": [
    "## Minimum Window Substring"
   ]
  },
  {
   "cell_type": "markdown",
   "metadata": {},
   "source": [
    "Given two strings s and t, return the minimum window in s which will contain all the characters in t. If there is no such window in s that covers all characters in t, return the empty string \"\".\n",
    "\n",
    "Note that If there is such a window, it is guaranteed that there will always be only one unique minimum window in s.\n",
    "\n",
    " \n",
    "\n",
    "Example 1:\n",
    "\n",
    "Input: s = \"ADOBECODEBANC\", t = \"ABC\"\n",
    "\n",
    "Output: \"BANC\"\n",
    "\n",
    "Example 2:\n",
    "\n",
    "Input: s = \"a\", t = \"a\"\n",
    "\n",
    "Output: \"a\""
   ]
  },
  {
   "cell_type": "markdown",
   "metadata": {},
   "source": [
    "### Solution: See String"
   ]
  },
  {
   "cell_type": "markdown",
   "metadata": {},
   "source": [
    "## Basic Calculator II"
   ]
  },
  {
   "cell_type": "code",
   "execution_count": null,
   "metadata": {},
   "outputs": [],
   "source": []
  }
 ],
 "metadata": {
  "kernelspec": {
   "display_name": "Python 3",
   "language": "python",
   "name": "python3"
  },
  "language_info": {
   "codemirror_mode": {
    "name": "ipython",
    "version": 3
   },
   "file_extension": ".py",
   "mimetype": "text/x-python",
   "name": "python",
   "nbconvert_exporter": "python",
   "pygments_lexer": "ipython3",
   "version": "3.6.8"
  },
  "toc": {
   "base_numbering": 1,
   "nav_menu": {},
   "number_sections": true,
   "sideBar": true,
   "skip_h1_title": false,
   "title_cell": "Table of Contents",
   "title_sidebar": "Contents",
   "toc_cell": true,
   "toc_position": {},
   "toc_section_display": true,
   "toc_window_display": true
  }
 },
 "nbformat": 4,
 "nbformat_minor": 2
}
