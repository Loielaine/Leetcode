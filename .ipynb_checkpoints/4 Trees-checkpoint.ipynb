{
 "cells": [
  {
   "cell_type": "code",
   "execution_count": null,
   "metadata": {},
   "outputs": [],
   "source": []
  },
  {
   "cell_type": "markdown",
   "metadata": {},
   "source": [
    "## Traverse a tree: preorder, inorder, postorder"
   ]
  },
  {
   "cell_type": "markdown",
   "metadata": {},
   "source": [
    "https://leetcode.com/explore/learn/card/data-structure-tree/134/traverse-a-tree/992/"
   ]
  },
  {
   "cell_type": "markdown",
   "metadata": {},
   "source": [
    "### Solution1: Recursive"
   ]
  },
  {
   "cell_type": "code",
   "execution_count": null,
   "metadata": {},
   "outputs": [],
   "source": [
    "class TreeNode:\n",
    "    def __init__(self, val=0, left=None, right=None):\n",
    "        self.val = val\n",
    "        self.left = left\n",
    "        self.right = right\n",
    "class Solution:\n",
    "    def postorderTraversal(self, root: TreeNode):\n",
    "        res = []\n",
    "        self.helper(root,res)\n",
    "        return res\n",
    "        \n",
    "    def helper(self,root,res):\n",
    "        if root:\n",
    "            self.helper(root.left,res)\n",
    "            self.helper(root.right,res)\n",
    "            res.append(root.val)"
   ]
  },
  {
   "cell_type": "code",
   "execution_count": null,
   "metadata": {},
   "outputs": [],
   "source": [
    "class TreeNode:\n",
    "    def __init__(self, val=0, left=None, right=None):\n",
    "        self.val = val\n",
    "        self.left = left\n",
    "        self.right = right\n",
    "class Solution:\n",
    "    def inorderTraversal(self, root: TreeNode):\n",
    "        res = []\n",
    "        self.helper(root,res)\n",
    "        return res\n",
    "        \n",
    "    def helper(self,root,res):\n",
    "        if root:\n",
    "            self.helper(root.left,res)\n",
    "            res.append(root.val)\n",
    "            self.helper(root.right,res)\n",
    "            "
   ]
  },
  {
   "cell_type": "code",
   "execution_count": null,
   "metadata": {},
   "outputs": [],
   "source": [
    "class TreeNode:\n",
    "    def __init__(self, val=0, left=None, right=None):\n",
    "        self.val = val\n",
    "        self.left = left\n",
    "        self.right = right\n",
    "class Solution:\n",
    "    def preorderTraversal(self, root: TreeNode):\n",
    "        res = []\n",
    "        self.helper(root,res)\n",
    "        return res\n",
    "        \n",
    "    def helper(self,root,res):\n",
    "        if root:\n",
    "            res.append(root.val)\n",
    "            self.helper(root.left,res)\n",
    "            self.helper(root.right,res)       "
   ]
  },
  {
   "cell_type": "markdown",
   "metadata": {},
   "source": [
    "### Solution2: Iterative Way With Stack"
   ]
  },
  {
   "cell_type": "code",
   "execution_count": null,
   "metadata": {},
   "outputs": [],
   "source": [
    "class TreeNode:\n",
    "    def __init__(self, val=0, left=None, right=None):\n",
    "        self.val = val\n",
    "        self.left = left\n",
    "        self.right = right\n",
    "class Solution:\n",
    "    def postorderTraversal(self, root):\n",
    "        res, stack = [], []\n",
    "        while stack or root:\n",
    "            if root:\n",
    "                stack.append(root)\n",
    "                root = root.left\n",
    "            elif stack[-1].right:\n",
    "                root = stack[-1].right\n",
    "                stack[-1].right = None #change right node to NONE\n",
    "            else:\n",
    "                rea.append(root.val) #append root.val last\n",
    "        return res\n",
    "\n",
    "    def inorderTraversal(self, root):\n",
    "        res, stack = [], []\n",
    "        while stack or root:\n",
    "            if root:\n",
    "                stack.append(root)\n",
    "                root = root.left\n",
    "            else:\n",
    "                top = stack.pop()\n",
    "                res.append(top.val) \n",
    "                root = top.right\n",
    "        return res\n",
    "    \n",
    "     def preorderTraversal(self, root):\n",
    "        res, stack = [], []\n",
    "        while stack or root:\n",
    "            if root:\n",
    "                res.append(root.val) #append root.val first\n",
    "                stack.append(root)\n",
    "                root = root.left\n",
    "            else:\n",
    "                top = stack.pop()\n",
    "                root = top.right\n",
    "        return res"
   ]
  },
  {
   "cell_type": "markdown",
   "metadata": {},
   "source": [
    "### Solution 3: Iterative Way With Stack + Visited State"
   ]
  },
  {
   "cell_type": "code",
   "execution_count": null,
   "metadata": {},
   "outputs": [],
   "source": [
    "class TreeNode:\n",
    "    def __init__(self, val=0, left=None, right=None):\n",
    "        self.val = val\n",
    "        self.left = left\n",
    "        self.right = right\n",
    "class Solution:\n",
    "    def postorderTraversal(self, root):\n",
    "        res, stack = [], [(1, root)]\n",
    "        while stack:\n",
    "            p = stack.pop()\n",
    "            if not p[1]:continue\n",
    "            if p[0] !=0:\n",
    "                stack.extend([(0,p[1]),(1,p[1].right),(1,p[1].left)])\n",
    "            if p[0] == 0:\n",
    "                res.append(p[1].val)\n",
    "        return res\n",
    "\n",
    "    def inorderTraversal(self, root):\n",
    "        res, stack = [], [(1, root)]\n",
    "        while stack:\n",
    "            p = stack.pop()\n",
    "            if not p[1]:continue\n",
    "            if p[0] !=0:\n",
    "                stack.extend([(1,p[1].right),(0,p[1]),(1,p[1].left)])\n",
    "            if p[0] == 0:\n",
    "                res.append(p[1].val)\n",
    "        return res\n",
    "    \n",
    "     def preorderTraversal(self, root):\n",
    "        res, stack = [], [(1, root)]\n",
    "        while stack:\n",
    "            p = stack.pop()\n",
    "            if not p[1]:continue\n",
    "            if p[0] !=0:\n",
    "                stack.extend([(1,p[1].right),(1,p[1].left),(0,p[1])])\n",
    "            if p[0] == 0:\n",
    "                res.append(p[1].val)\n",
    "        return res"
   ]
  },
  {
   "cell_type": "markdown",
   "metadata": {},
   "source": [
    "## Level order"
   ]
  },
  {
   "cell_type": "markdown",
   "metadata": {},
   "source": [
    "### Solution1: DFS + Recursive (Preorder)"
   ]
  },
  {
   "cell_type": "code",
   "execution_count": null,
   "metadata": {},
   "outputs": [],
   "source": [
    "class TreeNode:\n",
    "    def __init__(self, val=0, left=None, right=None):\n",
    "        self.val = val\n",
    "        self.left = left\n",
    "        self.right = right\n",
    "class Solution:\n",
    "    def levelorderTraversal(self, root: TreeNode):\n",
    "        res = []\n",
    "        self.helper(root,0,res)\n",
    "        return res\n",
    "        \n",
    "    def helper(self,root,level,res):\n",
    "        if root:\n",
    "            if len(res)<level+1:\n",
    "                res.append([])\n",
    "            res[level].append(root.val)\n",
    "            self.helper(root.left,level+1,res)\n",
    "            self.helper(root.right,level+1,res)       "
   ]
  },
  {
   "cell_type": "markdown",
   "metadata": {},
   "source": [
    "### Solution2: DFS + Interative way Stack with level"
   ]
  },
  {
   "cell_type": "code",
   "execution_count": null,
   "metadata": {},
   "outputs": [],
   "source": [
    "class TreeNode:\n",
    "    def __init__(self, val=0, left=None, right=None):\n",
    "        self.val = val\n",
    "        self.left = left\n",
    "        self.right = right\n",
    "class Solution:\n",
    "    def levelorderTraversal(self, root: TreeNode):\n",
    "        res, stack= [],[(0,root)] #(level, node)\n",
    "        while stack:\n",
    "            level, node = stack.pop()\n",
    "            if not node:continue\n",
    "            if len(res)<level+1:\n",
    "                res.append([])\n",
    "            res[level].append(node.val)\n",
    "            stack.append((level+1,node.right))\n",
    "            stack.append((level+1,node.left))\n",
    "        return res   "
   ]
  },
  {
   "cell_type": "markdown",
   "metadata": {},
   "source": [
    "### Solution3: BFS + Quene"
   ]
  },
  {
   "cell_type": "code",
   "execution_count": null,
   "metadata": {},
   "outputs": [],
   "source": [
    "class TreeNode:\n",
    "    def __init__(self, val=0, left=None, right=None):\n",
    "        self.val = val\n",
    "        self.left = left\n",
    "        self.right = right\n",
    "class Solution:\n",
    "    def levelorderTraversal(self, root: TreeNode):\n",
    "        res, quene= [],[(0,root)] #(level, node)\n",
    "        while quene:\n",
    "            level, node = quene.pop(0) #pop from 0\n",
    "            if not node:continue\n",
    "            if len(res)<level+1:\n",
    "                res.append([])\n",
    "            res[level].append(node.val)\n",
    "            quene.append((level+1,node.left)) #append left first\n",
    "            quene.append((level+1,node.right))#append right first\n",
    "        return res   "
   ]
  },
  {
   "cell_type": "markdown",
   "metadata": {},
   "source": [
    "### Solution3: BFS + Quene"
   ]
  },
  {
   "cell_type": "code",
   "execution_count": null,
   "metadata": {},
   "outputs": [],
   "source": [
    "class TreeNode:\n",
    "    def __init__(self, val=0, left=None, right=None):\n",
    "        self.val = val\n",
    "        self.left = left\n",
    "        self.right = right\n",
    "class Solution:\n",
    "    def levelorderTraversal(self, root: TreeNode):\n",
    "        res, quene= [],[(0,root)] #(level, node)\n",
    "        while quene:\n",
    "            level, node = quene.pop(0) #pop from 0\n",
    "            if not node:continue\n",
    "            if len(res)<level+1:\n",
    "                res.append([])\n",
    "            res[level].append(node.val)\n",
    "            quene.append((level+1,node.left)) #append left first\n",
    "            quene.append((level+1,node.right))#append right first\n",
    "        return res   "
   ]
  },
  {
   "cell_type": "markdown",
   "metadata": {},
   "source": [
    "### Solution4: BFS + level"
   ]
  },
  {
   "cell_type": "code",
   "execution_count": null,
   "metadata": {},
   "outputs": [],
   "source": [
    "class TreeNode:\n",
    "    def __init__(self, val=0, left=None, right=None):\n",
    "        self.val = val\n",
    "        self.left = left\n",
    "        self.right = right\n",
    "class Solution:\n",
    "    def levelorderTraversal(self, root: TreeNode):\n",
    "        res, level= [],[root] \n",
    "        while level:\n",
    "            res.append(node.val for node in level)\n",
    "            nextlevel = []\n",
    "            for node in level:\n",
    "                nextlevel.extend([node.left,node.right])\n",
    "            level = [leaf for leaf in nextlevel if leaf]\n",
    "        return res   "
   ]
  },
  {
   "cell_type": "markdown",
   "metadata": {},
   "source": [
    "## 1 Maximum Depth of Binary Tree"
   ]
  },
  {
   "cell_type": "markdown",
   "metadata": {},
   "source": [
    "link: https://leetcode.com/explore/interview/card/top-interview-questions-easy/94/trees/555/"
   ]
  },
  {
   "cell_type": "markdown",
   "metadata": {},
   "source": [
    "### Solution1: Recursive"
   ]
  },
  {
   "cell_type": "code",
   "execution_count": 2,
   "metadata": {},
   "outputs": [],
   "source": [
    "# Definition for a binary tree node.\n",
    "class TreeNode:\n",
    "    def __init__(self, val=0, left=None, right=None):\n",
    "        self.val = val\n",
    "        self.left = left\n",
    "        self.right = right\n",
    "class Solution:\n",
    "    def maxDepth(self, root: TreeNode) -> int:\n",
    "        if not root: return 0\n",
    "        return 1+max(self.maxDepth(root.left),self.maxDepth(root.right))"
   ]
  },
  {
   "cell_type": "markdown",
   "metadata": {},
   "source": [
    "### Solution2: levelorder traverse"
   ]
  },
  {
   "cell_type": "code",
   "execution_count": 6,
   "metadata": {},
   "outputs": [],
   "source": [
    "# Definition for a binary tree node.\n",
    "class TreeNode:\n",
    "    def __init__(self, val=0, left=None, right=None):\n",
    "        self.val = val\n",
    "        self.left = left\n",
    "        self.right = right\n",
    "class Solution:\n",
    "    def maxDepth(self, root: TreeNode) -> int:\n",
    "        if not root: return 0\n",
    "        #res = []\n",
    "        level = [root]\n",
    "        h = 0\n",
    "        while level:\n",
    "            #res.append(node.val for node in level)\n",
    "            temp = []\n",
    "            for node in level:\n",
    "                temp.extend([node.left,node.right])\n",
    "            level = [leaf for leaf in temp if leaf]\n",
    "            h +=1\n",
    "        return h"
   ]
  },
  {
   "cell_type": "markdown",
   "metadata": {},
   "source": [
    "## 2 Validate Binary Search Tree"
   ]
  },
  {
   "cell_type": "markdown",
   "metadata": {},
   "source": [
    "Given a binary tree, determine if it is a valid binary search tree (BST).\n",
    "\n",
    "Assume a BST is defined as follows:\n",
    "\n",
    "The left subtree of a node contains only nodes with keys less than the node's key.\n",
    "The right subtree of a node contains only nodes with keys greater than the node's key.\n",
    "Both the left and right subtrees must also be binary search trees."
   ]
  },
  {
   "cell_type": "markdown",
   "metadata": {},
   "source": [
    "### Solution1: in-order Traverse(Recursive)"
   ]
  },
  {
   "cell_type": "code",
   "execution_count": null,
   "metadata": {},
   "outputs": [],
   "source": [
    "class TreeNode:\n",
    "    def __init__(self, val=0, left=None, right=None):\n",
    "        self.val = val\n",
    "        self.left = left\n",
    "        self.right = right\n",
    "class Solution:\n",
    "    def isValidBST(self, root: TreeNode) -> bool:\n",
    "        res = []\n",
    "        self.helper(root,res)\n",
    "        for i in range(len(res)-1):\n",
    "            if res[i]>=res[i+1]:\n",
    "                return False\n",
    "        return True\n",
    "        \n",
    "    def helper(self,root,res):\n",
    "        if root:\n",
    "            self.helper(root.left,res)\n",
    "            res.append(root.val)\n",
    "            self.helper(root.right,res)"
   ]
  },
  {
   "cell_type": "markdown",
   "metadata": {},
   "source": [
    "### Solution2: in-order Traverse(Stack)"
   ]
  },
  {
   "cell_type": "code",
   "execution_count": null,
   "metadata": {},
   "outputs": [],
   "source": [
    "class TreeNode:\n",
    "    def __init__(self, val=0, left=None, right=None):\n",
    "        self.val = val\n",
    "        self.left = left\n",
    "        self.right = right\n",
    "class Solution:\n",
    "    def isValidBST(self, root: TreeNode) -> bool:\n",
    "        res = []\n",
    "        stack = []\n",
    "        while stack or root:\n",
    "            if root:\n",
    "                stack.append(root)\n",
    "                root = root.left\n",
    "            else:\n",
    "                top = stack.pop()\n",
    "                res.append(top.val)\n",
    "                root = top.right\n",
    "        for i in range(len(res)-1):\n",
    "            if res[i]>=res[i+1]:\n",
    "                return False\n",
    "        return True\n",
    "            "
   ]
  },
  {
   "cell_type": "code",
   "execution_count": null,
   "metadata": {},
   "outputs": [],
   "source": []
  }
 ],
 "metadata": {
  "kernelspec": {
   "display_name": "Python 3",
   "language": "python",
   "name": "python3"
  },
  "language_info": {
   "codemirror_mode": {
    "name": "ipython",
    "version": 3
   },
   "file_extension": ".py",
   "mimetype": "text/x-python",
   "name": "python",
   "nbconvert_exporter": "python",
   "pygments_lexer": "ipython3",
   "version": "3.6.8"
  }
 },
 "nbformat": 4,
 "nbformat_minor": 2
}
